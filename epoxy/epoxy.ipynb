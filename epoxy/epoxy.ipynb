{
 "cells": [
  {
   "cell_type": "markdown",
   "id": "461b100d",
   "metadata": {},
   "source": [
    "# Epoxy-resin polymer thermoset material\n",
    "\n",
    "Run this notebook to reproduce the Deep Active Subspace (DAS) results for the epoxy resin application. Small variation in the results will occur due to the stochastic nature of the training procedure. Some KAS-GP are also displayed. These are loaded from file, and not directly computed here.\n",
    "\n",
    "### Reference\n",
    "\n",
    "Wouter Edeling, Maxime Vassaux, Yiming Yang, Shunzhou Wan, Peter Coveney, *Global ranking of the sensitivity of interaction potential contributions within classical molecular dynamics force fields*, (submitted), 2023."
   ]
  },
  {
   "cell_type": "markdown",
   "id": "8eb01c9f",
   "metadata": {},
   "source": [
    "### Install EasySurrogate\n",
    "\n",
    "The Deep Active Subspace method is implemented in EasySurrogate. Uncomment to install."
   ]
  },
  {
   "cell_type": "code",
   "execution_count": 29,
   "id": "e7c7172a",
   "metadata": {},
   "outputs": [],
   "source": [
    "#!pip install easysurrogate==0.24.1"
   ]
  },
  {
   "cell_type": "code",
   "execution_count": 30,
   "id": "2defd753",
   "metadata": {},
   "outputs": [],
   "source": [
    "import numpy as np\n",
    "import matplotlib.pyplot as plt\n",
    "from matplotlib import gridspec\n",
    "import easysurrogate as es\n",
    "from scipy import linalg, stats\n",
    "import pandas as pd\n",
    "import json\n",
    "import os\n",
    "import seaborn as sns\n",
    "from tqdm import tqdm"
   ]
  },
  {
   "cell_type": "markdown",
   "id": "57fb952e",
   "metadata": {},
   "source": [
    "Several subroutines specific to this article are located in `../utils/utils.py`. Import this module."
   ]
  },
  {
   "cell_type": "code",
   "execution_count": 31,
   "id": "8df65733",
   "metadata": {},
   "outputs": [],
   "source": [
    "import sys\n",
    "sys.path.insert(1, '../')\n",
    "from utils.utils import plot_sensitivity, plot_errors, plot_dist, early_stopping"
   ]
  },
  {
   "cell_type": "code",
   "execution_count": 32,
   "id": "e947a0de",
   "metadata": {},
   "outputs": [],
   "source": [
    "%matplotlib inline\n",
    "# save figures at 300 dpi\n",
    "plt.rcParams['savefig.dpi'] = 300"
   ]
  },
  {
   "cell_type": "markdown",
   "id": "41de8c9a",
   "metadata": {},
   "source": [
    "### Load prior ranges\n",
    "\n",
    "The JSON file below contains all default values and boundaries used for specifying the Uniform input parameter distributions. "
   ]
  },
  {
   "cell_type": "code",
   "execution_count": 33,
   "id": "bd36fb62",
   "metadata": {
    "scrolled": false
   },
   "outputs": [],
   "source": [
    "# Load the EasyVVUQ params dict\n",
    "priors = json.load(open('./epoxy.params.json', 'r'))"
   ]
  },
  {
   "cell_type": "markdown",
   "id": "2a53906e",
   "metadata": {},
   "source": [
    "### Load input parameter values\n",
    "\n",
    "Load the Monte Carlo values of the inputs."
   ]
  },
  {
   "cell_type": "code",
   "execution_count": 34,
   "id": "d3f8a102",
   "metadata": {},
   "outputs": [],
   "source": [
    "# input parameters\n",
    "params = pd.read_csv('./data_epoxy/epoxy_inputs.csv')\n",
    "param_names = params.keys()\n",
    "params = params.values\n",
    "\n",
    "# number of samples\n",
    "n_samples = params.shape[0]\n",
    "\n",
    "# number of inputs\n",
    "D = params.shape[1]\n",
    "\n",
    "# scale inputs within [-1, 1]\n",
    "p_max = np.array([priors[name]['default'] * 1.15 for name in param_names])\n",
    "p_min = np.array([priors[name]['default'] * 0.85 for name in param_names])\n",
    "params = (params - 0.5 * (p_min + p_max)) / (0.5 * (p_max - p_min))"
   ]
  },
  {
   "cell_type": "markdown",
   "id": "d839de5f",
   "metadata": {},
   "source": [
    "### Load output samples\n",
    "\n",
    "Load the corresponding Monte Carlo outputs. We used `E11`, the 11 component of the elasticity tensor (equal to the Young's modulus `E` in this isotropic case), and the Poisson ratio."
   ]
  },
  {
   "cell_type": "code",
   "execution_count": 35,
   "id": "c06cd4f1",
   "metadata": {},
   "outputs": [],
   "source": [
    "# Output QoI\n",
    "QoI = 'E11'   # E11=E22_E33=E due to isotropy of the material\n",
    "# QoI = 'poisson'\n",
    "\n",
    "output = pd.read_csv('./data_epoxy/epoxy_%s_output.csv' % (QoI,)).values"
   ]
  },
  {
   "cell_type": "markdown",
   "id": "e559bec2",
   "metadata": {},
   "source": [
    "### Average over the random seeds (or not)\n",
    "\n",
    "Each parameter value was replicated several times, changing only the random seed of the initial condition."
   ]
  },
  {
   "cell_type": "code",
   "execution_count": 36,
   "id": "089a0781",
   "metadata": {},
   "outputs": [],
   "source": [
    "average_over_replicas = False\n",
    "\n",
    "if not average_over_replicas:\n",
    "    samples = output[:, 0].reshape([-1, 1])\n",
    "else:\n",
    "    samples = np.mean(output, axis=1, keepdims=True)"
   ]
  },
  {
   "cell_type": "markdown",
   "id": "311a5993",
   "metadata": {},
   "source": [
    "### Select $d$\n",
    "\n",
    "This is the dimension of the active subspace."
   ]
  },
  {
   "cell_type": "code",
   "execution_count": 37,
   "id": "fb784def",
   "metadata": {},
   "outputs": [],
   "source": [
    "d = 1"
   ]
  },
  {
   "cell_type": "markdown",
   "id": "3725e85c",
   "metadata": {},
   "source": [
    "###  Set hyperparameters"
   ]
  },
  {
   "cell_type": "code",
   "execution_count": 38,
   "id": "92ee80c4",
   "metadata": {},
   "outputs": [],
   "source": [
    "# number of neurons per hidden layer \n",
    "n_hidden_neurons = 10\n",
    "# number of hidden layer + output layer\n",
    "n_layers = 3\n",
    "# activation function\n",
    "activation = 'tanh'\n",
    "\n",
    "# mini batch size\n",
    "batch_size = 32\n",
    "# max number of epochs\n",
    "n_epochs_max = 100\n",
    "# number of mini-batch iterations per epoch\n",
    "n_iter = int(n_samples / batch_size)\n",
    "\n",
    "# early stopping parameters\n",
    "min_delta = 0.001\n",
    "patience = 3"
   ]
  },
  {
   "cell_type": "markdown",
   "id": "558b9aca",
   "metadata": {},
   "source": [
    "### Train / test split"
   ]
  },
  {
   "cell_type": "code",
   "execution_count": 39,
   "id": "7724a112",
   "metadata": {},
   "outputs": [],
   "source": [
    "# test fraction\n",
    "test_frac = 0.1\n",
    "# indices of the test set\n",
    "test_idx = int((1 - test_frac) * n_samples)\n",
    "# training set\n",
    "params_train = params[0:test_idx, :]\n",
    "samples_train = samples[0:test_idx, :]\n",
    "# test set\n",
    "params_test = params[test_idx:, :]\n",
    "samples_test = samples[test_idx:, :]"
   ]
  },
  {
   "cell_type": "markdown",
   "id": "4513a5bf",
   "metadata": {},
   "source": [
    "### Select how many replica neural networks to train\n",
    "\n",
    "To compute confidence intervals on the results (due to the stochastic nature of the training), we train `n_rep` replica networks instead of relying a single network"
   ]
  },
  {
   "cell_type": "code",
   "execution_count": 40,
   "id": "6eb8b645",
   "metadata": {},
   "outputs": [],
   "source": [
    "n_rep = 20"
   ]
  },
  {
   "cell_type": "markdown",
   "id": "4da730e5",
   "metadata": {},
   "source": [
    "### Train a deep active subspace network\n",
    "\n"
   ]
  },
  {
   "cell_type": "code",
   "execution_count": 41,
   "id": "fdcb573b",
   "metadata": {},
   "outputs": [],
   "source": [
    "# results dict\n",
    "results_das = {}\n",
    "# eigenvalues of gradient matrix C per epoch\n",
    "results_das['eigvals'] = np.zeros([n_rep, D])\n",
    "# global gradient-based sensitivity indices per epoch\n",
    "results_das['V_i'] = np.zeros([n_rep, D])\n",
    "# relative training and test error per epoch\n",
    "results_das['errors'] = []\n",
    "results_das['epoch_stop'] = np.zeros(n_rep, dtype=int)\n",
    "results_das['projection_matrix'] = []\n",
    "results_das['surrogate'] = []\n",
    "results_das['C_das'] = []"
   ]
  },
  {
   "cell_type": "code",
   "execution_count": 42,
   "id": "3a82b6f7",
   "metadata": {},
   "outputs": [],
   "source": [
    "def train_das(failure_criterion = 1.0):\n",
    "    \"\"\"\n",
    "    Train DAS networks using early stopping.\n",
    "    \n",
    "    failure_criterion : float\n",
    "        Most replica networks will converge, a small number might not. \n",
    "        failure_critertion is the value of the relative test error\n",
    "        used to determine if a network did not converge. If exceeded\n",
    "        the network will be discarded. Default value is 1.0 (100% test error).\n",
    "\n",
    "    \"\"\"\n",
    "    min_test_error = 1.0\n",
    "\n",
    "    # repeat analysis n_rep times to generate error bars on results\n",
    "    for rep in range(n_rep):\n",
    "\n",
    "        # train remaining epochs through early stopping\n",
    "        final_test_error = 2.0\n",
    "        while final_test_error > failure_criterion:\n",
    "        \n",
    "            # create new DAS network and train for 1 epoch\n",
    "            das_surrogate = es.methods.DAS_Surrogate()\n",
    "            das_surrogate.train(params_train, samples_train, d, \n",
    "                                n_iter=n_iter,\n",
    "                                n_layers=n_layers,\n",
    "                                n_neurons=n_hidden_neurons, \n",
    "                                activation=activation, \n",
    "                                batch_size=batch_size,\n",
    "                                standardize_X=False, standardize_y=True)\n",
    "\n",
    "            # train remaining epochs through early stopping\n",
    "            errors, epoch = early_stopping(das_surrogate, n_iter,\n",
    "                                           params_train, samples_train, \n",
    "                                           params_test, samples_test)\n",
    "            final_test_error = errors[epoch, 1]\n",
    "\n",
    "        results_das['errors'].append(errors)\n",
    "        results_das['epoch_stop'][rep] = epoch\n",
    "\n",
    "        ### Compute active subspace of the DAS network\n",
    "\n",
    "        # the gradient matrix computed of the DAS network, computed using the classical AS method\n",
    "        C_das = 0.0\n",
    "\n",
    "        # Number of Monte Carlo samples\n",
    "        n_mc = params.shape[0]    \n",
    "\n",
    "        # Compute C_das, the gradient matrix of the DAS network\n",
    "        das_samples = np.zeros(n_mc)\n",
    "        for i, param in enumerate(params):\n",
    "            # compute the derivative of f at the input layer (needed for C_das)\n",
    "            df_dx = das_surrogate.derivative(param, norm=False)\n",
    "            # update C_das\n",
    "            C_das += np.dot(df_dx, df_dx.T) / n_mc\n",
    "\n",
    "        results_das['C_das'].append(C_das)\n",
    "            \n",
    "        # solve eigenvalue problem for C_das\n",
    "        eigvals_C_das, eigvecs_C_das = linalg.eigh(C_das)\n",
    "\n",
    "        # Sort the eigensolutions in the descending order of eigenvalues\n",
    "        order = eigvals_C_das.argsort()[::-1]\n",
    "        eigvals_C_das = eigvals_C_das[order]\n",
    "        eigvecs_C_das = eigvecs_C_das[:, order]\n",
    "\n",
    "        # store eigenvalues of this iteration\n",
    "        results_das['eigvals'][rep] = eigvals_C_das\n",
    "\n",
    "        # the DAS weight matrix of the first hidden layer\n",
    "#         W_1 = das_surrogate.neural_net.layers[1].W\n",
    "#         results_das['projection_matrix'].append(W_1)\n",
    "        # The dominant eigenvector(s) from the C_das matrix (alternative to W_1)\n",
    "        results_das['projection_matrix'].append(eigvecs_C_das[:, 0:d])\n",
    "\n",
    "        # perform sensitivity analysis using combined training and test data \n",
    "        das_analysis = es.analysis.DAS_analysis(das_surrogate)\n",
    "        idx, V_i = das_analysis.sensitivity_measures(params, norm=False)\n",
    "        results_das['V_i'][rep] = V_i.flatten() #* das_surrogate.neural_net.y_std ** 2\n",
    "\n",
    "        # store surrogate\n",
    "        results_das['surrogate'].append(das_surrogate)\n"
   ]
  },
  {
   "cell_type": "markdown",
   "id": "a50f533b",
   "metadata": {},
   "source": [
    "Train `n_rep` DAS surrogate. A converged DAS network will have a test error well below 40%, set `failure_criterion=0.4`."
   ]
  },
  {
   "cell_type": "code",
   "execution_count": 43,
   "id": "3040ed17",
   "metadata": {},
   "outputs": [
    {
     "name": "stdout",
     "output_type": "stream",
     "text": [
      "Creating DAS_Surrogate Object\n",
      "Creating Feature Engineering object\n",
      "Using  450/450 samples to train the ML model\n",
      "===============================\n",
      "Neural net parameters\n",
      "===============================\n",
      "Number of layers = 3\n",
      "Number of features = 103\n",
      "Loss function = squared\n",
      "Number of neurons per hidden layer = 10\n",
      "Number of output neurons = 1\n",
      "Activation = ['linear', 'linear', 'tanh', 'linear']\n",
      "This neural network has 134 weights.\n",
      "===============================\n",
      "===============================\n",
      "Training Deep Active Subspace Neural Network...\n"
     ]
    },
    {
     "name": "stderr",
     "output_type": "stream",
     "text": [
      "100%|██████████████████████████████████████████████████████████████████████████████████████████████████████████████████████████████████████████████████████████████████████| 15/15 [00:00<00:00, 391.08it/s]\n"
     ]
    },
    {
     "name": "stdout",
     "output_type": "stream",
     "text": [
      " loss = 1.2851\n",
      "Relative training error = 44.6393 %\n",
      "Relative test error = 38.3186 %\n"
     ]
    },
    {
     "name": "stderr",
     "output_type": "stream",
     "text": [
      "100%|██████████████████████████████████████████████████████████████████████████████████████████████████████████████████████████████████████████████████████████████████████| 15/15 [00:00<00:00, 493.64it/s]\n"
     ]
    },
    {
     "name": "stdout",
     "output_type": "stream",
     "text": [
      " loss = 0.6903\n",
      "Relative training error = 42.8734 %\n",
      "Relative test error = 38.8940 %\n"
     ]
    },
    {
     "name": "stderr",
     "output_type": "stream",
     "text": [
      "  0%|                                                                                                                                                                                | 0/15 [00:00<?, ?it/s]"
     ]
    },
    {
     "name": "stdout",
     "output_type": "stream",
     "text": [
      " loss = 0.6628\n"
     ]
    },
    {
     "name": "stderr",
     "output_type": "stream",
     "text": [
      "100%|██████████████████████████████████████████████████████████████████████████████████████████████████████████████████████████████████████████████████████████████████████| 15/15 [00:00<00:00, 596.06it/s]\n"
     ]
    },
    {
     "name": "stdout",
     "output_type": "stream",
     "text": [
      "Relative training error = 39.9034 %\n",
      "Relative test error = 37.2956 %\n"
     ]
    },
    {
     "name": "stderr",
     "output_type": "stream",
     "text": [
      "100%|██████████████████████████████████████████████████████████████████████████████████████████████████████████████████████████████████████████████████████████████████████| 15/15 [00:00<00:00, 572.43it/s]\n"
     ]
    },
    {
     "name": "stdout",
     "output_type": "stream",
     "text": [
      " loss = 0.3892\n",
      "Relative training error = 36.5344 %\n",
      "Relative test error = 37.0975 %\n"
     ]
    },
    {
     "name": "stderr",
     "output_type": "stream",
     "text": [
      "100%|██████████████████████████████████████████████████████████████████████████████████████████████████████████████████████████████████████████████████████████████████████| 15/15 [00:00<00:00, 687.34it/s]\n"
     ]
    },
    {
     "name": "stdout",
     "output_type": "stream",
     "text": [
      " loss = 0.4152\n",
      "Relative training error = 32.9622 %\n",
      "Relative test error = 35.1795 %\n"
     ]
    },
    {
     "name": "stderr",
     "output_type": "stream",
     "text": [
      "100%|██████████████████████████████████████████████████████████████████████████████████████████████████████████████████████████████████████████████████████████████████████| 15/15 [00:00<00:00, 628.40it/s]"
     ]
    },
    {
     "name": "stdout",
     "output_type": "stream",
     "text": [
      " loss = 0.4279\n"
     ]
    },
    {
     "name": "stderr",
     "output_type": "stream",
     "text": [
      "\n"
     ]
    },
    {
     "name": "stdout",
     "output_type": "stream",
     "text": [
      "Relative training error = 29.3416 %\n",
      "Relative test error = 33.3712 %\n"
     ]
    },
    {
     "name": "stderr",
     "output_type": "stream",
     "text": [
      "100%|██████████████████████████████████████████████████████████████████████████████████████████████████████████████████████████████████████████████████████████████████████| 15/15 [00:00<00:00, 680.79it/s]"
     ]
    },
    {
     "name": "stdout",
     "output_type": "stream",
     "text": [
      " loss = 0.4385\n"
     ]
    },
    {
     "name": "stderr",
     "output_type": "stream",
     "text": [
      "\n"
     ]
    },
    {
     "name": "stdout",
     "output_type": "stream",
     "text": [
      "Relative training error = 26.5810 %\n",
      "Relative test error = 30.8358 %\n"
     ]
    },
    {
     "name": "stderr",
     "output_type": "stream",
     "text": [
      "100%|██████████████████████████████████████████████████████████████████████████████████████████████████████████████████████████████████████████████████████████████████████| 15/15 [00:00<00:00, 448.06it/s]"
     ]
    },
    {
     "name": "stdout",
     "output_type": "stream",
     "text": [
      " loss = 0.4375\n"
     ]
    },
    {
     "name": "stderr",
     "output_type": "stream",
     "text": [
      "\n"
     ]
    },
    {
     "name": "stdout",
     "output_type": "stream",
     "text": [
      "Relative training error = 23.8023 %\n",
      "Relative test error = 28.7686 %\n"
     ]
    },
    {
     "name": "stderr",
     "output_type": "stream",
     "text": [
      "100%|██████████████████████████████████████████████████████████████████████████████████████████████████████████████████████████████████████████████████████████████████████| 15/15 [00:00<00:00, 570.50it/s]"
     ]
    },
    {
     "name": "stdout",
     "output_type": "stream",
     "text": [
      " loss = 0.3243\n",
      "Relative training error = 21.5337 %"
     ]
    },
    {
     "name": "stderr",
     "output_type": "stream",
     "text": [
      "\n"
     ]
    },
    {
     "name": "stdout",
     "output_type": "stream",
     "text": [
      "\n",
      "Relative test error = 26.2417 %\n"
     ]
    },
    {
     "name": "stderr",
     "output_type": "stream",
     "text": [
      "  0%|                                                                                                                                                                                | 0/15 [00:00<?, ?it/s]"
     ]
    },
    {
     "name": "stdout",
     "output_type": "stream",
     "text": [
      " loss = 0.1990\n"
     ]
    },
    {
     "name": "stderr",
     "output_type": "stream",
     "text": [
      "100%|██████████████████████████████████████████████████████████████████████████████████████████████████████████████████████████████████████████████████████████████████████| 15/15 [00:00<00:00, 423.67it/s]\n"
     ]
    },
    {
     "name": "stdout",
     "output_type": "stream",
     "text": [
      "Relative training error = 19.8508 %\n",
      "Relative test error = 23.6245 %\n"
     ]
    },
    {
     "name": "stderr",
     "output_type": "stream",
     "text": [
      "100%|██████████████████████████████████████████████████████████████████████████████████████████████████████████████████████████████████████████████████████████████████████| 15/15 [00:00<00:00, 748.03it/s]"
     ]
    },
    {
     "name": "stdout",
     "output_type": "stream",
     "text": [
      " loss = 0.3478\n"
     ]
    },
    {
     "name": "stderr",
     "output_type": "stream",
     "text": [
      "\n"
     ]
    },
    {
     "name": "stdout",
     "output_type": "stream",
     "text": [
      "Relative training error = 18.4278 %\n",
      "Relative test error = 22.7761 %\n"
     ]
    },
    {
     "name": "stderr",
     "output_type": "stream",
     "text": [
      "100%|██████████████████████████████████████████████████████████████████████████████████████████████████████████████████████████████████████████████████████████████████████| 15/15 [00:00<00:00, 711.00it/s]\n"
     ]
    },
    {
     "name": "stdout",
     "output_type": "stream",
     "text": [
      " loss = 0.2062\n",
      "Relative training error = 17.3412 %\n",
      "Relative test error = 21.6667 %\n"
     ]
    },
    {
     "name": "stderr",
     "output_type": "stream",
     "text": [
      "100%|██████████████████████████████████████████████████████████████████████████████████████████████████████████████████████████████████████████████████████████████████████| 15/15 [00:00<00:00, 700.67it/s]"
     ]
    },
    {
     "name": "stdout",
     "output_type": "stream",
     "text": [
      " loss = 0.3287\n"
     ]
    },
    {
     "name": "stderr",
     "output_type": "stream",
     "text": [
      "\n"
     ]
    },
    {
     "name": "stdout",
     "output_type": "stream",
     "text": [
      "Relative training error = 16.2424 %\n",
      "Relative test error = 21.3145 %\n"
     ]
    },
    {
     "name": "stderr",
     "output_type": "stream",
     "text": [
      "100%|██████████████████████████████████████████████████████████████████████████████████████████████████████████████████████████████████████████████████████████████████████| 15/15 [00:00<00:00, 706.36it/s]"
     ]
    },
    {
     "name": "stdout",
     "output_type": "stream",
     "text": [
      " loss = 0.1012\n",
      "Relative training error = 15.4318 %"
     ]
    },
    {
     "name": "stderr",
     "output_type": "stream",
     "text": [
      "\n"
     ]
    },
    {
     "name": "stdout",
     "output_type": "stream",
     "text": [
      "\n",
      "Relative test error = 20.6855 %\n"
     ]
    },
    {
     "name": "stderr",
     "output_type": "stream",
     "text": [
      "100%|██████████████████████████████████████████████████████████████████████████████████████████████████████████████████████████████████████████████████████████████████████| 15/15 [00:00<00:00, 738.68it/s]\n"
     ]
    },
    {
     "name": "stdout",
     "output_type": "stream",
     "text": [
      " loss = 0.3066\n",
      "Relative training error = 14.6770 %\n",
      "Relative test error = 19.6467 %\n"
     ]
    },
    {
     "name": "stderr",
     "output_type": "stream",
     "text": [
      "100%|██████████████████████████████████████████████████████████████████████████████████████████████████████████████████████████████████████████████████████████████████████| 15/15 [00:00<00:00, 557.50it/s]"
     ]
    },
    {
     "name": "stdout",
     "output_type": "stream",
     "text": [
      " loss = 0.1107\n"
     ]
    },
    {
     "name": "stderr",
     "output_type": "stream",
     "text": [
      "\n"
     ]
    },
    {
     "name": "stdout",
     "output_type": "stream",
     "text": [
      "Relative training error = 14.1411 %\n",
      "Relative test error = 18.6564 %\n"
     ]
    },
    {
     "name": "stderr",
     "output_type": "stream",
     "text": [
      "100%|██████████████████████████████████████████████████████████████████████████████████████████████████████████████████████████████████████████████████████████████████████| 15/15 [00:00<00:00, 628.45it/s]"
     ]
    },
    {
     "name": "stdout",
     "output_type": "stream",
     "text": [
      " loss = 0.0930\n"
     ]
    },
    {
     "name": "stderr",
     "output_type": "stream",
     "text": [
      "\n"
     ]
    },
    {
     "name": "stdout",
     "output_type": "stream",
     "text": [
      "Relative training error = 13.7226 %\n",
      "Relative test error = 17.5753 %\n"
     ]
    },
    {
     "name": "stderr",
     "output_type": "stream",
     "text": [
      "100%|██████████████████████████████████████████████████████████████████████████████████████████████████████████████████████████████████████████████████████████████████████| 15/15 [00:00<00:00, 686.98it/s]"
     ]
    },
    {
     "name": "stdout",
     "output_type": "stream",
     "text": [
      " loss = 0.0211\n"
     ]
    },
    {
     "name": "stderr",
     "output_type": "stream",
     "text": [
      "\n"
     ]
    },
    {
     "name": "stdout",
     "output_type": "stream",
     "text": [
      "Relative training error = 13.4636 %\n",
      "Relative test error = 16.6381 %\n"
     ]
    },
    {
     "name": "stderr",
     "output_type": "stream",
     "text": [
      "100%|██████████████████████████████████████████████████████████████████████████████████████████████████████████████████████████████████████████████████████████████████████| 15/15 [00:00<00:00, 694.43it/s]\n"
     ]
    },
    {
     "name": "stdout",
     "output_type": "stream",
     "text": [
      " loss = 0.0306\n",
      "Relative training error = 13.0188 %\n",
      "Relative test error = 16.7756 %\n"
     ]
    },
    {
     "name": "stderr",
     "output_type": "stream",
     "text": [
      "100%|██████████████████████████████████████████████████████████████████████████████████████████████████████████████████████████████████████████████████████████████████████| 15/15 [00:00<00:00, 689.96it/s]\n"
     ]
    },
    {
     "name": "stdout",
     "output_type": "stream",
     "text": [
      " loss = 0.1579\n",
      "Relative training error = 12.6863 %\n",
      "Relative test error = 16.2580 %\n"
     ]
    },
    {
     "name": "stderr",
     "output_type": "stream",
     "text": [
      "100%|██████████████████████████████████████████████████████████████████████████████████████████████████████████████████████████████████████████████████████████████████████| 15/15 [00:00<00:00, 576.75it/s]"
     ]
    },
    {
     "name": "stdout",
     "output_type": "stream",
     "text": [
      " loss = 0.0854\n"
     ]
    },
    {
     "name": "stderr",
     "output_type": "stream",
     "text": [
      "\n"
     ]
    },
    {
     "name": "stdout",
     "output_type": "stream",
     "text": [
      "Relative training error = 12.4869 %\n",
      "Relative test error = 15.4707 %\n"
     ]
    },
    {
     "name": "stderr",
     "output_type": "stream",
     "text": [
      "100%|██████████████████████████████████████████████████████████████████████████████████████████████████████████████████████████████████████████████████████████████████████| 15/15 [00:00<00:00, 711.31it/s]"
     ]
    },
    {
     "name": "stdout",
     "output_type": "stream",
     "text": [
      " loss = 0.0517\n"
     ]
    },
    {
     "name": "stderr",
     "output_type": "stream",
     "text": [
      "\n"
     ]
    },
    {
     "name": "stdout",
     "output_type": "stream",
     "text": [
      "Relative training error = 12.1885 %\n",
      "Relative test error = 14.5200 %\n"
     ]
    },
    {
     "name": "stderr",
     "output_type": "stream",
     "text": [
      "100%|██████████████████████████████████████████████████████████████████████████████████████████████████████████████████████████████████████████████████████████████████████| 15/15 [00:00<00:00, 688.80it/s]"
     ]
    },
    {
     "name": "stdout",
     "output_type": "stream",
     "text": [
      " loss = 0.1267\n",
      "Relative training error = 11.9370 %"
     ]
    },
    {
     "name": "stderr",
     "output_type": "stream",
     "text": [
      "\n"
     ]
    },
    {
     "name": "stdout",
     "output_type": "stream",
     "text": [
      "\n",
      "Relative test error = 14.3283 %\n"
     ]
    },
    {
     "name": "stderr",
     "output_type": "stream",
     "text": [
      "100%|██████████████████████████████████████████████████████████████████████████████████████████████████████████████████████████████████████████████████████████████████████| 15/15 [00:00<00:00, 698.51it/s]"
     ]
    },
    {
     "name": "stdout",
     "output_type": "stream",
     "text": [
      " loss = 0.0393\n",
      "Relative training error = 11.6378 %\n",
      "Relative test error = 15.1389 %\n"
     ]
    },
    {
     "name": "stderr",
     "output_type": "stream",
     "text": [
      "\n",
      "  0%|                                                                                                                                                                                | 0/15 [00:00<?, ?it/s]"
     ]
    },
    {
     "name": "stdout",
     "output_type": "stream",
     "text": [
      " loss = 0.0370\n"
     ]
    },
    {
     "name": "stderr",
     "output_type": "stream",
     "text": [
      "100%|██████████████████████████████████████████████████████████████████████████████████████████████████████████████████████████████████████████████████████████████████████| 15/15 [00:00<00:00, 661.08it/s]\n"
     ]
    },
    {
     "name": "stdout",
     "output_type": "stream",
     "text": [
      "Relative training error = 11.4143 %\n",
      "Relative test error = 15.4256 %\n"
     ]
    },
    {
     "name": "stderr",
     "output_type": "stream",
     "text": [
      "  0%|                                                                                                                                                                                | 0/15 [00:00<?, ?it/s]"
     ]
    },
    {
     "name": "stdout",
     "output_type": "stream",
     "text": [
      " loss = 0.1483\n"
     ]
    },
    {
     "name": "stderr",
     "output_type": "stream",
     "text": [
      "100%|██████████████████████████████████████████████████████████████████████████████████████████████████████████████████████████████████████████████████████████████████████| 15/15 [00:00<00:00, 627.90it/s]\n"
     ]
    },
    {
     "name": "stdout",
     "output_type": "stream",
     "text": [
      "Relative training error = 11.1910 %\n",
      "Relative test error = 15.0655 %\n"
     ]
    },
    {
     "name": "stderr",
     "output_type": "stream",
     "text": [
      "  0%|                                                                                                                                                                                | 0/15 [00:00<?, ?it/s]"
     ]
    },
    {
     "name": "stdout",
     "output_type": "stream",
     "text": [
      " loss = 0.0553\n"
     ]
    },
    {
     "name": "stderr",
     "output_type": "stream",
     "text": [
      "100%|██████████████████████████████████████████████████████████████████████████████████████████████████████████████████████████████████████████████████████████████████████| 15/15 [00:00<00:00, 659.21it/s]\n"
     ]
    },
    {
     "name": "stdout",
     "output_type": "stream",
     "text": [
      "Relative training error = 10.9640 %\n",
      "Relative test error = 15.0881 %\n"
     ]
    },
    {
     "name": "stderr",
     "output_type": "stream",
     "text": [
      "  0%|                                                                                                                                                                                | 0/15 [00:00<?, ?it/s]"
     ]
    },
    {
     "name": "stdout",
     "output_type": "stream",
     "text": [
      " loss = 0.0729\n"
     ]
    },
    {
     "name": "stderr",
     "output_type": "stream",
     "text": [
      "100%|██████████████████████████████████████████████████████████████████████████████████████████████████████████████████████████████████████████████████████████████████████| 15/15 [00:00<00:00, 737.46it/s]\n"
     ]
    },
    {
     "name": "stdout",
     "output_type": "stream",
     "text": [
      "Relative training error = 10.8077 %\n",
      "Relative test error = 15.0638 %\n"
     ]
    },
    {
     "name": "stderr",
     "output_type": "stream",
     "text": [
      "  0%|                                                                                                                                                                                | 0/15 [00:00<?, ?it/s]"
     ]
    },
    {
     "name": "stdout",
     "output_type": "stream",
     "text": [
      " loss = 0.0389\n"
     ]
    },
    {
     "name": "stderr",
     "output_type": "stream",
     "text": [
      "100%|██████████████████████████████████████████████████████████████████████████████████████████████████████████████████████████████████████████████████████████████████████| 15/15 [00:00<00:00, 680.70it/s]\n"
     ]
    },
    {
     "name": "stdout",
     "output_type": "stream",
     "text": [
      "Relative training error = 10.6308 %\n",
      "Relative test error = 14.8171 %\n"
     ]
    },
    {
     "name": "stderr",
     "output_type": "stream",
     "text": [
      "  0%|                                                                                                                                                                                | 0/15 [00:00<?, ?it/s]"
     ]
    },
    {
     "name": "stdout",
     "output_type": "stream",
     "text": [
      " loss = 0.0410\n"
     ]
    },
    {
     "name": "stderr",
     "output_type": "stream",
     "text": [
      "100%|██████████████████████████████████████████████████████████████████████████████████████████████████████████████████████████████████████████████████████████████████████| 15/15 [00:00<00:00, 698.72it/s]\n"
     ]
    },
    {
     "name": "stdout",
     "output_type": "stream",
     "text": [
      "Relative training error = 10.4887 %\n",
      "Relative test error = 14.2656 %\n"
     ]
    },
    {
     "name": "stderr",
     "output_type": "stream",
     "text": [
      "  0%|                                                                                                                                                                                | 0/15 [00:00<?, ?it/s]"
     ]
    },
    {
     "name": "stdout",
     "output_type": "stream",
     "text": [
      " loss = 0.0385\n"
     ]
    },
    {
     "name": "stderr",
     "output_type": "stream",
     "text": [
      "100%|██████████████████████████████████████████████████████████████████████████████████████████████████████████████████████████████████████████████████████████████████████| 15/15 [00:00<00:00, 784.28it/s]\n"
     ]
    },
    {
     "name": "stdout",
     "output_type": "stream",
     "text": [
      "Relative training error = 10.4091 %\n",
      "Relative test error = 13.9305 %\n"
     ]
    },
    {
     "name": "stderr",
     "output_type": "stream",
     "text": [
      "  0%|                                                                                                                                                                                | 0/15 [00:00<?, ?it/s]"
     ]
    },
    {
     "name": "stdout",
     "output_type": "stream",
     "text": [
      " loss = 0.0308\n"
     ]
    },
    {
     "name": "stderr",
     "output_type": "stream",
     "text": [
      "100%|██████████████████████████████████████████████████████████████████████████████████████████████████████████████████████████████████████████████████████████████████████| 15/15 [00:00<00:00, 754.51it/s]\n"
     ]
    },
    {
     "name": "stdout",
     "output_type": "stream",
     "text": [
      "Relative training error = 10.2996 %\n",
      "Relative test error = 14.5797 %\n"
     ]
    },
    {
     "name": "stderr",
     "output_type": "stream",
     "text": [
      "100%|██████████████████████████████████████████████████████████████████████████████████████████████████████████████████████████████████████████████████████████████████████| 15/15 [00:00<00:00, 574.69it/s]\n"
     ]
    },
    {
     "name": "stdout",
     "output_type": "stream",
     "text": [
      " loss = 0.0400\n",
      "Relative training error = 10.1397 %\n",
      "Relative test error = 14.6159 %\n"
     ]
    },
    {
     "name": "stderr",
     "output_type": "stream",
     "text": [
      "100%|██████████████████████████████████████████████████████████████████████████████████████████████████████████████████████████████████████████████████████████████████████| 15/15 [00:00<00:00, 737.84it/s]\n"
     ]
    },
    {
     "name": "stdout",
     "output_type": "stream",
     "text": [
      " loss = 0.0607\n",
      "Relative training error = 10.0360 %\n",
      "Relative test error = 14.1904 %\n"
     ]
    },
    {
     "name": "stderr",
     "output_type": "stream",
     "text": [
      "100%|██████████████████████████████████████████████████████████████████████████████████████████████████████████████████████████████████████████████████████████████████████| 15/15 [00:00<00:00, 713.14it/s]"
     ]
    },
    {
     "name": "stdout",
     "output_type": "stream",
     "text": [
      " loss = 0.0349\n"
     ]
    },
    {
     "name": "stderr",
     "output_type": "stream",
     "text": [
      "\n"
     ]
    },
    {
     "name": "stdout",
     "output_type": "stream",
     "text": [
      "Relative training error = 9.9805 %\n",
      "Relative test error = 13.4632 %\n"
     ]
    },
    {
     "name": "stderr",
     "output_type": "stream",
     "text": [
      "100%|██████████████████████████████████████████████████████████████████████████████████████████████████████████████████████████████████████████████████████████████████████| 15/15 [00:00<00:00, 733.18it/s]\n"
     ]
    },
    {
     "name": "stdout",
     "output_type": "stream",
     "text": [
      " loss = 0.0582\n",
      "Relative training error = 9.8527 %\n",
      "Relative test error = 13.6183 %\n"
     ]
    },
    {
     "name": "stderr",
     "output_type": "stream",
     "text": [
      "  0%|                                                                                                                                                                                | 0/15 [00:00<?, ?it/s]"
     ]
    },
    {
     "name": "stdout",
     "output_type": "stream",
     "text": [
      " loss = 0.0314\n"
     ]
    },
    {
     "name": "stderr",
     "output_type": "stream",
     "text": [
      "100%|██████████████████████████████████████████████████████████████████████████████████████████████████████████████████████████████████████████████████████████████████████| 15/15 [00:00<00:00, 716.89it/s]\n"
     ]
    },
    {
     "name": "stdout",
     "output_type": "stream",
     "text": [
      "Relative training error = 9.7977 %\n",
      "Relative test error = 13.7363 %\n"
     ]
    },
    {
     "name": "stderr",
     "output_type": "stream",
     "text": [
      "  0%|                                                                                                                                                                                | 0/15 [00:00<?, ?it/s]"
     ]
    },
    {
     "name": "stdout",
     "output_type": "stream",
     "text": [
      " loss = 0.0590\n"
     ]
    },
    {
     "name": "stderr",
     "output_type": "stream",
     "text": [
      "100%|██████████████████████████████████████████████████████████████████████████████████████████████████████████████████████████████████████████████████████████████████████| 15/15 [00:00<00:00, 782.78it/s]\n"
     ]
    },
    {
     "name": "stdout",
     "output_type": "stream",
     "text": [
      "Relative training error = 9.7579 %\n",
      "Relative test error = 13.5769 %\n"
     ]
    },
    {
     "name": "stderr",
     "output_type": "stream",
     "text": [
      "  0%|                                                                                                                                                                                | 0/15 [00:00<?, ?it/s]"
     ]
    },
    {
     "name": "stdout",
     "output_type": "stream",
     "text": [
      " loss = 0.0353\n"
     ]
    },
    {
     "name": "stderr",
     "output_type": "stream",
     "text": [
      "100%|██████████████████████████████████████████████████████████████████████████████████████████████████████████████████████████████████████████████████████████████████████| 15/15 [00:00<00:00, 725.63it/s]\n"
     ]
    },
    {
     "name": "stdout",
     "output_type": "stream",
     "text": [
      "Relative training error = 9.7558 %\n",
      "Relative test error = 13.4218 %\n"
     ]
    },
    {
     "name": "stderr",
     "output_type": "stream",
     "text": [
      "  0%|                                                                                                                                                                                | 0/15 [00:00<?, ?it/s]"
     ]
    },
    {
     "name": "stdout",
     "output_type": "stream",
     "text": [
      " loss = 0.0750\n"
     ]
    },
    {
     "name": "stderr",
     "output_type": "stream",
     "text": [
      "100%|██████████████████████████████████████████████████████████████████████████████████████████████████████████████████████████████████████████████████████████████████████| 15/15 [00:00<00:00, 748.78it/s]\n"
     ]
    },
    {
     "name": "stdout",
     "output_type": "stream",
     "text": [
      "Relative training error = 9.6873 %\n",
      "Relative test error = 13.4384 %\n"
     ]
    },
    {
     "name": "stderr",
     "output_type": "stream",
     "text": [
      "  0%|                                                                                                                                                                                | 0/15 [00:00<?, ?it/s]"
     ]
    },
    {
     "name": "stdout",
     "output_type": "stream",
     "text": [
      " loss = 0.0579\n"
     ]
    },
    {
     "name": "stderr",
     "output_type": "stream",
     "text": [
      "100%|██████████████████████████████████████████████████████████████████████████████████████████████████████████████████████████████████████████████████████████████████████| 15/15 [00:00<00:00, 704.42it/s]\n"
     ]
    },
    {
     "name": "stdout",
     "output_type": "stream",
     "text": [
      "Relative training error = 9.6274 %\n",
      "Relative test error = 13.1752 %\n"
     ]
    },
    {
     "name": "stderr",
     "output_type": "stream",
     "text": [
      "  0%|                                                                                                                                                                                | 0/15 [00:00<?, ?it/s]"
     ]
    },
    {
     "name": "stdout",
     "output_type": "stream",
     "text": [
      " loss = 0.1415\n"
     ]
    },
    {
     "name": "stderr",
     "output_type": "stream",
     "text": [
      "100%|██████████████████████████████████████████████████████████████████████████████████████████████████████████████████████████████████████████████████████████████████████| 15/15 [00:00<00:00, 741.77it/s]\n"
     ]
    },
    {
     "name": "stdout",
     "output_type": "stream",
     "text": [
      "Relative training error = 9.5097 %\n",
      "Relative test error = 13.1671 %\n"
     ]
    },
    {
     "name": "stderr",
     "output_type": "stream",
     "text": [
      "  0%|                                                                                                                                                                                | 0/15 [00:00<?, ?it/s]"
     ]
    },
    {
     "name": "stdout",
     "output_type": "stream",
     "text": [
      " loss = 0.0289\n"
     ]
    },
    {
     "name": "stderr",
     "output_type": "stream",
     "text": [
      "100%|██████████████████████████████████████████████████████████████████████████████████████████████████████████████████████████████████████████████████████████████████████| 15/15 [00:00<00:00, 711.33it/s]\n"
     ]
    },
    {
     "name": "stdout",
     "output_type": "stream",
     "text": [
      "Relative training error = 9.4476 %\n",
      "Relative test error = 13.4375 %\n"
     ]
    },
    {
     "name": "stderr",
     "output_type": "stream",
     "text": [
      "  0%|                                                                                                                                                                                | 0/15 [00:00<?, ?it/s]"
     ]
    },
    {
     "name": "stdout",
     "output_type": "stream",
     "text": [
      " loss = 0.0363\n"
     ]
    },
    {
     "name": "stderr",
     "output_type": "stream",
     "text": [
      "100%|██████████████████████████████████████████████████████████████████████████████████████████████████████████████████████████████████████████████████████████████████████| 15/15 [00:00<00:00, 667.32it/s]\n"
     ]
    },
    {
     "name": "stdout",
     "output_type": "stream",
     "text": [
      "Relative training error = 9.3420 %\n",
      "Relative test error = 13.5490 %\n"
     ]
    },
    {
     "name": "stderr",
     "output_type": "stream",
     "text": [
      "  0%|                                                                                                                                                                                | 0/15 [00:00<?, ?it/s]"
     ]
    },
    {
     "name": "stdout",
     "output_type": "stream",
     "text": [
      " loss = 0.0289\n"
     ]
    },
    {
     "name": "stderr",
     "output_type": "stream",
     "text": [
      "100%|██████████████████████████████████████████████████████████████████████████████████████████████████████████████████████████████████████████████████████████████████████| 15/15 [00:00<00:00, 758.55it/s]\n"
     ]
    },
    {
     "name": "stdout",
     "output_type": "stream",
     "text": [
      "Relative training error = 9.3712 %\n",
      "Relative test error = 13.7380 %\n",
      "Creating DAS_analysis object\n",
      "[-3.33904898e-02 -2.75592482e-04  6.75529046e-03  2.95434237e-02\n",
      " -3.40290729e-03  3.08737117e-02  1.01209520e-03 -4.80988323e-03\n",
      " -1.07648473e-02 -1.92345385e-03 -1.05707726e-02  1.32764589e-02\n",
      " -1.88479366e-04 -7.78112981e-03 -2.20797094e-02  1.91612666e-02\n",
      " -3.81322690e-02 -1.43958990e-02 -3.55501232e-03  5.87829705e-02\n",
      " -3.15450202e-02 -2.07752352e-02 -7.18415924e-03  3.33695040e-03\n",
      "  1.36140605e-02 -9.36144500e-04  2.43579140e-02 -3.12722198e-04\n",
      "  2.60047425e-02 -2.81825681e-03 -1.10942119e-02  5.04249430e-02\n",
      "  9.36378451e-03  1.44538531e-02 -1.95601641e-02  4.95149215e-02\n",
      "  2.97072515e-02 -3.72920018e-02 -5.25101326e-02  1.36140962e-02\n",
      " -3.78842837e-03 -2.36315610e-02  3.08886513e-03  9.94606874e-03\n",
      " -2.73260217e-02  5.52111629e-05 -5.57936320e-03 -2.81570151e-02\n",
      " -5.36236275e-02 -2.78460035e-02 -2.79262929e-02  1.98481853e-02\n",
      " -2.02375243e-02  7.09350627e-03 -1.80310190e-02  1.10893024e-02\n",
      "  1.38355662e-02  1.55181759e-02  7.77773490e-03  4.02404911e-02\n",
      " -3.26803716e-02 -3.26558853e-02  2.74570357e-02 -2.43002378e-02\n",
      "  1.28519502e-02 -7.79996707e-03  4.21526790e-03 -1.96827100e-02\n",
      " -3.06098804e-02  1.13523954e-02 -3.18856661e-02  3.28485979e-03\n",
      " -2.61098246e-02  5.02761503e-02  1.95430325e-02 -2.11639217e-02\n",
      "  1.11936941e-02  1.22667059e-02  2.38241491e-02 -1.50901499e-03\n",
      "  2.05020611e-02 -5.86918590e-03  9.52424640e-03  6.46418346e-04\n",
      " -1.96385022e-02 -1.28099016e-02 -5.11204137e-02  1.53145645e-02\n",
      " -4.96562421e-03 -1.24992020e-02 -3.22209028e-02 -1.05753944e-02\n",
      " -6.66280114e-06 -9.16344139e-03 -9.91075205e-04  4.45905269e-02\n",
      " -3.06444710e-02 -8.35294877e-03  1.45706277e-03 -2.13765282e-03\n",
      "  3.50208138e-03 -1.54497343e-02 -5.20253328e-02]\n",
      "Parameters ordered from most to least important:\n",
      "[[  7  11  25   9  33  15  19   5  29   3  23   1  27  41  59  55  21  17\n",
      "    6  61  13  28  14  10  80   8  34  43  93  48  47  72  16  53  36  83\n",
      "   58  68  30  98  44  52  40  60  35  81  65  46  89  45  70  73  92  78\n",
      "   76  50  97   2 102  12  54  20  39  66  94  18 100  82  64  51  74  37\n",
      "   56  86  38  22  77  24  31 101  91  32  87  69   0  95  62  90  75  42\n",
      "   85  49  67  57  79  26  71   4  63  84  88  96  99]]\n",
      "Creating DAS_Surrogate Object\n",
      "Creating Feature Engineering object\n",
      "Using  450/450 samples to train the ML model\n",
      "===============================\n",
      "Neural net parameters\n",
      "===============================\n",
      "Number of layers = 3\n",
      "Number of features = 103\n",
      "Loss function = squared\n",
      "Number of neurons per hidden layer = 10\n",
      "Number of output neurons = 1\n",
      "Activation = ['linear', 'linear', 'tanh', 'linear']\n",
      "This neural network has 134 weights.\n",
      "===============================\n",
      "===============================\n",
      "Training Deep Active Subspace Neural Network...\n"
     ]
    },
    {
     "name": "stderr",
     "output_type": "stream",
     "text": [
      "100%|██████████████████████████████████████████████████████████████████████████████████████████████████████████████████████████████████████████████████████████████████████| 15/15 [00:00<00:00, 582.58it/s]"
     ]
    },
    {
     "name": "stdout",
     "output_type": "stream",
     "text": [
      " loss = 1.5362\n"
     ]
    },
    {
     "name": "stderr",
     "output_type": "stream",
     "text": [
      "\n"
     ]
    },
    {
     "name": "stdout",
     "output_type": "stream",
     "text": [
      "Relative training error = 44.0152 %\n",
      "Relative test error = 37.4637 %\n"
     ]
    },
    {
     "name": "stderr",
     "output_type": "stream",
     "text": [
      "100%|██████████████████████████████████████████████████████████████████████████████████████████████████████████████████████████████████████████████████████████████████████| 15/15 [00:00<00:00, 640.25it/s]"
     ]
    },
    {
     "name": "stdout",
     "output_type": "stream",
     "text": [
      " loss = 0.7320\n"
     ]
    },
    {
     "name": "stderr",
     "output_type": "stream",
     "text": [
      "\n"
     ]
    },
    {
     "name": "stdout",
     "output_type": "stream",
     "text": [
      "Relative training error = 38.0305 %\n",
      "Relative test error = 29.5868 %\n"
     ]
    },
    {
     "name": "stderr",
     "output_type": "stream",
     "text": [
      "100%|██████████████████████████████████████████████████████████████████████████████████████████████████████████████████████████████████████████████████████████████████████| 15/15 [00:00<00:00, 735.90it/s]"
     ]
    },
    {
     "name": "stdout",
     "output_type": "stream",
     "text": [
      " loss = 0.9295\n",
      "Relative training error = 30.0548 %\n",
      "Relative test error = 25.8971 %"
     ]
    },
    {
     "name": "stderr",
     "output_type": "stream",
     "text": [
      "\n"
     ]
    },
    {
     "name": "stdout",
     "output_type": "stream",
     "text": [
      "\n"
     ]
    },
    {
     "name": "stderr",
     "output_type": "stream",
     "text": [
      "100%|██████████████████████████████████████████████████████████████████████████████████████████████████████████████████████████████████████████████████████████████████████| 15/15 [00:00<00:00, 783.54it/s]"
     ]
    },
    {
     "name": "stdout",
     "output_type": "stream",
     "text": [
      " loss = 0.3893\n",
      "Relative training error = 24.3372 %\n",
      "Relative test error = 22.6780 %\n"
     ]
    },
    {
     "name": "stderr",
     "output_type": "stream",
     "text": [
      "\n",
      "100%|██████████████████████████████████████████████████████████████████████████████████████████████████████████████████████████████████████████████████████████████████████| 15/15 [00:00<00:00, 726.71it/s]\n"
     ]
    },
    {
     "name": "stdout",
     "output_type": "stream",
     "text": [
      " loss = 0.1772\n",
      "Relative training error = 20.4439 %\n",
      "Relative test error = 20.9219 %\n"
     ]
    },
    {
     "name": "stderr",
     "output_type": "stream",
     "text": [
      "100%|██████████████████████████████████████████████████████████████████████████████████████████████████████████████████████████████████████████████████████████████████████| 15/15 [00:00<00:00, 765.12it/s]\n"
     ]
    },
    {
     "name": "stdout",
     "output_type": "stream",
     "text": [
      " loss = 0.0706\n",
      "Relative training error = 18.2787 %\n",
      "Relative test error = 19.5325 %\n"
     ]
    },
    {
     "name": "stderr",
     "output_type": "stream",
     "text": [
      "  0%|                                                                                                                                                                                | 0/15 [00:00<?, ?it/s]"
     ]
    },
    {
     "name": "stdout",
     "output_type": "stream",
     "text": [
      " loss = 0.0611\n"
     ]
    },
    {
     "name": "stderr",
     "output_type": "stream",
     "text": [
      "100%|██████████████████████████████████████████████████████████████████████████████████████████████████████████████████████████████████████████████████████████████████████| 15/15 [00:00<00:00, 707.62it/s]\n"
     ]
    },
    {
     "name": "stdout",
     "output_type": "stream",
     "text": [
      "Relative training error = 16.8376 %\n",
      "Relative test error = 17.6166 %\n"
     ]
    },
    {
     "name": "stderr",
     "output_type": "stream",
     "text": [
      "  0%|                                                                                                                                                                                | 0/15 [00:00<?, ?it/s]"
     ]
    },
    {
     "name": "stdout",
     "output_type": "stream",
     "text": [
      " loss = 0.1963\n"
     ]
    },
    {
     "name": "stderr",
     "output_type": "stream",
     "text": [
      "100%|██████████████████████████████████████████████████████████████████████████████████████████████████████████████████████████████████████████████████████████████████████| 15/15 [00:00<00:00, 648.65it/s]\n"
     ]
    },
    {
     "name": "stdout",
     "output_type": "stream",
     "text": [
      "Relative training error = 15.9901 %\n",
      "Relative test error = 17.0811 %\n"
     ]
    },
    {
     "name": "stderr",
     "output_type": "stream",
     "text": [
      "  0%|                                                                                                                                                                                | 0/15 [00:00<?, ?it/s]"
     ]
    },
    {
     "name": "stdout",
     "output_type": "stream",
     "text": [
      " loss = 0.0588\n"
     ]
    },
    {
     "name": "stderr",
     "output_type": "stream",
     "text": [
      "100%|██████████████████████████████████████████████████████████████████████████████████████████████████████████████████████████████████████████████████████████████████████| 15/15 [00:00<00:00, 671.52it/s]\n"
     ]
    },
    {
     "name": "stdout",
     "output_type": "stream",
     "text": [
      "Relative training error = 15.4050 %\n",
      "Relative test error = 16.2605 %\n"
     ]
    },
    {
     "name": "stderr",
     "output_type": "stream",
     "text": [
      "  0%|                                                                                                                                                                                | 0/15 [00:00<?, ?it/s]"
     ]
    },
    {
     "name": "stdout",
     "output_type": "stream",
     "text": [
      " loss = 0.0481\n"
     ]
    },
    {
     "name": "stderr",
     "output_type": "stream",
     "text": [
      "100%|██████████████████████████████████████████████████████████████████████████████████████████████████████████████████████████████████████████████████████████████████████| 15/15 [00:00<00:00, 663.59it/s]\n"
     ]
    },
    {
     "name": "stdout",
     "output_type": "stream",
     "text": [
      "Relative training error = 14.9571 %\n",
      "Relative test error = 15.4858 %\n"
     ]
    },
    {
     "name": "stderr",
     "output_type": "stream",
     "text": [
      "  0%|                                                                                                                                                                                | 0/15 [00:00<?, ?it/s]"
     ]
    },
    {
     "name": "stdout",
     "output_type": "stream",
     "text": [
      " loss = 0.2631\n"
     ]
    },
    {
     "name": "stderr",
     "output_type": "stream",
     "text": [
      "100%|██████████████████████████████████████████████████████████████████████████████████████████████████████████████████████████████████████████████████████████████████████| 15/15 [00:00<00:00, 737.08it/s]\n"
     ]
    },
    {
     "name": "stdout",
     "output_type": "stream",
     "text": [
      "Relative training error = 14.5189 %\n",
      "Relative test error = 14.7581 %\n"
     ]
    },
    {
     "name": "stderr",
     "output_type": "stream",
     "text": [
      "  0%|                                                                                                                                                                                | 0/15 [00:00<?, ?it/s]"
     ]
    },
    {
     "name": "stdout",
     "output_type": "stream",
     "text": [
      " loss = 0.1040\n"
     ]
    },
    {
     "name": "stderr",
     "output_type": "stream",
     "text": [
      "100%|██████████████████████████████████████████████████████████████████████████████████████████████████████████████████████████████████████████████████████████████████████| 15/15 [00:00<00:00, 694.63it/s]\n"
     ]
    },
    {
     "name": "stdout",
     "output_type": "stream",
     "text": [
      "Relative training error = 14.3217 %\n",
      "Relative test error = 14.5756 %\n"
     ]
    },
    {
     "name": "stderr",
     "output_type": "stream",
     "text": [
      "  0%|                                                                                                                                                                                | 0/15 [00:00<?, ?it/s]"
     ]
    },
    {
     "name": "stdout",
     "output_type": "stream",
     "text": [
      " loss = 0.1687\n"
     ]
    },
    {
     "name": "stderr",
     "output_type": "stream",
     "text": [
      "100%|██████████████████████████████████████████████████████████████████████████████████████████████████████████████████████████████████████████████████████████████████████| 15/15 [00:00<00:00, 743.74it/s]\n"
     ]
    },
    {
     "name": "stdout",
     "output_type": "stream",
     "text": [
      "Relative training error = 13.9975 %\n",
      "Relative test error = 15.1076 %\n"
     ]
    },
    {
     "name": "stderr",
     "output_type": "stream",
     "text": [
      "  0%|                                                                                                                                                                                | 0/15 [00:00<?, ?it/s]"
     ]
    },
    {
     "name": "stdout",
     "output_type": "stream",
     "text": [
      " loss = 0.2103\n"
     ]
    },
    {
     "name": "stderr",
     "output_type": "stream",
     "text": [
      "100%|██████████████████████████████████████████████████████████████████████████████████████████████████████████████████████████████████████████████████████████████████████| 15/15 [00:00<00:00, 642.31it/s]\n"
     ]
    },
    {
     "name": "stdout",
     "output_type": "stream",
     "text": [
      "Relative training error = 13.6738 %\n",
      "Relative test error = 15.3470 %\n"
     ]
    },
    {
     "name": "stderr",
     "output_type": "stream",
     "text": [
      "  0%|                                                                                                                                                                                | 0/15 [00:00<?, ?it/s]"
     ]
    },
    {
     "name": "stdout",
     "output_type": "stream",
     "text": [
      " loss = 0.1124\n"
     ]
    },
    {
     "name": "stderr",
     "output_type": "stream",
     "text": [
      "100%|██████████████████████████████████████████████████████████████████████████████████████████████████████████████████████████████████████████████████████████████████████| 15/15 [00:00<00:00, 762.62it/s]\n"
     ]
    },
    {
     "name": "stdout",
     "output_type": "stream",
     "text": [
      "Relative training error = 13.3408 %\n",
      "Relative test error = 15.4479 %\n"
     ]
    },
    {
     "name": "stderr",
     "output_type": "stream",
     "text": [
      "  0%|                                                                                                                                                                                | 0/15 [00:00<?, ?it/s]"
     ]
    },
    {
     "name": "stdout",
     "output_type": "stream",
     "text": [
      " loss = 0.1272\n"
     ]
    },
    {
     "name": "stderr",
     "output_type": "stream",
     "text": [
      "100%|██████████████████████████████████████████████████████████████████████████████████████████████████████████████████████████████████████████████████████████████████████| 15/15 [00:00<00:00, 748.36it/s]\n"
     ]
    },
    {
     "name": "stdout",
     "output_type": "stream",
     "text": [
      "Relative training error = 13.1450 %\n",
      "Relative test error = 15.1811 %\n",
      "Creating DAS_analysis object\n",
      "[-3.33904898e-02 -2.75592482e-04  6.75529046e-03  2.95434237e-02\n",
      " -3.40290729e-03  3.08737117e-02  1.01209520e-03 -4.80988323e-03\n",
      " -1.07648473e-02 -1.92345385e-03 -1.05707726e-02  1.32764589e-02\n",
      " -1.88479366e-04 -7.78112981e-03 -2.20797094e-02  1.91612666e-02\n",
      " -3.81322690e-02 -1.43958990e-02 -3.55501232e-03  5.87829705e-02\n",
      " -3.15450202e-02 -2.07752352e-02 -7.18415924e-03  3.33695040e-03\n",
      "  1.36140605e-02 -9.36144500e-04  2.43579140e-02 -3.12722198e-04\n",
      "  2.60047425e-02 -2.81825681e-03 -1.10942119e-02  5.04249430e-02\n",
      "  9.36378451e-03  1.44538531e-02 -1.95601641e-02  4.95149215e-02\n",
      "  2.97072515e-02 -3.72920018e-02 -5.25101326e-02  1.36140962e-02\n",
      " -3.78842837e-03 -2.36315610e-02  3.08886513e-03  9.94606874e-03\n",
      " -2.73260217e-02  5.52111629e-05 -5.57936320e-03 -2.81570151e-02\n",
      " -5.36236275e-02 -2.78460035e-02 -2.79262929e-02  1.98481853e-02\n",
      " -2.02375243e-02  7.09350627e-03 -1.80310190e-02  1.10893024e-02\n",
      "  1.38355662e-02  1.55181759e-02  7.77773490e-03  4.02404911e-02\n",
      " -3.26803716e-02 -3.26558853e-02  2.74570357e-02 -2.43002378e-02\n",
      "  1.28519502e-02 -7.79996707e-03  4.21526790e-03 -1.96827100e-02\n",
      " -3.06098804e-02  1.13523954e-02 -3.18856661e-02  3.28485979e-03\n",
      " -2.61098246e-02  5.02761503e-02  1.95430325e-02 -2.11639217e-02\n",
      "  1.11936941e-02  1.22667059e-02  2.38241491e-02 -1.50901499e-03\n",
      "  2.05020611e-02 -5.86918590e-03  9.52424640e-03  6.46418346e-04\n",
      " -1.96385022e-02 -1.28099016e-02 -5.11204137e-02  1.53145645e-02\n",
      " -4.96562421e-03 -1.24992020e-02 -3.22209028e-02 -1.05753944e-02\n",
      " -6.66280114e-06 -9.16344139e-03 -9.91075205e-04  4.45905269e-02\n",
      " -3.06444710e-02 -8.35294877e-03  1.45706277e-03 -2.13765282e-03\n",
      "  3.50208138e-03 -1.54497343e-02 -5.20253328e-02]\n",
      "Parameters ordered from most to least important:\n",
      "[[  7  11  25   9  33  15  19  23   5   3  29   1  27  55   6  34  41  13\n",
      "   59  17  30  16  10  48  21  35  73  58  44  93  97  43  53  80  14  65\n",
      "   72 102  68  61 101  46  36  20  40  31  47  28  60  52  83   8  62  54\n",
      "   78  98  89  26  74  50  81  45  77  32  24  96  94  85  91  92 100  79\n",
      "   84  39  69  66   4  18  99  42  82  86  63  38   2  75  37   0  12  76\n",
      "   22  51  64  70  95  56  87  49  71  57  88  67  90]]\n",
      "Creating DAS_Surrogate Object\n",
      "Creating Feature Engineering object\n",
      "Using  450/450 samples to train the ML model\n",
      "===============================\n",
      "Neural net parameters\n",
      "===============================\n",
      "Number of layers = 3\n",
      "Number of features = 103\n",
      "Loss function = squared\n",
      "Number of neurons per hidden layer = 10\n",
      "Number of output neurons = 1\n",
      "Activation = ['linear', 'linear', 'tanh', 'linear']\n",
      "This neural network has 134 weights.\n",
      "===============================\n",
      "===============================\n",
      "Training Deep Active Subspace Neural Network...\n"
     ]
    },
    {
     "name": "stderr",
     "output_type": "stream",
     "text": [
      "  0%|                                                                                                                                                                                | 0/15 [00:00<?, ?it/s]"
     ]
    },
    {
     "name": "stdout",
     "output_type": "stream",
     "text": [
      " loss = 0.8380\n"
     ]
    },
    {
     "name": "stderr",
     "output_type": "stream",
     "text": [
      "100%|██████████████████████████████████████████████████████████████████████████████████████████████████████████████████████████████████████████████████████████████████████| 15/15 [00:00<00:00, 580.18it/s]\n"
     ]
    },
    {
     "name": "stdout",
     "output_type": "stream",
     "text": [
      "Relative training error = 40.7353 %\n",
      "Relative test error = 34.8673 %\n"
     ]
    },
    {
     "name": "stderr",
     "output_type": "stream",
     "text": [
      "100%|██████████████████████████████████████████████████████████████████████████████████████████████████████████████████████████████████████████████████████████████████████| 15/15 [00:00<00:00, 622.09it/s]\n"
     ]
    },
    {
     "name": "stdout",
     "output_type": "stream",
     "text": [
      " loss = 0.6717\n",
      "Relative training error = 33.8220 %\n",
      "Relative test error = 32.6838 %\n"
     ]
    },
    {
     "name": "stderr",
     "output_type": "stream",
     "text": [
      "100%|██████████████████████████████████████████████████████████████████████████████████████████████████████████████████████████████████████████████████████████████████████| 15/15 [00:00<00:00, 812.78it/s]"
     ]
    },
    {
     "name": "stdout",
     "output_type": "stream",
     "text": [
      " loss = 0.3548\n",
      "Relative training error = 28.7394 %\n",
      "Relative test error = 26.6720 %\n"
     ]
    },
    {
     "name": "stderr",
     "output_type": "stream",
     "text": [
      "\n",
      "100%|██████████████████████████████████████████████████████████████████████████████████████████████████████████████████████████████████████████████████████████████████████| 15/15 [00:00<00:00, 690.82it/s]\n"
     ]
    },
    {
     "name": "stdout",
     "output_type": "stream",
     "text": [
      " loss = 0.2532\n",
      "Relative training error = 24.7064 %\n",
      "Relative test error = 24.0592 %\n"
     ]
    },
    {
     "name": "stderr",
     "output_type": "stream",
     "text": [
      "  0%|                                                                                                                                                                                | 0/15 [00:00<?, ?it/s]"
     ]
    },
    {
     "name": "stdout",
     "output_type": "stream",
     "text": [
      " loss = 0.0983\n"
     ]
    },
    {
     "name": "stderr",
     "output_type": "stream",
     "text": [
      "100%|██████████████████████████████████████████████████████████████████████████████████████████████████████████████████████████████████████████████████████████████████████| 15/15 [00:00<00:00, 660.43it/s]\n"
     ]
    },
    {
     "name": "stdout",
     "output_type": "stream",
     "text": [
      "Relative training error = 22.1957 %\n",
      "Relative test error = 22.2165 %\n"
     ]
    },
    {
     "name": "stderr",
     "output_type": "stream",
     "text": [
      "  0%|                                                                                                                                                                                | 0/15 [00:00<?, ?it/s]"
     ]
    },
    {
     "name": "stdout",
     "output_type": "stream",
     "text": [
      " loss = 0.0717\n"
     ]
    },
    {
     "name": "stderr",
     "output_type": "stream",
     "text": [
      "100%|██████████████████████████████████████████████████████████████████████████████████████████████████████████████████████████████████████████████████████████████████████| 15/15 [00:00<00:00, 626.80it/s]\n"
     ]
    },
    {
     "name": "stdout",
     "output_type": "stream",
     "text": [
      "Relative training error = 20.5065 %\n",
      "Relative test error = 19.2426 %\n"
     ]
    },
    {
     "name": "stderr",
     "output_type": "stream",
     "text": [
      "  0%|                                                                                                                                                                                | 0/15 [00:00<?, ?it/s]"
     ]
    },
    {
     "name": "stdout",
     "output_type": "stream",
     "text": [
      " loss = 0.0649\n"
     ]
    },
    {
     "name": "stderr",
     "output_type": "stream",
     "text": [
      "100%|██████████████████████████████████████████████████████████████████████████████████████████████████████████████████████████████████████████████████████████████████████| 15/15 [00:00<00:00, 799.17it/s]\n"
     ]
    },
    {
     "name": "stdout",
     "output_type": "stream",
     "text": [
      "Relative training error = 18.4452 %\n",
      "Relative test error = 17.8517 %\n"
     ]
    },
    {
     "name": "stderr",
     "output_type": "stream",
     "text": [
      "  0%|                                                                                                                                                                                | 0/15 [00:00<?, ?it/s]"
     ]
    },
    {
     "name": "stdout",
     "output_type": "stream",
     "text": [
      " loss = 0.2312\n"
     ]
    },
    {
     "name": "stderr",
     "output_type": "stream",
     "text": [
      "100%|██████████████████████████████████████████████████████████████████████████████████████████████████████████████████████████████████████████████████████████████████████| 15/15 [00:00<00:00, 755.84it/s]\n"
     ]
    },
    {
     "name": "stdout",
     "output_type": "stream",
     "text": [
      "Relative training error = 17.2666 %\n",
      "Relative test error = 15.9640 %\n"
     ]
    },
    {
     "name": "stderr",
     "output_type": "stream",
     "text": [
      "  0%|                                                                                                                                                                                | 0/15 [00:00<?, ?it/s]"
     ]
    },
    {
     "name": "stdout",
     "output_type": "stream",
     "text": [
      " loss = 0.1096\n"
     ]
    },
    {
     "name": "stderr",
     "output_type": "stream",
     "text": [
      "100%|██████████████████████████████████████████████████████████████████████████████████████████████████████████████████████████████████████████████████████████████████████| 15/15 [00:00<00:00, 757.85it/s]\n"
     ]
    },
    {
     "name": "stdout",
     "output_type": "stream",
     "text": [
      "Relative training error = 16.3508 %\n",
      "Relative test error = 15.3560 %\n"
     ]
    },
    {
     "name": "stderr",
     "output_type": "stream",
     "text": [
      "  0%|                                                                                                                                                                                | 0/15 [00:00<?, ?it/s]"
     ]
    },
    {
     "name": "stdout",
     "output_type": "stream",
     "text": [
      " loss = 0.2611\n"
     ]
    },
    {
     "name": "stderr",
     "output_type": "stream",
     "text": [
      "100%|██████████████████████████████████████████████████████████████████████████████████████████████████████████████████████████████████████████████████████████████████████| 15/15 [00:00<00:00, 665.95it/s]\n"
     ]
    },
    {
     "name": "stdout",
     "output_type": "stream",
     "text": [
      "Relative training error = 15.6455 %\n",
      "Relative test error = 16.3232 %\n"
     ]
    },
    {
     "name": "stderr",
     "output_type": "stream",
     "text": [
      "  0%|                                                                                                                                                                                | 0/15 [00:00<?, ?it/s]"
     ]
    },
    {
     "name": "stdout",
     "output_type": "stream",
     "text": [
      " loss = 0.0614\n"
     ]
    },
    {
     "name": "stderr",
     "output_type": "stream",
     "text": [
      "100%|██████████████████████████████████████████████████████████████████████████████████████████████████████████████████████████████████████████████████████████████████████| 15/15 [00:00<00:00, 597.49it/s]\n"
     ]
    },
    {
     "name": "stdout",
     "output_type": "stream",
     "text": [
      "Relative training error = 14.9692 %\n",
      "Relative test error = 15.7400 %\n"
     ]
    },
    {
     "name": "stderr",
     "output_type": "stream",
     "text": [
      "  0%|                                                                                                                                                                                | 0/15 [00:00<?, ?it/s]"
     ]
    },
    {
     "name": "stdout",
     "output_type": "stream",
     "text": [
      " loss = 0.1876\n"
     ]
    },
    {
     "name": "stderr",
     "output_type": "stream",
     "text": [
      "100%|██████████████████████████████████████████████████████████████████████████████████████████████████████████████████████████████████████████████████████████████████████| 15/15 [00:00<00:00, 720.19it/s]\n"
     ]
    },
    {
     "name": "stdout",
     "output_type": "stream",
     "text": [
      "Relative training error = 14.4381 %\n",
      "Relative test error = 15.6525 %\n"
     ]
    },
    {
     "name": "stderr",
     "output_type": "stream",
     "text": [
      "  0%|                                                                                                                                                                                | 0/15 [00:00<?, ?it/s]"
     ]
    },
    {
     "name": "stdout",
     "output_type": "stream",
     "text": [
      " loss = 0.2550\n"
     ]
    },
    {
     "name": "stderr",
     "output_type": "stream",
     "text": [
      "100%|██████████████████████████████████████████████████████████████████████████████████████████████████████████████████████████████████████████████████████████████████████| 15/15 [00:00<00:00, 674.67it/s]\n"
     ]
    },
    {
     "name": "stdout",
     "output_type": "stream",
     "text": [
      "Relative training error = 13.9468 %\n",
      "Relative test error = 14.5171 %\n"
     ]
    },
    {
     "name": "stderr",
     "output_type": "stream",
     "text": [
      "  0%|                                                                                                                                                                                | 0/15 [00:00<?, ?it/s]"
     ]
    },
    {
     "name": "stdout",
     "output_type": "stream",
     "text": [
      " loss = 0.0783\n"
     ]
    },
    {
     "name": "stderr",
     "output_type": "stream",
     "text": [
      "100%|██████████████████████████████████████████████████████████████████████████████████████████████████████████████████████████████████████████████████████████████████████| 15/15 [00:00<00:00, 747.80it/s]\n"
     ]
    },
    {
     "name": "stdout",
     "output_type": "stream",
     "text": [
      "Relative training error = 13.5872 %\n",
      "Relative test error = 13.9022 %\n"
     ]
    },
    {
     "name": "stderr",
     "output_type": "stream",
     "text": [
      "  0%|                                                                                                                                                                                | 0/15 [00:00<?, ?it/s]"
     ]
    },
    {
     "name": "stdout",
     "output_type": "stream",
     "text": [
      " loss = 0.0575\n"
     ]
    },
    {
     "name": "stderr",
     "output_type": "stream",
     "text": [
      "100%|██████████████████████████████████████████████████████████████████████████████████████████████████████████████████████████████████████████████████████████████████████| 15/15 [00:00<00:00, 701.53it/s]\n"
     ]
    },
    {
     "name": "stdout",
     "output_type": "stream",
     "text": [
      "Relative training error = 13.4702 %\n",
      "Relative test error = 13.4466 %\n"
     ]
    },
    {
     "name": "stderr",
     "output_type": "stream",
     "text": [
      "  0%|                                                                                                                                                                                | 0/15 [00:00<?, ?it/s]"
     ]
    },
    {
     "name": "stdout",
     "output_type": "stream",
     "text": [
      " loss = 0.1311\n"
     ]
    },
    {
     "name": "stderr",
     "output_type": "stream",
     "text": [
      "100%|██████████████████████████████████████████████████████████████████████████████████████████████████████████████████████████████████████████████████████████████████████| 15/15 [00:00<00:00, 710.82it/s]\n"
     ]
    },
    {
     "name": "stdout",
     "output_type": "stream",
     "text": [
      "Relative training error = 13.0097 %\n",
      "Relative test error = 14.0119 %\n"
     ]
    },
    {
     "name": "stderr",
     "output_type": "stream",
     "text": [
      "  0%|                                                                                                                                                                                | 0/15 [00:00<?, ?it/s]"
     ]
    },
    {
     "name": "stdout",
     "output_type": "stream",
     "text": [
      " loss = 0.0304\n"
     ]
    },
    {
     "name": "stderr",
     "output_type": "stream",
     "text": [
      "100%|██████████████████████████████████████████████████████████████████████████████████████████████████████████████████████████████████████████████████████████████████████| 15/15 [00:00<00:00, 705.75it/s]\n"
     ]
    },
    {
     "name": "stdout",
     "output_type": "stream",
     "text": [
      "Relative training error = 12.7302 %\n",
      "Relative test error = 14.0076 %\n"
     ]
    },
    {
     "name": "stderr",
     "output_type": "stream",
     "text": [
      "  0%|                                                                                                                                                                                | 0/15 [00:00<?, ?it/s]"
     ]
    },
    {
     "name": "stdout",
     "output_type": "stream",
     "text": [
      " loss = 0.1098\n"
     ]
    },
    {
     "name": "stderr",
     "output_type": "stream",
     "text": [
      "100%|██████████████████████████████████████████████████████████████████████████████████████████████████████████████████████████████████████████████████████████████████████| 15/15 [00:00<00:00, 602.11it/s]\n"
     ]
    },
    {
     "name": "stdout",
     "output_type": "stream",
     "text": [
      "Relative training error = 12.4802 %\n",
      "Relative test error = 13.8037 %\n"
     ]
    },
    {
     "name": "stderr",
     "output_type": "stream",
     "text": [
      "100%|██████████████████████████████████████████████████████████████████████████████████████████████████████████████████████████████████████████████████████████████████████| 15/15 [00:00<00:00, 738.89it/s]\n"
     ]
    },
    {
     "name": "stdout",
     "output_type": "stream",
     "text": [
      " loss = 0.0342\n",
      "Relative training error = 12.2580 %\n",
      "Relative test error = 13.7659 %\n"
     ]
    },
    {
     "name": "stderr",
     "output_type": "stream",
     "text": [
      "100%|██████████████████████████████████████████████████████████████████████████████████████████████████████████████████████████████████████████████████████████████████████| 15/15 [00:00<00:00, 742.82it/s]"
     ]
    },
    {
     "name": "stdout",
     "output_type": "stream",
     "text": [
      " loss = 0.0333\n"
     ]
    },
    {
     "name": "stderr",
     "output_type": "stream",
     "text": [
      "\n"
     ]
    },
    {
     "name": "stdout",
     "output_type": "stream",
     "text": [
      "Relative training error = 12.0117 %\n",
      "Relative test error = 13.9595 %\n"
     ]
    },
    {
     "name": "stderr",
     "output_type": "stream",
     "text": [
      "100%|██████████████████████████████████████████████████████████████████████████████████████████████████████████████████████████████████████████████████████████████████████| 15/15 [00:00<00:00, 733.17it/s]\n"
     ]
    },
    {
     "name": "stdout",
     "output_type": "stream",
     "text": [
      " loss = 0.0294\n",
      "Relative training error = 11.9195 %\n",
      "Relative test error = 13.3153 %\n"
     ]
    },
    {
     "name": "stderr",
     "output_type": "stream",
     "text": [
      "  0%|                                                                                                                                                                                | 0/15 [00:00<?, ?it/s]"
     ]
    },
    {
     "name": "stdout",
     "output_type": "stream",
     "text": [
      " loss = 0.0511\n"
     ]
    },
    {
     "name": "stderr",
     "output_type": "stream",
     "text": [
      "100%|██████████████████████████████████████████████████████████████████████████████████████████████████████████████████████████████████████████████████████████████████████| 15/15 [00:00<00:00, 680.27it/s]\n"
     ]
    },
    {
     "name": "stdout",
     "output_type": "stream",
     "text": [
      "Relative training error = 11.7657 %\n",
      "Relative test error = 12.9779 %\n"
     ]
    },
    {
     "name": "stderr",
     "output_type": "stream",
     "text": [
      "  0%|                                                                                                                                                                                | 0/15 [00:00<?, ?it/s]"
     ]
    },
    {
     "name": "stdout",
     "output_type": "stream",
     "text": [
      " loss = 0.0292\n"
     ]
    },
    {
     "name": "stderr",
     "output_type": "stream",
     "text": [
      "100%|██████████████████████████████████████████████████████████████████████████████████████████████████████████████████████████████████████████████████████████████████████| 15/15 [00:00<00:00, 710.14it/s]\n"
     ]
    },
    {
     "name": "stdout",
     "output_type": "stream",
     "text": [
      "Relative training error = 11.6172 %\n",
      "Relative test error = 13.6928 %\n"
     ]
    },
    {
     "name": "stderr",
     "output_type": "stream",
     "text": [
      "  0%|                                                                                                                                                                                | 0/15 [00:00<?, ?it/s]"
     ]
    },
    {
     "name": "stdout",
     "output_type": "stream",
     "text": [
      " loss = 0.1177\n"
     ]
    },
    {
     "name": "stderr",
     "output_type": "stream",
     "text": [
      "100%|██████████████████████████████████████████████████████████████████████████████████████████████████████████████████████████████████████████████████████████████████████| 15/15 [00:00<00:00, 747.84it/s]\n"
     ]
    },
    {
     "name": "stdout",
     "output_type": "stream",
     "text": [
      "Relative training error = 11.4703 %\n",
      "Relative test error = 13.6949 %\n"
     ]
    },
    {
     "name": "stderr",
     "output_type": "stream",
     "text": [
      "  0%|                                                                                                                                                                                | 0/15 [00:00<?, ?it/s]"
     ]
    },
    {
     "name": "stdout",
     "output_type": "stream",
     "text": [
      " loss = 0.0342\n"
     ]
    },
    {
     "name": "stderr",
     "output_type": "stream",
     "text": [
      "100%|██████████████████████████████████████████████████████████████████████████████████████████████████████████████████████████████████████████████████████████████████████| 15/15 [00:00<00:00, 750.39it/s]\n"
     ]
    },
    {
     "name": "stdout",
     "output_type": "stream",
     "text": [
      "Relative training error = 11.3042 %\n",
      "Relative test error = 14.5436 %\n"
     ]
    },
    {
     "name": "stderr",
     "output_type": "stream",
     "text": [
      "  0%|                                                                                                                                                                                | 0/15 [00:00<?, ?it/s]"
     ]
    },
    {
     "name": "stdout",
     "output_type": "stream",
     "text": [
      " loss = 0.0443\n"
     ]
    },
    {
     "name": "stderr",
     "output_type": "stream",
     "text": [
      "100%|██████████████████████████████████████████████████████████████████████████████████████████████████████████████████████████████████████████████████████████████████████| 15/15 [00:00<00:00, 694.84it/s]\n"
     ]
    },
    {
     "name": "stdout",
     "output_type": "stream",
     "text": [
      "Relative training error = 11.1929 %\n",
      "Relative test error = 14.0567 %\n",
      "Creating DAS_analysis object\n",
      "[-3.33904898e-02 -2.75592482e-04  6.75529046e-03  2.95434237e-02\n",
      " -3.40290729e-03  3.08737117e-02  1.01209520e-03 -4.80988323e-03\n",
      " -1.07648473e-02 -1.92345385e-03 -1.05707726e-02  1.32764589e-02\n",
      " -1.88479366e-04 -7.78112981e-03 -2.20797094e-02  1.91612666e-02\n",
      " -3.81322690e-02 -1.43958990e-02 -3.55501232e-03  5.87829705e-02\n",
      " -3.15450202e-02 -2.07752352e-02 -7.18415924e-03  3.33695040e-03\n",
      "  1.36140605e-02 -9.36144500e-04  2.43579140e-02 -3.12722198e-04\n",
      "  2.60047425e-02 -2.81825681e-03 -1.10942119e-02  5.04249430e-02\n",
      "  9.36378451e-03  1.44538531e-02 -1.95601641e-02  4.95149215e-02\n",
      "  2.97072515e-02 -3.72920018e-02 -5.25101326e-02  1.36140962e-02\n",
      " -3.78842837e-03 -2.36315610e-02  3.08886513e-03  9.94606874e-03\n",
      " -2.73260217e-02  5.52111629e-05 -5.57936320e-03 -2.81570151e-02\n",
      " -5.36236275e-02 -2.78460035e-02 -2.79262929e-02  1.98481853e-02\n",
      " -2.02375243e-02  7.09350627e-03 -1.80310190e-02  1.10893024e-02\n",
      "  1.38355662e-02  1.55181759e-02  7.77773490e-03  4.02404911e-02\n",
      " -3.26803716e-02 -3.26558853e-02  2.74570357e-02 -2.43002378e-02\n",
      "  1.28519502e-02 -7.79996707e-03  4.21526790e-03 -1.96827100e-02\n",
      " -3.06098804e-02  1.13523954e-02 -3.18856661e-02  3.28485979e-03\n",
      " -2.61098246e-02  5.02761503e-02  1.95430325e-02 -2.11639217e-02\n",
      "  1.11936941e-02  1.22667059e-02  2.38241491e-02 -1.50901499e-03\n",
      "  2.05020611e-02 -5.86918590e-03  9.52424640e-03  6.46418346e-04\n",
      " -1.96385022e-02 -1.28099016e-02 -5.11204137e-02  1.53145645e-02\n",
      " -4.96562421e-03 -1.24992020e-02 -3.22209028e-02 -1.05753944e-02\n",
      " -6.66280114e-06 -9.16344139e-03 -9.91075205e-04  4.45905269e-02\n",
      " -3.06444710e-02 -8.35294877e-03  1.45706277e-03 -2.13765282e-03\n",
      "  3.50208138e-03 -1.54497343e-02 -5.20253328e-02]\n",
      "Parameters ordered from most to least important:\n",
      "[[  7  11  25   9  33  15  19   5   3  23  29   1  27  59  41  17  21  55\n",
      "    6  43  83  65  13  34  30  16   8  61  10 100  28  80  14  47  46  35\n",
      "   73  68  36  58  53  40  31  72  48  62  52  93  87   2  95  60  90 102\n",
      "   45  97  50  22  44  70  75  98  54  78  24  37  12 101  99  88  32  86\n",
      "   74  84  81  76  57  82  49  79  92  64  94  51  39  71   4  91  69  77\n",
      "   20  18  63  66  38  67  89   0  42  85  96  26  56]]\n",
      "Creating DAS_Surrogate Object\n",
      "Creating Feature Engineering object\n",
      "Using  450/450 samples to train the ML model\n",
      "===============================\n",
      "Neural net parameters\n",
      "===============================\n",
      "Number of layers = 3\n",
      "Number of features = 103\n",
      "Loss function = squared\n",
      "Number of neurons per hidden layer = 10\n",
      "Number of output neurons = 1\n",
      "Activation = ['linear', 'linear', 'tanh', 'linear']\n",
      "This neural network has 134 weights.\n",
      "===============================\n",
      "===============================\n",
      "Training Deep Active Subspace Neural Network...\n"
     ]
    },
    {
     "name": "stderr",
     "output_type": "stream",
     "text": [
      "100%|██████████████████████████████████████████████████████████████████████████████████████████████████████████████████████████████████████████████████████████████████████| 15/15 [00:00<00:00, 742.99it/s]\n"
     ]
    },
    {
     "name": "stdout",
     "output_type": "stream",
     "text": [
      " loss = 1.2713\n",
      "Relative training error = 45.7754 %\n",
      "Relative test error = 33.7516 %\n"
     ]
    },
    {
     "name": "stderr",
     "output_type": "stream",
     "text": [
      "100%|██████████████████████████████████████████████████████████████████████████████████████████████████████████████████████████████████████████████████████████████████████| 15/15 [00:00<00:00, 617.77it/s]"
     ]
    },
    {
     "name": "stdout",
     "output_type": "stream",
     "text": [
      " loss = 1.0540\n",
      "Relative training error = 41.6180 %\n",
      "Relative test error = 32.8878 %\n"
     ]
    },
    {
     "name": "stderr",
     "output_type": "stream",
     "text": [
      "\n",
      "100%|██████████████████████████████████████████████████████████████████████████████████████████████████████████████████████████████████████████████████████████████████████| 15/15 [00:00<00:00, 799.66it/s]\n"
     ]
    },
    {
     "name": "stdout",
     "output_type": "stream",
     "text": [
      " loss = 0.7970\n",
      "Relative training error = 39.2102 %\n",
      "Relative test error = 29.8246 %\n"
     ]
    },
    {
     "name": "stderr",
     "output_type": "stream",
     "text": [
      "100%|██████████████████████████████████████████████████████████████████████████████████████████████████████████████████████████████████████████████████████████████████████| 15/15 [00:00<00:00, 793.16it/s]\n"
     ]
    },
    {
     "name": "stdout",
     "output_type": "stream",
     "text": [
      " loss = 1.0073\n",
      "Relative training error = 36.5446 %\n",
      "Relative test error = 27.9975 %\n"
     ]
    },
    {
     "name": "stderr",
     "output_type": "stream",
     "text": [
      "100%|██████████████████████████████████████████████████████████████████████████████████████████████████████████████████████████████████████████████████████████████████████| 15/15 [00:00<00:00, 774.55it/s]\n"
     ]
    },
    {
     "name": "stdout",
     "output_type": "stream",
     "text": [
      " loss = 0.8707\n",
      "Relative training error = 33.2311 %\n",
      "Relative test error = 26.9444 %\n"
     ]
    },
    {
     "name": "stderr",
     "output_type": "stream",
     "text": [
      "100%|██████████████████████████████████████████████████████████████████████████████████████████████████████████████████████████████████████████████████████████████████████| 15/15 [00:00<00:00, 764.62it/s]\n"
     ]
    },
    {
     "name": "stdout",
     "output_type": "stream",
     "text": [
      " loss = 0.3456\n",
      "Relative training error = 30.4589 %\n",
      "Relative test error = 25.4016 %\n"
     ]
    },
    {
     "name": "stderr",
     "output_type": "stream",
     "text": [
      "100%|██████████████████████████████████████████████████████████████████████████████████████████████████████████████████████████████████████████████████████████████████████| 15/15 [00:00<00:00, 638.28it/s]\n"
     ]
    },
    {
     "name": "stdout",
     "output_type": "stream",
     "text": [
      " loss = 0.3991\n",
      "Relative training error = 27.5708 %\n",
      "Relative test error = 24.3223 %\n"
     ]
    },
    {
     "name": "stderr",
     "output_type": "stream",
     "text": [
      "100%|██████████████████████████████████████████████████████████████████████████████████████████████████████████████████████████████████████████████████████████████████████| 15/15 [00:00<00:00, 759.63it/s]\n"
     ]
    },
    {
     "name": "stdout",
     "output_type": "stream",
     "text": [
      " loss = 0.4386\n",
      "Relative training error = 24.8140 %\n",
      "Relative test error = 23.1778 %\n"
     ]
    },
    {
     "name": "stderr",
     "output_type": "stream",
     "text": [
      "100%|██████████████████████████████████████████████████████████████████████████████████████████████████████████████████████████████████████████████████████████████████████| 15/15 [00:00<00:00, 760.42it/s]\n"
     ]
    },
    {
     "name": "stdout",
     "output_type": "stream",
     "text": [
      " loss = 0.2018\n",
      "Relative training error = 22.7812 %\n",
      "Relative test error = 22.4871 %\n"
     ]
    },
    {
     "name": "stderr",
     "output_type": "stream",
     "text": [
      "  0%|                                                                                                                                                                                | 0/15 [00:00<?, ?it/s]"
     ]
    },
    {
     "name": "stdout",
     "output_type": "stream",
     "text": [
      " loss = 0.1422\n"
     ]
    },
    {
     "name": "stderr",
     "output_type": "stream",
     "text": [
      "100%|██████████████████████████████████████████████████████████████████████████████████████████████████████████████████████████████████████████████████████████████████████| 15/15 [00:00<00:00, 719.53it/s]\n"
     ]
    },
    {
     "name": "stdout",
     "output_type": "stream",
     "text": [
      "Relative training error = 21.1608 %\n",
      "Relative test error = 22.1980 %\n"
     ]
    },
    {
     "name": "stderr",
     "output_type": "stream",
     "text": [
      "  0%|                                                                                                                                                                                | 0/15 [00:00<?, ?it/s]"
     ]
    },
    {
     "name": "stdout",
     "output_type": "stream",
     "text": [
      " loss = 0.2551\n"
     ]
    },
    {
     "name": "stderr",
     "output_type": "stream",
     "text": [
      "100%|██████████████████████████████████████████████████████████████████████████████████████████████████████████████████████████████████████████████████████████████████████| 15/15 [00:00<00:00, 740.95it/s]\n"
     ]
    },
    {
     "name": "stdout",
     "output_type": "stream",
     "text": [
      "Relative training error = 19.7985 %\n",
      "Relative test error = 21.3563 %\n"
     ]
    },
    {
     "name": "stderr",
     "output_type": "stream",
     "text": [
      "  0%|                                                                                                                                                                                | 0/15 [00:00<?, ?it/s]"
     ]
    },
    {
     "name": "stdout",
     "output_type": "stream",
     "text": [
      " loss = 0.1099\n"
     ]
    },
    {
     "name": "stderr",
     "output_type": "stream",
     "text": [
      "100%|██████████████████████████████████████████████████████████████████████████████████████████████████████████████████████████████████████████████████████████████████████| 15/15 [00:00<00:00, 714.26it/s]\n"
     ]
    },
    {
     "name": "stdout",
     "output_type": "stream",
     "text": [
      "Relative training error = 18.6676 %\n",
      "Relative test error = 20.2527 %\n"
     ]
    },
    {
     "name": "stderr",
     "output_type": "stream",
     "text": [
      "100%|██████████████████████████████████████████████████████████████████████████████████████████████████████████████████████████████████████████████████████████████████████| 15/15 [00:00<00:00, 791.08it/s]\n"
     ]
    },
    {
     "name": "stdout",
     "output_type": "stream",
     "text": [
      " loss = 0.1050\n",
      "Relative training error = 17.8338 %\n",
      "Relative test error = 18.7286 %\n"
     ]
    },
    {
     "name": "stderr",
     "output_type": "stream",
     "text": [
      "100%|██████████████████████████████████████████████████████████████████████████████████████████████████████████████████████████████████████████████████████████████████████| 15/15 [00:00<00:00, 768.08it/s]"
     ]
    },
    {
     "name": "stdout",
     "output_type": "stream",
     "text": [
      " loss = 0.2859\n",
      "Relative training error = 17.0842 %\n"
     ]
    },
    {
     "name": "stderr",
     "output_type": "stream",
     "text": [
      "\n"
     ]
    },
    {
     "name": "stdout",
     "output_type": "stream",
     "text": [
      "Relative test error = 17.9537 %\n"
     ]
    },
    {
     "name": "stderr",
     "output_type": "stream",
     "text": [
      "100%|██████████████████████████████████████████████████████████████████████████████████████████████████████████████████████████████████████████████████████████████████████| 15/15 [00:00<00:00, 802.64it/s]\n"
     ]
    },
    {
     "name": "stdout",
     "output_type": "stream",
     "text": [
      " loss = 0.2004\n",
      "Relative training error = 16.4569 %\n",
      "Relative test error = 17.2233 %\n"
     ]
    },
    {
     "name": "stderr",
     "output_type": "stream",
     "text": [
      "  0%|                                                                                                                                                                                | 0/15 [00:00<?, ?it/s]"
     ]
    },
    {
     "name": "stdout",
     "output_type": "stream",
     "text": [
      " loss = 0.2060\n"
     ]
    },
    {
     "name": "stderr",
     "output_type": "stream",
     "text": [
      "100%|██████████████████████████████████████████████████████████████████████████████████████████████████████████████████████████████████████████████████████████████████████| 15/15 [00:00<00:00, 679.41it/s]\n"
     ]
    },
    {
     "name": "stdout",
     "output_type": "stream",
     "text": [
      "Relative training error = 15.9712 %\n",
      "Relative test error = 17.0747 %\n"
     ]
    },
    {
     "name": "stderr",
     "output_type": "stream",
     "text": [
      "  0%|                                                                                                                                                                                | 0/15 [00:00<?, ?it/s]"
     ]
    },
    {
     "name": "stdout",
     "output_type": "stream",
     "text": [
      " loss = 0.0554\n"
     ]
    },
    {
     "name": "stderr",
     "output_type": "stream",
     "text": [
      "100%|██████████████████████████████████████████████████████████████████████████████████████████████████████████████████████████████████████████████████████████████████████| 15/15 [00:00<00:00, 624.29it/s]\n"
     ]
    },
    {
     "name": "stdout",
     "output_type": "stream",
     "text": [
      "Relative training error = 15.6035 %\n",
      "Relative test error = 16.9656 %\n"
     ]
    },
    {
     "name": "stderr",
     "output_type": "stream",
     "text": [
      "  0%|                                                                                                                                                                                | 0/15 [00:00<?, ?it/s]"
     ]
    },
    {
     "name": "stdout",
     "output_type": "stream",
     "text": [
      " loss = 0.1683\n"
     ]
    },
    {
     "name": "stderr",
     "output_type": "stream",
     "text": [
      "100%|██████████████████████████████████████████████████████████████████████████████████████████████████████████████████████████████████████████████████████████████████████| 15/15 [00:00<00:00, 750.70it/s]\n"
     ]
    },
    {
     "name": "stdout",
     "output_type": "stream",
     "text": [
      "Relative training error = 15.2576 %\n",
      "Relative test error = 16.6769 %\n"
     ]
    },
    {
     "name": "stderr",
     "output_type": "stream",
     "text": [
      "  0%|                                                                                                                                                                                | 0/15 [00:00<?, ?it/s]"
     ]
    },
    {
     "name": "stdout",
     "output_type": "stream",
     "text": [
      " loss = 0.1559\n"
     ]
    },
    {
     "name": "stderr",
     "output_type": "stream",
     "text": [
      "100%|██████████████████████████████████████████████████████████████████████████████████████████████████████████████████████████████████████████████████████████████████████| 15/15 [00:00<00:00, 642.17it/s]\n"
     ]
    },
    {
     "name": "stdout",
     "output_type": "stream",
     "text": [
      "Relative training error = 14.9751 %\n",
      "Relative test error = 16.6242 %\n"
     ]
    },
    {
     "name": "stderr",
     "output_type": "stream",
     "text": [
      "  0%|                                                                                                                                                                                | 0/15 [00:00<?, ?it/s]"
     ]
    },
    {
     "name": "stdout",
     "output_type": "stream",
     "text": [
      " loss = 0.0666\n"
     ]
    },
    {
     "name": "stderr",
     "output_type": "stream",
     "text": [
      "100%|██████████████████████████████████████████████████████████████████████████████████████████████████████████████████████████████████████████████████████████████████████| 15/15 [00:00<00:00, 671.63it/s]\n"
     ]
    },
    {
     "name": "stdout",
     "output_type": "stream",
     "text": [
      "Relative training error = 14.6662 %\n",
      "Relative test error = 16.1046 %\n"
     ]
    },
    {
     "name": "stderr",
     "output_type": "stream",
     "text": [
      "  0%|                                                                                                                                                                                | 0/15 [00:00<?, ?it/s]"
     ]
    },
    {
     "name": "stdout",
     "output_type": "stream",
     "text": [
      " loss = 0.3522\n"
     ]
    },
    {
     "name": "stderr",
     "output_type": "stream",
     "text": [
      "100%|██████████████████████████████████████████████████████████████████████████████████████████████████████████████████████████████████████████████████████████████████████| 15/15 [00:00<00:00, 765.75it/s]\n"
     ]
    },
    {
     "name": "stdout",
     "output_type": "stream",
     "text": [
      "Relative training error = 14.3685 %\n",
      "Relative test error = 15.7489 %\n"
     ]
    },
    {
     "name": "stderr",
     "output_type": "stream",
     "text": [
      "  0%|                                                                                                                                                                                | 0/15 [00:00<?, ?it/s]"
     ]
    },
    {
     "name": "stdout",
     "output_type": "stream",
     "text": [
      " loss = 0.0618\n"
     ]
    },
    {
     "name": "stderr",
     "output_type": "stream",
     "text": [
      "100%|██████████████████████████████████████████████████████████████████████████████████████████████████████████████████████████████████████████████████████████████████████| 15/15 [00:00<00:00, 736.35it/s]\n"
     ]
    },
    {
     "name": "stdout",
     "output_type": "stream",
     "text": [
      "Relative training error = 14.2078 %\n",
      "Relative test error = 14.9576 %\n"
     ]
    },
    {
     "name": "stderr",
     "output_type": "stream",
     "text": [
      "  0%|                                                                                                                                                                                | 0/15 [00:00<?, ?it/s]"
     ]
    },
    {
     "name": "stdout",
     "output_type": "stream",
     "text": [
      " loss = 0.2310\n"
     ]
    },
    {
     "name": "stderr",
     "output_type": "stream",
     "text": [
      "100%|██████████████████████████████████████████████████████████████████████████████████████████████████████████████████████████████████████████████████████████████████████| 15/15 [00:00<00:00, 678.09it/s]\n"
     ]
    },
    {
     "name": "stdout",
     "output_type": "stream",
     "text": [
      "Relative training error = 13.9316 %\n",
      "Relative test error = 15.2910 %\n"
     ]
    },
    {
     "name": "stderr",
     "output_type": "stream",
     "text": [
      "  0%|                                                                                                                                                                                | 0/15 [00:00<?, ?it/s]"
     ]
    },
    {
     "name": "stdout",
     "output_type": "stream",
     "text": [
      " loss = 0.1576\n"
     ]
    },
    {
     "name": "stderr",
     "output_type": "stream",
     "text": [
      "100%|██████████████████████████████████████████████████████████████████████████████████████████████████████████████████████████████████████████████████████████████████████| 15/15 [00:00<00:00, 671.24it/s]\n"
     ]
    },
    {
     "name": "stdout",
     "output_type": "stream",
     "text": [
      "Relative training error = 13.7506 %\n",
      "Relative test error = 15.7075 %\n"
     ]
    },
    {
     "name": "stderr",
     "output_type": "stream",
     "text": [
      "  0%|                                                                                                                                                                                | 0/15 [00:00<?, ?it/s]"
     ]
    },
    {
     "name": "stdout",
     "output_type": "stream",
     "text": [
      " loss = 0.0842\n"
     ]
    },
    {
     "name": "stderr",
     "output_type": "stream",
     "text": [
      "100%|██████████████████████████████████████████████████████████████████████████████████████████████████████████████████████████████████████████████████████████████████████| 15/15 [00:00<00:00, 763.80it/s]\n"
     ]
    },
    {
     "name": "stdout",
     "output_type": "stream",
     "text": [
      "Relative training error = 13.5218 %\n",
      "Relative test error = 15.6238 %\n"
     ]
    },
    {
     "name": "stderr",
     "output_type": "stream",
     "text": [
      "  0%|                                                                                                                                                                                | 0/15 [00:00<?, ?it/s]"
     ]
    },
    {
     "name": "stdout",
     "output_type": "stream",
     "text": [
      " loss = 0.1473\n"
     ]
    },
    {
     "name": "stderr",
     "output_type": "stream",
     "text": [
      "100%|██████████████████████████████████████████████████████████████████████████████████████████████████████████████████████████████████████████████████████████████████████| 15/15 [00:00<00:00, 658.69it/s]\n"
     ]
    },
    {
     "name": "stdout",
     "output_type": "stream",
     "text": [
      "Relative training error = 13.2959 %\n",
      "Relative test error = 15.6355 %\n",
      "Creating DAS_analysis object\n",
      "[-3.33904898e-02 -2.75592482e-04  6.75529046e-03  2.95434237e-02\n",
      " -3.40290729e-03  3.08737117e-02  1.01209520e-03 -4.80988323e-03\n",
      " -1.07648473e-02 -1.92345385e-03 -1.05707726e-02  1.32764589e-02\n",
      " -1.88479366e-04 -7.78112981e-03 -2.20797094e-02  1.91612666e-02\n",
      " -3.81322690e-02 -1.43958990e-02 -3.55501232e-03  5.87829705e-02\n",
      " -3.15450202e-02 -2.07752352e-02 -7.18415924e-03  3.33695040e-03\n",
      "  1.36140605e-02 -9.36144500e-04  2.43579140e-02 -3.12722198e-04\n",
      "  2.60047425e-02 -2.81825681e-03 -1.10942119e-02  5.04249430e-02\n",
      "  9.36378451e-03  1.44538531e-02 -1.95601641e-02  4.95149215e-02\n",
      "  2.97072515e-02 -3.72920018e-02 -5.25101326e-02  1.36140962e-02\n",
      " -3.78842837e-03 -2.36315610e-02  3.08886513e-03  9.94606874e-03\n",
      " -2.73260217e-02  5.52111629e-05 -5.57936320e-03 -2.81570151e-02\n",
      " -5.36236275e-02 -2.78460035e-02 -2.79262929e-02  1.98481853e-02\n",
      " -2.02375243e-02  7.09350627e-03 -1.80310190e-02  1.10893024e-02\n",
      "  1.38355662e-02  1.55181759e-02  7.77773490e-03  4.02404911e-02\n",
      " -3.26803716e-02 -3.26558853e-02  2.74570357e-02 -2.43002378e-02\n",
      "  1.28519502e-02 -7.79996707e-03  4.21526790e-03 -1.96827100e-02\n",
      " -3.06098804e-02  1.13523954e-02 -3.18856661e-02  3.28485979e-03\n",
      " -2.61098246e-02  5.02761503e-02  1.95430325e-02 -2.11639217e-02\n",
      "  1.11936941e-02  1.22667059e-02  2.38241491e-02 -1.50901499e-03\n",
      "  2.05020611e-02 -5.86918590e-03  9.52424640e-03  6.46418346e-04\n",
      " -1.96385022e-02 -1.28099016e-02 -5.11204137e-02  1.53145645e-02\n",
      " -4.96562421e-03 -1.24992020e-02 -3.22209028e-02 -1.05753944e-02\n",
      " -6.66280114e-06 -9.16344139e-03 -9.91075205e-04  4.45905269e-02\n",
      " -3.06444710e-02 -8.35294877e-03  1.45706277e-03 -2.13765282e-03\n",
      "  3.50208138e-03 -1.54497343e-02 -5.20253328e-02]\n",
      "Parameters ordered from most to least important:\n",
      "[[  7  11  25   9  33  15  19  23   5   3  29   1  27  55  17  41  59  10\n",
      "    6  43  21  13  30  34  53  68  58  46  44  72  65  47  61  93  98  14\n",
      "   16  32  83  40   2   8  80  35 102 101  28  96  36  31  24  62  94  97\n",
      "   73  74  76  78  88  45  18  48  54  37  90 100  82  91  20   4  99  70\n",
      "   92  69  86  42  50  67  63  57  77  79  64  66  26  89  52  71  85  38\n",
      "   56  95  84  81   0  39  60  49  12  22  75  51  87]]\n",
      "Creating DAS_Surrogate Object\n",
      "Creating Feature Engineering object\n",
      "Using  450/450 samples to train the ML model\n",
      "===============================\n",
      "Neural net parameters\n",
      "===============================\n",
      "Number of layers = 3\n",
      "Number of features = 103\n",
      "Loss function = squared\n",
      "Number of neurons per hidden layer = 10\n",
      "Number of output neurons = 1\n",
      "Activation = ['linear', 'linear', 'tanh', 'linear']\n",
      "This neural network has 134 weights.\n",
      "===============================\n",
      "===============================\n",
      "Training Deep Active Subspace Neural Network...\n"
     ]
    },
    {
     "name": "stderr",
     "output_type": "stream",
     "text": [
      "100%|██████████████████████████████████████████████████████████████████████████████████████████████████████████████████████████████████████████████████████████████████████| 15/15 [00:00<00:00, 652.06it/s]\n"
     ]
    },
    {
     "name": "stdout",
     "output_type": "stream",
     "text": [
      " loss = 0.9646\n",
      "Relative training error = 45.6501 %\n",
      "Relative test error = 40.4835 %\n"
     ]
    },
    {
     "name": "stderr",
     "output_type": "stream",
     "text": [
      "100%|██████████████████████████████████████████████████████████████████████████████████████████████████████████████████████████████████████████████████████████████████████| 15/15 [00:00<00:00, 732.02it/s]\n"
     ]
    },
    {
     "name": "stdout",
     "output_type": "stream",
     "text": [
      " loss = 0.7022\n",
      "Relative training error = 43.7714 %\n",
      "Relative test error = 35.7339 %\n"
     ]
    },
    {
     "name": "stderr",
     "output_type": "stream",
     "text": [
      "  0%|                                                                                                                                                                                | 0/15 [00:00<?, ?it/s]"
     ]
    },
    {
     "name": "stdout",
     "output_type": "stream",
     "text": [
      " loss = 1.1873\n"
     ]
    },
    {
     "name": "stderr",
     "output_type": "stream",
     "text": [
      "100%|██████████████████████████████████████████████████████████████████████████████████████████████████████████████████████████████████████████████████████████████████████| 15/15 [00:00<00:00, 646.65it/s]\n"
     ]
    },
    {
     "name": "stdout",
     "output_type": "stream",
     "text": [
      "Relative training error = 42.6957 %\n",
      "Relative test error = 34.7008 %\n"
     ]
    },
    {
     "name": "stderr",
     "output_type": "stream",
     "text": [
      "  0%|                                                                                                                                                                                | 0/15 [00:00<?, ?it/s]"
     ]
    },
    {
     "name": "stdout",
     "output_type": "stream",
     "text": [
      " loss = 1.3233\n"
     ]
    },
    {
     "name": "stderr",
     "output_type": "stream",
     "text": [
      "100%|██████████████████████████████████████████████████████████████████████████████████████████████████████████████████████████████████████████████████████████████████████| 15/15 [00:00<00:00, 761.54it/s]\n"
     ]
    },
    {
     "name": "stdout",
     "output_type": "stream",
     "text": [
      "Relative training error = 40.5420 %\n",
      "Relative test error = 35.3396 %\n"
     ]
    },
    {
     "name": "stderr",
     "output_type": "stream",
     "text": [
      "  0%|                                                                                                                                                                                | 0/15 [00:00<?, ?it/s]"
     ]
    },
    {
     "name": "stdout",
     "output_type": "stream",
     "text": [
      " loss = 0.5724\n"
     ]
    },
    {
     "name": "stderr",
     "output_type": "stream",
     "text": [
      "100%|██████████████████████████████████████████████████████████████████████████████████████████████████████████████████████████████████████████████████████████████████████| 15/15 [00:00<00:00, 686.61it/s]\n"
     ]
    },
    {
     "name": "stdout",
     "output_type": "stream",
     "text": [
      "Relative training error = 38.0734 %\n",
      "Relative test error = 32.8629 %\n"
     ]
    },
    {
     "name": "stderr",
     "output_type": "stream",
     "text": [
      "  0%|                                                                                                                                                                                | 0/15 [00:00<?, ?it/s]"
     ]
    },
    {
     "name": "stdout",
     "output_type": "stream",
     "text": [
      " loss = 1.5311\n"
     ]
    },
    {
     "name": "stderr",
     "output_type": "stream",
     "text": [
      "100%|██████████████████████████████████████████████████████████████████████████████████████████████████████████████████████████████████████████████████████████████████████| 15/15 [00:00<00:00, 669.38it/s]\n"
     ]
    },
    {
     "name": "stdout",
     "output_type": "stream",
     "text": [
      "Relative training error = 34.4295 %\n",
      "Relative test error = 32.8584 %\n"
     ]
    },
    {
     "name": "stderr",
     "output_type": "stream",
     "text": [
      "  0%|                                                                                                                                                                                | 0/15 [00:00<?, ?it/s]"
     ]
    },
    {
     "name": "stdout",
     "output_type": "stream",
     "text": [
      " loss = 0.6956\n"
     ]
    },
    {
     "name": "stderr",
     "output_type": "stream",
     "text": [
      "100%|██████████████████████████████████████████████████████████████████████████████████████████████████████████████████████████████████████████████████████████████████████| 15/15 [00:00<00:00, 768.56it/s]\n"
     ]
    },
    {
     "name": "stdout",
     "output_type": "stream",
     "text": [
      "Relative training error = 29.9999 %\n",
      "Relative test error = 29.6482 %\n"
     ]
    },
    {
     "name": "stderr",
     "output_type": "stream",
     "text": [
      "  0%|                                                                                                                                                                                | 0/15 [00:00<?, ?it/s]"
     ]
    },
    {
     "name": "stdout",
     "output_type": "stream",
     "text": [
      " loss = 0.1852\n"
     ]
    },
    {
     "name": "stderr",
     "output_type": "stream",
     "text": [
      "100%|██████████████████████████████████████████████████████████████████████████████████████████████████████████████████████████████████████████████████████████████████████| 15/15 [00:00<00:00, 772.19it/s]\n"
     ]
    },
    {
     "name": "stdout",
     "output_type": "stream",
     "text": [
      "Relative training error = 26.1458 %\n",
      "Relative test error = 27.1653 %\n"
     ]
    },
    {
     "name": "stderr",
     "output_type": "stream",
     "text": [
      "  0%|                                                                                                                                                                                | 0/15 [00:00<?, ?it/s]"
     ]
    },
    {
     "name": "stdout",
     "output_type": "stream",
     "text": [
      " loss = 0.2391\n"
     ]
    },
    {
     "name": "stderr",
     "output_type": "stream",
     "text": [
      "100%|██████████████████████████████████████████████████████████████████████████████████████████████████████████████████████████████████████████████████████████████████████| 15/15 [00:00<00:00, 709.17it/s]\n"
     ]
    },
    {
     "name": "stdout",
     "output_type": "stream",
     "text": [
      "Relative training error = 22.7294 %\n",
      "Relative test error = 25.0368 %\n"
     ]
    },
    {
     "name": "stderr",
     "output_type": "stream",
     "text": [
      "  0%|                                                                                                                                                                                | 0/15 [00:00<?, ?it/s]"
     ]
    },
    {
     "name": "stdout",
     "output_type": "stream",
     "text": [
      " loss = 0.3152\n"
     ]
    },
    {
     "name": "stderr",
     "output_type": "stream",
     "text": [
      "100%|██████████████████████████████████████████████████████████████████████████████████████████████████████████████████████████████████████████████████████████████████████| 15/15 [00:00<00:00, 643.76it/s]\n"
     ]
    },
    {
     "name": "stdout",
     "output_type": "stream",
     "text": [
      "Relative training error = 20.2621 %\n",
      "Relative test error = 23.9569 %\n"
     ]
    },
    {
     "name": "stderr",
     "output_type": "stream",
     "text": [
      "  0%|                                                                                                                                                                                | 0/15 [00:00<?, ?it/s]"
     ]
    },
    {
     "name": "stdout",
     "output_type": "stream",
     "text": [
      " loss = 0.3765\n"
     ]
    },
    {
     "name": "stderr",
     "output_type": "stream",
     "text": [
      "100%|██████████████████████████████████████████████████████████████████████████████████████████████████████████████████████████████████████████████████████████████████████| 15/15 [00:00<00:00, 677.60it/s]\n"
     ]
    },
    {
     "name": "stdout",
     "output_type": "stream",
     "text": [
      "Relative training error = 18.1600 %\n",
      "Relative test error = 22.5687 %\n"
     ]
    },
    {
     "name": "stderr",
     "output_type": "stream",
     "text": [
      "  0%|                                                                                                                                                                                | 0/15 [00:00<?, ?it/s]"
     ]
    },
    {
     "name": "stdout",
     "output_type": "stream",
     "text": [
      " loss = 0.0307\n"
     ]
    },
    {
     "name": "stderr",
     "output_type": "stream",
     "text": [
      "100%|██████████████████████████████████████████████████████████████████████████████████████████████████████████████████████████████████████████████████████████████████████| 15/15 [00:00<00:00, 676.54it/s]\n"
     ]
    },
    {
     "name": "stdout",
     "output_type": "stream",
     "text": [
      "Relative training error = 16.5728 %\n",
      "Relative test error = 20.3077 %\n"
     ]
    },
    {
     "name": "stderr",
     "output_type": "stream",
     "text": [
      "100%|██████████████████████████████████████████████████████████████████████████████████████████████████████████████████████████████████████████████████████████████████████| 15/15 [00:00<00:00, 724.69it/s]\n"
     ]
    },
    {
     "name": "stdout",
     "output_type": "stream",
     "text": [
      " loss = 0.0912\n",
      "Relative training error = 15.3636 %\n",
      "Relative test error = 18.8047 %\n"
     ]
    },
    {
     "name": "stderr",
     "output_type": "stream",
     "text": [
      "100%|██████████████████████████████████████████████████████████████████████████████████████████████████████████████████████████████████████████████████████████████████████| 15/15 [00:00<00:00, 802.74it/s]\n"
     ]
    },
    {
     "name": "stdout",
     "output_type": "stream",
     "text": [
      " loss = 0.3050\n",
      "Relative training error = 14.3836 %\n",
      "Relative test error = 17.8231 %\n"
     ]
    },
    {
     "name": "stderr",
     "output_type": "stream",
     "text": [
      "  0%|                                                                                                                                                                                | 0/15 [00:00<?, ?it/s]"
     ]
    },
    {
     "name": "stdout",
     "output_type": "stream",
     "text": [
      " loss = 0.1556\n"
     ]
    },
    {
     "name": "stderr",
     "output_type": "stream",
     "text": [
      "100%|██████████████████████████████████████████████████████████████████████████████████████████████████████████████████████████████████████████████████████████████████████| 15/15 [00:00<00:00, 699.03it/s]\n"
     ]
    },
    {
     "name": "stdout",
     "output_type": "stream",
     "text": [
      "Relative training error = 13.7132 %\n",
      "Relative test error = 17.3221 %\n"
     ]
    },
    {
     "name": "stderr",
     "output_type": "stream",
     "text": [
      "  0%|                                                                                                                                                                                | 0/15 [00:00<?, ?it/s]"
     ]
    },
    {
     "name": "stdout",
     "output_type": "stream",
     "text": [
      " loss = 0.2152\n"
     ]
    },
    {
     "name": "stderr",
     "output_type": "stream",
     "text": [
      "100%|██████████████████████████████████████████████████████████████████████████████████████████████████████████████████████████████████████████████████████████████████████| 15/15 [00:00<00:00, 723.78it/s]\n"
     ]
    },
    {
     "name": "stdout",
     "output_type": "stream",
     "text": [
      "Relative training error = 13.1431 %\n",
      "Relative test error = 16.6873 %\n"
     ]
    },
    {
     "name": "stderr",
     "output_type": "stream",
     "text": [
      "  0%|                                                                                                                                                                                | 0/15 [00:00<?, ?it/s]"
     ]
    },
    {
     "name": "stdout",
     "output_type": "stream",
     "text": [
      " loss = 0.0481\n"
     ]
    },
    {
     "name": "stderr",
     "output_type": "stream",
     "text": [
      "100%|██████████████████████████████████████████████████████████████████████████████████████████████████████████████████████████████████████████████████████████████████████| 15/15 [00:00<00:00, 708.87it/s]\n"
     ]
    },
    {
     "name": "stdout",
     "output_type": "stream",
     "text": [
      "Relative training error = 12.6493 %\n",
      "Relative test error = 17.0294 %\n"
     ]
    },
    {
     "name": "stderr",
     "output_type": "stream",
     "text": [
      "  0%|                                                                                                                                                                                | 0/15 [00:00<?, ?it/s]"
     ]
    },
    {
     "name": "stdout",
     "output_type": "stream",
     "text": [
      " loss = 0.2009\n"
     ]
    },
    {
     "name": "stderr",
     "output_type": "stream",
     "text": [
      "100%|██████████████████████████████████████████████████████████████████████████████████████████████████████████████████████████████████████████████████████████████████████| 15/15 [00:00<00:00, 656.32it/s]\n"
     ]
    },
    {
     "name": "stdout",
     "output_type": "stream",
     "text": [
      "Relative training error = 12.2907 %\n",
      "Relative test error = 17.0536 %\n"
     ]
    },
    {
     "name": "stderr",
     "output_type": "stream",
     "text": [
      "  0%|                                                                                                                                                                                | 0/15 [00:00<?, ?it/s]"
     ]
    },
    {
     "name": "stdout",
     "output_type": "stream",
     "text": [
      " loss = 0.0322\n"
     ]
    },
    {
     "name": "stderr",
     "output_type": "stream",
     "text": [
      "100%|██████████████████████████████████████████████████████████████████████████████████████████████████████████████████████████████████████████████████████████████████████| 15/15 [00:00<00:00, 764.98it/s]\n"
     ]
    },
    {
     "name": "stdout",
     "output_type": "stream",
     "text": [
      "Relative training error = 11.8021 %\n",
      "Relative test error = 16.1487 %\n"
     ]
    },
    {
     "name": "stderr",
     "output_type": "stream",
     "text": [
      "  0%|                                                                                                                                                                                | 0/15 [00:00<?, ?it/s]"
     ]
    },
    {
     "name": "stdout",
     "output_type": "stream",
     "text": [
      " loss = 0.0386\n"
     ]
    },
    {
     "name": "stderr",
     "output_type": "stream",
     "text": [
      "100%|██████████████████████████████████████████████████████████████████████████████████████████████████████████████████████████████████████████████████████████████████████| 15/15 [00:00<00:00, 742.44it/s]\n"
     ]
    },
    {
     "name": "stdout",
     "output_type": "stream",
     "text": [
      "Relative training error = 11.5313 %\n",
      "Relative test error = 15.4636 %\n"
     ]
    },
    {
     "name": "stderr",
     "output_type": "stream",
     "text": [
      "  0%|                                                                                                                                                                                | 0/15 [00:00<?, ?it/s]"
     ]
    },
    {
     "name": "stdout",
     "output_type": "stream",
     "text": [
      " loss = 0.0272\n"
     ]
    },
    {
     "name": "stderr",
     "output_type": "stream",
     "text": [
      "100%|██████████████████████████████████████████████████████████████████████████████████████████████████████████████████████████████████████████████████████████████████████| 15/15 [00:00<00:00, 703.73it/s]\n"
     ]
    },
    {
     "name": "stdout",
     "output_type": "stream",
     "text": [
      "Relative training error = 11.2814 %\n",
      "Relative test error = 15.2100 %\n"
     ]
    },
    {
     "name": "stderr",
     "output_type": "stream",
     "text": [
      "  0%|                                                                                                                                                                                | 0/15 [00:00<?, ?it/s]"
     ]
    },
    {
     "name": "stdout",
     "output_type": "stream",
     "text": [
      " loss = 0.0626\n"
     ]
    },
    {
     "name": "stderr",
     "output_type": "stream",
     "text": [
      "100%|██████████████████████████████████████████████████████████████████████████████████████████████████████████████████████████████████████████████████████████████████████| 15/15 [00:00<00:00, 687.96it/s]\n"
     ]
    },
    {
     "name": "stdout",
     "output_type": "stream",
     "text": [
      "Relative training error = 11.1028 %\n",
      "Relative test error = 14.5865 %\n"
     ]
    },
    {
     "name": "stderr",
     "output_type": "stream",
     "text": [
      "  0%|                                                                                                                                                                                | 0/15 [00:00<?, ?it/s]"
     ]
    },
    {
     "name": "stdout",
     "output_type": "stream",
     "text": [
      " loss = 0.0333\n"
     ]
    },
    {
     "name": "stderr",
     "output_type": "stream",
     "text": [
      "100%|██████████████████████████████████████████████████████████████████████████████████████████████████████████████████████████████████████████████████████████████████████| 15/15 [00:00<00:00, 697.00it/s]\n"
     ]
    },
    {
     "name": "stdout",
     "output_type": "stream",
     "text": [
      "Relative training error = 10.9358 %\n",
      "Relative test error = 14.1350 %\n"
     ]
    },
    {
     "name": "stderr",
     "output_type": "stream",
     "text": [
      "  0%|                                                                                                                                                                                | 0/15 [00:00<?, ?it/s]"
     ]
    },
    {
     "name": "stdout",
     "output_type": "stream",
     "text": [
      " loss = 0.0271\n"
     ]
    },
    {
     "name": "stderr",
     "output_type": "stream",
     "text": [
      "100%|██████████████████████████████████████████████████████████████████████████████████████████████████████████████████████████████████████████████████████████████████████| 15/15 [00:00<00:00, 650.10it/s]\n"
     ]
    },
    {
     "name": "stdout",
     "output_type": "stream",
     "text": [
      "Relative training error = 10.7332 %\n",
      "Relative test error = 13.9378 %\n"
     ]
    },
    {
     "name": "stderr",
     "output_type": "stream",
     "text": [
      "  0%|                                                                                                                                                                                | 0/15 [00:00<?, ?it/s]"
     ]
    },
    {
     "name": "stdout",
     "output_type": "stream",
     "text": [
      " loss = 0.1136\n"
     ]
    },
    {
     "name": "stderr",
     "output_type": "stream",
     "text": [
      "100%|██████████████████████████████████████████████████████████████████████████████████████████████████████████████████████████████████████████████████████████████████████| 15/15 [00:00<00:00, 621.49it/s]\n"
     ]
    },
    {
     "name": "stdout",
     "output_type": "stream",
     "text": [
      "Relative training error = 10.5458 %\n",
      "Relative test error = 14.0478 %\n"
     ]
    },
    {
     "name": "stderr",
     "output_type": "stream",
     "text": [
      "  0%|                                                                                                                                                                                | 0/15 [00:00<?, ?it/s]"
     ]
    },
    {
     "name": "stdout",
     "output_type": "stream",
     "text": [
      " loss = 0.0674\n"
     ]
    },
    {
     "name": "stderr",
     "output_type": "stream",
     "text": [
      "100%|██████████████████████████████████████████████████████████████████████████████████████████████████████████████████████████████████████████████████████████████████████| 15/15 [00:00<00:00, 736.10it/s]\n"
     ]
    },
    {
     "name": "stdout",
     "output_type": "stream",
     "text": [
      "Relative training error = 10.4431 %\n",
      "Relative test error = 14.5662 %\n"
     ]
    },
    {
     "name": "stderr",
     "output_type": "stream",
     "text": [
      "  0%|                                                                                                                                                                                | 0/15 [00:00<?, ?it/s]"
     ]
    },
    {
     "name": "stdout",
     "output_type": "stream",
     "text": [
      " loss = 0.0368\n"
     ]
    },
    {
     "name": "stderr",
     "output_type": "stream",
     "text": [
      "100%|██████████████████████████████████████████████████████████████████████████████████████████████████████████████████████████████████████████████████████████████████████| 15/15 [00:00<00:00, 700.68it/s]\n"
     ]
    },
    {
     "name": "stdout",
     "output_type": "stream",
     "text": [
      "Relative training error = 10.3512 %\n",
      "Relative test error = 14.8953 %\n"
     ]
    },
    {
     "name": "stderr",
     "output_type": "stream",
     "text": [
      "  0%|                                                                                                                                                                                | 0/15 [00:00<?, ?it/s]"
     ]
    },
    {
     "name": "stdout",
     "output_type": "stream",
     "text": [
      " loss = 0.0248\n"
     ]
    },
    {
     "name": "stderr",
     "output_type": "stream",
     "text": [
      "100%|██████████████████████████████████████████████████████████████████████████████████████████████████████████████████████████████████████████████████████████████████████| 15/15 [00:00<00:00, 724.11it/s]\n"
     ]
    },
    {
     "name": "stdout",
     "output_type": "stream",
     "text": [
      "Relative training error = 10.1885 %\n",
      "Relative test error = 14.8201 %\n",
      "Creating DAS_analysis object\n",
      "[-3.33904898e-02 -2.75592482e-04  6.75529046e-03  2.95434237e-02\n",
      " -3.40290729e-03  3.08737117e-02  1.01209520e-03 -4.80988323e-03\n",
      " -1.07648473e-02 -1.92345385e-03 -1.05707726e-02  1.32764589e-02\n",
      " -1.88479366e-04 -7.78112981e-03 -2.20797094e-02  1.91612666e-02\n",
      " -3.81322690e-02 -1.43958990e-02 -3.55501232e-03  5.87829705e-02\n",
      " -3.15450202e-02 -2.07752352e-02 -7.18415924e-03  3.33695040e-03\n",
      "  1.36140605e-02 -9.36144500e-04  2.43579140e-02 -3.12722198e-04\n",
      "  2.60047425e-02 -2.81825681e-03 -1.10942119e-02  5.04249430e-02\n",
      "  9.36378451e-03  1.44538531e-02 -1.95601641e-02  4.95149215e-02\n",
      "  2.97072515e-02 -3.72920018e-02 -5.25101326e-02  1.36140962e-02\n",
      " -3.78842837e-03 -2.36315610e-02  3.08886513e-03  9.94606874e-03\n",
      " -2.73260217e-02  5.52111629e-05 -5.57936320e-03 -2.81570151e-02\n",
      " -5.36236275e-02 -2.78460035e-02 -2.79262929e-02  1.98481853e-02\n",
      " -2.02375243e-02  7.09350627e-03 -1.80310190e-02  1.10893024e-02\n",
      "  1.38355662e-02  1.55181759e-02  7.77773490e-03  4.02404911e-02\n",
      " -3.26803716e-02 -3.26558853e-02  2.74570357e-02 -2.43002378e-02\n",
      "  1.28519502e-02 -7.79996707e-03  4.21526790e-03 -1.96827100e-02\n",
      " -3.06098804e-02  1.13523954e-02 -3.18856661e-02  3.28485979e-03\n",
      " -2.61098246e-02  5.02761503e-02  1.95430325e-02 -2.11639217e-02\n",
      "  1.11936941e-02  1.22667059e-02  2.38241491e-02 -1.50901499e-03\n",
      "  2.05020611e-02 -5.86918590e-03  9.52424640e-03  6.46418346e-04\n",
      " -1.96385022e-02 -1.28099016e-02 -5.11204137e-02  1.53145645e-02\n",
      " -4.96562421e-03 -1.24992020e-02 -3.22209028e-02 -1.05753944e-02\n",
      " -6.66280114e-06 -9.16344139e-03 -9.91075205e-04  4.45905269e-02\n",
      " -3.06444710e-02 -8.35294877e-03  1.45706277e-03 -2.13765282e-03\n",
      "  3.50208138e-03 -1.54497343e-02 -5.20253328e-02]\n",
      "Parameters ordered from most to least important:\n",
      "[[  7  11  25   9  33  15  19   5   3  29  23   1  27  59  41  55   6  13\n",
      "   17  83  34  28  21  10  47  58  80  16  36  14   8  40  46  68  35  30\n",
      "   61  93  48 102  54  72  12 100  65  97  43  69  86  60  92  98  79  62\n",
      "   53  76 101  74  87  73  52  63  45  81  44  18  94  90   0  85  88  56\n",
      "   26  51  67  42  20  82  64  78   2  66  71  39  31   4  22  89  37  99\n",
      "   96  57  91  77  49  95  32  24  50  70  75  84  38]]\n",
      "Creating DAS_Surrogate Object\n",
      "Creating Feature Engineering object\n",
      "Using  450/450 samples to train the ML model\n",
      "===============================\n",
      "Neural net parameters\n",
      "===============================\n",
      "Number of layers = 3\n",
      "Number of features = 103\n",
      "Loss function = squared\n",
      "Number of neurons per hidden layer = 10\n",
      "Number of output neurons = 1\n",
      "Activation = ['linear', 'linear', 'tanh', 'linear']\n",
      "This neural network has 134 weights.\n",
      "===============================\n",
      "===============================\n",
      "Training Deep Active Subspace Neural Network...\n"
     ]
    },
    {
     "name": "stderr",
     "output_type": "stream",
     "text": [
      "  0%|                                                                                                                                                                                | 0/15 [00:00<?, ?it/s]"
     ]
    },
    {
     "name": "stdout",
     "output_type": "stream",
     "text": [
      " loss = 0.8818\n"
     ]
    },
    {
     "name": "stderr",
     "output_type": "stream",
     "text": [
      "100%|██████████████████████████████████████████████████████████████████████████████████████████████████████████████████████████████████████████████████████████████████████| 15/15 [00:00<00:00, 545.93it/s]\n"
     ]
    },
    {
     "name": "stdout",
     "output_type": "stream",
     "text": [
      "Relative training error = 43.8679 %\n",
      "Relative test error = 37.3239 %\n"
     ]
    },
    {
     "name": "stderr",
     "output_type": "stream",
     "text": [
      "100%|██████████████████████████████████████████████████████████████████████████████████████████████████████████████████████████████████████████████████████████████████████| 15/15 [00:00<00:00, 754.27it/s]\n"
     ]
    },
    {
     "name": "stdout",
     "output_type": "stream",
     "text": [
      " loss = 0.7708\n",
      "Relative training error = 42.0790 %\n",
      "Relative test error = 36.4167 %\n"
     ]
    },
    {
     "name": "stderr",
     "output_type": "stream",
     "text": [
      "100%|██████████████████████████████████████████████████████████████████████████████████████████████████████████████████████████████████████████████████████████████████████| 15/15 [00:00<00:00, 748.08it/s]\n"
     ]
    },
    {
     "name": "stdout",
     "output_type": "stream",
     "text": [
      " loss = 0.8135\n",
      "Relative training error = 40.4180 %\n",
      "Relative test error = 35.7546 %\n"
     ]
    },
    {
     "name": "stderr",
     "output_type": "stream",
     "text": [
      "  0%|                                                                                                                                                                                | 0/15 [00:00<?, ?it/s]"
     ]
    },
    {
     "name": "stdout",
     "output_type": "stream",
     "text": [
      " loss = 0.5336\n"
     ]
    },
    {
     "name": "stderr",
     "output_type": "stream",
     "text": [
      "100%|██████████████████████████████████████████████████████████████████████████████████████████████████████████████████████████████████████████████████████████████████████| 15/15 [00:00<00:00, 661.50it/s]\n"
     ]
    },
    {
     "name": "stdout",
     "output_type": "stream",
     "text": [
      "Relative training error = 38.5916 %\n",
      "Relative test error = 35.2504 %\n"
     ]
    },
    {
     "name": "stderr",
     "output_type": "stream",
     "text": [
      "  0%|                                                                                                                                                                                | 0/15 [00:00<?, ?it/s]"
     ]
    },
    {
     "name": "stdout",
     "output_type": "stream",
     "text": [
      " loss = 0.4313\n"
     ]
    },
    {
     "name": "stderr",
     "output_type": "stream",
     "text": [
      "100%|██████████████████████████████████████████████████████████████████████████████████████████████████████████████████████████████████████████████████████████████████████| 15/15 [00:00<00:00, 790.89it/s]\n"
     ]
    },
    {
     "name": "stdout",
     "output_type": "stream",
     "text": [
      "Relative training error = 36.5479 %\n",
      "Relative test error = 36.3806 %\n"
     ]
    },
    {
     "name": "stderr",
     "output_type": "stream",
     "text": [
      "  0%|                                                                                                                                                                                | 0/15 [00:00<?, ?it/s]"
     ]
    },
    {
     "name": "stdout",
     "output_type": "stream",
     "text": [
      " loss = 0.5007\n"
     ]
    },
    {
     "name": "stderr",
     "output_type": "stream",
     "text": [
      "100%|██████████████████████████████████████████████████████████████████████████████████████████████████████████████████████████████████████████████████████████████████████| 15/15 [00:00<00:00, 727.14it/s]\n"
     ]
    },
    {
     "name": "stdout",
     "output_type": "stream",
     "text": [
      "Relative training error = 34.2552 %\n",
      "Relative test error = 35.3189 %\n"
     ]
    },
    {
     "name": "stderr",
     "output_type": "stream",
     "text": [
      "  0%|                                                                                                                                                                                | 0/15 [00:00<?, ?it/s]"
     ]
    },
    {
     "name": "stdout",
     "output_type": "stream",
     "text": [
      " loss = 0.7113\n"
     ]
    },
    {
     "name": "stderr",
     "output_type": "stream",
     "text": [
      "100%|██████████████████████████████████████████████████████████████████████████████████████████████████████████████████████████████████████████████████████████████████████| 15/15 [00:00<00:00, 740.28it/s]\n"
     ]
    },
    {
     "name": "stdout",
     "output_type": "stream",
     "text": [
      "Relative training error = 31.9679 %\n",
      "Relative test error = 33.7896 %\n"
     ]
    },
    {
     "name": "stderr",
     "output_type": "stream",
     "text": [
      "100%|██████████████████████████████████████████████████████████████████████████████████████████████████████████████████████████████████████████████████████████████████████| 15/15 [00:00<00:00, 810.82it/s]\n"
     ]
    },
    {
     "name": "stdout",
     "output_type": "stream",
     "text": [
      " loss = 0.5178\n",
      "Relative training error = 30.1488 %\n",
      "Relative test error = 32.1089 %\n"
     ]
    },
    {
     "name": "stderr",
     "output_type": "stream",
     "text": [
      "  0%|                                                                                                                                                                                | 0/15 [00:00<?, ?it/s]"
     ]
    },
    {
     "name": "stdout",
     "output_type": "stream",
     "text": [
      " loss = 0.1976\n"
     ]
    },
    {
     "name": "stderr",
     "output_type": "stream",
     "text": [
      "100%|██████████████████████████████████████████████████████████████████████████████████████████████████████████████████████████████████████████████████████████████████████| 15/15 [00:00<00:00, 749.88it/s]\n"
     ]
    },
    {
     "name": "stdout",
     "output_type": "stream",
     "text": [
      "Relative training error = 28.4963 %\n",
      "Relative test error = 29.9051 %\n"
     ]
    },
    {
     "name": "stderr",
     "output_type": "stream",
     "text": [
      "100%|██████████████████████████████████████████████████████████████████████████████████████████████████████████████████████████████████████████████████████████████████████| 15/15 [00:00<00:00, 811.46it/s]\n"
     ]
    },
    {
     "name": "stdout",
     "output_type": "stream",
     "text": [
      " loss = 0.2180\n",
      "Relative training error = 26.9631 %\n",
      "Relative test error = 27.4762 %\n"
     ]
    },
    {
     "name": "stderr",
     "output_type": "stream",
     "text": [
      "  0%|                                                                                                                                                                                | 0/15 [00:00<?, ?it/s]"
     ]
    },
    {
     "name": "stdout",
     "output_type": "stream",
     "text": [
      " loss = 0.3932\n"
     ]
    },
    {
     "name": "stderr",
     "output_type": "stream",
     "text": [
      "100%|██████████████████████████████████████████████████████████████████████████████████████████████████████████████████████████████████████████████████████████████████████| 15/15 [00:00<00:00, 695.58it/s]\n"
     ]
    },
    {
     "name": "stdout",
     "output_type": "stream",
     "text": [
      "Relative training error = 25.6448 %\n",
      "Relative test error = 25.3429 %\n"
     ]
    },
    {
     "name": "stderr",
     "output_type": "stream",
     "text": [
      "  0%|                                                                                                                                                                                | 0/15 [00:00<?, ?it/s]"
     ]
    },
    {
     "name": "stdout",
     "output_type": "stream",
     "text": [
      " loss = 0.5428\n"
     ]
    },
    {
     "name": "stderr",
     "output_type": "stream",
     "text": [
      "100%|██████████████████████████████████████████████████████████████████████████████████████████████████████████████████████████████████████████████████████████████████████| 15/15 [00:00<00:00, 717.70it/s]\n"
     ]
    },
    {
     "name": "stdout",
     "output_type": "stream",
     "text": [
      "Relative training error = 24.2686 %\n",
      "Relative test error = 25.6436 %\n"
     ]
    },
    {
     "name": "stderr",
     "output_type": "stream",
     "text": [
      "  0%|                                                                                                                                                                                | 0/15 [00:00<?, ?it/s]"
     ]
    },
    {
     "name": "stdout",
     "output_type": "stream",
     "text": [
      " loss = 0.1315\n"
     ]
    },
    {
     "name": "stderr",
     "output_type": "stream",
     "text": [
      "100%|██████████████████████████████████████████████████████████████████████████████████████████████████████████████████████████████████████████████████████████████████████| 15/15 [00:00<00:00, 748.83it/s]\n"
     ]
    },
    {
     "name": "stdout",
     "output_type": "stream",
     "text": [
      "Relative training error = 23.1022 %\n",
      "Relative test error = 24.5382 %\n"
     ]
    },
    {
     "name": "stderr",
     "output_type": "stream",
     "text": [
      "  0%|                                                                                                                                                                                | 0/15 [00:00<?, ?it/s]"
     ]
    },
    {
     "name": "stdout",
     "output_type": "stream",
     "text": [
      " loss = 0.0813\n"
     ]
    },
    {
     "name": "stderr",
     "output_type": "stream",
     "text": [
      "100%|██████████████████████████████████████████████████████████████████████████████████████████████████████████████████████████████████████████████████████████████████████| 15/15 [00:00<00:00, 748.25it/s]\n"
     ]
    },
    {
     "name": "stdout",
     "output_type": "stream",
     "text": [
      "Relative training error = 22.1816 %\n",
      "Relative test error = 23.2791 %\n"
     ]
    },
    {
     "name": "stderr",
     "output_type": "stream",
     "text": [
      "  0%|                                                                                                                                                                                | 0/15 [00:00<?, ?it/s]"
     ]
    },
    {
     "name": "stdout",
     "output_type": "stream",
     "text": [
      " loss = 0.1134\n"
     ]
    },
    {
     "name": "stderr",
     "output_type": "stream",
     "text": [
      "100%|██████████████████████████████████████████████████████████████████████████████████████████████████████████████████████████████████████████████████████████████████████| 15/15 [00:00<00:00, 709.79it/s]\n"
     ]
    },
    {
     "name": "stdout",
     "output_type": "stream",
     "text": [
      "Relative training error = 21.3742 %\n",
      "Relative test error = 22.2505 %\n"
     ]
    },
    {
     "name": "stderr",
     "output_type": "stream",
     "text": [
      "  0%|                                                                                                                                                                                | 0/15 [00:00<?, ?it/s]"
     ]
    },
    {
     "name": "stdout",
     "output_type": "stream",
     "text": [
      " loss = 0.3234\n"
     ]
    },
    {
     "name": "stderr",
     "output_type": "stream",
     "text": [
      "100%|██████████████████████████████████████████████████████████████████████████████████████████████████████████████████████████████████████████████████████████████████████| 15/15 [00:00<00:00, 771.42it/s]\n"
     ]
    },
    {
     "name": "stdout",
     "output_type": "stream",
     "text": [
      "Relative training error = 20.6752 %\n",
      "Relative test error = 21.4182 %\n"
     ]
    },
    {
     "name": "stderr",
     "output_type": "stream",
     "text": [
      "  0%|                                                                                                                                                                                | 0/15 [00:00<?, ?it/s]"
     ]
    },
    {
     "name": "stdout",
     "output_type": "stream",
     "text": [
      " loss = 0.1030\n"
     ]
    },
    {
     "name": "stderr",
     "output_type": "stream",
     "text": [
      "100%|██████████████████████████████████████████████████████████████████████████████████████████████████████████████████████████████████████████████████████████████████████| 15/15 [00:00<00:00, 765.34it/s]\n"
     ]
    },
    {
     "name": "stdout",
     "output_type": "stream",
     "text": [
      "Relative training error = 20.0570 %\n",
      "Relative test error = 20.6217 %\n"
     ]
    },
    {
     "name": "stderr",
     "output_type": "stream",
     "text": [
      "  0%|                                                                                                                                                                                | 0/15 [00:00<?, ?it/s]"
     ]
    },
    {
     "name": "stdout",
     "output_type": "stream",
     "text": [
      " loss = 0.2398\n"
     ]
    },
    {
     "name": "stderr",
     "output_type": "stream",
     "text": [
      "100%|██████████████████████████████████████████████████████████████████████████████████████████████████████████████████████████████████████████████████████████████████████| 15/15 [00:00<00:00, 709.79it/s]\n"
     ]
    },
    {
     "name": "stdout",
     "output_type": "stream",
     "text": [
      "Relative training error = 19.3665 %\n",
      "Relative test error = 20.5449 %\n"
     ]
    },
    {
     "name": "stderr",
     "output_type": "stream",
     "text": [
      "100%|██████████████████████████████████████████████████████████████████████████████████████████████████████████████████████████████████████████████████████████████████████| 15/15 [00:00<00:00, 676.70it/s]\n"
     ]
    },
    {
     "name": "stdout",
     "output_type": "stream",
     "text": [
      " loss = 0.3052\n",
      "Relative training error = 18.8456 %\n",
      "Relative test error = 20.2476 %\n"
     ]
    },
    {
     "name": "stderr",
     "output_type": "stream",
     "text": [
      "100%|██████████████████████████████████████████████████████████████████████████████████████████████████████████████████████████████████████████████████████████████████████| 15/15 [00:00<00:00, 781.12it/s]\n"
     ]
    },
    {
     "name": "stdout",
     "output_type": "stream",
     "text": [
      " loss = 0.4216\n",
      "Relative training error = 18.3423 %\n",
      "Relative test error = 18.6952 %\n"
     ]
    },
    {
     "name": "stderr",
     "output_type": "stream",
     "text": [
      "100%|██████████████████████████████████████████████████████████████████████████████████████████████████████████████████████████████████████████████████████████████████████| 15/15 [00:00<00:00, 693.97it/s]\n"
     ]
    },
    {
     "name": "stdout",
     "output_type": "stream",
     "text": [
      " loss = 0.2260\n",
      "Relative training error = 17.8314 %\n",
      "Relative test error = 18.0657 %\n"
     ]
    },
    {
     "name": "stderr",
     "output_type": "stream",
     "text": [
      "  0%|                                                                                                                                                                                | 0/15 [00:00<?, ?it/s]"
     ]
    },
    {
     "name": "stdout",
     "output_type": "stream",
     "text": [
      " loss = 0.0842\n"
     ]
    },
    {
     "name": "stderr",
     "output_type": "stream",
     "text": [
      "100%|██████████████████████████████████████████████████████████████████████████████████████████████████████████████████████████████████████████████████████████████████████| 15/15 [00:00<00:00, 598.25it/s]\n"
     ]
    },
    {
     "name": "stdout",
     "output_type": "stream",
     "text": [
      "Relative training error = 17.4871 %\n",
      "Relative test error = 17.6409 %\n"
     ]
    },
    {
     "name": "stderr",
     "output_type": "stream",
     "text": [
      "100%|██████████████████████████████████████████████████████████████████████████████████████████████████████████████████████████████████████████████████████████████████████| 15/15 [00:00<00:00, 801.86it/s]\n"
     ]
    },
    {
     "name": "stdout",
     "output_type": "stream",
     "text": [
      " loss = 0.0447\n",
      "Relative training error = 17.0749 %\n",
      "Relative test error = 18.3502 %\n"
     ]
    },
    {
     "name": "stderr",
     "output_type": "stream",
     "text": [
      "  0%|                                                                                                                                                                                | 0/15 [00:00<?, ?it/s]"
     ]
    },
    {
     "name": "stdout",
     "output_type": "stream",
     "text": [
      " loss = 0.0798\n"
     ]
    },
    {
     "name": "stderr",
     "output_type": "stream",
     "text": [
      "100%|██████████████████████████████████████████████████████████████████████████████████████████████████████████████████████████████████████████████████████████████████████| 15/15 [00:00<00:00, 787.59it/s]\n"
     ]
    },
    {
     "name": "stdout",
     "output_type": "stream",
     "text": [
      "Relative training error = 16.6389 %\n",
      "Relative test error = 18.0676 %\n"
     ]
    },
    {
     "name": "stderr",
     "output_type": "stream",
     "text": [
      "  0%|                                                                                                                                                                                | 0/15 [00:00<?, ?it/s]"
     ]
    },
    {
     "name": "stdout",
     "output_type": "stream",
     "text": [
      " loss = 0.1148\n"
     ]
    },
    {
     "name": "stderr",
     "output_type": "stream",
     "text": [
      "100%|██████████████████████████████████████████████████████████████████████████████████████████████████████████████████████████████████████████████████████████████████████| 15/15 [00:00<00:00, 739.32it/s]\n"
     ]
    },
    {
     "name": "stdout",
     "output_type": "stream",
     "text": [
      "Relative training error = 16.2429 %\n",
      "Relative test error = 18.6913 %\n"
     ]
    },
    {
     "name": "stderr",
     "output_type": "stream",
     "text": [
      "  0%|                                                                                                                                                                                | 0/15 [00:00<?, ?it/s]"
     ]
    },
    {
     "name": "stdout",
     "output_type": "stream",
     "text": [
      " loss = 0.1216\n"
     ]
    },
    {
     "name": "stderr",
     "output_type": "stream",
     "text": [
      "100%|██████████████████████████████████████████████████████████████████████████████████████████████████████████████████████████████████████████████████████████████████████| 15/15 [00:00<00:00, 714.13it/s]\n"
     ]
    },
    {
     "name": "stdout",
     "output_type": "stream",
     "text": [
      "Relative training error = 15.8278 %\n",
      "Relative test error = 17.5003 %\n"
     ]
    },
    {
     "name": "stderr",
     "output_type": "stream",
     "text": [
      "  0%|                                                                                                                                                                                | 0/15 [00:00<?, ?it/s]"
     ]
    },
    {
     "name": "stdout",
     "output_type": "stream",
     "text": [
      " loss = 0.0765\n"
     ]
    },
    {
     "name": "stderr",
     "output_type": "stream",
     "text": [
      "100%|██████████████████████████████████████████████████████████████████████████████████████████████████████████████████████████████████████████████████████████████████████| 15/15 [00:00<00:00, 770.56it/s]\n"
     ]
    },
    {
     "name": "stdout",
     "output_type": "stream",
     "text": [
      "Relative training error = 15.4540 %\n",
      "Relative test error = 16.9931 %\n"
     ]
    },
    {
     "name": "stderr",
     "output_type": "stream",
     "text": [
      "100%|██████████████████████████████████████████████████████████████████████████████████████████████████████████████████████████████████████████████████████████████████████| 15/15 [00:00<00:00, 622.31it/s]"
     ]
    },
    {
     "name": "stdout",
     "output_type": "stream",
     "text": [
      " loss = 0.1723\n"
     ]
    },
    {
     "name": "stderr",
     "output_type": "stream",
     "text": [
      "\n"
     ]
    },
    {
     "name": "stdout",
     "output_type": "stream",
     "text": [
      "Relative training error = 15.1214 %\n",
      "Relative test error = 16.9782 %\n"
     ]
    },
    {
     "name": "stderr",
     "output_type": "stream",
     "text": [
      "100%|██████████████████████████████████████████████████████████████████████████████████████████████████████████████████████████████████████████████████████████████████████| 15/15 [00:00<00:00, 617.43it/s]"
     ]
    },
    {
     "name": "stdout",
     "output_type": "stream",
     "text": [
      " loss = 0.0618\n"
     ]
    },
    {
     "name": "stderr",
     "output_type": "stream",
     "text": [
      "\n"
     ]
    },
    {
     "name": "stdout",
     "output_type": "stream",
     "text": [
      "Relative training error = 14.9067 %\n",
      "Relative test error = 16.3603 %\n"
     ]
    },
    {
     "name": "stderr",
     "output_type": "stream",
     "text": [
      "100%|██████████████████████████████████████████████████████████████████████████████████████████████████████████████████████████████████████████████████████████████████████| 15/15 [00:00<00:00, 694.95it/s]"
     ]
    },
    {
     "name": "stdout",
     "output_type": "stream",
     "text": [
      " loss = 0.1053\n"
     ]
    },
    {
     "name": "stderr",
     "output_type": "stream",
     "text": [
      "\n"
     ]
    },
    {
     "name": "stdout",
     "output_type": "stream",
     "text": [
      "Relative training error = 14.6487 %\n",
      "Relative test error = 15.9950 %\n"
     ]
    },
    {
     "name": "stderr",
     "output_type": "stream",
     "text": [
      "100%|██████████████████████████████████████████████████████████████████████████████████████████████████████████████████████████████████████████████████████████████████████| 15/15 [00:00<00:00, 780.05it/s]\n"
     ]
    },
    {
     "name": "stdout",
     "output_type": "stream",
     "text": [
      " loss = 0.0394\n",
      "Relative training error = 14.4548 %\n",
      "Relative test error = 15.5299 %\n"
     ]
    },
    {
     "name": "stderr",
     "output_type": "stream",
     "text": [
      "  0%|                                                                                                                                                                                | 0/15 [00:00<?, ?it/s]"
     ]
    },
    {
     "name": "stdout",
     "output_type": "stream",
     "text": [
      " loss = 0.0301\n"
     ]
    },
    {
     "name": "stderr",
     "output_type": "stream",
     "text": [
      "100%|██████████████████████████████████████████████████████████████████████████████████████████████████████████████████████████████████████████████████████████████████████| 15/15 [00:00<00:00, 747.14it/s]\n"
     ]
    },
    {
     "name": "stdout",
     "output_type": "stream",
     "text": [
      "Relative training error = 14.2587 %\n",
      "Relative test error = 15.2341 %\n"
     ]
    },
    {
     "name": "stderr",
     "output_type": "stream",
     "text": [
      "  0%|                                                                                                                                                                                | 0/15 [00:00<?, ?it/s]"
     ]
    },
    {
     "name": "stdout",
     "output_type": "stream",
     "text": [
      " loss = 0.0888\n"
     ]
    },
    {
     "name": "stderr",
     "output_type": "stream",
     "text": [
      "100%|██████████████████████████████████████████████████████████████████████████████████████████████████████████████████████████████████████████████████████████████████████| 15/15 [00:00<00:00, 708.06it/s]\n"
     ]
    },
    {
     "name": "stdout",
     "output_type": "stream",
     "text": [
      "Relative training error = 13.9358 %\n",
      "Relative test error = 15.4178 %\n"
     ]
    },
    {
     "name": "stderr",
     "output_type": "stream",
     "text": [
      "  0%|                                                                                                                                                                                | 0/15 [00:00<?, ?it/s]"
     ]
    },
    {
     "name": "stdout",
     "output_type": "stream",
     "text": [
      " loss = 0.0457\n"
     ]
    },
    {
     "name": "stderr",
     "output_type": "stream",
     "text": [
      "100%|██████████████████████████████████████████████████████████████████████████████████████████████████████████████████████████████████████████████████████████████████████| 15/15 [00:00<00:00, 719.67it/s]\n"
     ]
    },
    {
     "name": "stdout",
     "output_type": "stream",
     "text": [
      "Relative training error = 13.6369 %\n",
      "Relative test error = 15.5786 %\n"
     ]
    },
    {
     "name": "stderr",
     "output_type": "stream",
     "text": [
      "  0%|                                                                                                                                                                                | 0/15 [00:00<?, ?it/s]"
     ]
    },
    {
     "name": "stdout",
     "output_type": "stream",
     "text": [
      " loss = 0.1075\n"
     ]
    },
    {
     "name": "stderr",
     "output_type": "stream",
     "text": [
      "100%|██████████████████████████████████████████████████████████████████████████████████████████████████████████████████████████████████████████████████████████████████████| 15/15 [00:00<00:00, 742.52it/s]\n"
     ]
    },
    {
     "name": "stdout",
     "output_type": "stream",
     "text": [
      "Relative training error = 13.3604 %\n",
      "Relative test error = 15.4597 %\n"
     ]
    },
    {
     "name": "stderr",
     "output_type": "stream",
     "text": [
      "  0%|                                                                                                                                                                                | 0/15 [00:00<?, ?it/s]"
     ]
    },
    {
     "name": "stdout",
     "output_type": "stream",
     "text": [
      " loss = 0.0434\n"
     ]
    },
    {
     "name": "stderr",
     "output_type": "stream",
     "text": [
      "100%|██████████████████████████████████████████████████████████████████████████████████████████████████████████████████████████████████████████████████████████████████████| 15/15 [00:00<00:00, 743.51it/s]\n"
     ]
    },
    {
     "name": "stdout",
     "output_type": "stream",
     "text": [
      "Relative training error = 13.2362 %\n",
      "Relative test error = 15.4234 %\n"
     ]
    },
    {
     "name": "stderr",
     "output_type": "stream",
     "text": [
      "  0%|                                                                                                                                                                                | 0/15 [00:00<?, ?it/s]"
     ]
    },
    {
     "name": "stdout",
     "output_type": "stream",
     "text": [
      " loss = 0.1718\n"
     ]
    },
    {
     "name": "stderr",
     "output_type": "stream",
     "text": [
      "100%|██████████████████████████████████████████████████████████████████████████████████████████████████████████████████████████████████████████████████████████████████████| 15/15 [00:00<00:00, 735.41it/s]\n"
     ]
    },
    {
     "name": "stdout",
     "output_type": "stream",
     "text": [
      "Relative training error = 13.0763 %\n",
      "Relative test error = 15.2998 %\n"
     ]
    },
    {
     "name": "stderr",
     "output_type": "stream",
     "text": [
      "  0%|                                                                                                                                                                                | 0/15 [00:00<?, ?it/s]"
     ]
    },
    {
     "name": "stdout",
     "output_type": "stream",
     "text": [
      " loss = 0.0285\n"
     ]
    },
    {
     "name": "stderr",
     "output_type": "stream",
     "text": [
      "100%|██████████████████████████████████████████████████████████████████████████████████████████████████████████████████████████████████████████████████████████████████████| 15/15 [00:00<00:00, 667.61it/s]\n"
     ]
    },
    {
     "name": "stdout",
     "output_type": "stream",
     "text": [
      "Relative training error = 12.8254 %\n",
      "Relative test error = 15.6211 %\n"
     ]
    },
    {
     "name": "stderr",
     "output_type": "stream",
     "text": [
      "  0%|                                                                                                                                                                                | 0/15 [00:00<?, ?it/s]"
     ]
    },
    {
     "name": "stdout",
     "output_type": "stream",
     "text": [
      " loss = 0.0324\n"
     ]
    },
    {
     "name": "stderr",
     "output_type": "stream",
     "text": [
      "100%|██████████████████████████████████████████████████████████████████████████████████████████████████████████████████████████████████████████████████████████████████████| 15/15 [00:00<00:00, 630.54it/s]\n"
     ]
    },
    {
     "name": "stdout",
     "output_type": "stream",
     "text": [
      "Relative training error = 12.6468 %\n",
      "Relative test error = 15.5068 %\n"
     ]
    },
    {
     "name": "stderr",
     "output_type": "stream",
     "text": [
      "  0%|                                                                                                                                                                                | 0/15 [00:00<?, ?it/s]"
     ]
    },
    {
     "name": "stdout",
     "output_type": "stream",
     "text": [
      " loss = 0.0452\n"
     ]
    },
    {
     "name": "stderr",
     "output_type": "stream",
     "text": [
      "100%|██████████████████████████████████████████████████████████████████████████████████████████████████████████████████████████████████████████████████████████████████████| 15/15 [00:00<00:00, 680.31it/s]\n"
     ]
    },
    {
     "name": "stdout",
     "output_type": "stream",
     "text": [
      "Relative training error = 12.4142 %\n",
      "Relative test error = 14.9835 %\n"
     ]
    },
    {
     "name": "stderr",
     "output_type": "stream",
     "text": [
      "100%|██████████████████████████████████████████████████████████████████████████████████████████████████████████████████████████████████████████████████████████████████████| 15/15 [00:00<00:00, 767.60it/s]"
     ]
    },
    {
     "name": "stdout",
     "output_type": "stream",
     "text": [
      " loss = 0.0400\n",
      "Relative training error = 12.2379 %\n"
     ]
    },
    {
     "name": "stderr",
     "output_type": "stream",
     "text": [
      "\n"
     ]
    },
    {
     "name": "stdout",
     "output_type": "stream",
     "text": [
      "Relative test error = 14.5421 %\n"
     ]
    },
    {
     "name": "stderr",
     "output_type": "stream",
     "text": [
      "100%|██████████████████████████████████████████████████████████████████████████████████████████████████████████████████████████████████████████████████████████████████████| 15/15 [00:00<00:00, 762.18it/s]\n"
     ]
    },
    {
     "name": "stdout",
     "output_type": "stream",
     "text": [
      " loss = 0.0720\n",
      "Relative training error = 12.1001 %\n",
      "Relative test error = 14.4104 %\n"
     ]
    },
    {
     "name": "stderr",
     "output_type": "stream",
     "text": [
      "  0%|                                                                                                                                                                                | 0/15 [00:00<?, ?it/s]"
     ]
    },
    {
     "name": "stdout",
     "output_type": "stream",
     "text": [
      " loss = 0.0250\n"
     ]
    },
    {
     "name": "stderr",
     "output_type": "stream",
     "text": [
      "100%|██████████████████████████████████████████████████████████████████████████████████████████████████████████████████████████████████████████████████████████████████████| 15/15 [00:00<00:00, 715.36it/s]\n"
     ]
    },
    {
     "name": "stdout",
     "output_type": "stream",
     "text": [
      "Relative training error = 11.8504 %\n",
      "Relative test error = 14.5282 %\n"
     ]
    },
    {
     "name": "stderr",
     "output_type": "stream",
     "text": [
      "  0%|                                                                                                                                                                                | 0/15 [00:00<?, ?it/s]"
     ]
    },
    {
     "name": "stdout",
     "output_type": "stream",
     "text": [
      " loss = 0.0429\n"
     ]
    },
    {
     "name": "stderr",
     "output_type": "stream",
     "text": [
      "100%|██████████████████████████████████████████████████████████████████████████████████████████████████████████████████████████████████████████████████████████████████████| 15/15 [00:00<00:00, 638.58it/s]\n"
     ]
    },
    {
     "name": "stdout",
     "output_type": "stream",
     "text": [
      "Relative training error = 11.6696 %\n",
      "Relative test error = 15.3349 %\n"
     ]
    },
    {
     "name": "stderr",
     "output_type": "stream",
     "text": [
      "  0%|                                                                                                                                                                                | 0/15 [00:00<?, ?it/s]"
     ]
    },
    {
     "name": "stdout",
     "output_type": "stream",
     "text": [
      " loss = 0.0418\n"
     ]
    },
    {
     "name": "stderr",
     "output_type": "stream",
     "text": [
      "100%|██████████████████████████████████████████████████████████████████████████████████████████████████████████████████████████████████████████████████████████████████████| 15/15 [00:00<00:00, 718.07it/s]\n"
     ]
    },
    {
     "name": "stdout",
     "output_type": "stream",
     "text": [
      "Relative training error = 11.5331 %\n",
      "Relative test error = 15.5166 %\n"
     ]
    },
    {
     "name": "stderr",
     "output_type": "stream",
     "text": [
      "  0%|                                                                                                                                                                                | 0/15 [00:00<?, ?it/s]"
     ]
    },
    {
     "name": "stdout",
     "output_type": "stream",
     "text": [
      " loss = 0.1604\n"
     ]
    },
    {
     "name": "stderr",
     "output_type": "stream",
     "text": [
      "100%|██████████████████████████████████████████████████████████████████████████████████████████████████████████████████████████████████████████████████████████████████████| 15/15 [00:00<00:00, 678.11it/s]\n"
     ]
    },
    {
     "name": "stdout",
     "output_type": "stream",
     "text": [
      "Relative training error = 11.3826 %\n",
      "Relative test error = 15.4660 %\n",
      "Creating DAS_analysis object\n",
      "[-3.33904898e-02 -2.75592482e-04  6.75529046e-03  2.95434237e-02\n",
      " -3.40290729e-03  3.08737117e-02  1.01209520e-03 -4.80988323e-03\n",
      " -1.07648473e-02 -1.92345385e-03 -1.05707726e-02  1.32764589e-02\n",
      " -1.88479366e-04 -7.78112981e-03 -2.20797094e-02  1.91612666e-02\n",
      " -3.81322690e-02 -1.43958990e-02 -3.55501232e-03  5.87829705e-02\n",
      " -3.15450202e-02 -2.07752352e-02 -7.18415924e-03  3.33695040e-03\n",
      "  1.36140605e-02 -9.36144500e-04  2.43579140e-02 -3.12722198e-04\n",
      "  2.60047425e-02 -2.81825681e-03 -1.10942119e-02  5.04249430e-02\n",
      "  9.36378451e-03  1.44538531e-02 -1.95601641e-02  4.95149215e-02\n",
      "  2.97072515e-02 -3.72920018e-02 -5.25101326e-02  1.36140962e-02\n",
      " -3.78842837e-03 -2.36315610e-02  3.08886513e-03  9.94606874e-03\n",
      " -2.73260217e-02  5.52111629e-05 -5.57936320e-03 -2.81570151e-02\n",
      " -5.36236275e-02 -2.78460035e-02 -2.79262929e-02  1.98481853e-02\n",
      " -2.02375243e-02  7.09350627e-03 -1.80310190e-02  1.10893024e-02\n",
      "  1.38355662e-02  1.55181759e-02  7.77773490e-03  4.02404911e-02\n",
      " -3.26803716e-02 -3.26558853e-02  2.74570357e-02 -2.43002378e-02\n",
      "  1.28519502e-02 -7.79996707e-03  4.21526790e-03 -1.96827100e-02\n",
      " -3.06098804e-02  1.13523954e-02 -3.18856661e-02  3.28485979e-03\n",
      " -2.61098246e-02  5.02761503e-02  1.95430325e-02 -2.11639217e-02\n",
      "  1.11936941e-02  1.22667059e-02  2.38241491e-02 -1.50901499e-03\n",
      "  2.05020611e-02 -5.86918590e-03  9.52424640e-03  6.46418346e-04\n",
      " -1.96385022e-02 -1.28099016e-02 -5.11204137e-02  1.53145645e-02\n",
      " -4.96562421e-03 -1.24992020e-02 -3.22209028e-02 -1.05753944e-02\n",
      " -6.66280114e-06 -9.16344139e-03 -9.91075205e-04  4.45905269e-02\n",
      " -3.06444710e-02 -8.35294877e-03  1.45706277e-03 -2.13765282e-03\n",
      "  3.50208138e-03 -1.54497343e-02 -5.20253328e-02]\n",
      "Parameters ordered from most to least important:\n",
      "[[  7  11  25   9  33  15  19   5   3  23  29   1  27  41  59  17  34  13\n",
      "   21  55  10   6  68  48  30  61  28  58   8  93  46  16  53  83  14  43\n",
      "   72 101  87 102  80  35  78  73  47  44  40  98  45  86  76  65  54  70\n",
      "   36  31 100  91  12  69  51  62  77  37   4  18  32  81  39  42  26  88\n",
      "   79  38  97  24   2  89  57  63  85  82  84  56  75  99  52  71  90  74\n",
      "   22  66  94   0  20  60  95  92  67  50  64  96  49]]\n",
      "Creating DAS_Surrogate Object\n",
      "Creating Feature Engineering object\n",
      "Using  450/450 samples to train the ML model\n",
      "===============================\n",
      "Neural net parameters\n",
      "===============================\n",
      "Number of layers = 3\n",
      "Number of features = 103\n",
      "Loss function = squared\n",
      "Number of neurons per hidden layer = 10\n",
      "Number of output neurons = 1\n",
      "Activation = ['linear', 'linear', 'tanh', 'linear']\n",
      "This neural network has 134 weights.\n",
      "===============================\n",
      "===============================\n",
      "Training Deep Active Subspace Neural Network...\n"
     ]
    },
    {
     "name": "stderr",
     "output_type": "stream",
     "text": [
      "100%|██████████████████████████████████████████████████████████████████████████████████████████████████████████████████████████████████████████████████████████████████████| 15/15 [00:00<00:00, 662.63it/s]\n"
     ]
    },
    {
     "name": "stdout",
     "output_type": "stream",
     "text": [
      " loss = 1.1708\n",
      "Relative training error = 44.4887 %\n",
      "Relative test error = 35.0517 %\n"
     ]
    },
    {
     "name": "stderr",
     "output_type": "stream",
     "text": [
      "100%|██████████████████████████████████████████████████████████████████████████████████████████████████████████████████████████████████████████████████████████████████████| 15/15 [00:00<00:00, 699.77it/s]"
     ]
    },
    {
     "name": "stdout",
     "output_type": "stream",
     "text": [
      " loss = 1.0609\n",
      "Relative training error = 44.2215 %\n"
     ]
    },
    {
     "name": "stderr",
     "output_type": "stream",
     "text": [
      "\n"
     ]
    },
    {
     "name": "stdout",
     "output_type": "stream",
     "text": [
      "Relative test error = 36.5361 %\n"
     ]
    },
    {
     "name": "stderr",
     "output_type": "stream",
     "text": [
      "100%|██████████████████████████████████████████████████████████████████████████████████████████████████████████████████████████████████████████████████████████████████████| 15/15 [00:00<00:00, 628.75it/s]"
     ]
    },
    {
     "name": "stdout",
     "output_type": "stream",
     "text": [
      " loss = 0.6093\n"
     ]
    },
    {
     "name": "stderr",
     "output_type": "stream",
     "text": [
      "\n"
     ]
    },
    {
     "name": "stdout",
     "output_type": "stream",
     "text": [
      "Relative training error = 43.1682 %\n",
      "Relative test error = 34.2687 %\n"
     ]
    },
    {
     "name": "stderr",
     "output_type": "stream",
     "text": [
      "100%|██████████████████████████████████████████████████████████████████████████████████████████████████████████████████████████████████████████████████████████████████████| 15/15 [00:00<00:00, 757.72it/s]"
     ]
    },
    {
     "name": "stdout",
     "output_type": "stream",
     "text": [
      " loss = 0.5049\n",
      "Relative training error = 42.2234 %\n"
     ]
    },
    {
     "name": "stderr",
     "output_type": "stream",
     "text": [
      "\n"
     ]
    },
    {
     "name": "stdout",
     "output_type": "stream",
     "text": [
      "Relative test error = 33.1413 %\n"
     ]
    },
    {
     "name": "stderr",
     "output_type": "stream",
     "text": [
      "100%|██████████████████████████████████████████████████████████████████████████████████████████████████████████████████████████████████████████████████████████████████████| 15/15 [00:00<00:00, 810.15it/s]\n"
     ]
    },
    {
     "name": "stdout",
     "output_type": "stream",
     "text": [
      " loss = 0.8129\n",
      "Relative training error = 40.9310 %\n",
      "Relative test error = 33.2895 %\n"
     ]
    },
    {
     "name": "stderr",
     "output_type": "stream",
     "text": [
      "  0%|                                                                                                                                                                                | 0/15 [00:00<?, ?it/s]"
     ]
    },
    {
     "name": "stdout",
     "output_type": "stream",
     "text": [
      " loss = 0.6070\n"
     ]
    },
    {
     "name": "stderr",
     "output_type": "stream",
     "text": [
      "100%|██████████████████████████████████████████████████████████████████████████████████████████████████████████████████████████████████████████████████████████████████████| 15/15 [00:00<00:00, 689.61it/s]\n"
     ]
    },
    {
     "name": "stdout",
     "output_type": "stream",
     "text": [
      "Relative training error = 39.0711 %\n",
      "Relative test error = 31.3472 %\n"
     ]
    },
    {
     "name": "stderr",
     "output_type": "stream",
     "text": [
      "  0%|                                                                                                                                                                                | 0/15 [00:00<?, ?it/s]"
     ]
    },
    {
     "name": "stdout",
     "output_type": "stream",
     "text": [
      " loss = 0.6137\n"
     ]
    },
    {
     "name": "stderr",
     "output_type": "stream",
     "text": [
      "100%|██████████████████████████████████████████████████████████████████████████████████████████████████████████████████████████████████████████████████████████████████████| 15/15 [00:00<00:00, 713.87it/s]\n"
     ]
    },
    {
     "name": "stdout",
     "output_type": "stream",
     "text": [
      "Relative training error = 35.9115 %\n",
      "Relative test error = 29.7508 %\n"
     ]
    },
    {
     "name": "stderr",
     "output_type": "stream",
     "text": [
      "  0%|                                                                                                                                                                                | 0/15 [00:00<?, ?it/s]"
     ]
    },
    {
     "name": "stdout",
     "output_type": "stream",
     "text": [
      " loss = 0.6392\n"
     ]
    },
    {
     "name": "stderr",
     "output_type": "stream",
     "text": [
      "100%|██████████████████████████████████████████████████████████████████████████████████████████████████████████████████████████████████████████████████████████████████████| 15/15 [00:00<00:00, 713.66it/s]\n"
     ]
    },
    {
     "name": "stdout",
     "output_type": "stream",
     "text": [
      "Relative training error = 31.3477 %\n",
      "Relative test error = 28.1199 %\n"
     ]
    },
    {
     "name": "stderr",
     "output_type": "stream",
     "text": [
      "  0%|                                                                                                                                                                                | 0/15 [00:00<?, ?it/s]"
     ]
    },
    {
     "name": "stdout",
     "output_type": "stream",
     "text": [
      " loss = 0.3848\n"
     ]
    },
    {
     "name": "stderr",
     "output_type": "stream",
     "text": [
      "100%|██████████████████████████████████████████████████████████████████████████████████████████████████████████████████████████████████████████████████████████████████████| 15/15 [00:00<00:00, 718.74it/s]\n"
     ]
    },
    {
     "name": "stdout",
     "output_type": "stream",
     "text": [
      "Relative training error = 26.7560 %\n",
      "Relative test error = 27.4253 %\n"
     ]
    },
    {
     "name": "stderr",
     "output_type": "stream",
     "text": [
      "100%|██████████████████████████████████████████████████████████████████████████████████████████████████████████████████████████████████████████████████████████████████████| 15/15 [00:00<00:00, 814.86it/s]"
     ]
    },
    {
     "name": "stdout",
     "output_type": "stream",
     "text": [
      " loss = 0.2113\n",
      "Relative training error = 23.2094 %\n",
      "Relative test error = 26.0667 %\n"
     ]
    },
    {
     "name": "stderr",
     "output_type": "stream",
     "text": [
      "\n",
      "100%|██████████████████████████████████████████████████████████████████████████████████████████████████████████████████████████████████████████████████████████████████████| 15/15 [00:00<00:00, 644.18it/s]\n"
     ]
    },
    {
     "name": "stdout",
     "output_type": "stream",
     "text": [
      " loss = 0.0998\n",
      "Relative training error = 20.8334 %\n",
      "Relative test error = 24.1014 %\n"
     ]
    },
    {
     "name": "stderr",
     "output_type": "stream",
     "text": [
      "100%|██████████████████████████████████████████████████████████████████████████████████████████████████████████████████████████████████████████████████████████████████████| 15/15 [00:00<00:00, 671.98it/s]\n"
     ]
    },
    {
     "name": "stdout",
     "output_type": "stream",
     "text": [
      " loss = 0.1317\n",
      "Relative training error = 19.1392 %\n",
      "Relative test error = 23.2781 %\n"
     ]
    },
    {
     "name": "stderr",
     "output_type": "stream",
     "text": [
      "  0%|                                                                                                                                                                                | 0/15 [00:00<?, ?it/s]"
     ]
    },
    {
     "name": "stdout",
     "output_type": "stream",
     "text": [
      " loss = 0.0798\n"
     ]
    },
    {
     "name": "stderr",
     "output_type": "stream",
     "text": [
      "100%|██████████████████████████████████████████████████████████████████████████████████████████████████████████████████████████████████████████████████████████████████████| 15/15 [00:00<00:00, 757.17it/s]\n"
     ]
    },
    {
     "name": "stdout",
     "output_type": "stream",
     "text": [
      "Relative training error = 17.7642 %\n",
      "Relative test error = 22.2570 %\n"
     ]
    },
    {
     "name": "stderr",
     "output_type": "stream",
     "text": [
      "  0%|                                                                                                                                                                                | 0/15 [00:00<?, ?it/s]"
     ]
    },
    {
     "name": "stdout",
     "output_type": "stream",
     "text": [
      " loss = 0.1904\n"
     ]
    },
    {
     "name": "stderr",
     "output_type": "stream",
     "text": [
      "100%|██████████████████████████████████████████████████████████████████████████████████████████████████████████████████████████████████████████████████████████████████████| 15/15 [00:00<00:00, 702.87it/s]\n"
     ]
    },
    {
     "name": "stdout",
     "output_type": "stream",
     "text": [
      "Relative training error = 16.7888 %\n",
      "Relative test error = 20.4195 %\n"
     ]
    },
    {
     "name": "stderr",
     "output_type": "stream",
     "text": [
      "  0%|                                                                                                                                                                                | 0/15 [00:00<?, ?it/s]"
     ]
    },
    {
     "name": "stdout",
     "output_type": "stream",
     "text": [
      " loss = 0.1952\n"
     ]
    },
    {
     "name": "stderr",
     "output_type": "stream",
     "text": [
      "100%|██████████████████████████████████████████████████████████████████████████████████████████████████████████████████████████████████████████████████████████████████████| 15/15 [00:00<00:00, 701.58it/s]\n"
     ]
    },
    {
     "name": "stdout",
     "output_type": "stream",
     "text": [
      "Relative training error = 16.0922 %\n",
      "Relative test error = 19.0543 %\n"
     ]
    },
    {
     "name": "stderr",
     "output_type": "stream",
     "text": [
      "  0%|                                                                                                                                                                                | 0/15 [00:00<?, ?it/s]"
     ]
    },
    {
     "name": "stdout",
     "output_type": "stream",
     "text": [
      " loss = 0.2595\n"
     ]
    },
    {
     "name": "stderr",
     "output_type": "stream",
     "text": [
      "100%|██████████████████████████████████████████████████████████████████████████████████████████████████████████████████████████████████████████████████████████████████████| 15/15 [00:00<00:00, 686.72it/s]\n"
     ]
    },
    {
     "name": "stdout",
     "output_type": "stream",
     "text": [
      "Relative training error = 15.5257 %\n",
      "Relative test error = 18.4906 %\n"
     ]
    },
    {
     "name": "stderr",
     "output_type": "stream",
     "text": [
      "  0%|                                                                                                                                                                                | 0/15 [00:00<?, ?it/s]"
     ]
    },
    {
     "name": "stdout",
     "output_type": "stream",
     "text": [
      " loss = 0.0540\n"
     ]
    },
    {
     "name": "stderr",
     "output_type": "stream",
     "text": [
      "100%|██████████████████████████████████████████████████████████████████████████████████████████████████████████████████████████████████████████████████████████████████████| 15/15 [00:00<00:00, 749.14it/s]\n"
     ]
    },
    {
     "name": "stdout",
     "output_type": "stream",
     "text": [
      "Relative training error = 15.0599 %\n",
      "Relative test error = 17.5516 %\n"
     ]
    },
    {
     "name": "stderr",
     "output_type": "stream",
     "text": [
      "100%|██████████████████████████████████████████████████████████████████████████████████████████████████████████████████████████████████████████████████████████████████████| 15/15 [00:00<00:00, 752.79it/s]"
     ]
    },
    {
     "name": "stdout",
     "output_type": "stream",
     "text": [
      " loss = 0.4079\n"
     ]
    },
    {
     "name": "stderr",
     "output_type": "stream",
     "text": [
      "\n"
     ]
    },
    {
     "name": "stdout",
     "output_type": "stream",
     "text": [
      "Relative training error = 14.6744 %\n",
      "Relative test error = 17.2898 %\n"
     ]
    },
    {
     "name": "stderr",
     "output_type": "stream",
     "text": [
      "100%|██████████████████████████████████████████████████████████████████████████████████████████████████████████████████████████████████████████████████████████████████████| 15/15 [00:00<00:00, 766.11it/s]"
     ]
    },
    {
     "name": "stdout",
     "output_type": "stream",
     "text": [
      " loss = 0.0689\n",
      "Relative training error = 14.2992 %\n"
     ]
    },
    {
     "name": "stderr",
     "output_type": "stream",
     "text": [
      "\n"
     ]
    },
    {
     "name": "stdout",
     "output_type": "stream",
     "text": [
      "Relative test error = 16.9330 %\n"
     ]
    },
    {
     "name": "stderr",
     "output_type": "stream",
     "text": [
      "100%|██████████████████████████████████████████████████████████████████████████████████████████████████████████████████████████████████████████████████████████████████████| 15/15 [00:00<00:00, 735.34it/s]\n"
     ]
    },
    {
     "name": "stdout",
     "output_type": "stream",
     "text": [
      " loss = 0.0424\n",
      "Relative training error = 14.0549 %\n",
      "Relative test error = 16.3644 %\n"
     ]
    },
    {
     "name": "stderr",
     "output_type": "stream",
     "text": [
      "100%|██████████████████████████████████████████████████████████████████████████████████████████████████████████████████████████████████████████████████████████████████████| 15/15 [00:00<00:00, 802.46it/s]\n"
     ]
    },
    {
     "name": "stdout",
     "output_type": "stream",
     "text": [
      " loss = 0.1413\n",
      "Relative training error = 13.8022 %\n",
      "Relative test error = 16.0675 %\n"
     ]
    },
    {
     "name": "stderr",
     "output_type": "stream",
     "text": [
      "100%|██████████████████████████████████████████████████████████████████████████████████████████████████████████████████████████████████████████████████████████████████████| 15/15 [00:00<00:00, 771.83it/s]\n"
     ]
    },
    {
     "name": "stdout",
     "output_type": "stream",
     "text": [
      " loss = 0.0413\n",
      "Relative training error = 13.6031 %\n",
      "Relative test error = 15.8731 %\n"
     ]
    },
    {
     "name": "stderr",
     "output_type": "stream",
     "text": [
      "  0%|                                                                                                                                                                                | 0/15 [00:00<?, ?it/s]"
     ]
    },
    {
     "name": "stdout",
     "output_type": "stream",
     "text": [
      " loss = 0.0551\n"
     ]
    },
    {
     "name": "stderr",
     "output_type": "stream",
     "text": [
      "100%|██████████████████████████████████████████████████████████████████████████████████████████████████████████████████████████████████████████████████████████████████████| 15/15 [00:00<00:00, 720.56it/s]\n"
     ]
    },
    {
     "name": "stdout",
     "output_type": "stream",
     "text": [
      "Relative training error = 13.4134 %\n",
      "Relative test error = 15.7838 %\n"
     ]
    },
    {
     "name": "stderr",
     "output_type": "stream",
     "text": [
      "  0%|                                                                                                                                                                                | 0/15 [00:00<?, ?it/s]"
     ]
    },
    {
     "name": "stdout",
     "output_type": "stream",
     "text": [
      " loss = 0.0498\n"
     ]
    },
    {
     "name": "stderr",
     "output_type": "stream",
     "text": [
      "100%|██████████████████████████████████████████████████████████████████████████████████████████████████████████████████████████████████████████████████████████████████████| 15/15 [00:00<00:00, 761.41it/s]\n"
     ]
    },
    {
     "name": "stdout",
     "output_type": "stream",
     "text": [
      "Relative training error = 13.1657 %\n",
      "Relative test error = 15.4751 %\n"
     ]
    },
    {
     "name": "stderr",
     "output_type": "stream",
     "text": [
      "  0%|                                                                                                                                                                                | 0/15 [00:00<?, ?it/s]"
     ]
    },
    {
     "name": "stdout",
     "output_type": "stream",
     "text": [
      " loss = 0.1298\n"
     ]
    },
    {
     "name": "stderr",
     "output_type": "stream",
     "text": [
      "100%|██████████████████████████████████████████████████████████████████████████████████████████████████████████████████████████████████████████████████████████████████████| 15/15 [00:00<00:00, 672.56it/s]\n"
     ]
    },
    {
     "name": "stdout",
     "output_type": "stream",
     "text": [
      "Relative training error = 12.9851 %\n",
      "Relative test error = 15.6841 %\n"
     ]
    },
    {
     "name": "stderr",
     "output_type": "stream",
     "text": [
      "  0%|                                                                                                                                                                                | 0/15 [00:00<?, ?it/s]"
     ]
    },
    {
     "name": "stdout",
     "output_type": "stream",
     "text": [
      " loss = 0.0391\n"
     ]
    },
    {
     "name": "stderr",
     "output_type": "stream",
     "text": [
      "100%|██████████████████████████████████████████████████████████████████████████████████████████████████████████████████████████████████████████████████████████████████████| 15/15 [00:00<00:00, 755.88it/s]\n"
     ]
    },
    {
     "name": "stdout",
     "output_type": "stream",
     "text": [
      "Relative training error = 12.8898 %\n",
      "Relative test error = 16.1848 %\n"
     ]
    },
    {
     "name": "stderr",
     "output_type": "stream",
     "text": [
      "  0%|                                                                                                                                                                                | 0/15 [00:00<?, ?it/s]"
     ]
    },
    {
     "name": "stdout",
     "output_type": "stream",
     "text": [
      " loss = 0.0528\n"
     ]
    },
    {
     "name": "stderr",
     "output_type": "stream",
     "text": [
      "100%|██████████████████████████████████████████████████████████████████████████████████████████████████████████████████████████████████████████████████████████████████████| 15/15 [00:00<00:00, 666.47it/s]\n"
     ]
    },
    {
     "name": "stdout",
     "output_type": "stream",
     "text": [
      "Relative training error = 12.7375 %\n",
      "Relative test error = 15.8245 %\n"
     ]
    },
    {
     "name": "stderr",
     "output_type": "stream",
     "text": [
      "  0%|                                                                                                                                                                                | 0/15 [00:00<?, ?it/s]"
     ]
    },
    {
     "name": "stdout",
     "output_type": "stream",
     "text": [
      " loss = 0.0747\n"
     ]
    },
    {
     "name": "stderr",
     "output_type": "stream",
     "text": [
      "100%|██████████████████████████████████████████████████████████████████████████████████████████████████████████████████████████████████████████████████████████████████████| 15/15 [00:00<00:00, 655.91it/s]\n"
     ]
    },
    {
     "name": "stdout",
     "output_type": "stream",
     "text": [
      "Relative training error = 12.5709 %\n",
      "Relative test error = 15.5297 %\n"
     ]
    },
    {
     "name": "stderr",
     "output_type": "stream",
     "text": [
      "  0%|                                                                                                                                                                                | 0/15 [00:00<?, ?it/s]"
     ]
    },
    {
     "name": "stdout",
     "output_type": "stream",
     "text": [
      " loss = 0.0591\n"
     ]
    },
    {
     "name": "stderr",
     "output_type": "stream",
     "text": [
      "100%|██████████████████████████████████████████████████████████████████████████████████████████████████████████████████████████████████████████████████████████████████████| 15/15 [00:00<00:00, 702.34it/s]\n"
     ]
    },
    {
     "name": "stdout",
     "output_type": "stream",
     "text": [
      "Relative training error = 12.3295 %\n",
      "Relative test error = 15.8963 %\n"
     ]
    },
    {
     "name": "stderr",
     "output_type": "stream",
     "text": [
      "  0%|                                                                                                                                                                                | 0/15 [00:00<?, ?it/s]"
     ]
    },
    {
     "name": "stdout",
     "output_type": "stream",
     "text": [
      " loss = 0.0404\n"
     ]
    },
    {
     "name": "stderr",
     "output_type": "stream",
     "text": [
      "100%|██████████████████████████████████████████████████████████████████████████████████████████████████████████████████████████████████████████████████████████████████████| 15/15 [00:00<00:00, 652.39it/s]\n"
     ]
    },
    {
     "name": "stdout",
     "output_type": "stream",
     "text": [
      "Relative training error = 12.1743 %\n",
      "Relative test error = 15.6902 %\n"
     ]
    },
    {
     "name": "stderr",
     "output_type": "stream",
     "text": [
      "100%|██████████████████████████████████████████████████████████████████████████████████████████████████████████████████████████████████████████████████████████████████████| 15/15 [00:00<00:00, 694.98it/s]"
     ]
    },
    {
     "name": "stdout",
     "output_type": "stream",
     "text": [
      " loss = 0.0924\n"
     ]
    },
    {
     "name": "stderr",
     "output_type": "stream",
     "text": [
      "\n"
     ]
    },
    {
     "name": "stdout",
     "output_type": "stream",
     "text": [
      "Relative training error = 12.0881 %\n",
      "Relative test error = 15.3334 %\n"
     ]
    },
    {
     "name": "stderr",
     "output_type": "stream",
     "text": [
      "100%|██████████████████████████████████████████████████████████████████████████████████████████████████████████████████████████████████████████████████████████████████████| 15/15 [00:00<00:00, 749.91it/s]\n"
     ]
    },
    {
     "name": "stdout",
     "output_type": "stream",
     "text": [
      " loss = 0.1025\n",
      "Relative training error = 11.9557 %\n",
      "Relative test error = 15.5030 %\n"
     ]
    },
    {
     "name": "stderr",
     "output_type": "stream",
     "text": [
      "100%|██████████████████████████████████████████████████████████████████████████████████████████████████████████████████████████████████████████████████████████████████████| 15/15 [00:00<00:00, 729.06it/s]\n"
     ]
    },
    {
     "name": "stdout",
     "output_type": "stream",
     "text": [
      " loss = 0.0573\n",
      "Relative training error = 11.8213 %\n",
      "Relative test error = 15.9512 %\n"
     ]
    },
    {
     "name": "stderr",
     "output_type": "stream",
     "text": [
      "  0%|                                                                                                                                                                                | 0/15 [00:00<?, ?it/s]"
     ]
    },
    {
     "name": "stdout",
     "output_type": "stream",
     "text": [
      " loss = 0.1167\n"
     ]
    },
    {
     "name": "stderr",
     "output_type": "stream",
     "text": [
      "100%|██████████████████████████████████████████████████████████████████████████████████████████████████████████████████████████████████████████████████████████████████████| 15/15 [00:00<00:00, 690.09it/s]\n"
     ]
    },
    {
     "name": "stdout",
     "output_type": "stream",
     "text": [
      "Relative training error = 11.7001 %\n",
      "Relative test error = 15.9865 %\n"
     ]
    },
    {
     "name": "stderr",
     "output_type": "stream",
     "text": [
      "  0%|                                                                                                                                                                                | 0/15 [00:00<?, ?it/s]"
     ]
    },
    {
     "name": "stdout",
     "output_type": "stream",
     "text": [
      " loss = 0.1229\n"
     ]
    },
    {
     "name": "stderr",
     "output_type": "stream",
     "text": [
      "100%|██████████████████████████████████████████████████████████████████████████████████████████████████████████████████████████████████████████████████████████████████████| 15/15 [00:00<00:00, 620.20it/s]\n"
     ]
    },
    {
     "name": "stdout",
     "output_type": "stream",
     "text": [
      "Relative training error = 11.5539 %\n",
      "Relative test error = 15.7324 %\n",
      "Creating DAS_analysis object\n",
      "[-3.33904898e-02 -2.75592482e-04  6.75529046e-03  2.95434237e-02\n",
      " -3.40290729e-03  3.08737117e-02  1.01209520e-03 -4.80988323e-03\n",
      " -1.07648473e-02 -1.92345385e-03 -1.05707726e-02  1.32764589e-02\n",
      " -1.88479366e-04 -7.78112981e-03 -2.20797094e-02  1.91612666e-02\n",
      " -3.81322690e-02 -1.43958990e-02 -3.55501232e-03  5.87829705e-02\n",
      " -3.15450202e-02 -2.07752352e-02 -7.18415924e-03  3.33695040e-03\n",
      "  1.36140605e-02 -9.36144500e-04  2.43579140e-02 -3.12722198e-04\n",
      "  2.60047425e-02 -2.81825681e-03 -1.10942119e-02  5.04249430e-02\n",
      "  9.36378451e-03  1.44538531e-02 -1.95601641e-02  4.95149215e-02\n",
      "  2.97072515e-02 -3.72920018e-02 -5.25101326e-02  1.36140962e-02\n",
      " -3.78842837e-03 -2.36315610e-02  3.08886513e-03  9.94606874e-03\n",
      " -2.73260217e-02  5.52111629e-05 -5.57936320e-03 -2.81570151e-02\n",
      " -5.36236275e-02 -2.78460035e-02 -2.79262929e-02  1.98481853e-02\n",
      " -2.02375243e-02  7.09350627e-03 -1.80310190e-02  1.10893024e-02\n",
      "  1.38355662e-02  1.55181759e-02  7.77773490e-03  4.02404911e-02\n",
      " -3.26803716e-02 -3.26558853e-02  2.74570357e-02 -2.43002378e-02\n",
      "  1.28519502e-02 -7.79996707e-03  4.21526790e-03 -1.96827100e-02\n",
      " -3.06098804e-02  1.13523954e-02 -3.18856661e-02  3.28485979e-03\n",
      " -2.61098246e-02  5.02761503e-02  1.95430325e-02 -2.11639217e-02\n",
      "  1.11936941e-02  1.22667059e-02  2.38241491e-02 -1.50901499e-03\n",
      "  2.05020611e-02 -5.86918590e-03  9.52424640e-03  6.46418346e-04\n",
      " -1.96385022e-02 -1.28099016e-02 -5.11204137e-02  1.53145645e-02\n",
      " -4.96562421e-03 -1.24992020e-02 -3.22209028e-02 -1.05753944e-02\n",
      " -6.66280114e-06 -9.16344139e-03 -9.91075205e-04  4.45905269e-02\n",
      " -3.06444710e-02 -8.35294877e-03  1.45706277e-03 -2.13765282e-03\n",
      "  3.50208138e-03 -1.54497343e-02 -5.20253328e-02]\n",
      "Parameters ordered from most to least important:\n",
      "[[  7  11  25   9  33  15  19   5  23  29   3   1  27  59  41  17   6  34\n",
      "   30  13  55  21  10  28  14  48  16  83   8  61  93  43  68  36  98  65\n",
      "   80  46  44  62  35  53  47  31 100  40  58  72  73  32 102 101  78  97\n",
      "   54  91   2  86  60  76  26  95  84  69  77  67  90  81  52  99  45  87\n",
      "   12  70  18  22  75  24  63  38  39  88  89  66  57  74  92  64  51  20\n",
      "   50  79  82  71  56  37   0  42  85   4  96  49  94]]\n",
      "Creating DAS_Surrogate Object\n",
      "Creating Feature Engineering object\n",
      "Using  450/450 samples to train the ML model\n",
      "===============================\n",
      "Neural net parameters\n",
      "===============================\n",
      "Number of layers = 3\n",
      "Number of features = 103\n",
      "Loss function = squared\n",
      "Number of neurons per hidden layer = 10\n",
      "Number of output neurons = 1\n",
      "Activation = ['linear', 'linear', 'tanh', 'linear']\n",
      "This neural network has 134 weights.\n",
      "===============================\n",
      "===============================\n",
      "Training Deep Active Subspace Neural Network...\n"
     ]
    },
    {
     "name": "stderr",
     "output_type": "stream",
     "text": [
      "100%|██████████████████████████████████████████████████████████████████████████████████████████████████████████████████████████████████████████████████████████████████████| 15/15 [00:00<00:00, 560.28it/s]"
     ]
    },
    {
     "name": "stdout",
     "output_type": "stream",
     "text": [
      " loss = 1.6844\n"
     ]
    },
    {
     "name": "stderr",
     "output_type": "stream",
     "text": [
      "\n"
     ]
    },
    {
     "name": "stdout",
     "output_type": "stream",
     "text": [
      "Relative training error = 43.5574 %\n",
      "Relative test error = 33.7405 %\n"
     ]
    },
    {
     "name": "stderr",
     "output_type": "stream",
     "text": [
      "100%|██████████████████████████████████████████████████████████████████████████████████████████████████████████████████████████████████████████████████████████████████████| 15/15 [00:00<00:00, 640.20it/s]"
     ]
    },
    {
     "name": "stdout",
     "output_type": "stream",
     "text": [
      " loss = 2.0773\n"
     ]
    },
    {
     "name": "stderr",
     "output_type": "stream",
     "text": [
      "\n"
     ]
    },
    {
     "name": "stdout",
     "output_type": "stream",
     "text": [
      "Relative training error = 41.0914 %\n",
      "Relative test error = 32.3129 %\n"
     ]
    },
    {
     "name": "stderr",
     "output_type": "stream",
     "text": [
      "100%|██████████████████████████████████████████████████████████████████████████████████████████████████████████████████████████████████████████████████████████████████████| 15/15 [00:00<00:00, 639.58it/s]"
     ]
    },
    {
     "name": "stdout",
     "output_type": "stream",
     "text": [
      " loss = 0.7106\n"
     ]
    },
    {
     "name": "stderr",
     "output_type": "stream",
     "text": [
      "\n"
     ]
    },
    {
     "name": "stdout",
     "output_type": "stream",
     "text": [
      "Relative training error = 36.8918 %\n",
      "Relative test error = 30.8716 %\n"
     ]
    },
    {
     "name": "stderr",
     "output_type": "stream",
     "text": [
      "100%|██████████████████████████████████████████████████████████████████████████████████████████████████████████████████████████████████████████████████████████████████████| 15/15 [00:00<00:00, 764.44it/s]\n"
     ]
    },
    {
     "name": "stdout",
     "output_type": "stream",
     "text": [
      " loss = 0.5149\n",
      "Relative training error = 31.8398 %\n",
      "Relative test error = 30.0979 %\n"
     ]
    },
    {
     "name": "stderr",
     "output_type": "stream",
     "text": [
      "  0%|                                                                                                                                                                                | 0/15 [00:00<?, ?it/s]"
     ]
    },
    {
     "name": "stdout",
     "output_type": "stream",
     "text": [
      " loss = 0.4227\n"
     ]
    },
    {
     "name": "stderr",
     "output_type": "stream",
     "text": [
      "100%|██████████████████████████████████████████████████████████████████████████████████████████████████████████████████████████████████████████████████████████████████████| 15/15 [00:00<00:00, 735.01it/s]\n"
     ]
    },
    {
     "name": "stdout",
     "output_type": "stream",
     "text": [
      "Relative training error = 27.6344 %\n",
      "Relative test error = 28.2374 %\n"
     ]
    },
    {
     "name": "stderr",
     "output_type": "stream",
     "text": [
      "  0%|                                                                                                                                                                                | 0/15 [00:00<?, ?it/s]"
     ]
    },
    {
     "name": "stdout",
     "output_type": "stream",
     "text": [
      " loss = 0.2368\n"
     ]
    },
    {
     "name": "stderr",
     "output_type": "stream",
     "text": [
      "100%|██████████████████████████████████████████████████████████████████████████████████████████████████████████████████████████████████████████████████████████████████████| 15/15 [00:00<00:00, 588.62it/s]\n"
     ]
    },
    {
     "name": "stdout",
     "output_type": "stream",
     "text": [
      "Relative training error = 23.8233 %\n",
      "Relative test error = 25.8842 %\n"
     ]
    },
    {
     "name": "stderr",
     "output_type": "stream",
     "text": [
      "100%|██████████████████████████████████████████████████████████████████████████████████████████████████████████████████████████████████████████████████████████████████████| 15/15 [00:00<00:00, 704.25it/s]\n"
     ]
    },
    {
     "name": "stdout",
     "output_type": "stream",
     "text": [
      " loss = 0.4641\n",
      "Relative training error = 20.8279 %\n",
      "Relative test error = 24.0761 %\n"
     ]
    },
    {
     "name": "stderr",
     "output_type": "stream",
     "text": [
      "100%|██████████████████████████████████████████████████████████████████████████████████████████████████████████████████████████████████████████████████████████████████████| 15/15 [00:00<00:00, 671.49it/s]"
     ]
    },
    {
     "name": "stdout",
     "output_type": "stream",
     "text": [
      " loss = 0.1236\n",
      "Relative training error = 18.8601 %\n"
     ]
    },
    {
     "name": "stderr",
     "output_type": "stream",
     "text": [
      "\n"
     ]
    },
    {
     "name": "stdout",
     "output_type": "stream",
     "text": [
      "Relative test error = 22.0551 %\n"
     ]
    },
    {
     "name": "stderr",
     "output_type": "stream",
     "text": [
      "100%|██████████████████████████████████████████████████████████████████████████████████████████████████████████████████████████████████████████████████████████████████████| 15/15 [00:00<00:00, 746.47it/s]"
     ]
    },
    {
     "name": "stdout",
     "output_type": "stream",
     "text": [
      " loss = 0.2343\n",
      "Relative training error = 17.5820 %\n"
     ]
    },
    {
     "name": "stderr",
     "output_type": "stream",
     "text": [
      "\n"
     ]
    },
    {
     "name": "stdout",
     "output_type": "stream",
     "text": [
      "Relative test error = 19.8005 %\n"
     ]
    },
    {
     "name": "stderr",
     "output_type": "stream",
     "text": [
      "100%|██████████████████████████████████████████████████████████████████████████████████████████████████████████████████████████████████████████████████████████████████████| 15/15 [00:00<00:00, 698.34it/s]"
     ]
    },
    {
     "name": "stdout",
     "output_type": "stream",
     "text": [
      " loss = 0.0746\n"
     ]
    },
    {
     "name": "stderr",
     "output_type": "stream",
     "text": [
      "\n"
     ]
    },
    {
     "name": "stdout",
     "output_type": "stream",
     "text": [
      "Relative training error = 16.5442 %\n",
      "Relative test error = 17.8927 %\n"
     ]
    },
    {
     "name": "stderr",
     "output_type": "stream",
     "text": [
      "100%|██████████████████████████████████████████████████████████████████████████████████████████████████████████████████████████████████████████████████████████████████████| 15/15 [00:00<00:00, 686.13it/s]"
     ]
    },
    {
     "name": "stdout",
     "output_type": "stream",
     "text": [
      " loss = 0.1485\n"
     ]
    },
    {
     "name": "stderr",
     "output_type": "stream",
     "text": [
      "\n"
     ]
    },
    {
     "name": "stdout",
     "output_type": "stream",
     "text": [
      "Relative training error = 15.7004 %\n",
      "Relative test error = 16.8972 %\n"
     ]
    },
    {
     "name": "stderr",
     "output_type": "stream",
     "text": [
      "100%|██████████████████████████████████████████████████████████████████████████████████████████████████████████████████████████████████████████████████████████████████████| 15/15 [00:00<00:00, 693.05it/s]\n"
     ]
    },
    {
     "name": "stdout",
     "output_type": "stream",
     "text": [
      " loss = 0.0718\n",
      "Relative training error = 15.1831 %\n",
      "Relative test error = 16.4521 %\n"
     ]
    },
    {
     "name": "stderr",
     "output_type": "stream",
     "text": [
      "100%|██████████████████████████████████████████████████████████████████████████████████████████████████████████████████████████████████████████████████████████████████████| 15/15 [00:00<00:00, 656.89it/s]"
     ]
    },
    {
     "name": "stdout",
     "output_type": "stream",
     "text": [
      " loss = 0.0454\n",
      "Relative training error = 14.7219 %\n"
     ]
    },
    {
     "name": "stderr",
     "output_type": "stream",
     "text": [
      "\n"
     ]
    },
    {
     "name": "stdout",
     "output_type": "stream",
     "text": [
      "Relative test error = 15.3566 %\n"
     ]
    },
    {
     "name": "stderr",
     "output_type": "stream",
     "text": [
      "  0%|                                                                                                                                                                                | 0/15 [00:00<?, ?it/s]"
     ]
    },
    {
     "name": "stdout",
     "output_type": "stream",
     "text": [
      " loss = 0.2214\n"
     ]
    },
    {
     "name": "stderr",
     "output_type": "stream",
     "text": [
      "100%|██████████████████████████████████████████████████████████████████████████████████████████████████████████████████████████████████████████████████████████████████████| 15/15 [00:00<00:00, 534.56it/s]\n"
     ]
    },
    {
     "name": "stdout",
     "output_type": "stream",
     "text": [
      "Relative training error = 14.3213 %\n",
      "Relative test error = 15.0226 %\n"
     ]
    },
    {
     "name": "stderr",
     "output_type": "stream",
     "text": [
      "100%|██████████████████████████████████████████████████████████████████████████████████████████████████████████████████████████████████████████████████████████████████████| 15/15 [00:00<00:00, 597.26it/s]"
     ]
    },
    {
     "name": "stdout",
     "output_type": "stream",
     "text": [
      " loss = 0.0687\n"
     ]
    },
    {
     "name": "stderr",
     "output_type": "stream",
     "text": [
      "\n"
     ]
    },
    {
     "name": "stdout",
     "output_type": "stream",
     "text": [
      "Relative training error = 13.9393 %\n",
      "Relative test error = 15.1971 %\n"
     ]
    },
    {
     "name": "stderr",
     "output_type": "stream",
     "text": [
      "100%|██████████████████████████████████████████████████████████████████████████████████████████████████████████████████████████████████████████████████████████████████████| 15/15 [00:00<00:00, 713.49it/s]"
     ]
    },
    {
     "name": "stdout",
     "output_type": "stream",
     "text": [
      " loss = 0.1043\n"
     ]
    },
    {
     "name": "stderr",
     "output_type": "stream",
     "text": [
      "\n"
     ]
    },
    {
     "name": "stdout",
     "output_type": "stream",
     "text": [
      "Relative training error = 13.6706 %\n",
      "Relative test error = 14.6780 %\n"
     ]
    },
    {
     "name": "stderr",
     "output_type": "stream",
     "text": [
      "100%|██████████████████████████████████████████████████████████████████████████████████████████████████████████████████████████████████████████████████████████████████████| 15/15 [00:00<00:00, 614.02it/s]"
     ]
    },
    {
     "name": "stdout",
     "output_type": "stream",
     "text": [
      " loss = 0.0304\n"
     ]
    },
    {
     "name": "stderr",
     "output_type": "stream",
     "text": [
      "\n"
     ]
    },
    {
     "name": "stdout",
     "output_type": "stream",
     "text": [
      "Relative training error = 13.3983 %\n",
      "Relative test error = 14.3530 %\n"
     ]
    },
    {
     "name": "stderr",
     "output_type": "stream",
     "text": [
      "100%|██████████████████████████████████████████████████████████████████████████████████████████████████████████████████████████████████████████████████████████████████████| 15/15 [00:00<00:00, 739.22it/s]\n"
     ]
    },
    {
     "name": "stdout",
     "output_type": "stream",
     "text": [
      " loss = 0.1758\n",
      "Relative training error = 13.1569 %\n",
      "Relative test error = 14.4800 %\n"
     ]
    },
    {
     "name": "stderr",
     "output_type": "stream",
     "text": [
      "100%|██████████████████████████████████████████████████████████████████████████████████████████████████████████████████████████████████████████████████████████████████████| 15/15 [00:00<00:00, 621.02it/s]"
     ]
    },
    {
     "name": "stdout",
     "output_type": "stream",
     "text": [
      " loss = 0.1818\n",
      "Relative training error = 12.9738 %\n",
      "Relative test error = 14.7209 %\n"
     ]
    },
    {
     "name": "stderr",
     "output_type": "stream",
     "text": [
      "\n",
      "100%|██████████████████████████████████████████████████████████████████████████████████████████████████████████████████████████████████████████████████████████████████████| 15/15 [00:00<00:00, 672.85it/s]"
     ]
    },
    {
     "name": "stdout",
     "output_type": "stream",
     "text": [
      " loss = 0.0517\n",
      "Relative training error = 12.6492 %\n"
     ]
    },
    {
     "name": "stderr",
     "output_type": "stream",
     "text": [
      "\n"
     ]
    },
    {
     "name": "stdout",
     "output_type": "stream",
     "text": [
      "Relative test error = 14.4280 %\n"
     ]
    },
    {
     "name": "stderr",
     "output_type": "stream",
     "text": [
      "100%|██████████████████████████████████████████████████████████████████████████████████████████████████████████████████████████████████████████████████████████████████████| 15/15 [00:00<00:00, 710.02it/s]\n"
     ]
    },
    {
     "name": "stdout",
     "output_type": "stream",
     "text": [
      " loss = 0.0450\n",
      "Relative training error = 12.4221 %\n",
      "Relative test error = 14.2209 %\n"
     ]
    },
    {
     "name": "stderr",
     "output_type": "stream",
     "text": [
      "100%|██████████████████████████████████████████████████████████████████████████████████████████████████████████████████████████████████████████████████████████████████████| 15/15 [00:00<00:00, 748.30it/s]\n"
     ]
    },
    {
     "name": "stdout",
     "output_type": "stream",
     "text": [
      " loss = 0.0335\n",
      "Relative training error = 12.2853 %\n",
      "Relative test error = 14.1451 %\n"
     ]
    },
    {
     "name": "stderr",
     "output_type": "stream",
     "text": [
      "  0%|                                                                                                                                                                                | 0/15 [00:00<?, ?it/s]"
     ]
    },
    {
     "name": "stdout",
     "output_type": "stream",
     "text": [
      " loss = 0.0276\n"
     ]
    },
    {
     "name": "stderr",
     "output_type": "stream",
     "text": [
      "100%|██████████████████████████████████████████████████████████████████████████████████████████████████████████████████████████████████████████████████████████████████████| 15/15 [00:00<00:00, 706.05it/s]\n"
     ]
    },
    {
     "name": "stdout",
     "output_type": "stream",
     "text": [
      "Relative training error = 12.1134 %\n",
      "Relative test error = 14.5462 %\n"
     ]
    },
    {
     "name": "stderr",
     "output_type": "stream",
     "text": [
      "  0%|                                                                                                                                                                                | 0/15 [00:00<?, ?it/s]"
     ]
    },
    {
     "name": "stdout",
     "output_type": "stream",
     "text": [
      " loss = 0.0276\n"
     ]
    },
    {
     "name": "stderr",
     "output_type": "stream",
     "text": [
      "100%|██████████████████████████████████████████████████████████████████████████████████████████████████████████████████████████████████████████████████████████████████████| 15/15 [00:00<00:00, 632.80it/s]\n"
     ]
    },
    {
     "name": "stdout",
     "output_type": "stream",
     "text": [
      "Relative training error = 12.0012 %\n",
      "Relative test error = 15.3403 %\n"
     ]
    },
    {
     "name": "stderr",
     "output_type": "stream",
     "text": [
      "  0%|                                                                                                                                                                                | 0/15 [00:00<?, ?it/s]"
     ]
    },
    {
     "name": "stdout",
     "output_type": "stream",
     "text": [
      " loss = 0.0982\n"
     ]
    },
    {
     "name": "stderr",
     "output_type": "stream",
     "text": [
      "100%|██████████████████████████████████████████████████████████████████████████████████████████████████████████████████████████████████████████████████████████████████████| 15/15 [00:00<00:00, 668.35it/s]\n"
     ]
    },
    {
     "name": "stdout",
     "output_type": "stream",
     "text": [
      "Relative training error = 11.8545 %\n",
      "Relative test error = 15.0184 %\n",
      "Creating DAS_analysis object\n",
      "[-3.33904898e-02 -2.75592482e-04  6.75529046e-03  2.95434237e-02\n",
      " -3.40290729e-03  3.08737117e-02  1.01209520e-03 -4.80988323e-03\n",
      " -1.07648473e-02 -1.92345385e-03 -1.05707726e-02  1.32764589e-02\n",
      " -1.88479366e-04 -7.78112981e-03 -2.20797094e-02  1.91612666e-02\n",
      " -3.81322690e-02 -1.43958990e-02 -3.55501232e-03  5.87829705e-02\n",
      " -3.15450202e-02 -2.07752352e-02 -7.18415924e-03  3.33695040e-03\n",
      "  1.36140605e-02 -9.36144500e-04  2.43579140e-02 -3.12722198e-04\n",
      "  2.60047425e-02 -2.81825681e-03 -1.10942119e-02  5.04249430e-02\n",
      "  9.36378451e-03  1.44538531e-02 -1.95601641e-02  4.95149215e-02\n",
      "  2.97072515e-02 -3.72920018e-02 -5.25101326e-02  1.36140962e-02\n",
      " -3.78842837e-03 -2.36315610e-02  3.08886513e-03  9.94606874e-03\n",
      " -2.73260217e-02  5.52111629e-05 -5.57936320e-03 -2.81570151e-02\n",
      " -5.36236275e-02 -2.78460035e-02 -2.79262929e-02  1.98481853e-02\n",
      " -2.02375243e-02  7.09350627e-03 -1.80310190e-02  1.10893024e-02\n",
      "  1.38355662e-02  1.55181759e-02  7.77773490e-03  4.02404911e-02\n",
      " -3.26803716e-02 -3.26558853e-02  2.74570357e-02 -2.43002378e-02\n",
      "  1.28519502e-02 -7.79996707e-03  4.21526790e-03 -1.96827100e-02\n",
      " -3.06098804e-02  1.13523954e-02 -3.18856661e-02  3.28485979e-03\n",
      " -2.61098246e-02  5.02761503e-02  1.95430325e-02 -2.11639217e-02\n",
      "  1.11936941e-02  1.22667059e-02  2.38241491e-02 -1.50901499e-03\n",
      "  2.05020611e-02 -5.86918590e-03  9.52424640e-03  6.46418346e-04\n",
      " -1.96385022e-02 -1.28099016e-02 -5.11204137e-02  1.53145645e-02\n",
      " -4.96562421e-03 -1.24992020e-02 -3.22209028e-02 -1.05753944e-02\n",
      " -6.66280114e-06 -9.16344139e-03 -9.91075205e-04  4.45905269e-02\n",
      " -3.06444710e-02 -8.35294877e-03  1.45706277e-03 -2.13765282e-03\n",
      "  3.50208138e-03 -1.54497343e-02 -5.20253328e-02]\n",
      "Parameters ordered from most to least important:\n",
      "[[  7  11  25   9  33  15  19   5   3  23  29   1  27  17  41  13  55  59\n",
      "    6  14  16  34  10  36  58  21  47  80  44  61  68  30  65   8  40  43\n",
      "   46  48  77  98  53  60  72  35  31  83 102  37  86  62  18  96  97  69\n",
      "   93  52 101  28  87  74  73  82  20  24  70  45   0  78  50  94  42  26\n",
      "   32  95  91 100  84  63   2  89  92  90  12  56  79  54  64  88  49  75\n",
      "   66  81  22  76   4  39  99  38  51  57  85  67  71]]\n",
      "Creating DAS_Surrogate Object\n",
      "Creating Feature Engineering object\n",
      "Using  450/450 samples to train the ML model\n",
      "===============================\n",
      "Neural net parameters\n",
      "===============================\n",
      "Number of layers = 3\n",
      "Number of features = 103\n",
      "Loss function = squared\n",
      "Number of neurons per hidden layer = 10\n",
      "Number of output neurons = 1\n",
      "Activation = ['linear', 'linear', 'tanh', 'linear']\n",
      "This neural network has 134 weights.\n",
      "===============================\n",
      "===============================\n",
      "Training Deep Active Subspace Neural Network...\n"
     ]
    },
    {
     "name": "stderr",
     "output_type": "stream",
     "text": [
      "100%|██████████████████████████████████████████████████████████████████████████████████████████████████████████████████████████████████████████████████████████████████████| 15/15 [00:00<00:00, 728.57it/s]"
     ]
    },
    {
     "name": "stdout",
     "output_type": "stream",
     "text": [
      " loss = 0.9815\n"
     ]
    },
    {
     "name": "stderr",
     "output_type": "stream",
     "text": [
      "\n"
     ]
    },
    {
     "name": "stdout",
     "output_type": "stream",
     "text": [
      "Relative training error = 43.2738 %\n",
      "Relative test error = 34.5542 %\n"
     ]
    },
    {
     "name": "stderr",
     "output_type": "stream",
     "text": [
      "100%|██████████████████████████████████████████████████████████████████████████████████████████████████████████████████████████████████████████████████████████████████████| 15/15 [00:00<00:00, 663.15it/s]\n"
     ]
    },
    {
     "name": "stdout",
     "output_type": "stream",
     "text": [
      " loss = 0.9846\n",
      "Relative training error = 40.4639 %\n",
      "Relative test error = 33.6915 %\n"
     ]
    },
    {
     "name": "stderr",
     "output_type": "stream",
     "text": [
      "100%|██████████████████████████████████████████████████████████████████████████████████████████████████████████████████████████████████████████████████████████████████████| 15/15 [00:00<00:00, 677.59it/s]"
     ]
    },
    {
     "name": "stdout",
     "output_type": "stream",
     "text": [
      " loss = 0.6116\n",
      "Relative training error = 36.2493 %\n",
      "Relative test error = 31.2299 %\n"
     ]
    },
    {
     "name": "stderr",
     "output_type": "stream",
     "text": [
      "\n",
      "                                                                                                                                                                                                            \r"
     ]
    },
    {
     "name": "stdout",
     "output_type": "stream",
     "text": [
      " loss = 0.2341\n"
     ]
    },
    {
     "name": "stderr",
     "output_type": "stream",
     "text": [
      "100%|██████████████████████████████████████████████████████████████████████████████████████████████████████████████████████████████████████████████████████████████████████| 15/15 [00:00<00:00, 649.52it/s]\n"
     ]
    },
    {
     "name": "stdout",
     "output_type": "stream",
     "text": [
      "Relative training error = 31.9762 %\n",
      "Relative test error = 31.3803 %\n"
     ]
    },
    {
     "name": "stderr",
     "output_type": "stream",
     "text": [
      "100%|██████████████████████████████████████████████████████████████████████████████████████████████████████████████████████████████████████████████████████████████████████| 15/15 [00:00<00:00, 725.62it/s]\n"
     ]
    },
    {
     "name": "stdout",
     "output_type": "stream",
     "text": [
      " loss = 0.5758\n",
      "Relative training error = 28.3244 %\n",
      "Relative test error = 31.0486 %\n"
     ]
    },
    {
     "name": "stderr",
     "output_type": "stream",
     "text": [
      "100%|██████████████████████████████████████████████████████████████████████████████████████████████████████████████████████████████████████████████████████████████████████| 15/15 [00:00<00:00, 657.77it/s]\n"
     ]
    },
    {
     "name": "stdout",
     "output_type": "stream",
     "text": [
      " loss = 0.2925\n",
      "Relative training error = 25.6268 %\n",
      "Relative test error = 28.1732 %\n"
     ]
    },
    {
     "name": "stderr",
     "output_type": "stream",
     "text": [
      "  0%|                                                                                                                                                                                | 0/15 [00:00<?, ?it/s]"
     ]
    },
    {
     "name": "stdout",
     "output_type": "stream",
     "text": [
      " loss = 0.1291\n"
     ]
    },
    {
     "name": "stderr",
     "output_type": "stream",
     "text": [
      "100%|██████████████████████████████████████████████████████████████████████████████████████████████████████████████████████████████████████████████████████████████████████| 15/15 [00:00<00:00, 629.86it/s]\n"
     ]
    },
    {
     "name": "stdout",
     "output_type": "stream",
     "text": [
      "Relative training error = 23.4098 %\n",
      "Relative test error = 26.2056 %\n"
     ]
    },
    {
     "name": "stderr",
     "output_type": "stream",
     "text": [
      "  0%|                                                                                                                                                                                | 0/15 [00:00<?, ?it/s]"
     ]
    },
    {
     "name": "stdout",
     "output_type": "stream",
     "text": [
      " loss = 0.5597\n"
     ]
    },
    {
     "name": "stderr",
     "output_type": "stream",
     "text": [
      "100%|██████████████████████████████████████████████████████████████████████████████████████████████████████████████████████████████████████████████████████████████████████| 15/15 [00:00<00:00, 761.83it/s]\n"
     ]
    },
    {
     "name": "stdout",
     "output_type": "stream",
     "text": [
      "Relative training error = 21.2246 %\n",
      "Relative test error = 25.3613 %\n"
     ]
    },
    {
     "name": "stderr",
     "output_type": "stream",
     "text": [
      "  0%|                                                                                                                                                                                | 0/15 [00:00<?, ?it/s]"
     ]
    },
    {
     "name": "stdout",
     "output_type": "stream",
     "text": [
      " loss = 0.0431\n"
     ]
    },
    {
     "name": "stderr",
     "output_type": "stream",
     "text": [
      "100%|██████████████████████████████████████████████████████████████████████████████████████████████████████████████████████████████████████████████████████████████████████| 15/15 [00:00<00:00, 662.49it/s]\n"
     ]
    },
    {
     "name": "stdout",
     "output_type": "stream",
     "text": [
      "Relative training error = 19.6404 %\n",
      "Relative test error = 24.4781 %\n"
     ]
    },
    {
     "name": "stderr",
     "output_type": "stream",
     "text": [
      "100%|██████████████████████████████████████████████████████████████████████████████████████████████████████████████████████████████████████████████████████████████████████| 15/15 [00:00<00:00, 673.29it/s]"
     ]
    },
    {
     "name": "stdout",
     "output_type": "stream",
     "text": [
      " loss = 0.1253\n",
      "Relative training error = 18.3445 %\n",
      "Relative test error = 22.5560 %\n"
     ]
    },
    {
     "name": "stderr",
     "output_type": "stream",
     "text": [
      "\n",
      "100%|██████████████████████████████████████████████████████████████████████████████████████████████████████████████████████████████████████████████████████████████████████| 15/15 [00:00<00:00, 706.24it/s]"
     ]
    },
    {
     "name": "stdout",
     "output_type": "stream",
     "text": [
      " loss = 0.2556\n",
      "Relative training error = 17.3372 %\n",
      "Relative test error = 20.7513 %\n"
     ]
    },
    {
     "name": "stderr",
     "output_type": "stream",
     "text": [
      "\n",
      "                                                                                                                                                                                                            \r"
     ]
    },
    {
     "name": "stdout",
     "output_type": "stream",
     "text": [
      " loss = 0.3150\n"
     ]
    },
    {
     "name": "stderr",
     "output_type": "stream",
     "text": [
      "100%|██████████████████████████████████████████████████████████████████████████████████████████████████████████████████████████████████████████████████████████████████████| 15/15 [00:00<00:00, 643.29it/s]\n"
     ]
    },
    {
     "name": "stdout",
     "output_type": "stream",
     "text": [
      "Relative training error = 16.4517 %\n",
      "Relative test error = 19.7559 %\n"
     ]
    },
    {
     "name": "stderr",
     "output_type": "stream",
     "text": [
      "  0%|                                                                                                                                                                                | 0/15 [00:00<?, ?it/s]"
     ]
    },
    {
     "name": "stdout",
     "output_type": "stream",
     "text": [
      " loss = 0.0699\n"
     ]
    },
    {
     "name": "stderr",
     "output_type": "stream",
     "text": [
      "100%|██████████████████████████████████████████████████████████████████████████████████████████████████████████████████████████████████████████████████████████████████████| 15/15 [00:00<00:00, 687.31it/s]\n"
     ]
    },
    {
     "name": "stdout",
     "output_type": "stream",
     "text": [
      "Relative training error = 15.7217 %\n",
      "Relative test error = 17.6993 %\n"
     ]
    },
    {
     "name": "stderr",
     "output_type": "stream",
     "text": [
      "  0%|                                                                                                                                                                                | 0/15 [00:00<?, ?it/s]"
     ]
    },
    {
     "name": "stdout",
     "output_type": "stream",
     "text": [
      " loss = 0.2002\n"
     ]
    },
    {
     "name": "stderr",
     "output_type": "stream",
     "text": [
      "100%|██████████████████████████████████████████████████████████████████████████████████████████████████████████████████████████████████████████████████████████████████████| 15/15 [00:00<00:00, 665.21it/s]\n"
     ]
    },
    {
     "name": "stdout",
     "output_type": "stream",
     "text": [
      "Relative training error = 15.1235 %\n",
      "Relative test error = 17.0149 %\n"
     ]
    },
    {
     "name": "stderr",
     "output_type": "stream",
     "text": [
      "100%|██████████████████████████████████████████████████████████████████████████████████████████████████████████████████████████████████████████████████████████████████████| 15/15 [00:00<00:00, 706.00it/s]"
     ]
    },
    {
     "name": "stdout",
     "output_type": "stream",
     "text": [
      " loss = 0.0376\n"
     ]
    },
    {
     "name": "stderr",
     "output_type": "stream",
     "text": [
      "\n"
     ]
    },
    {
     "name": "stdout",
     "output_type": "stream",
     "text": [
      "Relative training error = 14.6401 %\n",
      "Relative test error = 15.5901 %\n"
     ]
    },
    {
     "name": "stderr",
     "output_type": "stream",
     "text": [
      "100%|██████████████████████████████████████████████████████████████████████████████████████████████████████████████████████████████████████████████████████████████████████| 15/15 [00:00<00:00, 686.16it/s]\n"
     ]
    },
    {
     "name": "stdout",
     "output_type": "stream",
     "text": [
      " loss = 0.0923\n",
      "Relative training error = 14.2592 %\n",
      "Relative test error = 15.4356 %\n"
     ]
    },
    {
     "name": "stderr",
     "output_type": "stream",
     "text": [
      "100%|██████████████████████████████████████████████████████████████████████████████████████████████████████████████████████████████████████████████████████████████████████| 15/15 [00:00<00:00, 686.85it/s]\n"
     ]
    },
    {
     "name": "stdout",
     "output_type": "stream",
     "text": [
      " loss = 0.1571\n",
      "Relative training error = 13.9237 %\n",
      "Relative test error = 14.8307 %\n"
     ]
    },
    {
     "name": "stderr",
     "output_type": "stream",
     "text": [
      "  0%|                                                                                                                                                                                | 0/15 [00:00<?, ?it/s]"
     ]
    },
    {
     "name": "stdout",
     "output_type": "stream",
     "text": [
      " loss = 0.2309\n"
     ]
    },
    {
     "name": "stderr",
     "output_type": "stream",
     "text": [
      "100%|██████████████████████████████████████████████████████████████████████████████████████████████████████████████████████████████████████████████████████████████████████| 15/15 [00:00<00:00, 667.68it/s]\n"
     ]
    },
    {
     "name": "stdout",
     "output_type": "stream",
     "text": [
      "Relative training error = 13.6052 %\n",
      "Relative test error = 15.2147 %\n"
     ]
    },
    {
     "name": "stderr",
     "output_type": "stream",
     "text": [
      "  0%|                                                                                                                                                                                | 0/15 [00:00<?, ?it/s]"
     ]
    },
    {
     "name": "stdout",
     "output_type": "stream",
     "text": [
      " loss = 0.3106\n"
     ]
    },
    {
     "name": "stderr",
     "output_type": "stream",
     "text": [
      "100%|██████████████████████████████████████████████████████████████████████████████████████████████████████████████████████████████████████████████████████████████████████| 15/15 [00:00<00:00, 654.27it/s]\n"
     ]
    },
    {
     "name": "stdout",
     "output_type": "stream",
     "text": [
      "Relative training error = 13.3013 %\n",
      "Relative test error = 15.3843 %\n"
     ]
    },
    {
     "name": "stderr",
     "output_type": "stream",
     "text": [
      "100%|██████████████████████████████████████████████████████████████████████████████████████████████████████████████████████████████████████████████████████████████████████| 15/15 [00:00<00:00, 632.71it/s]\n"
     ]
    },
    {
     "name": "stdout",
     "output_type": "stream",
     "text": [
      " loss = 0.1438\n",
      "Relative training error = 13.0868 %\n",
      "Relative test error = 15.6692 %\n"
     ]
    },
    {
     "name": "stderr",
     "output_type": "stream",
     "text": [
      "100%|██████████████████████████████████████████████████████████████████████████████████████████████████████████████████████████████████████████████████████████████████████| 15/15 [00:00<00:00, 710.62it/s]\n"
     ]
    },
    {
     "name": "stdout",
     "output_type": "stream",
     "text": [
      " loss = 0.0372\n",
      "Relative training error = 12.8469 %\n",
      "Relative test error = 15.7208 %\n",
      "Creating DAS_analysis object\n",
      "[-3.33904898e-02 -2.75592482e-04  6.75529046e-03  2.95434237e-02\n",
      " -3.40290729e-03  3.08737117e-02  1.01209520e-03 -4.80988323e-03\n",
      " -1.07648473e-02 -1.92345385e-03 -1.05707726e-02  1.32764589e-02\n",
      " -1.88479366e-04 -7.78112981e-03 -2.20797094e-02  1.91612666e-02\n",
      " -3.81322690e-02 -1.43958990e-02 -3.55501232e-03  5.87829705e-02\n",
      " -3.15450202e-02 -2.07752352e-02 -7.18415924e-03  3.33695040e-03\n",
      "  1.36140605e-02 -9.36144500e-04  2.43579140e-02 -3.12722198e-04\n",
      "  2.60047425e-02 -2.81825681e-03 -1.10942119e-02  5.04249430e-02\n",
      "  9.36378451e-03  1.44538531e-02 -1.95601641e-02  4.95149215e-02\n",
      "  2.97072515e-02 -3.72920018e-02 -5.25101326e-02  1.36140962e-02\n",
      " -3.78842837e-03 -2.36315610e-02  3.08886513e-03  9.94606874e-03\n",
      " -2.73260217e-02  5.52111629e-05 -5.57936320e-03 -2.81570151e-02\n",
      " -5.36236275e-02 -2.78460035e-02 -2.79262929e-02  1.98481853e-02\n",
      " -2.02375243e-02  7.09350627e-03 -1.80310190e-02  1.10893024e-02\n",
      "  1.38355662e-02  1.55181759e-02  7.77773490e-03  4.02404911e-02\n",
      " -3.26803716e-02 -3.26558853e-02  2.74570357e-02 -2.43002378e-02\n",
      "  1.28519502e-02 -7.79996707e-03  4.21526790e-03 -1.96827100e-02\n",
      " -3.06098804e-02  1.13523954e-02 -3.18856661e-02  3.28485979e-03\n",
      " -2.61098246e-02  5.02761503e-02  1.95430325e-02 -2.11639217e-02\n",
      "  1.11936941e-02  1.22667059e-02  2.38241491e-02 -1.50901499e-03\n",
      "  2.05020611e-02 -5.86918590e-03  9.52424640e-03  6.46418346e-04\n",
      " -1.96385022e-02 -1.28099016e-02 -5.11204137e-02  1.53145645e-02\n",
      " -4.96562421e-03 -1.24992020e-02 -3.22209028e-02 -1.05753944e-02\n",
      " -6.66280114e-06 -9.16344139e-03 -9.91075205e-04  4.45905269e-02\n",
      " -3.06444710e-02 -8.35294877e-03  1.45706277e-03 -2.13765282e-03\n",
      "  3.50208138e-03 -1.54497343e-02 -5.20253328e-02]\n",
      "Parameters ordered from most to least important:\n",
      "[[  7  11  25   9  33  15  19   5   3  23  29   1  27  59  41  55  17   6\n",
      "   21  13  53  68  61  46  16  30  14  83  65  34  43  93  31 100  44  10\n",
      "   80  47  35  28 101  54  73  58  86  48   8  97  98  60  82  36  37  45\n",
      "  102  52  50  77  40  87  20  72   2  94  56  99  57   0  89  79  12  76\n",
      "   91  32  70  92  96  24  26  81  66  74  95  90  63  69  39  67  78  42\n",
      "   75  38  71  49  22  64  85   4  51  88  84  62  18]]\n",
      "Creating DAS_Surrogate Object\n",
      "Creating Feature Engineering object\n",
      "Using  450/450 samples to train the ML model\n",
      "===============================\n",
      "Neural net parameters\n",
      "===============================\n",
      "Number of layers = 3\n",
      "Number of features = 103\n",
      "Loss function = squared\n",
      "Number of neurons per hidden layer = 10\n",
      "Number of output neurons = 1\n",
      "Activation = ['linear', 'linear', 'tanh', 'linear']\n",
      "This neural network has 134 weights.\n",
      "===============================\n",
      "===============================\n",
      "Training Deep Active Subspace Neural Network...\n"
     ]
    },
    {
     "name": "stderr",
     "output_type": "stream",
     "text": [
      "100%|██████████████████████████████████████████████████████████████████████████████████████████████████████████████████████████████████████████████████████████████████████| 15/15 [00:00<00:00, 732.61it/s]"
     ]
    },
    {
     "name": "stdout",
     "output_type": "stream",
     "text": [
      " loss = 0.8301\n",
      "Relative training error = 44.3388 %\n"
     ]
    },
    {
     "name": "stderr",
     "output_type": "stream",
     "text": [
      "\n"
     ]
    },
    {
     "name": "stdout",
     "output_type": "stream",
     "text": [
      "Relative test error = 36.0413 %\n"
     ]
    },
    {
     "name": "stderr",
     "output_type": "stream",
     "text": [
      "100%|██████████████████████████████████████████████████████████████████████████████████████████████████████████████████████████████████████████████████████████████████████| 15/15 [00:00<00:00, 695.70it/s]\n"
     ]
    },
    {
     "name": "stdout",
     "output_type": "stream",
     "text": [
      " loss = 0.5371\n",
      "Relative training error = 42.6256 %\n",
      "Relative test error = 36.0080 %\n"
     ]
    },
    {
     "name": "stderr",
     "output_type": "stream",
     "text": [
      "  0%|                                                                                                                                                                                | 0/15 [00:00<?, ?it/s]"
     ]
    },
    {
     "name": "stdout",
     "output_type": "stream",
     "text": [
      " loss = 0.8674\n"
     ]
    },
    {
     "name": "stderr",
     "output_type": "stream",
     "text": [
      "100%|██████████████████████████████████████████████████████████████████████████████████████████████████████████████████████████████████████████████████████████████████████| 15/15 [00:00<00:00, 685.81it/s]\n"
     ]
    },
    {
     "name": "stdout",
     "output_type": "stream",
     "text": [
      "Relative training error = 39.1307 %\n",
      "Relative test error = 35.6672 %\n"
     ]
    },
    {
     "name": "stderr",
     "output_type": "stream",
     "text": [
      "  0%|                                                                                                                                                                                | 0/15 [00:00<?, ?it/s]"
     ]
    },
    {
     "name": "stdout",
     "output_type": "stream",
     "text": [
      " loss = 0.9770\n"
     ]
    },
    {
     "name": "stderr",
     "output_type": "stream",
     "text": [
      "100%|██████████████████████████████████████████████████████████████████████████████████████████████████████████████████████████████████████████████████████████████████████| 15/15 [00:00<00:00, 635.23it/s]\n"
     ]
    },
    {
     "name": "stdout",
     "output_type": "stream",
     "text": [
      "Relative training error = 34.5100 %\n",
      "Relative test error = 30.8802 %\n"
     ]
    },
    {
     "name": "stderr",
     "output_type": "stream",
     "text": [
      "100%|██████████████████████████████████████████████████████████████████████████████████████████████████████████████████████████████████████████████████████████████████████| 15/15 [00:00<00:00, 599.92it/s]\n"
     ]
    },
    {
     "name": "stdout",
     "output_type": "stream",
     "text": [
      " loss = 0.7119\n",
      "Relative training error = 29.9423 %\n",
      "Relative test error = 26.2824 %\n"
     ]
    },
    {
     "name": "stderr",
     "output_type": "stream",
     "text": [
      "100%|██████████████████████████████████████████████████████████████████████████████████████████████████████████████████████████████████████████████████████████████████████| 15/15 [00:00<00:00, 760.96it/s]"
     ]
    },
    {
     "name": "stdout",
     "output_type": "stream",
     "text": [
      " loss = 0.2228\n"
     ]
    },
    {
     "name": "stderr",
     "output_type": "stream",
     "text": [
      "\n"
     ]
    },
    {
     "name": "stdout",
     "output_type": "stream",
     "text": [
      "Relative training error = 26.3080 %\n",
      "Relative test error = 23.9495 %\n"
     ]
    },
    {
     "name": "stderr",
     "output_type": "stream",
     "text": [
      "100%|██████████████████████████████████████████████████████████████████████████████████████████████████████████████████████████████████████████████████████████████████████| 15/15 [00:00<00:00, 599.95it/s]"
     ]
    },
    {
     "name": "stdout",
     "output_type": "stream",
     "text": [
      " loss = 0.6207\n"
     ]
    },
    {
     "name": "stderr",
     "output_type": "stream",
     "text": [
      "\n"
     ]
    },
    {
     "name": "stdout",
     "output_type": "stream",
     "text": [
      "Relative training error = 23.3377 %\n",
      "Relative test error = 22.5327 %\n"
     ]
    },
    {
     "name": "stderr",
     "output_type": "stream",
     "text": [
      "100%|██████████████████████████████████████████████████████████████████████████████████████████████████████████████████████████████████████████████████████████████████████| 15/15 [00:00<00:00, 704.44it/s]\n"
     ]
    },
    {
     "name": "stdout",
     "output_type": "stream",
     "text": [
      " loss = 0.4588\n",
      "Relative training error = 21.3677 %\n",
      "Relative test error = 21.8307 %\n"
     ]
    },
    {
     "name": "stderr",
     "output_type": "stream",
     "text": [
      "100%|██████████████████████████████████████████████████████████████████████████████████████████████████████████████████████████████████████████████████████████████████████| 15/15 [00:00<00:00, 730.27it/s]\n"
     ]
    },
    {
     "name": "stdout",
     "output_type": "stream",
     "text": [
      " loss = 0.3102\n",
      "Relative training error = 19.8429 %\n",
      "Relative test error = 22.1538 %\n"
     ]
    },
    {
     "name": "stderr",
     "output_type": "stream",
     "text": [
      "100%|██████████████████████████████████████████████████████████████████████████████████████████████████████████████████████████████████████████████████████████████████████| 15/15 [00:00<00:00, 774.45it/s]\n"
     ]
    },
    {
     "name": "stdout",
     "output_type": "stream",
     "text": [
      " loss = 0.0999\n",
      "Relative training error = 18.8576 %\n",
      "Relative test error = 21.6991 %\n"
     ]
    },
    {
     "name": "stderr",
     "output_type": "stream",
     "text": [
      "  0%|                                                                                                                                                                                | 0/15 [00:00<?, ?it/s]"
     ]
    },
    {
     "name": "stdout",
     "output_type": "stream",
     "text": [
      " loss = 0.1503\n"
     ]
    },
    {
     "name": "stderr",
     "output_type": "stream",
     "text": [
      "\r",
      "100%|██████████████████████████████████████████████████████████████████████████████████████████████████████████████████████████████████████████████████████████████████████| 15/15 [00:00<00:00, 514.59it/s]"
     ]
    },
    {
     "name": "stdout",
     "output_type": "stream",
     "text": [
      "Relative training error = 17.9358 %"
     ]
    },
    {
     "name": "stderr",
     "output_type": "stream",
     "text": [
      "\n"
     ]
    },
    {
     "name": "stdout",
     "output_type": "stream",
     "text": [
      "\n",
      "Relative test error = 19.6808 %\n"
     ]
    },
    {
     "name": "stderr",
     "output_type": "stream",
     "text": [
      "100%|██████████████████████████████████████████████████████████████████████████████████████████████████████████████████████████████████████████████████████████████████████| 15/15 [00:00<00:00, 638.43it/s]"
     ]
    },
    {
     "name": "stdout",
     "output_type": "stream",
     "text": [
      " loss = 0.1595\n",
      "Relative training error = 17.5068 %\n"
     ]
    },
    {
     "name": "stderr",
     "output_type": "stream",
     "text": [
      "\n"
     ]
    },
    {
     "name": "stdout",
     "output_type": "stream",
     "text": [
      "Relative test error = 17.9214 %\n"
     ]
    },
    {
     "name": "stderr",
     "output_type": "stream",
     "text": [
      "100%|██████████████████████████████████████████████████████████████████████████████████████████████████████████████████████████████████████████████████████████████████████| 15/15 [00:00<00:00, 483.01it/s]\n"
     ]
    },
    {
     "name": "stdout",
     "output_type": "stream",
     "text": [
      " loss = 0.1659\n",
      "Relative training error = 16.7432 %\n",
      "Relative test error = 17.8230 %\n"
     ]
    },
    {
     "name": "stderr",
     "output_type": "stream",
     "text": [
      "100%|██████████████████████████████████████████████████████████████████████████████████████████████████████████████████████████████████████████████████████████████████████| 15/15 [00:00<00:00, 679.62it/s]"
     ]
    },
    {
     "name": "stdout",
     "output_type": "stream",
     "text": [
      " loss = 0.0528\n"
     ]
    },
    {
     "name": "stderr",
     "output_type": "stream",
     "text": [
      "\n"
     ]
    },
    {
     "name": "stdout",
     "output_type": "stream",
     "text": [
      "Relative training error = 16.1595 %\n",
      "Relative test error = 17.9081 %\n"
     ]
    },
    {
     "name": "stderr",
     "output_type": "stream",
     "text": [
      "100%|██████████████████████████████████████████████████████████████████████████████████████████████████████████████████████████████████████████████████████████████████████| 15/15 [00:00<00:00, 619.27it/s]"
     ]
    },
    {
     "name": "stdout",
     "output_type": "stream",
     "text": [
      " loss = 0.0641\n"
     ]
    },
    {
     "name": "stderr",
     "output_type": "stream",
     "text": [
      "\n"
     ]
    },
    {
     "name": "stdout",
     "output_type": "stream",
     "text": [
      "Relative training error = 15.8112 %\n",
      "Relative test error = 16.5710 %\n"
     ]
    },
    {
     "name": "stderr",
     "output_type": "stream",
     "text": [
      "100%|██████████████████████████████████████████████████████████████████████████████████████████████████████████████████████████████████████████████████████████████████████| 15/15 [00:00<00:00, 671.27it/s]"
     ]
    },
    {
     "name": "stdout",
     "output_type": "stream",
     "text": [
      " loss = 0.1784\n"
     ]
    },
    {
     "name": "stderr",
     "output_type": "stream",
     "text": [
      "\n"
     ]
    },
    {
     "name": "stdout",
     "output_type": "stream",
     "text": [
      "Relative training error = 15.4623 %\n",
      "Relative test error = 16.6837 %\n"
     ]
    },
    {
     "name": "stderr",
     "output_type": "stream",
     "text": [
      "100%|██████████████████████████████████████████████████████████████████████████████████████████████████████████████████████████████████████████████████████████████████████| 15/15 [00:00<00:00, 595.65it/s]"
     ]
    },
    {
     "name": "stdout",
     "output_type": "stream",
     "text": [
      " loss = 0.0979\n"
     ]
    },
    {
     "name": "stderr",
     "output_type": "stream",
     "text": [
      "\n"
     ]
    },
    {
     "name": "stdout",
     "output_type": "stream",
     "text": [
      "Relative training error = 15.1255 %\n",
      "Relative test error = 15.9025 %\n"
     ]
    },
    {
     "name": "stderr",
     "output_type": "stream",
     "text": [
      "100%|██████████████████████████████████████████████████████████████████████████████████████████████████████████████████████████████████████████████████████████████████████| 15/15 [00:00<00:00, 684.24it/s]"
     ]
    },
    {
     "name": "stdout",
     "output_type": "stream",
     "text": [
      " loss = 0.0268\n"
     ]
    },
    {
     "name": "stderr",
     "output_type": "stream",
     "text": [
      "\n"
     ]
    },
    {
     "name": "stdout",
     "output_type": "stream",
     "text": [
      "Relative training error = 14.7708 %\n",
      "Relative test error = 15.3709 %\n"
     ]
    },
    {
     "name": "stderr",
     "output_type": "stream",
     "text": [
      "100%|██████████████████████████████████████████████████████████████████████████████████████████████████████████████████████████████████████████████████████████████████████| 15/15 [00:00<00:00, 680.16it/s]"
     ]
    },
    {
     "name": "stdout",
     "output_type": "stream",
     "text": [
      " loss = 0.0656\n"
     ]
    },
    {
     "name": "stderr",
     "output_type": "stream",
     "text": [
      "\n"
     ]
    },
    {
     "name": "stdout",
     "output_type": "stream",
     "text": [
      "Relative training error = 14.3728 %\n",
      "Relative test error = 14.7719 %\n"
     ]
    },
    {
     "name": "stderr",
     "output_type": "stream",
     "text": [
      "100%|██████████████████████████████████████████████████████████████████████████████████████████████████████████████████████████████████████████████████████████████████████| 15/15 [00:00<00:00, 500.79it/s]"
     ]
    },
    {
     "name": "stdout",
     "output_type": "stream",
     "text": [
      " loss = 0.0503\n"
     ]
    },
    {
     "name": "stderr",
     "output_type": "stream",
     "text": [
      "\n"
     ]
    },
    {
     "name": "stdout",
     "output_type": "stream",
     "text": [
      "Relative training error = 14.3318 %\n",
      "Relative test error = 14.3758 %\n"
     ]
    },
    {
     "name": "stderr",
     "output_type": "stream",
     "text": [
      "100%|██████████████████████████████████████████████████████████████████████████████████████████████████████████████████████████████████████████████████████████████████████| 15/15 [00:00<00:00, 584.34it/s]"
     ]
    },
    {
     "name": "stdout",
     "output_type": "stream",
     "text": [
      " loss = 0.0492\n"
     ]
    },
    {
     "name": "stderr",
     "output_type": "stream",
     "text": [
      "\n"
     ]
    },
    {
     "name": "stdout",
     "output_type": "stream",
     "text": [
      "Relative training error = 14.1776 %\n",
      "Relative test error = 13.8738 %\n"
     ]
    },
    {
     "name": "stderr",
     "output_type": "stream",
     "text": [
      "100%|██████████████████████████████████████████████████████████████████████████████████████████████████████████████████████████████████████████████████████████████████████| 15/15 [00:00<00:00, 686.71it/s]"
     ]
    },
    {
     "name": "stdout",
     "output_type": "stream",
     "text": [
      " loss = 0.1168\n"
     ]
    },
    {
     "name": "stderr",
     "output_type": "stream",
     "text": [
      "\n"
     ]
    },
    {
     "name": "stdout",
     "output_type": "stream",
     "text": [
      "Relative training error = 14.0136 %\n",
      "Relative test error = 13.9945 %\n"
     ]
    },
    {
     "name": "stderr",
     "output_type": "stream",
     "text": [
      "100%|██████████████████████████████████████████████████████████████████████████████████████████████████████████████████████████████████████████████████████████████████████| 15/15 [00:00<00:00, 670.83it/s]"
     ]
    },
    {
     "name": "stdout",
     "output_type": "stream",
     "text": [
      " loss = 0.0263\n"
     ]
    },
    {
     "name": "stderr",
     "output_type": "stream",
     "text": [
      "\n"
     ]
    },
    {
     "name": "stdout",
     "output_type": "stream",
     "text": [
      "Relative training error = 13.8207 %\n",
      "Relative test error = 13.8029 %\n"
     ]
    },
    {
     "name": "stderr",
     "output_type": "stream",
     "text": [
      "100%|██████████████████████████████████████████████████████████████████████████████████████████████████████████████████████████████████████████████████████████████████████| 15/15 [00:00<00:00, 669.60it/s]"
     ]
    },
    {
     "name": "stdout",
     "output_type": "stream",
     "text": [
      " loss = 0.0443\n"
     ]
    },
    {
     "name": "stderr",
     "output_type": "stream",
     "text": [
      "\n"
     ]
    },
    {
     "name": "stdout",
     "output_type": "stream",
     "text": [
      "Relative training error = 13.5931 %\n",
      "Relative test error = 14.2373 %\n"
     ]
    },
    {
     "name": "stderr",
     "output_type": "stream",
     "text": [
      "100%|██████████████████████████████████████████████████████████████████████████████████████████████████████████████████████████████████████████████████████████████████████| 15/15 [00:00<00:00, 546.78it/s]"
     ]
    },
    {
     "name": "stdout",
     "output_type": "stream",
     "text": [
      " loss = 0.0607\n"
     ]
    },
    {
     "name": "stderr",
     "output_type": "stream",
     "text": [
      "\n"
     ]
    },
    {
     "name": "stdout",
     "output_type": "stream",
     "text": [
      "Relative training error = 13.4333 %\n",
      "Relative test error = 15.1292 %\n"
     ]
    },
    {
     "name": "stderr",
     "output_type": "stream",
     "text": [
      "100%|██████████████████████████████████████████████████████████████████████████████████████████████████████████████████████████████████████████████████████████████████████| 15/15 [00:00<00:00, 683.27it/s]"
     ]
    },
    {
     "name": "stdout",
     "output_type": "stream",
     "text": [
      " loss = 0.1231\n",
      "Relative training error = 13.2108 %"
     ]
    },
    {
     "name": "stderr",
     "output_type": "stream",
     "text": [
      "\n"
     ]
    },
    {
     "name": "stdout",
     "output_type": "stream",
     "text": [
      "\n",
      "Relative test error = 15.3267 %\n"
     ]
    },
    {
     "name": "stderr",
     "output_type": "stream",
     "text": [
      "100%|██████████████████████████████████████████████████████████████████████████████████████████████████████████████████████████████████████████████████████████████████████| 15/15 [00:00<00:00, 645.75it/s]"
     ]
    },
    {
     "name": "stdout",
     "output_type": "stream",
     "text": [
      " loss = 0.0467\n"
     ]
    },
    {
     "name": "stderr",
     "output_type": "stream",
     "text": [
      "\n"
     ]
    },
    {
     "name": "stdout",
     "output_type": "stream",
     "text": [
      "Relative training error = 12.9055 %\n",
      "Relative test error = 15.5501 %\n",
      "Creating DAS_analysis object\n",
      "[-3.33904898e-02 -2.75592482e-04  6.75529046e-03  2.95434237e-02\n",
      " -3.40290729e-03  3.08737117e-02  1.01209520e-03 -4.80988323e-03\n",
      " -1.07648473e-02 -1.92345385e-03 -1.05707726e-02  1.32764589e-02\n",
      " -1.88479366e-04 -7.78112981e-03 -2.20797094e-02  1.91612666e-02\n",
      " -3.81322690e-02 -1.43958990e-02 -3.55501232e-03  5.87829705e-02\n",
      " -3.15450202e-02 -2.07752352e-02 -7.18415924e-03  3.33695040e-03\n",
      "  1.36140605e-02 -9.36144500e-04  2.43579140e-02 -3.12722198e-04\n",
      "  2.60047425e-02 -2.81825681e-03 -1.10942119e-02  5.04249430e-02\n",
      "  9.36378451e-03  1.44538531e-02 -1.95601641e-02  4.95149215e-02\n",
      "  2.97072515e-02 -3.72920018e-02 -5.25101326e-02  1.36140962e-02\n",
      " -3.78842837e-03 -2.36315610e-02  3.08886513e-03  9.94606874e-03\n",
      " -2.73260217e-02  5.52111629e-05 -5.57936320e-03 -2.81570151e-02\n",
      " -5.36236275e-02 -2.78460035e-02 -2.79262929e-02  1.98481853e-02\n",
      " -2.02375243e-02  7.09350627e-03 -1.80310190e-02  1.10893024e-02\n",
      "  1.38355662e-02  1.55181759e-02  7.77773490e-03  4.02404911e-02\n",
      " -3.26803716e-02 -3.26558853e-02  2.74570357e-02 -2.43002378e-02\n",
      "  1.28519502e-02 -7.79996707e-03  4.21526790e-03 -1.96827100e-02\n",
      " -3.06098804e-02  1.13523954e-02 -3.18856661e-02  3.28485979e-03\n",
      " -2.61098246e-02  5.02761503e-02  1.95430325e-02 -2.11639217e-02\n",
      "  1.11936941e-02  1.22667059e-02  2.38241491e-02 -1.50901499e-03\n",
      "  2.05020611e-02 -5.86918590e-03  9.52424640e-03  6.46418346e-04\n",
      " -1.96385022e-02 -1.28099016e-02 -5.11204137e-02  1.53145645e-02\n",
      " -4.96562421e-03 -1.24992020e-02 -3.22209028e-02 -1.05753944e-02\n",
      " -6.66280114e-06 -9.16344139e-03 -9.91075205e-04  4.45905269e-02\n",
      " -3.06444710e-02 -8.35294877e-03  1.45706277e-03 -2.13765282e-03\n",
      "  3.50208138e-03 -1.54497343e-02 -5.20253328e-02]\n",
      "Parameters ordered from most to least important:\n",
      "[[  7  11  25   9  33  15  19   5  29  23   3   1  27  34  59  41  17  13\n",
      "   48   6  30  55  72  83  14  21  10  16  80  73  43 102  68  28  46  91\n",
      "   93  47  54  53  58  77   8  61  31 100  96  65  86  74  42  45  62  98\n",
      "   97  44  36  76 101  18  82  78  32  67  92  40  89  71  64  24  75  70\n",
      "    0  50  60  56  81   2  22  63   4  37  84  12  94  35  66  39  95  99\n",
      "   38  57  88  26  85  51  49  90  87  20  52  69  79]]\n",
      "Creating DAS_Surrogate Object\n",
      "Creating Feature Engineering object\n",
      "Using  450/450 samples to train the ML model\n",
      "===============================\n",
      "Neural net parameters\n",
      "===============================\n",
      "Number of layers = 3\n",
      "Number of features = 103\n",
      "Loss function = squared\n",
      "Number of neurons per hidden layer = 10\n",
      "Number of output neurons = 1\n",
      "Activation = ['linear', 'linear', 'tanh', 'linear']\n",
      "This neural network has 134 weights.\n",
      "===============================\n",
      "===============================\n",
      "Training Deep Active Subspace Neural Network...\n"
     ]
    },
    {
     "name": "stderr",
     "output_type": "stream",
     "text": [
      "100%|██████████████████████████████████████████████████████████████████████████████████████████████████████████████████████████████████████████████████████████████████████| 15/15 [00:00<00:00, 608.77it/s]"
     ]
    },
    {
     "name": "stdout",
     "output_type": "stream",
     "text": [
      " loss = 5.1254\n",
      "Relative training error = 68.9444 %\n"
     ]
    },
    {
     "name": "stderr",
     "output_type": "stream",
     "text": [
      "\n"
     ]
    },
    {
     "name": "stdout",
     "output_type": "stream",
     "text": [
      "Relative test error = 82.8983 %\n"
     ]
    },
    {
     "name": "stderr",
     "output_type": "stream",
     "text": [
      "100%|██████████████████████████████████████████████████████████████████████████████████████████████████████████████████████████████████████████████████████████████████████| 15/15 [00:00<00:00, 563.24it/s]"
     ]
    },
    {
     "name": "stdout",
     "output_type": "stream",
     "text": [
      " loss = 1.9986\n"
     ]
    },
    {
     "name": "stderr",
     "output_type": "stream",
     "text": [
      "\n"
     ]
    },
    {
     "name": "stdout",
     "output_type": "stream",
     "text": [
      "Relative training error = 46.8395 %\n",
      "Relative test error = 55.1840 %\n"
     ]
    },
    {
     "name": "stderr",
     "output_type": "stream",
     "text": [
      "100%|██████████████████████████████████████████████████████████████████████████████████████████████████████████████████████████████████████████████████████████████████████| 15/15 [00:00<00:00, 460.36it/s]"
     ]
    },
    {
     "name": "stdout",
     "output_type": "stream",
     "text": [
      " loss = 0.8525\n"
     ]
    },
    {
     "name": "stderr",
     "output_type": "stream",
     "text": [
      "\n"
     ]
    },
    {
     "name": "stdout",
     "output_type": "stream",
     "text": [
      "Relative training error = 37.6666 %\n",
      "Relative test error = 41.3517 %\n"
     ]
    },
    {
     "name": "stderr",
     "output_type": "stream",
     "text": [
      "  0%|                                                                                                                                                                                | 0/15 [00:00<?, ?it/s]"
     ]
    },
    {
     "name": "stdout",
     "output_type": "stream",
     "text": [
      " loss = 0.8444\n"
     ]
    },
    {
     "name": "stderr",
     "output_type": "stream",
     "text": [
      "100%|██████████████████████████████████████████████████████████████████████████████████████████████████████████████████████████████████████████████████████████████████████| 15/15 [00:00<00:00, 497.85it/s]\n"
     ]
    },
    {
     "name": "stdout",
     "output_type": "stream",
     "text": [
      "Relative training error = 33.8828 %\n",
      "Relative test error = 34.6784 %\n"
     ]
    },
    {
     "name": "stderr",
     "output_type": "stream",
     "text": [
      "  0%|                                                                                                                                                                                | 0/15 [00:00<?, ?it/s]"
     ]
    },
    {
     "name": "stdout",
     "output_type": "stream",
     "text": [
      " loss = 0.5864\n"
     ]
    },
    {
     "name": "stderr",
     "output_type": "stream",
     "text": [
      "100%|██████████████████████████████████████████████████████████████████████████████████████████████████████████████████████████████████████████████████████████████████████| 15/15 [00:00<00:00, 661.30it/s]\n"
     ]
    },
    {
     "name": "stdout",
     "output_type": "stream",
     "text": [
      "Relative training error = 31.5536 %\n",
      "Relative test error = 31.1095 %\n"
     ]
    },
    {
     "name": "stderr",
     "output_type": "stream",
     "text": [
      "100%|██████████████████████████████████████████████████████████████████████████████████████████████████████████████████████████████████████████████████████████████████████| 15/15 [00:00<00:00, 593.82it/s]"
     ]
    },
    {
     "name": "stdout",
     "output_type": "stream",
     "text": [
      " loss = 0.6009\n"
     ]
    },
    {
     "name": "stderr",
     "output_type": "stream",
     "text": [
      "\n"
     ]
    },
    {
     "name": "stdout",
     "output_type": "stream",
     "text": [
      "Relative training error = 29.5951 %\n",
      "Relative test error = 28.8939 %\n"
     ]
    },
    {
     "name": "stderr",
     "output_type": "stream",
     "text": [
      "100%|██████████████████████████████████████████████████████████████████████████████████████████████████████████████████████████████████████████████████████████████████████| 15/15 [00:00<00:00, 733.09it/s]"
     ]
    },
    {
     "name": "stdout",
     "output_type": "stream",
     "text": [
      " loss = 0.2281\n"
     ]
    },
    {
     "name": "stderr",
     "output_type": "stream",
     "text": [
      "\n"
     ]
    },
    {
     "name": "stdout",
     "output_type": "stream",
     "text": [
      "Relative training error = 27.6764 %\n",
      "Relative test error = 27.2087 %\n"
     ]
    },
    {
     "name": "stderr",
     "output_type": "stream",
     "text": [
      "100%|██████████████████████████████████████████████████████████████████████████████████████████████████████████████████████████████████████████████████████████████████████| 15/15 [00:00<00:00, 703.78it/s]\n"
     ]
    },
    {
     "name": "stdout",
     "output_type": "stream",
     "text": [
      " loss = 0.5779\n",
      "Relative training error = 25.7262 %\n",
      "Relative test error = 25.2585 %\n"
     ]
    },
    {
     "name": "stderr",
     "output_type": "stream",
     "text": [
      "100%|██████████████████████████████████████████████████████████████████████████████████████████████████████████████████████████████████████████████████████████████████████| 15/15 [00:00<00:00, 683.42it/s]\n"
     ]
    },
    {
     "name": "stdout",
     "output_type": "stream",
     "text": [
      " loss = 0.4696\n",
      "Relative training error = 23.9615 %\n",
      "Relative test error = 23.7600 %\n"
     ]
    },
    {
     "name": "stderr",
     "output_type": "stream",
     "text": [
      "100%|██████████████████████████████████████████████████████████████████████████████████████████████████████████████████████████████████████████████████████████████████████| 15/15 [00:00<00:00, 684.92it/s]"
     ]
    },
    {
     "name": "stdout",
     "output_type": "stream",
     "text": [
      " loss = 0.1127\n"
     ]
    },
    {
     "name": "stderr",
     "output_type": "stream",
     "text": [
      "\n"
     ]
    },
    {
     "name": "stdout",
     "output_type": "stream",
     "text": [
      "Relative training error = 22.4368 %\n",
      "Relative test error = 22.4853 %\n"
     ]
    },
    {
     "name": "stderr",
     "output_type": "stream",
     "text": [
      "100%|██████████████████████████████████████████████████████████████████████████████████████████████████████████████████████████████████████████████████████████████████████| 15/15 [00:00<00:00, 697.25it/s]\n"
     ]
    },
    {
     "name": "stdout",
     "output_type": "stream",
     "text": [
      " loss = 0.4624\n",
      "Relative training error = 20.8625 %\n",
      "Relative test error = 21.7936 %\n"
     ]
    },
    {
     "name": "stderr",
     "output_type": "stream",
     "text": [
      "100%|██████████████████████████████████████████████████████████████████████████████████████████████████████████████████████████████████████████████████████████████████████| 15/15 [00:00<00:00, 763.45it/s]\n"
     ]
    },
    {
     "name": "stdout",
     "output_type": "stream",
     "text": [
      " loss = 0.0894\n",
      "Relative training error = 19.3480 %\n",
      "Relative test error = 21.3006 %\n"
     ]
    },
    {
     "name": "stderr",
     "output_type": "stream",
     "text": [
      "  0%|                                                                                                                                                                                | 0/15 [00:00<?, ?it/s]"
     ]
    },
    {
     "name": "stdout",
     "output_type": "stream",
     "text": [
      " loss = 0.0928\n"
     ]
    },
    {
     "name": "stderr",
     "output_type": "stream",
     "text": [
      "100%|██████████████████████████████████████████████████████████████████████████████████████████████████████████████████████████████████████████████████████████████████████| 15/15 [00:00<00:00, 669.80it/s]\n"
     ]
    },
    {
     "name": "stdout",
     "output_type": "stream",
     "text": [
      "Relative training error = 18.0682 %\n",
      "Relative test error = 20.4812 %\n"
     ]
    },
    {
     "name": "stderr",
     "output_type": "stream",
     "text": [
      "  0%|                                                                                                                                                                                | 0/15 [00:00<?, ?it/s]"
     ]
    },
    {
     "name": "stdout",
     "output_type": "stream",
     "text": [
      " loss = 0.1779\n"
     ]
    },
    {
     "name": "stderr",
     "output_type": "stream",
     "text": [
      "100%|██████████████████████████████████████████████████████████████████████████████████████████████████████████████████████████████████████████████████████████████████████| 15/15 [00:00<00:00, 719.14it/s]\n"
     ]
    },
    {
     "name": "stdout",
     "output_type": "stream",
     "text": [
      "Relative training error = 17.0486 %\n",
      "Relative test error = 19.5879 %\n"
     ]
    },
    {
     "name": "stderr",
     "output_type": "stream",
     "text": [
      "100%|██████████████████████████████████████████████████████████████████████████████████████████████████████████████████████████████████████████████████████████████████████| 15/15 [00:00<00:00, 753.33it/s]\n"
     ]
    },
    {
     "name": "stdout",
     "output_type": "stream",
     "text": [
      " loss = 0.0931\n",
      "Relative training error = 16.2505 %\n",
      "Relative test error = 18.8784 %\n"
     ]
    },
    {
     "name": "stderr",
     "output_type": "stream",
     "text": [
      "100%|██████████████████████████████████████████████████████████████████████████████████████████████████████████████████████████████████████████████████████████████████████| 15/15 [00:00<00:00, 698.06it/s]"
     ]
    },
    {
     "name": "stdout",
     "output_type": "stream",
     "text": [
      " loss = 0.1208\n"
     ]
    },
    {
     "name": "stderr",
     "output_type": "stream",
     "text": [
      "\n"
     ]
    },
    {
     "name": "stdout",
     "output_type": "stream",
     "text": [
      "Relative training error = 15.6094 %\n",
      "Relative test error = 18.6511 %\n"
     ]
    },
    {
     "name": "stderr",
     "output_type": "stream",
     "text": [
      "100%|██████████████████████████████████████████████████████████████████████████████████████████████████████████████████████████████████████████████████████████████████████| 15/15 [00:00<00:00, 496.16it/s]\n"
     ]
    },
    {
     "name": "stdout",
     "output_type": "stream",
     "text": [
      " loss = 0.0422\n",
      "Relative training error = 14.9791 %\n",
      "Relative test error = 18.8235 %\n"
     ]
    },
    {
     "name": "stderr",
     "output_type": "stream",
     "text": [
      "100%|██████████████████████████████████████████████████████████████████████████████████████████████████████████████████████████████████████████████████████████████████████| 15/15 [00:00<00:00, 545.61it/s]\n"
     ]
    },
    {
     "name": "stdout",
     "output_type": "stream",
     "text": [
      " loss = 0.0676\n",
      "Relative training error = 14.4684 %\n",
      "Relative test error = 18.7960 %\n"
     ]
    },
    {
     "name": "stderr",
     "output_type": "stream",
     "text": [
      "100%|██████████████████████████████████████████████████████████████████████████████████████████████████████████████████████████████████████████████████████████████████████| 15/15 [00:00<00:00, 540.07it/s]"
     ]
    },
    {
     "name": "stdout",
     "output_type": "stream",
     "text": [
      " loss = 0.2073\n"
     ]
    },
    {
     "name": "stderr",
     "output_type": "stream",
     "text": [
      "\n"
     ]
    },
    {
     "name": "stdout",
     "output_type": "stream",
     "text": [
      "Relative training error = 13.9688 %\n",
      "Relative test error = 18.3050 %\n"
     ]
    },
    {
     "name": "stderr",
     "output_type": "stream",
     "text": [
      "100%|██████████████████████████████████████████████████████████████████████████████████████████████████████████████████████████████████████████████████████████████████████| 15/15 [00:00<00:00, 620.25it/s]\n"
     ]
    },
    {
     "name": "stdout",
     "output_type": "stream",
     "text": [
      " loss = 0.1540\n",
      "Relative training error = 13.5884 %\n",
      "Relative test error = 18.1115 %\n"
     ]
    },
    {
     "name": "stderr",
     "output_type": "stream",
     "text": [
      "100%|██████████████████████████████████████████████████████████████████████████████████████████████████████████████████████████████████████████████████████████████████████| 15/15 [00:00<00:00, 622.36it/s]"
     ]
    },
    {
     "name": "stdout",
     "output_type": "stream",
     "text": [
      " loss = 0.0353\n"
     ]
    },
    {
     "name": "stderr",
     "output_type": "stream",
     "text": [
      "\n"
     ]
    },
    {
     "name": "stdout",
     "output_type": "stream",
     "text": [
      "Relative training error = 13.2758 %\n",
      "Relative test error = 17.7100 %\n"
     ]
    },
    {
     "name": "stderr",
     "output_type": "stream",
     "text": [
      "100%|██████████████████████████████████████████████████████████████████████████████████████████████████████████████████████████████████████████████████████████████████████| 15/15 [00:00<00:00, 593.57it/s]"
     ]
    },
    {
     "name": "stdout",
     "output_type": "stream",
     "text": [
      " loss = 0.0470\n"
     ]
    },
    {
     "name": "stderr",
     "output_type": "stream",
     "text": [
      "\n"
     ]
    },
    {
     "name": "stdout",
     "output_type": "stream",
     "text": [
      "Relative training error = 12.9698 %\n",
      "Relative test error = 17.6065 %\n"
     ]
    },
    {
     "name": "stderr",
     "output_type": "stream",
     "text": [
      "100%|██████████████████████████████████████████████████████████████████████████████████████████████████████████████████████████████████████████████████████████████████████| 15/15 [00:00<00:00, 530.37it/s]"
     ]
    },
    {
     "name": "stdout",
     "output_type": "stream",
     "text": [
      " loss = 0.0261\n"
     ]
    },
    {
     "name": "stderr",
     "output_type": "stream",
     "text": [
      "\n"
     ]
    },
    {
     "name": "stdout",
     "output_type": "stream",
     "text": [
      "Relative training error = 12.7027 %\n",
      "Relative test error = 17.7732 %\n"
     ]
    },
    {
     "name": "stderr",
     "output_type": "stream",
     "text": [
      "  0%|                                                                                                                                                                                | 0/15 [00:00<?, ?it/s]"
     ]
    },
    {
     "name": "stdout",
     "output_type": "stream",
     "text": [
      " loss = 0.0638\n"
     ]
    },
    {
     "name": "stderr",
     "output_type": "stream",
     "text": [
      "100%|██████████████████████████████████████████████████████████████████████████████████████████████████████████████████████████████████████████████████████████████████████| 15/15 [00:00<00:00, 589.20it/s]\n"
     ]
    },
    {
     "name": "stdout",
     "output_type": "stream",
     "text": [
      "Relative training error = 12.4627 %\n",
      "Relative test error = 17.5567 %\n"
     ]
    },
    {
     "name": "stderr",
     "output_type": "stream",
     "text": [
      "  0%|                                                                                                                                                                                | 0/15 [00:00<?, ?it/s]"
     ]
    },
    {
     "name": "stdout",
     "output_type": "stream",
     "text": [
      " loss = 0.0383\n"
     ]
    },
    {
     "name": "stderr",
     "output_type": "stream",
     "text": [
      "100%|██████████████████████████████████████████████████████████████████████████████████████████████████████████████████████████████████████████████████████████████████████| 15/15 [00:00<00:00, 602.70it/s]\n"
     ]
    },
    {
     "name": "stdout",
     "output_type": "stream",
     "text": [
      "Relative training error = 12.2724 %\n",
      "Relative test error = 17.3627 %\n"
     ]
    },
    {
     "name": "stderr",
     "output_type": "stream",
     "text": [
      "100%|██████████████████████████████████████████████████████████████████████████████████████████████████████████████████████████████████████████████████████████████████████| 15/15 [00:00<00:00, 638.71it/s]"
     ]
    },
    {
     "name": "stdout",
     "output_type": "stream",
     "text": [
      " loss = 0.1060\n"
     ]
    },
    {
     "name": "stderr",
     "output_type": "stream",
     "text": [
      "\n"
     ]
    },
    {
     "name": "stdout",
     "output_type": "stream",
     "text": [
      "Relative training error = 12.0786 %\n",
      "Relative test error = 17.0866 %\n"
     ]
    },
    {
     "name": "stderr",
     "output_type": "stream",
     "text": [
      "100%|██████████████████████████████████████████████████████████████████████████████████████████████████████████████████████████████████████████████████████████████████████| 15/15 [00:00<00:00, 486.08it/s]"
     ]
    },
    {
     "name": "stdout",
     "output_type": "stream",
     "text": [
      " loss = 0.0649\n"
     ]
    },
    {
     "name": "stderr",
     "output_type": "stream",
     "text": [
      "\n"
     ]
    },
    {
     "name": "stdout",
     "output_type": "stream",
     "text": [
      "Relative training error = 11.9208 %\n",
      "Relative test error = 16.7119 %\n"
     ]
    },
    {
     "name": "stderr",
     "output_type": "stream",
     "text": [
      "100%|██████████████████████████████████████████████████████████████████████████████████████████████████████████████████████████████████████████████████████████████████████| 15/15 [00:00<00:00, 490.98it/s]"
     ]
    },
    {
     "name": "stdout",
     "output_type": "stream",
     "text": [
      " loss = 0.0645\n"
     ]
    },
    {
     "name": "stderr",
     "output_type": "stream",
     "text": [
      "\n"
     ]
    },
    {
     "name": "stdout",
     "output_type": "stream",
     "text": [
      "Relative training error = 11.7639 %\n",
      "Relative test error = 16.3253 %\n"
     ]
    },
    {
     "name": "stderr",
     "output_type": "stream",
     "text": [
      "  0%|                                                                                                                                                                                | 0/15 [00:00<?, ?it/s]"
     ]
    },
    {
     "name": "stdout",
     "output_type": "stream",
     "text": [
      " loss = 0.0264\n"
     ]
    },
    {
     "name": "stderr",
     "output_type": "stream",
     "text": [
      "100%|██████████████████████████████████████████████████████████████████████████████████████████████████████████████████████████████████████████████████████████████████████| 15/15 [00:00<00:00, 581.08it/s]\n"
     ]
    },
    {
     "name": "stdout",
     "output_type": "stream",
     "text": [
      "Relative training error = 11.6604 %\n",
      "Relative test error = 15.7347 %\n"
     ]
    },
    {
     "name": "stderr",
     "output_type": "stream",
     "text": [
      "  0%|                                                                                                                                                                                | 0/15 [00:00<?, ?it/s]"
     ]
    },
    {
     "name": "stdout",
     "output_type": "stream",
     "text": [
      " loss = 0.0567\n"
     ]
    },
    {
     "name": "stderr",
     "output_type": "stream",
     "text": [
      "100%|██████████████████████████████████████████████████████████████████████████████████████████████████████████████████████████████████████████████████████████████████████| 15/15 [00:00<00:00, 545.79it/s]\n"
     ]
    },
    {
     "name": "stdout",
     "output_type": "stream",
     "text": [
      "Relative training error = 11.5437 %\n",
      "Relative test error = 15.3701 %\n"
     ]
    },
    {
     "name": "stderr",
     "output_type": "stream",
     "text": [
      "100%|██████████████████████████████████████████████████████████████████████████████████████████████████████████████████████████████████████████████████████████████████████| 15/15 [00:00<00:00, 660.23it/s]\n"
     ]
    },
    {
     "name": "stdout",
     "output_type": "stream",
     "text": [
      " loss = 0.0300\n",
      "Relative training error = 11.3819 %\n",
      "Relative test error = 15.0597 %\n"
     ]
    },
    {
     "name": "stderr",
     "output_type": "stream",
     "text": [
      "100%|██████████████████████████████████████████████████████████████████████████████████████████████████████████████████████████████████████████████████████████████████████| 15/15 [00:00<00:00, 669.12it/s]\n"
     ]
    },
    {
     "name": "stdout",
     "output_type": "stream",
     "text": [
      " loss = 0.0466\n",
      "Relative training error = 11.2829 %\n",
      "Relative test error = 14.8715 %\n"
     ]
    },
    {
     "name": "stderr",
     "output_type": "stream",
     "text": [
      "100%|██████████████████████████████████████████████████████████████████████████████████████████████████████████████████████████████████████████████████████████████████████| 15/15 [00:00<00:00, 765.71it/s]"
     ]
    },
    {
     "name": "stdout",
     "output_type": "stream",
     "text": [
      " loss = 0.2218\n"
     ]
    },
    {
     "name": "stderr",
     "output_type": "stream",
     "text": [
      "\n"
     ]
    },
    {
     "name": "stdout",
     "output_type": "stream",
     "text": [
      "Relative training error = 11.1707 %\n",
      "Relative test error = 15.2156 %\n"
     ]
    },
    {
     "name": "stderr",
     "output_type": "stream",
     "text": [
      "100%|██████████████████████████████████████████████████████████████████████████████████████████████████████████████████████████████████████████████████████████████████████| 15/15 [00:00<00:00, 649.51it/s]"
     ]
    },
    {
     "name": "stdout",
     "output_type": "stream",
     "text": [
      " loss = 0.0741\n"
     ]
    },
    {
     "name": "stderr",
     "output_type": "stream",
     "text": [
      "\n"
     ]
    },
    {
     "name": "stdout",
     "output_type": "stream",
     "text": [
      "Relative training error = 11.0799 %\n",
      "Relative test error = 15.6063 %\n"
     ]
    },
    {
     "name": "stderr",
     "output_type": "stream",
     "text": [
      "100%|██████████████████████████████████████████████████████████████████████████████████████████████████████████████████████████████████████████████████████████████████████| 15/15 [00:00<00:00, 619.33it/s]\n"
     ]
    },
    {
     "name": "stdout",
     "output_type": "stream",
     "text": [
      " loss = 0.0687\n",
      "Relative training error = 11.0032 %\n",
      "Relative test error = 15.4667 %\n"
     ]
    },
    {
     "name": "stderr",
     "output_type": "stream",
     "text": [
      "100%|██████████████████████████████████████████████████████████████████████████████████████████████████████████████████████████████████████████████████████████████████████| 15/15 [00:00<00:00, 681.59it/s]"
     ]
    },
    {
     "name": "stdout",
     "output_type": "stream",
     "text": [
      " loss = 0.0464\n"
     ]
    },
    {
     "name": "stderr",
     "output_type": "stream",
     "text": [
      "\n"
     ]
    },
    {
     "name": "stdout",
     "output_type": "stream",
     "text": [
      "Relative training error = 10.9094 %\n",
      "Relative test error = 15.0801 %\n"
     ]
    },
    {
     "name": "stderr",
     "output_type": "stream",
     "text": [
      "100%|██████████████████████████████████████████████████████████████████████████████████████████████████████████████████████████████████████████████████████████████████████| 15/15 [00:00<00:00, 739.45it/s]"
     ]
    },
    {
     "name": "stdout",
     "output_type": "stream",
     "text": [
      " loss = 0.0960\n",
      "Relative training error = 10.7878 %\n"
     ]
    },
    {
     "name": "stderr",
     "output_type": "stream",
     "text": [
      "\n"
     ]
    },
    {
     "name": "stdout",
     "output_type": "stream",
     "text": [
      "Relative test error = 15.1173 %\n"
     ]
    },
    {
     "name": "stderr",
     "output_type": "stream",
     "text": [
      "100%|██████████████████████████████████████████████████████████████████████████████████████████████████████████████████████████████████████████████████████████████████████| 15/15 [00:00<00:00, 705.29it/s]\n"
     ]
    },
    {
     "name": "stdout",
     "output_type": "stream",
     "text": [
      " loss = 0.1369\n",
      "Relative training error = 10.7421 %\n",
      "Relative test error = 15.3641 %\n"
     ]
    },
    {
     "name": "stderr",
     "output_type": "stream",
     "text": [
      "100%|██████████████████████████████████████████████████████████████████████████████████████████████████████████████████████████████████████████████████████████████████████| 15/15 [00:00<00:00, 543.41it/s]"
     ]
    },
    {
     "name": "stdout",
     "output_type": "stream",
     "text": [
      " loss = 0.1124\n"
     ]
    },
    {
     "name": "stderr",
     "output_type": "stream",
     "text": [
      "\n"
     ]
    },
    {
     "name": "stdout",
     "output_type": "stream",
     "text": [
      "Relative training error = 10.6946 %\n",
      "Relative test error = 15.5107 %\n"
     ]
    },
    {
     "name": "stderr",
     "output_type": "stream",
     "text": [
      "  0%|                                                                                                                                                                                | 0/15 [00:00<?, ?it/s]"
     ]
    },
    {
     "name": "stdout",
     "output_type": "stream",
     "text": [
      " loss = 0.0310\n"
     ]
    },
    {
     "name": "stderr",
     "output_type": "stream",
     "text": [
      "100%|██████████████████████████████████████████████████████████████████████████████████████████████████████████████████████████████████████████████████████████████████████| 15/15 [00:00<00:00, 475.09it/s]\n"
     ]
    },
    {
     "name": "stdout",
     "output_type": "stream",
     "text": [
      "Relative training error = 10.6390 %\n",
      "Relative test error = 14.9842 %\n",
      "Creating DAS_analysis object\n",
      "[-3.33904898e-02 -2.75592482e-04  6.75529046e-03  2.95434237e-02\n",
      " -3.40290729e-03  3.08737117e-02  1.01209520e-03 -4.80988323e-03\n",
      " -1.07648473e-02 -1.92345385e-03 -1.05707726e-02  1.32764589e-02\n",
      " -1.88479366e-04 -7.78112981e-03 -2.20797094e-02  1.91612666e-02\n",
      " -3.81322690e-02 -1.43958990e-02 -3.55501232e-03  5.87829705e-02\n",
      " -3.15450202e-02 -2.07752352e-02 -7.18415924e-03  3.33695040e-03\n",
      "  1.36140605e-02 -9.36144500e-04  2.43579140e-02 -3.12722198e-04\n",
      "  2.60047425e-02 -2.81825681e-03 -1.10942119e-02  5.04249430e-02\n",
      "  9.36378451e-03  1.44538531e-02 -1.95601641e-02  4.95149215e-02\n",
      "  2.97072515e-02 -3.72920018e-02 -5.25101326e-02  1.36140962e-02\n",
      " -3.78842837e-03 -2.36315610e-02  3.08886513e-03  9.94606874e-03\n",
      " -2.73260217e-02  5.52111629e-05 -5.57936320e-03 -2.81570151e-02\n",
      " -5.36236275e-02 -2.78460035e-02 -2.79262929e-02  1.98481853e-02\n",
      " -2.02375243e-02  7.09350627e-03 -1.80310190e-02  1.10893024e-02\n",
      "  1.38355662e-02  1.55181759e-02  7.77773490e-03  4.02404911e-02\n",
      " -3.26803716e-02 -3.26558853e-02  2.74570357e-02 -2.43002378e-02\n",
      "  1.28519502e-02 -7.79996707e-03  4.21526790e-03 -1.96827100e-02\n",
      " -3.06098804e-02  1.13523954e-02 -3.18856661e-02  3.28485979e-03\n",
      " -2.61098246e-02  5.02761503e-02  1.95430325e-02 -2.11639217e-02\n",
      "  1.11936941e-02  1.22667059e-02  2.38241491e-02 -1.50901499e-03\n",
      "  2.05020611e-02 -5.86918590e-03  9.52424640e-03  6.46418346e-04\n",
      " -1.96385022e-02 -1.28099016e-02 -5.11204137e-02  1.53145645e-02\n",
      " -4.96562421e-03 -1.24992020e-02 -3.22209028e-02 -1.05753944e-02\n",
      " -6.66280114e-06 -9.16344139e-03 -9.91075205e-04  4.45905269e-02\n",
      " -3.06444710e-02 -8.35294877e-03  1.45706277e-03 -2.13765282e-03\n",
      "  3.50208138e-03 -1.54497343e-02 -5.20253328e-02]\n",
      "Parameters ordered from most to least important:\n",
      "[[  7  11  25   9  33  15  19   5  23   3  29   1  27  59  13  17  55   6\n",
      "   41  21  28  34  16  10  83  48  93  36  14  30  80  47  61  65   8  72\n",
      "   73  35  52  94  43  46  68 102  58 100  31  87  40  53  90  12  18  60\n",
      "   97  70   2  78  50  91  77  84  26  54  74  20  88  98  69  92  99  37\n",
      "    4  51  86  62  89  75  82  64  44  42  24  71  39  81  22  76  49   0\n",
      "   79  32  96  45  56 101  38  57  67  66  95  85  63]]\n",
      "Creating DAS_Surrogate Object\n",
      "Creating Feature Engineering object\n",
      "Using  450/450 samples to train the ML model\n",
      "===============================\n",
      "Neural net parameters\n",
      "===============================\n",
      "Number of layers = 3\n",
      "Number of features = 103\n",
      "Loss function = squared\n",
      "Number of neurons per hidden layer = 10\n",
      "Number of output neurons = 1\n",
      "Activation = ['linear', 'linear', 'tanh', 'linear']\n",
      "This neural network has 134 weights.\n",
      "===============================\n",
      "===============================\n",
      "Training Deep Active Subspace Neural Network...\n"
     ]
    },
    {
     "name": "stderr",
     "output_type": "stream",
     "text": [
      "100%|██████████████████████████████████████████████████████████████████████████████████████████████████████████████████████████████████████████████████████████████████████| 15/15 [00:00<00:00, 726.24it/s]"
     ]
    },
    {
     "name": "stdout",
     "output_type": "stream",
     "text": [
      " loss = 0.9671\n"
     ]
    },
    {
     "name": "stderr",
     "output_type": "stream",
     "text": [
      "\n"
     ]
    },
    {
     "name": "stdout",
     "output_type": "stream",
     "text": [
      "Relative training error = 39.3150 %\n",
      "Relative test error = 34.5128 %\n"
     ]
    },
    {
     "name": "stderr",
     "output_type": "stream",
     "text": [
      "100%|██████████████████████████████████████████████████████████████████████████████████████████████████████████████████████████████████████████████████████████████████████| 15/15 [00:00<00:00, 673.11it/s]"
     ]
    },
    {
     "name": "stdout",
     "output_type": "stream",
     "text": [
      " loss = 0.5671\n"
     ]
    },
    {
     "name": "stderr",
     "output_type": "stream",
     "text": [
      "\n"
     ]
    },
    {
     "name": "stdout",
     "output_type": "stream",
     "text": [
      "Relative training error = 32.3439 %\n",
      "Relative test error = 32.2325 %\n"
     ]
    },
    {
     "name": "stderr",
     "output_type": "stream",
     "text": [
      "100%|██████████████████████████████████████████████████████████████████████████████████████████████████████████████████████████████████████████████████████████████████████| 15/15 [00:00<00:00, 678.38it/s]"
     ]
    },
    {
     "name": "stdout",
     "output_type": "stream",
     "text": [
      " loss = 0.2640\n",
      "Relative training error = 26.6439 %\n"
     ]
    },
    {
     "name": "stderr",
     "output_type": "stream",
     "text": [
      "\n"
     ]
    },
    {
     "name": "stdout",
     "output_type": "stream",
     "text": [
      "Relative test error = 30.5391 %\n"
     ]
    },
    {
     "name": "stderr",
     "output_type": "stream",
     "text": [
      "100%|██████████████████████████████████████████████████████████████████████████████████████████████████████████████████████████████████████████████████████████████████████| 15/15 [00:00<00:00, 701.15it/s]"
     ]
    },
    {
     "name": "stdout",
     "output_type": "stream",
     "text": [
      " loss = 0.2275\n"
     ]
    },
    {
     "name": "stderr",
     "output_type": "stream",
     "text": [
      "\n"
     ]
    },
    {
     "name": "stdout",
     "output_type": "stream",
     "text": [
      "Relative training error = 22.8244 %\n",
      "Relative test error = 28.5082 %\n"
     ]
    },
    {
     "name": "stderr",
     "output_type": "stream",
     "text": [
      "100%|██████████████████████████████████████████████████████████████████████████████████████████████████████████████████████████████████████████████████████████████████████| 15/15 [00:00<00:00, 641.66it/s]"
     ]
    },
    {
     "name": "stdout",
     "output_type": "stream",
     "text": [
      " loss = 0.5910\n"
     ]
    },
    {
     "name": "stderr",
     "output_type": "stream",
     "text": [
      "\n"
     ]
    },
    {
     "name": "stdout",
     "output_type": "stream",
     "text": [
      "Relative training error = 20.2882 %\n",
      "Relative test error = 26.1749 %\n"
     ]
    },
    {
     "name": "stderr",
     "output_type": "stream",
     "text": [
      "100%|██████████████████████████████████████████████████████████████████████████████████████████████████████████████████████████████████████████████████████████████████████| 15/15 [00:00<00:00, 637.05it/s]\n"
     ]
    },
    {
     "name": "stdout",
     "output_type": "stream",
     "text": [
      " loss = 0.3242\n",
      "Relative training error = 18.8232 %\n",
      "Relative test error = 23.3275 %\n"
     ]
    },
    {
     "name": "stderr",
     "output_type": "stream",
     "text": [
      "100%|██████████████████████████████████████████████████████████████████████████████████████████████████████████████████████████████████████████████████████████████████████| 15/15 [00:00<00:00, 537.04it/s]"
     ]
    },
    {
     "name": "stdout",
     "output_type": "stream",
     "text": [
      " loss = 0.2034\n"
     ]
    },
    {
     "name": "stderr",
     "output_type": "stream",
     "text": [
      "\n"
     ]
    },
    {
     "name": "stdout",
     "output_type": "stream",
     "text": [
      "Relative training error = 17.5702 %\n",
      "Relative test error = 22.4412 %\n"
     ]
    },
    {
     "name": "stderr",
     "output_type": "stream",
     "text": [
      "100%|██████████████████████████████████████████████████████████████████████████████████████████████████████████████████████████████████████████████████████████████████████| 15/15 [00:00<00:00, 656.80it/s]"
     ]
    },
    {
     "name": "stdout",
     "output_type": "stream",
     "text": [
      " loss = 0.3261\n"
     ]
    },
    {
     "name": "stderr",
     "output_type": "stream",
     "text": [
      "\n"
     ]
    },
    {
     "name": "stdout",
     "output_type": "stream",
     "text": [
      "Relative training error = 16.8067 %\n",
      "Relative test error = 20.7634 %\n"
     ]
    },
    {
     "name": "stderr",
     "output_type": "stream",
     "text": [
      "100%|██████████████████████████████████████████████████████████████████████████████████████████████████████████████████████████████████████████████████████████████████████| 15/15 [00:00<00:00, 679.99it/s]"
     ]
    },
    {
     "name": "stdout",
     "output_type": "stream",
     "text": [
      " loss = 0.1283\n"
     ]
    },
    {
     "name": "stderr",
     "output_type": "stream",
     "text": [
      "\n"
     ]
    },
    {
     "name": "stdout",
     "output_type": "stream",
     "text": [
      "Relative training error = 16.1284 %\n",
      "Relative test error = 18.8694 %\n"
     ]
    },
    {
     "name": "stderr",
     "output_type": "stream",
     "text": [
      "100%|██████████████████████████████████████████████████████████████████████████████████████████████████████████████████████████████████████████████████████████████████████| 15/15 [00:00<00:00, 612.01it/s]"
     ]
    },
    {
     "name": "stdout",
     "output_type": "stream",
     "text": [
      " loss = 0.0913\n"
     ]
    },
    {
     "name": "stderr",
     "output_type": "stream",
     "text": [
      "\n"
     ]
    },
    {
     "name": "stdout",
     "output_type": "stream",
     "text": [
      "Relative training error = 15.7926 %\n",
      "Relative test error = 17.4658 %\n"
     ]
    },
    {
     "name": "stderr",
     "output_type": "stream",
     "text": [
      "100%|██████████████████████████████████████████████████████████████████████████████████████████████████████████████████████████████████████████████████████████████████████| 15/15 [00:00<00:00, 563.58it/s]"
     ]
    },
    {
     "name": "stdout",
     "output_type": "stream",
     "text": [
      " loss = 0.1742\n"
     ]
    },
    {
     "name": "stderr",
     "output_type": "stream",
     "text": [
      "\n"
     ]
    },
    {
     "name": "stdout",
     "output_type": "stream",
     "text": [
      "Relative training error = 15.2628 %\n",
      "Relative test error = 16.4244 %\n"
     ]
    },
    {
     "name": "stderr",
     "output_type": "stream",
     "text": [
      "100%|██████████████████████████████████████████████████████████████████████████████████████████████████████████████████████████████████████████████████████████████████████| 15/15 [00:00<00:00, 740.80it/s]"
     ]
    },
    {
     "name": "stdout",
     "output_type": "stream",
     "text": [
      " loss = 0.0484\n",
      "Relative training error = 14.9064 %"
     ]
    },
    {
     "name": "stderr",
     "output_type": "stream",
     "text": [
      "\n"
     ]
    },
    {
     "name": "stdout",
     "output_type": "stream",
     "text": [
      "\n",
      "Relative test error = 16.3497 %\n"
     ]
    },
    {
     "name": "stderr",
     "output_type": "stream",
     "text": [
      "100%|██████████████████████████████████████████████████████████████████████████████████████████████████████████████████████████████████████████████████████████████████████| 15/15 [00:00<00:00, 625.06it/s]"
     ]
    },
    {
     "name": "stdout",
     "output_type": "stream",
     "text": [
      " loss = 0.0515\n"
     ]
    },
    {
     "name": "stderr",
     "output_type": "stream",
     "text": [
      "\n"
     ]
    },
    {
     "name": "stdout",
     "output_type": "stream",
     "text": [
      "Relative training error = 14.4238 %\n",
      "Relative test error = 15.3636 %\n"
     ]
    },
    {
     "name": "stderr",
     "output_type": "stream",
     "text": [
      "100%|██████████████████████████████████████████████████████████████████████████████████████████████████████████████████████████████████████████████████████████████████████| 15/15 [00:00<00:00, 737.49it/s]"
     ]
    },
    {
     "name": "stdout",
     "output_type": "stream",
     "text": [
      " loss = 0.1516\n"
     ]
    },
    {
     "name": "stderr",
     "output_type": "stream",
     "text": [
      "\n"
     ]
    },
    {
     "name": "stdout",
     "output_type": "stream",
     "text": [
      "Relative training error = 14.0669 %\n",
      "Relative test error = 15.5286 %\n"
     ]
    },
    {
     "name": "stderr",
     "output_type": "stream",
     "text": [
      "100%|██████████████████████████████████████████████████████████████████████████████████████████████████████████████████████████████████████████████████████████████████████| 15/15 [00:00<00:00, 518.36it/s]"
     ]
    },
    {
     "name": "stdout",
     "output_type": "stream",
     "text": [
      " loss = 0.1313\n"
     ]
    },
    {
     "name": "stderr",
     "output_type": "stream",
     "text": [
      "\n"
     ]
    },
    {
     "name": "stdout",
     "output_type": "stream",
     "text": [
      "Relative training error = 13.8396 %\n",
      "Relative test error = 15.5701 %\n"
     ]
    },
    {
     "name": "stderr",
     "output_type": "stream",
     "text": [
      "100%|██████████████████████████████████████████████████████████████████████████████████████████████████████████████████████████████████████████████████████████████████████| 15/15 [00:00<00:00, 562.83it/s]"
     ]
    },
    {
     "name": "stdout",
     "output_type": "stream",
     "text": [
      " loss = 0.1313\n"
     ]
    },
    {
     "name": "stderr",
     "output_type": "stream",
     "text": [
      "\n"
     ]
    },
    {
     "name": "stdout",
     "output_type": "stream",
     "text": [
      "Relative training error = 13.5641 %\n",
      "Relative test error = 13.7631 %\n"
     ]
    },
    {
     "name": "stderr",
     "output_type": "stream",
     "text": [
      "100%|██████████████████████████████████████████████████████████████████████████████████████████████████████████████████████████████████████████████████████████████████████| 15/15 [00:00<00:00, 555.55it/s]"
     ]
    },
    {
     "name": "stdout",
     "output_type": "stream",
     "text": [
      " loss = 0.1330\n"
     ]
    },
    {
     "name": "stderr",
     "output_type": "stream",
     "text": [
      "\n"
     ]
    },
    {
     "name": "stdout",
     "output_type": "stream",
     "text": [
      "Relative training error = 13.2417 %\n",
      "Relative test error = 13.8685 %\n"
     ]
    },
    {
     "name": "stderr",
     "output_type": "stream",
     "text": [
      "  0%|                                                                                                                                                                                | 0/15 [00:00<?, ?it/s]"
     ]
    },
    {
     "name": "stdout",
     "output_type": "stream",
     "text": [
      " loss = 0.1422\n"
     ]
    },
    {
     "name": "stderr",
     "output_type": "stream",
     "text": [
      "100%|██████████████████████████████████████████████████████████████████████████████████████████████████████████████████████████████████████████████████████████████████████| 15/15 [00:00<00:00, 478.98it/s]\n"
     ]
    },
    {
     "name": "stdout",
     "output_type": "stream",
     "text": [
      "Relative training error = 13.0558 %\n",
      "Relative test error = 14.4432 %\n"
     ]
    },
    {
     "name": "stderr",
     "output_type": "stream",
     "text": [
      "  0%|                                                                                                                                                                                | 0/15 [00:00<?, ?it/s]"
     ]
    },
    {
     "name": "stdout",
     "output_type": "stream",
     "text": [
      " loss = 0.1118\n"
     ]
    },
    {
     "name": "stderr",
     "output_type": "stream",
     "text": [
      "100%|██████████████████████████████████████████████████████████████████████████████████████████████████████████████████████████████████████████████████████████████████████| 15/15 [00:00<00:00, 656.71it/s]\n"
     ]
    },
    {
     "name": "stdout",
     "output_type": "stream",
     "text": [
      "Relative training error = 12.9324 %\n",
      "Relative test error = 15.1857 %\n"
     ]
    },
    {
     "name": "stderr",
     "output_type": "stream",
     "text": [
      "100%|██████████████████████████████████████████████████████████████████████████████████████████████████████████████████████████████████████████████████████████████████████| 15/15 [00:00<00:00, 666.31it/s]"
     ]
    },
    {
     "name": "stdout",
     "output_type": "stream",
     "text": [
      " loss = 0.0244\n"
     ]
    },
    {
     "name": "stderr",
     "output_type": "stream",
     "text": [
      "\n"
     ]
    },
    {
     "name": "stdout",
     "output_type": "stream",
     "text": [
      "Relative training error = 12.6870 %\n",
      "Relative test error = 15.0629 %\n",
      "Creating DAS_analysis object\n",
      "[-3.33904898e-02 -2.75592482e-04  6.75529046e-03  2.95434237e-02\n",
      " -3.40290729e-03  3.08737117e-02  1.01209520e-03 -4.80988323e-03\n",
      " -1.07648473e-02 -1.92345385e-03 -1.05707726e-02  1.32764589e-02\n",
      " -1.88479366e-04 -7.78112981e-03 -2.20797094e-02  1.91612666e-02\n",
      " -3.81322690e-02 -1.43958990e-02 -3.55501232e-03  5.87829705e-02\n",
      " -3.15450202e-02 -2.07752352e-02 -7.18415924e-03  3.33695040e-03\n",
      "  1.36140605e-02 -9.36144500e-04  2.43579140e-02 -3.12722198e-04\n",
      "  2.60047425e-02 -2.81825681e-03 -1.10942119e-02  5.04249430e-02\n",
      "  9.36378451e-03  1.44538531e-02 -1.95601641e-02  4.95149215e-02\n",
      "  2.97072515e-02 -3.72920018e-02 -5.25101326e-02  1.36140962e-02\n",
      " -3.78842837e-03 -2.36315610e-02  3.08886513e-03  9.94606874e-03\n",
      " -2.73260217e-02  5.52111629e-05 -5.57936320e-03 -2.81570151e-02\n",
      " -5.36236275e-02 -2.78460035e-02 -2.79262929e-02  1.98481853e-02\n",
      " -2.02375243e-02  7.09350627e-03 -1.80310190e-02  1.10893024e-02\n",
      "  1.38355662e-02  1.55181759e-02  7.77773490e-03  4.02404911e-02\n",
      " -3.26803716e-02 -3.26558853e-02  2.74570357e-02 -2.43002378e-02\n",
      "  1.28519502e-02 -7.79996707e-03  4.21526790e-03 -1.96827100e-02\n",
      " -3.06098804e-02  1.13523954e-02 -3.18856661e-02  3.28485979e-03\n",
      " -2.61098246e-02  5.02761503e-02  1.95430325e-02 -2.11639217e-02\n",
      "  1.11936941e-02  1.22667059e-02  2.38241491e-02 -1.50901499e-03\n",
      "  2.05020611e-02 -5.86918590e-03  9.52424640e-03  6.46418346e-04\n",
      " -1.96385022e-02 -1.28099016e-02 -5.11204137e-02  1.53145645e-02\n",
      " -4.96562421e-03 -1.24992020e-02 -3.22209028e-02 -1.05753944e-02\n",
      " -6.66280114e-06 -9.16344139e-03 -9.91075205e-04  4.45905269e-02\n",
      " -3.06444710e-02 -8.35294877e-03  1.45706277e-03 -2.13765282e-03\n",
      "  3.50208138e-03 -1.54497343e-02 -5.20253328e-02]\n",
      "Parameters ordered from most to least important:\n",
      "[[  7  11  25   9  33  15  19   5   3  29  23   1  27  59  41  17  13  55\n",
      "    6  16  68  65  53  21  83  34  30  10  58  48  28  61  35  98  47  46\n",
      "    8  97  14  38  62  78  93  88  18  40  72  80 101  67  37  43  12  92\n",
      "   87  56  36  91  63 102  20  32  44  50  60  54  82  31  22  89  57  52\n",
      "   73  39  45  76  49  64  26  86  74  42  94  24  81  75   4  85  90  71\n",
      "   95  66  69   2  70 100  77  79  51  84   0  99  96]]\n",
      "Creating DAS_Surrogate Object\n",
      "Creating Feature Engineering object\n",
      "Using  450/450 samples to train the ML model\n",
      "===============================\n",
      "Neural net parameters\n",
      "===============================\n",
      "Number of layers = 3\n",
      "Number of features = 103\n",
      "Loss function = squared\n",
      "Number of neurons per hidden layer = 10\n",
      "Number of output neurons = 1\n",
      "Activation = ['linear', 'linear', 'tanh', 'linear']\n",
      "This neural network has 134 weights.\n",
      "===============================\n",
      "===============================\n",
      "Training Deep Active Subspace Neural Network...\n"
     ]
    },
    {
     "name": "stderr",
     "output_type": "stream",
     "text": [
      "100%|██████████████████████████████████████████████████████████████████████████████████████████████████████████████████████████████████████████████████████████████████████| 15/15 [00:00<00:00, 610.86it/s]\n"
     ]
    },
    {
     "name": "stdout",
     "output_type": "stream",
     "text": [
      " loss = 2.3948\n",
      "Relative training error = 53.1316 %\n",
      "Relative test error = 53.7423 %\n"
     ]
    },
    {
     "name": "stderr",
     "output_type": "stream",
     "text": [
      "100%|██████████████████████████████████████████████████████████████████████████████████████████████████████████████████████████████████████████████████████████████████████| 15/15 [00:00<00:00, 613.20it/s]\n"
     ]
    },
    {
     "name": "stdout",
     "output_type": "stream",
     "text": [
      " loss = 1.2961\n",
      "Relative training error = 44.7673 %\n",
      "Relative test error = 42.1888 %\n"
     ]
    },
    {
     "name": "stderr",
     "output_type": "stream",
     "text": [
      "100%|██████████████████████████████████████████████████████████████████████████████████████████████████████████████████████████████████████████████████████████████████████| 15/15 [00:00<00:00, 562.32it/s]"
     ]
    },
    {
     "name": "stdout",
     "output_type": "stream",
     "text": [
      " loss = 1.1469\n",
      "Relative training error = 40.0439 %\n",
      "Relative test error = 35.4847 %\n"
     ]
    },
    {
     "name": "stderr",
     "output_type": "stream",
     "text": [
      "\n",
      "100%|██████████████████████████████████████████████████████████████████████████████████████████████████████████████████████████████████████████████████████████████████████| 15/15 [00:00<00:00, 600.84it/s]"
     ]
    },
    {
     "name": "stdout",
     "output_type": "stream",
     "text": [
      " loss = 1.2127\n"
     ]
    },
    {
     "name": "stderr",
     "output_type": "stream",
     "text": [
      "\n"
     ]
    },
    {
     "name": "stdout",
     "output_type": "stream",
     "text": [
      "Relative training error = 36.7436 %\n",
      "Relative test error = 33.6294 %\n"
     ]
    },
    {
     "name": "stderr",
     "output_type": "stream",
     "text": [
      "100%|██████████████████████████████████████████████████████████████████████████████████████████████████████████████████████████████████████████████████████████████████████| 15/15 [00:00<00:00, 570.45it/s]\n"
     ]
    },
    {
     "name": "stdout",
     "output_type": "stream",
     "text": [
      " loss = 0.7570\n",
      "Relative training error = 32.7596 %\n",
      "Relative test error = 31.5265 %\n"
     ]
    },
    {
     "name": "stderr",
     "output_type": "stream",
     "text": [
      "100%|██████████████████████████████████████████████████████████████████████████████████████████████████████████████████████████████████████████████████████████████████████| 15/15 [00:00<00:00, 783.42it/s]\n"
     ]
    },
    {
     "name": "stdout",
     "output_type": "stream",
     "text": [
      " loss = 0.3121\n",
      "Relative training error = 29.0615 %\n",
      "Relative test error = 28.9895 %\n"
     ]
    },
    {
     "name": "stderr",
     "output_type": "stream",
     "text": [
      "100%|██████████████████████████████████████████████████████████████████████████████████████████████████████████████████████████████████████████████████████████████████████| 15/15 [00:00<00:00, 561.56it/s]"
     ]
    },
    {
     "name": "stdout",
     "output_type": "stream",
     "text": [
      " loss = 0.1872\n"
     ]
    },
    {
     "name": "stderr",
     "output_type": "stream",
     "text": [
      "\n"
     ]
    },
    {
     "name": "stdout",
     "output_type": "stream",
     "text": [
      "Relative training error = 25.5576 %\n",
      "Relative test error = 27.0800 %\n"
     ]
    },
    {
     "name": "stderr",
     "output_type": "stream",
     "text": [
      "100%|██████████████████████████████████████████████████████████████████████████████████████████████████████████████████████████████████████████████████████████████████████| 15/15 [00:00<00:00, 687.55it/s]"
     ]
    },
    {
     "name": "stdout",
     "output_type": "stream",
     "text": [
      " loss = 0.1745\n"
     ]
    },
    {
     "name": "stderr",
     "output_type": "stream",
     "text": [
      "\n"
     ]
    },
    {
     "name": "stdout",
     "output_type": "stream",
     "text": [
      "Relative training error = 22.5175 %\n",
      "Relative test error = 25.1569 %\n"
     ]
    },
    {
     "name": "stderr",
     "output_type": "stream",
     "text": [
      "100%|██████████████████████████████████████████████████████████████████████████████████████████████████████████████████████████████████████████████████████████████████████| 15/15 [00:00<00:00, 499.44it/s]"
     ]
    },
    {
     "name": "stdout",
     "output_type": "stream",
     "text": [
      " loss = 0.6616\n"
     ]
    },
    {
     "name": "stderr",
     "output_type": "stream",
     "text": [
      "\n"
     ]
    },
    {
     "name": "stdout",
     "output_type": "stream",
     "text": [
      "Relative training error = 20.1231 %\n",
      "Relative test error = 23.1947 %\n"
     ]
    },
    {
     "name": "stderr",
     "output_type": "stream",
     "text": [
      "  0%|                                                                                                                                                                                | 0/15 [00:00<?, ?it/s]"
     ]
    },
    {
     "name": "stdout",
     "output_type": "stream",
     "text": [
      " loss = 0.1324\n"
     ]
    },
    {
     "name": "stderr",
     "output_type": "stream",
     "text": [
      "100%|██████████████████████████████████████████████████████████████████████████████████████████████████████████████████████████████████████████████████████████████████████| 15/15 [00:00<00:00, 633.70it/s]\n"
     ]
    },
    {
     "name": "stdout",
     "output_type": "stream",
     "text": [
      "Relative training error = 18.4377 %\n",
      "Relative test error = 21.4655 %\n"
     ]
    },
    {
     "name": "stderr",
     "output_type": "stream",
     "text": [
      "  0%|                                                                                                                                                                                | 0/15 [00:00<?, ?it/s]"
     ]
    },
    {
     "name": "stdout",
     "output_type": "stream",
     "text": [
      " loss = 0.0807\n"
     ]
    },
    {
     "name": "stderr",
     "output_type": "stream",
     "text": [
      "100%|██████████████████████████████████████████████████████████████████████████████████████████████████████████████████████████████████████████████████████████████████████| 15/15 [00:00<00:00, 716.08it/s]\n"
     ]
    },
    {
     "name": "stdout",
     "output_type": "stream",
     "text": [
      "Relative training error = 17.2670 %\n",
      "Relative test error = 19.4443 %\n"
     ]
    },
    {
     "name": "stderr",
     "output_type": "stream",
     "text": [
      "100%|██████████████████████████████████████████████████████████████████████████████████████████████████████████████████████████████████████████████████████████████████████| 15/15 [00:00<00:00, 754.70it/s]\n"
     ]
    },
    {
     "name": "stdout",
     "output_type": "stream",
     "text": [
      " loss = 0.1148\n",
      "Relative training error = 16.2401 %\n",
      "Relative test error = 18.4251 %\n"
     ]
    },
    {
     "name": "stderr",
     "output_type": "stream",
     "text": [
      "100%|██████████████████████████████████████████████████████████████████████████████████████████████████████████████████████████████████████████████████████████████████████| 15/15 [00:00<00:00, 631.91it/s]\n"
     ]
    },
    {
     "name": "stdout",
     "output_type": "stream",
     "text": [
      " loss = 0.1093\n",
      "Relative training error = 15.4776 %\n",
      "Relative test error = 18.0573 %\n"
     ]
    },
    {
     "name": "stderr",
     "output_type": "stream",
     "text": [
      "  0%|                                                                                                                                                                                | 0/15 [00:00<?, ?it/s]"
     ]
    },
    {
     "name": "stdout",
     "output_type": "stream",
     "text": [
      " loss = 0.0892\n"
     ]
    },
    {
     "name": "stderr",
     "output_type": "stream",
     "text": [
      "100%|██████████████████████████████████████████████████████████████████████████████████████████████████████████████████████████████████████████████████████████████████████| 15/15 [00:00<00:00, 751.58it/s]\n"
     ]
    },
    {
     "name": "stdout",
     "output_type": "stream",
     "text": [
      "Relative training error = 14.7617 %\n",
      "Relative test error = 17.5962 %\n"
     ]
    },
    {
     "name": "stderr",
     "output_type": "stream",
     "text": [
      "100%|██████████████████████████████████████████████████████████████████████████████████████████████████████████████████████████████████████████████████████████████████████| 15/15 [00:00<00:00, 611.93it/s]"
     ]
    },
    {
     "name": "stdout",
     "output_type": "stream",
     "text": [
      " loss = 0.0567\n"
     ]
    },
    {
     "name": "stderr",
     "output_type": "stream",
     "text": [
      "\n"
     ]
    },
    {
     "name": "stdout",
     "output_type": "stream",
     "text": [
      "Relative training error = 14.2474 %\n",
      "Relative test error = 16.8808 %\n"
     ]
    },
    {
     "name": "stderr",
     "output_type": "stream",
     "text": [
      "100%|██████████████████████████████████████████████████████████████████████████████████████████████████████████████████████████████████████████████████████████████████████| 15/15 [00:00<00:00, 673.42it/s]\n"
     ]
    },
    {
     "name": "stdout",
     "output_type": "stream",
     "text": [
      " loss = 0.1570\n",
      "Relative training error = 13.8741 %\n",
      "Relative test error = 16.1827 %\n"
     ]
    },
    {
     "name": "stderr",
     "output_type": "stream",
     "text": [
      "100%|██████████████████████████████████████████████████████████████████████████████████████████████████████████████████████████████████████████████████████████████████████| 15/15 [00:00<00:00, 657.08it/s]\n"
     ]
    },
    {
     "name": "stdout",
     "output_type": "stream",
     "text": [
      " loss = 0.2938\n",
      "Relative training error = 13.5713 %\n",
      "Relative test error = 16.3504 %\n"
     ]
    },
    {
     "name": "stderr",
     "output_type": "stream",
     "text": [
      "100%|██████████████████████████████████████████████████████████████████████████████████████████████████████████████████████████████████████████████████████████████████████| 15/15 [00:00<00:00, 744.80it/s]\n"
     ]
    },
    {
     "name": "stdout",
     "output_type": "stream",
     "text": [
      " loss = 0.0422\n",
      "Relative training error = 13.3698 %\n",
      "Relative test error = 15.8322 %\n"
     ]
    },
    {
     "name": "stderr",
     "output_type": "stream",
     "text": [
      "100%|██████████████████████████████████████████████████████████████████████████████████████████████████████████████████████████████████████████████████████████████████████| 15/15 [00:00<00:00, 691.62it/s]\n"
     ]
    },
    {
     "name": "stdout",
     "output_type": "stream",
     "text": [
      " loss = 0.0710\n",
      "Relative training error = 13.1422 %\n",
      "Relative test error = 15.6045 %\n"
     ]
    },
    {
     "name": "stderr",
     "output_type": "stream",
     "text": [
      "100%|██████████████████████████████████████████████████████████████████████████████████████████████████████████████████████████████████████████████████████████████████████| 15/15 [00:00<00:00, 610.47it/s]\n"
     ]
    },
    {
     "name": "stdout",
     "output_type": "stream",
     "text": [
      " loss = 0.1243\n",
      "Relative training error = 12.9309 %\n",
      "Relative test error = 15.8447 %\n"
     ]
    },
    {
     "name": "stderr",
     "output_type": "stream",
     "text": [
      "100%|██████████████████████████████████████████████████████████████████████████████████████████████████████████████████████████████████████████████████████████████████████| 15/15 [00:00<00:00, 714.44it/s]\n"
     ]
    },
    {
     "name": "stdout",
     "output_type": "stream",
     "text": [
      " loss = 0.0294\n",
      "Relative training error = 12.7471 %\n",
      "Relative test error = 15.9858 %\n"
     ]
    },
    {
     "name": "stderr",
     "output_type": "stream",
     "text": [
      "100%|██████████████████████████████████████████████████████████████████████████████████████████████████████████████████████████████████████████████████████████████████████| 15/15 [00:00<00:00, 735.74it/s]\n"
     ]
    },
    {
     "name": "stdout",
     "output_type": "stream",
     "text": [
      " loss = 0.0388\n",
      "Relative training error = 12.6234 %\n",
      "Relative test error = 14.7518 %\n"
     ]
    },
    {
     "name": "stderr",
     "output_type": "stream",
     "text": [
      "100%|██████████████████████████████████████████████████████████████████████████████████████████████████████████████████████████████████████████████████████████████████████| 15/15 [00:00<00:00, 669.31it/s]"
     ]
    },
    {
     "name": "stdout",
     "output_type": "stream",
     "text": [
      " loss = 0.0397\n"
     ]
    },
    {
     "name": "stderr",
     "output_type": "stream",
     "text": [
      "\n"
     ]
    },
    {
     "name": "stdout",
     "output_type": "stream",
     "text": [
      "Relative training error = 12.4611 %\n",
      "Relative test error = 15.0138 %\n"
     ]
    },
    {
     "name": "stderr",
     "output_type": "stream",
     "text": [
      "100%|██████████████████████████████████████████████████████████████████████████████████████████████████████████████████████████████████████████████████████████████████████| 15/15 [00:00<00:00, 624.05it/s]\n"
     ]
    },
    {
     "name": "stdout",
     "output_type": "stream",
     "text": [
      " loss = 0.0355\n",
      "Relative training error = 12.3218 %\n",
      "Relative test error = 14.7518 %\n"
     ]
    },
    {
     "name": "stderr",
     "output_type": "stream",
     "text": [
      "100%|██████████████████████████████████████████████████████████████████████████████████████████████████████████████████████████████████████████████████████████████████████| 15/15 [00:00<00:00, 590.75it/s]\n"
     ]
    },
    {
     "name": "stdout",
     "output_type": "stream",
     "text": [
      " loss = 0.1225\n",
      "Relative training error = 12.1835 %\n",
      "Relative test error = 14.8981 %\n"
     ]
    },
    {
     "name": "stderr",
     "output_type": "stream",
     "text": [
      "100%|██████████████████████████████████████████████████████████████████████████████████████████████████████████████████████████████████████████████████████████████████████| 15/15 [00:00<00:00, 689.50it/s]"
     ]
    },
    {
     "name": "stdout",
     "output_type": "stream",
     "text": [
      " loss = 0.1230\n"
     ]
    },
    {
     "name": "stderr",
     "output_type": "stream",
     "text": [
      "\n"
     ]
    },
    {
     "name": "stdout",
     "output_type": "stream",
     "text": [
      "Relative training error = 12.0513 %\n",
      "Relative test error = 15.4510 %\n"
     ]
    },
    {
     "name": "stderr",
     "output_type": "stream",
     "text": [
      "100%|██████████████████████████████████████████████████████████████████████████████████████████████████████████████████████████████████████████████████████████████████████| 15/15 [00:00<00:00, 730.10it/s]\n"
     ]
    },
    {
     "name": "stdout",
     "output_type": "stream",
     "text": [
      " loss = 0.0248\n",
      "Relative training error = 11.8809 %\n",
      "Relative test error = 16.0698 %\n"
     ]
    },
    {
     "name": "stderr",
     "output_type": "stream",
     "text": [
      "100%|██████████████████████████████████████████████████████████████████████████████████████████████████████████████████████████████████████████████████████████████████████| 15/15 [00:00<00:00, 664.95it/s]\n"
     ]
    },
    {
     "name": "stdout",
     "output_type": "stream",
     "text": [
      " loss = 0.0682\n",
      "Relative training error = 11.7025 %\n",
      "Relative test error = 15.6821 %\n",
      "Creating DAS_analysis object\n",
      "[-3.33904898e-02 -2.75592482e-04  6.75529046e-03  2.95434237e-02\n",
      " -3.40290729e-03  3.08737117e-02  1.01209520e-03 -4.80988323e-03\n",
      " -1.07648473e-02 -1.92345385e-03 -1.05707726e-02  1.32764589e-02\n",
      " -1.88479366e-04 -7.78112981e-03 -2.20797094e-02  1.91612666e-02\n",
      " -3.81322690e-02 -1.43958990e-02 -3.55501232e-03  5.87829705e-02\n",
      " -3.15450202e-02 -2.07752352e-02 -7.18415924e-03  3.33695040e-03\n",
      "  1.36140605e-02 -9.36144500e-04  2.43579140e-02 -3.12722198e-04\n",
      "  2.60047425e-02 -2.81825681e-03 -1.10942119e-02  5.04249430e-02\n",
      "  9.36378451e-03  1.44538531e-02 -1.95601641e-02  4.95149215e-02\n",
      "  2.97072515e-02 -3.72920018e-02 -5.25101326e-02  1.36140962e-02\n",
      " -3.78842837e-03 -2.36315610e-02  3.08886513e-03  9.94606874e-03\n",
      " -2.73260217e-02  5.52111629e-05 -5.57936320e-03 -2.81570151e-02\n",
      " -5.36236275e-02 -2.78460035e-02 -2.79262929e-02  1.98481853e-02\n",
      " -2.02375243e-02  7.09350627e-03 -1.80310190e-02  1.10893024e-02\n",
      "  1.38355662e-02  1.55181759e-02  7.77773490e-03  4.02404911e-02\n",
      " -3.26803716e-02 -3.26558853e-02  2.74570357e-02 -2.43002378e-02\n",
      "  1.28519502e-02 -7.79996707e-03  4.21526790e-03 -1.96827100e-02\n",
      " -3.06098804e-02  1.13523954e-02 -3.18856661e-02  3.28485979e-03\n",
      " -2.61098246e-02  5.02761503e-02  1.95430325e-02 -2.11639217e-02\n",
      "  1.11936941e-02  1.22667059e-02  2.38241491e-02 -1.50901499e-03\n",
      "  2.05020611e-02 -5.86918590e-03  9.52424640e-03  6.46418346e-04\n",
      " -1.96385022e-02 -1.28099016e-02 -5.11204137e-02  1.53145645e-02\n",
      " -4.96562421e-03 -1.24992020e-02 -3.22209028e-02 -1.05753944e-02\n",
      " -6.66280114e-06 -9.16344139e-03 -9.91075205e-04  4.45905269e-02\n",
      " -3.06444710e-02 -8.35294877e-03  1.45706277e-03 -2.13765282e-03\n",
      "  3.50208138e-03 -1.54497343e-02 -5.20253328e-02]\n",
      "Parameters ordered from most to least important:\n",
      "[[  7  11  25   9  33  15  19   5   3  29  23   1  27  59  41  17  34  13\n",
      "   55  30  21   6  10  83  36  16  73  28  48  47  80  98  72  65  14  61\n",
      "    8  46  40  50  35  18  93  52  53  43  74  91  95  71  58  39 102  78\n",
      "   97  26  68  62  56  60  12  31  69  92  44  54 100  81  76 101   2  86\n",
      "   20  84  51  87  45  32  88  96  37  77  89  70  49  63  67  94  82  79\n",
      "   99  42  57  75  90  64  85   4  22   0  24  66  38]]\n",
      "Creating DAS_Surrogate Object\n",
      "Creating Feature Engineering object\n",
      "Using  450/450 samples to train the ML model\n",
      "===============================\n",
      "Neural net parameters\n",
      "===============================\n",
      "Number of layers = 3\n",
      "Number of features = 103\n",
      "Loss function = squared\n",
      "Number of neurons per hidden layer = 10\n",
      "Number of output neurons = 1\n",
      "Activation = ['linear', 'linear', 'tanh', 'linear']\n",
      "This neural network has 134 weights.\n",
      "===============================\n",
      "===============================\n",
      "Training Deep Active Subspace Neural Network...\n"
     ]
    },
    {
     "name": "stderr",
     "output_type": "stream",
     "text": [
      "100%|██████████████████████████████████████████████████████████████████████████████████████████████████████████████████████████████████████████████████████████████████████| 15/15 [00:00<00:00, 587.70it/s]\n"
     ]
    },
    {
     "name": "stdout",
     "output_type": "stream",
     "text": [
      " loss = 4.5262\n",
      "Relative training error = 49.9808 %\n",
      "Relative test error = 39.6776 %\n"
     ]
    },
    {
     "name": "stderr",
     "output_type": "stream",
     "text": [
      "100%|██████████████████████████████████████████████████████████████████████████████████████████████████████████████████████████████████████████████████████████████████████| 15/15 [00:00<00:00, 710.28it/s]"
     ]
    },
    {
     "name": "stdout",
     "output_type": "stream",
     "text": [
      " loss = 1.0911\n"
     ]
    },
    {
     "name": "stderr",
     "output_type": "stream",
     "text": [
      "\n"
     ]
    },
    {
     "name": "stdout",
     "output_type": "stream",
     "text": [
      "Relative training error = 43.6412 %\n",
      "Relative test error = 35.4812 %\n"
     ]
    },
    {
     "name": "stderr",
     "output_type": "stream",
     "text": [
      "100%|██████████████████████████████████████████████████████████████████████████████████████████████████████████████████████████████████████████████████████████████████████| 15/15 [00:00<00:00, 648.85it/s]"
     ]
    },
    {
     "name": "stdout",
     "output_type": "stream",
     "text": [
      " loss = 2.1172\n"
     ]
    },
    {
     "name": "stderr",
     "output_type": "stream",
     "text": [
      "\n"
     ]
    },
    {
     "name": "stdout",
     "output_type": "stream",
     "text": [
      "Relative training error = 40.9654 %\n",
      "Relative test error = 37.0441 %\n"
     ]
    },
    {
     "name": "stderr",
     "output_type": "stream",
     "text": [
      "100%|██████████████████████████████████████████████████████████████████████████████████████████████████████████████████████████████████████████████████████████████████████| 15/15 [00:00<00:00, 711.43it/s]\n"
     ]
    },
    {
     "name": "stdout",
     "output_type": "stream",
     "text": [
      " loss = 1.4060\n",
      "Relative training error = 37.3195 %\n",
      "Relative test error = 36.0057 %\n"
     ]
    },
    {
     "name": "stderr",
     "output_type": "stream",
     "text": [
      "100%|██████████████████████████████████████████████████████████████████████████████████████████████████████████████████████████████████████████████████████████████████████| 15/15 [00:00<00:00, 748.64it/s]\n"
     ]
    },
    {
     "name": "stdout",
     "output_type": "stream",
     "text": [
      " loss = 0.3035\n",
      "Relative training error = 33.7376 %\n",
      "Relative test error = 33.0661 %\n"
     ]
    },
    {
     "name": "stderr",
     "output_type": "stream",
     "text": [
      "                                                                                                                                                                                                            \r"
     ]
    },
    {
     "name": "stdout",
     "output_type": "stream",
     "text": [
      " loss = 0.4434\n"
     ]
    },
    {
     "name": "stderr",
     "output_type": "stream",
     "text": [
      "100%|██████████████████████████████████████████████████████████████████████████████████████████████████████████████████████████████████████████████████████████████████████| 15/15 [00:00<00:00, 584.26it/s]\n"
     ]
    },
    {
     "name": "stdout",
     "output_type": "stream",
     "text": [
      "Relative training error = 30.7555 %\n",
      "Relative test error = 30.2558 %\n"
     ]
    },
    {
     "name": "stderr",
     "output_type": "stream",
     "text": [
      "  0%|                                                                                                                                                                                | 0/15 [00:00<?, ?it/s]"
     ]
    },
    {
     "name": "stdout",
     "output_type": "stream",
     "text": [
      " loss = 0.4181\n"
     ]
    },
    {
     "name": "stderr",
     "output_type": "stream",
     "text": [
      "100%|██████████████████████████████████████████████████████████████████████████████████████████████████████████████████████████████████████████████████████████████████████| 15/15 [00:00<00:00, 697.41it/s]\n"
     ]
    },
    {
     "name": "stdout",
     "output_type": "stream",
     "text": [
      "Relative training error = 28.1398 %\n",
      "Relative test error = 27.1350 %\n"
     ]
    },
    {
     "name": "stderr",
     "output_type": "stream",
     "text": [
      "100%|██████████████████████████████████████████████████████████████████████████████████████████████████████████████████████████████████████████████████████████████████████| 15/15 [00:00<00:00, 611.76it/s]\n"
     ]
    },
    {
     "name": "stdout",
     "output_type": "stream",
     "text": [
      " loss = 0.3746\n",
      "Relative training error = 25.6218 %\n",
      "Relative test error = 24.7845 %\n"
     ]
    },
    {
     "name": "stderr",
     "output_type": "stream",
     "text": [
      "100%|██████████████████████████████████████████████████████████████████████████████████████████████████████████████████████████████████████████████████████████████████████| 15/15 [00:00<00:00, 683.25it/s]"
     ]
    },
    {
     "name": "stdout",
     "output_type": "stream",
     "text": [
      " loss = 0.2922\n",
      "Relative training error = 23.3591 %\n",
      "Relative test error = 22.9207 %\n"
     ]
    },
    {
     "name": "stderr",
     "output_type": "stream",
     "text": [
      "\n",
      "100%|██████████████████████████████████████████████████████████████████████████████████████████████████████████████████████████████████████████████████████████████████████| 15/15 [00:00<00:00, 732.74it/s]\n"
     ]
    },
    {
     "name": "stdout",
     "output_type": "stream",
     "text": [
      " loss = 0.1462\n",
      "Relative training error = 21.6139 %\n",
      "Relative test error = 21.1922 %\n"
     ]
    },
    {
     "name": "stderr",
     "output_type": "stream",
     "text": [
      "100%|██████████████████████████████████████████████████████████████████████████████████████████████████████████████████████████████████████████████████████████████████████| 15/15 [00:00<00:00, 590.50it/s]\n"
     ]
    },
    {
     "name": "stdout",
     "output_type": "stream",
     "text": [
      " loss = 0.2834\n",
      "Relative training error = 19.9325 %\n",
      "Relative test error = 20.5154 %\n"
     ]
    },
    {
     "name": "stderr",
     "output_type": "stream",
     "text": [
      "100%|██████████████████████████████████████████████████████████████████████████████████████████████████████████████████████████████████████████████████████████████████████| 15/15 [00:00<00:00, 659.64it/s]\n"
     ]
    },
    {
     "name": "stdout",
     "output_type": "stream",
     "text": [
      " loss = 0.4008\n",
      "Relative training error = 18.6738 %\n",
      "Relative test error = 19.8995 %\n"
     ]
    },
    {
     "name": "stderr",
     "output_type": "stream",
     "text": [
      "100%|██████████████████████████████████████████████████████████████████████████████████████████████████████████████████████████████████████████████████████████████████████| 15/15 [00:00<00:00, 643.78it/s]"
     ]
    },
    {
     "name": "stdout",
     "output_type": "stream",
     "text": [
      " loss = 0.0623\n",
      "Relative training error = 17.7433 %"
     ]
    },
    {
     "name": "stderr",
     "output_type": "stream",
     "text": [
      "\n"
     ]
    },
    {
     "name": "stdout",
     "output_type": "stream",
     "text": [
      "\n",
      "Relative test error = 19.1451 %\n"
     ]
    },
    {
     "name": "stderr",
     "output_type": "stream",
     "text": [
      "100%|██████████████████████████████████████████████████████████████████████████████████████████████████████████████████████████████████████████████████████████████████████| 15/15 [00:00<00:00, 724.99it/s]"
     ]
    },
    {
     "name": "stdout",
     "output_type": "stream",
     "text": [
      " loss = 0.2470\n"
     ]
    },
    {
     "name": "stderr",
     "output_type": "stream",
     "text": [
      "\n"
     ]
    },
    {
     "name": "stdout",
     "output_type": "stream",
     "text": [
      "Relative training error = 17.1693 %\n",
      "Relative test error = 18.5952 %\n"
     ]
    },
    {
     "name": "stderr",
     "output_type": "stream",
     "text": [
      "100%|██████████████████████████████████████████████████████████████████████████████████████████████████████████████████████████████████████████████████████████████████████| 15/15 [00:00<00:00, 671.02it/s]"
     ]
    },
    {
     "name": "stdout",
     "output_type": "stream",
     "text": [
      " loss = 0.0579\n"
     ]
    },
    {
     "name": "stderr",
     "output_type": "stream",
     "text": [
      "\n"
     ]
    },
    {
     "name": "stdout",
     "output_type": "stream",
     "text": [
      "Relative training error = 16.6066 %\n",
      "Relative test error = 17.5118 %\n"
     ]
    },
    {
     "name": "stderr",
     "output_type": "stream",
     "text": [
      "100%|██████████████████████████████████████████████████████████████████████████████████████████████████████████████████████████████████████████████████████████████████████| 15/15 [00:00<00:00, 661.06it/s]\n"
     ]
    },
    {
     "name": "stdout",
     "output_type": "stream",
     "text": [
      " loss = 0.0693\n",
      "Relative training error = 16.0405 %\n",
      "Relative test error = 16.4620 %\n"
     ]
    },
    {
     "name": "stderr",
     "output_type": "stream",
     "text": [
      "100%|██████████████████████████████████████████████████████████████████████████████████████████████████████████████████████████████████████████████████████████████████████| 15/15 [00:00<00:00, 606.31it/s]"
     ]
    },
    {
     "name": "stdout",
     "output_type": "stream",
     "text": [
      " loss = 0.1139\n",
      "Relative training error = 15.6151 %"
     ]
    },
    {
     "name": "stderr",
     "output_type": "stream",
     "text": [
      "\n"
     ]
    },
    {
     "name": "stdout",
     "output_type": "stream",
     "text": [
      "\n",
      "Relative test error = 16.1428 %\n"
     ]
    },
    {
     "name": "stderr",
     "output_type": "stream",
     "text": [
      "100%|██████████████████████████████████████████████████████████████████████████████████████████████████████████████████████████████████████████████████████████████████████| 15/15 [00:00<00:00, 721.99it/s]"
     ]
    },
    {
     "name": "stdout",
     "output_type": "stream",
     "text": [
      " loss = 0.0464\n",
      "Relative training error = 15.2465 %\n"
     ]
    },
    {
     "name": "stderr",
     "output_type": "stream",
     "text": [
      "\n"
     ]
    },
    {
     "name": "stdout",
     "output_type": "stream",
     "text": [
      "Relative test error = 15.5992 %\n"
     ]
    },
    {
     "name": "stderr",
     "output_type": "stream",
     "text": [
      "100%|██████████████████████████████████████████████████████████████████████████████████████████████████████████████████████████████████████████████████████████████████████| 15/15 [00:00<00:00, 672.90it/s]\n"
     ]
    },
    {
     "name": "stdout",
     "output_type": "stream",
     "text": [
      " loss = 0.1580\n",
      "Relative training error = 14.9167 %\n",
      "Relative test error = 15.8526 %\n"
     ]
    },
    {
     "name": "stderr",
     "output_type": "stream",
     "text": [
      "100%|██████████████████████████████████████████████████████████████████████████████████████████████████████████████████████████████████████████████████████████████████████| 15/15 [00:00<00:00, 794.30it/s]"
     ]
    },
    {
     "name": "stdout",
     "output_type": "stream",
     "text": [
      " loss = 0.0923\n"
     ]
    },
    {
     "name": "stderr",
     "output_type": "stream",
     "text": [
      "\n"
     ]
    },
    {
     "name": "stdout",
     "output_type": "stream",
     "text": [
      "Relative training error = 14.6912 %\n",
      "Relative test error = 15.8401 %\n"
     ]
    },
    {
     "name": "stderr",
     "output_type": "stream",
     "text": [
      "100%|██████████████████████████████████████████████████████████████████████████████████████████████████████████████████████████████████████████████████████████████████████| 15/15 [00:00<00:00, 709.97it/s]"
     ]
    },
    {
     "name": "stdout",
     "output_type": "stream",
     "text": [
      " loss = 0.0292\n"
     ]
    },
    {
     "name": "stderr",
     "output_type": "stream",
     "text": [
      "\n"
     ]
    },
    {
     "name": "stdout",
     "output_type": "stream",
     "text": [
      "Relative training error = 14.5026 %\n",
      "Relative test error = 16.2083 %\n"
     ]
    },
    {
     "name": "stderr",
     "output_type": "stream",
     "text": [
      "100%|██████████████████████████████████████████████████████████████████████████████████████████████████████████████████████████████████████████████████████████████████████| 15/15 [00:00<00:00, 737.40it/s]\n"
     ]
    },
    {
     "name": "stdout",
     "output_type": "stream",
     "text": [
      " loss = 0.0488\n",
      "Relative training error = 14.2769 %\n",
      "Relative test error = 16.1820 %\n",
      "Creating DAS_analysis object\n",
      "[-3.33904898e-02 -2.75592482e-04  6.75529046e-03  2.95434237e-02\n",
      " -3.40290729e-03  3.08737117e-02  1.01209520e-03 -4.80988323e-03\n",
      " -1.07648473e-02 -1.92345385e-03 -1.05707726e-02  1.32764589e-02\n",
      " -1.88479366e-04 -7.78112981e-03 -2.20797094e-02  1.91612666e-02\n",
      " -3.81322690e-02 -1.43958990e-02 -3.55501232e-03  5.87829705e-02\n",
      " -3.15450202e-02 -2.07752352e-02 -7.18415924e-03  3.33695040e-03\n",
      "  1.36140605e-02 -9.36144500e-04  2.43579140e-02 -3.12722198e-04\n",
      "  2.60047425e-02 -2.81825681e-03 -1.10942119e-02  5.04249430e-02\n",
      "  9.36378451e-03  1.44538531e-02 -1.95601641e-02  4.95149215e-02\n",
      "  2.97072515e-02 -3.72920018e-02 -5.25101326e-02  1.36140962e-02\n",
      " -3.78842837e-03 -2.36315610e-02  3.08886513e-03  9.94606874e-03\n",
      " -2.73260217e-02  5.52111629e-05 -5.57936320e-03 -2.81570151e-02\n",
      " -5.36236275e-02 -2.78460035e-02 -2.79262929e-02  1.98481853e-02\n",
      " -2.02375243e-02  7.09350627e-03 -1.80310190e-02  1.10893024e-02\n",
      "  1.38355662e-02  1.55181759e-02  7.77773490e-03  4.02404911e-02\n",
      " -3.26803716e-02 -3.26558853e-02  2.74570357e-02 -2.43002378e-02\n",
      "  1.28519502e-02 -7.79996707e-03  4.21526790e-03 -1.96827100e-02\n",
      " -3.06098804e-02  1.13523954e-02 -3.18856661e-02  3.28485979e-03\n",
      " -2.61098246e-02  5.02761503e-02  1.95430325e-02 -2.11639217e-02\n",
      "  1.11936941e-02  1.22667059e-02  2.38241491e-02 -1.50901499e-03\n",
      "  2.05020611e-02 -5.86918590e-03  9.52424640e-03  6.46418346e-04\n",
      " -1.96385022e-02 -1.28099016e-02 -5.11204137e-02  1.53145645e-02\n",
      " -4.96562421e-03 -1.24992020e-02 -3.22209028e-02 -1.05753944e-02\n",
      " -6.66280114e-06 -9.16344139e-03 -9.91075205e-04  4.45905269e-02\n",
      " -3.06444710e-02 -8.35294877e-03  1.45706277e-03 -2.13765282e-03\n",
      "  3.50208138e-03 -1.54497343e-02 -5.20253328e-02]\n",
      "Parameters ordered from most to least important:\n",
      "[[  7  11  25   9  33  15  19   5  29   3  23   1  27  41  13  59  17  48\n",
      "   30  34  10  53  16  21  55   6  65  46  40  20  97  47  58  93  50  68\n",
      "   72  78  14  43  83 101   8  52  80  31  60  79  38  89  18  98  73  44\n",
      "   82  36  69  37  67  35  12  88  61 102  92   2  91  26  62  64  28  45\n",
      "   63  94  96 100  81  71  74  54  86  77  90   4  85  84  22  66  87  39\n",
      "   42  24  57  95  99  51  76  49  70  56   0  75  32]]\n",
      "Creating DAS_Surrogate Object\n",
      "Creating Feature Engineering object\n",
      "Using  450/450 samples to train the ML model\n",
      "===============================\n",
      "Neural net parameters\n",
      "===============================\n",
      "Number of layers = 3\n",
      "Number of features = 103\n",
      "Loss function = squared\n",
      "Number of neurons per hidden layer = 10\n",
      "Number of output neurons = 1\n",
      "Activation = ['linear', 'linear', 'tanh', 'linear']\n",
      "This neural network has 134 weights.\n",
      "===============================\n",
      "===============================\n",
      "Training Deep Active Subspace Neural Network...\n"
     ]
    },
    {
     "name": "stderr",
     "output_type": "stream",
     "text": [
      "  0%|                                                                                                                                                                                | 0/15 [00:00<?, ?it/s]"
     ]
    },
    {
     "name": "stdout",
     "output_type": "stream",
     "text": [
      " loss = 1.5483\n"
     ]
    },
    {
     "name": "stderr",
     "output_type": "stream",
     "text": [
      "100%|██████████████████████████████████████████████████████████████████████████████████████████████████████████████████████████████████████████████████████████████████████| 15/15 [00:00<00:00, 719.76it/s]\n"
     ]
    },
    {
     "name": "stdout",
     "output_type": "stream",
     "text": [
      "Relative training error = 44.9770 %\n",
      "Relative test error = 38.5005 %\n"
     ]
    },
    {
     "name": "stderr",
     "output_type": "stream",
     "text": [
      "100%|██████████████████████████████████████████████████████████████████████████████████████████████████████████████████████████████████████████████████████████████████████| 15/15 [00:00<00:00, 741.48it/s]\n"
     ]
    },
    {
     "name": "stdout",
     "output_type": "stream",
     "text": [
      " loss = 1.4098\n",
      "Relative training error = 44.8465 %\n",
      "Relative test error = 40.2725 %\n"
     ]
    },
    {
     "name": "stderr",
     "output_type": "stream",
     "text": [
      "  0%|                                                                                                                                                                                | 0/15 [00:00<?, ?it/s]"
     ]
    },
    {
     "name": "stdout",
     "output_type": "stream",
     "text": [
      " loss = 0.8864\n"
     ]
    },
    {
     "name": "stderr",
     "output_type": "stream",
     "text": [
      "100%|██████████████████████████████████████████████████████████████████████████████████████████████████████████████████████████████████████████████████████████████████████| 15/15 [00:00<00:00, 716.23it/s]\n"
     ]
    },
    {
     "name": "stdout",
     "output_type": "stream",
     "text": [
      "Relative training error = 44.3593 %\n",
      "Relative test error = 37.2181 %\n"
     ]
    },
    {
     "name": "stderr",
     "output_type": "stream",
     "text": [
      "  0%|                                                                                                                                                                                | 0/15 [00:00<?, ?it/s]"
     ]
    },
    {
     "name": "stdout",
     "output_type": "stream",
     "text": [
      " loss = 0.3829\n"
     ]
    },
    {
     "name": "stderr",
     "output_type": "stream",
     "text": [
      "100%|██████████████████████████████████████████████████████████████████████████████████████████████████████████████████████████████████████████████████████████████████████| 15/15 [00:00<00:00, 656.21it/s]\n"
     ]
    },
    {
     "name": "stdout",
     "output_type": "stream",
     "text": [
      "Relative training error = 43.8396 %\n",
      "Relative test error = 37.6721 %\n"
     ]
    },
    {
     "name": "stderr",
     "output_type": "stream",
     "text": [
      "  0%|                                                                                                                                                                                | 0/15 [00:00<?, ?it/s]"
     ]
    },
    {
     "name": "stdout",
     "output_type": "stream",
     "text": [
      " loss = 0.9839\n"
     ]
    },
    {
     "name": "stderr",
     "output_type": "stream",
     "text": [
      "100%|██████████████████████████████████████████████████████████████████████████████████████████████████████████████████████████████████████████████████████████████████████| 15/15 [00:00<00:00, 639.83it/s]\n"
     ]
    },
    {
     "name": "stdout",
     "output_type": "stream",
     "text": [
      "Relative training error = 43.5173 %\n",
      "Relative test error = 39.2083 %\n"
     ]
    },
    {
     "name": "stderr",
     "output_type": "stream",
     "text": [
      "                                                                                                                                                                                                            \r"
     ]
    },
    {
     "name": "stdout",
     "output_type": "stream",
     "text": [
      " loss = 1.1068\n"
     ]
    },
    {
     "name": "stderr",
     "output_type": "stream",
     "text": [
      "100%|██████████████████████████████████████████████████████████████████████████████████████████████████████████████████████████████████████████████████████████████████████| 15/15 [00:00<00:00, 641.38it/s]\n"
     ]
    },
    {
     "name": "stdout",
     "output_type": "stream",
     "text": [
      "Relative training error = 43.1511 %\n",
      "Relative test error = 38.5962 %\n"
     ]
    },
    {
     "name": "stderr",
     "output_type": "stream",
     "text": [
      "100%|██████████████████████████████████████████████████████████████████████████████████████████████████████████████████████████████████████████████████████████████████████| 15/15 [00:00<00:00, 735.08it/s]\n"
     ]
    },
    {
     "name": "stdout",
     "output_type": "stream",
     "text": [
      " loss = 1.5547\n",
      "Relative training error = 42.7634 %\n",
      "Relative test error = 38.8413 %\n"
     ]
    },
    {
     "name": "stderr",
     "output_type": "stream",
     "text": [
      "100%|██████████████████████████████████████████████████████████████████████████████████████████████████████████████████████████████████████████████████████████████████████| 15/15 [00:00<00:00, 800.87it/s]\n"
     ]
    },
    {
     "name": "stdout",
     "output_type": "stream",
     "text": [
      " loss = 0.5859\n",
      "Relative training error = 42.4261 %\n",
      "Relative test error = 39.7445 %\n"
     ]
    },
    {
     "name": "stderr",
     "output_type": "stream",
     "text": [
      "  0%|                                                                                                                                                                                | 0/15 [00:00<?, ?it/s]"
     ]
    },
    {
     "name": "stdout",
     "output_type": "stream",
     "text": [
      " loss = 1.0042\n"
     ]
    },
    {
     "name": "stderr",
     "output_type": "stream",
     "text": [
      "100%|██████████████████████████████████████████████████████████████████████████████████████████████████████████████████████████████████████████████████████████████████████| 15/15 [00:00<00:00, 711.19it/s]\n"
     ]
    },
    {
     "name": "stdout",
     "output_type": "stream",
     "text": [
      "Relative training error = 42.0474 %\n",
      "Relative test error = 39.9264 %\n"
     ]
    },
    {
     "name": "stderr",
     "output_type": "stream",
     "text": [
      "  0%|                                                                                                                                                                                | 0/15 [00:00<?, ?it/s]"
     ]
    },
    {
     "name": "stdout",
     "output_type": "stream",
     "text": [
      " loss = 0.6102\n"
     ]
    },
    {
     "name": "stderr",
     "output_type": "stream",
     "text": [
      "100%|██████████████████████████████████████████████████████████████████████████████████████████████████████████████████████████████████████████████████████████████████████| 15/15 [00:00<00:00, 628.07it/s]\n"
     ]
    },
    {
     "name": "stdout",
     "output_type": "stream",
     "text": [
      "Relative training error = 41.6543 %\n",
      "Relative test error = 39.3706 %\n",
      "Creating DAS_analysis object\n",
      "[-3.33904898e-02 -2.75592482e-04  6.75529046e-03  2.95434237e-02\n",
      " -3.40290729e-03  3.08737117e-02  1.01209520e-03 -4.80988323e-03\n",
      " -1.07648473e-02 -1.92345385e-03 -1.05707726e-02  1.32764589e-02\n",
      " -1.88479366e-04 -7.78112981e-03 -2.20797094e-02  1.91612666e-02\n",
      " -3.81322690e-02 -1.43958990e-02 -3.55501232e-03  5.87829705e-02\n",
      " -3.15450202e-02 -2.07752352e-02 -7.18415924e-03  3.33695040e-03\n",
      "  1.36140605e-02 -9.36144500e-04  2.43579140e-02 -3.12722198e-04\n",
      "  2.60047425e-02 -2.81825681e-03 -1.10942119e-02  5.04249430e-02\n",
      "  9.36378451e-03  1.44538531e-02 -1.95601641e-02  4.95149215e-02\n",
      "  2.97072515e-02 -3.72920018e-02 -5.25101326e-02  1.36140962e-02\n",
      " -3.78842837e-03 -2.36315610e-02  3.08886513e-03  9.94606874e-03\n",
      " -2.73260217e-02  5.52111629e-05 -5.57936320e-03 -2.81570151e-02\n",
      " -5.36236275e-02 -2.78460035e-02 -2.79262929e-02  1.98481853e-02\n",
      " -2.02375243e-02  7.09350627e-03 -1.80310190e-02  1.10893024e-02\n",
      "  1.38355662e-02  1.55181759e-02  7.77773490e-03  4.02404911e-02\n",
      " -3.26803716e-02 -3.26558853e-02  2.74570357e-02 -2.43002378e-02\n",
      "  1.28519502e-02 -7.79996707e-03  4.21526790e-03 -1.96827100e-02\n",
      " -3.06098804e-02  1.13523954e-02 -3.18856661e-02  3.28485979e-03\n",
      " -2.61098246e-02  5.02761503e-02  1.95430325e-02 -2.11639217e-02\n",
      "  1.11936941e-02  1.22667059e-02  2.38241491e-02 -1.50901499e-03\n",
      "  2.05020611e-02 -5.86918590e-03  9.52424640e-03  6.46418346e-04\n",
      " -1.96385022e-02 -1.28099016e-02 -5.11204137e-02  1.53145645e-02\n",
      " -4.96562421e-03 -1.24992020e-02 -3.22209028e-02 -1.05753944e-02\n",
      " -6.66280114e-06 -9.16344139e-03 -9.91075205e-04  4.45905269e-02\n",
      " -3.06444710e-02 -8.35294877e-03  1.45706277e-03 -2.13765282e-03\n",
      "  3.50208138e-03 -1.54497343e-02 -5.20253328e-02]\n",
      "Parameters ordered from most to least important:\n",
      "[[ 90  65  57  36 100  42  91  66  19  25  80  26  98   0  96  20  89  71\n",
      "   55  18  15  60  77  30  82  38  45  35  53  34  97  83  10  92  16  23\n",
      "   88  14  74  67  17  50  78  93  44  62  59  31  56  48  29  64  28  32\n",
      "   33  13  70   8   1   2   6  52   3  61  75  81  79  69  85  47  12  84\n",
      "   27  41  22  73   9  37  54  11  72  95  39  63   7  51 101  87  58 102\n",
      "   40  49  21  76  68  86  99  43   4   5  46  94  24]]\n",
      "Creating DAS_Surrogate Object\n",
      "Creating Feature Engineering object\n",
      "Using  450/450 samples to train the ML model\n",
      "===============================\n",
      "Neural net parameters\n",
      "===============================\n",
      "Number of layers = 3\n",
      "Number of features = 103\n",
      "Loss function = squared\n",
      "Number of neurons per hidden layer = 10\n",
      "Number of output neurons = 1\n",
      "Activation = ['linear', 'linear', 'tanh', 'linear']\n",
      "This neural network has 134 weights.\n",
      "===============================\n",
      "===============================\n",
      "Training Deep Active Subspace Neural Network...\n"
     ]
    },
    {
     "name": "stderr",
     "output_type": "stream",
     "text": [
      "100%|██████████████████████████████████████████████████████████████████████████████████████████████████████████████████████████████████████████████████████████████████████| 15/15 [00:00<00:00, 608.02it/s]\n"
     ]
    },
    {
     "name": "stdout",
     "output_type": "stream",
     "text": [
      " loss = 1.8908\n",
      "Relative training error = 45.4993 %\n",
      "Relative test error = 48.4266 %\n"
     ]
    },
    {
     "name": "stderr",
     "output_type": "stream",
     "text": [
      "100%|██████████████████████████████████████████████████████████████████████████████████████████████████████████████████████████████████████████████████████████████████████| 15/15 [00:00<00:00, 607.53it/s]"
     ]
    },
    {
     "name": "stdout",
     "output_type": "stream",
     "text": [
      " loss = 0.5205\n"
     ]
    },
    {
     "name": "stderr",
     "output_type": "stream",
     "text": [
      "\n"
     ]
    },
    {
     "name": "stdout",
     "output_type": "stream",
     "text": [
      "Relative training error = 41.2238 %\n",
      "Relative test error = 36.4567 %\n"
     ]
    },
    {
     "name": "stderr",
     "output_type": "stream",
     "text": [
      "100%|██████████████████████████████████████████████████████████████████████████████████████████████████████████████████████████████████████████████████████████████████████| 15/15 [00:00<00:00, 595.22it/s]"
     ]
    },
    {
     "name": "stdout",
     "output_type": "stream",
     "text": [
      " loss = 0.7726\n"
     ]
    },
    {
     "name": "stderr",
     "output_type": "stream",
     "text": [
      "\n"
     ]
    },
    {
     "name": "stdout",
     "output_type": "stream",
     "text": [
      "Relative training error = 39.5450 %\n",
      "Relative test error = 35.1218 %\n"
     ]
    },
    {
     "name": "stderr",
     "output_type": "stream",
     "text": [
      "100%|██████████████████████████████████████████████████████████████████████████████████████████████████████████████████████████████████████████████████████████████████████| 15/15 [00:00<00:00, 749.63it/s]"
     ]
    },
    {
     "name": "stdout",
     "output_type": "stream",
     "text": [
      " loss = 0.3412\n"
     ]
    },
    {
     "name": "stderr",
     "output_type": "stream",
     "text": [
      "\n"
     ]
    },
    {
     "name": "stdout",
     "output_type": "stream",
     "text": [
      "Relative training error = 37.3711 %\n",
      "Relative test error = 34.6665 %\n"
     ]
    },
    {
     "name": "stderr",
     "output_type": "stream",
     "text": [
      "100%|██████████████████████████████████████████████████████████████████████████████████████████████████████████████████████████████████████████████████████████████████████| 15/15 [00:00<00:00, 733.48it/s]\n"
     ]
    },
    {
     "name": "stdout",
     "output_type": "stream",
     "text": [
      " loss = 1.1888\n",
      "Relative training error = 35.1957 %\n",
      "Relative test error = 33.9542 %\n"
     ]
    },
    {
     "name": "stderr",
     "output_type": "stream",
     "text": [
      "100%|██████████████████████████████████████████████████████████████████████████████████████████████████████████████████████████████████████████████████████████████████████| 15/15 [00:00<00:00, 695.06it/s]\n"
     ]
    },
    {
     "name": "stdout",
     "output_type": "stream",
     "text": [
      " loss = 0.3989\n",
      "Relative training error = 33.2493 %\n",
      "Relative test error = 32.6458 %\n"
     ]
    },
    {
     "name": "stderr",
     "output_type": "stream",
     "text": [
      "100%|██████████████████████████████████████████████████████████████████████████████████████████████████████████████████████████████████████████████████████████████████████| 15/15 [00:00<00:00, 699.69it/s]"
     ]
    },
    {
     "name": "stdout",
     "output_type": "stream",
     "text": [
      " loss = 0.7473\n"
     ]
    },
    {
     "name": "stderr",
     "output_type": "stream",
     "text": [
      "\n"
     ]
    },
    {
     "name": "stdout",
     "output_type": "stream",
     "text": [
      "Relative training error = 31.3988 %\n",
      "Relative test error = 29.8886 %\n"
     ]
    },
    {
     "name": "stderr",
     "output_type": "stream",
     "text": [
      "100%|██████████████████████████████████████████████████████████████████████████████████████████████████████████████████████████████████████████████████████████████████████| 15/15 [00:00<00:00, 708.44it/s]\n"
     ]
    },
    {
     "name": "stdout",
     "output_type": "stream",
     "text": [
      " loss = 0.2328\n",
      "Relative training error = 29.7551 %\n",
      "Relative test error = 28.1046 %\n"
     ]
    },
    {
     "name": "stderr",
     "output_type": "stream",
     "text": [
      "  0%|                                                                                                                                                                                | 0/15 [00:00<?, ?it/s]"
     ]
    },
    {
     "name": "stdout",
     "output_type": "stream",
     "text": [
      " loss = 0.6060\n"
     ]
    },
    {
     "name": "stderr",
     "output_type": "stream",
     "text": [
      "100%|██████████████████████████████████████████████████████████████████████████████████████████████████████████████████████████████████████████████████████████████████████| 15/15 [00:00<00:00, 574.14it/s]\n"
     ]
    },
    {
     "name": "stdout",
     "output_type": "stream",
     "text": [
      "Relative training error = 28.2029 %\n",
      "Relative test error = 26.4409 %\n"
     ]
    },
    {
     "name": "stderr",
     "output_type": "stream",
     "text": [
      "100%|██████████████████████████████████████████████████████████████████████████████████████████████████████████████████████████████████████████████████████████████████████| 15/15 [00:00<00:00, 715.67it/s]"
     ]
    },
    {
     "name": "stdout",
     "output_type": "stream",
     "text": [
      " loss = 0.5298\n",
      "Relative training error = 26.6308 %\n"
     ]
    },
    {
     "name": "stderr",
     "output_type": "stream",
     "text": [
      "\n"
     ]
    },
    {
     "name": "stdout",
     "output_type": "stream",
     "text": [
      "Relative test error = 25.2613 %\n"
     ]
    },
    {
     "name": "stderr",
     "output_type": "stream",
     "text": [
      "100%|██████████████████████████████████████████████████████████████████████████████████████████████████████████████████████████████████████████████████████████████████████| 15/15 [00:00<00:00, 739.84it/s]\n"
     ]
    },
    {
     "name": "stdout",
     "output_type": "stream",
     "text": [
      " loss = 0.6743\n",
      "Relative training error = 25.2028 %\n",
      "Relative test error = 25.0212 %\n"
     ]
    },
    {
     "name": "stderr",
     "output_type": "stream",
     "text": [
      "  0%|                                                                                                                                                                                | 0/15 [00:00<?, ?it/s]"
     ]
    },
    {
     "name": "stdout",
     "output_type": "stream",
     "text": [
      " loss = 0.7799\n"
     ]
    },
    {
     "name": "stderr",
     "output_type": "stream",
     "text": [
      "100%|██████████████████████████████████████████████████████████████████████████████████████████████████████████████████████████████████████████████████████████████████████| 15/15 [00:00<00:00, 656.89it/s]\n"
     ]
    },
    {
     "name": "stdout",
     "output_type": "stream",
     "text": [
      "Relative training error = 24.0360 %\n",
      "Relative test error = 24.6016 %\n"
     ]
    },
    {
     "name": "stderr",
     "output_type": "stream",
     "text": [
      "  0%|                                                                                                                                                                                | 0/15 [00:00<?, ?it/s]"
     ]
    },
    {
     "name": "stdout",
     "output_type": "stream",
     "text": [
      " loss = 0.3866\n"
     ]
    },
    {
     "name": "stderr",
     "output_type": "stream",
     "text": [
      "100%|██████████████████████████████████████████████████████████████████████████████████████████████████████████████████████████████████████████████████████████████████████| 15/15 [00:00<00:00, 734.49it/s]\n"
     ]
    },
    {
     "name": "stdout",
     "output_type": "stream",
     "text": [
      "Relative training error = 23.0538 %\n",
      "Relative test error = 22.6420 %\n"
     ]
    },
    {
     "name": "stderr",
     "output_type": "stream",
     "text": [
      "  0%|                                                                                                                                                                                | 0/15 [00:00<?, ?it/s]"
     ]
    },
    {
     "name": "stdout",
     "output_type": "stream",
     "text": [
      " loss = 0.4001\n"
     ]
    },
    {
     "name": "stderr",
     "output_type": "stream",
     "text": [
      "100%|██████████████████████████████████████████████████████████████████████████████████████████████████████████████████████████████████████████████████████████████████████| 15/15 [00:00<00:00, 548.23it/s]\n"
     ]
    },
    {
     "name": "stdout",
     "output_type": "stream",
     "text": [
      "Relative training error = 22.1444 %\n",
      "Relative test error = 21.7101 %\n"
     ]
    },
    {
     "name": "stderr",
     "output_type": "stream",
     "text": [
      "100%|██████████████████████████████████████████████████████████████████████████████████████████████████████████████████████████████████████████████████████████████████████| 15/15 [00:00<00:00, 746.41it/s]\n"
     ]
    },
    {
     "name": "stdout",
     "output_type": "stream",
     "text": [
      " loss = 0.1221\n",
      "Relative training error = 21.3528 %\n",
      "Relative test error = 20.5648 %\n"
     ]
    },
    {
     "name": "stderr",
     "output_type": "stream",
     "text": [
      "100%|██████████████████████████████████████████████████████████████████████████████████████████████████████████████████████████████████████████████████████████████████████| 15/15 [00:00<00:00, 743.98it/s]"
     ]
    },
    {
     "name": "stdout",
     "output_type": "stream",
     "text": [
      " loss = 0.6164\n"
     ]
    },
    {
     "name": "stderr",
     "output_type": "stream",
     "text": [
      "\n"
     ]
    },
    {
     "name": "stdout",
     "output_type": "stream",
     "text": [
      "Relative training error = 20.6648 %\n",
      "Relative test error = 20.3647 %\n"
     ]
    },
    {
     "name": "stderr",
     "output_type": "stream",
     "text": [
      "100%|██████████████████████████████████████████████████████████████████████████████████████████████████████████████████████████████████████████████████████████████████████| 15/15 [00:00<00:00, 621.83it/s]\n"
     ]
    },
    {
     "name": "stdout",
     "output_type": "stream",
     "text": [
      " loss = 0.0998\n",
      "Relative training error = 20.2205 %\n",
      "Relative test error = 19.3306 %\n"
     ]
    },
    {
     "name": "stderr",
     "output_type": "stream",
     "text": [
      "100%|██████████████████████████████████████████████████████████████████████████████████████████████████████████████████████████████████████████████████████████████████████| 15/15 [00:00<00:00, 558.24it/s]\n"
     ]
    },
    {
     "name": "stdout",
     "output_type": "stream",
     "text": [
      " loss = 0.0960\n",
      "Relative training error = 19.6130 %\n",
      "Relative test error = 18.5310 %\n"
     ]
    },
    {
     "name": "stderr",
     "output_type": "stream",
     "text": [
      "100%|██████████████████████████████████████████████████████████████████████████████████████████████████████████████████████████████████████████████████████████████████████| 15/15 [00:00<00:00, 686.35it/s]"
     ]
    },
    {
     "name": "stdout",
     "output_type": "stream",
     "text": [
      " loss = 0.1711\n"
     ]
    },
    {
     "name": "stderr",
     "output_type": "stream",
     "text": [
      "\n"
     ]
    },
    {
     "name": "stdout",
     "output_type": "stream",
     "text": [
      "Relative training error = 19.0691 %\n",
      "Relative test error = 18.9476 %\n"
     ]
    },
    {
     "name": "stderr",
     "output_type": "stream",
     "text": [
      "100%|██████████████████████████████████████████████████████████████████████████████████████████████████████████████████████████████████████████████████████████████████████| 15/15 [00:00<00:00, 633.78it/s]"
     ]
    },
    {
     "name": "stdout",
     "output_type": "stream",
     "text": [
      " loss = 0.2101\n"
     ]
    },
    {
     "name": "stderr",
     "output_type": "stream",
     "text": [
      "\n"
     ]
    },
    {
     "name": "stdout",
     "output_type": "stream",
     "text": [
      "Relative training error = 18.6123 %\n",
      "Relative test error = 18.7701 %\n"
     ]
    },
    {
     "name": "stderr",
     "output_type": "stream",
     "text": [
      "100%|██████████████████████████████████████████████████████████████████████████████████████████████████████████████████████████████████████████████████████████████████████| 15/15 [00:00<00:00, 552.01it/s]"
     ]
    },
    {
     "name": "stdout",
     "output_type": "stream",
     "text": [
      " loss = 0.2915\n"
     ]
    },
    {
     "name": "stderr",
     "output_type": "stream",
     "text": [
      "\n"
     ]
    },
    {
     "name": "stdout",
     "output_type": "stream",
     "text": [
      "Relative training error = 18.1013 %\n",
      "Relative test error = 18.1575 %\n"
     ]
    },
    {
     "name": "stderr",
     "output_type": "stream",
     "text": [
      "100%|██████████████████████████████████████████████████████████████████████████████████████████████████████████████████████████████████████████████████████████████████████| 15/15 [00:00<00:00, 676.82it/s]"
     ]
    },
    {
     "name": "stdout",
     "output_type": "stream",
     "text": [
      " loss = 0.4106\n",
      "Relative training error = 17.6994 %\n"
     ]
    },
    {
     "name": "stderr",
     "output_type": "stream",
     "text": [
      "\n"
     ]
    },
    {
     "name": "stdout",
     "output_type": "stream",
     "text": [
      "Relative test error = 18.7143 %\n"
     ]
    },
    {
     "name": "stderr",
     "output_type": "stream",
     "text": [
      "100%|██████████████████████████████████████████████████████████████████████████████████████████████████████████████████████████████████████████████████████████████████████| 15/15 [00:00<00:00, 600.23it/s]"
     ]
    },
    {
     "name": "stdout",
     "output_type": "stream",
     "text": [
      " loss = 0.0878\n",
      "Relative training error = 17.2573 %\n",
      "Relative test error = 18.7121 %\n"
     ]
    },
    {
     "name": "stderr",
     "output_type": "stream",
     "text": [
      "\n",
      "100%|██████████████████████████████████████████████████████████████████████████████████████████████████████████████████████████████████████████████████████████████████████| 15/15 [00:00<00:00, 683.87it/s]"
     ]
    },
    {
     "name": "stdout",
     "output_type": "stream",
     "text": [
      " loss = 0.1644\n",
      "Relative training error = 16.8117 %\n",
      "Relative test error = 18.8705 %\n"
     ]
    },
    {
     "name": "stderr",
     "output_type": "stream",
     "text": [
      "\n",
      "100%|██████████████████████████████████████████████████████████████████████████████████████████████████████████████████████████████████████████████████████████████████████| 15/15 [00:00<00:00, 686.74it/s]"
     ]
    },
    {
     "name": "stdout",
     "output_type": "stream",
     "text": [
      " loss = 0.0718\n"
     ]
    },
    {
     "name": "stderr",
     "output_type": "stream",
     "text": [
      "\n"
     ]
    },
    {
     "name": "stdout",
     "output_type": "stream",
     "text": [
      "Relative training error = 16.3354 %\n",
      "Relative test error = 18.8142 %\n",
      "Creating DAS_analysis object\n",
      "[-3.33904898e-02 -2.75592482e-04  6.75529046e-03  2.95434237e-02\n",
      " -3.40290729e-03  3.08737117e-02  1.01209520e-03 -4.80988323e-03\n",
      " -1.07648473e-02 -1.92345385e-03 -1.05707726e-02  1.32764589e-02\n",
      " -1.88479366e-04 -7.78112981e-03 -2.20797094e-02  1.91612666e-02\n",
      " -3.81322690e-02 -1.43958990e-02 -3.55501232e-03  5.87829705e-02\n",
      " -3.15450202e-02 -2.07752352e-02 -7.18415924e-03  3.33695040e-03\n",
      "  1.36140605e-02 -9.36144500e-04  2.43579140e-02 -3.12722198e-04\n",
      "  2.60047425e-02 -2.81825681e-03 -1.10942119e-02  5.04249430e-02\n",
      "  9.36378451e-03  1.44538531e-02 -1.95601641e-02  4.95149215e-02\n",
      "  2.97072515e-02 -3.72920018e-02 -5.25101326e-02  1.36140962e-02\n",
      " -3.78842837e-03 -2.36315610e-02  3.08886513e-03  9.94606874e-03\n",
      " -2.73260217e-02  5.52111629e-05 -5.57936320e-03 -2.81570151e-02\n",
      " -5.36236275e-02 -2.78460035e-02 -2.79262929e-02  1.98481853e-02\n",
      " -2.02375243e-02  7.09350627e-03 -1.80310190e-02  1.10893024e-02\n",
      "  1.38355662e-02  1.55181759e-02  7.77773490e-03  4.02404911e-02\n",
      " -3.26803716e-02 -3.26558853e-02  2.74570357e-02 -2.43002378e-02\n",
      "  1.28519502e-02 -7.79996707e-03  4.21526790e-03 -1.96827100e-02\n",
      " -3.06098804e-02  1.13523954e-02 -3.18856661e-02  3.28485979e-03\n",
      " -2.61098246e-02  5.02761503e-02  1.95430325e-02 -2.11639217e-02\n",
      "  1.11936941e-02  1.22667059e-02  2.38241491e-02 -1.50901499e-03\n",
      "  2.05020611e-02 -5.86918590e-03  9.52424640e-03  6.46418346e-04\n",
      " -1.96385022e-02 -1.28099016e-02 -5.11204137e-02  1.53145645e-02\n",
      " -4.96562421e-03 -1.24992020e-02 -3.22209028e-02 -1.05753944e-02\n",
      " -6.66280114e-06 -9.16344139e-03 -9.91075205e-04  4.45905269e-02\n",
      " -3.06444710e-02 -8.35294877e-03  1.45706277e-03 -2.13765282e-03\n",
      "  3.50208138e-03 -1.54497343e-02 -5.20253328e-02]\n",
      "Parameters ordered from most to least important:\n",
      "[[  7  11  25   9  33  15  19  23   5   3   1  29  27  13  41  55  59  30\n",
      "   45  34  58  43  17  21  44   6  53  83  46 101  68  79  65  72   2  10\n",
      "   14  37  36  98  82  61  48  42  54  80  47  31  93 100  24  69  86  94\n",
      "   64  76   8  32 102  95  35   4  78  89  40  16  49  96  22  97   0  57\n",
      "   50  91  88  51  67  73  28  62  12  75  60  87  85  56  74  99  38  70\n",
      "   71  81  92  84  26  77  66  90  63  20  52  39  18]]\n",
      "Creating DAS_Surrogate Object\n",
      "Creating Feature Engineering object\n",
      "Using  450/450 samples to train the ML model\n",
      "===============================\n",
      "Neural net parameters\n",
      "===============================\n",
      "Number of layers = 3\n",
      "Number of features = 103\n",
      "Loss function = squared\n",
      "Number of neurons per hidden layer = 10\n",
      "Number of output neurons = 1\n",
      "Activation = ['linear', 'linear', 'tanh', 'linear']\n",
      "This neural network has 134 weights.\n",
      "===============================\n",
      "===============================\n",
      "Training Deep Active Subspace Neural Network...\n"
     ]
    },
    {
     "name": "stderr",
     "output_type": "stream",
     "text": [
      "100%|██████████████████████████████████████████████████████████████████████████████████████████████████████████████████████████████████████████████████████████████████████| 15/15 [00:00<00:00, 676.86it/s]"
     ]
    },
    {
     "name": "stdout",
     "output_type": "stream",
     "text": [
      " loss = 3.8447\n"
     ]
    },
    {
     "name": "stderr",
     "output_type": "stream",
     "text": [
      "\n"
     ]
    },
    {
     "name": "stdout",
     "output_type": "stream",
     "text": [
      "Relative training error = 48.9021 %\n",
      "Relative test error = 39.4266 %\n"
     ]
    },
    {
     "name": "stderr",
     "output_type": "stream",
     "text": [
      "100%|██████████████████████████████████████████████████████████████████████████████████████████████████████████████████████████████████████████████████████████████████████| 15/15 [00:00<00:00, 672.51it/s]"
     ]
    },
    {
     "name": "stdout",
     "output_type": "stream",
     "text": [
      " loss = 0.6901\n"
     ]
    },
    {
     "name": "stderr",
     "output_type": "stream",
     "text": [
      "\n"
     ]
    },
    {
     "name": "stdout",
     "output_type": "stream",
     "text": [
      "Relative training error = 40.8071 %\n",
      "Relative test error = 33.7604 %\n"
     ]
    },
    {
     "name": "stderr",
     "output_type": "stream",
     "text": [
      "100%|██████████████████████████████████████████████████████████████████████████████████████████████████████████████████████████████████████████████████████████████████████| 15/15 [00:00<00:00, 620.16it/s]"
     ]
    },
    {
     "name": "stdout",
     "output_type": "stream",
     "text": [
      " loss = 0.9640\n"
     ]
    },
    {
     "name": "stderr",
     "output_type": "stream",
     "text": [
      "\n"
     ]
    },
    {
     "name": "stdout",
     "output_type": "stream",
     "text": [
      "Relative training error = 38.5452 %\n",
      "Relative test error = 33.9682 %\n"
     ]
    },
    {
     "name": "stderr",
     "output_type": "stream",
     "text": [
      "100%|██████████████████████████████████████████████████████████████████████████████████████████████████████████████████████████████████████████████████████████████████████| 15/15 [00:00<00:00, 614.80it/s]"
     ]
    },
    {
     "name": "stdout",
     "output_type": "stream",
     "text": [
      " loss = 1.1128\n"
     ]
    },
    {
     "name": "stderr",
     "output_type": "stream",
     "text": [
      "\n"
     ]
    },
    {
     "name": "stdout",
     "output_type": "stream",
     "text": [
      "Relative training error = 36.0593 %\n",
      "Relative test error = 31.5077 %\n"
     ]
    },
    {
     "name": "stderr",
     "output_type": "stream",
     "text": [
      "100%|██████████████████████████████████████████████████████████████████████████████████████████████████████████████████████████████████████████████████████████████████████| 15/15 [00:00<00:00, 554.77it/s]"
     ]
    },
    {
     "name": "stdout",
     "output_type": "stream",
     "text": [
      " loss = 0.4004\n"
     ]
    },
    {
     "name": "stderr",
     "output_type": "stream",
     "text": [
      "\n"
     ]
    },
    {
     "name": "stdout",
     "output_type": "stream",
     "text": [
      "Relative training error = 33.7797 %\n",
      "Relative test error = 29.7998 %\n"
     ]
    },
    {
     "name": "stderr",
     "output_type": "stream",
     "text": [
      "  0%|                                                                                                                                                                                | 0/15 [00:00<?, ?it/s]"
     ]
    },
    {
     "name": "stdout",
     "output_type": "stream",
     "text": [
      " loss = 0.9713\n"
     ]
    },
    {
     "name": "stderr",
     "output_type": "stream",
     "text": [
      "100%|██████████████████████████████████████████████████████████████████████████████████████████████████████████████████████████████████████████████████████████████████████| 15/15 [00:00<00:00, 409.89it/s]\n"
     ]
    },
    {
     "name": "stdout",
     "output_type": "stream",
     "text": [
      "Relative training error = 31.6796 %\n",
      "Relative test error = 27.9275 %\n"
     ]
    },
    {
     "name": "stderr",
     "output_type": "stream",
     "text": [
      "100%|██████████████████████████████████████████████████████████████████████████████████████████████████████████████████████████████████████████████████████████████████████| 15/15 [00:00<00:00, 697.87it/s]"
     ]
    },
    {
     "name": "stdout",
     "output_type": "stream",
     "text": [
      " loss = 0.3557\n"
     ]
    },
    {
     "name": "stderr",
     "output_type": "stream",
     "text": [
      "\n"
     ]
    },
    {
     "name": "stdout",
     "output_type": "stream",
     "text": [
      "Relative training error = 29.6920 %\n",
      "Relative test error = 25.9832 %\n"
     ]
    },
    {
     "name": "stderr",
     "output_type": "stream",
     "text": [
      "100%|██████████████████████████████████████████████████████████████████████████████████████████████████████████████████████████████████████████████████████████████████████| 15/15 [00:00<00:00, 783.43it/s]"
     ]
    },
    {
     "name": "stdout",
     "output_type": "stream",
     "text": [
      " loss = 0.1728\n"
     ]
    },
    {
     "name": "stderr",
     "output_type": "stream",
     "text": [
      "\n"
     ]
    },
    {
     "name": "stdout",
     "output_type": "stream",
     "text": [
      "Relative training error = 27.8170 %\n",
      "Relative test error = 24.3855 %\n"
     ]
    },
    {
     "name": "stderr",
     "output_type": "stream",
     "text": [
      "100%|██████████████████████████████████████████████████████████████████████████████████████████████████████████████████████████████████████████████████████████████████████| 15/15 [00:00<00:00, 528.07it/s]\n"
     ]
    },
    {
     "name": "stdout",
     "output_type": "stream",
     "text": [
      " loss = 0.2353\n",
      "Relative training error = 26.1795 %\n",
      "Relative test error = 22.9062 %\n"
     ]
    },
    {
     "name": "stderr",
     "output_type": "stream",
     "text": [
      "100%|██████████████████████████████████████████████████████████████████████████████████████████████████████████████████████████████████████████████████████████████████████| 15/15 [00:00<00:00, 494.04it/s]"
     ]
    },
    {
     "name": "stdout",
     "output_type": "stream",
     "text": [
      " loss = 0.5615\n"
     ]
    },
    {
     "name": "stderr",
     "output_type": "stream",
     "text": [
      "\n"
     ]
    },
    {
     "name": "stdout",
     "output_type": "stream",
     "text": [
      "Relative training error = 24.6971 %\n",
      "Relative test error = 21.2148 %\n"
     ]
    },
    {
     "name": "stderr",
     "output_type": "stream",
     "text": [
      "100%|██████████████████████████████████████████████████████████████████████████████████████████████████████████████████████████████████████████████████████████████████████| 15/15 [00:00<00:00, 623.32it/s]"
     ]
    },
    {
     "name": "stdout",
     "output_type": "stream",
     "text": [
      " loss = 0.1388\n"
     ]
    },
    {
     "name": "stderr",
     "output_type": "stream",
     "text": [
      "\n"
     ]
    },
    {
     "name": "stdout",
     "output_type": "stream",
     "text": [
      "Relative training error = 23.6794 %\n",
      "Relative test error = 19.7237 %\n"
     ]
    },
    {
     "name": "stderr",
     "output_type": "stream",
     "text": [
      "100%|██████████████████████████████████████████████████████████████████████████████████████████████████████████████████████████████████████████████████████████████████████| 15/15 [00:00<00:00, 645.34it/s]"
     ]
    },
    {
     "name": "stdout",
     "output_type": "stream",
     "text": [
      " loss = 0.2319\n"
     ]
    },
    {
     "name": "stderr",
     "output_type": "stream",
     "text": [
      "\n"
     ]
    },
    {
     "name": "stdout",
     "output_type": "stream",
     "text": [
      "Relative training error = 22.4659 %\n",
      "Relative test error = 19.6414 %\n"
     ]
    },
    {
     "name": "stderr",
     "output_type": "stream",
     "text": [
      "100%|██████████████████████████████████████████████████████████████████████████████████████████████████████████████████████████████████████████████████████████████████████| 15/15 [00:00<00:00, 664.55it/s]"
     ]
    },
    {
     "name": "stdout",
     "output_type": "stream",
     "text": [
      " loss = 0.5715\n"
     ]
    },
    {
     "name": "stderr",
     "output_type": "stream",
     "text": [
      "\n"
     ]
    },
    {
     "name": "stdout",
     "output_type": "stream",
     "text": [
      "Relative training error = 21.5210 %\n",
      "Relative test error = 18.6555 %\n"
     ]
    },
    {
     "name": "stderr",
     "output_type": "stream",
     "text": [
      "100%|██████████████████████████████████████████████████████████████████████████████████████████████████████████████████████████████████████████████████████████████████████| 15/15 [00:00<00:00, 765.82it/s]\n"
     ]
    },
    {
     "name": "stdout",
     "output_type": "stream",
     "text": [
      " loss = 0.4353\n",
      "Relative training error = 20.6389 %\n",
      "Relative test error = 18.9175 %\n"
     ]
    },
    {
     "name": "stderr",
     "output_type": "stream",
     "text": [
      "  0%|                                                                                                                                                                                | 0/15 [00:00<?, ?it/s]"
     ]
    },
    {
     "name": "stdout",
     "output_type": "stream",
     "text": [
      " loss = 0.1259\n"
     ]
    },
    {
     "name": "stderr",
     "output_type": "stream",
     "text": [
      "100%|██████████████████████████████████████████████████████████████████████████████████████████████████████████████████████████████████████████████████████████████████████| 15/15 [00:00<00:00, 706.65it/s]\n"
     ]
    },
    {
     "name": "stdout",
     "output_type": "stream",
     "text": [
      "Relative training error = 19.9429 %\n",
      "Relative test error = 18.8288 %\n"
     ]
    },
    {
     "name": "stderr",
     "output_type": "stream",
     "text": [
      "  0%|                                                                                                                                                                                | 0/15 [00:00<?, ?it/s]"
     ]
    },
    {
     "name": "stdout",
     "output_type": "stream",
     "text": [
      " loss = 0.3392\n"
     ]
    },
    {
     "name": "stderr",
     "output_type": "stream",
     "text": [
      "100%|██████████████████████████████████████████████████████████████████████████████████████████████████████████████████████████████████████████████████████████████████████| 15/15 [00:00<00:00, 740.10it/s]\n"
     ]
    },
    {
     "name": "stdout",
     "output_type": "stream",
     "text": [
      "Relative training error = 19.5065 %\n",
      "Relative test error = 17.9643 %\n"
     ]
    },
    {
     "name": "stderr",
     "output_type": "stream",
     "text": [
      "  0%|                                                                                                                                                                                | 0/15 [00:00<?, ?it/s]"
     ]
    },
    {
     "name": "stdout",
     "output_type": "stream",
     "text": [
      " loss = 0.0732\n"
     ]
    },
    {
     "name": "stderr",
     "output_type": "stream",
     "text": [
      "100%|██████████████████████████████████████████████████████████████████████████████████████████████████████████████████████████████████████████████████████████████████████| 15/15 [00:00<00:00, 717.46it/s]\n"
     ]
    },
    {
     "name": "stdout",
     "output_type": "stream",
     "text": [
      "Relative training error = 19.0766 %\n",
      "Relative test error = 17.5231 %\n"
     ]
    },
    {
     "name": "stderr",
     "output_type": "stream",
     "text": [
      "100%|██████████████████████████████████████████████████████████████████████████████████████████████████████████████████████████████████████████████████████████████████████| 15/15 [00:00<00:00, 619.96it/s]\n"
     ]
    },
    {
     "name": "stdout",
     "output_type": "stream",
     "text": [
      " loss = 0.2825\n",
      "Relative training error = 18.7285 %\n",
      "Relative test error = 17.3820 %\n"
     ]
    },
    {
     "name": "stderr",
     "output_type": "stream",
     "text": [
      "100%|██████████████████████████████████████████████████████████████████████████████████████████████████████████████████████████████████████████████████████████████████████| 15/15 [00:00<00:00, 722.80it/s]"
     ]
    },
    {
     "name": "stdout",
     "output_type": "stream",
     "text": [
      " loss = 0.0755\n"
     ]
    },
    {
     "name": "stderr",
     "output_type": "stream",
     "text": [
      "\n"
     ]
    },
    {
     "name": "stdout",
     "output_type": "stream",
     "text": [
      "Relative training error = 18.2362 %\n",
      "Relative test error = 17.4937 %\n"
     ]
    },
    {
     "name": "stderr",
     "output_type": "stream",
     "text": [
      "100%|██████████████████████████████████████████████████████████████████████████████████████████████████████████████████████████████████████████████████████████████████████| 15/15 [00:00<00:00, 622.95it/s]"
     ]
    },
    {
     "name": "stdout",
     "output_type": "stream",
     "text": [
      " loss = 0.1685\n",
      "Relative training error = 17.9105 %\n"
     ]
    },
    {
     "name": "stderr",
     "output_type": "stream",
     "text": [
      "\n"
     ]
    },
    {
     "name": "stdout",
     "output_type": "stream",
     "text": [
      "Relative test error = 17.5850 %\n"
     ]
    },
    {
     "name": "stderr",
     "output_type": "stream",
     "text": [
      "100%|██████████████████████████████████████████████████████████████████████████████████████████████████████████████████████████████████████████████████████████████████████| 15/15 [00:00<00:00, 676.61it/s]\n"
     ]
    },
    {
     "name": "stdout",
     "output_type": "stream",
     "text": [
      " loss = 0.2494\n",
      "Relative training error = 17.6369 %\n",
      "Relative test error = 17.4793 %\n"
     ]
    },
    {
     "name": "stderr",
     "output_type": "stream",
     "text": [
      "  0%|                                                                                                                                                                                | 0/15 [00:00<?, ?it/s]"
     ]
    },
    {
     "name": "stdout",
     "output_type": "stream",
     "text": [
      " loss = 0.0769\n"
     ]
    },
    {
     "name": "stderr",
     "output_type": "stream",
     "text": [
      "100%|██████████████████████████████████████████████████████████████████████████████████████████████████████████████████████████████████████████████████████████████████████| 15/15 [00:00<00:00, 686.02it/s]\n"
     ]
    },
    {
     "name": "stdout",
     "output_type": "stream",
     "text": [
      "Relative training error = 17.3390 %\n",
      "Relative test error = 17.0376 %\n"
     ]
    },
    {
     "name": "stderr",
     "output_type": "stream",
     "text": [
      "  0%|                                                                                                                                                                                | 0/15 [00:00<?, ?it/s]"
     ]
    },
    {
     "name": "stdout",
     "output_type": "stream",
     "text": [
      " loss = 0.2247\n"
     ]
    },
    {
     "name": "stderr",
     "output_type": "stream",
     "text": [
      "100%|██████████████████████████████████████████████████████████████████████████████████████████████████████████████████████████████████████████████████████████████████████| 15/15 [00:00<00:00, 721.92it/s]\n"
     ]
    },
    {
     "name": "stdout",
     "output_type": "stream",
     "text": [
      "Relative training error = 17.0532 %\n",
      "Relative test error = 17.2021 %\n"
     ]
    },
    {
     "name": "stderr",
     "output_type": "stream",
     "text": [
      "  0%|                                                                                                                                                                                | 0/15 [00:00<?, ?it/s]"
     ]
    },
    {
     "name": "stdout",
     "output_type": "stream",
     "text": [
      " loss = 0.0949\n"
     ]
    },
    {
     "name": "stderr",
     "output_type": "stream",
     "text": [
      "100%|██████████████████████████████████████████████████████████████████████████████████████████████████████████████████████████████████████████████████████████████████████| 15/15 [00:00<00:00, 688.54it/s]\n"
     ]
    },
    {
     "name": "stdout",
     "output_type": "stream",
     "text": [
      "Relative training error = 16.7825 %\n",
      "Relative test error = 16.9691 %\n"
     ]
    },
    {
     "name": "stderr",
     "output_type": "stream",
     "text": [
      "  0%|                                                                                                                                                                                | 0/15 [00:00<?, ?it/s]"
     ]
    },
    {
     "name": "stdout",
     "output_type": "stream",
     "text": [
      " loss = 0.1828\n"
     ]
    },
    {
     "name": "stderr",
     "output_type": "stream",
     "text": [
      "100%|██████████████████████████████████████████████████████████████████████████████████████████████████████████████████████████████████████████████████████████████████████| 15/15 [00:00<00:00, 736.33it/s]\n"
     ]
    },
    {
     "name": "stdout",
     "output_type": "stream",
     "text": [
      "Relative training error = 16.5861 %\n",
      "Relative test error = 16.5655 %\n"
     ]
    },
    {
     "name": "stderr",
     "output_type": "stream",
     "text": [
      "  0%|                                                                                                                                                                                | 0/15 [00:00<?, ?it/s]"
     ]
    },
    {
     "name": "stdout",
     "output_type": "stream",
     "text": [
      " loss = 0.1723\n"
     ]
    },
    {
     "name": "stderr",
     "output_type": "stream",
     "text": [
      "100%|██████████████████████████████████████████████████████████████████████████████████████████████████████████████████████████████████████████████████████████████████████| 15/15 [00:00<00:00, 784.06it/s]\n"
     ]
    },
    {
     "name": "stdout",
     "output_type": "stream",
     "text": [
      "Relative training error = 16.2411 %\n",
      "Relative test error = 16.7127 %\n"
     ]
    },
    {
     "name": "stderr",
     "output_type": "stream",
     "text": [
      "  0%|                                                                                                                                                                                | 0/15 [00:00<?, ?it/s]"
     ]
    },
    {
     "name": "stdout",
     "output_type": "stream",
     "text": [
      " loss = 0.0381\n"
     ]
    },
    {
     "name": "stderr",
     "output_type": "stream",
     "text": [
      "100%|██████████████████████████████████████████████████████████████████████████████████████████████████████████████████████████████████████████████████████████████████████| 15/15 [00:00<00:00, 668.51it/s]\n"
     ]
    },
    {
     "name": "stdout",
     "output_type": "stream",
     "text": [
      "Relative training error = 15.9882 %\n",
      "Relative test error = 16.9532 %\n"
     ]
    },
    {
     "name": "stderr",
     "output_type": "stream",
     "text": [
      "  0%|                                                                                                                                                                                | 0/15 [00:00<?, ?it/s]"
     ]
    },
    {
     "name": "stdout",
     "output_type": "stream",
     "text": [
      " loss = 0.0416\n"
     ]
    },
    {
     "name": "stderr",
     "output_type": "stream",
     "text": [
      "100%|██████████████████████████████████████████████████████████████████████████████████████████████████████████████████████████████████████████████████████████████████████| 15/15 [00:00<00:00, 742.29it/s]\n"
     ]
    },
    {
     "name": "stdout",
     "output_type": "stream",
     "text": [
      "Relative training error = 15.6894 %\n",
      "Relative test error = 16.6443 %\n"
     ]
    },
    {
     "name": "stderr",
     "output_type": "stream",
     "text": [
      "  0%|                                                                                                                                                                                | 0/15 [00:00<?, ?it/s]"
     ]
    },
    {
     "name": "stdout",
     "output_type": "stream",
     "text": [
      " loss = 0.0497\n"
     ]
    },
    {
     "name": "stderr",
     "output_type": "stream",
     "text": [
      "100%|██████████████████████████████████████████████████████████████████████████████████████████████████████████████████████████████████████████████████████████████████████| 15/15 [00:00<00:00, 698.34it/s]\n"
     ]
    },
    {
     "name": "stdout",
     "output_type": "stream",
     "text": [
      "Relative training error = 15.4770 %\n",
      "Relative test error = 16.4006 %\n"
     ]
    },
    {
     "name": "stderr",
     "output_type": "stream",
     "text": [
      "                                                                                                                                                                                                            \r"
     ]
    },
    {
     "name": "stdout",
     "output_type": "stream",
     "text": [
      " loss = 0.0448\n"
     ]
    },
    {
     "name": "stderr",
     "output_type": "stream",
     "text": [
      "100%|██████████████████████████████████████████████████████████████████████████████████████████████████████████████████████████████████████████████████████████████████████| 15/15 [00:00<00:00, 691.87it/s]\n"
     ]
    },
    {
     "name": "stdout",
     "output_type": "stream",
     "text": [
      "Relative training error = 15.2556 %\n",
      "Relative test error = 15.6488 %\n"
     ]
    },
    {
     "name": "stderr",
     "output_type": "stream",
     "text": [
      "  0%|                                                                                                                                                                                | 0/15 [00:00<?, ?it/s]"
     ]
    },
    {
     "name": "stdout",
     "output_type": "stream",
     "text": [
      " loss = 0.0407\n"
     ]
    },
    {
     "name": "stderr",
     "output_type": "stream",
     "text": [
      "100%|██████████████████████████████████████████████████████████████████████████████████████████████████████████████████████████████████████████████████████████████████████| 15/15 [00:00<00:00, 787.86it/s]\n"
     ]
    },
    {
     "name": "stdout",
     "output_type": "stream",
     "text": [
      "Relative training error = 15.0843 %\n",
      "Relative test error = 14.8488 %\n"
     ]
    },
    {
     "name": "stderr",
     "output_type": "stream",
     "text": [
      "  0%|                                                                                                                                                                                | 0/15 [00:00<?, ?it/s]"
     ]
    },
    {
     "name": "stdout",
     "output_type": "stream",
     "text": [
      " loss = 0.1322\n"
     ]
    },
    {
     "name": "stderr",
     "output_type": "stream",
     "text": [
      "100%|██████████████████████████████████████████████████████████████████████████████████████████████████████████████████████████████████████████████████████████████████████| 15/15 [00:00<00:00, 805.85it/s]\n"
     ]
    },
    {
     "name": "stdout",
     "output_type": "stream",
     "text": [
      "Relative training error = 14.8346 %\n",
      "Relative test error = 14.9739 %\n"
     ]
    },
    {
     "name": "stderr",
     "output_type": "stream",
     "text": [
      "  0%|                                                                                                                                                                                | 0/15 [00:00<?, ?it/s]"
     ]
    },
    {
     "name": "stdout",
     "output_type": "stream",
     "text": [
      " loss = 0.0856\n"
     ]
    },
    {
     "name": "stderr",
     "output_type": "stream",
     "text": [
      "100%|██████████████████████████████████████████████████████████████████████████████████████████████████████████████████████████████████████████████████████████████████████| 15/15 [00:00<00:00, 606.07it/s]\n"
     ]
    },
    {
     "name": "stdout",
     "output_type": "stream",
     "text": [
      "Relative training error = 14.5923 %\n",
      "Relative test error = 15.6217 %\n"
     ]
    },
    {
     "name": "stderr",
     "output_type": "stream",
     "text": [
      "100%|██████████████████████████████████████████████████████████████████████████████████████████████████████████████████████████████████████████████████████████████████████| 15/15 [00:00<00:00, 498.25it/s]"
     ]
    },
    {
     "name": "stdout",
     "output_type": "stream",
     "text": [
      " loss = 0.0992\n"
     ]
    },
    {
     "name": "stderr",
     "output_type": "stream",
     "text": [
      "\n"
     ]
    },
    {
     "name": "stdout",
     "output_type": "stream",
     "text": [
      "Relative training error = 14.3719 %\n",
      "Relative test error = 16.0009 %\n"
     ]
    },
    {
     "name": "stderr",
     "output_type": "stream",
     "text": [
      "  0%|                                                                                                                                                                                | 0/15 [00:00<?, ?it/s]"
     ]
    },
    {
     "name": "stdout",
     "output_type": "stream",
     "text": [
      " loss = 0.0329\n"
     ]
    },
    {
     "name": "stderr",
     "output_type": "stream",
     "text": [
      "100%|██████████████████████████████████████████████████████████████████████████████████████████████████████████████████████████████████████████████████████████████████████| 15/15 [00:00<00:00, 447.14it/s]\n"
     ]
    },
    {
     "name": "stdout",
     "output_type": "stream",
     "text": [
      "Relative training error = 14.1872 %\n",
      "Relative test error = 15.3105 %\n",
      "Creating DAS_analysis object\n",
      "[-3.33904898e-02 -2.75592482e-04  6.75529046e-03  2.95434237e-02\n",
      " -3.40290729e-03  3.08737117e-02  1.01209520e-03 -4.80988323e-03\n",
      " -1.07648473e-02 -1.92345385e-03 -1.05707726e-02  1.32764589e-02\n",
      " -1.88479366e-04 -7.78112981e-03 -2.20797094e-02  1.91612666e-02\n",
      " -3.81322690e-02 -1.43958990e-02 -3.55501232e-03  5.87829705e-02\n",
      " -3.15450202e-02 -2.07752352e-02 -7.18415924e-03  3.33695040e-03\n",
      "  1.36140605e-02 -9.36144500e-04  2.43579140e-02 -3.12722198e-04\n",
      "  2.60047425e-02 -2.81825681e-03 -1.10942119e-02  5.04249430e-02\n",
      "  9.36378451e-03  1.44538531e-02 -1.95601641e-02  4.95149215e-02\n",
      "  2.97072515e-02 -3.72920018e-02 -5.25101326e-02  1.36140962e-02\n",
      " -3.78842837e-03 -2.36315610e-02  3.08886513e-03  9.94606874e-03\n",
      " -2.73260217e-02  5.52111629e-05 -5.57936320e-03 -2.81570151e-02\n",
      " -5.36236275e-02 -2.78460035e-02 -2.79262929e-02  1.98481853e-02\n",
      " -2.02375243e-02  7.09350627e-03 -1.80310190e-02  1.10893024e-02\n",
      "  1.38355662e-02  1.55181759e-02  7.77773490e-03  4.02404911e-02\n",
      " -3.26803716e-02 -3.26558853e-02  2.74570357e-02 -2.43002378e-02\n",
      "  1.28519502e-02 -7.79996707e-03  4.21526790e-03 -1.96827100e-02\n",
      " -3.06098804e-02  1.13523954e-02 -3.18856661e-02  3.28485979e-03\n",
      " -2.61098246e-02  5.02761503e-02  1.95430325e-02 -2.11639217e-02\n",
      "  1.11936941e-02  1.22667059e-02  2.38241491e-02 -1.50901499e-03\n",
      "  2.05020611e-02 -5.86918590e-03  9.52424640e-03  6.46418346e-04\n",
      " -1.96385022e-02 -1.28099016e-02 -5.11204137e-02  1.53145645e-02\n",
      " -4.96562421e-03 -1.24992020e-02 -3.22209028e-02 -1.05753944e-02\n",
      " -6.66280114e-06 -9.16344139e-03 -9.91075205e-04  4.45905269e-02\n",
      " -3.06444710e-02 -8.35294877e-03  1.45706277e-03 -2.13765282e-03\n",
      "  3.50208138e-03 -1.54497343e-02 -5.20253328e-02]\n",
      "Parameters ordered from most to least important:\n",
      "[[  7  11  25   9  33  15  19   3  29  23   5   1  27  41  59  55  17  21\n",
      "    6  30  34  13  53  58  80  10  24  83  46  93  48  28  61  68  16  60\n",
      "   97  37  44  35  77  65 101   2  14   8  62 102  47  72  49  40  32  51\n",
      "   56  76  84  99  54  36  78  20  52  89  31  67  43  38  90  87  86  73\n",
      "  100  81  98  42  50  91  79  57  85  92  74  82  94  45  63   4  18   0\n",
      "   22  70  69  75  66  64  26  88  95  39  71  12  96]]\n",
      "Creating DAS_Surrogate Object\n",
      "Creating Feature Engineering object\n",
      "Using  450/450 samples to train the ML model\n",
      "===============================\n",
      "Neural net parameters\n",
      "===============================\n",
      "Number of layers = 3\n",
      "Number of features = 103\n",
      "Loss function = squared\n",
      "Number of neurons per hidden layer = 10\n",
      "Number of output neurons = 1\n",
      "Activation = ['linear', 'linear', 'tanh', 'linear']\n",
      "This neural network has 134 weights.\n",
      "===============================\n",
      "===============================\n",
      "Training Deep Active Subspace Neural Network...\n"
     ]
    },
    {
     "name": "stderr",
     "output_type": "stream",
     "text": [
      "100%|██████████████████████████████████████████████████████████████████████████████████████████████████████████████████████████████████████████████████████████████████████| 15/15 [00:00<00:00, 454.82it/s]"
     ]
    },
    {
     "name": "stdout",
     "output_type": "stream",
     "text": [
      " loss = 1.2177\n",
      "Relative training error = 44.3569 %\n",
      "Relative test error = 34.7175 %\n"
     ]
    },
    {
     "name": "stderr",
     "output_type": "stream",
     "text": [
      "\n",
      "100%|██████████████████████████████████████████████████████████████████████████████████████████████████████████████████████████████████████████████████████████████████████| 15/15 [00:00<00:00, 378.11it/s]"
     ]
    },
    {
     "name": "stdout",
     "output_type": "stream",
     "text": [
      " loss = 0.6734\n"
     ]
    },
    {
     "name": "stderr",
     "output_type": "stream",
     "text": [
      "\n"
     ]
    },
    {
     "name": "stdout",
     "output_type": "stream",
     "text": [
      "Relative training error = 41.4373 %\n",
      "Relative test error = 35.7429 %\n"
     ]
    },
    {
     "name": "stderr",
     "output_type": "stream",
     "text": [
      "100%|██████████████████████████████████████████████████████████████████████████████████████████████████████████████████████████████████████████████████████████████████████| 15/15 [00:00<00:00, 556.23it/s]\n"
     ]
    },
    {
     "name": "stdout",
     "output_type": "stream",
     "text": [
      " loss = 0.5861\n",
      "Relative training error = 36.4434 %\n",
      "Relative test error = 31.7562 %\n"
     ]
    },
    {
     "name": "stderr",
     "output_type": "stream",
     "text": [
      "100%|██████████████████████████████████████████████████████████████████████████████████████████████████████████████████████████████████████████████████████████████████████| 15/15 [00:00<00:00, 615.61it/s]"
     ]
    },
    {
     "name": "stdout",
     "output_type": "stream",
     "text": [
      " loss = 0.6413\n"
     ]
    },
    {
     "name": "stderr",
     "output_type": "stream",
     "text": [
      "\n"
     ]
    },
    {
     "name": "stdout",
     "output_type": "stream",
     "text": [
      "Relative training error = 30.8813 %\n",
      "Relative test error = 28.4054 %\n"
     ]
    },
    {
     "name": "stderr",
     "output_type": "stream",
     "text": [
      "100%|██████████████████████████████████████████████████████████████████████████████████████████████████████████████████████████████████████████████████████████████████████| 15/15 [00:00<00:00, 755.80it/s]"
     ]
    },
    {
     "name": "stdout",
     "output_type": "stream",
     "text": [
      " loss = 0.3033\n",
      "Relative training error = 26.9956 %\n"
     ]
    },
    {
     "name": "stderr",
     "output_type": "stream",
     "text": [
      "\n"
     ]
    },
    {
     "name": "stdout",
     "output_type": "stream",
     "text": [
      "Relative test error = 24.3697 %\n"
     ]
    },
    {
     "name": "stderr",
     "output_type": "stream",
     "text": [
      "100%|██████████████████████████████████████████████████████████████████████████████████████████████████████████████████████████████████████████████████████████████████████| 15/15 [00:00<00:00, 526.09it/s]\n"
     ]
    },
    {
     "name": "stdout",
     "output_type": "stream",
     "text": [
      " loss = 0.2221\n",
      "Relative training error = 23.7929 %\n",
      "Relative test error = 21.1344 %\n"
     ]
    },
    {
     "name": "stderr",
     "output_type": "stream",
     "text": [
      "100%|██████████████████████████████████████████████████████████████████████████████████████████████████████████████████████████████████████████████████████████████████████| 15/15 [00:00<00:00, 768.22it/s]\n"
     ]
    },
    {
     "name": "stdout",
     "output_type": "stream",
     "text": [
      " loss = 0.1528\n",
      "Relative training error = 21.4553 %\n",
      "Relative test error = 18.4828 %\n"
     ]
    },
    {
     "name": "stderr",
     "output_type": "stream",
     "text": [
      "100%|██████████████████████████████████████████████████████████████████████████████████████████████████████████████████████████████████████████████████████████████████████| 15/15 [00:00<00:00, 752.16it/s]"
     ]
    },
    {
     "name": "stdout",
     "output_type": "stream",
     "text": [
      " loss = 0.2680\n"
     ]
    },
    {
     "name": "stderr",
     "output_type": "stream",
     "text": [
      "\n"
     ]
    },
    {
     "name": "stdout",
     "output_type": "stream",
     "text": [
      "Relative training error = 19.6052 %\n",
      "Relative test error = 17.7670 %\n"
     ]
    },
    {
     "name": "stderr",
     "output_type": "stream",
     "text": [
      "100%|██████████████████████████████████████████████████████████████████████████████████████████████████████████████████████████████████████████████████████████████████████| 15/15 [00:00<00:00, 658.58it/s]"
     ]
    },
    {
     "name": "stdout",
     "output_type": "stream",
     "text": [
      " loss = 0.2182\n"
     ]
    },
    {
     "name": "stderr",
     "output_type": "stream",
     "text": [
      "\n"
     ]
    },
    {
     "name": "stdout",
     "output_type": "stream",
     "text": [
      "Relative training error = 18.2616 %\n",
      "Relative test error = 16.8649 %\n"
     ]
    },
    {
     "name": "stderr",
     "output_type": "stream",
     "text": [
      "100%|██████████████████████████████████████████████████████████████████████████████████████████████████████████████████████████████████████████████████████████████████████| 15/15 [00:00<00:00, 709.00it/s]\n"
     ]
    },
    {
     "name": "stdout",
     "output_type": "stream",
     "text": [
      " loss = 0.1494\n",
      "Relative training error = 17.2394 %\n",
      "Relative test error = 16.1775 %\n"
     ]
    },
    {
     "name": "stderr",
     "output_type": "stream",
     "text": [
      "100%|██████████████████████████████████████████████████████████████████████████████████████████████████████████████████████████████████████████████████████████████████████| 15/15 [00:00<00:00, 729.07it/s]"
     ]
    },
    {
     "name": "stdout",
     "output_type": "stream",
     "text": [
      " loss = 0.3063\n"
     ]
    },
    {
     "name": "stderr",
     "output_type": "stream",
     "text": [
      "\n"
     ]
    },
    {
     "name": "stdout",
     "output_type": "stream",
     "text": [
      "Relative training error = 16.4583 %\n",
      "Relative test error = 15.8720 %\n"
     ]
    },
    {
     "name": "stderr",
     "output_type": "stream",
     "text": [
      "100%|██████████████████████████████████████████████████████████████████████████████████████████████████████████████████████████████████████████████████████████████████████| 15/15 [00:00<00:00, 697.21it/s]\n"
     ]
    },
    {
     "name": "stdout",
     "output_type": "stream",
     "text": [
      " loss = 0.0505\n",
      "Relative training error = 15.9321 %\n",
      "Relative test error = 14.9250 %\n"
     ]
    },
    {
     "name": "stderr",
     "output_type": "stream",
     "text": [
      "100%|██████████████████████████████████████████████████████████████████████████████████████████████████████████████████████████████████████████████████████████████████████| 15/15 [00:00<00:00, 680.28it/s]\n"
     ]
    },
    {
     "name": "stdout",
     "output_type": "stream",
     "text": [
      " loss = 0.0512\n",
      "Relative training error = 15.5142 %\n",
      "Relative test error = 14.7512 %\n"
     ]
    },
    {
     "name": "stderr",
     "output_type": "stream",
     "text": [
      "  0%|                                                                                                                                                                                | 0/15 [00:00<?, ?it/s]"
     ]
    },
    {
     "name": "stdout",
     "output_type": "stream",
     "text": [
      " loss = 0.1754\n"
     ]
    },
    {
     "name": "stderr",
     "output_type": "stream",
     "text": [
      "100%|██████████████████████████████████████████████████████████████████████████████████████████████████████████████████████████████████████████████████████████████████████| 15/15 [00:00<00:00, 605.94it/s]\n"
     ]
    },
    {
     "name": "stdout",
     "output_type": "stream",
     "text": [
      "Relative training error = 15.1035 %\n",
      "Relative test error = 14.7072 %\n"
     ]
    },
    {
     "name": "stderr",
     "output_type": "stream",
     "text": [
      "100%|██████████████████████████████████████████████████████████████████████████████████████████████████████████████████████████████████████████████████████████████████████| 15/15 [00:00<00:00, 643.21it/s]"
     ]
    },
    {
     "name": "stdout",
     "output_type": "stream",
     "text": [
      " loss = 0.0413\n"
     ]
    },
    {
     "name": "stderr",
     "output_type": "stream",
     "text": [
      "\n"
     ]
    },
    {
     "name": "stdout",
     "output_type": "stream",
     "text": [
      "Relative training error = 14.7825 %\n",
      "Relative test error = 14.9931 %\n"
     ]
    },
    {
     "name": "stderr",
     "output_type": "stream",
     "text": [
      "100%|██████████████████████████████████████████████████████████████████████████████████████████████████████████████████████████████████████████████████████████████████████| 15/15 [00:00<00:00, 643.40it/s]\n"
     ]
    },
    {
     "name": "stdout",
     "output_type": "stream",
     "text": [
      " loss = 0.0351\n",
      "Relative training error = 14.4706 %\n",
      "Relative test error = 15.8247 %\n"
     ]
    },
    {
     "name": "stderr",
     "output_type": "stream",
     "text": [
      "100%|██████████████████████████████████████████████████████████████████████████████████████████████████████████████████████████████████████████████████████████████████████| 15/15 [00:00<00:00, 506.38it/s]"
     ]
    },
    {
     "name": "stdout",
     "output_type": "stream",
     "text": [
      " loss = 0.0485\n"
     ]
    },
    {
     "name": "stderr",
     "output_type": "stream",
     "text": [
      "\n"
     ]
    },
    {
     "name": "stdout",
     "output_type": "stream",
     "text": [
      "Relative training error = 14.1333 %\n",
      "Relative test error = 15.9683 %\n",
      "Creating DAS_analysis object\n",
      "[-3.33904898e-02 -2.75592482e-04  6.75529046e-03  2.95434237e-02\n",
      " -3.40290729e-03  3.08737117e-02  1.01209520e-03 -4.80988323e-03\n",
      " -1.07648473e-02 -1.92345385e-03 -1.05707726e-02  1.32764589e-02\n",
      " -1.88479366e-04 -7.78112981e-03 -2.20797094e-02  1.91612666e-02\n",
      " -3.81322690e-02 -1.43958990e-02 -3.55501232e-03  5.87829705e-02\n",
      " -3.15450202e-02 -2.07752352e-02 -7.18415924e-03  3.33695040e-03\n",
      "  1.36140605e-02 -9.36144500e-04  2.43579140e-02 -3.12722198e-04\n",
      "  2.60047425e-02 -2.81825681e-03 -1.10942119e-02  5.04249430e-02\n",
      "  9.36378451e-03  1.44538531e-02 -1.95601641e-02  4.95149215e-02\n",
      "  2.97072515e-02 -3.72920018e-02 -5.25101326e-02  1.36140962e-02\n",
      " -3.78842837e-03 -2.36315610e-02  3.08886513e-03  9.94606874e-03\n",
      " -2.73260217e-02  5.52111629e-05 -5.57936320e-03 -2.81570151e-02\n",
      " -5.36236275e-02 -2.78460035e-02 -2.79262929e-02  1.98481853e-02\n",
      " -2.02375243e-02  7.09350627e-03 -1.80310190e-02  1.10893024e-02\n",
      "  1.38355662e-02  1.55181759e-02  7.77773490e-03  4.02404911e-02\n",
      " -3.26803716e-02 -3.26558853e-02  2.74570357e-02 -2.43002378e-02\n",
      "  1.28519502e-02 -7.79996707e-03  4.21526790e-03 -1.96827100e-02\n",
      " -3.06098804e-02  1.13523954e-02 -3.18856661e-02  3.28485979e-03\n",
      " -2.61098246e-02  5.02761503e-02  1.95430325e-02 -2.11639217e-02\n",
      "  1.11936941e-02  1.22667059e-02  2.38241491e-02 -1.50901499e-03\n",
      "  2.05020611e-02 -5.86918590e-03  9.52424640e-03  6.46418346e-04\n",
      " -1.96385022e-02 -1.28099016e-02 -5.11204137e-02  1.53145645e-02\n",
      " -4.96562421e-03 -1.24992020e-02 -3.22209028e-02 -1.05753944e-02\n",
      " -6.66280114e-06 -9.16344139e-03 -9.91075205e-04  4.45905269e-02\n",
      " -3.06444710e-02 -8.35294877e-03  1.45706277e-03 -2.13765282e-03\n",
      "  3.50208138e-03 -1.54497343e-02 -5.20253328e-02]\n",
      "Parameters ordered from most to least important:\n",
      "[[  7  11  25   9  33  15  19   5   3  23  29   1  27  59  55  41  13  17\n",
      "   34   6  21  30  53  65  16  68  58  83 101  10  45  31  46  80  37  40\n",
      "   76  35  36  43  32 102   8  98  61  48  54  47  24  14  63  89  69   2\n",
      "  100   4  78  97  50  77  92  52  88  74  44  94  82  20  64  91  95  67\n",
      "   84  39  93  51  72  57  60  86  12  79  85  56  96  28  42  38  22  18\n",
      "   99  62  71  90  26  87  75   0  70  49  66  73  81]]\n",
      "Creating DAS_Surrogate Object\n",
      "Creating Feature Engineering object\n",
      "Using  450/450 samples to train the ML model\n",
      "===============================\n",
      "Neural net parameters\n",
      "===============================\n",
      "Number of layers = 3\n",
      "Number of features = 103\n",
      "Loss function = squared\n",
      "Number of neurons per hidden layer = 10\n",
      "Number of output neurons = 1\n",
      "Activation = ['linear', 'linear', 'tanh', 'linear']\n",
      "This neural network has 134 weights.\n",
      "===============================\n",
      "===============================\n",
      "Training Deep Active Subspace Neural Network...\n"
     ]
    },
    {
     "name": "stderr",
     "output_type": "stream",
     "text": [
      "100%|██████████████████████████████████████████████████████████████████████████████████████████████████████████████████████████████████████████████████████████████████████| 15/15 [00:00<00:00, 588.32it/s]"
     ]
    },
    {
     "name": "stdout",
     "output_type": "stream",
     "text": [
      " loss = 1.2468\n",
      "Relative training error = 41.5912 %\n",
      "Relative test error = 35.8481 %\n"
     ]
    },
    {
     "name": "stderr",
     "output_type": "stream",
     "text": [
      "\n",
      "100%|██████████████████████████████████████████████████████████████████████████████████████████████████████████████████████████████████████████████████████████████████████| 15/15 [00:00<00:00, 644.07it/s]"
     ]
    },
    {
     "name": "stdout",
     "output_type": "stream",
     "text": [
      " loss = 0.5393\n"
     ]
    },
    {
     "name": "stderr",
     "output_type": "stream",
     "text": [
      "\n"
     ]
    },
    {
     "name": "stdout",
     "output_type": "stream",
     "text": [
      "Relative training error = 36.7931 %\n",
      "Relative test error = 32.8962 %\n"
     ]
    },
    {
     "name": "stderr",
     "output_type": "stream",
     "text": [
      "100%|██████████████████████████████████████████████████████████████████████████████████████████████████████████████████████████████████████████████████████████████████████| 15/15 [00:00<00:00, 726.35it/s]"
     ]
    },
    {
     "name": "stdout",
     "output_type": "stream",
     "text": [
      " loss = 0.4605\n"
     ]
    },
    {
     "name": "stderr",
     "output_type": "stream",
     "text": [
      "\n"
     ]
    },
    {
     "name": "stdout",
     "output_type": "stream",
     "text": [
      "Relative training error = 31.3761 %\n",
      "Relative test error = 32.1036 %\n"
     ]
    },
    {
     "name": "stderr",
     "output_type": "stream",
     "text": [
      "100%|██████████████████████████████████████████████████████████████████████████████████████████████████████████████████████████████████████████████████████████████████████| 15/15 [00:00<00:00, 637.89it/s]\n"
     ]
    },
    {
     "name": "stdout",
     "output_type": "stream",
     "text": [
      " loss = 0.3831\n",
      "Relative training error = 26.8134 %\n",
      "Relative test error = 27.7468 %\n"
     ]
    },
    {
     "name": "stderr",
     "output_type": "stream",
     "text": [
      "  0%|                                                                                                                                                                                | 0/15 [00:00<?, ?it/s]"
     ]
    },
    {
     "name": "stdout",
     "output_type": "stream",
     "text": [
      " loss = 0.2824\n"
     ]
    },
    {
     "name": "stderr",
     "output_type": "stream",
     "text": [
      "100%|██████████████████████████████████████████████████████████████████████████████████████████████████████████████████████████████████████████████████████████████████████| 15/15 [00:00<00:00, 582.83it/s]\n"
     ]
    },
    {
     "name": "stdout",
     "output_type": "stream",
     "text": [
      "Relative training error = 23.1310 %\n",
      "Relative test error = 25.5791 %\n"
     ]
    },
    {
     "name": "stderr",
     "output_type": "stream",
     "text": [
      "100%|██████████████████████████████████████████████████████████████████████████████████████████████████████████████████████████████████████████████████████████████████████| 15/15 [00:00<00:00, 633.62it/s]"
     ]
    },
    {
     "name": "stdout",
     "output_type": "stream",
     "text": [
      " loss = 0.2136\n",
      "Relative training error = 20.1992 %\n",
      "Relative test error = 22.6430 %\n"
     ]
    },
    {
     "name": "stderr",
     "output_type": "stream",
     "text": [
      "\n",
      "100%|██████████████████████████████████████████████████████████████████████████████████████████████████████████████████████████████████████████████████████████████████████| 15/15 [00:00<00:00, 714.94it/s]\n"
     ]
    },
    {
     "name": "stdout",
     "output_type": "stream",
     "text": [
      " loss = 0.1382\n",
      "Relative training error = 18.3453 %\n",
      "Relative test error = 21.2319 %\n"
     ]
    },
    {
     "name": "stderr",
     "output_type": "stream",
     "text": [
      "100%|██████████████████████████████████████████████████████████████████████████████████████████████████████████████████████████████████████████████████████████████████████| 15/15 [00:00<00:00, 676.37it/s]"
     ]
    },
    {
     "name": "stdout",
     "output_type": "stream",
     "text": [
      " loss = 0.3017\n"
     ]
    },
    {
     "name": "stderr",
     "output_type": "stream",
     "text": [
      "\n"
     ]
    },
    {
     "name": "stdout",
     "output_type": "stream",
     "text": [
      "Relative training error = 16.5380 %\n",
      "Relative test error = 19.8780 %\n"
     ]
    },
    {
     "name": "stderr",
     "output_type": "stream",
     "text": [
      "100%|██████████████████████████████████████████████████████████████████████████████████████████████████████████████████████████████████████████████████████████████████████| 15/15 [00:00<00:00, 759.78it/s]\n"
     ]
    },
    {
     "name": "stdout",
     "output_type": "stream",
     "text": [
      " loss = 0.0704\n",
      "Relative training error = 15.4441 %\n",
      "Relative test error = 19.3604 %\n"
     ]
    },
    {
     "name": "stderr",
     "output_type": "stream",
     "text": [
      "100%|██████████████████████████████████████████████████████████████████████████████████████████████████████████████████████████████████████████████████████████████████████| 15/15 [00:00<00:00, 733.23it/s]\n"
     ]
    },
    {
     "name": "stdout",
     "output_type": "stream",
     "text": [
      " loss = 0.0482\n",
      "Relative training error = 14.3233 %\n",
      "Relative test error = 19.0726 %\n"
     ]
    },
    {
     "name": "stderr",
     "output_type": "stream",
     "text": [
      "100%|██████████████████████████████████████████████████████████████████████████████████████████████████████████████████████████████████████████████████████████████████████| 15/15 [00:00<00:00, 713.95it/s]\n"
     ]
    },
    {
     "name": "stdout",
     "output_type": "stream",
     "text": [
      " loss = 0.0393\n",
      "Relative training error = 13.4605 %\n",
      "Relative test error = 17.7656 %\n"
     ]
    },
    {
     "name": "stderr",
     "output_type": "stream",
     "text": [
      "100%|██████████████████████████████████████████████████████████████████████████████████████████████████████████████████████████████████████████████████████████████████████| 15/15 [00:00<00:00, 614.30it/s]"
     ]
    },
    {
     "name": "stdout",
     "output_type": "stream",
     "text": [
      " loss = 0.0422\n"
     ]
    },
    {
     "name": "stderr",
     "output_type": "stream",
     "text": [
      "\n"
     ]
    },
    {
     "name": "stdout",
     "output_type": "stream",
     "text": [
      "Relative training error = 12.8276 %\n",
      "Relative test error = 16.4061 %\n"
     ]
    },
    {
     "name": "stderr",
     "output_type": "stream",
     "text": [
      "100%|██████████████████████████████████████████████████████████████████████████████████████████████████████████████████████████████████████████████████████████████████████| 15/15 [00:00<00:00, 688.49it/s]"
     ]
    },
    {
     "name": "stdout",
     "output_type": "stream",
     "text": [
      " loss = 0.0293\n",
      "Relative training error = 12.3775 %\n"
     ]
    },
    {
     "name": "stderr",
     "output_type": "stream",
     "text": [
      "\n"
     ]
    },
    {
     "name": "stdout",
     "output_type": "stream",
     "text": [
      "Relative test error = 15.4790 %\n"
     ]
    },
    {
     "name": "stderr",
     "output_type": "stream",
     "text": [
      "100%|██████████████████████████████████████████████████████████████████████████████████████████████████████████████████████████████████████████████████████████████████████| 15/15 [00:00<00:00, 666.75it/s]"
     ]
    },
    {
     "name": "stdout",
     "output_type": "stream",
     "text": [
      " loss = 0.0609\n",
      "Relative training error = 12.0535 %\n"
     ]
    },
    {
     "name": "stderr",
     "output_type": "stream",
     "text": [
      "\n"
     ]
    },
    {
     "name": "stdout",
     "output_type": "stream",
     "text": [
      "Relative test error = 16.0316 %\n"
     ]
    },
    {
     "name": "stderr",
     "output_type": "stream",
     "text": [
      "  0%|                                                                                                                                                                                | 0/15 [00:00<?, ?it/s]"
     ]
    },
    {
     "name": "stdout",
     "output_type": "stream",
     "text": [
      " loss = 0.0874\n"
     ]
    },
    {
     "name": "stderr",
     "output_type": "stream",
     "text": [
      "100%|██████████████████████████████████████████████████████████████████████████████████████████████████████████████████████████████████████████████████████████████████████| 15/15 [00:00<00:00, 717.65it/s]\n"
     ]
    },
    {
     "name": "stdout",
     "output_type": "stream",
     "text": [
      "Relative training error = 11.6021 %\n",
      "Relative test error = 15.5350 %\n"
     ]
    },
    {
     "name": "stderr",
     "output_type": "stream",
     "text": [
      "  0%|                                                                                                                                                                                | 0/15 [00:00<?, ?it/s]"
     ]
    },
    {
     "name": "stdout",
     "output_type": "stream",
     "text": [
      " loss = 0.0581\n"
     ]
    },
    {
     "name": "stderr",
     "output_type": "stream",
     "text": [
      "100%|██████████████████████████████████████████████████████████████████████████████████████████████████████████████████████████████████████████████████████████████████████| 15/15 [00:00<00:00, 723.02it/s]\n"
     ]
    },
    {
     "name": "stdout",
     "output_type": "stream",
     "text": [
      "Relative training error = 11.2956 %\n",
      "Relative test error = 15.1462 %\n"
     ]
    },
    {
     "name": "stderr",
     "output_type": "stream",
     "text": [
      "  0%|                                                                                                                                                                                | 0/15 [00:00<?, ?it/s]"
     ]
    },
    {
     "name": "stdout",
     "output_type": "stream",
     "text": [
      " loss = 0.0654\n"
     ]
    },
    {
     "name": "stderr",
     "output_type": "stream",
     "text": [
      "100%|██████████████████████████████████████████████████████████████████████████████████████████████████████████████████████████████████████████████████████████████████████| 15/15 [00:00<00:00, 670.49it/s]\n"
     ]
    },
    {
     "name": "stdout",
     "output_type": "stream",
     "text": [
      "Relative training error = 10.9693 %\n",
      "Relative test error = 14.1995 %\n"
     ]
    },
    {
     "name": "stderr",
     "output_type": "stream",
     "text": [
      "100%|██████████████████████████████████████████████████████████████████████████████████████████████████████████████████████████████████████████████████████████████████████| 15/15 [00:00<00:00, 520.53it/s]\n"
     ]
    },
    {
     "name": "stdout",
     "output_type": "stream",
     "text": [
      " loss = 0.0561\n",
      "Relative training error = 10.7473 %\n",
      "Relative test error = 13.2172 %\n"
     ]
    },
    {
     "name": "stderr",
     "output_type": "stream",
     "text": [
      "100%|██████████████████████████████████████████████████████████████████████████████████████████████████████████████████████████████████████████████████████████████████████| 15/15 [00:00<00:00, 563.76it/s]"
     ]
    },
    {
     "name": "stdout",
     "output_type": "stream",
     "text": [
      " loss = 0.0351\n"
     ]
    },
    {
     "name": "stderr",
     "output_type": "stream",
     "text": [
      "\n"
     ]
    },
    {
     "name": "stdout",
     "output_type": "stream",
     "text": [
      "Relative training error = 10.6811 %\n",
      "Relative test error = 13.2452 %\n"
     ]
    },
    {
     "name": "stderr",
     "output_type": "stream",
     "text": [
      "  0%|                                                                                                                                                                                | 0/15 [00:00<?, ?it/s]"
     ]
    },
    {
     "name": "stdout",
     "output_type": "stream",
     "text": [
      " loss = 0.0805\n"
     ]
    },
    {
     "name": "stderr",
     "output_type": "stream",
     "text": [
      "100%|██████████████████████████████████████████████████████████████████████████████████████████████████████████████████████████████████████████████████████████████████████| 15/15 [00:00<00:00, 551.63it/s]\n"
     ]
    },
    {
     "name": "stdout",
     "output_type": "stream",
     "text": [
      "Relative training error = 10.6557 %\n",
      "Relative test error = 13.9121 %\n"
     ]
    },
    {
     "name": "stderr",
     "output_type": "stream",
     "text": [
      "100%|██████████████████████████████████████████████████████████████████████████████████████████████████████████████████████████████████████████████████████████████████████| 15/15 [00:00<00:00, 639.38it/s]"
     ]
    },
    {
     "name": "stdout",
     "output_type": "stream",
     "text": [
      " loss = 0.0284\n"
     ]
    },
    {
     "name": "stderr",
     "output_type": "stream",
     "text": [
      "\n"
     ]
    },
    {
     "name": "stdout",
     "output_type": "stream",
     "text": [
      "Relative training error = 10.4744 %\n",
      "Relative test error = 14.0622 %\n"
     ]
    },
    {
     "name": "stderr",
     "output_type": "stream",
     "text": [
      "100%|██████████████████████████████████████████████████████████████████████████████████████████████████████████████████████████████████████████████████████████████████████| 15/15 [00:00<00:00, 623.63it/s]"
     ]
    },
    {
     "name": "stdout",
     "output_type": "stream",
     "text": [
      " loss = 0.0260\n"
     ]
    },
    {
     "name": "stderr",
     "output_type": "stream",
     "text": [
      "\n"
     ]
    },
    {
     "name": "stdout",
     "output_type": "stream",
     "text": [
      "Relative training error = 10.2901 %\n",
      "Relative test error = 13.9285 %\n",
      "Creating DAS_analysis object\n",
      "[-3.33904898e-02 -2.75592482e-04  6.75529046e-03  2.95434237e-02\n",
      " -3.40290729e-03  3.08737117e-02  1.01209520e-03 -4.80988323e-03\n",
      " -1.07648473e-02 -1.92345385e-03 -1.05707726e-02  1.32764589e-02\n",
      " -1.88479366e-04 -7.78112981e-03 -2.20797094e-02  1.91612666e-02\n",
      " -3.81322690e-02 -1.43958990e-02 -3.55501232e-03  5.87829705e-02\n",
      " -3.15450202e-02 -2.07752352e-02 -7.18415924e-03  3.33695040e-03\n",
      "  1.36140605e-02 -9.36144500e-04  2.43579140e-02 -3.12722198e-04\n",
      "  2.60047425e-02 -2.81825681e-03 -1.10942119e-02  5.04249430e-02\n",
      "  9.36378451e-03  1.44538531e-02 -1.95601641e-02  4.95149215e-02\n",
      "  2.97072515e-02 -3.72920018e-02 -5.25101326e-02  1.36140962e-02\n",
      " -3.78842837e-03 -2.36315610e-02  3.08886513e-03  9.94606874e-03\n",
      " -2.73260217e-02  5.52111629e-05 -5.57936320e-03 -2.81570151e-02\n",
      " -5.36236275e-02 -2.78460035e-02 -2.79262929e-02  1.98481853e-02\n",
      " -2.02375243e-02  7.09350627e-03 -1.80310190e-02  1.10893024e-02\n",
      "  1.38355662e-02  1.55181759e-02  7.77773490e-03  4.02404911e-02\n",
      " -3.26803716e-02 -3.26558853e-02  2.74570357e-02 -2.43002378e-02\n",
      "  1.28519502e-02 -7.79996707e-03  4.21526790e-03 -1.96827100e-02\n",
      " -3.06098804e-02  1.13523954e-02 -3.18856661e-02  3.28485979e-03\n",
      " -2.61098246e-02  5.02761503e-02  1.95430325e-02 -2.11639217e-02\n",
      "  1.11936941e-02  1.22667059e-02  2.38241491e-02 -1.50901499e-03\n",
      "  2.05020611e-02 -5.86918590e-03  9.52424640e-03  6.46418346e-04\n",
      " -1.96385022e-02 -1.28099016e-02 -5.11204137e-02  1.53145645e-02\n",
      " -4.96562421e-03 -1.24992020e-02 -3.22209028e-02 -1.05753944e-02\n",
      " -6.66280114e-06 -9.16344139e-03 -9.91075205e-04  4.45905269e-02\n",
      " -3.06444710e-02 -8.35294877e-03  1.45706277e-03 -2.13765282e-03\n",
      "  3.50208138e-03 -1.54497343e-02 -5.20253328e-02]\n",
      "Parameters ordered from most to least important:\n",
      "[[  7  11  25   9  33  15  19   5   3  23   1  29  27  55  59  41  17   6\n",
      "   34  36  93  13  61  21  16  10  28  46  60  37  14  35  68  65  73  83\n",
      "   92  30  91  97  53   2  47  54 102  94  80  49  40  58  52  48  84  90\n",
      "   76  66  72   0  43   8  38 100  26  39 101  82  24  78  45  51  89  86\n",
      "   22  98  81  70  77  18  44  69  20  95  57  74  75  62  79  31  88  87\n",
      "   64  96  67  42  50  32   4  12  71  63  85  56  99]]\n",
      "Creating DAS_Surrogate Object\n",
      "Creating Feature Engineering object\n",
      "Using  450/450 samples to train the ML model\n",
      "===============================\n",
      "Neural net parameters\n",
      "===============================\n",
      "Number of layers = 3\n",
      "Number of features = 103\n",
      "Loss function = squared\n",
      "Number of neurons per hidden layer = 10\n",
      "Number of output neurons = 1\n",
      "Activation = ['linear', 'linear', 'tanh', 'linear']\n",
      "This neural network has 134 weights.\n",
      "===============================\n",
      "===============================\n",
      "Training Deep Active Subspace Neural Network...\n"
     ]
    },
    {
     "name": "stderr",
     "output_type": "stream",
     "text": [
      "100%|██████████████████████████████████████████████████████████████████████████████████████████████████████████████████████████████████████████████████████████████████████| 15/15 [00:00<00:00, 671.20it/s]"
     ]
    },
    {
     "name": "stdout",
     "output_type": "stream",
     "text": [
      " loss = 1.2719\n"
     ]
    },
    {
     "name": "stderr",
     "output_type": "stream",
     "text": [
      "\n"
     ]
    },
    {
     "name": "stdout",
     "output_type": "stream",
     "text": [
      "Relative training error = 44.5128 %\n",
      "Relative test error = 35.6579 %\n"
     ]
    },
    {
     "name": "stderr",
     "output_type": "stream",
     "text": [
      "100%|██████████████████████████████████████████████████████████████████████████████████████████████████████████████████████████████████████████████████████████████████████| 15/15 [00:00<00:00, 629.50it/s]"
     ]
    },
    {
     "name": "stdout",
     "output_type": "stream",
     "text": [
      " loss = 0.9958\n",
      "Relative training error = 42.4409 %\n",
      "Relative test error = 34.6522 %\n"
     ]
    },
    {
     "name": "stderr",
     "output_type": "stream",
     "text": [
      "\n",
      "100%|██████████████████████████████████████████████████████████████████████████████████████████████████████████████████████████████████████████████████████████████████████| 15/15 [00:00<00:00, 710.16it/s]"
     ]
    },
    {
     "name": "stdout",
     "output_type": "stream",
     "text": [
      " loss = 1.0735\n"
     ]
    },
    {
     "name": "stderr",
     "output_type": "stream",
     "text": [
      "\n"
     ]
    },
    {
     "name": "stdout",
     "output_type": "stream",
     "text": [
      "Relative training error = 37.9785 %\n",
      "Relative test error = 36.6824 %\n"
     ]
    },
    {
     "name": "stderr",
     "output_type": "stream",
     "text": [
      "100%|██████████████████████████████████████████████████████████████████████████████████████████████████████████████████████████████████████████████████████████████████████| 15/15 [00:00<00:00, 647.34it/s]"
     ]
    },
    {
     "name": "stdout",
     "output_type": "stream",
     "text": [
      " loss = 0.7083\n"
     ]
    },
    {
     "name": "stderr",
     "output_type": "stream",
     "text": [
      "\n"
     ]
    },
    {
     "name": "stdout",
     "output_type": "stream",
     "text": [
      "Relative training error = 32.1244 %\n",
      "Relative test error = 34.5565 %\n"
     ]
    },
    {
     "name": "stderr",
     "output_type": "stream",
     "text": [
      "100%|██████████████████████████████████████████████████████████████████████████████████████████████████████████████████████████████████████████████████████████████████████| 15/15 [00:00<00:00, 552.10it/s]\n"
     ]
    },
    {
     "name": "stdout",
     "output_type": "stream",
     "text": [
      " loss = 0.2401\n",
      "Relative training error = 27.9579 %\n",
      "Relative test error = 32.7790 %\n"
     ]
    },
    {
     "name": "stderr",
     "output_type": "stream",
     "text": [
      "100%|██████████████████████████████████████████████████████████████████████████████████████████████████████████████████████████████████████████████████████████████████████| 15/15 [00:00<00:00, 497.33it/s]"
     ]
    },
    {
     "name": "stdout",
     "output_type": "stream",
     "text": [
      " loss = 0.4219\n"
     ]
    },
    {
     "name": "stderr",
     "output_type": "stream",
     "text": [
      "\n"
     ]
    },
    {
     "name": "stdout",
     "output_type": "stream",
     "text": [
      "Relative training error = 24.4423 %\n",
      "Relative test error = 30.5157 %\n"
     ]
    },
    {
     "name": "stderr",
     "output_type": "stream",
     "text": [
      "  0%|                                                                                                                                                                                | 0/15 [00:00<?, ?it/s]"
     ]
    },
    {
     "name": "stdout",
     "output_type": "stream",
     "text": [
      " loss = 0.3351\n"
     ]
    },
    {
     "name": "stderr",
     "output_type": "stream",
     "text": [
      "100%|██████████████████████████████████████████████████████████████████████████████████████████████████████████████████████████████████████████████████████████████████████| 15/15 [00:00<00:00, 515.55it/s]\n"
     ]
    },
    {
     "name": "stdout",
     "output_type": "stream",
     "text": [
      "Relative training error = 21.9211 %\n",
      "Relative test error = 27.7626 %\n"
     ]
    },
    {
     "name": "stderr",
     "output_type": "stream",
     "text": [
      "  0%|                                                                                                                                                                                | 0/15 [00:00<?, ?it/s]"
     ]
    },
    {
     "name": "stdout",
     "output_type": "stream",
     "text": [
      " loss = 0.3090\n"
     ]
    },
    {
     "name": "stderr",
     "output_type": "stream",
     "text": [
      "100%|██████████████████████████████████████████████████████████████████████████████████████████████████████████████████████████████████████████████████████████████████████| 15/15 [00:00<00:00, 510.43it/s]\n"
     ]
    },
    {
     "name": "stdout",
     "output_type": "stream",
     "text": [
      "Relative training error = 19.7420 %\n",
      "Relative test error = 25.3590 %\n"
     ]
    },
    {
     "name": "stderr",
     "output_type": "stream",
     "text": [
      "  0%|                                                                                                                                                                                | 0/15 [00:00<?, ?it/s]"
     ]
    },
    {
     "name": "stdout",
     "output_type": "stream",
     "text": [
      " loss = 0.1213\n"
     ]
    },
    {
     "name": "stderr",
     "output_type": "stream",
     "text": [
      "100%|██████████████████████████████████████████████████████████████████████████████████████████████████████████████████████████████████████████████████████████████████████| 15/15 [00:00<00:00, 484.73it/s]\n"
     ]
    },
    {
     "name": "stdout",
     "output_type": "stream",
     "text": [
      "Relative training error = 18.2804 %\n",
      "Relative test error = 24.2102 %\n"
     ]
    },
    {
     "name": "stderr",
     "output_type": "stream",
     "text": [
      "100%|██████████████████████████████████████████████████████████████████████████████████████████████████████████████████████████████████████████████████████████████████████| 15/15 [00:00<00:00, 588.17it/s]"
     ]
    },
    {
     "name": "stdout",
     "output_type": "stream",
     "text": [
      " loss = 0.1634\n"
     ]
    },
    {
     "name": "stderr",
     "output_type": "stream",
     "text": [
      "\n"
     ]
    },
    {
     "name": "stdout",
     "output_type": "stream",
     "text": [
      "Relative training error = 17.0048 %\n",
      "Relative test error = 23.0158 %\n"
     ]
    },
    {
     "name": "stderr",
     "output_type": "stream",
     "text": [
      "100%|██████████████████████████████████████████████████████████████████████████████████████████████████████████████████████████████████████████████████████████████████████| 15/15 [00:00<00:00, 605.07it/s]"
     ]
    },
    {
     "name": "stdout",
     "output_type": "stream",
     "text": [
      " loss = 0.0610\n"
     ]
    },
    {
     "name": "stderr",
     "output_type": "stream",
     "text": [
      "\n"
     ]
    },
    {
     "name": "stdout",
     "output_type": "stream",
     "text": [
      "Relative training error = 15.9900 %\n",
      "Relative test error = 21.1316 %\n"
     ]
    },
    {
     "name": "stderr",
     "output_type": "stream",
     "text": [
      "100%|██████████████████████████████████████████████████████████████████████████████████████████████████████████████████████████████████████████████████████████████████████| 15/15 [00:00<00:00, 707.53it/s]"
     ]
    },
    {
     "name": "stdout",
     "output_type": "stream",
     "text": [
      " loss = 0.1852\n"
     ]
    },
    {
     "name": "stderr",
     "output_type": "stream",
     "text": [
      "\n"
     ]
    },
    {
     "name": "stdout",
     "output_type": "stream",
     "text": [
      "Relative training error = 15.2067 %\n",
      "Relative test error = 19.9592 %\n"
     ]
    },
    {
     "name": "stderr",
     "output_type": "stream",
     "text": [
      "100%|██████████████████████████████████████████████████████████████████████████████████████████████████████████████████████████████████████████████████████████████████████| 15/15 [00:00<00:00, 695.79it/s]"
     ]
    },
    {
     "name": "stdout",
     "output_type": "stream",
     "text": [
      " loss = 0.0739\n"
     ]
    },
    {
     "name": "stderr",
     "output_type": "stream",
     "text": [
      "\n"
     ]
    },
    {
     "name": "stdout",
     "output_type": "stream",
     "text": [
      "Relative training error = 14.4908 %\n",
      "Relative test error = 18.8288 %\n"
     ]
    },
    {
     "name": "stderr",
     "output_type": "stream",
     "text": [
      "100%|██████████████████████████████████████████████████████████████████████████████████████████████████████████████████████████████████████████████████████████████████████| 15/15 [00:00<00:00, 700.77it/s]"
     ]
    },
    {
     "name": "stdout",
     "output_type": "stream",
     "text": [
      " loss = 0.0369\n"
     ]
    },
    {
     "name": "stderr",
     "output_type": "stream",
     "text": [
      "\n"
     ]
    },
    {
     "name": "stdout",
     "output_type": "stream",
     "text": [
      "Relative training error = 13.9908 %\n",
      "Relative test error = 17.9980 %\n"
     ]
    },
    {
     "name": "stderr",
     "output_type": "stream",
     "text": [
      "100%|██████████████████████████████████████████████████████████████████████████████████████████████████████████████████████████████████████████████████████████████████████| 15/15 [00:00<00:00, 611.72it/s]"
     ]
    },
    {
     "name": "stdout",
     "output_type": "stream",
     "text": [
      " loss = 0.1281\n"
     ]
    },
    {
     "name": "stderr",
     "output_type": "stream",
     "text": [
      "\n"
     ]
    },
    {
     "name": "stdout",
     "output_type": "stream",
     "text": [
      "Relative training error = 13.4426 %\n",
      "Relative test error = 17.5039 %\n"
     ]
    },
    {
     "name": "stderr",
     "output_type": "stream",
     "text": [
      "100%|██████████████████████████████████████████████████████████████████████████████████████████████████████████████████████████████████████████████████████████████████████| 15/15 [00:00<00:00, 585.54it/s]"
     ]
    },
    {
     "name": "stdout",
     "output_type": "stream",
     "text": [
      " loss = 0.0802\n"
     ]
    },
    {
     "name": "stderr",
     "output_type": "stream",
     "text": [
      "\n"
     ]
    },
    {
     "name": "stdout",
     "output_type": "stream",
     "text": [
      "Relative training error = 13.2498 %\n",
      "Relative test error = 16.3881 %\n"
     ]
    },
    {
     "name": "stderr",
     "output_type": "stream",
     "text": [
      "100%|██████████████████████████████████████████████████████████████████████████████████████████████████████████████████████████████████████████████████████████████████████| 15/15 [00:00<00:00, 629.66it/s]"
     ]
    },
    {
     "name": "stdout",
     "output_type": "stream",
     "text": [
      " loss = 0.0275\n"
     ]
    },
    {
     "name": "stderr",
     "output_type": "stream",
     "text": [
      "\n"
     ]
    },
    {
     "name": "stdout",
     "output_type": "stream",
     "text": [
      "Relative training error = 12.8172 %\n",
      "Relative test error = 15.9760 %\n"
     ]
    },
    {
     "name": "stderr",
     "output_type": "stream",
     "text": [
      "100%|██████████████████████████████████████████████████████████████████████████████████████████████████████████████████████████████████████████████████████████████████████| 15/15 [00:00<00:00, 574.70it/s]"
     ]
    },
    {
     "name": "stdout",
     "output_type": "stream",
     "text": [
      " loss = 0.0350\n"
     ]
    },
    {
     "name": "stderr",
     "output_type": "stream",
     "text": [
      "\n"
     ]
    },
    {
     "name": "stdout",
     "output_type": "stream",
     "text": [
      "Relative training error = 12.4556 %\n",
      "Relative test error = 16.2210 %\n"
     ]
    },
    {
     "name": "stderr",
     "output_type": "stream",
     "text": [
      "  0%|                                                                                                                                                                                | 0/15 [00:00<?, ?it/s]"
     ]
    },
    {
     "name": "stdout",
     "output_type": "stream",
     "text": [
      " loss = 0.0198\n"
     ]
    },
    {
     "name": "stderr",
     "output_type": "stream",
     "text": [
      "100%|██████████████████████████████████████████████████████████████████████████████████████████████████████████████████████████████████████████████████████████████████████| 15/15 [00:00<00:00, 403.59it/s]\n"
     ]
    },
    {
     "name": "stdout",
     "output_type": "stream",
     "text": [
      "Relative training error = 12.2559 %\n",
      "Relative test error = 15.7132 %\n"
     ]
    },
    {
     "name": "stderr",
     "output_type": "stream",
     "text": [
      "  0%|                                                                                                                                                                                | 0/15 [00:00<?, ?it/s]"
     ]
    },
    {
     "name": "stdout",
     "output_type": "stream",
     "text": [
      " loss = 0.0332\n"
     ]
    },
    {
     "name": "stderr",
     "output_type": "stream",
     "text": [
      "100%|██████████████████████████████████████████████████████████████████████████████████████████████████████████████████████████████████████████████████████████████████████| 15/15 [00:00<00:00, 504.57it/s]\n"
     ]
    },
    {
     "name": "stdout",
     "output_type": "stream",
     "text": [
      "Relative training error = 11.9872 %\n",
      "Relative test error = 15.1250 %\n"
     ]
    },
    {
     "name": "stderr",
     "output_type": "stream",
     "text": [
      "  0%|                                                                                                                                                                                | 0/15 [00:00<?, ?it/s]"
     ]
    },
    {
     "name": "stdout",
     "output_type": "stream",
     "text": [
      " loss = 0.0580\n"
     ]
    },
    {
     "name": "stderr",
     "output_type": "stream",
     "text": [
      "100%|██████████████████████████████████████████████████████████████████████████████████████████████████████████████████████████████████████████████████████████████████████| 15/15 [00:00<00:00, 552.92it/s]\n"
     ]
    },
    {
     "name": "stdout",
     "output_type": "stream",
     "text": [
      "Relative training error = 11.7337 %\n",
      "Relative test error = 14.6363 %\n"
     ]
    },
    {
     "name": "stderr",
     "output_type": "stream",
     "text": [
      "100%|██████████████████████████████████████████████████████████████████████████████████████████████████████████████████████████████████████████████████████████████████████| 15/15 [00:00<00:00, 580.92it/s]"
     ]
    },
    {
     "name": "stdout",
     "output_type": "stream",
     "text": [
      " loss = 0.0258\n"
     ]
    },
    {
     "name": "stderr",
     "output_type": "stream",
     "text": [
      "\n"
     ]
    },
    {
     "name": "stdout",
     "output_type": "stream",
     "text": [
      "Relative training error = 11.6067 %\n",
      "Relative test error = 14.9519 %\n"
     ]
    },
    {
     "name": "stderr",
     "output_type": "stream",
     "text": [
      "  0%|                                                                                                                                                                                | 0/15 [00:00<?, ?it/s]"
     ]
    },
    {
     "name": "stdout",
     "output_type": "stream",
     "text": [
      " loss = 0.0271\n"
     ]
    },
    {
     "name": "stderr",
     "output_type": "stream",
     "text": [
      "100%|██████████████████████████████████████████████████████████████████████████████████████████████████████████████████████████████████████████████████████████████████████| 15/15 [00:00<00:00, 618.31it/s]\n"
     ]
    },
    {
     "name": "stdout",
     "output_type": "stream",
     "text": [
      "Relative training error = 11.4217 %\n",
      "Relative test error = 15.1506 %\n"
     ]
    },
    {
     "name": "stderr",
     "output_type": "stream",
     "text": [
      "100%|██████████████████████████████████████████████████████████████████████████████████████████████████████████████████████████████████████████████████████████████████████| 15/15 [00:00<00:00, 585.98it/s]"
     ]
    },
    {
     "name": "stdout",
     "output_type": "stream",
     "text": [
      " loss = 0.0234\n"
     ]
    },
    {
     "name": "stderr",
     "output_type": "stream",
     "text": [
      "\n"
     ]
    },
    {
     "name": "stdout",
     "output_type": "stream",
     "text": [
      "Relative training error = 11.1956 %\n",
      "Relative test error = 14.7009 %\n"
     ]
    },
    {
     "name": "stderr",
     "output_type": "stream",
     "text": [
      "100%|██████████████████████████████████████████████████████████████████████████████████████████████████████████████████████████████████████████████████████████████████████| 15/15 [00:00<00:00, 429.25it/s]\n"
     ]
    },
    {
     "name": "stdout",
     "output_type": "stream",
     "text": [
      " loss = 0.0309\n",
      "Relative training error = 11.0908 %\n",
      "Relative test error = 14.2752 %\n"
     ]
    },
    {
     "name": "stderr",
     "output_type": "stream",
     "text": [
      "100%|██████████████████████████████████████████████████████████████████████████████████████████████████████████████████████████████████████████████████████████████████████| 15/15 [00:00<00:00, 737.59it/s]"
     ]
    },
    {
     "name": "stdout",
     "output_type": "stream",
     "text": [
      " loss = 0.0787\n",
      "Relative training error = 11.0066 %\n",
      "Relative test error = 14.1498 %\n"
     ]
    },
    {
     "name": "stderr",
     "output_type": "stream",
     "text": [
      "\n",
      "  0%|                                                                                                                                                                                | 0/15 [00:00<?, ?it/s]"
     ]
    },
    {
     "name": "stdout",
     "output_type": "stream",
     "text": [
      " loss = 0.0246\n"
     ]
    },
    {
     "name": "stderr",
     "output_type": "stream",
     "text": [
      "100%|██████████████████████████████████████████████████████████████████████████████████████████████████████████████████████████████████████████████████████████████████████| 15/15 [00:00<00:00, 651.20it/s]\n"
     ]
    },
    {
     "name": "stdout",
     "output_type": "stream",
     "text": [
      "Relative training error = 10.7992 %\n",
      "Relative test error = 14.3160 %\n"
     ]
    },
    {
     "name": "stderr",
     "output_type": "stream",
     "text": [
      "100%|██████████████████████████████████████████████████████████████████████████████████████████████████████████████████████████████████████████████████████████████████████| 15/15 [00:00<00:00, 682.19it/s]\n"
     ]
    },
    {
     "name": "stdout",
     "output_type": "stream",
     "text": [
      " loss = 0.0423\n",
      "Relative training error = 10.7179 %\n",
      "Relative test error = 14.8281 %\n"
     ]
    },
    {
     "name": "stderr",
     "output_type": "stream",
     "text": [
      "100%|██████████████████████████████████████████████████████████████████████████████████████████████████████████████████████████████████████████████████████████████████████| 15/15 [00:00<00:00, 552.60it/s]\n"
     ]
    },
    {
     "name": "stdout",
     "output_type": "stream",
     "text": [
      " loss = 0.0218\n",
      "Relative training error = 10.5813 %\n",
      "Relative test error = 14.5541 %\n"
     ]
    },
    {
     "name": "stderr",
     "output_type": "stream",
     "text": [
      "100%|██████████████████████████████████████████████████████████████████████████████████████████████████████████████████████████████████████████████████████████████████████| 15/15 [00:00<00:00, 594.84it/s]"
     ]
    },
    {
     "name": "stdout",
     "output_type": "stream",
     "text": [
      " loss = 0.0283\n"
     ]
    },
    {
     "name": "stderr",
     "output_type": "stream",
     "text": [
      "\n"
     ]
    },
    {
     "name": "stdout",
     "output_type": "stream",
     "text": [
      "Relative training error = 10.4612 %\n",
      "Relative test error = 13.9258 %\n"
     ]
    },
    {
     "name": "stderr",
     "output_type": "stream",
     "text": [
      "  0%|                                                                                                                                                                                | 0/15 [00:00<?, ?it/s]"
     ]
    },
    {
     "name": "stdout",
     "output_type": "stream",
     "text": [
      " loss = 0.0877\n"
     ]
    },
    {
     "name": "stderr",
     "output_type": "stream",
     "text": [
      "100%|██████████████████████████████████████████████████████████████████████████████████████████████████████████████████████████████████████████████████████████████████████| 15/15 [00:00<00:00, 528.71it/s]\n"
     ]
    },
    {
     "name": "stdout",
     "output_type": "stream",
     "text": [
      "Relative training error = 10.3064 %\n",
      "Relative test error = 14.1960 %\n"
     ]
    },
    {
     "name": "stderr",
     "output_type": "stream",
     "text": [
      "100%|██████████████████████████████████████████████████████████████████████████████████████████████████████████████████████████████████████████████████████████████████████| 15/15 [00:00<00:00, 661.93it/s]"
     ]
    },
    {
     "name": "stdout",
     "output_type": "stream",
     "text": [
      " loss = 0.0598\n"
     ]
    },
    {
     "name": "stderr",
     "output_type": "stream",
     "text": [
      "\n"
     ]
    },
    {
     "name": "stdout",
     "output_type": "stream",
     "text": [
      "Relative training error = 10.2508 %\n",
      "Relative test error = 13.6194 %\n"
     ]
    },
    {
     "name": "stderr",
     "output_type": "stream",
     "text": [
      "100%|██████████████████████████████████████████████████████████████████████████████████████████████████████████████████████████████████████████████████████████████████████| 15/15 [00:00<00:00, 709.70it/s]"
     ]
    },
    {
     "name": "stdout",
     "output_type": "stream",
     "text": [
      " loss = 0.1870\n"
     ]
    },
    {
     "name": "stderr",
     "output_type": "stream",
     "text": [
      "\n"
     ]
    },
    {
     "name": "stdout",
     "output_type": "stream",
     "text": [
      "Relative training error = 10.1873 %\n",
      "Relative test error = 14.1040 %\n"
     ]
    },
    {
     "name": "stderr",
     "output_type": "stream",
     "text": [
      "100%|██████████████████████████████████████████████████████████████████████████████████████████████████████████████████████████████████████████████████████████████████████| 15/15 [00:00<00:00, 488.87it/s]"
     ]
    },
    {
     "name": "stdout",
     "output_type": "stream",
     "text": [
      " loss = 0.0805\n"
     ]
    },
    {
     "name": "stderr",
     "output_type": "stream",
     "text": [
      "\n"
     ]
    },
    {
     "name": "stdout",
     "output_type": "stream",
     "text": [
      "Relative training error = 9.9658 %\n",
      "Relative test error = 14.4825 %\n"
     ]
    },
    {
     "name": "stderr",
     "output_type": "stream",
     "text": [
      "  0%|                                                                                                                                                                                | 0/15 [00:00<?, ?it/s]"
     ]
    },
    {
     "name": "stdout",
     "output_type": "stream",
     "text": [
      " loss = 0.0652\n"
     ]
    },
    {
     "name": "stderr",
     "output_type": "stream",
     "text": [
      "100%|██████████████████████████████████████████████████████████████████████████████████████████████████████████████████████████████████████████████████████████████████████| 15/15 [00:00<00:00, 562.35it/s]\n"
     ]
    },
    {
     "name": "stdout",
     "output_type": "stream",
     "text": [
      "Relative training error = 9.8579 %\n",
      "Relative test error = 14.2714 %\n"
     ]
    },
    {
     "name": "stderr",
     "output_type": "stream",
     "text": [
      "  0%|                                                                                                                                                                                | 0/15 [00:00<?, ?it/s]"
     ]
    },
    {
     "name": "stdout",
     "output_type": "stream",
     "text": [
      " loss = 0.0310\n"
     ]
    },
    {
     "name": "stderr",
     "output_type": "stream",
     "text": [
      "100%|██████████████████████████████████████████████████████████████████████████████████████████████████████████████████████████████████████████████████████████████████████| 15/15 [00:00<00:00, 557.23it/s]\n"
     ]
    },
    {
     "name": "stdout",
     "output_type": "stream",
     "text": [
      "Relative training error = 9.7773 %\n",
      "Relative test error = 13.8599 %\n"
     ]
    },
    {
     "name": "stderr",
     "output_type": "stream",
     "text": [
      "100%|██████████████████████████████████████████████████████████████████████████████████████████████████████████████████████████████████████████████████████████████████████| 15/15 [00:00<00:00, 579.60it/s]"
     ]
    },
    {
     "name": "stdout",
     "output_type": "stream",
     "text": [
      " loss = 0.0269\n"
     ]
    },
    {
     "name": "stderr",
     "output_type": "stream",
     "text": [
      "\n"
     ]
    },
    {
     "name": "stdout",
     "output_type": "stream",
     "text": [
      "Relative training error = 9.6871 %\n",
      "Relative test error = 14.6665 %\n"
     ]
    },
    {
     "name": "stderr",
     "output_type": "stream",
     "text": [
      "100%|██████████████████████████████████████████████████████████████████████████████████████████████████████████████████████████████████████████████████████████████████████| 15/15 [00:00<00:00, 621.42it/s]"
     ]
    },
    {
     "name": "stdout",
     "output_type": "stream",
     "text": [
      " loss = 0.0427\n"
     ]
    },
    {
     "name": "stderr",
     "output_type": "stream",
     "text": [
      "\n"
     ]
    },
    {
     "name": "stdout",
     "output_type": "stream",
     "text": [
      "Relative training error = 9.6453 %\n",
      "Relative test error = 14.6527 %\n"
     ]
    },
    {
     "name": "stderr",
     "output_type": "stream",
     "text": [
      "100%|██████████████████████████████████████████████████████████████████████████████████████████████████████████████████████████████████████████████████████████████████████| 15/15 [00:00<00:00, 625.37it/s]"
     ]
    },
    {
     "name": "stdout",
     "output_type": "stream",
     "text": [
      " loss = 0.0333\n"
     ]
    },
    {
     "name": "stderr",
     "output_type": "stream",
     "text": [
      "\n"
     ]
    },
    {
     "name": "stdout",
     "output_type": "stream",
     "text": [
      "Relative training error = 9.6383 %\n",
      "Relative test error = 13.9931 %\n"
     ]
    },
    {
     "name": "stderr",
     "output_type": "stream",
     "text": [
      "100%|██████████████████████████████████████████████████████████████████████████████████████████████████████████████████████████████████████████████████████████████████████| 15/15 [00:00<00:00, 589.88it/s]\n"
     ]
    },
    {
     "name": "stdout",
     "output_type": "stream",
     "text": [
      " loss = 0.1550\n",
      "Relative training error = 9.4714 %\n",
      "Relative test error = 14.3299 %\n"
     ]
    },
    {
     "name": "stderr",
     "output_type": "stream",
     "text": [
      "100%|██████████████████████████████████████████████████████████████████████████████████████████████████████████████████████████████████████████████████████████████████████| 15/15 [00:00<00:00, 551.17it/s]"
     ]
    },
    {
     "name": "stdout",
     "output_type": "stream",
     "text": [
      " loss = 0.0417\n"
     ]
    },
    {
     "name": "stderr",
     "output_type": "stream",
     "text": [
      "\n"
     ]
    },
    {
     "name": "stdout",
     "output_type": "stream",
     "text": [
      "Relative training error = 9.3666 %\n",
      "Relative test error = 14.7114 %\n"
     ]
    },
    {
     "name": "stderr",
     "output_type": "stream",
     "text": [
      "100%|██████████████████████████████████████████████████████████████████████████████████████████████████████████████████████████████████████████████████████████████████████| 15/15 [00:00<00:00, 557.87it/s]"
     ]
    },
    {
     "name": "stdout",
     "output_type": "stream",
     "text": [
      " loss = 0.0689\n"
     ]
    },
    {
     "name": "stderr",
     "output_type": "stream",
     "text": [
      "\n"
     ]
    },
    {
     "name": "stdout",
     "output_type": "stream",
     "text": [
      "Relative training error = 9.3165 %\n",
      "Relative test error = 14.3757 %\n"
     ]
    },
    {
     "name": "stderr",
     "output_type": "stream",
     "text": [
      "100%|██████████████████████████████████████████████████████████████████████████████████████████████████████████████████████████████████████████████████████████████████████| 15/15 [00:00<00:00, 577.30it/s]"
     ]
    },
    {
     "name": "stdout",
     "output_type": "stream",
     "text": [
      " loss = 0.0577\n"
     ]
    },
    {
     "name": "stderr",
     "output_type": "stream",
     "text": [
      "\n"
     ]
    },
    {
     "name": "stdout",
     "output_type": "stream",
     "text": [
      "Relative training error = 9.2143 %\n",
      "Relative test error = 14.1853 %\n"
     ]
    },
    {
     "name": "stderr",
     "output_type": "stream",
     "text": [
      "100%|██████████████████████████████████████████████████████████████████████████████████████████████████████████████████████████████████████████████████████████████████████| 15/15 [00:00<00:00, 594.91it/s]"
     ]
    },
    {
     "name": "stdout",
     "output_type": "stream",
     "text": [
      " loss = 0.0318\n"
     ]
    },
    {
     "name": "stderr",
     "output_type": "stream",
     "text": [
      "\n"
     ]
    },
    {
     "name": "stdout",
     "output_type": "stream",
     "text": [
      "Relative training error = 9.1423 %\n",
      "Relative test error = 14.3571 %\n"
     ]
    },
    {
     "name": "stderr",
     "output_type": "stream",
     "text": [
      "100%|██████████████████████████████████████████████████████████████████████████████████████████████████████████████████████████████████████████████████████████████████████| 15/15 [00:00<00:00, 567.00it/s]"
     ]
    },
    {
     "name": "stdout",
     "output_type": "stream",
     "text": [
      " loss = 0.0294\n"
     ]
    },
    {
     "name": "stderr",
     "output_type": "stream",
     "text": [
      "\n"
     ]
    },
    {
     "name": "stdout",
     "output_type": "stream",
     "text": [
      "Relative training error = 9.1087 %\n",
      "Relative test error = 14.2391 %\n"
     ]
    },
    {
     "name": "stderr",
     "output_type": "stream",
     "text": [
      "100%|██████████████████████████████████████████████████████████████████████████████████████████████████████████████████████████████████████████████████████████████████████| 15/15 [00:00<00:00, 560.22it/s]"
     ]
    },
    {
     "name": "stdout",
     "output_type": "stream",
     "text": [
      " loss = 0.0250\n"
     ]
    },
    {
     "name": "stderr",
     "output_type": "stream",
     "text": [
      "\n"
     ]
    },
    {
     "name": "stdout",
     "output_type": "stream",
     "text": [
      "Relative training error = 9.0936 %\n",
      "Relative test error = 14.6627 %\n"
     ]
    },
    {
     "name": "stderr",
     "output_type": "stream",
     "text": [
      "  0%|                                                                                                                                                                                | 0/15 [00:00<?, ?it/s]"
     ]
    },
    {
     "name": "stdout",
     "output_type": "stream",
     "text": [
      " loss = 0.0251\n"
     ]
    },
    {
     "name": "stderr",
     "output_type": "stream",
     "text": [
      "100%|██████████████████████████████████████████████████████████████████████████████████████████████████████████████████████████████████████████████████████████████████████| 15/15 [00:00<00:00, 420.77it/s]\n"
     ]
    },
    {
     "name": "stdout",
     "output_type": "stream",
     "text": [
      "Relative training error = 9.0460 %\n",
      "Relative test error = 14.8796 %\n"
     ]
    },
    {
     "name": "stderr",
     "output_type": "stream",
     "text": [
      "  0%|                                                                                                                                                                                | 0/15 [00:00<?, ?it/s]"
     ]
    },
    {
     "name": "stdout",
     "output_type": "stream",
     "text": [
      " loss = 0.0281\n"
     ]
    },
    {
     "name": "stderr",
     "output_type": "stream",
     "text": [
      "100%|██████████████████████████████████████████████████████████████████████████████████████████████████████████████████████████████████████████████████████████████████████| 15/15 [00:00<00:00, 507.92it/s]\n"
     ]
    },
    {
     "name": "stdout",
     "output_type": "stream",
     "text": [
      "Relative training error = 8.9730 %\n",
      "Relative test error = 14.6344 %\n"
     ]
    },
    {
     "name": "stderr",
     "output_type": "stream",
     "text": [
      "  0%|                                                                                                                                                                                | 0/15 [00:00<?, ?it/s]"
     ]
    },
    {
     "name": "stdout",
     "output_type": "stream",
     "text": [
      " loss = 0.0311\n"
     ]
    },
    {
     "name": "stderr",
     "output_type": "stream",
     "text": [
      "100%|██████████████████████████████████████████████████████████████████████████████████████████████████████████████████████████████████████████████████████████████████████| 15/15 [00:00<00:00, 552.29it/s]\n"
     ]
    },
    {
     "name": "stdout",
     "output_type": "stream",
     "text": [
      "Relative training error = 8.9429 %\n",
      "Relative test error = 14.8140 %\n"
     ]
    },
    {
     "name": "stderr",
     "output_type": "stream",
     "text": [
      "100%|██████████████████████████████████████████████████████████████████████████████████████████████████████████████████████████████████████████████████████████████████████| 15/15 [00:00<00:00, 623.32it/s]"
     ]
    },
    {
     "name": "stdout",
     "output_type": "stream",
     "text": [
      " loss = 0.0325\n"
     ]
    },
    {
     "name": "stderr",
     "output_type": "stream",
     "text": [
      "\n"
     ]
    },
    {
     "name": "stdout",
     "output_type": "stream",
     "text": [
      "Relative training error = 8.9387 %\n",
      "Relative test error = 14.8678 %\n"
     ]
    },
    {
     "name": "stderr",
     "output_type": "stream",
     "text": [
      "100%|██████████████████████████████████████████████████████████████████████████████████████████████████████████████████████████████████████████████████████████████████████| 15/15 [00:00<00:00, 589.97it/s]"
     ]
    },
    {
     "name": "stdout",
     "output_type": "stream",
     "text": [
      " loss = 0.0250\n"
     ]
    },
    {
     "name": "stderr",
     "output_type": "stream",
     "text": [
      "\n"
     ]
    },
    {
     "name": "stdout",
     "output_type": "stream",
     "text": [
      "Relative training error = 8.8587 %\n",
      "Relative test error = 14.4940 %\n"
     ]
    },
    {
     "name": "stderr",
     "output_type": "stream",
     "text": [
      "100%|██████████████████████████████████████████████████████████████████████████████████████████████████████████████████████████████████████████████████████████████████████| 15/15 [00:00<00:00, 654.44it/s]"
     ]
    },
    {
     "name": "stdout",
     "output_type": "stream",
     "text": [
      " loss = 0.0331\n"
     ]
    },
    {
     "name": "stderr",
     "output_type": "stream",
     "text": [
      "\n"
     ]
    },
    {
     "name": "stdout",
     "output_type": "stream",
     "text": [
      "Relative training error = 8.7848 %\n",
      "Relative test error = 14.5434 %\n"
     ]
    },
    {
     "name": "stderr",
     "output_type": "stream",
     "text": [
      "100%|██████████████████████████████████████████████████████████████████████████████████████████████████████████████████████████████████████████████████████████████████████| 15/15 [00:00<00:00, 552.23it/s]"
     ]
    },
    {
     "name": "stdout",
     "output_type": "stream",
     "text": [
      " loss = 0.0368\n"
     ]
    },
    {
     "name": "stderr",
     "output_type": "stream",
     "text": [
      "\n"
     ]
    },
    {
     "name": "stdout",
     "output_type": "stream",
     "text": [
      "Relative training error = 8.8117 %\n",
      "Relative test error = 14.3908 %\n"
     ]
    },
    {
     "name": "stderr",
     "output_type": "stream",
     "text": [
      "100%|██████████████████████████████████████████████████████████████████████████████████████████████████████████████████████████████████████████████████████████████████████| 15/15 [00:00<00:00, 633.56it/s]"
     ]
    },
    {
     "name": "stdout",
     "output_type": "stream",
     "text": [
      " loss = 0.0611\n"
     ]
    },
    {
     "name": "stderr",
     "output_type": "stream",
     "text": [
      "\n"
     ]
    },
    {
     "name": "stdout",
     "output_type": "stream",
     "text": [
      "Relative training error = 8.7218 %\n",
      "Relative test error = 14.3032 %\n"
     ]
    },
    {
     "name": "stderr",
     "output_type": "stream",
     "text": [
      "100%|██████████████████████████████████████████████████████████████████████████████████████████████████████████████████████████████████████████████████████████████████████| 15/15 [00:00<00:00, 584.68it/s]"
     ]
    },
    {
     "name": "stdout",
     "output_type": "stream",
     "text": [
      " loss = 0.0245\n"
     ]
    },
    {
     "name": "stderr",
     "output_type": "stream",
     "text": [
      "\n"
     ]
    },
    {
     "name": "stdout",
     "output_type": "stream",
     "text": [
      "Relative training error = 8.6138 %\n",
      "Relative test error = 14.2788 %\n"
     ]
    },
    {
     "name": "stderr",
     "output_type": "stream",
     "text": [
      "100%|██████████████████████████████████████████████████████████████████████████████████████████████████████████████████████████████████████████████████████████████████████| 15/15 [00:00<00:00, 698.50it/s]"
     ]
    },
    {
     "name": "stdout",
     "output_type": "stream",
     "text": [
      " loss = 0.0332\n"
     ]
    },
    {
     "name": "stderr",
     "output_type": "stream",
     "text": [
      "\n"
     ]
    },
    {
     "name": "stdout",
     "output_type": "stream",
     "text": [
      "Relative training error = 8.5447 %\n",
      "Relative test error = 14.4892 %\n"
     ]
    },
    {
     "name": "stderr",
     "output_type": "stream",
     "text": [
      "100%|██████████████████████████████████████████████████████████████████████████████████████████████████████████████████████████████████████████████████████████████████████| 15/15 [00:00<00:00, 727.43it/s]\n"
     ]
    },
    {
     "name": "stdout",
     "output_type": "stream",
     "text": [
      " loss = 0.0696\n",
      "Relative training error = 8.5878 %\n",
      "Relative test error = 14.3556 %\n",
      "Creating DAS_analysis object\n",
      "[-3.33904898e-02 -2.75592482e-04  6.75529046e-03  2.95434237e-02\n",
      " -3.40290729e-03  3.08737117e-02  1.01209520e-03 -4.80988323e-03\n",
      " -1.07648473e-02 -1.92345385e-03 -1.05707726e-02  1.32764589e-02\n",
      " -1.88479366e-04 -7.78112981e-03 -2.20797094e-02  1.91612666e-02\n",
      " -3.81322690e-02 -1.43958990e-02 -3.55501232e-03  5.87829705e-02\n",
      " -3.15450202e-02 -2.07752352e-02 -7.18415924e-03  3.33695040e-03\n",
      "  1.36140605e-02 -9.36144500e-04  2.43579140e-02 -3.12722198e-04\n",
      "  2.60047425e-02 -2.81825681e-03 -1.10942119e-02  5.04249430e-02\n",
      "  9.36378451e-03  1.44538531e-02 -1.95601641e-02  4.95149215e-02\n",
      "  2.97072515e-02 -3.72920018e-02 -5.25101326e-02  1.36140962e-02\n",
      " -3.78842837e-03 -2.36315610e-02  3.08886513e-03  9.94606874e-03\n",
      " -2.73260217e-02  5.52111629e-05 -5.57936320e-03 -2.81570151e-02\n",
      " -5.36236275e-02 -2.78460035e-02 -2.79262929e-02  1.98481853e-02\n",
      " -2.02375243e-02  7.09350627e-03 -1.80310190e-02  1.10893024e-02\n",
      "  1.38355662e-02  1.55181759e-02  7.77773490e-03  4.02404911e-02\n",
      " -3.26803716e-02 -3.26558853e-02  2.74570357e-02 -2.43002378e-02\n",
      "  1.28519502e-02 -7.79996707e-03  4.21526790e-03 -1.96827100e-02\n",
      " -3.06098804e-02  1.13523954e-02 -3.18856661e-02  3.28485979e-03\n",
      " -2.61098246e-02  5.02761503e-02  1.95430325e-02 -2.11639217e-02\n",
      "  1.11936941e-02  1.22667059e-02  2.38241491e-02 -1.50901499e-03\n",
      "  2.05020611e-02 -5.86918590e-03  9.52424640e-03  6.46418346e-04\n",
      " -1.96385022e-02 -1.28099016e-02 -5.11204137e-02  1.53145645e-02\n",
      " -4.96562421e-03 -1.24992020e-02 -3.22209028e-02 -1.05753944e-02\n",
      " -6.66280114e-06 -9.16344139e-03 -9.91075205e-04  4.45905269e-02\n",
      " -3.06444710e-02 -8.35294877e-03  1.45706277e-03 -2.13765282e-03\n",
      "  3.50208138e-03 -1.54497343e-02 -5.20253328e-02]\n",
      "Parameters ordered from most to least important:\n",
      "[[  7  11  25   9  33  15  19   5   3  29  23   1  27  59  17  14  41  21\n",
      "   55   6  34  28  83  13  36  10  61  16  80  47  43  48   8  93  46  30\n",
      "   53  68  40  73  72  58  50  52  85  87  35  60  90  65  20   0  18  12\n",
      "   81   2  94  78  74  31  37  98  62  49  64  97  70  89 100  77  69 102\n",
      "   91  92  44  66  84  45  88  26  57  56  79  39  96  63  76  99  82  67\n",
      "  101   4  51  75  24  54  71  86  22  38  95  42  32]]\n"
     ]
    }
   ],
   "source": [
    "train_das(failure_criterion=0.4)"
   ]
  },
  {
   "cell_type": "markdown",
   "id": "8cf9f1b0",
   "metadata": {},
   "source": [
    "Plot the relative training and test errors vs the epochs."
   ]
  },
  {
   "cell_type": "code",
   "execution_count": 44,
   "id": "84f556db",
   "metadata": {},
   "outputs": [
    {
     "data": {
      "image/png": "[encoded data removed]",
      "text/plain": [
       "<Figure size 640x480 with 1 Axes>"
      ]
     },
     "metadata": {},
     "output_type": "display_data"
    }
   ],
   "source": [
    "plot_errors(results_das)"
   ]
  },
  {
   "cell_type": "markdown",
   "id": "1466185c",
   "metadata": {},
   "source": [
    "### Get training results"
   ]
  },
  {
   "cell_type": "code",
   "execution_count": 45,
   "id": "09442724",
   "metadata": {},
   "outputs": [],
   "source": [
    "# select the surrogate with the lowest test error\n",
    "epoch_stop = results_das['epoch_stop']\n",
    "test_errors = np.array(results_das['errors'])[:, :, 1]\n",
    "test_errors = [error[epoch_stop[idx]] for idx, error in enumerate(test_errors)]\n",
    "best_idx = np.argmin(test_errors)\n",
    "das_surrogate = results_das['surrogate'][best_idx]\n",
    "C_das = results_das['C_das'][best_idx]\n",
    "\n",
    "# compute the active subspace on the training and test data\n",
    "W_1 = results_das['projection_matrix'][best_idx]\n",
    "y_das_train = np.dot(W_1.T, params_train.T).T\n",
    "y_das_test = np.dot(W_1.T, params_test.T).T"
   ]
  },
  {
   "cell_type": "markdown",
   "id": "ccd2d2b0",
   "metadata": {},
   "source": [
    "### Recreate the eigenvalue plots\n",
    "\n",
    "Plot the eigenvalues with confidence intervals. If the replica ensemble contains non-converged networks, this will show up as unreasonably large confidence intervals."
   ]
  },
  {
   "cell_type": "code",
   "execution_count": 46,
   "id": "e1a94d13",
   "metadata": {
    "scrolled": true
   },
   "outputs": [
    {
     "data": {
      "image/png": "[encoded data removed]",
      "text/plain": [
       "<Figure size 400x400 with 1 Axes>"
      ]
     },
     "metadata": {},
     "output_type": "display_data"
    }
   ],
   "source": [
    "# number of eigenvalues to plot\n",
    "n_vals = d\n",
    "\n",
    "# basic analysisclass to compute the confidence intervals\n",
    "analysis = es.analysis.BaseAnalysis()\n",
    "\n",
    "# DAS eigenvalues\n",
    "eigvals_C_das = results_das['eigvals'] \n",
    "eigvals_C_das = eigvals_C_das / np.mean(eigvals_C_das, axis=0)[0]\n",
    "# eigenvalues averaged over the n_rep replica networks\n",
    "mean_eigval_das = np.mean(eigvals_C_das[:, 0:n_vals], axis=0)\n",
    "# compute confidence intervals\n",
    "lower, upper = analysis.get_confidence_intervals(eigvals_C_das[:, 0:n_vals])\n",
    "y_err_das = np.array([mean_eigval_das - lower, upper - mean_eigval_das])\n",
    "\n",
    "# Load GP results from file\n",
    "GP_eigvals = pd.read_csv('./GP_eigvals/scaled_eigen_results_epoxy_%s.csv' % (QoI,))\n",
    "GP_mean = GP_eigvals['Eigenval_mean'].values\n",
    "GP_std = GP_eigvals['Eigenval_std'].values\n",
    "\n",
    "# plot results.\n",
    "fig = plt.figure(figsize=[4, 4])\n",
    "ax1 = fig.add_subplot(111, yscale='log', ylim=[1e-4, 2])\n",
    "ax1.set_ylabel(r'$\\lambda_i\\;/\\;\\lambda_1$', fontsize=12)\n",
    "ax1.set_xlabel(r'$i$', fontsize=12)\n",
    "offset = 0.1\n",
    "ax1.errorbar(np.arange(1, n_vals + 1)-offset, mean_eigval_das, \n",
    "             yerr = y_err_das, fmt='s', color='dodgerblue', label='DAS')\n",
    "ax1.errorbar(np.arange(1, n_vals + 1)+offset, GP_mean[0:n_vals], \n",
    "             fmt='^', color='salmon', label='KAS-GP')#, yerr = GP_std[0:n_vals])\n",
    "plt.legend(loc=0)\n",
    "ax1.set_xticks(np.arange(1, n_vals + 1, 1))\n",
    "sns.despine(top=True)\n",
    "plt.tight_layout()\n",
    "\n",
    "fig.savefig('./images/epoxy_eigvals_d%d.png' % (d,))"
   ]
  },
  {
   "cell_type": "markdown",
   "id": "b582eaaa",
   "metadata": {},
   "source": [
    "### Recreate the active subspace plot\n",
    "\n",
    "Plot the predictions in a 1D active subspace."
   ]
  },
  {
   "cell_type": "code",
   "execution_count": 47,
   "id": "617daf40",
   "metadata": {},
   "outputs": [],
   "source": [
    "# run the surrogate at a number of random inputs locations drawn from U[-1, 1]\n",
    "n_mc = 1000\n",
    "pred_inputs = np.random.rand(n_mc, D) * 2 - 1\n",
    "das_samples_pred = np.zeros(n_mc)\n",
    "for i in range(n_mc):\n",
    "    das_samples_pred[i] = das_surrogate.predict(pred_inputs[i])"
   ]
  },
  {
   "cell_type": "code",
   "execution_count": 48,
   "id": "4c2d3d83",
   "metadata": {},
   "outputs": [],
   "source": [
    "# active subspace at prediction inputs x\n",
    "y_val_das = np.dot(W_1.T, pred_inputs.T).T\n",
    "idx = np.argsort(y_val_das.flatten())"
   ]
  },
  {
   "cell_type": "code",
   "execution_count": 49,
   "id": "fa9440bc",
   "metadata": {},
   "outputs": [
    {
     "data": {
      "image/png": "[encoded data removed]",
      "text/plain": [
       "<Figure size 800x400 with 2 Axes>"
      ]
     },
     "metadata": {},
     "output_type": "display_data"
    }
   ],
   "source": [
    "# QoI labels\n",
    "lbl = {'E11': r'$E$', 'poisson': r'Poisson ratio'}\n",
    "\n",
    "# plot DAS surrogate\n",
    "fig = plt.figure(figsize=(8,4))\n",
    "spec = gridspec.GridSpec(ncols=2, nrows=1, width_ratios=[1, 1])\n",
    "\n",
    "ax = fig.add_subplot(spec[0],  xlim=[-2,2], title='DAS')   \n",
    "#ax = fig.add_subpl2ot(111, ylim = [0.15, 0.45], xlim= [-2, 2]) # Poisson range\n",
    "ax.set_xlabel(r'$y_1$', fontsize=12)\n",
    "ax.set_xticks([-2, -1, 0, 1, 2])\n",
    "ax.set_ylabel(lbl[QoI], fontsize=12)\n",
    "ax.plot(y_das_train[:,0], samples_train, '.', color='dodgerblue', label='training data') \n",
    "ax.plot(y_das_test[:,0], samples_test, '^', markerfacecolor='lime', label='test data') \n",
    "ax.plot(y_val_das[idx,0], das_samples_pred[idx], color='salmon', label='DAS', linewidth=3)\n",
    "leg = ax.legend(loc=0, frameon=False)\n",
    "\n",
    "ax2 = fig.add_subplot(spec[1], sharex = ax, ylim = ax.get_ylim(), title='KAS-GP') \n",
    "ax2.set_xlabel(r'$y_1$', fontsize=12)\n",
    "\n",
    "# also plot GP surrogate from file\n",
    "y_mean = das_surrogate.neural_net.y_mean\n",
    "y_std = das_surrogate.neural_net.y_std\n",
    "GP_surrogate = np.load('./GP_surrogate/epoxy_%s_results.npy' % (QoI,), allow_pickle=True).item()\n",
    "ax2.plot(GP_surrogate['reduced_train_params'], samples_train, '.', color='dodgerblue', label='training data')\n",
    "ax2.plot(GP_surrogate['reduced_test_params'], samples_test, '^', markerfacecolor='lime', label='test data')\n",
    "ax2.plot(GP_surrogate['active_subspace'], GP_surrogate['prediction_mean'] * y_std + y_mean, color='salmon',\n",
    "        label='KAS-GP + 95% CI', linewidth=3)\n",
    "skip=10\n",
    "ax2.errorbar(GP_surrogate['active_subspace'][0:-1:skip].flatten(), \n",
    "             GP_surrogate['prediction_mean'][0:-1:skip].flatten() * y_std + y_mean,\n",
    "             yerr = GP_surrogate['prediction_CI'][0:-1:skip].flatten() * y_std, color='salmon',\n",
    "             linewidth=0, elinewidth=3)\n",
    "leg = ax2.legend(loc=0, frameon=False)\n",
    "\n",
    "sns.despine(top=True, ax=ax)\n",
    "sns.despine(top=True, ax=ax2)\n",
    "sns.despine(left=True, ax=ax2)\n",
    "ax2.set_yticks([])\n",
    "\n",
    "plt.tight_layout()\n",
    "plt.savefig('./images/epoxy_surrogate_d%d_%s.png' % (d, QoI, ))\n"
   ]
  },
  {
   "cell_type": "markdown",
   "id": "e5880548",
   "metadata": {},
   "source": [
    "### Recreate the global-derivative based sensitivity plots"
   ]
  },
  {
   "cell_type": "code",
   "execution_count": 50,
   "id": "45a3b055",
   "metadata": {},
   "outputs": [],
   "source": [
    "GP_results = pd.read_csv('./GP_SA/sensitivity_indices_epoxy_%s.csv' % (QoI,))"
   ]
  },
  {
   "cell_type": "code",
   "execution_count": 51,
   "id": "60bff6d5",
   "metadata": {
    "scrolled": false
   },
   "outputs": [
    {
     "data": {
      "image/png": "[encoded data removed]",
      "text/plain": [
       "<Figure size 500x1000 with 1 Axes>"
      ]
     },
     "metadata": {},
     "output_type": "display_data"
    }
   ],
   "source": [
    "# plot sensitivity indices with CIs\n",
    "plot_sensitivity(results_das, param_names, bar2 = GP_results)"
   ]
  },
  {
   "cell_type": "markdown",
   "id": "d4fe7b63",
   "metadata": {},
   "source": [
    "### Compare epistemic with aleatoric uncertainty"
   ]
  },
  {
   "cell_type": "code",
   "execution_count": 52,
   "id": "8890023f",
   "metadata": {},
   "outputs": [
    {
     "name": "stdout",
     "output_type": "stream",
     "text": [
      "Computing kernel-density estimate\n",
      "done\n",
      "Computing kernel-density estimate\n",
      "done\n",
      "Computing kernel-density estimate\n",
      "done\n"
     ]
    },
    {
     "data": {
      "image/png": "[encoded data removed]",
      "text/plain": [
       "<Figure size 1000x450 with 3 Axes>"
      ]
     },
     "metadata": {},
     "output_type": "display_data"
    }
   ],
   "source": [
    "plot_dist(output, lbl[QoI])"
   ]
  },
  {
   "cell_type": "markdown",
   "id": "70ef1375",
   "metadata": {},
   "source": [
    "### (Non-Gaussian) stats with bootstrapping"
   ]
  },
  {
   "cell_type": "code",
   "execution_count": 53,
   "id": "c1f4d65d",
   "metadata": {},
   "outputs": [
    {
     "name": "stderr",
     "output_type": "stream",
     "text": [
      "100%|██████████████████████████████████████████████████████████████████████████████████████████████████████████████████████████████████████████████████████████████| 100000/100000 [02:57<00:00, 563.86it/s]\n"
     ]
    }
   ],
   "source": [
    "n_bootstap = 10 ** 5\n",
    "n_samples = output.size\n",
    "\n",
    "mean = np.zeros(n_bootstap)\n",
    "std = np.zeros(n_bootstap)\n",
    "skew = np.zeros(n_bootstap)\n",
    "kurt = np.zeros(n_bootstap)\n",
    "\n",
    "output = output.flatten() \n",
    "\n",
    "for i in tqdm(range(n_bootstap)):\n",
    "    # resample with replacement\n",
    "    idx = np.random.randint(0, n_samples, n_samples)\n",
    "    # recompute moments\n",
    "    mean[i] = np.mean(output[idx])\n",
    "    std[i] = np.std(output[idx])\n",
    "    skew[i] = stats.skew(output[idx])\n",
    "    kurt[i] = stats.kurtosis(output[idx])"
   ]
  },
  {
   "cell_type": "code",
   "execution_count": 54,
   "id": "062efe63",
   "metadata": {},
   "outputs": [],
   "source": [
    "lower_mean, upper_mean = analysis.get_confidence_intervals(mean.reshape([-1,1]))\n",
    "lower_std, upper_std = analysis.get_confidence_intervals(std.reshape([-1,1]))\n",
    "lower_skew, upper_skew = analysis.get_confidence_intervals(skew.reshape([-1,1]))\n",
    "lower_kurt, upper_kurt = analysis.get_confidence_intervals(kurt.reshape([-1,1]))"
   ]
  },
  {
   "cell_type": "code",
   "execution_count": 55,
   "id": "349c04fa",
   "metadata": {},
   "outputs": [
    {
     "name": "stdout",
     "output_type": "stream",
     "text": [
      "Mean: 6.54e+09 (6.49e+09/6.59e+09)\n",
      "Std dev: 3.22e+09 (3.16e+09/3.28e+09)\n",
      "Skew: 1.61 (1.541/1.666)\n",
      "Kurt: 3.76 (3.45/4.05)\n",
      "N_samples = 10000\n"
     ]
    }
   ],
   "source": [
    "print(\"Mean: %.2e (%.2e/%.2e)\" % (np.mean(output), lower_mean, upper_mean))\n",
    "print(\"Std dev: %.2e (%.2e/%.2e)\" % (np.std(output), lower_std, upper_std))\n",
    "print(\"Skew: %.2f (%.3f/%.3f)\" % (stats.skew(output), lower_skew, upper_skew))\n",
    "print(\"Kurt: %.2f (%.2f/%.2f)\" % (stats.kurtosis(output), lower_kurt, upper_kurt))\n",
    "print(\"N_samples = %d\" % n_samples)"
   ]
  }
 ],
 "metadata": {
  "kernelspec": {
   "display_name": "Python 3 (ipykernel)",
   "language": "python",
   "name": "python3"
  },
  "language_info": {
   "codemirror_mode": {
    "name": "ipython",
    "version": 3
   },
   "file_extension": ".py",
   "mimetype": "text/x-python",
   "name": "python",
   "nbconvert_exporter": "python",
   "pygments_lexer": "ipython3",
   "version": "3.9.16"
  }
 },
 "nbformat": 4,
 "nbformat_minor": 5
}
