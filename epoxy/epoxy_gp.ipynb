{
 "cells": [
  {
   "cell_type": "markdown",
   "metadata": {},
   "source": [
    "## Epoxy Application KAS-GP Implementation\n",
    "\n",
    "Run this notebook to reproduce the Kernelized Active Subapce with Gaussian Process (KAS-GP) results for the epoxy application."
   ]
  },
  {
   "cell_type": "markdown",
   "metadata": {},
   "source": [
    "## Install MOGP\n",
    "\n",
    "The KAS-GP method is implemented in MOGP.\n",
    "Uncomment to install"
   ]
  },
  {
   "cell_type": "code",
   "execution_count": 1,
   "metadata": {},
   "outputs": [],
   "source": [
    "#! pip install mogp==0.7.2"
   ]
  },
  {
   "cell_type": "code",
   "execution_count": 2,
   "metadata": {},
   "outputs": [],
   "source": [
    "import numpy as np\n",
    "import matplotlib.pyplot as plt\n",
    "import json\n",
    "import pandas as pd\n",
    "import seaborn as sns\n",
    "from tqdm import tqdm\n",
    "from mogp_emulator import gKDR, GaussianProcess, fit_GP_MAP\n",
    "\n",
    "\n",
    "RandomSeed = 2023\n",
    "np.random.seed(RandomSeed)\n",
    "\n",
    "%matplotlib inline\n",
    "plt.rcParams['image.cmap'] = 'seismic'\n",
    "plt.rcParams['savefig.dpi'] = 300\n"
   ]
  },
  {
   "cell_type": "markdown",
   "metadata": {},
   "source": [
    "### Load prior ranges\n",
    "\n",
    "The JSON file below contains all default values and boundaries used for specifying the Uniform input parameter distributions. "
   ]
  },
  {
   "cell_type": "code",
   "execution_count": 3,
   "metadata": {},
   "outputs": [],
   "source": [
    "# Load the EasyVVUQ params dict\n",
    "priors = json.load(open('./epoxy.params.json', 'r'))"
   ]
  },
  {
   "cell_type": "markdown",
   "metadata": {},
   "source": [
    "### Load input parameter values\n",
    "\n",
    "Load the Monte Carlo values of the inputs."
   ]
  },
  {
   "cell_type": "code",
   "execution_count": 4,
   "metadata": {},
   "outputs": [],
   "source": [
    "# input parameters\n",
    "params = pd.read_csv('./data_epoxy/epoxy_inputs.csv')\n",
    "param_names = params.keys()\n",
    "params = params.values\n",
    "\n",
    "# number of samples\n",
    "n_samples = params.shape[0]\n",
    "\n",
    "# number of inputs\n",
    "D = params.shape[1]\n",
    "\n",
    "# scale inputs within [-1, 1]\n",
    "p_max = np.array([priors[name]['default'] * 1.15 for name in param_names])\n",
    "p_min = np.array([priors[name]['default'] * 0.85 for name in param_names])\n",
    "params = (params - 0.5 * (p_min + p_max)) / (0.5 * (p_max - p_min))"
   ]
  },
  {
   "cell_type": "markdown",
   "metadata": {},
   "source": [
    "### Load output samples\n",
    "\n",
    "Load the corresponding Monte Carlo outputs. We used `E11`, the 11 component of the elasticity tensor (equal to the Young's modulus `E` in this isotropic case), and the Poisson ratio."
   ]
  },
  {
   "cell_type": "code",
   "execution_count": 5,
   "metadata": {},
   "outputs": [],
   "source": [
    "# Output QoI\n",
    "QoI = 'E11'   # E11=E22_E33=E due to isotropy of the material\n",
    "# QoI = 'poisson'\n",
    "\n",
    "output = pd.read_csv('./data_epoxy/epoxy_%s_output.csv' % (QoI,)).values"
   ]
  },
  {
   "cell_type": "markdown",
   "metadata": {},
   "source": [
    "### Average over the random seeds (or not)\n",
    "\n",
    "Each parameter value was replicated several times, changing only the random seed of the initial condition."
   ]
  },
  {
   "cell_type": "code",
   "execution_count": 6,
   "metadata": {},
   "outputs": [],
   "source": [
    "average_over_replicas = True\n",
    "\n",
    "if not average_over_replicas:\n",
    "    samples = output[:, 0].reshape([-1, 1])\n",
    "    samples = samples - np.mean(samples)/np.std(samples)\n",
    "else:\n",
    "    samples = np.mean(output, axis=1, keepdims=True)\n",
    "    samples = (samples - np.mean(samples))/np.std(samples)"
   ]
  },
  {
   "cell_type": "markdown",
   "metadata": {},
   "source": [
    "### Train / test split"
   ]
  },
  {
   "cell_type": "code",
   "execution_count": 7,
   "metadata": {},
   "outputs": [],
   "source": [
    "# test fraction\n",
    "test_frac = 0.1\n",
    "# indices of the test set\n",
    "test_idx = int((1 - test_frac) * n_samples)\n",
    "# training set\n",
    "params_train = params[0:test_idx, :]\n",
    "samples_train = samples[0:test_idx, :]\n",
    "# test set\n",
    "params_test = params[test_idx:, :]\n",
    "samples_test = samples[test_idx:, :]"
   ]
  },
  {
   "cell_type": "markdown",
   "metadata": {},
   "source": [
    "### Select $d$\n",
    "\n",
    "This is the dimension of the active subspace."
   ]
  },
  {
   "cell_type": "code",
   "execution_count": 8,
   "metadata": {},
   "outputs": [],
   "source": [
    "d = 1"
   ]
  },
  {
   "cell_type": "markdown",
   "metadata": {},
   "source": [
    "### Cross Validation for Kernel used in KAS"
   ]
  },
  {
   "cell_type": "code",
   "execution_count": 9,
   "metadata": {},
   "outputs": [
    {
     "name": "stderr",
     "output_type": "stream",
     "text": [
      "  0%|          | 0/5 [00:00<?, ?it/s]"
     ]
    },
    {
     "name": "stdout",
     "output_type": "stream",
     "text": [
      "Matrix not positive definite, skipping this iteration\n",
      "Floating point error in optimization routine, skipping this iteration\n",
      "Matrix not positive definite, skipping this iteration\n",
      "Matrix not positive definite, skipping this iteration\n"
     ]
    },
    {
     "name": "stderr",
     "output_type": "stream",
     "text": [
      " 40%|████      | 2/5 [02:32<03:51, 77.10s/it]"
     ]
    },
    {
     "name": "stdout",
     "output_type": "stream",
     "text": [
      "Matrix not positive definite, skipping this iteration\n",
      "Matrix not positive definite, skipping this iteration\n"
     ]
    },
    {
     "name": "stderr",
     "output_type": "stream",
     "text": [
      " 60%|██████    | 3/5 [03:49<02:34, 77.06s/it]"
     ]
    },
    {
     "name": "stdout",
     "output_type": "stream",
     "text": [
      "Matrix not positive definite, skipping this iteration\n",
      "Matrix not positive definite, skipping this iteration\n"
     ]
    },
    {
     "name": "stderr",
     "output_type": "stream",
     "text": [
      " 80%|████████  | 4/5 [04:57<01:13, 73.25s/it]"
     ]
    },
    {
     "name": "stdout",
     "output_type": "stream",
     "text": [
      "Matrix not positive definite, skipping this iteration\n",
      "Floating point error in optimization routine, skipping this iteration\n"
     ]
    },
    {
     "name": "stderr",
     "output_type": "stream",
     "text": [
      "100%|██████████| 5/5 [06:13<00:00, 74.69s/it]\n"
     ]
    },
    {
     "data": {
      "image/png": "[encoded data removed]",
      "text/plain": [
       "<Figure size 400x400 with 1 Axes>"
      ]
     },
     "metadata": {},
     "output_type": "display_data"
    }
   ],
   "source": [
    "# Cross Validation for Kernel used in KAS\n",
    "# if the fit_GP_MAP fail increase the number of tries\n",
    "num_tries_fit_gp = 3\n",
    "\n",
    "def cross_validation_gKDR(data_input, data_output, K, gp=None, cxs=None, cys=None, \n",
    "                          num_fold=5, grid_size=5, num_tries_fit_gp=1):   \n",
    "    if cxs is None:\n",
    "        cxs = np.array([0.5+0.5*i for i in range(grid_size)])\n",
    "    if cys is None:\n",
    "        cys = np.array([0.5+0.5*i for i in range(grid_size)])\n",
    "    lx = len(cxs)\n",
    "    ly = len(cys)\n",
    "    assert lx == ly, \"cxs and cys must have the same length\"\n",
    "\n",
    "    _, d = data_input.shape\n",
    "    params = []\n",
    "    errors = []\n",
    "\n",
    "    e_star = np.inf\n",
    "    x_star = None\n",
    "    y_star = None\n",
    "    best_L = np.zeros(d)\n",
    "\n",
    "    for x in tqdm(cxs):\n",
    "        for y in cys:\n",
    "            min_L = np.zeros(d)\n",
    "            params.append((x,y))\n",
    "            e = np.zeros(num_fold)\n",
    "            L = np.zeros((num_fold, d))\n",
    "            data_set = np.concatenate([data_input, data_output], axis=1)\n",
    "            data_set = np.random.permutation(data_set)\n",
    "            data_set = np.array_split(data_set, num_fold)\n",
    "            for k_index in range(num_fold):\n",
    "                test_input, test_output = data_set[k_index][:,:-1], data_set[k_index][:,-1]\n",
    "                train = np.concatenate([data_set[i] for i in range(num_fold) if i != k_index])\n",
    "                train_input, train_output = train[:,:-1], train[:,-1]\n",
    "\n",
    "                gkdr = gKDR(train_input, train_output, X_scale=x, Y_scale=y, K=4)\n",
    "                reduced_train_input = gkdr(X=train_input)\n",
    "                reduced_test_input = gkdr(X=test_input)\n",
    "\n",
    "                gp = GaussianProcess(reduced_train_input, train_output, nugget=\"fit\")\n",
    "                gp_map = fit_GP_MAP(gp, n_tries=num_tries_fit_gp)\n",
    "                pred_means, _, _ = gp_map.predict(reduced_test_input)\n",
    "                e[k_index] = np.log(np.linalg.norm(pred_means - test_output))\n",
    "                L[k_index] = np.hstack((gkdr.L[0]*2, gkdr.L[1:]))\n",
    "            mean_error = np.mean(e)\n",
    "            mean_L = np.mean(L, axis=0)\n",
    "            errors.append(mean_error)\n",
    "            if mean_error < e_star:\n",
    "                e_star = mean_error\n",
    "                x_star = x\n",
    "                y_star = y\n",
    "                best_L = mean_L\n",
    "\n",
    "    return params, errors, best_L, (x_star, y_star, e_star)\n",
    "\n",
    "# Cross validation and hyperparameter tuning for kernel hyperparameters\n",
    "hyper_params, errors, best_L, (x_star, y_star, e_star) = cross_validation_gKDR(params_train, samples_train, K=d, \n",
    "                                                                           gp=GaussianProcess, grid_size=5, \n",
    "                                                                           num_tries_fit_gp=num_tries_fit_gp)\n",
    "\n",
    "\n",
    "# Visualize the Eigen values\n",
    "d_vals = 4\n",
    "\n",
    "# KAS eigenvalues\n",
    "eigvals_C_kas = best_L[0:d_vals] \n",
    "eigvals_C_kas /= eigvals_C_kas[0]\n",
    "\n",
    "\n",
    "# plot results.\n",
    "fig = plt.figure(figsize=[4, 4])\n",
    "ax1 = fig.add_subplot(111, yscale='log', title=r'%s eigenvalues, $d=%d$' % (r'$C_{KAS}$', d_vals), ylim=[1e-3, 2])\n",
    "ax1.set_ylabel(r'$\\lambda_i/\\lambda_1$', fontsize=12)\n",
    "ax1.set_xlabel(r'$i$', fontsize=12)\n",
    "ax1.scatter(range(1, d_vals + 1), eigvals_C_kas, marker='s', color='dodgerblue')\n",
    "ax1.set_xticks(np.arange(1, d_vals + 1, 1))\n",
    "sns.despine(top=True)"
   ]
  },
  {
   "cell_type": "markdown",
   "metadata": {},
   "source": [
    "### Fit a Gaussian Process Surrogate "
   ]
  },
  {
   "cell_type": "code",
   "execution_count": 10,
   "metadata": {},
   "outputs": [],
   "source": [
    "gkdr = gKDR(params_train, samples_train, X_scale=x_star, Y_scale=y_star, K=d)\n",
    "reduced_params_train = gkdr(X=params_train)\n",
    "reduced_params_test = gkdr(X=params_test)\n",
    "\n",
    "gp = GaussianProcess(reduced_params_train, samples_train.flatten(), nugget='fit')\n",
    "gp_map = fit_GP_MAP(gp)"
   ]
  },
  {
   "cell_type": "markdown",
   "metadata": {},
   "source": [
    "### Recreate the active subspace plot\n",
    "\n",
    "Plot the predictions in a 1D active subspace."
   ]
  },
  {
   "cell_type": "code",
   "execution_count": 11,
   "metadata": {},
   "outputs": [],
   "source": [
    "# run the surrogates at a number of random inputs locations\n",
    "n_mc = 1000\n",
    "pred_inputs = np.random.rand(n_mc, D) * 2 - 1\n",
    "reduced_pred_inputs = gkdr(X=pred_inputs)\n",
    "\n",
    "gp_samples_pred_mean = np.zeros(n_mc)\n",
    "gp_samples_pred_std = np.zeros(n_mc)\n",
    "for i in range(n_mc): \n",
    "    gp_samples_pred_mean[i], gp_samples_pred_std[i], _ = gp_map.predict(reduced_pred_inputs[i])"
   ]
  },
  {
   "cell_type": "code",
   "execution_count": 12,
   "metadata": {},
   "outputs": [
    {
     "data": {
      "image/png": "[encoded data removed]",
      "text/plain": [
       "<Figure size 400x400 with 1 Axes>"
      ]
     },
     "metadata": {},
     "output_type": "display_data"
    }
   ],
   "source": [
    "# QoI labels\n",
    "lbl = {'E11': r'$E_{11}$', 'poisson': r'Poisson ratio', 'bulk': 'Bulk modulus'}\n",
    "\n",
    "# plot DAS surrogate\n",
    "fig = plt.figure(figsize=[4, 4])\n",
    "ax = fig.add_subplot(111,  xlim=[-2,2])    #E11 range\n",
    "#ax = fig.add_subplot(111, ylim = [0.15, 0.45], xlim= [-2, 2]) # Poisson range\n",
    "ax.set_xlabel(r'$y_1$', fontsize=12)\n",
    "ax.set_ylabel(lbl[QoI], fontsize=12)\n",
    "ax.plot(reduced_params_train[:,0], samples_train, 's', color='dodgerblue', label='training data') \n",
    "ax.plot(reduced_params_test[:,0], samples_test, '^', color='lime', label='test data') \n",
    "ax.plot(reduced_pred_inputs[:,0], gp_samples_pred_mean, '+', color='salmon', label='Kernel-AS (d=%d)' % 1, alpha=0.5)\n",
    "          \n",
    "leg = ax.legend(loc=0, frameon=False)\n",
    "leg.set_draggable(True)\n",
    "sns.despine(top=True)\n",
    "plt.tight_layout()\n",
    "plt.savefig('./images/epoxy_surrogate_d1_%s.png' % (QoI, ))\n",
    "\n"
   ]
  },
  {
   "cell_type": "markdown",
   "metadata": {},
   "source": [
    "### Compute the Sensitivity Index"
   ]
  },
  {
   "cell_type": "code",
   "execution_count": 13,
   "metadata": {},
   "outputs": [
    {
     "data": {
      "image/png": "[encoded data removed]",
      "text/plain": [
       "<Figure size 400x1000 with 1 Axes>"
      ]
     },
     "metadata": {},
     "output_type": "display_data"
    }
   ],
   "source": [
    "eigen_vec = np.sum((gkdr.L)*gkdr.B**2, axis=1)\n",
    "sort_index = np.argsort(eigen_vec)[::-1]\n",
    "\n",
    "fig = plt.figure(figsize=[4, 10])\n",
    "ax = fig.add_subplot(111)\n",
    "ax.barh(np.arange(25),width=eigen_vec[sort_index][:25]/np.max(eigen_vec),color='dodgerblue')\n",
    "ax.set_yticks(range(25))\n",
    "ax.set_yticklabels(param_names[sort_index][0:25], fontsize=14)\n",
    "ax.invert_yaxis()\n",
    "sns.despine(top=True)\n",
    "plt.tight_layout()"
   ]
  }
 ],
 "metadata": {
  "kernelspec": {
   "display_name": "mac_m1",
   "language": "python",
   "name": "python3"
  },
  "language_info": {
   "codemirror_mode": {
    "name": "ipython",
    "version": 3
   },
   "file_extension": ".py",
   "mimetype": "text/x-python",
   "name": "python",
   "nbconvert_exporter": "python",
   "pygments_lexer": "ipython3",
   "version": "3.9.13"
  },
  "orig_nbformat": 4
 },
 "nbformat": 4,
 "nbformat_minor": 2
}
