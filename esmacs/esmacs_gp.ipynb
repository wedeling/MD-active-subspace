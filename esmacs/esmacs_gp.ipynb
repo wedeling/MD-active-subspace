{
 "cells": [
  {
   "cell_type": "markdown",
   "metadata": {},
   "source": [
    "## ESMACS binding free energy application KAS-GP Implementation\n",
    "\n",
    "Run this notebook to reproduce the Kernelized Active Subapce with Gaussian Process (KAS-GP) results for the esmacs application."
   ]
  },
  {
   "cell_type": "markdown",
   "metadata": {},
   "source": [
    "## Install MOGP\n",
    "\n",
    "The KAS-GP method is implemented in MOGP.\n",
    "Uncomment to install (development branch)"
   ]
  },
  {
   "cell_type": "code",
   "execution_count": 1,
   "metadata": {},
   "outputs": [],
   "source": [
    "#! pip install git+https://github.com/alan-turing-institute/mogp-emulator.git@devel"
   ]
  },
  {
   "cell_type": "code",
   "execution_count": 2,
   "metadata": {},
   "outputs": [],
   "source": [
    "import numpy as np\n",
    "import matplotlib.pyplot as plt\n",
    "import json\n",
    "import os\n",
    "import pandas as pd\n",
    "import seaborn as sns\n",
    "from tqdm import tqdm\n",
    "from mogp_emulator import gKDR, GaussianProcess, fit_GP_MAP\n",
    "\n",
    "\n",
    "RandomSeed = 2023\n",
    "np.random.seed(RandomSeed)\n",
    "\n",
    "%matplotlib inline\n",
    "plt.rcParams['image.cmap'] = 'seismic'\n",
    "plt.rcParams['savefig.dpi'] = 300\n"
   ]
  },
  {
   "cell_type": "markdown",
   "metadata": {},
   "source": [
    "### Load prior ranges\n",
    "\n",
    "The JSON files below contains all default values and boundaries used for specifying the Uniform input parameter distributions. "
   ]
  },
  {
   "cell_type": "code",
   "execution_count": 3,
   "metadata": {},
   "outputs": [
    {
     "data": {
      "text/plain": [
       "{'d01fc': {'default': 0.75, 'type': 'float'},\n",
       " 'd02fc': {'default': 0.25, 'type': 'float'},\n",
       " 'd03fc': {'default': 0.092, 'type': 'float'},\n",
       " 'd04fc': {'default': 0.612, 'type': 'float'},\n",
       " 'd05fc': {'default': 0.252, 'type': 'float'},\n",
       " 'd06fc': {'default': 0.03, 'type': 'float'},\n",
       " 'd07fc': {'default': 0.154, 'type': 'float'},\n",
       " 'd08fc': {'default': 0.486, 'type': 'float'},\n",
       " 'd09fc': {'default': 0.033, 'type': 'float'},\n",
       " 'd10fc': {'default': 1.0, 'type': 'float'},\n",
       " 'd11fc': {'default': 0.45, 'type': 'float'},\n",
       " 'd12fc': {'default': 0.0, 'type': 'float'},\n",
       " 'd13fc': {'default': 0.53, 'type': 'float'},\n",
       " 'd14fc': {'default': 0.15, 'type': 'float'},\n",
       " 'd15fc': {'default': 0.5, 'type': 'float'},\n",
       " 'd16fc': {'default': 1.5, 'type': 'float'},\n",
       " 'd17fc': {'default': 1.05, 'type': 'float'},\n",
       " 'd18fc': {'default': 10.5, 'type': 'float'},\n",
       " 'd19fc': {'default': 1.1, 'type': 'float'},\n",
       " 'd20fc': {'default': 1.0, 'type': 'float'},\n",
       " 'b01fc': {'default': 345.8, 'type': 'float'},\n",
       " 'b01ev': {'default': 1.086, 'type': 'float'},\n",
       " 'b02fc': {'default': 461.1, 'type': 'float'},\n",
       " 'b02ev': {'default': 1.3984, 'type': 'float'},\n",
       " 'b03fc': {'default': 637.7, 'type': 'float'},\n",
       " 'b03ev': {'default': 1.2183, 'type': 'float'},\n",
       " 'b04fc': {'default': 345.9, 'type': 'float'},\n",
       " 'b04ev': {'default': 1.4906, 'type': 'float'},\n",
       " 'b05fc': {'default': 450.2, 'type': 'float'},\n",
       " 'b05ev': {'default': 1.4058, 'type': 'float'},\n",
       " 'b06fc': {'default': 351.4, 'type': 'float'},\n",
       " 'b06ev': {'default': 1.4854, 'type': 'float'},\n",
       " 'b07fc': {'default': 330.6, 'type': 'float'},\n",
       " 'b07ev': {'default': 1.0969, 'type': 'float'},\n",
       " 'b08fc': {'default': 313.0, 'type': 'float'},\n",
       " 'b08ev': {'default': 1.5241, 'type': 'float'},\n",
       " 'b09fc': {'default': 427.6, 'type': 'float'},\n",
       " 'b09ev': {'default': 1.3789, 'type': 'float'},\n",
       " 'b10fc': {'default': 384.2, 'type': 'float'},\n",
       " 'b10ev': {'default': 1.4121, 'type': 'float'},\n",
       " 'b11fc': {'default': 300.9, 'type': 'float'},\n",
       " 'b11ev': {'default': 1.5375, 'type': 'float'},\n",
       " 'b12fc': {'default': 330.6, 'type': 'float'},\n",
       " 'b12ev': {'default': 1.0969, 'type': 'float'},\n",
       " 'b13fc': {'default': 328.7, 'type': 'float'},\n",
       " 'b13ev': {'default': 1.4619, 'type': 'float'},\n",
       " 'b14fc': {'default': 321.0, 'type': 'float'},\n",
       " 'b14ev': {'default': 1.5156, 'type': 'float'},\n",
       " 'b15fc': {'default': 404.6, 'type': 'float'},\n",
       " 'b15ev': {'default': 1.0121, 'type': 'float'},\n",
       " 'b16fc': {'default': 326.6, 'type': 'float'},\n",
       " 'b16ev': {'default': 1.464, 'type': 'float'},\n",
       " 'b17fc': {'default': 417.9, 'type': 'float'},\n",
       " 'b17ev': {'default': 1.3859, 'type': 'float'},\n",
       " 'b18fc': {'default': 305.6, 'type': 'float'},\n",
       " 'b18ev': {'default': 1.7502, 'type': 'float'},\n",
       " 'box_size': {'default': 14.0, 'type': 'float'},\n",
       " 'cutoff': {'default': 12.0, 'type': 'float'},\n",
       " 'switching': {'default': 'on', 'type': 'string'},\n",
       " 'timestep': {'default': 2.0, 'type': 'float'},\n",
       " 'rigidBonds': {'default': 'all', 'type': 'string'},\n",
       " 'rigidtolerance': {'default': 1e-05, 'type': 'float'},\n",
       " 'rigidIterations': {'default': 100, 'type': 'integer'},\n",
       " 'nonbondedFreq': {'default': 1, 'type': 'integer'},\n",
       " 'fullElectFrequency': {'default': 2, 'type': 'integer'},\n",
       " 'stepspercycle': {'default': 10, 'type': 'integer'},\n",
       " 'PMEGridSpacing': {'default': 1.0, 'type': 'float'},\n",
       " 'minimize_eq0': {'default': 1000, 'type': 'integer'},\n",
       " 'rng_seed_eq1': {'default': 12345, 'type': 'integer'},\n",
       " 'initTemperature_eq1': {'default': 50.0, 'type': 'float'},\n",
       " 'reassignFreq_eq1': {'default': 100, 'type': 'integer'},\n",
       " 'reassignIncr_eq1': {'default': 1.0, 'type': 'float'},\n",
       " 'langevinDamping': {'default': 5.0, 'type': 'float'},\n",
       " 'langevinHydrogen': {'default': 'no', 'type': 'string'},\n",
       " 'useGroupPressure': {'default': 'yes', 'type': 'string'},\n",
       " 'BerendsenPressureCompressibility': {'default': 4.57e-05, 'type': 'float'},\n",
       " 'BerendsenPressureRelaxationTime': {'default': 100.0, 'type': 'float'},\n",
       " 'BerendsenPressureFreq': {'default': 2, 'type': 'integer'},\n",
       " 'setTemperature': {'default': 300.0, 'type': 'float'},\n",
       " 'time_factor_eq': {'default': 60000.0, 'type': 'float'},\n",
       " 'BerendsenPressureTarget': {'default': 1.01325, 'type': 'float'},\n",
       " 'time_sim1': {'default': 10000000.0, 'type': 'float'},\n",
       " 'p01rm': {'default': 1.824, 'type': 'float'},\n",
       " 'p01ep': {'default': 0.17, 'type': 'float'},\n",
       " 'p02rm': {'default': 0.6, 'type': 'float'},\n",
       " 'p02ep': {'default': 0.0157, 'type': 'float'},\n",
       " 'p03rm': {'default': 1.908, 'type': 'float'},\n",
       " 'p03ep': {'default': 0.1094, 'type': 'float'},\n",
       " 'p04rm': {'default': 1.1, 'type': 'float'},\n",
       " 'p04ep': {'default': 0.0157, 'type': 'float'},\n",
       " 'p05rm': {'default': 1.387, 'type': 'float'},\n",
       " 'p05ep': {'default': 0.0157, 'type': 'float'},\n",
       " 'p06rm': {'default': 1.721, 'type': 'float'},\n",
       " 'p06ep': {'default': 0.2104, 'type': 'float'},\n",
       " 'p07rm': {'default': 0.0, 'type': 'float'},\n",
       " 'p07ep': {'default': 0.0, 'type': 'float'},\n",
       " 'p08rm': {'default': 1.908, 'type': 'float'},\n",
       " 'p08ep': {'default': 0.086, 'type': 'float'},\n",
       " 'p09rm': {'default': 1.6612, 'type': 'float'},\n",
       " 'p09ep': {'default': 0.21, 'type': 'float'},\n",
       " 'p10rm': {'default': 1.487, 'type': 'float'},\n",
       " 'p10ep': {'default': 0.0157, 'type': 'float'},\n",
       " 'p11rm': {'default': 2.0, 'type': 'float'},\n",
       " 'p11ep': {'default': 0.25, 'type': 'float'},\n",
       " 'p12rm': {'default': 1.459, 'type': 'float'},\n",
       " 'p12ep': {'default': 0.015, 'type': 'float'},\n",
       " 'p13rm': {'default': 1.409, 'type': 'float'},\n",
       " 'p13ep': {'default': 0.015, 'type': 'float'},\n",
       " 'p14rm': {'default': 1.359, 'type': 'float'},\n",
       " 'p14ep': {'default': 0.015, 'type': 'float'},\n",
       " 'p15rm': {'default': 1.9480000000000002, 'type': 'float'},\n",
       " 'p15ep': {'default': 0.265, 'type': 'float'},\n",
       " 'p16rm': {'default': 1.7683, 'type': 'float'},\n",
       " 'p16ep': {'default': 0.152, 'type': 'float'},\n",
       " 'p17rm': {'default': 0.0, 'type': 'float'},\n",
       " 'p17ep': {'default': 0.0, 'type': 'float'},\n",
       " 'a01fc': {'default': 48.2, 'type': 'float'},\n",
       " 'a01ev': {'default': 2.0923016, 'type': 'float'},\n",
       " 'a02fc': {'default': 77.9, 'type': 'float'},\n",
       " 'a02ev': {'default': 2.27329233, 'type': 'float'},\n",
       " 'a03fc': {'default': 64.3, 'type': 'float'},\n",
       " 'a03ev': {'default': 2.10015559, 'type': 'float'},\n",
       " 'a04fc': {'default': 68.7, 'type': 'float'},\n",
       " 'a04ev': {'default': 2.13977458, 'type': 'float'},\n",
       " 'a05fc': {'default': 66.6, 'type': 'float'},\n",
       " 'a05ev': {'default': 2.09474507, 'type': 'float'},\n",
       " 'a06fc': {'default': 66.7, 'type': 'float'},\n",
       " 'a06ev': {'default': 2.06612165, 'type': 'float'},\n",
       " 'a07fc': {'default': 48.0, 'type': 'float'},\n",
       " 'a07ev': {'default': 2.09195254, 'type': 'float'},\n",
       " 'a08fc': {'default': 66.3, 'type': 'float'},\n",
       " 'a08ev': {'default': 2.10643878, 'type': 'float'},\n",
       " 'a09fc': {'default': 64.0, 'type': 'float'},\n",
       " 'a09ev': {'default': 2.11376916, 'type': 'float'},\n",
       " 'a10fc': {'default': 39.4, 'type': 'float'},\n",
       " 'a10ev': {'default': 1.87762601, 'type': 'float'},\n",
       " 'a11fc': {'default': 67.4, 'type': 'float'},\n",
       " 'a11ev': {'default': 2.15024656, 'type': 'float'},\n",
       " 'a12fc': {'default': 63.8, 'type': 'float'},\n",
       " 'a12ev': {'default': 2.15914774, 'type': 'float'},\n",
       " 'a13fc': {'default': 46.9, 'type': 'float'},\n",
       " 'a13ev': {'default': 1.89839544, 'type': 'float'},\n",
       " 'a14fc': {'default': 66.8, 'type': 'float'},\n",
       " 'a14ev': {'default': 2.01027109, 'type': 'float'},\n",
       " 'a15fc': {'default': 74.2, 'type': 'float'},\n",
       " 'a15ev': {'default': 2.14762857, 'type': 'float'},\n",
       " 'a16fc': {'default': 67.9, 'type': 'float'},\n",
       " 'a16ev': {'default': 2.09771213, 'type': 'float'},\n",
       " 'a17fc': {'default': 49.8, 'type': 'float'},\n",
       " 'a17ev': {'default': 1.9003153, 'type': 'float'},\n",
       " 'a18fc': {'default': 46.4, 'type': 'float'},\n",
       " 'a18ev': {'default': 1.91218355, 'type': 'float'},\n",
       " 'a19fc': {'default': 65.9, 'type': 'float'},\n",
       " 'a19ev': {'default': 1.94796281, 'type': 'float'},\n",
       " 'a20fc': {'default': 46.3, 'type': 'float'},\n",
       " 'a20ev': {'default': 1.91637234, 'type': 'float'},\n",
       " 'a21fc': {'default': 63.4, 'type': 'float'},\n",
       " 'a21ev': {'default': 2.10643878, 'type': 'float'},\n",
       " 'a22fc': {'default': 63.0, 'type': 'float'},\n",
       " 'a22ev': {'default': 2.09142894, 'type': 'float'},\n",
       " 'a23fc': {'default': 63.1, 'type': 'float'},\n",
       " 'a23ev': {'default': 1.95599133, 'type': 'float'},\n",
       " 'a24fc': {'default': 62.9, 'type': 'float'},\n",
       " 'a24ev': {'default': 1.94621748, 'type': 'float'},\n",
       " 'a25fc': {'default': 47.0, 'type': 'float'},\n",
       " 'a25ev': {'default': 1.91218355, 'type': 'float'},\n",
       " 'a26fc': {'default': 63.5, 'type': 'float'},\n",
       " 'a26ev': {'default': 2.10783504, 'type': 'float'},\n",
       " 'a27fc': {'default': 46.1, 'type': 'float'},\n",
       " 'a27ev': {'default': 2.02440827, 'type': 'float'},\n",
       " 'a28fc': {'default': 49.6, 'type': 'float'},\n",
       " 'a28ev': {'default': 1.91619781, 'type': 'float'},\n",
       " 'a29fc': {'default': 66.2, 'type': 'float'},\n",
       " 'a29ev': {'default': 1.92789152, 'type': 'float'},\n",
       " 'a30fc': {'default': 66.5, 'type': 'float'},\n",
       " 'a30ev': {'default': 1.94412309, 'type': 'float'},\n",
       " 'a31fc': {'default': 48.4, 'type': 'float'},\n",
       " 'a31ev': {'default': 2.02580453, 'type': 'float'},\n",
       " 'a32fc': {'default': 63.4, 'type': 'float'},\n",
       " 'a32ev': {'default': 2.09404693, 'type': 'float'},\n",
       " 'a33fc': {'default': 68.3, 'type': 'float'},\n",
       " 'a33ev': {'default': 2.11097664, 'type': 'float'},\n",
       " 'a34fc': {'default': 57.9, 'type': 'float'},\n",
       " 'a34ev': {'default': 2.08374949, 'type': 'float'}}"
      ]
     },
     "execution_count": 3,
     "metadata": {},
     "output_type": "execute_result"
    }
   ],
   "source": [
    "# Load the EasyVVUQ params dicts, containing the default values and type of each input\n",
    "priors = {}\n",
    "# there are 5 inputs files, each with a seperate params dict\n",
    "prior_fnames = os.listdir('./priors')\n",
    "for fname in prior_fnames:\n",
    "    prior = json.load(open('./priors/%s' % fname, 'r'))\n",
    "    priors = priors | prior\n",
    "priors"
   ]
  },
  {
   "cell_type": "markdown",
   "metadata": {},
   "source": [
    "### Load input parameter values\n",
    "\n",
    "Load the Monte Carlo values of the inputs."
   ]
  },
  {
   "cell_type": "code",
   "execution_count": 4,
   "metadata": {},
   "outputs": [],
   "source": [
    "# input parameters\n",
    "params = pd.read_csv('./data_esmacs/esmacs_inputs.csv')\n",
    "param_names = params.keys()\n",
    "params = params.values\n",
    "\n",
    "# number of code samples\n",
    "n_samples = params.shape[0]\n",
    "\n",
    "# number of inputs\n",
    "D = params.shape[1]\n",
    "\n",
    "p_max = np.array([priors[name]['default'] * 1.15 for name in param_names])\n",
    "p_min = np.array([priors[name]['default'] * 0.85 for name in param_names])\n",
    "\n",
    "# except the temperature\n",
    "idx_T = np.where(param_names == 'setTemperature')[0]\n",
    "p_max[idx_T] = np.array(priors['setTemperature']['default'] * 1.075)\n",
    "p_min[idx_T] = np.array(priors['setTemperature']['default'] * 0.925)\n",
    "\n",
    "# scale inputs within [-1, 1]\n",
    "params = (params - 0.5 * (p_min + p_max)) / (0.5 * (p_max - p_min))"
   ]
  },
  {
   "cell_type": "markdown",
   "metadata": {},
   "source": [
    "### Load output samples\n",
    "\n",
    "Load the corresponding Monte Carlo outputs, in the case the binding free energy predictions."
   ]
  },
  {
   "cell_type": "code",
   "execution_count": 5,
   "metadata": {},
   "outputs": [],
   "source": [
    "QoI = 'binding_energy'\n",
    "output = pd.read_csv('./data_esmacs/%s_output.csv' % (QoI,)).values"
   ]
  },
  {
   "cell_type": "markdown",
   "metadata": {},
   "source": [
    "### Average over the random seeds (or not)\n",
    "\n",
    "Each parameter value was replicated several times, changing only the random seed of the initial condition."
   ]
  },
  {
   "cell_type": "code",
   "execution_count": 6,
   "metadata": {},
   "outputs": [],
   "source": [
    "average_over_replicas = True\n",
    "\n",
    "if not average_over_replicas:\n",
    "    samples = output[:, 0].reshape([-1, 1])\n",
    "    samples = samples - np.mean(samples)/np.std(samples)\n",
    "else:\n",
    "    samples = np.mean(output, axis=1, keepdims=True)\n",
    "    samples = (samples - np.mean(samples))/np.std(samples)"
   ]
  },
  {
   "cell_type": "markdown",
   "metadata": {},
   "source": [
    "### Train / test split"
   ]
  },
  {
   "cell_type": "code",
   "execution_count": 7,
   "metadata": {},
   "outputs": [],
   "source": [
    "# test fraction\n",
    "test_frac = 0.1\n",
    "# indices of the test set\n",
    "test_idx = int((1 - test_frac) * n_samples)\n",
    "# training set\n",
    "params_train = params[0:test_idx, :]\n",
    "samples_train = samples[0:test_idx, :]\n",
    "# test set\n",
    "params_test = params[test_idx:, :]\n",
    "samples_test = samples[test_idx:, :]"
   ]
  },
  {
   "cell_type": "markdown",
   "metadata": {},
   "source": [
    "### Select $d$\n",
    "\n",
    "This is the dimension of the active subspace."
   ]
  },
  {
   "cell_type": "code",
   "execution_count": 8,
   "metadata": {},
   "outputs": [],
   "source": [
    "d = 1"
   ]
  },
  {
   "cell_type": "markdown",
   "metadata": {},
   "source": [
    "### Cross Validation for Kernel used in KAS"
   ]
  },
  {
   "cell_type": "code",
   "execution_count": 9,
   "metadata": {},
   "outputs": [
    {
     "name": "stderr",
     "output_type": "stream",
     "text": [
      "  0%|          | 0/5 [00:00<?, ?it/s]"
     ]
    },
    {
     "name": "stdout",
     "output_type": "stream",
     "text": [
      "Matrix not positive definite, skipping this iteration\n"
     ]
    },
    {
     "name": "stderr",
     "output_type": "stream",
     "text": [
      " 60%|██████    | 3/5 [10:31<07:03, 211.52s/it]"
     ]
    },
    {
     "name": "stdout",
     "output_type": "stream",
     "text": [
      "Matrix not positive definite, skipping this iteration\n",
      "Matrix not positive definite, skipping this iteration\n"
     ]
    },
    {
     "name": "stderr",
     "output_type": "stream",
     "text": [
      " 80%|████████  | 4/5 [13:54<03:28, 208.10s/it]"
     ]
    },
    {
     "name": "stdout",
     "output_type": "stream",
     "text": [
      "Matrix not positive definite, skipping this iteration\n"
     ]
    },
    {
     "name": "stderr",
     "output_type": "stream",
     "text": [
      "100%|██████████| 5/5 [17:17<00:00, 207.40s/it]\n"
     ]
    },
    {
     "data": {
      "image/png": "[encoded data removed]",
      "text/plain": [
       "<Figure size 400x400 with 1 Axes>"
      ]
     },
     "metadata": {},
     "output_type": "display_data"
    }
   ],
   "source": [
    "# Cross Validation for Kernel used in KAS\n",
    "# if the fit_GP_MAP fail increase the number of tries\n",
    "num_tries_fit_gp = 3\n",
    "\n",
    "def cross_validation_gKDR(data_input, data_output, K, gp=None, cxs=None, cys=None, \n",
    "                          num_fold=5, grid_size=5, num_tries_fit_gp=1):   \n",
    "    if cxs is None:\n",
    "        cxs = np.array([0.5+0.5*i for i in range(grid_size)])\n",
    "    if cys is None:\n",
    "        cys = np.array([0.5+0.5*i for i in range(grid_size)])\n",
    "    lx = len(cxs)\n",
    "    ly = len(cys)\n",
    "    assert lx == ly, \"cxs and cys must have the same length\"\n",
    "\n",
    "    _, d = data_input.shape\n",
    "    params = []\n",
    "    errors = []\n",
    "\n",
    "    e_star = np.inf\n",
    "    x_star = None\n",
    "    y_star = None\n",
    "    best_L = np.zeros(d)\n",
    "\n",
    "    for x in tqdm(cxs):\n",
    "        for y in cys:\n",
    "            min_L = np.zeros(d)\n",
    "            params.append((x,y))\n",
    "            e = np.zeros(num_fold)\n",
    "            L = np.zeros((num_fold, d))\n",
    "            data_set = np.concatenate([data_input, data_output], axis=1)\n",
    "            data_set = np.random.permutation(data_set)\n",
    "            data_set = np.array_split(data_set, num_fold)\n",
    "            for k_index in range(num_fold):\n",
    "                test_input, test_output = data_set[k_index][:,:-1], data_set[k_index][:,-1]\n",
    "                train = np.concatenate([data_set[i] for i in range(num_fold) if i != k_index])\n",
    "                train_input, train_output = train[:,:-1], train[:,-1]\n",
    "\n",
    "                gkdr = gKDR(train_input, train_output, X_scale=x, Y_scale=y, K=4)\n",
    "                reduced_train_input = gkdr(X=train_input)\n",
    "                reduced_test_input = gkdr(X=test_input)\n",
    "\n",
    "                gp = GaussianProcess(reduced_train_input, train_output, nugget=\"fit\")\n",
    "                gp_map = fit_GP_MAP(gp, n_tries=num_tries_fit_gp)\n",
    "                pred_means, _, _ = gp_map.predict(reduced_test_input)\n",
    "                e[k_index] = np.log(np.linalg.norm(pred_means - test_output))\n",
    "                L[k_index] = np.hstack((gkdr.L[0]*2, gkdr.L[1:]))\n",
    "            mean_error = np.mean(e)\n",
    "            mean_L = np.mean(L, axis=0)\n",
    "            errors.append(mean_error)\n",
    "            if mean_error < e_star:\n",
    "                e_star = mean_error\n",
    "                x_star = x\n",
    "                y_star = y\n",
    "                best_L = mean_L\n",
    "\n",
    "    return params, errors, best_L, (x_star, y_star, e_star)\n",
    "\n",
    "# Cross validation and hyperparameter tuning for kernel hyperparameters\n",
    "hyper_params, errors, best_L, (x_star, y_star, e_star) = cross_validation_gKDR(params_train, samples_train, K=d, \n",
    "                                                                           gp=GaussianProcess, grid_size=5, \n",
    "                                                                           num_tries_fit_gp=num_tries_fit_gp)\n",
    "\n",
    "\n",
    "# Visualize the Eigen values\n",
    "d_vals = 4\n",
    "\n",
    "# KAS eigenvalues\n",
    "eigvals_C_kas = best_L[0:d_vals] \n",
    "eigvals_C_kas /= eigvals_C_kas[0]\n",
    "\n",
    "\n",
    "# plot results.\n",
    "fig = plt.figure(figsize=[4, 4])\n",
    "ax1 = fig.add_subplot(111, yscale='log', title=r'%s eigenvalues, $d=%d$' % (r'$C_{KAS}$', d_vals), ylim=[1e-3, 2])\n",
    "ax1.set_ylabel(r'$\\lambda_i/\\lambda_1$', fontsize=12)\n",
    "ax1.set_xlabel(r'$i$', fontsize=12)\n",
    "ax1.scatter(range(1, d_vals + 1), eigvals_C_kas, marker='s', color='dodgerblue')\n",
    "ax1.set_xticks(np.arange(1, d_vals + 1, 1))\n",
    "sns.despine(top=True)"
   ]
  },
  {
   "cell_type": "markdown",
   "metadata": {},
   "source": [
    "### Fit a Gaussian Process Surrogate "
   ]
  },
  {
   "cell_type": "code",
   "execution_count": 10,
   "metadata": {},
   "outputs": [],
   "source": [
    "gkdr = gKDR(params_train, samples_train, X_scale=x_star, Y_scale=y_star, K=d)\n",
    "reduced_params_train = gkdr(X=params_train)\n",
    "reduced_params_test = gkdr(X=params_test)\n",
    "\n",
    "gp = GaussianProcess(reduced_params_train, samples_train.flatten(), nugget='fit')\n",
    "gp_map = fit_GP_MAP(gp)"
   ]
  },
  {
   "cell_type": "markdown",
   "metadata": {},
   "source": [
    "### Recreate the active subspace plot\n",
    "\n",
    "Plot the predictions in a 1D active subspace."
   ]
  },
  {
   "cell_type": "code",
   "execution_count": 11,
   "metadata": {},
   "outputs": [],
   "source": [
    "# run the surrogates at a number of random inputs locations\n",
    "n_mc = 1000\n",
    "pred_inputs = np.random.rand(n_mc, D) * 2 - 1\n",
    "reduced_pred_inputs = gkdr(X=pred_inputs)\n",
    "\n",
    "gp_samples_pred_mean = np.zeros(n_mc)\n",
    "gp_samples_pred_std = np.zeros(n_mc)\n",
    "for i in range(n_mc): \n",
    "    gp_samples_pred_mean[i], gp_samples_pred_std[i], _ = gp_map.predict(reduced_pred_inputs[i])"
   ]
  },
  {
   "cell_type": "code",
   "execution_count": 13,
   "metadata": {},
   "outputs": [
    {
     "data": {
      "image/png": "[encoded data removed]",
      "text/plain": [
       "<Figure size 400x400 with 1 Axes>"
      ]
     },
     "metadata": {},
     "output_type": "display_data"
    }
   ],
   "source": [
    "# QoI labels\n",
    "lbl = {QoI: r'binding free energy'}\n",
    "\n",
    "# plot DAS surrogate\n",
    "fig = plt.figure(figsize=[4, 4])\n",
    "ax = fig.add_subplot(111,  xlim=[-2,2])    #E11 range\n",
    "#ax = fig.add_subplot(111, ylim = [0.15, 0.45], xlim= [-2, 2]) # Poisson range\n",
    "ax.set_xlabel(r'$y_1$', fontsize=12)\n",
    "ax.set_ylabel(lbl[QoI], fontsize=12)\n",
    "ax.plot(reduced_params_train[:,0], samples_train, 's', color='dodgerblue', label='training data') \n",
    "ax.plot(reduced_params_test[:,0], samples_test, '^', color='lime', label='test data') \n",
    "ax.plot(reduced_pred_inputs[:,0], gp_samples_pred_mean, '+', color='salmon', label='Kernel-AS (d=%d)' % 1, alpha=0.5)\n",
    "          \n",
    "leg = ax.legend(loc=0, frameon=False)\n",
    "leg.set_draggable(True)\n",
    "sns.despine(top=True)\n",
    "plt.tight_layout()\n",
    "\n"
   ]
  },
  {
   "cell_type": "markdown",
   "metadata": {},
   "source": [
    "### Compute the Sensitivity Index"
   ]
  },
  {
   "cell_type": "code",
   "execution_count": null,
   "metadata": {},
   "outputs": [
    {
     "data": {
      "image/png": "[encoded data removed]",
      "text/plain": [
       "<Figure size 400x1000 with 1 Axes>"
      ]
     },
     "metadata": {},
     "output_type": "display_data"
    }
   ],
   "source": [
    "eigen_vec = np.sum((gkdr.L)*gkdr.B**2, axis=1)\n",
    "sort_index = np.argsort(eigen_vec)[::-1]\n",
    "\n",
    "fig = plt.figure(figsize=[4, 10])\n",
    "ax = fig.add_subplot(111)\n",
    "ax.barh(np.arange(25),width=eigen_vec[sort_index][:25]/np.max(eigen_vec),color='dodgerblue')\n",
    "ax.set_yticks(range(25))\n",
    "ax.set_yticklabels(param_names[sort_index][0:25], fontsize=14)\n",
    "ax.invert_yaxis()\n",
    "sns.despine(top=True)\n",
    "plt.tight_layout()"
   ]
  }
 ],
 "metadata": {
  "kernelspec": {
   "display_name": "mac_m1",
   "language": "python",
   "name": "python3"
  },
  "language_info": {
   "codemirror_mode": {
    "name": "ipython",
    "version": 3
   },
   "file_extension": ".py",
   "mimetype": "text/x-python",
   "name": "python",
   "nbconvert_exporter": "python",
   "pygments_lexer": "ipython3",
   "version": "3.9.13"
  },
  "orig_nbformat": 4
 },
 "nbformat": 4,
 "nbformat_minor": 2
}
