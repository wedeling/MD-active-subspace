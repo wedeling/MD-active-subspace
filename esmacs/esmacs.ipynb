{
 "cells": [
  {
   "cell_type": "markdown",
   "id": "461b100d",
   "metadata": {},
   "source": [
    "## ESMACS binding free energy application\n",
    "\n",
    "Run this notebook to reproduce the Deep Active Subspace (DAS) results for the ESMACS application. Small variation in the results will occur due to the stochastic nature of the training procedure.\n",
    "\n",
    "### Reference\n",
    "\n",
    "*Global ranking of the sensitivity of interaction potential contributions within classical molecular dynamics force fields*, (submitted), 2023."
   ]
  },
  {
   "cell_type": "markdown",
   "id": "4859dcb2",
   "metadata": {},
   "source": [
    "### Install EasySurrogate\n",
    "\n",
    "The Deep Active Subspace method is implemented in EasySurrogate. Uncomment to install."
   ]
  },
  {
   "cell_type": "code",
   "execution_count": 1,
   "id": "2c601e61",
   "metadata": {},
   "outputs": [],
   "source": [
    "#!pip install easysurrogate==0.24.1"
   ]
  },
  {
   "cell_type": "code",
   "execution_count": 2,
   "id": "2defd753",
   "metadata": {},
   "outputs": [],
   "source": [
    "import numpy as np\n",
    "import matplotlib.pyplot as plt\n",
    "import easysurrogate as es\n",
    "from scipy import linalg, stats\n",
    "import pandas as pd\n",
    "import json\n",
    "import os\n",
    "import seaborn as sns\n",
    "from tqdm import tqdm"
   ]
  },
  {
   "cell_type": "markdown",
   "id": "ae394479",
   "metadata": {},
   "source": [
    "Several subroutines specific to this article are located in `../utils/utils.py`. Import this module."
   ]
  },
  {
   "cell_type": "code",
   "execution_count": 3,
   "id": "1df9d792",
   "metadata": {},
   "outputs": [],
   "source": [
    "import sys\n",
    "sys.path.insert(1, '../')\n",
    "from utils.utils import plot_sensitivity, plot_errors, plot_dist, early_stopping"
   ]
  },
  {
   "cell_type": "code",
   "execution_count": 4,
   "id": "e947a0de",
   "metadata": {},
   "outputs": [],
   "source": [
    "%matplotlib inline\n",
    "# save figures at 300 dpi\n",
    "plt.rcParams['savefig.dpi'] = 300"
   ]
  },
  {
   "cell_type": "markdown",
   "id": "41de8c9a",
   "metadata": {},
   "source": [
    "### Load prior ranges\n",
    "\n",
    "The JSON files below contains all default values and boundaries used for specifying the Uniform input parameter distributions. "
   ]
  },
  {
   "cell_type": "code",
   "execution_count": 5,
   "id": "bd36fb62",
   "metadata": {},
   "outputs": [
    {
     "data": {
      "text/plain": [
       "{'d01fc': {'default': 0.75, 'type': 'float'},\n",
       " 'd02fc': {'default': 0.25, 'type': 'float'},\n",
       " 'd03fc': {'default': 0.092, 'type': 'float'},\n",
       " 'd04fc': {'default': 0.612, 'type': 'float'},\n",
       " 'd05fc': {'default': 0.252, 'type': 'float'},\n",
       " 'd06fc': {'default': 0.03, 'type': 'float'},\n",
       " 'd07fc': {'default': 0.154, 'type': 'float'},\n",
       " 'd08fc': {'default': 0.486, 'type': 'float'},\n",
       " 'd09fc': {'default': 0.033, 'type': 'float'},\n",
       " 'd10fc': {'default': 1.0, 'type': 'float'},\n",
       " 'd11fc': {'default': 0.45, 'type': 'float'},\n",
       " 'd12fc': {'default': 0.0, 'type': 'float'},\n",
       " 'd13fc': {'default': 0.53, 'type': 'float'},\n",
       " 'd14fc': {'default': 0.15, 'type': 'float'},\n",
       " 'd15fc': {'default': 0.5, 'type': 'float'},\n",
       " 'd16fc': {'default': 1.5, 'type': 'float'},\n",
       " 'd17fc': {'default': 1.05, 'type': 'float'},\n",
       " 'd18fc': {'default': 10.5, 'type': 'float'},\n",
       " 'd19fc': {'default': 1.1, 'type': 'float'},\n",
       " 'd20fc': {'default': 1.0, 'type': 'float'},\n",
       " 'box_size': {'default': 14.0, 'type': 'float'},\n",
       " 'cutoff': {'default': 12.0, 'type': 'float'},\n",
       " 'switching': {'default': 'on', 'type': 'string'},\n",
       " 'timestep': {'default': 2.0, 'type': 'float'},\n",
       " 'rigidBonds': {'default': 'all', 'type': 'string'},\n",
       " 'rigidtolerance': {'default': 1e-05, 'type': 'float'},\n",
       " 'rigidIterations': {'default': 100, 'type': 'integer'},\n",
       " 'nonbondedFreq': {'default': 1, 'type': 'integer'},\n",
       " 'fullElectFrequency': {'default': 2, 'type': 'integer'},\n",
       " 'stepspercycle': {'default': 10, 'type': 'integer'},\n",
       " 'PMEGridSpacing': {'default': 1.0, 'type': 'float'},\n",
       " 'minimize_eq0': {'default': 1000, 'type': 'integer'},\n",
       " 'rng_seed_eq1': {'default': 12345, 'type': 'integer'},\n",
       " 'initTemperature_eq1': {'default': 50.0, 'type': 'float'},\n",
       " 'reassignFreq_eq1': {'default': 100, 'type': 'integer'},\n",
       " 'reassignIncr_eq1': {'default': 1.0, 'type': 'float'},\n",
       " 'langevinDamping': {'default': 5.0, 'type': 'float'},\n",
       " 'langevinHydrogen': {'default': 'no', 'type': 'string'},\n",
       " 'useGroupPressure': {'default': 'yes', 'type': 'string'},\n",
       " 'BerendsenPressureCompressibility': {'default': 4.57e-05, 'type': 'float'},\n",
       " 'BerendsenPressureRelaxationTime': {'default': 100.0, 'type': 'float'},\n",
       " 'BerendsenPressureFreq': {'default': 2, 'type': 'integer'},\n",
       " 'setTemperature': {'default': 300.0, 'type': 'float'},\n",
       " 'time_factor_eq': {'default': 60000.0, 'type': 'float'},\n",
       " 'BerendsenPressureTarget': {'default': 1.01325, 'type': 'float'},\n",
       " 'time_sim1': {'default': 10000000.0, 'type': 'float'},\n",
       " 'b01fc': {'default': 345.8, 'type': 'float'},\n",
       " 'b01ev': {'default': 1.086, 'type': 'float'},\n",
       " 'b02fc': {'default': 461.1, 'type': 'float'},\n",
       " 'b02ev': {'default': 1.3984, 'type': 'float'},\n",
       " 'b03fc': {'default': 637.7, 'type': 'float'},\n",
       " 'b03ev': {'default': 1.2183, 'type': 'float'},\n",
       " 'b04fc': {'default': 345.9, 'type': 'float'},\n",
       " 'b04ev': {'default': 1.4906, 'type': 'float'},\n",
       " 'b05fc': {'default': 450.2, 'type': 'float'},\n",
       " 'b05ev': {'default': 1.4058, 'type': 'float'},\n",
       " 'b06fc': {'default': 351.4, 'type': 'float'},\n",
       " 'b06ev': {'default': 1.4854, 'type': 'float'},\n",
       " 'b07fc': {'default': 330.6, 'type': 'float'},\n",
       " 'b07ev': {'default': 1.0969, 'type': 'float'},\n",
       " 'b08fc': {'default': 313.0, 'type': 'float'},\n",
       " 'b08ev': {'default': 1.5241, 'type': 'float'},\n",
       " 'b09fc': {'default': 427.6, 'type': 'float'},\n",
       " 'b09ev': {'default': 1.3789, 'type': 'float'},\n",
       " 'b10fc': {'default': 384.2, 'type': 'float'},\n",
       " 'b10ev': {'default': 1.4121, 'type': 'float'},\n",
       " 'b11fc': {'default': 300.9, 'type': 'float'},\n",
       " 'b11ev': {'default': 1.5375, 'type': 'float'},\n",
       " 'b12fc': {'default': 330.6, 'type': 'float'},\n",
       " 'b12ev': {'default': 1.0969, 'type': 'float'},\n",
       " 'b13fc': {'default': 328.7, 'type': 'float'},\n",
       " 'b13ev': {'default': 1.4619, 'type': 'float'},\n",
       " 'b14fc': {'default': 321.0, 'type': 'float'},\n",
       " 'b14ev': {'default': 1.5156, 'type': 'float'},\n",
       " 'b15fc': {'default': 404.6, 'type': 'float'},\n",
       " 'b15ev': {'default': 1.0121, 'type': 'float'},\n",
       " 'b16fc': {'default': 326.6, 'type': 'float'},\n",
       " 'b16ev': {'default': 1.464, 'type': 'float'},\n",
       " 'b17fc': {'default': 417.9, 'type': 'float'},\n",
       " 'b17ev': {'default': 1.3859, 'type': 'float'},\n",
       " 'b18fc': {'default': 305.6, 'type': 'float'},\n",
       " 'b18ev': {'default': 1.7502, 'type': 'float'},\n",
       " 'p01rm': {'default': 1.824, 'type': 'float'},\n",
       " 'p01ep': {'default': 0.17, 'type': 'float'},\n",
       " 'p02rm': {'default': 0.6, 'type': 'float'},\n",
       " 'p02ep': {'default': 0.0157, 'type': 'float'},\n",
       " 'p03rm': {'default': 1.908, 'type': 'float'},\n",
       " 'p03ep': {'default': 0.1094, 'type': 'float'},\n",
       " 'p04rm': {'default': 1.1, 'type': 'float'},\n",
       " 'p04ep': {'default': 0.0157, 'type': 'float'},\n",
       " 'p05rm': {'default': 1.387, 'type': 'float'},\n",
       " 'p05ep': {'default': 0.0157, 'type': 'float'},\n",
       " 'p06rm': {'default': 1.721, 'type': 'float'},\n",
       " 'p06ep': {'default': 0.2104, 'type': 'float'},\n",
       " 'p07rm': {'default': 0.0, 'type': 'float'},\n",
       " 'p07ep': {'default': 0.0, 'type': 'float'},\n",
       " 'p08rm': {'default': 1.908, 'type': 'float'},\n",
       " 'p08ep': {'default': 0.086, 'type': 'float'},\n",
       " 'p09rm': {'default': 1.6612, 'type': 'float'},\n",
       " 'p09ep': {'default': 0.21, 'type': 'float'},\n",
       " 'p10rm': {'default': 1.487, 'type': 'float'},\n",
       " 'p10ep': {'default': 0.0157, 'type': 'float'},\n",
       " 'p11rm': {'default': 2.0, 'type': 'float'},\n",
       " 'p11ep': {'default': 0.25, 'type': 'float'},\n",
       " 'p12rm': {'default': 1.459, 'type': 'float'},\n",
       " 'p12ep': {'default': 0.015, 'type': 'float'},\n",
       " 'p13rm': {'default': 1.409, 'type': 'float'},\n",
       " 'p13ep': {'default': 0.015, 'type': 'float'},\n",
       " 'p14rm': {'default': 1.359, 'type': 'float'},\n",
       " 'p14ep': {'default': 0.015, 'type': 'float'},\n",
       " 'p15rm': {'default': 1.9480000000000002, 'type': 'float'},\n",
       " 'p15ep': {'default': 0.265, 'type': 'float'},\n",
       " 'p16rm': {'default': 1.7683, 'type': 'float'},\n",
       " 'p16ep': {'default': 0.152, 'type': 'float'},\n",
       " 'p17rm': {'default': 0.0, 'type': 'float'},\n",
       " 'p17ep': {'default': 0.0, 'type': 'float'},\n",
       " 'a01fc': {'default': 48.2, 'type': 'float'},\n",
       " 'a01ev': {'default': 2.0923016, 'type': 'float'},\n",
       " 'a02fc': {'default': 77.9, 'type': 'float'},\n",
       " 'a02ev': {'default': 2.27329233, 'type': 'float'},\n",
       " 'a03fc': {'default': 64.3, 'type': 'float'},\n",
       " 'a03ev': {'default': 2.10015559, 'type': 'float'},\n",
       " 'a04fc': {'default': 68.7, 'type': 'float'},\n",
       " 'a04ev': {'default': 2.13977458, 'type': 'float'},\n",
       " 'a05fc': {'default': 66.6, 'type': 'float'},\n",
       " 'a05ev': {'default': 2.09474507, 'type': 'float'},\n",
       " 'a06fc': {'default': 66.7, 'type': 'float'},\n",
       " 'a06ev': {'default': 2.06612165, 'type': 'float'},\n",
       " 'a07fc': {'default': 48.0, 'type': 'float'},\n",
       " 'a07ev': {'default': 2.09195254, 'type': 'float'},\n",
       " 'a08fc': {'default': 66.3, 'type': 'float'},\n",
       " 'a08ev': {'default': 2.10643878, 'type': 'float'},\n",
       " 'a09fc': {'default': 64.0, 'type': 'float'},\n",
       " 'a09ev': {'default': 2.11376916, 'type': 'float'},\n",
       " 'a10fc': {'default': 39.4, 'type': 'float'},\n",
       " 'a10ev': {'default': 1.87762601, 'type': 'float'},\n",
       " 'a11fc': {'default': 67.4, 'type': 'float'},\n",
       " 'a11ev': {'default': 2.15024656, 'type': 'float'},\n",
       " 'a12fc': {'default': 63.8, 'type': 'float'},\n",
       " 'a12ev': {'default': 2.15914774, 'type': 'float'},\n",
       " 'a13fc': {'default': 46.9, 'type': 'float'},\n",
       " 'a13ev': {'default': 1.89839544, 'type': 'float'},\n",
       " 'a14fc': {'default': 66.8, 'type': 'float'},\n",
       " 'a14ev': {'default': 2.01027109, 'type': 'float'},\n",
       " 'a15fc': {'default': 74.2, 'type': 'float'},\n",
       " 'a15ev': {'default': 2.14762857, 'type': 'float'},\n",
       " 'a16fc': {'default': 67.9, 'type': 'float'},\n",
       " 'a16ev': {'default': 2.09771213, 'type': 'float'},\n",
       " 'a17fc': {'default': 49.8, 'type': 'float'},\n",
       " 'a17ev': {'default': 1.9003153, 'type': 'float'},\n",
       " 'a18fc': {'default': 46.4, 'type': 'float'},\n",
       " 'a18ev': {'default': 1.91218355, 'type': 'float'},\n",
       " 'a19fc': {'default': 65.9, 'type': 'float'},\n",
       " 'a19ev': {'default': 1.94796281, 'type': 'float'},\n",
       " 'a20fc': {'default': 46.3, 'type': 'float'},\n",
       " 'a20ev': {'default': 1.91637234, 'type': 'float'},\n",
       " 'a21fc': {'default': 63.4, 'type': 'float'},\n",
       " 'a21ev': {'default': 2.10643878, 'type': 'float'},\n",
       " 'a22fc': {'default': 63.0, 'type': 'float'},\n",
       " 'a22ev': {'default': 2.09142894, 'type': 'float'},\n",
       " 'a23fc': {'default': 63.1, 'type': 'float'},\n",
       " 'a23ev': {'default': 1.95599133, 'type': 'float'},\n",
       " 'a24fc': {'default': 62.9, 'type': 'float'},\n",
       " 'a24ev': {'default': 1.94621748, 'type': 'float'},\n",
       " 'a25fc': {'default': 47.0, 'type': 'float'},\n",
       " 'a25ev': {'default': 1.91218355, 'type': 'float'},\n",
       " 'a26fc': {'default': 63.5, 'type': 'float'},\n",
       " 'a26ev': {'default': 2.10783504, 'type': 'float'},\n",
       " 'a27fc': {'default': 46.1, 'type': 'float'},\n",
       " 'a27ev': {'default': 2.02440827, 'type': 'float'},\n",
       " 'a28fc': {'default': 49.6, 'type': 'float'},\n",
       " 'a28ev': {'default': 1.91619781, 'type': 'float'},\n",
       " 'a29fc': {'default': 66.2, 'type': 'float'},\n",
       " 'a29ev': {'default': 1.92789152, 'type': 'float'},\n",
       " 'a30fc': {'default': 66.5, 'type': 'float'},\n",
       " 'a30ev': {'default': 1.94412309, 'type': 'float'},\n",
       " 'a31fc': {'default': 48.4, 'type': 'float'},\n",
       " 'a31ev': {'default': 2.02580453, 'type': 'float'},\n",
       " 'a32fc': {'default': 63.4, 'type': 'float'},\n",
       " 'a32ev': {'default': 2.09404693, 'type': 'float'},\n",
       " 'a33fc': {'default': 68.3, 'type': 'float'},\n",
       " 'a33ev': {'default': 2.11097664, 'type': 'float'},\n",
       " 'a34fc': {'default': 57.9, 'type': 'float'},\n",
       " 'a34ev': {'default': 2.08374949, 'type': 'float'}}"
      ]
     },
     "execution_count": 5,
     "metadata": {},
     "output_type": "execute_result"
    }
   ],
   "source": [
    "# Load the EasyVVUQ params dicts, containing the default values and type of each input\n",
    "priors = {}\n",
    "# there are 5 inputs files, each with a seperate params dict\n",
    "prior_fnames = os.listdir('./priors')\n",
    "for fname in prior_fnames:\n",
    "    prior = json.load(open('./priors/%s' % fname, 'r'))\n",
    "    priors = priors | prior\n",
    "priors"
   ]
  },
  {
   "cell_type": "markdown",
   "id": "4b745204",
   "metadata": {},
   "source": [
    "### Load input parameter values\n",
    "\n",
    "Load the Monte Carlo values of the inputs."
   ]
  },
  {
   "cell_type": "code",
   "execution_count": 6,
   "id": "57dd2f62",
   "metadata": {},
   "outputs": [],
   "source": [
    "# input parameters\n",
    "params = pd.read_csv('./data_esmacs/esmacs_inputs.csv')\n",
    "param_names = params.keys()\n",
    "params = params.values\n",
    "\n",
    "# number of code samples\n",
    "n_samples = params.shape[0]\n",
    "\n",
    "# number of inputs\n",
    "D = params.shape[1]\n",
    "\n",
    "p_max = np.array([priors[name]['default'] * 1.15 for name in param_names])\n",
    "p_min = np.array([priors[name]['default'] * 0.85 for name in param_names])\n",
    "\n",
    "# except the temperature\n",
    "idx_T = np.where(param_names == 'setTemperature')[0]\n",
    "p_max[idx_T] = np.array(priors['setTemperature']['default'] * 1.075)\n",
    "p_min[idx_T] = np.array(priors['setTemperature']['default'] * 0.925)\n",
    "\n",
    "# scale inputs within [-1, 1]\n",
    "params = (params - 0.5 * (p_min + p_max)) / (0.5 * (p_max - p_min))"
   ]
  },
  {
   "cell_type": "markdown",
   "id": "68f39965",
   "metadata": {},
   "source": [
    "### Load output samples\n",
    "\n",
    "Load the corresponding Monte Carlo outputs, in the case the binding free energy predictions."
   ]
  },
  {
   "cell_type": "code",
   "execution_count": 7,
   "id": "5c01f024",
   "metadata": {},
   "outputs": [],
   "source": [
    "QoI = 'binding_energy'\n",
    "output = pd.read_csv('./data_esmacs/%s_output.csv' % (QoI,)).values"
   ]
  },
  {
   "cell_type": "markdown",
   "id": "45f3892a",
   "metadata": {},
   "source": [
    "### Average over the random seeds (or not)\n",
    "\n",
    "Each parameter value was replicated several times, changing only the random seed of the initial condition."
   ]
  },
  {
   "cell_type": "code",
   "execution_count": 8,
   "id": "d3f8a102",
   "metadata": {},
   "outputs": [],
   "source": [
    "# average the data over the replica simulations or not\n",
    "average_over_replicas = True\n",
    "\n",
    "if not average_over_replicas:\n",
    "    samples = output[:, 0].reshape([-1, 1])\n",
    "else:\n",
    "    samples = np.mean(output, axis=1, keepdims=True)"
   ]
  },
  {
   "cell_type": "markdown",
   "id": "311a5993",
   "metadata": {},
   "source": [
    "### Select $d$\n",
    "\n",
    "This is the dimension of the active subspace."
   ]
  },
  {
   "cell_type": "code",
   "execution_count": 9,
   "id": "fb784def",
   "metadata": {},
   "outputs": [],
   "source": [
    "d = 1"
   ]
  },
  {
   "cell_type": "markdown",
   "id": "3725e85c",
   "metadata": {},
   "source": [
    "### Set hyperparameters"
   ]
  },
  {
   "cell_type": "code",
   "execution_count": 10,
   "id": "92ee80c4",
   "metadata": {},
   "outputs": [],
   "source": [
    "# number of neurons per hidden layer \n",
    "n_hidden_neurons = 20\n",
    "# number of hidden layer + output layer\n",
    "n_layers = 3\n",
    "# activation function\n",
    "activation = 'tanh'\n",
    "\n",
    "# mini batch size\n",
    "batch_size = 32\n",
    "# max number of epochs\n",
    "n_epochs_max = 100\n",
    "# number of mini-batch iterations per epoch\n",
    "n_iter = int(n_samples / batch_size)\n",
    "\n",
    "# early stopping parameters\n",
    "min_delta = 0.001\n",
    "patience = 3"
   ]
  },
  {
   "cell_type": "markdown",
   "id": "558b9aca",
   "metadata": {},
   "source": [
    "### Train / test split"
   ]
  },
  {
   "cell_type": "code",
   "execution_count": 11,
   "id": "7724a112",
   "metadata": {},
   "outputs": [],
   "source": [
    "test_frac = 0.1\n",
    "test_idx = int((1 - test_frac) * n_samples)\n",
    "params_train = params[0:test_idx, :]\n",
    "samples_train = samples[0:test_idx, :]\n",
    "params_test = params[test_idx:, :]\n",
    "samples_test = samples[test_idx:, :]"
   ]
  },
  {
   "cell_type": "markdown",
   "id": "cf15d8c9",
   "metadata": {},
   "source": [
    "### Select how many replica neural networks to train\n",
    "\n",
    "To compute confidence intervals on the results (due to the stochastic nature of the training), we train `n_rep` replica networks instead of relying a single network"
   ]
  },
  {
   "cell_type": "code",
   "execution_count": 12,
   "id": "846dc485",
   "metadata": {},
   "outputs": [],
   "source": [
    "n_rep = 20"
   ]
  },
  {
   "cell_type": "markdown",
   "id": "a416ab1c",
   "metadata": {},
   "source": [
    "### Train a deep active subspace network\n"
   ]
  },
  {
   "cell_type": "code",
   "execution_count": 13,
   "id": "236ea661",
   "metadata": {},
   "outputs": [],
   "source": [
    "# results dict\n",
    "results_das = {}\n",
    "# eigenvalues of gradient matrix C per epoch\n",
    "results_das['eigvals'] = np.zeros([n_rep, D])\n",
    "# global gradient-based sensitivity indices per epoch\n",
    "results_das['V_i'] = np.zeros([n_rep, D])\n",
    "# relative training and test error per epoch\n",
    "results_das['errors'] = []\n",
    "results_das['epoch_stop'] = np.zeros(n_rep, dtype=int)\n",
    "results_das['projection_matrix'] = []\n",
    "results_das['surrogate'] = []\n",
    "results_das['C_das'] = []"
   ]
  },
  {
   "cell_type": "code",
   "execution_count": 14,
   "id": "92e87f37",
   "metadata": {},
   "outputs": [],
   "source": [
    "def train_das(failure_criterion = 1.0):\n",
    "    \"\"\"\n",
    "    Train DAS networks using early stopping.\n",
    "    \n",
    "    failure_criterion : float\n",
    "        Most replica networks will converge, a small number might not. \n",
    "        failure_critertion is the value of the relative test error\n",
    "        used to determine if a network did not converge. If exceeded\n",
    "        the network will be discarded. Default value is 1.0 (100% test error).\n",
    "\n",
    "    \"\"\"\n",
    "    min_test_error = 1.0\n",
    "\n",
    "    # repeat analysis n_rep times to generate error bars on results\n",
    "    for rep in range(n_rep):\n",
    "\n",
    "        # train remaining epochs through early stopping\n",
    "        final_test_error = 2.0\n",
    "        while final_test_error > failure_criterion:\n",
    "        \n",
    "            # create new DAS network and train for 1 epoch\n",
    "            das_surrogate = es.methods.DAS_Surrogate()\n",
    "            das_surrogate.train(params_train, samples_train, d, \n",
    "                                n_iter=n_iter,\n",
    "                                n_layers=n_layers,\n",
    "                                n_neurons=n_hidden_neurons, \n",
    "                                activation=activation, \n",
    "                                batch_size=batch_size,\n",
    "                                standardize_X=False, standardize_y=True)\n",
    "\n",
    "            # train remaining epochs through early stopping\n",
    "            errors, epoch = early_stopping(das_surrogate, n_iter,\n",
    "                                           params_train, samples_train, \n",
    "                                           params_test, samples_test)\n",
    "            final_test_error = errors[epoch, 1]\n",
    "\n",
    "        results_das['errors'].append(errors)\n",
    "        results_das['epoch_stop'][rep] = epoch\n",
    "\n",
    "        ### Compute active subspace of the DAS network\n",
    "\n",
    "        # the gradient matrix computed of the DAS network, computed using the classical AS method\n",
    "        C_das = 0.0\n",
    "\n",
    "        # Number of Monte Carlo samples\n",
    "        n_mc = params.shape[0]    \n",
    "\n",
    "        # Compute C_das, the gradient matrix of the DAS network\n",
    "        das_samples = np.zeros(n_mc)\n",
    "        for i, param in enumerate(params):\n",
    "            # compute the derivative of f at the input layer (needed for C_das)\n",
    "            df_dx = das_surrogate.derivative(param, norm=False)\n",
    "            # update C_das\n",
    "            C_das += np.dot(df_dx, df_dx.T) / n_mc\n",
    "\n",
    "        results_das['C_das'].append(C_das)\n",
    "            \n",
    "        # solve eigenvalue problem for C_das\n",
    "        eigvals_C_das, eigvecs_C_das = linalg.eigh(C_das)\n",
    "\n",
    "        # Sort the eigensolutions in the descending order of eigenvalues\n",
    "        order = eigvals_C_das.argsort()[::-1]\n",
    "        eigvals_C_das = eigvals_C_das[order]\n",
    "        eigvecs_C_das = eigvecs_C_das[:, order]\n",
    "\n",
    "        # store eigenvalues of this iteration\n",
    "        results_das['eigvals'][rep] = eigvals_C_das\n",
    "\n",
    "        # the DAS weight matrix of the first hidden layer\n",
    "        # W_1 = das_surrogate.neural_net.layers[1].W\n",
    "        # results_das['projection_matrix'].append(W_1)\n",
    "        # The dominant eigenvector(s) from the C_das matrix (alternative to W_1)\n",
    "        results_das['projection_matrix'].append(eigvecs_C_das[:, 0:d])\n",
    "\n",
    "        # perform sensitivity analysis using combined training and test data \n",
    "        das_analysis = es.analysis.DAS_analysis(das_surrogate)\n",
    "        idx, V_i = das_analysis.sensitivity_measures(params, norm=False)\n",
    "        results_das['V_i'][rep] = V_i.flatten() #* das_surrogate.neural_net.y_std ** 2\n",
    "\n",
    "        # store surrogate\n",
    "        results_das['surrogate'].append(das_surrogate)\n"
   ]
  },
  {
   "cell_type": "markdown",
   "id": "088b23ab",
   "metadata": {},
   "source": [
    "Train `n_rep` DAS surrogate. A converged DAS network will have a test error well below 40%, set `failure_criterion=0.5`."
   ]
  },
  {
   "cell_type": "code",
   "execution_count": 15,
   "id": "d1f165c2",
   "metadata": {},
   "outputs": [
    {
     "name": "stdout",
     "output_type": "stream",
     "text": [
      "Creating DAS_Surrogate Object\n",
      "Creating Feature Engineering object\n",
      "Using  662/662 samples to train the ML model\n",
      "===============================\n",
      "Neural net parameters\n",
      "===============================\n",
      "Number of layers = 3\n",
      "Number of features = 167\n",
      "Loss function = squared\n",
      "Number of neurons per hidden layer = 20\n",
      "Number of output neurons = 1\n",
      "Activation = ['linear', 'linear', 'tanh', 'linear']\n",
      "This neural network has 228 weights.\n",
      "===============================\n",
      "===============================\n",
      "Training Deep Active Subspace Neural Network...\n"
     ]
    },
    {
     "name": "stderr",
     "output_type": "stream",
     "text": [
      "100%|█████████████████████████████████████████████████████████████████████████████████████████████████████████████████████████████████████████████████████████████████████| 23/23 [00:00<00:00, 392.51it/s]\n"
     ]
    },
    {
     "name": "stdout",
     "output_type": "stream",
     "text": [
      " loss = 0.9955\n",
      "Relative training error = 23.1702 %\n",
      "Relative test error = 22.8485 %\n"
     ]
    },
    {
     "name": "stderr",
     "output_type": "stream",
     "text": [
      "100%|█████████████████████████████████████████████████████████████████████████████████████████████████████████████████████████████████████████████████████████████████████| 23/23 [00:00<00:00, 524.74it/s]\n"
     ]
    },
    {
     "name": "stdout",
     "output_type": "stream",
     "text": [
      " loss = 0.9046\n",
      "Relative training error = 20.4072 %\n",
      "Relative test error = 22.2354 %\n"
     ]
    },
    {
     "name": "stderr",
     "output_type": "stream",
     "text": [
      "100%|█████████████████████████████████████████████████████████████████████████████████████████████████████████████████████████████████████████████████████████████████████| 23/23 [00:00<00:00, 516.12it/s]\n"
     ]
    },
    {
     "name": "stdout",
     "output_type": "stream",
     "text": [
      " loss = 0.9588\n",
      "Relative training error = 16.7208 %\n",
      "Relative test error = 20.8706 %\n"
     ]
    },
    {
     "name": "stderr",
     "output_type": "stream",
     "text": [
      "100%|█████████████████████████████████████████████████████████████████████████████████████████████████████████████████████████████████████████████████████████████████████| 23/23 [00:00<00:00, 499.49it/s]\n"
     ]
    },
    {
     "name": "stdout",
     "output_type": "stream",
     "text": [
      " loss = 0.5077\n",
      "Relative training error = 13.6592 %\n",
      "Relative test error = 18.1507 %\n"
     ]
    },
    {
     "name": "stderr",
     "output_type": "stream",
     "text": [
      "100%|█████████████████████████████████████████████████████████████████████████████████████████████████████████████████████████████████████████████████████████████████████| 23/23 [00:00<00:00, 430.83it/s]"
     ]
    },
    {
     "name": "stdout",
     "output_type": "stream",
     "text": [
      " loss = 0.2613\n"
     ]
    },
    {
     "name": "stderr",
     "output_type": "stream",
     "text": [
      "\n"
     ]
    },
    {
     "name": "stdout",
     "output_type": "stream",
     "text": [
      "Relative training error = 11.7106 %\n",
      "Relative test error = 15.1194 %\n"
     ]
    },
    {
     "name": "stderr",
     "output_type": "stream",
     "text": [
      "100%|█████████████████████████████████████████████████████████████████████████████████████████████████████████████████████████████████████████████████████████████████████| 23/23 [00:00<00:00, 541.78it/s]\n"
     ]
    },
    {
     "name": "stdout",
     "output_type": "stream",
     "text": [
      " loss = 0.2169\n",
      "Relative training error = 10.3924 %\n",
      "Relative test error = 13.3183 %\n"
     ]
    },
    {
     "name": "stderr",
     "output_type": "stream",
     "text": [
      "100%|█████████████████████████████████████████████████████████████████████████████████████████████████████████████████████████████████████████████████████████████████████| 23/23 [00:00<00:00, 446.76it/s]"
     ]
    },
    {
     "name": "stdout",
     "output_type": "stream",
     "text": [
      " loss = 0.3296\n",
      "Relative training error = 9.5453 %\n",
      "Relative test error = 11.8766 %\n"
     ]
    },
    {
     "name": "stderr",
     "output_type": "stream",
     "text": [
      "\n",
      "100%|█████████████████████████████████████████████████████████████████████████████████████████████████████████████████████████████████████████████████████████████████████| 23/23 [00:00<00:00, 543.33it/s]\n"
     ]
    },
    {
     "name": "stdout",
     "output_type": "stream",
     "text": [
      " loss = 0.1543\n",
      "Relative training error = 9.1216 %\n",
      "Relative test error = 11.2492 %\n"
     ]
    },
    {
     "name": "stderr",
     "output_type": "stream",
     "text": [
      "100%|█████████████████████████████████████████████████████████████████████████████████████████████████████████████████████████████████████████████████████████████████████| 23/23 [00:00<00:00, 404.46it/s]\n"
     ]
    },
    {
     "name": "stdout",
     "output_type": "stream",
     "text": [
      " loss = 0.1196\n",
      "Relative training error = 8.8257 %\n",
      "Relative test error = 10.0142 %\n"
     ]
    },
    {
     "name": "stderr",
     "output_type": "stream",
     "text": [
      "100%|█████████████████████████████████████████████████████████████████████████████████████████████████████████████████████████████████████████████████████████████████████| 23/23 [00:00<00:00, 437.77it/s]\n"
     ]
    },
    {
     "name": "stdout",
     "output_type": "stream",
     "text": [
      " loss = 0.0996\n",
      "Relative training error = 8.5999 %\n",
      "Relative test error = 9.8984 %\n"
     ]
    },
    {
     "name": "stderr",
     "output_type": "stream",
     "text": [
      "100%|█████████████████████████████████████████████████████████████████████████████████████████████████████████████████████████████████████████████████████████████████████| 23/23 [00:00<00:00, 454.29it/s]"
     ]
    },
    {
     "name": "stdout",
     "output_type": "stream",
     "text": [
      " loss = 0.0724\n"
     ]
    },
    {
     "name": "stderr",
     "output_type": "stream",
     "text": [
      "\n"
     ]
    },
    {
     "name": "stdout",
     "output_type": "stream",
     "text": [
      "Relative training error = 8.4439 %\n",
      "Relative test error = 9.2241 %\n"
     ]
    },
    {
     "name": "stderr",
     "output_type": "stream",
     "text": [
      "100%|█████████████████████████████████████████████████████████████████████████████████████████████████████████████████████████████████████████████████████████████████████| 23/23 [00:00<00:00, 439.06it/s]"
     ]
    },
    {
     "name": "stdout",
     "output_type": "stream",
     "text": [
      " loss = 0.0806\n"
     ]
    },
    {
     "name": "stderr",
     "output_type": "stream",
     "text": [
      "\n"
     ]
    },
    {
     "name": "stdout",
     "output_type": "stream",
     "text": [
      "Relative training error = 8.3098 %\n",
      "Relative test error = 9.6130 %\n"
     ]
    },
    {
     "name": "stderr",
     "output_type": "stream",
     "text": [
      "100%|█████████████████████████████████████████████████████████████████████████████████████████████████████████████████████████████████████████████████████████████████████| 23/23 [00:00<00:00, 431.79it/s]"
     ]
    },
    {
     "name": "stdout",
     "output_type": "stream",
     "text": [
      " loss = 0.0738\n"
     ]
    },
    {
     "name": "stderr",
     "output_type": "stream",
     "text": [
      "\n"
     ]
    },
    {
     "name": "stdout",
     "output_type": "stream",
     "text": [
      "Relative training error = 8.3921 %\n",
      "Relative test error = 9.9672 %\n"
     ]
    },
    {
     "name": "stderr",
     "output_type": "stream",
     "text": [
      "100%|█████████████████████████████████████████████████████████████████████████████████████████████████████████████████████████████████████████████████████████████████████| 23/23 [00:00<00:00, 541.12it/s]"
     ]
    },
    {
     "name": "stdout",
     "output_type": "stream",
     "text": [
      " loss = 0.0791\n"
     ]
    },
    {
     "name": "stderr",
     "output_type": "stream",
     "text": [
      "\n"
     ]
    },
    {
     "name": "stdout",
     "output_type": "stream",
     "text": [
      "Relative training error = 8.3342 %\n",
      "Relative test error = 10.1002 %\n"
     ]
    },
    {
     "name": "stderr",
     "output_type": "stream",
     "text": [
      "100%|█████████████████████████████████████████████████████████████████████████████████████████████████████████████████████████████████████████████████████████████████████| 23/23 [00:00<00:00, 450.47it/s]\n"
     ]
    },
    {
     "name": "stdout",
     "output_type": "stream",
     "text": [
      " loss = 0.1324\n",
      "Relative training error = 8.2303 %\n",
      "Relative test error = 10.3239 %\n",
      "Creating DAS_analysis object\n",
      "[-0.01079496 -0.00636261 -0.00472965  0.00829344 -0.03315033  0.01000517\n",
      " -0.03147244  0.01236407 -0.02684816  0.00736422 -0.01663265 -0.00670413\n",
      "  0.01756466 -0.01872044  0.02313004 -0.03355007  0.0332702  -0.02308934\n",
      " -0.04141354  0.01600002 -0.00833672  0.01130101  0.00841153  0.0035773\n",
      "  0.00450807  0.03616873  0.00554306  0.01251749 -0.00332135  0.01660203\n",
      "  0.00364524 -0.00423356 -0.01502233  0.00553334  0.00909886  0.03581746\n",
      " -0.01612826 -0.01689578 -0.00544872 -0.0257047  -0.0020281  -0.00491286\n",
      " -0.01851041 -0.00295021 -0.01707543  0.01278958 -0.03309115 -0.03378421\n",
      "  0.02105434 -0.024914    0.01355151  0.0347159   0.00949286 -0.01157946\n",
      " -0.02779381  0.01103345  0.05014661 -0.0388591   0.03466138 -0.03282935\n",
      "  0.01334391 -0.02446218  0.00617272  0.02966007 -0.0113076  -0.02121396\n",
      " -0.02654688 -0.02603522  0.00742446  0.0033779  -0.03955923 -0.02515224\n",
      " -0.00983606 -0.03146489 -0.02662707  0.00106644 -0.01827304 -0.01481842\n",
      "  0.00496895 -0.01752653  0.02289294  0.02491585 -0.05154504 -0.0153165\n",
      " -0.02955348 -0.01164796  0.00169125  0.00708391  0.00424188 -0.0170783\n",
      " -0.02926962  0.01683864 -0.03211833  0.04620026  0.02204849  0.03711775\n",
      " -0.02703611 -0.02134703 -0.01017228 -0.02460535 -0.00175839  0.00900341\n",
      "  0.0066653   0.02126546 -0.00704159 -0.02525979  0.04929931  0.03000105\n",
      "  0.00056224  0.02727065  0.00672098 -0.02266489 -0.03778072 -0.0143658\n",
      " -0.06977009 -0.00184082  0.03251847  0.00536228  0.00780703  0.00351171\n",
      " -0.001558    0.00453452  0.01956437  0.00755578 -0.00347596 -0.02544811\n",
      " -0.00691871  0.0184323  -0.00946686  0.01644332 -0.00717298 -0.00091536\n",
      " -0.00513515 -0.00200119 -0.00781267  0.03063803  0.00576488 -0.00229528\n",
      "  0.02318851  0.0245067  -0.02252075 -0.01338904  0.0351502  -0.00802465\n",
      " -0.02688461 -0.01285858 -0.04307223  0.01796226 -0.00352158 -0.02649279\n",
      " -0.02409055  0.01353839 -0.01250318  0.00313297  0.01588277  0.01109347\n",
      " -0.00357092  0.00296899  0.00483943 -0.03099188 -0.01898565  0.02774835\n",
      " -0.03559913 -0.0050307   0.0044001   0.13017571 -0.01762796]\n",
      "Parameters ordered from most to least important:\n",
      "[[141 149 165 150 153 151 142  17 137  15 113 154 109 163  73 138  95  41\n",
      "  107  27  85  39  57  30 115  68  94 161  10  21  36  29  75 164 112   3\n",
      "   28  49  22 162 127  93  63  79 159  53  40  99 110  38  23 148 129   1\n",
      "  106  18  26 166 120 155  13 105 130  47 146  52  48  97  59 117  45  19\n",
      "   87 108 133  82 156 140  54  62  78  74   8  86 152 131 158 101 135  51\n",
      "   72 125  55  92  80   5   4  76  24  65 139  83  96  88 124   6 114  91\n",
      "   66  77 104  56 147 116  33   9  44 111  25 123 121  11  32  46  69  81\n",
      "   71  64  16 128  12  37 134  20  34 144  14 100 103   2  89 145  35  84\n",
      "  136 143  31 102 132   0  58  42  70 160 126  98 118 119 157  67  90  43\n",
      "  122  50   7  60  61]]\n",
      "Creating DAS_Surrogate Object\n",
      "Creating Feature Engineering object\n",
      "Using  662/662 samples to train the ML model\n",
      "===============================\n",
      "Neural net parameters\n",
      "===============================\n",
      "Number of layers = 3\n",
      "Number of features = 167\n",
      "Loss function = squared\n",
      "Number of neurons per hidden layer = 20\n",
      "Number of output neurons = 1\n",
      "Activation = ['linear', 'linear', 'tanh', 'linear']\n",
      "This neural network has 228 weights.\n",
      "===============================\n",
      "===============================\n",
      "Training Deep Active Subspace Neural Network...\n"
     ]
    },
    {
     "name": "stderr",
     "output_type": "stream",
     "text": [
      "100%|█████████████████████████████████████████████████████████████████████████████████████████████████████████████████████████████████████████████████████████████████████| 23/23 [00:00<00:00, 465.90it/s]"
     ]
    },
    {
     "name": "stdout",
     "output_type": "stream",
     "text": [
      " loss = 2.0289\n",
      "Relative training error = 23.6068 %\n"
     ]
    },
    {
     "name": "stderr",
     "output_type": "stream",
     "text": [
      "\n"
     ]
    },
    {
     "name": "stdout",
     "output_type": "stream",
     "text": [
      "Relative test error = 22.5843 %\n"
     ]
    },
    {
     "name": "stderr",
     "output_type": "stream",
     "text": [
      "100%|█████████████████████████████████████████████████████████████████████████████████████████████████████████████████████████████████████████████████████████████████████| 23/23 [00:00<00:00, 546.12it/s]"
     ]
    },
    {
     "name": "stdout",
     "output_type": "stream",
     "text": [
      " loss = 1.1905\n",
      "Relative training error = 20.4991 %\n",
      "Relative test error = 21.1133 %\n"
     ]
    },
    {
     "name": "stderr",
     "output_type": "stream",
     "text": [
      "\n",
      "100%|█████████████████████████████████████████████████████████████████████████████████████████████████████████████████████████████████████████████████████████████████████| 23/23 [00:00<00:00, 515.03it/s]"
     ]
    },
    {
     "name": "stdout",
     "output_type": "stream",
     "text": [
      " loss = 1.0883\n"
     ]
    },
    {
     "name": "stderr",
     "output_type": "stream",
     "text": [
      "\n"
     ]
    },
    {
     "name": "stdout",
     "output_type": "stream",
     "text": [
      "Relative training error = 16.8859 %\n",
      "Relative test error = 18.3346 %\n"
     ]
    },
    {
     "name": "stderr",
     "output_type": "stream",
     "text": [
      "100%|█████████████████████████████████████████████████████████████████████████████████████████████████████████████████████████████████████████████████████████████████████| 23/23 [00:00<00:00, 554.23it/s]\n"
     ]
    },
    {
     "name": "stdout",
     "output_type": "stream",
     "text": [
      " loss = 0.5126\n",
      "Relative training error = 14.0085 %\n",
      "Relative test error = 16.2911 %\n"
     ]
    },
    {
     "name": "stderr",
     "output_type": "stream",
     "text": [
      "100%|█████████████████████████████████████████████████████████████████████████████████████████████████████████████████████████████████████████████████████████████████████| 23/23 [00:00<00:00, 457.16it/s]"
     ]
    },
    {
     "name": "stdout",
     "output_type": "stream",
     "text": [
      " loss = 0.2841\n"
     ]
    },
    {
     "name": "stderr",
     "output_type": "stream",
     "text": [
      "\n"
     ]
    },
    {
     "name": "stdout",
     "output_type": "stream",
     "text": [
      "Relative training error = 11.9424 %\n",
      "Relative test error = 14.8592 %\n"
     ]
    },
    {
     "name": "stderr",
     "output_type": "stream",
     "text": [
      "100%|█████████████████████████████████████████████████████████████████████████████████████████████████████████████████████████████████████████████████████████████████████| 23/23 [00:00<00:00, 471.93it/s]"
     ]
    },
    {
     "name": "stdout",
     "output_type": "stream",
     "text": [
      " loss = 0.1593\n"
     ]
    },
    {
     "name": "stderr",
     "output_type": "stream",
     "text": [
      "\n"
     ]
    },
    {
     "name": "stdout",
     "output_type": "stream",
     "text": [
      "Relative training error = 10.5948 %\n",
      "Relative test error = 14.0578 %\n"
     ]
    },
    {
     "name": "stderr",
     "output_type": "stream",
     "text": [
      "100%|█████████████████████████████████████████████████████████████████████████████████████████████████████████████████████████████████████████████████████████████████████| 23/23 [00:00<00:00, 454.27it/s]"
     ]
    },
    {
     "name": "stdout",
     "output_type": "stream",
     "text": [
      " loss = 0.1179\n"
     ]
    },
    {
     "name": "stderr",
     "output_type": "stream",
     "text": [
      "\n"
     ]
    },
    {
     "name": "stdout",
     "output_type": "stream",
     "text": [
      "Relative training error = 9.7181 %\n",
      "Relative test error = 12.1900 %\n"
     ]
    },
    {
     "name": "stderr",
     "output_type": "stream",
     "text": [
      "100%|█████████████████████████████████████████████████████████████████████████████████████████████████████████████████████████████████████████████████████████████████████| 23/23 [00:00<00:00, 465.00it/s]"
     ]
    },
    {
     "name": "stdout",
     "output_type": "stream",
     "text": [
      " loss = 0.1057\n"
     ]
    },
    {
     "name": "stderr",
     "output_type": "stream",
     "text": [
      "\n"
     ]
    },
    {
     "name": "stdout",
     "output_type": "stream",
     "text": [
      "Relative training error = 9.1785 %\n",
      "Relative test error = 11.4414 %\n"
     ]
    },
    {
     "name": "stderr",
     "output_type": "stream",
     "text": [
      "100%|█████████████████████████████████████████████████████████████████████████████████████████████████████████████████████████████████████████████████████████████████████| 23/23 [00:00<00:00, 424.35it/s]"
     ]
    },
    {
     "name": "stdout",
     "output_type": "stream",
     "text": [
      " loss = 0.1208\n"
     ]
    },
    {
     "name": "stderr",
     "output_type": "stream",
     "text": [
      "\n"
     ]
    },
    {
     "name": "stdout",
     "output_type": "stream",
     "text": [
      "Relative training error = 8.7587 %\n",
      "Relative test error = 10.5230 %\n"
     ]
    },
    {
     "name": "stderr",
     "output_type": "stream",
     "text": [
      "100%|█████████████████████████████████████████████████████████████████████████████████████████████████████████████████████████████████████████████████████████████████████| 23/23 [00:00<00:00, 461.58it/s]"
     ]
    },
    {
     "name": "stdout",
     "output_type": "stream",
     "text": [
      " loss = 0.1010\n"
     ]
    },
    {
     "name": "stderr",
     "output_type": "stream",
     "text": [
      "\n"
     ]
    },
    {
     "name": "stdout",
     "output_type": "stream",
     "text": [
      "Relative training error = 8.5774 %\n",
      "Relative test error = 9.9991 %\n"
     ]
    },
    {
     "name": "stderr",
     "output_type": "stream",
     "text": [
      "100%|█████████████████████████████████████████████████████████████████████████████████████████████████████████████████████████████████████████████████████████████████████| 23/23 [00:00<00:00, 537.29it/s]"
     ]
    },
    {
     "name": "stdout",
     "output_type": "stream",
     "text": [
      " loss = 0.1294\n"
     ]
    },
    {
     "name": "stderr",
     "output_type": "stream",
     "text": [
      "\n"
     ]
    },
    {
     "name": "stdout",
     "output_type": "stream",
     "text": [
      "Relative training error = 8.4278 %\n",
      "Relative test error = 9.3792 %\n"
     ]
    },
    {
     "name": "stderr",
     "output_type": "stream",
     "text": [
      "100%|█████████████████████████████████████████████████████████████████████████████████████████████████████████████████████████████████████████████████████████████████████| 23/23 [00:00<00:00, 459.31it/s]"
     ]
    },
    {
     "name": "stdout",
     "output_type": "stream",
     "text": [
      " loss = 0.1257\n"
     ]
    },
    {
     "name": "stderr",
     "output_type": "stream",
     "text": [
      "\n"
     ]
    },
    {
     "name": "stdout",
     "output_type": "stream",
     "text": [
      "Relative training error = 8.3027 %\n",
      "Relative test error = 9.5642 %\n"
     ]
    },
    {
     "name": "stderr",
     "output_type": "stream",
     "text": [
      "100%|█████████████████████████████████████████████████████████████████████████████████████████████████████████████████████████████████████████████████████████████████████| 23/23 [00:00<00:00, 527.63it/s]\n"
     ]
    },
    {
     "name": "stdout",
     "output_type": "stream",
     "text": [
      " loss = 0.1046\n",
      "Relative training error = 8.2416 %\n",
      "Relative test error = 9.6801 %\n"
     ]
    },
    {
     "name": "stderr",
     "output_type": "stream",
     "text": [
      "100%|█████████████████████████████████████████████████████████████████████████████████████████████████████████████████████████████████████████████████████████████████████| 23/23 [00:00<00:00, 526.04it/s]"
     ]
    },
    {
     "name": "stdout",
     "output_type": "stream",
     "text": [
      " loss = 0.0627\n",
      "Relative training error = 8.2222 %"
     ]
    },
    {
     "name": "stderr",
     "output_type": "stream",
     "text": [
      "\n"
     ]
    },
    {
     "name": "stdout",
     "output_type": "stream",
     "text": [
      "\n",
      "Relative test error = 10.0516 %\n"
     ]
    },
    {
     "name": "stderr",
     "output_type": "stream",
     "text": [
      "100%|█████████████████████████████████████████████████████████████████████████████████████████████████████████████████████████████████████████████████████████████████████| 23/23 [00:00<00:00, 452.21it/s]"
     ]
    },
    {
     "name": "stdout",
     "output_type": "stream",
     "text": [
      " loss = 0.2240\n"
     ]
    },
    {
     "name": "stderr",
     "output_type": "stream",
     "text": [
      "\n"
     ]
    },
    {
     "name": "stdout",
     "output_type": "stream",
     "text": [
      "Relative training error = 8.2424 %\n",
      "Relative test error = 9.9703 %\n",
      "Creating DAS_analysis object\n",
      "[-0.01079496 -0.00636261 -0.00472965  0.00829344 -0.03315033  0.01000517\n",
      " -0.03147244  0.01236407 -0.02684816  0.00736422 -0.01663265 -0.00670413\n",
      "  0.01756466 -0.01872044  0.02313004 -0.03355007  0.0332702  -0.02308934\n",
      " -0.04141354  0.01600002 -0.00833672  0.01130101  0.00841153  0.0035773\n",
      "  0.00450807  0.03616873  0.00554306  0.01251749 -0.00332135  0.01660203\n",
      "  0.00364524 -0.00423356 -0.01502233  0.00553334  0.00909886  0.03581746\n",
      " -0.01612826 -0.01689578 -0.00544872 -0.0257047  -0.0020281  -0.00491286\n",
      " -0.01851041 -0.00295021 -0.01707543  0.01278958 -0.03309115 -0.03378421\n",
      "  0.02105434 -0.024914    0.01355151  0.0347159   0.00949286 -0.01157946\n",
      " -0.02779381  0.01103345  0.05014661 -0.0388591   0.03466138 -0.03282935\n",
      "  0.01334391 -0.02446218  0.00617272  0.02966007 -0.0113076  -0.02121396\n",
      " -0.02654688 -0.02603522  0.00742446  0.0033779  -0.03955923 -0.02515224\n",
      " -0.00983606 -0.03146489 -0.02662707  0.00106644 -0.01827304 -0.01481842\n",
      "  0.00496895 -0.01752653  0.02289294  0.02491585 -0.05154504 -0.0153165\n",
      " -0.02955348 -0.01164796  0.00169125  0.00708391  0.00424188 -0.0170783\n",
      " -0.02926962  0.01683864 -0.03211833  0.04620026  0.02204849  0.03711775\n",
      " -0.02703611 -0.02134703 -0.01017228 -0.02460535 -0.00175839  0.00900341\n",
      "  0.0066653   0.02126546 -0.00704159 -0.02525979  0.04929931  0.03000105\n",
      "  0.00056224  0.02727065  0.00672098 -0.02266489 -0.03778072 -0.0143658\n",
      " -0.06977009 -0.00184082  0.03251847  0.00536228  0.00780703  0.00351171\n",
      " -0.001558    0.00453452  0.01956437  0.00755578 -0.00347596 -0.02544811\n",
      " -0.00691871  0.0184323  -0.00946686  0.01644332 -0.00717298 -0.00091536\n",
      " -0.00513515 -0.00200119 -0.00781267  0.03063803  0.00576488 -0.00229528\n",
      "  0.02318851  0.0245067  -0.02252075 -0.01338904  0.0351502  -0.00802465\n",
      " -0.02688461 -0.01285858 -0.04307223  0.01796226 -0.00352158 -0.02649279\n",
      " -0.02409055  0.01353839 -0.01250318  0.00313297  0.01588277  0.01109347\n",
      " -0.00357092  0.00296899  0.00483943 -0.03099188 -0.01898565  0.02774835\n",
      " -0.03559913 -0.0050307   0.0044001   0.13017571 -0.01762796]\n",
      "Parameters ordered from most to least important:\n",
      "[[141 149 150 165 153 151 142  17 137  15 113 109 154  39  95  41 138  73\n",
      "  163  27 107  85  53  10  68 110  57  94 106 115  36 108 156  87  29 105\n",
      "   42  97 162 166 117 159 134 147 122  72  79  82  93  74  24 164 123 161\n",
      "   21  23 133  28 155  83  52 129  61  75  45 130 120  38  49   8 157  18\n",
      "  121 127  40 140  22 146  30  47  16  69  12   9  37  59  19  90 116  48\n",
      "   55 100  64  34  43  66  26 139  60  88  35   3 152 132  91  99  80 158\n",
      "  126 104 135  63  11   7  44  81  31 148  32 131  51 145  89  13 144 111\n",
      "  124  78   1 119  14 136  56  77  86 143  67 125   2 101  76  33  98  50\n",
      "   58  25 160  92   0  62   5 128   4  65  54  70 103  71  46  96 112   6\n",
      "  102 114 118  20  84]]\n",
      "Creating DAS_Surrogate Object\n",
      "Creating Feature Engineering object\n",
      "Using  662/662 samples to train the ML model\n",
      "===============================\n",
      "Neural net parameters\n",
      "===============================\n",
      "Number of layers = 3\n",
      "Number of features = 167\n",
      "Loss function = squared\n",
      "Number of neurons per hidden layer = 20\n",
      "Number of output neurons = 1\n",
      "Activation = ['linear', 'linear', 'tanh', 'linear']\n",
      "This neural network has 228 weights.\n",
      "===============================\n",
      "===============================\n",
      "Training Deep Active Subspace Neural Network...\n"
     ]
    },
    {
     "name": "stderr",
     "output_type": "stream",
     "text": [
      "100%|█████████████████████████████████████████████████████████████████████████████████████████████████████████████████████████████████████████████████████████████████████| 23/23 [00:00<00:00, 453.21it/s]"
     ]
    },
    {
     "name": "stdout",
     "output_type": "stream",
     "text": [
      " loss = 1.0841\n"
     ]
    },
    {
     "name": "stderr",
     "output_type": "stream",
     "text": [
      "\n"
     ]
    },
    {
     "name": "stdout",
     "output_type": "stream",
     "text": [
      "Relative training error = 23.6788 %\n",
      "Relative test error = 22.8528 %\n"
     ]
    },
    {
     "name": "stderr",
     "output_type": "stream",
     "text": [
      "100%|█████████████████████████████████████████████████████████████████████████████████████████████████████████████████████████████████████████████████████████████████████| 23/23 [00:00<00:00, 502.67it/s]"
     ]
    },
    {
     "name": "stdout",
     "output_type": "stream",
     "text": [
      " loss = 0.8681\n"
     ]
    },
    {
     "name": "stderr",
     "output_type": "stream",
     "text": [
      "\n"
     ]
    },
    {
     "name": "stdout",
     "output_type": "stream",
     "text": [
      "Relative training error = 22.6918 %\n",
      "Relative test error = 23.3662 %\n"
     ]
    },
    {
     "name": "stderr",
     "output_type": "stream",
     "text": [
      "100%|█████████████████████████████████████████████████████████████████████████████████████████████████████████████████████████████████████████████████████████████████████| 23/23 [00:00<00:00, 570.08it/s]"
     ]
    },
    {
     "name": "stdout",
     "output_type": "stream",
     "text": [
      " loss = 1.0776\n"
     ]
    },
    {
     "name": "stderr",
     "output_type": "stream",
     "text": [
      "\n"
     ]
    },
    {
     "name": "stdout",
     "output_type": "stream",
     "text": [
      "Relative training error = 19.1879 %\n",
      "Relative test error = 21.8961 %\n"
     ]
    },
    {
     "name": "stderr",
     "output_type": "stream",
     "text": [
      "100%|█████████████████████████████████████████████████████████████████████████████████████████████████████████████████████████████████████████████████████████████████████| 23/23 [00:00<00:00, 464.01it/s]"
     ]
    },
    {
     "name": "stdout",
     "output_type": "stream",
     "text": [
      " loss = 0.9817\n"
     ]
    },
    {
     "name": "stderr",
     "output_type": "stream",
     "text": [
      "\n"
     ]
    },
    {
     "name": "stdout",
     "output_type": "stream",
     "text": [
      "Relative training error = 15.7432 %\n",
      "Relative test error = 18.9455 %\n"
     ]
    },
    {
     "name": "stderr",
     "output_type": "stream",
     "text": [
      "100%|█████████████████████████████████████████████████████████████████████████████████████████████████████████████████████████████████████████████████████████████████████| 23/23 [00:00<00:00, 386.81it/s]"
     ]
    },
    {
     "name": "stdout",
     "output_type": "stream",
     "text": [
      " loss = 0.7193\n"
     ]
    },
    {
     "name": "stderr",
     "output_type": "stream",
     "text": [
      "\n"
     ]
    },
    {
     "name": "stdout",
     "output_type": "stream",
     "text": [
      "Relative training error = 12.9026 %\n",
      "Relative test error = 15.7476 %\n"
     ]
    },
    {
     "name": "stderr",
     "output_type": "stream",
     "text": [
      "100%|█████████████████████████████████████████████████████████████████████████████████████████████████████████████████████████████████████████████████████████████████████| 23/23 [00:00<00:00, 539.93it/s]"
     ]
    },
    {
     "name": "stdout",
     "output_type": "stream",
     "text": [
      " loss = 0.3840\n"
     ]
    },
    {
     "name": "stderr",
     "output_type": "stream",
     "text": [
      "\n"
     ]
    },
    {
     "name": "stdout",
     "output_type": "stream",
     "text": [
      "Relative training error = 11.0564 %\n",
      "Relative test error = 13.3653 %\n"
     ]
    },
    {
     "name": "stderr",
     "output_type": "stream",
     "text": [
      "100%|█████████████████████████████████████████████████████████████████████████████████████████████████████████████████████████████████████████████████████████████████████| 23/23 [00:00<00:00, 448.03it/s]\n"
     ]
    },
    {
     "name": "stdout",
     "output_type": "stream",
     "text": [
      " loss = 0.2173\n",
      "Relative training error = 9.8932 %\n",
      "Relative test error = 11.6775 %\n"
     ]
    },
    {
     "name": "stderr",
     "output_type": "stream",
     "text": [
      "100%|█████████████████████████████████████████████████████████████████████████████████████████████████████████████████████████████████████████████████████████████████████| 23/23 [00:00<00:00, 462.87it/s]"
     ]
    },
    {
     "name": "stdout",
     "output_type": "stream",
     "text": [
      " loss = 0.1161\n"
     ]
    },
    {
     "name": "stderr",
     "output_type": "stream",
     "text": [
      "\n"
     ]
    },
    {
     "name": "stdout",
     "output_type": "stream",
     "text": [
      "Relative training error = 9.0320 %\n",
      "Relative test error = 10.3625 %\n"
     ]
    },
    {
     "name": "stderr",
     "output_type": "stream",
     "text": [
      "100%|█████████████████████████████████████████████████████████████████████████████████████████████████████████████████████████████████████████████████████████████████████| 23/23 [00:00<00:00, 447.55it/s]\n"
     ]
    },
    {
     "name": "stdout",
     "output_type": "stream",
     "text": [
      " loss = 0.1654\n",
      "Relative training error = 8.6385 %\n",
      "Relative test error = 9.8426 %\n"
     ]
    },
    {
     "name": "stderr",
     "output_type": "stream",
     "text": [
      "100%|█████████████████████████████████████████████████████████████████████████████████████████████████████████████████████████████████████████████████████████████████████| 23/23 [00:00<00:00, 534.64it/s]"
     ]
    },
    {
     "name": "stdout",
     "output_type": "stream",
     "text": [
      " loss = 0.1480\n"
     ]
    },
    {
     "name": "stderr",
     "output_type": "stream",
     "text": [
      "\n"
     ]
    },
    {
     "name": "stdout",
     "output_type": "stream",
     "text": [
      "Relative training error = 8.3839 %\n",
      "Relative test error = 9.8111 %\n"
     ]
    },
    {
     "name": "stderr",
     "output_type": "stream",
     "text": [
      "100%|█████████████████████████████████████████████████████████████████████████████████████████████████████████████████████████████████████████████████████████████████████| 23/23 [00:00<00:00, 569.62it/s]"
     ]
    },
    {
     "name": "stdout",
     "output_type": "stream",
     "text": [
      " loss = 0.0896\n",
      "Relative training error = 8.3089 %\n"
     ]
    },
    {
     "name": "stderr",
     "output_type": "stream",
     "text": [
      "\n"
     ]
    },
    {
     "name": "stdout",
     "output_type": "stream",
     "text": [
      "Relative test error = 9.8899 %\n"
     ]
    },
    {
     "name": "stderr",
     "output_type": "stream",
     "text": [
      "100%|█████████████████████████████████████████████████████████████████████████████████████████████████████████████████████████████████████████████████████████████████████| 23/23 [00:00<00:00, 450.62it/s]\n"
     ]
    },
    {
     "name": "stdout",
     "output_type": "stream",
     "text": [
      " loss = 0.1867\n",
      "Relative training error = 8.2178 %\n",
      "Relative test error = 9.7828 %\n"
     ]
    },
    {
     "name": "stderr",
     "output_type": "stream",
     "text": [
      "100%|█████████████████████████████████████████████████████████████████████████████████████████████████████████████████████████████████████████████████████████████████████| 23/23 [00:00<00:00, 466.03it/s]"
     ]
    },
    {
     "name": "stdout",
     "output_type": "stream",
     "text": [
      " loss = 0.0749\n",
      "Relative training error = 8.0838 %\n"
     ]
    },
    {
     "name": "stderr",
     "output_type": "stream",
     "text": [
      "\n"
     ]
    },
    {
     "name": "stdout",
     "output_type": "stream",
     "text": [
      "Relative test error = 9.5367 %\n"
     ]
    },
    {
     "name": "stderr",
     "output_type": "stream",
     "text": [
      "100%|█████████████████████████████████████████████████████████████████████████████████████████████████████████████████████████████████████████████████████████████████████| 23/23 [00:00<00:00, 462.26it/s]"
     ]
    },
    {
     "name": "stdout",
     "output_type": "stream",
     "text": [
      " loss = 0.1120\n"
     ]
    },
    {
     "name": "stderr",
     "output_type": "stream",
     "text": [
      "\n"
     ]
    },
    {
     "name": "stdout",
     "output_type": "stream",
     "text": [
      "Relative training error = 8.0949 %\n",
      "Relative test error = 9.4731 %\n"
     ]
    },
    {
     "name": "stderr",
     "output_type": "stream",
     "text": [
      "100%|█████████████████████████████████████████████████████████████████████████████████████████████████████████████████████████████████████████████████████████████████████| 23/23 [00:00<00:00, 466.27it/s]\n"
     ]
    },
    {
     "name": "stdout",
     "output_type": "stream",
     "text": [
      " loss = 0.0708\n",
      "Relative training error = 8.0669 %\n",
      "Relative test error = 9.4938 %\n"
     ]
    },
    {
     "name": "stderr",
     "output_type": "stream",
     "text": [
      "100%|█████████████████████████████████████████████████████████████████████████████████████████████████████████████████████████████████████████████████████████████████████| 23/23 [00:00<00:00, 532.48it/s]"
     ]
    },
    {
     "name": "stdout",
     "output_type": "stream",
     "text": [
      " loss = 0.1907\n"
     ]
    },
    {
     "name": "stderr",
     "output_type": "stream",
     "text": [
      "\n"
     ]
    },
    {
     "name": "stdout",
     "output_type": "stream",
     "text": [
      "Relative training error = 8.0254 %\n",
      "Relative test error = 9.6406 %\n"
     ]
    },
    {
     "name": "stderr",
     "output_type": "stream",
     "text": [
      "100%|█████████████████████████████████████████████████████████████████████████████████████████████████████████████████████████████████████████████████████████████████████| 23/23 [00:00<00:00, 317.94it/s]\n"
     ]
    },
    {
     "name": "stdout",
     "output_type": "stream",
     "text": [
      " loss = 0.0684\n",
      "Relative training error = 8.0249 %\n",
      "Relative test error = 9.6326 %\n",
      "Creating DAS_analysis object\n",
      "[-0.01079496 -0.00636261 -0.00472965  0.00829344 -0.03315033  0.01000517\n",
      " -0.03147244  0.01236407 -0.02684816  0.00736422 -0.01663265 -0.00670413\n",
      "  0.01756466 -0.01872044  0.02313004 -0.03355007  0.0332702  -0.02308934\n",
      " -0.04141354  0.01600002 -0.00833672  0.01130101  0.00841153  0.0035773\n",
      "  0.00450807  0.03616873  0.00554306  0.01251749 -0.00332135  0.01660203\n",
      "  0.00364524 -0.00423356 -0.01502233  0.00553334  0.00909886  0.03581746\n",
      " -0.01612826 -0.01689578 -0.00544872 -0.0257047  -0.0020281  -0.00491286\n",
      " -0.01851041 -0.00295021 -0.01707543  0.01278958 -0.03309115 -0.03378421\n",
      "  0.02105434 -0.024914    0.01355151  0.0347159   0.00949286 -0.01157946\n",
      " -0.02779381  0.01103345  0.05014661 -0.0388591   0.03466138 -0.03282935\n",
      "  0.01334391 -0.02446218  0.00617272  0.02966007 -0.0113076  -0.02121396\n",
      " -0.02654688 -0.02603522  0.00742446  0.0033779  -0.03955923 -0.02515224\n",
      " -0.00983606 -0.03146489 -0.02662707  0.00106644 -0.01827304 -0.01481842\n",
      "  0.00496895 -0.01752653  0.02289294  0.02491585 -0.05154504 -0.0153165\n",
      " -0.02955348 -0.01164796  0.00169125  0.00708391  0.00424188 -0.0170783\n",
      " -0.02926962  0.01683864 -0.03211833  0.04620026  0.02204849  0.03711775\n",
      " -0.02703611 -0.02134703 -0.01017228 -0.02460535 -0.00175839  0.00900341\n",
      "  0.0066653   0.02126546 -0.00704159 -0.02525979  0.04929931  0.03000105\n",
      "  0.00056224  0.02727065  0.00672098 -0.02266489 -0.03778072 -0.0143658\n",
      " -0.06977009 -0.00184082  0.03251847  0.00536228  0.00780703  0.00351171\n",
      " -0.001558    0.00453452  0.01956437  0.00755578 -0.00347596 -0.02544811\n",
      " -0.00691871  0.0184323  -0.00946686  0.01644332 -0.00717298 -0.00091536\n",
      " -0.00513515 -0.00200119 -0.00781267  0.03063803  0.00576488 -0.00229528\n",
      "  0.02318851  0.0245067  -0.02252075 -0.01338904  0.0351502  -0.00802465\n",
      " -0.02688461 -0.01285858 -0.04307223  0.01796226 -0.00352158 -0.02649279\n",
      " -0.02409055  0.01353839 -0.01250318  0.00313297  0.01588277  0.01109347\n",
      " -0.00357092  0.00296899  0.00483943 -0.03099188 -0.01898565  0.02774835\n",
      " -0.03559913 -0.0050307   0.0044001   0.13017571 -0.01762796]\n",
      "Parameters ordered from most to least important:\n",
      "[[141 149 165 150 153 151 142  17  15 137 113 109  95 154  27  73  39 107\n",
      "   85 163  53  41  10 138  87  36 152  57  94 164  30  75 105  21  68  83\n",
      "   29 166  28  93 159  79  74  24 106  42 116  23 108  56 158 125  97  61\n",
      "  115 117 139 144  38  20  18 140  59  52  46 120  99  37 112  63 135 110\n",
      "  148  62  22  82  26  43  16 129  51 161  78  33  13 130 101  67  58 146\n",
      "   31 122  48  40  49  47  77 133 162 100  69  14  84  11 155  66 145 123\n",
      "  121   2  50  19  86   8 156  54 126  76   4  12 132 127  35  34 102  72\n",
      "  104  96  60 157  64  65  89 147   5 143  80 134 160   7  98 124 103   1\n",
      "  114 118   6 136  45 128  71  81   0  92  91  70   9  88 119  55  25   3\n",
      "   44 131 111  32  90]]\n",
      "Creating DAS_Surrogate Object\n",
      "Creating Feature Engineering object\n",
      "Using  662/662 samples to train the ML model\n",
      "===============================\n",
      "Neural net parameters\n",
      "===============================\n",
      "Number of layers = 3\n",
      "Number of features = 167\n",
      "Loss function = squared\n",
      "Number of neurons per hidden layer = 20\n",
      "Number of output neurons = 1\n",
      "Activation = ['linear', 'linear', 'tanh', 'linear']\n",
      "This neural network has 228 weights.\n",
      "===============================\n",
      "===============================\n",
      "Training Deep Active Subspace Neural Network...\n"
     ]
    },
    {
     "name": "stderr",
     "output_type": "stream",
     "text": [
      "100%|█████████████████████████████████████████████████████████████████████████████████████████████████████████████████████████████████████████████████████████████████████| 23/23 [00:00<00:00, 468.74it/s]"
     ]
    },
    {
     "name": "stdout",
     "output_type": "stream",
     "text": [
      " loss = 1.0697\n"
     ]
    },
    {
     "name": "stderr",
     "output_type": "stream",
     "text": [
      "\n"
     ]
    },
    {
     "name": "stdout",
     "output_type": "stream",
     "text": [
      "Relative training error = 23.0301 %\n",
      "Relative test error = 21.8956 %\n"
     ]
    },
    {
     "name": "stderr",
     "output_type": "stream",
     "text": [
      "100%|█████████████████████████████████████████████████████████████████████████████████████████████████████████████████████████████████████████████████████████████████████| 23/23 [00:00<00:00, 468.84it/s]"
     ]
    },
    {
     "name": "stdout",
     "output_type": "stream",
     "text": [
      " loss = 1.0448\n"
     ]
    },
    {
     "name": "stderr",
     "output_type": "stream",
     "text": [
      "\n"
     ]
    },
    {
     "name": "stdout",
     "output_type": "stream",
     "text": [
      "Relative training error = 19.4801 %\n",
      "Relative test error = 19.0187 %\n"
     ]
    },
    {
     "name": "stderr",
     "output_type": "stream",
     "text": [
      "100%|█████████████████████████████████████████████████████████████████████████████████████████████████████████████████████████████████████████████████████████████████████| 23/23 [00:00<00:00, 441.01it/s]"
     ]
    },
    {
     "name": "stdout",
     "output_type": "stream",
     "text": [
      " loss = 0.7578\n"
     ]
    },
    {
     "name": "stderr",
     "output_type": "stream",
     "text": [
      "\n"
     ]
    },
    {
     "name": "stdout",
     "output_type": "stream",
     "text": [
      "Relative training error = 15.0219 %\n",
      "Relative test error = 17.1884 %\n"
     ]
    },
    {
     "name": "stderr",
     "output_type": "stream",
     "text": [
      "100%|█████████████████████████████████████████████████████████████████████████████████████████████████████████████████████████████████████████████████████████████████████| 23/23 [00:00<00:00, 475.81it/s]\n"
     ]
    },
    {
     "name": "stdout",
     "output_type": "stream",
     "text": [
      " loss = 0.3563\n",
      "Relative training error = 12.3236 %\n",
      "Relative test error = 15.0041 %\n"
     ]
    },
    {
     "name": "stderr",
     "output_type": "stream",
     "text": [
      "100%|█████████████████████████████████████████████████████████████████████████████████████████████████████████████████████████████████████████████████████████████████████| 23/23 [00:00<00:00, 547.13it/s]"
     ]
    },
    {
     "name": "stdout",
     "output_type": "stream",
     "text": [
      " loss = 0.3198\n"
     ]
    },
    {
     "name": "stderr",
     "output_type": "stream",
     "text": [
      "\n"
     ]
    },
    {
     "name": "stdout",
     "output_type": "stream",
     "text": [
      "Relative training error = 10.5481 %\n",
      "Relative test error = 12.9995 %\n"
     ]
    },
    {
     "name": "stderr",
     "output_type": "stream",
     "text": [
      "100%|█████████████████████████████████████████████████████████████████████████████████████████████████████████████████████████████████████████████████████████████████████| 23/23 [00:00<00:00, 514.89it/s]\n"
     ]
    },
    {
     "name": "stdout",
     "output_type": "stream",
     "text": [
      " loss = 0.2502\n",
      "Relative training error = 9.5197 %\n",
      "Relative test error = 11.6365 %\n"
     ]
    },
    {
     "name": "stderr",
     "output_type": "stream",
     "text": [
      "100%|█████████████████████████████████████████████████████████████████████████████████████████████████████████████████████████████████████████████████████████████████████| 23/23 [00:00<00:00, 531.13it/s]"
     ]
    },
    {
     "name": "stdout",
     "output_type": "stream",
     "text": [
      " loss = 0.1167\n",
      "Relative training error = 9.0210 %\n"
     ]
    },
    {
     "name": "stderr",
     "output_type": "stream",
     "text": [
      "\n"
     ]
    },
    {
     "name": "stdout",
     "output_type": "stream",
     "text": [
      "Relative test error = 10.8360 %\n"
     ]
    },
    {
     "name": "stderr",
     "output_type": "stream",
     "text": [
      "100%|█████████████████████████████████████████████████████████████████████████████████████████████████████████████████████████████████████████████████████████████████████| 23/23 [00:00<00:00, 574.68it/s]\n"
     ]
    },
    {
     "name": "stdout",
     "output_type": "stream",
     "text": [
      " loss = 0.1239\n",
      "Relative training error = 8.6716 %\n",
      "Relative test error = 10.3907 %\n"
     ]
    },
    {
     "name": "stderr",
     "output_type": "stream",
     "text": [
      "100%|█████████████████████████████████████████████████████████████████████████████████████████████████████████████████████████████████████████████████████████████████████| 23/23 [00:00<00:00, 549.48it/s]"
     ]
    },
    {
     "name": "stdout",
     "output_type": "stream",
     "text": [
      " loss = 0.0956\n"
     ]
    },
    {
     "name": "stderr",
     "output_type": "stream",
     "text": [
      "\n"
     ]
    },
    {
     "name": "stdout",
     "output_type": "stream",
     "text": [
      "Relative training error = 8.4846 %\n",
      "Relative test error = 9.7646 %\n"
     ]
    },
    {
     "name": "stderr",
     "output_type": "stream",
     "text": [
      "100%|█████████████████████████████████████████████████████████████████████████████████████████████████████████████████████████████████████████████████████████████████████| 23/23 [00:00<00:00, 451.88it/s]"
     ]
    },
    {
     "name": "stdout",
     "output_type": "stream",
     "text": [
      " loss = 0.1431\n"
     ]
    },
    {
     "name": "stderr",
     "output_type": "stream",
     "text": [
      "\n"
     ]
    },
    {
     "name": "stdout",
     "output_type": "stream",
     "text": [
      "Relative training error = 8.3094 %\n",
      "Relative test error = 9.6462 %\n"
     ]
    },
    {
     "name": "stderr",
     "output_type": "stream",
     "text": [
      "100%|█████████████████████████████████████████████████████████████████████████████████████████████████████████████████████████████████████████████████████████████████████| 23/23 [00:00<00:00, 466.62it/s]"
     ]
    },
    {
     "name": "stdout",
     "output_type": "stream",
     "text": [
      " loss = 0.1042\n"
     ]
    },
    {
     "name": "stderr",
     "output_type": "stream",
     "text": [
      "\n"
     ]
    },
    {
     "name": "stdout",
     "output_type": "stream",
     "text": [
      "Relative training error = 8.2729 %\n",
      "Relative test error = 9.6730 %\n"
     ]
    },
    {
     "name": "stderr",
     "output_type": "stream",
     "text": [
      "100%|█████████████████████████████████████████████████████████████████████████████████████████████████████████████████████████████████████████████████████████████████████| 23/23 [00:00<00:00, 453.78it/s]"
     ]
    },
    {
     "name": "stdout",
     "output_type": "stream",
     "text": [
      " loss = 0.0816\n"
     ]
    },
    {
     "name": "stderr",
     "output_type": "stream",
     "text": [
      "\n"
     ]
    },
    {
     "name": "stdout",
     "output_type": "stream",
     "text": [
      "Relative training error = 8.1909 %\n",
      "Relative test error = 9.6240 %\n"
     ]
    },
    {
     "name": "stderr",
     "output_type": "stream",
     "text": [
      "100%|█████████████████████████████████████████████████████████████████████████████████████████████████████████████████████████████████████████████████████████████████████| 23/23 [00:00<00:00, 460.07it/s]"
     ]
    },
    {
     "name": "stdout",
     "output_type": "stream",
     "text": [
      " loss = 0.0830\n"
     ]
    },
    {
     "name": "stderr",
     "output_type": "stream",
     "text": [
      "\n"
     ]
    },
    {
     "name": "stdout",
     "output_type": "stream",
     "text": [
      "Relative training error = 8.1662 %\n",
      "Relative test error = 9.7561 %\n"
     ]
    },
    {
     "name": "stderr",
     "output_type": "stream",
     "text": [
      "100%|█████████████████████████████████████████████████████████████████████████████████████████████████████████████████████████████████████████████████████████████████████| 23/23 [00:00<00:00, 422.71it/s]"
     ]
    },
    {
     "name": "stdout",
     "output_type": "stream",
     "text": [
      " loss = 0.0837\n"
     ]
    },
    {
     "name": "stderr",
     "output_type": "stream",
     "text": [
      "\n"
     ]
    },
    {
     "name": "stdout",
     "output_type": "stream",
     "text": [
      "Relative training error = 8.1821 %\n",
      "Relative test error = 9.9243 %\n",
      "Creating DAS_analysis object\n",
      "[-0.01079496 -0.00636261 -0.00472965  0.00829344 -0.03315033  0.01000517\n",
      " -0.03147244  0.01236407 -0.02684816  0.00736422 -0.01663265 -0.00670413\n",
      "  0.01756466 -0.01872044  0.02313004 -0.03355007  0.0332702  -0.02308934\n",
      " -0.04141354  0.01600002 -0.00833672  0.01130101  0.00841153  0.0035773\n",
      "  0.00450807  0.03616873  0.00554306  0.01251749 -0.00332135  0.01660203\n",
      "  0.00364524 -0.00423356 -0.01502233  0.00553334  0.00909886  0.03581746\n",
      " -0.01612826 -0.01689578 -0.00544872 -0.0257047  -0.0020281  -0.00491286\n",
      " -0.01851041 -0.00295021 -0.01707543  0.01278958 -0.03309115 -0.03378421\n",
      "  0.02105434 -0.024914    0.01355151  0.0347159   0.00949286 -0.01157946\n",
      " -0.02779381  0.01103345  0.05014661 -0.0388591   0.03466138 -0.03282935\n",
      "  0.01334391 -0.02446218  0.00617272  0.02966007 -0.0113076  -0.02121396\n",
      " -0.02654688 -0.02603522  0.00742446  0.0033779  -0.03955923 -0.02515224\n",
      " -0.00983606 -0.03146489 -0.02662707  0.00106644 -0.01827304 -0.01481842\n",
      "  0.00496895 -0.01752653  0.02289294  0.02491585 -0.05154504 -0.0153165\n",
      " -0.02955348 -0.01164796  0.00169125  0.00708391  0.00424188 -0.0170783\n",
      " -0.02926962  0.01683864 -0.03211833  0.04620026  0.02204849  0.03711775\n",
      " -0.02703611 -0.02134703 -0.01017228 -0.02460535 -0.00175839  0.00900341\n",
      "  0.0066653   0.02126546 -0.00704159 -0.02525979  0.04929931  0.03000105\n",
      "  0.00056224  0.02727065  0.00672098 -0.02266489 -0.03778072 -0.0143658\n",
      " -0.06977009 -0.00184082  0.03251847  0.00536228  0.00780703  0.00351171\n",
      " -0.001558    0.00453452  0.01956437  0.00755578 -0.00347596 -0.02544811\n",
      " -0.00691871  0.0184323  -0.00946686  0.01644332 -0.00717298 -0.00091536\n",
      " -0.00513515 -0.00200119 -0.00781267  0.03063803  0.00576488 -0.00229528\n",
      "  0.02318851  0.0245067  -0.02252075 -0.01338904  0.0351502  -0.00802465\n",
      " -0.02688461 -0.01285858 -0.04307223  0.01796226 -0.00352158 -0.02649279\n",
      " -0.02409055  0.01353839 -0.01250318  0.00313297  0.01588277  0.01109347\n",
      " -0.00357092  0.00296899  0.00483943 -0.03099188 -0.01898565  0.02774835\n",
      " -0.03559913 -0.0050307   0.0044001   0.13017571 -0.01762796]\n",
      "Parameters ordered from most to least important:\n",
      "[[141 149 165 150 153 151 142  17 137  15 113  27 109 154 138  39  41 163\n",
      "   95  10 107  73  21  93  99  68  57  36 156  29 159  94  53  85  71 115\n",
      "   97 152  49 106 146 117 164  87  82 123  38  13  59  74 124  23  31 166\n",
      "   42 133  63  75 155 105 112  83  30 162  24   8  72  40 139   2 108 148\n",
      "   47  78  16  35 121 143 120 100   3  25 129  96  19  56  46 131 147 125\n",
      "   55 101   1 127  43  48  26  51 104  28  18  61  90  69  80  32 116  60\n",
      "  135 140 111  22  84  66  14  91  76 126 161  37  52  54 130 110 102 119\n",
      "   12  77  86 114  92  34 128   7  45 145   4 136  33 132  11 158 122  81\n",
      "   62 118  65  79   0  64  70  44   6  67  58  20 134 103   5  50   9 144\n",
      "   98  88  89 157 160]]\n",
      "Creating DAS_Surrogate Object\n",
      "Creating Feature Engineering object\n",
      "Using  662/662 samples to train the ML model\n",
      "===============================\n",
      "Neural net parameters\n",
      "===============================\n",
      "Number of layers = 3\n",
      "Number of features = 167\n",
      "Loss function = squared\n",
      "Number of neurons per hidden layer = 20\n",
      "Number of output neurons = 1\n",
      "Activation = ['linear', 'linear', 'tanh', 'linear']\n",
      "This neural network has 228 weights.\n",
      "===============================\n",
      "===============================\n",
      "Training Deep Active Subspace Neural Network...\n"
     ]
    },
    {
     "name": "stderr",
     "output_type": "stream",
     "text": [
      "100%|█████████████████████████████████████████████████████████████████████████████████████████████████████████████████████████████████████████████████████████████████████| 23/23 [00:00<00:00, 460.18it/s]"
     ]
    },
    {
     "name": "stdout",
     "output_type": "stream",
     "text": [
      " loss = 1.0528\n"
     ]
    },
    {
     "name": "stderr",
     "output_type": "stream",
     "text": [
      "\n"
     ]
    },
    {
     "name": "stdout",
     "output_type": "stream",
     "text": [
      "Relative training error = 21.8604 %\n",
      "Relative test error = 23.6352 %\n"
     ]
    },
    {
     "name": "stderr",
     "output_type": "stream",
     "text": [
      "100%|█████████████████████████████████████████████████████████████████████████████████████████████████████████████████████████████████████████████████████████████████████| 23/23 [00:00<00:00, 455.31it/s]"
     ]
    },
    {
     "name": "stdout",
     "output_type": "stream",
     "text": [
      " loss = 0.8219\n"
     ]
    },
    {
     "name": "stderr",
     "output_type": "stream",
     "text": [
      "\n"
     ]
    },
    {
     "name": "stdout",
     "output_type": "stream",
     "text": [
      "Relative training error = 18.0038 %\n",
      "Relative test error = 21.6042 %\n"
     ]
    },
    {
     "name": "stderr",
     "output_type": "stream",
     "text": [
      "100%|█████████████████████████████████████████████████████████████████████████████████████████████████████████████████████████████████████████████████████████████████████| 23/23 [00:00<00:00, 516.63it/s]"
     ]
    },
    {
     "name": "stdout",
     "output_type": "stream",
     "text": [
      " loss = 0.3943\n"
     ]
    },
    {
     "name": "stderr",
     "output_type": "stream",
     "text": [
      "\n"
     ]
    },
    {
     "name": "stdout",
     "output_type": "stream",
     "text": [
      "Relative training error = 14.1451 %\n",
      "Relative test error = 17.9272 %\n"
     ]
    },
    {
     "name": "stderr",
     "output_type": "stream",
     "text": [
      "100%|█████████████████████████████████████████████████████████████████████████████████████████████████████████████████████████████████████████████████████████████████████| 23/23 [00:00<00:00, 456.50it/s]"
     ]
    },
    {
     "name": "stdout",
     "output_type": "stream",
     "text": [
      " loss = 0.4967\n"
     ]
    },
    {
     "name": "stderr",
     "output_type": "stream",
     "text": [
      "\n"
     ]
    },
    {
     "name": "stdout",
     "output_type": "stream",
     "text": [
      "Relative training error = 11.6368 %\n",
      "Relative test error = 14.0616 %\n"
     ]
    },
    {
     "name": "stderr",
     "output_type": "stream",
     "text": [
      "100%|█████████████████████████████████████████████████████████████████████████████████████████████████████████████████████████████████████████████████████████████████████| 23/23 [00:00<00:00, 463.57it/s]\n"
     ]
    },
    {
     "name": "stdout",
     "output_type": "stream",
     "text": [
      " loss = 0.2500\n",
      "Relative training error = 10.1774 %\n",
      "Relative test error = 12.1428 %\n"
     ]
    },
    {
     "name": "stderr",
     "output_type": "stream",
     "text": [
      "100%|█████████████████████████████████████████████████████████████████████████████████████████████████████████████████████████████████████████████████████████████████████| 23/23 [00:00<00:00, 469.76it/s]"
     ]
    },
    {
     "name": "stdout",
     "output_type": "stream",
     "text": [
      " loss = 0.1886\n"
     ]
    },
    {
     "name": "stderr",
     "output_type": "stream",
     "text": [
      "\n"
     ]
    },
    {
     "name": "stdout",
     "output_type": "stream",
     "text": [
      "Relative training error = 9.3816 %\n",
      "Relative test error = 11.2031 %\n"
     ]
    },
    {
     "name": "stderr",
     "output_type": "stream",
     "text": [
      "100%|█████████████████████████████████████████████████████████████████████████████████████████████████████████████████████████████████████████████████████████████████████| 23/23 [00:00<00:00, 526.74it/s]\n"
     ]
    },
    {
     "name": "stdout",
     "output_type": "stream",
     "text": [
      " loss = 0.1070\n",
      "Relative training error = 8.9533 %\n",
      "Relative test error = 10.7390 %\n"
     ]
    },
    {
     "name": "stderr",
     "output_type": "stream",
     "text": [
      "100%|█████████████████████████████████████████████████████████████████████████████████████████████████████████████████████████████████████████████████████████████████████| 23/23 [00:00<00:00, 550.78it/s]"
     ]
    },
    {
     "name": "stdout",
     "output_type": "stream",
     "text": [
      " loss = 0.0955\n",
      "Relative training error = 8.6364 %\n"
     ]
    },
    {
     "name": "stderr",
     "output_type": "stream",
     "text": [
      "\n"
     ]
    },
    {
     "name": "stdout",
     "output_type": "stream",
     "text": [
      "Relative test error = 10.4757 %\n"
     ]
    },
    {
     "name": "stderr",
     "output_type": "stream",
     "text": [
      "100%|█████████████████████████████████████████████████████████████████████████████████████████████████████████████████████████████████████████████████████████████████████| 23/23 [00:00<00:00, 542.23it/s]\n"
     ]
    },
    {
     "name": "stdout",
     "output_type": "stream",
     "text": [
      " loss = 0.1793\n",
      "Relative training error = 8.4933 %\n",
      "Relative test error = 10.3679 %\n"
     ]
    },
    {
     "name": "stderr",
     "output_type": "stream",
     "text": [
      "100%|█████████████████████████████████████████████████████████████████████████████████████████████████████████████████████████████████████████████████████████████████████| 23/23 [00:00<00:00, 529.17it/s]"
     ]
    },
    {
     "name": "stdout",
     "output_type": "stream",
     "text": [
      " loss = 0.1083\n"
     ]
    },
    {
     "name": "stderr",
     "output_type": "stream",
     "text": [
      "\n"
     ]
    },
    {
     "name": "stdout",
     "output_type": "stream",
     "text": [
      "Relative training error = 8.3510 %\n",
      "Relative test error = 10.1278 %\n"
     ]
    },
    {
     "name": "stderr",
     "output_type": "stream",
     "text": [
      "100%|█████████████████████████████████████████████████████████████████████████████████████████████████████████████████████████████████████████████████████████████████████| 23/23 [00:00<00:00, 458.19it/s]\n"
     ]
    },
    {
     "name": "stdout",
     "output_type": "stream",
     "text": [
      " loss = 0.0694\n",
      "Relative training error = 8.2555 %\n",
      "Relative test error = 9.9378 %\n"
     ]
    },
    {
     "name": "stderr",
     "output_type": "stream",
     "text": [
      "100%|█████████████████████████████████████████████████████████████████████████████████████████████████████████████████████████████████████████████████████████████████████| 23/23 [00:00<00:00, 451.09it/s]"
     ]
    },
    {
     "name": "stdout",
     "output_type": "stream",
     "text": [
      " loss = 0.1542\n"
     ]
    },
    {
     "name": "stderr",
     "output_type": "stream",
     "text": [
      "\n"
     ]
    },
    {
     "name": "stdout",
     "output_type": "stream",
     "text": [
      "Relative training error = 8.2475 %\n",
      "Relative test error = 9.8103 %\n"
     ]
    },
    {
     "name": "stderr",
     "output_type": "stream",
     "text": [
      "100%|█████████████████████████████████████████████████████████████████████████████████████████████████████████████████████████████████████████████████████████████████████| 23/23 [00:00<00:00, 530.24it/s]"
     ]
    },
    {
     "name": "stdout",
     "output_type": "stream",
     "text": [
      " loss = 0.1385\n"
     ]
    },
    {
     "name": "stderr",
     "output_type": "stream",
     "text": [
      "\n"
     ]
    },
    {
     "name": "stdout",
     "output_type": "stream",
     "text": [
      "Relative training error = 8.2811 %\n",
      "Relative test error = 9.8252 %\n"
     ]
    },
    {
     "name": "stderr",
     "output_type": "stream",
     "text": [
      "100%|█████████████████████████████████████████████████████████████████████████████████████████████████████████████████████████████████████████████████████████████████████| 23/23 [00:00<00:00, 571.73it/s]"
     ]
    },
    {
     "name": "stdout",
     "output_type": "stream",
     "text": [
      " loss = 0.1121\n"
     ]
    },
    {
     "name": "stderr",
     "output_type": "stream",
     "text": [
      "\n"
     ]
    },
    {
     "name": "stdout",
     "output_type": "stream",
     "text": [
      "Relative training error = 8.1919 %\n",
      "Relative test error = 9.6486 %\n"
     ]
    },
    {
     "name": "stderr",
     "output_type": "stream",
     "text": [
      "100%|█████████████████████████████████████████████████████████████████████████████████████████████████████████████████████████████████████████████████████████████████████| 23/23 [00:00<00:00, 518.75it/s]\n"
     ]
    },
    {
     "name": "stdout",
     "output_type": "stream",
     "text": [
      " loss = 0.0701\n",
      "Relative training error = 8.1691 %\n",
      "Relative test error = 9.6029 %\n"
     ]
    },
    {
     "name": "stderr",
     "output_type": "stream",
     "text": [
      "100%|█████████████████████████████████████████████████████████████████████████████████████████████████████████████████████████████████████████████████████████████████████| 23/23 [00:00<00:00, 523.62it/s]"
     ]
    },
    {
     "name": "stdout",
     "output_type": "stream",
     "text": [
      " loss = 0.0749\n"
     ]
    },
    {
     "name": "stderr",
     "output_type": "stream",
     "text": [
      "\n"
     ]
    },
    {
     "name": "stdout",
     "output_type": "stream",
     "text": [
      "Relative training error = 8.1522 %\n",
      "Relative test error = 9.8285 %\n"
     ]
    },
    {
     "name": "stderr",
     "output_type": "stream",
     "text": [
      "100%|█████████████████████████████████████████████████████████████████████████████████████████████████████████████████████████████████████████████████████████████████████| 23/23 [00:00<00:00, 491.10it/s]"
     ]
    },
    {
     "name": "stdout",
     "output_type": "stream",
     "text": [
      " loss = 0.1503\n"
     ]
    },
    {
     "name": "stderr",
     "output_type": "stream",
     "text": [
      "\n"
     ]
    },
    {
     "name": "stdout",
     "output_type": "stream",
     "text": [
      "Relative training error = 8.2049 %\n",
      "Relative test error = 9.3297 %\n"
     ]
    },
    {
     "name": "stderr",
     "output_type": "stream",
     "text": [
      "100%|█████████████████████████████████████████████████████████████████████████████████████████████████████████████████████████████████████████████████████████████████████| 23/23 [00:00<00:00, 447.34it/s]"
     ]
    },
    {
     "name": "stdout",
     "output_type": "stream",
     "text": [
      " loss = 0.0863\n"
     ]
    },
    {
     "name": "stderr",
     "output_type": "stream",
     "text": [
      "\n"
     ]
    },
    {
     "name": "stdout",
     "output_type": "stream",
     "text": [
      "Relative training error = 8.2059 %\n",
      "Relative test error = 9.7959 %\n"
     ]
    },
    {
     "name": "stderr",
     "output_type": "stream",
     "text": [
      "100%|█████████████████████████████████████████████████████████████████████████████████████████████████████████████████████████████████████████████████████████████████████| 23/23 [00:00<00:00, 566.02it/s]"
     ]
    },
    {
     "name": "stdout",
     "output_type": "stream",
     "text": [
      " loss = 0.1571\n"
     ]
    },
    {
     "name": "stderr",
     "output_type": "stream",
     "text": [
      "\n"
     ]
    },
    {
     "name": "stdout",
     "output_type": "stream",
     "text": [
      "Relative training error = 8.1217 %\n",
      "Relative test error = 9.4230 %\n"
     ]
    },
    {
     "name": "stderr",
     "output_type": "stream",
     "text": [
      "100%|█████████████████████████████████████████████████████████████████████████████████████████████████████████████████████████████████████████████████████████████████████| 23/23 [00:00<00:00, 452.42it/s]"
     ]
    },
    {
     "name": "stdout",
     "output_type": "stream",
     "text": [
      " loss = 0.0594\n"
     ]
    },
    {
     "name": "stderr",
     "output_type": "stream",
     "text": [
      "\n"
     ]
    },
    {
     "name": "stdout",
     "output_type": "stream",
     "text": [
      "Relative training error = 8.1121 %\n",
      "Relative test error = 9.2894 %\n"
     ]
    },
    {
     "name": "stderr",
     "output_type": "stream",
     "text": [
      "100%|█████████████████████████████████████████████████████████████████████████████████████████████████████████████████████████████████████████████████████████████████████| 23/23 [00:00<00:00, 436.43it/s]"
     ]
    },
    {
     "name": "stdout",
     "output_type": "stream",
     "text": [
      " loss = 0.0895\n"
     ]
    },
    {
     "name": "stderr",
     "output_type": "stream",
     "text": [
      "\n"
     ]
    },
    {
     "name": "stdout",
     "output_type": "stream",
     "text": [
      "Relative training error = 8.1077 %\n",
      "Relative test error = 9.1771 %\n"
     ]
    },
    {
     "name": "stderr",
     "output_type": "stream",
     "text": [
      "100%|█████████████████████████████████████████████████████████████████████████████████████████████████████████████████████████████████████████████████████████████████████| 23/23 [00:00<00:00, 527.47it/s]"
     ]
    },
    {
     "name": "stdout",
     "output_type": "stream",
     "text": [
      " loss = 0.1721\n"
     ]
    },
    {
     "name": "stderr",
     "output_type": "stream",
     "text": [
      "\n"
     ]
    },
    {
     "name": "stdout",
     "output_type": "stream",
     "text": [
      "Relative training error = 8.1265 %\n",
      "Relative test error = 9.3771 %\n"
     ]
    },
    {
     "name": "stderr",
     "output_type": "stream",
     "text": [
      "100%|█████████████████████████████████████████████████████████████████████████████████████████████████████████████████████████████████████████████████████████████████████| 23/23 [00:00<00:00, 503.89it/s]"
     ]
    },
    {
     "name": "stdout",
     "output_type": "stream",
     "text": [
      " loss = 0.1124\n",
      "Relative training error = 8.1293 %\n"
     ]
    },
    {
     "name": "stderr",
     "output_type": "stream",
     "text": [
      "\n"
     ]
    },
    {
     "name": "stdout",
     "output_type": "stream",
     "text": [
      "Relative test error = 9.6797 %\n"
     ]
    },
    {
     "name": "stderr",
     "output_type": "stream",
     "text": [
      "100%|█████████████████████████████████████████████████████████████████████████████████████████████████████████████████████████████████████████████████████████████████████| 23/23 [00:00<00:00, 527.76it/s]\n"
     ]
    },
    {
     "name": "stdout",
     "output_type": "stream",
     "text": [
      " loss = 0.1419\n",
      "Relative training error = 8.0487 %\n",
      "Relative test error = 9.6110 %\n"
     ]
    },
    {
     "name": "stderr",
     "output_type": "stream",
     "text": [
      "100%|█████████████████████████████████████████████████████████████████████████████████████████████████████████████████████████████████████████████████████████████████████| 23/23 [00:00<00:00, 531.28it/s]\n"
     ]
    },
    {
     "name": "stdout",
     "output_type": "stream",
     "text": [
      " loss = 0.0788\n",
      "Relative training error = 8.1328 %\n",
      "Relative test error = 9.7494 %\n",
      "Creating DAS_analysis object\n",
      "[-0.01079496 -0.00636261 -0.00472965  0.00829344 -0.03315033  0.01000517\n",
      " -0.03147244  0.01236407 -0.02684816  0.00736422 -0.01663265 -0.00670413\n",
      "  0.01756466 -0.01872044  0.02313004 -0.03355007  0.0332702  -0.02308934\n",
      " -0.04141354  0.01600002 -0.00833672  0.01130101  0.00841153  0.0035773\n",
      "  0.00450807  0.03616873  0.00554306  0.01251749 -0.00332135  0.01660203\n",
      "  0.00364524 -0.00423356 -0.01502233  0.00553334  0.00909886  0.03581746\n",
      " -0.01612826 -0.01689578 -0.00544872 -0.0257047  -0.0020281  -0.00491286\n",
      " -0.01851041 -0.00295021 -0.01707543  0.01278958 -0.03309115 -0.03378421\n",
      "  0.02105434 -0.024914    0.01355151  0.0347159   0.00949286 -0.01157946\n",
      " -0.02779381  0.01103345  0.05014661 -0.0388591   0.03466138 -0.03282935\n",
      "  0.01334391 -0.02446218  0.00617272  0.02966007 -0.0113076  -0.02121396\n",
      " -0.02654688 -0.02603522  0.00742446  0.0033779  -0.03955923 -0.02515224\n",
      " -0.00983606 -0.03146489 -0.02662707  0.00106644 -0.01827304 -0.01481842\n",
      "  0.00496895 -0.01752653  0.02289294  0.02491585 -0.05154504 -0.0153165\n",
      " -0.02955348 -0.01164796  0.00169125  0.00708391  0.00424188 -0.0170783\n",
      " -0.02926962  0.01683864 -0.03211833  0.04620026  0.02204849  0.03711775\n",
      " -0.02703611 -0.02134703 -0.01017228 -0.02460535 -0.00175839  0.00900341\n",
      "  0.0066653   0.02126546 -0.00704159 -0.02525979  0.04929931  0.03000105\n",
      "  0.00056224  0.02727065  0.00672098 -0.02266489 -0.03778072 -0.0143658\n",
      " -0.06977009 -0.00184082  0.03251847  0.00536228  0.00780703  0.00351171\n",
      " -0.001558    0.00453452  0.01956437  0.00755578 -0.00347596 -0.02544811\n",
      " -0.00691871  0.0184323  -0.00946686  0.01644332 -0.00717298 -0.00091536\n",
      " -0.00513515 -0.00200119 -0.00781267  0.03063803  0.00576488 -0.00229528\n",
      "  0.02318851  0.0245067  -0.02252075 -0.01338904  0.0351502  -0.00802465\n",
      " -0.02688461 -0.01285858 -0.04307223  0.01796226 -0.00352158 -0.02649279\n",
      " -0.02409055  0.01353839 -0.01250318  0.00313297  0.01588277  0.01109347\n",
      " -0.00357092  0.00296899  0.00483943 -0.03099188 -0.01898565  0.02774835\n",
      " -0.03559913 -0.0050307   0.0044001   0.13017571 -0.01762796]\n",
      "Parameters ordered from most to least important:\n",
      "[[141 149 165 150 153 151 142  17 137  15 113 154 163 107 109 138  39  27\n",
      "   29  10  73  41  21  95  85  57  75 152  53 155  36 115 164 159 166 110\n",
      "   87 106  28 117  94  68 112 139 156  84 162 120 161  18 146 101 108  99\n",
      "    1  93  79  40  69 105  58 145  83  38   5  48  51  42  98  63  86   3\n",
      "   24  97  45 136  37  32 100  47 123  54  23  30 158  74  46  82 140 134\n",
      "  130  49  52  78  90  65  26 118 148  31  80 121 119  81  89 133 127  25\n",
      "  132   0   8   4  66  33  13  76  59 144  22 131  70 114   2  44  19  67\n",
      "   43 135  92 129 104  91  14   9  64 111  61 116   7 128  20  88 122  16\n",
      "   50 125 102  72  35  34  60  77 157   6  96  62 103 143 126  56  12 124\n",
      "   11  55  71 160 147]]\n",
      "Creating DAS_Surrogate Object\n",
      "Creating Feature Engineering object\n",
      "Using  662/662 samples to train the ML model\n",
      "===============================\n",
      "Neural net parameters\n",
      "===============================\n",
      "Number of layers = 3\n",
      "Number of features = 167\n",
      "Loss function = squared\n",
      "Number of neurons per hidden layer = 20\n",
      "Number of output neurons = 1\n",
      "Activation = ['linear', 'linear', 'tanh', 'linear']\n",
      "This neural network has 228 weights.\n",
      "===============================\n",
      "===============================\n",
      "Training Deep Active Subspace Neural Network...\n"
     ]
    },
    {
     "name": "stderr",
     "output_type": "stream",
     "text": [
      "100%|█████████████████████████████████████████████████████████████████████████████████████████████████████████████████████████████████████████████████████████████████████| 23/23 [00:00<00:00, 549.16it/s]"
     ]
    },
    {
     "name": "stdout",
     "output_type": "stream",
     "text": [
      " loss = 1.2704\n",
      "Relative training error = 23.0254 %\n",
      "Relative test error = 22.4123 %\n"
     ]
    },
    {
     "name": "stderr",
     "output_type": "stream",
     "text": [
      "\n",
      "100%|█████████████████████████████████████████████████████████████████████████████████████████████████████████████████████████████████████████████████████████████████████| 23/23 [00:00<00:00, 449.65it/s]\n"
     ]
    },
    {
     "name": "stdout",
     "output_type": "stream",
     "text": [
      " loss = 1.4567\n",
      "Relative training error = 18.6087 %\n",
      "Relative test error = 20.1899 %\n"
     ]
    },
    {
     "name": "stderr",
     "output_type": "stream",
     "text": [
      "100%|█████████████████████████████████████████████████████████████████████████████████████████████████████████████████████████████████████████████████████████████████████| 23/23 [00:00<00:00, 439.25it/s]\n"
     ]
    },
    {
     "name": "stdout",
     "output_type": "stream",
     "text": [
      " loss = 0.6443\n",
      "Relative training error = 15.2138 %\n",
      "Relative test error = 18.2406 %\n"
     ]
    },
    {
     "name": "stderr",
     "output_type": "stream",
     "text": [
      "100%|█████████████████████████████████████████████████████████████████████████████████████████████████████████████████████████████████████████████████████████████████████| 23/23 [00:00<00:00, 442.37it/s]\n"
     ]
    },
    {
     "name": "stdout",
     "output_type": "stream",
     "text": [
      " loss = 0.3780\n",
      "Relative training error = 13.1125 %\n",
      "Relative test error = 16.0078 %\n"
     ]
    },
    {
     "name": "stderr",
     "output_type": "stream",
     "text": [
      "100%|█████████████████████████████████████████████████████████████████████████████████████████████████████████████████████████████████████████████████████████████████████| 23/23 [00:00<00:00, 554.25it/s]\n"
     ]
    },
    {
     "name": "stdout",
     "output_type": "stream",
     "text": [
      " loss = 0.3001\n",
      "Relative training error = 11.4491 %\n",
      "Relative test error = 14.1804 %\n"
     ]
    },
    {
     "name": "stderr",
     "output_type": "stream",
     "text": [
      "100%|█████████████████████████████████████████████████████████████████████████████████████████████████████████████████████████████████████████████████████████████████████| 23/23 [00:00<00:00, 438.04it/s]"
     ]
    },
    {
     "name": "stdout",
     "output_type": "stream",
     "text": [
      " loss = 0.2679\n"
     ]
    },
    {
     "name": "stderr",
     "output_type": "stream",
     "text": [
      "\n"
     ]
    },
    {
     "name": "stdout",
     "output_type": "stream",
     "text": [
      "Relative training error = 10.2664 %\n",
      "Relative test error = 12.4897 %\n"
     ]
    },
    {
     "name": "stderr",
     "output_type": "stream",
     "text": [
      "100%|█████████████████████████████████████████████████████████████████████████████████████████████████████████████████████████████████████████████████████████████████████| 23/23 [00:00<00:00, 458.15it/s]\n"
     ]
    },
    {
     "name": "stdout",
     "output_type": "stream",
     "text": [
      " loss = 0.1610\n",
      "Relative training error = 9.5851 %\n",
      "Relative test error = 12.0460 %\n"
     ]
    },
    {
     "name": "stderr",
     "output_type": "stream",
     "text": [
      "100%|█████████████████████████████████████████████████████████████████████████████████████████████████████████████████████████████████████████████████████████████████████| 23/23 [00:00<00:00, 556.05it/s]"
     ]
    },
    {
     "name": "stdout",
     "output_type": "stream",
     "text": [
      " loss = 0.1544\n"
     ]
    },
    {
     "name": "stderr",
     "output_type": "stream",
     "text": [
      "\n"
     ]
    },
    {
     "name": "stdout",
     "output_type": "stream",
     "text": [
      "Relative training error = 9.0964 %\n",
      "Relative test error = 10.8414 %\n"
     ]
    },
    {
     "name": "stderr",
     "output_type": "stream",
     "text": [
      "100%|█████████████████████████████████████████████████████████████████████████████████████████████████████████████████████████████████████████████████████████████████████| 23/23 [00:00<00:00, 535.68it/s]\n"
     ]
    },
    {
     "name": "stdout",
     "output_type": "stream",
     "text": [
      " loss = 0.1089\n",
      "Relative training error = 8.7802 %\n",
      "Relative test error = 10.3947 %\n"
     ]
    },
    {
     "name": "stderr",
     "output_type": "stream",
     "text": [
      "100%|█████████████████████████████████████████████████████████████████████████████████████████████████████████████████████████████████████████████████████████████████████| 23/23 [00:00<00:00, 459.60it/s]\n"
     ]
    },
    {
     "name": "stdout",
     "output_type": "stream",
     "text": [
      " loss = 0.0887\n",
      "Relative training error = 8.6705 %\n",
      "Relative test error = 9.9634 %\n"
     ]
    },
    {
     "name": "stderr",
     "output_type": "stream",
     "text": [
      "100%|█████████████████████████████████████████████████████████████████████████████████████████████████████████████████████████████████████████████████████████████████████| 23/23 [00:00<00:00, 450.58it/s]\n"
     ]
    },
    {
     "name": "stdout",
     "output_type": "stream",
     "text": [
      " loss = 0.1647\n",
      "Relative training error = 8.5079 %\n",
      "Relative test error = 10.2780 %\n"
     ]
    },
    {
     "name": "stderr",
     "output_type": "stream",
     "text": [
      "100%|█████████████████████████████████████████████████████████████████████████████████████████████████████████████████████████████████████████████████████████████████████| 23/23 [00:00<00:00, 466.81it/s]"
     ]
    },
    {
     "name": "stdout",
     "output_type": "stream",
     "text": [
      " loss = 0.1572\n"
     ]
    },
    {
     "name": "stderr",
     "output_type": "stream",
     "text": [
      "\n"
     ]
    },
    {
     "name": "stdout",
     "output_type": "stream",
     "text": [
      "Relative training error = 8.4126 %\n",
      "Relative test error = 10.4974 %\n"
     ]
    },
    {
     "name": "stderr",
     "output_type": "stream",
     "text": [
      "100%|█████████████████████████████████████████████████████████████████████████████████████████████████████████████████████████████████████████████████████████████████████| 23/23 [00:00<00:00, 536.75it/s]"
     ]
    },
    {
     "name": "stdout",
     "output_type": "stream",
     "text": [
      " loss = 0.0860\n"
     ]
    },
    {
     "name": "stderr",
     "output_type": "stream",
     "text": [
      "\n"
     ]
    },
    {
     "name": "stdout",
     "output_type": "stream",
     "text": [
      "Relative training error = 8.3242 %\n",
      "Relative test error = 10.2099 %\n"
     ]
    },
    {
     "name": "stderr",
     "output_type": "stream",
     "text": [
      "100%|█████████████████████████████████████████████████████████████████████████████████████████████████████████████████████████████████████████████████████████████████████| 23/23 [00:00<00:00, 469.45it/s]"
     ]
    },
    {
     "name": "stdout",
     "output_type": "stream",
     "text": [
      " loss = 0.1028\n"
     ]
    },
    {
     "name": "stderr",
     "output_type": "stream",
     "text": [
      "\n"
     ]
    },
    {
     "name": "stdout",
     "output_type": "stream",
     "text": [
      "Relative training error = 8.2981 %\n",
      "Relative test error = 10.0334 %\n"
     ]
    },
    {
     "name": "stderr",
     "output_type": "stream",
     "text": [
      "100%|█████████████████████████████████████████████████████████████████████████████████████████████████████████████████████████████████████████████████████████████████████| 23/23 [00:00<00:00, 550.01it/s]"
     ]
    },
    {
     "name": "stdout",
     "output_type": "stream",
     "text": [
      " loss = 0.0815\n",
      "Relative training error = 8.2851 %\n"
     ]
    },
    {
     "name": "stderr",
     "output_type": "stream",
     "text": [
      "\n"
     ]
    },
    {
     "name": "stdout",
     "output_type": "stream",
     "text": [
      "Relative test error = 9.7901 %\n"
     ]
    },
    {
     "name": "stderr",
     "output_type": "stream",
     "text": [
      "100%|█████████████████████████████████████████████████████████████████████████████████████████████████████████████████████████████████████████████████████████████████████| 23/23 [00:00<00:00, 398.04it/s]"
     ]
    },
    {
     "name": "stdout",
     "output_type": "stream",
     "text": [
      " loss = 0.0593\n"
     ]
    },
    {
     "name": "stderr",
     "output_type": "stream",
     "text": [
      "\n"
     ]
    },
    {
     "name": "stdout",
     "output_type": "stream",
     "text": [
      "Relative training error = 8.1966 %\n",
      "Relative test error = 9.7487 %\n"
     ]
    },
    {
     "name": "stderr",
     "output_type": "stream",
     "text": [
      "100%|█████████████████████████████████████████████████████████████████████████████████████████████████████████████████████████████████████████████████████████████████████| 23/23 [00:00<00:00, 436.39it/s]"
     ]
    },
    {
     "name": "stdout",
     "output_type": "stream",
     "text": [
      " loss = 0.0908\n"
     ]
    },
    {
     "name": "stderr",
     "output_type": "stream",
     "text": [
      "\n"
     ]
    },
    {
     "name": "stdout",
     "output_type": "stream",
     "text": [
      "Relative training error = 8.1249 %\n",
      "Relative test error = 9.7334 %\n"
     ]
    },
    {
     "name": "stderr",
     "output_type": "stream",
     "text": [
      "100%|█████████████████████████████████████████████████████████████████████████████████████████████████████████████████████████████████████████████████████████████████████| 23/23 [00:00<00:00, 558.48it/s]"
     ]
    },
    {
     "name": "stdout",
     "output_type": "stream",
     "text": [
      " loss = 0.1596\n"
     ]
    },
    {
     "name": "stderr",
     "output_type": "stream",
     "text": [
      "\n"
     ]
    },
    {
     "name": "stdout",
     "output_type": "stream",
     "text": [
      "Relative training error = 8.1184 %\n",
      "Relative test error = 9.7668 %\n"
     ]
    },
    {
     "name": "stderr",
     "output_type": "stream",
     "text": [
      "100%|█████████████████████████████████████████████████████████████████████████████████████████████████████████████████████████████████████████████████████████████████████| 23/23 [00:00<00:00, 507.35it/s]"
     ]
    },
    {
     "name": "stdout",
     "output_type": "stream",
     "text": [
      " loss = 0.1297\n"
     ]
    },
    {
     "name": "stderr",
     "output_type": "stream",
     "text": [
      "\n"
     ]
    },
    {
     "name": "stdout",
     "output_type": "stream",
     "text": [
      "Relative training error = 8.1344 %\n",
      "Relative test error = 10.0250 %\n",
      "Creating DAS_analysis object\n",
      "[-0.01079496 -0.00636261 -0.00472965  0.00829344 -0.03315033  0.01000517\n",
      " -0.03147244  0.01236407 -0.02684816  0.00736422 -0.01663265 -0.00670413\n",
      "  0.01756466 -0.01872044  0.02313004 -0.03355007  0.0332702  -0.02308934\n",
      " -0.04141354  0.01600002 -0.00833672  0.01130101  0.00841153  0.0035773\n",
      "  0.00450807  0.03616873  0.00554306  0.01251749 -0.00332135  0.01660203\n",
      "  0.00364524 -0.00423356 -0.01502233  0.00553334  0.00909886  0.03581746\n",
      " -0.01612826 -0.01689578 -0.00544872 -0.0257047  -0.0020281  -0.00491286\n",
      " -0.01851041 -0.00295021 -0.01707543  0.01278958 -0.03309115 -0.03378421\n",
      "  0.02105434 -0.024914    0.01355151  0.0347159   0.00949286 -0.01157946\n",
      " -0.02779381  0.01103345  0.05014661 -0.0388591   0.03466138 -0.03282935\n",
      "  0.01334391 -0.02446218  0.00617272  0.02966007 -0.0113076  -0.02121396\n",
      " -0.02654688 -0.02603522  0.00742446  0.0033779  -0.03955923 -0.02515224\n",
      " -0.00983606 -0.03146489 -0.02662707  0.00106644 -0.01827304 -0.01481842\n",
      "  0.00496895 -0.01752653  0.02289294  0.02491585 -0.05154504 -0.0153165\n",
      " -0.02955348 -0.01164796  0.00169125  0.00708391  0.00424188 -0.0170783\n",
      " -0.02926962  0.01683864 -0.03211833  0.04620026  0.02204849  0.03711775\n",
      " -0.02703611 -0.02134703 -0.01017228 -0.02460535 -0.00175839  0.00900341\n",
      "  0.0066653   0.02126546 -0.00704159 -0.02525979  0.04929931  0.03000105\n",
      "  0.00056224  0.02727065  0.00672098 -0.02266489 -0.03778072 -0.0143658\n",
      " -0.06977009 -0.00184082  0.03251847  0.00536228  0.00780703  0.00351171\n",
      " -0.001558    0.00453452  0.01956437  0.00755578 -0.00347596 -0.02544811\n",
      " -0.00691871  0.0184323  -0.00946686  0.01644332 -0.00717298 -0.00091536\n",
      " -0.00513515 -0.00200119 -0.00781267  0.03063803  0.00576488 -0.00229528\n",
      "  0.02318851  0.0245067  -0.02252075 -0.01338904  0.0351502  -0.00802465\n",
      " -0.02688461 -0.01285858 -0.04307223  0.01796226 -0.00352158 -0.02649279\n",
      " -0.02409055  0.01353839 -0.01250318  0.00313297  0.01588277  0.01109347\n",
      " -0.00357092  0.00296899  0.00483943 -0.03099188 -0.01898565  0.02774835\n",
      " -0.03559913 -0.0050307   0.0044001   0.13017571 -0.01762796]\n",
      "Parameters ordered from most to least important:\n",
      "[[141 149 165 150 153 151 142  17 137  15 113 109 138 163  95  27  10 107\n",
      "  154  85  73  39  36  57  53  94  87  41  68 110 108  75  29 155 159   2\n",
      "   21 112  83  79 166  22  69  93 115  23  16 130  28 161  99 139 100  13\n",
      "   30  74  19 164 123   3 162  97 106  43 117 148  54 147 101 135  49  42\n",
      "   52 105 156 146 121  40 152  51 120  38  47 133  26  76  77  25  63  96\n",
      "  129  33  84  72  55  56 134  90 143 103  58  66  24  59   9  80  86 131\n",
      "  136 116  35 127 111   1  37  46 140 124  82 118   5  32  64 122  12  50\n",
      "  119 157  65 145  67  78  34 126  48  60  61 114  89   4  71  81  18  45\n",
      "    8  88 104 102  31 125  44  98  11 160  92 128   7  91 132 158   0   6\n",
      "   20  14  62  70 144]]\n",
      "Creating DAS_Surrogate Object\n",
      "Creating Feature Engineering object\n",
      "Using  662/662 samples to train the ML model\n",
      "===============================\n",
      "Neural net parameters\n",
      "===============================\n",
      "Number of layers = 3\n",
      "Number of features = 167\n",
      "Loss function = squared\n",
      "Number of neurons per hidden layer = 20\n",
      "Number of output neurons = 1\n",
      "Activation = ['linear', 'linear', 'tanh', 'linear']\n",
      "This neural network has 228 weights.\n",
      "===============================\n",
      "===============================\n",
      "Training Deep Active Subspace Neural Network...\n"
     ]
    },
    {
     "name": "stderr",
     "output_type": "stream",
     "text": [
      "100%|█████████████████████████████████████████████████████████████████████████████████████████████████████████████████████████████████████████████████████████████████████| 23/23 [00:00<00:00, 553.99it/s]"
     ]
    },
    {
     "name": "stdout",
     "output_type": "stream",
     "text": [
      " loss = 2.4005\n",
      "Relative training error = 24.0631 %\n",
      "Relative test error = 22.5349 %\n"
     ]
    },
    {
     "name": "stderr",
     "output_type": "stream",
     "text": [
      "\n",
      "100%|█████████████████████████████████████████████████████████████████████████████████████████████████████████████████████████████████████████████████████████████████████| 23/23 [00:00<00:00, 539.82it/s]"
     ]
    },
    {
     "name": "stdout",
     "output_type": "stream",
     "text": [
      " loss = 0.7315\n"
     ]
    },
    {
     "name": "stderr",
     "output_type": "stream",
     "text": [
      "\n"
     ]
    },
    {
     "name": "stdout",
     "output_type": "stream",
     "text": [
      "Relative training error = 22.7062 %\n",
      "Relative test error = 21.2032 %\n"
     ]
    },
    {
     "name": "stderr",
     "output_type": "stream",
     "text": [
      "100%|█████████████████████████████████████████████████████████████████████████████████████████████████████████████████████████████████████████████████████████████████████| 23/23 [00:00<00:00, 461.43it/s]\n"
     ]
    },
    {
     "name": "stdout",
     "output_type": "stream",
     "text": [
      " loss = 0.8723\n",
      "Relative training error = 20.2508 %\n",
      "Relative test error = 20.3030 %\n"
     ]
    },
    {
     "name": "stderr",
     "output_type": "stream",
     "text": [
      "100%|█████████████████████████████████████████████████████████████████████████████████████████████████████████████████████████████████████████████████████████████████████| 23/23 [00:00<00:00, 551.02it/s]"
     ]
    },
    {
     "name": "stdout",
     "output_type": "stream",
     "text": [
      " loss = 0.5967\n"
     ]
    },
    {
     "name": "stderr",
     "output_type": "stream",
     "text": [
      "\n"
     ]
    },
    {
     "name": "stdout",
     "output_type": "stream",
     "text": [
      "Relative training error = 17.3002 %\n",
      "Relative test error = 18.9236 %\n"
     ]
    },
    {
     "name": "stderr",
     "output_type": "stream",
     "text": [
      "100%|█████████████████████████████████████████████████████████████████████████████████████████████████████████████████████████████████████████████████████████████████████| 23/23 [00:00<00:00, 447.44it/s]"
     ]
    },
    {
     "name": "stdout",
     "output_type": "stream",
     "text": [
      " loss = 0.5687\n"
     ]
    },
    {
     "name": "stderr",
     "output_type": "stream",
     "text": [
      "\n"
     ]
    },
    {
     "name": "stdout",
     "output_type": "stream",
     "text": [
      "Relative training error = 14.5665 %\n",
      "Relative test error = 16.7517 %\n"
     ]
    },
    {
     "name": "stderr",
     "output_type": "stream",
     "text": [
      "100%|█████████████████████████████████████████████████████████████████████████████████████████████████████████████████████████████████████████████████████████████████████| 23/23 [00:00<00:00, 455.74it/s]"
     ]
    },
    {
     "name": "stdout",
     "output_type": "stream",
     "text": [
      " loss = 0.3163\n"
     ]
    },
    {
     "name": "stderr",
     "output_type": "stream",
     "text": [
      "\n"
     ]
    },
    {
     "name": "stdout",
     "output_type": "stream",
     "text": [
      "Relative training error = 12.4772 %\n",
      "Relative test error = 14.5468 %\n"
     ]
    },
    {
     "name": "stderr",
     "output_type": "stream",
     "text": [
      "100%|█████████████████████████████████████████████████████████████████████████████████████████████████████████████████████████████████████████████████████████████████████| 23/23 [00:00<00:00, 435.12it/s]"
     ]
    },
    {
     "name": "stdout",
     "output_type": "stream",
     "text": [
      " loss = 0.2844\n"
     ]
    },
    {
     "name": "stderr",
     "output_type": "stream",
     "text": [
      "\n"
     ]
    },
    {
     "name": "stdout",
     "output_type": "stream",
     "text": [
      "Relative training error = 11.0318 %\n",
      "Relative test error = 12.3127 %\n"
     ]
    },
    {
     "name": "stderr",
     "output_type": "stream",
     "text": [
      "100%|█████████████████████████████████████████████████████████████████████████████████████████████████████████████████████████████████████████████████████████████████████| 23/23 [00:00<00:00, 516.43it/s]"
     ]
    },
    {
     "name": "stdout",
     "output_type": "stream",
     "text": [
      " loss = 0.2106\n"
     ]
    },
    {
     "name": "stderr",
     "output_type": "stream",
     "text": [
      "\n"
     ]
    },
    {
     "name": "stdout",
     "output_type": "stream",
     "text": [
      "Relative training error = 10.2413 %\n",
      "Relative test error = 11.0973 %\n"
     ]
    },
    {
     "name": "stderr",
     "output_type": "stream",
     "text": [
      "100%|█████████████████████████████████████████████████████████████████████████████████████████████████████████████████████████████████████████████████████████████████████| 23/23 [00:00<00:00, 483.40it/s]"
     ]
    },
    {
     "name": "stdout",
     "output_type": "stream",
     "text": [
      " loss = 0.1325\n"
     ]
    },
    {
     "name": "stderr",
     "output_type": "stream",
     "text": [
      "\n"
     ]
    },
    {
     "name": "stdout",
     "output_type": "stream",
     "text": [
      "Relative training error = 9.6155 %\n",
      "Relative test error = 10.5055 %\n"
     ]
    },
    {
     "name": "stderr",
     "output_type": "stream",
     "text": [
      "100%|█████████████████████████████████████████████████████████████████████████████████████████████████████████████████████████████████████████████████████████████████████| 23/23 [00:00<00:00, 441.01it/s]"
     ]
    },
    {
     "name": "stdout",
     "output_type": "stream",
     "text": [
      " loss = 0.1444\n"
     ]
    },
    {
     "name": "stderr",
     "output_type": "stream",
     "text": [
      "\n"
     ]
    },
    {
     "name": "stdout",
     "output_type": "stream",
     "text": [
      "Relative training error = 9.1740 %\n",
      "Relative test error = 10.1817 %\n"
     ]
    },
    {
     "name": "stderr",
     "output_type": "stream",
     "text": [
      "100%|█████████████████████████████████████████████████████████████████████████████████████████████████████████████████████████████████████████████████████████████████████| 23/23 [00:00<00:00, 466.92it/s]"
     ]
    },
    {
     "name": "stdout",
     "output_type": "stream",
     "text": [
      " loss = 0.1307\n"
     ]
    },
    {
     "name": "stderr",
     "output_type": "stream",
     "text": [
      "\n"
     ]
    },
    {
     "name": "stdout",
     "output_type": "stream",
     "text": [
      "Relative training error = 8.9714 %\n",
      "Relative test error = 10.2039 %\n"
     ]
    },
    {
     "name": "stderr",
     "output_type": "stream",
     "text": [
      "100%|█████████████████████████████████████████████████████████████████████████████████████████████████████████████████████████████████████████████████████████████████████| 23/23 [00:00<00:00, 464.22it/s]"
     ]
    },
    {
     "name": "stdout",
     "output_type": "stream",
     "text": [
      " loss = 0.1355\n",
      "Relative training error = 8.8209 %\n"
     ]
    },
    {
     "name": "stderr",
     "output_type": "stream",
     "text": [
      "\n"
     ]
    },
    {
     "name": "stdout",
     "output_type": "stream",
     "text": [
      "Relative test error = 10.1601 %\n"
     ]
    },
    {
     "name": "stderr",
     "output_type": "stream",
     "text": [
      "100%|█████████████████████████████████████████████████████████████████████████████████████████████████████████████████████████████████████████████████████████████████████| 23/23 [00:00<00:00, 468.10it/s]"
     ]
    },
    {
     "name": "stdout",
     "output_type": "stream",
     "text": [
      " loss = 0.1961\n"
     ]
    },
    {
     "name": "stderr",
     "output_type": "stream",
     "text": [
      "\n"
     ]
    },
    {
     "name": "stdout",
     "output_type": "stream",
     "text": [
      "Relative training error = 8.6051 %\n",
      "Relative test error = 10.1163 %\n"
     ]
    },
    {
     "name": "stderr",
     "output_type": "stream",
     "text": [
      "100%|█████████████████████████████████████████████████████████████████████████████████████████████████████████████████████████████████████████████████████████████████████| 23/23 [00:00<00:00, 448.32it/s]"
     ]
    },
    {
     "name": "stdout",
     "output_type": "stream",
     "text": [
      " loss = 0.1926\n"
     ]
    },
    {
     "name": "stderr",
     "output_type": "stream",
     "text": [
      "\n"
     ]
    },
    {
     "name": "stdout",
     "output_type": "stream",
     "text": [
      "Relative training error = 8.5176 %\n",
      "Relative test error = 9.9850 %\n",
      "Creating DAS_analysis object\n",
      "[-0.01079496 -0.00636261 -0.00472965  0.00829344 -0.03315033  0.01000517\n",
      " -0.03147244  0.01236407 -0.02684816  0.00736422 -0.01663265 -0.00670413\n",
      "  0.01756466 -0.01872044  0.02313004 -0.03355007  0.0332702  -0.02308934\n",
      " -0.04141354  0.01600002 -0.00833672  0.01130101  0.00841153  0.0035773\n",
      "  0.00450807  0.03616873  0.00554306  0.01251749 -0.00332135  0.01660203\n",
      "  0.00364524 -0.00423356 -0.01502233  0.00553334  0.00909886  0.03581746\n",
      " -0.01612826 -0.01689578 -0.00544872 -0.0257047  -0.0020281  -0.00491286\n",
      " -0.01851041 -0.00295021 -0.01707543  0.01278958 -0.03309115 -0.03378421\n",
      "  0.02105434 -0.024914    0.01355151  0.0347159   0.00949286 -0.01157946\n",
      " -0.02779381  0.01103345  0.05014661 -0.0388591   0.03466138 -0.03282935\n",
      "  0.01334391 -0.02446218  0.00617272  0.02966007 -0.0113076  -0.02121396\n",
      " -0.02654688 -0.02603522  0.00742446  0.0033779  -0.03955923 -0.02515224\n",
      " -0.00983606 -0.03146489 -0.02662707  0.00106644 -0.01827304 -0.01481842\n",
      "  0.00496895 -0.01752653  0.02289294  0.02491585 -0.05154504 -0.0153165\n",
      " -0.02955348 -0.01164796  0.00169125  0.00708391  0.00424188 -0.0170783\n",
      " -0.02926962  0.01683864 -0.03211833  0.04620026  0.02204849  0.03711775\n",
      " -0.02703611 -0.02134703 -0.01017228 -0.02460535 -0.00175839  0.00900341\n",
      "  0.0066653   0.02126546 -0.00704159 -0.02525979  0.04929931  0.03000105\n",
      "  0.00056224  0.02727065  0.00672098 -0.02266489 -0.03778072 -0.0143658\n",
      " -0.06977009 -0.00184082  0.03251847  0.00536228  0.00780703  0.00351171\n",
      " -0.001558    0.00453452  0.01956437  0.00755578 -0.00347596 -0.02544811\n",
      " -0.00691871  0.0184323  -0.00946686  0.01644332 -0.00717298 -0.00091536\n",
      " -0.00513515 -0.00200119 -0.00781267  0.03063803  0.00576488 -0.00229528\n",
      "  0.02318851  0.0245067  -0.02252075 -0.01338904  0.0351502  -0.00802465\n",
      " -0.02688461 -0.01285858 -0.04307223  0.01796226 -0.00352158 -0.02649279\n",
      " -0.02409055  0.01353839 -0.01250318  0.00313297  0.01588277  0.01109347\n",
      " -0.00357092  0.00296899  0.00483943 -0.03099188 -0.01898565  0.02774835\n",
      " -0.03559913 -0.0050307   0.0044001   0.13017571 -0.01762796]\n",
      "Parameters ordered from most to least important:\n",
      "[[141 149 165 150 153 151  17 142 137  15 113 109 154  73  85  27  95  39\n",
      "  138  41 164 115  57  13  10  68  53  21 163 161  22 107  94  36  75 120\n",
      "  117  74  46  28  47 140  83  16  79 139 152 135 146 111 159  93  24 121\n",
      "    6 100 105  80  30 155  29  42 156 122 133  51  18  96 108  82  40  49\n",
      "   76  99 101  78   9 158  86  64  87   8 166 157 134  61 116  62  37  69\n",
      "  144 112  56  97 162  11 136  66 130  91  52  60 126 147  54 127 148 119\n",
      "   45  59  92   1  35  19  23  50  88 124   7  44 118   5 103  71  72 145\n",
      "   98   2  32 132  81  20 160  90 125 104 110  33 143 106 131  34  84  38\n",
      "   48  70  55  65 128 129  25   4 123  14 114  58   0  43  31  26  12  77\n",
      "  102  89  63  67   3]]\n",
      "Creating DAS_Surrogate Object\n",
      "Creating Feature Engineering object\n",
      "Using  662/662 samples to train the ML model\n",
      "===============================\n",
      "Neural net parameters\n",
      "===============================\n",
      "Number of layers = 3\n",
      "Number of features = 167\n",
      "Loss function = squared\n",
      "Number of neurons per hidden layer = 20\n",
      "Number of output neurons = 1\n",
      "Activation = ['linear', 'linear', 'tanh', 'linear']\n",
      "This neural network has 228 weights.\n",
      "===============================\n",
      "===============================\n",
      "Training Deep Active Subspace Neural Network...\n"
     ]
    },
    {
     "name": "stderr",
     "output_type": "stream",
     "text": [
      "100%|█████████████████████████████████████████████████████████████████████████████████████████████████████████████████████████████████████████████████████████████████████| 23/23 [00:00<00:00, 529.35it/s]"
     ]
    },
    {
     "name": "stdout",
     "output_type": "stream",
     "text": [
      " loss = 0.8111\n"
     ]
    },
    {
     "name": "stderr",
     "output_type": "stream",
     "text": [
      "\n"
     ]
    },
    {
     "name": "stdout",
     "output_type": "stream",
     "text": [
      "Relative training error = 20.7115 %\n",
      "Relative test error = 21.1646 %\n"
     ]
    },
    {
     "name": "stderr",
     "output_type": "stream",
     "text": [
      "100%|█████████████████████████████████████████████████████████████████████████████████████████████████████████████████████████████████████████████████████████████████████| 23/23 [00:00<00:00, 547.36it/s]"
     ]
    },
    {
     "name": "stdout",
     "output_type": "stream",
     "text": [
      " loss = 0.7311\n",
      "Relative training error = 16.4139 %\n",
      "Relative test error = 19.5397 %\n"
     ]
    },
    {
     "name": "stderr",
     "output_type": "stream",
     "text": [
      "\n",
      "100%|█████████████████████████████████████████████████████████████████████████████████████████████████████████████████████████████████████████████████████████████████████| 23/23 [00:00<00:00, 464.29it/s]\n"
     ]
    },
    {
     "name": "stdout",
     "output_type": "stream",
     "text": [
      " loss = 0.5709\n",
      "Relative training error = 13.4631 %\n",
      "Relative test error = 16.1154 %\n"
     ]
    },
    {
     "name": "stderr",
     "output_type": "stream",
     "text": [
      "100%|█████████████████████████████████████████████████████████████████████████████████████████████████████████████████████████████████████████████████████████████████████| 23/23 [00:00<00:00, 546.63it/s]\n"
     ]
    },
    {
     "name": "stdout",
     "output_type": "stream",
     "text": [
      " loss = 0.3419\n",
      "Relative training error = 11.7343 %\n",
      "Relative test error = 14.4410 %\n"
     ]
    },
    {
     "name": "stderr",
     "output_type": "stream",
     "text": [
      "100%|█████████████████████████████████████████████████████████████████████████████████████████████████████████████████████████████████████████████████████████████████████| 23/23 [00:00<00:00, 531.05it/s]"
     ]
    },
    {
     "name": "stdout",
     "output_type": "stream",
     "text": [
      " loss = 0.1609\n"
     ]
    },
    {
     "name": "stderr",
     "output_type": "stream",
     "text": [
      "\n"
     ]
    },
    {
     "name": "stdout",
     "output_type": "stream",
     "text": [
      "Relative training error = 10.5628 %\n",
      "Relative test error = 12.7663 %\n"
     ]
    },
    {
     "name": "stderr",
     "output_type": "stream",
     "text": [
      "100%|█████████████████████████████████████████████████████████████████████████████████████████████████████████████████████████████████████████████████████████████████████| 23/23 [00:00<00:00, 421.84it/s]\n"
     ]
    },
    {
     "name": "stdout",
     "output_type": "stream",
     "text": [
      " loss = 0.2035\n",
      "Relative training error = 9.7581 %\n",
      "Relative test error = 11.8756 %\n"
     ]
    },
    {
     "name": "stderr",
     "output_type": "stream",
     "text": [
      "100%|█████████████████████████████████████████████████████████████████████████████████████████████████████████████████████████████████████████████████████████████████████| 23/23 [00:00<00:00, 559.42it/s]\n"
     ]
    },
    {
     "name": "stdout",
     "output_type": "stream",
     "text": [
      " loss = 0.1116\n",
      "Relative training error = 9.2109 %\n",
      "Relative test error = 10.7231 %\n"
     ]
    },
    {
     "name": "stderr",
     "output_type": "stream",
     "text": [
      "100%|█████████████████████████████████████████████████████████████████████████████████████████████████████████████████████████████████████████████████████████████████████| 23/23 [00:00<00:00, 467.55it/s]\n"
     ]
    },
    {
     "name": "stdout",
     "output_type": "stream",
     "text": [
      " loss = 0.0916\n",
      "Relative training error = 8.9843 %\n",
      "Relative test error = 10.1591 %\n"
     ]
    },
    {
     "name": "stderr",
     "output_type": "stream",
     "text": [
      "100%|█████████████████████████████████████████████████████████████████████████████████████████████████████████████████████████████████████████████████████████████████████| 23/23 [00:00<00:00, 478.42it/s]\n"
     ]
    },
    {
     "name": "stdout",
     "output_type": "stream",
     "text": [
      " loss = 0.1174\n",
      "Relative training error = 8.5896 %\n",
      "Relative test error = 10.1798 %\n"
     ]
    },
    {
     "name": "stderr",
     "output_type": "stream",
     "text": [
      "100%|█████████████████████████████████████████████████████████████████████████████████████████████████████████████████████████████████████████████████████████████████████| 23/23 [00:00<00:00, 524.84it/s]"
     ]
    },
    {
     "name": "stdout",
     "output_type": "stream",
     "text": [
      " loss = 0.0948\n"
     ]
    },
    {
     "name": "stderr",
     "output_type": "stream",
     "text": [
      "\n"
     ]
    },
    {
     "name": "stdout",
     "output_type": "stream",
     "text": [
      "Relative training error = 8.4163 %\n",
      "Relative test error = 9.9094 %\n"
     ]
    },
    {
     "name": "stderr",
     "output_type": "stream",
     "text": [
      "100%|█████████████████████████████████████████████████████████████████████████████████████████████████████████████████████████████████████████████████████████████████████| 23/23 [00:00<00:00, 452.27it/s]\n"
     ]
    },
    {
     "name": "stdout",
     "output_type": "stream",
     "text": [
      " loss = 0.1808\n",
      "Relative training error = 8.3169 %\n",
      "Relative test error = 9.8390 %\n"
     ]
    },
    {
     "name": "stderr",
     "output_type": "stream",
     "text": [
      "100%|█████████████████████████████████████████████████████████████████████████████████████████████████████████████████████████████████████████████████████████████████████| 23/23 [00:00<00:00, 572.62it/s]"
     ]
    },
    {
     "name": "stdout",
     "output_type": "stream",
     "text": [
      " loss = 0.1147\n"
     ]
    },
    {
     "name": "stderr",
     "output_type": "stream",
     "text": [
      "\n"
     ]
    },
    {
     "name": "stdout",
     "output_type": "stream",
     "text": [
      "Relative training error = 8.2298 %\n",
      "Relative test error = 9.5840 %\n"
     ]
    },
    {
     "name": "stderr",
     "output_type": "stream",
     "text": [
      "100%|█████████████████████████████████████████████████████████████████████████████████████████████████████████████████████████████████████████████████████████████████████| 23/23 [00:00<00:00, 464.07it/s]"
     ]
    },
    {
     "name": "stdout",
     "output_type": "stream",
     "text": [
      " loss = 0.1704\n"
     ]
    },
    {
     "name": "stderr",
     "output_type": "stream",
     "text": [
      "\n"
     ]
    },
    {
     "name": "stdout",
     "output_type": "stream",
     "text": [
      "Relative training error = 8.2484 %\n",
      "Relative test error = 9.5517 %\n"
     ]
    },
    {
     "name": "stderr",
     "output_type": "stream",
     "text": [
      "100%|█████████████████████████████████████████████████████████████████████████████████████████████████████████████████████████████████████████████████████████████████████| 23/23 [00:00<00:00, 482.42it/s]\n"
     ]
    },
    {
     "name": "stdout",
     "output_type": "stream",
     "text": [
      " loss = 0.1462\n",
      "Relative training error = 8.1795 %\n",
      "Relative test error = 9.6741 %\n"
     ]
    },
    {
     "name": "stderr",
     "output_type": "stream",
     "text": [
      "100%|█████████████████████████████████████████████████████████████████████████████████████████████████████████████████████████████████████████████████████████████████████| 23/23 [00:00<00:00, 456.82it/s]"
     ]
    },
    {
     "name": "stdout",
     "output_type": "stream",
     "text": [
      " loss = 0.1039\n",
      "Relative training error = 8.1625 %"
     ]
    },
    {
     "name": "stderr",
     "output_type": "stream",
     "text": [
      "\n"
     ]
    },
    {
     "name": "stdout",
     "output_type": "stream",
     "text": [
      "\n",
      "Relative test error = 9.6613 %\n"
     ]
    },
    {
     "name": "stderr",
     "output_type": "stream",
     "text": [
      "100%|█████████████████████████████████████████████████████████████████████████████████████████████████████████████████████████████████████████████████████████████████████| 23/23 [00:00<00:00, 512.24it/s]\n"
     ]
    },
    {
     "name": "stdout",
     "output_type": "stream",
     "text": [
      " loss = 0.1170\n",
      "Relative training error = 8.1465 %\n",
      "Relative test error = 9.6486 %\n",
      "Creating DAS_analysis object\n",
      "[-0.01079496 -0.00636261 -0.00472965  0.00829344 -0.03315033  0.01000517\n",
      " -0.03147244  0.01236407 -0.02684816  0.00736422 -0.01663265 -0.00670413\n",
      "  0.01756466 -0.01872044  0.02313004 -0.03355007  0.0332702  -0.02308934\n",
      " -0.04141354  0.01600002 -0.00833672  0.01130101  0.00841153  0.0035773\n",
      "  0.00450807  0.03616873  0.00554306  0.01251749 -0.00332135  0.01660203\n",
      "  0.00364524 -0.00423356 -0.01502233  0.00553334  0.00909886  0.03581746\n",
      " -0.01612826 -0.01689578 -0.00544872 -0.0257047  -0.0020281  -0.00491286\n",
      " -0.01851041 -0.00295021 -0.01707543  0.01278958 -0.03309115 -0.03378421\n",
      "  0.02105434 -0.024914    0.01355151  0.0347159   0.00949286 -0.01157946\n",
      " -0.02779381  0.01103345  0.05014661 -0.0388591   0.03466138 -0.03282935\n",
      "  0.01334391 -0.02446218  0.00617272  0.02966007 -0.0113076  -0.02121396\n",
      " -0.02654688 -0.02603522  0.00742446  0.0033779  -0.03955923 -0.02515224\n",
      " -0.00983606 -0.03146489 -0.02662707  0.00106644 -0.01827304 -0.01481842\n",
      "  0.00496895 -0.01752653  0.02289294  0.02491585 -0.05154504 -0.0153165\n",
      " -0.02955348 -0.01164796  0.00169125  0.00708391  0.00424188 -0.0170783\n",
      " -0.02926962  0.01683864 -0.03211833  0.04620026  0.02204849  0.03711775\n",
      " -0.02703611 -0.02134703 -0.01017228 -0.02460535 -0.00175839  0.00900341\n",
      "  0.0066653   0.02126546 -0.00704159 -0.02525979  0.04929931  0.03000105\n",
      "  0.00056224  0.02727065  0.00672098 -0.02266489 -0.03778072 -0.0143658\n",
      " -0.06977009 -0.00184082  0.03251847  0.00536228  0.00780703  0.00351171\n",
      " -0.001558    0.00453452  0.01956437  0.00755578 -0.00347596 -0.02544811\n",
      " -0.00691871  0.0184323  -0.00946686  0.01644332 -0.00717298 -0.00091536\n",
      " -0.00513515 -0.00200119 -0.00781267  0.03063803  0.00576488 -0.00229528\n",
      "  0.02318851  0.0245067  -0.02252075 -0.01338904  0.0351502  -0.00802465\n",
      " -0.02688461 -0.01285858 -0.04307223  0.01796226 -0.00352158 -0.02649279\n",
      " -0.02409055  0.01353839 -0.01250318  0.00313297  0.01588277  0.01109347\n",
      " -0.00357092  0.00296899  0.00483943 -0.03099188 -0.01898565  0.02774835\n",
      " -0.03559913 -0.0050307   0.0044001   0.13017571 -0.01762796]\n",
      "Parameters ordered from most to least important:\n",
      "[[141 149 165 150 153 151  17 142 137  15 113 109 154 107  73 138  39  36\n",
      "  163  57  41  10  94  95  85  53 117  75  21  27  79  30 166 139 146  97\n",
      "  108 129 131  87 115   6  68 112  26 105 155  28 152  18  72   2  29  83\n",
      "   99 159  59  37  46 110 164  54  31  33  93  40 158 125 162 161  52 134\n",
      "  100  91  80 106 144  14  61 101  84  42  86 156  22 123  63  51  78  70\n",
      "  116  50  12  35  98 136  56  89 148  82  55 122  11  49  23 120  67  76\n",
      "   64   7  38   1 140  24  69  65  19  13  74  62  20  25 145 130  47 104\n",
      "  127 133   5  32 128 147   3  45  16  58  66 118  77  60 143   4 103  92\n",
      "   71   9 121  34  96 132   0 124  90 111   8 157 160  43  48 114 135 126\n",
      "  119  44  88  81 102]]\n",
      "Creating DAS_Surrogate Object\n",
      "Creating Feature Engineering object\n",
      "Using  662/662 samples to train the ML model\n",
      "===============================\n",
      "Neural net parameters\n",
      "===============================\n",
      "Number of layers = 3\n",
      "Number of features = 167\n",
      "Loss function = squared\n",
      "Number of neurons per hidden layer = 20\n",
      "Number of output neurons = 1\n",
      "Activation = ['linear', 'linear', 'tanh', 'linear']\n",
      "This neural network has 228 weights.\n",
      "===============================\n",
      "===============================\n",
      "Training Deep Active Subspace Neural Network...\n"
     ]
    },
    {
     "name": "stderr",
     "output_type": "stream",
     "text": [
      "100%|█████████████████████████████████████████████████████████████████████████████████████████████████████████████████████████████████████████████████████████████████████| 23/23 [00:00<00:00, 513.27it/s]"
     ]
    },
    {
     "name": "stdout",
     "output_type": "stream",
     "text": [
      " loss = 1.2483\n",
      "Relative training error = 23.8937 %\n",
      "Relative test error = 23.4547 %\n"
     ]
    },
    {
     "name": "stderr",
     "output_type": "stream",
     "text": [
      "\n",
      "100%|█████████████████████████████████████████████████████████████████████████████████████████████████████████████████████████████████████████████████████████████████████| 23/23 [00:00<00:00, 470.73it/s]"
     ]
    },
    {
     "name": "stdout",
     "output_type": "stream",
     "text": [
      " loss = 0.9303\n"
     ]
    },
    {
     "name": "stderr",
     "output_type": "stream",
     "text": [
      "\n"
     ]
    },
    {
     "name": "stdout",
     "output_type": "stream",
     "text": [
      "Relative training error = 23.5264 %\n",
      "Relative test error = 23.3069 %\n"
     ]
    },
    {
     "name": "stderr",
     "output_type": "stream",
     "text": [
      "100%|█████████████████████████████████████████████████████████████████████████████████████████████████████████████████████████████████████████████████████████████████████| 23/23 [00:00<00:00, 491.62it/s]\n"
     ]
    },
    {
     "name": "stdout",
     "output_type": "stream",
     "text": [
      " loss = 0.9546\n",
      "Relative training error = 23.0153 %\n",
      "Relative test error = 23.1774 %\n"
     ]
    },
    {
     "name": "stderr",
     "output_type": "stream",
     "text": [
      "100%|█████████████████████████████████████████████████████████████████████████████████████████████████████████████████████████████████████████████████████████████████████| 23/23 [00:00<00:00, 462.39it/s]"
     ]
    },
    {
     "name": "stdout",
     "output_type": "stream",
     "text": [
      " loss = 0.9374\n"
     ]
    },
    {
     "name": "stderr",
     "output_type": "stream",
     "text": [
      "\n"
     ]
    },
    {
     "name": "stdout",
     "output_type": "stream",
     "text": [
      "Relative training error = 22.5810 %\n",
      "Relative test error = 22.8133 %\n"
     ]
    },
    {
     "name": "stderr",
     "output_type": "stream",
     "text": [
      "100%|█████████████████████████████████████████████████████████████████████████████████████████████████████████████████████████████████████████████████████████████████████| 23/23 [00:00<00:00, 536.80it/s]"
     ]
    },
    {
     "name": "stdout",
     "output_type": "stream",
     "text": [
      " loss = 0.7392\n"
     ]
    },
    {
     "name": "stderr",
     "output_type": "stream",
     "text": [
      "\n"
     ]
    },
    {
     "name": "stdout",
     "output_type": "stream",
     "text": [
      "Relative training error = 22.0325 %\n",
      "Relative test error = 22.3589 %\n"
     ]
    },
    {
     "name": "stderr",
     "output_type": "stream",
     "text": [
      "100%|█████████████████████████████████████████████████████████████████████████████████████████████████████████████████████████████████████████████████████████████████████| 23/23 [00:00<00:00, 549.64it/s]"
     ]
    },
    {
     "name": "stdout",
     "output_type": "stream",
     "text": [
      " loss = 0.9447\n"
     ]
    },
    {
     "name": "stderr",
     "output_type": "stream",
     "text": [
      "\n"
     ]
    },
    {
     "name": "stdout",
     "output_type": "stream",
     "text": [
      "Relative training error = 21.3298 %\n",
      "Relative test error = 21.5898 %\n"
     ]
    },
    {
     "name": "stderr",
     "output_type": "stream",
     "text": [
      "100%|█████████████████████████████████████████████████████████████████████████████████████████████████████████████████████████████████████████████████████████████████████| 23/23 [00:00<00:00, 536.45it/s]"
     ]
    },
    {
     "name": "stdout",
     "output_type": "stream",
     "text": [
      " loss = 0.8282\n"
     ]
    },
    {
     "name": "stderr",
     "output_type": "stream",
     "text": [
      "\n"
     ]
    },
    {
     "name": "stdout",
     "output_type": "stream",
     "text": [
      "Relative training error = 20.3692 %\n",
      "Relative test error = 20.2962 %\n"
     ]
    },
    {
     "name": "stderr",
     "output_type": "stream",
     "text": [
      "100%|█████████████████████████████████████████████████████████████████████████████████████████████████████████████████████████████████████████████████████████████████████| 23/23 [00:00<00:00, 490.06it/s]"
     ]
    },
    {
     "name": "stdout",
     "output_type": "stream",
     "text": [
      " loss = 0.3787\n"
     ]
    },
    {
     "name": "stderr",
     "output_type": "stream",
     "text": [
      "\n"
     ]
    },
    {
     "name": "stdout",
     "output_type": "stream",
     "text": [
      "Relative training error = 18.9486 %\n",
      "Relative test error = 19.0008 %\n"
     ]
    },
    {
     "name": "stderr",
     "output_type": "stream",
     "text": [
      "100%|█████████████████████████████████████████████████████████████████████████████████████████████████████████████████████████████████████████████████████████████████████| 23/23 [00:00<00:00, 466.04it/s]\n"
     ]
    },
    {
     "name": "stdout",
     "output_type": "stream",
     "text": [
      " loss = 0.5599\n",
      "Relative training error = 17.3077 %\n",
      "Relative test error = 17.8666 %\n"
     ]
    },
    {
     "name": "stderr",
     "output_type": "stream",
     "text": [
      "100%|█████████████████████████████████████████████████████████████████████████████████████████████████████████████████████████████████████████████████████████████████████| 23/23 [00:00<00:00, 470.62it/s]"
     ]
    },
    {
     "name": "stdout",
     "output_type": "stream",
     "text": [
      " loss = 0.5017\n"
     ]
    },
    {
     "name": "stderr",
     "output_type": "stream",
     "text": [
      "\n"
     ]
    },
    {
     "name": "stdout",
     "output_type": "stream",
     "text": [
      "Relative training error = 15.4704 %\n",
      "Relative test error = 17.1244 %\n"
     ]
    },
    {
     "name": "stderr",
     "output_type": "stream",
     "text": [
      "100%|█████████████████████████████████████████████████████████████████████████████████████████████████████████████████████████████████████████████████████████████████████| 23/23 [00:00<00:00, 562.39it/s]"
     ]
    },
    {
     "name": "stdout",
     "output_type": "stream",
     "text": [
      " loss = 0.4757\n",
      "Relative training error = 13.6338 %\n"
     ]
    },
    {
     "name": "stderr",
     "output_type": "stream",
     "text": [
      "\n"
     ]
    },
    {
     "name": "stdout",
     "output_type": "stream",
     "text": [
      "Relative test error = 15.7041 %\n"
     ]
    },
    {
     "name": "stderr",
     "output_type": "stream",
     "text": [
      "100%|█████████████████████████████████████████████████████████████████████████████████████████████████████████████████████████████████████████████████████████████████████| 23/23 [00:00<00:00, 455.75it/s]\n"
     ]
    },
    {
     "name": "stdout",
     "output_type": "stream",
     "text": [
      " loss = 0.4486\n",
      "Relative training error = 12.2495 %\n",
      "Relative test error = 13.7321 %\n"
     ]
    },
    {
     "name": "stderr",
     "output_type": "stream",
     "text": [
      "100%|█████████████████████████████████████████████████████████████████████████████████████████████████████████████████████████████████████████████████████████████████████| 23/23 [00:00<00:00, 534.79it/s]"
     ]
    },
    {
     "name": "stdout",
     "output_type": "stream",
     "text": [
      " loss = 0.1757\n",
      "Relative training error = 11.2457 %"
     ]
    },
    {
     "name": "stderr",
     "output_type": "stream",
     "text": [
      "\n"
     ]
    },
    {
     "name": "stdout",
     "output_type": "stream",
     "text": [
      "\n",
      "Relative test error = 12.1924 %\n"
     ]
    },
    {
     "name": "stderr",
     "output_type": "stream",
     "text": [
      "100%|█████████████████████████████████████████████████████████████████████████████████████████████████████████████████████████████████████████████████████████████████████| 23/23 [00:00<00:00, 531.97it/s]\n"
     ]
    },
    {
     "name": "stdout",
     "output_type": "stream",
     "text": [
      " loss = 0.3515\n",
      "Relative training error = 10.3966 %\n",
      "Relative test error = 11.4029 %\n"
     ]
    },
    {
     "name": "stderr",
     "output_type": "stream",
     "text": [
      "100%|█████████████████████████████████████████████████████████████████████████████████████████████████████████████████████████████████████████████████████████████████████| 23/23 [00:00<00:00, 515.53it/s]\n"
     ]
    },
    {
     "name": "stdout",
     "output_type": "stream",
     "text": [
      " loss = 0.2007\n",
      "Relative training error = 9.8354 %\n",
      "Relative test error = 10.3500 %\n"
     ]
    },
    {
     "name": "stderr",
     "output_type": "stream",
     "text": [
      "100%|█████████████████████████████████████████████████████████████████████████████████████████████████████████████████████████████████████████████████████████████████████| 23/23 [00:00<00:00, 464.75it/s]\n"
     ]
    },
    {
     "name": "stdout",
     "output_type": "stream",
     "text": [
      " loss = 0.1346\n",
      "Relative training error = 9.4119 %\n",
      "Relative test error = 10.2603 %\n"
     ]
    },
    {
     "name": "stderr",
     "output_type": "stream",
     "text": [
      "100%|█████████████████████████████████████████████████████████████████████████████████████████████████████████████████████████████████████████████████████████████████████| 23/23 [00:00<00:00, 520.94it/s]\n"
     ]
    },
    {
     "name": "stdout",
     "output_type": "stream",
     "text": [
      " loss = 0.1555\n",
      "Relative training error = 9.1858 %\n",
      "Relative test error = 10.3124 %\n"
     ]
    },
    {
     "name": "stderr",
     "output_type": "stream",
     "text": [
      "100%|█████████████████████████████████████████████████████████████████████████████████████████████████████████████████████████████████████████████████████████████████████| 23/23 [00:00<00:00, 466.59it/s]"
     ]
    },
    {
     "name": "stdout",
     "output_type": "stream",
     "text": [
      " loss = 0.1365\n"
     ]
    },
    {
     "name": "stderr",
     "output_type": "stream",
     "text": [
      "\n"
     ]
    },
    {
     "name": "stdout",
     "output_type": "stream",
     "text": [
      "Relative training error = 9.0095 %\n",
      "Relative test error = 9.7691 %\n"
     ]
    },
    {
     "name": "stderr",
     "output_type": "stream",
     "text": [
      "100%|█████████████████████████████████████████████████████████████████████████████████████████████████████████████████████████████████████████████████████████████████████| 23/23 [00:00<00:00, 473.90it/s]\n"
     ]
    },
    {
     "name": "stdout",
     "output_type": "stream",
     "text": [
      " loss = 0.1647\n",
      "Relative training error = 8.8783 %\n",
      "Relative test error = 9.7233 %\n"
     ]
    },
    {
     "name": "stderr",
     "output_type": "stream",
     "text": [
      "100%|█████████████████████████████████████████████████████████████████████████████████████████████████████████████████████████████████████████████████████████████████████| 23/23 [00:00<00:00, 536.14it/s]"
     ]
    },
    {
     "name": "stdout",
     "output_type": "stream",
     "text": [
      " loss = 0.0854\n"
     ]
    },
    {
     "name": "stderr",
     "output_type": "stream",
     "text": [
      "\n"
     ]
    },
    {
     "name": "stdout",
     "output_type": "stream",
     "text": [
      "Relative training error = 8.7097 %\n",
      "Relative test error = 9.8737 %\n"
     ]
    },
    {
     "name": "stderr",
     "output_type": "stream",
     "text": [
      "100%|█████████████████████████████████████████████████████████████████████████████████████████████████████████████████████████████████████████████████████████████████████| 23/23 [00:00<00:00, 462.83it/s]"
     ]
    },
    {
     "name": "stdout",
     "output_type": "stream",
     "text": [
      " loss = 0.1362\n"
     ]
    },
    {
     "name": "stderr",
     "output_type": "stream",
     "text": [
      "\n"
     ]
    },
    {
     "name": "stdout",
     "output_type": "stream",
     "text": [
      "Relative training error = 8.5869 %\n",
      "Relative test error = 9.7641 %\n"
     ]
    },
    {
     "name": "stderr",
     "output_type": "stream",
     "text": [
      "100%|█████████████████████████████████████████████████████████████████████████████████████████████████████████████████████████████████████████████████████████████████████| 23/23 [00:00<00:00, 466.75it/s]"
     ]
    },
    {
     "name": "stdout",
     "output_type": "stream",
     "text": [
      " loss = 0.1420\n"
     ]
    },
    {
     "name": "stderr",
     "output_type": "stream",
     "text": [
      "\n"
     ]
    },
    {
     "name": "stdout",
     "output_type": "stream",
     "text": [
      "Relative training error = 8.5158 %\n",
      "Relative test error = 9.7503 %\n"
     ]
    },
    {
     "name": "stderr",
     "output_type": "stream",
     "text": [
      "100%|█████████████████████████████████████████████████████████████████████████████████████████████████████████████████████████████████████████████████████████████████████| 23/23 [00:00<00:00, 462.10it/s]"
     ]
    },
    {
     "name": "stdout",
     "output_type": "stream",
     "text": [
      " loss = 0.1292\n"
     ]
    },
    {
     "name": "stderr",
     "output_type": "stream",
     "text": [
      "\n"
     ]
    },
    {
     "name": "stdout",
     "output_type": "stream",
     "text": [
      "Relative training error = 8.4848 %\n",
      "Relative test error = 9.8665 %\n"
     ]
    },
    {
     "name": "stderr",
     "output_type": "stream",
     "text": [
      "100%|█████████████████████████████████████████████████████████████████████████████████████████████████████████████████████████████████████████████████████████████████████| 23/23 [00:00<00:00, 452.14it/s]"
     ]
    },
    {
     "name": "stdout",
     "output_type": "stream",
     "text": [
      " loss = 0.0782\n"
     ]
    },
    {
     "name": "stderr",
     "output_type": "stream",
     "text": [
      "\n"
     ]
    },
    {
     "name": "stdout",
     "output_type": "stream",
     "text": [
      "Relative training error = 8.4460 %\n",
      "Relative test error = 9.5801 %\n"
     ]
    },
    {
     "name": "stderr",
     "output_type": "stream",
     "text": [
      "100%|█████████████████████████████████████████████████████████████████████████████████████████████████████████████████████████████████████████████████████████████████████| 23/23 [00:00<00:00, 463.98it/s]"
     ]
    },
    {
     "name": "stdout",
     "output_type": "stream",
     "text": [
      " loss = 0.1030\n"
     ]
    },
    {
     "name": "stderr",
     "output_type": "stream",
     "text": [
      "\n"
     ]
    },
    {
     "name": "stdout",
     "output_type": "stream",
     "text": [
      "Relative training error = 8.3216 %\n",
      "Relative test error = 9.7598 %\n"
     ]
    },
    {
     "name": "stderr",
     "output_type": "stream",
     "text": [
      "100%|█████████████████████████████████████████████████████████████████████████████████████████████████████████████████████████████████████████████████████████████████████| 23/23 [00:00<00:00, 454.20it/s]\n"
     ]
    },
    {
     "name": "stdout",
     "output_type": "stream",
     "text": [
      " loss = 0.1398\n",
      "Relative training error = 8.2804 %\n",
      "Relative test error = 9.6784 %\n"
     ]
    },
    {
     "name": "stderr",
     "output_type": "stream",
     "text": [
      "100%|█████████████████████████████████████████████████████████████████████████████████████████████████████████████████████████████████████████████████████████████████████| 23/23 [00:00<00:00, 459.10it/s]"
     ]
    },
    {
     "name": "stdout",
     "output_type": "stream",
     "text": [
      " loss = 0.1385\n"
     ]
    },
    {
     "name": "stderr",
     "output_type": "stream",
     "text": [
      "\n"
     ]
    },
    {
     "name": "stdout",
     "output_type": "stream",
     "text": [
      "Relative training error = 8.2650 %\n",
      "Relative test error = 9.8880 %\n"
     ]
    },
    {
     "name": "stderr",
     "output_type": "stream",
     "text": [
      "100%|█████████████████████████████████████████████████████████████████████████████████████████████████████████████████████████████████████████████████████████████████████| 23/23 [00:00<00:00, 467.61it/s]\n"
     ]
    },
    {
     "name": "stdout",
     "output_type": "stream",
     "text": [
      " loss = 0.1465\n",
      "Relative training error = 8.2170 %\n",
      "Relative test error = 9.8799 %\n",
      "Creating DAS_analysis object\n",
      "[-0.01079496 -0.00636261 -0.00472965  0.00829344 -0.03315033  0.01000517\n",
      " -0.03147244  0.01236407 -0.02684816  0.00736422 -0.01663265 -0.00670413\n",
      "  0.01756466 -0.01872044  0.02313004 -0.03355007  0.0332702  -0.02308934\n",
      " -0.04141354  0.01600002 -0.00833672  0.01130101  0.00841153  0.0035773\n",
      "  0.00450807  0.03616873  0.00554306  0.01251749 -0.00332135  0.01660203\n",
      "  0.00364524 -0.00423356 -0.01502233  0.00553334  0.00909886  0.03581746\n",
      " -0.01612826 -0.01689578 -0.00544872 -0.0257047  -0.0020281  -0.00491286\n",
      " -0.01851041 -0.00295021 -0.01707543  0.01278958 -0.03309115 -0.03378421\n",
      "  0.02105434 -0.024914    0.01355151  0.0347159   0.00949286 -0.01157946\n",
      " -0.02779381  0.01103345  0.05014661 -0.0388591   0.03466138 -0.03282935\n",
      "  0.01334391 -0.02446218  0.00617272  0.02966007 -0.0113076  -0.02121396\n",
      " -0.02654688 -0.02603522  0.00742446  0.0033779  -0.03955923 -0.02515224\n",
      " -0.00983606 -0.03146489 -0.02662707  0.00106644 -0.01827304 -0.01481842\n",
      "  0.00496895 -0.01752653  0.02289294  0.02491585 -0.05154504 -0.0153165\n",
      " -0.02955348 -0.01164796  0.00169125  0.00708391  0.00424188 -0.0170783\n",
      " -0.02926962  0.01683864 -0.03211833  0.04620026  0.02204849  0.03711775\n",
      " -0.02703611 -0.02134703 -0.01017228 -0.02460535 -0.00175839  0.00900341\n",
      "  0.0066653   0.02126546 -0.00704159 -0.02525979  0.04929931  0.03000105\n",
      "  0.00056224  0.02727065  0.00672098 -0.02266489 -0.03778072 -0.0143658\n",
      " -0.06977009 -0.00184082  0.03251847  0.00536228  0.00780703  0.00351171\n",
      " -0.001558    0.00453452  0.01956437  0.00755578 -0.00347596 -0.02544811\n",
      " -0.00691871  0.0184323  -0.00946686  0.01644332 -0.00717298 -0.00091536\n",
      " -0.00513515 -0.00200119 -0.00781267  0.03063803  0.00576488 -0.00229528\n",
      "  0.02318851  0.0245067  -0.02252075 -0.01338904  0.0351502  -0.00802465\n",
      " -0.02688461 -0.01285858 -0.04307223  0.01796226 -0.00352158 -0.02649279\n",
      " -0.02409055  0.01353839 -0.01250318  0.00313297  0.01588277  0.01109347\n",
      " -0.00357092  0.00296899  0.00483943 -0.03099188 -0.01898565  0.02774835\n",
      " -0.03559913 -0.0050307   0.0044001   0.13017571 -0.01762796]\n",
      "Parameters ordered from most to least important:\n",
      "[[141 149 165 150 153 151 142  17 137  15 113  73 109 154  27  95  41  85\n",
      "  107 138 163  53  39  94  57 159  75 105 162  29  99  36 156  10 152 164\n",
      "  139  68  87  22 155  83  28  79  97  74 100  47  82 108 115 127 166 146\n",
      "   40  93 120  21  59  86 161 130  77  49 117  69  19 134  30  18  24 112\n",
      "   62  52 129  63  13  66  84  45 140 123  46 110   6  44 148 116 121 122\n",
      "   64  42  35  55 157  48  37  26  51   3  61  54  76 102  98  50 128  32\n",
      "   67  33  14   2 114  78 111 132 143  38  20 106 133  96 101  90  43  23\n",
      "  135  71   1  31  72   0 124  56  65  12   7  70  89 158   8  88  16  92\n",
      "  119 125 118  81   5   4  91 126  80  58 136 147  34 145 144 160  25  60\n",
      "  104  11 103   9 131]]\n",
      "Creating DAS_Surrogate Object\n",
      "Creating Feature Engineering object\n",
      "Using  662/662 samples to train the ML model\n",
      "===============================\n",
      "Neural net parameters\n",
      "===============================\n",
      "Number of layers = 3\n",
      "Number of features = 167\n",
      "Loss function = squared\n",
      "Number of neurons per hidden layer = 20\n",
      "Number of output neurons = 1\n",
      "Activation = ['linear', 'linear', 'tanh', 'linear']\n",
      "This neural network has 228 weights.\n",
      "===============================\n",
      "===============================\n",
      "Training Deep Active Subspace Neural Network...\n"
     ]
    },
    {
     "name": "stderr",
     "output_type": "stream",
     "text": [
      "100%|█████████████████████████████████████████████████████████████████████████████████████████████████████████████████████████████████████████████████████████████████████| 23/23 [00:00<00:00, 464.68it/s]"
     ]
    },
    {
     "name": "stdout",
     "output_type": "stream",
     "text": [
      " loss = 1.3806\n"
     ]
    },
    {
     "name": "stderr",
     "output_type": "stream",
     "text": [
      "\n"
     ]
    },
    {
     "name": "stdout",
     "output_type": "stream",
     "text": [
      "Relative training error = 23.3665 %\n",
      "Relative test error = 22.6340 %\n"
     ]
    },
    {
     "name": "stderr",
     "output_type": "stream",
     "text": [
      "100%|█████████████████████████████████████████████████████████████████████████████████████████████████████████████████████████████████████████████████████████████████████| 23/23 [00:00<00:00, 455.67it/s]"
     ]
    },
    {
     "name": "stdout",
     "output_type": "stream",
     "text": [
      " loss = 1.0436\n"
     ]
    },
    {
     "name": "stderr",
     "output_type": "stream",
     "text": [
      "\n"
     ]
    },
    {
     "name": "stdout",
     "output_type": "stream",
     "text": [
      "Relative training error = 19.2442 %\n",
      "Relative test error = 20.6481 %\n"
     ]
    },
    {
     "name": "stderr",
     "output_type": "stream",
     "text": [
      "100%|█████████████████████████████████████████████████████████████████████████████████████████████████████████████████████████████████████████████████████████████████████| 23/23 [00:00<00:00, 541.00it/s]"
     ]
    },
    {
     "name": "stdout",
     "output_type": "stream",
     "text": [
      " loss = 0.3782\n"
     ]
    },
    {
     "name": "stderr",
     "output_type": "stream",
     "text": [
      "\n"
     ]
    },
    {
     "name": "stdout",
     "output_type": "stream",
     "text": [
      "Relative training error = 14.4722 %\n",
      "Relative test error = 16.3835 %\n"
     ]
    },
    {
     "name": "stderr",
     "output_type": "stream",
     "text": [
      "100%|█████████████████████████████████████████████████████████████████████████████████████████████████████████████████████████████████████████████████████████████████████| 23/23 [00:00<00:00, 447.14it/s]"
     ]
    },
    {
     "name": "stdout",
     "output_type": "stream",
     "text": [
      " loss = 0.2656\n"
     ]
    },
    {
     "name": "stderr",
     "output_type": "stream",
     "text": [
      "\n"
     ]
    },
    {
     "name": "stdout",
     "output_type": "stream",
     "text": [
      "Relative training error = 11.5224 %\n",
      "Relative test error = 13.1949 %\n"
     ]
    },
    {
     "name": "stderr",
     "output_type": "stream",
     "text": [
      "100%|█████████████████████████████████████████████████████████████████████████████████████████████████████████████████████████████████████████████████████████████████████| 23/23 [00:00<00:00, 521.39it/s]"
     ]
    },
    {
     "name": "stdout",
     "output_type": "stream",
     "text": [
      " loss = 0.2651\n"
     ]
    },
    {
     "name": "stderr",
     "output_type": "stream",
     "text": [
      "\n"
     ]
    },
    {
     "name": "stdout",
     "output_type": "stream",
     "text": [
      "Relative training error = 9.8111 %\n",
      "Relative test error = 11.5827 %\n"
     ]
    },
    {
     "name": "stderr",
     "output_type": "stream",
     "text": [
      "100%|█████████████████████████████████████████████████████████████████████████████████████████████████████████████████████████████████████████████████████████████████████| 23/23 [00:00<00:00, 559.29it/s]"
     ]
    },
    {
     "name": "stdout",
     "output_type": "stream",
     "text": [
      " loss = 0.1416\n",
      "Relative training error = 9.1192 %"
     ]
    },
    {
     "name": "stderr",
     "output_type": "stream",
     "text": [
      "\n"
     ]
    },
    {
     "name": "stdout",
     "output_type": "stream",
     "text": [
      "\n",
      "Relative test error = 10.7360 %\n"
     ]
    },
    {
     "name": "stderr",
     "output_type": "stream",
     "text": [
      "100%|█████████████████████████████████████████████████████████████████████████████████████████████████████████████████████████████████████████████████████████████████████| 23/23 [00:00<00:00, 524.06it/s]"
     ]
    },
    {
     "name": "stdout",
     "output_type": "stream",
     "text": [
      " loss = 0.1083\n"
     ]
    },
    {
     "name": "stderr",
     "output_type": "stream",
     "text": [
      "\n"
     ]
    },
    {
     "name": "stdout",
     "output_type": "stream",
     "text": [
      "Relative training error = 8.7631 %\n",
      "Relative test error = 9.6889 %\n"
     ]
    },
    {
     "name": "stderr",
     "output_type": "stream",
     "text": [
      "100%|█████████████████████████████████████████████████████████████████████████████████████████████████████████████████████████████████████████████████████████████████████| 23/23 [00:00<00:00, 554.52it/s]\n"
     ]
    },
    {
     "name": "stdout",
     "output_type": "stream",
     "text": [
      " loss = 0.1607\n",
      "Relative training error = 8.5730 %\n",
      "Relative test error = 10.0508 %\n"
     ]
    },
    {
     "name": "stderr",
     "output_type": "stream",
     "text": [
      "100%|█████████████████████████████████████████████████████████████████████████████████████████████████████████████████████████████████████████████████████████████████████| 23/23 [00:00<00:00, 422.25it/s]"
     ]
    },
    {
     "name": "stdout",
     "output_type": "stream",
     "text": [
      " loss = 0.1645\n"
     ]
    },
    {
     "name": "stderr",
     "output_type": "stream",
     "text": [
      "\n"
     ]
    },
    {
     "name": "stdout",
     "output_type": "stream",
     "text": [
      "Relative training error = 8.4485 %\n",
      "Relative test error = 10.2397 %\n"
     ]
    },
    {
     "name": "stderr",
     "output_type": "stream",
     "text": [
      "100%|█████████████████████████████████████████████████████████████████████████████████████████████████████████████████████████████████████████████████████████████████████| 23/23 [00:00<00:00, 445.55it/s]\n"
     ]
    },
    {
     "name": "stdout",
     "output_type": "stream",
     "text": [
      " loss = 0.1047\n",
      "Relative training error = 8.3324 %\n",
      "Relative test error = 10.2813 %\n"
     ]
    },
    {
     "name": "stderr",
     "output_type": "stream",
     "text": [
      "100%|█████████████████████████████████████████████████████████████████████████████████████████████████████████████████████████████████████████████████████████████████████| 23/23 [00:00<00:00, 551.37it/s]"
     ]
    },
    {
     "name": "stdout",
     "output_type": "stream",
     "text": [
      " loss = 0.1130\n",
      "Relative training error = 8.2457 %\n"
     ]
    },
    {
     "name": "stderr",
     "output_type": "stream",
     "text": [
      "\n"
     ]
    },
    {
     "name": "stdout",
     "output_type": "stream",
     "text": [
      "Relative test error = 9.9629 %\n",
      "Creating DAS_analysis object\n",
      "[-0.01079496 -0.00636261 -0.00472965  0.00829344 -0.03315033  0.01000517\n",
      " -0.03147244  0.01236407 -0.02684816  0.00736422 -0.01663265 -0.00670413\n",
      "  0.01756466 -0.01872044  0.02313004 -0.03355007  0.0332702  -0.02308934\n",
      " -0.04141354  0.01600002 -0.00833672  0.01130101  0.00841153  0.0035773\n",
      "  0.00450807  0.03616873  0.00554306  0.01251749 -0.00332135  0.01660203\n",
      "  0.00364524 -0.00423356 -0.01502233  0.00553334  0.00909886  0.03581746\n",
      " -0.01612826 -0.01689578 -0.00544872 -0.0257047  -0.0020281  -0.00491286\n",
      " -0.01851041 -0.00295021 -0.01707543  0.01278958 -0.03309115 -0.03378421\n",
      "  0.02105434 -0.024914    0.01355151  0.0347159   0.00949286 -0.01157946\n",
      " -0.02779381  0.01103345  0.05014661 -0.0388591   0.03466138 -0.03282935\n",
      "  0.01334391 -0.02446218  0.00617272  0.02966007 -0.0113076  -0.02121396\n",
      " -0.02654688 -0.02603522  0.00742446  0.0033779  -0.03955923 -0.02515224\n",
      " -0.00983606 -0.03146489 -0.02662707  0.00106644 -0.01827304 -0.01481842\n",
      "  0.00496895 -0.01752653  0.02289294  0.02491585 -0.05154504 -0.0153165\n",
      " -0.02955348 -0.01164796  0.00169125  0.00708391  0.00424188 -0.0170783\n",
      " -0.02926962  0.01683864 -0.03211833  0.04620026  0.02204849  0.03711775\n",
      " -0.02703611 -0.02134703 -0.01017228 -0.02460535 -0.00175839  0.00900341\n",
      "  0.0066653   0.02126546 -0.00704159 -0.02525979  0.04929931  0.03000105\n",
      "  0.00056224  0.02727065  0.00672098 -0.02266489 -0.03778072 -0.0143658\n",
      " -0.06977009 -0.00184082  0.03251847  0.00536228  0.00780703  0.00351171\n",
      " -0.001558    0.00453452  0.01956437  0.00755578 -0.00347596 -0.02544811\n",
      " -0.00691871  0.0184323  -0.00946686  0.01644332 -0.00717298 -0.00091536\n",
      " -0.00513515 -0.00200119 -0.00781267  0.03063803  0.00576488 -0.00229528\n",
      "  0.02318851  0.0245067  -0.02252075 -0.01338904  0.0351502  -0.00802465\n",
      " -0.02688461 -0.01285858 -0.04307223  0.01796226 -0.00352158 -0.02649279\n",
      " -0.02409055  0.01353839 -0.01250318  0.00313297  0.01588277  0.01109347\n",
      " -0.00357092  0.00296899  0.00483943 -0.03099188 -0.01898565  0.02774835\n",
      " -0.03559913 -0.0050307   0.0044001   0.13017571 -0.01762796]\n",
      "Parameters ordered from most to least important:\n",
      "[[141 149 165 150 153 151 142  17 137  15 113  39 109 154  73  10  95 138\n",
      "   41 107  27  57 108  85  94  93 163 166  40 161  99 159 110 155  29  75\n",
      "  106  97  68  79  53  28 100  24  45  87  21  52 105  35 162 140 152 136\n",
      "  123 164  36 115 127  26 133 135 117 134 145 101  77  61  74  30   6  23\n",
      "   66   8  72  47 158  46  82   4  69 146  42  16  90 112  92  51 147 130\n",
      "  120  44  18  63  60   7  54  20  86   5  49  37 118  64  32  83 148  84\n",
      "   55 144  43 129 124 156  38  22 125  78  58  98 139   0  67  31   3  33\n",
      "   89  96   9 128 143  59  19  91 119  11  88 103  14  76  12  70 131  34\n",
      "   50 122 121  13 111  65 104  62  80 157  71 102 132 116 114  81  25   1\n",
      "  160 126   2  56  48]]\n",
      "Creating DAS_Surrogate Object\n",
      "Creating Feature Engineering object\n",
      "Using  662/662 samples to train the ML model\n",
      "===============================\n",
      "Neural net parameters\n",
      "===============================\n",
      "Number of layers = 3\n",
      "Number of features = 167\n",
      "Loss function = squared\n",
      "Number of neurons per hidden layer = 20\n",
      "Number of output neurons = 1\n",
      "Activation = ['linear', 'linear', 'tanh', 'linear']\n",
      "This neural network has 228 weights.\n",
      "===============================\n",
      "===============================\n",
      "Training Deep Active Subspace Neural Network...\n"
     ]
    },
    {
     "name": "stderr",
     "output_type": "stream",
     "text": [
      "100%|█████████████████████████████████████████████████████████████████████████████████████████████████████████████████████████████████████████████████████████████████████| 23/23 [00:00<00:00, 461.82it/s]"
     ]
    },
    {
     "name": "stdout",
     "output_type": "stream",
     "text": [
      " loss = 1.5160\n",
      "Relative training error = 23.3637 %\n"
     ]
    },
    {
     "name": "stderr",
     "output_type": "stream",
     "text": [
      "\n"
     ]
    },
    {
     "name": "stdout",
     "output_type": "stream",
     "text": [
      "Relative test error = 22.5182 %\n"
     ]
    },
    {
     "name": "stderr",
     "output_type": "stream",
     "text": [
      "100%|█████████████████████████████████████████████████████████████████████████████████████████████████████████████████████████████████████████████████████████████████████| 23/23 [00:00<00:00, 470.45it/s]"
     ]
    },
    {
     "name": "stdout",
     "output_type": "stream",
     "text": [
      " loss = 0.8059\n"
     ]
    },
    {
     "name": "stderr",
     "output_type": "stream",
     "text": [
      "\n"
     ]
    },
    {
     "name": "stdout",
     "output_type": "stream",
     "text": [
      "Relative training error = 21.8855 %\n",
      "Relative test error = 21.4360 %\n"
     ]
    },
    {
     "name": "stderr",
     "output_type": "stream",
     "text": [
      "100%|█████████████████████████████████████████████████████████████████████████████████████████████████████████████████████████████████████████████████████████████████████| 23/23 [00:00<00:00, 550.45it/s]"
     ]
    },
    {
     "name": "stdout",
     "output_type": "stream",
     "text": [
      " loss = 0.8086\n"
     ]
    },
    {
     "name": "stderr",
     "output_type": "stream",
     "text": [
      "\n"
     ]
    },
    {
     "name": "stdout",
     "output_type": "stream",
     "text": [
      "Relative training error = 19.5787 %\n",
      "Relative test error = 20.0825 %\n"
     ]
    },
    {
     "name": "stderr",
     "output_type": "stream",
     "text": [
      "100%|█████████████████████████████████████████████████████████████████████████████████████████████████████████████████████████████████████████████████████████████████████| 23/23 [00:00<00:00, 552.49it/s]\n"
     ]
    },
    {
     "name": "stdout",
     "output_type": "stream",
     "text": [
      " loss = 0.7763\n",
      "Relative training error = 16.3991 %\n",
      "Relative test error = 18.4254 %\n"
     ]
    },
    {
     "name": "stderr",
     "output_type": "stream",
     "text": [
      "100%|█████████████████████████████████████████████████████████████████████████████████████████████████████████████████████████████████████████████████████████████████████| 23/23 [00:00<00:00, 419.87it/s]"
     ]
    },
    {
     "name": "stdout",
     "output_type": "stream",
     "text": [
      " loss = 0.3865\n"
     ]
    },
    {
     "name": "stderr",
     "output_type": "stream",
     "text": [
      "\n"
     ]
    },
    {
     "name": "stdout",
     "output_type": "stream",
     "text": [
      "Relative training error = 14.1648 %\n",
      "Relative test error = 16.4864 %\n"
     ]
    },
    {
     "name": "stderr",
     "output_type": "stream",
     "text": [
      "100%|█████████████████████████████████████████████████████████████████████████████████████████████████████████████████████████████████████████████████████████████████████| 23/23 [00:00<00:00, 459.70it/s]\n"
     ]
    },
    {
     "name": "stdout",
     "output_type": "stream",
     "text": [
      " loss = 0.2799\n",
      "Relative training error = 12.0905 %\n",
      "Relative test error = 14.8593 %\n"
     ]
    },
    {
     "name": "stderr",
     "output_type": "stream",
     "text": [
      "100%|█████████████████████████████████████████████████████████████████████████████████████████████████████████████████████████████████████████████████████████████████████| 23/23 [00:00<00:00, 468.56it/s]"
     ]
    },
    {
     "name": "stdout",
     "output_type": "stream",
     "text": [
      " loss = 0.3692\n"
     ]
    },
    {
     "name": "stderr",
     "output_type": "stream",
     "text": [
      "\n"
     ]
    },
    {
     "name": "stdout",
     "output_type": "stream",
     "text": [
      "Relative training error = 10.7159 %\n",
      "Relative test error = 12.9778 %\n"
     ]
    },
    {
     "name": "stderr",
     "output_type": "stream",
     "text": [
      "100%|█████████████████████████████████████████████████████████████████████████████████████████████████████████████████████████████████████████████████████████████████████| 23/23 [00:00<00:00, 543.87it/s]\n"
     ]
    },
    {
     "name": "stdout",
     "output_type": "stream",
     "text": [
      " loss = 0.1412\n",
      "Relative training error = 9.8474 %\n",
      "Relative test error = 11.9161 %\n"
     ]
    },
    {
     "name": "stderr",
     "output_type": "stream",
     "text": [
      "100%|█████████████████████████████████████████████████████████████████████████████████████████████████████████████████████████████████████████████████████████████████████| 23/23 [00:00<00:00, 466.30it/s]"
     ]
    },
    {
     "name": "stdout",
     "output_type": "stream",
     "text": [
      " loss = 0.1964\n"
     ]
    },
    {
     "name": "stderr",
     "output_type": "stream",
     "text": [
      "\n"
     ]
    },
    {
     "name": "stdout",
     "output_type": "stream",
     "text": [
      "Relative training error = 9.3452 %\n",
      "Relative test error = 11.7507 %\n"
     ]
    },
    {
     "name": "stderr",
     "output_type": "stream",
     "text": [
      "100%|█████████████████████████████████████████████████████████████████████████████████████████████████████████████████████████████████████████████████████████████████████| 23/23 [00:00<00:00, 553.95it/s]"
     ]
    },
    {
     "name": "stdout",
     "output_type": "stream",
     "text": [
      " loss = 0.1735\n"
     ]
    },
    {
     "name": "stderr",
     "output_type": "stream",
     "text": [
      "\n"
     ]
    },
    {
     "name": "stdout",
     "output_type": "stream",
     "text": [
      "Relative training error = 8.9711 %\n",
      "Relative test error = 11.6879 %\n"
     ]
    },
    {
     "name": "stderr",
     "output_type": "stream",
     "text": [
      "100%|█████████████████████████████████████████████████████████████████████████████████████████████████████████████████████████████████████████████████████████████████████| 23/23 [00:00<00:00, 553.27it/s]"
     ]
    },
    {
     "name": "stdout",
     "output_type": "stream",
     "text": [
      " loss = 0.1508\n"
     ]
    },
    {
     "name": "stderr",
     "output_type": "stream",
     "text": [
      "\n"
     ]
    },
    {
     "name": "stdout",
     "output_type": "stream",
     "text": [
      "Relative training error = 8.6616 %\n",
      "Relative test error = 10.9482 %\n"
     ]
    },
    {
     "name": "stderr",
     "output_type": "stream",
     "text": [
      "100%|█████████████████████████████████████████████████████████████████████████████████████████████████████████████████████████████████████████████████████████████████████| 23/23 [00:00<00:00, 530.92it/s]"
     ]
    },
    {
     "name": "stdout",
     "output_type": "stream",
     "text": [
      " loss = 0.1950\n",
      "Relative training error = 8.4211 %\n",
      "Relative test error = 10.3100 %\n"
     ]
    },
    {
     "name": "stderr",
     "output_type": "stream",
     "text": [
      "\n",
      "100%|█████████████████████████████████████████████████████████████████████████████████████████████████████████████████████████████████████████████████████████████████████| 23/23 [00:00<00:00, 569.02it/s]\n"
     ]
    },
    {
     "name": "stdout",
     "output_type": "stream",
     "text": [
      " loss = 0.1159\n",
      "Relative training error = 8.4119 %\n",
      "Relative test error = 10.2206 %\n"
     ]
    },
    {
     "name": "stderr",
     "output_type": "stream",
     "text": [
      "100%|█████████████████████████████████████████████████████████████████████████████████████████████████████████████████████████████████████████████████████████████████████| 23/23 [00:00<00:00, 527.02it/s]"
     ]
    },
    {
     "name": "stdout",
     "output_type": "stream",
     "text": [
      " loss = 0.0932\n"
     ]
    },
    {
     "name": "stderr",
     "output_type": "stream",
     "text": [
      "\n"
     ]
    },
    {
     "name": "stdout",
     "output_type": "stream",
     "text": [
      "Relative training error = 8.2995 %\n",
      "Relative test error = 10.5346 %\n"
     ]
    },
    {
     "name": "stderr",
     "output_type": "stream",
     "text": [
      "100%|█████████████████████████████████████████████████████████████████████████████████████████████████████████████████████████████████████████████████████████████████████| 23/23 [00:00<00:00, 467.50it/s]\n"
     ]
    },
    {
     "name": "stdout",
     "output_type": "stream",
     "text": [
      " loss = 0.0914\n",
      "Relative training error = 8.2294 %\n",
      "Relative test error = 10.4037 %\n"
     ]
    },
    {
     "name": "stderr",
     "output_type": "stream",
     "text": [
      "100%|█████████████████████████████████████████████████████████████████████████████████████████████████████████████████████████████████████████████████████████████████████| 23/23 [00:00<00:00, 521.51it/s]"
     ]
    },
    {
     "name": "stdout",
     "output_type": "stream",
     "text": [
      " loss = 0.1953\n",
      "Relative training error = 8.1625 %\n",
      "Relative test error = 10.1266 %\n"
     ]
    },
    {
     "name": "stderr",
     "output_type": "stream",
     "text": [
      "\n",
      "100%|█████████████████████████████████████████████████████████████████████████████████████████████████████████████████████████████████████████████████████████████████████| 23/23 [00:00<00:00, 545.51it/s]\n"
     ]
    },
    {
     "name": "stdout",
     "output_type": "stream",
     "text": [
      " loss = 0.1065\n",
      "Relative training error = 8.1841 %\n",
      "Relative test error = 9.6682 %\n"
     ]
    },
    {
     "name": "stderr",
     "output_type": "stream",
     "text": [
      "100%|█████████████████████████████████████████████████████████████████████████████████████████████████████████████████████████████████████████████████████████████████████| 23/23 [00:00<00:00, 544.72it/s]\n"
     ]
    },
    {
     "name": "stdout",
     "output_type": "stream",
     "text": [
      " loss = 0.0760\n",
      "Relative training error = 8.1837 %\n",
      "Relative test error = 9.8804 %\n"
     ]
    },
    {
     "name": "stderr",
     "output_type": "stream",
     "text": [
      "100%|█████████████████████████████████████████████████████████████████████████████████████████████████████████████████████████████████████████████████████████████████████| 23/23 [00:00<00:00, 550.91it/s]\n"
     ]
    },
    {
     "name": "stdout",
     "output_type": "stream",
     "text": [
      " loss = 0.1582\n",
      "Relative training error = 8.0643 %\n",
      "Relative test error = 9.7209 %\n"
     ]
    },
    {
     "name": "stderr",
     "output_type": "stream",
     "text": [
      "100%|█████████████████████████████████████████████████████████████████████████████████████████████████████████████████████████████████████████████████████████████████████| 23/23 [00:00<00:00, 455.02it/s]\n"
     ]
    },
    {
     "name": "stdout",
     "output_type": "stream",
     "text": [
      " loss = 0.1812\n",
      "Relative training error = 8.0632 %\n",
      "Relative test error = 9.7769 %\n"
     ]
    },
    {
     "name": "stderr",
     "output_type": "stream",
     "text": [
      "100%|█████████████████████████████████████████████████████████████████████████████████████████████████████████████████████████████████████████████████████████████████████| 23/23 [00:00<00:00, 416.93it/s]"
     ]
    },
    {
     "name": "stdout",
     "output_type": "stream",
     "text": [
      " loss = 0.0874\n"
     ]
    },
    {
     "name": "stderr",
     "output_type": "stream",
     "text": [
      "\n"
     ]
    },
    {
     "name": "stdout",
     "output_type": "stream",
     "text": [
      "Relative training error = 8.0620 %\n",
      "Relative test error = 9.5832 %\n"
     ]
    },
    {
     "name": "stderr",
     "output_type": "stream",
     "text": [
      "100%|█████████████████████████████████████████████████████████████████████████████████████████████████████████████████████████████████████████████████████████████████████| 23/23 [00:00<00:00, 438.38it/s]"
     ]
    },
    {
     "name": "stdout",
     "output_type": "stream",
     "text": [
      " loss = 0.1101\n"
     ]
    },
    {
     "name": "stderr",
     "output_type": "stream",
     "text": [
      "\n"
     ]
    },
    {
     "name": "stdout",
     "output_type": "stream",
     "text": [
      "Relative training error = 8.0386 %\n",
      "Relative test error = 9.6360 %\n"
     ]
    },
    {
     "name": "stderr",
     "output_type": "stream",
     "text": [
      "100%|█████████████████████████████████████████████████████████████████████████████████████████████████████████████████████████████████████████████████████████████████████| 23/23 [00:00<00:00, 540.69it/s]"
     ]
    },
    {
     "name": "stdout",
     "output_type": "stream",
     "text": [
      " loss = 0.0691\n"
     ]
    },
    {
     "name": "stderr",
     "output_type": "stream",
     "text": [
      "\n"
     ]
    },
    {
     "name": "stdout",
     "output_type": "stream",
     "text": [
      "Relative training error = 8.0388 %\n",
      "Relative test error = 9.5486 %\n"
     ]
    },
    {
     "name": "stderr",
     "output_type": "stream",
     "text": [
      "100%|█████████████████████████████████████████████████████████████████████████████████████████████████████████████████████████████████████████████████████████████████████| 23/23 [00:00<00:00, 507.29it/s]"
     ]
    },
    {
     "name": "stdout",
     "output_type": "stream",
     "text": [
      " loss = 0.1443\n"
     ]
    },
    {
     "name": "stderr",
     "output_type": "stream",
     "text": [
      "\n"
     ]
    },
    {
     "name": "stdout",
     "output_type": "stream",
     "text": [
      "Relative training error = 8.0236 %\n",
      "Relative test error = 9.2514 %\n"
     ]
    },
    {
     "name": "stderr",
     "output_type": "stream",
     "text": [
      "100%|█████████████████████████████████████████████████████████████████████████████████████████████████████████████████████████████████████████████████████████████████████| 23/23 [00:00<00:00, 541.31it/s]"
     ]
    },
    {
     "name": "stdout",
     "output_type": "stream",
     "text": [
      " loss = 0.0652\n",
      "Relative training error = 8.0206 %\n",
      "Relative test error = 9.5792 %\n"
     ]
    },
    {
     "name": "stderr",
     "output_type": "stream",
     "text": [
      "\n",
      "100%|█████████████████████████████████████████████████████████████████████████████████████████████████████████████████████████████████████████████████████████████████████| 23/23 [00:00<00:00, 464.09it/s]"
     ]
    },
    {
     "name": "stdout",
     "output_type": "stream",
     "text": [
      " loss = 0.1024\n"
     ]
    },
    {
     "name": "stderr",
     "output_type": "stream",
     "text": [
      "\n"
     ]
    },
    {
     "name": "stdout",
     "output_type": "stream",
     "text": [
      "Relative training error = 7.9964 %\n",
      "Relative test error = 9.3714 %\n"
     ]
    },
    {
     "name": "stderr",
     "output_type": "stream",
     "text": [
      "100%|█████████████████████████████████████████████████████████████████████████████████████████████████████████████████████████████████████████████████████████████████████| 23/23 [00:00<00:00, 458.53it/s]\n"
     ]
    },
    {
     "name": "stdout",
     "output_type": "stream",
     "text": [
      " loss = 0.0751\n",
      "Relative training error = 7.9624 %\n",
      "Relative test error = 9.5167 %\n"
     ]
    },
    {
     "name": "stderr",
     "output_type": "stream",
     "text": [
      "100%|█████████████████████████████████████████████████████████████████████████████████████████████████████████████████████████████████████████████████████████████████████| 23/23 [00:00<00:00, 464.28it/s]"
     ]
    },
    {
     "name": "stdout",
     "output_type": "stream",
     "text": [
      " loss = 0.0783\n"
     ]
    },
    {
     "name": "stderr",
     "output_type": "stream",
     "text": [
      "\n"
     ]
    },
    {
     "name": "stdout",
     "output_type": "stream",
     "text": [
      "Relative training error = 7.9710 %\n",
      "Relative test error = 9.2521 %\n"
     ]
    },
    {
     "name": "stderr",
     "output_type": "stream",
     "text": [
      "100%|█████████████████████████████████████████████████████████████████████████████████████████████████████████████████████████████████████████████████████████████████████| 23/23 [00:00<00:00, 470.11it/s]"
     ]
    },
    {
     "name": "stdout",
     "output_type": "stream",
     "text": [
      " loss = 0.1976\n"
     ]
    },
    {
     "name": "stderr",
     "output_type": "stream",
     "text": [
      "\n"
     ]
    },
    {
     "name": "stdout",
     "output_type": "stream",
     "text": [
      "Relative training error = 7.9911 %\n",
      "Relative test error = 9.4040 %\n"
     ]
    },
    {
     "name": "stderr",
     "output_type": "stream",
     "text": [
      "100%|█████████████████████████████████████████████████████████████████████████████████████████████████████████████████████████████████████████████████████████████████████| 23/23 [00:00<00:00, 534.99it/s]"
     ]
    },
    {
     "name": "stdout",
     "output_type": "stream",
     "text": [
      " loss = 0.1051\n"
     ]
    },
    {
     "name": "stderr",
     "output_type": "stream",
     "text": [
      "\n"
     ]
    },
    {
     "name": "stdout",
     "output_type": "stream",
     "text": [
      "Relative training error = 7.9804 %\n",
      "Relative test error = 9.5391 %\n"
     ]
    },
    {
     "name": "stderr",
     "output_type": "stream",
     "text": [
      "100%|█████████████████████████████████████████████████████████████████████████████████████████████████████████████████████████████████████████████████████████████████████| 23/23 [00:00<00:00, 466.07it/s]"
     ]
    },
    {
     "name": "stdout",
     "output_type": "stream",
     "text": [
      " loss = 0.1237\n",
      "Relative training error = 7.9602 %\n",
      "Relative test error = 9.6129 %\n"
     ]
    },
    {
     "name": "stderr",
     "output_type": "stream",
     "text": [
      "\n",
      "100%|█████████████████████████████████████████████████████████████████████████████████████████████████████████████████████████████████████████████████████████████████████| 23/23 [00:00<00:00, 486.74it/s]"
     ]
    },
    {
     "name": "stdout",
     "output_type": "stream",
     "text": [
      " loss = 0.1242\n"
     ]
    },
    {
     "name": "stderr",
     "output_type": "stream",
     "text": [
      "\n"
     ]
    },
    {
     "name": "stdout",
     "output_type": "stream",
     "text": [
      "Relative training error = 7.9509 %\n",
      "Relative test error = 9.6862 %\n",
      "Creating DAS_analysis object\n",
      "[-0.01079496 -0.00636261 -0.00472965  0.00829344 -0.03315033  0.01000517\n",
      " -0.03147244  0.01236407 -0.02684816  0.00736422 -0.01663265 -0.00670413\n",
      "  0.01756466 -0.01872044  0.02313004 -0.03355007  0.0332702  -0.02308934\n",
      " -0.04141354  0.01600002 -0.00833672  0.01130101  0.00841153  0.0035773\n",
      "  0.00450807  0.03616873  0.00554306  0.01251749 -0.00332135  0.01660203\n",
      "  0.00364524 -0.00423356 -0.01502233  0.00553334  0.00909886  0.03581746\n",
      " -0.01612826 -0.01689578 -0.00544872 -0.0257047  -0.0020281  -0.00491286\n",
      " -0.01851041 -0.00295021 -0.01707543  0.01278958 -0.03309115 -0.03378421\n",
      "  0.02105434 -0.024914    0.01355151  0.0347159   0.00949286 -0.01157946\n",
      " -0.02779381  0.01103345  0.05014661 -0.0388591   0.03466138 -0.03282935\n",
      "  0.01334391 -0.02446218  0.00617272  0.02966007 -0.0113076  -0.02121396\n",
      " -0.02654688 -0.02603522  0.00742446  0.0033779  -0.03955923 -0.02515224\n",
      " -0.00983606 -0.03146489 -0.02662707  0.00106644 -0.01827304 -0.01481842\n",
      "  0.00496895 -0.01752653  0.02289294  0.02491585 -0.05154504 -0.0153165\n",
      " -0.02955348 -0.01164796  0.00169125  0.00708391  0.00424188 -0.0170783\n",
      " -0.02926962  0.01683864 -0.03211833  0.04620026  0.02204849  0.03711775\n",
      " -0.02703611 -0.02134703 -0.01017228 -0.02460535 -0.00175839  0.00900341\n",
      "  0.0066653   0.02126546 -0.00704159 -0.02525979  0.04929931  0.03000105\n",
      "  0.00056224  0.02727065  0.00672098 -0.02266489 -0.03778072 -0.0143658\n",
      " -0.06977009 -0.00184082  0.03251847  0.00536228  0.00780703  0.00351171\n",
      " -0.001558    0.00453452  0.01956437  0.00755578 -0.00347596 -0.02544811\n",
      " -0.00691871  0.0184323  -0.00946686  0.01644332 -0.00717298 -0.00091536\n",
      " -0.00513515 -0.00200119 -0.00781267  0.03063803  0.00576488 -0.00229528\n",
      "  0.02318851  0.0245067  -0.02252075 -0.01338904  0.0351502  -0.00802465\n",
      " -0.02688461 -0.01285858 -0.04307223  0.01796226 -0.00352158 -0.02649279\n",
      " -0.02409055  0.01353839 -0.01250318  0.00313297  0.01588277  0.01109347\n",
      " -0.00357092  0.00296899  0.00483943 -0.03099188 -0.01898565  0.02774835\n",
      " -0.03559913 -0.0050307   0.0044001   0.13017571 -0.01762796]\n",
      "Parameters ordered from most to least important:\n",
      "[[141 149 165 150 153 151 142  17 137  15 113 109 154  27  39  10 107  85\n",
      "   73 138 163  95  41  87  57  36  68 159  97 152  53  94 105 106 117 166\n",
      "   23  29 112  74  93  19 164 123  83  28 161 139  99   2  72  21  16 120\n",
      "  133  75 140   1  59 162  52 115  49 155 124  31 110  40  79 148 156  55\n",
      "   35  42 129  89 108  22  38   5 145  18  54  56  61  76  47 127 136  26\n",
      "   84   4 101   3 116  13  69  45 121  30 158 100 130  70  82 126 118  32\n",
      "    9  80  64  24  46 131  65  48  92 146 135 160  63   6  66  78 147  60\n",
      "   90  25  62  81  50   7 157 143 125  20  37  88  33   8 104  86  71  77\n",
      "  103  51  67  44 144 102  96  43 134  98  58  12 132 111 122  14  11  34\n",
      "  119 114 128   0  91]]\n",
      "Creating DAS_Surrogate Object\n",
      "Creating Feature Engineering object\n",
      "Using  662/662 samples to train the ML model\n",
      "===============================\n",
      "Neural net parameters\n",
      "===============================\n",
      "Number of layers = 3\n",
      "Number of features = 167\n",
      "Loss function = squared\n",
      "Number of neurons per hidden layer = 20\n",
      "Number of output neurons = 1\n",
      "Activation = ['linear', 'linear', 'tanh', 'linear']\n",
      "This neural network has 228 weights.\n",
      "===============================\n",
      "===============================\n",
      "Training Deep Active Subspace Neural Network...\n"
     ]
    },
    {
     "name": "stderr",
     "output_type": "stream",
     "text": [
      "100%|█████████████████████████████████████████████████████████████████████████████████████████████████████████████████████████████████████████████████████████████████████| 23/23 [00:00<00:00, 553.37it/s]\n"
     ]
    },
    {
     "name": "stdout",
     "output_type": "stream",
     "text": [
      " loss = 1.3758\n",
      "Relative training error = 23.2441 %\n",
      "Relative test error = 22.6864 %\n"
     ]
    },
    {
     "name": "stderr",
     "output_type": "stream",
     "text": [
      "100%|█████████████████████████████████████████████████████████████████████████████████████████████████████████████████████████████████████████████████████████████████████| 23/23 [00:00<00:00, 496.71it/s]"
     ]
    },
    {
     "name": "stdout",
     "output_type": "stream",
     "text": [
      " loss = 1.0224\n"
     ]
    },
    {
     "name": "stderr",
     "output_type": "stream",
     "text": [
      "\n"
     ]
    },
    {
     "name": "stdout",
     "output_type": "stream",
     "text": [
      "Relative training error = 20.0226 %\n",
      "Relative test error = 22.2518 %\n"
     ]
    },
    {
     "name": "stderr",
     "output_type": "stream",
     "text": [
      "100%|█████████████████████████████████████████████████████████████████████████████████████████████████████████████████████████████████████████████████████████████████████| 23/23 [00:00<00:00, 461.12it/s]\n"
     ]
    },
    {
     "name": "stdout",
     "output_type": "stream",
     "text": [
      " loss = 0.9186\n",
      "Relative training error = 15.8847 %\n",
      "Relative test error = 19.6721 %\n"
     ]
    },
    {
     "name": "stderr",
     "output_type": "stream",
     "text": [
      "100%|█████████████████████████████████████████████████████████████████████████████████████████████████████████████████████████████████████████████████████████████████████| 23/23 [00:00<00:00, 460.85it/s]"
     ]
    },
    {
     "name": "stdout",
     "output_type": "stream",
     "text": [
      " loss = 0.6272\n"
     ]
    },
    {
     "name": "stderr",
     "output_type": "stream",
     "text": [
      "\n"
     ]
    },
    {
     "name": "stdout",
     "output_type": "stream",
     "text": [
      "Relative training error = 13.0523 %\n",
      "Relative test error = 16.3623 %\n"
     ]
    },
    {
     "name": "stderr",
     "output_type": "stream",
     "text": [
      "100%|█████████████████████████████████████████████████████████████████████████████████████████████████████████████████████████████████████████████████████████████████████| 23/23 [00:00<00:00, 554.13it/s]\n"
     ]
    },
    {
     "name": "stdout",
     "output_type": "stream",
     "text": [
      " loss = 0.3840\n",
      "Relative training error = 11.3352 %\n",
      "Relative test error = 14.1139 %\n"
     ]
    },
    {
     "name": "stderr",
     "output_type": "stream",
     "text": [
      "100%|█████████████████████████████████████████████████████████████████████████████████████████████████████████████████████████████████████████████████████████████████████| 23/23 [00:00<00:00, 542.61it/s]\n"
     ]
    },
    {
     "name": "stdout",
     "output_type": "stream",
     "text": [
      " loss = 0.3133\n",
      "Relative training error = 10.1514 %\n",
      "Relative test error = 11.8890 %\n"
     ]
    },
    {
     "name": "stderr",
     "output_type": "stream",
     "text": [
      "100%|█████████████████████████████████████████████████████████████████████████████████████████████████████████████████████████████████████████████████████████████████████| 23/23 [00:00<00:00, 532.30it/s]\n"
     ]
    },
    {
     "name": "stdout",
     "output_type": "stream",
     "text": [
      " loss = 0.2447\n",
      "Relative training error = 9.4216 %\n",
      "Relative test error = 10.9609 %\n"
     ]
    },
    {
     "name": "stderr",
     "output_type": "stream",
     "text": [
      "100%|█████████████████████████████████████████████████████████████████████████████████████████████████████████████████████████████████████████████████████████████████████| 23/23 [00:00<00:00, 524.76it/s]\n"
     ]
    },
    {
     "name": "stdout",
     "output_type": "stream",
     "text": [
      " loss = 0.1591\n",
      "Relative training error = 8.9613 %\n",
      "Relative test error = 10.4188 %\n"
     ]
    },
    {
     "name": "stderr",
     "output_type": "stream",
     "text": [
      "100%|█████████████████████████████████████████████████████████████████████████████████████████████████████████████████████████████████████████████████████████████████████| 23/23 [00:00<00:00, 461.77it/s]"
     ]
    },
    {
     "name": "stdout",
     "output_type": "stream",
     "text": [
      " loss = 0.2289\n"
     ]
    },
    {
     "name": "stderr",
     "output_type": "stream",
     "text": [
      "\n"
     ]
    },
    {
     "name": "stdout",
     "output_type": "stream",
     "text": [
      "Relative training error = 8.7141 %\n",
      "Relative test error = 9.9114 %\n"
     ]
    },
    {
     "name": "stderr",
     "output_type": "stream",
     "text": [
      "100%|█████████████████████████████████████████████████████████████████████████████████████████████████████████████████████████████████████████████████████████████████████| 23/23 [00:00<00:00, 458.01it/s]\n"
     ]
    },
    {
     "name": "stdout",
     "output_type": "stream",
     "text": [
      " loss = 0.1284\n",
      "Relative training error = 8.5659 %\n",
      "Relative test error = 9.5607 %\n"
     ]
    },
    {
     "name": "stderr",
     "output_type": "stream",
     "text": [
      "100%|█████████████████████████████████████████████████████████████████████████████████████████████████████████████████████████████████████████████████████████████████████| 23/23 [00:00<00:00, 547.06it/s]"
     ]
    },
    {
     "name": "stdout",
     "output_type": "stream",
     "text": [
      " loss = 0.1598\n"
     ]
    },
    {
     "name": "stderr",
     "output_type": "stream",
     "text": [
      "\n"
     ]
    },
    {
     "name": "stdout",
     "output_type": "stream",
     "text": [
      "Relative training error = 8.5693 %\n",
      "Relative test error = 9.9239 %\n"
     ]
    },
    {
     "name": "stderr",
     "output_type": "stream",
     "text": [
      "100%|█████████████████████████████████████████████████████████████████████████████████████████████████████████████████████████████████████████████████████████████████████| 23/23 [00:00<00:00, 545.82it/s]\n"
     ]
    },
    {
     "name": "stdout",
     "output_type": "stream",
     "text": [
      " loss = 0.1914\n",
      "Relative training error = 8.4034 %\n",
      "Relative test error = 9.4601 %\n"
     ]
    },
    {
     "name": "stderr",
     "output_type": "stream",
     "text": [
      "100%|█████████████████████████████████████████████████████████████████████████████████████████████████████████████████████████████████████████████████████████████████████| 23/23 [00:00<00:00, 543.03it/s]"
     ]
    },
    {
     "name": "stdout",
     "output_type": "stream",
     "text": [
      " loss = 0.1288\n",
      "Relative training error = 8.3555 %\n"
     ]
    },
    {
     "name": "stderr",
     "output_type": "stream",
     "text": [
      "\n"
     ]
    },
    {
     "name": "stdout",
     "output_type": "stream",
     "text": [
      "Relative test error = 9.3568 %\n"
     ]
    },
    {
     "name": "stderr",
     "output_type": "stream",
     "text": [
      "100%|█████████████████████████████████████████████████████████████████████████████████████████████████████████████████████████████████████████████████████████████████████| 23/23 [00:00<00:00, 543.98it/s]\n"
     ]
    },
    {
     "name": "stdout",
     "output_type": "stream",
     "text": [
      " loss = 0.0539\n",
      "Relative training error = 8.3053 %\n",
      "Relative test error = 9.5842 %\n"
     ]
    },
    {
     "name": "stderr",
     "output_type": "stream",
     "text": [
      "100%|█████████████████████████████████████████████████████████████████████████████████████████████████████████████████████████████████████████████████████████████████████| 23/23 [00:00<00:00, 471.30it/s]"
     ]
    },
    {
     "name": "stdout",
     "output_type": "stream",
     "text": [
      " loss = 0.1501\n"
     ]
    },
    {
     "name": "stderr",
     "output_type": "stream",
     "text": [
      "\n"
     ]
    },
    {
     "name": "stdout",
     "output_type": "stream",
     "text": [
      "Relative training error = 8.2920 %\n",
      "Relative test error = 9.7633 %\n"
     ]
    },
    {
     "name": "stderr",
     "output_type": "stream",
     "text": [
      "100%|█████████████████████████████████████████████████████████████████████████████████████████████████████████████████████████████████████████████████████████████████████| 23/23 [00:00<00:00, 520.02it/s]\n"
     ]
    },
    {
     "name": "stdout",
     "output_type": "stream",
     "text": [
      " loss = 0.1726\n",
      "Relative training error = 8.2610 %\n",
      "Relative test error = 9.5355 %\n"
     ]
    },
    {
     "name": "stderr",
     "output_type": "stream",
     "text": [
      "100%|█████████████████████████████████████████████████████████████████████████████████████████████████████████████████████████████████████████████████████████████████████| 23/23 [00:00<00:00, 524.51it/s]"
     ]
    },
    {
     "name": "stdout",
     "output_type": "stream",
     "text": [
      " loss = 0.1966\n"
     ]
    },
    {
     "name": "stderr",
     "output_type": "stream",
     "text": [
      "\n"
     ]
    },
    {
     "name": "stdout",
     "output_type": "stream",
     "text": [
      "Relative training error = 8.2983 %\n",
      "Relative test error = 9.3149 %\n"
     ]
    },
    {
     "name": "stderr",
     "output_type": "stream",
     "text": [
      "100%|█████████████████████████████████████████████████████████████████████████████████████████████████████████████████████████████████████████████████████████████████████| 23/23 [00:00<00:00, 452.06it/s]"
     ]
    },
    {
     "name": "stdout",
     "output_type": "stream",
     "text": [
      " loss = 0.0924\n"
     ]
    },
    {
     "name": "stderr",
     "output_type": "stream",
     "text": [
      "\n"
     ]
    },
    {
     "name": "stdout",
     "output_type": "stream",
     "text": [
      "Relative training error = 8.2795 %\n",
      "Relative test error = 9.5835 %\n"
     ]
    },
    {
     "name": "stderr",
     "output_type": "stream",
     "text": [
      "100%|█████████████████████████████████████████████████████████████████████████████████████████████████████████████████████████████████████████████████████████████████████| 23/23 [00:00<00:00, 445.59it/s]"
     ]
    },
    {
     "name": "stdout",
     "output_type": "stream",
     "text": [
      " loss = 0.1037\n"
     ]
    },
    {
     "name": "stderr",
     "output_type": "stream",
     "text": [
      "\n"
     ]
    },
    {
     "name": "stdout",
     "output_type": "stream",
     "text": [
      "Relative training error = 8.2227 %\n",
      "Relative test error = 9.4498 %\n"
     ]
    },
    {
     "name": "stderr",
     "output_type": "stream",
     "text": [
      "100%|█████████████████████████████████████████████████████████████████████████████████████████████████████████████████████████████████████████████████████████████████████| 23/23 [00:00<00:00, 513.02it/s]\n"
     ]
    },
    {
     "name": "stdout",
     "output_type": "stream",
     "text": [
      " loss = 0.0684\n",
      "Relative training error = 8.1763 %\n",
      "Relative test error = 9.9473 %\n"
     ]
    },
    {
     "name": "stderr",
     "output_type": "stream",
     "text": [
      "100%|█████████████████████████████████████████████████████████████████████████████████████████████████████████████████████████████████████████████████████████████████████| 23/23 [00:00<00:00, 456.18it/s]"
     ]
    },
    {
     "name": "stdout",
     "output_type": "stream",
     "text": [
      " loss = 0.1065\n"
     ]
    },
    {
     "name": "stderr",
     "output_type": "stream",
     "text": [
      "\n"
     ]
    },
    {
     "name": "stdout",
     "output_type": "stream",
     "text": [
      "Relative training error = 8.0991 %\n",
      "Relative test error = 9.8307 %\n"
     ]
    },
    {
     "name": "stderr",
     "output_type": "stream",
     "text": [
      "100%|█████████████████████████████████████████████████████████████████████████████████████████████████████████████████████████████████████████████████████████████████████| 23/23 [00:00<00:00, 452.59it/s]\n"
     ]
    },
    {
     "name": "stdout",
     "output_type": "stream",
     "text": [
      " loss = 0.1020\n",
      "Relative training error = 8.1501 %\n",
      "Relative test error = 9.8621 %\n"
     ]
    },
    {
     "name": "stderr",
     "output_type": "stream",
     "text": [
      "100%|█████████████████████████████████████████████████████████████████████████████████████████████████████████████████████████████████████████████████████████████████████| 23/23 [00:00<00:00, 519.47it/s]"
     ]
    },
    {
     "name": "stdout",
     "output_type": "stream",
     "text": [
      " loss = 0.1700\n"
     ]
    },
    {
     "name": "stderr",
     "output_type": "stream",
     "text": [
      "\n"
     ]
    },
    {
     "name": "stdout",
     "output_type": "stream",
     "text": [
      "Relative training error = 8.0765 %\n",
      "Relative test error = 9.9151 %\n"
     ]
    },
    {
     "name": "stderr",
     "output_type": "stream",
     "text": [
      "100%|█████████████████████████████████████████████████████████████████████████████████████████████████████████████████████████████████████████████████████████████████████| 23/23 [00:00<00:00, 482.83it/s]"
     ]
    },
    {
     "name": "stdout",
     "output_type": "stream",
     "text": [
      " loss = 0.0997\n"
     ]
    },
    {
     "name": "stderr",
     "output_type": "stream",
     "text": [
      "\n"
     ]
    },
    {
     "name": "stdout",
     "output_type": "stream",
     "text": [
      "Relative training error = 8.1258 %\n",
      "Relative test error = 9.8907 %\n"
     ]
    },
    {
     "name": "stderr",
     "output_type": "stream",
     "text": [
      "100%|█████████████████████████████████████████████████████████████████████████████████████████████████████████████████████████████████████████████████████████████████████| 23/23 [00:00<00:00, 527.31it/s]"
     ]
    },
    {
     "name": "stdout",
     "output_type": "stream",
     "text": [
      " loss = 0.0840\n"
     ]
    },
    {
     "name": "stderr",
     "output_type": "stream",
     "text": [
      "\n"
     ]
    },
    {
     "name": "stdout",
     "output_type": "stream",
     "text": [
      "Relative training error = 8.0692 %\n",
      "Relative test error = 9.9479 %\n",
      "Creating DAS_analysis object\n",
      "[-0.01079496 -0.00636261 -0.00472965  0.00829344 -0.03315033  0.01000517\n",
      " -0.03147244  0.01236407 -0.02684816  0.00736422 -0.01663265 -0.00670413\n",
      "  0.01756466 -0.01872044  0.02313004 -0.03355007  0.0332702  -0.02308934\n",
      " -0.04141354  0.01600002 -0.00833672  0.01130101  0.00841153  0.0035773\n",
      "  0.00450807  0.03616873  0.00554306  0.01251749 -0.00332135  0.01660203\n",
      "  0.00364524 -0.00423356 -0.01502233  0.00553334  0.00909886  0.03581746\n",
      " -0.01612826 -0.01689578 -0.00544872 -0.0257047  -0.0020281  -0.00491286\n",
      " -0.01851041 -0.00295021 -0.01707543  0.01278958 -0.03309115 -0.03378421\n",
      "  0.02105434 -0.024914    0.01355151  0.0347159   0.00949286 -0.01157946\n",
      " -0.02779381  0.01103345  0.05014661 -0.0388591   0.03466138 -0.03282935\n",
      "  0.01334391 -0.02446218  0.00617272  0.02966007 -0.0113076  -0.02121396\n",
      " -0.02654688 -0.02603522  0.00742446  0.0033779  -0.03955923 -0.02515224\n",
      " -0.00983606 -0.03146489 -0.02662707  0.00106644 -0.01827304 -0.01481842\n",
      "  0.00496895 -0.01752653  0.02289294  0.02491585 -0.05154504 -0.0153165\n",
      " -0.02955348 -0.01164796  0.00169125  0.00708391  0.00424188 -0.0170783\n",
      " -0.02926962  0.01683864 -0.03211833  0.04620026  0.02204849  0.03711775\n",
      " -0.02703611 -0.02134703 -0.01017228 -0.02460535 -0.00175839  0.00900341\n",
      "  0.0066653   0.02126546 -0.00704159 -0.02525979  0.04929931  0.03000105\n",
      "  0.00056224  0.02727065  0.00672098 -0.02266489 -0.03778072 -0.0143658\n",
      " -0.06977009 -0.00184082  0.03251847  0.00536228  0.00780703  0.00351171\n",
      " -0.001558    0.00453452  0.01956437  0.00755578 -0.00347596 -0.02544811\n",
      " -0.00691871  0.0184323  -0.00946686  0.01644332 -0.00717298 -0.00091536\n",
      " -0.00513515 -0.00200119 -0.00781267  0.03063803  0.00576488 -0.00229528\n",
      "  0.02318851  0.0245067  -0.02252075 -0.01338904  0.0351502  -0.00802465\n",
      " -0.02688461 -0.01285858 -0.04307223  0.01796226 -0.00352158 -0.02649279\n",
      " -0.02409055  0.01353839 -0.01250318  0.00313297  0.01588277  0.01109347\n",
      " -0.00357092  0.00296899  0.00483943 -0.03099188 -0.01898565  0.02774835\n",
      " -0.03559913 -0.0050307   0.0044001   0.13017571 -0.01762796]\n",
      "Parameters ordered from most to least important:\n",
      "[[141 149 165 150 153 151 142  17  15 137 113 154 107  10 109  95 163  39\n",
      "   27 138  73  85  41  94 166  57  79  29  28   5  68  87 108 164  36  93\n",
      "  139  75  40  99 152   1  18 155 115 110 134 106 161  82  51 105 159  21\n",
      "   23 145 123  97   6  69 133 117  38  37  53  74 162 101 120  26 156 146\n",
      "   19 140  54  72 148  22 129  84  63  52  49  30  65  83  47  88 127  76\n",
      "  130 121 158 143  13  11 118  42  80  55  58 131  86  48  20 160  43  16\n",
      "  100 119   0  59  44 116   8   3  56  46  61  35  14  92  90 144 103  50\n",
      "  114  77 132 102  96 126 135  32  24 147   7 112  31  25   2  81  66  12\n",
      "   33  67 157  60  91  98  70 104 128  34  62  78  89  45 125 111   4  64\n",
      "   71 136 124   9 122]]\n",
      "Creating DAS_Surrogate Object\n",
      "Creating Feature Engineering object\n",
      "Using  662/662 samples to train the ML model\n",
      "===============================\n",
      "Neural net parameters\n",
      "===============================\n",
      "Number of layers = 3\n",
      "Number of features = 167\n",
      "Loss function = squared\n",
      "Number of neurons per hidden layer = 20\n",
      "Number of output neurons = 1\n",
      "Activation = ['linear', 'linear', 'tanh', 'linear']\n",
      "This neural network has 228 weights.\n",
      "===============================\n",
      "===============================\n",
      "Training Deep Active Subspace Neural Network...\n"
     ]
    },
    {
     "name": "stderr",
     "output_type": "stream",
     "text": [
      "100%|█████████████████████████████████████████████████████████████████████████████████████████████████████████████████████████████████████████████████████████████████████| 23/23 [00:00<00:00, 542.00it/s]"
     ]
    },
    {
     "name": "stdout",
     "output_type": "stream",
     "text": [
      " loss = 1.7570\n",
      "Relative training error = 21.9327 %\n"
     ]
    },
    {
     "name": "stderr",
     "output_type": "stream",
     "text": [
      "\n"
     ]
    },
    {
     "name": "stdout",
     "output_type": "stream",
     "text": [
      "Relative test error = 23.4072 %\n"
     ]
    },
    {
     "name": "stderr",
     "output_type": "stream",
     "text": [
      "100%|█████████████████████████████████████████████████████████████████████████████████████████████████████████████████████████████████████████████████████████████████████| 23/23 [00:00<00:00, 452.52it/s]"
     ]
    },
    {
     "name": "stdout",
     "output_type": "stream",
     "text": [
      " loss = 0.6336\n"
     ]
    },
    {
     "name": "stderr",
     "output_type": "stream",
     "text": [
      "\n"
     ]
    },
    {
     "name": "stdout",
     "output_type": "stream",
     "text": [
      "Relative training error = 16.4204 %\n",
      "Relative test error = 19.3022 %\n"
     ]
    },
    {
     "name": "stderr",
     "output_type": "stream",
     "text": [
      "100%|█████████████████████████████████████████████████████████████████████████████████████████████████████████████████████████████████████████████████████████████████████| 23/23 [00:00<00:00, 530.92it/s]"
     ]
    },
    {
     "name": "stdout",
     "output_type": "stream",
     "text": [
      " loss = 0.5486\n"
     ]
    },
    {
     "name": "stderr",
     "output_type": "stream",
     "text": [
      "\n"
     ]
    },
    {
     "name": "stdout",
     "output_type": "stream",
     "text": [
      "Relative training error = 12.4993 %\n",
      "Relative test error = 14.7716 %\n"
     ]
    },
    {
     "name": "stderr",
     "output_type": "stream",
     "text": [
      "100%|█████████████████████████████████████████████████████████████████████████████████████████████████████████████████████████████████████████████████████████████████████| 23/23 [00:00<00:00, 451.98it/s]"
     ]
    },
    {
     "name": "stdout",
     "output_type": "stream",
     "text": [
      " loss = 0.1551\n"
     ]
    },
    {
     "name": "stderr",
     "output_type": "stream",
     "text": [
      "\n"
     ]
    },
    {
     "name": "stdout",
     "output_type": "stream",
     "text": [
      "Relative training error = 10.6680 %\n",
      "Relative test error = 12.9840 %\n"
     ]
    },
    {
     "name": "stderr",
     "output_type": "stream",
     "text": [
      "100%|█████████████████████████████████████████████████████████████████████████████████████████████████████████████████████████████████████████████████████████████████████| 23/23 [00:00<00:00, 459.18it/s]"
     ]
    },
    {
     "name": "stdout",
     "output_type": "stream",
     "text": [
      " loss = 0.1909\n"
     ]
    },
    {
     "name": "stderr",
     "output_type": "stream",
     "text": [
      "\n"
     ]
    },
    {
     "name": "stdout",
     "output_type": "stream",
     "text": [
      "Relative training error = 9.7525 %\n",
      "Relative test error = 11.2503 %\n"
     ]
    },
    {
     "name": "stderr",
     "output_type": "stream",
     "text": [
      "100%|█████████████████████████████████████████████████████████████████████████████████████████████████████████████████████████████████████████████████████████████████████| 23/23 [00:00<00:00, 452.20it/s]"
     ]
    },
    {
     "name": "stdout",
     "output_type": "stream",
     "text": [
      " loss = 0.2135\n"
     ]
    },
    {
     "name": "stderr",
     "output_type": "stream",
     "text": [
      "\n"
     ]
    },
    {
     "name": "stdout",
     "output_type": "stream",
     "text": [
      "Relative training error = 9.0984 %\n",
      "Relative test error = 10.5657 %\n"
     ]
    },
    {
     "name": "stderr",
     "output_type": "stream",
     "text": [
      "100%|█████████████████████████████████████████████████████████████████████████████████████████████████████████████████████████████████████████████████████████████████████| 23/23 [00:00<00:00, 472.15it/s]\n"
     ]
    },
    {
     "name": "stdout",
     "output_type": "stream",
     "text": [
      " loss = 0.0941\n",
      "Relative training error = 8.8460 %\n",
      "Relative test error = 9.9676 %\n"
     ]
    },
    {
     "name": "stderr",
     "output_type": "stream",
     "text": [
      "100%|█████████████████████████████████████████████████████████████████████████████████████████████████████████████████████████████████████████████████████████████████████| 23/23 [00:00<00:00, 467.71it/s]"
     ]
    },
    {
     "name": "stdout",
     "output_type": "stream",
     "text": [
      " loss = 0.1480\n",
      "Relative training error = 8.5466 %\n",
      "Relative test error = 9.6618 %\n"
     ]
    },
    {
     "name": "stderr",
     "output_type": "stream",
     "text": [
      "\n",
      "100%|█████████████████████████████████████████████████████████████████████████████████████████████████████████████████████████████████████████████████████████████████████| 23/23 [00:00<00:00, 459.30it/s]"
     ]
    },
    {
     "name": "stdout",
     "output_type": "stream",
     "text": [
      " loss = 0.0848\n"
     ]
    },
    {
     "name": "stderr",
     "output_type": "stream",
     "text": [
      "\n"
     ]
    },
    {
     "name": "stdout",
     "output_type": "stream",
     "text": [
      "Relative training error = 8.4966 %\n",
      "Relative test error = 9.3860 %\n"
     ]
    },
    {
     "name": "stderr",
     "output_type": "stream",
     "text": [
      "100%|█████████████████████████████████████████████████████████████████████████████████████████████████████████████████████████████████████████████████████████████████████| 23/23 [00:00<00:00, 450.24it/s]\n"
     ]
    },
    {
     "name": "stdout",
     "output_type": "stream",
     "text": [
      " loss = 0.1167\n",
      "Relative training error = 8.3383 %\n",
      "Relative test error = 9.7879 %\n"
     ]
    },
    {
     "name": "stderr",
     "output_type": "stream",
     "text": [
      "100%|█████████████████████████████████████████████████████████████████████████████████████████████████████████████████████████████████████████████████████████████████████| 23/23 [00:00<00:00, 499.18it/s]"
     ]
    },
    {
     "name": "stdout",
     "output_type": "stream",
     "text": [
      " loss = 0.1725\n"
     ]
    },
    {
     "name": "stderr",
     "output_type": "stream",
     "text": [
      "\n"
     ]
    },
    {
     "name": "stdout",
     "output_type": "stream",
     "text": [
      "Relative training error = 8.3857 %\n",
      "Relative test error = 9.4286 %\n"
     ]
    },
    {
     "name": "stderr",
     "output_type": "stream",
     "text": [
      "100%|█████████████████████████████████████████████████████████████████████████████████████████████████████████████████████████████████████████████████████████████████████| 23/23 [00:00<00:00, 533.59it/s]\n"
     ]
    },
    {
     "name": "stdout",
     "output_type": "stream",
     "text": [
      " loss = 0.1195\n",
      "Relative training error = 8.2478 %\n",
      "Relative test error = 9.3153 %\n"
     ]
    },
    {
     "name": "stderr",
     "output_type": "stream",
     "text": [
      "100%|█████████████████████████████████████████████████████████████████████████████████████████████████████████████████████████████████████████████████████████████████████| 23/23 [00:00<00:00, 457.59it/s]"
     ]
    },
    {
     "name": "stdout",
     "output_type": "stream",
     "text": [
      " loss = 0.1140\n"
     ]
    },
    {
     "name": "stderr",
     "output_type": "stream",
     "text": [
      "\n"
     ]
    },
    {
     "name": "stdout",
     "output_type": "stream",
     "text": [
      "Relative training error = 8.3005 %\n",
      "Relative test error = 9.5763 %\n"
     ]
    },
    {
     "name": "stderr",
     "output_type": "stream",
     "text": [
      "100%|█████████████████████████████████████████████████████████████████████████████████████████████████████████████████████████████████████████████████████████████████████| 23/23 [00:00<00:00, 462.83it/s]\n"
     ]
    },
    {
     "name": "stdout",
     "output_type": "stream",
     "text": [
      " loss = 0.0789\n",
      "Relative training error = 8.2395 %\n",
      "Relative test error = 9.6105 %\n"
     ]
    },
    {
     "name": "stderr",
     "output_type": "stream",
     "text": [
      "100%|█████████████████████████████████████████████████████████████████████████████████████████████████████████████████████████████████████████████████████████████████████| 23/23 [00:00<00:00, 450.29it/s]"
     ]
    },
    {
     "name": "stdout",
     "output_type": "stream",
     "text": [
      " loss = 0.1497\n"
     ]
    },
    {
     "name": "stderr",
     "output_type": "stream",
     "text": [
      "\n"
     ]
    },
    {
     "name": "stdout",
     "output_type": "stream",
     "text": [
      "Relative training error = 8.1657 %\n",
      "Relative test error = 9.4034 %\n"
     ]
    },
    {
     "name": "stderr",
     "output_type": "stream",
     "text": [
      "100%|█████████████████████████████████████████████████████████████████████████████████████████████████████████████████████████████████████████████████████████████████████| 23/23 [00:00<00:00, 454.43it/s]"
     ]
    },
    {
     "name": "stdout",
     "output_type": "stream",
     "text": [
      " loss = 0.1219\n"
     ]
    },
    {
     "name": "stderr",
     "output_type": "stream",
     "text": [
      "\n"
     ]
    },
    {
     "name": "stdout",
     "output_type": "stream",
     "text": [
      "Relative training error = 8.2531 %\n",
      "Relative test error = 9.5589 %\n"
     ]
    },
    {
     "name": "stderr",
     "output_type": "stream",
     "text": [
      "100%|█████████████████████████████████████████████████████████████████████████████████████████████████████████████████████████████████████████████████████████████████████| 23/23 [00:00<00:00, 465.06it/s]"
     ]
    },
    {
     "name": "stdout",
     "output_type": "stream",
     "text": [
      " loss = 0.1096\n",
      "Relative training error = 8.1784 %\n",
      "Relative test error = 9.7258 %\n"
     ]
    },
    {
     "name": "stderr",
     "output_type": "stream",
     "text": [
      "\n",
      "100%|█████████████████████████████████████████████████████████████████████████████████████████████████████████████████████████████████████████████████████████████████████| 23/23 [00:00<00:00, 470.49it/s]"
     ]
    },
    {
     "name": "stdout",
     "output_type": "stream",
     "text": [
      " loss = 0.1029\n"
     ]
    },
    {
     "name": "stderr",
     "output_type": "stream",
     "text": [
      "\n"
     ]
    },
    {
     "name": "stdout",
     "output_type": "stream",
     "text": [
      "Relative training error = 8.1645 %\n",
      "Relative test error = 9.5733 %\n"
     ]
    },
    {
     "name": "stderr",
     "output_type": "stream",
     "text": [
      "  0%|                                                                                                                                                                               | 0/23 [00:00<?, ?it/s]"
     ]
    },
    {
     "name": "stdout",
     "output_type": "stream",
     "text": [
      " loss = 0.1707\n"
     ]
    },
    {
     "name": "stderr",
     "output_type": "stream",
     "text": [
      "100%|█████████████████████████████████████████████████████████████████████████████████████████████████████████████████████████████████████████████████████████████████████| 23/23 [00:00<00:00, 306.67it/s]\n"
     ]
    },
    {
     "name": "stdout",
     "output_type": "stream",
     "text": [
      "Relative training error = 8.1858 %\n",
      "Relative test error = 9.5057 %\n"
     ]
    },
    {
     "name": "stderr",
     "output_type": "stream",
     "text": [
      "  0%|                                                                                                                                                                               | 0/23 [00:00<?, ?it/s]"
     ]
    },
    {
     "name": "stdout",
     "output_type": "stream",
     "text": [
      " loss = 0.1288\n"
     ]
    },
    {
     "name": "stderr",
     "output_type": "stream",
     "text": [
      "100%|█████████████████████████████████████████████████████████████████████████████████████████████████████████████████████████████████████████████████████████████████████| 23/23 [00:00<00:00, 457.58it/s]\n"
     ]
    },
    {
     "name": "stdout",
     "output_type": "stream",
     "text": [
      "Relative training error = 8.1383 %\n",
      "Relative test error = 9.5323 %\n"
     ]
    },
    {
     "name": "stderr",
     "output_type": "stream",
     "text": [
      "100%|█████████████████████████████████████████████████████████████████████████████████████████████████████████████████████████████████████████████████████████████████████| 23/23 [00:00<00:00, 536.93it/s]"
     ]
    },
    {
     "name": "stdout",
     "output_type": "stream",
     "text": [
      " loss = 0.0712\n"
     ]
    },
    {
     "name": "stderr",
     "output_type": "stream",
     "text": [
      "\n"
     ]
    },
    {
     "name": "stdout",
     "output_type": "stream",
     "text": [
      "Relative training error = 8.1360 %\n",
      "Relative test error = 9.8399 %\n"
     ]
    },
    {
     "name": "stderr",
     "output_type": "stream",
     "text": [
      "100%|█████████████████████████████████████████████████████████████████████████████████████████████████████████████████████████████████████████████████████████████████████| 23/23 [00:00<00:00, 530.14it/s]"
     ]
    },
    {
     "name": "stdout",
     "output_type": "stream",
     "text": [
      " loss = 0.0992\n"
     ]
    },
    {
     "name": "stderr",
     "output_type": "stream",
     "text": [
      "\n"
     ]
    },
    {
     "name": "stdout",
     "output_type": "stream",
     "text": [
      "Relative training error = 8.0704 %\n",
      "Relative test error = 9.6054 %\n",
      "Creating DAS_analysis object\n",
      "[-0.01079496 -0.00636261 -0.00472965  0.00829344 -0.03315033  0.01000517\n",
      " -0.03147244  0.01236407 -0.02684816  0.00736422 -0.01663265 -0.00670413\n",
      "  0.01756466 -0.01872044  0.02313004 -0.03355007  0.0332702  -0.02308934\n",
      " -0.04141354  0.01600002 -0.00833672  0.01130101  0.00841153  0.0035773\n",
      "  0.00450807  0.03616873  0.00554306  0.01251749 -0.00332135  0.01660203\n",
      "  0.00364524 -0.00423356 -0.01502233  0.00553334  0.00909886  0.03581746\n",
      " -0.01612826 -0.01689578 -0.00544872 -0.0257047  -0.0020281  -0.00491286\n",
      " -0.01851041 -0.00295021 -0.01707543  0.01278958 -0.03309115 -0.03378421\n",
      "  0.02105434 -0.024914    0.01355151  0.0347159   0.00949286 -0.01157946\n",
      " -0.02779381  0.01103345  0.05014661 -0.0388591   0.03466138 -0.03282935\n",
      "  0.01334391 -0.02446218  0.00617272  0.02966007 -0.0113076  -0.02121396\n",
      " -0.02654688 -0.02603522  0.00742446  0.0033779  -0.03955923 -0.02515224\n",
      " -0.00983606 -0.03146489 -0.02662707  0.00106644 -0.01827304 -0.01481842\n",
      "  0.00496895 -0.01752653  0.02289294  0.02491585 -0.05154504 -0.0153165\n",
      " -0.02955348 -0.01164796  0.00169125  0.00708391  0.00424188 -0.0170783\n",
      " -0.02926962  0.01683864 -0.03211833  0.04620026  0.02204849  0.03711775\n",
      " -0.02703611 -0.02134703 -0.01017228 -0.02460535 -0.00175839  0.00900341\n",
      "  0.0066653   0.02126546 -0.00704159 -0.02525979  0.04929931  0.03000105\n",
      "  0.00056224  0.02727065  0.00672098 -0.02266489 -0.03778072 -0.0143658\n",
      " -0.06977009 -0.00184082  0.03251847  0.00536228  0.00780703  0.00351171\n",
      " -0.001558    0.00453452  0.01956437  0.00755578 -0.00347596 -0.02544811\n",
      " -0.00691871  0.0184323  -0.00946686  0.01644332 -0.00717298 -0.00091536\n",
      " -0.00513515 -0.00200119 -0.00781267  0.03063803  0.00576488 -0.00229528\n",
      "  0.02318851  0.0245067  -0.02252075 -0.01338904  0.0351502  -0.00802465\n",
      " -0.02688461 -0.01285858 -0.04307223  0.01796226 -0.00352158 -0.02649279\n",
      " -0.02409055  0.01353839 -0.01250318  0.00313297  0.01588277  0.01109347\n",
      " -0.00357092  0.00296899  0.00483943 -0.03099188 -0.01898565  0.02774835\n",
      " -0.03559913 -0.0050307   0.0044001   0.13017571 -0.01762796]\n",
      "Parameters ordered from most to least important:\n",
      "[[141 149 165 150 153 151 142  17  15 137 113 154 109  95 138 107  73  39\n",
      "   27  10  41 163  57  85  36 164  29 152 105 166 146  94  93  82  53  18\n",
      "   28  40  21  30  79  68 161 159  52  87 120 115  74 129  84 162  49 101\n",
      "  133 110   6  75 139 117  86 134  26  83 108 156   1  96   2  77  64  22\n",
      "   23 145 143  72 103   8  38  78  69  55 111  37 140  59  42  76 121  62\n",
      "   97 114  80  61  47 144  32  19 135 131 112 148  99   9 158  48 106 123\n",
      "  116  63  16 155  46 125  33  43  66 118   3  58  24 126 124   5  35 147\n",
      "  130 127  20  81  60 160 102  90  98  12  14  54  45  89 128  51  71 104\n",
      "   34  31 157 119  13  91  50  44   4 136 122  56  92  25  70  88   7  11\n",
      "   65  67 132   0 100]]\n",
      "Creating DAS_Surrogate Object\n",
      "Creating Feature Engineering object\n",
      "Using  662/662 samples to train the ML model\n",
      "===============================\n",
      "Neural net parameters\n",
      "===============================\n",
      "Number of layers = 3\n",
      "Number of features = 167\n",
      "Loss function = squared\n",
      "Number of neurons per hidden layer = 20\n",
      "Number of output neurons = 1\n",
      "Activation = ['linear', 'linear', 'tanh', 'linear']\n",
      "This neural network has 228 weights.\n",
      "===============================\n",
      "===============================\n",
      "Training Deep Active Subspace Neural Network...\n"
     ]
    },
    {
     "name": "stderr",
     "output_type": "stream",
     "text": [
      "100%|█████████████████████████████████████████████████████████████████████████████████████████████████████████████████████████████████████████████████████████████████████| 23/23 [00:00<00:00, 470.89it/s]"
     ]
    },
    {
     "name": "stdout",
     "output_type": "stream",
     "text": [
      " loss = 0.9741\n"
     ]
    },
    {
     "name": "stderr",
     "output_type": "stream",
     "text": [
      "\n"
     ]
    },
    {
     "name": "stdout",
     "output_type": "stream",
     "text": [
      "Relative training error = 23.6930 %\n",
      "Relative test error = 22.7234 %\n"
     ]
    },
    {
     "name": "stderr",
     "output_type": "stream",
     "text": [
      "100%|█████████████████████████████████████████████████████████████████████████████████████████████████████████████████████████████████████████████████████████████████████| 23/23 [00:00<00:00, 530.64it/s]\n"
     ]
    },
    {
     "name": "stdout",
     "output_type": "stream",
     "text": [
      " loss = 1.1813\n",
      "Relative training error = 21.2447 %\n",
      "Relative test error = 22.1559 %\n"
     ]
    },
    {
     "name": "stderr",
     "output_type": "stream",
     "text": [
      "100%|█████████████████████████████████████████████████████████████████████████████████████████████████████████████████████████████████████████████████████████████████████| 23/23 [00:00<00:00, 457.43it/s]"
     ]
    },
    {
     "name": "stdout",
     "output_type": "stream",
     "text": [
      " loss = 0.6360\n"
     ]
    },
    {
     "name": "stderr",
     "output_type": "stream",
     "text": [
      "\n"
     ]
    },
    {
     "name": "stdout",
     "output_type": "stream",
     "text": [
      "Relative training error = 16.0122 %\n",
      "Relative test error = 20.1060 %\n"
     ]
    },
    {
     "name": "stderr",
     "output_type": "stream",
     "text": [
      "100%|█████████████████████████████████████████████████████████████████████████████████████████████████████████████████████████████████████████████████████████████████████| 23/23 [00:00<00:00, 412.01it/s]\n"
     ]
    },
    {
     "name": "stdout",
     "output_type": "stream",
     "text": [
      " loss = 0.3791\n",
      "Relative training error = 12.9959 %\n",
      "Relative test error = 16.2529 %\n"
     ]
    },
    {
     "name": "stderr",
     "output_type": "stream",
     "text": [
      "100%|█████████████████████████████████████████████████████████████████████████████████████████████████████████████████████████████████████████████████████████████████████| 23/23 [00:00<00:00, 487.30it/s]"
     ]
    },
    {
     "name": "stdout",
     "output_type": "stream",
     "text": [
      " loss = 0.2982\n"
     ]
    },
    {
     "name": "stderr",
     "output_type": "stream",
     "text": [
      "\n"
     ]
    },
    {
     "name": "stdout",
     "output_type": "stream",
     "text": [
      "Relative training error = 10.6991 %\n",
      "Relative test error = 12.9170 %\n"
     ]
    },
    {
     "name": "stderr",
     "output_type": "stream",
     "text": [
      "100%|█████████████████████████████████████████████████████████████████████████████████████████████████████████████████████████████████████████████████████████████████████| 23/23 [00:00<00:00, 484.86it/s]"
     ]
    },
    {
     "name": "stdout",
     "output_type": "stream",
     "text": [
      " loss = 0.2267\n"
     ]
    },
    {
     "name": "stderr",
     "output_type": "stream",
     "text": [
      "\n"
     ]
    },
    {
     "name": "stdout",
     "output_type": "stream",
     "text": [
      "Relative training error = 9.8080 %\n",
      "Relative test error = 11.4171 %\n"
     ]
    },
    {
     "name": "stderr",
     "output_type": "stream",
     "text": [
      "100%|█████████████████████████████████████████████████████████████████████████████████████████████████████████████████████████████████████████████████████████████████████| 23/23 [00:00<00:00, 465.78it/s]"
     ]
    },
    {
     "name": "stdout",
     "output_type": "stream",
     "text": [
      " loss = 0.1335\n"
     ]
    },
    {
     "name": "stderr",
     "output_type": "stream",
     "text": [
      "\n"
     ]
    },
    {
     "name": "stdout",
     "output_type": "stream",
     "text": [
      "Relative training error = 9.0437 %\n",
      "Relative test error = 10.4652 %\n"
     ]
    },
    {
     "name": "stderr",
     "output_type": "stream",
     "text": [
      "100%|█████████████████████████████████████████████████████████████████████████████████████████████████████████████████████████████████████████████████████████████████████| 23/23 [00:00<00:00, 460.56it/s]"
     ]
    },
    {
     "name": "stdout",
     "output_type": "stream",
     "text": [
      " loss = 0.1605\n"
     ]
    },
    {
     "name": "stderr",
     "output_type": "stream",
     "text": [
      "\n"
     ]
    },
    {
     "name": "stdout",
     "output_type": "stream",
     "text": [
      "Relative training error = 8.8806 %\n",
      "Relative test error = 10.3258 %\n"
     ]
    },
    {
     "name": "stderr",
     "output_type": "stream",
     "text": [
      "100%|█████████████████████████████████████████████████████████████████████████████████████████████████████████████████████████████████████████████████████████████████████| 23/23 [00:00<00:00, 442.47it/s]"
     ]
    },
    {
     "name": "stdout",
     "output_type": "stream",
     "text": [
      " loss = 0.1194\n"
     ]
    },
    {
     "name": "stderr",
     "output_type": "stream",
     "text": [
      "\n"
     ]
    },
    {
     "name": "stdout",
     "output_type": "stream",
     "text": [
      "Relative training error = 8.6858 %\n",
      "Relative test error = 10.2259 %\n"
     ]
    },
    {
     "name": "stderr",
     "output_type": "stream",
     "text": [
      "100%|█████████████████████████████████████████████████████████████████████████████████████████████████████████████████████████████████████████████████████████████████████| 23/23 [00:00<00:00, 537.42it/s]"
     ]
    },
    {
     "name": "stdout",
     "output_type": "stream",
     "text": [
      " loss = 0.1420\n",
      "Relative training error = 8.5459 %"
     ]
    },
    {
     "name": "stderr",
     "output_type": "stream",
     "text": [
      "\n"
     ]
    },
    {
     "name": "stdout",
     "output_type": "stream",
     "text": [
      "\n",
      "Relative test error = 10.4183 %\n"
     ]
    },
    {
     "name": "stderr",
     "output_type": "stream",
     "text": [
      "100%|█████████████████████████████████████████████████████████████████████████████████████████████████████████████████████████████████████████████████████████████████████| 23/23 [00:00<00:00, 481.83it/s]"
     ]
    },
    {
     "name": "stdout",
     "output_type": "stream",
     "text": [
      " loss = 0.1018\n"
     ]
    },
    {
     "name": "stderr",
     "output_type": "stream",
     "text": [
      "\n"
     ]
    },
    {
     "name": "stdout",
     "output_type": "stream",
     "text": [
      "Relative training error = 8.3567 %\n",
      "Relative test error = 10.1782 %\n"
     ]
    },
    {
     "name": "stderr",
     "output_type": "stream",
     "text": [
      "100%|█████████████████████████████████████████████████████████████████████████████████████████████████████████████████████████████████████████████████████████████████████| 23/23 [00:00<00:00, 562.32it/s]"
     ]
    },
    {
     "name": "stdout",
     "output_type": "stream",
     "text": [
      " loss = 0.0645\n"
     ]
    },
    {
     "name": "stderr",
     "output_type": "stream",
     "text": [
      "\n"
     ]
    },
    {
     "name": "stdout",
     "output_type": "stream",
     "text": [
      "Relative training error = 8.3187 %\n",
      "Relative test error = 9.8060 %\n"
     ]
    },
    {
     "name": "stderr",
     "output_type": "stream",
     "text": [
      "100%|█████████████████████████████████████████████████████████████████████████████████████████████████████████████████████████████████████████████████████████████████████| 23/23 [00:00<00:00, 456.86it/s]"
     ]
    },
    {
     "name": "stdout",
     "output_type": "stream",
     "text": [
      " loss = 0.0851\n",
      "Relative training error = 8.2747 %\n"
     ]
    },
    {
     "name": "stderr",
     "output_type": "stream",
     "text": [
      "\n"
     ]
    },
    {
     "name": "stdout",
     "output_type": "stream",
     "text": [
      "Relative test error = 9.7712 %\n"
     ]
    },
    {
     "name": "stderr",
     "output_type": "stream",
     "text": [
      "100%|█████████████████████████████████████████████████████████████████████████████████████████████████████████████████████████████████████████████████████████████████████| 23/23 [00:00<00:00, 436.73it/s]"
     ]
    },
    {
     "name": "stdout",
     "output_type": "stream",
     "text": [
      " loss = 0.0770\n"
     ]
    },
    {
     "name": "stderr",
     "output_type": "stream",
     "text": [
      "\n"
     ]
    },
    {
     "name": "stdout",
     "output_type": "stream",
     "text": [
      "Relative training error = 8.2303 %\n",
      "Relative test error = 10.0091 %\n"
     ]
    },
    {
     "name": "stderr",
     "output_type": "stream",
     "text": [
      "100%|█████████████████████████████████████████████████████████████████████████████████████████████████████████████████████████████████████████████████████████████████████| 23/23 [00:00<00:00, 462.38it/s]"
     ]
    },
    {
     "name": "stdout",
     "output_type": "stream",
     "text": [
      " loss = 0.1838\n"
     ]
    },
    {
     "name": "stderr",
     "output_type": "stream",
     "text": [
      "\n"
     ]
    },
    {
     "name": "stdout",
     "output_type": "stream",
     "text": [
      "Relative training error = 8.1699 %\n",
      "Relative test error = 9.8195 %\n"
     ]
    },
    {
     "name": "stderr",
     "output_type": "stream",
     "text": [
      "100%|█████████████████████████████████████████████████████████████████████████████████████████████████████████████████████████████████████████████████████████████████████| 23/23 [00:00<00:00, 462.73it/s]"
     ]
    },
    {
     "name": "stdout",
     "output_type": "stream",
     "text": [
      " loss = 0.0689\n"
     ]
    },
    {
     "name": "stderr",
     "output_type": "stream",
     "text": [
      "\n"
     ]
    },
    {
     "name": "stdout",
     "output_type": "stream",
     "text": [
      "Relative training error = 8.2103 %\n",
      "Relative test error = 9.6808 %\n"
     ]
    },
    {
     "name": "stderr",
     "output_type": "stream",
     "text": [
      "100%|█████████████████████████████████████████████████████████████████████████████████████████████████████████████████████████████████████████████████████████████████████| 23/23 [00:00<00:00, 461.49it/s]"
     ]
    },
    {
     "name": "stdout",
     "output_type": "stream",
     "text": [
      " loss = 0.0896\n"
     ]
    },
    {
     "name": "stderr",
     "output_type": "stream",
     "text": [
      "\n"
     ]
    },
    {
     "name": "stdout",
     "output_type": "stream",
     "text": [
      "Relative training error = 8.1608 %\n",
      "Relative test error = 9.9620 %\n"
     ]
    },
    {
     "name": "stderr",
     "output_type": "stream",
     "text": [
      "100%|█████████████████████████████████████████████████████████████████████████████████████████████████████████████████████████████████████████████████████████████████████| 23/23 [00:00<00:00, 460.69it/s]\n"
     ]
    },
    {
     "name": "stdout",
     "output_type": "stream",
     "text": [
      " loss = 0.1031\n",
      "Relative training error = 8.1555 %\n",
      "Relative test error = 9.8741 %\n"
     ]
    },
    {
     "name": "stderr",
     "output_type": "stream",
     "text": [
      "100%|█████████████████████████████████████████████████████████████████████████████████████████████████████████████████████████████████████████████████████████████████████| 23/23 [00:00<00:00, 463.33it/s]"
     ]
    },
    {
     "name": "stdout",
     "output_type": "stream",
     "text": [
      " loss = 0.1703\n"
     ]
    },
    {
     "name": "stderr",
     "output_type": "stream",
     "text": [
      "\n"
     ]
    },
    {
     "name": "stdout",
     "output_type": "stream",
     "text": [
      "Relative training error = 8.1660 %\n",
      "Relative test error = 10.1594 %\n"
     ]
    },
    {
     "name": "stderr",
     "output_type": "stream",
     "text": [
      "100%|█████████████████████████████████████████████████████████████████████████████████████████████████████████████████████████████████████████████████████████████████████| 23/23 [00:00<00:00, 515.58it/s]\n"
     ]
    },
    {
     "name": "stdout",
     "output_type": "stream",
     "text": [
      " loss = 0.0403\n",
      "Relative training error = 8.1015 %\n",
      "Relative test error = 9.9653 %\n",
      "Creating DAS_analysis object\n",
      "[-0.01079496 -0.00636261 -0.00472965  0.00829344 -0.03315033  0.01000517\n",
      " -0.03147244  0.01236407 -0.02684816  0.00736422 -0.01663265 -0.00670413\n",
      "  0.01756466 -0.01872044  0.02313004 -0.03355007  0.0332702  -0.02308934\n",
      " -0.04141354  0.01600002 -0.00833672  0.01130101  0.00841153  0.0035773\n",
      "  0.00450807  0.03616873  0.00554306  0.01251749 -0.00332135  0.01660203\n",
      "  0.00364524 -0.00423356 -0.01502233  0.00553334  0.00909886  0.03581746\n",
      " -0.01612826 -0.01689578 -0.00544872 -0.0257047  -0.0020281  -0.00491286\n",
      " -0.01851041 -0.00295021 -0.01707543  0.01278958 -0.03309115 -0.03378421\n",
      "  0.02105434 -0.024914    0.01355151  0.0347159   0.00949286 -0.01157946\n",
      " -0.02779381  0.01103345  0.05014661 -0.0388591   0.03466138 -0.03282935\n",
      "  0.01334391 -0.02446218  0.00617272  0.02966007 -0.0113076  -0.02121396\n",
      " -0.02654688 -0.02603522  0.00742446  0.0033779  -0.03955923 -0.02515224\n",
      " -0.00983606 -0.03146489 -0.02662707  0.00106644 -0.01827304 -0.01481842\n",
      "  0.00496895 -0.01752653  0.02289294  0.02491585 -0.05154504 -0.0153165\n",
      " -0.02955348 -0.01164796  0.00169125  0.00708391  0.00424188 -0.0170783\n",
      " -0.02926962  0.01683864 -0.03211833  0.04620026  0.02204849  0.03711775\n",
      " -0.02703611 -0.02134703 -0.01017228 -0.02460535 -0.00175839  0.00900341\n",
      "  0.0066653   0.02126546 -0.00704159 -0.02525979  0.04929931  0.03000105\n",
      "  0.00056224  0.02727065  0.00672098 -0.02266489 -0.03778072 -0.0143658\n",
      " -0.06977009 -0.00184082  0.03251847  0.00536228  0.00780703  0.00351171\n",
      " -0.001558    0.00453452  0.01956437  0.00755578 -0.00347596 -0.02544811\n",
      " -0.00691871  0.0184323  -0.00946686  0.01644332 -0.00717298 -0.00091536\n",
      " -0.00513515 -0.00200119 -0.00781267  0.03063803  0.00576488 -0.00229528\n",
      "  0.02318851  0.0245067  -0.02252075 -0.01338904  0.0351502  -0.00802465\n",
      " -0.02688461 -0.01285858 -0.04307223  0.01796226 -0.00352158 -0.02649279\n",
      " -0.02409055  0.01353839 -0.01250318  0.00313297  0.01588277  0.01109347\n",
      " -0.00357092  0.00296899  0.00483943 -0.03099188 -0.01898565  0.02774835\n",
      " -0.03559913 -0.0050307   0.0044001   0.13017571 -0.01762796]\n",
      "Parameters ordered from most to least important:\n",
      "[[141 149 165 150 151 153  17 142  15 137 113 109 138 154 163  73  27  41\n",
      "   95  39  10  53 107  93  85  94  28  57  36 152 164  23 166  18  75  21\n",
      "  146 108 115  82 159  22  97 156  49  68  29 105 112 133  38 161  63 162\n",
      "   30 106  87 120  79 117 139  86 147 121 101 129  55  32  47  46  72 110\n",
      "  127  48  26   5  74  77  13 140  89 135  19 123 116  37 119 148  52  66\n",
      "   54  62  56 144 100  83  43  12  99 155 136  42  84  16 134  61  76   0\n",
      "  130   6 158  60  24 157   1 131   2  88  65  59 143  64  51  31 102   4\n",
      "   50  25  14   9  58  96 104  40 114  71  35  45  69 125 160  11 103 132\n",
      "    7  78  81  33 126 124 122   3  20 111 118  92  91  98 128   8 145  80\n",
      "   90  67  70  44  34]]\n",
      "Creating DAS_Surrogate Object\n",
      "Creating Feature Engineering object\n",
      "Using  662/662 samples to train the ML model\n",
      "===============================\n",
      "Neural net parameters\n",
      "===============================\n",
      "Number of layers = 3\n",
      "Number of features = 167\n",
      "Loss function = squared\n",
      "Number of neurons per hidden layer = 20\n",
      "Number of output neurons = 1\n",
      "Activation = ['linear', 'linear', 'tanh', 'linear']\n",
      "This neural network has 228 weights.\n",
      "===============================\n",
      "===============================\n",
      "Training Deep Active Subspace Neural Network...\n"
     ]
    },
    {
     "name": "stderr",
     "output_type": "stream",
     "text": [
      "100%|█████████████████████████████████████████████████████████████████████████████████████████████████████████████████████████████████████████████████████████████████████| 23/23 [00:00<00:00, 529.80it/s]"
     ]
    },
    {
     "name": "stdout",
     "output_type": "stream",
     "text": [
      " loss = 0.9164\n"
     ]
    },
    {
     "name": "stderr",
     "output_type": "stream",
     "text": [
      "\n"
     ]
    },
    {
     "name": "stdout",
     "output_type": "stream",
     "text": [
      "Relative training error = 20.6695 %\n",
      "Relative test error = 23.7437 %\n"
     ]
    },
    {
     "name": "stderr",
     "output_type": "stream",
     "text": [
      "100%|█████████████████████████████████████████████████████████████████████████████████████████████████████████████████████████████████████████████████████████████████████| 23/23 [00:00<00:00, 460.95it/s]"
     ]
    },
    {
     "name": "stdout",
     "output_type": "stream",
     "text": [
      " loss = 0.7657\n"
     ]
    },
    {
     "name": "stderr",
     "output_type": "stream",
     "text": [
      "\n"
     ]
    },
    {
     "name": "stdout",
     "output_type": "stream",
     "text": [
      "Relative training error = 16.8543 %\n",
      "Relative test error = 22.0833 %\n"
     ]
    },
    {
     "name": "stderr",
     "output_type": "stream",
     "text": [
      "100%|█████████████████████████████████████████████████████████████████████████████████████████████████████████████████████████████████████████████████████████████████████| 23/23 [00:00<00:00, 532.41it/s]"
     ]
    },
    {
     "name": "stdout",
     "output_type": "stream",
     "text": [
      " loss = 0.7766\n"
     ]
    },
    {
     "name": "stderr",
     "output_type": "stream",
     "text": [
      "\n"
     ]
    },
    {
     "name": "stdout",
     "output_type": "stream",
     "text": [
      "Relative training error = 14.1943 %\n",
      "Relative test error = 19.5650 %\n"
     ]
    },
    {
     "name": "stderr",
     "output_type": "stream",
     "text": [
      "100%|█████████████████████████████████████████████████████████████████████████████████████████████████████████████████████████████████████████████████████████████████████| 23/23 [00:00<00:00, 474.57it/s]"
     ]
    },
    {
     "name": "stdout",
     "output_type": "stream",
     "text": [
      " loss = 0.2542\n"
     ]
    },
    {
     "name": "stderr",
     "output_type": "stream",
     "text": [
      "\n"
     ]
    },
    {
     "name": "stdout",
     "output_type": "stream",
     "text": [
      "Relative training error = 12.1643 %\n",
      "Relative test error = 15.8807 %\n"
     ]
    },
    {
     "name": "stderr",
     "output_type": "stream",
     "text": [
      "100%|█████████████████████████████████████████████████████████████████████████████████████████████████████████████████████████████████████████████████████████████████████| 23/23 [00:00<00:00, 458.42it/s]"
     ]
    },
    {
     "name": "stdout",
     "output_type": "stream",
     "text": [
      " loss = 0.3767\n"
     ]
    },
    {
     "name": "stderr",
     "output_type": "stream",
     "text": [
      "\n"
     ]
    },
    {
     "name": "stdout",
     "output_type": "stream",
     "text": [
      "Relative training error = 10.9306 %\n",
      "Relative test error = 13.7769 %\n"
     ]
    },
    {
     "name": "stderr",
     "output_type": "stream",
     "text": [
      "100%|█████████████████████████████████████████████████████████████████████████████████████████████████████████████████████████████████████████████████████████████████████| 23/23 [00:00<00:00, 380.83it/s]"
     ]
    },
    {
     "name": "stdout",
     "output_type": "stream",
     "text": [
      " loss = 0.0999\n"
     ]
    },
    {
     "name": "stderr",
     "output_type": "stream",
     "text": [
      "\n"
     ]
    },
    {
     "name": "stdout",
     "output_type": "stream",
     "text": [
      "Relative training error = 10.0837 %\n",
      "Relative test error = 12.5391 %\n"
     ]
    },
    {
     "name": "stderr",
     "output_type": "stream",
     "text": [
      "  0%|                                                                                                                                                                               | 0/23 [00:00<?, ?it/s]"
     ]
    },
    {
     "name": "stdout",
     "output_type": "stream",
     "text": [
      " loss = 0.2409\n"
     ]
    },
    {
     "name": "stderr",
     "output_type": "stream",
     "text": [
      "100%|█████████████████████████████████████████████████████████████████████████████████████████████████████████████████████████████████████████████████████████████████████| 23/23 [00:00<00:00, 272.70it/s]\n"
     ]
    },
    {
     "name": "stdout",
     "output_type": "stream",
     "text": [
      "Relative training error = 9.5489 %\n",
      "Relative test error = 11.3214 %\n"
     ]
    },
    {
     "name": "stderr",
     "output_type": "stream",
     "text": [
      "  0%|                                                                                                                                                                               | 0/23 [00:00<?, ?it/s]"
     ]
    },
    {
     "name": "stdout",
     "output_type": "stream",
     "text": [
      " loss = 0.1445\n"
     ]
    },
    {
     "name": "stderr",
     "output_type": "stream",
     "text": [
      "100%|█████████████████████████████████████████████████████████████████████████████████████████████████████████████████████████████████████████████████████████████████████| 23/23 [00:00<00:00, 433.53it/s]\n"
     ]
    },
    {
     "name": "stdout",
     "output_type": "stream",
     "text": [
      "Relative training error = 9.1745 %\n",
      "Relative test error = 10.8128 %\n"
     ]
    },
    {
     "name": "stderr",
     "output_type": "stream",
     "text": [
      "100%|█████████████████████████████████████████████████████████████████████████████████████████████████████████████████████████████████████████████████████████████████████| 23/23 [00:00<00:00, 559.81it/s]"
     ]
    },
    {
     "name": "stdout",
     "output_type": "stream",
     "text": [
      " loss = 0.1533\n"
     ]
    },
    {
     "name": "stderr",
     "output_type": "stream",
     "text": [
      "\n"
     ]
    },
    {
     "name": "stdout",
     "output_type": "stream",
     "text": [
      "Relative training error = 8.8013 %\n",
      "Relative test error = 10.4474 %\n"
     ]
    },
    {
     "name": "stderr",
     "output_type": "stream",
     "text": [
      "100%|█████████████████████████████████████████████████████████████████████████████████████████████████████████████████████████████████████████████████████████████████████| 23/23 [00:00<00:00, 477.31it/s]\n"
     ]
    },
    {
     "name": "stdout",
     "output_type": "stream",
     "text": [
      " loss = 0.1689\n",
      "Relative training error = 8.5104 %\n",
      "Relative test error = 10.0986 %\n"
     ]
    },
    {
     "name": "stderr",
     "output_type": "stream",
     "text": [
      "100%|█████████████████████████████████████████████████████████████████████████████████████████████████████████████████████████████████████████████████████████████████████| 23/23 [00:00<00:00, 522.47it/s]"
     ]
    },
    {
     "name": "stdout",
     "output_type": "stream",
     "text": [
      " loss = 0.1728\n",
      "Relative training error = 8.3990 %\n"
     ]
    },
    {
     "name": "stderr",
     "output_type": "stream",
     "text": [
      "\n"
     ]
    },
    {
     "name": "stdout",
     "output_type": "stream",
     "text": [
      "Relative test error = 10.1221 %\n"
     ]
    },
    {
     "name": "stderr",
     "output_type": "stream",
     "text": [
      "100%|█████████████████████████████████████████████████████████████████████████████████████████████████████████████████████████████████████████████████████████████████████| 23/23 [00:00<00:00, 570.54it/s]\n"
     ]
    },
    {
     "name": "stdout",
     "output_type": "stream",
     "text": [
      " loss = 0.1166\n",
      "Relative training error = 8.2516 %\n",
      "Relative test error = 9.9687 %\n"
     ]
    },
    {
     "name": "stderr",
     "output_type": "stream",
     "text": [
      "100%|█████████████████████████████████████████████████████████████████████████████████████████████████████████████████████████████████████████████████████████████████████| 23/23 [00:00<00:00, 451.32it/s]"
     ]
    },
    {
     "name": "stdout",
     "output_type": "stream",
     "text": [
      " loss = 0.1365\n"
     ]
    },
    {
     "name": "stderr",
     "output_type": "stream",
     "text": [
      "\n"
     ]
    },
    {
     "name": "stdout",
     "output_type": "stream",
     "text": [
      "Relative training error = 8.2365 %\n",
      "Relative test error = 10.4850 %\n"
     ]
    },
    {
     "name": "stderr",
     "output_type": "stream",
     "text": [
      "100%|█████████████████████████████████████████████████████████████████████████████████████████████████████████████████████████████████████████████████████████████████████| 23/23 [00:00<00:00, 480.33it/s]\n"
     ]
    },
    {
     "name": "stdout",
     "output_type": "stream",
     "text": [
      " loss = 0.1441\n",
      "Relative training error = 8.1619 %\n",
      "Relative test error = 10.2757 %\n"
     ]
    },
    {
     "name": "stderr",
     "output_type": "stream",
     "text": [
      "100%|█████████████████████████████████████████████████████████████████████████████████████████████████████████████████████████████████████████████████████████████████████| 23/23 [00:00<00:00, 460.01it/s]"
     ]
    },
    {
     "name": "stdout",
     "output_type": "stream",
     "text": [
      " loss = 0.1410\n"
     ]
    },
    {
     "name": "stderr",
     "output_type": "stream",
     "text": [
      "\n"
     ]
    },
    {
     "name": "stdout",
     "output_type": "stream",
     "text": [
      "Relative training error = 8.1172 %\n",
      "Relative test error = 10.0494 %\n"
     ]
    },
    {
     "name": "stderr",
     "output_type": "stream",
     "text": [
      "100%|█████████████████████████████████████████████████████████████████████████████████████████████████████████████████████████████████████████████████████████████████████| 23/23 [00:00<00:00, 479.14it/s]"
     ]
    },
    {
     "name": "stdout",
     "output_type": "stream",
     "text": [
      " loss = 0.0781\n"
     ]
    },
    {
     "name": "stderr",
     "output_type": "stream",
     "text": [
      "\n"
     ]
    },
    {
     "name": "stdout",
     "output_type": "stream",
     "text": [
      "Relative training error = 8.0766 %\n",
      "Relative test error = 9.7133 %\n"
     ]
    },
    {
     "name": "stderr",
     "output_type": "stream",
     "text": [
      "100%|█████████████████████████████████████████████████████████████████████████████████████████████████████████████████████████████████████████████████████████████████████| 23/23 [00:00<00:00, 457.36it/s]"
     ]
    },
    {
     "name": "stdout",
     "output_type": "stream",
     "text": [
      " loss = 0.1743\n"
     ]
    },
    {
     "name": "stderr",
     "output_type": "stream",
     "text": [
      "\n"
     ]
    },
    {
     "name": "stdout",
     "output_type": "stream",
     "text": [
      "Relative training error = 8.0542 %\n",
      "Relative test error = 9.9147 %\n"
     ]
    },
    {
     "name": "stderr",
     "output_type": "stream",
     "text": [
      "100%|█████████████████████████████████████████████████████████████████████████████████████████████████████████████████████████████████████████████████████████████████████| 23/23 [00:00<00:00, 445.50it/s]"
     ]
    },
    {
     "name": "stdout",
     "output_type": "stream",
     "text": [
      " loss = 0.0846\n"
     ]
    },
    {
     "name": "stderr",
     "output_type": "stream",
     "text": [
      "\n"
     ]
    },
    {
     "name": "stdout",
     "output_type": "stream",
     "text": [
      "Relative training error = 8.0543 %\n",
      "Relative test error = 9.8696 %\n"
     ]
    },
    {
     "name": "stderr",
     "output_type": "stream",
     "text": [
      "100%|█████████████████████████████████████████████████████████████████████████████████████████████████████████████████████████████████████████████████████████████████████| 23/23 [00:00<00:00, 466.94it/s]"
     ]
    },
    {
     "name": "stdout",
     "output_type": "stream",
     "text": [
      " loss = 0.0827\n"
     ]
    },
    {
     "name": "stderr",
     "output_type": "stream",
     "text": [
      "\n"
     ]
    },
    {
     "name": "stdout",
     "output_type": "stream",
     "text": [
      "Relative training error = 8.0870 %\n",
      "Relative test error = 9.8570 %\n"
     ]
    },
    {
     "name": "stderr",
     "output_type": "stream",
     "text": [
      "100%|█████████████████████████████████████████████████████████████████████████████████████████████████████████████████████████████████████████████████████████████████████| 23/23 [00:00<00:00, 534.90it/s]"
     ]
    },
    {
     "name": "stdout",
     "output_type": "stream",
     "text": [
      " loss = 0.1203\n"
     ]
    },
    {
     "name": "stderr",
     "output_type": "stream",
     "text": [
      "\n"
     ]
    },
    {
     "name": "stdout",
     "output_type": "stream",
     "text": [
      "Relative training error = 7.9955 %\n",
      "Relative test error = 9.7025 %\n",
      "Creating DAS_analysis object\n",
      "[-0.01079496 -0.00636261 -0.00472965  0.00829344 -0.03315033  0.01000517\n",
      " -0.03147244  0.01236407 -0.02684816  0.00736422 -0.01663265 -0.00670413\n",
      "  0.01756466 -0.01872044  0.02313004 -0.03355007  0.0332702  -0.02308934\n",
      " -0.04141354  0.01600002 -0.00833672  0.01130101  0.00841153  0.0035773\n",
      "  0.00450807  0.03616873  0.00554306  0.01251749 -0.00332135  0.01660203\n",
      "  0.00364524 -0.00423356 -0.01502233  0.00553334  0.00909886  0.03581746\n",
      " -0.01612826 -0.01689578 -0.00544872 -0.0257047  -0.0020281  -0.00491286\n",
      " -0.01851041 -0.00295021 -0.01707543  0.01278958 -0.03309115 -0.03378421\n",
      "  0.02105434 -0.024914    0.01355151  0.0347159   0.00949286 -0.01157946\n",
      " -0.02779381  0.01103345  0.05014661 -0.0388591   0.03466138 -0.03282935\n",
      "  0.01334391 -0.02446218  0.00617272  0.02966007 -0.0113076  -0.02121396\n",
      " -0.02654688 -0.02603522  0.00742446  0.0033779  -0.03955923 -0.02515224\n",
      " -0.00983606 -0.03146489 -0.02662707  0.00106644 -0.01827304 -0.01481842\n",
      "  0.00496895 -0.01752653  0.02289294  0.02491585 -0.05154504 -0.0153165\n",
      " -0.02955348 -0.01164796  0.00169125  0.00708391  0.00424188 -0.0170783\n",
      " -0.02926962  0.01683864 -0.03211833  0.04620026  0.02204849  0.03711775\n",
      " -0.02703611 -0.02134703 -0.01017228 -0.02460535 -0.00175839  0.00900341\n",
      "  0.0066653   0.02126546 -0.00704159 -0.02525979  0.04929931  0.03000105\n",
      "  0.00056224  0.02727065  0.00672098 -0.02266489 -0.03778072 -0.0143658\n",
      " -0.06977009 -0.00184082  0.03251847  0.00536228  0.00780703  0.00351171\n",
      " -0.001558    0.00453452  0.01956437  0.00755578 -0.00347596 -0.02544811\n",
      " -0.00691871  0.0184323  -0.00946686  0.01644332 -0.00717298 -0.00091536\n",
      " -0.00513515 -0.00200119 -0.00781267  0.03063803  0.00576488 -0.00229528\n",
      "  0.02318851  0.0245067  -0.02252075 -0.01338904  0.0351502  -0.00802465\n",
      " -0.02688461 -0.01285858 -0.04307223  0.01796226 -0.00352158 -0.02649279\n",
      " -0.02409055  0.01353839 -0.01250318  0.00313297  0.01588277  0.01109347\n",
      " -0.00357092  0.00296899  0.00483943 -0.03099188 -0.01898565  0.02774835\n",
      " -0.03559913 -0.0050307   0.0044001   0.13017571 -0.01762796]\n",
      "Parameters ordered from most to least important:\n",
      "[[141 149 165 150 153 151 142  17 137  15 113 154 107 109  95  39  73  10\n",
      "   41  27 138  36 163  85  94 159 166  57  29  99  53 164 155  87  97  13\n",
      "    6 117  75   2 110  68 130 115  28 105  74 156 100 162 161  84  93  47\n",
      "  134 108 152 112  51  42 139  49  21  18  26 120 133  79 140  58  24  50\n",
      "   19 123  72  40 106  63  76  16  89  48  54  77 129  38  22  69  46  61\n",
      "  132  86  31   1 119  59  44 148  20  60  45  30  23  35  82 158 146  52\n",
      "  145 136  33 101 131  25  62   8  80  90  55  71  81  64  91 143 116  56\n",
      "  122  83 114 160  34   4  37 128  43   9  78 157 104 125  65 102   7  12\n",
      "  127 103  98  92 126   5 124  32  14 111   0 147  11  67 121 118 135  96\n",
      "  144  70   3  88  66]]\n",
      "Creating DAS_Surrogate Object\n",
      "Creating Feature Engineering object\n",
      "Using  662/662 samples to train the ML model\n",
      "===============================\n",
      "Neural net parameters\n",
      "===============================\n",
      "Number of layers = 3\n",
      "Number of features = 167\n",
      "Loss function = squared\n",
      "Number of neurons per hidden layer = 20\n",
      "Number of output neurons = 1\n",
      "Activation = ['linear', 'linear', 'tanh', 'linear']\n",
      "This neural network has 228 weights.\n",
      "===============================\n",
      "===============================\n",
      "Training Deep Active Subspace Neural Network...\n"
     ]
    },
    {
     "name": "stderr",
     "output_type": "stream",
     "text": [
      "100%|█████████████████████████████████████████████████████████████████████████████████████████████████████████████████████████████████████████████████████████████████████| 23/23 [00:00<00:00, 469.29it/s]"
     ]
    },
    {
     "name": "stdout",
     "output_type": "stream",
     "text": [
      " loss = 1.3748\n"
     ]
    },
    {
     "name": "stderr",
     "output_type": "stream",
     "text": [
      "\n"
     ]
    },
    {
     "name": "stdout",
     "output_type": "stream",
     "text": [
      "Relative training error = 22.3241 %\n",
      "Relative test error = 22.5035 %\n"
     ]
    },
    {
     "name": "stderr",
     "output_type": "stream",
     "text": [
      "100%|█████████████████████████████████████████████████████████████████████████████████████████████████████████████████████████████████████████████████████████████████████| 23/23 [00:00<00:00, 463.39it/s]"
     ]
    },
    {
     "name": "stdout",
     "output_type": "stream",
     "text": [
      " loss = 1.0357\n"
     ]
    },
    {
     "name": "stderr",
     "output_type": "stream",
     "text": [
      "\n"
     ]
    },
    {
     "name": "stdout",
     "output_type": "stream",
     "text": [
      "Relative training error = 19.5395 %\n",
      "Relative test error = 22.0060 %\n"
     ]
    },
    {
     "name": "stderr",
     "output_type": "stream",
     "text": [
      "100%|█████████████████████████████████████████████████████████████████████████████████████████████████████████████████████████████████████████████████████████████████████| 23/23 [00:00<00:00, 563.39it/s]\n"
     ]
    },
    {
     "name": "stdout",
     "output_type": "stream",
     "text": [
      " loss = 1.0801\n",
      "Relative training error = 16.3229 %\n",
      "Relative test error = 19.4221 %\n"
     ]
    },
    {
     "name": "stderr",
     "output_type": "stream",
     "text": [
      "100%|█████████████████████████████████████████████████████████████████████████████████████████████████████████████████████████████████████████████████████████████████████| 23/23 [00:00<00:00, 459.70it/s]"
     ]
    },
    {
     "name": "stdout",
     "output_type": "stream",
     "text": [
      " loss = 0.4627\n"
     ]
    },
    {
     "name": "stderr",
     "output_type": "stream",
     "text": [
      "\n"
     ]
    },
    {
     "name": "stdout",
     "output_type": "stream",
     "text": [
      "Relative training error = 13.7706 %\n",
      "Relative test error = 15.7412 %\n"
     ]
    },
    {
     "name": "stderr",
     "output_type": "stream",
     "text": [
      "100%|█████████████████████████████████████████████████████████████████████████████████████████████████████████████████████████████████████████████████████████████████████| 23/23 [00:00<00:00, 458.84it/s]\n"
     ]
    },
    {
     "name": "stdout",
     "output_type": "stream",
     "text": [
      " loss = 0.3356\n",
      "Relative training error = 12.0434 %\n",
      "Relative test error = 13.6172 %\n"
     ]
    },
    {
     "name": "stderr",
     "output_type": "stream",
     "text": [
      "100%|█████████████████████████████████████████████████████████████████████████████████████████████████████████████████████████████████████████████████████████████████████| 23/23 [00:00<00:00, 466.36it/s]"
     ]
    },
    {
     "name": "stdout",
     "output_type": "stream",
     "text": [
      " loss = 0.2621\n"
     ]
    },
    {
     "name": "stderr",
     "output_type": "stream",
     "text": [
      "\n"
     ]
    },
    {
     "name": "stdout",
     "output_type": "stream",
     "text": [
      "Relative training error = 10.9500 %\n",
      "Relative test error = 12.5264 %\n"
     ]
    },
    {
     "name": "stderr",
     "output_type": "stream",
     "text": [
      "100%|█████████████████████████████████████████████████████████████████████████████████████████████████████████████████████████████████████████████████████████████████████| 23/23 [00:00<00:00, 463.93it/s]\n"
     ]
    },
    {
     "name": "stdout",
     "output_type": "stream",
     "text": [
      " loss = 0.2409\n",
      "Relative training error = 10.2897 %\n",
      "Relative test error = 11.6652 %\n"
     ]
    },
    {
     "name": "stderr",
     "output_type": "stream",
     "text": [
      "100%|█████████████████████████████████████████████████████████████████████████████████████████████████████████████████████████████████████████████████████████████████████| 23/23 [00:00<00:00, 437.70it/s]"
     ]
    },
    {
     "name": "stdout",
     "output_type": "stream",
     "text": [
      " loss = 0.1237\n"
     ]
    },
    {
     "name": "stderr",
     "output_type": "stream",
     "text": [
      "\n"
     ]
    },
    {
     "name": "stdout",
     "output_type": "stream",
     "text": [
      "Relative training error = 9.5817 %\n",
      "Relative test error = 10.9553 %\n"
     ]
    },
    {
     "name": "stderr",
     "output_type": "stream",
     "text": [
      "100%|█████████████████████████████████████████████████████████████████████████████████████████████████████████████████████████████████████████████████████████████████████| 23/23 [00:00<00:00, 418.10it/s]"
     ]
    },
    {
     "name": "stdout",
     "output_type": "stream",
     "text": [
      " loss = 0.2744\n"
     ]
    },
    {
     "name": "stderr",
     "output_type": "stream",
     "text": [
      "\n"
     ]
    },
    {
     "name": "stdout",
     "output_type": "stream",
     "text": [
      "Relative training error = 9.0515 %\n",
      "Relative test error = 10.6375 %\n"
     ]
    },
    {
     "name": "stderr",
     "output_type": "stream",
     "text": [
      "100%|█████████████████████████████████████████████████████████████████████████████████████████████████████████████████████████████████████████████████████████████████████| 23/23 [00:00<00:00, 525.71it/s]"
     ]
    },
    {
     "name": "stdout",
     "output_type": "stream",
     "text": [
      " loss = 0.2131\n"
     ]
    },
    {
     "name": "stderr",
     "output_type": "stream",
     "text": [
      "\n"
     ]
    },
    {
     "name": "stdout",
     "output_type": "stream",
     "text": [
      "Relative training error = 8.8410 %\n",
      "Relative test error = 10.0139 %\n"
     ]
    },
    {
     "name": "stderr",
     "output_type": "stream",
     "text": [
      "100%|█████████████████████████████████████████████████████████████████████████████████████████████████████████████████████████████████████████████████████████████████████| 23/23 [00:00<00:00, 539.26it/s]"
     ]
    },
    {
     "name": "stdout",
     "output_type": "stream",
     "text": [
      " loss = 0.1883\n"
     ]
    },
    {
     "name": "stderr",
     "output_type": "stream",
     "text": [
      "\n"
     ]
    },
    {
     "name": "stdout",
     "output_type": "stream",
     "text": [
      "Relative training error = 8.6218 %\n",
      "Relative test error = 9.8282 %\n"
     ]
    },
    {
     "name": "stderr",
     "output_type": "stream",
     "text": [
      "100%|█████████████████████████████████████████████████████████████████████████████████████████████████████████████████████████████████████████████████████████████████████| 23/23 [00:00<00:00, 446.94it/s]"
     ]
    },
    {
     "name": "stdout",
     "output_type": "stream",
     "text": [
      " loss = 0.0940\n",
      "Relative training error = 8.5944 %\n",
      "Relative test error = 10.1246 %\n"
     ]
    },
    {
     "name": "stderr",
     "output_type": "stream",
     "text": [
      "\n",
      "100%|█████████████████████████████████████████████████████████████████████████████████████████████████████████████████████████████████████████████████████████████████████| 23/23 [00:00<00:00, 515.73it/s]"
     ]
    },
    {
     "name": "stdout",
     "output_type": "stream",
     "text": [
      " loss = 0.1020\n"
     ]
    },
    {
     "name": "stderr",
     "output_type": "stream",
     "text": [
      "\n"
     ]
    },
    {
     "name": "stdout",
     "output_type": "stream",
     "text": [
      "Relative training error = 8.5014 %\n",
      "Relative test error = 9.9264 %\n"
     ]
    },
    {
     "name": "stderr",
     "output_type": "stream",
     "text": [
      "100%|█████████████████████████████████████████████████████████████████████████████████████████████████████████████████████████████████████████████████████████████████████| 23/23 [00:00<00:00, 560.50it/s]\n"
     ]
    },
    {
     "name": "stdout",
     "output_type": "stream",
     "text": [
      " loss = 0.1028\n",
      "Relative training error = 8.4182 %\n",
      "Relative test error = 9.8523 %\n"
     ]
    },
    {
     "name": "stderr",
     "output_type": "stream",
     "text": [
      "100%|█████████████████████████████████████████████████████████████████████████████████████████████████████████████████████████████████████████████████████████████████████| 23/23 [00:00<00:00, 556.13it/s]"
     ]
    },
    {
     "name": "stdout",
     "output_type": "stream",
     "text": [
      " loss = 0.1013\n",
      "Relative training error = 8.3595 %\n",
      "Relative test error = 9.2749 %\n"
     ]
    },
    {
     "name": "stderr",
     "output_type": "stream",
     "text": [
      "\n",
      "100%|█████████████████████████████████████████████████████████████████████████████████████████████████████████████████████████████████████████████████████████████████████| 23/23 [00:00<00:00, 538.66it/s]\n"
     ]
    },
    {
     "name": "stdout",
     "output_type": "stream",
     "text": [
      " loss = 0.1219\n",
      "Relative training error = 8.2608 %\n",
      "Relative test error = 9.2346 %\n"
     ]
    },
    {
     "name": "stderr",
     "output_type": "stream",
     "text": [
      "100%|█████████████████████████████████████████████████████████████████████████████████████████████████████████████████████████████████████████████████████████████████████| 23/23 [00:00<00:00, 539.84it/s]\n"
     ]
    },
    {
     "name": "stdout",
     "output_type": "stream",
     "text": [
      " loss = 0.0903\n",
      "Relative training error = 8.2675 %\n",
      "Relative test error = 9.4020 %\n"
     ]
    },
    {
     "name": "stderr",
     "output_type": "stream",
     "text": [
      "100%|█████████████████████████████████████████████████████████████████████████████████████████████████████████████████████████████████████████████████████████████████████| 23/23 [00:00<00:00, 459.53it/s]\n"
     ]
    },
    {
     "name": "stdout",
     "output_type": "stream",
     "text": [
      " loss = 0.0982\n",
      "Relative training error = 8.2257 %\n",
      "Relative test error = 9.7114 %\n"
     ]
    },
    {
     "name": "stderr",
     "output_type": "stream",
     "text": [
      "100%|█████████████████████████████████████████████████████████████████████████████████████████████████████████████████████████████████████████████████████████████████████| 23/23 [00:00<00:00, 463.08it/s]\n"
     ]
    },
    {
     "name": "stdout",
     "output_type": "stream",
     "text": [
      " loss = 0.1025\n",
      "Relative training error = 8.2509 %\n",
      "Relative test error = 9.4142 %\n",
      "Creating DAS_analysis object\n",
      "[-0.01079496 -0.00636261 -0.00472965  0.00829344 -0.03315033  0.01000517\n",
      " -0.03147244  0.01236407 -0.02684816  0.00736422 -0.01663265 -0.00670413\n",
      "  0.01756466 -0.01872044  0.02313004 -0.03355007  0.0332702  -0.02308934\n",
      " -0.04141354  0.01600002 -0.00833672  0.01130101  0.00841153  0.0035773\n",
      "  0.00450807  0.03616873  0.00554306  0.01251749 -0.00332135  0.01660203\n",
      "  0.00364524 -0.00423356 -0.01502233  0.00553334  0.00909886  0.03581746\n",
      " -0.01612826 -0.01689578 -0.00544872 -0.0257047  -0.0020281  -0.00491286\n",
      " -0.01851041 -0.00295021 -0.01707543  0.01278958 -0.03309115 -0.03378421\n",
      "  0.02105434 -0.024914    0.01355151  0.0347159   0.00949286 -0.01157946\n",
      " -0.02779381  0.01103345  0.05014661 -0.0388591   0.03466138 -0.03282935\n",
      "  0.01334391 -0.02446218  0.00617272  0.02966007 -0.0113076  -0.02121396\n",
      " -0.02654688 -0.02603522  0.00742446  0.0033779  -0.03955923 -0.02515224\n",
      " -0.00983606 -0.03146489 -0.02662707  0.00106644 -0.01827304 -0.01481842\n",
      "  0.00496895 -0.01752653  0.02289294  0.02491585 -0.05154504 -0.0153165\n",
      " -0.02955348 -0.01164796  0.00169125  0.00708391  0.00424188 -0.0170783\n",
      " -0.02926962  0.01683864 -0.03211833  0.04620026  0.02204849  0.03711775\n",
      " -0.02703611 -0.02134703 -0.01017228 -0.02460535 -0.00175839  0.00900341\n",
      "  0.0066653   0.02126546 -0.00704159 -0.02525979  0.04929931  0.03000105\n",
      "  0.00056224  0.02727065  0.00672098 -0.02266489 -0.03778072 -0.0143658\n",
      " -0.06977009 -0.00184082  0.03251847  0.00536228  0.00780703  0.00351171\n",
      " -0.001558    0.00453452  0.01956437  0.00755578 -0.00347596 -0.02544811\n",
      " -0.00691871  0.0184323  -0.00946686  0.01644332 -0.00717298 -0.00091536\n",
      " -0.00513515 -0.00200119 -0.00781267  0.03063803  0.00576488 -0.00229528\n",
      "  0.02318851  0.0245067  -0.02252075 -0.01338904  0.0351502  -0.00802465\n",
      " -0.02688461 -0.01285858 -0.04307223  0.01796226 -0.00352158 -0.02649279\n",
      " -0.02409055  0.01353839 -0.01250318  0.00313297  0.01588277  0.01109347\n",
      " -0.00357092  0.00296899  0.00483943 -0.03099188 -0.01898565  0.02774835\n",
      " -0.03559913 -0.0050307   0.0044001   0.13017571 -0.01762796]\n",
      "Parameters ordered from most to least important:\n",
      "[[141 149 165 150 151 153 142  17 137  15 113  73 109 154  39  95 138 107\n",
      "   27  41  85  53 120  68  57  99 108 166  36 163  97 140  75 164 159  10\n",
      "   47 129  94  79  28  42  29 123  18 152 105 111  80  13 130  93  26  21\n",
      "  112  45  38 145 146 148 127  46  30 106  69 162  74  33  54 117  87 124\n",
      "  101  49 115 121 133 100 110  16  35  40  19 135  22 143  48 161  32 116\n",
      "    0 147  44  52 114 158  24  76   1 139  51   5   6  83  59  82  84  31\n",
      "  156  11  66  77  61  70  91  86  14 122 134 155  37  55  96  90   2  43\n",
      "   81  23  98 128  92   3  34  65 131 118 103  60  88  63   9   7 160  50\n",
      "   78 119  62  71 125  72 157 132  64 136  12   4 126  56 102  20  89  67\n",
      "  104  25  58 144   8]]\n",
      "Creating DAS_Surrogate Object\n",
      "Creating Feature Engineering object\n",
      "Using  662/662 samples to train the ML model\n",
      "===============================\n",
      "Neural net parameters\n",
      "===============================\n",
      "Number of layers = 3\n",
      "Number of features = 167\n",
      "Loss function = squared\n",
      "Number of neurons per hidden layer = 20\n",
      "Number of output neurons = 1\n",
      "Activation = ['linear', 'linear', 'tanh', 'linear']\n",
      "This neural network has 228 weights.\n",
      "===============================\n",
      "===============================\n",
      "Training Deep Active Subspace Neural Network...\n"
     ]
    },
    {
     "name": "stderr",
     "output_type": "stream",
     "text": [
      "100%|█████████████████████████████████████████████████████████████████████████████████████████████████████████████████████████████████████████████████████████████████████| 23/23 [00:00<00:00, 487.68it/s]"
     ]
    },
    {
     "name": "stdout",
     "output_type": "stream",
     "text": [
      " loss = 1.9264\n"
     ]
    },
    {
     "name": "stderr",
     "output_type": "stream",
     "text": [
      "\n"
     ]
    },
    {
     "name": "stdout",
     "output_type": "stream",
     "text": [
      "Relative training error = 23.5502 %\n",
      "Relative test error = 22.3730 %\n"
     ]
    },
    {
     "name": "stderr",
     "output_type": "stream",
     "text": [
      "100%|█████████████████████████████████████████████████████████████████████████████████████████████████████████████████████████████████████████████████████████████████████| 23/23 [00:00<00:00, 458.55it/s]\n"
     ]
    },
    {
     "name": "stdout",
     "output_type": "stream",
     "text": [
      " loss = 1.7182\n",
      "Relative training error = 22.5001 %\n",
      "Relative test error = 21.2705 %\n"
     ]
    },
    {
     "name": "stderr",
     "output_type": "stream",
     "text": [
      "100%|█████████████████████████████████████████████████████████████████████████████████████████████████████████████████████████████████████████████████████████████████████| 23/23 [00:00<00:00, 456.92it/s]"
     ]
    },
    {
     "name": "stdout",
     "output_type": "stream",
     "text": [
      " loss = 0.7060\n"
     ]
    },
    {
     "name": "stderr",
     "output_type": "stream",
     "text": [
      "\n"
     ]
    },
    {
     "name": "stdout",
     "output_type": "stream",
     "text": [
      "Relative training error = 20.9778 %\n",
      "Relative test error = 20.6241 %\n"
     ]
    },
    {
     "name": "stderr",
     "output_type": "stream",
     "text": [
      "100%|█████████████████████████████████████████████████████████████████████████████████████████████████████████████████████████████████████████████████████████████████████| 23/23 [00:00<00:00, 467.07it/s]"
     ]
    },
    {
     "name": "stdout",
     "output_type": "stream",
     "text": [
      " loss = 0.7553\n"
     ]
    },
    {
     "name": "stderr",
     "output_type": "stream",
     "text": [
      "\n"
     ]
    },
    {
     "name": "stdout",
     "output_type": "stream",
     "text": [
      "Relative training error = 18.8862 %\n",
      "Relative test error = 19.8505 %\n"
     ]
    },
    {
     "name": "stderr",
     "output_type": "stream",
     "text": [
      "100%|█████████████████████████████████████████████████████████████████████████████████████████████████████████████████████████████████████████████████████████████████████| 23/23 [00:00<00:00, 542.81it/s]"
     ]
    },
    {
     "name": "stdout",
     "output_type": "stream",
     "text": [
      " loss = 0.5510\n"
     ]
    },
    {
     "name": "stderr",
     "output_type": "stream",
     "text": [
      "\n"
     ]
    },
    {
     "name": "stdout",
     "output_type": "stream",
     "text": [
      "Relative training error = 16.8097 %\n",
      "Relative test error = 18.4688 %\n"
     ]
    },
    {
     "name": "stderr",
     "output_type": "stream",
     "text": [
      "100%|█████████████████████████████████████████████████████████████████████████████████████████████████████████████████████████████████████████████████████████████████████| 23/23 [00:00<00:00, 503.69it/s]"
     ]
    },
    {
     "name": "stdout",
     "output_type": "stream",
     "text": [
      " loss = 0.4058\n"
     ]
    },
    {
     "name": "stderr",
     "output_type": "stream",
     "text": [
      "\n"
     ]
    },
    {
     "name": "stdout",
     "output_type": "stream",
     "text": [
      "Relative training error = 14.6704 %\n",
      "Relative test error = 18.0958 %\n"
     ]
    },
    {
     "name": "stderr",
     "output_type": "stream",
     "text": [
      "100%|█████████████████████████████████████████████████████████████████████████████████████████████████████████████████████████████████████████████████████████████████████| 23/23 [00:00<00:00, 471.21it/s]"
     ]
    },
    {
     "name": "stdout",
     "output_type": "stream",
     "text": [
      " loss = 0.3183\n"
     ]
    },
    {
     "name": "stderr",
     "output_type": "stream",
     "text": [
      "\n"
     ]
    },
    {
     "name": "stdout",
     "output_type": "stream",
     "text": [
      "Relative training error = 13.1596 %\n",
      "Relative test error = 16.3011 %\n"
     ]
    },
    {
     "name": "stderr",
     "output_type": "stream",
     "text": [
      "100%|█████████████████████████████████████████████████████████████████████████████████████████████████████████████████████████████████████████████████████████████████████| 23/23 [00:00<00:00, 567.06it/s]"
     ]
    },
    {
     "name": "stdout",
     "output_type": "stream",
     "text": [
      " loss = 0.2491\n"
     ]
    },
    {
     "name": "stderr",
     "output_type": "stream",
     "text": [
      "\n"
     ]
    },
    {
     "name": "stdout",
     "output_type": "stream",
     "text": [
      "Relative training error = 11.8962 %\n",
      "Relative test error = 14.9601 %\n"
     ]
    },
    {
     "name": "stderr",
     "output_type": "stream",
     "text": [
      "100%|█████████████████████████████████████████████████████████████████████████████████████████████████████████████████████████████████████████████████████████████████████| 23/23 [00:00<00:00, 448.08it/s]"
     ]
    },
    {
     "name": "stdout",
     "output_type": "stream",
     "text": [
      " loss = 0.3693\n",
      "Relative training error = 10.9549 %\n"
     ]
    },
    {
     "name": "stderr",
     "output_type": "stream",
     "text": [
      "\n"
     ]
    },
    {
     "name": "stdout",
     "output_type": "stream",
     "text": [
      "Relative test error = 13.5338 %\n"
     ]
    },
    {
     "name": "stderr",
     "output_type": "stream",
     "text": [
      "100%|█████████████████████████████████████████████████████████████████████████████████████████████████████████████████████████████████████████████████████████████████████| 23/23 [00:00<00:00, 463.66it/s]"
     ]
    },
    {
     "name": "stdout",
     "output_type": "stream",
     "text": [
      " loss = 0.2674\n"
     ]
    },
    {
     "name": "stderr",
     "output_type": "stream",
     "text": [
      "\n"
     ]
    },
    {
     "name": "stdout",
     "output_type": "stream",
     "text": [
      "Relative training error = 10.2497 %\n",
      "Relative test error = 12.1281 %\n"
     ]
    },
    {
     "name": "stderr",
     "output_type": "stream",
     "text": [
      "100%|█████████████████████████████████████████████████████████████████████████████████████████████████████████████████████████████████████████████████████████████████████| 23/23 [00:00<00:00, 457.83it/s]\n"
     ]
    },
    {
     "name": "stdout",
     "output_type": "stream",
     "text": [
      " loss = 0.2232\n",
      "Relative training error = 9.7029 %\n",
      "Relative test error = 11.3606 %\n"
     ]
    },
    {
     "name": "stderr",
     "output_type": "stream",
     "text": [
      "100%|█████████████████████████████████████████████████████████████████████████████████████████████████████████████████████████████████████████████████████████████████████| 23/23 [00:00<00:00, 567.85it/s]"
     ]
    },
    {
     "name": "stdout",
     "output_type": "stream",
     "text": [
      " loss = 0.1094\n"
     ]
    },
    {
     "name": "stderr",
     "output_type": "stream",
     "text": [
      "\n"
     ]
    },
    {
     "name": "stdout",
     "output_type": "stream",
     "text": [
      "Relative training error = 9.3270 %\n",
      "Relative test error = 10.5673 %\n"
     ]
    },
    {
     "name": "stderr",
     "output_type": "stream",
     "text": [
      "100%|█████████████████████████████████████████████████████████████████████████████████████████████████████████████████████████████████████████████████████████████████████| 23/23 [00:00<00:00, 514.01it/s]"
     ]
    },
    {
     "name": "stdout",
     "output_type": "stream",
     "text": [
      " loss = 0.1660\n"
     ]
    },
    {
     "name": "stderr",
     "output_type": "stream",
     "text": [
      "\n"
     ]
    },
    {
     "name": "stdout",
     "output_type": "stream",
     "text": [
      "Relative training error = 9.0271 %\n",
      "Relative test error = 10.5571 %\n"
     ]
    },
    {
     "name": "stderr",
     "output_type": "stream",
     "text": [
      "100%|█████████████████████████████████████████████████████████████████████████████████████████████████████████████████████████████████████████████████████████████████████| 23/23 [00:00<00:00, 581.92it/s]"
     ]
    },
    {
     "name": "stdout",
     "output_type": "stream",
     "text": [
      " loss = 0.1783\n"
     ]
    },
    {
     "name": "stderr",
     "output_type": "stream",
     "text": [
      "\n"
     ]
    },
    {
     "name": "stdout",
     "output_type": "stream",
     "text": [
      "Relative training error = 8.8709 %\n",
      "Relative test error = 9.8925 %\n"
     ]
    },
    {
     "name": "stderr",
     "output_type": "stream",
     "text": [
      "100%|█████████████████████████████████████████████████████████████████████████████████████████████████████████████████████████████████████████████████████████████████████| 23/23 [00:00<00:00, 456.26it/s]\n"
     ]
    },
    {
     "name": "stdout",
     "output_type": "stream",
     "text": [
      " loss = 0.1595\n",
      "Relative training error = 8.6686 %\n",
      "Relative test error = 9.7280 %\n"
     ]
    },
    {
     "name": "stderr",
     "output_type": "stream",
     "text": [
      "100%|█████████████████████████████████████████████████████████████████████████████████████████████████████████████████████████████████████████████████████████████████████| 23/23 [00:00<00:00, 459.41it/s]"
     ]
    },
    {
     "name": "stdout",
     "output_type": "stream",
     "text": [
      " loss = 0.1094\n"
     ]
    },
    {
     "name": "stderr",
     "output_type": "stream",
     "text": [
      "\n"
     ]
    },
    {
     "name": "stdout",
     "output_type": "stream",
     "text": [
      "Relative training error = 8.5894 %\n",
      "Relative test error = 9.5021 %\n"
     ]
    },
    {
     "name": "stderr",
     "output_type": "stream",
     "text": [
      "100%|█████████████████████████████████████████████████████████████████████████████████████████████████████████████████████████████████████████████████████████████████████| 23/23 [00:00<00:00, 450.09it/s]"
     ]
    },
    {
     "name": "stdout",
     "output_type": "stream",
     "text": [
      " loss = 0.2430\n"
     ]
    },
    {
     "name": "stderr",
     "output_type": "stream",
     "text": [
      "\n"
     ]
    },
    {
     "name": "stdout",
     "output_type": "stream",
     "text": [
      "Relative training error = 8.5604 %\n",
      "Relative test error = 9.3347 %\n"
     ]
    },
    {
     "name": "stderr",
     "output_type": "stream",
     "text": [
      "100%|█████████████████████████████████████████████████████████████████████████████████████████████████████████████████████████████████████████████████████████████████████| 23/23 [00:00<00:00, 445.33it/s]"
     ]
    },
    {
     "name": "stdout",
     "output_type": "stream",
     "text": [
      " loss = 0.0996\n"
     ]
    },
    {
     "name": "stderr",
     "output_type": "stream",
     "text": [
      "\n"
     ]
    },
    {
     "name": "stdout",
     "output_type": "stream",
     "text": [
      "Relative training error = 8.3916 %\n",
      "Relative test error = 9.4150 %\n"
     ]
    },
    {
     "name": "stderr",
     "output_type": "stream",
     "text": [
      "100%|█████████████████████████████████████████████████████████████████████████████████████████████████████████████████████████████████████████████████████████████████████| 23/23 [00:00<00:00, 530.70it/s]"
     ]
    },
    {
     "name": "stdout",
     "output_type": "stream",
     "text": [
      " loss = 0.2531\n"
     ]
    },
    {
     "name": "stderr",
     "output_type": "stream",
     "text": [
      "\n"
     ]
    },
    {
     "name": "stdout",
     "output_type": "stream",
     "text": [
      "Relative training error = 8.3901 %\n",
      "Relative test error = 9.9983 %\n"
     ]
    },
    {
     "name": "stderr",
     "output_type": "stream",
     "text": [
      "100%|█████████████████████████████████████████████████████████████████████████████████████████████████████████████████████████████████████████████████████████████████████| 23/23 [00:00<00:00, 528.29it/s]"
     ]
    },
    {
     "name": "stdout",
     "output_type": "stream",
     "text": [
      " loss = 0.1656\n"
     ]
    },
    {
     "name": "stderr",
     "output_type": "stream",
     "text": [
      "\n"
     ]
    },
    {
     "name": "stdout",
     "output_type": "stream",
     "text": [
      "Relative training error = 8.3713 %\n",
      "Relative test error = 10.0389 %\n"
     ]
    },
    {
     "name": "stderr",
     "output_type": "stream",
     "text": [
      "100%|█████████████████████████████████████████████████████████████████████████████████████████████████████████████████████████████████████████████████████████████████████| 23/23 [00:00<00:00, 461.25it/s]"
     ]
    },
    {
     "name": "stdout",
     "output_type": "stream",
     "text": [
      " loss = 0.0991\n",
      "Relative training error = 8.3715 %\n",
      "Relative test error = 9.6473 %\n"
     ]
    },
    {
     "name": "stderr",
     "output_type": "stream",
     "text": [
      "\n"
     ]
    },
    {
     "name": "stdout",
     "output_type": "stream",
     "text": [
      "Creating DAS_analysis object\n",
      "[-0.01079496 -0.00636261 -0.00472965  0.00829344 -0.03315033  0.01000517\n",
      " -0.03147244  0.01236407 -0.02684816  0.00736422 -0.01663265 -0.00670413\n",
      "  0.01756466 -0.01872044  0.02313004 -0.03355007  0.0332702  -0.02308934\n",
      " -0.04141354  0.01600002 -0.00833672  0.01130101  0.00841153  0.0035773\n",
      "  0.00450807  0.03616873  0.00554306  0.01251749 -0.00332135  0.01660203\n",
      "  0.00364524 -0.00423356 -0.01502233  0.00553334  0.00909886  0.03581746\n",
      " -0.01612826 -0.01689578 -0.00544872 -0.0257047  -0.0020281  -0.00491286\n",
      " -0.01851041 -0.00295021 -0.01707543  0.01278958 -0.03309115 -0.03378421\n",
      "  0.02105434 -0.024914    0.01355151  0.0347159   0.00949286 -0.01157946\n",
      " -0.02779381  0.01103345  0.05014661 -0.0388591   0.03466138 -0.03282935\n",
      "  0.01334391 -0.02446218  0.00617272  0.02966007 -0.0113076  -0.02121396\n",
      " -0.02654688 -0.02603522  0.00742446  0.0033779  -0.03955923 -0.02515224\n",
      " -0.00983606 -0.03146489 -0.02662707  0.00106644 -0.01827304 -0.01481842\n",
      "  0.00496895 -0.01752653  0.02289294  0.02491585 -0.05154504 -0.0153165\n",
      " -0.02955348 -0.01164796  0.00169125  0.00708391  0.00424188 -0.0170783\n",
      " -0.02926962  0.01683864 -0.03211833  0.04620026  0.02204849  0.03711775\n",
      " -0.02703611 -0.02134703 -0.01017228 -0.02460535 -0.00175839  0.00900341\n",
      "  0.0066653   0.02126546 -0.00704159 -0.02525979  0.04929931  0.03000105\n",
      "  0.00056224  0.02727065  0.00672098 -0.02266489 -0.03778072 -0.0143658\n",
      " -0.06977009 -0.00184082  0.03251847  0.00536228  0.00780703  0.00351171\n",
      " -0.001558    0.00453452  0.01956437  0.00755578 -0.00347596 -0.02544811\n",
      " -0.00691871  0.0184323  -0.00946686  0.01644332 -0.00717298 -0.00091536\n",
      " -0.00513515 -0.00200119 -0.00781267  0.03063803  0.00576488 -0.00229528\n",
      "  0.02318851  0.0245067  -0.02252075 -0.01338904  0.0351502  -0.00802465\n",
      " -0.02688461 -0.01285858 -0.04307223  0.01796226 -0.00352158 -0.02649279\n",
      " -0.02409055  0.01353839 -0.01250318  0.00313297  0.01588277  0.01109347\n",
      " -0.00357092  0.00296899  0.00483943 -0.03099188 -0.01898565  0.02774835\n",
      " -0.03559913 -0.0050307   0.0044001   0.13017571 -0.01762796]\n",
      "Parameters ordered from most to least important:\n",
      "[[141 149 165 150 153 151 142  17  15 137 113 154 109  27 163 107  73  41\n",
      "   21  95 138 115  85  94  10  53  22  28  79  57  49 166  82  75 108 121\n",
      "   68  39  13  99 101  47 155  36 139  18 105  29 120 140  87 156 117  30\n",
      "   83  52  69 146 130 129 145 159 112 152  74 134  93 162  76 157 110 116\n",
      "  106  23  19 148  66 126 100 135  46   4  45 161  59  78  43  38  42 158\n",
      "   20 114  44  37 164 128 132   6  61  55  54 133  35  40  60  31   9  81\n",
      "  143   0  86  97  80   8 127  63  65  90  24  32  26 123 147 136   3  98\n",
      "  125  96 122  33  12 118   2  72  16  84   7 144 160  34  71   1 104  50\n",
      "  111 103 124  91  56  51 119  92 131   5  70  64  11  48  14  77  67  58\n",
      "  102  89  25  88  62]]\n",
      "Creating DAS_Surrogate Object\n",
      "Creating Feature Engineering object\n",
      "Using  662/662 samples to train the ML model\n",
      "===============================\n",
      "Neural net parameters\n",
      "===============================\n",
      "Number of layers = 3\n",
      "Number of features = 167\n",
      "Loss function = squared\n",
      "Number of neurons per hidden layer = 20\n",
      "Number of output neurons = 1\n",
      "Activation = ['linear', 'linear', 'tanh', 'linear']\n",
      "This neural network has 228 weights.\n",
      "===============================\n",
      "===============================\n",
      "Training Deep Active Subspace Neural Network...\n"
     ]
    },
    {
     "name": "stderr",
     "output_type": "stream",
     "text": [
      "100%|█████████████████████████████████████████████████████████████████████████████████████████████████████████████████████████████████████████████████████████████████████| 23/23 [00:00<00:00, 459.74it/s]"
     ]
    },
    {
     "name": "stdout",
     "output_type": "stream",
     "text": [
      " loss = 1.2829\n",
      "Relative training error = 23.6246 %\n",
      "Relative test error = 22.9501 %\n"
     ]
    },
    {
     "name": "stderr",
     "output_type": "stream",
     "text": [
      "\n",
      "100%|█████████████████████████████████████████████████████████████████████████████████████████████████████████████████████████████████████████████████████████████████████| 23/23 [00:00<00:00, 527.77it/s]\n"
     ]
    },
    {
     "name": "stdout",
     "output_type": "stream",
     "text": [
      " loss = 0.7915\n",
      "Relative training error = 23.2854 %\n",
      "Relative test error = 22.7568 %\n"
     ]
    },
    {
     "name": "stderr",
     "output_type": "stream",
     "text": [
      "100%|█████████████████████████████████████████████████████████████████████████████████████████████████████████████████████████████████████████████████████████████████████| 23/23 [00:00<00:00, 469.38it/s]\n"
     ]
    },
    {
     "name": "stdout",
     "output_type": "stream",
     "text": [
      " loss = 1.5192\n",
      "Relative training error = 22.7278 %\n",
      "Relative test error = 23.3041 %\n"
     ]
    },
    {
     "name": "stderr",
     "output_type": "stream",
     "text": [
      "100%|█████████████████████████████████████████████████████████████████████████████████████████████████████████████████████████████████████████████████████████████████████| 23/23 [00:00<00:00, 456.16it/s]"
     ]
    },
    {
     "name": "stdout",
     "output_type": "stream",
     "text": [
      " loss = 1.1435\n",
      "Relative training error = 22.1312 %\n"
     ]
    },
    {
     "name": "stderr",
     "output_type": "stream",
     "text": [
      "\n"
     ]
    },
    {
     "name": "stdout",
     "output_type": "stream",
     "text": [
      "Relative test error = 23.4145 %\n"
     ]
    },
    {
     "name": "stderr",
     "output_type": "stream",
     "text": [
      "100%|█████████████████████████████████████████████████████████████████████████████████████████████████████████████████████████████████████████████████████████████████████| 23/23 [00:00<00:00, 511.46it/s]\n"
     ]
    },
    {
     "name": "stdout",
     "output_type": "stream",
     "text": [
      " loss = 0.6319\n",
      "Relative training error = 20.8668 %\n",
      "Relative test error = 22.3579 %\n"
     ]
    },
    {
     "name": "stderr",
     "output_type": "stream",
     "text": [
      "100%|█████████████████████████████████████████████████████████████████████████████████████████████████████████████████████████████████████████████████████████████████████| 23/23 [00:00<00:00, 452.57it/s]\n"
     ]
    },
    {
     "name": "stdout",
     "output_type": "stream",
     "text": [
      " loss = 0.9344\n",
      "Relative training error = 18.2897 %\n",
      "Relative test error = 20.6685 %\n"
     ]
    },
    {
     "name": "stderr",
     "output_type": "stream",
     "text": [
      "100%|█████████████████████████████████████████████████████████████████████████████████████████████████████████████████████████████████████████████████████████████████████| 23/23 [00:00<00:00, 516.29it/s]"
     ]
    },
    {
     "name": "stdout",
     "output_type": "stream",
     "text": [
      " loss = 0.5052\n"
     ]
    },
    {
     "name": "stderr",
     "output_type": "stream",
     "text": [
      "\n"
     ]
    },
    {
     "name": "stdout",
     "output_type": "stream",
     "text": [
      "Relative training error = 15.5175 %\n",
      "Relative test error = 18.5891 %\n"
     ]
    },
    {
     "name": "stderr",
     "output_type": "stream",
     "text": [
      "100%|█████████████████████████████████████████████████████████████████████████████████████████████████████████████████████████████████████████████████████████████████████| 23/23 [00:00<00:00, 539.80it/s]\n"
     ]
    },
    {
     "name": "stdout",
     "output_type": "stream",
     "text": [
      " loss = 0.4985\n",
      "Relative training error = 12.9613 %\n",
      "Relative test error = 15.8388 %\n"
     ]
    },
    {
     "name": "stderr",
     "output_type": "stream",
     "text": [
      "100%|█████████████████████████████████████████████████████████████████████████████████████████████████████████████████████████████████████████████████████████████████████| 23/23 [00:00<00:00, 462.61it/s]"
     ]
    },
    {
     "name": "stdout",
     "output_type": "stream",
     "text": [
      " loss = 0.3941\n"
     ]
    },
    {
     "name": "stderr",
     "output_type": "stream",
     "text": [
      "\n"
     ]
    },
    {
     "name": "stdout",
     "output_type": "stream",
     "text": [
      "Relative training error = 10.8730 %\n",
      "Relative test error = 12.8616 %\n"
     ]
    },
    {
     "name": "stderr",
     "output_type": "stream",
     "text": [
      "100%|█████████████████████████████████████████████████████████████████████████████████████████████████████████████████████████████████████████████████████████████████████| 23/23 [00:00<00:00, 474.27it/s]"
     ]
    },
    {
     "name": "stdout",
     "output_type": "stream",
     "text": [
      " loss = 0.2499\n"
     ]
    },
    {
     "name": "stderr",
     "output_type": "stream",
     "text": [
      "\n"
     ]
    },
    {
     "name": "stdout",
     "output_type": "stream",
     "text": [
      "Relative training error = 9.6523 %\n",
      "Relative test error = 10.9897 %\n"
     ]
    },
    {
     "name": "stderr",
     "output_type": "stream",
     "text": [
      "100%|█████████████████████████████████████████████████████████████████████████████████████████████████████████████████████████████████████████████████████████████████████| 23/23 [00:00<00:00, 457.91it/s]"
     ]
    },
    {
     "name": "stdout",
     "output_type": "stream",
     "text": [
      " loss = 0.1239\n"
     ]
    },
    {
     "name": "stderr",
     "output_type": "stream",
     "text": [
      "\n"
     ]
    },
    {
     "name": "stdout",
     "output_type": "stream",
     "text": [
      "Relative training error = 9.0620 %\n",
      "Relative test error = 10.0936 %\n"
     ]
    },
    {
     "name": "stderr",
     "output_type": "stream",
     "text": [
      "100%|█████████████████████████████████████████████████████████████████████████████████████████████████████████████████████████████████████████████████████████████████████| 23/23 [00:00<00:00, 461.74it/s]"
     ]
    },
    {
     "name": "stdout",
     "output_type": "stream",
     "text": [
      " loss = 0.1688\n"
     ]
    },
    {
     "name": "stderr",
     "output_type": "stream",
     "text": [
      "\n"
     ]
    },
    {
     "name": "stdout",
     "output_type": "stream",
     "text": [
      "Relative training error = 8.6309 %\n",
      "Relative test error = 9.7562 %\n"
     ]
    },
    {
     "name": "stderr",
     "output_type": "stream",
     "text": [
      "100%|█████████████████████████████████████████████████████████████████████████████████████████████████████████████████████████████████████████████████████████████████████| 23/23 [00:00<00:00, 456.03it/s]"
     ]
    },
    {
     "name": "stdout",
     "output_type": "stream",
     "text": [
      " loss = 0.1032\n"
     ]
    },
    {
     "name": "stderr",
     "output_type": "stream",
     "text": [
      "\n"
     ]
    },
    {
     "name": "stdout",
     "output_type": "stream",
     "text": [
      "Relative training error = 8.3875 %\n",
      "Relative test error = 9.5642 %\n"
     ]
    },
    {
     "name": "stderr",
     "output_type": "stream",
     "text": [
      "100%|█████████████████████████████████████████████████████████████████████████████████████████████████████████████████████████████████████████████████████████████████████| 23/23 [00:00<00:00, 455.36it/s]"
     ]
    },
    {
     "name": "stdout",
     "output_type": "stream",
     "text": [
      " loss = 0.1267\n"
     ]
    },
    {
     "name": "stderr",
     "output_type": "stream",
     "text": [
      "\n"
     ]
    },
    {
     "name": "stdout",
     "output_type": "stream",
     "text": [
      "Relative training error = 8.2810 %\n",
      "Relative test error = 9.9162 %\n"
     ]
    },
    {
     "name": "stderr",
     "output_type": "stream",
     "text": [
      "100%|█████████████████████████████████████████████████████████████████████████████████████████████████████████████████████████████████████████████████████████████████████| 23/23 [00:00<00:00, 533.25it/s]"
     ]
    },
    {
     "name": "stdout",
     "output_type": "stream",
     "text": [
      " loss = 0.0962\n",
      "Relative training error = 8.2986 %\n",
      "Relative test error = 9.9850 %\n"
     ]
    },
    {
     "name": "stderr",
     "output_type": "stream",
     "text": [
      "\n",
      "100%|█████████████████████████████████████████████████████████████████████████████████████████████████████████████████████████████████████████████████████████████████████| 23/23 [00:00<00:00, 448.81it/s]"
     ]
    },
    {
     "name": "stdout",
     "output_type": "stream",
     "text": [
      " loss = 0.1134\n",
      "Relative training error = 8.1718 %\n"
     ]
    },
    {
     "name": "stderr",
     "output_type": "stream",
     "text": [
      "\n"
     ]
    },
    {
     "name": "stdout",
     "output_type": "stream",
     "text": [
      "Relative test error = 9.8284 %\n"
     ]
    },
    {
     "name": "stderr",
     "output_type": "stream",
     "text": [
      "100%|█████████████████████████████████████████████████████████████████████████████████████████████████████████████████████████████████████████████████████████████████████| 23/23 [00:00<00:00, 455.79it/s]\n"
     ]
    },
    {
     "name": "stdout",
     "output_type": "stream",
     "text": [
      " loss = 0.1541\n",
      "Relative training error = 8.1212 %\n",
      "Relative test error = 9.6797 %\n"
     ]
    },
    {
     "name": "stderr",
     "output_type": "stream",
     "text": [
      "100%|█████████████████████████████████████████████████████████████████████████████████████████████████████████████████████████████████████████████████████████████████████| 23/23 [00:00<00:00, 459.34it/s]"
     ]
    },
    {
     "name": "stdout",
     "output_type": "stream",
     "text": [
      " loss = 0.1806\n"
     ]
    },
    {
     "name": "stderr",
     "output_type": "stream",
     "text": [
      "\n"
     ]
    },
    {
     "name": "stdout",
     "output_type": "stream",
     "text": [
      "Relative training error = 8.1044 %\n",
      "Relative test error = 9.5141 %\n"
     ]
    },
    {
     "name": "stderr",
     "output_type": "stream",
     "text": [
      "100%|█████████████████████████████████████████████████████████████████████████████████████████████████████████████████████████████████████████████████████████████████████| 23/23 [00:00<00:00, 529.01it/s]\n"
     ]
    },
    {
     "name": "stdout",
     "output_type": "stream",
     "text": [
      " loss = 0.0511\n",
      "Relative training error = 8.0800 %\n",
      "Relative test error = 9.5574 %\n"
     ]
    },
    {
     "name": "stderr",
     "output_type": "stream",
     "text": [
      "100%|█████████████████████████████████████████████████████████████████████████████████████████████████████████████████████████████████████████████████████████████████████| 23/23 [00:00<00:00, 485.91it/s]"
     ]
    },
    {
     "name": "stdout",
     "output_type": "stream",
     "text": [
      " loss = 0.1361\n"
     ]
    },
    {
     "name": "stderr",
     "output_type": "stream",
     "text": [
      "\n"
     ]
    },
    {
     "name": "stdout",
     "output_type": "stream",
     "text": [
      "Relative training error = 8.0698 %\n",
      "Relative test error = 9.5161 %\n"
     ]
    },
    {
     "name": "stderr",
     "output_type": "stream",
     "text": [
      "100%|█████████████████████████████████████████████████████████████████████████████████████████████████████████████████████████████████████████████████████████████████████| 23/23 [00:00<00:00, 559.56it/s]"
     ]
    },
    {
     "name": "stdout",
     "output_type": "stream",
     "text": [
      " loss = 0.0824\n"
     ]
    },
    {
     "name": "stderr",
     "output_type": "stream",
     "text": [
      "\n"
     ]
    },
    {
     "name": "stdout",
     "output_type": "stream",
     "text": [
      "Relative training error = 8.0408 %\n",
      "Relative test error = 9.2359 %\n"
     ]
    },
    {
     "name": "stderr",
     "output_type": "stream",
     "text": [
      "100%|█████████████████████████████████████████████████████████████████████████████████████████████████████████████████████████████████████████████████████████████████████| 23/23 [00:00<00:00, 458.39it/s]"
     ]
    },
    {
     "name": "stdout",
     "output_type": "stream",
     "text": [
      " loss = 0.1201\n"
     ]
    },
    {
     "name": "stderr",
     "output_type": "stream",
     "text": [
      "\n"
     ]
    },
    {
     "name": "stdout",
     "output_type": "stream",
     "text": [
      "Relative training error = 8.0306 %\n",
      "Relative test error = 9.3446 %\n"
     ]
    },
    {
     "name": "stderr",
     "output_type": "stream",
     "text": [
      "100%|█████████████████████████████████████████████████████████████████████████████████████████████████████████████████████████████████████████████████████████████████████| 23/23 [00:00<00:00, 468.16it/s]\n"
     ]
    },
    {
     "name": "stdout",
     "output_type": "stream",
     "text": [
      " loss = 0.1075\n",
      "Relative training error = 8.0013 %\n",
      "Relative test error = 9.4618 %\n"
     ]
    },
    {
     "name": "stderr",
     "output_type": "stream",
     "text": [
      "100%|█████████████████████████████████████████████████████████████████████████████████████████████████████████████████████████████████████████████████████████████████████| 23/23 [00:00<00:00, 464.76it/s]"
     ]
    },
    {
     "name": "stdout",
     "output_type": "stream",
     "text": [
      " loss = 0.1250\n"
     ]
    },
    {
     "name": "stderr",
     "output_type": "stream",
     "text": [
      "\n"
     ]
    },
    {
     "name": "stdout",
     "output_type": "stream",
     "text": [
      "Relative training error = 7.9641 %\n",
      "Relative test error = 9.3833 %\n"
     ]
    },
    {
     "name": "stderr",
     "output_type": "stream",
     "text": [
      "100%|█████████████████████████████████████████████████████████████████████████████████████████████████████████████████████████████████████████████████████████████████████| 23/23 [00:00<00:00, 463.09it/s]\n"
     ]
    },
    {
     "name": "stdout",
     "output_type": "stream",
     "text": [
      " loss = 0.1230\n",
      "Relative training error = 7.9752 %\n",
      "Relative test error = 9.3390 %\n",
      "Creating DAS_analysis object\n",
      "[-0.01079496 -0.00636261 -0.00472965  0.00829344 -0.03315033  0.01000517\n",
      " -0.03147244  0.01236407 -0.02684816  0.00736422 -0.01663265 -0.00670413\n",
      "  0.01756466 -0.01872044  0.02313004 -0.03355007  0.0332702  -0.02308934\n",
      " -0.04141354  0.01600002 -0.00833672  0.01130101  0.00841153  0.0035773\n",
      "  0.00450807  0.03616873  0.00554306  0.01251749 -0.00332135  0.01660203\n",
      "  0.00364524 -0.00423356 -0.01502233  0.00553334  0.00909886  0.03581746\n",
      " -0.01612826 -0.01689578 -0.00544872 -0.0257047  -0.0020281  -0.00491286\n",
      " -0.01851041 -0.00295021 -0.01707543  0.01278958 -0.03309115 -0.03378421\n",
      "  0.02105434 -0.024914    0.01355151  0.0347159   0.00949286 -0.01157946\n",
      " -0.02779381  0.01103345  0.05014661 -0.0388591   0.03466138 -0.03282935\n",
      "  0.01334391 -0.02446218  0.00617272  0.02966007 -0.0113076  -0.02121396\n",
      " -0.02654688 -0.02603522  0.00742446  0.0033779  -0.03955923 -0.02515224\n",
      " -0.00983606 -0.03146489 -0.02662707  0.00106644 -0.01827304 -0.01481842\n",
      "  0.00496895 -0.01752653  0.02289294  0.02491585 -0.05154504 -0.0153165\n",
      " -0.02955348 -0.01164796  0.00169125  0.00708391  0.00424188 -0.0170783\n",
      " -0.02926962  0.01683864 -0.03211833  0.04620026  0.02204849  0.03711775\n",
      " -0.02703611 -0.02134703 -0.01017228 -0.02460535 -0.00175839  0.00900341\n",
      "  0.0066653   0.02126546 -0.00704159 -0.02525979  0.04929931  0.03000105\n",
      "  0.00056224  0.02727065  0.00672098 -0.02266489 -0.03778072 -0.0143658\n",
      " -0.06977009 -0.00184082  0.03251847  0.00536228  0.00780703  0.00351171\n",
      " -0.001558    0.00453452  0.01956437  0.00755578 -0.00347596 -0.02544811\n",
      " -0.00691871  0.0184323  -0.00946686  0.01644332 -0.00717298 -0.00091536\n",
      " -0.00513515 -0.00200119 -0.00781267  0.03063803  0.00576488 -0.00229528\n",
      "  0.02318851  0.0245067  -0.02252075 -0.01338904  0.0351502  -0.00802465\n",
      " -0.02688461 -0.01285858 -0.04307223  0.01796226 -0.00352158 -0.02649279\n",
      " -0.02409055  0.01353839 -0.01250318  0.00313297  0.01588277  0.01109347\n",
      " -0.00357092  0.00296899  0.00483943 -0.03099188 -0.01898565  0.02774835\n",
      " -0.03559913 -0.0050307   0.0044001   0.13017571 -0.01762796]\n",
      "Parameters ordered from most to least important:\n",
      "[[141 149 165 150 153 151  17 142  15 137 113 109 154  73  85 107  95  39\n",
      "  138  41 163  27  36  53 164  10  94  21  87  57 112  68 139 133 159  28\n",
      "  105  29 145 152 166 120  40 108  75 110 161 146  24 100 106  97 115   1\n",
      "    3  18  93 155  19  74 148  99  69  80  72  86  26 117 162  83  82 102\n",
      "  134  47  42 156 135  77  48  79 119 140  46 158  45  59  35  23   9 147\n",
      "   54  76  55 118  64 130  32  84  13  51  38   6  52 157  61  71   4  49\n",
      "   67 116  62  37   8 123   0  12  30  65 101 160 136 122  22 129  98  56\n",
      "   31  78  81  58  92  20 131  63  14  44  16 132 127 103 111  43 126  89\n",
      "   34  66   5 128  91  33  50 104  90   2 121   7  60  70 125  25  11 114\n",
      "  124 143  96 144  88]]\n",
      "Creating DAS_Surrogate Object\n",
      "Creating Feature Engineering object\n",
      "Using  662/662 samples to train the ML model\n",
      "===============================\n",
      "Neural net parameters\n",
      "===============================\n",
      "Number of layers = 3\n",
      "Number of features = 167\n",
      "Loss function = squared\n",
      "Number of neurons per hidden layer = 20\n",
      "Number of output neurons = 1\n",
      "Activation = ['linear', 'linear', 'tanh', 'linear']\n",
      "This neural network has 228 weights.\n",
      "===============================\n",
      "===============================\n",
      "Training Deep Active Subspace Neural Network...\n"
     ]
    },
    {
     "name": "stderr",
     "output_type": "stream",
     "text": [
      "100%|█████████████████████████████████████████████████████████████████████████████████████████████████████████████████████████████████████████████████████████████████████| 23/23 [00:00<00:00, 487.58it/s]"
     ]
    },
    {
     "name": "stdout",
     "output_type": "stream",
     "text": [
      " loss = 1.9294\n"
     ]
    },
    {
     "name": "stderr",
     "output_type": "stream",
     "text": [
      "\n"
     ]
    },
    {
     "name": "stdout",
     "output_type": "stream",
     "text": [
      "Relative training error = 21.9351 %\n",
      "Relative test error = 22.7659 %\n"
     ]
    },
    {
     "name": "stderr",
     "output_type": "stream",
     "text": [
      "100%|█████████████████████████████████████████████████████████████████████████████████████████████████████████████████████████████████████████████████████████████████████| 23/23 [00:00<00:00, 546.91it/s]"
     ]
    },
    {
     "name": "stdout",
     "output_type": "stream",
     "text": [
      " loss = 0.7159\n",
      "Relative training error = 19.9761 %\n"
     ]
    },
    {
     "name": "stderr",
     "output_type": "stream",
     "text": [
      "\n"
     ]
    },
    {
     "name": "stdout",
     "output_type": "stream",
     "text": [
      "Relative test error = 21.8067 %\n"
     ]
    },
    {
     "name": "stderr",
     "output_type": "stream",
     "text": [
      "100%|█████████████████████████████████████████████████████████████████████████████████████████████████████████████████████████████████████████████████████████████████████| 23/23 [00:00<00:00, 472.74it/s]"
     ]
    },
    {
     "name": "stdout",
     "output_type": "stream",
     "text": [
      " loss = 0.6414\n"
     ]
    },
    {
     "name": "stderr",
     "output_type": "stream",
     "text": [
      "\n"
     ]
    },
    {
     "name": "stdout",
     "output_type": "stream",
     "text": [
      "Relative training error = 17.5476 %\n",
      "Relative test error = 21.2244 %\n"
     ]
    },
    {
     "name": "stderr",
     "output_type": "stream",
     "text": [
      "100%|█████████████████████████████████████████████████████████████████████████████████████████████████████████████████████████████████████████████████████████████████████| 23/23 [00:00<00:00, 441.29it/s]"
     ]
    },
    {
     "name": "stdout",
     "output_type": "stream",
     "text": [
      " loss = 0.3295\n"
     ]
    },
    {
     "name": "stderr",
     "output_type": "stream",
     "text": [
      "\n"
     ]
    },
    {
     "name": "stdout",
     "output_type": "stream",
     "text": [
      "Relative training error = 15.5024 %\n",
      "Relative test error = 19.0943 %\n"
     ]
    },
    {
     "name": "stderr",
     "output_type": "stream",
     "text": [
      "100%|█████████████████████████████████████████████████████████████████████████████████████████████████████████████████████████████████████████████████████████████████████| 23/23 [00:00<00:00, 437.69it/s]\n"
     ]
    },
    {
     "name": "stdout",
     "output_type": "stream",
     "text": [
      " loss = 0.3708\n",
      "Relative training error = 13.8228 %\n",
      "Relative test error = 16.6305 %\n"
     ]
    },
    {
     "name": "stderr",
     "output_type": "stream",
     "text": [
      "100%|█████████████████████████████████████████████████████████████████████████████████████████████████████████████████████████████████████████████████████████████████████| 23/23 [00:00<00:00, 444.79it/s]"
     ]
    },
    {
     "name": "stdout",
     "output_type": "stream",
     "text": [
      " loss = 0.3362\n"
     ]
    },
    {
     "name": "stderr",
     "output_type": "stream",
     "text": [
      "\n"
     ]
    },
    {
     "name": "stdout",
     "output_type": "stream",
     "text": [
      "Relative training error = 12.2173 %\n",
      "Relative test error = 14.1580 %\n"
     ]
    },
    {
     "name": "stderr",
     "output_type": "stream",
     "text": [
      "100%|█████████████████████████████████████████████████████████████████████████████████████████████████████████████████████████████████████████████████████████████████████| 23/23 [00:00<00:00, 468.46it/s]"
     ]
    },
    {
     "name": "stdout",
     "output_type": "stream",
     "text": [
      " loss = 0.1802\n"
     ]
    },
    {
     "name": "stderr",
     "output_type": "stream",
     "text": [
      "\n"
     ]
    },
    {
     "name": "stdout",
     "output_type": "stream",
     "text": [
      "Relative training error = 11.0364 %\n",
      "Relative test error = 12.5625 %\n"
     ]
    },
    {
     "name": "stderr",
     "output_type": "stream",
     "text": [
      "100%|█████████████████████████████████████████████████████████████████████████████████████████████████████████████████████████████████████████████████████████████████████| 23/23 [00:00<00:00, 512.45it/s]"
     ]
    },
    {
     "name": "stdout",
     "output_type": "stream",
     "text": [
      " loss = 0.2139\n"
     ]
    },
    {
     "name": "stderr",
     "output_type": "stream",
     "text": [
      "\n"
     ]
    },
    {
     "name": "stdout",
     "output_type": "stream",
     "text": [
      "Relative training error = 10.2450 %\n",
      "Relative test error = 11.7128 %\n"
     ]
    },
    {
     "name": "stderr",
     "output_type": "stream",
     "text": [
      "100%|█████████████████████████████████████████████████████████████████████████████████████████████████████████████████████████████████████████████████████████████████████| 23/23 [00:00<00:00, 451.88it/s]"
     ]
    },
    {
     "name": "stdout",
     "output_type": "stream",
     "text": [
      " loss = 0.2054\n"
     ]
    },
    {
     "name": "stderr",
     "output_type": "stream",
     "text": [
      "\n"
     ]
    },
    {
     "name": "stdout",
     "output_type": "stream",
     "text": [
      "Relative training error = 9.6820 %\n",
      "Relative test error = 11.3673 %\n"
     ]
    },
    {
     "name": "stderr",
     "output_type": "stream",
     "text": [
      "100%|█████████████████████████████████████████████████████████████████████████████████████████████████████████████████████████████████████████████████████████████████████| 23/23 [00:00<00:00, 468.46it/s]\n"
     ]
    },
    {
     "name": "stdout",
     "output_type": "stream",
     "text": [
      " loss = 0.1513\n",
      "Relative training error = 9.2695 %\n",
      "Relative test error = 11.1238 %\n"
     ]
    },
    {
     "name": "stderr",
     "output_type": "stream",
     "text": [
      "100%|█████████████████████████████████████████████████████████████████████████████████████████████████████████████████████████████████████████████████████████████████████| 23/23 [00:00<00:00, 433.96it/s]"
     ]
    },
    {
     "name": "stdout",
     "output_type": "stream",
     "text": [
      " loss = 0.0863\n"
     ]
    },
    {
     "name": "stderr",
     "output_type": "stream",
     "text": [
      "\n"
     ]
    },
    {
     "name": "stdout",
     "output_type": "stream",
     "text": [
      "Relative training error = 9.0733 %\n",
      "Relative test error = 10.8971 %\n"
     ]
    },
    {
     "name": "stderr",
     "output_type": "stream",
     "text": [
      "100%|█████████████████████████████████████████████████████████████████████████████████████████████████████████████████████████████████████████████████████████████████████| 23/23 [00:00<00:00, 458.67it/s]\n"
     ]
    },
    {
     "name": "stdout",
     "output_type": "stream",
     "text": [
      " loss = 0.1316\n",
      "Relative training error = 8.8802 %\n",
      "Relative test error = 10.4743 %\n"
     ]
    },
    {
     "name": "stderr",
     "output_type": "stream",
     "text": [
      "  0%|                                                                                                                                                                               | 0/23 [00:00<?, ?it/s]"
     ]
    },
    {
     "name": "stdout",
     "output_type": "stream",
     "text": [
      " loss = 0.1260\n"
     ]
    },
    {
     "name": "stderr",
     "output_type": "stream",
     "text": [
      "100%|█████████████████████████████████████████████████████████████████████████████████████████████████████████████████████████████████████████████████████████████████████| 23/23 [00:00<00:00, 249.49it/s]\n"
     ]
    },
    {
     "name": "stdout",
     "output_type": "stream",
     "text": [
      "Relative training error = 8.7420 %\n",
      "Relative test error = 10.2828 %\n"
     ]
    },
    {
     "name": "stderr",
     "output_type": "stream",
     "text": [
      "  0%|                                                                                                                                                                               | 0/23 [00:00<?, ?it/s]"
     ]
    },
    {
     "name": "stdout",
     "output_type": "stream",
     "text": [
      " loss = 0.1106\n"
     ]
    },
    {
     "name": "stderr",
     "output_type": "stream",
     "text": [
      "100%|█████████████████████████████████████████████████████████████████████████████████████████████████████████████████████████████████████████████████████████████████████| 23/23 [00:00<00:00, 437.77it/s]\n"
     ]
    },
    {
     "name": "stdout",
     "output_type": "stream",
     "text": [
      "Relative training error = 8.6624 %\n",
      "Relative test error = 10.2295 %\n"
     ]
    },
    {
     "name": "stderr",
     "output_type": "stream",
     "text": [
      "100%|█████████████████████████████████████████████████████████████████████████████████████████████████████████████████████████████████████████████████████████████████████| 23/23 [00:00<00:00, 458.06it/s]"
     ]
    },
    {
     "name": "stdout",
     "output_type": "stream",
     "text": [
      " loss = 0.1376\n"
     ]
    },
    {
     "name": "stderr",
     "output_type": "stream",
     "text": [
      "\n"
     ]
    },
    {
     "name": "stdout",
     "output_type": "stream",
     "text": [
      "Relative training error = 8.5911 %\n",
      "Relative test error = 10.0724 %\n"
     ]
    },
    {
     "name": "stderr",
     "output_type": "stream",
     "text": [
      "100%|█████████████████████████████████████████████████████████████████████████████████████████████████████████████████████████████████████████████████████████████████████| 23/23 [00:00<00:00, 463.56it/s]"
     ]
    },
    {
     "name": "stdout",
     "output_type": "stream",
     "text": [
      " loss = 0.0726\n"
     ]
    },
    {
     "name": "stderr",
     "output_type": "stream",
     "text": [
      "\n"
     ]
    },
    {
     "name": "stdout",
     "output_type": "stream",
     "text": [
      "Relative training error = 8.5055 %\n",
      "Relative test error = 10.2106 %\n"
     ]
    },
    {
     "name": "stderr",
     "output_type": "stream",
     "text": [
      "100%|█████████████████████████████████████████████████████████████████████████████████████████████████████████████████████████████████████████████████████████████████████| 23/23 [00:00<00:00, 458.07it/s]"
     ]
    },
    {
     "name": "stdout",
     "output_type": "stream",
     "text": [
      " loss = 0.1173\n"
     ]
    },
    {
     "name": "stderr",
     "output_type": "stream",
     "text": [
      "\n"
     ]
    },
    {
     "name": "stdout",
     "output_type": "stream",
     "text": [
      "Relative training error = 8.4921 %\n",
      "Relative test error = 9.9228 %\n"
     ]
    },
    {
     "name": "stderr",
     "output_type": "stream",
     "text": [
      "100%|█████████████████████████████████████████████████████████████████████████████████████████████████████████████████████████████████████████████████████████████████████| 23/23 [00:00<00:00, 460.13it/s]"
     ]
    },
    {
     "name": "stdout",
     "output_type": "stream",
     "text": [
      " loss = 0.1312\n"
     ]
    },
    {
     "name": "stderr",
     "output_type": "stream",
     "text": [
      "\n"
     ]
    },
    {
     "name": "stdout",
     "output_type": "stream",
     "text": [
      "Relative training error = 8.5296 %\n",
      "Relative test error = 10.2033 %\n"
     ]
    },
    {
     "name": "stderr",
     "output_type": "stream",
     "text": [
      "100%|█████████████████████████████████████████████████████████████████████████████████████████████████████████████████████████████████████████████████████████████████████| 23/23 [00:00<00:00, 448.24it/s]"
     ]
    },
    {
     "name": "stdout",
     "output_type": "stream",
     "text": [
      " loss = 0.1426\n"
     ]
    },
    {
     "name": "stderr",
     "output_type": "stream",
     "text": [
      "\n"
     ]
    },
    {
     "name": "stdout",
     "output_type": "stream",
     "text": [
      "Relative training error = 8.3926 %\n",
      "Relative test error = 9.9613 %\n"
     ]
    },
    {
     "name": "stderr",
     "output_type": "stream",
     "text": [
      "100%|█████████████████████████████████████████████████████████████████████████████████████████████████████████████████████████████████████████████████████████████████████| 23/23 [00:00<00:00, 571.28it/s]"
     ]
    },
    {
     "name": "stdout",
     "output_type": "stream",
     "text": [
      " loss = 0.1628\n"
     ]
    },
    {
     "name": "stderr",
     "output_type": "stream",
     "text": [
      "\n"
     ]
    },
    {
     "name": "stdout",
     "output_type": "stream",
     "text": [
      "Relative training error = 8.3646 %\n",
      "Relative test error = 10.4055 %\n"
     ]
    },
    {
     "name": "stderr",
     "output_type": "stream",
     "text": [
      "100%|█████████████████████████████████████████████████████████████████████████████████████████████████████████████████████████████████████████████████████████████████████| 23/23 [00:00<00:00, 465.61it/s]"
     ]
    },
    {
     "name": "stdout",
     "output_type": "stream",
     "text": [
      " loss = 0.1241\n"
     ]
    },
    {
     "name": "stderr",
     "output_type": "stream",
     "text": [
      "\n"
     ]
    },
    {
     "name": "stdout",
     "output_type": "stream",
     "text": [
      "Relative training error = 8.3273 %\n",
      "Relative test error = 10.1813 %\n"
     ]
    },
    {
     "name": "stderr",
     "output_type": "stream",
     "text": [
      "100%|█████████████████████████████████████████████████████████████████████████████████████████████████████████████████████████████████████████████████████████████████████| 23/23 [00:00<00:00, 466.29it/s]"
     ]
    },
    {
     "name": "stdout",
     "output_type": "stream",
     "text": [
      " loss = 0.1818\n"
     ]
    },
    {
     "name": "stderr",
     "output_type": "stream",
     "text": [
      "\n"
     ]
    },
    {
     "name": "stdout",
     "output_type": "stream",
     "text": [
      "Relative training error = 8.3834 %\n",
      "Relative test error = 9.9980 %\n"
     ]
    },
    {
     "name": "stderr",
     "output_type": "stream",
     "text": [
      "100%|█████████████████████████████████████████████████████████████████████████████████████████████████████████████████████████████████████████████████████████████████████| 23/23 [00:00<00:00, 553.63it/s]"
     ]
    },
    {
     "name": "stdout",
     "output_type": "stream",
     "text": [
      " loss = 0.1567\n"
     ]
    },
    {
     "name": "stderr",
     "output_type": "stream",
     "text": [
      "\n"
     ]
    },
    {
     "name": "stdout",
     "output_type": "stream",
     "text": [
      "Relative training error = 8.3206 %\n",
      "Relative test error = 10.1819 %\n"
     ]
    },
    {
     "name": "stderr",
     "output_type": "stream",
     "text": [
      "100%|█████████████████████████████████████████████████████████████████████████████████████████████████████████████████████████████████████████████████████████████████████| 23/23 [00:00<00:00, 563.08it/s]\n"
     ]
    },
    {
     "name": "stdout",
     "output_type": "stream",
     "text": [
      " loss = 0.0972\n",
      "Relative training error = 8.2498 %\n",
      "Relative test error = 9.9025 %\n"
     ]
    },
    {
     "name": "stderr",
     "output_type": "stream",
     "text": [
      "100%|█████████████████████████████████████████████████████████████████████████████████████████████████████████████████████████████████████████████████████████████████████| 23/23 [00:00<00:00, 552.95it/s]"
     ]
    },
    {
     "name": "stdout",
     "output_type": "stream",
     "text": [
      " loss = 0.1184\n"
     ]
    },
    {
     "name": "stderr",
     "output_type": "stream",
     "text": [
      "\n"
     ]
    },
    {
     "name": "stdout",
     "output_type": "stream",
     "text": [
      "Relative training error = 8.2116 %\n",
      "Relative test error = 9.7429 %\n"
     ]
    },
    {
     "name": "stderr",
     "output_type": "stream",
     "text": [
      "100%|█████████████████████████████████████████████████████████████████████████████████████████████████████████████████████████████████████████████████████████████████████| 23/23 [00:00<00:00, 471.85it/s]\n"
     ]
    },
    {
     "name": "stdout",
     "output_type": "stream",
     "text": [
      " loss = 0.1062\n",
      "Relative training error = 8.2024 %\n",
      "Relative test error = 9.8038 %\n"
     ]
    },
    {
     "name": "stderr",
     "output_type": "stream",
     "text": [
      "100%|█████████████████████████████████████████████████████████████████████████████████████████████████████████████████████████████████████████████████████████████████████| 23/23 [00:00<00:00, 453.00it/s]"
     ]
    },
    {
     "name": "stdout",
     "output_type": "stream",
     "text": [
      " loss = 0.1529\n"
     ]
    },
    {
     "name": "stderr",
     "output_type": "stream",
     "text": [
      "\n"
     ]
    },
    {
     "name": "stdout",
     "output_type": "stream",
     "text": [
      "Relative training error = 8.1730 %\n",
      "Relative test error = 9.7852 %\n"
     ]
    },
    {
     "name": "stderr",
     "output_type": "stream",
     "text": [
      "100%|█████████████████████████████████████████████████████████████████████████████████████████████████████████████████████████████████████████████████████████████████████| 23/23 [00:00<00:00, 444.19it/s]\n"
     ]
    },
    {
     "name": "stdout",
     "output_type": "stream",
     "text": [
      " loss = 0.1299\n",
      "Relative training error = 8.2273 %\n",
      "Relative test error = 10.2325 %\n"
     ]
    },
    {
     "name": "stderr",
     "output_type": "stream",
     "text": [
      "100%|█████████████████████████████████████████████████████████████████████████████████████████████████████████████████████████████████████████████████████████████████████| 23/23 [00:00<00:00, 477.23it/s]"
     ]
    },
    {
     "name": "stdout",
     "output_type": "stream",
     "text": [
      " loss = 0.0944\n"
     ]
    },
    {
     "name": "stderr",
     "output_type": "stream",
     "text": [
      "\n"
     ]
    },
    {
     "name": "stdout",
     "output_type": "stream",
     "text": [
      "Relative training error = 8.2195 %\n",
      "Relative test error = 9.8817 %\n",
      "Creating DAS_analysis object\n",
      "[-0.01079496 -0.00636261 -0.00472965  0.00829344 -0.03315033  0.01000517\n",
      " -0.03147244  0.01236407 -0.02684816  0.00736422 -0.01663265 -0.00670413\n",
      "  0.01756466 -0.01872044  0.02313004 -0.03355007  0.0332702  -0.02308934\n",
      " -0.04141354  0.01600002 -0.00833672  0.01130101  0.00841153  0.0035773\n",
      "  0.00450807  0.03616873  0.00554306  0.01251749 -0.00332135  0.01660203\n",
      "  0.00364524 -0.00423356 -0.01502233  0.00553334  0.00909886  0.03581746\n",
      " -0.01612826 -0.01689578 -0.00544872 -0.0257047  -0.0020281  -0.00491286\n",
      " -0.01851041 -0.00295021 -0.01707543  0.01278958 -0.03309115 -0.03378421\n",
      "  0.02105434 -0.024914    0.01355151  0.0347159   0.00949286 -0.01157946\n",
      " -0.02779381  0.01103345  0.05014661 -0.0388591   0.03466138 -0.03282935\n",
      "  0.01334391 -0.02446218  0.00617272  0.02966007 -0.0113076  -0.02121396\n",
      " -0.02654688 -0.02603522  0.00742446  0.0033779  -0.03955923 -0.02515224\n",
      " -0.00983606 -0.03146489 -0.02662707  0.00106644 -0.01827304 -0.01481842\n",
      "  0.00496895 -0.01752653  0.02289294  0.02491585 -0.05154504 -0.0153165\n",
      " -0.02955348 -0.01164796  0.00169125  0.00708391  0.00424188 -0.0170783\n",
      " -0.02926962  0.01683864 -0.03211833  0.04620026  0.02204849  0.03711775\n",
      " -0.02703611 -0.02134703 -0.01017228 -0.02460535 -0.00175839  0.00900341\n",
      "  0.0066653   0.02126546 -0.00704159 -0.02525979  0.04929931  0.03000105\n",
      "  0.00056224  0.02727065  0.00672098 -0.02266489 -0.03778072 -0.0143658\n",
      " -0.06977009 -0.00184082  0.03251847  0.00536228  0.00780703  0.00351171\n",
      " -0.001558    0.00453452  0.01956437  0.00755578 -0.00347596 -0.02544811\n",
      " -0.00691871  0.0184323  -0.00946686  0.01644332 -0.00717298 -0.00091536\n",
      " -0.00513515 -0.00200119 -0.00781267  0.03063803  0.00576488 -0.00229528\n",
      "  0.02318851  0.0245067  -0.02252075 -0.01338904  0.0351502  -0.00802465\n",
      " -0.02688461 -0.01285858 -0.04307223  0.01796226 -0.00352158 -0.02649279\n",
      " -0.02409055  0.01353839 -0.01250318  0.00313297  0.01588277  0.01109347\n",
      " -0.00357092  0.00296899  0.00483943 -0.03099188 -0.01898565  0.02774835\n",
      " -0.03559913 -0.0050307   0.0044001   0.13017571 -0.01762796]\n",
      "Parameters ordered from most to least important:\n",
      "[[141 149 165 150 153 151  17 142  15 137 113 154  95  73 109  41 138 107\n",
      "   39 163  10  27  85  57 159  36  94  53  99   6  18  79 152  87 161  28\n",
      "   30  68  29  21  75  26 115  40  83 117 164 120 108 134 105 100 139  52\n",
      "  146 166  74 162  19 101 129 158  93 110   2  77 116  72 155  49 130 156\n",
      "  112  46  51  32  63  16  82  31  33 133  97  80   0  61 103 145  70  58\n",
      "  111  38  55  37  56   5  81 127 106  43  24 123   1  59  64  45  62 140\n",
      "   22  48 118  86 121 136 148  23   3  66  69  89 147  47 131  13  20  67\n",
      "   78  88 144  96  25 126 119 135  84  42   9  35 157   7  44  90 160  12\n",
      "  132 125  14 102  92  54  65  60 122  91  11  34  50 104   8   4 114 128\n",
      "  143  71  98 124  76]]\n",
      "Creating DAS_Surrogate Object\n",
      "Creating Feature Engineering object\n",
      "Using  662/662 samples to train the ML model\n",
      "===============================\n",
      "Neural net parameters\n",
      "===============================\n",
      "Number of layers = 3\n",
      "Number of features = 167\n",
      "Loss function = squared\n",
      "Number of neurons per hidden layer = 20\n",
      "Number of output neurons = 1\n",
      "Activation = ['linear', 'linear', 'tanh', 'linear']\n",
      "This neural network has 228 weights.\n",
      "===============================\n",
      "===============================\n",
      "Training Deep Active Subspace Neural Network...\n"
     ]
    },
    {
     "name": "stderr",
     "output_type": "stream",
     "text": [
      "100%|█████████████████████████████████████████████████████████████████████████████████████████████████████████████████████████████████████████████████████████████████████| 23/23 [00:00<00:00, 521.95it/s]\n"
     ]
    },
    {
     "name": "stdout",
     "output_type": "stream",
     "text": [
      " loss = 1.4149\n",
      "Relative training error = 23.5693 %\n",
      "Relative test error = 22.4750 %\n"
     ]
    },
    {
     "name": "stderr",
     "output_type": "stream",
     "text": [
      "  0%|                                                                                                                                                                               | 0/23 [00:00<?, ?it/s]"
     ]
    },
    {
     "name": "stdout",
     "output_type": "stream",
     "text": [
      " loss = 0.7051\n"
     ]
    },
    {
     "name": "stderr",
     "output_type": "stream",
     "text": [
      "100%|█████████████████████████████████████████████████████████████████████████████████████████████████████████████████████████████████████████████████████████████████████| 23/23 [00:00<00:00, 416.56it/s]\n"
     ]
    },
    {
     "name": "stdout",
     "output_type": "stream",
     "text": [
      "Relative training error = 21.7966 %\n",
      "Relative test error = 20.5845 %\n"
     ]
    },
    {
     "name": "stderr",
     "output_type": "stream",
     "text": [
      "100%|█████████████████████████████████████████████████████████████████████████████████████████████████████████████████████████████████████████████████████████████████████| 23/23 [00:00<00:00, 435.30it/s]\n"
     ]
    },
    {
     "name": "stdout",
     "output_type": "stream",
     "text": [
      " loss = 0.7600\n",
      "Relative training error = 18.6367 %\n",
      "Relative test error = 18.7525 %\n"
     ]
    },
    {
     "name": "stderr",
     "output_type": "stream",
     "text": [
      "100%|█████████████████████████████████████████████████████████████████████████████████████████████████████████████████████████████████████████████████████████████████████| 23/23 [00:00<00:00, 423.71it/s]"
     ]
    },
    {
     "name": "stdout",
     "output_type": "stream",
     "text": [
      " loss = 0.4720\n"
     ]
    },
    {
     "name": "stderr",
     "output_type": "stream",
     "text": [
      "\n"
     ]
    },
    {
     "name": "stdout",
     "output_type": "stream",
     "text": [
      "Relative training error = 14.9424 %\n",
      "Relative test error = 16.6692 %\n"
     ]
    },
    {
     "name": "stderr",
     "output_type": "stream",
     "text": [
      "100%|█████████████████████████████████████████████████████████████████████████████████████████████████████████████████████████████████████████████████████████████████████| 23/23 [00:00<00:00, 396.36it/s]"
     ]
    },
    {
     "name": "stdout",
     "output_type": "stream",
     "text": [
      " loss = 0.5292\n"
     ]
    },
    {
     "name": "stderr",
     "output_type": "stream",
     "text": [
      "\n"
     ]
    },
    {
     "name": "stdout",
     "output_type": "stream",
     "text": [
      "Relative training error = 12.0026 %\n",
      "Relative test error = 13.7186 %\n"
     ]
    },
    {
     "name": "stderr",
     "output_type": "stream",
     "text": [
      "100%|█████████████████████████████████████████████████████████████████████████████████████████████████████████████████████████████████████████████████████████████████████| 23/23 [00:00<00:00, 447.22it/s]"
     ]
    },
    {
     "name": "stdout",
     "output_type": "stream",
     "text": [
      " loss = 0.3595\n"
     ]
    },
    {
     "name": "stderr",
     "output_type": "stream",
     "text": [
      "\n"
     ]
    },
    {
     "name": "stdout",
     "output_type": "stream",
     "text": [
      "Relative training error = 10.5440 %\n",
      "Relative test error = 12.1340 %\n"
     ]
    },
    {
     "name": "stderr",
     "output_type": "stream",
     "text": [
      "100%|█████████████████████████████████████████████████████████████████████████████████████████████████████████████████████████████████████████████████████████████████████| 23/23 [00:00<00:00, 503.65it/s]"
     ]
    },
    {
     "name": "stdout",
     "output_type": "stream",
     "text": [
      " loss = 0.1699\n"
     ]
    },
    {
     "name": "stderr",
     "output_type": "stream",
     "text": [
      "\n"
     ]
    },
    {
     "name": "stdout",
     "output_type": "stream",
     "text": [
      "Relative training error = 9.5833 %\n",
      "Relative test error = 10.5001 %\n"
     ]
    },
    {
     "name": "stderr",
     "output_type": "stream",
     "text": [
      "100%|█████████████████████████████████████████████████████████████████████████████████████████████████████████████████████████████████████████████████████████████████████| 23/23 [00:00<00:00, 513.45it/s]"
     ]
    },
    {
     "name": "stdout",
     "output_type": "stream",
     "text": [
      " loss = 0.1682\n",
      "Relative training error = 9.0281 %\n",
      "Relative test error = 10.1554 %\n"
     ]
    },
    {
     "name": "stderr",
     "output_type": "stream",
     "text": [
      "\n",
      "100%|█████████████████████████████████████████████████████████████████████████████████████████████████████████████████████████████████████████████████████████████████████| 23/23 [00:00<00:00, 515.92it/s]"
     ]
    },
    {
     "name": "stdout",
     "output_type": "stream",
     "text": [
      " loss = 0.2010\n",
      "Relative training error = 8.8143 %\n",
      "Relative test error = 9.8370 %\n"
     ]
    },
    {
     "name": "stderr",
     "output_type": "stream",
     "text": [
      "\n",
      "100%|█████████████████████████████████████████████████████████████████████████████████████████████████████████████████████████████████████████████████████████████████████| 23/23 [00:00<00:00, 431.28it/s]\n"
     ]
    },
    {
     "name": "stdout",
     "output_type": "stream",
     "text": [
      " loss = 0.1845\n",
      "Relative training error = 8.6358 %\n",
      "Relative test error = 9.8584 %\n"
     ]
    },
    {
     "name": "stderr",
     "output_type": "stream",
     "text": [
      "100%|█████████████████████████████████████████████████████████████████████████████████████████████████████████████████████████████████████████████████████████████████████| 23/23 [00:00<00:00, 444.93it/s]\n"
     ]
    },
    {
     "name": "stdout",
     "output_type": "stream",
     "text": [
      " loss = 0.1137\n",
      "Relative training error = 8.5146 %\n",
      "Relative test error = 10.1448 %\n"
     ]
    },
    {
     "name": "stderr",
     "output_type": "stream",
     "text": [
      "100%|█████████████████████████████████████████████████████████████████████████████████████████████████████████████████████████████████████████████████████████████████████| 23/23 [00:00<00:00, 474.08it/s]"
     ]
    },
    {
     "name": "stdout",
     "output_type": "stream",
     "text": [
      " loss = 0.1619\n"
     ]
    },
    {
     "name": "stderr",
     "output_type": "stream",
     "text": [
      "\n"
     ]
    },
    {
     "name": "stdout",
     "output_type": "stream",
     "text": [
      "Relative training error = 8.4571 %\n",
      "Relative test error = 10.0324 %\n"
     ]
    },
    {
     "name": "stderr",
     "output_type": "stream",
     "text": [
      "100%|█████████████████████████████████████████████████████████████████████████████████████████████████████████████████████████████████████████████████████████████████████| 23/23 [00:00<00:00, 529.61it/s]"
     ]
    },
    {
     "name": "stdout",
     "output_type": "stream",
     "text": [
      " loss = 0.1027\n",
      "Relative training error = 8.3737 %\n",
      "Relative test error = 10.0252 %\n"
     ]
    },
    {
     "name": "stderr",
     "output_type": "stream",
     "text": [
      "\n",
      "100%|█████████████████████████████████████████████████████████████████████████████████████████████████████████████████████████████████████████████████████████████████████| 23/23 [00:00<00:00, 508.77it/s]"
     ]
    },
    {
     "name": "stdout",
     "output_type": "stream",
     "text": [
      " loss = 0.0690\n"
     ]
    },
    {
     "name": "stderr",
     "output_type": "stream",
     "text": [
      "\n"
     ]
    },
    {
     "name": "stdout",
     "output_type": "stream",
     "text": [
      "Relative training error = 8.3509 %\n",
      "Relative test error = 9.8556 %\n"
     ]
    },
    {
     "name": "stderr",
     "output_type": "stream",
     "text": [
      "100%|█████████████████████████████████████████████████████████████████████████████████████████████████████████████████████████████████████████████████████████████████████| 23/23 [00:00<00:00, 373.25it/s]\n"
     ]
    },
    {
     "name": "stdout",
     "output_type": "stream",
     "text": [
      " loss = 0.1198\n",
      "Relative training error = 8.2796 %\n",
      "Relative test error = 10.2494 %\n"
     ]
    },
    {
     "name": "stderr",
     "output_type": "stream",
     "text": [
      "100%|█████████████████████████████████████████████████████████████████████████████████████████████████████████████████████████████████████████████████████████████████████| 23/23 [00:00<00:00, 421.04it/s]"
     ]
    },
    {
     "name": "stdout",
     "output_type": "stream",
     "text": [
      " loss = 0.1143\n"
     ]
    },
    {
     "name": "stderr",
     "output_type": "stream",
     "text": [
      "\n"
     ]
    },
    {
     "name": "stdout",
     "output_type": "stream",
     "text": [
      "Relative training error = 8.2469 %\n",
      "Relative test error = 10.0565 %\n"
     ]
    },
    {
     "name": "stderr",
     "output_type": "stream",
     "text": [
      "100%|█████████████████████████████████████████████████████████████████████████████████████████████████████████████████████████████████████████████████████████████████████| 23/23 [00:00<00:00, 496.96it/s]"
     ]
    },
    {
     "name": "stdout",
     "output_type": "stream",
     "text": [
      " loss = 0.1192\n",
      "Relative training error = 8.2035 %\n",
      "Relative test error = 9.9413 %\n"
     ]
    },
    {
     "name": "stderr",
     "output_type": "stream",
     "text": [
      "\n",
      "100%|█████████████████████████████████████████████████████████████████████████████████████████████████████████████████████████████████████████████████████████████████████| 23/23 [00:00<00:00, 498.94it/s]"
     ]
    },
    {
     "name": "stdout",
     "output_type": "stream",
     "text": [
      " loss = 0.0699\n"
     ]
    },
    {
     "name": "stderr",
     "output_type": "stream",
     "text": [
      "\n"
     ]
    },
    {
     "name": "stdout",
     "output_type": "stream",
     "text": [
      "Relative training error = 8.1891 %\n",
      "Relative test error = 9.8665 %\n"
     ]
    },
    {
     "name": "stderr",
     "output_type": "stream",
     "text": [
      "100%|█████████████████████████████████████████████████████████████████████████████████████████████████████████████████████████████████████████████████████████████████████| 23/23 [00:00<00:00, 555.04it/s]\n"
     ]
    },
    {
     "name": "stdout",
     "output_type": "stream",
     "text": [
      " loss = 0.0980\n",
      "Relative training error = 8.1839 %\n",
      "Relative test error = 9.7180 %\n"
     ]
    },
    {
     "name": "stderr",
     "output_type": "stream",
     "text": [
      "100%|█████████████████████████████████████████████████████████████████████████████████████████████████████████████████████████████████████████████████████████████████████| 23/23 [00:00<00:00, 559.20it/s]"
     ]
    },
    {
     "name": "stdout",
     "output_type": "stream",
     "text": [
      " loss = 0.0696\n"
     ]
    },
    {
     "name": "stderr",
     "output_type": "stream",
     "text": [
      "\n"
     ]
    },
    {
     "name": "stdout",
     "output_type": "stream",
     "text": [
      "Relative training error = 8.1732 %\n",
      "Relative test error = 9.7191 %\n"
     ]
    },
    {
     "name": "stderr",
     "output_type": "stream",
     "text": [
      "100%|█████████████████████████████████████████████████████████████████████████████████████████████████████████████████████████████████████████████████████████████████████| 23/23 [00:00<00:00, 451.04it/s]"
     ]
    },
    {
     "name": "stdout",
     "output_type": "stream",
     "text": [
      " loss = 0.0830\n"
     ]
    },
    {
     "name": "stderr",
     "output_type": "stream",
     "text": [
      "\n"
     ]
    },
    {
     "name": "stdout",
     "output_type": "stream",
     "text": [
      "Relative training error = 8.1452 %\n",
      "Relative test error = 9.5394 %\n"
     ]
    },
    {
     "name": "stderr",
     "output_type": "stream",
     "text": [
      "100%|█████████████████████████████████████████████████████████████████████████████████████████████████████████████████████████████████████████████████████████████████████| 23/23 [00:00<00:00, 412.68it/s]"
     ]
    },
    {
     "name": "stdout",
     "output_type": "stream",
     "text": [
      " loss = 0.1251\n"
     ]
    },
    {
     "name": "stderr",
     "output_type": "stream",
     "text": [
      "\n"
     ]
    },
    {
     "name": "stdout",
     "output_type": "stream",
     "text": [
      "Relative training error = 8.1396 %\n",
      "Relative test error = 9.7050 %\n"
     ]
    },
    {
     "name": "stderr",
     "output_type": "stream",
     "text": [
      "100%|█████████████████████████████████████████████████████████████████████████████████████████████████████████████████████████████████████████████████████████████████████| 23/23 [00:00<00:00, 415.38it/s]"
     ]
    },
    {
     "name": "stdout",
     "output_type": "stream",
     "text": [
      " loss = 0.1131\n"
     ]
    },
    {
     "name": "stderr",
     "output_type": "stream",
     "text": [
      "\n"
     ]
    },
    {
     "name": "stdout",
     "output_type": "stream",
     "text": [
      "Relative training error = 8.1124 %\n",
      "Relative test error = 9.4487 %\n"
     ]
    },
    {
     "name": "stderr",
     "output_type": "stream",
     "text": [
      "  0%|                                                                                                                                                                               | 0/23 [00:00<?, ?it/s]"
     ]
    },
    {
     "name": "stdout",
     "output_type": "stream",
     "text": [
      " loss = 0.1321\n"
     ]
    },
    {
     "name": "stderr",
     "output_type": "stream",
     "text": [
      "100%|█████████████████████████████████████████████████████████████████████████████████████████████████████████████████████████████████████████████████████████████████████| 23/23 [00:00<00:00, 382.63it/s]\n"
     ]
    },
    {
     "name": "stdout",
     "output_type": "stream",
     "text": [
      "Relative training error = 8.0743 %\n",
      "Relative test error = 9.5465 %\n"
     ]
    },
    {
     "name": "stderr",
     "output_type": "stream",
     "text": [
      "  0%|                                                                                                                                                                               | 0/23 [00:00<?, ?it/s]"
     ]
    },
    {
     "name": "stdout",
     "output_type": "stream",
     "text": [
      " loss = 0.1439\n"
     ]
    },
    {
     "name": "stderr",
     "output_type": "stream",
     "text": [
      "100%|█████████████████████████████████████████████████████████████████████████████████████████████████████████████████████████████████████████████████████████████████████| 23/23 [00:00<00:00, 345.95it/s]\n"
     ]
    },
    {
     "name": "stdout",
     "output_type": "stream",
     "text": [
      "Relative training error = 8.0785 %\n",
      "Relative test error = 9.7650 %\n"
     ]
    },
    {
     "name": "stderr",
     "output_type": "stream",
     "text": [
      "100%|█████████████████████████████████████████████████████████████████████████████████████████████████████████████████████████████████████████████████████████████████████| 23/23 [00:00<00:00, 410.10it/s]"
     ]
    },
    {
     "name": "stdout",
     "output_type": "stream",
     "text": [
      " loss = 0.1155\n"
     ]
    },
    {
     "name": "stderr",
     "output_type": "stream",
     "text": [
      "\n"
     ]
    },
    {
     "name": "stdout",
     "output_type": "stream",
     "text": [
      "Relative training error = 8.0893 %\n",
      "Relative test error = 9.5619 %\n"
     ]
    },
    {
     "name": "stderr",
     "output_type": "stream",
     "text": [
      "100%|█████████████████████████████████████████████████████████████████████████████████████████████████████████████████████████████████████████████████████████████████████| 23/23 [00:00<00:00, 377.89it/s]"
     ]
    },
    {
     "name": "stdout",
     "output_type": "stream",
     "text": [
      " loss = 0.0613\n"
     ]
    },
    {
     "name": "stderr",
     "output_type": "stream",
     "text": [
      "\n"
     ]
    },
    {
     "name": "stdout",
     "output_type": "stream",
     "text": [
      "Relative training error = 8.0583 %\n",
      "Relative test error = 9.6447 %\n"
     ]
    },
    {
     "name": "stderr",
     "output_type": "stream",
     "text": [
      "  0%|                                                                                                                                                                               | 0/23 [00:00<?, ?it/s]"
     ]
    },
    {
     "name": "stdout",
     "output_type": "stream",
     "text": [
      " loss = 0.1730\n"
     ]
    },
    {
     "name": "stderr",
     "output_type": "stream",
     "text": [
      "100%|█████████████████████████████████████████████████████████████████████████████████████████████████████████████████████████████████████████████████████████████████████| 23/23 [00:00<00:00, 358.65it/s]\n"
     ]
    },
    {
     "name": "stdout",
     "output_type": "stream",
     "text": [
      "Relative training error = 8.1186 %\n",
      "Relative test error = 9.9471 %\n"
     ]
    },
    {
     "name": "stderr",
     "output_type": "stream",
     "text": [
      "  0%|                                                                                                                                                                               | 0/23 [00:00<?, ?it/s]"
     ]
    },
    {
     "name": "stdout",
     "output_type": "stream",
     "text": [
      " loss = 0.1653\n"
     ]
    },
    {
     "name": "stderr",
     "output_type": "stream",
     "text": [
      "100%|█████████████████████████████████████████████████████████████████████████████████████████████████████████████████████████████████████████████████████████████████████| 23/23 [00:00<00:00, 429.65it/s]\n"
     ]
    },
    {
     "name": "stdout",
     "output_type": "stream",
     "text": [
      "Relative training error = 8.0753 %\n",
      "Relative test error = 9.6370 %\n"
     ]
    },
    {
     "name": "stderr",
     "output_type": "stream",
     "text": [
      "100%|█████████████████████████████████████████████████████████████████████████████████████████████████████████████████████████████████████████████████████████████████████| 23/23 [00:00<00:00, 451.06it/s]"
     ]
    },
    {
     "name": "stdout",
     "output_type": "stream",
     "text": [
      " loss = 0.1087\n"
     ]
    },
    {
     "name": "stderr",
     "output_type": "stream",
     "text": [
      "\n"
     ]
    },
    {
     "name": "stdout",
     "output_type": "stream",
     "text": [
      "Relative training error = 8.0315 %\n",
      "Relative test error = 9.9448 %\n"
     ]
    },
    {
     "name": "stderr",
     "output_type": "stream",
     "text": [
      "100%|█████████████████████████████████████████████████████████████████████████████████████████████████████████████████████████████████████████████████████████████████████| 23/23 [00:00<00:00, 447.95it/s]"
     ]
    },
    {
     "name": "stdout",
     "output_type": "stream",
     "text": [
      " loss = 0.1527\n"
     ]
    },
    {
     "name": "stderr",
     "output_type": "stream",
     "text": [
      "\n"
     ]
    },
    {
     "name": "stdout",
     "output_type": "stream",
     "text": [
      "Relative training error = 8.0276 %\n",
      "Relative test error = 9.7943 %\n"
     ]
    },
    {
     "name": "stderr",
     "output_type": "stream",
     "text": [
      "100%|█████████████████████████████████████████████████████████████████████████████████████████████████████████████████████████████████████████████████████████████████████| 23/23 [00:00<00:00, 438.32it/s]\n"
     ]
    },
    {
     "name": "stdout",
     "output_type": "stream",
     "text": [
      " loss = 0.0779\n",
      "Relative training error = 8.0130 %\n",
      "Relative test error = 9.5873 %\n"
     ]
    },
    {
     "name": "stderr",
     "output_type": "stream",
     "text": [
      "100%|█████████████████████████████████████████████████████████████████████████████████████████████████████████████████████████████████████████████████████████████████████| 23/23 [00:00<00:00, 438.23it/s]"
     ]
    },
    {
     "name": "stdout",
     "output_type": "stream",
     "text": [
      " loss = 0.0900\n"
     ]
    },
    {
     "name": "stderr",
     "output_type": "stream",
     "text": [
      "\n"
     ]
    },
    {
     "name": "stdout",
     "output_type": "stream",
     "text": [
      "Relative training error = 8.0219 %\n",
      "Relative test error = 9.7661 %\n"
     ]
    },
    {
     "name": "stderr",
     "output_type": "stream",
     "text": [
      "100%|█████████████████████████████████████████████████████████████████████████████████████████████████████████████████████████████████████████████████████████████████████| 23/23 [00:00<00:00, 448.72it/s]"
     ]
    },
    {
     "name": "stdout",
     "output_type": "stream",
     "text": [
      " loss = 0.1299\n"
     ]
    },
    {
     "name": "stderr",
     "output_type": "stream",
     "text": [
      "\n"
     ]
    },
    {
     "name": "stdout",
     "output_type": "stream",
     "text": [
      "Relative training error = 8.0460 %\n",
      "Relative test error = 10.0627 %\n"
     ]
    },
    {
     "name": "stderr",
     "output_type": "stream",
     "text": [
      "100%|█████████████████████████████████████████████████████████████████████████████████████████████████████████████████████████████████████████████████████████████████████| 23/23 [00:00<00:00, 479.46it/s]"
     ]
    },
    {
     "name": "stdout",
     "output_type": "stream",
     "text": [
      " loss = 0.0668\n"
     ]
    },
    {
     "name": "stderr",
     "output_type": "stream",
     "text": [
      "\n"
     ]
    },
    {
     "name": "stdout",
     "output_type": "stream",
     "text": [
      "Relative training error = 8.0400 %\n",
      "Relative test error = 10.0617 %\n"
     ]
    },
    {
     "name": "stderr",
     "output_type": "stream",
     "text": [
      "100%|█████████████████████████████████████████████████████████████████████████████████████████████████████████████████████████████████████████████████████████████████████| 23/23 [00:00<00:00, 454.81it/s]"
     ]
    },
    {
     "name": "stdout",
     "output_type": "stream",
     "text": [
      " loss = 0.1845\n"
     ]
    },
    {
     "name": "stderr",
     "output_type": "stream",
     "text": [
      "\n"
     ]
    },
    {
     "name": "stdout",
     "output_type": "stream",
     "text": [
      "Relative training error = 8.0004 %\n",
      "Relative test error = 10.0227 %\n",
      "Creating DAS_analysis object\n",
      "[-0.01079496 -0.00636261 -0.00472965  0.00829344 -0.03315033  0.01000517\n",
      " -0.03147244  0.01236407 -0.02684816  0.00736422 -0.01663265 -0.00670413\n",
      "  0.01756466 -0.01872044  0.02313004 -0.03355007  0.0332702  -0.02308934\n",
      " -0.04141354  0.01600002 -0.00833672  0.01130101  0.00841153  0.0035773\n",
      "  0.00450807  0.03616873  0.00554306  0.01251749 -0.00332135  0.01660203\n",
      "  0.00364524 -0.00423356 -0.01502233  0.00553334  0.00909886  0.03581746\n",
      " -0.01612826 -0.01689578 -0.00544872 -0.0257047  -0.0020281  -0.00491286\n",
      " -0.01851041 -0.00295021 -0.01707543  0.01278958 -0.03309115 -0.03378421\n",
      "  0.02105434 -0.024914    0.01355151  0.0347159   0.00949286 -0.01157946\n",
      " -0.02779381  0.01103345  0.05014661 -0.0388591   0.03466138 -0.03282935\n",
      "  0.01334391 -0.02446218  0.00617272  0.02966007 -0.0113076  -0.02121396\n",
      " -0.02654688 -0.02603522  0.00742446  0.0033779  -0.03955923 -0.02515224\n",
      " -0.00983606 -0.03146489 -0.02662707  0.00106644 -0.01827304 -0.01481842\n",
      "  0.00496895 -0.01752653  0.02289294  0.02491585 -0.05154504 -0.0153165\n",
      " -0.02955348 -0.01164796  0.00169125  0.00708391  0.00424188 -0.0170783\n",
      " -0.02926962  0.01683864 -0.03211833  0.04620026  0.02204849  0.03711775\n",
      " -0.02703611 -0.02134703 -0.01017228 -0.02460535 -0.00175839  0.00900341\n",
      "  0.0066653   0.02126546 -0.00704159 -0.02525979  0.04929931  0.03000105\n",
      "  0.00056224  0.02727065  0.00672098 -0.02266489 -0.03778072 -0.0143658\n",
      " -0.06977009 -0.00184082  0.03251847  0.00536228  0.00780703  0.00351171\n",
      " -0.001558    0.00453452  0.01956437  0.00755578 -0.00347596 -0.02544811\n",
      " -0.00691871  0.0184323  -0.00946686  0.01644332 -0.00717298 -0.00091536\n",
      " -0.00513515 -0.00200119 -0.00781267  0.03063803  0.00576488 -0.00229528\n",
      "  0.02318851  0.0245067  -0.02252075 -0.01338904  0.0351502  -0.00802465\n",
      " -0.02688461 -0.01285858 -0.04307223  0.01796226 -0.00352158 -0.02649279\n",
      " -0.02409055  0.01353839 -0.01250318  0.00313297  0.01588277  0.01109347\n",
      " -0.00357092  0.00296899  0.00483943 -0.03099188 -0.01898565  0.02774835\n",
      " -0.03559913 -0.0050307   0.0044001   0.13017571 -0.01762796]\n",
      "Parameters ordered from most to least important:\n",
      "[[141 149 165 150 153 151 142  17 137  15 113  95 154  73  39  27 109 107\n",
      "  138 163  10  57  85  94  41  28  21  53  87 164  36  68  29 159  79 161\n",
      "  166 115  52 146 152  82 117  83 100 105  75 129  13  30 110 134  74  84\n",
      "  145 108  22  18 116 123 112  58  99  51  69  47  35  24  31  54 162 155\n",
      "  139  72  93  40 156  55  26  63 143 158  97 127 130  64 106  32 140  33\n",
      "    2  44  76  49  45  56  77   1 101  66  23  61  20 131 148   3  48 120\n",
      "  144  59 119  19 128 103  42  80 118  92  98 133  62  70  46 111 160  16\n",
      "  135  65  38   6 132   5  37  14  25 124  71 125  90 121   7  86 104  89\n",
      "   12 102  91   8  60  67  43 136   0 126  34 147  96  78  50  88 114  11\n",
      "    9  81 157   4 122]]\n"
     ]
    }
   ],
   "source": [
    "train_das(failure_criterion=0.5)"
   ]
  },
  {
   "cell_type": "code",
   "execution_count": 16,
   "id": "5b09156c",
   "metadata": {},
   "outputs": [
    {
     "data": {
      "image/png": "[encoded data removed]",
      "text/plain": [
       "<Figure size 640x480 with 1 Axes>"
      ]
     },
     "metadata": {},
     "output_type": "display_data"
    }
   ],
   "source": [
    "# plot the relative DAS training and test error for the last replica network\n",
    "plot_errors(results_das)"
   ]
  },
  {
   "cell_type": "markdown",
   "id": "2871d096",
   "metadata": {},
   "source": [
    "### Get training results"
   ]
  },
  {
   "cell_type": "code",
   "execution_count": 17,
   "id": "e4d134b2",
   "metadata": {},
   "outputs": [],
   "source": [
    "# select the surrogate with the lowest test error\n",
    "epoch_stop = results_das['epoch_stop']\n",
    "test_errors = np.array(results_das['errors'])[:, :, 1]\n",
    "test_errors = [error[epoch_stop[idx]] for idx, error in enumerate(test_errors)]\n",
    "best_idx = np.argmin(test_errors)\n",
    "das_surrogate = results_das['surrogate'][best_idx]\n",
    "\n",
    "# compute the active subspace on the training and test data\n",
    "W_1 = results_das['projection_matrix'][best_idx]\n",
    "y_das_train = np.dot(W_1.T, params_train.T).T\n",
    "y_das_test = np.dot(W_1.T, params_test.T).T"
   ]
  },
  {
   "cell_type": "markdown",
   "id": "ccd2d2b0",
   "metadata": {},
   "source": [
    "### Recreate the eigenvalue plots\n",
    "\n",
    "Plot the eigenvalues with confidence intervals. "
   ]
  },
  {
   "cell_type": "code",
   "execution_count": 18,
   "id": "e1a94d13",
   "metadata": {
    "scrolled": true
   },
   "outputs": [
    {
     "name": "stderr",
     "output_type": "stream",
     "text": [
      "findfont: Font family ['cmsy10'] not found. Falling back to DejaVu Sans.\n",
      "findfont: Font family ['cmr10'] not found. Falling back to DejaVu Sans.\n",
      "findfont: Font family ['cmtt10'] not found. Falling back to DejaVu Sans.\n",
      "findfont: Font family ['cmmi10'] not found. Falling back to DejaVu Sans.\n",
      "findfont: Font family ['cmb10'] not found. Falling back to DejaVu Sans.\n",
      "findfont: Font family ['cmss10'] not found. Falling back to DejaVu Sans.\n",
      "findfont: Font family ['cmex10'] not found. Falling back to DejaVu Sans.\n",
      "findfont: Font family ['DejaVu Sans Display'] not found. Falling back to DejaVu Sans.\n"
     ]
    },
    {
     "data": {
      "image/png": "[encoded data removed]",
      "text/plain": [
       "<Figure size 400x400 with 1 Axes>"
      ]
     },
     "metadata": {},
     "output_type": "display_data"
    }
   ],
   "source": [
    "# number of eigenvalues to plot\n",
    "n_vals = d\n",
    "\n",
    "# basic analysisclass to compute the confidence intervals\n",
    "analysis = es.analysis.BaseAnalysis()\n",
    "\n",
    "# DAS eigenvalues\n",
    "eigvals_C_das = results_das['eigvals'] \n",
    "eigvals_C_das = eigvals_C_das / np.mean(eigvals_C_das, axis=0)[0]\n",
    "# eigenvalues averaged over the n_rep replica networks\n",
    "mean_eigval_das = np.mean(eigvals_C_das[:, 0:n_vals], axis=0)\n",
    "# compute confidence intervals\n",
    "lower, upper = analysis.get_confidence_intervals(eigvals_C_das[:, 0:n_vals])\n",
    "y_err_das = np.array([mean_eigval_das - lower, upper - mean_eigval_das])\n",
    "\n",
    "# Load GP results from file\n",
    "GP_eigvals = pd.read_csv('./GP_eigvals/scaled_eigen_results_esmacs.csv')\n",
    "GP_mean = GP_eigvals['Eigenval_mean'].values\n",
    "GP_std = GP_eigvals['Eigenval_std'].values\n",
    "\n",
    "# plot results.\n",
    "fig = plt.figure(figsize=[4, 4])\n",
    "ax1 = fig.add_subplot(111, yscale='log', ylim=[1e-4, 2])\n",
    "ax1.set_ylabel(r'$\\lambda_i\\;/\\;\\lambda_1$', fontsize=12)\n",
    "ax1.set_xlabel(r'$i$', fontsize=12)\n",
    "offset = 0.1\n",
    "ax1.errorbar(np.arange(1, n_vals + 1)-offset, mean_eigval_das, \n",
    "             yerr = y_err_das, fmt='s', color='dodgerblue', label='DAS')\n",
    "ax1.errorbar(np.arange(1, n_vals + 1)+offset, GP_mean[0:n_vals], \n",
    "             yerr = GP_std[0:n_vals], fmt='^', color='salmon', label='KAS-GP')\n",
    "plt.legend(loc=0)\n",
    "ax1.set_xticks(np.arange(1, n_vals + 1, 1))\n",
    "sns.despine(top=True)\n",
    "plt.tight_layout()\n",
    "\n",
    "fig.savefig('./images/esmacs_eigvals_d%d.png' % (d,))"
   ]
  },
  {
   "cell_type": "markdown",
   "id": "b582eaaa",
   "metadata": {},
   "source": [
    "### Recreate the active subspace plot\n",
    "\n",
    "Plot the predictions in a 1D active subspace."
   ]
  },
  {
   "cell_type": "code",
   "execution_count": 19,
   "id": "6db2dc2d",
   "metadata": {},
   "outputs": [],
   "source": [
    "# run the DAS surrogate a a number of random inputs locations\n",
    "n_mc = 1000\n",
    "pred_inputs = np.random.rand(n_mc, D) * 2 - 1\n",
    "das_samples_pred = np.zeros(n_mc)\n",
    "for i in range(n_mc):\n",
    "    das_samples_pred[i] = das_surrogate.predict(pred_inputs[i])"
   ]
  },
  {
   "cell_type": "code",
   "execution_count": 20,
   "id": "11feb61b",
   "metadata": {},
   "outputs": [],
   "source": [
    "# active subspace at prediction inputs x\n",
    "y_val_das = np.dot(W_1.T, pred_inputs.T).T"
   ]
  },
  {
   "cell_type": "code",
   "execution_count": 21,
   "id": "fa9440bc",
   "metadata": {},
   "outputs": [
    {
     "data": {
      "image/png": "[encoded data removed]",
      "text/plain": [
       "<Figure size 400x400 with 1 Axes>"
      ]
     },
     "metadata": {},
     "output_type": "display_data"
    }
   ],
   "source": [
    "# QoI labels\n",
    "lbl = {QoI: r'binding free energy'}\n",
    "\n",
    "# plot DAS surrogate\n",
    "fig = plt.figure(figsize=[4, 4])\n",
    "ax = fig.add_subplot(111,  xlim=[-2,2])    #E11 range\n",
    "#ax = fig.add_subplot(111, ylim = [0.15, 0.45], xlim= [-2, 2]) # Poisson range\n",
    "ax.set_xlabel(r'$y_1$', fontsize=12)\n",
    "ax.set_ylabel(lbl[QoI], fontsize=12)\n",
    "ax.plot(y_das_train[:,0], samples_train, 's', color='dodgerblue', label='training data') \n",
    "ax.plot(y_das_test[:,0], samples_test, '^', color='lime', label='test data') \n",
    "ax.plot(y_val_das[:,0], das_samples_pred, '+', color='salmon', label='DAS (d=%d)' % d, alpha=0.5)\n",
    "leg = ax.legend(loc=0, frameon=False)\n",
    "leg.set_draggable(True)\n",
    "sns.despine(top=True)\n",
    "plt.tight_layout()\n",
    "plt.savefig('./images/epoxy_surrogate_d1_%s.png' % (QoI, ))\n"
   ]
  },
  {
   "cell_type": "markdown",
   "id": "e5880548",
   "metadata": {},
   "source": [
    "### Recreate the global-derivative based sensitivity plots"
   ]
  },
  {
   "cell_type": "code",
   "execution_count": 22,
   "id": "6aa9719f",
   "metadata": {},
   "outputs": [],
   "source": [
    "GP_results = pd.read_csv('./GP_SA/sensitivity_indices_esmacs.csv')"
   ]
  },
  {
   "cell_type": "code",
   "execution_count": 23,
   "id": "60bff6d5",
   "metadata": {
    "scrolled": false
   },
   "outputs": [
    {
     "data": {
      "image/png": "[encoded data removed]",
      "text/plain": [
       "<Figure size 500x1000 with 1 Axes>"
      ]
     },
     "metadata": {},
     "output_type": "display_data"
    }
   ],
   "source": [
    "# plot sensitivity indices with CIs\n",
    "plot_sensitivity(results_das, param_names, bar2 = GP_results)"
   ]
  },
  {
   "cell_type": "markdown",
   "id": "584eda20",
   "metadata": {},
   "source": [
    "### Compare epistemic with aleatoric uncertainty"
   ]
  },
  {
   "cell_type": "code",
   "execution_count": 24,
   "id": "ba8c1ac0",
   "metadata": {},
   "outputs": [
    {
     "name": "stdout",
     "output_type": "stream",
     "text": [
      "Computing kernel-density estimate\n",
      "done\n",
      "Computing kernel-density estimate\n",
      "done\n",
      "Computing kernel-density estimate\n",
      "done\n"
     ]
    },
    {
     "data": {
      "image/png": "[encoded data removed]",
      "text/plain": [
       "<Figure size 1000x450 with 3 Axes>"
      ]
     },
     "metadata": {},
     "output_type": "display_data"
    }
   ],
   "source": [
    "plot_dist(output, 'binding free energy')"
   ]
  },
  {
   "cell_type": "markdown",
   "id": "3e55fedf",
   "metadata": {},
   "source": [
    "### (Non-Gaussian) stats with bootstrapping"
   ]
  },
  {
   "cell_type": "code",
   "execution_count": 25,
   "id": "6b6fda21",
   "metadata": {},
   "outputs": [
    {
     "name": "stderr",
     "output_type": "stream",
     "text": [
      "100%|█████████████████████████████████████████████████████████████████████████████████████████████████████████████████████████████████████████████████████████████| 100000/100000 [03:48<00:00, 438.10it/s]\n"
     ]
    }
   ],
   "source": [
    "n_bootstap = 10 ** 5\n",
    "n_samples = output.size\n",
    "\n",
    "mean = np.zeros(n_bootstap)\n",
    "std = np.zeros(n_bootstap)\n",
    "skew = np.zeros(n_bootstap)\n",
    "kurt = np.zeros(n_bootstap)\n",
    "\n",
    "output = output.flatten() \n",
    "\n",
    "for i in tqdm(range(n_bootstap)):\n",
    "    # resample with replacement\n",
    "    idx = np.random.randint(0, n_samples, n_samples)\n",
    "    # recompute moments\n",
    "    mean[i] = np.mean(output[idx])\n",
    "    std[i] = np.std(output[idx])\n",
    "    skew[i] = stats.skew(output[idx])\n",
    "    kurt[i] = stats.kurtosis(output[idx])"
   ]
  },
  {
   "cell_type": "code",
   "execution_count": 26,
   "id": "d92ee69f",
   "metadata": {},
   "outputs": [],
   "source": [
    "lower_mean, upper_mean = analysis.get_confidence_intervals(mean.reshape([-1,1]))\n",
    "lower_std, upper_std = analysis.get_confidence_intervals(std.reshape([-1,1]))\n",
    "lower_skew, upper_skew = analysis.get_confidence_intervals(skew.reshape([-1,1]))\n",
    "lower_kurt, upper_kurt = analysis.get_confidence_intervals(kurt.reshape([-1,1]))"
   ]
  },
  {
   "cell_type": "code",
   "execution_count": 27,
   "id": "7d80dbba",
   "metadata": {},
   "outputs": [
    {
     "name": "stdout",
     "output_type": "stream",
     "text": [
      "Mean: -2.99e+01 (-2.99e+01/-2.98e+01)\n",
      "Std dev: 7.68e+00 (7.61e+00/7.74e+00)\n",
      "Skew: -0.08 (-0.117/-0.050)\n",
      "Kurt: 0.07 (0.00/0.14)\n",
      "N_samples = 18400\n"
     ]
    }
   ],
   "source": [
    "print(\"Mean: %.2e (%.2e/%.2e)\" % (np.mean(output), lower_mean, upper_mean))\n",
    "print(\"Std dev: %.2e (%.2e/%.2e)\" % (np.std(output), lower_std, upper_std))\n",
    "print(\"Skew: %.2f (%.3f/%.3f)\" % (stats.skew(output), lower_skew, upper_skew))\n",
    "print(\"Kurt: %.2f (%.2f/%.2f)\" % (stats.kurtosis(output), lower_kurt, upper_kurt))\n",
    "print(\"N_samples = %d\" % n_samples)"
   ]
  },
  {
   "cell_type": "code",
   "execution_count": null,
   "id": "4ba582fd",
   "metadata": {},
   "outputs": [],
   "source": []
  }
 ],
 "metadata": {
  "kernelspec": {
   "display_name": "Python 3 (ipykernel)",
   "language": "python",
   "name": "python3"
  },
  "language_info": {
   "codemirror_mode": {
    "name": "ipython",
    "version": 3
   },
   "file_extension": ".py",
   "mimetype": "text/x-python",
   "name": "python",
   "nbconvert_exporter": "python",
   "pygments_lexer": "ipython3",
   "version": "3.9.16"
  }
 },
 "nbformat": 4,
 "nbformat_minor": 5
}
