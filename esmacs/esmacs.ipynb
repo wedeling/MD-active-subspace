{
 "cells": [
  {
   "cell_type": "markdown",
   "id": "461b100d",
   "metadata": {},
   "source": [
    "## ESMACS binding free energy application\n",
    "\n",
    "Run this notebook to reproduce the Deep Active Subspace (DAS) results for the ESMACS application. Small variation in the results will occur due to the stochastic nature of the training procedure. Some KAS-GP are also displayed. These are loaded from file, and not directly computed here.\n",
    "\n",
    "### Reference\n",
    "\n",
    "Wouter Edeling, Maxime Vassaux, Yiming Yang, Shunzhou Wan, Serge Guillas, Peter Coveney, *Global ranking of the sensitivity of interaction potential contributions within classical molecular dynamics force fields*, (submitted), 2023."
   ]
  },
  {
   "cell_type": "markdown",
   "id": "4859dcb2",
   "metadata": {},
   "source": [
    "### Install EasySurrogate\n",
    "\n",
    "The Deep Active Subspace method is implemented in EasySurrogate. Uncomment to install."
   ]
  },
  {
   "cell_type": "code",
   "execution_count": 1,
   "id": "2c601e61",
   "metadata": {},
   "outputs": [],
   "source": [
    "#!pip install easysurrogate==0.24.1"
   ]
  },
  {
   "cell_type": "code",
   "execution_count": 2,
   "id": "2defd753",
   "metadata": {},
   "outputs": [],
   "source": [
    "import numpy as np\n",
    "import matplotlib.pyplot as plt\n",
    "from matplotlib import gridspec\n",
    "import easysurrogate as es\n",
    "from scipy import linalg, stats\n",
    "import pandas as pd\n",
    "import json\n",
    "import os\n",
    "import seaborn as sns\n",
    "from tqdm import tqdm"
   ]
  },
  {
   "cell_type": "markdown",
   "id": "ae394479",
   "metadata": {},
   "source": [
    "Several subroutines specific to this article are located in `../utils/utils.py`. Import this module."
   ]
  },
  {
   "cell_type": "code",
   "execution_count": 3,
   "id": "1df9d792",
   "metadata": {},
   "outputs": [],
   "source": [
    "import sys\n",
    "sys.path.insert(1, '../')\n",
    "from utils.utils import plot_sensitivity, plot_errors, plot_dist, early_stopping"
   ]
  },
  {
   "cell_type": "code",
   "execution_count": 4,
   "id": "e947a0de",
   "metadata": {},
   "outputs": [],
   "source": [
    "%matplotlib inline\n",
    "# save figures at 300 dpi\n",
    "plt.rcParams['savefig.dpi'] = 300"
   ]
  },
  {
   "cell_type": "markdown",
   "id": "41de8c9a",
   "metadata": {},
   "source": [
    "### Load prior ranges\n",
    "\n",
    "The JSON files below contains all default values and boundaries used for specifying the Uniform input parameter distributions. "
   ]
  },
  {
   "cell_type": "code",
   "execution_count": 5,
   "id": "bd36fb62",
   "metadata": {},
   "outputs": [
    {
     "data": {
      "text/plain": [
       "{'d01fc': {'default': 0.75, 'type': 'float'},\n",
       " 'd02fc': {'default': 0.25, 'type': 'float'},\n",
       " 'd03fc': {'default': 0.092, 'type': 'float'},\n",
       " 'd04fc': {'default': 0.612, 'type': 'float'},\n",
       " 'd05fc': {'default': 0.252, 'type': 'float'},\n",
       " 'd06fc': {'default': 0.03, 'type': 'float'},\n",
       " 'd07fc': {'default': 0.154, 'type': 'float'},\n",
       " 'd08fc': {'default': 0.486, 'type': 'float'},\n",
       " 'd09fc': {'default': 0.033, 'type': 'float'},\n",
       " 'd10fc': {'default': 1.0, 'type': 'float'},\n",
       " 'd11fc': {'default': 0.45, 'type': 'float'},\n",
       " 'd12fc': {'default': 0.0, 'type': 'float'},\n",
       " 'd13fc': {'default': 0.53, 'type': 'float'},\n",
       " 'd14fc': {'default': 0.15, 'type': 'float'},\n",
       " 'd15fc': {'default': 0.5, 'type': 'float'},\n",
       " 'd16fc': {'default': 1.5, 'type': 'float'},\n",
       " 'd17fc': {'default': 1.05, 'type': 'float'},\n",
       " 'd18fc': {'default': 10.5, 'type': 'float'},\n",
       " 'd19fc': {'default': 1.1, 'type': 'float'},\n",
       " 'd20fc': {'default': 1.0, 'type': 'float'},\n",
       " 'box_size': {'default': 14.0, 'type': 'float'},\n",
       " 'cutoff': {'default': 12.0, 'type': 'float'},\n",
       " 'switching': {'default': 'on', 'type': 'string'},\n",
       " 'timestep': {'default': 2.0, 'type': 'float'},\n",
       " 'rigidBonds': {'default': 'all', 'type': 'string'},\n",
       " 'rigidtolerance': {'default': 1e-05, 'type': 'float'},\n",
       " 'rigidIterations': {'default': 100, 'type': 'integer'},\n",
       " 'nonbondedFreq': {'default': 1, 'type': 'integer'},\n",
       " 'fullElectFrequency': {'default': 2, 'type': 'integer'},\n",
       " 'stepspercycle': {'default': 10, 'type': 'integer'},\n",
       " 'PMEGridSpacing': {'default': 1.0, 'type': 'float'},\n",
       " 'minimize_eq0': {'default': 1000, 'type': 'integer'},\n",
       " 'rng_seed_eq1': {'default': 12345, 'type': 'integer'},\n",
       " 'initTemperature_eq1': {'default': 50.0, 'type': 'float'},\n",
       " 'reassignFreq_eq1': {'default': 100, 'type': 'integer'},\n",
       " 'reassignIncr_eq1': {'default': 1.0, 'type': 'float'},\n",
       " 'langevinDamping': {'default': 5.0, 'type': 'float'},\n",
       " 'langevinHydrogen': {'default': 'no', 'type': 'string'},\n",
       " 'useGroupPressure': {'default': 'yes', 'type': 'string'},\n",
       " 'BerendsenPressureCompressibility': {'default': 4.57e-05, 'type': 'float'},\n",
       " 'BerendsenPressureRelaxationTime': {'default': 100.0, 'type': 'float'},\n",
       " 'BerendsenPressureFreq': {'default': 2, 'type': 'integer'},\n",
       " 'setTemperature': {'default': 300.0, 'type': 'float'},\n",
       " 'time_factor_eq': {'default': 60000.0, 'type': 'float'},\n",
       " 'BerendsenPressureTarget': {'default': 1.01325, 'type': 'float'},\n",
       " 'time_sim1': {'default': 10000000.0, 'type': 'float'},\n",
       " 'b01fc': {'default': 345.8, 'type': 'float'},\n",
       " 'b01ev': {'default': 1.086, 'type': 'float'},\n",
       " 'b02fc': {'default': 461.1, 'type': 'float'},\n",
       " 'b02ev': {'default': 1.3984, 'type': 'float'},\n",
       " 'b03fc': {'default': 637.7, 'type': 'float'},\n",
       " 'b03ev': {'default': 1.2183, 'type': 'float'},\n",
       " 'b04fc': {'default': 345.9, 'type': 'float'},\n",
       " 'b04ev': {'default': 1.4906, 'type': 'float'},\n",
       " 'b05fc': {'default': 450.2, 'type': 'float'},\n",
       " 'b05ev': {'default': 1.4058, 'type': 'float'},\n",
       " 'b06fc': {'default': 351.4, 'type': 'float'},\n",
       " 'b06ev': {'default': 1.4854, 'type': 'float'},\n",
       " 'b07fc': {'default': 330.6, 'type': 'float'},\n",
       " 'b07ev': {'default': 1.0969, 'type': 'float'},\n",
       " 'b08fc': {'default': 313.0, 'type': 'float'},\n",
       " 'b08ev': {'default': 1.5241, 'type': 'float'},\n",
       " 'b09fc': {'default': 427.6, 'type': 'float'},\n",
       " 'b09ev': {'default': 1.3789, 'type': 'float'},\n",
       " 'b10fc': {'default': 384.2, 'type': 'float'},\n",
       " 'b10ev': {'default': 1.4121, 'type': 'float'},\n",
       " 'b11fc': {'default': 300.9, 'type': 'float'},\n",
       " 'b11ev': {'default': 1.5375, 'type': 'float'},\n",
       " 'b12fc': {'default': 330.6, 'type': 'float'},\n",
       " 'b12ev': {'default': 1.0969, 'type': 'float'},\n",
       " 'b13fc': {'default': 328.7, 'type': 'float'},\n",
       " 'b13ev': {'default': 1.4619, 'type': 'float'},\n",
       " 'b14fc': {'default': 321.0, 'type': 'float'},\n",
       " 'b14ev': {'default': 1.5156, 'type': 'float'},\n",
       " 'b15fc': {'default': 404.6, 'type': 'float'},\n",
       " 'b15ev': {'default': 1.0121, 'type': 'float'},\n",
       " 'b16fc': {'default': 326.6, 'type': 'float'},\n",
       " 'b16ev': {'default': 1.464, 'type': 'float'},\n",
       " 'b17fc': {'default': 417.9, 'type': 'float'},\n",
       " 'b17ev': {'default': 1.3859, 'type': 'float'},\n",
       " 'b18fc': {'default': 305.6, 'type': 'float'},\n",
       " 'b18ev': {'default': 1.7502, 'type': 'float'},\n",
       " 'p01rm': {'default': 1.824, 'type': 'float'},\n",
       " 'p01ep': {'default': 0.17, 'type': 'float'},\n",
       " 'p02rm': {'default': 0.6, 'type': 'float'},\n",
       " 'p02ep': {'default': 0.0157, 'type': 'float'},\n",
       " 'p03rm': {'default': 1.908, 'type': 'float'},\n",
       " 'p03ep': {'default': 0.1094, 'type': 'float'},\n",
       " 'p04rm': {'default': 1.1, 'type': 'float'},\n",
       " 'p04ep': {'default': 0.0157, 'type': 'float'},\n",
       " 'p05rm': {'default': 1.387, 'type': 'float'},\n",
       " 'p05ep': {'default': 0.0157, 'type': 'float'},\n",
       " 'p06rm': {'default': 1.721, 'type': 'float'},\n",
       " 'p06ep': {'default': 0.2104, 'type': 'float'},\n",
       " 'p07rm': {'default': 0.0, 'type': 'float'},\n",
       " 'p07ep': {'default': 0.0, 'type': 'float'},\n",
       " 'p08rm': {'default': 1.908, 'type': 'float'},\n",
       " 'p08ep': {'default': 0.086, 'type': 'float'},\n",
       " 'p09rm': {'default': 1.6612, 'type': 'float'},\n",
       " 'p09ep': {'default': 0.21, 'type': 'float'},\n",
       " 'p10rm': {'default': 1.487, 'type': 'float'},\n",
       " 'p10ep': {'default': 0.0157, 'type': 'float'},\n",
       " 'p11rm': {'default': 2.0, 'type': 'float'},\n",
       " 'p11ep': {'default': 0.25, 'type': 'float'},\n",
       " 'p12rm': {'default': 1.459, 'type': 'float'},\n",
       " 'p12ep': {'default': 0.015, 'type': 'float'},\n",
       " 'p13rm': {'default': 1.409, 'type': 'float'},\n",
       " 'p13ep': {'default': 0.015, 'type': 'float'},\n",
       " 'p14rm': {'default': 1.359, 'type': 'float'},\n",
       " 'p14ep': {'default': 0.015, 'type': 'float'},\n",
       " 'p15rm': {'default': 1.9480000000000002, 'type': 'float'},\n",
       " 'p15ep': {'default': 0.265, 'type': 'float'},\n",
       " 'p16rm': {'default': 1.7683, 'type': 'float'},\n",
       " 'p16ep': {'default': 0.152, 'type': 'float'},\n",
       " 'p17rm': {'default': 0.0, 'type': 'float'},\n",
       " 'p17ep': {'default': 0.0, 'type': 'float'},\n",
       " 'a01fc': {'default': 48.2, 'type': 'float'},\n",
       " 'a01ev': {'default': 2.0923016, 'type': 'float'},\n",
       " 'a02fc': {'default': 77.9, 'type': 'float'},\n",
       " 'a02ev': {'default': 2.27329233, 'type': 'float'},\n",
       " 'a03fc': {'default': 64.3, 'type': 'float'},\n",
       " 'a03ev': {'default': 2.10015559, 'type': 'float'},\n",
       " 'a04fc': {'default': 68.7, 'type': 'float'},\n",
       " 'a04ev': {'default': 2.13977458, 'type': 'float'},\n",
       " 'a05fc': {'default': 66.6, 'type': 'float'},\n",
       " 'a05ev': {'default': 2.09474507, 'type': 'float'},\n",
       " 'a06fc': {'default': 66.7, 'type': 'float'},\n",
       " 'a06ev': {'default': 2.06612165, 'type': 'float'},\n",
       " 'a07fc': {'default': 48.0, 'type': 'float'},\n",
       " 'a07ev': {'default': 2.09195254, 'type': 'float'},\n",
       " 'a08fc': {'default': 66.3, 'type': 'float'},\n",
       " 'a08ev': {'default': 2.10643878, 'type': 'float'},\n",
       " 'a09fc': {'default': 64.0, 'type': 'float'},\n",
       " 'a09ev': {'default': 2.11376916, 'type': 'float'},\n",
       " 'a10fc': {'default': 39.4, 'type': 'float'},\n",
       " 'a10ev': {'default': 1.87762601, 'type': 'float'},\n",
       " 'a11fc': {'default': 67.4, 'type': 'float'},\n",
       " 'a11ev': {'default': 2.15024656, 'type': 'float'},\n",
       " 'a12fc': {'default': 63.8, 'type': 'float'},\n",
       " 'a12ev': {'default': 2.15914774, 'type': 'float'},\n",
       " 'a13fc': {'default': 46.9, 'type': 'float'},\n",
       " 'a13ev': {'default': 1.89839544, 'type': 'float'},\n",
       " 'a14fc': {'default': 66.8, 'type': 'float'},\n",
       " 'a14ev': {'default': 2.01027109, 'type': 'float'},\n",
       " 'a15fc': {'default': 74.2, 'type': 'float'},\n",
       " 'a15ev': {'default': 2.14762857, 'type': 'float'},\n",
       " 'a16fc': {'default': 67.9, 'type': 'float'},\n",
       " 'a16ev': {'default': 2.09771213, 'type': 'float'},\n",
       " 'a17fc': {'default': 49.8, 'type': 'float'},\n",
       " 'a17ev': {'default': 1.9003153, 'type': 'float'},\n",
       " 'a18fc': {'default': 46.4, 'type': 'float'},\n",
       " 'a18ev': {'default': 1.91218355, 'type': 'float'},\n",
       " 'a19fc': {'default': 65.9, 'type': 'float'},\n",
       " 'a19ev': {'default': 1.94796281, 'type': 'float'},\n",
       " 'a20fc': {'default': 46.3, 'type': 'float'},\n",
       " 'a20ev': {'default': 1.91637234, 'type': 'float'},\n",
       " 'a21fc': {'default': 63.4, 'type': 'float'},\n",
       " 'a21ev': {'default': 2.10643878, 'type': 'float'},\n",
       " 'a22fc': {'default': 63.0, 'type': 'float'},\n",
       " 'a22ev': {'default': 2.09142894, 'type': 'float'},\n",
       " 'a23fc': {'default': 63.1, 'type': 'float'},\n",
       " 'a23ev': {'default': 1.95599133, 'type': 'float'},\n",
       " 'a24fc': {'default': 62.9, 'type': 'float'},\n",
       " 'a24ev': {'default': 1.94621748, 'type': 'float'},\n",
       " 'a25fc': {'default': 47.0, 'type': 'float'},\n",
       " 'a25ev': {'default': 1.91218355, 'type': 'float'},\n",
       " 'a26fc': {'default': 63.5, 'type': 'float'},\n",
       " 'a26ev': {'default': 2.10783504, 'type': 'float'},\n",
       " 'a27fc': {'default': 46.1, 'type': 'float'},\n",
       " 'a27ev': {'default': 2.02440827, 'type': 'float'},\n",
       " 'a28fc': {'default': 49.6, 'type': 'float'},\n",
       " 'a28ev': {'default': 1.91619781, 'type': 'float'},\n",
       " 'a29fc': {'default': 66.2, 'type': 'float'},\n",
       " 'a29ev': {'default': 1.92789152, 'type': 'float'},\n",
       " 'a30fc': {'default': 66.5, 'type': 'float'},\n",
       " 'a30ev': {'default': 1.94412309, 'type': 'float'},\n",
       " 'a31fc': {'default': 48.4, 'type': 'float'},\n",
       " 'a31ev': {'default': 2.02580453, 'type': 'float'},\n",
       " 'a32fc': {'default': 63.4, 'type': 'float'},\n",
       " 'a32ev': {'default': 2.09404693, 'type': 'float'},\n",
       " 'a33fc': {'default': 68.3, 'type': 'float'},\n",
       " 'a33ev': {'default': 2.11097664, 'type': 'float'},\n",
       " 'a34fc': {'default': 57.9, 'type': 'float'},\n",
       " 'a34ev': {'default': 2.08374949, 'type': 'float'}}"
      ]
     },
     "execution_count": 5,
     "metadata": {},
     "output_type": "execute_result"
    }
   ],
   "source": [
    "# Load the EasyVVUQ params dicts, containing the default values and type of each input\n",
    "priors = {}\n",
    "# there are 5 inputs files, each with a seperate params dict\n",
    "prior_fnames = os.listdir('./priors')\n",
    "for fname in prior_fnames:\n",
    "    prior = json.load(open('./priors/%s' % fname, 'r'))\n",
    "    priors = priors | prior\n",
    "priors"
   ]
  },
  {
   "cell_type": "markdown",
   "id": "4b745204",
   "metadata": {},
   "source": [
    "### Load input parameter values\n",
    "\n",
    "Load the Monte Carlo values of the inputs."
   ]
  },
  {
   "cell_type": "code",
   "execution_count": 6,
   "id": "57dd2f62",
   "metadata": {},
   "outputs": [],
   "source": [
    "# input parameters\n",
    "params = pd.read_csv('./data_esmacs/esmacs_inputs.csv')\n",
    "param_names = params.keys()\n",
    "params = params.values\n",
    "\n",
    "# number of code samples\n",
    "n_samples = params.shape[0]\n",
    "\n",
    "# number of inputs\n",
    "D = params.shape[1]\n",
    "\n",
    "p_max = np.array([priors[name]['default'] * 1.15 for name in param_names])\n",
    "p_min = np.array([priors[name]['default'] * 0.85 for name in param_names])\n",
    "\n",
    "# except the temperature\n",
    "idx_T = np.where(param_names == 'setTemperature')[0]\n",
    "p_max[idx_T] = np.array(priors['setTemperature']['default'] * 1.075)\n",
    "p_min[idx_T] = np.array(priors['setTemperature']['default'] * 0.925)\n",
    "\n",
    "# scale inputs within [-1, 1]\n",
    "params = (params - 0.5 * (p_min + p_max)) / (0.5 * (p_max - p_min))"
   ]
  },
  {
   "cell_type": "markdown",
   "id": "68f39965",
   "metadata": {},
   "source": [
    "### Load output samples\n",
    "\n",
    "Load the corresponding Monte Carlo outputs, in the case the binding free energy predictions."
   ]
  },
  {
   "cell_type": "code",
   "execution_count": 7,
   "id": "5c01f024",
   "metadata": {},
   "outputs": [],
   "source": [
    "QoI = 'binding_energy'\n",
    "output = pd.read_csv('./data_esmacs/%s_output.csv' % (QoI,)).values"
   ]
  },
  {
   "cell_type": "markdown",
   "id": "45f3892a",
   "metadata": {},
   "source": [
    "### Average over the random seeds (or not)\n",
    "\n",
    "Each parameter value was replicated several times, changing only the random seed of the initial condition."
   ]
  },
  {
   "cell_type": "code",
   "execution_count": 8,
   "id": "d3f8a102",
   "metadata": {},
   "outputs": [],
   "source": [
    "# average the data over the replica simulations or not\n",
    "average_over_replicas = True\n",
    "\n",
    "if not average_over_replicas:\n",
    "    samples = output[:, 0].reshape([-1, 1])\n",
    "else:\n",
    "    samples = np.mean(output, axis=1, keepdims=True)"
   ]
  },
  {
   "cell_type": "markdown",
   "id": "311a5993",
   "metadata": {},
   "source": [
    "### Select $d$\n",
    "\n",
    "This is the dimension of the active subspace."
   ]
  },
  {
   "cell_type": "code",
   "execution_count": 9,
   "id": "fb784def",
   "metadata": {},
   "outputs": [],
   "source": [
    "d = 1"
   ]
  },
  {
   "cell_type": "markdown",
   "id": "3725e85c",
   "metadata": {},
   "source": [
    "### Set hyperparameters"
   ]
  },
  {
   "cell_type": "code",
   "execution_count": 10,
   "id": "92ee80c4",
   "metadata": {},
   "outputs": [],
   "source": [
    "# number of neurons per hidden layer \n",
    "n_hidden_neurons = 20\n",
    "# number of hidden layer + output layer\n",
    "n_layers = 3\n",
    "# activation function\n",
    "activation = 'tanh'\n",
    "\n",
    "# mini batch size\n",
    "batch_size = 32\n",
    "# max number of epochs\n",
    "n_epochs_max = 100\n",
    "# number of mini-batch iterations per epoch\n",
    "n_iter = int(n_samples / batch_size)\n",
    "\n",
    "# early stopping parameters\n",
    "min_delta = 0.001\n",
    "patience = 3"
   ]
  },
  {
   "cell_type": "markdown",
   "id": "558b9aca",
   "metadata": {},
   "source": [
    "### Train / test split"
   ]
  },
  {
   "cell_type": "code",
   "execution_count": 11,
   "id": "7724a112",
   "metadata": {},
   "outputs": [],
   "source": [
    "test_frac = 0.1\n",
    "test_idx = int((1 - test_frac) * n_samples)\n",
    "params_train = params[0:test_idx, :]\n",
    "samples_train = samples[0:test_idx, :]\n",
    "params_test = params[test_idx:, :]\n",
    "samples_test = samples[test_idx:, :]"
   ]
  },
  {
   "cell_type": "markdown",
   "id": "cf15d8c9",
   "metadata": {},
   "source": [
    "### Select how many replica neural networks to train\n",
    "\n",
    "To compute confidence intervals on the results (due to the stochastic nature of the training), we train `n_rep` replica networks instead of relying a single network"
   ]
  },
  {
   "cell_type": "code",
   "execution_count": 12,
   "id": "846dc485",
   "metadata": {},
   "outputs": [],
   "source": [
    "n_rep = 20"
   ]
  },
  {
   "cell_type": "markdown",
   "id": "a416ab1c",
   "metadata": {},
   "source": [
    "### Train a deep active subspace network\n"
   ]
  },
  {
   "cell_type": "code",
   "execution_count": 13,
   "id": "236ea661",
   "metadata": {},
   "outputs": [],
   "source": [
    "# results dict\n",
    "results_das = {}\n",
    "# eigenvalues of gradient matrix C per epoch\n",
    "results_das['eigvals'] = np.zeros([n_rep, D])\n",
    "# global gradient-based sensitivity indices per epoch\n",
    "results_das['V_i'] = np.zeros([n_rep, D])\n",
    "# relative training and test error per epoch\n",
    "results_das['errors'] = []\n",
    "results_das['epoch_stop'] = np.zeros(n_rep, dtype=int)\n",
    "results_das['projection_matrix'] = []\n",
    "results_das['surrogate'] = []\n",
    "results_das['C_das'] = []"
   ]
  },
  {
   "cell_type": "code",
   "execution_count": 14,
   "id": "92e87f37",
   "metadata": {},
   "outputs": [],
   "source": [
    "def train_das(failure_criterion = 1.0):\n",
    "    \"\"\"\n",
    "    Train DAS networks using early stopping.\n",
    "    \n",
    "    failure_criterion : float\n",
    "        Most replica networks will converge, a small number might not. \n",
    "        failure_critertion is the value of the relative test error\n",
    "        used to determine if a network did not converge. If exceeded\n",
    "        the network will be discarded. Default value is 1.0 (100% test error).\n",
    "\n",
    "    \"\"\"\n",
    "    min_test_error = 1.0\n",
    "\n",
    "    # repeat analysis n_rep times to generate error bars on results\n",
    "    for rep in range(n_rep):\n",
    "\n",
    "        # train remaining epochs through early stopping\n",
    "        final_test_error = 2.0\n",
    "        while final_test_error > failure_criterion:\n",
    "        \n",
    "            # create new DAS network and train for 1 epoch\n",
    "            das_surrogate = es.methods.DAS_Surrogate()\n",
    "            das_surrogate.train(params_train, samples_train, d, \n",
    "                                n_iter=n_iter,\n",
    "                                n_layers=n_layers,\n",
    "                                n_neurons=n_hidden_neurons, \n",
    "                                activation=activation, \n",
    "                                batch_size=batch_size,\n",
    "                                standardize_X=False, standardize_y=True)\n",
    "\n",
    "            # train remaining epochs through early stopping\n",
    "            errors, epoch = early_stopping(das_surrogate, n_iter,\n",
    "                                           params_train, samples_train, \n",
    "                                           params_test, samples_test)\n",
    "            final_test_error = errors[epoch, 1]\n",
    "\n",
    "        results_das['errors'].append(errors)\n",
    "        results_das['epoch_stop'][rep] = epoch\n",
    "\n",
    "        ### Compute active subspace of the DAS network\n",
    "\n",
    "        # the gradient matrix computed of the DAS network, computed using the classical AS method\n",
    "        C_das = 0.0\n",
    "\n",
    "        # Number of Monte Carlo samples\n",
    "        n_mc = params.shape[0]    \n",
    "\n",
    "        # Compute C_das, the gradient matrix of the DAS network\n",
    "        das_samples = np.zeros(n_mc)\n",
    "        for i, param in enumerate(params):\n",
    "            # compute the derivative of f at the input layer (needed for C_das)\n",
    "            df_dx = das_surrogate.derivative(param, norm=False)\n",
    "            # update C_das\n",
    "            C_das += np.dot(df_dx, df_dx.T) / n_mc\n",
    "\n",
    "        results_das['C_das'].append(C_das)\n",
    "            \n",
    "        # solve eigenvalue problem for C_das\n",
    "        eigvals_C_das, eigvecs_C_das = linalg.eigh(C_das)\n",
    "\n",
    "        # Sort the eigensolutions in the descending order of eigenvalues\n",
    "        order = eigvals_C_das.argsort()[::-1]\n",
    "        eigvals_C_das = eigvals_C_das[order]\n",
    "        eigvecs_C_das = eigvecs_C_das[:, order]\n",
    "\n",
    "        # store eigenvalues of this iteration\n",
    "        results_das['eigvals'][rep] = eigvals_C_das\n",
    "\n",
    "        # the DAS weight matrix of the first hidden layer\n",
    "        # W_1 = das_surrogate.neural_net.layers[1].W\n",
    "        # results_das['projection_matrix'].append(W_1)\n",
    "        # The dominant eigenvector(s) from the C_das matrix (alternative to W_1)\n",
    "        results_das['projection_matrix'].append(eigvecs_C_das[:, 0:d])\n",
    "\n",
    "        # perform sensitivity analysis using combined training and test data \n",
    "        das_analysis = es.analysis.DAS_analysis(das_surrogate)\n",
    "        idx, V_i = das_analysis.sensitivity_measures(params, norm=False)\n",
    "        results_das['V_i'][rep] = V_i.flatten() #* das_surrogate.neural_net.y_std ** 2\n",
    "\n",
    "        # store surrogate\n",
    "        results_das['surrogate'].append(das_surrogate)\n"
   ]
  },
  {
   "cell_type": "markdown",
   "id": "088b23ab",
   "metadata": {},
   "source": [
    "Train `n_rep` DAS surrogate. A converged DAS network will have a test error well below 40%, set `failure_criterion=0.5`."
   ]
  },
  {
   "cell_type": "code",
   "execution_count": 15,
   "id": "d1f165c2",
   "metadata": {},
   "outputs": [
    {
     "name": "stdout",
     "output_type": "stream",
     "text": [
      "Creating DAS_Surrogate Object\n",
      "Creating Feature Engineering object\n",
      "Using  662/662 samples to train the ML model\n",
      "===============================\n",
      "Neural net parameters\n",
      "===============================\n",
      "Number of layers = 3\n",
      "Number of features = 167\n",
      "Loss function = squared\n",
      "Number of neurons per hidden layer = 20\n",
      "Number of output neurons = 1\n",
      "Activation = ['linear', 'linear', 'tanh', 'linear']\n",
      "This neural network has 228 weights.\n",
      "===============================\n",
      "===============================\n",
      "Training Deep Active Subspace Neural Network...\n"
     ]
    },
    {
     "name": "stderr",
     "output_type": "stream",
     "text": [
      "100%|██████████████████████████████████████████████████████████████████████████████████████████████████████████████████████████████████████████████████████████████████████| 23/23 [00:00<00:00, 380.97it/s]\n"
     ]
    },
    {
     "name": "stdout",
     "output_type": "stream",
     "text": [
      " loss = 2.9846\n",
      "Relative training error = 23.2097 %\n",
      "Relative test error = 23.9998 %\n"
     ]
    },
    {
     "name": "stderr",
     "output_type": "stream",
     "text": [
      "100%|██████████████████████████████████████████████████████████████████████████████████████████████████████████████████████████████████████████████████████████████████████| 23/23 [00:00<00:00, 434.07it/s]"
     ]
    },
    {
     "name": "stdout",
     "output_type": "stream",
     "text": [
      " loss = 0.8395\n"
     ]
    },
    {
     "name": "stderr",
     "output_type": "stream",
     "text": [
      "\n"
     ]
    },
    {
     "name": "stdout",
     "output_type": "stream",
     "text": [
      "Relative training error = 22.1127 %\n",
      "Relative test error = 22.8266 %\n"
     ]
    },
    {
     "name": "stderr",
     "output_type": "stream",
     "text": [
      "100%|██████████████████████████████████████████████████████████████████████████████████████████████████████████████████████████████████████████████████████████████████████| 23/23 [00:00<00:00, 421.23it/s]\n"
     ]
    },
    {
     "name": "stdout",
     "output_type": "stream",
     "text": [
      " loss = 0.8947\n",
      "Relative training error = 20.1087 %\n",
      "Relative test error = 21.9613 %\n"
     ]
    },
    {
     "name": "stderr",
     "output_type": "stream",
     "text": [
      "  0%|                                                                                                                                                                                | 0/23 [00:00<?, ?it/s]"
     ]
    },
    {
     "name": "stdout",
     "output_type": "stream",
     "text": [
      " loss = 0.7473\n"
     ]
    },
    {
     "name": "stderr",
     "output_type": "stream",
     "text": [
      "100%|██████████████████████████████████████████████████████████████████████████████████████████████████████████████████████████████████████████████████████████████████████| 23/23 [00:00<00:00, 343.96it/s]\n"
     ]
    },
    {
     "name": "stdout",
     "output_type": "stream",
     "text": [
      "Relative training error = 18.0069 %\n",
      "Relative test error = 20.8069 %\n"
     ]
    },
    {
     "name": "stderr",
     "output_type": "stream",
     "text": [
      "  0%|                                                                                                                                                                                | 0/23 [00:00<?, ?it/s]"
     ]
    },
    {
     "name": "stdout",
     "output_type": "stream",
     "text": [
      " loss = 0.6004\n"
     ]
    },
    {
     "name": "stderr",
     "output_type": "stream",
     "text": [
      "100%|██████████████████████████████████████████████████████████████████████████████████████████████████████████████████████████████████████████████████████████████████████| 23/23 [00:00<00:00, 367.82it/s]\n"
     ]
    },
    {
     "name": "stdout",
     "output_type": "stream",
     "text": [
      "Relative training error = 15.9180 %\n",
      "Relative test error = 19.4079 %\n"
     ]
    },
    {
     "name": "stderr",
     "output_type": "stream",
     "text": [
      "  0%|                                                                                                                                                                                | 0/23 [00:00<?, ?it/s]"
     ]
    },
    {
     "name": "stdout",
     "output_type": "stream",
     "text": [
      " loss = 0.6601\n"
     ]
    },
    {
     "name": "stderr",
     "output_type": "stream",
     "text": [
      "100%|██████████████████████████████████████████████████████████████████████████████████████████████████████████████████████████████████████████████████████████████████████| 23/23 [00:00<00:00, 380.96it/s]\n"
     ]
    },
    {
     "name": "stdout",
     "output_type": "stream",
     "text": [
      "Relative training error = 13.8847 %\n",
      "Relative test error = 17.6012 %\n"
     ]
    },
    {
     "name": "stderr",
     "output_type": "stream",
     "text": [
      "  0%|                                                                                                                                                                                | 0/23 [00:00<?, ?it/s]"
     ]
    },
    {
     "name": "stdout",
     "output_type": "stream",
     "text": [
      " loss = 0.3199\n"
     ]
    },
    {
     "name": "stderr",
     "output_type": "stream",
     "text": [
      "100%|██████████████████████████████████████████████████████████████████████████████████████████████████████████████████████████████████████████████████████████████████████| 23/23 [00:00<00:00, 390.57it/s]\n"
     ]
    },
    {
     "name": "stdout",
     "output_type": "stream",
     "text": [
      "Relative training error = 12.3372 %\n",
      "Relative test error = 15.7257 %\n"
     ]
    },
    {
     "name": "stderr",
     "output_type": "stream",
     "text": [
      "  0%|                                                                                                                                                                                | 0/23 [00:00<?, ?it/s]"
     ]
    },
    {
     "name": "stdout",
     "output_type": "stream",
     "text": [
      " loss = 0.1676\n"
     ]
    },
    {
     "name": "stderr",
     "output_type": "stream",
     "text": [
      "100%|██████████████████████████████████████████████████████████████████████████████████████████████████████████████████████████████████████████████████████████████████████| 23/23 [00:00<00:00, 334.21it/s]\n"
     ]
    },
    {
     "name": "stdout",
     "output_type": "stream",
     "text": [
      "Relative training error = 11.2397 %\n",
      "Relative test error = 14.1678 %\n"
     ]
    },
    {
     "name": "stderr",
     "output_type": "stream",
     "text": [
      "  0%|                                                                                                                                                                                | 0/23 [00:00<?, ?it/s]"
     ]
    },
    {
     "name": "stdout",
     "output_type": "stream",
     "text": [
      " loss = 0.1591\n"
     ]
    },
    {
     "name": "stderr",
     "output_type": "stream",
     "text": [
      "100%|██████████████████████████████████████████████████████████████████████████████████████████████████████████████████████████████████████████████████████████████████████| 23/23 [00:00<00:00, 378.81it/s]\n"
     ]
    },
    {
     "name": "stdout",
     "output_type": "stream",
     "text": [
      "Relative training error = 10.3824 %\n",
      "Relative test error = 12.6516 %\n"
     ]
    },
    {
     "name": "stderr",
     "output_type": "stream",
     "text": [
      "  0%|                                                                                                                                                                                | 0/23 [00:00<?, ?it/s]"
     ]
    },
    {
     "name": "stdout",
     "output_type": "stream",
     "text": [
      " loss = 0.1533\n"
     ]
    },
    {
     "name": "stderr",
     "output_type": "stream",
     "text": [
      "100%|██████████████████████████████████████████████████████████████████████████████████████████████████████████████████████████████████████████████████████████████████████| 23/23 [00:00<00:00, 332.06it/s]\n"
     ]
    },
    {
     "name": "stdout",
     "output_type": "stream",
     "text": [
      "Relative training error = 9.7671 %\n",
      "Relative test error = 11.9260 %\n"
     ]
    },
    {
     "name": "stderr",
     "output_type": "stream",
     "text": [
      "  0%|                                                                                                                                                                                | 0/23 [00:00<?, ?it/s]"
     ]
    },
    {
     "name": "stdout",
     "output_type": "stream",
     "text": [
      " loss = 0.1751\n"
     ]
    },
    {
     "name": "stderr",
     "output_type": "stream",
     "text": [
      "100%|██████████████████████████████████████████████████████████████████████████████████████████████████████████████████████████████████████████████████████████████████████| 23/23 [00:00<00:00, 362.85it/s]\n"
     ]
    },
    {
     "name": "stdout",
     "output_type": "stream",
     "text": [
      "Relative training error = 9.3184 %\n",
      "Relative test error = 11.3323 %\n"
     ]
    },
    {
     "name": "stderr",
     "output_type": "stream",
     "text": [
      "  0%|                                                                                                                                                                                | 0/23 [00:00<?, ?it/s]"
     ]
    },
    {
     "name": "stdout",
     "output_type": "stream",
     "text": [
      " loss = 0.1275\n"
     ]
    },
    {
     "name": "stderr",
     "output_type": "stream",
     "text": [
      "100%|██████████████████████████████████████████████████████████████████████████████████████████████████████████████████████████████████████████████████████████████████████| 23/23 [00:00<00:00, 392.89it/s]\n"
     ]
    },
    {
     "name": "stdout",
     "output_type": "stream",
     "text": [
      "Relative training error = 9.0346 %\n",
      "Relative test error = 10.7859 %\n"
     ]
    },
    {
     "name": "stderr",
     "output_type": "stream",
     "text": [
      "  0%|                                                                                                                                                                                | 0/23 [00:00<?, ?it/s]"
     ]
    },
    {
     "name": "stdout",
     "output_type": "stream",
     "text": [
      " loss = 0.1835\n"
     ]
    },
    {
     "name": "stderr",
     "output_type": "stream",
     "text": [
      "100%|██████████████████████████████████████████████████████████████████████████████████████████████████████████████████████████████████████████████████████████████████████| 23/23 [00:00<00:00, 349.64it/s]\n"
     ]
    },
    {
     "name": "stdout",
     "output_type": "stream",
     "text": [
      "Relative training error = 8.7302 %\n",
      "Relative test error = 10.1712 %\n"
     ]
    },
    {
     "name": "stderr",
     "output_type": "stream",
     "text": [
      "  0%|                                                                                                                                                                                | 0/23 [00:00<?, ?it/s]"
     ]
    },
    {
     "name": "stdout",
     "output_type": "stream",
     "text": [
      " loss = 0.1226\n"
     ]
    },
    {
     "name": "stderr",
     "output_type": "stream",
     "text": [
      "100%|██████████████████████████████████████████████████████████████████████████████████████████████████████████████████████████████████████████████████████████████████████| 23/23 [00:00<00:00, 425.92it/s]\n"
     ]
    },
    {
     "name": "stdout",
     "output_type": "stream",
     "text": [
      "Relative training error = 8.5528 %\n",
      "Relative test error = 10.0350 %\n"
     ]
    },
    {
     "name": "stderr",
     "output_type": "stream",
     "text": [
      "100%|██████████████████████████████████████████████████████████████████████████████████████████████████████████████████████████████████████████████████████████████████████| 23/23 [00:00<00:00, 421.18it/s]"
     ]
    },
    {
     "name": "stdout",
     "output_type": "stream",
     "text": [
      " loss = 0.0792\n"
     ]
    },
    {
     "name": "stderr",
     "output_type": "stream",
     "text": [
      "\n"
     ]
    },
    {
     "name": "stdout",
     "output_type": "stream",
     "text": [
      "Relative training error = 8.4769 %\n",
      "Relative test error = 9.7846 %\n"
     ]
    },
    {
     "name": "stderr",
     "output_type": "stream",
     "text": [
      "100%|██████████████████████████████████████████████████████████████████████████████████████████████████████████████████████████████████████████████████████████████████████| 23/23 [00:00<00:00, 447.64it/s]\n"
     ]
    },
    {
     "name": "stdout",
     "output_type": "stream",
     "text": [
      " loss = 0.1389\n",
      "Relative training error = 8.4063 %\n",
      "Relative test error = 9.8828 %\n"
     ]
    },
    {
     "name": "stderr",
     "output_type": "stream",
     "text": [
      "100%|██████████████████████████████████████████████████████████████████████████████████████████████████████████████████████████████████████████████████████████████████████| 23/23 [00:00<00:00, 439.27it/s]"
     ]
    },
    {
     "name": "stdout",
     "output_type": "stream",
     "text": [
      " loss = 0.1372\n"
     ]
    },
    {
     "name": "stderr",
     "output_type": "stream",
     "text": [
      "\n"
     ]
    },
    {
     "name": "stdout",
     "output_type": "stream",
     "text": [
      "Relative training error = 8.3610 %\n",
      "Relative test error = 9.5911 %\n"
     ]
    },
    {
     "name": "stderr",
     "output_type": "stream",
     "text": [
      "100%|██████████████████████████████████████████████████████████████████████████████████████████████████████████████████████████████████████████████████████████████████████| 23/23 [00:00<00:00, 459.06it/s]\n"
     ]
    },
    {
     "name": "stdout",
     "output_type": "stream",
     "text": [
      " loss = 0.1822\n",
      "Relative training error = 8.2685 %\n",
      "Relative test error = 9.8296 %\n"
     ]
    },
    {
     "name": "stderr",
     "output_type": "stream",
     "text": [
      "100%|██████████████████████████████████████████████████████████████████████████████████████████████████████████████████████████████████████████████████████████████████████| 23/23 [00:00<00:00, 447.26it/s]"
     ]
    },
    {
     "name": "stdout",
     "output_type": "stream",
     "text": [
      " loss = 0.0592\n"
     ]
    },
    {
     "name": "stderr",
     "output_type": "stream",
     "text": [
      "\n"
     ]
    },
    {
     "name": "stdout",
     "output_type": "stream",
     "text": [
      "Relative training error = 8.2706 %\n",
      "Relative test error = 9.7907 %\n"
     ]
    },
    {
     "name": "stderr",
     "output_type": "stream",
     "text": [
      "100%|██████████████████████████████████████████████████████████████████████████████████████████████████████████████████████████████████████████████████████████████████████| 23/23 [00:00<00:00, 450.12it/s]"
     ]
    },
    {
     "name": "stdout",
     "output_type": "stream",
     "text": [
      " loss = 0.1134\n"
     ]
    },
    {
     "name": "stderr",
     "output_type": "stream",
     "text": [
      "\n"
     ]
    },
    {
     "name": "stdout",
     "output_type": "stream",
     "text": [
      "Relative training error = 8.2702 %\n",
      "Relative test error = 9.9233 %\n"
     ]
    },
    {
     "name": "stderr",
     "output_type": "stream",
     "text": [
      "100%|██████████████████████████████████████████████████████████████████████████████████████████████████████████████████████████████████████████████████████████████████████| 23/23 [00:00<00:00, 353.17it/s]"
     ]
    },
    {
     "name": "stdout",
     "output_type": "stream",
     "text": [
      " loss = 0.0981\n"
     ]
    },
    {
     "name": "stderr",
     "output_type": "stream",
     "text": [
      "\n"
     ]
    },
    {
     "name": "stdout",
     "output_type": "stream",
     "text": [
      "Relative training error = 8.2380 %\n",
      "Relative test error = 9.6763 %\n",
      "Creating DAS_analysis object\n",
      "[-0.01079496 -0.00636261 -0.00472965  0.00829344 -0.03315033  0.01000517\n",
      " -0.03147244  0.01236407 -0.02684816  0.00736422 -0.01663265 -0.00670413\n",
      "  0.01756466 -0.01872044  0.02313004 -0.03355007  0.0332702  -0.02308934\n",
      " -0.04141354  0.01600002 -0.00833672  0.01130101  0.00841153  0.0035773\n",
      "  0.00450807  0.03616873  0.00554306  0.01251749 -0.00332135  0.01660203\n",
      "  0.00364524 -0.00423356 -0.01502233  0.00553334  0.00909886  0.03581746\n",
      " -0.01612826 -0.01689578 -0.00544872 -0.0257047  -0.0020281  -0.00491286\n",
      " -0.01851041 -0.00295021 -0.01707543  0.01278958 -0.03309115 -0.03378421\n",
      "  0.02105434 -0.024914    0.01355151  0.0347159   0.00949286 -0.01157946\n",
      " -0.02779381  0.01103345  0.05014661 -0.0388591   0.03466138 -0.03282935\n",
      "  0.01334391 -0.02446218  0.00617272  0.02966007 -0.0113076  -0.02121396\n",
      " -0.02654688 -0.02603522  0.00742446  0.0033779  -0.03955923 -0.02515224\n",
      " -0.00983606 -0.03146489 -0.02662707  0.00106644 -0.01827304 -0.01481842\n",
      "  0.00496895 -0.01752653  0.02289294  0.02491585 -0.05154504 -0.0153165\n",
      " -0.02955348 -0.01164796  0.00169125  0.00708391  0.00424188 -0.0170783\n",
      " -0.02926962  0.01683864 -0.03211833  0.04620026  0.02204849  0.03711775\n",
      " -0.02703611 -0.02134703 -0.01017228 -0.02460535 -0.00175839  0.00900341\n",
      "  0.0066653   0.02126546 -0.00704159 -0.02525979  0.04929931  0.03000105\n",
      "  0.00056224  0.02727065  0.00672098 -0.02266489 -0.03778072 -0.0143658\n",
      " -0.06977009 -0.00184082  0.03251847  0.00536228  0.00780703  0.00351171\n",
      " -0.001558    0.00453452  0.01956437  0.00755578 -0.00347596 -0.02544811\n",
      " -0.00691871  0.0184323  -0.00946686  0.01644332 -0.00717298 -0.00091536\n",
      " -0.00513515 -0.00200119 -0.00781267  0.03063803  0.00576488 -0.00229528\n",
      "  0.02318851  0.0245067  -0.02252075 -0.01338904  0.0351502  -0.00802465\n",
      " -0.02688461 -0.01285858 -0.04307223  0.01796226 -0.00352158 -0.02649279\n",
      " -0.02409055  0.01353839 -0.01250318  0.00313297  0.01588277  0.01109347\n",
      " -0.00357092  0.00296899  0.00483943 -0.03099188 -0.01898565  0.02774835\n",
      " -0.03559913 -0.0050307   0.0044001   0.13017571 -0.01762796]\n",
      "Parameters ordered from most to least important:\n",
      "[[141 149 165 150 153 151 142  17 137  15 113 138 154 109 107  73  27  95\n",
      "   39  41  53 163  10  29  85  94 105  36  93 139  87  21  68  19 159  30\n",
      "   22  23 120 117 152  74  57  28  37  61 140 108  69 148  46 155  83 100\n",
      "   97  75 112 146 161  49 106  13 115  99 156 130 118 129 164 166  16  18\n",
      "   63  52  84   6  24  80  38 110  42 134 102 162 133   3  64  47  56  79\n",
      "  147  31  70   2  58 144 127  89  33 116  86 101  40  55 123 119 126  59\n",
      "   65  92  62  78  90  82 121  45 111  54 114  43   5  66  48  72 157 160\n",
      "   32  71 103   8   1  98   4 131  88 145  26 158 128  96  77  60  25  44\n",
      "  124 122 125 135  51  11  35  76  34   9  81 104   0  91  12  67  50  14\n",
      "  143   7 132  20 136]]\n",
      "Creating DAS_Surrogate Object\n",
      "Creating Feature Engineering object\n",
      "Using  662/662 samples to train the ML model\n",
      "===============================\n",
      "Neural net parameters\n",
      "===============================\n",
      "Number of layers = 3\n",
      "Number of features = 167\n",
      "Loss function = squared\n",
      "Number of neurons per hidden layer = 20\n",
      "Number of output neurons = 1\n",
      "Activation = ['linear', 'linear', 'tanh', 'linear']\n",
      "This neural network has 228 weights.\n",
      "===============================\n",
      "===============================\n",
      "Training Deep Active Subspace Neural Network...\n"
     ]
    },
    {
     "name": "stderr",
     "output_type": "stream",
     "text": [
      "  0%|                                                                                                                                                                                | 0/23 [00:00<?, ?it/s]"
     ]
    },
    {
     "name": "stdout",
     "output_type": "stream",
     "text": [
      " loss = 0.7915\n"
     ]
    },
    {
     "name": "stderr",
     "output_type": "stream",
     "text": [
      "100%|██████████████████████████████████████████████████████████████████████████████████████████████████████████████████████████████████████████████████████████████████████| 23/23 [00:00<00:00, 322.04it/s]\n"
     ]
    },
    {
     "name": "stdout",
     "output_type": "stream",
     "text": [
      "Relative training error = 22.9202 %\n",
      "Relative test error = 22.0812 %\n"
     ]
    },
    {
     "name": "stderr",
     "output_type": "stream",
     "text": [
      "  0%|                                                                                                                                                                                | 0/23 [00:00<?, ?it/s]"
     ]
    },
    {
     "name": "stdout",
     "output_type": "stream",
     "text": [
      " loss = 1.0130\n"
     ]
    },
    {
     "name": "stderr",
     "output_type": "stream",
     "text": [
      "100%|██████████████████████████████████████████████████████████████████████████████████████████████████████████████████████████████████████████████████████████████████████| 23/23 [00:00<00:00, 399.50it/s]\n"
     ]
    },
    {
     "name": "stdout",
     "output_type": "stream",
     "text": [
      "Relative training error = 21.0507 %\n",
      "Relative test error = 20.6274 %\n"
     ]
    },
    {
     "name": "stderr",
     "output_type": "stream",
     "text": [
      "100%|██████████████████████████████████████████████████████████████████████████████████████████████████████████████████████████████████████████████████████████████████████| 23/23 [00:00<00:00, 439.88it/s]"
     ]
    },
    {
     "name": "stdout",
     "output_type": "stream",
     "text": [
      " loss = 0.6081\n"
     ]
    },
    {
     "name": "stderr",
     "output_type": "stream",
     "text": [
      "\n"
     ]
    },
    {
     "name": "stdout",
     "output_type": "stream",
     "text": [
      "Relative training error = 17.2234 %\n",
      "Relative test error = 17.1274 %\n"
     ]
    },
    {
     "name": "stderr",
     "output_type": "stream",
     "text": [
      "100%|██████████████████████████████████████████████████████████████████████████████████████████████████████████████████████████████████████████████████████████████████████| 23/23 [00:00<00:00, 429.37it/s]"
     ]
    },
    {
     "name": "stdout",
     "output_type": "stream",
     "text": [
      " loss = 0.3669\n"
     ]
    },
    {
     "name": "stderr",
     "output_type": "stream",
     "text": [
      "\n"
     ]
    },
    {
     "name": "stdout",
     "output_type": "stream",
     "text": [
      "Relative training error = 13.6856 %\n",
      "Relative test error = 14.6617 %\n"
     ]
    },
    {
     "name": "stderr",
     "output_type": "stream",
     "text": [
      "100%|██████████████████████████████████████████████████████████████████████████████████████████████████████████████████████████████████████████████████████████████████████| 23/23 [00:00<00:00, 457.93it/s]"
     ]
    },
    {
     "name": "stdout",
     "output_type": "stream",
     "text": [
      " loss = 0.3231\n"
     ]
    },
    {
     "name": "stderr",
     "output_type": "stream",
     "text": [
      "\n"
     ]
    },
    {
     "name": "stdout",
     "output_type": "stream",
     "text": [
      "Relative training error = 11.5880 %\n",
      "Relative test error = 12.4178 %\n"
     ]
    },
    {
     "name": "stderr",
     "output_type": "stream",
     "text": [
      "100%|██████████████████████████████████████████████████████████████████████████████████████████████████████████████████████████████████████████████████████████████████████| 23/23 [00:00<00:00, 315.64it/s]"
     ]
    },
    {
     "name": "stdout",
     "output_type": "stream",
     "text": [
      " loss = 0.2527\n"
     ]
    },
    {
     "name": "stderr",
     "output_type": "stream",
     "text": [
      "\n"
     ]
    },
    {
     "name": "stdout",
     "output_type": "stream",
     "text": [
      "Relative training error = 10.1393 %\n",
      "Relative test error = 11.1241 %\n"
     ]
    },
    {
     "name": "stderr",
     "output_type": "stream",
     "text": [
      "  0%|                                                                                                                                                                                | 0/23 [00:00<?, ?it/s]"
     ]
    },
    {
     "name": "stdout",
     "output_type": "stream",
     "text": [
      " loss = 0.1645\n"
     ]
    },
    {
     "name": "stderr",
     "output_type": "stream",
     "text": [
      "100%|██████████████████████████████████████████████████████████████████████████████████████████████████████████████████████████████████████████████████████████████████████| 23/23 [00:00<00:00, 332.72it/s]\n"
     ]
    },
    {
     "name": "stdout",
     "output_type": "stream",
     "text": [
      "Relative training error = 9.4149 %\n",
      "Relative test error = 10.4292 %\n"
     ]
    },
    {
     "name": "stderr",
     "output_type": "stream",
     "text": [
      "  0%|                                                                                                                                                                                | 0/23 [00:00<?, ?it/s]"
     ]
    },
    {
     "name": "stdout",
     "output_type": "stream",
     "text": [
      " loss = 0.2282\n"
     ]
    },
    {
     "name": "stderr",
     "output_type": "stream",
     "text": [
      "100%|██████████████████████████████████████████████████████████████████████████████████████████████████████████████████████████████████████████████████████████████████████| 23/23 [00:00<00:00, 352.96it/s]\n"
     ]
    },
    {
     "name": "stdout",
     "output_type": "stream",
     "text": [
      "Relative training error = 8.8353 %\n",
      "Relative test error = 9.6154 %\n"
     ]
    },
    {
     "name": "stderr",
     "output_type": "stream",
     "text": [
      "  0%|                                                                                                                                                                                | 0/23 [00:00<?, ?it/s]"
     ]
    },
    {
     "name": "stdout",
     "output_type": "stream",
     "text": [
      " loss = 0.0835\n"
     ]
    },
    {
     "name": "stderr",
     "output_type": "stream",
     "text": [
      "100%|██████████████████████████████████████████████████████████████████████████████████████████████████████████████████████████████████████████████████████████████████████| 23/23 [00:00<00:00, 323.36it/s]\n"
     ]
    },
    {
     "name": "stdout",
     "output_type": "stream",
     "text": [
      "Relative training error = 8.5370 %\n",
      "Relative test error = 9.3794 %\n"
     ]
    },
    {
     "name": "stderr",
     "output_type": "stream",
     "text": [
      "  0%|                                                                                                                                                                                | 0/23 [00:00<?, ?it/s]"
     ]
    },
    {
     "name": "stdout",
     "output_type": "stream",
     "text": [
      " loss = 0.1432\n"
     ]
    },
    {
     "name": "stderr",
     "output_type": "stream",
     "text": [
      "100%|██████████████████████████████████████████████████████████████████████████████████████████████████████████████████████████████████████████████████████████████████████| 23/23 [00:00<00:00, 332.83it/s]\n"
     ]
    },
    {
     "name": "stdout",
     "output_type": "stream",
     "text": [
      "Relative training error = 8.4306 %\n",
      "Relative test error = 9.2845 %\n"
     ]
    },
    {
     "name": "stderr",
     "output_type": "stream",
     "text": [
      "  0%|                                                                                                                                                                                | 0/23 [00:00<?, ?it/s]"
     ]
    },
    {
     "name": "stdout",
     "output_type": "stream",
     "text": [
      " loss = 0.1377\n"
     ]
    },
    {
     "name": "stderr",
     "output_type": "stream",
     "text": [
      "100%|██████████████████████████████████████████████████████████████████████████████████████████████████████████████████████████████████████████████████████████████████████| 23/23 [00:00<00:00, 338.86it/s]\n"
     ]
    },
    {
     "name": "stdout",
     "output_type": "stream",
     "text": [
      "Relative training error = 8.3344 %\n",
      "Relative test error = 9.0928 %\n"
     ]
    },
    {
     "name": "stderr",
     "output_type": "stream",
     "text": [
      "  0%|                                                                                                                                                                                | 0/23 [00:00<?, ?it/s]"
     ]
    },
    {
     "name": "stdout",
     "output_type": "stream",
     "text": [
      " loss = 0.1707\n"
     ]
    },
    {
     "name": "stderr",
     "output_type": "stream",
     "text": [
      "100%|██████████████████████████████████████████████████████████████████████████████████████████████████████████████████████████████████████████████████████████████████████| 23/23 [00:00<00:00, 342.05it/s]\n"
     ]
    },
    {
     "name": "stdout",
     "output_type": "stream",
     "text": [
      "Relative training error = 8.2812 %\n",
      "Relative test error = 9.7433 %\n"
     ]
    },
    {
     "name": "stderr",
     "output_type": "stream",
     "text": [
      "  0%|                                                                                                                                                                                | 0/23 [00:00<?, ?it/s]"
     ]
    },
    {
     "name": "stdout",
     "output_type": "stream",
     "text": [
      " loss = 0.1143\n"
     ]
    },
    {
     "name": "stderr",
     "output_type": "stream",
     "text": [
      "100%|██████████████████████████████████████████████████████████████████████████████████████████████████████████████████████████████████████████████████████████████████████| 23/23 [00:00<00:00, 337.35it/s]\n"
     ]
    },
    {
     "name": "stdout",
     "output_type": "stream",
     "text": [
      "Relative training error = 8.2328 %\n",
      "Relative test error = 9.6475 %\n"
     ]
    },
    {
     "name": "stderr",
     "output_type": "stream",
     "text": [
      "  0%|                                                                                                                                                                                | 0/23 [00:00<?, ?it/s]"
     ]
    },
    {
     "name": "stdout",
     "output_type": "stream",
     "text": [
      " loss = 0.1357\n"
     ]
    },
    {
     "name": "stderr",
     "output_type": "stream",
     "text": [
      "100%|██████████████████████████████████████████████████████████████████████████████████████████████████████████████████████████████████████████████████████████████████████| 23/23 [00:00<00:00, 316.39it/s]\n"
     ]
    },
    {
     "name": "stdout",
     "output_type": "stream",
     "text": [
      "Relative training error = 8.1621 %\n",
      "Relative test error = 9.6727 %\n"
     ]
    },
    {
     "name": "stderr",
     "output_type": "stream",
     "text": [
      "  0%|                                                                                                                                                                                | 0/23 [00:00<?, ?it/s]"
     ]
    },
    {
     "name": "stdout",
     "output_type": "stream",
     "text": [
      " loss = 0.0817\n"
     ]
    },
    {
     "name": "stderr",
     "output_type": "stream",
     "text": [
      "100%|██████████████████████████████████████████████████████████████████████████████████████████████████████████████████████████████████████████████████████████████████████| 23/23 [00:00<00:00, 391.67it/s]\n"
     ]
    },
    {
     "name": "stdout",
     "output_type": "stream",
     "text": [
      "Relative training error = 8.1167 %\n",
      "Relative test error = 9.7729 %\n",
      "Creating DAS_analysis object\n",
      "[-0.01079496 -0.00636261 -0.00472965  0.00829344 -0.03315033  0.01000517\n",
      " -0.03147244  0.01236407 -0.02684816  0.00736422 -0.01663265 -0.00670413\n",
      "  0.01756466 -0.01872044  0.02313004 -0.03355007  0.0332702  -0.02308934\n",
      " -0.04141354  0.01600002 -0.00833672  0.01130101  0.00841153  0.0035773\n",
      "  0.00450807  0.03616873  0.00554306  0.01251749 -0.00332135  0.01660203\n",
      "  0.00364524 -0.00423356 -0.01502233  0.00553334  0.00909886  0.03581746\n",
      " -0.01612826 -0.01689578 -0.00544872 -0.0257047  -0.0020281  -0.00491286\n",
      " -0.01851041 -0.00295021 -0.01707543  0.01278958 -0.03309115 -0.03378421\n",
      "  0.02105434 -0.024914    0.01355151  0.0347159   0.00949286 -0.01157946\n",
      " -0.02779381  0.01103345  0.05014661 -0.0388591   0.03466138 -0.03282935\n",
      "  0.01334391 -0.02446218  0.00617272  0.02966007 -0.0113076  -0.02121396\n",
      " -0.02654688 -0.02603522  0.00742446  0.0033779  -0.03955923 -0.02515224\n",
      " -0.00983606 -0.03146489 -0.02662707  0.00106644 -0.01827304 -0.01481842\n",
      "  0.00496895 -0.01752653  0.02289294  0.02491585 -0.05154504 -0.0153165\n",
      " -0.02955348 -0.01164796  0.00169125  0.00708391  0.00424188 -0.0170783\n",
      " -0.02926962  0.01683864 -0.03211833  0.04620026  0.02204849  0.03711775\n",
      " -0.02703611 -0.02134703 -0.01017228 -0.02460535 -0.00175839  0.00900341\n",
      "  0.0066653   0.02126546 -0.00704159 -0.02525979  0.04929931  0.03000105\n",
      "  0.00056224  0.02727065  0.00672098 -0.02266489 -0.03778072 -0.0143658\n",
      " -0.06977009 -0.00184082  0.03251847  0.00536228  0.00780703  0.00351171\n",
      " -0.001558    0.00453452  0.01956437  0.00755578 -0.00347596 -0.02544811\n",
      " -0.00691871  0.0184323  -0.00946686  0.01644332 -0.00717298 -0.00091536\n",
      " -0.00513515 -0.00200119 -0.00781267  0.03063803  0.00576488 -0.00229528\n",
      "  0.02318851  0.0245067  -0.02252075 -0.01338904  0.0351502  -0.00802465\n",
      " -0.02688461 -0.01285858 -0.04307223  0.01796226 -0.00352158 -0.02649279\n",
      " -0.02409055  0.01353839 -0.01250318  0.00313297  0.01588277  0.01109347\n",
      " -0.00357092  0.00296899  0.00483943 -0.03099188 -0.01898565  0.02774835\n",
      " -0.03559913 -0.0050307   0.0044001   0.13017571 -0.01762796]\n",
      "Parameters ordered from most to least important:\n",
      "[[141 149 165 153 150 151 142  17 137  15 113 154 109 138  10  27  95  73\n",
      "   39 163 107 115  36  94 164  99 155  93  41  85 127  21  29 130  68 156\n",
      "   97 159 117  57  24  53 166 105  75  33  87  40 152  83  30 120 161  78\n",
      "  110  23  28 124  48 140  61  49 158 106 162 123  22  55  47  18  13  45\n",
      "   26  63  52  66 108 139  59 135   7 148  44 112  56  79 147  84   4 111\n",
      "  146  82 122  19  31  35  51  76  60  72 132   5   2 101 136 134 100  54\n",
      "   96 133   9  20 143 144  58  37 160 157  98  81  69  80  42  32   8  38\n",
      "  103  86  62  25  14  64  90  67  46   0 116 114  74  34  16  12 129  65\n",
      "   43  91  92 125 145   6   1  50 126 104  77 118 128  88   3  71 119  70\n",
      "  121  89 131  11 102]]\n",
      "Creating DAS_Surrogate Object\n",
      "Creating Feature Engineering object\n",
      "Using  662/662 samples to train the ML model\n",
      "===============================\n",
      "Neural net parameters\n",
      "===============================\n",
      "Number of layers = 3\n",
      "Number of features = 167\n",
      "Loss function = squared\n",
      "Number of neurons per hidden layer = 20\n",
      "Number of output neurons = 1\n",
      "Activation = ['linear', 'linear', 'tanh', 'linear']\n",
      "This neural network has 228 weights.\n",
      "===============================\n",
      "===============================\n",
      "Training Deep Active Subspace Neural Network...\n"
     ]
    },
    {
     "name": "stderr",
     "output_type": "stream",
     "text": [
      "100%|██████████████████████████████████████████████████████████████████████████████████████████████████████████████████████████████████████████████████████████████████████| 23/23 [00:00<00:00, 448.44it/s]"
     ]
    },
    {
     "name": "stdout",
     "output_type": "stream",
     "text": [
      " loss = 1.3773\n"
     ]
    },
    {
     "name": "stderr",
     "output_type": "stream",
     "text": [
      "\n"
     ]
    },
    {
     "name": "stdout",
     "output_type": "stream",
     "text": [
      "Relative training error = 23.2565 %\n",
      "Relative test error = 22.9413 %\n"
     ]
    },
    {
     "name": "stderr",
     "output_type": "stream",
     "text": [
      "100%|██████████████████████████████████████████████████████████████████████████████████████████████████████████████████████████████████████████████████████████████████████| 23/23 [00:00<00:00, 406.36it/s]"
     ]
    },
    {
     "name": "stdout",
     "output_type": "stream",
     "text": [
      " loss = 0.6589\n"
     ]
    },
    {
     "name": "stderr",
     "output_type": "stream",
     "text": [
      "\n"
     ]
    },
    {
     "name": "stdout",
     "output_type": "stream",
     "text": [
      "Relative training error = 21.9628 %\n",
      "Relative test error = 22.5993 %\n"
     ]
    },
    {
     "name": "stderr",
     "output_type": "stream",
     "text": [
      "100%|██████████████████████████████████████████████████████████████████████████████████████████████████████████████████████████████████████████████████████████████████████| 23/23 [00:00<00:00, 406.00it/s]"
     ]
    },
    {
     "name": "stdout",
     "output_type": "stream",
     "text": [
      " loss = 0.8945\n"
     ]
    },
    {
     "name": "stderr",
     "output_type": "stream",
     "text": [
      "\n"
     ]
    },
    {
     "name": "stdout",
     "output_type": "stream",
     "text": [
      "Relative training error = 19.5609 %\n",
      "Relative test error = 22.1415 %\n"
     ]
    },
    {
     "name": "stderr",
     "output_type": "stream",
     "text": [
      "  0%|                                                                                                                                                                                | 0/23 [00:00<?, ?it/s]"
     ]
    },
    {
     "name": "stdout",
     "output_type": "stream",
     "text": [
      " loss = 0.7517\n"
     ]
    },
    {
     "name": "stderr",
     "output_type": "stream",
     "text": [
      "100%|██████████████████████████████████████████████████████████████████████████████████████████████████████████████████████████████████████████████████████████████████████| 23/23 [00:00<00:00, 404.04it/s]\n"
     ]
    },
    {
     "name": "stdout",
     "output_type": "stream",
     "text": [
      "Relative training error = 17.0017 %\n",
      "Relative test error = 20.5399 %\n"
     ]
    },
    {
     "name": "stderr",
     "output_type": "stream",
     "text": [
      "100%|██████████████████████████████████████████████████████████████████████████████████████████████████████████████████████████████████████████████████████████████████████| 23/23 [00:00<00:00, 425.51it/s]"
     ]
    },
    {
     "name": "stdout",
     "output_type": "stream",
     "text": [
      " loss = 0.4655\n"
     ]
    },
    {
     "name": "stderr",
     "output_type": "stream",
     "text": [
      "\n"
     ]
    },
    {
     "name": "stdout",
     "output_type": "stream",
     "text": [
      "Relative training error = 14.5132 %\n",
      "Relative test error = 18.3266 %\n"
     ]
    },
    {
     "name": "stderr",
     "output_type": "stream",
     "text": [
      "100%|██████████████████████████████████████████████████████████████████████████████████████████████████████████████████████████████████████████████████████████████████████| 23/23 [00:00<00:00, 423.77it/s]"
     ]
    },
    {
     "name": "stdout",
     "output_type": "stream",
     "text": [
      " loss = 0.5258\n"
     ]
    },
    {
     "name": "stderr",
     "output_type": "stream",
     "text": [
      "\n"
     ]
    },
    {
     "name": "stdout",
     "output_type": "stream",
     "text": [
      "Relative training error = 12.4677 %\n",
      "Relative test error = 15.7618 %\n"
     ]
    },
    {
     "name": "stderr",
     "output_type": "stream",
     "text": [
      "  0%|                                                                                                                                                                                | 0/23 [00:00<?, ?it/s]"
     ]
    },
    {
     "name": "stdout",
     "output_type": "stream",
     "text": [
      " loss = 0.2180\n"
     ]
    },
    {
     "name": "stderr",
     "output_type": "stream",
     "text": [
      "100%|██████████████████████████████████████████████████████████████████████████████████████████████████████████████████████████████████████████████████████████████████████| 23/23 [00:00<00:00, 259.64it/s]\n"
     ]
    },
    {
     "name": "stdout",
     "output_type": "stream",
     "text": [
      "Relative training error = 11.0276 %\n",
      "Relative test error = 13.2919 %\n"
     ]
    },
    {
     "name": "stderr",
     "output_type": "stream",
     "text": [
      "  0%|                                                                                                                                                                                | 0/23 [00:00<?, ?it/s]"
     ]
    },
    {
     "name": "stdout",
     "output_type": "stream",
     "text": [
      " loss = 0.2733\n"
     ]
    },
    {
     "name": "stderr",
     "output_type": "stream",
     "text": [
      "100%|██████████████████████████████████████████████████████████████████████████████████████████████████████████████████████████████████████████████████████████████████████| 23/23 [00:00<00:00, 344.98it/s]\n"
     ]
    },
    {
     "name": "stdout",
     "output_type": "stream",
     "text": [
      "Relative training error = 9.9657 %\n",
      "Relative test error = 11.5277 %\n"
     ]
    },
    {
     "name": "stderr",
     "output_type": "stream",
     "text": [
      "100%|██████████████████████████████████████████████████████████████████████████████████████████████████████████████████████████████████████████████████████████████████████| 23/23 [00:00<00:00, 402.79it/s]"
     ]
    },
    {
     "name": "stdout",
     "output_type": "stream",
     "text": [
      " loss = 0.3193\n"
     ]
    },
    {
     "name": "stderr",
     "output_type": "stream",
     "text": [
      "\n"
     ]
    },
    {
     "name": "stdout",
     "output_type": "stream",
     "text": [
      "Relative training error = 9.3066 %\n",
      "Relative test error = 11.1053 %\n"
     ]
    },
    {
     "name": "stderr",
     "output_type": "stream",
     "text": [
      "100%|██████████████████████████████████████████████████████████████████████████████████████████████████████████████████████████████████████████████████████████████████████| 23/23 [00:00<00:00, 426.49it/s]"
     ]
    },
    {
     "name": "stdout",
     "output_type": "stream",
     "text": [
      " loss = 0.2157\n"
     ]
    },
    {
     "name": "stderr",
     "output_type": "stream",
     "text": [
      "\n"
     ]
    },
    {
     "name": "stdout",
     "output_type": "stream",
     "text": [
      "Relative training error = 8.9623 %\n",
      "Relative test error = 10.8573 %\n"
     ]
    },
    {
     "name": "stderr",
     "output_type": "stream",
     "text": [
      "  0%|                                                                                                                                                                                | 0/23 [00:00<?, ?it/s]"
     ]
    },
    {
     "name": "stdout",
     "output_type": "stream",
     "text": [
      " loss = 0.1866\n"
     ]
    },
    {
     "name": "stderr",
     "output_type": "stream",
     "text": [
      "100%|██████████████████████████████████████████████████████████████████████████████████████████████████████████████████████████████████████████████████████████████████████| 23/23 [00:00<00:00, 342.78it/s]\n"
     ]
    },
    {
     "name": "stdout",
     "output_type": "stream",
     "text": [
      "Relative training error = 8.6914 %\n",
      "Relative test error = 10.4432 %\n"
     ]
    },
    {
     "name": "stderr",
     "output_type": "stream",
     "text": [
      "  0%|                                                                                                                                                                                | 0/23 [00:00<?, ?it/s]"
     ]
    },
    {
     "name": "stdout",
     "output_type": "stream",
     "text": [
      " loss = 0.1352\n"
     ]
    },
    {
     "name": "stderr",
     "output_type": "stream",
     "text": [
      "100%|██████████████████████████████████████████████████████████████████████████████████████████████████████████████████████████████████████████████████████████████████████| 23/23 [00:00<00:00, 199.86it/s]\n"
     ]
    },
    {
     "name": "stdout",
     "output_type": "stream",
     "text": [
      "Relative training error = 8.5141 %\n",
      "Relative test error = 10.2533 %\n"
     ]
    },
    {
     "name": "stderr",
     "output_type": "stream",
     "text": [
      "100%|██████████████████████████████████████████████████████████████████████████████████████████████████████████████████████████████████████████████████████████████████████| 23/23 [00:00<00:00, 326.13it/s]\n"
     ]
    },
    {
     "name": "stdout",
     "output_type": "stream",
     "text": [
      " loss = 0.0991\n",
      "Relative training error = 8.4174 %\n",
      "Relative test error = 10.2743 %\n"
     ]
    },
    {
     "name": "stderr",
     "output_type": "stream",
     "text": [
      "100%|██████████████████████████████████████████████████████████████████████████████████████████████████████████████████████████████████████████████████████████████████████| 23/23 [00:00<00:00, 309.44it/s]\n"
     ]
    },
    {
     "name": "stdout",
     "output_type": "stream",
     "text": [
      " loss = 0.1685\n",
      "Relative training error = 8.3603 %\n",
      "Relative test error = 10.0373 %\n"
     ]
    },
    {
     "name": "stderr",
     "output_type": "stream",
     "text": [
      "  0%|                                                                                                                                                                                | 0/23 [00:00<?, ?it/s]"
     ]
    },
    {
     "name": "stdout",
     "output_type": "stream",
     "text": [
      " loss = 0.1411\n"
     ]
    },
    {
     "name": "stderr",
     "output_type": "stream",
     "text": [
      "100%|██████████████████████████████████████████████████████████████████████████████████████████████████████████████████████████████████████████████████████████████████████| 23/23 [00:00<00:00, 289.48it/s]\n"
     ]
    },
    {
     "name": "stdout",
     "output_type": "stream",
     "text": [
      "Relative training error = 8.2477 %\n",
      "Relative test error = 9.5526 %\n"
     ]
    },
    {
     "name": "stderr",
     "output_type": "stream",
     "text": [
      "  0%|                                                                                                                                                                                | 0/23 [00:00<?, ?it/s]"
     ]
    },
    {
     "name": "stdout",
     "output_type": "stream",
     "text": [
      " loss = 0.1511\n"
     ]
    },
    {
     "name": "stderr",
     "output_type": "stream",
     "text": [
      "100%|██████████████████████████████████████████████████████████████████████████████████████████████████████████████████████████████████████████████████████████████████████| 23/23 [00:00<00:00, 308.63it/s]\n"
     ]
    },
    {
     "name": "stdout",
     "output_type": "stream",
     "text": [
      "Relative training error = 8.2035 %\n",
      "Relative test error = 9.6246 %\n"
     ]
    },
    {
     "name": "stderr",
     "output_type": "stream",
     "text": [
      "  0%|                                                                                                                                                                                | 0/23 [00:00<?, ?it/s]"
     ]
    },
    {
     "name": "stdout",
     "output_type": "stream",
     "text": [
      " loss = 0.0838\n"
     ]
    },
    {
     "name": "stderr",
     "output_type": "stream",
     "text": [
      "100%|██████████████████████████████████████████████████████████████████████████████████████████████████████████████████████████████████████████████████████████████████████| 23/23 [00:00<00:00, 359.04it/s]\n"
     ]
    },
    {
     "name": "stdout",
     "output_type": "stream",
     "text": [
      "Relative training error = 8.1750 %\n",
      "Relative test error = 9.7732 %\n"
     ]
    },
    {
     "name": "stderr",
     "output_type": "stream",
     "text": [
      "  0%|                                                                                                                                                                                | 0/23 [00:00<?, ?it/s]"
     ]
    },
    {
     "name": "stdout",
     "output_type": "stream",
     "text": [
      " loss = 0.1172\n"
     ]
    },
    {
     "name": "stderr",
     "output_type": "stream",
     "text": [
      "100%|██████████████████████████████████████████████████████████████████████████████████████████████████████████████████████████████████████████████████████████████████████| 23/23 [00:00<00:00, 395.72it/s]\n"
     ]
    },
    {
     "name": "stdout",
     "output_type": "stream",
     "text": [
      "Relative training error = 8.1477 %\n",
      "Relative test error = 9.9976 %\n"
     ]
    },
    {
     "name": "stderr",
     "output_type": "stream",
     "text": [
      "  0%|                                                                                                                                                                                | 0/23 [00:00<?, ?it/s]"
     ]
    },
    {
     "name": "stdout",
     "output_type": "stream",
     "text": [
      " loss = 0.1208\n"
     ]
    },
    {
     "name": "stderr",
     "output_type": "stream",
     "text": [
      "100%|██████████████████████████████████████████████████████████████████████████████████████████████████████████████████████████████████████████████████████████████████████| 23/23 [00:00<00:00, 381.44it/s]\n"
     ]
    },
    {
     "name": "stdout",
     "output_type": "stream",
     "text": [
      "Relative training error = 8.1744 %\n",
      "Relative test error = 10.2068 %\n",
      "Creating DAS_analysis object\n",
      "[-0.01079496 -0.00636261 -0.00472965  0.00829344 -0.03315033  0.01000517\n",
      " -0.03147244  0.01236407 -0.02684816  0.00736422 -0.01663265 -0.00670413\n",
      "  0.01756466 -0.01872044  0.02313004 -0.03355007  0.0332702  -0.02308934\n",
      " -0.04141354  0.01600002 -0.00833672  0.01130101  0.00841153  0.0035773\n",
      "  0.00450807  0.03616873  0.00554306  0.01251749 -0.00332135  0.01660203\n",
      "  0.00364524 -0.00423356 -0.01502233  0.00553334  0.00909886  0.03581746\n",
      " -0.01612826 -0.01689578 -0.00544872 -0.0257047  -0.0020281  -0.00491286\n",
      " -0.01851041 -0.00295021 -0.01707543  0.01278958 -0.03309115 -0.03378421\n",
      "  0.02105434 -0.024914    0.01355151  0.0347159   0.00949286 -0.01157946\n",
      " -0.02779381  0.01103345  0.05014661 -0.0388591   0.03466138 -0.03282935\n",
      "  0.01334391 -0.02446218  0.00617272  0.02966007 -0.0113076  -0.02121396\n",
      " -0.02654688 -0.02603522  0.00742446  0.0033779  -0.03955923 -0.02515224\n",
      " -0.00983606 -0.03146489 -0.02662707  0.00106644 -0.01827304 -0.01481842\n",
      "  0.00496895 -0.01752653  0.02289294  0.02491585 -0.05154504 -0.0153165\n",
      " -0.02955348 -0.01164796  0.00169125  0.00708391  0.00424188 -0.0170783\n",
      " -0.02926962  0.01683864 -0.03211833  0.04620026  0.02204849  0.03711775\n",
      " -0.02703611 -0.02134703 -0.01017228 -0.02460535 -0.00175839  0.00900341\n",
      "  0.0066653   0.02126546 -0.00704159 -0.02525979  0.04929931  0.03000105\n",
      "  0.00056224  0.02727065  0.00672098 -0.02266489 -0.03778072 -0.0143658\n",
      " -0.06977009 -0.00184082  0.03251847  0.00536228  0.00780703  0.00351171\n",
      " -0.001558    0.00453452  0.01956437  0.00755578 -0.00347596 -0.02544811\n",
      " -0.00691871  0.0184323  -0.00946686  0.01644332 -0.00717298 -0.00091536\n",
      " -0.00513515 -0.00200119 -0.00781267  0.03063803  0.00576488 -0.00229528\n",
      "  0.02318851  0.0245067  -0.02252075 -0.01338904  0.0351502  -0.00802465\n",
      " -0.02688461 -0.01285858 -0.04307223  0.01796226 -0.00352158 -0.02649279\n",
      " -0.02409055  0.01353839 -0.01250318  0.00313297  0.01588277  0.01109347\n",
      " -0.00357092  0.00296899  0.00483943 -0.03099188 -0.01898565  0.02774835\n",
      " -0.03559913 -0.0050307   0.0044001   0.13017571 -0.01762796]\n",
      "Parameters ordered from most to least important:\n",
      "[[141 149 165 150 151 153 142  17 137  15 113 107 154 109  39  95  36 163\n",
      "   27  73 138  41  85  57 166  93  53  75  10 108  94  87  68  21  56 115\n",
      "   79 123 159 164 152  29 133 120 139 140 130  30  99  28  52  18  83 156\n",
      "  117 155 162 129  47 106  46  49 146 105  19  65  77 112 100  48  23  86\n",
      "  101  38   4  16 118  61 161  82 127   5  69  33  59 145 110  12 134  26\n",
      "  136  13  64  80  96 111  31  25   6  97 148  11  40 104 135  91 124 143\n",
      "   66  71   9  74  14  70   2 158   3 121 122  60  44  45  51  76  22  58\n",
      "   55 147  81  42   1  54  35  37 157 128 119  72   7 126  62  24 125 103\n",
      "   63  32 132  67  20   0  90  50  88  43 160 114 102  78  92   8  84  34\n",
      "  144  89 131  98 116]]\n",
      "Creating DAS_Surrogate Object\n",
      "Creating Feature Engineering object\n",
      "Using  662/662 samples to train the ML model\n",
      "===============================\n",
      "Neural net parameters\n",
      "===============================\n",
      "Number of layers = 3\n",
      "Number of features = 167\n",
      "Loss function = squared\n",
      "Number of neurons per hidden layer = 20\n",
      "Number of output neurons = 1\n",
      "Activation = ['linear', 'linear', 'tanh', 'linear']\n",
      "This neural network has 228 weights.\n",
      "===============================\n",
      "===============================\n",
      "Training Deep Active Subspace Neural Network...\n"
     ]
    },
    {
     "name": "stderr",
     "output_type": "stream",
     "text": [
      "  0%|                                                                                                                                                                                | 0/23 [00:00<?, ?it/s]"
     ]
    },
    {
     "name": "stdout",
     "output_type": "stream",
     "text": [
      " loss = 2.2137\n"
     ]
    },
    {
     "name": "stderr",
     "output_type": "stream",
     "text": [
      "100%|██████████████████████████████████████████████████████████████████████████████████████████████████████████████████████████████████████████████████████████████████████| 23/23 [00:00<00:00, 315.90it/s]\n"
     ]
    },
    {
     "name": "stdout",
     "output_type": "stream",
     "text": [
      "Relative training error = 22.8985 %\n",
      "Relative test error = 22.4135 %\n"
     ]
    },
    {
     "name": "stderr",
     "output_type": "stream",
     "text": [
      "100%|██████████████████████████████████████████████████████████████████████████████████████████████████████████████████████████████████████████████████████████████████████| 23/23 [00:00<00:00, 404.89it/s]\n"
     ]
    },
    {
     "name": "stdout",
     "output_type": "stream",
     "text": [
      " loss = 0.7356\n",
      "Relative training error = 19.0575 %\n",
      "Relative test error = 21.3852 %\n"
     ]
    },
    {
     "name": "stderr",
     "output_type": "stream",
     "text": [
      "  0%|                                                                                                                                                                                | 0/23 [00:00<?, ?it/s]"
     ]
    },
    {
     "name": "stdout",
     "output_type": "stream",
     "text": [
      " loss = 0.5577\n"
     ]
    },
    {
     "name": "stderr",
     "output_type": "stream",
     "text": [
      "100%|██████████████████████████████████████████████████████████████████████████████████████████████████████████████████████████████████████████████████████████████████████| 23/23 [00:00<00:00, 344.39it/s]\n"
     ]
    },
    {
     "name": "stdout",
     "output_type": "stream",
     "text": [
      "Relative training error = 14.8207 %\n",
      "Relative test error = 17.6679 %\n"
     ]
    },
    {
     "name": "stderr",
     "output_type": "stream",
     "text": [
      "  0%|                                                                                                                                                                                | 0/23 [00:00<?, ?it/s]"
     ]
    },
    {
     "name": "stdout",
     "output_type": "stream",
     "text": [
      " loss = 0.2356\n"
     ]
    },
    {
     "name": "stderr",
     "output_type": "stream",
     "text": [
      "100%|██████████████████████████████████████████████████████████████████████████████████████████████████████████████████████████████████████████████████████████████████████| 23/23 [00:00<00:00, 379.11it/s]\n"
     ]
    },
    {
     "name": "stdout",
     "output_type": "stream",
     "text": [
      "Relative training error = 11.8781 %\n",
      "Relative test error = 14.5390 %\n"
     ]
    },
    {
     "name": "stderr",
     "output_type": "stream",
     "text": [
      "  0%|                                                                                                                                                                                | 0/23 [00:00<?, ?it/s]"
     ]
    },
    {
     "name": "stdout",
     "output_type": "stream",
     "text": [
      " loss = 0.1880\n"
     ]
    },
    {
     "name": "stderr",
     "output_type": "stream",
     "text": [
      "100%|██████████████████████████████████████████████████████████████████████████████████████████████████████████████████████████████████████████████████████████████████████| 23/23 [00:00<00:00, 418.47it/s]\n"
     ]
    },
    {
     "name": "stdout",
     "output_type": "stream",
     "text": [
      "Relative training error = 10.2880 %\n",
      "Relative test error = 12.3046 %\n"
     ]
    },
    {
     "name": "stderr",
     "output_type": "stream",
     "text": [
      "  0%|                                                                                                                                                                                | 0/23 [00:00<?, ?it/s]"
     ]
    },
    {
     "name": "stdout",
     "output_type": "stream",
     "text": [
      " loss = 0.2258\n"
     ]
    },
    {
     "name": "stderr",
     "output_type": "stream",
     "text": [
      "100%|██████████████████████████████████████████████████████████████████████████████████████████████████████████████████████████████████████████████████████████████████████| 23/23 [00:00<00:00, 418.96it/s]\n"
     ]
    },
    {
     "name": "stdout",
     "output_type": "stream",
     "text": [
      "Relative training error = 9.3665 %\n",
      "Relative test error = 11.1374 %\n"
     ]
    },
    {
     "name": "stderr",
     "output_type": "stream",
     "text": [
      "100%|██████████████████████████████████████████████████████████████████████████████████████████████████████████████████████████████████████████████████████████████████████| 23/23 [00:00<00:00, 454.53it/s]"
     ]
    },
    {
     "name": "stdout",
     "output_type": "stream",
     "text": [
      " loss = 0.1926\n"
     ]
    },
    {
     "name": "stderr",
     "output_type": "stream",
     "text": [
      "\n"
     ]
    },
    {
     "name": "stdout",
     "output_type": "stream",
     "text": [
      "Relative training error = 9.0173 %\n",
      "Relative test error = 10.9735 %\n"
     ]
    },
    {
     "name": "stderr",
     "output_type": "stream",
     "text": [
      "100%|██████████████████████████████████████████████████████████████████████████████████████████████████████████████████████████████████████████████████████████████████████| 23/23 [00:00<00:00, 437.19it/s]"
     ]
    },
    {
     "name": "stdout",
     "output_type": "stream",
     "text": [
      " loss = 0.1362\n"
     ]
    },
    {
     "name": "stderr",
     "output_type": "stream",
     "text": [
      "\n"
     ]
    },
    {
     "name": "stdout",
     "output_type": "stream",
     "text": [
      "Relative training error = 8.7641 %\n",
      "Relative test error = 10.6302 %\n"
     ]
    },
    {
     "name": "stderr",
     "output_type": "stream",
     "text": [
      "100%|██████████████████████████████████████████████████████████████████████████████████████████████████████████████████████████████████████████████████████████████████████| 23/23 [00:00<00:00, 422.53it/s]"
     ]
    },
    {
     "name": "stdout",
     "output_type": "stream",
     "text": [
      " loss = 0.1006\n"
     ]
    },
    {
     "name": "stderr",
     "output_type": "stream",
     "text": [
      "\n"
     ]
    },
    {
     "name": "stdout",
     "output_type": "stream",
     "text": [
      "Relative training error = 8.5142 %\n",
      "Relative test error = 10.2767 %\n"
     ]
    },
    {
     "name": "stderr",
     "output_type": "stream",
     "text": [
      "100%|██████████████████████████████████████████████████████████████████████████████████████████████████████████████████████████████████████████████████████████████████████| 23/23 [00:00<00:00, 435.08it/s]"
     ]
    },
    {
     "name": "stdout",
     "output_type": "stream",
     "text": [
      " loss = 0.1110\n"
     ]
    },
    {
     "name": "stderr",
     "output_type": "stream",
     "text": [
      "\n"
     ]
    },
    {
     "name": "stdout",
     "output_type": "stream",
     "text": [
      "Relative training error = 8.4088 %\n",
      "Relative test error = 9.9496 %\n"
     ]
    },
    {
     "name": "stderr",
     "output_type": "stream",
     "text": [
      "100%|██████████████████████████████████████████████████████████████████████████████████████████████████████████████████████████████████████████████████████████████████████| 23/23 [00:00<00:00, 417.49it/s]"
     ]
    },
    {
     "name": "stdout",
     "output_type": "stream",
     "text": [
      " loss = 0.1454\n"
     ]
    },
    {
     "name": "stderr",
     "output_type": "stream",
     "text": [
      "\n"
     ]
    },
    {
     "name": "stdout",
     "output_type": "stream",
     "text": [
      "Relative training error = 8.3461 %\n",
      "Relative test error = 9.4863 %\n"
     ]
    },
    {
     "name": "stderr",
     "output_type": "stream",
     "text": [
      "  0%|                                                                                                                                                                                | 0/23 [00:00<?, ?it/s]"
     ]
    },
    {
     "name": "stdout",
     "output_type": "stream",
     "text": [
      " loss = 0.1487\n"
     ]
    },
    {
     "name": "stderr",
     "output_type": "stream",
     "text": [
      "100%|██████████████████████████████████████████████████████████████████████████████████████████████████████████████████████████████████████████████████████████████████████| 23/23 [00:00<00:00, 460.79it/s]\n"
     ]
    },
    {
     "name": "stdout",
     "output_type": "stream",
     "text": [
      "Relative training error = 8.3126 %\n",
      "Relative test error = 9.7939 %\n"
     ]
    },
    {
     "name": "stderr",
     "output_type": "stream",
     "text": [
      "  0%|                                                                                                                                                                                | 0/23 [00:00<?, ?it/s]"
     ]
    },
    {
     "name": "stdout",
     "output_type": "stream",
     "text": [
      " loss = 0.1357\n"
     ]
    },
    {
     "name": "stderr",
     "output_type": "stream",
     "text": [
      "100%|██████████████████████████████████████████████████████████████████████████████████████████████████████████████████████████████████████████████████████████████████████| 23/23 [00:00<00:00, 360.00it/s]\n"
     ]
    },
    {
     "name": "stdout",
     "output_type": "stream",
     "text": [
      "Relative training error = 8.3258 %\n",
      "Relative test error = 9.5058 %\n"
     ]
    },
    {
     "name": "stderr",
     "output_type": "stream",
     "text": [
      "  0%|                                                                                                                                                                                | 0/23 [00:00<?, ?it/s]"
     ]
    },
    {
     "name": "stdout",
     "output_type": "stream",
     "text": [
      " loss = 0.1584\n"
     ]
    },
    {
     "name": "stderr",
     "output_type": "stream",
     "text": [
      "100%|██████████████████████████████████████████████████████████████████████████████████████████████████████████████████████████████████████████████████████████████████████| 23/23 [00:00<00:00, 379.37it/s]\n"
     ]
    },
    {
     "name": "stdout",
     "output_type": "stream",
     "text": [
      "Relative training error = 8.2559 %\n",
      "Relative test error = 9.8996 %\n"
     ]
    },
    {
     "name": "stderr",
     "output_type": "stream",
     "text": [
      "  0%|                                                                                                                                                                                | 0/23 [00:00<?, ?it/s]"
     ]
    },
    {
     "name": "stdout",
     "output_type": "stream",
     "text": [
      " loss = 0.1094\n"
     ]
    },
    {
     "name": "stderr",
     "output_type": "stream",
     "text": [
      "100%|██████████████████████████████████████████████████████████████████████████████████████████████████████████████████████████████████████████████████████████████████████| 23/23 [00:00<00:00, 360.99it/s]\n"
     ]
    },
    {
     "name": "stdout",
     "output_type": "stream",
     "text": [
      "Relative training error = 8.2375 %\n",
      "Relative test error = 9.8064 %\n"
     ]
    },
    {
     "name": "stderr",
     "output_type": "stream",
     "text": [
      "  0%|                                                                                                                                                                                | 0/23 [00:00<?, ?it/s]"
     ]
    },
    {
     "name": "stdout",
     "output_type": "stream",
     "text": [
      " loss = 0.1172\n"
     ]
    },
    {
     "name": "stderr",
     "output_type": "stream",
     "text": [
      "100%|██████████████████████████████████████████████████████████████████████████████████████████████████████████████████████████████████████████████████████████████████████| 23/23 [00:00<00:00, 392.85it/s]\n"
     ]
    },
    {
     "name": "stdout",
     "output_type": "stream",
     "text": [
      "Relative training error = 8.2064 %\n",
      "Relative test error = 9.8336 %\n"
     ]
    },
    {
     "name": "stderr",
     "output_type": "stream",
     "text": [
      "  0%|                                                                                                                                                                                | 0/23 [00:00<?, ?it/s]"
     ]
    },
    {
     "name": "stdout",
     "output_type": "stream",
     "text": [
      " loss = 0.1661\n"
     ]
    },
    {
     "name": "stderr",
     "output_type": "stream",
     "text": [
      "100%|██████████████████████████████████████████████████████████████████████████████████████████████████████████████████████████████████████████████████████████████████████| 23/23 [00:00<00:00, 331.82it/s]\n"
     ]
    },
    {
     "name": "stdout",
     "output_type": "stream",
     "text": [
      "Relative training error = 8.1519 %\n",
      "Relative test error = 9.7439 %\n",
      "Creating DAS_analysis object\n",
      "[-0.01079496 -0.00636261 -0.00472965  0.00829344 -0.03315033  0.01000517\n",
      " -0.03147244  0.01236407 -0.02684816  0.00736422 -0.01663265 -0.00670413\n",
      "  0.01756466 -0.01872044  0.02313004 -0.03355007  0.0332702  -0.02308934\n",
      " -0.04141354  0.01600002 -0.00833672  0.01130101  0.00841153  0.0035773\n",
      "  0.00450807  0.03616873  0.00554306  0.01251749 -0.00332135  0.01660203\n",
      "  0.00364524 -0.00423356 -0.01502233  0.00553334  0.00909886  0.03581746\n",
      " -0.01612826 -0.01689578 -0.00544872 -0.0257047  -0.0020281  -0.00491286\n",
      " -0.01851041 -0.00295021 -0.01707543  0.01278958 -0.03309115 -0.03378421\n",
      "  0.02105434 -0.024914    0.01355151  0.0347159   0.00949286 -0.01157946\n",
      " -0.02779381  0.01103345  0.05014661 -0.0388591   0.03466138 -0.03282935\n",
      "  0.01334391 -0.02446218  0.00617272  0.02966007 -0.0113076  -0.02121396\n",
      " -0.02654688 -0.02603522  0.00742446  0.0033779  -0.03955923 -0.02515224\n",
      " -0.00983606 -0.03146489 -0.02662707  0.00106644 -0.01827304 -0.01481842\n",
      "  0.00496895 -0.01752653  0.02289294  0.02491585 -0.05154504 -0.0153165\n",
      " -0.02955348 -0.01164796  0.00169125  0.00708391  0.00424188 -0.0170783\n",
      " -0.02926962  0.01683864 -0.03211833  0.04620026  0.02204849  0.03711775\n",
      " -0.02703611 -0.02134703 -0.01017228 -0.02460535 -0.00175839  0.00900341\n",
      "  0.0066653   0.02126546 -0.00704159 -0.02525979  0.04929931  0.03000105\n",
      "  0.00056224  0.02727065  0.00672098 -0.02266489 -0.03778072 -0.0143658\n",
      " -0.06977009 -0.00184082  0.03251847  0.00536228  0.00780703  0.00351171\n",
      " -0.001558    0.00453452  0.01956437  0.00755578 -0.00347596 -0.02544811\n",
      " -0.00691871  0.0184323  -0.00946686  0.01644332 -0.00717298 -0.00091536\n",
      " -0.00513515 -0.00200119 -0.00781267  0.03063803  0.00576488 -0.00229528\n",
      "  0.02318851  0.0245067  -0.02252075 -0.01338904  0.0351502  -0.00802465\n",
      " -0.02688461 -0.01285858 -0.04307223  0.01796226 -0.00352158 -0.02649279\n",
      " -0.02409055  0.01353839 -0.01250318  0.00313297  0.01588277  0.01109347\n",
      " -0.00357092  0.00296899  0.00483943 -0.03099188 -0.01898565  0.02774835\n",
      " -0.03559913 -0.0050307   0.0044001   0.13017571 -0.01762796]\n",
      "Parameters ordered from most to least important:\n",
      "[[141 149 165 150 153 151 142  17 137  15 113 109 154  27  73  95 138  41\n",
      "  107 163  10  39  53  85  29  28  57  79  36  94 164 166 115  68  30  87\n",
      "  152  18 117  99  82 105   1 155 148 159  37  75  83  52 120 106 161  61\n",
      "   97   4 139  62  74   5  55 162 100  93 108 158  66  86 134 130  21  46\n",
      "    6  59 131  54  80  70  16  26  42  22 110  60  40  23   0  48  92  98\n",
      "  118  47  24 133 146 129   9  33  77   3 124  50  67 145 135  51 102  91\n",
      "  156 112  49 114  72  20 116 157 140  69  65  84  63  45   2 126  38  14\n",
      "  147  78  64 132 123  19   7  25  58 104  32 127  31 101 143 125  88  81\n",
      "  111  13  90  76 119   8 121 103  35  89 144  44  43  56 136  96  12  34\n",
      "  122  11 128  71 160]]\n",
      "Creating DAS_Surrogate Object\n",
      "Creating Feature Engineering object\n",
      "Using  662/662 samples to train the ML model\n",
      "===============================\n",
      "Neural net parameters\n",
      "===============================\n",
      "Number of layers = 3\n",
      "Number of features = 167\n",
      "Loss function = squared\n",
      "Number of neurons per hidden layer = 20\n",
      "Number of output neurons = 1\n",
      "Activation = ['linear', 'linear', 'tanh', 'linear']\n",
      "This neural network has 228 weights.\n",
      "===============================\n",
      "===============================\n",
      "Training Deep Active Subspace Neural Network...\n"
     ]
    },
    {
     "name": "stderr",
     "output_type": "stream",
     "text": [
      "100%|██████████████████████████████████████████████████████████████████████████████████████████████████████████████████████████████████████████████████████████████████████| 23/23 [00:00<00:00, 406.97it/s]"
     ]
    },
    {
     "name": "stdout",
     "output_type": "stream",
     "text": [
      " loss = 0.8460\n"
     ]
    },
    {
     "name": "stderr",
     "output_type": "stream",
     "text": [
      "\n"
     ]
    },
    {
     "name": "stdout",
     "output_type": "stream",
     "text": [
      "Relative training error = 22.5075 %\n",
      "Relative test error = 22.3806 %\n"
     ]
    },
    {
     "name": "stderr",
     "output_type": "stream",
     "text": [
      "  0%|                                                                                                                                                                                | 0/23 [00:00<?, ?it/s]"
     ]
    },
    {
     "name": "stdout",
     "output_type": "stream",
     "text": [
      " loss = 0.8444\n"
     ]
    },
    {
     "name": "stderr",
     "output_type": "stream",
     "text": [
      "100%|██████████████████████████████████████████████████████████████████████████████████████████████████████████████████████████████████████████████████████████████████████| 23/23 [00:00<00:00, 314.11it/s]\n"
     ]
    },
    {
     "name": "stdout",
     "output_type": "stream",
     "text": [
      "Relative training error = 18.5191 %\n",
      "Relative test error = 20.4782 %\n"
     ]
    },
    {
     "name": "stderr",
     "output_type": "stream",
     "text": [
      "  0%|                                                                                                                                                                                | 0/23 [00:00<?, ?it/s]"
     ]
    },
    {
     "name": "stdout",
     "output_type": "stream",
     "text": [
      " loss = 0.6916\n"
     ]
    },
    {
     "name": "stderr",
     "output_type": "stream",
     "text": [
      "100%|██████████████████████████████████████████████████████████████████████████████████████████████████████████████████████████████████████████████████████████████████████| 23/23 [00:00<00:00, 246.36it/s]\n"
     ]
    },
    {
     "name": "stdout",
     "output_type": "stream",
     "text": [
      "Relative training error = 15.0733 %\n",
      "Relative test error = 18.1052 %\n"
     ]
    },
    {
     "name": "stderr",
     "output_type": "stream",
     "text": [
      "  0%|                                                                                                                                                                                | 0/23 [00:00<?, ?it/s]"
     ]
    },
    {
     "name": "stdout",
     "output_type": "stream",
     "text": [
      " loss = 0.5210\n"
     ]
    },
    {
     "name": "stderr",
     "output_type": "stream",
     "text": [
      "100%|██████████████████████████████████████████████████████████████████████████████████████████████████████████████████████████████████████████████████████████████████████| 23/23 [00:00<00:00, 362.13it/s]\n"
     ]
    },
    {
     "name": "stdout",
     "output_type": "stream",
     "text": [
      "Relative training error = 12.3138 %\n",
      "Relative test error = 15.7446 %\n"
     ]
    },
    {
     "name": "stderr",
     "output_type": "stream",
     "text": [
      "  0%|                                                                                                                                                                                | 0/23 [00:00<?, ?it/s]"
     ]
    },
    {
     "name": "stdout",
     "output_type": "stream",
     "text": [
      " loss = 0.2925\n"
     ]
    },
    {
     "name": "stderr",
     "output_type": "stream",
     "text": [
      "100%|██████████████████████████████████████████████████████████████████████████████████████████████████████████████████████████████████████████████████████████████████████| 23/23 [00:00<00:00, 298.57it/s]\n"
     ]
    },
    {
     "name": "stdout",
     "output_type": "stream",
     "text": [
      "Relative training error = 10.7086 %\n",
      "Relative test error = 13.3723 %\n"
     ]
    },
    {
     "name": "stderr",
     "output_type": "stream",
     "text": [
      "  0%|                                                                                                                                                                                | 0/23 [00:00<?, ?it/s]"
     ]
    },
    {
     "name": "stdout",
     "output_type": "stream",
     "text": [
      " loss = 0.1832\n"
     ]
    },
    {
     "name": "stderr",
     "output_type": "stream",
     "text": [
      "100%|██████████████████████████████████████████████████████████████████████████████████████████████████████████████████████████████████████████████████████████████████████| 23/23 [00:00<00:00, 310.54it/s]\n"
     ]
    },
    {
     "name": "stdout",
     "output_type": "stream",
     "text": [
      "Relative training error = 9.6934 %\n",
      "Relative test error = 12.3595 %\n"
     ]
    },
    {
     "name": "stderr",
     "output_type": "stream",
     "text": [
      "  0%|                                                                                                                                                                                | 0/23 [00:00<?, ?it/s]"
     ]
    },
    {
     "name": "stdout",
     "output_type": "stream",
     "text": [
      " loss = 0.1352\n"
     ]
    },
    {
     "name": "stderr",
     "output_type": "stream",
     "text": [
      "100%|██████████████████████████████████████████████████████████████████████████████████████████████████████████████████████████████████████████████████████████████████████| 23/23 [00:00<00:00, 335.01it/s]\n"
     ]
    },
    {
     "name": "stdout",
     "output_type": "stream",
     "text": [
      "Relative training error = 9.1884 %\n",
      "Relative test error = 11.7643 %\n"
     ]
    },
    {
     "name": "stderr",
     "output_type": "stream",
     "text": [
      "  0%|                                                                                                                                                                                | 0/23 [00:00<?, ?it/s]"
     ]
    },
    {
     "name": "stdout",
     "output_type": "stream",
     "text": [
      " loss = 0.1717\n"
     ]
    },
    {
     "name": "stderr",
     "output_type": "stream",
     "text": [
      "100%|██████████████████████████████████████████████████████████████████████████████████████████████████████████████████████████████████████████████████████████████████████| 23/23 [00:00<00:00, 334.80it/s]\n"
     ]
    },
    {
     "name": "stdout",
     "output_type": "stream",
     "text": [
      "Relative training error = 8.8259 %\n",
      "Relative test error = 10.5988 %\n"
     ]
    },
    {
     "name": "stderr",
     "output_type": "stream",
     "text": [
      "  0%|                                                                                                                                                                                | 0/23 [00:00<?, ?it/s]"
     ]
    },
    {
     "name": "stdout",
     "output_type": "stream",
     "text": [
      " loss = 0.0956\n"
     ]
    },
    {
     "name": "stderr",
     "output_type": "stream",
     "text": [
      "100%|██████████████████████████████████████████████████████████████████████████████████████████████████████████████████████████████████████████████████████████████████████| 23/23 [00:00<00:00, 357.28it/s]\n"
     ]
    },
    {
     "name": "stdout",
     "output_type": "stream",
     "text": [
      "Relative training error = 8.5195 %\n",
      "Relative test error = 10.3535 %\n"
     ]
    },
    {
     "name": "stderr",
     "output_type": "stream",
     "text": [
      "  0%|                                                                                                                                                                                | 0/23 [00:00<?, ?it/s]"
     ]
    },
    {
     "name": "stdout",
     "output_type": "stream",
     "text": [
      " loss = 0.0837\n"
     ]
    },
    {
     "name": "stderr",
     "output_type": "stream",
     "text": [
      "100%|██████████████████████████████████████████████████████████████████████████████████████████████████████████████████████████████████████████████████████████████████████| 23/23 [00:00<00:00, 315.17it/s]\n"
     ]
    },
    {
     "name": "stdout",
     "output_type": "stream",
     "text": [
      "Relative training error = 8.3861 %\n",
      "Relative test error = 10.2523 %\n"
     ]
    },
    {
     "name": "stderr",
     "output_type": "stream",
     "text": [
      "  0%|                                                                                                                                                                                | 0/23 [00:00<?, ?it/s]"
     ]
    },
    {
     "name": "stdout",
     "output_type": "stream",
     "text": [
      " loss = 0.0838\n"
     ]
    },
    {
     "name": "stderr",
     "output_type": "stream",
     "text": [
      "100%|██████████████████████████████████████████████████████████████████████████████████████████████████████████████████████████████████████████████████████████████████████| 23/23 [00:00<00:00, 325.88it/s]\n"
     ]
    },
    {
     "name": "stdout",
     "output_type": "stream",
     "text": [
      "Relative training error = 8.2707 %\n",
      "Relative test error = 10.1437 %\n"
     ]
    },
    {
     "name": "stderr",
     "output_type": "stream",
     "text": [
      "  0%|                                                                                                                                                                                | 0/23 [00:00<?, ?it/s]"
     ]
    },
    {
     "name": "stdout",
     "output_type": "stream",
     "text": [
      " loss = 0.1221\n"
     ]
    },
    {
     "name": "stderr",
     "output_type": "stream",
     "text": [
      "100%|██████████████████████████████████████████████████████████████████████████████████████████████████████████████████████████████████████████████████████████████████████| 23/23 [00:00<00:00, 394.35it/s]\n"
     ]
    },
    {
     "name": "stdout",
     "output_type": "stream",
     "text": [
      "Relative training error = 8.1906 %\n",
      "Relative test error = 9.6054 %\n"
     ]
    },
    {
     "name": "stderr",
     "output_type": "stream",
     "text": [
      "  0%|                                                                                                                                                                                | 0/23 [00:00<?, ?it/s]"
     ]
    },
    {
     "name": "stdout",
     "output_type": "stream",
     "text": [
      " loss = 0.2006\n"
     ]
    },
    {
     "name": "stderr",
     "output_type": "stream",
     "text": [
      "100%|██████████████████████████████████████████████████████████████████████████████████████████████████████████████████████████████████████████████████████████████████████| 23/23 [00:00<00:00, 372.74it/s]\n"
     ]
    },
    {
     "name": "stdout",
     "output_type": "stream",
     "text": [
      "Relative training error = 8.1695 %\n",
      "Relative test error = 10.0508 %\n"
     ]
    },
    {
     "name": "stderr",
     "output_type": "stream",
     "text": [
      "  0%|                                                                                                                                                                                | 0/23 [00:00<?, ?it/s]"
     ]
    },
    {
     "name": "stdout",
     "output_type": "stream",
     "text": [
      " loss = 0.1099\n"
     ]
    },
    {
     "name": "stderr",
     "output_type": "stream",
     "text": [
      "100%|██████████████████████████████████████████████████████████████████████████████████████████████████████████████████████████████████████████████████████████████████████| 23/23 [00:00<00:00, 382.25it/s]\n"
     ]
    },
    {
     "name": "stdout",
     "output_type": "stream",
     "text": [
      "Relative training error = 8.1301 %\n",
      "Relative test error = 10.1879 %\n"
     ]
    },
    {
     "name": "stderr",
     "output_type": "stream",
     "text": [
      "100%|██████████████████████████████████████████████████████████████████████████████████████████████████████████████████████████████████████████████████████████████████████| 23/23 [00:00<00:00, 494.71it/s]"
     ]
    },
    {
     "name": "stdout",
     "output_type": "stream",
     "text": [
      " loss = 0.0827\n"
     ]
    },
    {
     "name": "stderr",
     "output_type": "stream",
     "text": [
      "\n"
     ]
    },
    {
     "name": "stdout",
     "output_type": "stream",
     "text": [
      "Relative training error = 8.1143 %\n",
      "Relative test error = 10.0218 %\n"
     ]
    },
    {
     "name": "stderr",
     "output_type": "stream",
     "text": [
      "100%|██████████████████████████████████████████████████████████████████████████████████████████████████████████████████████████████████████████████████████████████████████| 23/23 [00:00<00:00, 544.16it/s]"
     ]
    },
    {
     "name": "stdout",
     "output_type": "stream",
     "text": [
      " loss = 0.1199\n"
     ]
    },
    {
     "name": "stderr",
     "output_type": "stream",
     "text": [
      "\n"
     ]
    },
    {
     "name": "stdout",
     "output_type": "stream",
     "text": [
      "Relative training error = 8.1292 %\n",
      "Relative test error = 9.7423 %\n"
     ]
    },
    {
     "name": "stderr",
     "output_type": "stream",
     "text": [
      "100%|██████████████████████████████████████████████████████████████████████████████████████████████████████████████████████████████████████████████████████████████████████| 23/23 [00:00<00:00, 539.10it/s]\n"
     ]
    },
    {
     "name": "stdout",
     "output_type": "stream",
     "text": [
      " loss = 0.0752\n",
      "Relative training error = 8.0887 %\n",
      "Relative test error = 9.4548 %\n"
     ]
    },
    {
     "name": "stderr",
     "output_type": "stream",
     "text": [
      "100%|██████████████████████████████████████████████████████████████████████████████████████████████████████████████████████████████████████████████████████████████████████| 23/23 [00:00<00:00, 342.33it/s]"
     ]
    },
    {
     "name": "stdout",
     "output_type": "stream",
     "text": [
      " loss = 0.1108\n"
     ]
    },
    {
     "name": "stderr",
     "output_type": "stream",
     "text": [
      "\n"
     ]
    },
    {
     "name": "stdout",
     "output_type": "stream",
     "text": [
      "Relative training error = 8.0645 %\n",
      "Relative test error = 9.5853 %\n"
     ]
    },
    {
     "name": "stderr",
     "output_type": "stream",
     "text": [
      "  0%|                                                                                                                                                                                | 0/23 [00:00<?, ?it/s]"
     ]
    },
    {
     "name": "stdout",
     "output_type": "stream",
     "text": [
      " loss = 0.1035\n"
     ]
    },
    {
     "name": "stderr",
     "output_type": "stream",
     "text": [
      "100%|██████████████████████████████████████████████████████████████████████████████████████████████████████████████████████████████████████████████████████████████████████| 23/23 [00:00<00:00, 439.93it/s]\n"
     ]
    },
    {
     "name": "stdout",
     "output_type": "stream",
     "text": [
      "Relative training error = 8.0665 %\n",
      "Relative test error = 9.7793 %\n"
     ]
    },
    {
     "name": "stderr",
     "output_type": "stream",
     "text": [
      "  0%|                                                                                                                                                                                | 0/23 [00:00<?, ?it/s]"
     ]
    },
    {
     "name": "stdout",
     "output_type": "stream",
     "text": [
      " loss = 0.1744\n"
     ]
    },
    {
     "name": "stderr",
     "output_type": "stream",
     "text": [
      "100%|██████████████████████████████████████████████████████████████████████████████████████████████████████████████████████████████████████████████████████████████████████| 23/23 [00:00<00:00, 395.06it/s]\n"
     ]
    },
    {
     "name": "stdout",
     "output_type": "stream",
     "text": [
      "Relative training error = 8.0450 %\n",
      "Relative test error = 9.8405 %\n"
     ]
    },
    {
     "name": "stderr",
     "output_type": "stream",
     "text": [
      "100%|██████████████████████████████████████████████████████████████████████████████████████████████████████████████████████████████████████████████████████████████████████| 23/23 [00:00<00:00, 408.95it/s]"
     ]
    },
    {
     "name": "stdout",
     "output_type": "stream",
     "text": [
      " loss = 0.1464\n"
     ]
    },
    {
     "name": "stderr",
     "output_type": "stream",
     "text": [
      "\n"
     ]
    },
    {
     "name": "stdout",
     "output_type": "stream",
     "text": [
      "Relative training error = 8.0140 %\n",
      "Relative test error = 9.7632 %\n",
      "Creating DAS_analysis object\n",
      "[-0.01079496 -0.00636261 -0.00472965  0.00829344 -0.03315033  0.01000517\n",
      " -0.03147244  0.01236407 -0.02684816  0.00736422 -0.01663265 -0.00670413\n",
      "  0.01756466 -0.01872044  0.02313004 -0.03355007  0.0332702  -0.02308934\n",
      " -0.04141354  0.01600002 -0.00833672  0.01130101  0.00841153  0.0035773\n",
      "  0.00450807  0.03616873  0.00554306  0.01251749 -0.00332135  0.01660203\n",
      "  0.00364524 -0.00423356 -0.01502233  0.00553334  0.00909886  0.03581746\n",
      " -0.01612826 -0.01689578 -0.00544872 -0.0257047  -0.0020281  -0.00491286\n",
      " -0.01851041 -0.00295021 -0.01707543  0.01278958 -0.03309115 -0.03378421\n",
      "  0.02105434 -0.024914    0.01355151  0.0347159   0.00949286 -0.01157946\n",
      " -0.02779381  0.01103345  0.05014661 -0.0388591   0.03466138 -0.03282935\n",
      "  0.01334391 -0.02446218  0.00617272  0.02966007 -0.0113076  -0.02121396\n",
      " -0.02654688 -0.02603522  0.00742446  0.0033779  -0.03955923 -0.02515224\n",
      " -0.00983606 -0.03146489 -0.02662707  0.00106644 -0.01827304 -0.01481842\n",
      "  0.00496895 -0.01752653  0.02289294  0.02491585 -0.05154504 -0.0153165\n",
      " -0.02955348 -0.01164796  0.00169125  0.00708391  0.00424188 -0.0170783\n",
      " -0.02926962  0.01683864 -0.03211833  0.04620026  0.02204849  0.03711775\n",
      " -0.02703611 -0.02134703 -0.01017228 -0.02460535 -0.00175839  0.00900341\n",
      "  0.0066653   0.02126546 -0.00704159 -0.02525979  0.04929931  0.03000105\n",
      "  0.00056224  0.02727065  0.00672098 -0.02266489 -0.03778072 -0.0143658\n",
      " -0.06977009 -0.00184082  0.03251847  0.00536228  0.00780703  0.00351171\n",
      " -0.001558    0.00453452  0.01956437  0.00755578 -0.00347596 -0.02544811\n",
      " -0.00691871  0.0184323  -0.00946686  0.01644332 -0.00717298 -0.00091536\n",
      " -0.00513515 -0.00200119 -0.00781267  0.03063803  0.00576488 -0.00229528\n",
      "  0.02318851  0.0245067  -0.02252075 -0.01338904  0.0351502  -0.00802465\n",
      " -0.02688461 -0.01285858 -0.04307223  0.01796226 -0.00352158 -0.02649279\n",
      " -0.02409055  0.01353839 -0.01250318  0.00313297  0.01588277  0.01109347\n",
      " -0.00357092  0.00296899  0.00483943 -0.03099188 -0.01898565  0.02774835\n",
      " -0.03559913 -0.0050307   0.0044001   0.13017571 -0.01762796]\n",
      "Parameters ordered from most to least important:\n",
      "[[141 149 165 150 151 153  17 142  15 137 113 154 109  27 163  95  73  41\n",
      "  107  39 138  10  57  85  94  36 117 105 139  87  68  29  21  79 155 112\n",
      "   53 164 166  28 120   1  59 161  93 152 115  74  30  99 108  82  18  51\n",
      "  106 127 146  84  38 129  19  75 130  22 162 100  56 135  97 133 159 110\n",
      "    5 156  26  33  52  61  47 158  13  96  69 136  55  83  43  14  23 116\n",
      "    9  46  42 134  35  49 128 124 148  40  76  44  62  63 118  24  54  48\n",
      "  145 147   3 144 101  86 140   8  72  64   7 131  16  65  71  80  66 160\n",
      "  121   6 103  58  31  60 102 104 143  78  12  98 125  70 111  91  11 122\n",
      "   89  77  81 157  67  37  34   0  90 132  25  32  20 119  88  92  50  45\n",
      "    2   4 114 123 126]]\n",
      "Creating DAS_Surrogate Object\n",
      "Creating Feature Engineering object\n",
      "Using  662/662 samples to train the ML model\n",
      "===============================\n",
      "Neural net parameters\n",
      "===============================\n",
      "Number of layers = 3\n",
      "Number of features = 167\n",
      "Loss function = squared\n",
      "Number of neurons per hidden layer = 20\n",
      "Number of output neurons = 1\n",
      "Activation = ['linear', 'linear', 'tanh', 'linear']\n",
      "This neural network has 228 weights.\n",
      "===============================\n",
      "===============================\n",
      "Training Deep Active Subspace Neural Network...\n"
     ]
    },
    {
     "name": "stderr",
     "output_type": "stream",
     "text": [
      "  0%|                                                                                                                                                                                | 0/23 [00:00<?, ?it/s]"
     ]
    },
    {
     "name": "stdout",
     "output_type": "stream",
     "text": [
      " loss = 2.5465\n"
     ]
    },
    {
     "name": "stderr",
     "output_type": "stream",
     "text": [
      "100%|██████████████████████████████████████████████████████████████████████████████████████████████████████████████████████████████████████████████████████████████████████| 23/23 [00:00<00:00, 310.90it/s]\n"
     ]
    },
    {
     "name": "stdout",
     "output_type": "stream",
     "text": [
      "Relative training error = 22.9297 %\n",
      "Relative test error = 22.3812 %\n"
     ]
    },
    {
     "name": "stderr",
     "output_type": "stream",
     "text": [
      "  0%|                                                                                                                                                                                | 0/23 [00:00<?, ?it/s]"
     ]
    },
    {
     "name": "stdout",
     "output_type": "stream",
     "text": [
      " loss = 1.1278\n"
     ]
    },
    {
     "name": "stderr",
     "output_type": "stream",
     "text": [
      "100%|██████████████████████████████████████████████████████████████████████████████████████████████████████████████████████████████████████████████████████████████████████| 23/23 [00:00<00:00, 472.60it/s]\n"
     ]
    },
    {
     "name": "stdout",
     "output_type": "stream",
     "text": [
      "Relative training error = 21.7343 %\n",
      "Relative test error = 22.4085 %\n"
     ]
    },
    {
     "name": "stderr",
     "output_type": "stream",
     "text": [
      "100%|██████████████████████████████████████████████████████████████████████████████████████████████████████████████████████████████████████████████████████████████████████| 23/23 [00:00<00:00, 445.34it/s]\n"
     ]
    },
    {
     "name": "stdout",
     "output_type": "stream",
     "text": [
      " loss = 1.0687\n",
      "Relative training error = 20.3111 %\n",
      "Relative test error = 22.0714 %\n"
     ]
    },
    {
     "name": "stderr",
     "output_type": "stream",
     "text": [
      "100%|██████████████████████████████████████████████████████████████████████████████████████████████████████████████████████████████████████████████████████████████████████| 23/23 [00:00<00:00, 443.07it/s]"
     ]
    },
    {
     "name": "stdout",
     "output_type": "stream",
     "text": [
      " loss = 0.4987\n"
     ]
    },
    {
     "name": "stderr",
     "output_type": "stream",
     "text": [
      "\n"
     ]
    },
    {
     "name": "stdout",
     "output_type": "stream",
     "text": [
      "Relative training error = 18.7072 %\n",
      "Relative test error = 22.0175 %\n"
     ]
    },
    {
     "name": "stderr",
     "output_type": "stream",
     "text": [
      "100%|██████████████████████████████████████████████████████████████████████████████████████████████████████████████████████████████████████████████████████████████████████| 23/23 [00:00<00:00, 521.57it/s]\n"
     ]
    },
    {
     "name": "stdout",
     "output_type": "stream",
     "text": [
      " loss = 0.5199\n",
      "Relative training error = 16.7544 %\n",
      "Relative test error = 20.6959 %\n"
     ]
    },
    {
     "name": "stderr",
     "output_type": "stream",
     "text": [
      "100%|██████████████████████████████████████████████████████████████████████████████████████████████████████████████████████████████████████████████████████████████████████| 23/23 [00:00<00:00, 426.16it/s]"
     ]
    },
    {
     "name": "stdout",
     "output_type": "stream",
     "text": [
      " loss = 0.3812\n"
     ]
    },
    {
     "name": "stderr",
     "output_type": "stream",
     "text": [
      "\n"
     ]
    },
    {
     "name": "stdout",
     "output_type": "stream",
     "text": [
      "Relative training error = 15.0901 %\n",
      "Relative test error = 19.2638 %\n"
     ]
    },
    {
     "name": "stderr",
     "output_type": "stream",
     "text": [
      "100%|██████████████████████████████████████████████████████████████████████████████████████████████████████████████████████████████████████████████████████████████████████| 23/23 [00:00<00:00, 443.76it/s]"
     ]
    },
    {
     "name": "stdout",
     "output_type": "stream",
     "text": [
      " loss = 0.2943\n"
     ]
    },
    {
     "name": "stderr",
     "output_type": "stream",
     "text": [
      "\n"
     ]
    },
    {
     "name": "stdout",
     "output_type": "stream",
     "text": [
      "Relative training error = 13.7073 %\n",
      "Relative test error = 17.6192 %\n"
     ]
    },
    {
     "name": "stderr",
     "output_type": "stream",
     "text": [
      "100%|██████████████████████████████████████████████████████████████████████████████████████████████████████████████████████████████████████████████████████████████████████| 23/23 [00:00<00:00, 423.51it/s]"
     ]
    },
    {
     "name": "stdout",
     "output_type": "stream",
     "text": [
      " loss = 0.3450\n"
     ]
    },
    {
     "name": "stderr",
     "output_type": "stream",
     "text": [
      "\n"
     ]
    },
    {
     "name": "stdout",
     "output_type": "stream",
     "text": [
      "Relative training error = 12.5832 %\n",
      "Relative test error = 15.5979 %\n"
     ]
    },
    {
     "name": "stderr",
     "output_type": "stream",
     "text": [
      "100%|██████████████████████████████████████████████████████████████████████████████████████████████████████████████████████████████████████████████████████████████████████| 23/23 [00:00<00:00, 394.20it/s]"
     ]
    },
    {
     "name": "stdout",
     "output_type": "stream",
     "text": [
      " loss = 0.4429\n"
     ]
    },
    {
     "name": "stderr",
     "output_type": "stream",
     "text": [
      "\n"
     ]
    },
    {
     "name": "stdout",
     "output_type": "stream",
     "text": [
      "Relative training error = 11.6987 %\n",
      "Relative test error = 14.1179 %\n"
     ]
    },
    {
     "name": "stderr",
     "output_type": "stream",
     "text": [
      "100%|██████████████████████████████████████████████████████████████████████████████████████████████████████████████████████████████████████████████████████████████████████| 23/23 [00:00<00:00, 470.69it/s]"
     ]
    },
    {
     "name": "stdout",
     "output_type": "stream",
     "text": [
      " loss = 0.2243\n"
     ]
    },
    {
     "name": "stderr",
     "output_type": "stream",
     "text": [
      "\n"
     ]
    },
    {
     "name": "stdout",
     "output_type": "stream",
     "text": [
      "Relative training error = 10.9411 %\n",
      "Relative test error = 13.0055 %\n"
     ]
    },
    {
     "name": "stderr",
     "output_type": "stream",
     "text": [
      "100%|██████████████████████████████████████████████████████████████████████████████████████████████████████████████████████████████████████████████████████████████████████| 23/23 [00:00<00:00, 549.96it/s]"
     ]
    },
    {
     "name": "stdout",
     "output_type": "stream",
     "text": [
      " loss = 0.3872\n"
     ]
    },
    {
     "name": "stderr",
     "output_type": "stream",
     "text": [
      "\n"
     ]
    },
    {
     "name": "stdout",
     "output_type": "stream",
     "text": [
      "Relative training error = 10.2855 %\n",
      "Relative test error = 12.5029 %\n"
     ]
    },
    {
     "name": "stderr",
     "output_type": "stream",
     "text": [
      "100%|██████████████████████████████████████████████████████████████████████████████████████████████████████████████████████████████████████████████████████████████████████| 23/23 [00:00<00:00, 451.55it/s]"
     ]
    },
    {
     "name": "stdout",
     "output_type": "stream",
     "text": [
      " loss = 0.1772\n"
     ]
    },
    {
     "name": "stderr",
     "output_type": "stream",
     "text": [
      "\n"
     ]
    },
    {
     "name": "stdout",
     "output_type": "stream",
     "text": [
      "Relative training error = 9.7373 %\n",
      "Relative test error = 11.0660 %\n"
     ]
    },
    {
     "name": "stderr",
     "output_type": "stream",
     "text": [
      "  0%|                                                                                                                                                                                | 0/23 [00:00<?, ?it/s]"
     ]
    },
    {
     "name": "stdout",
     "output_type": "stream",
     "text": [
      " loss = 0.0992\n"
     ]
    },
    {
     "name": "stderr",
     "output_type": "stream",
     "text": [
      "100%|██████████████████████████████████████████████████████████████████████████████████████████████████████████████████████████████████████████████████████████████████████| 23/23 [00:00<00:00, 299.81it/s]\n"
     ]
    },
    {
     "name": "stdout",
     "output_type": "stream",
     "text": [
      "Relative training error = 9.3139 %\n",
      "Relative test error = 10.7606 %\n"
     ]
    },
    {
     "name": "stderr",
     "output_type": "stream",
     "text": [
      "  0%|                                                                                                                                                                                | 0/23 [00:00<?, ?it/s]"
     ]
    },
    {
     "name": "stdout",
     "output_type": "stream",
     "text": [
      " loss = 0.1906\n"
     ]
    },
    {
     "name": "stderr",
     "output_type": "stream",
     "text": [
      "100%|██████████████████████████████████████████████████████████████████████████████████████████████████████████████████████████████████████████████████████████████████████| 23/23 [00:00<00:00, 430.49it/s]\n"
     ]
    },
    {
     "name": "stdout",
     "output_type": "stream",
     "text": [
      "Relative training error = 9.1615 %\n",
      "Relative test error = 10.5436 %\n"
     ]
    },
    {
     "name": "stderr",
     "output_type": "stream",
     "text": [
      "100%|██████████████████████████████████████████████████████████████████████████████████████████████████████████████████████████████████████████████████████████████████████| 23/23 [00:00<00:00, 413.44it/s]"
     ]
    },
    {
     "name": "stdout",
     "output_type": "stream",
     "text": [
      " loss = 0.1116\n"
     ]
    },
    {
     "name": "stderr",
     "output_type": "stream",
     "text": [
      "\n"
     ]
    },
    {
     "name": "stdout",
     "output_type": "stream",
     "text": [
      "Relative training error = 8.7945 %\n",
      "Relative test error = 10.2325 %\n"
     ]
    },
    {
     "name": "stderr",
     "output_type": "stream",
     "text": [
      "100%|██████████████████████████████████████████████████████████████████████████████████████████████████████████████████████████████████████████████████████████████████████| 23/23 [00:00<00:00, 435.21it/s]"
     ]
    },
    {
     "name": "stdout",
     "output_type": "stream",
     "text": [
      " loss = 0.1082\n"
     ]
    },
    {
     "name": "stderr",
     "output_type": "stream",
     "text": [
      "\n"
     ]
    },
    {
     "name": "stdout",
     "output_type": "stream",
     "text": [
      "Relative training error = 8.6282 %\n",
      "Relative test error = 9.9312 %\n"
     ]
    },
    {
     "name": "stderr",
     "output_type": "stream",
     "text": [
      "100%|██████████████████████████████████████████████████████████████████████████████████████████████████████████████████████████████████████████████████████████████████████| 23/23 [00:00<00:00, 546.74it/s]\n"
     ]
    },
    {
     "name": "stdout",
     "output_type": "stream",
     "text": [
      " loss = 0.1931\n",
      "Relative training error = 8.5006 %\n",
      "Relative test error = 10.0084 %\n"
     ]
    },
    {
     "name": "stderr",
     "output_type": "stream",
     "text": [
      "100%|██████████████████████████████████████████████████████████████████████████████████████████████████████████████████████████████████████████████████████████████████████| 23/23 [00:00<00:00, 446.68it/s]"
     ]
    },
    {
     "name": "stdout",
     "output_type": "stream",
     "text": [
      " loss = 0.0982\n"
     ]
    },
    {
     "name": "stderr",
     "output_type": "stream",
     "text": [
      "\n"
     ]
    },
    {
     "name": "stdout",
     "output_type": "stream",
     "text": [
      "Relative training error = 8.4207 %\n",
      "Relative test error = 9.8887 %\n"
     ]
    },
    {
     "name": "stderr",
     "output_type": "stream",
     "text": [
      "100%|██████████████████████████████████████████████████████████████████████████████████████████████████████████████████████████████████████████████████████████████████████| 23/23 [00:00<00:00, 476.81it/s]"
     ]
    },
    {
     "name": "stdout",
     "output_type": "stream",
     "text": [
      " loss = 0.1493\n"
     ]
    },
    {
     "name": "stderr",
     "output_type": "stream",
     "text": [
      "\n"
     ]
    },
    {
     "name": "stdout",
     "output_type": "stream",
     "text": [
      "Relative training error = 8.3854 %\n",
      "Relative test error = 9.7848 %\n"
     ]
    },
    {
     "name": "stderr",
     "output_type": "stream",
     "text": [
      "100%|██████████████████████████████████████████████████████████████████████████████████████████████████████████████████████████████████████████████████████████████████████| 23/23 [00:00<00:00, 450.33it/s]"
     ]
    },
    {
     "name": "stdout",
     "output_type": "stream",
     "text": [
      " loss = 0.1569\n"
     ]
    },
    {
     "name": "stderr",
     "output_type": "stream",
     "text": [
      "\n"
     ]
    },
    {
     "name": "stdout",
     "output_type": "stream",
     "text": [
      "Relative training error = 8.3374 %\n",
      "Relative test error = 9.5106 %\n"
     ]
    },
    {
     "name": "stderr",
     "output_type": "stream",
     "text": [
      "100%|██████████████████████████████████████████████████████████████████████████████████████████████████████████████████████████████████████████████████████████████████████| 23/23 [00:00<00:00, 437.81it/s]"
     ]
    },
    {
     "name": "stdout",
     "output_type": "stream",
     "text": [
      " loss = 0.0875\n"
     ]
    },
    {
     "name": "stderr",
     "output_type": "stream",
     "text": [
      "\n"
     ]
    },
    {
     "name": "stdout",
     "output_type": "stream",
     "text": [
      "Relative training error = 8.2936 %\n",
      "Relative test error = 9.3179 %\n"
     ]
    },
    {
     "name": "stderr",
     "output_type": "stream",
     "text": [
      "100%|██████████████████████████████████████████████████████████████████████████████████████████████████████████████████████████████████████████████████████████████████████| 23/23 [00:00<00:00, 554.23it/s]"
     ]
    },
    {
     "name": "stdout",
     "output_type": "stream",
     "text": [
      " loss = 0.1189\n"
     ]
    },
    {
     "name": "stderr",
     "output_type": "stream",
     "text": [
      "\n"
     ]
    },
    {
     "name": "stdout",
     "output_type": "stream",
     "text": [
      "Relative training error = 8.2894 %\n",
      "Relative test error = 9.3443 %\n"
     ]
    },
    {
     "name": "stderr",
     "output_type": "stream",
     "text": [
      "100%|██████████████████████████████████████████████████████████████████████████████████████████████████████████████████████████████████████████████████████████████████████| 23/23 [00:00<00:00, 558.09it/s]"
     ]
    },
    {
     "name": "stdout",
     "output_type": "stream",
     "text": [
      " loss = 0.1311\n",
      "Relative training error = 8.3106 %\n",
      "Relative test error = 10.0051 %\n"
     ]
    },
    {
     "name": "stderr",
     "output_type": "stream",
     "text": [
      "\n",
      "100%|██████████████████████████████████████████████████████████████████████████████████████████████████████████████████████████████████████████████████████████████████████| 23/23 [00:00<00:00, 565.22it/s]"
     ]
    },
    {
     "name": "stdout",
     "output_type": "stream",
     "text": [
      " loss = 0.0601\n",
      "Relative training error = 8.2726 %\n"
     ]
    },
    {
     "name": "stderr",
     "output_type": "stream",
     "text": [
      "\n"
     ]
    },
    {
     "name": "stdout",
     "output_type": "stream",
     "text": [
      "Relative test error = 9.8230 %\n"
     ]
    },
    {
     "name": "stderr",
     "output_type": "stream",
     "text": [
      "100%|██████████████████████████████████████████████████████████████████████████████████████████████████████████████████████████████████████████████████████████████████████| 23/23 [00:00<00:00, 470.78it/s]\n"
     ]
    },
    {
     "name": "stdout",
     "output_type": "stream",
     "text": [
      " loss = 0.2867\n",
      "Relative training error = 8.2043 %\n",
      "Relative test error = 9.9381 %\n"
     ]
    },
    {
     "name": "stderr",
     "output_type": "stream",
     "text": [
      "100%|██████████████████████████████████████████████████████████████████████████████████████████████████████████████████████████████████████████████████████████████████████| 23/23 [00:00<00:00, 516.11it/s]"
     ]
    },
    {
     "name": "stdout",
     "output_type": "stream",
     "text": [
      " loss = 0.1255\n"
     ]
    },
    {
     "name": "stderr",
     "output_type": "stream",
     "text": [
      "\n"
     ]
    },
    {
     "name": "stdout",
     "output_type": "stream",
     "text": [
      "Relative training error = 8.1919 %\n",
      "Relative test error = 10.1274 %\n"
     ]
    },
    {
     "name": "stderr",
     "output_type": "stream",
     "text": [
      "100%|██████████████████████████████████████████████████████████████████████████████████████████████████████████████████████████████████████████████████████████████████████| 23/23 [00:00<00:00, 550.67it/s]"
     ]
    },
    {
     "name": "stdout",
     "output_type": "stream",
     "text": [
      " loss = 0.0865\n",
      "Relative training error = 8.1924 %\n"
     ]
    },
    {
     "name": "stderr",
     "output_type": "stream",
     "text": [
      "\n"
     ]
    },
    {
     "name": "stdout",
     "output_type": "stream",
     "text": [
      "Relative test error = 10.0950 %\n"
     ]
    },
    {
     "name": "stderr",
     "output_type": "stream",
     "text": [
      "100%|██████████████████████████████████████████████████████████████████████████████████████████████████████████████████████████████████████████████████████████████████████| 23/23 [00:00<00:00, 537.18it/s]"
     ]
    },
    {
     "name": "stdout",
     "output_type": "stream",
     "text": [
      " loss = 0.1006\n",
      "Relative training error = 8.2423 %\n",
      "Relative test error = 10.2517 %\n"
     ]
    },
    {
     "name": "stderr",
     "output_type": "stream",
     "text": [
      "\n"
     ]
    },
    {
     "name": "stdout",
     "output_type": "stream",
     "text": [
      "Creating DAS_analysis object\n",
      "[-0.01079496 -0.00636261 -0.00472965  0.00829344 -0.03315033  0.01000517\n",
      " -0.03147244  0.01236407 -0.02684816  0.00736422 -0.01663265 -0.00670413\n",
      "  0.01756466 -0.01872044  0.02313004 -0.03355007  0.0332702  -0.02308934\n",
      " -0.04141354  0.01600002 -0.00833672  0.01130101  0.00841153  0.0035773\n",
      "  0.00450807  0.03616873  0.00554306  0.01251749 -0.00332135  0.01660203\n",
      "  0.00364524 -0.00423356 -0.01502233  0.00553334  0.00909886  0.03581746\n",
      " -0.01612826 -0.01689578 -0.00544872 -0.0257047  -0.0020281  -0.00491286\n",
      " -0.01851041 -0.00295021 -0.01707543  0.01278958 -0.03309115 -0.03378421\n",
      "  0.02105434 -0.024914    0.01355151  0.0347159   0.00949286 -0.01157946\n",
      " -0.02779381  0.01103345  0.05014661 -0.0388591   0.03466138 -0.03282935\n",
      "  0.01334391 -0.02446218  0.00617272  0.02966007 -0.0113076  -0.02121396\n",
      " -0.02654688 -0.02603522  0.00742446  0.0033779  -0.03955923 -0.02515224\n",
      " -0.00983606 -0.03146489 -0.02662707  0.00106644 -0.01827304 -0.01481842\n",
      "  0.00496895 -0.01752653  0.02289294  0.02491585 -0.05154504 -0.0153165\n",
      " -0.02955348 -0.01164796  0.00169125  0.00708391  0.00424188 -0.0170783\n",
      " -0.02926962  0.01683864 -0.03211833  0.04620026  0.02204849  0.03711775\n",
      " -0.02703611 -0.02134703 -0.01017228 -0.02460535 -0.00175839  0.00900341\n",
      "  0.0066653   0.02126546 -0.00704159 -0.02525979  0.04929931  0.03000105\n",
      "  0.00056224  0.02727065  0.00672098 -0.02266489 -0.03778072 -0.0143658\n",
      " -0.06977009 -0.00184082  0.03251847  0.00536228  0.00780703  0.00351171\n",
      " -0.001558    0.00453452  0.01956437  0.00755578 -0.00347596 -0.02544811\n",
      " -0.00691871  0.0184323  -0.00946686  0.01644332 -0.00717298 -0.00091536\n",
      " -0.00513515 -0.00200119 -0.00781267  0.03063803  0.00576488 -0.00229528\n",
      "  0.02318851  0.0245067  -0.02252075 -0.01338904  0.0351502  -0.00802465\n",
      " -0.02688461 -0.01285858 -0.04307223  0.01796226 -0.00352158 -0.02649279\n",
      " -0.02409055  0.01353839 -0.01250318  0.00313297  0.01588277  0.01109347\n",
      " -0.00357092  0.00296899  0.00483943 -0.03099188 -0.01898565  0.02774835\n",
      " -0.03559913 -0.0050307   0.0044001   0.13017571 -0.01762796]\n",
      "Parameters ordered from most to least important:\n",
      "[[141 149 165 150 153 151 142  17  15 137 113  73 154 109 163 107  10  27\n",
      "   41 138  57  95  28 159 105  85  21  39  93 108  87  99  40 152 110  75\n",
      "   36  29  30  26  94  72  68  63  53 148 161 139  52 156 117 134 140 155\n",
      "   91 115  79  82  33 164  45 146  49  84  18  31  22 120  46 130 166 136\n",
      "   59 123  58 129 162 116   6  96  83  51  97  38 106  19  13   5 144  42\n",
      "  111   1  67 103 147   0  60  54 100  80 158  66  23 101  50  55   9  74\n",
      "  122  32 133   4  37 145   2  64  69 114 131  47 104  71  89  11 102   3\n",
      "  125  14  92  86 135 112  43  90  24 119 143 160  98  16 128  77 124  35\n",
      "   81  78  61 126 127  20 121   8  70  25 118  76  62  65 132  34 157  44\n",
      "   88  12   7  48  56]]\n",
      "Creating DAS_Surrogate Object\n",
      "Creating Feature Engineering object\n",
      "Using  662/662 samples to train the ML model\n",
      "===============================\n",
      "Neural net parameters\n",
      "===============================\n",
      "Number of layers = 3\n",
      "Number of features = 167\n",
      "Loss function = squared\n",
      "Number of neurons per hidden layer = 20\n",
      "Number of output neurons = 1\n",
      "Activation = ['linear', 'linear', 'tanh', 'linear']\n",
      "This neural network has 228 weights.\n",
      "===============================\n",
      "===============================\n",
      "Training Deep Active Subspace Neural Network...\n"
     ]
    },
    {
     "name": "stderr",
     "output_type": "stream",
     "text": [
      "100%|██████████████████████████████████████████████████████████████████████████████████████████████████████████████████████████████████████████████████████████████████████| 23/23 [00:00<00:00, 368.32it/s]"
     ]
    },
    {
     "name": "stdout",
     "output_type": "stream",
     "text": [
      " loss = 0.8098\n"
     ]
    },
    {
     "name": "stderr",
     "output_type": "stream",
     "text": [
      "\n"
     ]
    },
    {
     "name": "stdout",
     "output_type": "stream",
     "text": [
      "Relative training error = 23.1036 %\n",
      "Relative test error = 22.3705 %\n"
     ]
    },
    {
     "name": "stderr",
     "output_type": "stream",
     "text": [
      "100%|██████████████████████████████████████████████████████████████████████████████████████████████████████████████████████████████████████████████████████████████████████| 23/23 [00:00<00:00, 518.37it/s]\n"
     ]
    },
    {
     "name": "stdout",
     "output_type": "stream",
     "text": [
      " loss = 0.8654\n",
      "Relative training error = 20.5577 %\n",
      "Relative test error = 20.6339 %\n"
     ]
    },
    {
     "name": "stderr",
     "output_type": "stream",
     "text": [
      "100%|██████████████████████████████████████████████████████████████████████████████████████████████████████████████████████████████████████████████████████████████████████| 23/23 [00:00<00:00, 345.88it/s]"
     ]
    },
    {
     "name": "stdout",
     "output_type": "stream",
     "text": [
      " loss = 0.9384\n"
     ]
    },
    {
     "name": "stderr",
     "output_type": "stream",
     "text": [
      "\n"
     ]
    },
    {
     "name": "stdout",
     "output_type": "stream",
     "text": [
      "Relative training error = 17.0928 %\n",
      "Relative test error = 18.1894 %\n"
     ]
    },
    {
     "name": "stderr",
     "output_type": "stream",
     "text": [
      "  0%|                                                                                                                                                                                | 0/23 [00:00<?, ?it/s]"
     ]
    },
    {
     "name": "stdout",
     "output_type": "stream",
     "text": [
      " loss = 0.5003\n"
     ]
    },
    {
     "name": "stderr",
     "output_type": "stream",
     "text": [
      "100%|██████████████████████████████████████████████████████████████████████████████████████████████████████████████████████████████████████████████████████████████████████| 23/23 [00:00<00:00, 479.94it/s]\n"
     ]
    },
    {
     "name": "stdout",
     "output_type": "stream",
     "text": [
      "Relative training error = 13.7140 %\n",
      "Relative test error = 15.0018 %\n"
     ]
    },
    {
     "name": "stderr",
     "output_type": "stream",
     "text": [
      "100%|██████████████████████████████████████████████████████████████████████████████████████████████████████████████████████████████████████████████████████████████████████| 23/23 [00:00<00:00, 375.71it/s]"
     ]
    },
    {
     "name": "stdout",
     "output_type": "stream",
     "text": [
      " loss = 0.3830\n"
     ]
    },
    {
     "name": "stderr",
     "output_type": "stream",
     "text": [
      "\n"
     ]
    },
    {
     "name": "stdout",
     "output_type": "stream",
     "text": [
      "Relative training error = 11.3927 %\n",
      "Relative test error = 13.4279 %\n"
     ]
    },
    {
     "name": "stderr",
     "output_type": "stream",
     "text": [
      "100%|██████████████████████████████████████████████████████████████████████████████████████████████████████████████████████████████████████████████████████████████████████| 23/23 [00:00<00:00, 532.93it/s]"
     ]
    },
    {
     "name": "stdout",
     "output_type": "stream",
     "text": [
      " loss = 0.2005\n"
     ]
    },
    {
     "name": "stderr",
     "output_type": "stream",
     "text": [
      "\n"
     ]
    },
    {
     "name": "stdout",
     "output_type": "stream",
     "text": [
      "Relative training error = 10.0364 %\n",
      "Relative test error = 11.7688 %\n"
     ]
    },
    {
     "name": "stderr",
     "output_type": "stream",
     "text": [
      "100%|██████████████████████████████████████████████████████████████████████████████████████████████████████████████████████████████████████████████████████████████████████| 23/23 [00:00<00:00, 431.01it/s]"
     ]
    },
    {
     "name": "stdout",
     "output_type": "stream",
     "text": [
      " loss = 0.2857\n"
     ]
    },
    {
     "name": "stderr",
     "output_type": "stream",
     "text": [
      "\n"
     ]
    },
    {
     "name": "stdout",
     "output_type": "stream",
     "text": [
      "Relative training error = 9.1821 %\n",
      "Relative test error = 10.3373 %\n"
     ]
    },
    {
     "name": "stderr",
     "output_type": "stream",
     "text": [
      "100%|██████████████████████████████████████████████████████████████████████████████████████████████████████████████████████████████████████████████████████████████████████| 23/23 [00:00<00:00, 526.48it/s]"
     ]
    },
    {
     "name": "stdout",
     "output_type": "stream",
     "text": [
      " loss = 0.2992\n"
     ]
    },
    {
     "name": "stderr",
     "output_type": "stream",
     "text": [
      "\n"
     ]
    },
    {
     "name": "stdout",
     "output_type": "stream",
     "text": [
      "Relative training error = 8.7587 %\n",
      "Relative test error = 10.0882 %\n"
     ]
    },
    {
     "name": "stderr",
     "output_type": "stream",
     "text": [
      "100%|██████████████████████████████████████████████████████████████████████████████████████████████████████████████████████████████████████████████████████████████████████| 23/23 [00:00<00:00, 424.04it/s]"
     ]
    },
    {
     "name": "stdout",
     "output_type": "stream",
     "text": [
      " loss = 0.0993\n"
     ]
    },
    {
     "name": "stderr",
     "output_type": "stream",
     "text": [
      "\n"
     ]
    },
    {
     "name": "stdout",
     "output_type": "stream",
     "text": [
      "Relative training error = 8.6269 %\n",
      "Relative test error = 9.6353 %\n"
     ]
    },
    {
     "name": "stderr",
     "output_type": "stream",
     "text": [
      "100%|██████████████████████████████████████████████████████████████████████████████████████████████████████████████████████████████████████████████████████████████████████| 23/23 [00:00<00:00, 449.21it/s]"
     ]
    },
    {
     "name": "stdout",
     "output_type": "stream",
     "text": [
      " loss = 0.1378\n"
     ]
    },
    {
     "name": "stderr",
     "output_type": "stream",
     "text": [
      "\n"
     ]
    },
    {
     "name": "stdout",
     "output_type": "stream",
     "text": [
      "Relative training error = 8.4759 %\n",
      "Relative test error = 9.8484 %\n"
     ]
    },
    {
     "name": "stderr",
     "output_type": "stream",
     "text": [
      "100%|██████████████████████████████████████████████████████████████████████████████████████████████████████████████████████████████████████████████████████████████████████| 23/23 [00:00<00:00, 450.21it/s]"
     ]
    },
    {
     "name": "stdout",
     "output_type": "stream",
     "text": [
      " loss = 0.1388\n"
     ]
    },
    {
     "name": "stderr",
     "output_type": "stream",
     "text": [
      "\n"
     ]
    },
    {
     "name": "stdout",
     "output_type": "stream",
     "text": [
      "Relative training error = 8.3413 %\n",
      "Relative test error = 9.4693 %\n"
     ]
    },
    {
     "name": "stderr",
     "output_type": "stream",
     "text": [
      "100%|██████████████████████████████████████████████████████████████████████████████████████████████████████████████████████████████████████████████████████████████████████| 23/23 [00:00<00:00, 446.32it/s]"
     ]
    },
    {
     "name": "stdout",
     "output_type": "stream",
     "text": [
      " loss = 0.1216\n"
     ]
    },
    {
     "name": "stderr",
     "output_type": "stream",
     "text": [
      "\n"
     ]
    },
    {
     "name": "stdout",
     "output_type": "stream",
     "text": [
      "Relative training error = 8.3840 %\n",
      "Relative test error = 9.3602 %\n"
     ]
    },
    {
     "name": "stderr",
     "output_type": "stream",
     "text": [
      "  0%|                                                                                                                                                                                | 0/23 [00:00<?, ?it/s]"
     ]
    },
    {
     "name": "stdout",
     "output_type": "stream",
     "text": [
      " loss = 0.1309\n"
     ]
    },
    {
     "name": "stderr",
     "output_type": "stream",
     "text": [
      "100%|██████████████████████████████████████████████████████████████████████████████████████████████████████████████████████████████████████████████████████████████████████| 23/23 [00:00<00:00, 335.32it/s]\n"
     ]
    },
    {
     "name": "stdout",
     "output_type": "stream",
     "text": [
      "Relative training error = 8.2254 %\n",
      "Relative test error = 9.2102 %\n"
     ]
    },
    {
     "name": "stderr",
     "output_type": "stream",
     "text": [
      "  0%|                                                                                                                                                                                | 0/23 [00:00<?, ?it/s]"
     ]
    },
    {
     "name": "stdout",
     "output_type": "stream",
     "text": [
      " loss = 0.1503\n"
     ]
    },
    {
     "name": "stderr",
     "output_type": "stream",
     "text": [
      "100%|██████████████████████████████████████████████████████████████████████████████████████████████████████████████████████████████████████████████████████████████████████| 23/23 [00:00<00:00, 316.92it/s]\n"
     ]
    },
    {
     "name": "stdout",
     "output_type": "stream",
     "text": [
      "Relative training error = 8.2011 %\n",
      "Relative test error = 9.6023 %\n"
     ]
    },
    {
     "name": "stderr",
     "output_type": "stream",
     "text": [
      "  0%|                                                                                                                                                                                | 0/23 [00:00<?, ?it/s]"
     ]
    },
    {
     "name": "stdout",
     "output_type": "stream",
     "text": [
      " loss = 0.1499\n"
     ]
    },
    {
     "name": "stderr",
     "output_type": "stream",
     "text": [
      "100%|██████████████████████████████████████████████████████████████████████████████████████████████████████████████████████████████████████████████████████████████████████| 23/23 [00:00<00:00, 329.93it/s]\n"
     ]
    },
    {
     "name": "stdout",
     "output_type": "stream",
     "text": [
      "Relative training error = 8.1612 %\n",
      "Relative test error = 9.3687 %\n"
     ]
    },
    {
     "name": "stderr",
     "output_type": "stream",
     "text": [
      "  0%|                                                                                                                                                                                | 0/23 [00:00<?, ?it/s]"
     ]
    },
    {
     "name": "stdout",
     "output_type": "stream",
     "text": [
      " loss = 0.1275\n"
     ]
    },
    {
     "name": "stderr",
     "output_type": "stream",
     "text": [
      "100%|██████████████████████████████████████████████████████████████████████████████████████████████████████████████████████████████████████████████████████████████████████| 23/23 [00:00<00:00, 414.82it/s]\n"
     ]
    },
    {
     "name": "stdout",
     "output_type": "stream",
     "text": [
      "Relative training error = 8.1741 %\n",
      "Relative test error = 9.2848 %\n"
     ]
    },
    {
     "name": "stderr",
     "output_type": "stream",
     "text": [
      "100%|██████████████████████████████████████████████████████████████████████████████████████████████████████████████████████████████████████████████████████████████████████| 23/23 [00:00<00:00, 453.69it/s]\n"
     ]
    },
    {
     "name": "stdout",
     "output_type": "stream",
     "text": [
      " loss = 0.0924\n",
      "Relative training error = 8.1480 %\n",
      "Relative test error = 9.2097 %\n"
     ]
    },
    {
     "name": "stderr",
     "output_type": "stream",
     "text": [
      "  0%|                                                                                                                                                                                | 0/23 [00:00<?, ?it/s]"
     ]
    },
    {
     "name": "stdout",
     "output_type": "stream",
     "text": [
      " loss = 0.1190\n"
     ]
    },
    {
     "name": "stderr",
     "output_type": "stream",
     "text": [
      "100%|██████████████████████████████████████████████████████████████████████████████████████████████████████████████████████████████████████████████████████████████████████| 23/23 [00:00<00:00, 339.09it/s]\n"
     ]
    },
    {
     "name": "stdout",
     "output_type": "stream",
     "text": [
      "Relative training error = 8.1336 %\n",
      "Relative test error = 9.4695 %\n"
     ]
    },
    {
     "name": "stderr",
     "output_type": "stream",
     "text": [
      "  0%|                                                                                                                                                                                | 0/23 [00:00<?, ?it/s]"
     ]
    },
    {
     "name": "stdout",
     "output_type": "stream",
     "text": [
      " loss = 0.0871\n"
     ]
    },
    {
     "name": "stderr",
     "output_type": "stream",
     "text": [
      "100%|██████████████████████████████████████████████████████████████████████████████████████████████████████████████████████████████████████████████████████████████████████| 23/23 [00:00<00:00, 432.04it/s]\n"
     ]
    },
    {
     "name": "stdout",
     "output_type": "stream",
     "text": [
      "Relative training error = 8.1330 %\n",
      "Relative test error = 9.5821 %\n",
      "Creating DAS_analysis object\n",
      "[-0.01079496 -0.00636261 -0.00472965  0.00829344 -0.03315033  0.01000517\n",
      " -0.03147244  0.01236407 -0.02684816  0.00736422 -0.01663265 -0.00670413\n",
      "  0.01756466 -0.01872044  0.02313004 -0.03355007  0.0332702  -0.02308934\n",
      " -0.04141354  0.01600002 -0.00833672  0.01130101  0.00841153  0.0035773\n",
      "  0.00450807  0.03616873  0.00554306  0.01251749 -0.00332135  0.01660203\n",
      "  0.00364524 -0.00423356 -0.01502233  0.00553334  0.00909886  0.03581746\n",
      " -0.01612826 -0.01689578 -0.00544872 -0.0257047  -0.0020281  -0.00491286\n",
      " -0.01851041 -0.00295021 -0.01707543  0.01278958 -0.03309115 -0.03378421\n",
      "  0.02105434 -0.024914    0.01355151  0.0347159   0.00949286 -0.01157946\n",
      " -0.02779381  0.01103345  0.05014661 -0.0388591   0.03466138 -0.03282935\n",
      "  0.01334391 -0.02446218  0.00617272  0.02966007 -0.0113076  -0.02121396\n",
      " -0.02654688 -0.02603522  0.00742446  0.0033779  -0.03955923 -0.02515224\n",
      " -0.00983606 -0.03146489 -0.02662707  0.00106644 -0.01827304 -0.01481842\n",
      "  0.00496895 -0.01752653  0.02289294  0.02491585 -0.05154504 -0.0153165\n",
      " -0.02955348 -0.01164796  0.00169125  0.00708391  0.00424188 -0.0170783\n",
      " -0.02926962  0.01683864 -0.03211833  0.04620026  0.02204849  0.03711775\n",
      " -0.02703611 -0.02134703 -0.01017228 -0.02460535 -0.00175839  0.00900341\n",
      "  0.0066653   0.02126546 -0.00704159 -0.02525979  0.04929931  0.03000105\n",
      "  0.00056224  0.02727065  0.00672098 -0.02266489 -0.03778072 -0.0143658\n",
      " -0.06977009 -0.00184082  0.03251847  0.00536228  0.00780703  0.00351171\n",
      " -0.001558    0.00453452  0.01956437  0.00755578 -0.00347596 -0.02544811\n",
      " -0.00691871  0.0184323  -0.00946686  0.01644332 -0.00717298 -0.00091536\n",
      " -0.00513515 -0.00200119 -0.00781267  0.03063803  0.00576488 -0.00229528\n",
      "  0.02318851  0.0245067  -0.02252075 -0.01338904  0.0351502  -0.00802465\n",
      " -0.02688461 -0.01285858 -0.04307223  0.01796226 -0.00352158 -0.02649279\n",
      " -0.02409055  0.01353839 -0.01250318  0.00313297  0.01588277  0.01109347\n",
      " -0.00357092  0.00296899  0.00483943 -0.03099188 -0.01898565  0.02774835\n",
      " -0.03559913 -0.0050307   0.0044001   0.13017571 -0.01762796]\n",
      "Parameters ordered from most to least important:\n",
      "[[141 149 165 150 151 153 142  17 137  15 113 154 109  73  95 163  10 107\n",
      "   85  27  53 138  41  39  57  94  68 115 155  36  87  79 164 120  75  30\n",
      "   63  26  29   3 166 159 116  23  99 105  28  18  83 152 136  19 156 162\n",
      "  158  46  72 112 146  21  52 161  16  84 139 110  22  42  82  40  47  93\n",
      "  134  97 129  77 130  49  74 124 101  51  59  35 123  33 117 100  38  20\n",
      "  148 111 160  60  54 133  43 108 127 114 106  32  55 144 157 118  24  37\n",
      "   91 135  58  31  45  89   1  69  86 140  13   9  50 145 147 121  62  78\n",
      "    0  25   7  76  56  12  88  67  34  11  65 126 103  96   2   8 125 143\n",
      "   66  44  90  14 104   4  61 128  92 132   5  81   6 131  70  80  64  98\n",
      "  119  71  48 122 102]]\n",
      "Creating DAS_Surrogate Object\n",
      "Creating Feature Engineering object\n",
      "Using  662/662 samples to train the ML model\n",
      "===============================\n",
      "Neural net parameters\n",
      "===============================\n",
      "Number of layers = 3\n",
      "Number of features = 167\n",
      "Loss function = squared\n",
      "Number of neurons per hidden layer = 20\n",
      "Number of output neurons = 1\n",
      "Activation = ['linear', 'linear', 'tanh', 'linear']\n",
      "This neural network has 228 weights.\n",
      "===============================\n",
      "===============================\n",
      "Training Deep Active Subspace Neural Network...\n"
     ]
    },
    {
     "name": "stderr",
     "output_type": "stream",
     "text": [
      "100%|██████████████████████████████████████████████████████████████████████████████████████████████████████████████████████████████████████████████████████████████████████| 23/23 [00:00<00:00, 435.75it/s]"
     ]
    },
    {
     "name": "stdout",
     "output_type": "stream",
     "text": [
      " loss = 2.1174\n"
     ]
    },
    {
     "name": "stderr",
     "output_type": "stream",
     "text": [
      "\n"
     ]
    },
    {
     "name": "stdout",
     "output_type": "stream",
     "text": [
      "Relative training error = 23.8634 %\n",
      "Relative test error = 24.6611 %\n"
     ]
    },
    {
     "name": "stderr",
     "output_type": "stream",
     "text": [
      "100%|██████████████████████████████████████████████████████████████████████████████████████████████████████████████████████████████████████████████████████████████████████| 23/23 [00:00<00:00, 436.94it/s]"
     ]
    },
    {
     "name": "stdout",
     "output_type": "stream",
     "text": [
      " loss = 0.7387\n"
     ]
    },
    {
     "name": "stderr",
     "output_type": "stream",
     "text": [
      "\n"
     ]
    },
    {
     "name": "stdout",
     "output_type": "stream",
     "text": [
      "Relative training error = 21.1452 %\n",
      "Relative test error = 23.0688 %\n"
     ]
    },
    {
     "name": "stderr",
     "output_type": "stream",
     "text": [
      "100%|██████████████████████████████████████████████████████████████████████████████████████████████████████████████████████████████████████████████████████████████████████| 23/23 [00:00<00:00, 455.58it/s]"
     ]
    },
    {
     "name": "stdout",
     "output_type": "stream",
     "text": [
      " loss = 0.7004\n"
     ]
    },
    {
     "name": "stderr",
     "output_type": "stream",
     "text": [
      "\n"
     ]
    },
    {
     "name": "stdout",
     "output_type": "stream",
     "text": [
      "Relative training error = 17.7623 %\n",
      "Relative test error = 21.4781 %\n"
     ]
    },
    {
     "name": "stderr",
     "output_type": "stream",
     "text": [
      "100%|██████████████████████████████████████████████████████████████████████████████████████████████████████████████████████████████████████████████████████████████████████| 23/23 [00:00<00:00, 458.60it/s]"
     ]
    },
    {
     "name": "stdout",
     "output_type": "stream",
     "text": [
      " loss = 0.5733\n"
     ]
    },
    {
     "name": "stderr",
     "output_type": "stream",
     "text": [
      "\n"
     ]
    },
    {
     "name": "stdout",
     "output_type": "stream",
     "text": [
      "Relative training error = 14.2803 %\n",
      "Relative test error = 18.7736 %\n"
     ]
    },
    {
     "name": "stderr",
     "output_type": "stream",
     "text": [
      "  0%|                                                                                                                                                                                | 0/23 [00:00<?, ?it/s]"
     ]
    },
    {
     "name": "stdout",
     "output_type": "stream",
     "text": [
      " loss = 0.3135\n"
     ]
    },
    {
     "name": "stderr",
     "output_type": "stream",
     "text": [
      "100%|██████████████████████████████████████████████████████████████████████████████████████████████████████████████████████████████████████████████████████████████████████| 23/23 [00:00<00:00, 337.53it/s]\n"
     ]
    },
    {
     "name": "stdout",
     "output_type": "stream",
     "text": [
      "Relative training error = 12.0629 %\n",
      "Relative test error = 15.4557 %\n"
     ]
    },
    {
     "name": "stderr",
     "output_type": "stream",
     "text": [
      "  0%|                                                                                                                                                                                | 0/23 [00:00<?, ?it/s]"
     ]
    },
    {
     "name": "stdout",
     "output_type": "stream",
     "text": [
      " loss = 0.3504\n"
     ]
    },
    {
     "name": "stderr",
     "output_type": "stream",
     "text": [
      "100%|██████████████████████████████████████████████████████████████████████████████████████████████████████████████████████████████████████████████████████████████████████| 23/23 [00:00<00:00, 436.05it/s]\n"
     ]
    },
    {
     "name": "stdout",
     "output_type": "stream",
     "text": [
      "Relative training error = 10.5605 %\n",
      "Relative test error = 13.0726 %\n"
     ]
    },
    {
     "name": "stderr",
     "output_type": "stream",
     "text": [
      "100%|██████████████████████████████████████████████████████████████████████████████████████████████████████████████████████████████████████████████████████████████████████| 23/23 [00:00<00:00, 449.79it/s]"
     ]
    },
    {
     "name": "stdout",
     "output_type": "stream",
     "text": [
      " loss = 0.1426\n"
     ]
    },
    {
     "name": "stderr",
     "output_type": "stream",
     "text": [
      "\n"
     ]
    },
    {
     "name": "stdout",
     "output_type": "stream",
     "text": [
      "Relative training error = 9.6875 %\n",
      "Relative test error = 11.0193 %\n"
     ]
    },
    {
     "name": "stderr",
     "output_type": "stream",
     "text": [
      "100%|██████████████████████████████████████████████████████████████████████████████████████████████████████████████████████████████████████████████████████████████████████| 23/23 [00:00<00:00, 449.38it/s]\n"
     ]
    },
    {
     "name": "stdout",
     "output_type": "stream",
     "text": [
      " loss = 0.1968\n",
      "Relative training error = 9.2606 %\n",
      "Relative test error = 10.4922 %\n"
     ]
    },
    {
     "name": "stderr",
     "output_type": "stream",
     "text": [
      "100%|██████████████████████████████████████████████████████████████████████████████████████████████████████████████████████████████████████████████████████████████████████| 23/23 [00:00<00:00, 449.56it/s]\n"
     ]
    },
    {
     "name": "stdout",
     "output_type": "stream",
     "text": [
      " loss = 0.1808\n",
      "Relative training error = 8.8401 %\n",
      "Relative test error = 10.4250 %\n"
     ]
    },
    {
     "name": "stderr",
     "output_type": "stream",
     "text": [
      "100%|██████████████████████████████████████████████████████████████████████████████████████████████████████████████████████████████████████████████████████████████████████| 23/23 [00:00<00:00, 455.84it/s]\n"
     ]
    },
    {
     "name": "stdout",
     "output_type": "stream",
     "text": [
      " loss = 0.1526\n",
      "Relative training error = 8.6165 %\n",
      "Relative test error = 10.2534 %\n"
     ]
    },
    {
     "name": "stderr",
     "output_type": "stream",
     "text": [
      "100%|██████████████████████████████████████████████████████████████████████████████████████████████████████████████████████████████████████████████████████████████████████| 23/23 [00:00<00:00, 445.05it/s]\n"
     ]
    },
    {
     "name": "stdout",
     "output_type": "stream",
     "text": [
      " loss = 0.1318\n",
      "Relative training error = 8.4892 %\n",
      "Relative test error = 10.3458 %\n"
     ]
    },
    {
     "name": "stderr",
     "output_type": "stream",
     "text": [
      "100%|██████████████████████████████████████████████████████████████████████████████████████████████████████████████████████████████████████████████████████████████████████| 23/23 [00:00<00:00, 459.08it/s]"
     ]
    },
    {
     "name": "stdout",
     "output_type": "stream",
     "text": [
      " loss = 0.1092\n"
     ]
    },
    {
     "name": "stderr",
     "output_type": "stream",
     "text": [
      "\n"
     ]
    },
    {
     "name": "stdout",
     "output_type": "stream",
     "text": [
      "Relative training error = 8.3617 %\n",
      "Relative test error = 10.0002 %\n"
     ]
    },
    {
     "name": "stderr",
     "output_type": "stream",
     "text": [
      "100%|██████████████████████████████████████████████████████████████████████████████████████████████████████████████████████████████████████████████████████████████████████| 23/23 [00:00<00:00, 439.78it/s]"
     ]
    },
    {
     "name": "stdout",
     "output_type": "stream",
     "text": [
      " loss = 0.1233\n"
     ]
    },
    {
     "name": "stderr",
     "output_type": "stream",
     "text": [
      "\n"
     ]
    },
    {
     "name": "stdout",
     "output_type": "stream",
     "text": [
      "Relative training error = 8.3267 %\n",
      "Relative test error = 10.0539 %\n"
     ]
    },
    {
     "name": "stderr",
     "output_type": "stream",
     "text": [
      "100%|██████████████████████████████████████████████████████████████████████████████████████████████████████████████████████████████████████████████████████████████████████| 23/23 [00:00<00:00, 447.64it/s]"
     ]
    },
    {
     "name": "stdout",
     "output_type": "stream",
     "text": [
      " loss = 0.1299\n"
     ]
    },
    {
     "name": "stderr",
     "output_type": "stream",
     "text": [
      "\n"
     ]
    },
    {
     "name": "stdout",
     "output_type": "stream",
     "text": [
      "Relative training error = 8.2329 %\n",
      "Relative test error = 9.9171 %\n"
     ]
    },
    {
     "name": "stderr",
     "output_type": "stream",
     "text": [
      "100%|██████████████████████████████████████████████████████████████████████████████████████████████████████████████████████████████████████████████████████████████████████| 23/23 [00:00<00:00, 455.81it/s]"
     ]
    },
    {
     "name": "stdout",
     "output_type": "stream",
     "text": [
      " loss = 0.0942\n"
     ]
    },
    {
     "name": "stderr",
     "output_type": "stream",
     "text": [
      "\n"
     ]
    },
    {
     "name": "stdout",
     "output_type": "stream",
     "text": [
      "Relative training error = 8.2361 %\n",
      "Relative test error = 9.9734 %\n"
     ]
    },
    {
     "name": "stderr",
     "output_type": "stream",
     "text": [
      "100%|██████████████████████████████████████████████████████████████████████████████████████████████████████████████████████████████████████████████████████████████████████| 23/23 [00:00<00:00, 453.29it/s]"
     ]
    },
    {
     "name": "stdout",
     "output_type": "stream",
     "text": [
      " loss = 0.1024\n"
     ]
    },
    {
     "name": "stderr",
     "output_type": "stream",
     "text": [
      "\n"
     ]
    },
    {
     "name": "stdout",
     "output_type": "stream",
     "text": [
      "Relative training error = 8.2047 %\n",
      "Relative test error = 10.3943 %\n"
     ]
    },
    {
     "name": "stderr",
     "output_type": "stream",
     "text": [
      "100%|██████████████████████████████████████████████████████████████████████████████████████████████████████████████████████████████████████████████████████████████████████| 23/23 [00:00<00:00, 458.97it/s]"
     ]
    },
    {
     "name": "stdout",
     "output_type": "stream",
     "text": [
      " loss = 0.0742\n"
     ]
    },
    {
     "name": "stderr",
     "output_type": "stream",
     "text": [
      "\n"
     ]
    },
    {
     "name": "stdout",
     "output_type": "stream",
     "text": [
      "Relative training error = 8.1195 %\n",
      "Relative test error = 10.0379 %\n"
     ]
    },
    {
     "name": "stderr",
     "output_type": "stream",
     "text": [
      "100%|██████████████████████████████████████████████████████████████████████████████████████████████████████████████████████████████████████████████████████████████████████| 23/23 [00:00<00:00, 443.99it/s]\n"
     ]
    },
    {
     "name": "stdout",
     "output_type": "stream",
     "text": [
      " loss = 0.1459\n",
      "Relative training error = 8.1263 %\n",
      "Relative test error = 10.1766 %\n"
     ]
    },
    {
     "name": "stderr",
     "output_type": "stream",
     "text": [
      "  0%|                                                                                                                                                                                | 0/23 [00:00<?, ?it/s]"
     ]
    },
    {
     "name": "stdout",
     "output_type": "stream",
     "text": [
      " loss = 0.1673\n"
     ]
    },
    {
     "name": "stderr",
     "output_type": "stream",
     "text": [
      "100%|██████████████████████████████████████████████████████████████████████████████████████████████████████████████████████████████████████████████████████████████████████| 23/23 [00:00<00:00, 344.75it/s]\n"
     ]
    },
    {
     "name": "stdout",
     "output_type": "stream",
     "text": [
      "Relative training error = 8.0912 %\n",
      "Relative test error = 9.8378 %\n"
     ]
    },
    {
     "name": "stderr",
     "output_type": "stream",
     "text": [
      "  0%|                                                                                                                                                                                | 0/23 [00:00<?, ?it/s]"
     ]
    },
    {
     "name": "stdout",
     "output_type": "stream",
     "text": [
      " loss = 0.0806\n"
     ]
    },
    {
     "name": "stderr",
     "output_type": "stream",
     "text": [
      "100%|██████████████████████████████████████████████████████████████████████████████████████████████████████████████████████████████████████████████████████████████████████| 23/23 [00:00<00:00, 343.48it/s]\n"
     ]
    },
    {
     "name": "stdout",
     "output_type": "stream",
     "text": [
      "Relative training error = 8.1203 %\n",
      "Relative test error = 9.7114 %\n"
     ]
    },
    {
     "name": "stderr",
     "output_type": "stream",
     "text": [
      "  0%|                                                                                                                                                                                | 0/23 [00:00<?, ?it/s]"
     ]
    },
    {
     "name": "stdout",
     "output_type": "stream",
     "text": [
      " loss = 0.1571\n"
     ]
    },
    {
     "name": "stderr",
     "output_type": "stream",
     "text": [
      "100%|██████████████████████████████████████████████████████████████████████████████████████████████████████████████████████████████████████████████████████████████████████| 23/23 [00:00<00:00, 345.78it/s]\n"
     ]
    },
    {
     "name": "stdout",
     "output_type": "stream",
     "text": [
      "Relative training error = 8.1357 %\n",
      "Relative test error = 9.8214 %\n"
     ]
    },
    {
     "name": "stderr",
     "output_type": "stream",
     "text": [
      "  0%|                                                                                                                                                                                | 0/23 [00:00<?, ?it/s]"
     ]
    },
    {
     "name": "stdout",
     "output_type": "stream",
     "text": [
      " loss = 0.1381\n"
     ]
    },
    {
     "name": "stderr",
     "output_type": "stream",
     "text": [
      "100%|██████████████████████████████████████████████████████████████████████████████████████████████████████████████████████████████████████████████████████████████████████| 23/23 [00:00<00:00, 345.98it/s]\n"
     ]
    },
    {
     "name": "stdout",
     "output_type": "stream",
     "text": [
      "Relative training error = 8.0491 %\n",
      "Relative test error = 9.8004 %\n"
     ]
    },
    {
     "name": "stderr",
     "output_type": "stream",
     "text": [
      "  0%|                                                                                                                                                                                | 0/23 [00:00<?, ?it/s]"
     ]
    },
    {
     "name": "stdout",
     "output_type": "stream",
     "text": [
      " loss = 0.1139\n"
     ]
    },
    {
     "name": "stderr",
     "output_type": "stream",
     "text": [
      "100%|██████████████████████████████████████████████████████████████████████████████████████████████████████████████████████████████████████████████████████████████████████| 23/23 [00:00<00:00, 433.96it/s]\n"
     ]
    },
    {
     "name": "stdout",
     "output_type": "stream",
     "text": [
      "Relative training error = 8.0513 %\n",
      "Relative test error = 9.7447 %\n"
     ]
    },
    {
     "name": "stderr",
     "output_type": "stream",
     "text": [
      "100%|██████████████████████████████████████████████████████████████████████████████████████████████████████████████████████████████████████████████████████████████████████| 23/23 [00:00<00:00, 458.66it/s]"
     ]
    },
    {
     "name": "stdout",
     "output_type": "stream",
     "text": [
      " loss = 0.0693\n"
     ]
    },
    {
     "name": "stderr",
     "output_type": "stream",
     "text": [
      "\n"
     ]
    },
    {
     "name": "stdout",
     "output_type": "stream",
     "text": [
      "Relative training error = 8.0364 %\n",
      "Relative test error = 9.2561 %\n",
      "Creating DAS_analysis object\n",
      "[-0.01079496 -0.00636261 -0.00472965  0.00829344 -0.03315033  0.01000517\n",
      " -0.03147244  0.01236407 -0.02684816  0.00736422 -0.01663265 -0.00670413\n",
      "  0.01756466 -0.01872044  0.02313004 -0.03355007  0.0332702  -0.02308934\n",
      " -0.04141354  0.01600002 -0.00833672  0.01130101  0.00841153  0.0035773\n",
      "  0.00450807  0.03616873  0.00554306  0.01251749 -0.00332135  0.01660203\n",
      "  0.00364524 -0.00423356 -0.01502233  0.00553334  0.00909886  0.03581746\n",
      " -0.01612826 -0.01689578 -0.00544872 -0.0257047  -0.0020281  -0.00491286\n",
      " -0.01851041 -0.00295021 -0.01707543  0.01278958 -0.03309115 -0.03378421\n",
      "  0.02105434 -0.024914    0.01355151  0.0347159   0.00949286 -0.01157946\n",
      " -0.02779381  0.01103345  0.05014661 -0.0388591   0.03466138 -0.03282935\n",
      "  0.01334391 -0.02446218  0.00617272  0.02966007 -0.0113076  -0.02121396\n",
      " -0.02654688 -0.02603522  0.00742446  0.0033779  -0.03955923 -0.02515224\n",
      " -0.00983606 -0.03146489 -0.02662707  0.00106644 -0.01827304 -0.01481842\n",
      "  0.00496895 -0.01752653  0.02289294  0.02491585 -0.05154504 -0.0153165\n",
      " -0.02955348 -0.01164796  0.00169125  0.00708391  0.00424188 -0.0170783\n",
      " -0.02926962  0.01683864 -0.03211833  0.04620026  0.02204849  0.03711775\n",
      " -0.02703611 -0.02134703 -0.01017228 -0.02460535 -0.00175839  0.00900341\n",
      "  0.0066653   0.02126546 -0.00704159 -0.02525979  0.04929931  0.03000105\n",
      "  0.00056224  0.02727065  0.00672098 -0.02266489 -0.03778072 -0.0143658\n",
      " -0.06977009 -0.00184082  0.03251847  0.00536228  0.00780703  0.00351171\n",
      " -0.001558    0.00453452  0.01956437  0.00755578 -0.00347596 -0.02544811\n",
      " -0.00691871  0.0184323  -0.00946686  0.01644332 -0.00717298 -0.00091536\n",
      " -0.00513515 -0.00200119 -0.00781267  0.03063803  0.00576488 -0.00229528\n",
      "  0.02318851  0.0245067  -0.02252075 -0.01338904  0.0351502  -0.00802465\n",
      " -0.02688461 -0.01285858 -0.04307223  0.01796226 -0.00352158 -0.02649279\n",
      " -0.02409055  0.01353839 -0.01250318  0.00313297  0.01588277  0.01109347\n",
      " -0.00357092  0.00296899  0.00483943 -0.03099188 -0.01898565  0.02774835\n",
      " -0.03559913 -0.0050307   0.0044001   0.13017571 -0.01762796]\n",
      "Parameters ordered from most to least important:\n",
      "[[141 149 165 150 153 151 142  17 137  15 113 109 154  73 107  41  27  39\n",
      "   95 163  10  85 138  36  57 164 159  53  21 166  68  94 108  75  23 117\n",
      "  120 152  87  29  49  97 148  28  52  82  79  93  42  46 134  26 146 106\n",
      "   69 116 133  18  31  43  30 145 105  32 112 110 115  80 155  24 162  22\n",
      "   40  99  74 130 161 147  67  38  11  19   9  58  72 135 100  63  25 118\n",
      "   45  20 119 139 132 157  98  66  47  84  35 123  86 101 144  71 114  48\n",
      "   55 158  90 156 128  83   3  54   1  51 129  59  96 127  13 140  89  65\n",
      "  111  88   8  62  60  44   5 136 103 143  61 104 131  81   7 126   6  70\n",
      "   37 124 122  56   2  34   0 160  91 102 121  92  64  12  78  77  50  76\n",
      "   33 125   4  14  16]]\n",
      "Creating DAS_Surrogate Object\n",
      "Creating Feature Engineering object\n",
      "Using  662/662 samples to train the ML model\n",
      "===============================\n",
      "Neural net parameters\n",
      "===============================\n",
      "Number of layers = 3\n",
      "Number of features = 167\n",
      "Loss function = squared\n",
      "Number of neurons per hidden layer = 20\n",
      "Number of output neurons = 1\n",
      "Activation = ['linear', 'linear', 'tanh', 'linear']\n",
      "This neural network has 228 weights.\n",
      "===============================\n",
      "===============================\n",
      "Training Deep Active Subspace Neural Network...\n"
     ]
    },
    {
     "name": "stderr",
     "output_type": "stream",
     "text": [
      "100%|██████████████████████████████████████████████████████████████████████████████████████████████████████████████████████████████████████████████████████████████████████| 23/23 [00:00<00:00, 455.55it/s]"
     ]
    },
    {
     "name": "stdout",
     "output_type": "stream",
     "text": [
      " loss = 1.2039\n"
     ]
    },
    {
     "name": "stderr",
     "output_type": "stream",
     "text": [
      "\n"
     ]
    },
    {
     "name": "stdout",
     "output_type": "stream",
     "text": [
      "Relative training error = 23.9335 %\n",
      "Relative test error = 23.2312 %\n"
     ]
    },
    {
     "name": "stderr",
     "output_type": "stream",
     "text": [
      "100%|██████████████████████████████████████████████████████████████████████████████████████████████████████████████████████████████████████████████████████████████████████| 23/23 [00:00<00:00, 538.55it/s]"
     ]
    },
    {
     "name": "stdout",
     "output_type": "stream",
     "text": [
      " loss = 0.9520\n"
     ]
    },
    {
     "name": "stderr",
     "output_type": "stream",
     "text": [
      "\n"
     ]
    },
    {
     "name": "stdout",
     "output_type": "stream",
     "text": [
      "Relative training error = 23.1025 %\n",
      "Relative test error = 22.6783 %\n"
     ]
    },
    {
     "name": "stderr",
     "output_type": "stream",
     "text": [
      "100%|██████████████████████████████████████████████████████████████████████████████████████████████████████████████████████████████████████████████████████████████████████| 23/23 [00:00<00:00, 560.64it/s]"
     ]
    },
    {
     "name": "stdout",
     "output_type": "stream",
     "text": [
      " loss = 0.8347\n",
      "Relative training error = 19.0423 %\n"
     ]
    },
    {
     "name": "stderr",
     "output_type": "stream",
     "text": [
      "\n"
     ]
    },
    {
     "name": "stdout",
     "output_type": "stream",
     "text": [
      "Relative test error = 20.5576 %\n"
     ]
    },
    {
     "name": "stderr",
     "output_type": "stream",
     "text": [
      "100%|██████████████████████████████████████████████████████████████████████████████████████████████████████████████████████████████████████████████████████████████████████| 23/23 [00:00<00:00, 585.08it/s]\n"
     ]
    },
    {
     "name": "stdout",
     "output_type": "stream",
     "text": [
      " loss = 0.6124\n",
      "Relative training error = 14.4462 %\n",
      "Relative test error = 16.9166 %\n"
     ]
    },
    {
     "name": "stderr",
     "output_type": "stream",
     "text": [
      "  0%|                                                                                                                                                                                | 0/23 [00:00<?, ?it/s]"
     ]
    },
    {
     "name": "stdout",
     "output_type": "stream",
     "text": [
      " loss = 0.4233\n"
     ]
    },
    {
     "name": "stderr",
     "output_type": "stream",
     "text": [
      "100%|██████████████████████████████████████████████████████████████████████████████████████████████████████████████████████████████████████████████████████████████████████| 23/23 [00:00<00:00, 574.32it/s]\n"
     ]
    },
    {
     "name": "stdout",
     "output_type": "stream",
     "text": [
      "Relative training error = 11.9023 %\n",
      "Relative test error = 14.3175 %\n"
     ]
    },
    {
     "name": "stderr",
     "output_type": "stream",
     "text": [
      "  0%|                                                                                                                                                                                | 0/23 [00:00<?, ?it/s]"
     ]
    },
    {
     "name": "stdout",
     "output_type": "stream",
     "text": [
      " loss = 0.1766\n"
     ]
    },
    {
     "name": "stderr",
     "output_type": "stream",
     "text": [
      "100%|██████████████████████████████████████████████████████████████████████████████████████████████████████████████████████████████████████████████████████████████████████| 23/23 [00:00<00:00, 559.63it/s]\n"
     ]
    },
    {
     "name": "stdout",
     "output_type": "stream",
     "text": [
      "Relative training error = 10.4662 %\n",
      "Relative test error = 12.5898 %\n"
     ]
    },
    {
     "name": "stderr",
     "output_type": "stream",
     "text": [
      "100%|██████████████████████████████████████████████████████████████████████████████████████████████████████████████████████████████████████████████████████████████████████| 23/23 [00:00<00:00, 551.17it/s]"
     ]
    },
    {
     "name": "stdout",
     "output_type": "stream",
     "text": [
      " loss = 0.2303\n"
     ]
    },
    {
     "name": "stderr",
     "output_type": "stream",
     "text": [
      "\n"
     ]
    },
    {
     "name": "stdout",
     "output_type": "stream",
     "text": [
      "Relative training error = 9.5439 %\n",
      "Relative test error = 11.3978 %\n"
     ]
    },
    {
     "name": "stderr",
     "output_type": "stream",
     "text": [
      "100%|██████████████████████████████████████████████████████████████████████████████████████████████████████████████████████████████████████████████████████████████████████| 23/23 [00:00<00:00, 544.47it/s]\n"
     ]
    },
    {
     "name": "stdout",
     "output_type": "stream",
     "text": [
      " loss = 0.1281\n",
      "Relative training error = 9.1164 %\n",
      "Relative test error = 10.7409 %\n"
     ]
    },
    {
     "name": "stderr",
     "output_type": "stream",
     "text": [
      "100%|██████████████████████████████████████████████████████████████████████████████████████████████████████████████████████████████████████████████████████████████████████| 23/23 [00:00<00:00, 470.56it/s]"
     ]
    },
    {
     "name": "stdout",
     "output_type": "stream",
     "text": [
      " loss = 0.1243\n"
     ]
    },
    {
     "name": "stderr",
     "output_type": "stream",
     "text": [
      "\n"
     ]
    },
    {
     "name": "stdout",
     "output_type": "stream",
     "text": [
      "Relative training error = 8.6438 %\n",
      "Relative test error = 10.0004 %\n"
     ]
    },
    {
     "name": "stderr",
     "output_type": "stream",
     "text": [
      "100%|██████████████████████████████████████████████████████████████████████████████████████████████████████████████████████████████████████████████████████████████████████| 23/23 [00:00<00:00, 562.04it/s]"
     ]
    },
    {
     "name": "stdout",
     "output_type": "stream",
     "text": [
      " loss = 0.1910\n"
     ]
    },
    {
     "name": "stderr",
     "output_type": "stream",
     "text": [
      "\n"
     ]
    },
    {
     "name": "stdout",
     "output_type": "stream",
     "text": [
      "Relative training error = 8.4762 %\n",
      "Relative test error = 9.7265 %\n"
     ]
    },
    {
     "name": "stderr",
     "output_type": "stream",
     "text": [
      "100%|██████████████████████████████████████████████████████████████████████████████████████████████████████████████████████████████████████████████████████████████████████| 23/23 [00:00<00:00, 422.86it/s]"
     ]
    },
    {
     "name": "stdout",
     "output_type": "stream",
     "text": [
      " loss = 0.1527\n"
     ]
    },
    {
     "name": "stderr",
     "output_type": "stream",
     "text": [
      "\n"
     ]
    },
    {
     "name": "stdout",
     "output_type": "stream",
     "text": [
      "Relative training error = 8.3560 %\n",
      "Relative test error = 9.7871 %\n"
     ]
    },
    {
     "name": "stderr",
     "output_type": "stream",
     "text": [
      "100%|██████████████████████████████████████████████████████████████████████████████████████████████████████████████████████████████████████████████████████████████████████| 23/23 [00:00<00:00, 448.75it/s]"
     ]
    },
    {
     "name": "stdout",
     "output_type": "stream",
     "text": [
      " loss = 0.1273\n"
     ]
    },
    {
     "name": "stderr",
     "output_type": "stream",
     "text": [
      "\n"
     ]
    },
    {
     "name": "stdout",
     "output_type": "stream",
     "text": [
      "Relative training error = 8.2461 %\n",
      "Relative test error = 9.5695 %\n"
     ]
    },
    {
     "name": "stderr",
     "output_type": "stream",
     "text": [
      "100%|██████████████████████████████████████████████████████████████████████████████████████████████████████████████████████████████████████████████████████████████████████| 23/23 [00:00<00:00, 448.14it/s]\n"
     ]
    },
    {
     "name": "stdout",
     "output_type": "stream",
     "text": [
      " loss = 0.1502\n",
      "Relative training error = 8.2543 %\n",
      "Relative test error = 9.6299 %\n"
     ]
    },
    {
     "name": "stderr",
     "output_type": "stream",
     "text": [
      "100%|██████████████████████████████████████████████████████████████████████████████████████████████████████████████████████████████████████████████████████████████████████| 23/23 [00:00<00:00, 438.75it/s]\n"
     ]
    },
    {
     "name": "stdout",
     "output_type": "stream",
     "text": [
      " loss = 0.0790\n",
      "Relative training error = 8.2271 %\n",
      "Relative test error = 9.5477 %\n"
     ]
    },
    {
     "name": "stderr",
     "output_type": "stream",
     "text": [
      "  0%|                                                                                                                                                                                | 0/23 [00:00<?, ?it/s]"
     ]
    },
    {
     "name": "stdout",
     "output_type": "stream",
     "text": [
      " loss = 0.0986\n"
     ]
    },
    {
     "name": "stderr",
     "output_type": "stream",
     "text": [
      "100%|██████████████████████████████████████████████████████████████████████████████████████████████████████████████████████████████████████████████████████████████████████| 23/23 [00:00<00:00, 337.95it/s]\n"
     ]
    },
    {
     "name": "stdout",
     "output_type": "stream",
     "text": [
      "Relative training error = 8.2305 %\n",
      "Relative test error = 9.4742 %\n"
     ]
    },
    {
     "name": "stderr",
     "output_type": "stream",
     "text": [
      "  0%|                                                                                                                                                                                | 0/23 [00:00<?, ?it/s]"
     ]
    },
    {
     "name": "stdout",
     "output_type": "stream",
     "text": [
      " loss = 0.2000\n"
     ]
    },
    {
     "name": "stderr",
     "output_type": "stream",
     "text": [
      "100%|██████████████████████████████████████████████████████████████████████████████████████████████████████████████████████████████████████████████████████████████████████| 23/23 [00:00<00:00, 344.19it/s]\n"
     ]
    },
    {
     "name": "stdout",
     "output_type": "stream",
     "text": [
      "Relative training error = 8.2106 %\n",
      "Relative test error = 9.3320 %\n",
      "Creating DAS_analysis object\n",
      "[-0.01079496 -0.00636261 -0.00472965  0.00829344 -0.03315033  0.01000517\n",
      " -0.03147244  0.01236407 -0.02684816  0.00736422 -0.01663265 -0.00670413\n",
      "  0.01756466 -0.01872044  0.02313004 -0.03355007  0.0332702  -0.02308934\n",
      " -0.04141354  0.01600002 -0.00833672  0.01130101  0.00841153  0.0035773\n",
      "  0.00450807  0.03616873  0.00554306  0.01251749 -0.00332135  0.01660203\n",
      "  0.00364524 -0.00423356 -0.01502233  0.00553334  0.00909886  0.03581746\n",
      " -0.01612826 -0.01689578 -0.00544872 -0.0257047  -0.0020281  -0.00491286\n",
      " -0.01851041 -0.00295021 -0.01707543  0.01278958 -0.03309115 -0.03378421\n",
      "  0.02105434 -0.024914    0.01355151  0.0347159   0.00949286 -0.01157946\n",
      " -0.02779381  0.01103345  0.05014661 -0.0388591   0.03466138 -0.03282935\n",
      "  0.01334391 -0.02446218  0.00617272  0.02966007 -0.0113076  -0.02121396\n",
      " -0.02654688 -0.02603522  0.00742446  0.0033779  -0.03955923 -0.02515224\n",
      " -0.00983606 -0.03146489 -0.02662707  0.00106644 -0.01827304 -0.01481842\n",
      "  0.00496895 -0.01752653  0.02289294  0.02491585 -0.05154504 -0.0153165\n",
      " -0.02955348 -0.01164796  0.00169125  0.00708391  0.00424188 -0.0170783\n",
      " -0.02926962  0.01683864 -0.03211833  0.04620026  0.02204849  0.03711775\n",
      " -0.02703611 -0.02134703 -0.01017228 -0.02460535 -0.00175839  0.00900341\n",
      "  0.0066653   0.02126546 -0.00704159 -0.02525979  0.04929931  0.03000105\n",
      "  0.00056224  0.02727065  0.00672098 -0.02266489 -0.03778072 -0.0143658\n",
      " -0.06977009 -0.00184082  0.03251847  0.00536228  0.00780703  0.00351171\n",
      " -0.001558    0.00453452  0.01956437  0.00755578 -0.00347596 -0.02544811\n",
      " -0.00691871  0.0184323  -0.00946686  0.01644332 -0.00717298 -0.00091536\n",
      " -0.00513515 -0.00200119 -0.00781267  0.03063803  0.00576488 -0.00229528\n",
      "  0.02318851  0.0245067  -0.02252075 -0.01338904  0.0351502  -0.00802465\n",
      " -0.02688461 -0.01285858 -0.04307223  0.01796226 -0.00352158 -0.02649279\n",
      " -0.02409055  0.01353839 -0.01250318  0.00313297  0.01588277  0.01109347\n",
      " -0.00357092  0.00296899  0.00483943 -0.03099188 -0.01898565  0.02774835\n",
      " -0.03559913 -0.0050307   0.0044001   0.13017571 -0.01762796]\n",
      "Parameters ordered from most to least important:\n",
      "[[141 149 165 150 153 151 142  17 137  15 113 138 109 154  95 107  73  53\n",
      "   27  85  39  94  41 163  21  99  36  10 159 152  87  57  93 117 164 166\n",
      "   28 105 120  18 127 100  40 146 140 161  29  75  51 106 155   1  42   6\n",
      "   23  26  96 139  24 133  16  82 112 162  83  47  59 110  69 115  62 101\n",
      "  121  19  46   5 145  49  31  30  38  33  37  54  79 156 123  61 108  74\n",
      "   55  97   2 134 111  84  68 116 148 136  76  78 158   7  77 124 103  25\n",
      "   70 118 129  66 128 157   9  44  56  48 147  22  63 143 102 135  52 160\n",
      "  126  80  58  88 144 119 104   4   3  34  91  86  50  89  45  32  98  81\n",
      "  125 130   0  43  20 122  92 114  60 132   8  14  13  64  11  12 131  71\n",
      "   72  35  90  67  65]]\n",
      "Creating DAS_Surrogate Object\n",
      "Creating Feature Engineering object\n",
      "Using  662/662 samples to train the ML model\n",
      "===============================\n",
      "Neural net parameters\n",
      "===============================\n",
      "Number of layers = 3\n",
      "Number of features = 167\n",
      "Loss function = squared\n",
      "Number of neurons per hidden layer = 20\n",
      "Number of output neurons = 1\n",
      "Activation = ['linear', 'linear', 'tanh', 'linear']\n",
      "This neural network has 228 weights.\n",
      "===============================\n",
      "===============================\n",
      "Training Deep Active Subspace Neural Network...\n"
     ]
    },
    {
     "name": "stderr",
     "output_type": "stream",
     "text": [
      "  0%|                                                                                                                                                                                | 0/23 [00:00<?, ?it/s]"
     ]
    },
    {
     "name": "stdout",
     "output_type": "stream",
     "text": [
      " loss = 1.9392\n"
     ]
    },
    {
     "name": "stderr",
     "output_type": "stream",
     "text": [
      "100%|██████████████████████████████████████████████████████████████████████████████████████████████████████████████████████████████████████████████████████████████████████| 23/23 [00:00<00:00, 433.50it/s]\n"
     ]
    },
    {
     "name": "stdout",
     "output_type": "stream",
     "text": [
      "Relative training error = 24.2846 %\n",
      "Relative test error = 22.8014 %\n"
     ]
    },
    {
     "name": "stderr",
     "output_type": "stream",
     "text": [
      "100%|██████████████████████████████████████████████████████████████████████████████████████████████████████████████████████████████████████████████████████████████████████| 23/23 [00:00<00:00, 446.64it/s]\n"
     ]
    },
    {
     "name": "stdout",
     "output_type": "stream",
     "text": [
      " loss = 1.5547\n",
      "Relative training error = 22.0402 %\n",
      "Relative test error = 21.6099 %\n"
     ]
    },
    {
     "name": "stderr",
     "output_type": "stream",
     "text": [
      "100%|██████████████████████████████████████████████████████████████████████████████████████████████████████████████████████████████████████████████████████████████████████| 23/23 [00:00<00:00, 447.65it/s]"
     ]
    },
    {
     "name": "stdout",
     "output_type": "stream",
     "text": [
      " loss = 0.9724\n"
     ]
    },
    {
     "name": "stderr",
     "output_type": "stream",
     "text": [
      "\n"
     ]
    },
    {
     "name": "stdout",
     "output_type": "stream",
     "text": [
      "Relative training error = 19.5526 %\n",
      "Relative test error = 19.6099 %\n"
     ]
    },
    {
     "name": "stderr",
     "output_type": "stream",
     "text": [
      "  0%|                                                                                                                                                                                | 0/23 [00:00<?, ?it/s]"
     ]
    },
    {
     "name": "stdout",
     "output_type": "stream",
     "text": [
      " loss = 0.6261\n"
     ]
    },
    {
     "name": "stderr",
     "output_type": "stream",
     "text": [
      "100%|██████████████████████████████████████████████████████████████████████████████████████████████████████████████████████████████████████████████████████████████████████| 23/23 [00:00<00:00, 343.34it/s]\n"
     ]
    },
    {
     "name": "stdout",
     "output_type": "stream",
     "text": [
      "Relative training error = 16.2771 %\n",
      "Relative test error = 18.0910 %\n"
     ]
    },
    {
     "name": "stderr",
     "output_type": "stream",
     "text": [
      "  0%|                                                                                                                                                                                | 0/23 [00:00<?, ?it/s]"
     ]
    },
    {
     "name": "stdout",
     "output_type": "stream",
     "text": [
      " loss = 0.6981\n"
     ]
    },
    {
     "name": "stderr",
     "output_type": "stream",
     "text": [
      "100%|██████████████████████████████████████████████████████████████████████████████████████████████████████████████████████████████████████████████████████████████████████| 23/23 [00:00<00:00, 339.09it/s]\n"
     ]
    },
    {
     "name": "stdout",
     "output_type": "stream",
     "text": [
      "Relative training error = 13.4044 %\n",
      "Relative test error = 15.5185 %\n"
     ]
    },
    {
     "name": "stderr",
     "output_type": "stream",
     "text": [
      "  0%|                                                                                                                                                                                | 0/23 [00:00<?, ?it/s]"
     ]
    },
    {
     "name": "stdout",
     "output_type": "stream",
     "text": [
      " loss = 0.4371\n"
     ]
    },
    {
     "name": "stderr",
     "output_type": "stream",
     "text": [
      "100%|██████████████████████████████████████████████████████████████████████████████████████████████████████████████████████████████████████████████████████████████████████| 23/23 [00:00<00:00, 393.26it/s]\n"
     ]
    },
    {
     "name": "stdout",
     "output_type": "stream",
     "text": [
      "Relative training error = 11.2373 %\n",
      "Relative test error = 12.7973 %\n"
     ]
    },
    {
     "name": "stderr",
     "output_type": "stream",
     "text": [
      "100%|██████████████████████████████████████████████████████████████████████████████████████████████████████████████████████████████████████████████████████████████████████| 23/23 [00:00<00:00, 426.15it/s]"
     ]
    },
    {
     "name": "stdout",
     "output_type": "stream",
     "text": [
      " loss = 0.3282\n"
     ]
    },
    {
     "name": "stderr",
     "output_type": "stream",
     "text": [
      "\n"
     ]
    },
    {
     "name": "stdout",
     "output_type": "stream",
     "text": [
      "Relative training error = 9.9198 %\n",
      "Relative test error = 11.4013 %\n"
     ]
    },
    {
     "name": "stderr",
     "output_type": "stream",
     "text": [
      "100%|██████████████████████████████████████████████████████████████████████████████████████████████████████████████████████████████████████████████████████████████████████| 23/23 [00:00<00:00, 524.59it/s]"
     ]
    },
    {
     "name": "stdout",
     "output_type": "stream",
     "text": [
      " loss = 0.2126\n"
     ]
    },
    {
     "name": "stderr",
     "output_type": "stream",
     "text": [
      "\n"
     ]
    },
    {
     "name": "stdout",
     "output_type": "stream",
     "text": [
      "Relative training error = 9.3657 %\n",
      "Relative test error = 10.6638 %\n"
     ]
    },
    {
     "name": "stderr",
     "output_type": "stream",
     "text": [
      "100%|██████████████████████████████████████████████████████████████████████████████████████████████████████████████████████████████████████████████████████████████████████| 23/23 [00:00<00:00, 534.26it/s]\n"
     ]
    },
    {
     "name": "stdout",
     "output_type": "stream",
     "text": [
      " loss = 0.1465\n",
      "Relative training error = 9.0451 %\n",
      "Relative test error = 10.1113 %\n"
     ]
    },
    {
     "name": "stderr",
     "output_type": "stream",
     "text": [
      "100%|██████████████████████████████████████████████████████████████████████████████████████████████████████████████████████████████████████████████████████████████████████| 23/23 [00:00<00:00, 558.15it/s]"
     ]
    },
    {
     "name": "stdout",
     "output_type": "stream",
     "text": [
      " loss = 0.0688\n",
      "Relative training error = 8.7388 %\n"
     ]
    },
    {
     "name": "stderr",
     "output_type": "stream",
     "text": [
      "\n"
     ]
    },
    {
     "name": "stdout",
     "output_type": "stream",
     "text": [
      "Relative test error = 9.3610 %\n"
     ]
    },
    {
     "name": "stderr",
     "output_type": "stream",
     "text": [
      "100%|██████████████████████████████████████████████████████████████████████████████████████████████████████████████████████████████████████████████████████████████████████| 23/23 [00:00<00:00, 468.90it/s]"
     ]
    },
    {
     "name": "stdout",
     "output_type": "stream",
     "text": [
      " loss = 0.1738\n"
     ]
    },
    {
     "name": "stderr",
     "output_type": "stream",
     "text": [
      "\n"
     ]
    },
    {
     "name": "stdout",
     "output_type": "stream",
     "text": [
      "Relative training error = 8.6565 %\n",
      "Relative test error = 9.6741 %\n"
     ]
    },
    {
     "name": "stderr",
     "output_type": "stream",
     "text": [
      "100%|██████████████████████████████████████████████████████████████████████████████████████████████████████████████████████████████████████████████████████████████████████| 23/23 [00:00<00:00, 494.23it/s]"
     ]
    },
    {
     "name": "stdout",
     "output_type": "stream",
     "text": [
      " loss = 0.1664\n"
     ]
    },
    {
     "name": "stderr",
     "output_type": "stream",
     "text": [
      "\n"
     ]
    },
    {
     "name": "stdout",
     "output_type": "stream",
     "text": [
      "Relative training error = 8.4333 %\n",
      "Relative test error = 9.6375 %\n"
     ]
    },
    {
     "name": "stderr",
     "output_type": "stream",
     "text": [
      "100%|██████████████████████████████████████████████████████████████████████████████████████████████████████████████████████████████████████████████████████████████████████| 23/23 [00:00<00:00, 452.59it/s]"
     ]
    },
    {
     "name": "stdout",
     "output_type": "stream",
     "text": [
      " loss = 0.0640\n"
     ]
    },
    {
     "name": "stderr",
     "output_type": "stream",
     "text": [
      "\n"
     ]
    },
    {
     "name": "stdout",
     "output_type": "stream",
     "text": [
      "Relative training error = 8.3428 %\n",
      "Relative test error = 10.0054 %\n"
     ]
    },
    {
     "name": "stderr",
     "output_type": "stream",
     "text": [
      "100%|██████████████████████████████████████████████████████████████████████████████████████████████████████████████████████████████████████████████████████████████████████| 23/23 [00:00<00:00, 447.63it/s]"
     ]
    },
    {
     "name": "stdout",
     "output_type": "stream",
     "text": [
      " loss = 0.1042\n"
     ]
    },
    {
     "name": "stderr",
     "output_type": "stream",
     "text": [
      "\n"
     ]
    },
    {
     "name": "stdout",
     "output_type": "stream",
     "text": [
      "Relative training error = 8.2987 %\n",
      "Relative test error = 10.2109 %\n",
      "Creating DAS_analysis object\n",
      "[-0.01079496 -0.00636261 -0.00472965  0.00829344 -0.03315033  0.01000517\n",
      " -0.03147244  0.01236407 -0.02684816  0.00736422 -0.01663265 -0.00670413\n",
      "  0.01756466 -0.01872044  0.02313004 -0.03355007  0.0332702  -0.02308934\n",
      " -0.04141354  0.01600002 -0.00833672  0.01130101  0.00841153  0.0035773\n",
      "  0.00450807  0.03616873  0.00554306  0.01251749 -0.00332135  0.01660203\n",
      "  0.00364524 -0.00423356 -0.01502233  0.00553334  0.00909886  0.03581746\n",
      " -0.01612826 -0.01689578 -0.00544872 -0.0257047  -0.0020281  -0.00491286\n",
      " -0.01851041 -0.00295021 -0.01707543  0.01278958 -0.03309115 -0.03378421\n",
      "  0.02105434 -0.024914    0.01355151  0.0347159   0.00949286 -0.01157946\n",
      " -0.02779381  0.01103345  0.05014661 -0.0388591   0.03466138 -0.03282935\n",
      "  0.01334391 -0.02446218  0.00617272  0.02966007 -0.0113076  -0.02121396\n",
      " -0.02654688 -0.02603522  0.00742446  0.0033779  -0.03955923 -0.02515224\n",
      " -0.00983606 -0.03146489 -0.02662707  0.00106644 -0.01827304 -0.01481842\n",
      "  0.00496895 -0.01752653  0.02289294  0.02491585 -0.05154504 -0.0153165\n",
      " -0.02955348 -0.01164796  0.00169125  0.00708391  0.00424188 -0.0170783\n",
      " -0.02926962  0.01683864 -0.03211833  0.04620026  0.02204849  0.03711775\n",
      " -0.02703611 -0.02134703 -0.01017228 -0.02460535 -0.00175839  0.00900341\n",
      "  0.0066653   0.02126546 -0.00704159 -0.02525979  0.04929931  0.03000105\n",
      "  0.00056224  0.02727065  0.00672098 -0.02266489 -0.03778072 -0.0143658\n",
      " -0.06977009 -0.00184082  0.03251847  0.00536228  0.00780703  0.00351171\n",
      " -0.001558    0.00453452  0.01956437  0.00755578 -0.00347596 -0.02544811\n",
      " -0.00691871  0.0184323  -0.00946686  0.01644332 -0.00717298 -0.00091536\n",
      " -0.00513515 -0.00200119 -0.00781267  0.03063803  0.00576488 -0.00229528\n",
      "  0.02318851  0.0245067  -0.02252075 -0.01338904  0.0351502  -0.00802465\n",
      " -0.02688461 -0.01285858 -0.04307223  0.01796226 -0.00352158 -0.02649279\n",
      " -0.02409055  0.01353839 -0.01250318  0.00313297  0.01588277  0.01109347\n",
      " -0.00357092  0.00296899  0.00483943 -0.03099188 -0.01898565  0.02774835\n",
      " -0.03559913 -0.0050307   0.0044001   0.13017571 -0.01762796]\n",
      "Parameters ordered from most to least important:\n",
      "[[141 149 165 153 150 151  17 142 137  15 113 109  95 163 138  27  73 154\n",
      "   85 107  39  41  57  10  53  36 161  94  21  29 159 110  59 166  75  93\n",
      "   16 106  77  68  22 164  23  83  51  42   1  67  82  28   6  99 148 152\n",
      "   79 115 158  61  24  38 140 156  72  26 155  18  97 130 122  30  55  45\n",
      "  162 112  54  74 117   4 105 120  48  87  63 124  40  91  25  35  96 100\n",
      "   33 127 146  13 133  78 111   5   9  49 125  65 147 129 108  11 143   7\n",
      "   31  92  66 135  98  52  47  70  71  84  56  60 101  20 123 136   2  34\n",
      "   80  12  46 104   8 144 160  32  90 114  81 116  44 102  76 103 139  88\n",
      "  145  58   3  43  50  37 132  89 126  14  86   0 157 121  19 131 118  69\n",
      "   64 134 128  62 119]]\n",
      "Creating DAS_Surrogate Object\n",
      "Creating Feature Engineering object\n",
      "Using  662/662 samples to train the ML model\n",
      "===============================\n",
      "Neural net parameters\n",
      "===============================\n",
      "Number of layers = 3\n",
      "Number of features = 167\n",
      "Loss function = squared\n",
      "Number of neurons per hidden layer = 20\n",
      "Number of output neurons = 1\n",
      "Activation = ['linear', 'linear', 'tanh', 'linear']\n",
      "This neural network has 228 weights.\n",
      "===============================\n",
      "===============================\n",
      "Training Deep Active Subspace Neural Network...\n"
     ]
    },
    {
     "name": "stderr",
     "output_type": "stream",
     "text": [
      "100%|██████████████████████████████████████████████████████████████████████████████████████████████████████████████████████████████████████████████████████████████████████| 23/23 [00:00<00:00, 446.22it/s]"
     ]
    },
    {
     "name": "stdout",
     "output_type": "stream",
     "text": [
      " loss = 1.0239\n"
     ]
    },
    {
     "name": "stderr",
     "output_type": "stream",
     "text": [
      "\n"
     ]
    },
    {
     "name": "stdout",
     "output_type": "stream",
     "text": [
      "Relative training error = 22.5607 %\n",
      "Relative test error = 22.7257 %\n"
     ]
    },
    {
     "name": "stderr",
     "output_type": "stream",
     "text": [
      "100%|██████████████████████████████████████████████████████████████████████████████████████████████████████████████████████████████████████████████████████████████████████| 23/23 [00:00<00:00, 427.81it/s]"
     ]
    },
    {
     "name": "stdout",
     "output_type": "stream",
     "text": [
      " loss = 0.9368\n"
     ]
    },
    {
     "name": "stderr",
     "output_type": "stream",
     "text": [
      "\n"
     ]
    },
    {
     "name": "stdout",
     "output_type": "stream",
     "text": [
      "Relative training error = 20.1149 %\n",
      "Relative test error = 22.0971 %\n"
     ]
    },
    {
     "name": "stderr",
     "output_type": "stream",
     "text": [
      "100%|██████████████████████████████████████████████████████████████████████████████████████████████████████████████████████████████████████████████████████████████████████| 23/23 [00:00<00:00, 404.76it/s]"
     ]
    },
    {
     "name": "stdout",
     "output_type": "stream",
     "text": [
      " loss = 0.8515\n"
     ]
    },
    {
     "name": "stderr",
     "output_type": "stream",
     "text": [
      "\n"
     ]
    },
    {
     "name": "stdout",
     "output_type": "stream",
     "text": [
      "Relative training error = 16.8761 %\n",
      "Relative test error = 18.7340 %\n"
     ]
    },
    {
     "name": "stderr",
     "output_type": "stream",
     "text": [
      "100%|██████████████████████████████████████████████████████████████████████████████████████████████████████████████████████████████████████████████████████████████████████| 23/23 [00:00<00:00, 443.22it/s]"
     ]
    },
    {
     "name": "stdout",
     "output_type": "stream",
     "text": [
      " loss = 0.4610\n"
     ]
    },
    {
     "name": "stderr",
     "output_type": "stream",
     "text": [
      "\n"
     ]
    },
    {
     "name": "stdout",
     "output_type": "stream",
     "text": [
      "Relative training error = 14.0179 %\n",
      "Relative test error = 15.1208 %\n"
     ]
    },
    {
     "name": "stderr",
     "output_type": "stream",
     "text": [
      "  0%|                                                                                                                                                                                | 0/23 [00:00<?, ?it/s]"
     ]
    },
    {
     "name": "stdout",
     "output_type": "stream",
     "text": [
      " loss = 0.2607\n"
     ]
    },
    {
     "name": "stderr",
     "output_type": "stream",
     "text": [
      "100%|██████████████████████████████████████████████████████████████████████████████████████████████████████████████████████████████████████████████████████████████████████| 23/23 [00:00<00:00, 346.75it/s]\n"
     ]
    },
    {
     "name": "stdout",
     "output_type": "stream",
     "text": [
      "Relative training error = 12.0197 %\n",
      "Relative test error = 13.2463 %\n"
     ]
    },
    {
     "name": "stderr",
     "output_type": "stream",
     "text": [
      "  0%|                                                                                                                                                                                | 0/23 [00:00<?, ?it/s]"
     ]
    },
    {
     "name": "stdout",
     "output_type": "stream",
     "text": [
      " loss = 0.2480\n"
     ]
    },
    {
     "name": "stderr",
     "output_type": "stream",
     "text": [
      "100%|██████████████████████████████████████████████████████████████████████████████████████████████████████████████████████████████████████████████████████████████████████| 23/23 [00:00<00:00, 447.29it/s]\n"
     ]
    },
    {
     "name": "stdout",
     "output_type": "stream",
     "text": [
      "Relative training error = 10.7453 %\n",
      "Relative test error = 12.2223 %\n"
     ]
    },
    {
     "name": "stderr",
     "output_type": "stream",
     "text": [
      "100%|██████████████████████████████████████████████████████████████████████████████████████████████████████████████████████████████████████████████████████████████████████| 23/23 [00:00<00:00, 381.99it/s]"
     ]
    },
    {
     "name": "stdout",
     "output_type": "stream",
     "text": [
      " loss = 0.2513\n"
     ]
    },
    {
     "name": "stderr",
     "output_type": "stream",
     "text": [
      "\n"
     ]
    },
    {
     "name": "stdout",
     "output_type": "stream",
     "text": [
      "Relative training error = 9.8359 %\n",
      "Relative test error = 11.4517 %\n"
     ]
    },
    {
     "name": "stderr",
     "output_type": "stream",
     "text": [
      "  0%|                                                                                                                                                                                | 0/23 [00:00<?, ?it/s]"
     ]
    },
    {
     "name": "stdout",
     "output_type": "stream",
     "text": [
      " loss = 0.1693\n"
     ]
    },
    {
     "name": "stderr",
     "output_type": "stream",
     "text": [
      "100%|██████████████████████████████████████████████████████████████████████████████████████████████████████████████████████████████████████████████████████████████████████| 23/23 [00:00<00:00, 412.56it/s]\n"
     ]
    },
    {
     "name": "stdout",
     "output_type": "stream",
     "text": [
      "Relative training error = 9.3447 %\n",
      "Relative test error = 11.0396 %\n"
     ]
    },
    {
     "name": "stderr",
     "output_type": "stream",
     "text": [
      "100%|██████████████████████████████████████████████████████████████████████████████████████████████████████████████████████████████████████████████████████████████████████| 23/23 [00:00<00:00, 474.25it/s]"
     ]
    },
    {
     "name": "stdout",
     "output_type": "stream",
     "text": [
      " loss = 0.1318\n"
     ]
    },
    {
     "name": "stderr",
     "output_type": "stream",
     "text": [
      "\n"
     ]
    },
    {
     "name": "stdout",
     "output_type": "stream",
     "text": [
      "Relative training error = 8.8931 %\n",
      "Relative test error = 10.2851 %\n"
     ]
    },
    {
     "name": "stderr",
     "output_type": "stream",
     "text": [
      "100%|██████████████████████████████████████████████████████████████████████████████████████████████████████████████████████████████████████████████████████████████████████| 23/23 [00:00<00:00, 461.09it/s]"
     ]
    },
    {
     "name": "stdout",
     "output_type": "stream",
     "text": [
      " loss = 0.1434\n"
     ]
    },
    {
     "name": "stderr",
     "output_type": "stream",
     "text": [
      "\n"
     ]
    },
    {
     "name": "stdout",
     "output_type": "stream",
     "text": [
      "Relative training error = 8.7760 %\n",
      "Relative test error = 10.3106 %\n"
     ]
    },
    {
     "name": "stderr",
     "output_type": "stream",
     "text": [
      "100%|██████████████████████████████████████████████████████████████████████████████████████████████████████████████████████████████████████████████████████████████████████| 23/23 [00:00<00:00, 482.44it/s]"
     ]
    },
    {
     "name": "stdout",
     "output_type": "stream",
     "text": [
      " loss = 0.0927\n"
     ]
    },
    {
     "name": "stderr",
     "output_type": "stream",
     "text": [
      "\n"
     ]
    },
    {
     "name": "stdout",
     "output_type": "stream",
     "text": [
      "Relative training error = 8.5795 %\n",
      "Relative test error = 10.2366 %\n"
     ]
    },
    {
     "name": "stderr",
     "output_type": "stream",
     "text": [
      "100%|██████████████████████████████████████████████████████████████████████████████████████████████████████████████████████████████████████████████████████████████████████| 23/23 [00:00<00:00, 504.61it/s]"
     ]
    },
    {
     "name": "stdout",
     "output_type": "stream",
     "text": [
      " loss = 0.1297\n",
      "Relative training error = 8.4941 %\n",
      "Relative test error = 10.1242 %\n"
     ]
    },
    {
     "name": "stderr",
     "output_type": "stream",
     "text": [
      "\n",
      "100%|██████████████████████████████████████████████████████████████████████████████████████████████████████████████████████████████████████████████████████████████████████| 23/23 [00:00<00:00, 438.34it/s]"
     ]
    },
    {
     "name": "stdout",
     "output_type": "stream",
     "text": [
      " loss = 0.1241\n"
     ]
    },
    {
     "name": "stderr",
     "output_type": "stream",
     "text": [
      "\n"
     ]
    },
    {
     "name": "stdout",
     "output_type": "stream",
     "text": [
      "Relative training error = 8.5177 %\n",
      "Relative test error = 10.3387 %\n"
     ]
    },
    {
     "name": "stderr",
     "output_type": "stream",
     "text": [
      "100%|██████████████████████████████████████████████████████████████████████████████████████████████████████████████████████████████████████████████████████████████████████| 23/23 [00:00<00:00, 526.13it/s]\n"
     ]
    },
    {
     "name": "stdout",
     "output_type": "stream",
     "text": [
      " loss = 0.0735\n",
      "Relative training error = 8.4089 %\n",
      "Relative test error = 9.8725 %\n"
     ]
    },
    {
     "name": "stderr",
     "output_type": "stream",
     "text": [
      "100%|██████████████████████████████████████████████████████████████████████████████████████████████████████████████████████████████████████████████████████████████████████| 23/23 [00:00<00:00, 453.47it/s]\n"
     ]
    },
    {
     "name": "stdout",
     "output_type": "stream",
     "text": [
      " loss = 0.1146\n",
      "Relative training error = 8.3127 %\n",
      "Relative test error = 9.7478 %\n"
     ]
    },
    {
     "name": "stderr",
     "output_type": "stream",
     "text": [
      "100%|██████████████████████████████████████████████████████████████████████████████████████████████████████████████████████████████████████████████████████████████████████| 23/23 [00:00<00:00, 506.58it/s]\n"
     ]
    },
    {
     "name": "stdout",
     "output_type": "stream",
     "text": [
      " loss = 0.1304\n",
      "Relative training error = 8.3817 %\n",
      "Relative test error = 9.5882 %\n"
     ]
    },
    {
     "name": "stderr",
     "output_type": "stream",
     "text": [
      "100%|██████████████████████████████████████████████████████████████████████████████████████████████████████████████████████████████████████████████████████████████████████| 23/23 [00:00<00:00, 472.86it/s]\n"
     ]
    },
    {
     "name": "stdout",
     "output_type": "stream",
     "text": [
      " loss = 0.0965\n",
      "Relative training error = 8.3135 %\n",
      "Relative test error = 9.6108 %\n"
     ]
    },
    {
     "name": "stderr",
     "output_type": "stream",
     "text": [
      "  0%|                                                                                                                                                                                | 0/23 [00:00<?, ?it/s]"
     ]
    },
    {
     "name": "stdout",
     "output_type": "stream",
     "text": [
      " loss = 0.1452\n"
     ]
    },
    {
     "name": "stderr",
     "output_type": "stream",
     "text": [
      "100%|██████████████████████████████████████████████████████████████████████████████████████████████████████████████████████████████████████████████████████████████████████| 23/23 [00:00<00:00, 310.22it/s]\n"
     ]
    },
    {
     "name": "stdout",
     "output_type": "stream",
     "text": [
      "Relative training error = 8.3246 %\n",
      "Relative test error = 9.7452 %\n"
     ]
    },
    {
     "name": "stderr",
     "output_type": "stream",
     "text": [
      "  0%|                                                                                                                                                                                | 0/23 [00:00<?, ?it/s]"
     ]
    },
    {
     "name": "stdout",
     "output_type": "stream",
     "text": [
      " loss = 0.1193\n"
     ]
    },
    {
     "name": "stderr",
     "output_type": "stream",
     "text": [
      "\r",
      "100%|██████████████████████████████████████████████████████████████████████████████████████████████████████████████████████████████████████████████████████████████████████| 23/23 [00:00<00:00, 269.52it/s]"
     ]
    },
    {
     "name": "stdout",
     "output_type": "stream",
     "text": [
      "Relative training error = 8.2918 %\n"
     ]
    },
    {
     "name": "stderr",
     "output_type": "stream",
     "text": [
      "\n"
     ]
    },
    {
     "name": "stdout",
     "output_type": "stream",
     "text": [
      "Relative test error = 9.2086 %\n"
     ]
    },
    {
     "name": "stderr",
     "output_type": "stream",
     "text": [
      "  0%|                                                                                                                                                                                | 0/23 [00:00<?, ?it/s]"
     ]
    },
    {
     "name": "stdout",
     "output_type": "stream",
     "text": [
      " loss = 0.1041\n"
     ]
    },
    {
     "name": "stderr",
     "output_type": "stream",
     "text": [
      "100%|██████████████████████████████████████████████████████████████████████████████████████████████████████████████████████████████████████████████████████████████████████| 23/23 [00:00<00:00, 397.18it/s]\n"
     ]
    },
    {
     "name": "stdout",
     "output_type": "stream",
     "text": [
      "Relative training error = 8.3066 %\n",
      "Relative test error = 9.6185 %\n"
     ]
    },
    {
     "name": "stderr",
     "output_type": "stream",
     "text": [
      "  0%|                                                                                                                                                                                | 0/23 [00:00<?, ?it/s]"
     ]
    },
    {
     "name": "stdout",
     "output_type": "stream",
     "text": [
      " loss = 0.1269\n"
     ]
    },
    {
     "name": "stderr",
     "output_type": "stream",
     "text": [
      "100%|██████████████████████████████████████████████████████████████████████████████████████████████████████████████████████████████████████████████████████████████████████| 23/23 [00:00<00:00, 221.17it/s]\n"
     ]
    },
    {
     "name": "stdout",
     "output_type": "stream",
     "text": [
      "Relative training error = 8.2302 %\n",
      "Relative test error = 9.3155 %\n"
     ]
    },
    {
     "name": "stderr",
     "output_type": "stream",
     "text": [
      "100%|██████████████████████████████████████████████████████████████████████████████████████████████████████████████████████████████████████████████████████████████████████| 23/23 [00:00<00:00, 166.43it/s]"
     ]
    },
    {
     "name": "stdout",
     "output_type": "stream",
     "text": [
      " loss = 0.0777\n"
     ]
    },
    {
     "name": "stderr",
     "output_type": "stream",
     "text": [
      "\n"
     ]
    },
    {
     "name": "stdout",
     "output_type": "stream",
     "text": [
      "Relative training error = 8.1572 %\n",
      "Relative test error = 9.3663 %\n"
     ]
    },
    {
     "name": "stderr",
     "output_type": "stream",
     "text": [
      " 61%|█████████████████████████████████████████████████████████████████████████████████████████████████████                                                                 | 14/23 [00:00<00:00, 131.62it/s]"
     ]
    },
    {
     "name": "stdout",
     "output_type": "stream",
     "text": [
      " loss = 0.0898\n"
     ]
    },
    {
     "name": "stderr",
     "output_type": "stream",
     "text": [
      "100%|██████████████████████████████████████████████████████████████████████████████████████████████████████████████████████████████████████████████████████████████████████| 23/23 [00:00<00:00, 120.77it/s]\n"
     ]
    },
    {
     "name": "stdout",
     "output_type": "stream",
     "text": [
      "Relative training error = 8.1465 %\n",
      "Relative test error = 9.7928 %\n"
     ]
    },
    {
     "name": "stderr",
     "output_type": "stream",
     "text": [
      "100%|██████████████████████████████████████████████████████████████████████████████████████████████████████████████████████████████████████████████████████████████████████| 23/23 [00:00<00:00, 143.38it/s]"
     ]
    },
    {
     "name": "stdout",
     "output_type": "stream",
     "text": [
      " loss = 0.0845\n"
     ]
    },
    {
     "name": "stderr",
     "output_type": "stream",
     "text": [
      "\n"
     ]
    },
    {
     "name": "stdout",
     "output_type": "stream",
     "text": [
      "Relative training error = 8.1074 %\n",
      "Relative test error = 10.1294 %\n"
     ]
    },
    {
     "name": "stderr",
     "output_type": "stream",
     "text": [
      "100%|██████████████████████████████████████████████████████████████████████████████████████████████████████████████████████████████████████████████████████████████████████| 23/23 [00:00<00:00, 209.31it/s]"
     ]
    },
    {
     "name": "stdout",
     "output_type": "stream",
     "text": [
      " loss = 0.1100\n"
     ]
    },
    {
     "name": "stderr",
     "output_type": "stream",
     "text": [
      "\n"
     ]
    },
    {
     "name": "stdout",
     "output_type": "stream",
     "text": [
      "Relative training error = 8.1034 %\n",
      "Relative test error = 10.1316 %\n",
      "Creating DAS_analysis object\n",
      "[-0.01079496 -0.00636261 -0.00472965  0.00829344 -0.03315033  0.01000517\n",
      " -0.03147244  0.01236407 -0.02684816  0.00736422 -0.01663265 -0.00670413\n",
      "  0.01756466 -0.01872044  0.02313004 -0.03355007  0.0332702  -0.02308934\n",
      " -0.04141354  0.01600002 -0.00833672  0.01130101  0.00841153  0.0035773\n",
      "  0.00450807  0.03616873  0.00554306  0.01251749 -0.00332135  0.01660203\n",
      "  0.00364524 -0.00423356 -0.01502233  0.00553334  0.00909886  0.03581746\n",
      " -0.01612826 -0.01689578 -0.00544872 -0.0257047  -0.0020281  -0.00491286\n",
      " -0.01851041 -0.00295021 -0.01707543  0.01278958 -0.03309115 -0.03378421\n",
      "  0.02105434 -0.024914    0.01355151  0.0347159   0.00949286 -0.01157946\n",
      " -0.02779381  0.01103345  0.05014661 -0.0388591   0.03466138 -0.03282935\n",
      "  0.01334391 -0.02446218  0.00617272  0.02966007 -0.0113076  -0.02121396\n",
      " -0.02654688 -0.02603522  0.00742446  0.0033779  -0.03955923 -0.02515224\n",
      " -0.00983606 -0.03146489 -0.02662707  0.00106644 -0.01827304 -0.01481842\n",
      "  0.00496895 -0.01752653  0.02289294  0.02491585 -0.05154504 -0.0153165\n",
      " -0.02955348 -0.01164796  0.00169125  0.00708391  0.00424188 -0.0170783\n",
      " -0.02926962  0.01683864 -0.03211833  0.04620026  0.02204849  0.03711775\n",
      " -0.02703611 -0.02134703 -0.01017228 -0.02460535 -0.00175839  0.00900341\n",
      "  0.0066653   0.02126546 -0.00704159 -0.02525979  0.04929931  0.03000105\n",
      "  0.00056224  0.02727065  0.00672098 -0.02266489 -0.03778072 -0.0143658\n",
      " -0.06977009 -0.00184082  0.03251847  0.00536228  0.00780703  0.00351171\n",
      " -0.001558    0.00453452  0.01956437  0.00755578 -0.00347596 -0.02544811\n",
      " -0.00691871  0.0184323  -0.00946686  0.01644332 -0.00717298 -0.00091536\n",
      " -0.00513515 -0.00200119 -0.00781267  0.03063803  0.00576488 -0.00229528\n",
      "  0.02318851  0.0245067  -0.02252075 -0.01338904  0.0351502  -0.00802465\n",
      " -0.02688461 -0.01285858 -0.04307223  0.01796226 -0.00352158 -0.02649279\n",
      " -0.02409055  0.01353839 -0.01250318  0.00313297  0.01588277  0.01109347\n",
      " -0.00357092  0.00296899  0.00483943 -0.03099188 -0.01898565  0.02774835\n",
      " -0.03559913 -0.0050307   0.0044001   0.13017571 -0.01762796]\n",
      "Parameters ordered from most to least important:\n",
      "[[141 149 165 150 153 151 142  17 137  15 113 154 109 107  95  41 138  73\n",
      "   10  39 163  57  27 115  85 166 164  53 152  94  36  21  99  75  79  29\n",
      "   22 162  68 159  93  28 120   2 112 130 108 156 161  40 110 105  82   6\n",
      "  100 134  86  26  63 122  87  49  23   9 136  43 127   5  69  30 101 155\n",
      "   42  13 145 139  51  16  24  83  52  47  74 131  84  33  19  98  97 146\n",
      "   35 133  37  65 124  62  66  76 117  34 106 158  18 132 148  48 129  72\n",
      "  123  38  32 111  61  91  90 116  46  80  64 121 143 140  31  56 103  60\n",
      "   55 128 147  89  59  71  77 144 157  44  14  11   0   4 114 160  54  70\n",
      "   45 104  81   1  96  92  58 118   8  88 135 126 102  25  20  67 119  50\n",
      "    3   7  12  78 125]]\n",
      "Creating DAS_Surrogate Object\n",
      "Creating Feature Engineering object\n",
      "Using  662/662 samples to train the ML model\n",
      "===============================\n",
      "Neural net parameters\n",
      "===============================\n",
      "Number of layers = 3\n",
      "Number of features = 167\n",
      "Loss function = squared\n",
      "Number of neurons per hidden layer = 20\n",
      "Number of output neurons = 1\n",
      "Activation = ['linear', 'linear', 'tanh', 'linear']\n",
      "This neural network has 228 weights.\n",
      "===============================\n",
      "===============================\n",
      "Training Deep Active Subspace Neural Network...\n"
     ]
    },
    {
     "name": "stderr",
     "output_type": "stream",
     "text": [
      "100%|██████████████████████████████████████████████████████████████████████████████████████████████████████████████████████████████████████████████████████████████████████| 23/23 [00:00<00:00, 309.85it/s]"
     ]
    },
    {
     "name": "stdout",
     "output_type": "stream",
     "text": [
      " loss = 1.3840\n"
     ]
    },
    {
     "name": "stderr",
     "output_type": "stream",
     "text": [
      "\n"
     ]
    },
    {
     "name": "stdout",
     "output_type": "stream",
     "text": [
      "Relative training error = 23.8118 %\n",
      "Relative test error = 22.7683 %\n"
     ]
    },
    {
     "name": "stderr",
     "output_type": "stream",
     "text": [
      "  0%|                                                                                                                                                                                | 0/23 [00:00<?, ?it/s]"
     ]
    },
    {
     "name": "stdout",
     "output_type": "stream",
     "text": [
      " loss = 0.9710\n"
     ]
    },
    {
     "name": "stderr",
     "output_type": "stream",
     "text": [
      "100%|██████████████████████████████████████████████████████████████████████████████████████████████████████████████████████████████████████████████████████████████████████| 23/23 [00:00<00:00, 310.88it/s]\n"
     ]
    },
    {
     "name": "stdout",
     "output_type": "stream",
     "text": [
      "Relative training error = 22.6781 %\n",
      "Relative test error = 22.6328 %\n"
     ]
    },
    {
     "name": "stderr",
     "output_type": "stream",
     "text": [
      "  0%|                                                                                                                                                                                | 0/23 [00:00<?, ?it/s]"
     ]
    },
    {
     "name": "stdout",
     "output_type": "stream",
     "text": [
      " loss = 0.5650\n"
     ]
    },
    {
     "name": "stderr",
     "output_type": "stream",
     "text": [
      "100%|██████████████████████████████████████████████████████████████████████████████████████████████████████████████████████████████████████████████████████████████████████| 23/23 [00:00<00:00, 348.87it/s]\n"
     ]
    },
    {
     "name": "stdout",
     "output_type": "stream",
     "text": [
      "Relative training error = 20.1012 %\n",
      "Relative test error = 21.0265 %\n"
     ]
    },
    {
     "name": "stderr",
     "output_type": "stream",
     "text": [
      "  0%|                                                                                                                                                                                | 0/23 [00:00<?, ?it/s]"
     ]
    },
    {
     "name": "stdout",
     "output_type": "stream",
     "text": [
      " loss = 0.7314\n"
     ]
    },
    {
     "name": "stderr",
     "output_type": "stream",
     "text": [
      "100%|██████████████████████████████████████████████████████████████████████████████████████████████████████████████████████████████████████████████████████████████████████| 23/23 [00:00<00:00, 414.02it/s]\n"
     ]
    },
    {
     "name": "stdout",
     "output_type": "stream",
     "text": [
      "Relative training error = 16.6670 %\n",
      "Relative test error = 18.7232 %\n"
     ]
    },
    {
     "name": "stderr",
     "output_type": "stream",
     "text": [
      "  0%|                                                                                                                                                                                | 0/23 [00:00<?, ?it/s]"
     ]
    },
    {
     "name": "stdout",
     "output_type": "stream",
     "text": [
      " loss = 0.3880\n"
     ]
    },
    {
     "name": "stderr",
     "output_type": "stream",
     "text": [
      "100%|██████████████████████████████████████████████████████████████████████████████████████████████████████████████████████████████████████████████████████████████████████| 23/23 [00:00<00:00, 173.89it/s]\n"
     ]
    },
    {
     "name": "stdout",
     "output_type": "stream",
     "text": [
      "Relative training error = 14.0457 %\n",
      "Relative test error = 16.4007 %\n"
     ]
    },
    {
     "name": "stderr",
     "output_type": "stream",
     "text": [
      "100%|██████████████████████████████████████████████████████████████████████████████████████████████████████████████████████████████████████████████████████████████████████| 23/23 [00:00<00:00, 195.47it/s]"
     ]
    },
    {
     "name": "stdout",
     "output_type": "stream",
     "text": [
      " loss = 0.2357\n"
     ]
    },
    {
     "name": "stderr",
     "output_type": "stream",
     "text": [
      "\n"
     ]
    },
    {
     "name": "stdout",
     "output_type": "stream",
     "text": [
      "Relative training error = 11.8667 %\n",
      "Relative test error = 13.7638 %\n"
     ]
    },
    {
     "name": "stderr",
     "output_type": "stream",
     "text": [
      "100%|██████████████████████████████████████████████████████████████████████████████████████████████████████████████████████████████████████████████████████████████████████| 23/23 [00:00<00:00, 235.44it/s]"
     ]
    },
    {
     "name": "stdout",
     "output_type": "stream",
     "text": [
      " loss = 0.2981\n"
     ]
    },
    {
     "name": "stderr",
     "output_type": "stream",
     "text": [
      "\n"
     ]
    },
    {
     "name": "stdout",
     "output_type": "stream",
     "text": [
      "Relative training error = 10.7689 %\n",
      "Relative test error = 12.2716 %\n"
     ]
    },
    {
     "name": "stderr",
     "output_type": "stream",
     "text": [
      "100%|██████████████████████████████████████████████████████████████████████████████████████████████████████████████████████████████████████████████████████████████████████| 23/23 [00:00<00:00, 268.36it/s]"
     ]
    },
    {
     "name": "stdout",
     "output_type": "stream",
     "text": [
      " loss = 0.2602\n",
      "Relative training error = 9.8084 %\n"
     ]
    },
    {
     "name": "stderr",
     "output_type": "stream",
     "text": [
      "\n"
     ]
    },
    {
     "name": "stdout",
     "output_type": "stream",
     "text": [
      "Relative test error = 11.1070 %\n"
     ]
    },
    {
     "name": "stderr",
     "output_type": "stream",
     "text": [
      "100%|██████████████████████████████████████████████████████████████████████████████████████████████████████████████████████████████████████████████████████████████████████| 23/23 [00:00<00:00, 260.65it/s]"
     ]
    },
    {
     "name": "stdout",
     "output_type": "stream",
     "text": [
      " loss = 0.2975\n",
      "Relative training error = 9.2232 %\n"
     ]
    },
    {
     "name": "stderr",
     "output_type": "stream",
     "text": [
      "\n"
     ]
    },
    {
     "name": "stdout",
     "output_type": "stream",
     "text": [
      "Relative test error = 10.4665 %\n"
     ]
    },
    {
     "name": "stderr",
     "output_type": "stream",
     "text": [
      "100%|██████████████████████████████████████████████████████████████████████████████████████████████████████████████████████████████████████████████████████████████████████| 23/23 [00:00<00:00, 213.33it/s]"
     ]
    },
    {
     "name": "stdout",
     "output_type": "stream",
     "text": [
      " loss = 0.1832\n"
     ]
    },
    {
     "name": "stderr",
     "output_type": "stream",
     "text": [
      "\n"
     ]
    },
    {
     "name": "stdout",
     "output_type": "stream",
     "text": [
      "Relative training error = 8.7969 %\n",
      "Relative test error = 10.0525 %\n"
     ]
    },
    {
     "name": "stderr",
     "output_type": "stream",
     "text": [
      "100%|██████████████████████████████████████████████████████████████████████████████████████████████████████████████████████████████████████████████████████████████████████| 23/23 [00:00<00:00, 198.03it/s]"
     ]
    },
    {
     "name": "stdout",
     "output_type": "stream",
     "text": [
      " loss = 0.1587\n"
     ]
    },
    {
     "name": "stderr",
     "output_type": "stream",
     "text": [
      "\n"
     ]
    },
    {
     "name": "stdout",
     "output_type": "stream",
     "text": [
      "Relative training error = 8.5801 %\n",
      "Relative test error = 9.9934 %\n"
     ]
    },
    {
     "name": "stderr",
     "output_type": "stream",
     "text": [
      "100%|██████████████████████████████████████████████████████████████████████████████████████████████████████████████████████████████████████████████████████████████████████| 23/23 [00:00<00:00, 305.15it/s]\n"
     ]
    },
    {
     "name": "stdout",
     "output_type": "stream",
     "text": [
      " loss = 0.1779\n",
      "Relative training error = 8.4280 %\n",
      "Relative test error = 9.9410 %\n"
     ]
    },
    {
     "name": "stderr",
     "output_type": "stream",
     "text": [
      "  0%|                                                                                                                                                                                | 0/23 [00:00<?, ?it/s]"
     ]
    },
    {
     "name": "stdout",
     "output_type": "stream",
     "text": [
      " loss = 0.1164\n"
     ]
    },
    {
     "name": "stderr",
     "output_type": "stream",
     "text": [
      "100%|██████████████████████████████████████████████████████████████████████████████████████████████████████████████████████████████████████████████████████████████████████| 23/23 [00:00<00:00, 418.34it/s]\n"
     ]
    },
    {
     "name": "stdout",
     "output_type": "stream",
     "text": [
      "Relative training error = 8.3139 %\n",
      "Relative test error = 9.8626 %\n"
     ]
    },
    {
     "name": "stderr",
     "output_type": "stream",
     "text": [
      "100%|██████████████████████████████████████████████████████████████████████████████████████████████████████████████████████████████████████████████████████████████████████| 23/23 [00:00<00:00, 341.18it/s]\n"
     ]
    },
    {
     "name": "stdout",
     "output_type": "stream",
     "text": [
      " loss = 0.0985\n",
      "Relative training error = 8.3209 %\n",
      "Relative test error = 9.6758 %\n",
      "Creating DAS_analysis object\n",
      "[-0.01079496 -0.00636261 -0.00472965  0.00829344 -0.03315033  0.01000517\n",
      " -0.03147244  0.01236407 -0.02684816  0.00736422 -0.01663265 -0.00670413\n",
      "  0.01756466 -0.01872044  0.02313004 -0.03355007  0.0332702  -0.02308934\n",
      " -0.04141354  0.01600002 -0.00833672  0.01130101  0.00841153  0.0035773\n",
      "  0.00450807  0.03616873  0.00554306  0.01251749 -0.00332135  0.01660203\n",
      "  0.00364524 -0.00423356 -0.01502233  0.00553334  0.00909886  0.03581746\n",
      " -0.01612826 -0.01689578 -0.00544872 -0.0257047  -0.0020281  -0.00491286\n",
      " -0.01851041 -0.00295021 -0.01707543  0.01278958 -0.03309115 -0.03378421\n",
      "  0.02105434 -0.024914    0.01355151  0.0347159   0.00949286 -0.01157946\n",
      " -0.02779381  0.01103345  0.05014661 -0.0388591   0.03466138 -0.03282935\n",
      "  0.01334391 -0.02446218  0.00617272  0.02966007 -0.0113076  -0.02121396\n",
      " -0.02654688 -0.02603522  0.00742446  0.0033779  -0.03955923 -0.02515224\n",
      " -0.00983606 -0.03146489 -0.02662707  0.00106644 -0.01827304 -0.01481842\n",
      "  0.00496895 -0.01752653  0.02289294  0.02491585 -0.05154504 -0.0153165\n",
      " -0.02955348 -0.01164796  0.00169125  0.00708391  0.00424188 -0.0170783\n",
      " -0.02926962  0.01683864 -0.03211833  0.04620026  0.02204849  0.03711775\n",
      " -0.02703611 -0.02134703 -0.01017228 -0.02460535 -0.00175839  0.00900341\n",
      "  0.0066653   0.02126546 -0.00704159 -0.02525979  0.04929931  0.03000105\n",
      "  0.00056224  0.02727065  0.00672098 -0.02266489 -0.03778072 -0.0143658\n",
      " -0.06977009 -0.00184082  0.03251847  0.00536228  0.00780703  0.00351171\n",
      " -0.001558    0.00453452  0.01956437  0.00755578 -0.00347596 -0.02544811\n",
      " -0.00691871  0.0184323  -0.00946686  0.01644332 -0.00717298 -0.00091536\n",
      " -0.00513515 -0.00200119 -0.00781267  0.03063803  0.00576488 -0.00229528\n",
      "  0.02318851  0.0245067  -0.02252075 -0.01338904  0.0351502  -0.00802465\n",
      " -0.02688461 -0.01285858 -0.04307223  0.01796226 -0.00352158 -0.02649279\n",
      " -0.02409055  0.01353839 -0.01250318  0.00313297  0.01588277  0.01109347\n",
      " -0.00357092  0.00296899  0.00483943 -0.03099188 -0.01898565  0.02774835\n",
      " -0.03559913 -0.0050307   0.0044001   0.13017571 -0.01762796]\n",
      "Parameters ordered from most to least important:\n",
      "[[141 149 165 150 153 151 142  17 137  15 113 109 154 138  95  39  27 107\n",
      "   41 115 163  85  73  57  53  21 159  29 155  94  36  68  40  87  69 166\n",
      "    3  93 156 164 161  75 152 120  49 106   6 127  10 133  52  13  59  28\n",
      "  162  22  30  97  51 112  83  76  66  48  24  18  33 100 116  82  23   5\n",
      "   79  25  16 147  26  37 117 101  86 140 146  56  64 123 128 110 124 139\n",
      "  108  92  74  91  42  38 130 129 158  99 111 105  11  43  96  78  90   0\n",
      "  134  12   1   7  44  55  77   8  54  89  47  81  88  19 136 135 145  62\n",
      "  143  80 131 121  63  35 119 157  60  61 114  45 126  32 144 118  34 122\n",
      "   14  31  67   4 160   2  71 104 132 102  98  70  65  46 148 103   9  50\n",
      "   84  20  58  72 125]]\n",
      "Creating DAS_Surrogate Object\n",
      "Creating Feature Engineering object\n",
      "Using  662/662 samples to train the ML model\n",
      "===============================\n",
      "Neural net parameters\n",
      "===============================\n",
      "Number of layers = 3\n",
      "Number of features = 167\n",
      "Loss function = squared\n",
      "Number of neurons per hidden layer = 20\n",
      "Number of output neurons = 1\n",
      "Activation = ['linear', 'linear', 'tanh', 'linear']\n",
      "This neural network has 228 weights.\n",
      "===============================\n",
      "===============================\n",
      "Training Deep Active Subspace Neural Network...\n"
     ]
    },
    {
     "name": "stderr",
     "output_type": "stream",
     "text": [
      "  0%|                                                                                                                                                                                | 0/23 [00:00<?, ?it/s]"
     ]
    },
    {
     "name": "stdout",
     "output_type": "stream",
     "text": [
      " loss = 1.6995\n"
     ]
    },
    {
     "name": "stderr",
     "output_type": "stream",
     "text": [
      "100%|██████████████████████████████████████████████████████████████████████████████████████████████████████████████████████████████████████████████████████████████████████| 23/23 [00:00<00:00, 285.81it/s]\n"
     ]
    },
    {
     "name": "stdout",
     "output_type": "stream",
     "text": [
      "Relative training error = 24.7033 %\n",
      "Relative test error = 25.2049 %\n"
     ]
    },
    {
     "name": "stderr",
     "output_type": "stream",
     "text": [
      "  0%|                                                                                                                                                                                | 0/23 [00:00<?, ?it/s]"
     ]
    },
    {
     "name": "stdout",
     "output_type": "stream",
     "text": [
      " loss = 0.9558\n"
     ]
    },
    {
     "name": "stderr",
     "output_type": "stream",
     "text": [
      "100%|██████████████████████████████████████████████████████████████████████████████████████████████████████████████████████████████████████████████████████████████████████| 23/23 [00:00<00:00, 301.54it/s]\n"
     ]
    },
    {
     "name": "stdout",
     "output_type": "stream",
     "text": [
      "Relative training error = 22.9968 %\n",
      "Relative test error = 23.9009 %\n"
     ]
    },
    {
     "name": "stderr",
     "output_type": "stream",
     "text": [
      "  0%|                                                                                                                                                                                | 0/23 [00:00<?, ?it/s]"
     ]
    },
    {
     "name": "stdout",
     "output_type": "stream",
     "text": [
      " loss = 0.9969\n"
     ]
    },
    {
     "name": "stderr",
     "output_type": "stream",
     "text": [
      "100%|██████████████████████████████████████████████████████████████████████████████████████████████████████████████████████████████████████████████████████████████████████| 23/23 [00:00<00:00, 291.88it/s]\n"
     ]
    },
    {
     "name": "stdout",
     "output_type": "stream",
     "text": [
      "Relative training error = 22.5917 %\n",
      "Relative test error = 24.3158 %\n"
     ]
    },
    {
     "name": "stderr",
     "output_type": "stream",
     "text": [
      "  0%|                                                                                                                                                                                | 0/23 [00:00<?, ?it/s]"
     ]
    },
    {
     "name": "stdout",
     "output_type": "stream",
     "text": [
      " loss = 0.9281\n"
     ]
    },
    {
     "name": "stderr",
     "output_type": "stream",
     "text": [
      "100%|██████████████████████████████████████████████████████████████████████████████████████████████████████████████████████████████████████████████████████████████████████| 23/23 [00:00<00:00, 309.51it/s]\n"
     ]
    },
    {
     "name": "stdout",
     "output_type": "stream",
     "text": [
      "Relative training error = 22.1630 %\n",
      "Relative test error = 25.0619 %\n"
     ]
    },
    {
     "name": "stderr",
     "output_type": "stream",
     "text": [
      "  0%|                                                                                                                                                                                | 0/23 [00:00<?, ?it/s]"
     ]
    },
    {
     "name": "stdout",
     "output_type": "stream",
     "text": [
      " loss = 0.4064\n"
     ]
    },
    {
     "name": "stderr",
     "output_type": "stream",
     "text": [
      "100%|██████████████████████████████████████████████████████████████████████████████████████████████████████████████████████████████████████████████████████████████████████| 23/23 [00:00<00:00, 265.82it/s]\n"
     ]
    },
    {
     "name": "stdout",
     "output_type": "stream",
     "text": [
      "Relative training error = 21.5642 %\n",
      "Relative test error = 25.3156 %\n"
     ]
    },
    {
     "name": "stderr",
     "output_type": "stream",
     "text": [
      "  0%|                                                                                                                                                                                | 0/23 [00:00<?, ?it/s]"
     ]
    },
    {
     "name": "stdout",
     "output_type": "stream",
     "text": [
      " loss = 1.0959\n"
     ]
    },
    {
     "name": "stderr",
     "output_type": "stream",
     "text": [
      "100%|██████████████████████████████████████████████████████████████████████████████████████████████████████████████████████████████████████████████████████████████████████| 23/23 [00:00<00:00, 282.93it/s]\n"
     ]
    },
    {
     "name": "stdout",
     "output_type": "stream",
     "text": [
      "Relative training error = 21.2409 %\n",
      "Relative test error = 24.7743 %\n",
      "Creating DAS_analysis object\n",
      "[-0.01079496 -0.00636261 -0.00472965  0.00829344 -0.03315033  0.01000517\n",
      " -0.03147244  0.01236407 -0.02684816  0.00736422 -0.01663265 -0.00670413\n",
      "  0.01756466 -0.01872044  0.02313004 -0.03355007  0.0332702  -0.02308934\n",
      " -0.04141354  0.01600002 -0.00833672  0.01130101  0.00841153  0.0035773\n",
      "  0.00450807  0.03616873  0.00554306  0.01251749 -0.00332135  0.01660203\n",
      "  0.00364524 -0.00423356 -0.01502233  0.00553334  0.00909886  0.03581746\n",
      " -0.01612826 -0.01689578 -0.00544872 -0.0257047  -0.0020281  -0.00491286\n",
      " -0.01851041 -0.00295021 -0.01707543  0.01278958 -0.03309115 -0.03378421\n",
      "  0.02105434 -0.024914    0.01355151  0.0347159   0.00949286 -0.01157946\n",
      " -0.02779381  0.01103345  0.05014661 -0.0388591   0.03466138 -0.03282935\n",
      "  0.01334391 -0.02446218  0.00617272  0.02966007 -0.0113076  -0.02121396\n",
      " -0.02654688 -0.02603522  0.00742446  0.0033779  -0.03955923 -0.02515224\n",
      " -0.00983606 -0.03146489 -0.02662707  0.00106644 -0.01827304 -0.01481842\n",
      "  0.00496895 -0.01752653  0.02289294  0.02491585 -0.05154504 -0.0153165\n",
      " -0.02955348 -0.01164796  0.00169125  0.00708391  0.00424188 -0.0170783\n",
      " -0.02926962  0.01683864 -0.03211833  0.04620026  0.02204849  0.03711775\n",
      " -0.02703611 -0.02134703 -0.01017228 -0.02460535 -0.00175839  0.00900341\n",
      "  0.0066653   0.02126546 -0.00704159 -0.02525979  0.04929931  0.03000105\n",
      "  0.00056224  0.02727065  0.00672098 -0.02266489 -0.03778072 -0.0143658\n",
      " -0.06977009 -0.00184082  0.03251847  0.00536228  0.00780703  0.00351171\n",
      " -0.001558    0.00453452  0.01956437  0.00755578 -0.00347596 -0.02544811\n",
      " -0.00691871  0.0184323  -0.00946686  0.01644332 -0.00717298 -0.00091536\n",
      " -0.00513515 -0.00200119 -0.00781267  0.03063803  0.00576488 -0.00229528\n",
      "  0.02318851  0.0245067  -0.02252075 -0.01338904  0.0351502  -0.00802465\n",
      " -0.02688461 -0.01285858 -0.04307223  0.01796226 -0.00352158 -0.02649279\n",
      " -0.02409055  0.01353839 -0.01250318  0.00313297  0.01588277  0.01109347\n",
      " -0.00357092  0.00296899  0.00483943 -0.03099188 -0.01898565  0.02774835\n",
      " -0.03559913 -0.0050307   0.0044001   0.13017571 -0.01762796]\n",
      "Parameters ordered from most to least important:\n",
      "[[ 46  52  53 140 116 149  36 162 130 121 160 141 142  86 104 151 107 106\n",
      "   10 126  37  76   9  95 153  56 131 109  73  23 139  20 159  13  41  82\n",
      "   81  83  94 144 158  27  84  71  12  40 161  80  54 163 147 114  58   5\n",
      "    2 148  45  38  98  57 138 136  21  89 155  70 102   8 105  22  51  39\n",
      "   25  60  24  61  32  72  69  96 146 108  31   4  87   7  28  74  92 157\n",
      "   44 150  42  75 101  67 110  93  16 145  97 137  66 154  90  47  91 100\n",
      "  115  33 113   3 119 117 165 135 128  14  49 152 166  59  99  88   0 124\n",
      "  133  34  26   6 125   1 164  65 112 122  62 111  48  19 120 103  15 132\n",
      "   55  29  68 143  35  18  85  30  11  64 134 118  78  43  17 123 156  50\n",
      "  129  79 127  63  77]]\n",
      "Creating DAS_Surrogate Object\n",
      "Creating Feature Engineering object\n",
      "Using  662/662 samples to train the ML model\n",
      "===============================\n",
      "Neural net parameters\n",
      "===============================\n",
      "Number of layers = 3\n",
      "Number of features = 167\n",
      "Loss function = squared\n",
      "Number of neurons per hidden layer = 20\n",
      "Number of output neurons = 1\n",
      "Activation = ['linear', 'linear', 'tanh', 'linear']\n",
      "This neural network has 228 weights.\n",
      "===============================\n",
      "===============================\n",
      "Training Deep Active Subspace Neural Network...\n"
     ]
    },
    {
     "name": "stderr",
     "output_type": "stream",
     "text": [
      "  0%|                                                                                                                                                                                | 0/23 [00:00<?, ?it/s]"
     ]
    },
    {
     "name": "stdout",
     "output_type": "stream",
     "text": [
      " loss = 1.6146\n"
     ]
    },
    {
     "name": "stderr",
     "output_type": "stream",
     "text": [
      "100%|██████████████████████████████████████████████████████████████████████████████████████████████████████████████████████████████████████████████████████████████████████| 23/23 [00:00<00:00, 313.88it/s]\n"
     ]
    },
    {
     "name": "stdout",
     "output_type": "stream",
     "text": [
      "Relative training error = 23.3139 %\n",
      "Relative test error = 22.4500 %\n"
     ]
    },
    {
     "name": "stderr",
     "output_type": "stream",
     "text": [
      "  0%|                                                                                                                                                                                | 0/23 [00:00<?, ?it/s]"
     ]
    },
    {
     "name": "stdout",
     "output_type": "stream",
     "text": [
      " loss = 0.7719\n"
     ]
    },
    {
     "name": "stderr",
     "output_type": "stream",
     "text": [
      "100%|██████████████████████████████████████████████████████████████████████████████████████████████████████████████████████████████████████████████████████████████████████| 23/23 [00:00<00:00, 236.57it/s]\n"
     ]
    },
    {
     "name": "stdout",
     "output_type": "stream",
     "text": [
      "Relative training error = 19.9001 %\n",
      "Relative test error = 21.3570 %\n"
     ]
    },
    {
     "name": "stderr",
     "output_type": "stream",
     "text": [
      "100%|██████████████████████████████████████████████████████████████████████████████████████████████████████████████████████████████████████████████████████████████████████| 23/23 [00:00<00:00, 207.98it/s]"
     ]
    },
    {
     "name": "stdout",
     "output_type": "stream",
     "text": [
      " loss = 0.7393\n"
     ]
    },
    {
     "name": "stderr",
     "output_type": "stream",
     "text": [
      "\n"
     ]
    },
    {
     "name": "stdout",
     "output_type": "stream",
     "text": [
      "Relative training error = 16.1237 %\n",
      "Relative test error = 19.4614 %\n"
     ]
    },
    {
     "name": "stderr",
     "output_type": "stream",
     "text": [
      " 39%|█████████████████████████████████████████████████████████████████▋                                                                                                      | 9/23 [00:00<00:00, 81.41it/s]"
     ]
    },
    {
     "name": "stdout",
     "output_type": "stream",
     "text": [
      " loss = 0.2587\n"
     ]
    },
    {
     "name": "stderr",
     "output_type": "stream",
     "text": [
      "100%|██████████████████████████████████████████████████████████████████████████████████████████████████████████████████████████████████████████████████████████████████████| 23/23 [00:00<00:00, 115.73it/s]\n"
     ]
    },
    {
     "name": "stdout",
     "output_type": "stream",
     "text": [
      "Relative training error = 13.4330 %\n",
      "Relative test error = 16.1403 %\n"
     ]
    },
    {
     "name": "stderr",
     "output_type": "stream",
     "text": [
      "100%|██████████████████████████████████████████████████████████████████████████████████████████████████████████████████████████████████████████████████████████████████████| 23/23 [00:00<00:00, 291.33it/s]\n"
     ]
    },
    {
     "name": "stdout",
     "output_type": "stream",
     "text": [
      " loss = 0.3058\n",
      "Relative training error = 11.5901 %\n",
      "Relative test error = 13.4659 %\n"
     ]
    },
    {
     "name": "stderr",
     "output_type": "stream",
     "text": [
      "  0%|                                                                                                                                                                                | 0/23 [00:00<?, ?it/s]"
     ]
    },
    {
     "name": "stdout",
     "output_type": "stream",
     "text": [
      " loss = 0.2060\n"
     ]
    },
    {
     "name": "stderr",
     "output_type": "stream",
     "text": [
      "100%|██████████████████████████████████████████████████████████████████████████████████████████████████████████████████████████████████████████████████████████████████████| 23/23 [00:00<00:00, 310.95it/s]\n"
     ]
    },
    {
     "name": "stdout",
     "output_type": "stream",
     "text": [
      "Relative training error = 10.4644 %\n",
      "Relative test error = 12.4773 %\n"
     ]
    },
    {
     "name": "stderr",
     "output_type": "stream",
     "text": [
      "  0%|                                                                                                                                                                                | 0/23 [00:00<?, ?it/s]"
     ]
    },
    {
     "name": "stdout",
     "output_type": "stream",
     "text": [
      " loss = 0.2813\n"
     ]
    },
    {
     "name": "stderr",
     "output_type": "stream",
     "text": [
      "100%|██████████████████████████████████████████████████████████████████████████████████████████████████████████████████████████████████████████████████████████████████████| 23/23 [00:00<00:00, 238.03it/s]\n"
     ]
    },
    {
     "name": "stdout",
     "output_type": "stream",
     "text": [
      "Relative training error = 9.6261 %\n",
      "Relative test error = 11.3652 %\n"
     ]
    },
    {
     "name": "stderr",
     "output_type": "stream",
     "text": [
      "100%|██████████████████████████████████████████████████████████████████████████████████████████████████████████████████████████████████████████████████████████████████████| 23/23 [00:00<00:00, 198.73it/s]"
     ]
    },
    {
     "name": "stdout",
     "output_type": "stream",
     "text": [
      " loss = 0.1391\n"
     ]
    },
    {
     "name": "stderr",
     "output_type": "stream",
     "text": [
      "\n"
     ]
    },
    {
     "name": "stdout",
     "output_type": "stream",
     "text": [
      "Relative training error = 9.2103 %\n",
      "Relative test error = 10.6603 %\n"
     ]
    },
    {
     "name": "stderr",
     "output_type": "stream",
     "text": [
      "100%|██████████████████████████████████████████████████████████████████████████████████████████████████████████████████████████████████████████████████████████████████████| 23/23 [00:00<00:00, 276.33it/s]\n"
     ]
    },
    {
     "name": "stdout",
     "output_type": "stream",
     "text": [
      " loss = 0.2458\n",
      "Relative training error = 8.8702 %\n",
      "Relative test error = 10.2376 %\n"
     ]
    },
    {
     "name": "stderr",
     "output_type": "stream",
     "text": [
      "  0%|                                                                                                                                                                                | 0/23 [00:00<?, ?it/s]"
     ]
    },
    {
     "name": "stdout",
     "output_type": "stream",
     "text": [
      " loss = 0.1728\n"
     ]
    },
    {
     "name": "stderr",
     "output_type": "stream",
     "text": [
      "100%|██████████████████████████████████████████████████████████████████████████████████████████████████████████████████████████████████████████████████████████████████████| 23/23 [00:00<00:00, 188.21it/s]\n"
     ]
    },
    {
     "name": "stdout",
     "output_type": "stream",
     "text": [
      "Relative training error = 8.6582 %\n",
      "Relative test error = 10.2795 %\n"
     ]
    },
    {
     "name": "stderr",
     "output_type": "stream",
     "text": [
      "100%|██████████████████████████████████████████████████████████████████████████████████████████████████████████████████████████████████████████████████████████████████████| 23/23 [00:00<00:00, 184.02it/s]"
     ]
    },
    {
     "name": "stdout",
     "output_type": "stream",
     "text": [
      " loss = 0.0660\n"
     ]
    },
    {
     "name": "stderr",
     "output_type": "stream",
     "text": [
      "\n"
     ]
    },
    {
     "name": "stdout",
     "output_type": "stream",
     "text": [
      "Relative training error = 8.4825 %\n",
      "Relative test error = 9.8585 %\n"
     ]
    },
    {
     "name": "stderr",
     "output_type": "stream",
     "text": [
      "100%|██████████████████████████████████████████████████████████████████████████████████████████████████████████████████████████████████████████████████████████████████████| 23/23 [00:00<00:00, 275.70it/s]\n"
     ]
    },
    {
     "name": "stdout",
     "output_type": "stream",
     "text": [
      " loss = 0.1949\n",
      "Relative training error = 8.4566 %\n",
      "Relative test error = 10.1748 %\n"
     ]
    },
    {
     "name": "stderr",
     "output_type": "stream",
     "text": [
      "  0%|                                                                                                                                                                                | 0/23 [00:00<?, ?it/s]"
     ]
    },
    {
     "name": "stdout",
     "output_type": "stream",
     "text": [
      " loss = 0.0968\n"
     ]
    },
    {
     "name": "stderr",
     "output_type": "stream",
     "text": [
      "100%|██████████████████████████████████████████████████████████████████████████████████████████████████████████████████████████████████████████████████████████████████████| 23/23 [00:00<00:00, 300.18it/s]\n"
     ]
    },
    {
     "name": "stdout",
     "output_type": "stream",
     "text": [
      "Relative training error = 8.4214 %\n",
      "Relative test error = 9.6825 %\n"
     ]
    },
    {
     "name": "stderr",
     "output_type": "stream",
     "text": [
      "  0%|                                                                                                                                                                                | 0/23 [00:00<?, ?it/s]"
     ]
    },
    {
     "name": "stdout",
     "output_type": "stream",
     "text": [
      " loss = 0.0902\n"
     ]
    },
    {
     "name": "stderr",
     "output_type": "stream",
     "text": [
      "100%|██████████████████████████████████████████████████████████████████████████████████████████████████████████████████████████████████████████████████████████████████████| 23/23 [00:00<00:00, 173.00it/s]\n"
     ]
    },
    {
     "name": "stdout",
     "output_type": "stream",
     "text": [
      "Relative training error = 8.3453 %\n",
      "Relative test error = 9.8264 %\n"
     ]
    },
    {
     "name": "stderr",
     "output_type": "stream",
     "text": [
      "100%|██████████████████████████████████████████████████████████████████████████████████████████████████████████████████████████████████████████████████████████████████████| 23/23 [00:00<00:00, 195.72it/s]"
     ]
    },
    {
     "name": "stdout",
     "output_type": "stream",
     "text": [
      " loss = 0.1001\n"
     ]
    },
    {
     "name": "stderr",
     "output_type": "stream",
     "text": [
      "\n"
     ]
    },
    {
     "name": "stdout",
     "output_type": "stream",
     "text": [
      "Relative training error = 8.3303 %\n",
      "Relative test error = 9.8280 %\n"
     ]
    },
    {
     "name": "stderr",
     "output_type": "stream",
     "text": [
      "100%|██████████████████████████████████████████████████████████████████████████████████████████████████████████████████████████████████████████████████████████████████████| 23/23 [00:00<00:00, 164.28it/s]"
     ]
    },
    {
     "name": "stdout",
     "output_type": "stream",
     "text": [
      " loss = 0.1505\n"
     ]
    },
    {
     "name": "stderr",
     "output_type": "stream",
     "text": [
      "\n"
     ]
    },
    {
     "name": "stdout",
     "output_type": "stream",
     "text": [
      "Relative training error = 8.2851 %\n",
      "Relative test error = 9.7088 %\n"
     ]
    },
    {
     "name": "stderr",
     "output_type": "stream",
     "text": [
      "100%|██████████████████████████████████████████████████████████████████████████████████████████████████████████████████████████████████████████████████████████████████████| 23/23 [00:00<00:00, 356.65it/s]\n"
     ]
    },
    {
     "name": "stdout",
     "output_type": "stream",
     "text": [
      " loss = 0.0944\n",
      "Relative training error = 8.2424 %\n",
      "Relative test error = 9.6036 %\n"
     ]
    },
    {
     "name": "stderr",
     "output_type": "stream",
     "text": [
      "  0%|                                                                                                                                                                                | 0/23 [00:00<?, ?it/s]"
     ]
    },
    {
     "name": "stdout",
     "output_type": "stream",
     "text": [
      " loss = 0.0762\n"
     ]
    },
    {
     "name": "stderr",
     "output_type": "stream",
     "text": [
      "100%|██████████████████████████████████████████████████████████████████████████████████████████████████████████████████████████████████████████████████████████████████████| 23/23 [00:00<00:00, 404.22it/s]\n"
     ]
    },
    {
     "name": "stdout",
     "output_type": "stream",
     "text": [
      "Relative training error = 8.2173 %\n",
      "Relative test error = 9.2593 %\n"
     ]
    },
    {
     "name": "stderr",
     "output_type": "stream",
     "text": [
      "100%|██████████████████████████████████████████████████████████████████████████████████████████████████████████████████████████████████████████████████████████████████████| 23/23 [00:00<00:00, 412.06it/s]\n"
     ]
    },
    {
     "name": "stdout",
     "output_type": "stream",
     "text": [
      " loss = 0.0925\n",
      "Relative training error = 8.2323 %\n",
      "Relative test error = 9.3953 %\n"
     ]
    },
    {
     "name": "stderr",
     "output_type": "stream",
     "text": [
      "  0%|                                                                                                                                                                                | 0/23 [00:00<?, ?it/s]"
     ]
    },
    {
     "name": "stdout",
     "output_type": "stream",
     "text": [
      " loss = 0.1235\n"
     ]
    },
    {
     "name": "stderr",
     "output_type": "stream",
     "text": [
      "100%|██████████████████████████████████████████████████████████████████████████████████████████████████████████████████████████████████████████████████████████████████████| 23/23 [00:00<00:00, 169.69it/s]\n"
     ]
    },
    {
     "name": "stdout",
     "output_type": "stream",
     "text": [
      "Relative training error = 8.1834 %\n",
      "Relative test error = 9.5683 %\n"
     ]
    },
    {
     "name": "stderr",
     "output_type": "stream",
     "text": [
      "100%|██████████████████████████████████████████████████████████████████████████████████████████████████████████████████████████████████████████████████████████████████████| 23/23 [00:00<00:00, 130.42it/s]"
     ]
    },
    {
     "name": "stdout",
     "output_type": "stream",
     "text": [
      " loss = 0.0998\n"
     ]
    },
    {
     "name": "stderr",
     "output_type": "stream",
     "text": [
      "\n"
     ]
    },
    {
     "name": "stdout",
     "output_type": "stream",
     "text": [
      "Relative training error = 8.2192 %\n",
      "Relative test error = 9.6711 %\n"
     ]
    },
    {
     "name": "stderr",
     "output_type": "stream",
     "text": [
      "100%|██████████████████████████████████████████████████████████████████████████████████████████████████████████████████████████████████████████████████████████████████████| 23/23 [00:00<00:00, 445.97it/s]\n"
     ]
    },
    {
     "name": "stdout",
     "output_type": "stream",
     "text": [
      " loss = 0.0961\n",
      "Relative training error = 8.1951 %\n",
      "Relative test error = 9.8632 %\n",
      "Creating DAS_analysis object\n",
      "[-0.01079496 -0.00636261 -0.00472965  0.00829344 -0.03315033  0.01000517\n",
      " -0.03147244  0.01236407 -0.02684816  0.00736422 -0.01663265 -0.00670413\n",
      "  0.01756466 -0.01872044  0.02313004 -0.03355007  0.0332702  -0.02308934\n",
      " -0.04141354  0.01600002 -0.00833672  0.01130101  0.00841153  0.0035773\n",
      "  0.00450807  0.03616873  0.00554306  0.01251749 -0.00332135  0.01660203\n",
      "  0.00364524 -0.00423356 -0.01502233  0.00553334  0.00909886  0.03581746\n",
      " -0.01612826 -0.01689578 -0.00544872 -0.0257047  -0.0020281  -0.00491286\n",
      " -0.01851041 -0.00295021 -0.01707543  0.01278958 -0.03309115 -0.03378421\n",
      "  0.02105434 -0.024914    0.01355151  0.0347159   0.00949286 -0.01157946\n",
      " -0.02779381  0.01103345  0.05014661 -0.0388591   0.03466138 -0.03282935\n",
      "  0.01334391 -0.02446218  0.00617272  0.02966007 -0.0113076  -0.02121396\n",
      " -0.02654688 -0.02603522  0.00742446  0.0033779  -0.03955923 -0.02515224\n",
      " -0.00983606 -0.03146489 -0.02662707  0.00106644 -0.01827304 -0.01481842\n",
      "  0.00496895 -0.01752653  0.02289294  0.02491585 -0.05154504 -0.0153165\n",
      " -0.02955348 -0.01164796  0.00169125  0.00708391  0.00424188 -0.0170783\n",
      " -0.02926962  0.01683864 -0.03211833  0.04620026  0.02204849  0.03711775\n",
      " -0.02703611 -0.02134703 -0.01017228 -0.02460535 -0.00175839  0.00900341\n",
      "  0.0066653   0.02126546 -0.00704159 -0.02525979  0.04929931  0.03000105\n",
      "  0.00056224  0.02727065  0.00672098 -0.02266489 -0.03778072 -0.0143658\n",
      " -0.06977009 -0.00184082  0.03251847  0.00536228  0.00780703  0.00351171\n",
      " -0.001558    0.00453452  0.01956437  0.00755578 -0.00347596 -0.02544811\n",
      " -0.00691871  0.0184323  -0.00946686  0.01644332 -0.00717298 -0.00091536\n",
      " -0.00513515 -0.00200119 -0.00781267  0.03063803  0.00576488 -0.00229528\n",
      "  0.02318851  0.0245067  -0.02252075 -0.01338904  0.0351502  -0.00802465\n",
      " -0.02688461 -0.01285858 -0.04307223  0.01796226 -0.00352158 -0.02649279\n",
      " -0.02409055  0.01353839 -0.01250318  0.00313297  0.01588277  0.01109347\n",
      " -0.00357092  0.00296899  0.00483943 -0.03099188 -0.01898565  0.02774835\n",
      " -0.03559913 -0.0050307   0.0044001   0.13017571 -0.01762796]\n",
      "Parameters ordered from most to least important:\n",
      "[[141 149 165 150 151 153 142  17 137  15 113 154  10 109  41  73 163  85\n",
      "   95  27 138 107  57  79  39  75  99  36  53  94 152 164  18  30  28  87\n",
      "  105 115  29 166  21  52  16 127  13 158  59 139  63  72 101 112 100  83\n",
      "   33 120 159 161  40  68  46 155  93 129 162 106  97 156  38  49 146 133\n",
      "   23  86 131  22 134 121  26 110 144 116  43  35  24  80  48  42 108  51\n",
      "  111  56  76  11 135 114  98 125  77 147 148  84 136  96 160 140   1   4\n",
      "   37  25 119 124   9   0  71  19  69  89  47 145 143  32 132  82 117   3\n",
      "  130  55 102   5  31  34  12 128  60  54 122 103 157  58  61 126  62 104\n",
      "   64  50 123  65  74  67   6  81   2  70  44  14  78  66  88   7  90 118\n",
      "   91  20  45  92   8]]\n",
      "Creating DAS_Surrogate Object\n",
      "Creating Feature Engineering object\n",
      "Using  662/662 samples to train the ML model\n",
      "===============================\n",
      "Neural net parameters\n",
      "===============================\n",
      "Number of layers = 3\n",
      "Number of features = 167\n",
      "Loss function = squared\n",
      "Number of neurons per hidden layer = 20\n",
      "Number of output neurons = 1\n",
      "Activation = ['linear', 'linear', 'tanh', 'linear']\n",
      "This neural network has 228 weights.\n",
      "===============================\n",
      "===============================\n",
      "Training Deep Active Subspace Neural Network...\n"
     ]
    },
    {
     "name": "stderr",
     "output_type": "stream",
     "text": [
      "  0%|                                                                                                                                                                                | 0/23 [00:00<?, ?it/s]"
     ]
    },
    {
     "name": "stdout",
     "output_type": "stream",
     "text": [
      " loss = 1.8795\n"
     ]
    },
    {
     "name": "stderr",
     "output_type": "stream",
     "text": [
      "100%|██████████████████████████████████████████████████████████████████████████████████████████████████████████████████████████████████████████████████████████████████████| 23/23 [00:00<00:00, 190.18it/s]\n"
     ]
    },
    {
     "name": "stdout",
     "output_type": "stream",
     "text": [
      "Relative training error = 22.6462 %\n",
      "Relative test error = 23.0503 %\n"
     ]
    },
    {
     "name": "stderr",
     "output_type": "stream",
     "text": [
      "100%|██████████████████████████████████████████████████████████████████████████████████████████████████████████████████████████████████████████████████████████████████████| 23/23 [00:00<00:00, 296.46it/s]\n"
     ]
    },
    {
     "name": "stdout",
     "output_type": "stream",
     "text": [
      " loss = 1.4914\n",
      "Relative training error = 18.4295 %\n",
      "Relative test error = 19.9212 %\n"
     ]
    },
    {
     "name": "stderr",
     "output_type": "stream",
     "text": [
      "  0%|                                                                                                                                                                                | 0/23 [00:00<?, ?it/s]"
     ]
    },
    {
     "name": "stdout",
     "output_type": "stream",
     "text": [
      " loss = 0.5826\n"
     ]
    },
    {
     "name": "stderr",
     "output_type": "stream",
     "text": [
      "100%|██████████████████████████████████████████████████████████████████████████████████████████████████████████████████████████████████████████████████████████████████████| 23/23 [00:00<00:00, 247.57it/s]\n"
     ]
    },
    {
     "name": "stdout",
     "output_type": "stream",
     "text": [
      "Relative training error = 14.3598 %\n",
      "Relative test error = 16.6059 %\n"
     ]
    },
    {
     "name": "stderr",
     "output_type": "stream",
     "text": [
      "  0%|                                                                                                                                                                                | 0/23 [00:00<?, ?it/s]"
     ]
    },
    {
     "name": "stdout",
     "output_type": "stream",
     "text": [
      " loss = 0.2770\n"
     ]
    },
    {
     "name": "stderr",
     "output_type": "stream",
     "text": [
      "100%|██████████████████████████████████████████████████████████████████████████████████████████████████████████████████████████████████████████████████████████████████████| 23/23 [00:00<00:00, 202.91it/s]\n"
     ]
    },
    {
     "name": "stdout",
     "output_type": "stream",
     "text": [
      "Relative training error = 12.2228 %\n",
      "Relative test error = 13.7900 %\n"
     ]
    },
    {
     "name": "stderr",
     "output_type": "stream",
     "text": [
      "100%|██████████████████████████████████████████████████████████████████████████████████████████████████████████████████████████████████████████████████████████████████████| 23/23 [00:00<00:00, 291.75it/s]\n"
     ]
    },
    {
     "name": "stdout",
     "output_type": "stream",
     "text": [
      " loss = 0.2311\n",
      "Relative training error = 11.1002 %\n",
      "Relative test error = 12.3215 %\n"
     ]
    },
    {
     "name": "stderr",
     "output_type": "stream",
     "text": [
      "  0%|                                                                                                                                                                                | 0/23 [00:00<?, ?it/s]"
     ]
    },
    {
     "name": "stdout",
     "output_type": "stream",
     "text": [
      " loss = 0.1724\n"
     ]
    },
    {
     "name": "stderr",
     "output_type": "stream",
     "text": [
      "100%|██████████████████████████████████████████████████████████████████████████████████████████████████████████████████████████████████████████████████████████████████████| 23/23 [00:00<00:00, 249.74it/s]\n"
     ]
    },
    {
     "name": "stdout",
     "output_type": "stream",
     "text": [
      "Relative training error = 10.1463 %\n",
      "Relative test error = 11.3576 %\n"
     ]
    },
    {
     "name": "stderr",
     "output_type": "stream",
     "text": [
      "  0%|                                                                                                                                                                                | 0/23 [00:00<?, ?it/s]"
     ]
    },
    {
     "name": "stdout",
     "output_type": "stream",
     "text": [
      " loss = 0.1718\n"
     ]
    },
    {
     "name": "stderr",
     "output_type": "stream",
     "text": [
      "100%|██████████████████████████████████████████████████████████████████████████████████████████████████████████████████████████████████████████████████████████████████████| 23/23 [00:00<00:00, 175.91it/s]\n"
     ]
    },
    {
     "name": "stdout",
     "output_type": "stream",
     "text": [
      "Relative training error = 9.5268 %\n",
      "Relative test error = 10.4875 %\n"
     ]
    },
    {
     "name": "stderr",
     "output_type": "stream",
     "text": [
      "100%|██████████████████████████████████████████████████████████████████████████████████████████████████████████████████████████████████████████████████████████████████████| 23/23 [00:00<00:00, 298.34it/s]\n"
     ]
    },
    {
     "name": "stdout",
     "output_type": "stream",
     "text": [
      " loss = 0.1824\n",
      "Relative training error = 9.1558 %\n",
      "Relative test error = 10.5684 %\n"
     ]
    },
    {
     "name": "stderr",
     "output_type": "stream",
     "text": [
      "  0%|                                                                                                                                                                                | 0/23 [00:00<?, ?it/s]"
     ]
    },
    {
     "name": "stdout",
     "output_type": "stream",
     "text": [
      " loss = 0.1156\n"
     ]
    },
    {
     "name": "stderr",
     "output_type": "stream",
     "text": [
      "100%|██████████████████████████████████████████████████████████████████████████████████████████████████████████████████████████████████████████████████████████████████████| 23/23 [00:00<00:00, 188.63it/s]\n"
     ]
    },
    {
     "name": "stdout",
     "output_type": "stream",
     "text": [
      "Relative training error = 8.9041 %\n",
      "Relative test error = 10.7371 %\n"
     ]
    },
    {
     "name": "stderr",
     "output_type": "stream",
     "text": [
      "                                                                                                                                                                                                            \r"
     ]
    },
    {
     "name": "stdout",
     "output_type": "stream",
     "text": [
      " loss = 0.1597\n"
     ]
    },
    {
     "name": "stderr",
     "output_type": "stream",
     "text": [
      "100%|██████████████████████████████████████████████████████████████████████████████████████████████████████████████████████████████████████████████████████████████████████| 23/23 [00:00<00:00, 222.79it/s]\n"
     ]
    },
    {
     "name": "stdout",
     "output_type": "stream",
     "text": [
      "Relative training error = 8.6986 %\n",
      "Relative test error = 10.5489 %\n"
     ]
    },
    {
     "name": "stderr",
     "output_type": "stream",
     "text": [
      "100%|██████████████████████████████████████████████████████████████████████████████████████████████████████████████████████████████████████████████████████████████████████| 23/23 [00:00<00:00, 198.26it/s]"
     ]
    },
    {
     "name": "stdout",
     "output_type": "stream",
     "text": [
      " loss = 0.1283\n"
     ]
    },
    {
     "name": "stderr",
     "output_type": "stream",
     "text": [
      "\n"
     ]
    },
    {
     "name": "stdout",
     "output_type": "stream",
     "text": [
      "Relative training error = 8.5611 %\n",
      "Relative test error = 9.9539 %\n"
     ]
    },
    {
     "name": "stderr",
     "output_type": "stream",
     "text": [
      "100%|██████████████████████████████████████████████████████████████████████████████████████████████████████████████████████████████████████████████████████████████████████| 23/23 [00:00<00:00, 258.97it/s]\n"
     ]
    },
    {
     "name": "stdout",
     "output_type": "stream",
     "text": [
      " loss = 0.1389\n",
      "Relative training error = 8.4373 %\n",
      "Relative test error = 9.9010 %\n"
     ]
    },
    {
     "name": "stderr",
     "output_type": "stream",
     "text": [
      "  0%|                                                                                                                                                                                | 0/23 [00:00<?, ?it/s]"
     ]
    },
    {
     "name": "stdout",
     "output_type": "stream",
     "text": [
      " loss = 0.1215\n"
     ]
    },
    {
     "name": "stderr",
     "output_type": "stream",
     "text": [
      "100%|██████████████████████████████████████████████████████████████████████████████████████████████████████████████████████████████████████████████████████████████████████| 23/23 [00:00<00:00, 135.30it/s]\n"
     ]
    },
    {
     "name": "stdout",
     "output_type": "stream",
     "text": [
      "Relative training error = 8.3565 %\n",
      "Relative test error = 10.1002 %\n"
     ]
    },
    {
     "name": "stderr",
     "output_type": "stream",
     "text": [
      "100%|██████████████████████████████████████████████████████████████████████████████████████████████████████████████████████████████████████████████████████████████████████| 23/23 [00:00<00:00, 225.31it/s]"
     ]
    },
    {
     "name": "stdout",
     "output_type": "stream",
     "text": [
      " loss = 0.1243\n",
      "Relative training error = 8.2854 %\n",
      "Relative test error = 9.8281 %\n"
     ]
    },
    {
     "name": "stderr",
     "output_type": "stream",
     "text": [
      "\n",
      "100%|██████████████████████████████████████████████████████████████████████████████████████████████████████████████████████████████████████████████████████████████████████| 23/23 [00:00<00:00, 152.50it/s]\n"
     ]
    },
    {
     "name": "stdout",
     "output_type": "stream",
     "text": [
      " loss = 0.1010\n",
      "Relative training error = 8.2274 %\n",
      "Relative test error = 9.5375 %\n"
     ]
    },
    {
     "name": "stderr",
     "output_type": "stream",
     "text": [
      "100%|██████████████████████████████████████████████████████████████████████████████████████████████████████████████████████████████████████████████████████████████████████| 23/23 [00:00<00:00, 333.91it/s]\n"
     ]
    },
    {
     "name": "stdout",
     "output_type": "stream",
     "text": [
      " loss = 0.2112\n",
      "Relative training error = 8.2537 %\n",
      "Relative test error = 9.5553 %\n"
     ]
    },
    {
     "name": "stderr",
     "output_type": "stream",
     "text": [
      "  0%|                                                                                                                                                                                | 0/23 [00:00<?, ?it/s]"
     ]
    },
    {
     "name": "stdout",
     "output_type": "stream",
     "text": [
      " loss = 0.1393\n"
     ]
    },
    {
     "name": "stderr",
     "output_type": "stream",
     "text": [
      "100%|██████████████████████████████████████████████████████████████████████████████████████████████████████████████████████████████████████████████████████████████████████| 23/23 [00:00<00:00, 295.72it/s]\n"
     ]
    },
    {
     "name": "stdout",
     "output_type": "stream",
     "text": [
      "Relative training error = 8.2285 %\n",
      "Relative test error = 9.4751 %\n"
     ]
    },
    {
     "name": "stderr",
     "output_type": "stream",
     "text": [
      "  0%|                                                                                                                                                                                | 0/23 [00:00<?, ?it/s]"
     ]
    },
    {
     "name": "stdout",
     "output_type": "stream",
     "text": [
      " loss = 0.0720\n"
     ]
    },
    {
     "name": "stderr",
     "output_type": "stream",
     "text": [
      "100%|██████████████████████████████████████████████████████████████████████████████████████████████████████████████████████████████████████████████████████████████████████| 23/23 [00:00<00:00, 244.43it/s]\n"
     ]
    },
    {
     "name": "stdout",
     "output_type": "stream",
     "text": [
      "Relative training error = 8.1420 %\n",
      "Relative test error = 9.6325 %\n"
     ]
    },
    {
     "name": "stderr",
     "output_type": "stream",
     "text": [
      "  0%|                                                                                                                                                                                | 0/23 [00:00<?, ?it/s]"
     ]
    },
    {
     "name": "stdout",
     "output_type": "stream",
     "text": [
      " loss = 0.1203\n"
     ]
    },
    {
     "name": "stderr",
     "output_type": "stream",
     "text": [
      "100%|██████████████████████████████████████████████████████████████████████████████████████████████████████████████████████████████████████████████████████████████████████| 23/23 [00:00<00:00, 205.67it/s]\n"
     ]
    },
    {
     "name": "stdout",
     "output_type": "stream",
     "text": [
      "Relative training error = 8.1493 %\n",
      "Relative test error = 9.7446 %\n",
      "Creating DAS_analysis object\n",
      "[-0.01079496 -0.00636261 -0.00472965  0.00829344 -0.03315033  0.01000517\n",
      " -0.03147244  0.01236407 -0.02684816  0.00736422 -0.01663265 -0.00670413\n",
      "  0.01756466 -0.01872044  0.02313004 -0.03355007  0.0332702  -0.02308934\n",
      " -0.04141354  0.01600002 -0.00833672  0.01130101  0.00841153  0.0035773\n",
      "  0.00450807  0.03616873  0.00554306  0.01251749 -0.00332135  0.01660203\n",
      "  0.00364524 -0.00423356 -0.01502233  0.00553334  0.00909886  0.03581746\n",
      " -0.01612826 -0.01689578 -0.00544872 -0.0257047  -0.0020281  -0.00491286\n",
      " -0.01851041 -0.00295021 -0.01707543  0.01278958 -0.03309115 -0.03378421\n",
      "  0.02105434 -0.024914    0.01355151  0.0347159   0.00949286 -0.01157946\n",
      " -0.02779381  0.01103345  0.05014661 -0.0388591   0.03466138 -0.03282935\n",
      "  0.01334391 -0.02446218  0.00617272  0.02966007 -0.0113076  -0.02121396\n",
      " -0.02654688 -0.02603522  0.00742446  0.0033779  -0.03955923 -0.02515224\n",
      " -0.00983606 -0.03146489 -0.02662707  0.00106644 -0.01827304 -0.01481842\n",
      "  0.00496895 -0.01752653  0.02289294  0.02491585 -0.05154504 -0.0153165\n",
      " -0.02955348 -0.01164796  0.00169125  0.00708391  0.00424188 -0.0170783\n",
      " -0.02926962  0.01683864 -0.03211833  0.04620026  0.02204849  0.03711775\n",
      " -0.02703611 -0.02134703 -0.01017228 -0.02460535 -0.00175839  0.00900341\n",
      "  0.0066653   0.02126546 -0.00704159 -0.02525979  0.04929931  0.03000105\n",
      "  0.00056224  0.02727065  0.00672098 -0.02266489 -0.03778072 -0.0143658\n",
      " -0.06977009 -0.00184082  0.03251847  0.00536228  0.00780703  0.00351171\n",
      " -0.001558    0.00453452  0.01956437  0.00755578 -0.00347596 -0.02544811\n",
      " -0.00691871  0.0184323  -0.00946686  0.01644332 -0.00717298 -0.00091536\n",
      " -0.00513515 -0.00200119 -0.00781267  0.03063803  0.00576488 -0.00229528\n",
      "  0.02318851  0.0245067  -0.02252075 -0.01338904  0.0351502  -0.00802465\n",
      " -0.02688461 -0.01285858 -0.04307223  0.01796226 -0.00352158 -0.02649279\n",
      " -0.02409055  0.01353839 -0.01250318  0.00313297  0.01588277  0.01109347\n",
      " -0.00357092  0.00296899  0.00483943 -0.03099188 -0.01898565  0.02774835\n",
      " -0.03559913 -0.0050307   0.0044001   0.13017571 -0.01762796]\n",
      "Parameters ordered from most to least important:\n",
      "[[141 149 165 150 153 151 142  17 137  15 113 109 163  27 154  73  95 107\n",
      "   10 138  85  41  39  36  75  21  53  94  57 115  99 166 159 164  28  40\n",
      "   93 120  38 146  18 148 156  30  97  79  26  23  29 110 139 105 108 155\n",
      "   33 161  47  48  87 127  82 117  45 133  68 162 129 152 132  55  16  62\n",
      "   49  59  74  13 130  89 134 140 121  96 106  22 123   7  46  83  61 131\n",
      "  112  37   6  52  86 116  77 158  24   3  64 147  66  32  34 100 122 125\n",
      "  119  42  63  56  67 124  69   1  54  91  84 101 145 136 104  31 135  14\n",
      "  102 111  50  58  19  80   9  72 128  78  35  98  76  81   2 118   4 157\n",
      "  160  71   0  44   8 144  25  12  65  70  51  88  92  43  90 103  11  20\n",
      "  114 126  60 143   5]]\n",
      "Creating DAS_Surrogate Object\n",
      "Creating Feature Engineering object\n",
      "Using  662/662 samples to train the ML model\n",
      "===============================\n",
      "Neural net parameters\n",
      "===============================\n",
      "Number of layers = 3\n",
      "Number of features = 167\n",
      "Loss function = squared\n",
      "Number of neurons per hidden layer = 20\n",
      "Number of output neurons = 1\n",
      "Activation = ['linear', 'linear', 'tanh', 'linear']\n",
      "This neural network has 228 weights.\n",
      "===============================\n",
      "===============================\n",
      "Training Deep Active Subspace Neural Network...\n"
     ]
    },
    {
     "name": "stderr",
     "output_type": "stream",
     "text": [
      "100%|██████████████████████████████████████████████████████████████████████████████████████████████████████████████████████████████████████████████████████████████████████| 23/23 [00:00<00:00, 328.36it/s]"
     ]
    },
    {
     "name": "stdout",
     "output_type": "stream",
     "text": [
      " loss = 2.2344\n"
     ]
    },
    {
     "name": "stderr",
     "output_type": "stream",
     "text": [
      "\n"
     ]
    },
    {
     "name": "stdout",
     "output_type": "stream",
     "text": [
      "Relative training error = 23.3795 %\n",
      "Relative test error = 23.4603 %\n"
     ]
    },
    {
     "name": "stderr",
     "output_type": "stream",
     "text": [
      "100%|██████████████████████████████████████████████████████████████████████████████████████████████████████████████████████████████████████████████████████████████████████| 23/23 [00:00<00:00, 332.08it/s]\n"
     ]
    },
    {
     "name": "stdout",
     "output_type": "stream",
     "text": [
      " loss = 0.9742\n",
      "Relative training error = 22.3966 %\n",
      "Relative test error = 22.6349 %\n"
     ]
    },
    {
     "name": "stderr",
     "output_type": "stream",
     "text": [
      "  0%|                                                                                                                                                                                | 0/23 [00:00<?, ?it/s]"
     ]
    },
    {
     "name": "stdout",
     "output_type": "stream",
     "text": [
      " loss = 0.4616\n"
     ]
    },
    {
     "name": "stderr",
     "output_type": "stream",
     "text": [
      "100%|██████████████████████████████████████████████████████████████████████████████████████████████████████████████████████████████████████████████████████████████████████| 23/23 [00:00<00:00, 416.23it/s]\n"
     ]
    },
    {
     "name": "stdout",
     "output_type": "stream",
     "text": [
      "Relative training error = 20.6943 %\n",
      "Relative test error = 22.0732 %\n"
     ]
    },
    {
     "name": "stderr",
     "output_type": "stream",
     "text": [
      "100%|██████████████████████████████████████████████████████████████████████████████████████████████████████████████████████████████████████████████████████████████████████| 23/23 [00:00<00:00, 406.92it/s]\n"
     ]
    },
    {
     "name": "stdout",
     "output_type": "stream",
     "text": [
      " loss = 0.8102\n",
      "Relative training error = 18.7689 %\n",
      "Relative test error = 20.4014 %\n"
     ]
    },
    {
     "name": "stderr",
     "output_type": "stream",
     "text": [
      "  0%|                                                                                                                                                                                | 0/23 [00:00<?, ?it/s]"
     ]
    },
    {
     "name": "stdout",
     "output_type": "stream",
     "text": [
      " loss = 0.6066\n"
     ]
    },
    {
     "name": "stderr",
     "output_type": "stream",
     "text": [
      "100%|██████████████████████████████████████████████████████████████████████████████████████████████████████████████████████████████████████████████████████████████████████| 23/23 [00:00<00:00, 242.92it/s]\n"
     ]
    },
    {
     "name": "stdout",
     "output_type": "stream",
     "text": [
      "Relative training error = 16.6016 %\n",
      "Relative test error = 19.6230 %\n"
     ]
    },
    {
     "name": "stderr",
     "output_type": "stream",
     "text": [
      "  0%|                                                                                                                                                                                | 0/23 [00:00<?, ?it/s]"
     ]
    },
    {
     "name": "stdout",
     "output_type": "stream",
     "text": [
      " loss = 0.3243\n"
     ]
    },
    {
     "name": "stderr",
     "output_type": "stream",
     "text": [
      "100%|██████████████████████████████████████████████████████████████████████████████████████████████████████████████████████████████████████████████████████████████████████| 23/23 [00:00<00:00, 321.15it/s]\n"
     ]
    },
    {
     "name": "stdout",
     "output_type": "stream",
     "text": [
      "Relative training error = 14.6473 %\n",
      "Relative test error = 19.0491 %\n"
     ]
    },
    {
     "name": "stderr",
     "output_type": "stream",
     "text": [
      "  0%|                                                                                                                                                                                | 0/23 [00:00<?, ?it/s]"
     ]
    },
    {
     "name": "stdout",
     "output_type": "stream",
     "text": [
      " loss = 0.2615\n"
     ]
    },
    {
     "name": "stderr",
     "output_type": "stream",
     "text": [
      "100%|██████████████████████████████████████████████████████████████████████████████████████████████████████████████████████████████████████████████████████████████████████| 23/23 [00:00<00:00, 292.61it/s]\n"
     ]
    },
    {
     "name": "stdout",
     "output_type": "stream",
     "text": [
      "Relative training error = 13.4192 %\n",
      "Relative test error = 17.1299 %\n"
     ]
    },
    {
     "name": "stderr",
     "output_type": "stream",
     "text": [
      "  0%|                                                                                                                                                                                | 0/23 [00:00<?, ?it/s]"
     ]
    },
    {
     "name": "stdout",
     "output_type": "stream",
     "text": [
      " loss = 0.3437\n"
     ]
    },
    {
     "name": "stderr",
     "output_type": "stream",
     "text": [
      "100%|██████████████████████████████████████████████████████████████████████████████████████████████████████████████████████████████████████████████████████████████████████| 23/23 [00:00<00:00, 285.05it/s]\n"
     ]
    },
    {
     "name": "stdout",
     "output_type": "stream",
     "text": [
      "Relative training error = 12.3541 %\n",
      "Relative test error = 15.4539 %\n"
     ]
    },
    {
     "name": "stderr",
     "output_type": "stream",
     "text": [
      "  0%|                                                                                                                                                                                | 0/23 [00:00<?, ?it/s]"
     ]
    },
    {
     "name": "stdout",
     "output_type": "stream",
     "text": [
      " loss = 0.2240\n"
     ]
    },
    {
     "name": "stderr",
     "output_type": "stream",
     "text": [
      "100%|██████████████████████████████████████████████████████████████████████████████████████████████████████████████████████████████████████████████████████████████████████| 23/23 [00:00<00:00, 301.02it/s]\n"
     ]
    },
    {
     "name": "stdout",
     "output_type": "stream",
     "text": [
      "Relative training error = 11.4701 %\n",
      "Relative test error = 14.1410 %\n"
     ]
    },
    {
     "name": "stderr",
     "output_type": "stream",
     "text": [
      "  0%|                                                                                                                                                                                | 0/23 [00:00<?, ?it/s]"
     ]
    },
    {
     "name": "stdout",
     "output_type": "stream",
     "text": [
      " loss = 0.2539\n"
     ]
    },
    {
     "name": "stderr",
     "output_type": "stream",
     "text": [
      "100%|██████████████████████████████████████████████████████████████████████████████████████████████████████████████████████████████████████████████████████████████████████| 23/23 [00:00<00:00, 307.59it/s]\n"
     ]
    },
    {
     "name": "stdout",
     "output_type": "stream",
     "text": [
      "Relative training error = 10.7409 %\n",
      "Relative test error = 13.3251 %\n"
     ]
    },
    {
     "name": "stderr",
     "output_type": "stream",
     "text": [
      "  0%|                                                                                                                                                                                | 0/23 [00:00<?, ?it/s]"
     ]
    },
    {
     "name": "stdout",
     "output_type": "stream",
     "text": [
      " loss = 0.2477\n"
     ]
    },
    {
     "name": "stderr",
     "output_type": "stream",
     "text": [
      "100%|██████████████████████████████████████████████████████████████████████████████████████████████████████████████████████████████████████████████████████████████████████| 23/23 [00:00<00:00, 332.00it/s]\n"
     ]
    },
    {
     "name": "stdout",
     "output_type": "stream",
     "text": [
      "Relative training error = 10.0639 %\n",
      "Relative test error = 12.5115 %\n"
     ]
    },
    {
     "name": "stderr",
     "output_type": "stream",
     "text": [
      "  0%|                                                                                                                                                                                | 0/23 [00:00<?, ?it/s]"
     ]
    },
    {
     "name": "stdout",
     "output_type": "stream",
     "text": [
      " loss = 0.1971\n"
     ]
    },
    {
     "name": "stderr",
     "output_type": "stream",
     "text": [
      "100%|██████████████████████████████████████████████████████████████████████████████████████████████████████████████████████████████████████████████████████████████████████| 23/23 [00:00<00:00, 280.88it/s]\n"
     ]
    },
    {
     "name": "stdout",
     "output_type": "stream",
     "text": [
      "Relative training error = 9.6999 %\n",
      "Relative test error = 11.9635 %\n"
     ]
    },
    {
     "name": "stderr",
     "output_type": "stream",
     "text": [
      "100%|██████████████████████████████████████████████████████████████████████████████████████████████████████████████████████████████████████████████████████████████████████| 23/23 [00:00<00:00, 297.28it/s]\n"
     ]
    },
    {
     "name": "stdout",
     "output_type": "stream",
     "text": [
      " loss = 0.1156\n",
      "Relative training error = 9.3205 %\n",
      "Relative test error = 11.7456 %\n"
     ]
    },
    {
     "name": "stderr",
     "output_type": "stream",
     "text": [
      "  0%|                                                                                                                                                                                | 0/23 [00:00<?, ?it/s]"
     ]
    },
    {
     "name": "stdout",
     "output_type": "stream",
     "text": [
      " loss = 0.1067\n"
     ]
    },
    {
     "name": "stderr",
     "output_type": "stream",
     "text": [
      "100%|██████████████████████████████████████████████████████████████████████████████████████████████████████████████████████████████████████████████████████████████████████| 23/23 [00:00<00:00, 216.71it/s]\n"
     ]
    },
    {
     "name": "stdout",
     "output_type": "stream",
     "text": [
      "Relative training error = 9.0862 %\n",
      "Relative test error = 11.3270 %\n"
     ]
    },
    {
     "name": "stderr",
     "output_type": "stream",
     "text": [
      "  0%|                                                                                                                                                                                | 0/23 [00:00<?, ?it/s]"
     ]
    },
    {
     "name": "stdout",
     "output_type": "stream",
     "text": [
      " loss = 0.0965\n"
     ]
    },
    {
     "name": "stderr",
     "output_type": "stream",
     "text": [
      "100%|██████████████████████████████████████████████████████████████████████████████████████████████████████████████████████████████████████████████████████████████████████| 23/23 [00:00<00:00, 172.11it/s]\n"
     ]
    },
    {
     "name": "stdout",
     "output_type": "stream",
     "text": [
      "Relative training error = 8.8939 %\n",
      "Relative test error = 11.2321 %\n"
     ]
    },
    {
     "name": "stderr",
     "output_type": "stream",
     "text": [
      "100%|██████████████████████████████████████████████████████████████████████████████████████████████████████████████████████████████████████████████████████████████████████| 23/23 [00:00<00:00, 283.54it/s]\n"
     ]
    },
    {
     "name": "stdout",
     "output_type": "stream",
     "text": [
      " loss = 0.1505\n",
      "Relative training error = 8.7548 %\n",
      "Relative test error = 11.1334 %\n"
     ]
    },
    {
     "name": "stderr",
     "output_type": "stream",
     "text": [
      "  0%|                                                                                                                                                                                | 0/23 [00:00<?, ?it/s]"
     ]
    },
    {
     "name": "stdout",
     "output_type": "stream",
     "text": [
      " loss = 0.1469\n"
     ]
    },
    {
     "name": "stderr",
     "output_type": "stream",
     "text": [
      "100%|██████████████████████████████████████████████████████████████████████████████████████████████████████████████████████████████████████████████████████████████████████| 23/23 [00:00<00:00, 276.46it/s]\n"
     ]
    },
    {
     "name": "stdout",
     "output_type": "stream",
     "text": [
      "Relative training error = 8.6332 %\n",
      "Relative test error = 10.8949 %\n"
     ]
    },
    {
     "name": "stderr",
     "output_type": "stream",
     "text": [
      "  0%|                                                                                                                                                                                | 0/23 [00:00<?, ?it/s]"
     ]
    },
    {
     "name": "stdout",
     "output_type": "stream",
     "text": [
      " loss = 0.1509\n"
     ]
    },
    {
     "name": "stderr",
     "output_type": "stream",
     "text": [
      "100%|██████████████████████████████████████████████████████████████████████████████████████████████████████████████████████████████████████████████████████████████████████| 23/23 [00:00<00:00, 258.17it/s]\n"
     ]
    },
    {
     "name": "stdout",
     "output_type": "stream",
     "text": [
      "Relative training error = 8.5528 %\n",
      "Relative test error = 10.6390 %\n"
     ]
    },
    {
     "name": "stderr",
     "output_type": "stream",
     "text": [
      "  0%|                                                                                                                                                                                | 0/23 [00:00<?, ?it/s]"
     ]
    },
    {
     "name": "stdout",
     "output_type": "stream",
     "text": [
      " loss = 0.2349\n"
     ]
    },
    {
     "name": "stderr",
     "output_type": "stream",
     "text": [
      "100%|██████████████████████████████████████████████████████████████████████████████████████████████████████████████████████████████████████████████████████████████████████| 23/23 [00:00<00:00, 242.79it/s]\n"
     ]
    },
    {
     "name": "stdout",
     "output_type": "stream",
     "text": [
      "Relative training error = 8.5581 %\n",
      "Relative test error = 10.6606 %\n"
     ]
    },
    {
     "name": "stderr",
     "output_type": "stream",
     "text": [
      "  0%|                                                                                                                                                                                | 0/23 [00:00<?, ?it/s]"
     ]
    },
    {
     "name": "stdout",
     "output_type": "stream",
     "text": [
      " loss = 0.0943\n"
     ]
    },
    {
     "name": "stderr",
     "output_type": "stream",
     "text": [
      "100%|██████████████████████████████████████████████████████████████████████████████████████████████████████████████████████████████████████████████████████████████████████| 23/23 [00:00<00:00, 211.40it/s]\n"
     ]
    },
    {
     "name": "stdout",
     "output_type": "stream",
     "text": [
      "Relative training error = 8.5128 %\n",
      "Relative test error = 10.1736 %\n"
     ]
    },
    {
     "name": "stderr",
     "output_type": "stream",
     "text": [
      "100%|██████████████████████████████████████████████████████████████████████████████████████████████████████████████████████████████████████████████████████████████████████| 23/23 [00:00<00:00, 165.03it/s]"
     ]
    },
    {
     "name": "stdout",
     "output_type": "stream",
     "text": [
      " loss = 0.1320\n"
     ]
    },
    {
     "name": "stderr",
     "output_type": "stream",
     "text": [
      "\n"
     ]
    },
    {
     "name": "stdout",
     "output_type": "stream",
     "text": [
      "Relative training error = 8.3509 %\n",
      "Relative test error = 9.8877 %\n"
     ]
    },
    {
     "name": "stderr",
     "output_type": "stream",
     "text": [
      "100%|██████████████████████████████████████████████████████████████████████████████████████████████████████████████████████████████████████████████████████████████████████| 23/23 [00:00<00:00, 185.51it/s]"
     ]
    },
    {
     "name": "stdout",
     "output_type": "stream",
     "text": [
      " loss = 0.1158\n"
     ]
    },
    {
     "name": "stderr",
     "output_type": "stream",
     "text": [
      "\n"
     ]
    },
    {
     "name": "stdout",
     "output_type": "stream",
     "text": [
      "Relative training error = 8.3217 %\n",
      "Relative test error = 10.2289 %\n"
     ]
    },
    {
     "name": "stderr",
     "output_type": "stream",
     "text": [
      "100%|██████████████████████████████████████████████████████████████████████████████████████████████████████████████████████████████████████████████████████████████████████| 23/23 [00:00<00:00, 265.52it/s]\n"
     ]
    },
    {
     "name": "stdout",
     "output_type": "stream",
     "text": [
      " loss = 0.1162\n",
      "Relative training error = 8.2946 %\n",
      "Relative test error = 10.3401 %\n"
     ]
    },
    {
     "name": "stderr",
     "output_type": "stream",
     "text": [
      "  0%|                                                                                                                                                                                | 0/23 [00:00<?, ?it/s]"
     ]
    },
    {
     "name": "stdout",
     "output_type": "stream",
     "text": [
      " loss = 0.0921\n"
     ]
    },
    {
     "name": "stderr",
     "output_type": "stream",
     "text": [
      "100%|██████████████████████████████████████████████████████████████████████████████████████████████████████████████████████████████████████████████████████████████████████| 23/23 [00:00<00:00, 200.09it/s]\n"
     ]
    },
    {
     "name": "stdout",
     "output_type": "stream",
     "text": [
      "Relative training error = 8.3051 %\n",
      "Relative test error = 10.3346 %\n"
     ]
    },
    {
     "name": "stderr",
     "output_type": "stream",
     "text": [
      "100%|██████████████████████████████████████████████████████████████████████████████████████████████████████████████████████████████████████████████████████████████████████| 23/23 [00:00<00:00, 197.11it/s]"
     ]
    },
    {
     "name": "stdout",
     "output_type": "stream",
     "text": [
      " loss = 0.1140\n"
     ]
    },
    {
     "name": "stderr",
     "output_type": "stream",
     "text": [
      "\n"
     ]
    },
    {
     "name": "stdout",
     "output_type": "stream",
     "text": [
      "Relative training error = 8.2666 %\n",
      "Relative test error = 10.0887 %\n",
      "Creating DAS_analysis object\n",
      "[-0.01079496 -0.00636261 -0.00472965  0.00829344 -0.03315033  0.01000517\n",
      " -0.03147244  0.01236407 -0.02684816  0.00736422 -0.01663265 -0.00670413\n",
      "  0.01756466 -0.01872044  0.02313004 -0.03355007  0.0332702  -0.02308934\n",
      " -0.04141354  0.01600002 -0.00833672  0.01130101  0.00841153  0.0035773\n",
      "  0.00450807  0.03616873  0.00554306  0.01251749 -0.00332135  0.01660203\n",
      "  0.00364524 -0.00423356 -0.01502233  0.00553334  0.00909886  0.03581746\n",
      " -0.01612826 -0.01689578 -0.00544872 -0.0257047  -0.0020281  -0.00491286\n",
      " -0.01851041 -0.00295021 -0.01707543  0.01278958 -0.03309115 -0.03378421\n",
      "  0.02105434 -0.024914    0.01355151  0.0347159   0.00949286 -0.01157946\n",
      " -0.02779381  0.01103345  0.05014661 -0.0388591   0.03466138 -0.03282935\n",
      "  0.01334391 -0.02446218  0.00617272  0.02966007 -0.0113076  -0.02121396\n",
      " -0.02654688 -0.02603522  0.00742446  0.0033779  -0.03955923 -0.02515224\n",
      " -0.00983606 -0.03146489 -0.02662707  0.00106644 -0.01827304 -0.01481842\n",
      "  0.00496895 -0.01752653  0.02289294  0.02491585 -0.05154504 -0.0153165\n",
      " -0.02955348 -0.01164796  0.00169125  0.00708391  0.00424188 -0.0170783\n",
      " -0.02926962  0.01683864 -0.03211833  0.04620026  0.02204849  0.03711775\n",
      " -0.02703611 -0.02134703 -0.01017228 -0.02460535 -0.00175839  0.00900341\n",
      "  0.0066653   0.02126546 -0.00704159 -0.02525979  0.04929931  0.03000105\n",
      "  0.00056224  0.02727065  0.00672098 -0.02266489 -0.03778072 -0.0143658\n",
      " -0.06977009 -0.00184082  0.03251847  0.00536228  0.00780703  0.00351171\n",
      " -0.001558    0.00453452  0.01956437  0.00755578 -0.00347596 -0.02544811\n",
      " -0.00691871  0.0184323  -0.00946686  0.01644332 -0.00717298 -0.00091536\n",
      " -0.00513515 -0.00200119 -0.00781267  0.03063803  0.00576488 -0.00229528\n",
      "  0.02318851  0.0245067  -0.02252075 -0.01338904  0.0351502  -0.00802465\n",
      " -0.02688461 -0.01285858 -0.04307223  0.01796226 -0.00352158 -0.02649279\n",
      " -0.02409055  0.01353839 -0.01250318  0.00313297  0.01588277  0.01109347\n",
      " -0.00357092  0.00296899  0.00483943 -0.03099188 -0.01898565  0.02774835\n",
      " -0.03559913 -0.0050307   0.0044001   0.13017571 -0.01762796]\n",
      "Parameters ordered from most to least important:\n",
      "[[141 149 165 150 153 151 142  17 137  15 113  95 109 154  39  73 138  57\n",
      "   27  10  85  41 107 163  93  36  53  79 159  21  30  75 115  94 162 120\n",
      "   18 166 101  52 105  29  83 117  40 164  99  82 110  61  28  68  87   1\n",
      "  155  74 148 156 112  86 147  23   6  31  33 108  42 133  37 161  49 152\n",
      "   16 130  97 121 134 140 146   2  47  22   0  26 111 100 139  54  78  46\n",
      "   96  38  62  14 129  76 136  35 125  24  64  63  25 106   3  66 131 135\n",
      "   12  56  59  70  77  44  80  92 102 132 145  48 123 158 122  45 104  11\n",
      "   50  84  69 144 119  89  51   4  72 127  60   8   5  58  81 126  19  43\n",
      "   88 103  20   7 114  91  67 116  90 157  65 124 143 128  34  98  13   9\n",
      "   55  32  71 160 118]]\n",
      "Creating DAS_Surrogate Object\n",
      "Creating Feature Engineering object\n",
      "Using  662/662 samples to train the ML model\n",
      "===============================\n",
      "Neural net parameters\n",
      "===============================\n",
      "Number of layers = 3\n",
      "Number of features = 167\n",
      "Loss function = squared\n",
      "Number of neurons per hidden layer = 20\n",
      "Number of output neurons = 1\n",
      "Activation = ['linear', 'linear', 'tanh', 'linear']\n",
      "This neural network has 228 weights.\n",
      "===============================\n",
      "===============================\n",
      "Training Deep Active Subspace Neural Network...\n"
     ]
    },
    {
     "name": "stderr",
     "output_type": "stream",
     "text": [
      "100%|██████████████████████████████████████████████████████████████████████████████████████████████████████████████████████████████████████████████████████████████████████| 23/23 [00:00<00:00, 310.03it/s]"
     ]
    },
    {
     "name": "stdout",
     "output_type": "stream",
     "text": [
      " loss = 2.4650\n"
     ]
    },
    {
     "name": "stderr",
     "output_type": "stream",
     "text": [
      "\n"
     ]
    },
    {
     "name": "stdout",
     "output_type": "stream",
     "text": [
      "Relative training error = 23.6551 %\n",
      "Relative test error = 22.8684 %\n"
     ]
    },
    {
     "name": "stderr",
     "output_type": "stream",
     "text": [
      "  0%|                                                                                                                                                                                | 0/23 [00:00<?, ?it/s]"
     ]
    },
    {
     "name": "stdout",
     "output_type": "stream",
     "text": [
      " loss = 0.8286\n"
     ]
    },
    {
     "name": "stderr",
     "output_type": "stream",
     "text": [
      "100%|██████████████████████████████████████████████████████████████████████████████████████████████████████████████████████████████████████████████████████████████████████| 23/23 [00:00<00:00, 243.94it/s]\n"
     ]
    },
    {
     "name": "stdout",
     "output_type": "stream",
     "text": [
      "Relative training error = 20.7583 %\n",
      "Relative test error = 21.7211 %\n"
     ]
    },
    {
     "name": "stderr",
     "output_type": "stream",
     "text": [
      "  0%|                                                                                                                                                                                | 0/23 [00:00<?, ?it/s]"
     ]
    },
    {
     "name": "stdout",
     "output_type": "stream",
     "text": [
      " loss = 0.9789\n"
     ]
    },
    {
     "name": "stderr",
     "output_type": "stream",
     "text": [
      "100%|██████████████████████████████████████████████████████████████████████████████████████████████████████████████████████████████████████████████████████████████████████| 23/23 [00:00<00:00, 291.52it/s]\n"
     ]
    },
    {
     "name": "stdout",
     "output_type": "stream",
     "text": [
      "Relative training error = 17.4539 %\n",
      "Relative test error = 19.4005 %\n"
     ]
    },
    {
     "name": "stderr",
     "output_type": "stream",
     "text": [
      "  0%|                                                                                                                                                                                | 0/23 [00:00<?, ?it/s]"
     ]
    },
    {
     "name": "stdout",
     "output_type": "stream",
     "text": [
      " loss = 0.5215\n"
     ]
    },
    {
     "name": "stderr",
     "output_type": "stream",
     "text": [
      "100%|██████████████████████████████████████████████████████████████████████████████████████████████████████████████████████████████████████████████████████████████████████| 23/23 [00:00<00:00, 237.53it/s]\n"
     ]
    },
    {
     "name": "stdout",
     "output_type": "stream",
     "text": [
      "Relative training error = 14.6413 %\n",
      "Relative test error = 17.1907 %\n"
     ]
    },
    {
     "name": "stderr",
     "output_type": "stream",
     "text": [
      "  0%|                                                                                                                                                                                | 0/23 [00:00<?, ?it/s]"
     ]
    },
    {
     "name": "stdout",
     "output_type": "stream",
     "text": [
      " loss = 0.4045\n"
     ]
    },
    {
     "name": "stderr",
     "output_type": "stream",
     "text": [
      "100%|██████████████████████████████████████████████████████████████████████████████████████████████████████████████████████████████████████████████████████████████████████| 23/23 [00:00<00:00, 174.81it/s]\n"
     ]
    },
    {
     "name": "stdout",
     "output_type": "stream",
     "text": [
      "Relative training error = 12.4219 %\n",
      "Relative test error = 14.5838 %\n"
     ]
    },
    {
     "name": "stderr",
     "output_type": "stream",
     "text": [
      "100%|██████████████████████████████████████████████████████████████████████████████████████████████████████████████████████████████████████████████████████████████████████| 23/23 [00:00<00:00, 222.00it/s]\n"
     ]
    },
    {
     "name": "stdout",
     "output_type": "stream",
     "text": [
      " loss = 0.2527\n",
      "Relative training error = 11.0309 %\n",
      "Relative test error = 12.8557 %\n"
     ]
    },
    {
     "name": "stderr",
     "output_type": "stream",
     "text": [
      "  0%|                                                                                                                                                                                | 0/23 [00:00<?, ?it/s]"
     ]
    },
    {
     "name": "stdout",
     "output_type": "stream",
     "text": [
      " loss = 0.2604\n"
     ]
    },
    {
     "name": "stderr",
     "output_type": "stream",
     "text": [
      "100%|██████████████████████████████████████████████████████████████████████████████████████████████████████████████████████████████████████████████████████████████████████| 23/23 [00:00<00:00, 477.38it/s]\n"
     ]
    },
    {
     "name": "stdout",
     "output_type": "stream",
     "text": [
      "Relative training error = 10.0257 %\n",
      "Relative test error = 11.8054 %\n"
     ]
    },
    {
     "name": "stderr",
     "output_type": "stream",
     "text": [
      "  0%|                                                                                                                                                                                | 0/23 [00:00<?, ?it/s]"
     ]
    },
    {
     "name": "stdout",
     "output_type": "stream",
     "text": [
      " loss = 0.1278\n"
     ]
    },
    {
     "name": "stderr",
     "output_type": "stream",
     "text": [
      "100%|██████████████████████████████████████████████████████████████████████████████████████████████████████████████████████████████████████████████████████████████████████| 23/23 [00:00<00:00, 243.23it/s]\n"
     ]
    },
    {
     "name": "stdout",
     "output_type": "stream",
     "text": [
      "Relative training error = 9.4617 %\n",
      "Relative test error = 11.0306 %\n"
     ]
    },
    {
     "name": "stderr",
     "output_type": "stream",
     "text": [
      "                                                                                                                                                                                                            \r"
     ]
    },
    {
     "name": "stdout",
     "output_type": "stream",
     "text": [
      " loss = 0.2010\n"
     ]
    },
    {
     "name": "stderr",
     "output_type": "stream",
     "text": [
      "100%|██████████████████████████████████████████████████████████████████████████████████████████████████████████████████████████████████████████████████████████████████████| 23/23 [00:00<00:00, 191.58it/s]\n"
     ]
    },
    {
     "name": "stdout",
     "output_type": "stream",
     "text": [
      "Relative training error = 8.9791 %\n",
      "Relative test error = 10.9751 %\n"
     ]
    },
    {
     "name": "stderr",
     "output_type": "stream",
     "text": [
      "100%|██████████████████████████████████████████████████████████████████████████████████████████████████████████████████████████████████████████████████████████████████████| 23/23 [00:00<00:00, 195.58it/s]"
     ]
    },
    {
     "name": "stdout",
     "output_type": "stream",
     "text": [
      " loss = 0.1249\n"
     ]
    },
    {
     "name": "stderr",
     "output_type": "stream",
     "text": [
      "\n"
     ]
    },
    {
     "name": "stdout",
     "output_type": "stream",
     "text": [
      "Relative training error = 8.6940 %\n",
      "Relative test error = 10.4750 %\n"
     ]
    },
    {
     "name": "stderr",
     "output_type": "stream",
     "text": [
      "100%|██████████████████████████████████████████████████████████████████████████████████████████████████████████████████████████████████████████████████████████████████████| 23/23 [00:00<00:00, 221.86it/s]"
     ]
    },
    {
     "name": "stdout",
     "output_type": "stream",
     "text": [
      " loss = 0.1191\n"
     ]
    },
    {
     "name": "stderr",
     "output_type": "stream",
     "text": [
      "\n"
     ]
    },
    {
     "name": "stdout",
     "output_type": "stream",
     "text": [
      "Relative training error = 8.5320 %\n",
      "Relative test error = 10.1009 %\n"
     ]
    },
    {
     "name": "stderr",
     "output_type": "stream",
     "text": [
      "100%|██████████████████████████████████████████████████████████████████████████████████████████████████████████████████████████████████████████████████████████████████████| 23/23 [00:00<00:00, 322.05it/s]"
     ]
    },
    {
     "name": "stdout",
     "output_type": "stream",
     "text": [
      " loss = 0.0606\n",
      "Relative training error = 8.3571 %\n"
     ]
    },
    {
     "name": "stderr",
     "output_type": "stream",
     "text": [
      "\n"
     ]
    },
    {
     "name": "stdout",
     "output_type": "stream",
     "text": [
      "Relative test error = 10.1888 %\n"
     ]
    },
    {
     "name": "stderr",
     "output_type": "stream",
     "text": [
      "  0%|                                                                                                                                                                                | 0/23 [00:00<?, ?it/s]"
     ]
    },
    {
     "name": "stdout",
     "output_type": "stream",
     "text": [
      " loss = 0.1375\n"
     ]
    },
    {
     "name": "stderr",
     "output_type": "stream",
     "text": [
      "100%|██████████████████████████████████████████████████████████████████████████████████████████████████████████████████████████████████████████████████████████████████████| 23/23 [00:00<00:00, 296.94it/s]\n"
     ]
    },
    {
     "name": "stdout",
     "output_type": "stream",
     "text": [
      "Relative training error = 8.2683 %\n",
      "Relative test error = 10.0581 %\n"
     ]
    },
    {
     "name": "stderr",
     "output_type": "stream",
     "text": [
      "  0%|                                                                                                                                                                                | 0/23 [00:00<?, ?it/s]"
     ]
    },
    {
     "name": "stdout",
     "output_type": "stream",
     "text": [
      " loss = 0.1540\n"
     ]
    },
    {
     "name": "stderr",
     "output_type": "stream",
     "text": [
      "100%|██████████████████████████████████████████████████████████████████████████████████████████████████████████████████████████████████████████████████████████████████████| 23/23 [00:00<00:00, 301.11it/s]\n"
     ]
    },
    {
     "name": "stdout",
     "output_type": "stream",
     "text": [
      "Relative training error = 8.2645 %\n",
      "Relative test error = 9.9843 %\n"
     ]
    },
    {
     "name": "stderr",
     "output_type": "stream",
     "text": [
      "  0%|                                                                                                                                                                                | 0/23 [00:00<?, ?it/s]"
     ]
    },
    {
     "name": "stdout",
     "output_type": "stream",
     "text": [
      " loss = 0.1593\n"
     ]
    },
    {
     "name": "stderr",
     "output_type": "stream",
     "text": [
      "100%|██████████████████████████████████████████████████████████████████████████████████████████████████████████████████████████████████████████████████████████████████████| 23/23 [00:00<00:00, 210.73it/s]\n"
     ]
    },
    {
     "name": "stdout",
     "output_type": "stream",
     "text": [
      "Relative training error = 8.2237 %\n",
      "Relative test error = 9.6266 %\n"
     ]
    },
    {
     "name": "stderr",
     "output_type": "stream",
     "text": [
      "  0%|                                                                                                                                                                                | 0/23 [00:00<?, ?it/s]"
     ]
    },
    {
     "name": "stdout",
     "output_type": "stream",
     "text": [
      " loss = 0.1234\n"
     ]
    },
    {
     "name": "stderr",
     "output_type": "stream",
     "text": [
      "100%|██████████████████████████████████████████████████████████████████████████████████████████████████████████████████████████████████████████████████████████████████████| 23/23 [00:00<00:00, 359.13it/s]\n"
     ]
    },
    {
     "name": "stdout",
     "output_type": "stream",
     "text": [
      "Relative training error = 8.2385 %\n",
      "Relative test error = 9.3474 %\n"
     ]
    },
    {
     "name": "stderr",
     "output_type": "stream",
     "text": [
      "  0%|                                                                                                                                                                                | 0/23 [00:00<?, ?it/s]"
     ]
    },
    {
     "name": "stdout",
     "output_type": "stream",
     "text": [
      " loss = 0.1940\n"
     ]
    },
    {
     "name": "stderr",
     "output_type": "stream",
     "text": [
      "100%|██████████████████████████████████████████████████████████████████████████████████████████████████████████████████████████████████████████████████████████████████████| 23/23 [00:00<00:00, 294.98it/s]\n"
     ]
    },
    {
     "name": "stdout",
     "output_type": "stream",
     "text": [
      "Relative training error = 8.1959 %\n",
      "Relative test error = 9.2070 %\n"
     ]
    },
    {
     "name": "stderr",
     "output_type": "stream",
     "text": [
      "  0%|                                                                                                                                                                                | 0/23 [00:00<?, ?it/s]"
     ]
    },
    {
     "name": "stdout",
     "output_type": "stream",
     "text": [
      " loss = 0.0895\n"
     ]
    },
    {
     "name": "stderr",
     "output_type": "stream",
     "text": [
      "100%|██████████████████████████████████████████████████████████████████████████████████████████████████████████████████████████████████████████████████████████████████████| 23/23 [00:00<00:00, 280.59it/s]\n"
     ]
    },
    {
     "name": "stdout",
     "output_type": "stream",
     "text": [
      "Relative training error = 8.1431 %\n",
      "Relative test error = 9.2509 %\n"
     ]
    },
    {
     "name": "stderr",
     "output_type": "stream",
     "text": [
      "100%|██████████████████████████████████████████████████████████████████████████████████████████████████████████████████████████████████████████████████████████████████████| 23/23 [00:00<00:00, 203.23it/s]"
     ]
    },
    {
     "name": "stdout",
     "output_type": "stream",
     "text": [
      " loss = 0.1337\n",
      "Relative training error = 8.1183 %\n"
     ]
    },
    {
     "name": "stderr",
     "output_type": "stream",
     "text": [
      "\n"
     ]
    },
    {
     "name": "stdout",
     "output_type": "stream",
     "text": [
      "Relative test error = 9.4935 %\n"
     ]
    },
    {
     "name": "stderr",
     "output_type": "stream",
     "text": [
      "  0%|                                                                                                                                                                                | 0/23 [00:00<?, ?it/s]"
     ]
    },
    {
     "name": "stdout",
     "output_type": "stream",
     "text": [
      " loss = 0.1037\n"
     ]
    },
    {
     "name": "stderr",
     "output_type": "stream",
     "text": [
      "100%|██████████████████████████████████████████████████████████████████████████████████████████████████████████████████████████████████████████████████████████████████████| 23/23 [00:00<00:00, 286.26it/s]\n"
     ]
    },
    {
     "name": "stdout",
     "output_type": "stream",
     "text": [
      "Relative training error = 8.2202 %\n",
      "Relative test error = 9.4172 %\n"
     ]
    },
    {
     "name": "stderr",
     "output_type": "stream",
     "text": [
      "  0%|                                                                                                                                                                                | 0/23 [00:00<?, ?it/s]"
     ]
    },
    {
     "name": "stdout",
     "output_type": "stream",
     "text": [
      " loss = 0.1374\n"
     ]
    },
    {
     "name": "stderr",
     "output_type": "stream",
     "text": [
      "100%|██████████████████████████████████████████████████████████████████████████████████████████████████████████████████████████████████████████████████████████████████████| 23/23 [00:00<00:00, 348.70it/s]\n"
     ]
    },
    {
     "name": "stdout",
     "output_type": "stream",
     "text": [
      "Relative training error = 8.1195 %\n",
      "Relative test error = 9.4573 %\n",
      "Creating DAS_analysis object\n",
      "[-0.01079496 -0.00636261 -0.00472965  0.00829344 -0.03315033  0.01000517\n",
      " -0.03147244  0.01236407 -0.02684816  0.00736422 -0.01663265 -0.00670413\n",
      "  0.01756466 -0.01872044  0.02313004 -0.03355007  0.0332702  -0.02308934\n",
      " -0.04141354  0.01600002 -0.00833672  0.01130101  0.00841153  0.0035773\n",
      "  0.00450807  0.03616873  0.00554306  0.01251749 -0.00332135  0.01660203\n",
      "  0.00364524 -0.00423356 -0.01502233  0.00553334  0.00909886  0.03581746\n",
      " -0.01612826 -0.01689578 -0.00544872 -0.0257047  -0.0020281  -0.00491286\n",
      " -0.01851041 -0.00295021 -0.01707543  0.01278958 -0.03309115 -0.03378421\n",
      "  0.02105434 -0.024914    0.01355151  0.0347159   0.00949286 -0.01157946\n",
      " -0.02779381  0.01103345  0.05014661 -0.0388591   0.03466138 -0.03282935\n",
      "  0.01334391 -0.02446218  0.00617272  0.02966007 -0.0113076  -0.02121396\n",
      " -0.02654688 -0.02603522  0.00742446  0.0033779  -0.03955923 -0.02515224\n",
      " -0.00983606 -0.03146489 -0.02662707  0.00106644 -0.01827304 -0.01481842\n",
      "  0.00496895 -0.01752653  0.02289294  0.02491585 -0.05154504 -0.0153165\n",
      " -0.02955348 -0.01164796  0.00169125  0.00708391  0.00424188 -0.0170783\n",
      " -0.02926962  0.01683864 -0.03211833  0.04620026  0.02204849  0.03711775\n",
      " -0.02703611 -0.02134703 -0.01017228 -0.02460535 -0.00175839  0.00900341\n",
      "  0.0066653   0.02126546 -0.00704159 -0.02525979  0.04929931  0.03000105\n",
      "  0.00056224  0.02727065  0.00672098 -0.02266489 -0.03778072 -0.0143658\n",
      " -0.06977009 -0.00184082  0.03251847  0.00536228  0.00780703  0.00351171\n",
      " -0.001558    0.00453452  0.01956437  0.00755578 -0.00347596 -0.02544811\n",
      " -0.00691871  0.0184323  -0.00946686  0.01644332 -0.00717298 -0.00091536\n",
      " -0.00513515 -0.00200119 -0.00781267  0.03063803  0.00576488 -0.00229528\n",
      "  0.02318851  0.0245067  -0.02252075 -0.01338904  0.0351502  -0.00802465\n",
      " -0.02688461 -0.01285858 -0.04307223  0.01796226 -0.00352158 -0.02649279\n",
      " -0.02409055  0.01353839 -0.01250318  0.00313297  0.01588277  0.01109347\n",
      " -0.00357092  0.00296899  0.00483943 -0.03099188 -0.01898565  0.02774835\n",
      " -0.03559913 -0.0050307   0.0044001   0.13017571 -0.01762796]\n",
      "Parameters ordered from most to least important:\n",
      "[[141 149 165 150 153 151 142  17  15 137 113 109 154  73  39 107  27 138\n",
      "   41 163  95  53  94 115  36  85 152 159  61  57  21  68  83 164  93 166\n",
      "  117 120  10  99  75 123 105 161  87 110 155  29  42 146 106  97  18   5\n",
      "   38  24 108 162  40 156   1  49  28  13 139  23 133  82 147  22  74 112\n",
      "   33  31  59 121  54 100  48   0  26  65  66 122   9  52   6  78 126 145\n",
      "  140  32  84 103  45  92  56 136  69  58  80 101  63 130  12  55  77  19\n",
      "   35 116 132 158  51  46   3  86   2  79 124  34  44  70 148  16  30 102\n",
      "  125  20 135  60  25  64 131  47  71  11 111   4  43  37   8 127 160  98\n",
      "  129   7 144  76  50 134 143  88 118  96  72  62 157  14 104 119  81 114\n",
      "   67  89 128  90  91]]\n",
      "Creating DAS_Surrogate Object\n",
      "Creating Feature Engineering object\n",
      "Using  662/662 samples to train the ML model\n",
      "===============================\n",
      "Neural net parameters\n",
      "===============================\n",
      "Number of layers = 3\n",
      "Number of features = 167\n",
      "Loss function = squared\n",
      "Number of neurons per hidden layer = 20\n",
      "Number of output neurons = 1\n",
      "Activation = ['linear', 'linear', 'tanh', 'linear']\n",
      "This neural network has 228 weights.\n",
      "===============================\n",
      "===============================\n",
      "Training Deep Active Subspace Neural Network...\n"
     ]
    },
    {
     "name": "stderr",
     "output_type": "stream",
     "text": [
      " 43%|████████████████████████████████████████████████████████████████████████▌                                                                                              | 10/23 [00:00<00:00, 92.13it/s]"
     ]
    },
    {
     "name": "stdout",
     "output_type": "stream",
     "text": [
      " loss = 2.6813\n"
     ]
    },
    {
     "name": "stderr",
     "output_type": "stream",
     "text": [
      "100%|██████████████████████████████████████████████████████████████████████████████████████████████████████████████████████████████████████████████████████████████████████| 23/23 [00:00<00:00, 103.83it/s]\n"
     ]
    },
    {
     "name": "stdout",
     "output_type": "stream",
     "text": [
      "Relative training error = 23.3601 %\n",
      "Relative test error = 22.1619 %\n"
     ]
    },
    {
     "name": "stderr",
     "output_type": "stream",
     "text": [
      "100%|██████████████████████████████████████████████████████████████████████████████████████████████████████████████████████████████████████████████████████████████████████| 23/23 [00:00<00:00, 163.96it/s]"
     ]
    },
    {
     "name": "stdout",
     "output_type": "stream",
     "text": [
      " loss = 0.9876\n"
     ]
    },
    {
     "name": "stderr",
     "output_type": "stream",
     "text": [
      "\n"
     ]
    },
    {
     "name": "stdout",
     "output_type": "stream",
     "text": [
      "Relative training error = 18.0955 %\n",
      "Relative test error = 20.4202 %\n"
     ]
    },
    {
     "name": "stderr",
     "output_type": "stream",
     "text": [
      "100%|██████████████████████████████████████████████████████████████████████████████████████████████████████████████████████████████████████████████████████████████████████| 23/23 [00:00<00:00, 149.96it/s]"
     ]
    },
    {
     "name": "stdout",
     "output_type": "stream",
     "text": [
      " loss = 0.6038\n"
     ]
    },
    {
     "name": "stderr",
     "output_type": "stream",
     "text": [
      "\n"
     ]
    },
    {
     "name": "stdout",
     "output_type": "stream",
     "text": [
      "Relative training error = 14.3543 %\n",
      "Relative test error = 17.9330 %\n"
     ]
    },
    {
     "name": "stderr",
     "output_type": "stream",
     "text": [
      "100%|██████████████████████████████████████████████████████████████████████████████████████████████████████████████████████████████████████████████████████████████████████| 23/23 [00:00<00:00, 281.39it/s]"
     ]
    },
    {
     "name": "stdout",
     "output_type": "stream",
     "text": [
      " loss = 0.3022\n"
     ]
    },
    {
     "name": "stderr",
     "output_type": "stream",
     "text": [
      "\n"
     ]
    },
    {
     "name": "stdout",
     "output_type": "stream",
     "text": [
      "Relative training error = 12.0144 %\n",
      "Relative test error = 15.3822 %\n"
     ]
    },
    {
     "name": "stderr",
     "output_type": "stream",
     "text": [
      "100%|██████████████████████████████████████████████████████████████████████████████████████████████████████████████████████████████████████████████████████████████████████| 23/23 [00:00<00:00, 156.32it/s]"
     ]
    },
    {
     "name": "stdout",
     "output_type": "stream",
     "text": [
      " loss = 0.2748\n"
     ]
    },
    {
     "name": "stderr",
     "output_type": "stream",
     "text": [
      "\n"
     ]
    },
    {
     "name": "stdout",
     "output_type": "stream",
     "text": [
      "Relative training error = 10.4349 %\n",
      "Relative test error = 13.4495 %\n"
     ]
    },
    {
     "name": "stderr",
     "output_type": "stream",
     "text": [
      "100%|██████████████████████████████████████████████████████████████████████████████████████████████████████████████████████████████████████████████████████████████████████| 23/23 [00:00<00:00, 248.93it/s]\n"
     ]
    },
    {
     "name": "stdout",
     "output_type": "stream",
     "text": [
      " loss = 0.1669\n",
      "Relative training error = 9.5367 %\n",
      "Relative test error = 11.7761 %\n"
     ]
    },
    {
     "name": "stderr",
     "output_type": "stream",
     "text": [
      "  0%|                                                                                                                                                                                | 0/23 [00:00<?, ?it/s]"
     ]
    },
    {
     "name": "stdout",
     "output_type": "stream",
     "text": [
      " loss = 0.2125\n"
     ]
    },
    {
     "name": "stderr",
     "output_type": "stream",
     "text": [
      "100%|██████████████████████████████████████████████████████████████████████████████████████████████████████████████████████████████████████████████████████████████████████| 23/23 [00:00<00:00, 266.53it/s]\n"
     ]
    },
    {
     "name": "stdout",
     "output_type": "stream",
     "text": [
      "Relative training error = 8.9365 %\n",
      "Relative test error = 10.5979 %\n"
     ]
    },
    {
     "name": "stderr",
     "output_type": "stream",
     "text": [
      "  0%|                                                                                                                                                                                | 0/23 [00:00<?, ?it/s]"
     ]
    },
    {
     "name": "stdout",
     "output_type": "stream",
     "text": [
      " loss = 0.1224\n"
     ]
    },
    {
     "name": "stderr",
     "output_type": "stream",
     "text": [
      "100%|██████████████████████████████████████████████████████████████████████████████████████████████████████████████████████████████████████████████████████████████████████| 23/23 [00:00<00:00, 241.12it/s]\n"
     ]
    },
    {
     "name": "stdout",
     "output_type": "stream",
     "text": [
      "Relative training error = 8.6447 %\n",
      "Relative test error = 10.1731 %\n"
     ]
    },
    {
     "name": "stderr",
     "output_type": "stream",
     "text": [
      "  0%|                                                                                                                                                                                | 0/23 [00:00<?, ?it/s]"
     ]
    },
    {
     "name": "stdout",
     "output_type": "stream",
     "text": [
      " loss = 0.1142\n"
     ]
    },
    {
     "name": "stderr",
     "output_type": "stream",
     "text": [
      "100%|██████████████████████████████████████████████████████████████████████████████████████████████████████████████████████████████████████████████████████████████████████| 23/23 [00:00<00:00, 211.62it/s]"
     ]
    },
    {
     "name": "stdout",
     "output_type": "stream",
     "text": [
      "Relative training error = 8.5059 %\n"
     ]
    },
    {
     "name": "stderr",
     "output_type": "stream",
     "text": [
      "\n"
     ]
    },
    {
     "name": "stdout",
     "output_type": "stream",
     "text": [
      "Relative test error = 9.7148 %\n"
     ]
    },
    {
     "name": "stderr",
     "output_type": "stream",
     "text": [
      "100%|██████████████████████████████████████████████████████████████████████████████████████████████████████████████████████████████████████████████████████████████████████| 23/23 [00:00<00:00, 252.36it/s]\n"
     ]
    },
    {
     "name": "stdout",
     "output_type": "stream",
     "text": [
      " loss = 0.1180\n",
      "Relative training error = 8.4303 %\n",
      "Relative test error = 9.9359 %\n"
     ]
    },
    {
     "name": "stderr",
     "output_type": "stream",
     "text": [
      "100%|██████████████████████████████████████████████████████████████████████████████████████████████████████████████████████████████████████████████████████████████████████| 23/23 [00:00<00:00, 143.94it/s]\n"
     ]
    },
    {
     "name": "stdout",
     "output_type": "stream",
     "text": [
      " loss = 0.1244\n",
      "Relative training error = 8.3162 %\n",
      "Relative test error = 9.9777 %\n"
     ]
    },
    {
     "name": "stderr",
     "output_type": "stream",
     "text": [
      "100%|██████████████████████████████████████████████████████████████████████████████████████████████████████████████████████████████████████████████████████████████████████| 23/23 [00:00<00:00, 184.14it/s]"
     ]
    },
    {
     "name": "stdout",
     "output_type": "stream",
     "text": [
      " loss = 0.0910\n"
     ]
    },
    {
     "name": "stderr",
     "output_type": "stream",
     "text": [
      "\n"
     ]
    },
    {
     "name": "stdout",
     "output_type": "stream",
     "text": [
      "Relative training error = 8.2975 %\n",
      "Relative test error = 9.5233 %\n"
     ]
    },
    {
     "name": "stderr",
     "output_type": "stream",
     "text": [
      "100%|██████████████████████████████████████████████████████████████████████████████████████████████████████████████████████████████████████████████████████████████████████| 23/23 [00:00<00:00, 160.61it/s]"
     ]
    },
    {
     "name": "stdout",
     "output_type": "stream",
     "text": [
      " loss = 0.1361\n"
     ]
    },
    {
     "name": "stderr",
     "output_type": "stream",
     "text": [
      "\n"
     ]
    },
    {
     "name": "stdout",
     "output_type": "stream",
     "text": [
      "Relative training error = 8.1979 %\n",
      "Relative test error = 9.6801 %\n"
     ]
    },
    {
     "name": "stderr",
     "output_type": "stream",
     "text": [
      "100%|██████████████████████████████████████████████████████████████████████████████████████████████████████████████████████████████████████████████████████████████████████| 23/23 [00:00<00:00, 263.79it/s]"
     ]
    },
    {
     "name": "stdout",
     "output_type": "stream",
     "text": [
      " loss = 0.1483\n",
      "Relative training error = 8.2809 %\n"
     ]
    },
    {
     "name": "stderr",
     "output_type": "stream",
     "text": [
      "\n"
     ]
    },
    {
     "name": "stdout",
     "output_type": "stream",
     "text": [
      "Relative test error = 10.2246 %\n"
     ]
    },
    {
     "name": "stderr",
     "output_type": "stream",
     "text": [
      "  0%|                                                                                                                                                                                | 0/23 [00:00<?, ?it/s]"
     ]
    },
    {
     "name": "stdout",
     "output_type": "stream",
     "text": [
      " loss = 0.0795\n"
     ]
    },
    {
     "name": "stderr",
     "output_type": "stream",
     "text": [
      "100%|██████████████████████████████████████████████████████████████████████████████████████████████████████████████████████████████████████████████████████████████████████| 23/23 [00:00<00:00, 253.16it/s]\n"
     ]
    },
    {
     "name": "stdout",
     "output_type": "stream",
     "text": [
      "Relative training error = 8.2002 %\n",
      "Relative test error = 9.9958 %\n"
     ]
    },
    {
     "name": "stderr",
     "output_type": "stream",
     "text": [
      "  0%|                                                                                                                                                                                | 0/23 [00:00<?, ?it/s]"
     ]
    },
    {
     "name": "stdout",
     "output_type": "stream",
     "text": [
      " loss = 0.1484\n"
     ]
    },
    {
     "name": "stderr",
     "output_type": "stream",
     "text": [
      "100%|██████████████████████████████████████████████████████████████████████████████████████████████████████████████████████████████████████████████████████████████████████| 23/23 [00:00<00:00, 223.51it/s]\n"
     ]
    },
    {
     "name": "stdout",
     "output_type": "stream",
     "text": [
      "Relative training error = 8.1425 %\n",
      "Relative test error = 9.7127 %\n"
     ]
    },
    {
     "name": "stderr",
     "output_type": "stream",
     "text": [
      "100%|██████████████████████████████████████████████████████████████████████████████████████████████████████████████████████████████████████████████████████████████████████| 23/23 [00:00<00:00, 156.50it/s]"
     ]
    },
    {
     "name": "stdout",
     "output_type": "stream",
     "text": [
      " loss = 0.1601\n"
     ]
    },
    {
     "name": "stderr",
     "output_type": "stream",
     "text": [
      "\n"
     ]
    },
    {
     "name": "stdout",
     "output_type": "stream",
     "text": [
      "Relative training error = 8.1177 %\n",
      "Relative test error = 9.8842 %\n"
     ]
    },
    {
     "name": "stderr",
     "output_type": "stream",
     "text": [
      "100%|██████████████████████████████████████████████████████████████████████████████████████████████████████████████████████████████████████████████████████████████████████| 23/23 [00:00<00:00, 207.67it/s]"
     ]
    },
    {
     "name": "stdout",
     "output_type": "stream",
     "text": [
      " loss = 0.1023\n"
     ]
    },
    {
     "name": "stderr",
     "output_type": "stream",
     "text": [
      "\n"
     ]
    },
    {
     "name": "stdout",
     "output_type": "stream",
     "text": [
      "Relative training error = 8.0772 %\n",
      "Relative test error = 9.8554 %\n"
     ]
    },
    {
     "name": "stderr",
     "output_type": "stream",
     "text": [
      " 57%|█████████████████████████████████████████████████████████████████████████████████████████████▊                                                                        | 13/23 [00:00<00:00, 115.63it/s]"
     ]
    },
    {
     "name": "stdout",
     "output_type": "stream",
     "text": [
      " loss = 0.1624\n"
     ]
    },
    {
     "name": "stderr",
     "output_type": "stream",
     "text": [
      "100%|██████████████████████████████████████████████████████████████████████████████████████████████████████████████████████████████████████████████████████████████████████| 23/23 [00:00<00:00, 121.57it/s]\n"
     ]
    },
    {
     "name": "stdout",
     "output_type": "stream",
     "text": [
      "Relative training error = 8.1524 %\n",
      "Relative test error = 10.0450 %\n"
     ]
    },
    {
     "name": "stderr",
     "output_type": "stream",
     "text": [
      "100%|██████████████████████████████████████████████████████████████████████████████████████████████████████████████████████████████████████████████████████████████████████| 23/23 [00:00<00:00, 191.61it/s]"
     ]
    },
    {
     "name": "stdout",
     "output_type": "stream",
     "text": [
      " loss = 0.1483\n"
     ]
    },
    {
     "name": "stderr",
     "output_type": "stream",
     "text": [
      "\n"
     ]
    },
    {
     "name": "stdout",
     "output_type": "stream",
     "text": [
      "Relative training error = 8.0975 %\n",
      "Relative test error = 9.9670 %\n",
      "Creating DAS_analysis object\n",
      "[-0.01079496 -0.00636261 -0.00472965  0.00829344 -0.03315033  0.01000517\n",
      " -0.03147244  0.01236407 -0.02684816  0.00736422 -0.01663265 -0.00670413\n",
      "  0.01756466 -0.01872044  0.02313004 -0.03355007  0.0332702  -0.02308934\n",
      " -0.04141354  0.01600002 -0.00833672  0.01130101  0.00841153  0.0035773\n",
      "  0.00450807  0.03616873  0.00554306  0.01251749 -0.00332135  0.01660203\n",
      "  0.00364524 -0.00423356 -0.01502233  0.00553334  0.00909886  0.03581746\n",
      " -0.01612826 -0.01689578 -0.00544872 -0.0257047  -0.0020281  -0.00491286\n",
      " -0.01851041 -0.00295021 -0.01707543  0.01278958 -0.03309115 -0.03378421\n",
      "  0.02105434 -0.024914    0.01355151  0.0347159   0.00949286 -0.01157946\n",
      " -0.02779381  0.01103345  0.05014661 -0.0388591   0.03466138 -0.03282935\n",
      "  0.01334391 -0.02446218  0.00617272  0.02966007 -0.0113076  -0.02121396\n",
      " -0.02654688 -0.02603522  0.00742446  0.0033779  -0.03955923 -0.02515224\n",
      " -0.00983606 -0.03146489 -0.02662707  0.00106644 -0.01827304 -0.01481842\n",
      "  0.00496895 -0.01752653  0.02289294  0.02491585 -0.05154504 -0.0153165\n",
      " -0.02955348 -0.01164796  0.00169125  0.00708391  0.00424188 -0.0170783\n",
      " -0.02926962  0.01683864 -0.03211833  0.04620026  0.02204849  0.03711775\n",
      " -0.02703611 -0.02134703 -0.01017228 -0.02460535 -0.00175839  0.00900341\n",
      "  0.0066653   0.02126546 -0.00704159 -0.02525979  0.04929931  0.03000105\n",
      "  0.00056224  0.02727065  0.00672098 -0.02266489 -0.03778072 -0.0143658\n",
      " -0.06977009 -0.00184082  0.03251847  0.00536228  0.00780703  0.00351171\n",
      " -0.001558    0.00453452  0.01956437  0.00755578 -0.00347596 -0.02544811\n",
      " -0.00691871  0.0184323  -0.00946686  0.01644332 -0.00717298 -0.00091536\n",
      " -0.00513515 -0.00200119 -0.00781267  0.03063803  0.00576488 -0.00229528\n",
      "  0.02318851  0.0245067  -0.02252075 -0.01338904  0.0351502  -0.00802465\n",
      " -0.02688461 -0.01285858 -0.04307223  0.01796226 -0.00352158 -0.02649279\n",
      " -0.02409055  0.01353839 -0.01250318  0.00313297  0.01588277  0.01109347\n",
      " -0.00357092  0.00296899  0.00483943 -0.03099188 -0.01898565  0.02774835\n",
      " -0.03559913 -0.0050307   0.0044001   0.13017571 -0.01762796]\n",
      "Parameters ordered from most to least important:\n",
      "[[141 149 165 150 151 153 142  17 137  15 113 109 154 138 163  10 107  73\n",
      "   95  27  85  94  36  41  57  39  28 166  30  53 152 115 105 155  82  21\n",
      "  117 120  22 159 164  83  93  51  99 110  68 108 162  61  69  97  87  79\n",
      "   26 101  29  52  19  18  40 144 161 148  75 134  46  96  84  89  74 118\n",
      "  131   6  72 112  13 139 133 146 127 104  78   5  67  33  49 158 129  42\n",
      "    1 103  66  80 140  45  63  47 156 122  58  55  31  56 130 100  35 106\n",
      "  147   0 135  37  23 111  91  60  20  14  64  70  92 121 123 145 160   9\n",
      "   25   2 125  54  62  76   4  50 116  88  90 143  38  24 132  71 124  32\n",
      "    3  86  48  59 102  34   8 119  11  65  81 157 128   7 136  16  12  43\n",
      "   44 126  77 114  98]]\n",
      "Creating DAS_Surrogate Object\n",
      "Creating Feature Engineering object\n",
      "Using  662/662 samples to train the ML model\n",
      "===============================\n",
      "Neural net parameters\n",
      "===============================\n",
      "Number of layers = 3\n",
      "Number of features = 167\n",
      "Loss function = squared\n",
      "Number of neurons per hidden layer = 20\n",
      "Number of output neurons = 1\n",
      "Activation = ['linear', 'linear', 'tanh', 'linear']\n",
      "This neural network has 228 weights.\n",
      "===============================\n",
      "===============================\n",
      "Training Deep Active Subspace Neural Network...\n"
     ]
    },
    {
     "name": "stderr",
     "output_type": "stream",
     "text": [
      "  0%|                                                                                                                                                                                | 0/23 [00:00<?, ?it/s]"
     ]
    },
    {
     "name": "stdout",
     "output_type": "stream",
     "text": [
      " loss = 1.8915\n"
     ]
    },
    {
     "name": "stderr",
     "output_type": "stream",
     "text": [
      "100%|██████████████████████████████████████████████████████████████████████████████████████████████████████████████████████████████████████████████████████████████████████| 23/23 [00:00<00:00, 165.14it/s]\n"
     ]
    },
    {
     "name": "stdout",
     "output_type": "stream",
     "text": [
      "Relative training error = 23.2012 %\n",
      "Relative test error = 22.4976 %\n"
     ]
    },
    {
     "name": "stderr",
     "output_type": "stream",
     "text": [
      "100%|██████████████████████████████████████████████████████████████████████████████████████████████████████████████████████████████████████████████████████████████████████| 23/23 [00:00<00:00, 217.58it/s]"
     ]
    },
    {
     "name": "stdout",
     "output_type": "stream",
     "text": [
      " loss = 0.9309\n"
     ]
    },
    {
     "name": "stderr",
     "output_type": "stream",
     "text": [
      "\n"
     ]
    },
    {
     "name": "stdout",
     "output_type": "stream",
     "text": [
      "Relative training error = 22.7446 %\n",
      "Relative test error = 22.0250 %\n"
     ]
    },
    {
     "name": "stderr",
     "output_type": "stream",
     "text": [
      "100%|██████████████████████████████████████████████████████████████████████████████████████████████████████████████████████████████████████████████████████████████████████| 23/23 [00:00<00:00, 157.78it/s]"
     ]
    },
    {
     "name": "stdout",
     "output_type": "stream",
     "text": [
      " loss = 1.1453\n"
     ]
    },
    {
     "name": "stderr",
     "output_type": "stream",
     "text": [
      "\n"
     ]
    },
    {
     "name": "stdout",
     "output_type": "stream",
     "text": [
      "Relative training error = 21.0613 %\n",
      "Relative test error = 21.0534 %\n"
     ]
    },
    {
     "name": "stderr",
     "output_type": "stream",
     "text": [
      "100%|██████████████████████████████████████████████████████████████████████████████████████████████████████████████████████████████████████████████████████████████████████| 23/23 [00:00<00:00, 254.89it/s]"
     ]
    },
    {
     "name": "stdout",
     "output_type": "stream",
     "text": [
      " loss = 0.8881\n"
     ]
    },
    {
     "name": "stderr",
     "output_type": "stream",
     "text": [
      "\n"
     ]
    },
    {
     "name": "stdout",
     "output_type": "stream",
     "text": [
      "Relative training error = 18.8371 %\n",
      "Relative test error = 19.1790 %\n"
     ]
    },
    {
     "name": "stderr",
     "output_type": "stream",
     "text": [
      "100%|██████████████████████████████████████████████████████████████████████████████████████████████████████████████████████████████████████████████████████████████████████| 23/23 [00:00<00:00, 149.82it/s]"
     ]
    },
    {
     "name": "stdout",
     "output_type": "stream",
     "text": [
      " loss = 0.3487\n"
     ]
    },
    {
     "name": "stderr",
     "output_type": "stream",
     "text": [
      "\n"
     ]
    },
    {
     "name": "stdout",
     "output_type": "stream",
     "text": [
      "Relative training error = 16.7816 %\n",
      "Relative test error = 17.9260 %\n"
     ]
    },
    {
     "name": "stderr",
     "output_type": "stream",
     "text": [
      "100%|██████████████████████████████████████████████████████████████████████████████████████████████████████████████████████████████████████████████████████████████████████| 23/23 [00:00<00:00, 135.44it/s]"
     ]
    },
    {
     "name": "stdout",
     "output_type": "stream",
     "text": [
      " loss = 0.6033\n"
     ]
    },
    {
     "name": "stderr",
     "output_type": "stream",
     "text": [
      "\n"
     ]
    },
    {
     "name": "stdout",
     "output_type": "stream",
     "text": [
      "Relative training error = 15.1211 %\n",
      "Relative test error = 16.5674 %\n"
     ]
    },
    {
     "name": "stderr",
     "output_type": "stream",
     "text": [
      "100%|██████████████████████████████████████████████████████████████████████████████████████████████████████████████████████████████████████████████████████████████████████| 23/23 [00:00<00:00, 284.57it/s]"
     ]
    },
    {
     "name": "stdout",
     "output_type": "stream",
     "text": [
      " loss = 0.3438\n",
      "Relative training error = 13.7023 %\n"
     ]
    },
    {
     "name": "stderr",
     "output_type": "stream",
     "text": [
      "\n"
     ]
    },
    {
     "name": "stdout",
     "output_type": "stream",
     "text": [
      "Relative test error = 15.1727 %\n"
     ]
    },
    {
     "name": "stderr",
     "output_type": "stream",
     "text": [
      "100%|██████████████████████████████████████████████████████████████████████████████████████████████████████████████████████████████████████████████████████████████████████| 23/23 [00:00<00:00, 267.05it/s]"
     ]
    },
    {
     "name": "stdout",
     "output_type": "stream",
     "text": [
      " loss = 0.2781\n"
     ]
    },
    {
     "name": "stderr",
     "output_type": "stream",
     "text": [
      "\n"
     ]
    },
    {
     "name": "stdout",
     "output_type": "stream",
     "text": [
      "Relative training error = 12.5637 %\n",
      "Relative test error = 14.0322 %\n"
     ]
    },
    {
     "name": "stderr",
     "output_type": "stream",
     "text": [
      "100%|██████████████████████████████████████████████████████████████████████████████████████████████████████████████████████████████████████████████████████████████████████| 23/23 [00:00<00:00, 248.82it/s]"
     ]
    },
    {
     "name": "stdout",
     "output_type": "stream",
     "text": [
      " loss = 0.2941\n"
     ]
    },
    {
     "name": "stderr",
     "output_type": "stream",
     "text": [
      "\n"
     ]
    },
    {
     "name": "stdout",
     "output_type": "stream",
     "text": [
      "Relative training error = 11.5281 %\n",
      "Relative test error = 12.6970 %\n"
     ]
    },
    {
     "name": "stderr",
     "output_type": "stream",
     "text": [
      "100%|██████████████████████████████████████████████████████████████████████████████████████████████████████████████████████████████████████████████████████████████████████| 23/23 [00:00<00:00, 246.69it/s]"
     ]
    },
    {
     "name": "stdout",
     "output_type": "stream",
     "text": [
      " loss = 0.1595\n"
     ]
    },
    {
     "name": "stderr",
     "output_type": "stream",
     "text": [
      "\n"
     ]
    },
    {
     "name": "stdout",
     "output_type": "stream",
     "text": [
      "Relative training error = 10.7397 %\n",
      "Relative test error = 11.9708 %\n"
     ]
    },
    {
     "name": "stderr",
     "output_type": "stream",
     "text": [
      "100%|██████████████████████████████████████████████████████████████████████████████████████████████████████████████████████████████████████████████████████████████████████| 23/23 [00:00<00:00, 216.96it/s]"
     ]
    },
    {
     "name": "stdout",
     "output_type": "stream",
     "text": [
      " loss = 0.1630\n"
     ]
    },
    {
     "name": "stderr",
     "output_type": "stream",
     "text": [
      "\n"
     ]
    },
    {
     "name": "stdout",
     "output_type": "stream",
     "text": [
      "Relative training error = 10.0836 %\n",
      "Relative test error = 11.3625 %\n"
     ]
    },
    {
     "name": "stderr",
     "output_type": "stream",
     "text": [
      "100%|██████████████████████████████████████████████████████████████████████████████████████████████████████████████████████████████████████████████████████████████████████| 23/23 [00:00<00:00, 350.38it/s]"
     ]
    },
    {
     "name": "stdout",
     "output_type": "stream",
     "text": [
      " loss = 0.1434\n"
     ]
    },
    {
     "name": "stderr",
     "output_type": "stream",
     "text": [
      "\n"
     ]
    },
    {
     "name": "stdout",
     "output_type": "stream",
     "text": [
      "Relative training error = 9.6695 %\n",
      "Relative test error = 11.2213 %\n"
     ]
    },
    {
     "name": "stderr",
     "output_type": "stream",
     "text": [
      "100%|██████████████████████████████████████████████████████████████████████████████████████████████████████████████████████████████████████████████████████████████████████| 23/23 [00:00<00:00, 338.73it/s]\n"
     ]
    },
    {
     "name": "stdout",
     "output_type": "stream",
     "text": [
      " loss = 0.1357\n",
      "Relative training error = 9.2329 %\n",
      "Relative test error = 10.8469 %\n"
     ]
    },
    {
     "name": "stderr",
     "output_type": "stream",
     "text": [
      "  0%|                                                                                                                                                                                | 0/23 [00:00<?, ?it/s]"
     ]
    },
    {
     "name": "stdout",
     "output_type": "stream",
     "text": [
      " loss = 0.1635\n"
     ]
    },
    {
     "name": "stderr",
     "output_type": "stream",
     "text": [
      "100%|██████████████████████████████████████████████████████████████████████████████████████████████████████████████████████████████████████████████████████████████████████| 23/23 [00:00<00:00, 151.48it/s]\n"
     ]
    },
    {
     "name": "stdout",
     "output_type": "stream",
     "text": [
      "Relative training error = 8.9417 %\n",
      "Relative test error = 10.7062 %\n"
     ]
    },
    {
     "name": "stderr",
     "output_type": "stream",
     "text": [
      "100%|██████████████████████████████████████████████████████████████████████████████████████████████████████████████████████████████████████████████████████████████████████| 23/23 [00:00<00:00, 335.92it/s]\n"
     ]
    },
    {
     "name": "stdout",
     "output_type": "stream",
     "text": [
      " loss = 0.0916\n",
      "Relative training error = 8.7446 %\n",
      "Relative test error = 10.2370 %\n"
     ]
    },
    {
     "name": "stderr",
     "output_type": "stream",
     "text": [
      "100%|██████████████████████████████████████████████████████████████████████████████████████████████████████████████████████████████████████████████████████████████████████| 23/23 [00:00<00:00, 301.67it/s]\n"
     ]
    },
    {
     "name": "stdout",
     "output_type": "stream",
     "text": [
      " loss = 0.0652\n",
      "Relative training error = 8.5953 %\n",
      "Relative test error = 9.9107 %\n"
     ]
    },
    {
     "name": "stderr",
     "output_type": "stream",
     "text": [
      "  0%|                                                                                                                                                                                | 0/23 [00:00<?, ?it/s]"
     ]
    },
    {
     "name": "stdout",
     "output_type": "stream",
     "text": [
      " loss = 0.0661\n"
     ]
    },
    {
     "name": "stderr",
     "output_type": "stream",
     "text": [
      "100%|██████████████████████████████████████████████████████████████████████████████████████████████████████████████████████████████████████████████████████████████████████| 23/23 [00:00<00:00, 241.73it/s]\n"
     ]
    },
    {
     "name": "stdout",
     "output_type": "stream",
     "text": [
      "Relative training error = 8.5889 %\n",
      "Relative test error = 9.6037 %\n"
     ]
    },
    {
     "name": "stderr",
     "output_type": "stream",
     "text": [
      "  0%|                                                                                                                                                                                | 0/23 [00:00<?, ?it/s]"
     ]
    },
    {
     "name": "stdout",
     "output_type": "stream",
     "text": [
      " loss = 0.0861\n"
     ]
    },
    {
     "name": "stderr",
     "output_type": "stream",
     "text": [
      "100%|██████████████████████████████████████████████████████████████████████████████████████████████████████████████████████████████████████████████████████████████████████| 23/23 [00:00<00:00, 242.16it/s]\n"
     ]
    },
    {
     "name": "stdout",
     "output_type": "stream",
     "text": [
      "Relative training error = 8.4913 %\n",
      "Relative test error = 10.0101 %\n"
     ]
    },
    {
     "name": "stderr",
     "output_type": "stream",
     "text": [
      "  0%|                                                                                                                                                                                | 0/23 [00:00<?, ?it/s]"
     ]
    },
    {
     "name": "stdout",
     "output_type": "stream",
     "text": [
      " loss = 0.0866\n"
     ]
    },
    {
     "name": "stderr",
     "output_type": "stream",
     "text": [
      "100%|██████████████████████████████████████████████████████████████████████████████████████████████████████████████████████████████████████████████████████████████████████| 23/23 [00:00<00:00, 100.01it/s]\n"
     ]
    },
    {
     "name": "stdout",
     "output_type": "stream",
     "text": [
      "Relative training error = 8.5025 %\n",
      "Relative test error = 9.8078 %\n"
     ]
    },
    {
     "name": "stderr",
     "output_type": "stream",
     "text": [
      "100%|██████████████████████████████████████████████████████████████████████████████████████████████████████████████████████████████████████████████████████████████████████| 23/23 [00:00<00:00, 414.84it/s]\n"
     ]
    },
    {
     "name": "stdout",
     "output_type": "stream",
     "text": [
      " loss = 0.1148\n",
      "Relative training error = 8.4232 %\n",
      "Relative test error = 9.8023 %\n"
     ]
    },
    {
     "name": "stderr",
     "output_type": "stream",
     "text": [
      "  0%|                                                                                                                                                                                | 0/23 [00:00<?, ?it/s]"
     ]
    },
    {
     "name": "stdout",
     "output_type": "stream",
     "text": [
      " loss = 0.2233\n"
     ]
    },
    {
     "name": "stderr",
     "output_type": "stream",
     "text": [
      "100%|██████████████████████████████████████████████████████████████████████████████████████████████████████████████████████████████████████████████████████████████████████| 23/23 [00:00<00:00, 239.14it/s]\n"
     ]
    },
    {
     "name": "stdout",
     "output_type": "stream",
     "text": [
      "Relative training error = 8.4339 %\n",
      "Relative test error = 9.7202 %\n"
     ]
    },
    {
     "name": "stderr",
     "output_type": "stream",
     "text": [
      "100%|██████████████████████████████████████████████████████████████████████████████████████████████████████████████████████████████████████████████████████████████████████| 23/23 [00:00<00:00, 241.63it/s]\n"
     ]
    },
    {
     "name": "stdout",
     "output_type": "stream",
     "text": [
      " loss = 0.1103\n",
      "Relative training error = 8.3726 %\n",
      "Relative test error = 9.5846 %\n"
     ]
    },
    {
     "name": "stderr",
     "output_type": "stream",
     "text": [
      "  0%|                                                                                                                                                                                | 0/23 [00:00<?, ?it/s]"
     ]
    },
    {
     "name": "stdout",
     "output_type": "stream",
     "text": [
      " loss = 0.1076\n"
     ]
    },
    {
     "name": "stderr",
     "output_type": "stream",
     "text": [
      "100%|██████████████████████████████████████████████████████████████████████████████████████████████████████████████████████████████████████████████████████████████████████| 23/23 [00:00<00:00, 209.58it/s]\n"
     ]
    },
    {
     "name": "stdout",
     "output_type": "stream",
     "text": [
      "Relative training error = 8.3643 %\n",
      "Relative test error = 9.8363 %\n"
     ]
    },
    {
     "name": "stderr",
     "output_type": "stream",
     "text": [
      "100%|██████████████████████████████████████████████████████████████████████████████████████████████████████████████████████████████████████████████████████████████████████| 23/23 [00:00<00:00, 230.57it/s]\n"
     ]
    },
    {
     "name": "stdout",
     "output_type": "stream",
     "text": [
      " loss = 0.1240\n",
      "Relative training error = 8.2874 %\n",
      "Relative test error = 9.5804 %\n"
     ]
    },
    {
     "name": "stderr",
     "output_type": "stream",
     "text": [
      "100%|██████████████████████████████████████████████████████████████████████████████████████████████████████████████████████████████████████████████████████████████████████| 23/23 [00:00<00:00, 174.25it/s]"
     ]
    },
    {
     "name": "stdout",
     "output_type": "stream",
     "text": [
      " loss = 0.0944\n"
     ]
    },
    {
     "name": "stderr",
     "output_type": "stream",
     "text": [
      "\n"
     ]
    },
    {
     "name": "stdout",
     "output_type": "stream",
     "text": [
      "Relative training error = 8.3019 %\n",
      "Relative test error = 9.6060 %\n"
     ]
    },
    {
     "name": "stderr",
     "output_type": "stream",
     "text": [
      "100%|██████████████████████████████████████████████████████████████████████████████████████████████████████████████████████████████████████████████████████████████████████| 23/23 [00:00<00:00, 264.27it/s]"
     ]
    },
    {
     "name": "stdout",
     "output_type": "stream",
     "text": [
      " loss = 0.1022\n"
     ]
    },
    {
     "name": "stderr",
     "output_type": "stream",
     "text": [
      "\n"
     ]
    },
    {
     "name": "stdout",
     "output_type": "stream",
     "text": [
      "Relative training error = 8.2957 %\n",
      "Relative test error = 10.0941 %\n"
     ]
    },
    {
     "name": "stderr",
     "output_type": "stream",
     "text": [
      "100%|██████████████████████████████████████████████████████████████████████████████████████████████████████████████████████████████████████████████████████████████████████| 23/23 [00:00<00:00, 253.80it/s]"
     ]
    },
    {
     "name": "stdout",
     "output_type": "stream",
     "text": [
      " loss = 0.1458\n"
     ]
    },
    {
     "name": "stderr",
     "output_type": "stream",
     "text": [
      "\n"
     ]
    },
    {
     "name": "stdout",
     "output_type": "stream",
     "text": [
      "Relative training error = 8.2717 %\n",
      "Relative test error = 10.1066 %\n"
     ]
    },
    {
     "name": "stderr",
     "output_type": "stream",
     "text": [
      "100%|██████████████████████████████████████████████████████████████████████████████████████████████████████████████████████████████████████████████████████████████████████| 23/23 [00:00<00:00, 157.44it/s]"
     ]
    },
    {
     "name": "stdout",
     "output_type": "stream",
     "text": [
      " loss = 0.1304\n"
     ]
    },
    {
     "name": "stderr",
     "output_type": "stream",
     "text": [
      "\n"
     ]
    },
    {
     "name": "stdout",
     "output_type": "stream",
     "text": [
      "Relative training error = 8.2632 %\n",
      "Relative test error = 9.7976 %\n",
      "Creating DAS_analysis object\n",
      "[-0.01079496 -0.00636261 -0.00472965  0.00829344 -0.03315033  0.01000517\n",
      " -0.03147244  0.01236407 -0.02684816  0.00736422 -0.01663265 -0.00670413\n",
      "  0.01756466 -0.01872044  0.02313004 -0.03355007  0.0332702  -0.02308934\n",
      " -0.04141354  0.01600002 -0.00833672  0.01130101  0.00841153  0.0035773\n",
      "  0.00450807  0.03616873  0.00554306  0.01251749 -0.00332135  0.01660203\n",
      "  0.00364524 -0.00423356 -0.01502233  0.00553334  0.00909886  0.03581746\n",
      " -0.01612826 -0.01689578 -0.00544872 -0.0257047  -0.0020281  -0.00491286\n",
      " -0.01851041 -0.00295021 -0.01707543  0.01278958 -0.03309115 -0.03378421\n",
      "  0.02105434 -0.024914    0.01355151  0.0347159   0.00949286 -0.01157946\n",
      " -0.02779381  0.01103345  0.05014661 -0.0388591   0.03466138 -0.03282935\n",
      "  0.01334391 -0.02446218  0.00617272  0.02966007 -0.0113076  -0.02121396\n",
      " -0.02654688 -0.02603522  0.00742446  0.0033779  -0.03955923 -0.02515224\n",
      " -0.00983606 -0.03146489 -0.02662707  0.00106644 -0.01827304 -0.01481842\n",
      "  0.00496895 -0.01752653  0.02289294  0.02491585 -0.05154504 -0.0153165\n",
      " -0.02955348 -0.01164796  0.00169125  0.00708391  0.00424188 -0.0170783\n",
      " -0.02926962  0.01683864 -0.03211833  0.04620026  0.02204849  0.03711775\n",
      " -0.02703611 -0.02134703 -0.01017228 -0.02460535 -0.00175839  0.00900341\n",
      "  0.0066653   0.02126546 -0.00704159 -0.02525979  0.04929931  0.03000105\n",
      "  0.00056224  0.02727065  0.00672098 -0.02266489 -0.03778072 -0.0143658\n",
      " -0.06977009 -0.00184082  0.03251847  0.00536228  0.00780703  0.00351171\n",
      " -0.001558    0.00453452  0.01956437  0.00755578 -0.00347596 -0.02544811\n",
      " -0.00691871  0.0184323  -0.00946686  0.01644332 -0.00717298 -0.00091536\n",
      " -0.00513515 -0.00200119 -0.00781267  0.03063803  0.00576488 -0.00229528\n",
      "  0.02318851  0.0245067  -0.02252075 -0.01338904  0.0351502  -0.00802465\n",
      " -0.02688461 -0.01285858 -0.04307223  0.01796226 -0.00352158 -0.02649279\n",
      " -0.02409055  0.01353839 -0.01250318  0.00313297  0.01588277  0.01109347\n",
      " -0.00357092  0.00296899  0.00483943 -0.03099188 -0.01898565  0.02774835\n",
      " -0.03559913 -0.0050307   0.0044001   0.13017571 -0.01762796]\n",
      "Parameters ordered from most to least important:\n",
      "[[141 149 165 150 153 151 142  17 137  15 113 154  73 109 138  27 107  95\n",
      "   10  41  57 163  39  36 164  53  21 105 159  85 120  40  94  87  75  42\n",
      "   28 129  93  29 158  68 156 166 146  97 148  18  52  83 108 115 152 161\n",
      "   66 101  99  30  82  31  46  19 124  63 162 117 139  22  47  79  51 133\n",
      "   96   3  20 127 155 130 116  74  26  16  80   8  38 106  86  45  55  12\n",
      "   13  56 111 145 136  35 144 123  84  49  37 104  61 100 131  78  24  64\n",
      "  102 140  48  69  54 134 110 112  88   5 118 160  62  72  91 135   2  76\n",
      "   43 132  11  90   0  14  77  98  23 143  32  33   7  67  44   9  81  70\n",
      "   58  25  71   1 147   6 126  50 128  65 125 114 103  34 157  60 119  59\n",
      "  122  92 121   4  89]]\n",
      "Creating DAS_Surrogate Object\n",
      "Creating Feature Engineering object\n",
      "Using  662/662 samples to train the ML model\n",
      "===============================\n",
      "Neural net parameters\n",
      "===============================\n",
      "Number of layers = 3\n",
      "Number of features = 167\n",
      "Loss function = squared\n",
      "Number of neurons per hidden layer = 20\n",
      "Number of output neurons = 1\n",
      "Activation = ['linear', 'linear', 'tanh', 'linear']\n",
      "This neural network has 228 weights.\n",
      "===============================\n",
      "===============================\n",
      "Training Deep Active Subspace Neural Network...\n"
     ]
    },
    {
     "name": "stderr",
     "output_type": "stream",
     "text": [
      "100%|██████████████████████████████████████████████████████████████████████████████████████████████████████████████████████████████████████████████████████████████████████| 23/23 [00:00<00:00, 161.49it/s]"
     ]
    },
    {
     "name": "stdout",
     "output_type": "stream",
     "text": [
      " loss = 1.8820\n"
     ]
    },
    {
     "name": "stderr",
     "output_type": "stream",
     "text": [
      "\n"
     ]
    },
    {
     "name": "stdout",
     "output_type": "stream",
     "text": [
      "Relative training error = 24.5992 %\n",
      "Relative test error = 23.1157 %\n"
     ]
    },
    {
     "name": "stderr",
     "output_type": "stream",
     "text": [
      "100%|██████████████████████████████████████████████████████████████████████████████████████████████████████████████████████████████████████████████████████████████████████| 23/23 [00:00<00:00, 167.04it/s]"
     ]
    },
    {
     "name": "stdout",
     "output_type": "stream",
     "text": [
      " loss = 0.8353\n"
     ]
    },
    {
     "name": "stderr",
     "output_type": "stream",
     "text": [
      "\n"
     ]
    },
    {
     "name": "stdout",
     "output_type": "stream",
     "text": [
      "Relative training error = 23.7012 %\n",
      "Relative test error = 23.2702 %\n"
     ]
    },
    {
     "name": "stderr",
     "output_type": "stream",
     "text": [
      "100%|██████████████████████████████████████████████████████████████████████████████████████████████████████████████████████████████████████████████████████████████████████| 23/23 [00:00<00:00, 175.00it/s]"
     ]
    },
    {
     "name": "stdout",
     "output_type": "stream",
     "text": [
      " loss = 0.9050\n"
     ]
    },
    {
     "name": "stderr",
     "output_type": "stream",
     "text": [
      "\n"
     ]
    },
    {
     "name": "stdout",
     "output_type": "stream",
     "text": [
      "Relative training error = 23.4117 %\n",
      "Relative test error = 22.9480 %\n"
     ]
    },
    {
     "name": "stderr",
     "output_type": "stream",
     "text": [
      "100%|██████████████████████████████████████████████████████████████████████████████████████████████████████████████████████████████████████████████████████████████████████| 23/23 [00:00<00:00, 146.38it/s]"
     ]
    },
    {
     "name": "stdout",
     "output_type": "stream",
     "text": [
      " loss = 0.8849\n"
     ]
    },
    {
     "name": "stderr",
     "output_type": "stream",
     "text": [
      "\n"
     ]
    },
    {
     "name": "stdout",
     "output_type": "stream",
     "text": [
      "Relative training error = 22.7039 %\n",
      "Relative test error = 22.1440 %\n"
     ]
    },
    {
     "name": "stderr",
     "output_type": "stream",
     "text": [
      "100%|██████████████████████████████████████████████████████████████████████████████████████████████████████████████████████████████████████████████████████████████████████| 23/23 [00:00<00:00, 191.08it/s]"
     ]
    },
    {
     "name": "stdout",
     "output_type": "stream",
     "text": [
      " loss = 0.7616\n"
     ]
    },
    {
     "name": "stderr",
     "output_type": "stream",
     "text": [
      "\n"
     ]
    },
    {
     "name": "stdout",
     "output_type": "stream",
     "text": [
      "Relative training error = 21.1174 %\n",
      "Relative test error = 20.9238 %\n"
     ]
    },
    {
     "name": "stderr",
     "output_type": "stream",
     "text": [
      "100%|██████████████████████████████████████████████████████████████████████████████████████████████████████████████████████████████████████████████████████████████████████| 23/23 [00:00<00:00, 215.35it/s]"
     ]
    },
    {
     "name": "stdout",
     "output_type": "stream",
     "text": [
      " loss = 0.8451\n"
     ]
    },
    {
     "name": "stderr",
     "output_type": "stream",
     "text": [
      "\n"
     ]
    },
    {
     "name": "stdout",
     "output_type": "stream",
     "text": [
      "Relative training error = 18.0019 %\n",
      "Relative test error = 18.7308 %\n"
     ]
    },
    {
     "name": "stderr",
     "output_type": "stream",
     "text": [
      "100%|██████████████████████████████████████████████████████████████████████████████████████████████████████████████████████████████████████████████████████████████████████| 23/23 [00:00<00:00, 317.49it/s]\n"
     ]
    },
    {
     "name": "stdout",
     "output_type": "stream",
     "text": [
      " loss = 0.6585\n",
      "Relative training error = 14.3199 %\n",
      "Relative test error = 16.7995 %\n"
     ]
    },
    {
     "name": "stderr",
     "output_type": "stream",
     "text": [
      "  0%|                                                                                                                                                                                | 0/23 [00:00<?, ?it/s]"
     ]
    },
    {
     "name": "stdout",
     "output_type": "stream",
     "text": [
      " loss = 0.4133\n"
     ]
    },
    {
     "name": "stderr",
     "output_type": "stream",
     "text": [
      "100%|██████████████████████████████████████████████████████████████████████████████████████████████████████████████████████████████████████████████████████████████████████| 23/23 [00:00<00:00, 294.83it/s]\n"
     ]
    },
    {
     "name": "stdout",
     "output_type": "stream",
     "text": [
      "Relative training error = 11.9827 %\n",
      "Relative test error = 15.2394 %\n"
     ]
    },
    {
     "name": "stderr",
     "output_type": "stream",
     "text": [
      " 57%|█████████████████████████████████████████████████████████████████████████████████████████████▊                                                                        | 13/23 [00:00<00:00, 122.72it/s]"
     ]
    },
    {
     "name": "stdout",
     "output_type": "stream",
     "text": [
      " loss = 0.2891\n"
     ]
    },
    {
     "name": "stderr",
     "output_type": "stream",
     "text": [
      "100%|██████████████████████████████████████████████████████████████████████████████████████████████████████████████████████████████████████████████████████████████████████| 23/23 [00:00<00:00, 127.08it/s]\n"
     ]
    },
    {
     "name": "stdout",
     "output_type": "stream",
     "text": [
      "Relative training error = 10.4623 %\n",
      "Relative test error = 13.1356 %\n"
     ]
    },
    {
     "name": "stderr",
     "output_type": "stream",
     "text": [
      "100%|██████████████████████████████████████████████████████████████████████████████████████████████████████████████████████████████████████████████████████████████████████| 23/23 [00:00<00:00, 180.35it/s]"
     ]
    },
    {
     "name": "stdout",
     "output_type": "stream",
     "text": [
      " loss = 0.1227\n"
     ]
    },
    {
     "name": "stderr",
     "output_type": "stream",
     "text": [
      "\n"
     ]
    },
    {
     "name": "stdout",
     "output_type": "stream",
     "text": [
      "Relative training error = 9.6358 %\n",
      "Relative test error = 11.7968 %\n"
     ]
    },
    {
     "name": "stderr",
     "output_type": "stream",
     "text": [
      "100%|██████████████████████████████████████████████████████████████████████████████████████████████████████████████████████████████████████████████████████████████████████| 23/23 [00:00<00:00, 230.03it/s]"
     ]
    },
    {
     "name": "stdout",
     "output_type": "stream",
     "text": [
      " loss = 0.1272\n",
      "Relative training error = 9.0846 %\n"
     ]
    },
    {
     "name": "stderr",
     "output_type": "stream",
     "text": [
      "\n"
     ]
    },
    {
     "name": "stdout",
     "output_type": "stream",
     "text": [
      "Relative test error = 11.0559 %\n"
     ]
    },
    {
     "name": "stderr",
     "output_type": "stream",
     "text": [
      "  0%|                                                                                                                                                                                | 0/23 [00:00<?, ?it/s]"
     ]
    },
    {
     "name": "stdout",
     "output_type": "stream",
     "text": [
      " loss = 0.1428\n"
     ]
    },
    {
     "name": "stderr",
     "output_type": "stream",
     "text": [
      "100%|██████████████████████████████████████████████████████████████████████████████████████████████████████████████████████████████████████████████████████████████████████| 23/23 [00:00<00:00, 182.88it/s]\n"
     ]
    },
    {
     "name": "stdout",
     "output_type": "stream",
     "text": [
      "Relative training error = 8.8005 %\n",
      "Relative test error = 10.4860 %\n"
     ]
    },
    {
     "name": "stderr",
     "output_type": "stream",
     "text": [
      "100%|██████████████████████████████████████████████████████████████████████████████████████████████████████████████████████████████████████████████████████████████████████| 23/23 [00:00<00:00, 272.17it/s]"
     ]
    },
    {
     "name": "stdout",
     "output_type": "stream",
     "text": [
      " loss = 0.1184\n",
      "Relative training error = 8.6025 %\n"
     ]
    },
    {
     "name": "stderr",
     "output_type": "stream",
     "text": [
      "\n"
     ]
    },
    {
     "name": "stdout",
     "output_type": "stream",
     "text": [
      "Relative test error = 10.6730 %\n"
     ]
    },
    {
     "name": "stderr",
     "output_type": "stream",
     "text": [
      "  0%|                                                                                                                                                                                | 0/23 [00:00<?, ?it/s]"
     ]
    },
    {
     "name": "stdout",
     "output_type": "stream",
     "text": [
      " loss = 0.1221\n"
     ]
    },
    {
     "name": "stderr",
     "output_type": "stream",
     "text": [
      "100%|██████████████████████████████████████████████████████████████████████████████████████████████████████████████████████████████████████████████████████████████████████| 23/23 [00:00<00:00, 162.53it/s]\n"
     ]
    },
    {
     "name": "stdout",
     "output_type": "stream",
     "text": [
      "Relative training error = 8.5121 %\n",
      "Relative test error = 10.6618 %\n"
     ]
    },
    {
     "name": "stderr",
     "output_type": "stream",
     "text": [
      "100%|██████████████████████████████████████████████████████████████████████████████████████████████████████████████████████████████████████████████████████████████████████| 23/23 [00:00<00:00, 178.61it/s]"
     ]
    },
    {
     "name": "stdout",
     "output_type": "stream",
     "text": [
      " loss = 0.1537\n"
     ]
    },
    {
     "name": "stderr",
     "output_type": "stream",
     "text": [
      "\n"
     ]
    },
    {
     "name": "stdout",
     "output_type": "stream",
     "text": [
      "Relative training error = 8.3932 %\n",
      "Relative test error = 10.7580 %\n"
     ]
    },
    {
     "name": "stderr",
     "output_type": "stream",
     "text": [
      " 48%|███████████████████████████████████████████████████████████████████████████████▍                                                                                      | 11/23 [00:00<00:00, 105.66it/s]"
     ]
    },
    {
     "name": "stdout",
     "output_type": "stream",
     "text": [
      " loss = 0.0804\n"
     ]
    },
    {
     "name": "stderr",
     "output_type": "stream",
     "text": [
      "100%|██████████████████████████████████████████████████████████████████████████████████████████████████████████████████████████████████████████████████████████████████████| 23/23 [00:00<00:00, 124.18it/s]\n"
     ]
    },
    {
     "name": "stdout",
     "output_type": "stream",
     "text": [
      "Relative training error = 8.4038 %\n",
      "Relative test error = 10.6313 %\n",
      "Creating DAS_analysis object\n",
      "[-0.01079496 -0.00636261 -0.00472965  0.00829344 -0.03315033  0.01000517\n",
      " -0.03147244  0.01236407 -0.02684816  0.00736422 -0.01663265 -0.00670413\n",
      "  0.01756466 -0.01872044  0.02313004 -0.03355007  0.0332702  -0.02308934\n",
      " -0.04141354  0.01600002 -0.00833672  0.01130101  0.00841153  0.0035773\n",
      "  0.00450807  0.03616873  0.00554306  0.01251749 -0.00332135  0.01660203\n",
      "  0.00364524 -0.00423356 -0.01502233  0.00553334  0.00909886  0.03581746\n",
      " -0.01612826 -0.01689578 -0.00544872 -0.0257047  -0.0020281  -0.00491286\n",
      " -0.01851041 -0.00295021 -0.01707543  0.01278958 -0.03309115 -0.03378421\n",
      "  0.02105434 -0.024914    0.01355151  0.0347159   0.00949286 -0.01157946\n",
      " -0.02779381  0.01103345  0.05014661 -0.0388591   0.03466138 -0.03282935\n",
      "  0.01334391 -0.02446218  0.00617272  0.02966007 -0.0113076  -0.02121396\n",
      " -0.02654688 -0.02603522  0.00742446  0.0033779  -0.03955923 -0.02515224\n",
      " -0.00983606 -0.03146489 -0.02662707  0.00106644 -0.01827304 -0.01481842\n",
      "  0.00496895 -0.01752653  0.02289294  0.02491585 -0.05154504 -0.0153165\n",
      " -0.02955348 -0.01164796  0.00169125  0.00708391  0.00424188 -0.0170783\n",
      " -0.02926962  0.01683864 -0.03211833  0.04620026  0.02204849  0.03711775\n",
      " -0.02703611 -0.02134703 -0.01017228 -0.02460535 -0.00175839  0.00900341\n",
      "  0.0066653   0.02126546 -0.00704159 -0.02525979  0.04929931  0.03000105\n",
      "  0.00056224  0.02727065  0.00672098 -0.02266489 -0.03778072 -0.0143658\n",
      " -0.06977009 -0.00184082  0.03251847  0.00536228  0.00780703  0.00351171\n",
      " -0.001558    0.00453452  0.01956437  0.00755578 -0.00347596 -0.02544811\n",
      " -0.00691871  0.0184323  -0.00946686  0.01644332 -0.00717298 -0.00091536\n",
      " -0.00513515 -0.00200119 -0.00781267  0.03063803  0.00576488 -0.00229528\n",
      "  0.02318851  0.0245067  -0.02252075 -0.01338904  0.0351502  -0.00802465\n",
      " -0.02688461 -0.01285858 -0.04307223  0.01796226 -0.00352158 -0.02649279\n",
      " -0.02409055  0.01353839 -0.01250318  0.00313297  0.01588277  0.01109347\n",
      " -0.00357092  0.00296899  0.00483943 -0.03099188 -0.01898565  0.02774835\n",
      " -0.03559913 -0.0050307   0.0044001   0.13017571 -0.01762796]\n",
      "Parameters ordered from most to least important:\n",
      "[[141 149 165 150 151 153 142  17  15 137 113  95 109 138  73 154  10  36\n",
      "   41  27 163  85 107 115  39  94 156 155  57  79  75  82  87  53  93  46\n",
      "  123  29 108  99  49  30 152 164  86  28  22  13  21 159 166 161  68 146\n",
      "   72  96  37  47  66 162 111 144  67  19  65 143 140   6 127 147  77  52\n",
      "   40  42  91 130  35  74  43 117 110  80  54  58  59  83  84  18  48 121\n",
      "   56   8 100  63  38  64  11 112  24 131  69 135 122 134 119 106 105 160\n",
      "   31  44  33 133  90 124   0 116  71   2  23 120 101  26 136  12 103 148\n",
      "   34 118  89  76  51 104  70  25  92  61   9  62  32 157 129  60 139 132\n",
      "  145   4  97 158 102  14  50 126  81 125  88   1  45  55  98   5  78   7\n",
      "   20 128   3 114  16]]\n"
     ]
    }
   ],
   "source": [
    "train_das(failure_criterion=0.5)"
   ]
  },
  {
   "cell_type": "code",
   "execution_count": 16,
   "id": "5b09156c",
   "metadata": {},
   "outputs": [
    {
     "data": {
      "image/png": "[encoded data removed]",
      "text/plain": [
       "<Figure size 640x480 with 1 Axes>"
      ]
     },
     "metadata": {},
     "output_type": "display_data"
    }
   ],
   "source": [
    "# plot the relative DAS training and test error for the last replica network\n",
    "plot_errors(results_das)"
   ]
  },
  {
   "cell_type": "markdown",
   "id": "2871d096",
   "metadata": {},
   "source": [
    "### Get training results"
   ]
  },
  {
   "cell_type": "code",
   "execution_count": 17,
   "id": "e4d134b2",
   "metadata": {},
   "outputs": [],
   "source": [
    "# select the surrogate with the lowest test error\n",
    "epoch_stop = results_das['epoch_stop']\n",
    "test_errors = np.array(results_das['errors'])[:, :, 1]\n",
    "test_errors = [error[epoch_stop[idx]] for idx, error in enumerate(test_errors)]\n",
    "best_idx = np.argmin(test_errors)\n",
    "das_surrogate = results_das['surrogate'][best_idx]\n",
    "\n",
    "# compute the active subspace on the training and test data\n",
    "W_1 = results_das['projection_matrix'][best_idx]\n",
    "y_das_train = np.dot(W_1.T, params_train.T).T\n",
    "y_das_test = np.dot(W_1.T, params_test.T).T"
   ]
  },
  {
   "cell_type": "markdown",
   "id": "ccd2d2b0",
   "metadata": {},
   "source": [
    "### Recreate the eigenvalue plots\n",
    "\n",
    "Plot the eigenvalues with confidence intervals. "
   ]
  },
  {
   "cell_type": "code",
   "execution_count": 18,
   "id": "e1a94d13",
   "metadata": {
    "scrolled": true
   },
   "outputs": [
    {
     "name": "stderr",
     "output_type": "stream",
     "text": [
      "findfont: Font family ['cmsy10'] not found. Falling back to DejaVu Sans.\n",
      "findfont: Font family ['cmr10'] not found. Falling back to DejaVu Sans.\n",
      "findfont: Font family ['cmtt10'] not found. Falling back to DejaVu Sans.\n",
      "findfont: Font family ['cmmi10'] not found. Falling back to DejaVu Sans.\n",
      "findfont: Font family ['cmb10'] not found. Falling back to DejaVu Sans.\n",
      "findfont: Font family ['cmss10'] not found. Falling back to DejaVu Sans.\n",
      "findfont: Font family ['cmex10'] not found. Falling back to DejaVu Sans.\n",
      "findfont: Font family ['DejaVu Sans Display'] not found. Falling back to DejaVu Sans.\n"
     ]
    },
    {
     "data": {
      "image/png": "[encoded data removed]",
      "text/plain": [
       "<Figure size 400x400 with 1 Axes>"
      ]
     },
     "metadata": {},
     "output_type": "display_data"
    }
   ],
   "source": [
    "# number of eigenvalues to plot\n",
    "n_vals = d\n",
    "\n",
    "# basic analysisclass to compute the confidence intervals\n",
    "analysis = es.analysis.BaseAnalysis()\n",
    "\n",
    "# DAS eigenvalues\n",
    "eigvals_C_das = results_das['eigvals'] \n",
    "eigvals_C_das = eigvals_C_das / np.mean(eigvals_C_das, axis=0)[0]\n",
    "# eigenvalues averaged over the n_rep replica networks\n",
    "mean_eigval_das = np.mean(eigvals_C_das[:, 0:n_vals], axis=0)\n",
    "# compute confidence intervals\n",
    "lower, upper = analysis.get_confidence_intervals(eigvals_C_das[:, 0:n_vals])\n",
    "y_err_das = np.array([mean_eigval_das - lower, upper - mean_eigval_das])\n",
    "\n",
    "# Load GP results from file\n",
    "GP_eigvals = pd.read_csv('./GP_eigvals/scaled_eigen_results_esmacs.csv')\n",
    "GP_mean = GP_eigvals['Eigenval_mean'].values\n",
    "GP_std = GP_eigvals['Eigenval_std'].values\n",
    "\n",
    "# plot results.\n",
    "fig = plt.figure(figsize=[4, 4])\n",
    "ax1 = fig.add_subplot(111, yscale='log', ylim=[1e-4, 2])\n",
    "ax1.set_ylabel(r'$\\lambda_i\\;/\\;\\lambda_1$', fontsize=12)\n",
    "ax1.set_xlabel(r'$i$', fontsize=12)\n",
    "offset = 0.1\n",
    "ax1.errorbar(np.arange(1, n_vals + 1)-offset, mean_eigval_das, \n",
    "             yerr = y_err_das, fmt='s', color='dodgerblue', label='DAS')\n",
    "ax1.errorbar(np.arange(1, n_vals + 1)+offset, GP_mean[0:n_vals], \n",
    "             fmt='^', color='salmon', label='KAS-GP')#, yerr = GP_std[0:n_vals])\n",
    "plt.legend(loc=0)\n",
    "ax1.set_xticks(np.arange(1, n_vals + 1, 1))\n",
    "sns.despine(top=True)\n",
    "plt.tight_layout()\n",
    "\n",
    "fig.savefig('./images/esmacs_eigvals_d%d.png' % (d,))"
   ]
  },
  {
   "cell_type": "code",
   "execution_count": null,
   "id": "0dcc927f",
   "metadata": {},
   "outputs": [],
   "source": []
  },
  {
   "cell_type": "markdown",
   "id": "b582eaaa",
   "metadata": {},
   "source": [
    "### Recreate the active subspace plot\n",
    "\n",
    "Plot the predictions in a 1D active subspace."
   ]
  },
  {
   "cell_type": "code",
   "execution_count": 19,
   "id": "6db2dc2d",
   "metadata": {},
   "outputs": [],
   "source": [
    "# run the surrogate at a number of random inputs locations drawn from U[-1, 1]\n",
    "n_mc = 1000\n",
    "pred_inputs = np.random.rand(n_mc, D) * 2 - 1\n",
    "das_samples_pred = np.zeros(n_mc)\n",
    "for i in range(n_mc):\n",
    "    das_samples_pred[i] = das_surrogate.predict(pred_inputs[i])"
   ]
  },
  {
   "cell_type": "code",
   "execution_count": 20,
   "id": "96cf8b5a",
   "metadata": {},
   "outputs": [],
   "source": [
    "# active subspace at prediction inputs x\n",
    "y_val_das = np.dot(W_1.T, pred_inputs.T).T\n",
    "idx = np.argsort(y_val_das.flatten())"
   ]
  },
  {
   "cell_type": "code",
   "execution_count": null,
   "id": "f424d2d6",
   "metadata": {},
   "outputs": [],
   "source": []
  },
  {
   "cell_type": "code",
   "execution_count": 21,
   "id": "fa9440bc",
   "metadata": {},
   "outputs": [
    {
     "data": {
      "image/png": "[encoded data removed]",
      "text/plain": [
       "<Figure size 800x400 with 2 Axes>"
      ]
     },
     "metadata": {},
     "output_type": "display_data"
    }
   ],
   "source": [
    "# QoI labels\n",
    "lbl = {QoI: r'binding free energy'}\n",
    "\n",
    "# plot DAS surrogate\n",
    "fig = plt.figure(figsize=(8,4))\n",
    "spec = gridspec.GridSpec(ncols=2, nrows=1, width_ratios=[1, 1])\n",
    "\n",
    "ax = fig.add_subplot(spec[0],  xlim=[-2,2], title='DAS')\n",
    "ax.set_xlabel(r'$y_1$', fontsize=12)\n",
    "ax.set_xticks([-2, -1, 0, 1, 2])\n",
    "ax.set_ylabel(lbl[QoI], fontsize=12)\n",
    "ax.plot(y_das_train[:,0], samples_train, '.', color='dodgerblue', label='training data') \n",
    "ax.plot(y_das_test[:,0], samples_test, '^', markerfacecolor='lime', label='test data') \n",
    "ax.plot(y_val_das[idx,0], das_samples_pred[idx], color='salmon', label='DAS', linewidth=3)\n",
    "leg = ax.legend(loc=0, frameon=False)\n",
    "\n",
    "ax2 = fig.add_subplot(spec[1], sharex = ax, ylim = ax.get_ylim(), title='KAS-GP') \n",
    "ax2.set_xlabel(r'$y_1$', fontsize=12)\n",
    "\n",
    "# also plot GP surrogate from file\n",
    "y_mean = das_surrogate.neural_net.y_mean\n",
    "y_std = das_surrogate.neural_net.y_std\n",
    "GP_surrogate = np.load('./GP_surrogate/esmacs_result.npy', allow_pickle=True).item()\n",
    "ax2.plot(GP_surrogate['reduced_train_params'], samples_train, '.', color='dodgerblue', label='training data')\n",
    "ax2.plot(GP_surrogate['reduced_test_params'], samples_test, '^', markerfacecolor='lime', label='test data')\n",
    "ax2.plot(GP_surrogate['active_subspace'], GP_surrogate['prediction_mean'] * y_std + y_mean, color='salmon',\n",
    "        label='KAS-GP + 95% CI', linewidth=3)\n",
    "skip=10\n",
    "ax2.errorbar(GP_surrogate['active_subspace'][0:-1:skip].flatten(), \n",
    "             GP_surrogate['prediction_mean'][0:-1:skip].flatten() * y_std + y_mean,\n",
    "             yerr = GP_surrogate['prediction_CI'][0:-1:skip].flatten() * y_std, color='salmon',\n",
    "             linewidth=0, elinewidth=3)\n",
    "leg = ax2.legend(loc=0, frameon=False)\n",
    "\n",
    "sns.despine(top=True, ax=ax)\n",
    "sns.despine(top=True, ax=ax2)\n",
    "sns.despine(left=True, ax=ax2)\n",
    "ax2.set_yticks([])\n",
    "\n",
    "plt.tight_layout()\n",
    "plt.savefig('./images/esmacs_surrogate_d%d.png' % (d, ))"
   ]
  },
  {
   "cell_type": "markdown",
   "id": "e5880548",
   "metadata": {},
   "source": [
    "### Recreate the global-derivative based sensitivity plots"
   ]
  },
  {
   "cell_type": "code",
   "execution_count": 22,
   "id": "6aa9719f",
   "metadata": {},
   "outputs": [],
   "source": [
    "GP_results = pd.read_csv('./GP_SA/sensitivity_indices_esmacs.csv')"
   ]
  },
  {
   "cell_type": "code",
   "execution_count": 23,
   "id": "60bff6d5",
   "metadata": {
    "scrolled": false
   },
   "outputs": [
    {
     "data": {
      "image/png": "[encoded data removed]",
      "text/plain": [
       "<Figure size 500x1000 with 1 Axes>"
      ]
     },
     "metadata": {},
     "output_type": "display_data"
    }
   ],
   "source": [
    "# plot sensitivity indices with CIs\n",
    "plot_sensitivity(results_das, param_names, bar2 = GP_results)"
   ]
  },
  {
   "cell_type": "markdown",
   "id": "584eda20",
   "metadata": {},
   "source": [
    "### Compare epistemic with aleatoric uncertainty"
   ]
  },
  {
   "cell_type": "code",
   "execution_count": 24,
   "id": "ba8c1ac0",
   "metadata": {},
   "outputs": [
    {
     "name": "stdout",
     "output_type": "stream",
     "text": [
      "Computing kernel-density estimate\n",
      "done\n",
      "Computing kernel-density estimate\n",
      "done\n",
      "Computing kernel-density estimate\n",
      "done\n"
     ]
    },
    {
     "data": {
      "image/png": "[encoded data removed]",
      "text/plain": [
       "<Figure size 1000x450 with 3 Axes>"
      ]
     },
     "metadata": {},
     "output_type": "display_data"
    }
   ],
   "source": [
    "plot_dist(output, 'binding free energy')"
   ]
  },
  {
   "cell_type": "markdown",
   "id": "3e55fedf",
   "metadata": {},
   "source": [
    "### (Non-Gaussian) stats with bootstrapping"
   ]
  },
  {
   "cell_type": "code",
   "execution_count": 25,
   "id": "6b6fda21",
   "metadata": {},
   "outputs": [
    {
     "name": "stderr",
     "output_type": "stream",
     "text": [
      "100%|██████████████████████████████████████████████████████████████████████████████████████████████████████████████████████████████████████████████████████████████| 100000/100000 [04:15<00:00, 390.74it/s]\n"
     ]
    }
   ],
   "source": [
    "n_bootstap = 10 ** 5\n",
    "n_samples = output.size\n",
    "\n",
    "mean = np.zeros(n_bootstap)\n",
    "std = np.zeros(n_bootstap)\n",
    "skew = np.zeros(n_bootstap)\n",
    "kurt = np.zeros(n_bootstap)\n",
    "\n",
    "output = output.flatten() \n",
    "\n",
    "for i in tqdm(range(n_bootstap)):\n",
    "    # resample with replacement\n",
    "    idx = np.random.randint(0, n_samples, n_samples)\n",
    "    # recompute moments\n",
    "    mean[i] = np.mean(output[idx])\n",
    "    std[i] = np.std(output[idx])\n",
    "    skew[i] = stats.skew(output[idx])\n",
    "    kurt[i] = stats.kurtosis(output[idx])"
   ]
  },
  {
   "cell_type": "code",
   "execution_count": 26,
   "id": "d92ee69f",
   "metadata": {},
   "outputs": [],
   "source": [
    "lower_mean, upper_mean = analysis.get_confidence_intervals(mean.reshape([-1,1]))\n",
    "lower_std, upper_std = analysis.get_confidence_intervals(std.reshape([-1,1]))\n",
    "lower_skew, upper_skew = analysis.get_confidence_intervals(skew.reshape([-1,1]))\n",
    "lower_kurt, upper_kurt = analysis.get_confidence_intervals(kurt.reshape([-1,1]))"
   ]
  },
  {
   "cell_type": "code",
   "execution_count": 27,
   "id": "7d80dbba",
   "metadata": {},
   "outputs": [
    {
     "name": "stdout",
     "output_type": "stream",
     "text": [
      "Mean: -2.99e+01 (-2.99e+01/-2.98e+01)\n",
      "Std dev: 7.68e+00 (7.61e+00/7.74e+00)\n",
      "Skew: -0.08 (-0.117/-0.050)\n",
      "Kurt: 0.07 (0.00/0.14)\n",
      "N_samples = 18400\n"
     ]
    }
   ],
   "source": [
    "print(\"Mean: %.2e (%.2e/%.2e)\" % (np.mean(output), lower_mean, upper_mean))\n",
    "print(\"Std dev: %.2e (%.2e/%.2e)\" % (np.std(output), lower_std, upper_std))\n",
    "print(\"Skew: %.2f (%.3f/%.3f)\" % (stats.skew(output), lower_skew, upper_skew))\n",
    "print(\"Kurt: %.2f (%.2f/%.2f)\" % (stats.kurtosis(output), lower_kurt, upper_kurt))\n",
    "print(\"N_samples = %d\" % n_samples)"
   ]
  },
  {
   "cell_type": "code",
   "execution_count": null,
   "id": "4ba582fd",
   "metadata": {},
   "outputs": [],
   "source": []
  }
 ],
 "metadata": {
  "kernelspec": {
   "display_name": "Python 3 (ipykernel)",
   "language": "python",
   "name": "python3"
  },
  "language_info": {
   "codemirror_mode": {
    "name": "ipython",
    "version": 3
   },
   "file_extension": ".py",
   "mimetype": "text/x-python",
   "name": "python",
   "nbconvert_exporter": "python",
   "pygments_lexer": "ipython3",
   "version": "3.9.16"
  }
 },
 "nbformat": 4,
 "nbformat_minor": 5
}
