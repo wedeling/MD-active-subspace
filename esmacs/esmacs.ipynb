{
 "cells": [
  {
   "cell_type": "markdown",
   "id": "461b100d",
   "metadata": {},
   "source": [
    "## ESMACS binding free energy application\n",
    "\n",
    "Run this notebook to reproduce the Deep Active Subspace (DAS) results for the ESMACS application. Small variation in the results will occur due to the stochastic nature of the training procedure. Some KAS-GP are also displayed. These are loaded from file, and not directly computed here.\n",
    "\n",
    "### Reference\n",
    "\n",
    "Wouter Edeling, Maxime Vassaux, Yiming Yang, Shunzhou Wan, Peter Coveney, *Global ranking of the sensitivity of interaction potential contributions within classical molecular dynamics force fields*, (submitted), 2023."
   ]
  },
  {
   "cell_type": "markdown",
   "id": "4859dcb2",
   "metadata": {},
   "source": [
    "### Install EasySurrogate\n",
    "\n",
    "The Deep Active Subspace method is implemented in EasySurrogate. Uncomment to install."
   ]
  },
  {
   "cell_type": "code",
   "execution_count": 56,
   "id": "2c601e61",
   "metadata": {},
   "outputs": [],
   "source": [
    "#!pip install easysurrogate==0.24.1"
   ]
  },
  {
   "cell_type": "code",
   "execution_count": 57,
   "id": "2defd753",
   "metadata": {},
   "outputs": [],
   "source": [
    "import numpy as np\n",
    "import matplotlib.pyplot as plt\n",
    "from matplotlib import gridspec\n",
    "import easysurrogate as es\n",
    "from scipy import linalg, stats\n",
    "import pandas as pd\n",
    "import json\n",
    "import os\n",
    "import seaborn as sns\n",
    "from tqdm import tqdm"
   ]
  },
  {
   "cell_type": "markdown",
   "id": "ae394479",
   "metadata": {},
   "source": [
    "Several subroutines specific to this article are located in `../utils/utils.py`. Import this module."
   ]
  },
  {
   "cell_type": "code",
   "execution_count": 58,
   "id": "1df9d792",
   "metadata": {},
   "outputs": [],
   "source": [
    "import sys\n",
    "sys.path.insert(1, '../')\n",
    "from utils.utils import plot_sensitivity, plot_errors, plot_dist, early_stopping"
   ]
  },
  {
   "cell_type": "code",
   "execution_count": 59,
   "id": "e947a0de",
   "metadata": {},
   "outputs": [],
   "source": [
    "%matplotlib inline\n",
    "# save figures at 300 dpi\n",
    "plt.rcParams['savefig.dpi'] = 300"
   ]
  },
  {
   "cell_type": "markdown",
   "id": "41de8c9a",
   "metadata": {},
   "source": [
    "### Load prior ranges\n",
    "\n",
    "The JSON files below contains all default values and boundaries used for specifying the Uniform input parameter distributions. "
   ]
  },
  {
   "cell_type": "code",
   "execution_count": 60,
   "id": "bd36fb62",
   "metadata": {},
   "outputs": [
    {
     "data": {
      "text/plain": [
       "{'d01fc': {'default': 0.75, 'type': 'float'},\n",
       " 'd02fc': {'default': 0.25, 'type': 'float'},\n",
       " 'd03fc': {'default': 0.092, 'type': 'float'},\n",
       " 'd04fc': {'default': 0.612, 'type': 'float'},\n",
       " 'd05fc': {'default': 0.252, 'type': 'float'},\n",
       " 'd06fc': {'default': 0.03, 'type': 'float'},\n",
       " 'd07fc': {'default': 0.154, 'type': 'float'},\n",
       " 'd08fc': {'default': 0.486, 'type': 'float'},\n",
       " 'd09fc': {'default': 0.033, 'type': 'float'},\n",
       " 'd10fc': {'default': 1.0, 'type': 'float'},\n",
       " 'd11fc': {'default': 0.45, 'type': 'float'},\n",
       " 'd12fc': {'default': 0.0, 'type': 'float'},\n",
       " 'd13fc': {'default': 0.53, 'type': 'float'},\n",
       " 'd14fc': {'default': 0.15, 'type': 'float'},\n",
       " 'd15fc': {'default': 0.5, 'type': 'float'},\n",
       " 'd16fc': {'default': 1.5, 'type': 'float'},\n",
       " 'd17fc': {'default': 1.05, 'type': 'float'},\n",
       " 'd18fc': {'default': 10.5, 'type': 'float'},\n",
       " 'd19fc': {'default': 1.1, 'type': 'float'},\n",
       " 'd20fc': {'default': 1.0, 'type': 'float'},\n",
       " 'box_size': {'default': 14.0, 'type': 'float'},\n",
       " 'cutoff': {'default': 12.0, 'type': 'float'},\n",
       " 'switching': {'default': 'on', 'type': 'string'},\n",
       " 'timestep': {'default': 2.0, 'type': 'float'},\n",
       " 'rigidBonds': {'default': 'all', 'type': 'string'},\n",
       " 'rigidtolerance': {'default': 1e-05, 'type': 'float'},\n",
       " 'rigidIterations': {'default': 100, 'type': 'integer'},\n",
       " 'nonbondedFreq': {'default': 1, 'type': 'integer'},\n",
       " 'fullElectFrequency': {'default': 2, 'type': 'integer'},\n",
       " 'stepspercycle': {'default': 10, 'type': 'integer'},\n",
       " 'PMEGridSpacing': {'default': 1.0, 'type': 'float'},\n",
       " 'minimize_eq0': {'default': 1000, 'type': 'integer'},\n",
       " 'rng_seed_eq1': {'default': 12345, 'type': 'integer'},\n",
       " 'initTemperature_eq1': {'default': 50.0, 'type': 'float'},\n",
       " 'reassignFreq_eq1': {'default': 100, 'type': 'integer'},\n",
       " 'reassignIncr_eq1': {'default': 1.0, 'type': 'float'},\n",
       " 'langevinDamping': {'default': 5.0, 'type': 'float'},\n",
       " 'langevinHydrogen': {'default': 'no', 'type': 'string'},\n",
       " 'useGroupPressure': {'default': 'yes', 'type': 'string'},\n",
       " 'BerendsenPressureCompressibility': {'default': 4.57e-05, 'type': 'float'},\n",
       " 'BerendsenPressureRelaxationTime': {'default': 100.0, 'type': 'float'},\n",
       " 'BerendsenPressureFreq': {'default': 2, 'type': 'integer'},\n",
       " 'setTemperature': {'default': 300.0, 'type': 'float'},\n",
       " 'time_factor_eq': {'default': 60000.0, 'type': 'float'},\n",
       " 'BerendsenPressureTarget': {'default': 1.01325, 'type': 'float'},\n",
       " 'time_sim1': {'default': 10000000.0, 'type': 'float'},\n",
       " 'b01fc': {'default': 345.8, 'type': 'float'},\n",
       " 'b01ev': {'default': 1.086, 'type': 'float'},\n",
       " 'b02fc': {'default': 461.1, 'type': 'float'},\n",
       " 'b02ev': {'default': 1.3984, 'type': 'float'},\n",
       " 'b03fc': {'default': 637.7, 'type': 'float'},\n",
       " 'b03ev': {'default': 1.2183, 'type': 'float'},\n",
       " 'b04fc': {'default': 345.9, 'type': 'float'},\n",
       " 'b04ev': {'default': 1.4906, 'type': 'float'},\n",
       " 'b05fc': {'default': 450.2, 'type': 'float'},\n",
       " 'b05ev': {'default': 1.4058, 'type': 'float'},\n",
       " 'b06fc': {'default': 351.4, 'type': 'float'},\n",
       " 'b06ev': {'default': 1.4854, 'type': 'float'},\n",
       " 'b07fc': {'default': 330.6, 'type': 'float'},\n",
       " 'b07ev': {'default': 1.0969, 'type': 'float'},\n",
       " 'b08fc': {'default': 313.0, 'type': 'float'},\n",
       " 'b08ev': {'default': 1.5241, 'type': 'float'},\n",
       " 'b09fc': {'default': 427.6, 'type': 'float'},\n",
       " 'b09ev': {'default': 1.3789, 'type': 'float'},\n",
       " 'b10fc': {'default': 384.2, 'type': 'float'},\n",
       " 'b10ev': {'default': 1.4121, 'type': 'float'},\n",
       " 'b11fc': {'default': 300.9, 'type': 'float'},\n",
       " 'b11ev': {'default': 1.5375, 'type': 'float'},\n",
       " 'b12fc': {'default': 330.6, 'type': 'float'},\n",
       " 'b12ev': {'default': 1.0969, 'type': 'float'},\n",
       " 'b13fc': {'default': 328.7, 'type': 'float'},\n",
       " 'b13ev': {'default': 1.4619, 'type': 'float'},\n",
       " 'b14fc': {'default': 321.0, 'type': 'float'},\n",
       " 'b14ev': {'default': 1.5156, 'type': 'float'},\n",
       " 'b15fc': {'default': 404.6, 'type': 'float'},\n",
       " 'b15ev': {'default': 1.0121, 'type': 'float'},\n",
       " 'b16fc': {'default': 326.6, 'type': 'float'},\n",
       " 'b16ev': {'default': 1.464, 'type': 'float'},\n",
       " 'b17fc': {'default': 417.9, 'type': 'float'},\n",
       " 'b17ev': {'default': 1.3859, 'type': 'float'},\n",
       " 'b18fc': {'default': 305.6, 'type': 'float'},\n",
       " 'b18ev': {'default': 1.7502, 'type': 'float'},\n",
       " 'p01rm': {'default': 1.824, 'type': 'float'},\n",
       " 'p01ep': {'default': 0.17, 'type': 'float'},\n",
       " 'p02rm': {'default': 0.6, 'type': 'float'},\n",
       " 'p02ep': {'default': 0.0157, 'type': 'float'},\n",
       " 'p03rm': {'default': 1.908, 'type': 'float'},\n",
       " 'p03ep': {'default': 0.1094, 'type': 'float'},\n",
       " 'p04rm': {'default': 1.1, 'type': 'float'},\n",
       " 'p04ep': {'default': 0.0157, 'type': 'float'},\n",
       " 'p05rm': {'default': 1.387, 'type': 'float'},\n",
       " 'p05ep': {'default': 0.0157, 'type': 'float'},\n",
       " 'p06rm': {'default': 1.721, 'type': 'float'},\n",
       " 'p06ep': {'default': 0.2104, 'type': 'float'},\n",
       " 'p07rm': {'default': 0.0, 'type': 'float'},\n",
       " 'p07ep': {'default': 0.0, 'type': 'float'},\n",
       " 'p08rm': {'default': 1.908, 'type': 'float'},\n",
       " 'p08ep': {'default': 0.086, 'type': 'float'},\n",
       " 'p09rm': {'default': 1.6612, 'type': 'float'},\n",
       " 'p09ep': {'default': 0.21, 'type': 'float'},\n",
       " 'p10rm': {'default': 1.487, 'type': 'float'},\n",
       " 'p10ep': {'default': 0.0157, 'type': 'float'},\n",
       " 'p11rm': {'default': 2.0, 'type': 'float'},\n",
       " 'p11ep': {'default': 0.25, 'type': 'float'},\n",
       " 'p12rm': {'default': 1.459, 'type': 'float'},\n",
       " 'p12ep': {'default': 0.015, 'type': 'float'},\n",
       " 'p13rm': {'default': 1.409, 'type': 'float'},\n",
       " 'p13ep': {'default': 0.015, 'type': 'float'},\n",
       " 'p14rm': {'default': 1.359, 'type': 'float'},\n",
       " 'p14ep': {'default': 0.015, 'type': 'float'},\n",
       " 'p15rm': {'default': 1.9480000000000002, 'type': 'float'},\n",
       " 'p15ep': {'default': 0.265, 'type': 'float'},\n",
       " 'p16rm': {'default': 1.7683, 'type': 'float'},\n",
       " 'p16ep': {'default': 0.152, 'type': 'float'},\n",
       " 'p17rm': {'default': 0.0, 'type': 'float'},\n",
       " 'p17ep': {'default': 0.0, 'type': 'float'},\n",
       " 'a01fc': {'default': 48.2, 'type': 'float'},\n",
       " 'a01ev': {'default': 2.0923016, 'type': 'float'},\n",
       " 'a02fc': {'default': 77.9, 'type': 'float'},\n",
       " 'a02ev': {'default': 2.27329233, 'type': 'float'},\n",
       " 'a03fc': {'default': 64.3, 'type': 'float'},\n",
       " 'a03ev': {'default': 2.10015559, 'type': 'float'},\n",
       " 'a04fc': {'default': 68.7, 'type': 'float'},\n",
       " 'a04ev': {'default': 2.13977458, 'type': 'float'},\n",
       " 'a05fc': {'default': 66.6, 'type': 'float'},\n",
       " 'a05ev': {'default': 2.09474507, 'type': 'float'},\n",
       " 'a06fc': {'default': 66.7, 'type': 'float'},\n",
       " 'a06ev': {'default': 2.06612165, 'type': 'float'},\n",
       " 'a07fc': {'default': 48.0, 'type': 'float'},\n",
       " 'a07ev': {'default': 2.09195254, 'type': 'float'},\n",
       " 'a08fc': {'default': 66.3, 'type': 'float'},\n",
       " 'a08ev': {'default': 2.10643878, 'type': 'float'},\n",
       " 'a09fc': {'default': 64.0, 'type': 'float'},\n",
       " 'a09ev': {'default': 2.11376916, 'type': 'float'},\n",
       " 'a10fc': {'default': 39.4, 'type': 'float'},\n",
       " 'a10ev': {'default': 1.87762601, 'type': 'float'},\n",
       " 'a11fc': {'default': 67.4, 'type': 'float'},\n",
       " 'a11ev': {'default': 2.15024656, 'type': 'float'},\n",
       " 'a12fc': {'default': 63.8, 'type': 'float'},\n",
       " 'a12ev': {'default': 2.15914774, 'type': 'float'},\n",
       " 'a13fc': {'default': 46.9, 'type': 'float'},\n",
       " 'a13ev': {'default': 1.89839544, 'type': 'float'},\n",
       " 'a14fc': {'default': 66.8, 'type': 'float'},\n",
       " 'a14ev': {'default': 2.01027109, 'type': 'float'},\n",
       " 'a15fc': {'default': 74.2, 'type': 'float'},\n",
       " 'a15ev': {'default': 2.14762857, 'type': 'float'},\n",
       " 'a16fc': {'default': 67.9, 'type': 'float'},\n",
       " 'a16ev': {'default': 2.09771213, 'type': 'float'},\n",
       " 'a17fc': {'default': 49.8, 'type': 'float'},\n",
       " 'a17ev': {'default': 1.9003153, 'type': 'float'},\n",
       " 'a18fc': {'default': 46.4, 'type': 'float'},\n",
       " 'a18ev': {'default': 1.91218355, 'type': 'float'},\n",
       " 'a19fc': {'default': 65.9, 'type': 'float'},\n",
       " 'a19ev': {'default': 1.94796281, 'type': 'float'},\n",
       " 'a20fc': {'default': 46.3, 'type': 'float'},\n",
       " 'a20ev': {'default': 1.91637234, 'type': 'float'},\n",
       " 'a21fc': {'default': 63.4, 'type': 'float'},\n",
       " 'a21ev': {'default': 2.10643878, 'type': 'float'},\n",
       " 'a22fc': {'default': 63.0, 'type': 'float'},\n",
       " 'a22ev': {'default': 2.09142894, 'type': 'float'},\n",
       " 'a23fc': {'default': 63.1, 'type': 'float'},\n",
       " 'a23ev': {'default': 1.95599133, 'type': 'float'},\n",
       " 'a24fc': {'default': 62.9, 'type': 'float'},\n",
       " 'a24ev': {'default': 1.94621748, 'type': 'float'},\n",
       " 'a25fc': {'default': 47.0, 'type': 'float'},\n",
       " 'a25ev': {'default': 1.91218355, 'type': 'float'},\n",
       " 'a26fc': {'default': 63.5, 'type': 'float'},\n",
       " 'a26ev': {'default': 2.10783504, 'type': 'float'},\n",
       " 'a27fc': {'default': 46.1, 'type': 'float'},\n",
       " 'a27ev': {'default': 2.02440827, 'type': 'float'},\n",
       " 'a28fc': {'default': 49.6, 'type': 'float'},\n",
       " 'a28ev': {'default': 1.91619781, 'type': 'float'},\n",
       " 'a29fc': {'default': 66.2, 'type': 'float'},\n",
       " 'a29ev': {'default': 1.92789152, 'type': 'float'},\n",
       " 'a30fc': {'default': 66.5, 'type': 'float'},\n",
       " 'a30ev': {'default': 1.94412309, 'type': 'float'},\n",
       " 'a31fc': {'default': 48.4, 'type': 'float'},\n",
       " 'a31ev': {'default': 2.02580453, 'type': 'float'},\n",
       " 'a32fc': {'default': 63.4, 'type': 'float'},\n",
       " 'a32ev': {'default': 2.09404693, 'type': 'float'},\n",
       " 'a33fc': {'default': 68.3, 'type': 'float'},\n",
       " 'a33ev': {'default': 2.11097664, 'type': 'float'},\n",
       " 'a34fc': {'default': 57.9, 'type': 'float'},\n",
       " 'a34ev': {'default': 2.08374949, 'type': 'float'}}"
      ]
     },
     "execution_count": 60,
     "metadata": {},
     "output_type": "execute_result"
    }
   ],
   "source": [
    "# Load the EasyVVUQ params dicts, containing the default values and type of each input\n",
    "priors = {}\n",
    "# there are 5 inputs files, each with a seperate params dict\n",
    "prior_fnames = os.listdir('./priors')\n",
    "for fname in prior_fnames:\n",
    "    prior = json.load(open('./priors/%s' % fname, 'r'))\n",
    "    priors = priors | prior\n",
    "priors"
   ]
  },
  {
   "cell_type": "markdown",
   "id": "4b745204",
   "metadata": {},
   "source": [
    "### Load input parameter values\n",
    "\n",
    "Load the Monte Carlo values of the inputs."
   ]
  },
  {
   "cell_type": "code",
   "execution_count": 61,
   "id": "57dd2f62",
   "metadata": {},
   "outputs": [],
   "source": [
    "# input parameters\n",
    "params = pd.read_csv('./data_esmacs/esmacs_inputs.csv')\n",
    "param_names = params.keys()\n",
    "params = params.values\n",
    "\n",
    "# number of code samples\n",
    "n_samples = params.shape[0]\n",
    "\n",
    "# number of inputs\n",
    "D = params.shape[1]\n",
    "\n",
    "p_max = np.array([priors[name]['default'] * 1.15 for name in param_names])\n",
    "p_min = np.array([priors[name]['default'] * 0.85 for name in param_names])\n",
    "\n",
    "# except the temperature\n",
    "idx_T = np.where(param_names == 'setTemperature')[0]\n",
    "p_max[idx_T] = np.array(priors['setTemperature']['default'] * 1.075)\n",
    "p_min[idx_T] = np.array(priors['setTemperature']['default'] * 0.925)\n",
    "\n",
    "# scale inputs within [-1, 1]\n",
    "params = (params - 0.5 * (p_min + p_max)) / (0.5 * (p_max - p_min))"
   ]
  },
  {
   "cell_type": "markdown",
   "id": "68f39965",
   "metadata": {},
   "source": [
    "### Load output samples\n",
    "\n",
    "Load the corresponding Monte Carlo outputs, in the case the binding free energy predictions."
   ]
  },
  {
   "cell_type": "code",
   "execution_count": 62,
   "id": "5c01f024",
   "metadata": {},
   "outputs": [],
   "source": [
    "QoI = 'binding_energy'\n",
    "output = pd.read_csv('./data_esmacs/%s_output.csv' % (QoI,)).values"
   ]
  },
  {
   "cell_type": "markdown",
   "id": "45f3892a",
   "metadata": {},
   "source": [
    "### Average over the random seeds (or not)\n",
    "\n",
    "Each parameter value was replicated several times, changing only the random seed of the initial condition."
   ]
  },
  {
   "cell_type": "code",
   "execution_count": 63,
   "id": "d3f8a102",
   "metadata": {},
   "outputs": [],
   "source": [
    "# average the data over the replica simulations or not\n",
    "average_over_replicas = True\n",
    "\n",
    "if not average_over_replicas:\n",
    "    samples = output[:, 0].reshape([-1, 1])\n",
    "else:\n",
    "    samples = np.mean(output, axis=1, keepdims=True)"
   ]
  },
  {
   "cell_type": "markdown",
   "id": "311a5993",
   "metadata": {},
   "source": [
    "### Select $d$\n",
    "\n",
    "This is the dimension of the active subspace."
   ]
  },
  {
   "cell_type": "code",
   "execution_count": 64,
   "id": "fb784def",
   "metadata": {},
   "outputs": [],
   "source": [
    "d = 1"
   ]
  },
  {
   "cell_type": "markdown",
   "id": "3725e85c",
   "metadata": {},
   "source": [
    "### Set hyperparameters"
   ]
  },
  {
   "cell_type": "code",
   "execution_count": 65,
   "id": "92ee80c4",
   "metadata": {},
   "outputs": [],
   "source": [
    "# number of neurons per hidden layer \n",
    "n_hidden_neurons = 20\n",
    "# number of hidden layer + output layer\n",
    "n_layers = 3\n",
    "# activation function\n",
    "activation = 'tanh'\n",
    "\n",
    "# mini batch size\n",
    "batch_size = 32\n",
    "# max number of epochs\n",
    "n_epochs_max = 100\n",
    "# number of mini-batch iterations per epoch\n",
    "n_iter = int(n_samples / batch_size)\n",
    "\n",
    "# early stopping parameters\n",
    "min_delta = 0.001\n",
    "patience = 3"
   ]
  },
  {
   "cell_type": "markdown",
   "id": "558b9aca",
   "metadata": {},
   "source": [
    "### Train / test split"
   ]
  },
  {
   "cell_type": "code",
   "execution_count": 66,
   "id": "7724a112",
   "metadata": {},
   "outputs": [],
   "source": [
    "test_frac = 0.1\n",
    "test_idx = int((1 - test_frac) * n_samples)\n",
    "params_train = params[0:test_idx, :]\n",
    "samples_train = samples[0:test_idx, :]\n",
    "params_test = params[test_idx:, :]\n",
    "samples_test = samples[test_idx:, :]"
   ]
  },
  {
   "cell_type": "markdown",
   "id": "cf15d8c9",
   "metadata": {},
   "source": [
    "### Select how many replica neural networks to train\n",
    "\n",
    "To compute confidence intervals on the results (due to the stochastic nature of the training), we train `n_rep` replica networks instead of relying a single network"
   ]
  },
  {
   "cell_type": "code",
   "execution_count": 67,
   "id": "846dc485",
   "metadata": {},
   "outputs": [],
   "source": [
    "n_rep = 20"
   ]
  },
  {
   "cell_type": "markdown",
   "id": "a416ab1c",
   "metadata": {},
   "source": [
    "### Train a deep active subspace network\n"
   ]
  },
  {
   "cell_type": "code",
   "execution_count": 68,
   "id": "236ea661",
   "metadata": {},
   "outputs": [],
   "source": [
    "# results dict\n",
    "results_das = {}\n",
    "# eigenvalues of gradient matrix C per epoch\n",
    "results_das['eigvals'] = np.zeros([n_rep, D])\n",
    "# global gradient-based sensitivity indices per epoch\n",
    "results_das['V_i'] = np.zeros([n_rep, D])\n",
    "# relative training and test error per epoch\n",
    "results_das['errors'] = []\n",
    "results_das['epoch_stop'] = np.zeros(n_rep, dtype=int)\n",
    "results_das['projection_matrix'] = []\n",
    "results_das['surrogate'] = []\n",
    "results_das['C_das'] = []"
   ]
  },
  {
   "cell_type": "code",
   "execution_count": 69,
   "id": "92e87f37",
   "metadata": {},
   "outputs": [],
   "source": [
    "def train_das(failure_criterion = 1.0):\n",
    "    \"\"\"\n",
    "    Train DAS networks using early stopping.\n",
    "    \n",
    "    failure_criterion : float\n",
    "        Most replica networks will converge, a small number might not. \n",
    "        failure_critertion is the value of the relative test error\n",
    "        used to determine if a network did not converge. If exceeded\n",
    "        the network will be discarded. Default value is 1.0 (100% test error).\n",
    "\n",
    "    \"\"\"\n",
    "    min_test_error = 1.0\n",
    "\n",
    "    # repeat analysis n_rep times to generate error bars on results\n",
    "    for rep in range(n_rep):\n",
    "\n",
    "        # train remaining epochs through early stopping\n",
    "        final_test_error = 2.0\n",
    "        while final_test_error > failure_criterion:\n",
    "        \n",
    "            # create new DAS network and train for 1 epoch\n",
    "            das_surrogate = es.methods.DAS_Surrogate()\n",
    "            das_surrogate.train(params_train, samples_train, d, \n",
    "                                n_iter=n_iter,\n",
    "                                n_layers=n_layers,\n",
    "                                n_neurons=n_hidden_neurons, \n",
    "                                activation=activation, \n",
    "                                batch_size=batch_size,\n",
    "                                standardize_X=False, standardize_y=True)\n",
    "\n",
    "            # train remaining epochs through early stopping\n",
    "            errors, epoch = early_stopping(das_surrogate, n_iter,\n",
    "                                           params_train, samples_train, \n",
    "                                           params_test, samples_test)\n",
    "            final_test_error = errors[epoch, 1]\n",
    "\n",
    "        results_das['errors'].append(errors)\n",
    "        results_das['epoch_stop'][rep] = epoch\n",
    "\n",
    "        ### Compute active subspace of the DAS network\n",
    "\n",
    "        # the gradient matrix computed of the DAS network, computed using the classical AS method\n",
    "        C_das = 0.0\n",
    "\n",
    "        # Number of Monte Carlo samples\n",
    "        n_mc = params.shape[0]    \n",
    "\n",
    "        # Compute C_das, the gradient matrix of the DAS network\n",
    "        das_samples = np.zeros(n_mc)\n",
    "        for i, param in enumerate(params):\n",
    "            # compute the derivative of f at the input layer (needed for C_das)\n",
    "            df_dx = das_surrogate.derivative(param, norm=False)\n",
    "            # update C_das\n",
    "            C_das += np.dot(df_dx, df_dx.T) / n_mc\n",
    "\n",
    "        results_das['C_das'].append(C_das)\n",
    "            \n",
    "        # solve eigenvalue problem for C_das\n",
    "        eigvals_C_das, eigvecs_C_das = linalg.eigh(C_das)\n",
    "\n",
    "        # Sort the eigensolutions in the descending order of eigenvalues\n",
    "        order = eigvals_C_das.argsort()[::-1]\n",
    "        eigvals_C_das = eigvals_C_das[order]\n",
    "        eigvecs_C_das = eigvecs_C_das[:, order]\n",
    "\n",
    "        # store eigenvalues of this iteration\n",
    "        results_das['eigvals'][rep] = eigvals_C_das\n",
    "\n",
    "        # the DAS weight matrix of the first hidden layer\n",
    "        # W_1 = das_surrogate.neural_net.layers[1].W\n",
    "        # results_das['projection_matrix'].append(W_1)\n",
    "        # The dominant eigenvector(s) from the C_das matrix (alternative to W_1)\n",
    "        results_das['projection_matrix'].append(eigvecs_C_das[:, 0:d])\n",
    "\n",
    "        # perform sensitivity analysis using combined training and test data \n",
    "        das_analysis = es.analysis.DAS_analysis(das_surrogate)\n",
    "        idx, V_i = das_analysis.sensitivity_measures(params, norm=False)\n",
    "        results_das['V_i'][rep] = V_i.flatten() #* das_surrogate.neural_net.y_std ** 2\n",
    "\n",
    "        # store surrogate\n",
    "        results_das['surrogate'].append(das_surrogate)\n"
   ]
  },
  {
   "cell_type": "markdown",
   "id": "088b23ab",
   "metadata": {},
   "source": [
    "Train `n_rep` DAS surrogate. A converged DAS network will have a test error well below 40%, set `failure_criterion=0.5`."
   ]
  },
  {
   "cell_type": "code",
   "execution_count": 70,
   "id": "d1f165c2",
   "metadata": {},
   "outputs": [
    {
     "name": "stdout",
     "output_type": "stream",
     "text": [
      "Creating DAS_Surrogate Object\n",
      "Creating Feature Engineering object\n",
      "Using  662/662 samples to train the ML model\n",
      "===============================\n",
      "Neural net parameters\n",
      "===============================\n",
      "Number of layers = 3\n",
      "Number of features = 167\n",
      "Loss function = squared\n",
      "Number of neurons per hidden layer = 20\n",
      "Number of output neurons = 1\n",
      "Activation = ['linear', 'linear', 'tanh', 'linear']\n",
      "This neural network has 228 weights.\n",
      "===============================\n",
      "===============================\n",
      "Training Deep Active Subspace Neural Network...\n"
     ]
    },
    {
     "name": "stderr",
     "output_type": "stream",
     "text": [
      "100%|█████████████████████████████████████████████████████████████████████████████████████████████████████████████████████████████████████████████████████████████████████| 23/23 [00:00<00:00, 390.74it/s]\n"
     ]
    },
    {
     "name": "stdout",
     "output_type": "stream",
     "text": [
      " loss = 2.2775\n",
      "Relative training error = 22.1737 %\n",
      "Relative test error = 21.6835 %\n"
     ]
    },
    {
     "name": "stderr",
     "output_type": "stream",
     "text": [
      "  0%|                                                                                                                                                                               | 0/23 [00:00<?, ?it/s]"
     ]
    },
    {
     "name": "stdout",
     "output_type": "stream",
     "text": [
      " loss = 1.0854\n"
     ]
    },
    {
     "name": "stderr",
     "output_type": "stream",
     "text": [
      "100%|█████████████████████████████████████████████████████████████████████████████████████████████████████████████████████████████████████████████████████████████████████| 23/23 [00:00<00:00, 307.10it/s]\n"
     ]
    },
    {
     "name": "stdout",
     "output_type": "stream",
     "text": [
      "Relative training error = 18.9830 %\n",
      "Relative test error = 19.4294 %\n"
     ]
    },
    {
     "name": "stderr",
     "output_type": "stream",
     "text": [
      "100%|█████████████████████████████████████████████████████████████████████████████████████████████████████████████████████████████████████████████████████████████████████| 23/23 [00:00<00:00, 458.18it/s]\n"
     ]
    },
    {
     "name": "stdout",
     "output_type": "stream",
     "text": [
      " loss = 0.8558\n",
      "Relative training error = 15.9114 %\n",
      "Relative test error = 17.8244 %\n"
     ]
    },
    {
     "name": "stderr",
     "output_type": "stream",
     "text": [
      "100%|█████████████████████████████████████████████████████████████████████████████████████████████████████████████████████████████████████████████████████████████████████| 23/23 [00:00<00:00, 559.42it/s]"
     ]
    },
    {
     "name": "stdout",
     "output_type": "stream",
     "text": [
      " loss = 0.3210\n",
      "Relative training error = 13.6193 %\n",
      "Relative test error = 15.3566 %\n"
     ]
    },
    {
     "name": "stderr",
     "output_type": "stream",
     "text": [
      "\n",
      "100%|█████████████████████████████████████████████████████████████████████████████████████████████████████████████████████████████████████████████████████████████████████| 23/23 [00:00<00:00, 443.09it/s]"
     ]
    },
    {
     "name": "stdout",
     "output_type": "stream",
     "text": [
      " loss = 0.2766\n",
      "Relative training error = 11.8861 %\n"
     ]
    },
    {
     "name": "stderr",
     "output_type": "stream",
     "text": [
      "\n"
     ]
    },
    {
     "name": "stdout",
     "output_type": "stream",
     "text": [
      "Relative test error = 12.4138 %\n"
     ]
    },
    {
     "name": "stderr",
     "output_type": "stream",
     "text": [
      "100%|█████████████████████████████████████████████████████████████████████████████████████████████████████████████████████████████████████████████████████████████████████| 23/23 [00:00<00:00, 534.69it/s]\n"
     ]
    },
    {
     "name": "stdout",
     "output_type": "stream",
     "text": [
      " loss = 0.2404\n",
      "Relative training error = 10.6490 %\n",
      "Relative test error = 10.7715 %\n"
     ]
    },
    {
     "name": "stderr",
     "output_type": "stream",
     "text": [
      "100%|█████████████████████████████████████████████████████████████████████████████████████████████████████████████████████████████████████████████████████████████████████| 23/23 [00:00<00:00, 515.53it/s]"
     ]
    },
    {
     "name": "stdout",
     "output_type": "stream",
     "text": [
      " loss = 0.2278\n",
      "Relative training error = 9.8894 %\n",
      "Relative test error = 9.6621 %\n"
     ]
    },
    {
     "name": "stderr",
     "output_type": "stream",
     "text": [
      "\n",
      "100%|█████████████████████████████████████████████████████████████████████████████████████████████████████████████████████████████████████████████████████████████████████| 23/23 [00:00<00:00, 538.33it/s]\n"
     ]
    },
    {
     "name": "stdout",
     "output_type": "stream",
     "text": [
      " loss = 0.1300\n",
      "Relative training error = 9.3704 %\n",
      "Relative test error = 9.3406 %\n"
     ]
    },
    {
     "name": "stderr",
     "output_type": "stream",
     "text": [
      "100%|█████████████████████████████████████████████████████████████████████████████████████████████████████████████████████████████████████████████████████████████████████| 23/23 [00:00<00:00, 494.13it/s]\n"
     ]
    },
    {
     "name": "stdout",
     "output_type": "stream",
     "text": [
      " loss = 0.1941\n",
      "Relative training error = 8.9172 %\n",
      "Relative test error = 9.3049 %\n"
     ]
    },
    {
     "name": "stderr",
     "output_type": "stream",
     "text": [
      "100%|█████████████████████████████████████████████████████████████████████████████████████████████████████████████████████████████████████████████████████████████████████| 23/23 [00:00<00:00, 442.20it/s]"
     ]
    },
    {
     "name": "stdout",
     "output_type": "stream",
     "text": [
      " loss = 0.1891\n"
     ]
    },
    {
     "name": "stderr",
     "output_type": "stream",
     "text": [
      "\n"
     ]
    },
    {
     "name": "stdout",
     "output_type": "stream",
     "text": [
      "Relative training error = 8.6599 %\n",
      "Relative test error = 9.3114 %\n"
     ]
    },
    {
     "name": "stderr",
     "output_type": "stream",
     "text": [
      "  0%|                                                                                                                                                                               | 0/23 [00:00<?, ?it/s]"
     ]
    },
    {
     "name": "stdout",
     "output_type": "stream",
     "text": [
      " loss = 0.0890\n"
     ]
    },
    {
     "name": "stderr",
     "output_type": "stream",
     "text": [
      "100%|█████████████████████████████████████████████████████████████████████████████████████████████████████████████████████████████████████████████████████████████████████| 23/23 [00:00<00:00, 329.47it/s]\n"
     ]
    },
    {
     "name": "stdout",
     "output_type": "stream",
     "text": [
      "Relative training error = 8.4519 %\n",
      "Relative test error = 9.0292 %\n"
     ]
    },
    {
     "name": "stderr",
     "output_type": "stream",
     "text": [
      "  0%|                                                                                                                                                                               | 0/23 [00:00<?, ?it/s]"
     ]
    },
    {
     "name": "stdout",
     "output_type": "stream",
     "text": [
      " loss = 0.1463\n"
     ]
    },
    {
     "name": "stderr",
     "output_type": "stream",
     "text": [
      "100%|█████████████████████████████████████████████████████████████████████████████████████████████████████████████████████████████████████████████████████████████████████| 23/23 [00:00<00:00, 425.84it/s]\n"
     ]
    },
    {
     "name": "stdout",
     "output_type": "stream",
     "text": [
      "Relative training error = 8.3545 %\n",
      "Relative test error = 9.1245 %\n"
     ]
    },
    {
     "name": "stderr",
     "output_type": "stream",
     "text": [
      "100%|█████████████████████████████████████████████████████████████████████████████████████████████████████████████████████████████████████████████████████████████████████| 23/23 [00:00<00:00, 413.98it/s]"
     ]
    },
    {
     "name": "stdout",
     "output_type": "stream",
     "text": [
      " loss = 0.1531\n"
     ]
    },
    {
     "name": "stderr",
     "output_type": "stream",
     "text": [
      "\n"
     ]
    },
    {
     "name": "stdout",
     "output_type": "stream",
     "text": [
      "Relative training error = 8.3038 %\n",
      "Relative test error = 9.5398 %\n"
     ]
    },
    {
     "name": "stderr",
     "output_type": "stream",
     "text": [
      "100%|█████████████████████████████████████████████████████████████████████████████████████████████████████████████████████████████████████████████████████████████████████| 23/23 [00:00<00:00, 556.36it/s]"
     ]
    },
    {
     "name": "stdout",
     "output_type": "stream",
     "text": [
      " loss = 0.0991\n"
     ]
    },
    {
     "name": "stderr",
     "output_type": "stream",
     "text": [
      "\n"
     ]
    },
    {
     "name": "stdout",
     "output_type": "stream",
     "text": [
      "Relative training error = 8.1846 %\n",
      "Relative test error = 9.0869 %\n"
     ]
    },
    {
     "name": "stderr",
     "output_type": "stream",
     "text": [
      "100%|█████████████████████████████████████████████████████████████████████████████████████████████████████████████████████████████████████████████████████████████████████| 23/23 [00:00<00:00, 521.58it/s]"
     ]
    },
    {
     "name": "stdout",
     "output_type": "stream",
     "text": [
      " loss = 0.1459\n"
     ]
    },
    {
     "name": "stderr",
     "output_type": "stream",
     "text": [
      "\n"
     ]
    },
    {
     "name": "stdout",
     "output_type": "stream",
     "text": [
      "Relative training error = 8.1632 %\n",
      "Relative test error = 9.3914 %\n"
     ]
    },
    {
     "name": "stderr",
     "output_type": "stream",
     "text": [
      "100%|█████████████████████████████████████████████████████████████████████████████████████████████████████████████████████████████████████████████████████████████████████| 23/23 [00:00<00:00, 487.56it/s]"
     ]
    },
    {
     "name": "stdout",
     "output_type": "stream",
     "text": [
      " loss = 0.1203\n"
     ]
    },
    {
     "name": "stderr",
     "output_type": "stream",
     "text": [
      "\n"
     ]
    },
    {
     "name": "stdout",
     "output_type": "stream",
     "text": [
      "Relative training error = 8.1508 %\n",
      "Relative test error = 9.5861 %\n"
     ]
    },
    {
     "name": "stderr",
     "output_type": "stream",
     "text": [
      "100%|█████████████████████████████████████████████████████████████████████████████████████████████████████████████████████████████████████████████████████████████████████| 23/23 [00:00<00:00, 521.21it/s]"
     ]
    },
    {
     "name": "stdout",
     "output_type": "stream",
     "text": [
      " loss = 0.1301\n"
     ]
    },
    {
     "name": "stderr",
     "output_type": "stream",
     "text": [
      "\n"
     ]
    },
    {
     "name": "stdout",
     "output_type": "stream",
     "text": [
      "Relative training error = 8.1072 %\n",
      "Relative test error = 9.2879 %\n"
     ]
    },
    {
     "name": "stderr",
     "output_type": "stream",
     "text": [
      "100%|█████████████████████████████████████████████████████████████████████████████████████████████████████████████████████████████████████████████████████████████████████| 23/23 [00:00<00:00, 509.29it/s]"
     ]
    },
    {
     "name": "stdout",
     "output_type": "stream",
     "text": [
      " loss = 0.1267\n"
     ]
    },
    {
     "name": "stderr",
     "output_type": "stream",
     "text": [
      "\n"
     ]
    },
    {
     "name": "stdout",
     "output_type": "stream",
     "text": [
      "Relative training error = 8.1066 %\n",
      "Relative test error = 9.1323 %\n"
     ]
    },
    {
     "name": "stderr",
     "output_type": "stream",
     "text": [
      "100%|█████████████████████████████████████████████████████████████████████████████████████████████████████████████████████████████████████████████████████████████████████| 23/23 [00:00<00:00, 470.88it/s]"
     ]
    },
    {
     "name": "stdout",
     "output_type": "stream",
     "text": [
      " loss = 0.0849\n"
     ]
    },
    {
     "name": "stderr",
     "output_type": "stream",
     "text": [
      "\n"
     ]
    },
    {
     "name": "stdout",
     "output_type": "stream",
     "text": [
      "Relative training error = 8.0829 %\n",
      "Relative test error = 9.1585 %\n"
     ]
    },
    {
     "name": "stderr",
     "output_type": "stream",
     "text": [
      "100%|█████████████████████████████████████████████████████████████████████████████████████████████████████████████████████████████████████████████████████████████████████| 23/23 [00:00<00:00, 499.06it/s]"
     ]
    },
    {
     "name": "stdout",
     "output_type": "stream",
     "text": [
      " loss = 0.0977\n"
     ]
    },
    {
     "name": "stderr",
     "output_type": "stream",
     "text": [
      "\n"
     ]
    },
    {
     "name": "stdout",
     "output_type": "stream",
     "text": [
      "Relative training error = 8.1178 %\n",
      "Relative test error = 9.3750 %\n"
     ]
    },
    {
     "name": "stderr",
     "output_type": "stream",
     "text": [
      "100%|█████████████████████████████████████████████████████████████████████████████████████████████████████████████████████████████████████████████████████████████████████| 23/23 [00:00<00:00, 518.03it/s]"
     ]
    },
    {
     "name": "stdout",
     "output_type": "stream",
     "text": [
      " loss = 0.0689\n"
     ]
    },
    {
     "name": "stderr",
     "output_type": "stream",
     "text": [
      "\n"
     ]
    },
    {
     "name": "stdout",
     "output_type": "stream",
     "text": [
      "Relative training error = 8.1339 %\n",
      "Relative test error = 9.2384 %\n"
     ]
    },
    {
     "name": "stderr",
     "output_type": "stream",
     "text": [
      "100%|█████████████████████████████████████████████████████████████████████████████████████████████████████████████████████████████████████████████████████████████████████| 23/23 [00:00<00:00, 459.92it/s]\n"
     ]
    },
    {
     "name": "stdout",
     "output_type": "stream",
     "text": [
      " loss = 0.1312\n",
      "Relative training error = 8.1155 %\n",
      "Relative test error = 9.5495 %\n"
     ]
    },
    {
     "name": "stderr",
     "output_type": "stream",
     "text": [
      "100%|█████████████████████████████████████████████████████████████████████████████████████████████████████████████████████████████████████████████████████████████████████| 23/23 [00:00<00:00, 465.98it/s]\n"
     ]
    },
    {
     "name": "stdout",
     "output_type": "stream",
     "text": [
      " loss = 0.1535\n",
      "Relative training error = 8.1067 %\n",
      "Relative test error = 9.3119 %\n"
     ]
    },
    {
     "name": "stderr",
     "output_type": "stream",
     "text": [
      "100%|█████████████████████████████████████████████████████████████████████████████████████████████████████████████████████████████████████████████████████████████████████| 23/23 [00:00<00:00, 510.42it/s]\n"
     ]
    },
    {
     "name": "stdout",
     "output_type": "stream",
     "text": [
      " loss = 0.0720\n",
      "Relative training error = 8.0941 %\n",
      "Relative test error = 9.3059 %\n"
     ]
    },
    {
     "name": "stderr",
     "output_type": "stream",
     "text": [
      "100%|█████████████████████████████████████████████████████████████████████████████████████████████████████████████████████████████████████████████████████████████████████| 23/23 [00:00<00:00, 456.11it/s]\n"
     ]
    },
    {
     "name": "stdout",
     "output_type": "stream",
     "text": [
      " loss = 0.0979\n",
      "Relative training error = 8.0583 %\n",
      "Relative test error = 9.2457 %\n"
     ]
    },
    {
     "name": "stderr",
     "output_type": "stream",
     "text": [
      "100%|█████████████████████████████████████████████████████████████████████████████████████████████████████████████████████████████████████████████████████████████████████| 23/23 [00:00<00:00, 463.49it/s]\n"
     ]
    },
    {
     "name": "stdout",
     "output_type": "stream",
     "text": [
      " loss = 0.1329\n",
      "Relative training error = 8.0206 %\n",
      "Relative test error = 9.2183 %\n"
     ]
    },
    {
     "name": "stderr",
     "output_type": "stream",
     "text": [
      "100%|█████████████████████████████████████████████████████████████████████████████████████████████████████████████████████████████████████████████████████████████████████| 23/23 [00:00<00:00, 463.79it/s]\n"
     ]
    },
    {
     "name": "stdout",
     "output_type": "stream",
     "text": [
      " loss = 0.1024\n",
      "Relative training error = 8.0314 %\n",
      "Relative test error = 9.4095 %\n",
      "Creating DAS_analysis object\n",
      "[-0.01079496 -0.00636261 -0.00472965  0.00829344 -0.03315033  0.01000517\n",
      " -0.03147244  0.01236407 -0.02684816  0.00736422 -0.01663265 -0.00670413\n",
      "  0.01756466 -0.01872044  0.02313004 -0.03355007  0.0332702  -0.02308934\n",
      " -0.04141354  0.01600002 -0.00833672  0.01130101  0.00841153  0.0035773\n",
      "  0.00450807  0.03616873  0.00554306  0.01251749 -0.00332135  0.01660203\n",
      "  0.00364524 -0.00423356 -0.01502233  0.00553334  0.00909886  0.03581746\n",
      " -0.01612826 -0.01689578 -0.00544872 -0.0257047  -0.0020281  -0.00491286\n",
      " -0.01851041 -0.00295021 -0.01707543  0.01278958 -0.03309115 -0.03378421\n",
      "  0.02105434 -0.024914    0.01355151  0.0347159   0.00949286 -0.01157946\n",
      " -0.02779381  0.01103345  0.05014661 -0.0388591   0.03466138 -0.03282935\n",
      "  0.01334391 -0.02446218  0.00617272  0.02966007 -0.0113076  -0.02121396\n",
      " -0.02654688 -0.02603522  0.00742446  0.0033779  -0.03955923 -0.02515224\n",
      " -0.00983606 -0.03146489 -0.02662707  0.00106644 -0.01827304 -0.01481842\n",
      "  0.00496895 -0.01752653  0.02289294  0.02491585 -0.05154504 -0.0153165\n",
      " -0.02955348 -0.01164796  0.00169125  0.00708391  0.00424188 -0.0170783\n",
      " -0.02926962  0.01683864 -0.03211833  0.04620026  0.02204849  0.03711775\n",
      " -0.02703611 -0.02134703 -0.01017228 -0.02460535 -0.00175839  0.00900341\n",
      "  0.0066653   0.02126546 -0.00704159 -0.02525979  0.04929931  0.03000105\n",
      "  0.00056224  0.02727065  0.00672098 -0.02266489 -0.03778072 -0.0143658\n",
      " -0.06977009 -0.00184082  0.03251847  0.00536228  0.00780703  0.00351171\n",
      " -0.001558    0.00453452  0.01956437  0.00755578 -0.00347596 -0.02544811\n",
      " -0.00691871  0.0184323  -0.00946686  0.01644332 -0.00717298 -0.00091536\n",
      " -0.00513515 -0.00200119 -0.00781267  0.03063803  0.00576488 -0.00229528\n",
      "  0.02318851  0.0245067  -0.02252075 -0.01338904  0.0351502  -0.00802465\n",
      " -0.02688461 -0.01285858 -0.04307223  0.01796226 -0.00352158 -0.02649279\n",
      " -0.02409055  0.01353839 -0.01250318  0.00313297  0.01588277  0.01109347\n",
      " -0.00357092  0.00296899  0.00483943 -0.03099188 -0.01898565  0.02774835\n",
      " -0.03559913 -0.0050307   0.0044001   0.13017571 -0.01762796]\n",
      "Parameters ordered from most to least important:\n",
      "[[141 149 165 150 153 151  17 142 137  15 113 154  95 109 107  10 138  73\n",
      "   85  39  27  41 163  36  57  94 164  29 152  93  75  53 166  79 159  87\n",
      "  155  68 117  26 139 115 162  99 110  18 120  83 112 161 129  82 145  23\n",
      "   28 106  52 121 105 134  77  21  22  59 100  62 156  16  63  32  69  30\n",
      "   38   1 148 111 131   5 146  74  66  11 101  92 140  24  25  46  43  44\n",
      "   72  49  40 123  35  76  13 108  96 144  47  33 124   6  55  84  86  34\n",
      "   48  14  88   3  45  19  61  90  12 136  51  80  98 103 158 127  64 130\n",
      "  143 102   7  37  20  81  78   2   9 132  97 133 119  54 126 116  91  71\n",
      "   70 125 118 135 104  50  58   8  31 160 114  65  56  42 157   4 122  60\n",
      "    0 147  67 128  89]]\n",
      "Creating DAS_Surrogate Object\n",
      "Creating Feature Engineering object\n",
      "Using  662/662 samples to train the ML model\n",
      "===============================\n",
      "Neural net parameters\n",
      "===============================\n",
      "Number of layers = 3\n",
      "Number of features = 167\n",
      "Loss function = squared\n",
      "Number of neurons per hidden layer = 20\n",
      "Number of output neurons = 1\n",
      "Activation = ['linear', 'linear', 'tanh', 'linear']\n",
      "This neural network has 228 weights.\n",
      "===============================\n",
      "===============================\n",
      "Training Deep Active Subspace Neural Network...\n"
     ]
    },
    {
     "name": "stderr",
     "output_type": "stream",
     "text": [
      "100%|█████████████████████████████████████████████████████████████████████████████████████████████████████████████████████████████████████████████████████████████████████| 23/23 [00:00<00:00, 541.09it/s]\n"
     ]
    },
    {
     "name": "stdout",
     "output_type": "stream",
     "text": [
      " loss = 0.8891\n",
      "Relative training error = 22.8131 %\n",
      "Relative test error = 22.1826 %\n"
     ]
    },
    {
     "name": "stderr",
     "output_type": "stream",
     "text": [
      "100%|█████████████████████████████████████████████████████████████████████████████████████████████████████████████████████████████████████████████████████████████████████| 23/23 [00:00<00:00, 574.37it/s]"
     ]
    },
    {
     "name": "stdout",
     "output_type": "stream",
     "text": [
      " loss = 1.4067\n",
      "Relative training error = 19.8713 %\n",
      "Relative test error = 20.7066 %\n"
     ]
    },
    {
     "name": "stderr",
     "output_type": "stream",
     "text": [
      "\n",
      "100%|█████████████████████████████████████████████████████████████████████████████████████████████████████████████████████████████████████████████████████████████████████| 23/23 [00:00<00:00, 547.49it/s]\n"
     ]
    },
    {
     "name": "stdout",
     "output_type": "stream",
     "text": [
      " loss = 0.6544\n",
      "Relative training error = 16.8960 %\n",
      "Relative test error = 18.7533 %\n"
     ]
    },
    {
     "name": "stderr",
     "output_type": "stream",
     "text": [
      "100%|█████████████████████████████████████████████████████████████████████████████████████████████████████████████████████████████████████████████████████████████████████| 23/23 [00:00<00:00, 453.68it/s]\n"
     ]
    },
    {
     "name": "stdout",
     "output_type": "stream",
     "text": [
      " loss = 0.6805\n",
      "Relative training error = 14.8065 %\n",
      "Relative test error = 16.9024 %\n"
     ]
    },
    {
     "name": "stderr",
     "output_type": "stream",
     "text": [
      "100%|█████████████████████████████████████████████████████████████████████████████████████████████████████████████████████████████████████████████████████████████████████| 23/23 [00:00<00:00, 472.07it/s]\n"
     ]
    },
    {
     "name": "stdout",
     "output_type": "stream",
     "text": [
      " loss = 0.5331\n",
      "Relative training error = 12.8413 %\n",
      "Relative test error = 14.3168 %\n"
     ]
    },
    {
     "name": "stderr",
     "output_type": "stream",
     "text": [
      "100%|█████████████████████████████████████████████████████████████████████████████████████████████████████████████████████████████████████████████████████████████████████| 23/23 [00:00<00:00, 507.00it/s]"
     ]
    },
    {
     "name": "stdout",
     "output_type": "stream",
     "text": [
      " loss = 0.3903\n"
     ]
    },
    {
     "name": "stderr",
     "output_type": "stream",
     "text": [
      "\n"
     ]
    },
    {
     "name": "stdout",
     "output_type": "stream",
     "text": [
      "Relative training error = 11.2983 %\n",
      "Relative test error = 12.3428 %\n"
     ]
    },
    {
     "name": "stderr",
     "output_type": "stream",
     "text": [
      "100%|█████████████████████████████████████████████████████████████████████████████████████████████████████████████████████████████████████████████████████████████████████| 23/23 [00:00<00:00, 446.26it/s]\n"
     ]
    },
    {
     "name": "stdout",
     "output_type": "stream",
     "text": [
      " loss = 0.3137\n",
      "Relative training error = 10.2408 %\n",
      "Relative test error = 11.2842 %\n"
     ]
    },
    {
     "name": "stderr",
     "output_type": "stream",
     "text": [
      "100%|█████████████████████████████████████████████████████████████████████████████████████████████████████████████████████████████████████████████████████████████████████| 23/23 [00:00<00:00, 444.45it/s]"
     ]
    },
    {
     "name": "stdout",
     "output_type": "stream",
     "text": [
      " loss = 0.2375\n"
     ]
    },
    {
     "name": "stderr",
     "output_type": "stream",
     "text": [
      "\n"
     ]
    },
    {
     "name": "stdout",
     "output_type": "stream",
     "text": [
      "Relative training error = 9.5814 %\n",
      "Relative test error = 10.9043 %\n"
     ]
    },
    {
     "name": "stderr",
     "output_type": "stream",
     "text": [
      "100%|█████████████████████████████████████████████████████████████████████████████████████████████████████████████████████████████████████████████████████████████████████| 23/23 [00:00<00:00, 547.01it/s]"
     ]
    },
    {
     "name": "stdout",
     "output_type": "stream",
     "text": [
      " loss = 0.1990\n",
      "Relative training error = 9.0943 %\n",
      "Relative test error = 10.3366 %\n"
     ]
    },
    {
     "name": "stderr",
     "output_type": "stream",
     "text": [
      "\n",
      "100%|█████████████████████████████████████████████████████████████████████████████████████████████████████████████████████████████████████████████████████████████████████| 23/23 [00:00<00:00, 478.09it/s]"
     ]
    },
    {
     "name": "stdout",
     "output_type": "stream",
     "text": [
      " loss = 0.1840\n",
      "Relative training error = 8.7608 %\n",
      "Relative test error = 10.0038 %\n"
     ]
    },
    {
     "name": "stderr",
     "output_type": "stream",
     "text": [
      "\n",
      "100%|█████████████████████████████████████████████████████████████████████████████████████████████████████████████████████████████████████████████████████████████████████| 23/23 [00:00<00:00, 549.52it/s]\n"
     ]
    },
    {
     "name": "stdout",
     "output_type": "stream",
     "text": [
      " loss = 0.1342\n",
      "Relative training error = 8.6425 %\n",
      "Relative test error = 9.6603 %\n"
     ]
    },
    {
     "name": "stderr",
     "output_type": "stream",
     "text": [
      "100%|█████████████████████████████████████████████████████████████████████████████████████████████████████████████████████████████████████████████████████████████████████| 23/23 [00:00<00:00, 494.93it/s]\n"
     ]
    },
    {
     "name": "stdout",
     "output_type": "stream",
     "text": [
      " loss = 0.1123\n",
      "Relative training error = 8.4506 %\n",
      "Relative test error = 9.8600 %\n"
     ]
    },
    {
     "name": "stderr",
     "output_type": "stream",
     "text": [
      "100%|█████████████████████████████████████████████████████████████████████████████████████████████████████████████████████████████████████████████████████████████████████| 23/23 [00:00<00:00, 547.41it/s]\n"
     ]
    },
    {
     "name": "stdout",
     "output_type": "stream",
     "text": [
      " loss = 0.1949\n",
      "Relative training error = 8.4085 %\n",
      "Relative test error = 9.8785 %\n"
     ]
    },
    {
     "name": "stderr",
     "output_type": "stream",
     "text": [
      "100%|█████████████████████████████████████████████████████████████████████████████████████████████████████████████████████████████████████████████████████████████████████| 23/23 [00:00<00:00, 495.19it/s]\n"
     ]
    },
    {
     "name": "stdout",
     "output_type": "stream",
     "text": [
      " loss = 0.1602\n",
      "Relative training error = 8.3937 %\n",
      "Relative test error = 10.3235 %\n"
     ]
    },
    {
     "name": "stderr",
     "output_type": "stream",
     "text": [
      "100%|█████████████████████████████████████████████████████████████████████████████████████████████████████████████████████████████████████████████████████████████████████| 23/23 [00:00<00:00, 547.71it/s]\n"
     ]
    },
    {
     "name": "stdout",
     "output_type": "stream",
     "text": [
      " loss = 0.1302\n",
      "Relative training error = 8.3304 %\n",
      "Relative test error = 10.2889 %\n",
      "Creating DAS_analysis object\n",
      "[-0.01079496 -0.00636261 -0.00472965  0.00829344 -0.03315033  0.01000517\n",
      " -0.03147244  0.01236407 -0.02684816  0.00736422 -0.01663265 -0.00670413\n",
      "  0.01756466 -0.01872044  0.02313004 -0.03355007  0.0332702  -0.02308934\n",
      " -0.04141354  0.01600002 -0.00833672  0.01130101  0.00841153  0.0035773\n",
      "  0.00450807  0.03616873  0.00554306  0.01251749 -0.00332135  0.01660203\n",
      "  0.00364524 -0.00423356 -0.01502233  0.00553334  0.00909886  0.03581746\n",
      " -0.01612826 -0.01689578 -0.00544872 -0.0257047  -0.0020281  -0.00491286\n",
      " -0.01851041 -0.00295021 -0.01707543  0.01278958 -0.03309115 -0.03378421\n",
      "  0.02105434 -0.024914    0.01355151  0.0347159   0.00949286 -0.01157946\n",
      " -0.02779381  0.01103345  0.05014661 -0.0388591   0.03466138 -0.03282935\n",
      "  0.01334391 -0.02446218  0.00617272  0.02966007 -0.0113076  -0.02121396\n",
      " -0.02654688 -0.02603522  0.00742446  0.0033779  -0.03955923 -0.02515224\n",
      " -0.00983606 -0.03146489 -0.02662707  0.00106644 -0.01827304 -0.01481842\n",
      "  0.00496895 -0.01752653  0.02289294  0.02491585 -0.05154504 -0.0153165\n",
      " -0.02955348 -0.01164796  0.00169125  0.00708391  0.00424188 -0.0170783\n",
      " -0.02926962  0.01683864 -0.03211833  0.04620026  0.02204849  0.03711775\n",
      " -0.02703611 -0.02134703 -0.01017228 -0.02460535 -0.00175839  0.00900341\n",
      "  0.0066653   0.02126546 -0.00704159 -0.02525979  0.04929931  0.03000105\n",
      "  0.00056224  0.02727065  0.00672098 -0.02266489 -0.03778072 -0.0143658\n",
      " -0.06977009 -0.00184082  0.03251847  0.00536228  0.00780703  0.00351171\n",
      " -0.001558    0.00453452  0.01956437  0.00755578 -0.00347596 -0.02544811\n",
      " -0.00691871  0.0184323  -0.00946686  0.01644332 -0.00717298 -0.00091536\n",
      " -0.00513515 -0.00200119 -0.00781267  0.03063803  0.00576488 -0.00229528\n",
      "  0.02318851  0.0245067  -0.02252075 -0.01338904  0.0351502  -0.00802465\n",
      " -0.02688461 -0.01285858 -0.04307223  0.01796226 -0.00352158 -0.02649279\n",
      " -0.02409055  0.01353839 -0.01250318  0.00313297  0.01588277  0.01109347\n",
      " -0.00357092  0.00296899  0.00483943 -0.03099188 -0.01898565  0.02774835\n",
      " -0.03559913 -0.0050307   0.0044001   0.13017571 -0.01762796]\n",
      "Parameters ordered from most to least important:\n",
      "[[141 149 165 150 153 151 142  17 137  15 113 109 154  73  85  41  39 107\n",
      "  163  95  27  28 138  36  53  57  79  10  94  29  93  75 152 133 166  99\n",
      "  164 159 108 117  83  82 110 146 115   6 155 162  69 134  68  37  49 161\n",
      "  106 120  18  30  21   0  22 105  35   4  26  78  51  16 100  96  74 127\n",
      "   42  25  91  40  66  87  80   1 112  50 119 139  84  46 147  98  31  72\n",
      "   52  64  54  61 126  34 136 158 130 160  59  33  43   7   5 144  56 114\n",
      "   12  24  81 156   9   8 131  86 122 132  45  23  20  14 145 124 128 102\n",
      "   44  55 116 140  32  67 148  97  60 111   3 135 129 101  47  71   2  63\n",
      "   38  13 125 157  48 118  62 123  19  90  92  65  11  58 103 121  89  70\n",
      "   77 143  76 104  88]]\n",
      "Creating DAS_Surrogate Object\n",
      "Creating Feature Engineering object\n",
      "Using  662/662 samples to train the ML model\n",
      "===============================\n",
      "Neural net parameters\n",
      "===============================\n",
      "Number of layers = 3\n",
      "Number of features = 167\n",
      "Loss function = squared\n",
      "Number of neurons per hidden layer = 20\n",
      "Number of output neurons = 1\n",
      "Activation = ['linear', 'linear', 'tanh', 'linear']\n",
      "This neural network has 228 weights.\n",
      "===============================\n",
      "===============================\n",
      "Training Deep Active Subspace Neural Network...\n"
     ]
    },
    {
     "name": "stderr",
     "output_type": "stream",
     "text": [
      "100%|█████████████████████████████████████████████████████████████████████████████████████████████████████████████████████████████████████████████████████████████████████| 23/23 [00:00<00:00, 458.49it/s]"
     ]
    },
    {
     "name": "stdout",
     "output_type": "stream",
     "text": [
      " loss = 1.0110\n",
      "Relative training error = 21.1496 %\n"
     ]
    },
    {
     "name": "stderr",
     "output_type": "stream",
     "text": [
      "\n"
     ]
    },
    {
     "name": "stdout",
     "output_type": "stream",
     "text": [
      "Relative test error = 21.9080 %\n"
     ]
    },
    {
     "name": "stderr",
     "output_type": "stream",
     "text": [
      "100%|█████████████████████████████████████████████████████████████████████████████████████████████████████████████████████████████████████████████████████████████████████| 23/23 [00:00<00:00, 433.28it/s]\n"
     ]
    },
    {
     "name": "stdout",
     "output_type": "stream",
     "text": [
      " loss = 0.7497\n",
      "Relative training error = 16.6696 %\n",
      "Relative test error = 19.1471 %\n"
     ]
    },
    {
     "name": "stderr",
     "output_type": "stream",
     "text": [
      "100%|█████████████████████████████████████████████████████████████████████████████████████████████████████████████████████████████████████████████████████████████████████| 23/23 [00:00<00:00, 503.79it/s]"
     ]
    },
    {
     "name": "stdout",
     "output_type": "stream",
     "text": [
      " loss = 0.4587\n"
     ]
    },
    {
     "name": "stderr",
     "output_type": "stream",
     "text": [
      "\n"
     ]
    },
    {
     "name": "stdout",
     "output_type": "stream",
     "text": [
      "Relative training error = 12.5902 %\n",
      "Relative test error = 14.9949 %\n"
     ]
    },
    {
     "name": "stderr",
     "output_type": "stream",
     "text": [
      "100%|█████████████████████████████████████████████████████████████████████████████████████████████████████████████████████████████████████████████████████████████████████| 23/23 [00:00<00:00, 451.80it/s]"
     ]
    },
    {
     "name": "stdout",
     "output_type": "stream",
     "text": [
      " loss = 0.3824\n"
     ]
    },
    {
     "name": "stderr",
     "output_type": "stream",
     "text": [
      "\n"
     ]
    },
    {
     "name": "stdout",
     "output_type": "stream",
     "text": [
      "Relative training error = 10.3444 %\n",
      "Relative test error = 12.1607 %\n"
     ]
    },
    {
     "name": "stderr",
     "output_type": "stream",
     "text": [
      "100%|█████████████████████████████████████████████████████████████████████████████████████████████████████████████████████████████████████████████████████████████████████| 23/23 [00:00<00:00, 425.33it/s]"
     ]
    },
    {
     "name": "stdout",
     "output_type": "stream",
     "text": [
      " loss = 0.1873\n"
     ]
    },
    {
     "name": "stderr",
     "output_type": "stream",
     "text": [
      "\n"
     ]
    },
    {
     "name": "stdout",
     "output_type": "stream",
     "text": [
      "Relative training error = 9.1475 %\n",
      "Relative test error = 10.6786 %\n"
     ]
    },
    {
     "name": "stderr",
     "output_type": "stream",
     "text": [
      "100%|█████████████████████████████████████████████████████████████████████████████████████████████████████████████████████████████████████████████████████████████████████| 23/23 [00:00<00:00, 503.88it/s]\n"
     ]
    },
    {
     "name": "stdout",
     "output_type": "stream",
     "text": [
      " loss = 0.1727\n",
      "Relative training error = 8.6375 %\n",
      "Relative test error = 10.5060 %\n"
     ]
    },
    {
     "name": "stderr",
     "output_type": "stream",
     "text": [
      "100%|█████████████████████████████████████████████████████████████████████████████████████████████████████████████████████████████████████████████████████████████████████| 23/23 [00:00<00:00, 451.97it/s]"
     ]
    },
    {
     "name": "stdout",
     "output_type": "stream",
     "text": [
      " loss = 0.1286\n"
     ]
    },
    {
     "name": "stderr",
     "output_type": "stream",
     "text": [
      "\n"
     ]
    },
    {
     "name": "stdout",
     "output_type": "stream",
     "text": [
      "Relative training error = 8.3941 %\n",
      "Relative test error = 10.3164 %\n"
     ]
    },
    {
     "name": "stderr",
     "output_type": "stream",
     "text": [
      "100%|█████████████████████████████████████████████████████████████████████████████████████████████████████████████████████████████████████████████████████████████████████| 23/23 [00:00<00:00, 469.97it/s]"
     ]
    },
    {
     "name": "stdout",
     "output_type": "stream",
     "text": [
      " loss = 0.0780\n"
     ]
    },
    {
     "name": "stderr",
     "output_type": "stream",
     "text": [
      "\n"
     ]
    },
    {
     "name": "stdout",
     "output_type": "stream",
     "text": [
      "Relative training error = 8.3141 %\n",
      "Relative test error = 10.0980 %\n"
     ]
    },
    {
     "name": "stderr",
     "output_type": "stream",
     "text": [
      "100%|█████████████████████████████████████████████████████████████████████████████████████████████████████████████████████████████████████████████████████████████████████| 23/23 [00:00<00:00, 505.33it/s]"
     ]
    },
    {
     "name": "stdout",
     "output_type": "stream",
     "text": [
      " loss = 0.0811\n"
     ]
    },
    {
     "name": "stderr",
     "output_type": "stream",
     "text": [
      "\n"
     ]
    },
    {
     "name": "stdout",
     "output_type": "stream",
     "text": [
      "Relative training error = 8.2549 %\n",
      "Relative test error = 9.7879 %\n"
     ]
    },
    {
     "name": "stderr",
     "output_type": "stream",
     "text": [
      "  0%|                                                                                                                                                                               | 0/23 [00:00<?, ?it/s]"
     ]
    },
    {
     "name": "stdout",
     "output_type": "stream",
     "text": [
      " loss = 0.1643\n"
     ]
    },
    {
     "name": "stderr",
     "output_type": "stream",
     "text": [
      "100%|█████████████████████████████████████████████████████████████████████████████████████████████████████████████████████████████████████████████████████████████████████| 23/23 [00:00<00:00, 277.94it/s]\n"
     ]
    },
    {
     "name": "stdout",
     "output_type": "stream",
     "text": [
      "Relative training error = 8.1413 %\n",
      "Relative test error = 9.9046 %\n"
     ]
    },
    {
     "name": "stderr",
     "output_type": "stream",
     "text": [
      "  0%|                                                                                                                                                                               | 0/23 [00:00<?, ?it/s]"
     ]
    },
    {
     "name": "stdout",
     "output_type": "stream",
     "text": [
      " loss = 0.1331\n"
     ]
    },
    {
     "name": "stderr",
     "output_type": "stream",
     "text": [
      "\r",
      "100%|█████████████████████████████████████████████████████████████████████████████████████████████████████████████████████████████████████████████████████████████████████| 23/23 [00:00<00:00, 503.07it/s]"
     ]
    },
    {
     "name": "stdout",
     "output_type": "stream",
     "text": [
      "Relative training error = 8.1488 %\n"
     ]
    },
    {
     "name": "stderr",
     "output_type": "stream",
     "text": [
      "\n"
     ]
    },
    {
     "name": "stdout",
     "output_type": "stream",
     "text": [
      "Relative test error = 9.6964 %\n"
     ]
    },
    {
     "name": "stderr",
     "output_type": "stream",
     "text": [
      "100%|█████████████████████████████████████████████████████████████████████████████████████████████████████████████████████████████████████████████████████████████████████| 23/23 [00:00<00:00, 449.81it/s]"
     ]
    },
    {
     "name": "stdout",
     "output_type": "stream",
     "text": [
      " loss = 0.1702\n"
     ]
    },
    {
     "name": "stderr",
     "output_type": "stream",
     "text": [
      "\n"
     ]
    },
    {
     "name": "stdout",
     "output_type": "stream",
     "text": [
      "Relative training error = 8.1215 %\n",
      "Relative test error = 10.0845 %\n"
     ]
    },
    {
     "name": "stderr",
     "output_type": "stream",
     "text": [
      "100%|█████████████████████████████████████████████████████████████████████████████████████████████████████████████████████████████████████████████████████████████████████| 23/23 [00:00<00:00, 466.41it/s]\n"
     ]
    },
    {
     "name": "stdout",
     "output_type": "stream",
     "text": [
      " loss = 0.1327\n",
      "Relative training error = 8.0705 %\n",
      "Relative test error = 9.9380 %\n"
     ]
    },
    {
     "name": "stderr",
     "output_type": "stream",
     "text": [
      "100%|█████████████████████████████████████████████████████████████████████████████████████████████████████████████████████████████████████████████████████████████████████| 23/23 [00:00<00:00, 543.07it/s]"
     ]
    },
    {
     "name": "stdout",
     "output_type": "stream",
     "text": [
      " loss = 0.1145\n"
     ]
    },
    {
     "name": "stderr",
     "output_type": "stream",
     "text": [
      "\n"
     ]
    },
    {
     "name": "stdout",
     "output_type": "stream",
     "text": [
      "Relative training error = 8.0440 %\n",
      "Relative test error = 9.7596 %\n"
     ]
    },
    {
     "name": "stderr",
     "output_type": "stream",
     "text": [
      "100%|█████████████████████████████████████████████████████████████████████████████████████████████████████████████████████████████████████████████████████████████████████| 23/23 [00:00<00:00, 544.08it/s]\n"
     ]
    },
    {
     "name": "stdout",
     "output_type": "stream",
     "text": [
      " loss = 0.1488\n",
      "Relative training error = 8.0561 %\n",
      "Relative test error = 9.9399 %\n"
     ]
    },
    {
     "name": "stderr",
     "output_type": "stream",
     "text": [
      "100%|█████████████████████████████████████████████████████████████████████████████████████████████████████████████████████████████████████████████████████████████████████| 23/23 [00:00<00:00, 436.73it/s]\n"
     ]
    },
    {
     "name": "stdout",
     "output_type": "stream",
     "text": [
      " loss = 0.1003\n",
      "Relative training error = 8.0862 %\n",
      "Relative test error = 9.7355 %\n"
     ]
    },
    {
     "name": "stderr",
     "output_type": "stream",
     "text": [
      "100%|█████████████████████████████████████████████████████████████████████████████████████████████████████████████████████████████████████████████████████████████████████| 23/23 [00:00<00:00, 461.68it/s]\n"
     ]
    },
    {
     "name": "stdout",
     "output_type": "stream",
     "text": [
      " loss = 0.1220\n",
      "Relative training error = 8.0541 %\n",
      "Relative test error = 9.4990 %\n"
     ]
    },
    {
     "name": "stderr",
     "output_type": "stream",
     "text": [
      "100%|█████████████████████████████████████████████████████████████████████████████████████████████████████████████████████████████████████████████████████████████████████| 23/23 [00:00<00:00, 466.51it/s]"
     ]
    },
    {
     "name": "stdout",
     "output_type": "stream",
     "text": [
      " loss = 0.0790\n",
      "Relative training error = 8.0166 %\n"
     ]
    },
    {
     "name": "stderr",
     "output_type": "stream",
     "text": [
      "\n"
     ]
    },
    {
     "name": "stdout",
     "output_type": "stream",
     "text": [
      "Relative test error = 9.6125 %\n"
     ]
    },
    {
     "name": "stderr",
     "output_type": "stream",
     "text": [
      "100%|█████████████████████████████████████████████████████████████████████████████████████████████████████████████████████████████████████████████████████████████████████| 23/23 [00:00<00:00, 476.48it/s]\n"
     ]
    },
    {
     "name": "stdout",
     "output_type": "stream",
     "text": [
      " loss = 0.1330\n",
      "Relative training error = 8.0104 %\n",
      "Relative test error = 9.9225 %\n"
     ]
    },
    {
     "name": "stderr",
     "output_type": "stream",
     "text": [
      "100%|█████████████████████████████████████████████████████████████████████████████████████████████████████████████████████████████████████████████████████████████████████| 23/23 [00:00<00:00, 521.81it/s]\n"
     ]
    },
    {
     "name": "stdout",
     "output_type": "stream",
     "text": [
      " loss = 0.0788\n",
      "Relative training error = 7.9976 %\n",
      "Relative test error = 9.9482 %\n"
     ]
    },
    {
     "name": "stderr",
     "output_type": "stream",
     "text": [
      "100%|█████████████████████████████████████████████████████████████████████████████████████████████████████████████████████████████████████████████████████████████████████| 23/23 [00:00<00:00, 571.15it/s]"
     ]
    },
    {
     "name": "stdout",
     "output_type": "stream",
     "text": [
      " loss = 0.1221\n",
      "Relative training error = 8.0032 %\n",
      "Relative test error = 9.9548 %\n"
     ]
    },
    {
     "name": "stderr",
     "output_type": "stream",
     "text": [
      "\n"
     ]
    },
    {
     "name": "stdout",
     "output_type": "stream",
     "text": [
      "Creating DAS_analysis object\n",
      "[-0.01079496 -0.00636261 -0.00472965  0.00829344 -0.03315033  0.01000517\n",
      " -0.03147244  0.01236407 -0.02684816  0.00736422 -0.01663265 -0.00670413\n",
      "  0.01756466 -0.01872044  0.02313004 -0.03355007  0.0332702  -0.02308934\n",
      " -0.04141354  0.01600002 -0.00833672  0.01130101  0.00841153  0.0035773\n",
      "  0.00450807  0.03616873  0.00554306  0.01251749 -0.00332135  0.01660203\n",
      "  0.00364524 -0.00423356 -0.01502233  0.00553334  0.00909886  0.03581746\n",
      " -0.01612826 -0.01689578 -0.00544872 -0.0257047  -0.0020281  -0.00491286\n",
      " -0.01851041 -0.00295021 -0.01707543  0.01278958 -0.03309115 -0.03378421\n",
      "  0.02105434 -0.024914    0.01355151  0.0347159   0.00949286 -0.01157946\n",
      " -0.02779381  0.01103345  0.05014661 -0.0388591   0.03466138 -0.03282935\n",
      "  0.01334391 -0.02446218  0.00617272  0.02966007 -0.0113076  -0.02121396\n",
      " -0.02654688 -0.02603522  0.00742446  0.0033779  -0.03955923 -0.02515224\n",
      " -0.00983606 -0.03146489 -0.02662707  0.00106644 -0.01827304 -0.01481842\n",
      "  0.00496895 -0.01752653  0.02289294  0.02491585 -0.05154504 -0.0153165\n",
      " -0.02955348 -0.01164796  0.00169125  0.00708391  0.00424188 -0.0170783\n",
      " -0.02926962  0.01683864 -0.03211833  0.04620026  0.02204849  0.03711775\n",
      " -0.02703611 -0.02134703 -0.01017228 -0.02460535 -0.00175839  0.00900341\n",
      "  0.0066653   0.02126546 -0.00704159 -0.02525979  0.04929931  0.03000105\n",
      "  0.00056224  0.02727065  0.00672098 -0.02266489 -0.03778072 -0.0143658\n",
      " -0.06977009 -0.00184082  0.03251847  0.00536228  0.00780703  0.00351171\n",
      " -0.001558    0.00453452  0.01956437  0.00755578 -0.00347596 -0.02544811\n",
      " -0.00691871  0.0184323  -0.00946686  0.01644332 -0.00717298 -0.00091536\n",
      " -0.00513515 -0.00200119 -0.00781267  0.03063803  0.00576488 -0.00229528\n",
      "  0.02318851  0.0245067  -0.02252075 -0.01338904  0.0351502  -0.00802465\n",
      " -0.02688461 -0.01285858 -0.04307223  0.01796226 -0.00352158 -0.02649279\n",
      " -0.02409055  0.01353839 -0.01250318  0.00313297  0.01588277  0.01109347\n",
      " -0.00357092  0.00296899  0.00483943 -0.03099188 -0.01898565  0.02774835\n",
      " -0.03559913 -0.0050307   0.0044001   0.13017571 -0.01762796]\n",
      "Parameters ordered from most to least important:\n",
      "[[141 149 165 150 153 151 142  17 137  15 113 109  39 138 154  10  27  73\n",
      "  107  95  85  41 163 166  36  75  57 110  29 117  94  87 159 115  93 152\n",
      "   74  38  23  53  68  28  21 112 145 155  83  51 106 120 133 146  40  46\n",
      "    5 161 134 164  86   8  92  61  24  22 130 131  26  69 100 101 129  99\n",
      "   84  59 104  35 127   3  49  48 108 105  90  78 132  97  43  63 136  12\n",
      "   19  77  56   2  18  76 158  55   6   0  52 118   1 156  47  79 123  30\n",
      "  139  98  42  58 157  13 135  89  65  31 121 148  16  66 140  71   9  81\n",
      "  160 162 102  64  62  82  34 125  33  54 126 116 119   7  32  72 143 147\n",
      "   80   4 111  44  37 103  50  60  25  11  70  67  14  45  91 124 128  20\n",
      "   88 114  96 144 122]]\n",
      "Creating DAS_Surrogate Object\n",
      "Creating Feature Engineering object\n",
      "Using  662/662 samples to train the ML model\n",
      "===============================\n",
      "Neural net parameters\n",
      "===============================\n",
      "Number of layers = 3\n",
      "Number of features = 167\n",
      "Loss function = squared\n",
      "Number of neurons per hidden layer = 20\n",
      "Number of output neurons = 1\n",
      "Activation = ['linear', 'linear', 'tanh', 'linear']\n",
      "This neural network has 228 weights.\n",
      "===============================\n",
      "===============================\n",
      "Training Deep Active Subspace Neural Network...\n"
     ]
    },
    {
     "name": "stderr",
     "output_type": "stream",
     "text": [
      "100%|█████████████████████████████████████████████████████████████████████████████████████████████████████████████████████████████████████████████████████████████████████| 23/23 [00:00<00:00, 527.11it/s]\n"
     ]
    },
    {
     "name": "stdout",
     "output_type": "stream",
     "text": [
      " loss = 1.4750\n",
      "Relative training error = 24.5575 %\n",
      "Relative test error = 23.1756 %\n"
     ]
    },
    {
     "name": "stderr",
     "output_type": "stream",
     "text": [
      "  0%|                                                                                                                                                                               | 0/23 [00:00<?, ?it/s]"
     ]
    },
    {
     "name": "stdout",
     "output_type": "stream",
     "text": [
      " loss = 1.0429\n"
     ]
    },
    {
     "name": "stderr",
     "output_type": "stream",
     "text": [
      "100%|█████████████████████████████████████████████████████████████████████████████████████████████████████████████████████████████████████████████████████████████████████| 23/23 [00:00<00:00, 439.38it/s]\n"
     ]
    },
    {
     "name": "stdout",
     "output_type": "stream",
     "text": [
      "Relative training error = 21.5495 %\n",
      "Relative test error = 21.6679 %\n"
     ]
    },
    {
     "name": "stderr",
     "output_type": "stream",
     "text": [
      "100%|█████████████████████████████████████████████████████████████████████████████████████████████████████████████████████████████████████████████████████████████████████| 23/23 [00:00<00:00, 458.58it/s]\n"
     ]
    },
    {
     "name": "stdout",
     "output_type": "stream",
     "text": [
      " loss = 0.5518\n",
      "Relative training error = 17.7319 %\n",
      "Relative test error = 19.0322 %\n"
     ]
    },
    {
     "name": "stderr",
     "output_type": "stream",
     "text": [
      "100%|█████████████████████████████████████████████████████████████████████████████████████████████████████████████████████████████████████████████████████████████████████| 23/23 [00:00<00:00, 525.61it/s]\n"
     ]
    },
    {
     "name": "stdout",
     "output_type": "stream",
     "text": [
      " loss = 0.4143\n",
      "Relative training error = 13.9213 %\n",
      "Relative test error = 16.2200 %\n"
     ]
    },
    {
     "name": "stderr",
     "output_type": "stream",
     "text": [
      "100%|█████████████████████████████████████████████████████████████████████████████████████████████████████████████████████████████████████████████████████████████████████| 23/23 [00:00<00:00, 547.86it/s]\n"
     ]
    },
    {
     "name": "stdout",
     "output_type": "stream",
     "text": [
      " loss = 0.2737\n",
      "Relative training error = 11.3076 %\n",
      "Relative test error = 13.0482 %\n"
     ]
    },
    {
     "name": "stderr",
     "output_type": "stream",
     "text": [
      "100%|█████████████████████████████████████████████████████████████████████████████████████████████████████████████████████████████████████████████████████████████████████| 23/23 [00:00<00:00, 573.77it/s]\n"
     ]
    },
    {
     "name": "stdout",
     "output_type": "stream",
     "text": [
      " loss = 0.2046\n",
      "Relative training error = 10.1078 %\n",
      "Relative test error = 11.4978 %\n"
     ]
    },
    {
     "name": "stderr",
     "output_type": "stream",
     "text": [
      "100%|█████████████████████████████████████████████████████████████████████████████████████████████████████████████████████████████████████████████████████████████████████| 23/23 [00:00<00:00, 465.66it/s]\n"
     ]
    },
    {
     "name": "stdout",
     "output_type": "stream",
     "text": [
      " loss = 0.2891\n",
      "Relative training error = 9.2722 %\n",
      "Relative test error = 10.6825 %\n"
     ]
    },
    {
     "name": "stderr",
     "output_type": "stream",
     "text": [
      "100%|█████████████████████████████████████████████████████████████████████████████████████████████████████████████████████████████████████████████████████████████████████| 23/23 [00:00<00:00, 476.30it/s]\n"
     ]
    },
    {
     "name": "stdout",
     "output_type": "stream",
     "text": [
      " loss = 0.1503\n",
      "Relative training error = 8.9002 %\n",
      "Relative test error = 10.4303 %\n"
     ]
    },
    {
     "name": "stderr",
     "output_type": "stream",
     "text": [
      "100%|█████████████████████████████████████████████████████████████████████████████████████████████████████████████████████████████████████████████████████████████████████| 23/23 [00:00<00:00, 456.28it/s]\n"
     ]
    },
    {
     "name": "stdout",
     "output_type": "stream",
     "text": [
      " loss = 0.0913\n",
      "Relative training error = 8.7207 %\n",
      "Relative test error = 9.9370 %\n"
     ]
    },
    {
     "name": "stderr",
     "output_type": "stream",
     "text": [
      "100%|█████████████████████████████████████████████████████████████████████████████████████████████████████████████████████████████████████████████████████████████████████| 23/23 [00:00<00:00, 556.06it/s]\n"
     ]
    },
    {
     "name": "stdout",
     "output_type": "stream",
     "text": [
      " loss = 0.1084\n",
      "Relative training error = 8.5133 %\n",
      "Relative test error = 10.0239 %\n"
     ]
    },
    {
     "name": "stderr",
     "output_type": "stream",
     "text": [
      "100%|█████████████████████████████████████████████████████████████████████████████████████████████████████████████████████████████████████████████████████████████████████| 23/23 [00:00<00:00, 533.39it/s]\n"
     ]
    },
    {
     "name": "stdout",
     "output_type": "stream",
     "text": [
      " loss = 0.0902\n",
      "Relative training error = 8.4154 %\n",
      "Relative test error = 10.0482 %\n"
     ]
    },
    {
     "name": "stderr",
     "output_type": "stream",
     "text": [
      "100%|█████████████████████████████████████████████████████████████████████████████████████████████████████████████████████████████████████████████████████████████████████| 23/23 [00:00<00:00, 555.36it/s]\n"
     ]
    },
    {
     "name": "stdout",
     "output_type": "stream",
     "text": [
      " loss = 0.1814\n",
      "Relative training error = 8.2786 %\n",
      "Relative test error = 9.9075 %\n"
     ]
    },
    {
     "name": "stderr",
     "output_type": "stream",
     "text": [
      "100%|█████████████████████████████████████████████████████████████████████████████████████████████████████████████████████████████████████████████████████████████████████| 23/23 [00:00<00:00, 527.97it/s]\n"
     ]
    },
    {
     "name": "stdout",
     "output_type": "stream",
     "text": [
      " loss = 0.0825\n",
      "Relative training error = 8.2199 %\n",
      "Relative test error = 9.8174 %\n"
     ]
    },
    {
     "name": "stderr",
     "output_type": "stream",
     "text": [
      "100%|█████████████████████████████████████████████████████████████████████████████████████████████████████████████████████████████████████████████████████████████████████| 23/23 [00:00<00:00, 591.77it/s]\n"
     ]
    },
    {
     "name": "stdout",
     "output_type": "stream",
     "text": [
      " loss = 0.2039\n",
      "Relative training error = 8.1932 %\n",
      "Relative test error = 9.8159 %\n"
     ]
    },
    {
     "name": "stderr",
     "output_type": "stream",
     "text": [
      "100%|█████████████████████████████████████████████████████████████████████████████████████████████████████████████████████████████████████████████████████████████████████| 23/23 [00:00<00:00, 513.66it/s]\n"
     ]
    },
    {
     "name": "stdout",
     "output_type": "stream",
     "text": [
      " loss = 0.0976\n",
      "Relative training error = 8.2206 %\n",
      "Relative test error = 9.8229 %\n"
     ]
    },
    {
     "name": "stderr",
     "output_type": "stream",
     "text": [
      "100%|█████████████████████████████████████████████████████████████████████████████████████████████████████████████████████████████████████████████████████████████████████| 23/23 [00:00<00:00, 572.18it/s]\n"
     ]
    },
    {
     "name": "stdout",
     "output_type": "stream",
     "text": [
      " loss = 0.1260\n",
      "Relative training error = 8.1425 %\n",
      "Relative test error = 9.4689 %\n",
      "Creating DAS_analysis object\n",
      "[-0.01079496 -0.00636261 -0.00472965  0.00829344 -0.03315033  0.01000517\n",
      " -0.03147244  0.01236407 -0.02684816  0.00736422 -0.01663265 -0.00670413\n",
      "  0.01756466 -0.01872044  0.02313004 -0.03355007  0.0332702  -0.02308934\n",
      " -0.04141354  0.01600002 -0.00833672  0.01130101  0.00841153  0.0035773\n",
      "  0.00450807  0.03616873  0.00554306  0.01251749 -0.00332135  0.01660203\n",
      "  0.00364524 -0.00423356 -0.01502233  0.00553334  0.00909886  0.03581746\n",
      " -0.01612826 -0.01689578 -0.00544872 -0.0257047  -0.0020281  -0.00491286\n",
      " -0.01851041 -0.00295021 -0.01707543  0.01278958 -0.03309115 -0.03378421\n",
      "  0.02105434 -0.024914    0.01355151  0.0347159   0.00949286 -0.01157946\n",
      " -0.02779381  0.01103345  0.05014661 -0.0388591   0.03466138 -0.03282935\n",
      "  0.01334391 -0.02446218  0.00617272  0.02966007 -0.0113076  -0.02121396\n",
      " -0.02654688 -0.02603522  0.00742446  0.0033779  -0.03955923 -0.02515224\n",
      " -0.00983606 -0.03146489 -0.02662707  0.00106644 -0.01827304 -0.01481842\n",
      "  0.00496895 -0.01752653  0.02289294  0.02491585 -0.05154504 -0.0153165\n",
      " -0.02955348 -0.01164796  0.00169125  0.00708391  0.00424188 -0.0170783\n",
      " -0.02926962  0.01683864 -0.03211833  0.04620026  0.02204849  0.03711775\n",
      " -0.02703611 -0.02134703 -0.01017228 -0.02460535 -0.00175839  0.00900341\n",
      "  0.0066653   0.02126546 -0.00704159 -0.02525979  0.04929931  0.03000105\n",
      "  0.00056224  0.02727065  0.00672098 -0.02266489 -0.03778072 -0.0143658\n",
      " -0.06977009 -0.00184082  0.03251847  0.00536228  0.00780703  0.00351171\n",
      " -0.001558    0.00453452  0.01956437  0.00755578 -0.00347596 -0.02544811\n",
      " -0.00691871  0.0184323  -0.00946686  0.01644332 -0.00717298 -0.00091536\n",
      " -0.00513515 -0.00200119 -0.00781267  0.03063803  0.00576488 -0.00229528\n",
      "  0.02318851  0.0245067  -0.02252075 -0.01338904  0.0351502  -0.00802465\n",
      " -0.02688461 -0.01285858 -0.04307223  0.01796226 -0.00352158 -0.02649279\n",
      " -0.02409055  0.01353839 -0.01250318  0.00313297  0.01588277  0.01109347\n",
      " -0.00357092  0.00296899  0.00483943 -0.03099188 -0.01898565  0.02774835\n",
      " -0.03559913 -0.0050307   0.0044001   0.13017571 -0.01762796]\n",
      "Parameters ordered from most to least important:\n",
      "[[141 149 165 150 153 151 142  17 137  15 113 154 109  73 107  39 138  95\n",
      "  115  57 163  41  27  53  29  36  21  75  93  10  85   6 159 152  94 166\n",
      "  110  68  87  97  76 131  78 100 112  30  69 117 147  42   3  13  56 155\n",
      "   28  83 139  55 145 156  16  47 164 130 146  18  79  22  84  26  35  46\n",
      "  105 162  86  33 111  38 135 127  64  59 120  72  52   2 133  51 124 140\n",
      "   49 106 161 129  65  58 160 148 143  45  66 128  92 136  40  48  19  25\n",
      "   77  91   7  74  82  31  61 158  23 125  63  62  99  37 114 101  44   9\n",
      "  104  89 123  88 134  96   4 103 118  71 102 108  54   1 122  20  50 121\n",
      "   80  70 116  14   5   8 132  24  34  90 157  67  12  11   0  43  32  98\n",
      "   60 126 119  81 144]]\n",
      "Creating DAS_Surrogate Object\n",
      "Creating Feature Engineering object\n",
      "Using  662/662 samples to train the ML model\n",
      "===============================\n",
      "Neural net parameters\n",
      "===============================\n",
      "Number of layers = 3\n",
      "Number of features = 167\n",
      "Loss function = squared\n",
      "Number of neurons per hidden layer = 20\n",
      "Number of output neurons = 1\n",
      "Activation = ['linear', 'linear', 'tanh', 'linear']\n",
      "This neural network has 228 weights.\n",
      "===============================\n",
      "===============================\n",
      "Training Deep Active Subspace Neural Network...\n"
     ]
    },
    {
     "name": "stderr",
     "output_type": "stream",
     "text": [
      "100%|█████████████████████████████████████████████████████████████████████████████████████████████████████████████████████████████████████████████████████████████████████| 23/23 [00:00<00:00, 511.92it/s]\n"
     ]
    },
    {
     "name": "stdout",
     "output_type": "stream",
     "text": [
      " loss = 1.3729\n",
      "Relative training error = 22.9282 %\n",
      "Relative test error = 22.0903 %\n"
     ]
    },
    {
     "name": "stderr",
     "output_type": "stream",
     "text": [
      "  0%|                                                                                                                                                                               | 0/23 [00:00<?, ?it/s]"
     ]
    },
    {
     "name": "stdout",
     "output_type": "stream",
     "text": [
      " loss = 0.8435\n"
     ]
    },
    {
     "name": "stderr",
     "output_type": "stream",
     "text": [
      "100%|█████████████████████████████████████████████████████████████████████████████████████████████████████████████████████████████████████████████████████████████████████| 23/23 [00:00<00:00, 394.35it/s]\n"
     ]
    },
    {
     "name": "stdout",
     "output_type": "stream",
     "text": [
      "Relative training error = 20.4532 %\n",
      "Relative test error = 20.5374 %\n"
     ]
    },
    {
     "name": "stderr",
     "output_type": "stream",
     "text": [
      "  0%|                                                                                                                                                                               | 0/23 [00:00<?, ?it/s]"
     ]
    },
    {
     "name": "stdout",
     "output_type": "stream",
     "text": [
      " loss = 0.8939\n"
     ]
    },
    {
     "name": "stderr",
     "output_type": "stream",
     "text": [
      "100%|█████████████████████████████████████████████████████████████████████████████████████████████████████████████████████████████████████████████████████████████████████| 23/23 [00:00<00:00, 249.92it/s]\n"
     ]
    },
    {
     "name": "stdout",
     "output_type": "stream",
     "text": [
      "Relative training error = 16.9877 %\n",
      "Relative test error = 19.0047 %\n"
     ]
    },
    {
     "name": "stderr",
     "output_type": "stream",
     "text": [
      "  0%|                                                                                                                                                                               | 0/23 [00:00<?, ?it/s]"
     ]
    },
    {
     "name": "stdout",
     "output_type": "stream",
     "text": [
      " loss = 0.4163\n"
     ]
    },
    {
     "name": "stderr",
     "output_type": "stream",
     "text": [
      "100%|█████████████████████████████████████████████████████████████████████████████████████████████████████████████████████████████████████████████████████████████████████| 23/23 [00:00<00:00, 402.87it/s]\n"
     ]
    },
    {
     "name": "stdout",
     "output_type": "stream",
     "text": [
      "Relative training error = 14.5473 %\n",
      "Relative test error = 17.6217 %\n"
     ]
    },
    {
     "name": "stderr",
     "output_type": "stream",
     "text": [
      "100%|█████████████████████████████████████████████████████████████████████████████████████████████████████████████████████████████████████████████████████████████████████| 23/23 [00:00<00:00, 406.71it/s]"
     ]
    },
    {
     "name": "stdout",
     "output_type": "stream",
     "text": [
      " loss = 0.3937\n"
     ]
    },
    {
     "name": "stderr",
     "output_type": "stream",
     "text": [
      "\n"
     ]
    },
    {
     "name": "stdout",
     "output_type": "stream",
     "text": [
      "Relative training error = 12.8014 %\n",
      "Relative test error = 15.2598 %\n"
     ]
    },
    {
     "name": "stderr",
     "output_type": "stream",
     "text": [
      "100%|█████████████████████████████████████████████████████████████████████████████████████████████████████████████████████████████████████████████████████████████████████| 23/23 [00:00<00:00, 449.16it/s]"
     ]
    },
    {
     "name": "stdout",
     "output_type": "stream",
     "text": [
      " loss = 0.2532\n"
     ]
    },
    {
     "name": "stderr",
     "output_type": "stream",
     "text": [
      "\n"
     ]
    },
    {
     "name": "stdout",
     "output_type": "stream",
     "text": [
      "Relative training error = 11.6923 %\n",
      "Relative test error = 14.1657 %\n"
     ]
    },
    {
     "name": "stderr",
     "output_type": "stream",
     "text": [
      "100%|█████████████████████████████████████████████████████████████████████████████████████████████████████████████████████████████████████████████████████████████████████| 23/23 [00:00<00:00, 477.89it/s]"
     ]
    },
    {
     "name": "stdout",
     "output_type": "stream",
     "text": [
      " loss = 0.2500\n"
     ]
    },
    {
     "name": "stderr",
     "output_type": "stream",
     "text": [
      "\n"
     ]
    },
    {
     "name": "stdout",
     "output_type": "stream",
     "text": [
      "Relative training error = 10.7510 %\n",
      "Relative test error = 12.9515 %\n"
     ]
    },
    {
     "name": "stderr",
     "output_type": "stream",
     "text": [
      "100%|█████████████████████████████████████████████████████████████████████████████████████████████████████████████████████████████████████████████████████████████████████| 23/23 [00:00<00:00, 453.78it/s]"
     ]
    },
    {
     "name": "stdout",
     "output_type": "stream",
     "text": [
      " loss = 0.1965\n"
     ]
    },
    {
     "name": "stderr",
     "output_type": "stream",
     "text": [
      "\n"
     ]
    },
    {
     "name": "stdout",
     "output_type": "stream",
     "text": [
      "Relative training error = 10.0618 %\n",
      "Relative test error = 11.9437 %\n"
     ]
    },
    {
     "name": "stderr",
     "output_type": "stream",
     "text": [
      "  0%|                                                                                                                                                                               | 0/23 [00:00<?, ?it/s]"
     ]
    },
    {
     "name": "stdout",
     "output_type": "stream",
     "text": [
      " loss = 0.2357\n"
     ]
    },
    {
     "name": "stderr",
     "output_type": "stream",
     "text": [
      "100%|█████████████████████████████████████████████████████████████████████████████████████████████████████████████████████████████████████████████████████████████████████| 23/23 [00:00<00:00, 343.52it/s]\n"
     ]
    },
    {
     "name": "stdout",
     "output_type": "stream",
     "text": [
      "Relative training error = 9.5138 %\n",
      "Relative test error = 10.9094 %\n"
     ]
    },
    {
     "name": "stderr",
     "output_type": "stream",
     "text": [
      "100%|█████████████████████████████████████████████████████████████████████████████████████████████████████████████████████████████████████████████████████████████████████| 23/23 [00:00<00:00, 460.71it/s]"
     ]
    },
    {
     "name": "stdout",
     "output_type": "stream",
     "text": [
      " loss = 0.1516\n"
     ]
    },
    {
     "name": "stderr",
     "output_type": "stream",
     "text": [
      "\n"
     ]
    },
    {
     "name": "stdout",
     "output_type": "stream",
     "text": [
      "Relative training error = 9.1441 %\n",
      "Relative test error = 10.3809 %\n"
     ]
    },
    {
     "name": "stderr",
     "output_type": "stream",
     "text": [
      "100%|█████████████████████████████████████████████████████████████████████████████████████████████████████████████████████████████████████████████████████████████████████| 23/23 [00:00<00:00, 442.27it/s]\n"
     ]
    },
    {
     "name": "stdout",
     "output_type": "stream",
     "text": [
      " loss = 0.1009\n",
      "Relative training error = 9.0128 %\n",
      "Relative test error = 10.1261 %\n"
     ]
    },
    {
     "name": "stderr",
     "output_type": "stream",
     "text": [
      "100%|█████████████████████████████████████████████████████████████████████████████████████████████████████████████████████████████████████████████████████████████████████| 23/23 [00:00<00:00, 510.62it/s]"
     ]
    },
    {
     "name": "stdout",
     "output_type": "stream",
     "text": [
      " loss = 0.1722\n"
     ]
    },
    {
     "name": "stderr",
     "output_type": "stream",
     "text": [
      "\n"
     ]
    },
    {
     "name": "stdout",
     "output_type": "stream",
     "text": [
      "Relative training error = 8.7408 %\n",
      "Relative test error = 9.6188 %\n"
     ]
    },
    {
     "name": "stderr",
     "output_type": "stream",
     "text": [
      "100%|█████████████████████████████████████████████████████████████████████████████████████████████████████████████████████████████████████████████████████████████████████| 23/23 [00:00<00:00, 434.26it/s]\n"
     ]
    },
    {
     "name": "stdout",
     "output_type": "stream",
     "text": [
      " loss = 0.1149\n",
      "Relative training error = 8.5861 %\n",
      "Relative test error = 9.8518 %\n"
     ]
    },
    {
     "name": "stderr",
     "output_type": "stream",
     "text": [
      "100%|█████████████████████████████████████████████████████████████████████████████████████████████████████████████████████████████████████████████████████████████████████| 23/23 [00:00<00:00, 448.80it/s]"
     ]
    },
    {
     "name": "stdout",
     "output_type": "stream",
     "text": [
      " loss = 0.1436\n"
     ]
    },
    {
     "name": "stderr",
     "output_type": "stream",
     "text": [
      "\n"
     ]
    },
    {
     "name": "stdout",
     "output_type": "stream",
     "text": [
      "Relative training error = 8.4221 %\n",
      "Relative test error = 9.8388 %\n"
     ]
    },
    {
     "name": "stderr",
     "output_type": "stream",
     "text": [
      "100%|█████████████████████████████████████████████████████████████████████████████████████████████████████████████████████████████████████████████████████████████████████| 23/23 [00:00<00:00, 521.01it/s]\n"
     ]
    },
    {
     "name": "stdout",
     "output_type": "stream",
     "text": [
      " loss = 0.1498\n",
      "Relative training error = 8.4046 %\n",
      "Relative test error = 9.8416 %\n"
     ]
    },
    {
     "name": "stderr",
     "output_type": "stream",
     "text": [
      "100%|█████████████████████████████████████████████████████████████████████████████████████████████████████████████████████████████████████████████████████████████████████| 23/23 [00:00<00:00, 512.58it/s]"
     ]
    },
    {
     "name": "stdout",
     "output_type": "stream",
     "text": [
      " loss = 0.1500\n"
     ]
    },
    {
     "name": "stderr",
     "output_type": "stream",
     "text": [
      "\n"
     ]
    },
    {
     "name": "stdout",
     "output_type": "stream",
     "text": [
      "Relative training error = 8.4042 %\n",
      "Relative test error = 9.8326 %\n",
      "Creating DAS_analysis object\n",
      "[-0.01079496 -0.00636261 -0.00472965  0.00829344 -0.03315033  0.01000517\n",
      " -0.03147244  0.01236407 -0.02684816  0.00736422 -0.01663265 -0.00670413\n",
      "  0.01756466 -0.01872044  0.02313004 -0.03355007  0.0332702  -0.02308934\n",
      " -0.04141354  0.01600002 -0.00833672  0.01130101  0.00841153  0.0035773\n",
      "  0.00450807  0.03616873  0.00554306  0.01251749 -0.00332135  0.01660203\n",
      "  0.00364524 -0.00423356 -0.01502233  0.00553334  0.00909886  0.03581746\n",
      " -0.01612826 -0.01689578 -0.00544872 -0.0257047  -0.0020281  -0.00491286\n",
      " -0.01851041 -0.00295021 -0.01707543  0.01278958 -0.03309115 -0.03378421\n",
      "  0.02105434 -0.024914    0.01355151  0.0347159   0.00949286 -0.01157946\n",
      " -0.02779381  0.01103345  0.05014661 -0.0388591   0.03466138 -0.03282935\n",
      "  0.01334391 -0.02446218  0.00617272  0.02966007 -0.0113076  -0.02121396\n",
      " -0.02654688 -0.02603522  0.00742446  0.0033779  -0.03955923 -0.02515224\n",
      " -0.00983606 -0.03146489 -0.02662707  0.00106644 -0.01827304 -0.01481842\n",
      "  0.00496895 -0.01752653  0.02289294  0.02491585 -0.05154504 -0.0153165\n",
      " -0.02955348 -0.01164796  0.00169125  0.00708391  0.00424188 -0.0170783\n",
      " -0.02926962  0.01683864 -0.03211833  0.04620026  0.02204849  0.03711775\n",
      " -0.02703611 -0.02134703 -0.01017228 -0.02460535 -0.00175839  0.00900341\n",
      "  0.0066653   0.02126546 -0.00704159 -0.02525979  0.04929931  0.03000105\n",
      "  0.00056224  0.02727065  0.00672098 -0.02266489 -0.03778072 -0.0143658\n",
      " -0.06977009 -0.00184082  0.03251847  0.00536228  0.00780703  0.00351171\n",
      " -0.001558    0.00453452  0.01956437  0.00755578 -0.00347596 -0.02544811\n",
      " -0.00691871  0.0184323  -0.00946686  0.01644332 -0.00717298 -0.00091536\n",
      " -0.00513515 -0.00200119 -0.00781267  0.03063803  0.00576488 -0.00229528\n",
      "  0.02318851  0.0245067  -0.02252075 -0.01338904  0.0351502  -0.00802465\n",
      " -0.02688461 -0.01285858 -0.04307223  0.01796226 -0.00352158 -0.02649279\n",
      " -0.02409055  0.01353839 -0.01250318  0.00313297  0.01588277  0.01109347\n",
      " -0.00357092  0.00296899  0.00483943 -0.03099188 -0.01898565  0.02774835\n",
      " -0.03559913 -0.0050307   0.0044001   0.13017571 -0.01762796]\n",
      "Parameters ordered from most to least important:\n",
      "[[149 141 165 150 153 151  17 142 137  15 113 154  10 109  73 166  95 138\n",
      "   53  39 107 163  27  41  94 115  36  57  21  28  87  83  85 152 117  18\n",
      "   23  93  47  68 110  79  82 155 158  99 108 120 136  30  91  86  49  75\n",
      "  123  32  26 144 106  29 147 146  13  40  42 134 116  19 105  65  54  74\n",
      "   12 162  61   6  66  98 164 100 161 112 133 159  63 143  44 156  38   4\n",
      "   52  69  78  62   8  64  16 101  46   9  50  97  96 127  20  77 111  71\n",
      "  128 140 125 118  56 139  80 121 129  81  25  24 145  37   7   2  34 103\n",
      "  132  22  84   0   1 122  59  48  51 104  72  76   3 135 102  88 114 130\n",
      "  126   5  45  33  35  67 148 124 131 160  11  60  58  92  14  31 157 119\n",
      "   89  55  90  43  70]]\n",
      "Creating DAS_Surrogate Object\n",
      "Creating Feature Engineering object\n",
      "Using  662/662 samples to train the ML model\n",
      "===============================\n",
      "Neural net parameters\n",
      "===============================\n",
      "Number of layers = 3\n",
      "Number of features = 167\n",
      "Loss function = squared\n",
      "Number of neurons per hidden layer = 20\n",
      "Number of output neurons = 1\n",
      "Activation = ['linear', 'linear', 'tanh', 'linear']\n",
      "This neural network has 228 weights.\n",
      "===============================\n",
      "===============================\n",
      "Training Deep Active Subspace Neural Network...\n"
     ]
    },
    {
     "name": "stderr",
     "output_type": "stream",
     "text": [
      "100%|█████████████████████████████████████████████████████████████████████████████████████████████████████████████████████████████████████████████████████████████████████| 23/23 [00:00<00:00, 516.01it/s]"
     ]
    },
    {
     "name": "stdout",
     "output_type": "stream",
     "text": [
      " loss = 1.6853\n"
     ]
    },
    {
     "name": "stderr",
     "output_type": "stream",
     "text": [
      "\n"
     ]
    },
    {
     "name": "stdout",
     "output_type": "stream",
     "text": [
      "Relative training error = 24.1641 %\n",
      "Relative test error = 23.6576 %\n"
     ]
    },
    {
     "name": "stderr",
     "output_type": "stream",
     "text": [
      "100%|█████████████████████████████████████████████████████████████████████████████████████████████████████████████████████████████████████████████████████████████████████| 23/23 [00:00<00:00, 447.53it/s]"
     ]
    },
    {
     "name": "stdout",
     "output_type": "stream",
     "text": [
      " loss = 1.2921\n"
     ]
    },
    {
     "name": "stderr",
     "output_type": "stream",
     "text": [
      "\n"
     ]
    },
    {
     "name": "stdout",
     "output_type": "stream",
     "text": [
      "Relative training error = 22.8218 %\n",
      "Relative test error = 22.2689 %\n"
     ]
    },
    {
     "name": "stderr",
     "output_type": "stream",
     "text": [
      "100%|█████████████████████████████████████████████████████████████████████████████████████████████████████████████████████████████████████████████████████████████████████| 23/23 [00:00<00:00, 452.72it/s]"
     ]
    },
    {
     "name": "stdout",
     "output_type": "stream",
     "text": [
      " loss = 1.0064\n"
     ]
    },
    {
     "name": "stderr",
     "output_type": "stream",
     "text": [
      "\n"
     ]
    },
    {
     "name": "stdout",
     "output_type": "stream",
     "text": [
      "Relative training error = 20.8072 %\n",
      "Relative test error = 21.5391 %\n"
     ]
    },
    {
     "name": "stderr",
     "output_type": "stream",
     "text": [
      "100%|█████████████████████████████████████████████████████████████████████████████████████████████████████████████████████████████████████████████████████████████████████| 23/23 [00:00<00:00, 546.96it/s]"
     ]
    },
    {
     "name": "stdout",
     "output_type": "stream",
     "text": [
      " loss = 0.8800\n"
     ]
    },
    {
     "name": "stderr",
     "output_type": "stream",
     "text": [
      "\n"
     ]
    },
    {
     "name": "stdout",
     "output_type": "stream",
     "text": [
      "Relative training error = 17.6635 %\n",
      "Relative test error = 20.2981 %\n"
     ]
    },
    {
     "name": "stderr",
     "output_type": "stream",
     "text": [
      "100%|█████████████████████████████████████████████████████████████████████████████████████████████████████████████████████████████████████████████████████████████████████| 23/23 [00:00<00:00, 466.84it/s]"
     ]
    },
    {
     "name": "stdout",
     "output_type": "stream",
     "text": [
      " loss = 0.4906\n",
      "Relative training error = 14.6113 %\n"
     ]
    },
    {
     "name": "stderr",
     "output_type": "stream",
     "text": [
      "\n"
     ]
    },
    {
     "name": "stdout",
     "output_type": "stream",
     "text": [
      "Relative test error = 17.7490 %\n"
     ]
    },
    {
     "name": "stderr",
     "output_type": "stream",
     "text": [
      "100%|█████████████████████████████████████████████████████████████████████████████████████████████████████████████████████████████████████████████████████████████████████| 23/23 [00:00<00:00, 495.52it/s]"
     ]
    },
    {
     "name": "stdout",
     "output_type": "stream",
     "text": [
      " loss = 0.4865\n"
     ]
    },
    {
     "name": "stderr",
     "output_type": "stream",
     "text": [
      "\n"
     ]
    },
    {
     "name": "stdout",
     "output_type": "stream",
     "text": [
      "Relative training error = 12.4678 %\n",
      "Relative test error = 16.0233 %\n"
     ]
    },
    {
     "name": "stderr",
     "output_type": "stream",
     "text": [
      "100%|█████████████████████████████████████████████████████████████████████████████████████████████████████████████████████████████████████████████████████████████████████| 23/23 [00:00<00:00, 461.26it/s]"
     ]
    },
    {
     "name": "stdout",
     "output_type": "stream",
     "text": [
      " loss = 0.1414\n"
     ]
    },
    {
     "name": "stderr",
     "output_type": "stream",
     "text": [
      "\n"
     ]
    },
    {
     "name": "stdout",
     "output_type": "stream",
     "text": [
      "Relative training error = 11.2150 %\n",
      "Relative test error = 14.2402 %\n"
     ]
    },
    {
     "name": "stderr",
     "output_type": "stream",
     "text": [
      "100%|█████████████████████████████████████████████████████████████████████████████████████████████████████████████████████████████████████████████████████████████████████| 23/23 [00:00<00:00, 539.69it/s]"
     ]
    },
    {
     "name": "stdout",
     "output_type": "stream",
     "text": [
      " loss = 0.1363\n",
      "Relative training error = 10.2974 %\n",
      "Relative test error = 12.2860 %\n"
     ]
    },
    {
     "name": "stderr",
     "output_type": "stream",
     "text": [
      "\n",
      "100%|█████████████████████████████████████████████████████████████████████████████████████████████████████████████████████████████████████████████████████████████████████| 23/23 [00:00<00:00, 455.30it/s]"
     ]
    },
    {
     "name": "stdout",
     "output_type": "stream",
     "text": [
      " loss = 0.1339\n",
      "Relative training error = 9.6807 %\n"
     ]
    },
    {
     "name": "stderr",
     "output_type": "stream",
     "text": [
      "\n"
     ]
    },
    {
     "name": "stdout",
     "output_type": "stream",
     "text": [
      "Relative test error = 11.1685 %\n"
     ]
    },
    {
     "name": "stderr",
     "output_type": "stream",
     "text": [
      "100%|█████████████████████████████████████████████████████████████████████████████████████████████████████████████████████████████████████████████████████████████████████| 23/23 [00:00<00:00, 446.41it/s]"
     ]
    },
    {
     "name": "stdout",
     "output_type": "stream",
     "text": [
      " loss = 0.2007\n"
     ]
    },
    {
     "name": "stderr",
     "output_type": "stream",
     "text": [
      "\n"
     ]
    },
    {
     "name": "stdout",
     "output_type": "stream",
     "text": [
      "Relative training error = 9.1180 %\n",
      "Relative test error = 10.1904 %\n"
     ]
    },
    {
     "name": "stderr",
     "output_type": "stream",
     "text": [
      "100%|█████████████████████████████████████████████████████████████████████████████████████████████████████████████████████████████████████████████████████████████████████| 23/23 [00:00<00:00, 557.87it/s]\n"
     ]
    },
    {
     "name": "stdout",
     "output_type": "stream",
     "text": [
      " loss = 0.1383\n",
      "Relative training error = 8.6929 %\n",
      "Relative test error = 10.1069 %\n"
     ]
    },
    {
     "name": "stderr",
     "output_type": "stream",
     "text": [
      "100%|█████████████████████████████████████████████████████████████████████████████████████████████████████████████████████████████████████████████████████████████████████| 23/23 [00:00<00:00, 465.44it/s]"
     ]
    },
    {
     "name": "stdout",
     "output_type": "stream",
     "text": [
      " loss = 0.1249\n"
     ]
    },
    {
     "name": "stderr",
     "output_type": "stream",
     "text": [
      "\n"
     ]
    },
    {
     "name": "stdout",
     "output_type": "stream",
     "text": [
      "Relative training error = 8.5181 %\n",
      "Relative test error = 9.6805 %\n"
     ]
    },
    {
     "name": "stderr",
     "output_type": "stream",
     "text": [
      "100%|█████████████████████████████████████████████████████████████████████████████████████████████████████████████████████████████████████████████████████████████████████| 23/23 [00:00<00:00, 458.64it/s]\n"
     ]
    },
    {
     "name": "stdout",
     "output_type": "stream",
     "text": [
      " loss = 0.0844\n",
      "Relative training error = 8.4170 %\n",
      "Relative test error = 9.9085 %\n"
     ]
    },
    {
     "name": "stderr",
     "output_type": "stream",
     "text": [
      "100%|█████████████████████████████████████████████████████████████████████████████████████████████████████████████████████████████████████████████████████████████████████| 23/23 [00:00<00:00, 471.07it/s]"
     ]
    },
    {
     "name": "stdout",
     "output_type": "stream",
     "text": [
      " loss = 0.1007\n"
     ]
    },
    {
     "name": "stderr",
     "output_type": "stream",
     "text": [
      "\n"
     ]
    },
    {
     "name": "stdout",
     "output_type": "stream",
     "text": [
      "Relative training error = 8.2618 %\n",
      "Relative test error = 9.7286 %\n"
     ]
    },
    {
     "name": "stderr",
     "output_type": "stream",
     "text": [
      "100%|█████████████████████████████████████████████████████████████████████████████████████████████████████████████████████████████████████████████████████████████████████| 23/23 [00:00<00:00, 462.75it/s]\n"
     ]
    },
    {
     "name": "stdout",
     "output_type": "stream",
     "text": [
      " loss = 0.1028\n",
      "Relative training error = 8.2472 %\n",
      "Relative test error = 9.6788 %\n"
     ]
    },
    {
     "name": "stderr",
     "output_type": "stream",
     "text": [
      "100%|█████████████████████████████████████████████████████████████████████████████████████████████████████████████████████████████████████████████████████████████████████| 23/23 [00:00<00:00, 549.04it/s]"
     ]
    },
    {
     "name": "stdout",
     "output_type": "stream",
     "text": [
      " loss = 0.1397\n"
     ]
    },
    {
     "name": "stderr",
     "output_type": "stream",
     "text": [
      "\n"
     ]
    },
    {
     "name": "stdout",
     "output_type": "stream",
     "text": [
      "Relative training error = 8.2439 %\n",
      "Relative test error = 9.7071 %\n"
     ]
    },
    {
     "name": "stderr",
     "output_type": "stream",
     "text": [
      "100%|█████████████████████████████████████████████████████████████████████████████████████████████████████████████████████████████████████████████████████████████████████| 23/23 [00:00<00:00, 536.48it/s]"
     ]
    },
    {
     "name": "stdout",
     "output_type": "stream",
     "text": [
      " loss = 0.0664\n",
      "Relative training error = 8.1338 %\n",
      "Relative test error = 9.7861 %\n"
     ]
    },
    {
     "name": "stderr",
     "output_type": "stream",
     "text": [
      "\n",
      "100%|█████████████████████████████████████████████████████████████████████████████████████████████████████████████████████████████████████████████████████████████████████| 23/23 [00:00<00:00, 533.98it/s]"
     ]
    },
    {
     "name": "stdout",
     "output_type": "stream",
     "text": [
      " loss = 0.1201\n",
      "Relative training error = 8.0930 %\n"
     ]
    },
    {
     "name": "stderr",
     "output_type": "stream",
     "text": [
      "\n"
     ]
    },
    {
     "name": "stdout",
     "output_type": "stream",
     "text": [
      "Relative test error = 9.7393 %\n",
      "Creating DAS_analysis object\n",
      "[-0.01079496 -0.00636261 -0.00472965  0.00829344 -0.03315033  0.01000517\n",
      " -0.03147244  0.01236407 -0.02684816  0.00736422 -0.01663265 -0.00670413\n",
      "  0.01756466 -0.01872044  0.02313004 -0.03355007  0.0332702  -0.02308934\n",
      " -0.04141354  0.01600002 -0.00833672  0.01130101  0.00841153  0.0035773\n",
      "  0.00450807  0.03616873  0.00554306  0.01251749 -0.00332135  0.01660203\n",
      "  0.00364524 -0.00423356 -0.01502233  0.00553334  0.00909886  0.03581746\n",
      " -0.01612826 -0.01689578 -0.00544872 -0.0257047  -0.0020281  -0.00491286\n",
      " -0.01851041 -0.00295021 -0.01707543  0.01278958 -0.03309115 -0.03378421\n",
      "  0.02105434 -0.024914    0.01355151  0.0347159   0.00949286 -0.01157946\n",
      " -0.02779381  0.01103345  0.05014661 -0.0388591   0.03466138 -0.03282935\n",
      "  0.01334391 -0.02446218  0.00617272  0.02966007 -0.0113076  -0.02121396\n",
      " -0.02654688 -0.02603522  0.00742446  0.0033779  -0.03955923 -0.02515224\n",
      " -0.00983606 -0.03146489 -0.02662707  0.00106644 -0.01827304 -0.01481842\n",
      "  0.00496895 -0.01752653  0.02289294  0.02491585 -0.05154504 -0.0153165\n",
      " -0.02955348 -0.01164796  0.00169125  0.00708391  0.00424188 -0.0170783\n",
      " -0.02926962  0.01683864 -0.03211833  0.04620026  0.02204849  0.03711775\n",
      " -0.02703611 -0.02134703 -0.01017228 -0.02460535 -0.00175839  0.00900341\n",
      "  0.0066653   0.02126546 -0.00704159 -0.02525979  0.04929931  0.03000105\n",
      "  0.00056224  0.02727065  0.00672098 -0.02266489 -0.03778072 -0.0143658\n",
      " -0.06977009 -0.00184082  0.03251847  0.00536228  0.00780703  0.00351171\n",
      " -0.001558    0.00453452  0.01956437  0.00755578 -0.00347596 -0.02544811\n",
      " -0.00691871  0.0184323  -0.00946686  0.01644332 -0.00717298 -0.00091536\n",
      " -0.00513515 -0.00200119 -0.00781267  0.03063803  0.00576488 -0.00229528\n",
      "  0.02318851  0.0245067  -0.02252075 -0.01338904  0.0351502  -0.00802465\n",
      " -0.02688461 -0.01285858 -0.04307223  0.01796226 -0.00352158 -0.02649279\n",
      " -0.02409055  0.01353839 -0.01250318  0.00313297  0.01588277  0.01109347\n",
      " -0.00357092  0.00296899  0.00483943 -0.03099188 -0.01898565  0.02774835\n",
      " -0.03559913 -0.0050307   0.0044001   0.13017571 -0.01762796]\n",
      "Parameters ordered from most to least important:\n",
      "[[141 149 150 165 151 153 142  17  15 137 113 109 154  85  73 107 138  41\n",
      "  163  10  27  95  36  94  39  87  57 115 105  53 166 117  75 161 152  68\n",
      "  155 112  28 106 110  49  40  21  97  99 108  93 159 139  30  23  47  42\n",
      "  146 133 120 143  22   6  29 127 164  13  59  69   2  79   3 134  74  82\n",
      "   43 140 156 135  61  37 162  77  52  83 100  35  56  80  24  90  91  63\n",
      "  145 121 158  38 122 116  58  18  78  96  72  19  60  26  31   4  98 129\n",
      "  144  46  14 118  55  84 101  65  12  54 124 125  66 123  48   5 103  45\n",
      "   70  32  86  67  76  51 114  25 132  11  64  34  89   8 147 130  33  62\n",
      "  160   0 148   9  44  71 102 136   1 157 119   7 128 126  92  16 104 111\n",
      "   81 131  50  20  88]]\n",
      "Creating DAS_Surrogate Object\n",
      "Creating Feature Engineering object\n",
      "Using  662/662 samples to train the ML model\n",
      "===============================\n",
      "Neural net parameters\n",
      "===============================\n",
      "Number of layers = 3\n",
      "Number of features = 167\n",
      "Loss function = squared\n",
      "Number of neurons per hidden layer = 20\n",
      "Number of output neurons = 1\n",
      "Activation = ['linear', 'linear', 'tanh', 'linear']\n",
      "This neural network has 228 weights.\n",
      "===============================\n",
      "===============================\n",
      "Training Deep Active Subspace Neural Network...\n"
     ]
    },
    {
     "name": "stderr",
     "output_type": "stream",
     "text": [
      "100%|█████████████████████████████████████████████████████████████████████████████████████████████████████████████████████████████████████████████████████████████████████| 23/23 [00:00<00:00, 545.36it/s]\n"
     ]
    },
    {
     "name": "stdout",
     "output_type": "stream",
     "text": [
      " loss = 1.2126\n",
      "Relative training error = 23.6532 %\n",
      "Relative test error = 22.9599 %\n"
     ]
    },
    {
     "name": "stderr",
     "output_type": "stream",
     "text": [
      "  0%|                                                                                                                                                                               | 0/23 [00:00<?, ?it/s]"
     ]
    },
    {
     "name": "stdout",
     "output_type": "stream",
     "text": [
      " loss = 1.0859\n"
     ]
    },
    {
     "name": "stderr",
     "output_type": "stream",
     "text": [
      "\r",
      "100%|█████████████████████████████████████████████████████████████████████████████████████████████████████████████████████████████████████████████████████████████████████| 23/23 [00:00<00:00, 514.69it/s]"
     ]
    },
    {
     "name": "stdout",
     "output_type": "stream",
     "text": [
      "Relative training error = 23.2382 %"
     ]
    },
    {
     "name": "stderr",
     "output_type": "stream",
     "text": [
      "\n"
     ]
    },
    {
     "name": "stdout",
     "output_type": "stream",
     "text": [
      "\n",
      "Relative test error = 23.0765 %\n"
     ]
    },
    {
     "name": "stderr",
     "output_type": "stream",
     "text": [
      "100%|█████████████████████████████████████████████████████████████████████████████████████████████████████████████████████████████████████████████████████████████████████| 23/23 [00:00<00:00, 420.24it/s]\n"
     ]
    },
    {
     "name": "stdout",
     "output_type": "stream",
     "text": [
      " loss = 1.5697\n",
      "Relative training error = 21.9615 %\n",
      "Relative test error = 22.4926 %\n"
     ]
    },
    {
     "name": "stderr",
     "output_type": "stream",
     "text": [
      "100%|█████████████████████████████████████████████████████████████████████████████████████████████████████████████████████████████████████████████████████████████████████| 23/23 [00:00<00:00, 426.53it/s]\n"
     ]
    },
    {
     "name": "stdout",
     "output_type": "stream",
     "text": [
      " loss = 0.6032\n",
      "Relative training error = 19.8841 %\n",
      "Relative test error = 21.2184 %\n"
     ]
    },
    {
     "name": "stderr",
     "output_type": "stream",
     "text": [
      "100%|█████████████████████████████████████████████████████████████████████████████████████████████████████████████████████████████████████████████████████████████████████| 23/23 [00:00<00:00, 449.35it/s]"
     ]
    },
    {
     "name": "stdout",
     "output_type": "stream",
     "text": [
      " loss = 0.8776\n"
     ]
    },
    {
     "name": "stderr",
     "output_type": "stream",
     "text": [
      "\n"
     ]
    },
    {
     "name": "stdout",
     "output_type": "stream",
     "text": [
      "Relative training error = 17.0439 %\n",
      "Relative test error = 19.7364 %\n"
     ]
    },
    {
     "name": "stderr",
     "output_type": "stream",
     "text": [
      "100%|█████████████████████████████████████████████████████████████████████████████████████████████████████████████████████████████████████████████████████████████████████| 23/23 [00:00<00:00, 503.30it/s]"
     ]
    },
    {
     "name": "stdout",
     "output_type": "stream",
     "text": [
      " loss = 0.5781\n"
     ]
    },
    {
     "name": "stderr",
     "output_type": "stream",
     "text": [
      "\n"
     ]
    },
    {
     "name": "stdout",
     "output_type": "stream",
     "text": [
      "Relative training error = 14.4042 %\n",
      "Relative test error = 17.5077 %\n"
     ]
    },
    {
     "name": "stderr",
     "output_type": "stream",
     "text": [
      "100%|█████████████████████████████████████████████████████████████████████████████████████████████████████████████████████████████████████████████████████████████████████| 23/23 [00:00<00:00, 417.07it/s]"
     ]
    },
    {
     "name": "stdout",
     "output_type": "stream",
     "text": [
      " loss = 0.2882\n"
     ]
    },
    {
     "name": "stderr",
     "output_type": "stream",
     "text": [
      "\n"
     ]
    },
    {
     "name": "stdout",
     "output_type": "stream",
     "text": [
      "Relative training error = 12.1533 %\n",
      "Relative test error = 14.5802 %\n"
     ]
    },
    {
     "name": "stderr",
     "output_type": "stream",
     "text": [
      "100%|█████████████████████████████████████████████████████████████████████████████████████████████████████████████████████████████████████████████████████████████████████| 23/23 [00:00<00:00, 436.26it/s]"
     ]
    },
    {
     "name": "stdout",
     "output_type": "stream",
     "text": [
      " loss = 0.2124\n"
     ]
    },
    {
     "name": "stderr",
     "output_type": "stream",
     "text": [
      "\n"
     ]
    },
    {
     "name": "stdout",
     "output_type": "stream",
     "text": [
      "Relative training error = 10.9955 %\n",
      "Relative test error = 12.6119 %\n"
     ]
    },
    {
     "name": "stderr",
     "output_type": "stream",
     "text": [
      "100%|█████████████████████████████████████████████████████████████████████████████████████████████████████████████████████████████████████████████████████████████████████| 23/23 [00:00<00:00, 519.74it/s]"
     ]
    },
    {
     "name": "stdout",
     "output_type": "stream",
     "text": [
      " loss = 0.1431\n"
     ]
    },
    {
     "name": "stderr",
     "output_type": "stream",
     "text": [
      "\n"
     ]
    },
    {
     "name": "stdout",
     "output_type": "stream",
     "text": [
      "Relative training error = 10.2729 %\n",
      "Relative test error = 11.1953 %\n"
     ]
    },
    {
     "name": "stderr",
     "output_type": "stream",
     "text": [
      "100%|█████████████████████████████████████████████████████████████████████████████████████████████████████████████████████████████████████████████████████████████████████| 23/23 [00:00<00:00, 503.87it/s]"
     ]
    },
    {
     "name": "stdout",
     "output_type": "stream",
     "text": [
      " loss = 0.1751\n"
     ]
    },
    {
     "name": "stderr",
     "output_type": "stream",
     "text": [
      "\n"
     ]
    },
    {
     "name": "stdout",
     "output_type": "stream",
     "text": [
      "Relative training error = 9.7495 %\n",
      "Relative test error = 11.0230 %\n"
     ]
    },
    {
     "name": "stderr",
     "output_type": "stream",
     "text": [
      "100%|█████████████████████████████████████████████████████████████████████████████████████████████████████████████████████████████████████████████████████████████████████| 23/23 [00:00<00:00, 543.34it/s]\n"
     ]
    },
    {
     "name": "stdout",
     "output_type": "stream",
     "text": [
      " loss = 0.1287\n",
      "Relative training error = 9.3397 %\n",
      "Relative test error = 10.4567 %\n"
     ]
    },
    {
     "name": "stderr",
     "output_type": "stream",
     "text": [
      "100%|█████████████████████████████████████████████████████████████████████████████████████████████████████████████████████████████████████████████████████████████████████| 23/23 [00:00<00:00, 446.36it/s]\n"
     ]
    },
    {
     "name": "stdout",
     "output_type": "stream",
     "text": [
      " loss = 0.2044\n",
      "Relative training error = 9.0267 %\n",
      "Relative test error = 10.4909 %\n"
     ]
    },
    {
     "name": "stderr",
     "output_type": "stream",
     "text": [
      "100%|█████████████████████████████████████████████████████████████████████████████████████████████████████████████████████████████████████████████████████████████████████| 23/23 [00:00<00:00, 445.05it/s]"
     ]
    },
    {
     "name": "stdout",
     "output_type": "stream",
     "text": [
      " loss = 0.1795\n"
     ]
    },
    {
     "name": "stderr",
     "output_type": "stream",
     "text": [
      "\n"
     ]
    },
    {
     "name": "stdout",
     "output_type": "stream",
     "text": [
      "Relative training error = 8.8703 %\n",
      "Relative test error = 9.9255 %\n"
     ]
    },
    {
     "name": "stderr",
     "output_type": "stream",
     "text": [
      "100%|█████████████████████████████████████████████████████████████████████████████████████████████████████████████████████████████████████████████████████████████████████| 23/23 [00:00<00:00, 421.29it/s]\n"
     ]
    },
    {
     "name": "stdout",
     "output_type": "stream",
     "text": [
      " loss = 0.1374\n",
      "Relative training error = 8.7012 %\n",
      "Relative test error = 10.0460 %\n"
     ]
    },
    {
     "name": "stderr",
     "output_type": "stream",
     "text": [
      "100%|█████████████████████████████████████████████████████████████████████████████████████████████████████████████████████████████████████████████████████████████████████| 23/23 [00:00<00:00, 438.22it/s]"
     ]
    },
    {
     "name": "stdout",
     "output_type": "stream",
     "text": [
      " loss = 0.0946\n"
     ]
    },
    {
     "name": "stderr",
     "output_type": "stream",
     "text": [
      "\n"
     ]
    },
    {
     "name": "stdout",
     "output_type": "stream",
     "text": [
      "Relative training error = 8.5695 %\n",
      "Relative test error = 9.7919 %\n"
     ]
    },
    {
     "name": "stderr",
     "output_type": "stream",
     "text": [
      "100%|█████████████████████████████████████████████████████████████████████████████████████████████████████████████████████████████████████████████████████████████████████| 23/23 [00:00<00:00, 456.70it/s]"
     ]
    },
    {
     "name": "stdout",
     "output_type": "stream",
     "text": [
      " loss = 0.1904\n"
     ]
    },
    {
     "name": "stderr",
     "output_type": "stream",
     "text": [
      "\n"
     ]
    },
    {
     "name": "stdout",
     "output_type": "stream",
     "text": [
      "Relative training error = 8.5120 %\n",
      "Relative test error = 9.9052 %\n"
     ]
    },
    {
     "name": "stderr",
     "output_type": "stream",
     "text": [
      "100%|█████████████████████████████████████████████████████████████████████████████████████████████████████████████████████████████████████████████████████████████████████| 23/23 [00:00<00:00, 460.50it/s]"
     ]
    },
    {
     "name": "stdout",
     "output_type": "stream",
     "text": [
      " loss = 0.1190\n"
     ]
    },
    {
     "name": "stderr",
     "output_type": "stream",
     "text": [
      "\n"
     ]
    },
    {
     "name": "stdout",
     "output_type": "stream",
     "text": [
      "Relative training error = 8.5137 %\n",
      "Relative test error = 10.0078 %\n"
     ]
    },
    {
     "name": "stderr",
     "output_type": "stream",
     "text": [
      "100%|█████████████████████████████████████████████████████████████████████████████████████████████████████████████████████████████████████████████████████████████████████| 23/23 [00:00<00:00, 437.19it/s]"
     ]
    },
    {
     "name": "stdout",
     "output_type": "stream",
     "text": [
      " loss = 0.0700\n"
     ]
    },
    {
     "name": "stderr",
     "output_type": "stream",
     "text": [
      "\n"
     ]
    },
    {
     "name": "stdout",
     "output_type": "stream",
     "text": [
      "Relative training error = 8.4078 %\n",
      "Relative test error = 9.6115 %\n"
     ]
    },
    {
     "name": "stderr",
     "output_type": "stream",
     "text": [
      "100%|█████████████████████████████████████████████████████████████████████████████████████████████████████████████████████████████████████████████████████████████████████| 23/23 [00:00<00:00, 458.21it/s]"
     ]
    },
    {
     "name": "stdout",
     "output_type": "stream",
     "text": [
      " loss = 0.1256\n"
     ]
    },
    {
     "name": "stderr",
     "output_type": "stream",
     "text": [
      "\n"
     ]
    },
    {
     "name": "stdout",
     "output_type": "stream",
     "text": [
      "Relative training error = 8.3888 %\n",
      "Relative test error = 9.7845 %\n"
     ]
    },
    {
     "name": "stderr",
     "output_type": "stream",
     "text": [
      "100%|█████████████████████████████████████████████████████████████████████████████████████████████████████████████████████████████████████████████████████████████████████| 23/23 [00:00<00:00, 560.77it/s]\n"
     ]
    },
    {
     "name": "stdout",
     "output_type": "stream",
     "text": [
      " loss = 0.1389\n",
      "Relative training error = 8.3699 %\n",
      "Relative test error = 10.0276 %\n"
     ]
    },
    {
     "name": "stderr",
     "output_type": "stream",
     "text": [
      "100%|█████████████████████████████████████████████████████████████████████████████████████████████████████████████████████████████████████████████████████████████████████| 23/23 [00:00<00:00, 456.13it/s]"
     ]
    },
    {
     "name": "stdout",
     "output_type": "stream",
     "text": [
      " loss = 0.1330\n"
     ]
    },
    {
     "name": "stderr",
     "output_type": "stream",
     "text": [
      "\n"
     ]
    },
    {
     "name": "stdout",
     "output_type": "stream",
     "text": [
      "Relative training error = 8.3625 %\n",
      "Relative test error = 9.9219 %\n"
     ]
    },
    {
     "name": "stderr",
     "output_type": "stream",
     "text": [
      "  0%|                                                                                                                                                                               | 0/23 [00:00<?, ?it/s]"
     ]
    },
    {
     "name": "stdout",
     "output_type": "stream",
     "text": [
      " loss = 0.0803\n"
     ]
    },
    {
     "name": "stderr",
     "output_type": "stream",
     "text": [
      "100%|█████████████████████████████████████████████████████████████████████████████████████████████████████████████████████████████████████████████████████████████████████| 23/23 [00:00<00:00, 262.66it/s]\n"
     ]
    },
    {
     "name": "stdout",
     "output_type": "stream",
     "text": [
      "Relative training error = 8.3209 %\n",
      "Relative test error = 9.7280 %\n"
     ]
    },
    {
     "name": "stderr",
     "output_type": "stream",
     "text": [
      "  0%|                                                                                                                                                                               | 0/23 [00:00<?, ?it/s]"
     ]
    },
    {
     "name": "stdout",
     "output_type": "stream",
     "text": [
      " loss = 0.2103\n"
     ]
    },
    {
     "name": "stderr",
     "output_type": "stream",
     "text": [
      "100%|█████████████████████████████████████████████████████████████████████████████████████████████████████████████████████████████████████████████████████████████████████| 23/23 [00:00<00:00, 433.08it/s]\n"
     ]
    },
    {
     "name": "stdout",
     "output_type": "stream",
     "text": [
      "Relative training error = 8.3066 %\n",
      "Relative test error = 9.8314 %\n"
     ]
    },
    {
     "name": "stderr",
     "output_type": "stream",
     "text": [
      "100%|█████████████████████████████████████████████████████████████████████████████████████████████████████████████████████████████████████████████████████████████████████| 23/23 [00:00<00:00, 446.40it/s]"
     ]
    },
    {
     "name": "stdout",
     "output_type": "stream",
     "text": [
      " loss = 0.1796\n"
     ]
    },
    {
     "name": "stderr",
     "output_type": "stream",
     "text": [
      "\n"
     ]
    },
    {
     "name": "stdout",
     "output_type": "stream",
     "text": [
      "Relative training error = 8.2931 %\n",
      "Relative test error = 9.7064 %\n"
     ]
    },
    {
     "name": "stderr",
     "output_type": "stream",
     "text": [
      "100%|█████████████████████████████████████████████████████████████████████████████████████████████████████████████████████████████████████████████████████████████████████| 23/23 [00:00<00:00, 433.35it/s]"
     ]
    },
    {
     "name": "stdout",
     "output_type": "stream",
     "text": [
      " loss = 0.1200\n"
     ]
    },
    {
     "name": "stderr",
     "output_type": "stream",
     "text": [
      "\n"
     ]
    },
    {
     "name": "stdout",
     "output_type": "stream",
     "text": [
      "Relative training error = 8.2085 %\n",
      "Relative test error = 9.6894 %\n"
     ]
    },
    {
     "name": "stderr",
     "output_type": "stream",
     "text": [
      "100%|█████████████████████████████████████████████████████████████████████████████████████████████████████████████████████████████████████████████████████████████████████| 23/23 [00:00<00:00, 423.88it/s]"
     ]
    },
    {
     "name": "stdout",
     "output_type": "stream",
     "text": [
      " loss = 0.0851\n"
     ]
    },
    {
     "name": "stderr",
     "output_type": "stream",
     "text": [
      "\n"
     ]
    },
    {
     "name": "stdout",
     "output_type": "stream",
     "text": [
      "Relative training error = 8.2298 %\n",
      "Relative test error = 9.5456 %\n"
     ]
    },
    {
     "name": "stderr",
     "output_type": "stream",
     "text": [
      "100%|█████████████████████████████████████████████████████████████████████████████████████████████████████████████████████████████████████████████████████████████████████| 23/23 [00:00<00:00, 418.78it/s]"
     ]
    },
    {
     "name": "stdout",
     "output_type": "stream",
     "text": [
      " loss = 0.1050\n"
     ]
    },
    {
     "name": "stderr",
     "output_type": "stream",
     "text": [
      "\n"
     ]
    },
    {
     "name": "stdout",
     "output_type": "stream",
     "text": [
      "Relative training error = 8.2371 %\n",
      "Relative test error = 9.5612 %\n"
     ]
    },
    {
     "name": "stderr",
     "output_type": "stream",
     "text": [
      "100%|█████████████████████████████████████████████████████████████████████████████████████████████████████████████████████████████████████████████████████████████████████| 23/23 [00:00<00:00, 531.75it/s]"
     ]
    },
    {
     "name": "stdout",
     "output_type": "stream",
     "text": [
      " loss = 0.1042\n"
     ]
    },
    {
     "name": "stderr",
     "output_type": "stream",
     "text": [
      "\n"
     ]
    },
    {
     "name": "stdout",
     "output_type": "stream",
     "text": [
      "Relative training error = 8.2283 %\n",
      "Relative test error = 9.5332 %\n"
     ]
    },
    {
     "name": "stderr",
     "output_type": "stream",
     "text": [
      "100%|█████████████████████████████████████████████████████████████████████████████████████████████████████████████████████████████████████████████████████████████████████| 23/23 [00:00<00:00, 565.93it/s]"
     ]
    },
    {
     "name": "stdout",
     "output_type": "stream",
     "text": [
      " loss = 0.1421\n",
      "Relative training error = 8.1590 %\n",
      "Relative test error = 9.6033 %\n"
     ]
    },
    {
     "name": "stderr",
     "output_type": "stream",
     "text": [
      "\n",
      "100%|█████████████████████████████████████████████████████████████████████████████████████████████████████████████████████████████████████████████████████████████████████| 23/23 [00:00<00:00, 442.22it/s]"
     ]
    },
    {
     "name": "stdout",
     "output_type": "stream",
     "text": [
      " loss = 0.1037\n"
     ]
    },
    {
     "name": "stderr",
     "output_type": "stream",
     "text": [
      "\n"
     ]
    },
    {
     "name": "stdout",
     "output_type": "stream",
     "text": [
      "Relative training error = 8.1156 %\n",
      "Relative test error = 9.5786 %\n",
      "Creating DAS_analysis object\n",
      "[-0.01079496 -0.00636261 -0.00472965  0.00829344 -0.03315033  0.01000517\n",
      " -0.03147244  0.01236407 -0.02684816  0.00736422 -0.01663265 -0.00670413\n",
      "  0.01756466 -0.01872044  0.02313004 -0.03355007  0.0332702  -0.02308934\n",
      " -0.04141354  0.01600002 -0.00833672  0.01130101  0.00841153  0.0035773\n",
      "  0.00450807  0.03616873  0.00554306  0.01251749 -0.00332135  0.01660203\n",
      "  0.00364524 -0.00423356 -0.01502233  0.00553334  0.00909886  0.03581746\n",
      " -0.01612826 -0.01689578 -0.00544872 -0.0257047  -0.0020281  -0.00491286\n",
      " -0.01851041 -0.00295021 -0.01707543  0.01278958 -0.03309115 -0.03378421\n",
      "  0.02105434 -0.024914    0.01355151  0.0347159   0.00949286 -0.01157946\n",
      " -0.02779381  0.01103345  0.05014661 -0.0388591   0.03466138 -0.03282935\n",
      "  0.01334391 -0.02446218  0.00617272  0.02966007 -0.0113076  -0.02121396\n",
      " -0.02654688 -0.02603522  0.00742446  0.0033779  -0.03955923 -0.02515224\n",
      " -0.00983606 -0.03146489 -0.02662707  0.00106644 -0.01827304 -0.01481842\n",
      "  0.00496895 -0.01752653  0.02289294  0.02491585 -0.05154504 -0.0153165\n",
      " -0.02955348 -0.01164796  0.00169125  0.00708391  0.00424188 -0.0170783\n",
      " -0.02926962  0.01683864 -0.03211833  0.04620026  0.02204849  0.03711775\n",
      " -0.02703611 -0.02134703 -0.01017228 -0.02460535 -0.00175839  0.00900341\n",
      "  0.0066653   0.02126546 -0.00704159 -0.02525979  0.04929931  0.03000105\n",
      "  0.00056224  0.02727065  0.00672098 -0.02266489 -0.03778072 -0.0143658\n",
      " -0.06977009 -0.00184082  0.03251847  0.00536228  0.00780703  0.00351171\n",
      " -0.001558    0.00453452  0.01956437  0.00755578 -0.00347596 -0.02544811\n",
      " -0.00691871  0.0184323  -0.00946686  0.01644332 -0.00717298 -0.00091536\n",
      " -0.00513515 -0.00200119 -0.00781267  0.03063803  0.00576488 -0.00229528\n",
      "  0.02318851  0.0245067  -0.02252075 -0.01338904  0.0351502  -0.00802465\n",
      " -0.02688461 -0.01285858 -0.04307223  0.01796226 -0.00352158 -0.02649279\n",
      " -0.02409055  0.01353839 -0.01250318  0.00313297  0.01588277  0.01109347\n",
      " -0.00357092  0.00296899  0.00483943 -0.03099188 -0.01898565  0.02774835\n",
      " -0.03559913 -0.0050307   0.0044001   0.13017571 -0.01762796]\n",
      "Parameters ordered from most to least important:\n",
      "[[141 149 165 150 153 151 142  17 137  15 113 154  73 109  95  41 107 138\n",
      "   85  27 163  10  39  57 164  53  36  94 108 105  28 152  21 110   5 115\n",
      "  159  74  93 139 133  79  87 162 100  75  83  40  82   0  68 146 130  29\n",
      "   18  13 166   4 161 117 120  42  99  26  54 119  86  52 158  97 134 123\n",
      "  156 145  49 129 148  60 112 135  45 147  38  59  77 125  16  67  69  35\n",
      "   24  63  44  72  55  47  48 127  30 101 111  98 106  64  84 155  46  31\n",
      "  140  76  33   6  37 131 157 144  62  78   9  23 136  66  25 104  58 126\n",
      "   43 132  19 122  80  71  51  20  32 128 124  22  61   2   8 160  81  14\n",
      "   96 121 143   1  88 116  89  34  12  65   3  56 118 103 114  91  50  11\n",
      "    7 102  70  90  92]]\n",
      "Creating DAS_Surrogate Object\n",
      "Creating Feature Engineering object\n",
      "Using  662/662 samples to train the ML model\n",
      "===============================\n",
      "Neural net parameters\n",
      "===============================\n",
      "Number of layers = 3\n",
      "Number of features = 167\n",
      "Loss function = squared\n",
      "Number of neurons per hidden layer = 20\n",
      "Number of output neurons = 1\n",
      "Activation = ['linear', 'linear', 'tanh', 'linear']\n",
      "This neural network has 228 weights.\n",
      "===============================\n",
      "===============================\n",
      "Training Deep Active Subspace Neural Network...\n"
     ]
    },
    {
     "name": "stderr",
     "output_type": "stream",
     "text": [
      "100%|█████████████████████████████████████████████████████████████████████████████████████████████████████████████████████████████████████████████████████████████████████| 23/23 [00:00<00:00, 556.63it/s]"
     ]
    },
    {
     "name": "stdout",
     "output_type": "stream",
     "text": [
      " loss = 1.7860\n",
      "Relative training error = 23.1969 %\n",
      "Relative test error = 22.4396 %\n"
     ]
    },
    {
     "name": "stderr",
     "output_type": "stream",
     "text": [
      "\n",
      "100%|█████████████████████████████████████████████████████████████████████████████████████████████████████████████████████████████████████████████████████████████████████| 23/23 [00:00<00:00, 528.80it/s]"
     ]
    },
    {
     "name": "stdout",
     "output_type": "stream",
     "text": [
      " loss = 1.1419\n",
      "Relative training error = 20.4316 %\n"
     ]
    },
    {
     "name": "stderr",
     "output_type": "stream",
     "text": [
      "\n"
     ]
    },
    {
     "name": "stdout",
     "output_type": "stream",
     "text": [
      "Relative test error = 20.9770 %\n"
     ]
    },
    {
     "name": "stderr",
     "output_type": "stream",
     "text": [
      "100%|█████████████████████████████████████████████████████████████████████████████████████████████████████████████████████████████████████████████████████████████████████| 23/23 [00:00<00:00, 442.68it/s]\n"
     ]
    },
    {
     "name": "stdout",
     "output_type": "stream",
     "text": [
      " loss = 1.1687\n",
      "Relative training error = 18.1508 %\n",
      "Relative test error = 19.1423 %\n"
     ]
    },
    {
     "name": "stderr",
     "output_type": "stream",
     "text": [
      "100%|█████████████████████████████████████████████████████████████████████████████████████████████████████████████████████████████████████████████████████████████████████| 23/23 [00:00<00:00, 402.84it/s]"
     ]
    },
    {
     "name": "stdout",
     "output_type": "stream",
     "text": [
      " loss = 0.5499\n"
     ]
    },
    {
     "name": "stderr",
     "output_type": "stream",
     "text": [
      "\n"
     ]
    },
    {
     "name": "stdout",
     "output_type": "stream",
     "text": [
      "Relative training error = 15.4629 %\n",
      "Relative test error = 17.2352 %\n"
     ]
    },
    {
     "name": "stderr",
     "output_type": "stream",
     "text": [
      "100%|█████████████████████████████████████████████████████████████████████████████████████████████████████████████████████████████████████████████████████████████████████| 23/23 [00:00<00:00, 459.82it/s]"
     ]
    },
    {
     "name": "stdout",
     "output_type": "stream",
     "text": [
      " loss = 0.4359\n"
     ]
    },
    {
     "name": "stderr",
     "output_type": "stream",
     "text": [
      "\n"
     ]
    },
    {
     "name": "stdout",
     "output_type": "stream",
     "text": [
      "Relative training error = 12.9382 %\n",
      "Relative test error = 15.1610 %\n"
     ]
    },
    {
     "name": "stderr",
     "output_type": "stream",
     "text": [
      "100%|█████████████████████████████████████████████████████████████████████████████████████████████████████████████████████████████████████████████████████████████████████| 23/23 [00:00<00:00, 439.45it/s]"
     ]
    },
    {
     "name": "stdout",
     "output_type": "stream",
     "text": [
      " loss = 0.2325\n"
     ]
    },
    {
     "name": "stderr",
     "output_type": "stream",
     "text": [
      "\n"
     ]
    },
    {
     "name": "stdout",
     "output_type": "stream",
     "text": [
      "Relative training error = 11.2138 %\n",
      "Relative test error = 13.5591 %\n"
     ]
    },
    {
     "name": "stderr",
     "output_type": "stream",
     "text": [
      "100%|█████████████████████████████████████████████████████████████████████████████████████████████████████████████████████████████████████████████████████████████████████| 23/23 [00:00<00:00, 527.19it/s]"
     ]
    },
    {
     "name": "stdout",
     "output_type": "stream",
     "text": [
      " loss = 0.2099\n"
     ]
    },
    {
     "name": "stderr",
     "output_type": "stream",
     "text": [
      "\n"
     ]
    },
    {
     "name": "stdout",
     "output_type": "stream",
     "text": [
      "Relative training error = 10.1824 %\n",
      "Relative test error = 12.7129 %\n"
     ]
    },
    {
     "name": "stderr",
     "output_type": "stream",
     "text": [
      "100%|█████████████████████████████████████████████████████████████████████████████████████████████████████████████████████████████████████████████████████████████████████| 23/23 [00:00<00:00, 554.91it/s]"
     ]
    },
    {
     "name": "stdout",
     "output_type": "stream",
     "text": [
      " loss = 0.2438\n"
     ]
    },
    {
     "name": "stderr",
     "output_type": "stream",
     "text": [
      "\n"
     ]
    },
    {
     "name": "stdout",
     "output_type": "stream",
     "text": [
      "Relative training error = 9.4659 %\n",
      "Relative test error = 11.5753 %\n"
     ]
    },
    {
     "name": "stderr",
     "output_type": "stream",
     "text": [
      "100%|█████████████████████████████████████████████████████████████████████████████████████████████████████████████████████████████████████████████████████████████████████| 23/23 [00:00<00:00, 532.63it/s]"
     ]
    },
    {
     "name": "stdout",
     "output_type": "stream",
     "text": [
      " loss = 0.1071\n"
     ]
    },
    {
     "name": "stderr",
     "output_type": "stream",
     "text": [
      "\n"
     ]
    },
    {
     "name": "stdout",
     "output_type": "stream",
     "text": [
      "Relative training error = 9.0308 %\n",
      "Relative test error = 10.8172 %\n"
     ]
    },
    {
     "name": "stderr",
     "output_type": "stream",
     "text": [
      "100%|█████████████████████████████████████████████████████████████████████████████████████████████████████████████████████████████████████████████████████████████████████| 23/23 [00:00<00:00, 446.44it/s]"
     ]
    },
    {
     "name": "stdout",
     "output_type": "stream",
     "text": [
      " loss = 0.1740\n",
      "Relative training error = 8.6866 %\n",
      "Relative test error = 10.3346 %\n"
     ]
    },
    {
     "name": "stderr",
     "output_type": "stream",
     "text": [
      "\n",
      "100%|█████████████████████████████████████████████████████████████████████████████████████████████████████████████████████████████████████████████████████████████████████| 23/23 [00:00<00:00, 464.65it/s]"
     ]
    },
    {
     "name": "stdout",
     "output_type": "stream",
     "text": [
      " loss = 0.1121\n",
      "Relative training error = 8.3993 %\n"
     ]
    },
    {
     "name": "stderr",
     "output_type": "stream",
     "text": [
      "\n"
     ]
    },
    {
     "name": "stdout",
     "output_type": "stream",
     "text": [
      "Relative test error = 10.4300 %\n"
     ]
    },
    {
     "name": "stderr",
     "output_type": "stream",
     "text": [
      "100%|█████████████████████████████████████████████████████████████████████████████████████████████████████████████████████████████████████████████████████████████████████| 23/23 [00:00<00:00, 465.45it/s]\n"
     ]
    },
    {
     "name": "stdout",
     "output_type": "stream",
     "text": [
      " loss = 0.1428\n",
      "Relative training error = 8.3110 %\n",
      "Relative test error = 10.1894 %\n"
     ]
    },
    {
     "name": "stderr",
     "output_type": "stream",
     "text": [
      "100%|█████████████████████████████████████████████████████████████████████████████████████████████████████████████████████████████████████████████████████████████████████| 23/23 [00:00<00:00, 538.70it/s]"
     ]
    },
    {
     "name": "stdout",
     "output_type": "stream",
     "text": [
      " loss = 0.1970\n"
     ]
    },
    {
     "name": "stderr",
     "output_type": "stream",
     "text": [
      "\n"
     ]
    },
    {
     "name": "stdout",
     "output_type": "stream",
     "text": [
      "Relative training error = 8.1824 %\n",
      "Relative test error = 9.8508 %\n"
     ]
    },
    {
     "name": "stderr",
     "output_type": "stream",
     "text": [
      "100%|█████████████████████████████████████████████████████████████████████████████████████████████████████████████████████████████████████████████████████████████████████| 23/23 [00:00<00:00, 538.96it/s]"
     ]
    },
    {
     "name": "stdout",
     "output_type": "stream",
     "text": [
      " loss = 0.1262\n"
     ]
    },
    {
     "name": "stderr",
     "output_type": "stream",
     "text": [
      "\n"
     ]
    },
    {
     "name": "stdout",
     "output_type": "stream",
     "text": [
      "Relative training error = 8.1417 %\n",
      "Relative test error = 9.8929 %\n"
     ]
    },
    {
     "name": "stderr",
     "output_type": "stream",
     "text": [
      "100%|█████████████████████████████████████████████████████████████████████████████████████████████████████████████████████████████████████████████████████████████████████| 23/23 [00:00<00:00, 560.89it/s]\n"
     ]
    },
    {
     "name": "stdout",
     "output_type": "stream",
     "text": [
      " loss = 0.0953\n",
      "Relative training error = 8.1029 %\n",
      "Relative test error = 10.0899 %\n"
     ]
    },
    {
     "name": "stderr",
     "output_type": "stream",
     "text": [
      "100%|█████████████████████████████████████████████████████████████████████████████████████████████████████████████████████████████████████████████████████████████████████| 23/23 [00:00<00:00, 462.83it/s]"
     ]
    },
    {
     "name": "stdout",
     "output_type": "stream",
     "text": [
      " loss = 0.1104\n"
     ]
    },
    {
     "name": "stderr",
     "output_type": "stream",
     "text": [
      "\n"
     ]
    },
    {
     "name": "stdout",
     "output_type": "stream",
     "text": [
      "Relative training error = 8.1419 %\n",
      "Relative test error = 9.4767 %\n"
     ]
    },
    {
     "name": "stderr",
     "output_type": "stream",
     "text": [
      "100%|█████████████████████████████████████████████████████████████████████████████████████████████████████████████████████████████████████████████████████████████████████| 23/23 [00:00<00:00, 541.43it/s]\n"
     ]
    },
    {
     "name": "stdout",
     "output_type": "stream",
     "text": [
      " loss = 0.0874\n",
      "Relative training error = 8.0465 %\n",
      "Relative test error = 9.3200 %\n"
     ]
    },
    {
     "name": "stderr",
     "output_type": "stream",
     "text": [
      "100%|█████████████████████████████████████████████████████████████████████████████████████████████████████████████████████████████████████████████████████████████████████| 23/23 [00:00<00:00, 508.03it/s]"
     ]
    },
    {
     "name": "stdout",
     "output_type": "stream",
     "text": [
      " loss = 0.0944\n"
     ]
    },
    {
     "name": "stderr",
     "output_type": "stream",
     "text": [
      "\n"
     ]
    },
    {
     "name": "stdout",
     "output_type": "stream",
     "text": [
      "Relative training error = 8.0716 %\n",
      "Relative test error = 9.3462 %\n"
     ]
    },
    {
     "name": "stderr",
     "output_type": "stream",
     "text": [
      "100%|█████████████████████████████████████████████████████████████████████████████████████████████████████████████████████████████████████████████████████████████████████| 23/23 [00:00<00:00, 462.71it/s]"
     ]
    },
    {
     "name": "stdout",
     "output_type": "stream",
     "text": [
      " loss = 0.0767\n"
     ]
    },
    {
     "name": "stderr",
     "output_type": "stream",
     "text": [
      "\n"
     ]
    },
    {
     "name": "stdout",
     "output_type": "stream",
     "text": [
      "Relative training error = 8.0578 %\n",
      "Relative test error = 9.4920 %\n"
     ]
    },
    {
     "name": "stderr",
     "output_type": "stream",
     "text": [
      "100%|█████████████████████████████████████████████████████████████████████████████████████████████████████████████████████████████████████████████████████████████████████| 23/23 [00:00<00:00, 447.58it/s]"
     ]
    },
    {
     "name": "stdout",
     "output_type": "stream",
     "text": [
      " loss = 0.0712\n"
     ]
    },
    {
     "name": "stderr",
     "output_type": "stream",
     "text": [
      "\n"
     ]
    },
    {
     "name": "stdout",
     "output_type": "stream",
     "text": [
      "Relative training error = 8.0798 %\n",
      "Relative test error = 9.2051 %\n"
     ]
    },
    {
     "name": "stderr",
     "output_type": "stream",
     "text": [
      "100%|█████████████████████████████████████████████████████████████████████████████████████████████████████████████████████████████████████████████████████████████████████| 23/23 [00:00<00:00, 458.66it/s]\n"
     ]
    },
    {
     "name": "stdout",
     "output_type": "stream",
     "text": [
      " loss = 0.1159\n",
      "Relative training error = 8.1309 %\n",
      "Relative test error = 9.1640 %\n"
     ]
    },
    {
     "name": "stderr",
     "output_type": "stream",
     "text": [
      "100%|█████████████████████████████████████████████████████████████████████████████████████████████████████████████████████████████████████████████████████████████████████| 23/23 [00:00<00:00, 445.03it/s]"
     ]
    },
    {
     "name": "stdout",
     "output_type": "stream",
     "text": [
      " loss = 0.1778\n"
     ]
    },
    {
     "name": "stderr",
     "output_type": "stream",
     "text": [
      "\n"
     ]
    },
    {
     "name": "stdout",
     "output_type": "stream",
     "text": [
      "Relative training error = 8.0046 %\n",
      "Relative test error = 9.5864 %\n"
     ]
    },
    {
     "name": "stderr",
     "output_type": "stream",
     "text": [
      "100%|█████████████████████████████████████████████████████████████████████████████████████████████████████████████████████████████████████████████████████████████████████| 23/23 [00:00<00:00, 435.25it/s]\n"
     ]
    },
    {
     "name": "stdout",
     "output_type": "stream",
     "text": [
      " loss = 0.1350\n",
      "Relative training error = 8.0195 %\n",
      "Relative test error = 9.7544 %\n"
     ]
    },
    {
     "name": "stderr",
     "output_type": "stream",
     "text": [
      "100%|█████████████████████████████████████████████████████████████████████████████████████████████████████████████████████████████████████████████████████████████████████| 23/23 [00:00<00:00, 457.75it/s]"
     ]
    },
    {
     "name": "stdout",
     "output_type": "stream",
     "text": [
      " loss = 0.1133\n"
     ]
    },
    {
     "name": "stderr",
     "output_type": "stream",
     "text": [
      "\n"
     ]
    },
    {
     "name": "stdout",
     "output_type": "stream",
     "text": [
      "Relative training error = 7.9726 %\n",
      "Relative test error = 10.1246 %\n",
      "Creating DAS_analysis object\n",
      "[-0.01079496 -0.00636261 -0.00472965  0.00829344 -0.03315033  0.01000517\n",
      " -0.03147244  0.01236407 -0.02684816  0.00736422 -0.01663265 -0.00670413\n",
      "  0.01756466 -0.01872044  0.02313004 -0.03355007  0.0332702  -0.02308934\n",
      " -0.04141354  0.01600002 -0.00833672  0.01130101  0.00841153  0.0035773\n",
      "  0.00450807  0.03616873  0.00554306  0.01251749 -0.00332135  0.01660203\n",
      "  0.00364524 -0.00423356 -0.01502233  0.00553334  0.00909886  0.03581746\n",
      " -0.01612826 -0.01689578 -0.00544872 -0.0257047  -0.0020281  -0.00491286\n",
      " -0.01851041 -0.00295021 -0.01707543  0.01278958 -0.03309115 -0.03378421\n",
      "  0.02105434 -0.024914    0.01355151  0.0347159   0.00949286 -0.01157946\n",
      " -0.02779381  0.01103345  0.05014661 -0.0388591   0.03466138 -0.03282935\n",
      "  0.01334391 -0.02446218  0.00617272  0.02966007 -0.0113076  -0.02121396\n",
      " -0.02654688 -0.02603522  0.00742446  0.0033779  -0.03955923 -0.02515224\n",
      " -0.00983606 -0.03146489 -0.02662707  0.00106644 -0.01827304 -0.01481842\n",
      "  0.00496895 -0.01752653  0.02289294  0.02491585 -0.05154504 -0.0153165\n",
      " -0.02955348 -0.01164796  0.00169125  0.00708391  0.00424188 -0.0170783\n",
      " -0.02926962  0.01683864 -0.03211833  0.04620026  0.02204849  0.03711775\n",
      " -0.02703611 -0.02134703 -0.01017228 -0.02460535 -0.00175839  0.00900341\n",
      "  0.0066653   0.02126546 -0.00704159 -0.02525979  0.04929931  0.03000105\n",
      "  0.00056224  0.02727065  0.00672098 -0.02266489 -0.03778072 -0.0143658\n",
      " -0.06977009 -0.00184082  0.03251847  0.00536228  0.00780703  0.00351171\n",
      " -0.001558    0.00453452  0.01956437  0.00755578 -0.00347596 -0.02544811\n",
      " -0.00691871  0.0184323  -0.00946686  0.01644332 -0.00717298 -0.00091536\n",
      " -0.00513515 -0.00200119 -0.00781267  0.03063803  0.00576488 -0.00229528\n",
      "  0.02318851  0.0245067  -0.02252075 -0.01338904  0.0351502  -0.00802465\n",
      " -0.02688461 -0.01285858 -0.04307223  0.01796226 -0.00352158 -0.02649279\n",
      " -0.02409055  0.01353839 -0.01250318  0.00313297  0.01588277  0.01109347\n",
      " -0.00357092  0.00296899  0.00483943 -0.03099188 -0.01898565  0.02774835\n",
      " -0.03559913 -0.0050307   0.0044001   0.13017571 -0.01762796]\n",
      "Parameters ordered from most to least important:\n",
      "[[141 149 165 150 153 151 142  17 137  15 113 154 109  95  27  39 138 107\n",
      "   73 163  10  57  85  41  36  75 164  87  68 115   5 110  28  21  94 105\n",
      "    3  53 130 152  97  38  99  83 159  29  51 108  93 145 162 121 156 158\n",
      "   74 166 117 139   2  84  26 106  42  78  47  79 134 155  35  46 112  56\n",
      "  135 148  77  48  37  16  45  63  24  60  59 129  19 127 123  55  72 133\n",
      "    1  61  30  52 122  23  82 146 161  33 101  49  18 118  86  69 140   4\n",
      "    9 143   8  22  81 120  91  92  76  58 131  40  11  96 147 124  20  98\n",
      "   43  66 116  32  88 100  25  65 136  54  80 160  90  13 144   7  50  44\n",
      "   67  89 132  71 126   0   6  31 111  14 125 104  70  12 157 103 128 119\n",
      "   34  64 102 114  62]]\n",
      "Creating DAS_Surrogate Object\n",
      "Creating Feature Engineering object\n",
      "Using  662/662 samples to train the ML model\n",
      "===============================\n",
      "Neural net parameters\n",
      "===============================\n",
      "Number of layers = 3\n",
      "Number of features = 167\n",
      "Loss function = squared\n",
      "Number of neurons per hidden layer = 20\n",
      "Number of output neurons = 1\n",
      "Activation = ['linear', 'linear', 'tanh', 'linear']\n",
      "This neural network has 228 weights.\n",
      "===============================\n",
      "===============================\n",
      "Training Deep Active Subspace Neural Network...\n"
     ]
    },
    {
     "name": "stderr",
     "output_type": "stream",
     "text": [
      "100%|█████████████████████████████████████████████████████████████████████████████████████████████████████████████████████████████████████████████████████████████████████| 23/23 [00:00<00:00, 494.34it/s]"
     ]
    },
    {
     "name": "stdout",
     "output_type": "stream",
     "text": [
      " loss = 1.6295\n"
     ]
    },
    {
     "name": "stderr",
     "output_type": "stream",
     "text": [
      "\n"
     ]
    },
    {
     "name": "stdout",
     "output_type": "stream",
     "text": [
      "Relative training error = 22.1053 %\n",
      "Relative test error = 21.6948 %\n"
     ]
    },
    {
     "name": "stderr",
     "output_type": "stream",
     "text": [
      "100%|█████████████████████████████████████████████████████████████████████████████████████████████████████████████████████████████████████████████████████████████████████| 23/23 [00:00<00:00, 418.00it/s]\n"
     ]
    },
    {
     "name": "stdout",
     "output_type": "stream",
     "text": [
      " loss = 0.7355\n",
      "Relative training error = 18.3160 %\n",
      "Relative test error = 19.5621 %\n"
     ]
    },
    {
     "name": "stderr",
     "output_type": "stream",
     "text": [
      "100%|█████████████████████████████████████████████████████████████████████████████████████████████████████████████████████████████████████████████████████████████████████| 23/23 [00:00<00:00, 418.37it/s]"
     ]
    },
    {
     "name": "stdout",
     "output_type": "stream",
     "text": [
      " loss = 0.6773\n"
     ]
    },
    {
     "name": "stderr",
     "output_type": "stream",
     "text": [
      "\n"
     ]
    },
    {
     "name": "stdout",
     "output_type": "stream",
     "text": [
      "Relative training error = 14.8812 %\n",
      "Relative test error = 16.9362 %\n"
     ]
    },
    {
     "name": "stderr",
     "output_type": "stream",
     "text": [
      "100%|█████████████████████████████████████████████████████████████████████████████████████████████████████████████████████████████████████████████████████████████████████| 23/23 [00:00<00:00, 430.41it/s]"
     ]
    },
    {
     "name": "stdout",
     "output_type": "stream",
     "text": [
      " loss = 0.4458\n"
     ]
    },
    {
     "name": "stderr",
     "output_type": "stream",
     "text": [
      "\n"
     ]
    },
    {
     "name": "stdout",
     "output_type": "stream",
     "text": [
      "Relative training error = 12.7332 %\n",
      "Relative test error = 13.8641 %\n"
     ]
    },
    {
     "name": "stderr",
     "output_type": "stream",
     "text": [
      "100%|█████████████████████████████████████████████████████████████████████████████████████████████████████████████████████████████████████████████████████████████████████| 23/23 [00:00<00:00, 425.21it/s]"
     ]
    },
    {
     "name": "stdout",
     "output_type": "stream",
     "text": [
      " loss = 0.4034\n"
     ]
    },
    {
     "name": "stderr",
     "output_type": "stream",
     "text": [
      "\n"
     ]
    },
    {
     "name": "stdout",
     "output_type": "stream",
     "text": [
      "Relative training error = 11.0160 %\n",
      "Relative test error = 12.3100 %\n"
     ]
    },
    {
     "name": "stderr",
     "output_type": "stream",
     "text": [
      "100%|█████████████████████████████████████████████████████████████████████████████████████████████████████████████████████████████████████████████████████████████████████| 23/23 [00:00<00:00, 495.64it/s]"
     ]
    },
    {
     "name": "stdout",
     "output_type": "stream",
     "text": [
      " loss = 0.1417\n"
     ]
    },
    {
     "name": "stderr",
     "output_type": "stream",
     "text": [
      "\n"
     ]
    },
    {
     "name": "stdout",
     "output_type": "stream",
     "text": [
      "Relative training error = 9.8431 %\n",
      "Relative test error = 11.6913 %\n"
     ]
    },
    {
     "name": "stderr",
     "output_type": "stream",
     "text": [
      "100%|█████████████████████████████████████████████████████████████████████████████████████████████████████████████████████████████████████████████████████████████████████| 23/23 [00:00<00:00, 413.62it/s]"
     ]
    },
    {
     "name": "stdout",
     "output_type": "stream",
     "text": [
      " loss = 0.1459\n"
     ]
    },
    {
     "name": "stderr",
     "output_type": "stream",
     "text": [
      "\n"
     ]
    },
    {
     "name": "stdout",
     "output_type": "stream",
     "text": [
      "Relative training error = 9.0729 %\n",
      "Relative test error = 10.8544 %\n"
     ]
    },
    {
     "name": "stderr",
     "output_type": "stream",
     "text": [
      "100%|█████████████████████████████████████████████████████████████████████████████████████████████████████████████████████████████████████████████████████████████████████| 23/23 [00:00<00:00, 425.45it/s]"
     ]
    },
    {
     "name": "stdout",
     "output_type": "stream",
     "text": [
      " loss = 0.1646\n"
     ]
    },
    {
     "name": "stderr",
     "output_type": "stream",
     "text": [
      "\n"
     ]
    },
    {
     "name": "stdout",
     "output_type": "stream",
     "text": [
      "Relative training error = 8.7223 %\n",
      "Relative test error = 10.6602 %\n"
     ]
    },
    {
     "name": "stderr",
     "output_type": "stream",
     "text": [
      "100%|█████████████████████████████████████████████████████████████████████████████████████████████████████████████████████████████████████████████████████████████████████| 23/23 [00:00<00:00, 423.49it/s]"
     ]
    },
    {
     "name": "stdout",
     "output_type": "stream",
     "text": [
      " loss = 0.1012\n"
     ]
    },
    {
     "name": "stderr",
     "output_type": "stream",
     "text": [
      "\n"
     ]
    },
    {
     "name": "stdout",
     "output_type": "stream",
     "text": [
      "Relative training error = 8.5309 %\n",
      "Relative test error = 10.6511 %\n"
     ]
    },
    {
     "name": "stderr",
     "output_type": "stream",
     "text": [
      "100%|█████████████████████████████████████████████████████████████████████████████████████████████████████████████████████████████████████████████████████████████████████| 23/23 [00:00<00:00, 445.85it/s]"
     ]
    },
    {
     "name": "stdout",
     "output_type": "stream",
     "text": [
      " loss = 0.1364\n"
     ]
    },
    {
     "name": "stderr",
     "output_type": "stream",
     "text": [
      "\n"
     ]
    },
    {
     "name": "stdout",
     "output_type": "stream",
     "text": [
      "Relative training error = 8.3956 %\n",
      "Relative test error = 10.5490 %\n"
     ]
    },
    {
     "name": "stderr",
     "output_type": "stream",
     "text": [
      "  0%|                                                                                                                                                                               | 0/23 [00:00<?, ?it/s]"
     ]
    },
    {
     "name": "stdout",
     "output_type": "stream",
     "text": [
      " loss = 0.0714\n"
     ]
    },
    {
     "name": "stderr",
     "output_type": "stream",
     "text": [
      "100%|█████████████████████████████████████████████████████████████████████████████████████████████████████████████████████████████████████████████████████████████████████| 23/23 [00:00<00:00, 286.16it/s]\n"
     ]
    },
    {
     "name": "stdout",
     "output_type": "stream",
     "text": [
      "Relative training error = 8.3282 %\n",
      "Relative test error = 10.0934 %\n"
     ]
    },
    {
     "name": "stderr",
     "output_type": "stream",
     "text": [
      "  0%|                                                                                                                                                                               | 0/23 [00:00<?, ?it/s]"
     ]
    },
    {
     "name": "stdout",
     "output_type": "stream",
     "text": [
      " loss = 0.1078\n"
     ]
    },
    {
     "name": "stderr",
     "output_type": "stream",
     "text": [
      "100%|█████████████████████████████████████████████████████████████████████████████████████████████████████████████████████████████████████████████████████████████████████| 23/23 [00:00<00:00, 428.59it/s]\n"
     ]
    },
    {
     "name": "stdout",
     "output_type": "stream",
     "text": [
      "Relative training error = 8.2504 %\n",
      "Relative test error = 9.8069 %\n"
     ]
    },
    {
     "name": "stderr",
     "output_type": "stream",
     "text": [
      "100%|█████████████████████████████████████████████████████████████████████████████████████████████████████████████████████████████████████████████████████████████████████| 23/23 [00:00<00:00, 446.55it/s]"
     ]
    },
    {
     "name": "stdout",
     "output_type": "stream",
     "text": [
      " loss = 0.0951\n",
      "Relative training error = 8.1785 %\n"
     ]
    },
    {
     "name": "stderr",
     "output_type": "stream",
     "text": [
      "\n"
     ]
    },
    {
     "name": "stdout",
     "output_type": "stream",
     "text": [
      "Relative test error = 9.7572 %\n"
     ]
    },
    {
     "name": "stderr",
     "output_type": "stream",
     "text": [
      "100%|█████████████████████████████████████████████████████████████████████████████████████████████████████████████████████████████████████████████████████████████████████| 23/23 [00:00<00:00, 428.75it/s]"
     ]
    },
    {
     "name": "stdout",
     "output_type": "stream",
     "text": [
      " loss = 0.1255\n"
     ]
    },
    {
     "name": "stderr",
     "output_type": "stream",
     "text": [
      "\n"
     ]
    },
    {
     "name": "stdout",
     "output_type": "stream",
     "text": [
      "Relative training error = 8.1926 %\n",
      "Relative test error = 9.7545 %\n"
     ]
    },
    {
     "name": "stderr",
     "output_type": "stream",
     "text": [
      "100%|█████████████████████████████████████████████████████████████████████████████████████████████████████████████████████████████████████████████████████████████████████| 23/23 [00:00<00:00, 389.25it/s]"
     ]
    },
    {
     "name": "stdout",
     "output_type": "stream",
     "text": [
      " loss = 0.1271\n"
     ]
    },
    {
     "name": "stderr",
     "output_type": "stream",
     "text": [
      "\n"
     ]
    },
    {
     "name": "stdout",
     "output_type": "stream",
     "text": [
      "Relative training error = 8.0947 %\n",
      "Relative test error = 9.8487 %\n"
     ]
    },
    {
     "name": "stderr",
     "output_type": "stream",
     "text": [
      "  0%|                                                                                                                                                                               | 0/23 [00:00<?, ?it/s]"
     ]
    },
    {
     "name": "stdout",
     "output_type": "stream",
     "text": [
      " loss = 0.0961\n"
     ]
    },
    {
     "name": "stderr",
     "output_type": "stream",
     "text": [
      "100%|█████████████████████████████████████████████████████████████████████████████████████████████████████████████████████████████████████████████████████████████████████| 23/23 [00:00<00:00, 433.98it/s]\n"
     ]
    },
    {
     "name": "stdout",
     "output_type": "stream",
     "text": [
      "Relative training error = 8.0992 %\n",
      "Relative test error = 9.6955 %\n",
      "Creating DAS_analysis object\n",
      "[-0.01079496 -0.00636261 -0.00472965  0.00829344 -0.03315033  0.01000517\n",
      " -0.03147244  0.01236407 -0.02684816  0.00736422 -0.01663265 -0.00670413\n",
      "  0.01756466 -0.01872044  0.02313004 -0.03355007  0.0332702  -0.02308934\n",
      " -0.04141354  0.01600002 -0.00833672  0.01130101  0.00841153  0.0035773\n",
      "  0.00450807  0.03616873  0.00554306  0.01251749 -0.00332135  0.01660203\n",
      "  0.00364524 -0.00423356 -0.01502233  0.00553334  0.00909886  0.03581746\n",
      " -0.01612826 -0.01689578 -0.00544872 -0.0257047  -0.0020281  -0.00491286\n",
      " -0.01851041 -0.00295021 -0.01707543  0.01278958 -0.03309115 -0.03378421\n",
      "  0.02105434 -0.024914    0.01355151  0.0347159   0.00949286 -0.01157946\n",
      " -0.02779381  0.01103345  0.05014661 -0.0388591   0.03466138 -0.03282935\n",
      "  0.01334391 -0.02446218  0.00617272  0.02966007 -0.0113076  -0.02121396\n",
      " -0.02654688 -0.02603522  0.00742446  0.0033779  -0.03955923 -0.02515224\n",
      " -0.00983606 -0.03146489 -0.02662707  0.00106644 -0.01827304 -0.01481842\n",
      "  0.00496895 -0.01752653  0.02289294  0.02491585 -0.05154504 -0.0153165\n",
      " -0.02955348 -0.01164796  0.00169125  0.00708391  0.00424188 -0.0170783\n",
      " -0.02926962  0.01683864 -0.03211833  0.04620026  0.02204849  0.03711775\n",
      " -0.02703611 -0.02134703 -0.01017228 -0.02460535 -0.00175839  0.00900341\n",
      "  0.0066653   0.02126546 -0.00704159 -0.02525979  0.04929931  0.03000105\n",
      "  0.00056224  0.02727065  0.00672098 -0.02266489 -0.03778072 -0.0143658\n",
      " -0.06977009 -0.00184082  0.03251847  0.00536228  0.00780703  0.00351171\n",
      " -0.001558    0.00453452  0.01956437  0.00755578 -0.00347596 -0.02544811\n",
      " -0.00691871  0.0184323  -0.00946686  0.01644332 -0.00717298 -0.00091536\n",
      " -0.00513515 -0.00200119 -0.00781267  0.03063803  0.00576488 -0.00229528\n",
      "  0.02318851  0.0245067  -0.02252075 -0.01338904  0.0351502  -0.00802465\n",
      " -0.02688461 -0.01285858 -0.04307223  0.01796226 -0.00352158 -0.02649279\n",
      " -0.02409055  0.01353839 -0.01250318  0.00313297  0.01588277  0.01109347\n",
      " -0.00357092  0.00296899  0.00483943 -0.03099188 -0.01898565  0.02774835\n",
      " -0.03559913 -0.0050307   0.0044001   0.13017571 -0.01762796]\n",
      "Parameters ordered from most to least important:\n",
      "[[141 149 165 150 151 153  17 142 137  15 113 109 154  41 107  27  73  95\n",
      "  138 163  85  39  10  57  36  53 110 164  28 117  93 108  21 115 112  18\n",
      "   99  94 155  75  83 152 129  87 120  54 139 105  40  97 161 166  68  46\n",
      "  159  48  84 123  35  47 136 100 147 162  26   6  16  82  31  96  86  29\n",
      "   42  49  52  79 111  24 146 135  63 114   2 133  23  62  13 134 101  78\n",
      "   19 143  90  22  88 118 145  33  69  72   5 156  37 131  56 130  70  30\n",
      "   81 106  74   9  14 121 127  64   4  44 103  80   3 158 116  38 140  20\n",
      "   51  59  89  32  12  66   0 124 126  98  61  58 104  55  67   7  76 122\n",
      "  132 157  65 102  25  77   1 128  43  11  71 144  60 148  50   8  92  45\n",
      "   34 125 160  91 119]]\n",
      "Creating DAS_Surrogate Object\n",
      "Creating Feature Engineering object\n",
      "Using  662/662 samples to train the ML model\n",
      "===============================\n",
      "Neural net parameters\n",
      "===============================\n",
      "Number of layers = 3\n",
      "Number of features = 167\n",
      "Loss function = squared\n",
      "Number of neurons per hidden layer = 20\n",
      "Number of output neurons = 1\n",
      "Activation = ['linear', 'linear', 'tanh', 'linear']\n",
      "This neural network has 228 weights.\n",
      "===============================\n",
      "===============================\n",
      "Training Deep Active Subspace Neural Network...\n"
     ]
    },
    {
     "name": "stderr",
     "output_type": "stream",
     "text": [
      "100%|█████████████████████████████████████████████████████████████████████████████████████████████████████████████████████████████████████████████████████████████████████| 23/23 [00:00<00:00, 574.94it/s]\n"
     ]
    },
    {
     "name": "stdout",
     "output_type": "stream",
     "text": [
      " loss = 1.3833\n",
      "Relative training error = 23.4026 %\n",
      "Relative test error = 22.6582 %\n"
     ]
    },
    {
     "name": "stderr",
     "output_type": "stream",
     "text": [
      "100%|█████████████████████████████████████████████████████████████████████████████████████████████████████████████████████████████████████████████████████████████████████| 23/23 [00:00<00:00, 471.80it/s]"
     ]
    },
    {
     "name": "stdout",
     "output_type": "stream",
     "text": [
      " loss = 0.9690\n",
      "Relative training error = 20.4174 %\n"
     ]
    },
    {
     "name": "stderr",
     "output_type": "stream",
     "text": [
      "\n"
     ]
    },
    {
     "name": "stdout",
     "output_type": "stream",
     "text": [
      "Relative test error = 21.5971 %\n"
     ]
    },
    {
     "name": "stderr",
     "output_type": "stream",
     "text": [
      "100%|█████████████████████████████████████████████████████████████████████████████████████████████████████████████████████████████████████████████████████████████████████| 23/23 [00:00<00:00, 473.49it/s]\n"
     ]
    },
    {
     "name": "stdout",
     "output_type": "stream",
     "text": [
      " loss = 0.6227\n",
      "Relative training error = 17.3913 %\n",
      "Relative test error = 19.0230 %\n"
     ]
    },
    {
     "name": "stderr",
     "output_type": "stream",
     "text": [
      "100%|█████████████████████████████████████████████████████████████████████████████████████████████████████████████████████████████████████████████████████████████████████| 23/23 [00:00<00:00, 465.14it/s]"
     ]
    },
    {
     "name": "stdout",
     "output_type": "stream",
     "text": [
      " loss = 0.4604\n"
     ]
    },
    {
     "name": "stderr",
     "output_type": "stream",
     "text": [
      "\n"
     ]
    },
    {
     "name": "stdout",
     "output_type": "stream",
     "text": [
      "Relative training error = 15.2126 %\n",
      "Relative test error = 16.7741 %\n"
     ]
    },
    {
     "name": "stderr",
     "output_type": "stream",
     "text": [
      "100%|█████████████████████████████████████████████████████████████████████████████████████████████████████████████████████████████████████████████████████████████████████| 23/23 [00:00<00:00, 419.80it/s]"
     ]
    },
    {
     "name": "stdout",
     "output_type": "stream",
     "text": [
      " loss = 0.5204\n"
     ]
    },
    {
     "name": "stderr",
     "output_type": "stream",
     "text": [
      "\n"
     ]
    },
    {
     "name": "stdout",
     "output_type": "stream",
     "text": [
      "Relative training error = 13.4572 %\n",
      "Relative test error = 14.5519 %\n"
     ]
    },
    {
     "name": "stderr",
     "output_type": "stream",
     "text": [
      "100%|█████████████████████████████████████████████████████████████████████████████████████████████████████████████████████████████████████████████████████████████████████| 23/23 [00:00<00:00, 486.85it/s]"
     ]
    },
    {
     "name": "stdout",
     "output_type": "stream",
     "text": [
      " loss = 0.1999\n"
     ]
    },
    {
     "name": "stderr",
     "output_type": "stream",
     "text": [
      "\n"
     ]
    },
    {
     "name": "stdout",
     "output_type": "stream",
     "text": [
      "Relative training error = 11.7488 %\n",
      "Relative test error = 12.7601 %\n"
     ]
    },
    {
     "name": "stderr",
     "output_type": "stream",
     "text": [
      "100%|█████████████████████████████████████████████████████████████████████████████████████████████████████████████████████████████████████████████████████████████████████| 23/23 [00:00<00:00, 443.17it/s]"
     ]
    },
    {
     "name": "stdout",
     "output_type": "stream",
     "text": [
      " loss = 0.1197\n",
      "Relative training error = 10.5752 %\n"
     ]
    },
    {
     "name": "stderr",
     "output_type": "stream",
     "text": [
      "\n"
     ]
    },
    {
     "name": "stdout",
     "output_type": "stream",
     "text": [
      "Relative test error = 12.0088 %\n"
     ]
    },
    {
     "name": "stderr",
     "output_type": "stream",
     "text": [
      "100%|█████████████████████████████████████████████████████████████████████████████████████████████████████████████████████████████████████████████████████████████████████| 23/23 [00:00<00:00, 429.03it/s]"
     ]
    },
    {
     "name": "stdout",
     "output_type": "stream",
     "text": [
      " loss = 0.0976\n"
     ]
    },
    {
     "name": "stderr",
     "output_type": "stream",
     "text": [
      "\n"
     ]
    },
    {
     "name": "stdout",
     "output_type": "stream",
     "text": [
      "Relative training error = 9.7779 %\n",
      "Relative test error = 10.8365 %\n"
     ]
    },
    {
     "name": "stderr",
     "output_type": "stream",
     "text": [
      "100%|█████████████████████████████████████████████████████████████████████████████████████████████████████████████████████████████████████████████████████████████████████| 23/23 [00:00<00:00, 437.27it/s]\n"
     ]
    },
    {
     "name": "stdout",
     "output_type": "stream",
     "text": [
      " loss = 0.1061\n",
      "Relative training error = 9.4066 %\n",
      "Relative test error = 10.5051 %\n"
     ]
    },
    {
     "name": "stderr",
     "output_type": "stream",
     "text": [
      "100%|█████████████████████████████████████████████████████████████████████████████████████████████████████████████████████████████████████████████████████████████████████| 23/23 [00:00<00:00, 349.00it/s]"
     ]
    },
    {
     "name": "stdout",
     "output_type": "stream",
     "text": [
      " loss = 0.2225\n"
     ]
    },
    {
     "name": "stderr",
     "output_type": "stream",
     "text": [
      "\n"
     ]
    },
    {
     "name": "stdout",
     "output_type": "stream",
     "text": [
      "Relative training error = 9.0469 %\n",
      "Relative test error = 10.3329 %\n"
     ]
    },
    {
     "name": "stderr",
     "output_type": "stream",
     "text": [
      "  0%|                                                                                                                                                                               | 0/23 [00:00<?, ?it/s]"
     ]
    },
    {
     "name": "stdout",
     "output_type": "stream",
     "text": [
      " loss = 0.1260\n"
     ]
    },
    {
     "name": "stderr",
     "output_type": "stream",
     "text": [
      "100%|█████████████████████████████████████████████████████████████████████████████████████████████████████████████████████████████████████████████████████████████████████| 23/23 [00:00<00:00, 403.60it/s]\n"
     ]
    },
    {
     "name": "stdout",
     "output_type": "stream",
     "text": [
      "Relative training error = 8.8707 %\n",
      "Relative test error = 10.1397 %\n"
     ]
    },
    {
     "name": "stderr",
     "output_type": "stream",
     "text": [
      "  0%|                                                                                                                                                                               | 0/23 [00:00<?, ?it/s]"
     ]
    },
    {
     "name": "stdout",
     "output_type": "stream",
     "text": [
      " loss = 0.1174\n"
     ]
    },
    {
     "name": "stderr",
     "output_type": "stream",
     "text": [
      "100%|█████████████████████████████████████████████████████████████████████████████████████████████████████████████████████████████████████████████████████████████████████| 23/23 [00:00<00:00, 297.58it/s]\n"
     ]
    },
    {
     "name": "stdout",
     "output_type": "stream",
     "text": [
      "Relative training error = 8.7557 %\n",
      "Relative test error = 10.0325 %\n"
     ]
    },
    {
     "name": "stderr",
     "output_type": "stream",
     "text": [
      "  0%|                                                                                                                                                                               | 0/23 [00:00<?, ?it/s]"
     ]
    },
    {
     "name": "stdout",
     "output_type": "stream",
     "text": [
      " loss = 0.1676\n"
     ]
    },
    {
     "name": "stderr",
     "output_type": "stream",
     "text": [
      "100%|█████████████████████████████████████████████████████████████████████████████████████████████████████████████████████████████████████████████████████████████████████| 23/23 [00:00<00:00, 538.78it/s]\n"
     ]
    },
    {
     "name": "stdout",
     "output_type": "stream",
     "text": [
      "Relative training error = 8.6286 %\n",
      "Relative test error = 9.8294 %\n"
     ]
    },
    {
     "name": "stderr",
     "output_type": "stream",
     "text": [
      "100%|█████████████████████████████████████████████████████████████████████████████████████████████████████████████████████████████████████████████████████████████████████| 23/23 [00:00<00:00, 548.21it/s]"
     ]
    },
    {
     "name": "stdout",
     "output_type": "stream",
     "text": [
      " loss = 0.1446\n",
      "Relative training error = 8.4853 %\n",
      "Relative test error = 10.0999 %\n"
     ]
    },
    {
     "name": "stderr",
     "output_type": "stream",
     "text": [
      "\n",
      "100%|█████████████████████████████████████████████████████████████████████████████████████████████████████████████████████████████████████████████████████████████████████| 23/23 [00:00<00:00, 465.14it/s]\n"
     ]
    },
    {
     "name": "stdout",
     "output_type": "stream",
     "text": [
      " loss = 0.1426\n",
      "Relative training error = 8.4335 %\n",
      "Relative test error = 9.8047 %\n"
     ]
    },
    {
     "name": "stderr",
     "output_type": "stream",
     "text": [
      "100%|█████████████████████████████████████████████████████████████████████████████████████████████████████████████████████████████████████████████████████████████████████| 23/23 [00:00<00:00, 442.72it/s]\n"
     ]
    },
    {
     "name": "stdout",
     "output_type": "stream",
     "text": [
      " loss = 0.0736\n",
      "Relative training error = 8.3519 %\n",
      "Relative test error = 9.7678 %\n"
     ]
    },
    {
     "name": "stderr",
     "output_type": "stream",
     "text": [
      "100%|█████████████████████████████████████████████████████████████████████████████████████████████████████████████████████████████████████████████████████████████████████| 23/23 [00:00<00:00, 403.17it/s]\n"
     ]
    },
    {
     "name": "stdout",
     "output_type": "stream",
     "text": [
      " loss = 0.1422\n",
      "Relative training error = 8.3831 %\n",
      "Relative test error = 9.8462 %\n"
     ]
    },
    {
     "name": "stderr",
     "output_type": "stream",
     "text": [
      "100%|█████████████████████████████████████████████████████████████████████████████████████████████████████████████████████████████████████████████████████████████████████| 23/23 [00:00<00:00, 385.15it/s]"
     ]
    },
    {
     "name": "stdout",
     "output_type": "stream",
     "text": [
      " loss = 0.1031\n"
     ]
    },
    {
     "name": "stderr",
     "output_type": "stream",
     "text": [
      "\n"
     ]
    },
    {
     "name": "stdout",
     "output_type": "stream",
     "text": [
      "Relative training error = 8.3503 %\n",
      "Relative test error = 9.6018 %\n"
     ]
    },
    {
     "name": "stderr",
     "output_type": "stream",
     "text": [
      "  0%|                                                                                                                                                                               | 0/23 [00:00<?, ?it/s]"
     ]
    },
    {
     "name": "stdout",
     "output_type": "stream",
     "text": [
      " loss = 0.0990\n"
     ]
    },
    {
     "name": "stderr",
     "output_type": "stream",
     "text": [
      "100%|█████████████████████████████████████████████████████████████████████████████████████████████████████████████████████████████████████████████████████████████████████| 23/23 [00:00<00:00, 390.64it/s]\n"
     ]
    },
    {
     "name": "stdout",
     "output_type": "stream",
     "text": [
      "Relative training error = 8.2874 %\n",
      "Relative test error = 9.8250 %\n"
     ]
    },
    {
     "name": "stderr",
     "output_type": "stream",
     "text": [
      "100%|█████████████████████████████████████████████████████████████████████████████████████████████████████████████████████████████████████████████████████████████████████| 23/23 [00:00<00:00, 419.17it/s]"
     ]
    },
    {
     "name": "stdout",
     "output_type": "stream",
     "text": [
      " loss = 0.1616\n"
     ]
    },
    {
     "name": "stderr",
     "output_type": "stream",
     "text": [
      "\n"
     ]
    },
    {
     "name": "stdout",
     "output_type": "stream",
     "text": [
      "Relative training error = 8.2952 %\n",
      "Relative test error = 9.6462 %\n"
     ]
    },
    {
     "name": "stderr",
     "output_type": "stream",
     "text": [
      "100%|█████████████████████████████████████████████████████████████████████████████████████████████████████████████████████████████████████████████████████████████████████| 23/23 [00:00<00:00, 443.38it/s]"
     ]
    },
    {
     "name": "stdout",
     "output_type": "stream",
     "text": [
      " loss = 0.1516\n"
     ]
    },
    {
     "name": "stderr",
     "output_type": "stream",
     "text": [
      "\n"
     ]
    },
    {
     "name": "stdout",
     "output_type": "stream",
     "text": [
      "Relative training error = 8.2790 %\n",
      "Relative test error = 9.9200 %\n"
     ]
    },
    {
     "name": "stderr",
     "output_type": "stream",
     "text": [
      "100%|█████████████████████████████████████████████████████████████████████████████████████████████████████████████████████████████████████████████████████████████████████| 23/23 [00:00<00:00, 546.36it/s]"
     ]
    },
    {
     "name": "stdout",
     "output_type": "stream",
     "text": [
      " loss = 0.0827\n"
     ]
    },
    {
     "name": "stderr",
     "output_type": "stream",
     "text": [
      "\n"
     ]
    },
    {
     "name": "stdout",
     "output_type": "stream",
     "text": [
      "Relative training error = 8.2864 %\n",
      "Relative test error = 9.4170 %\n"
     ]
    },
    {
     "name": "stderr",
     "output_type": "stream",
     "text": [
      "100%|█████████████████████████████████████████████████████████████████████████████████████████████████████████████████████████████████████████████████████████████████████| 23/23 [00:00<00:00, 441.70it/s]"
     ]
    },
    {
     "name": "stdout",
     "output_type": "stream",
     "text": [
      " loss = 0.0972\n"
     ]
    },
    {
     "name": "stderr",
     "output_type": "stream",
     "text": [
      "\n"
     ]
    },
    {
     "name": "stdout",
     "output_type": "stream",
     "text": [
      "Relative training error = 8.2277 %\n",
      "Relative test error = 9.3043 %\n"
     ]
    },
    {
     "name": "stderr",
     "output_type": "stream",
     "text": [
      "100%|█████████████████████████████████████████████████████████████████████████████████████████████████████████████████████████████████████████████████████████████████████| 23/23 [00:00<00:00, 456.53it/s]"
     ]
    },
    {
     "name": "stdout",
     "output_type": "stream",
     "text": [
      " loss = 0.1205\n"
     ]
    },
    {
     "name": "stderr",
     "output_type": "stream",
     "text": [
      "\n"
     ]
    },
    {
     "name": "stdout",
     "output_type": "stream",
     "text": [
      "Relative training error = 8.2091 %\n",
      "Relative test error = 9.4008 %\n"
     ]
    },
    {
     "name": "stderr",
     "output_type": "stream",
     "text": [
      "100%|█████████████████████████████████████████████████████████████████████████████████████████████████████████████████████████████████████████████████████████████████████| 23/23 [00:00<00:00, 460.12it/s]"
     ]
    },
    {
     "name": "stdout",
     "output_type": "stream",
     "text": [
      " loss = 0.1592\n"
     ]
    },
    {
     "name": "stderr",
     "output_type": "stream",
     "text": [
      "\n"
     ]
    },
    {
     "name": "stdout",
     "output_type": "stream",
     "text": [
      "Relative training error = 8.2470 %\n",
      "Relative test error = 9.6790 %\n"
     ]
    },
    {
     "name": "stderr",
     "output_type": "stream",
     "text": [
      "100%|█████████████████████████████████████████████████████████████████████████████████████████████████████████████████████████████████████████████████████████████████████| 23/23 [00:00<00:00, 496.36it/s]"
     ]
    },
    {
     "name": "stdout",
     "output_type": "stream",
     "text": [
      " loss = 0.1428\n"
     ]
    },
    {
     "name": "stderr",
     "output_type": "stream",
     "text": [
      "\n"
     ]
    },
    {
     "name": "stdout",
     "output_type": "stream",
     "text": [
      "Relative training error = 8.1489 %\n",
      "Relative test error = 9.5214 %\n"
     ]
    },
    {
     "name": "stderr",
     "output_type": "stream",
     "text": [
      "100%|█████████████████████████████████████████████████████████████████████████████████████████████████████████████████████████████████████████████████████████████████████| 23/23 [00:00<00:00, 560.84it/s]"
     ]
    },
    {
     "name": "stdout",
     "output_type": "stream",
     "text": [
      " loss = 0.1423\n"
     ]
    },
    {
     "name": "stderr",
     "output_type": "stream",
     "text": [
      "\n"
     ]
    },
    {
     "name": "stdout",
     "output_type": "stream",
     "text": [
      "Relative training error = 8.1610 %\n",
      "Relative test error = 9.5822 %\n"
     ]
    },
    {
     "name": "stderr",
     "output_type": "stream",
     "text": [
      "100%|█████████████████████████████████████████████████████████████████████████████████████████████████████████████████████████████████████████████████████████████████████| 23/23 [00:00<00:00, 457.97it/s]"
     ]
    },
    {
     "name": "stdout",
     "output_type": "stream",
     "text": [
      " loss = 0.1336\n",
      "Relative training error = 8.1545 %\n",
      "Relative test error = 9.6320 %\n"
     ]
    },
    {
     "name": "stderr",
     "output_type": "stream",
     "text": [
      "\n",
      "100%|█████████████████████████████████████████████████████████████████████████████████████████████████████████████████████████████████████████████████████████████████████| 23/23 [00:00<00:00, 552.42it/s]"
     ]
    },
    {
     "name": "stdout",
     "output_type": "stream",
     "text": [
      " loss = 0.0979\n"
     ]
    },
    {
     "name": "stderr",
     "output_type": "stream",
     "text": [
      "\n"
     ]
    },
    {
     "name": "stdout",
     "output_type": "stream",
     "text": [
      "Relative training error = 8.1841 %\n",
      "Relative test error = 9.7513 %\n"
     ]
    },
    {
     "name": "stderr",
     "output_type": "stream",
     "text": [
      "100%|█████████████████████████████████████████████████████████████████████████████████████████████████████████████████████████████████████████████████████████████████████| 23/23 [00:00<00:00, 449.37it/s]\n"
     ]
    },
    {
     "name": "stdout",
     "output_type": "stream",
     "text": [
      " loss = 0.1027\n",
      "Relative training error = 8.1809 %\n",
      "Relative test error = 9.8664 %\n",
      "Creating DAS_analysis object\n",
      "[-0.01079496 -0.00636261 -0.00472965  0.00829344 -0.03315033  0.01000517\n",
      " -0.03147244  0.01236407 -0.02684816  0.00736422 -0.01663265 -0.00670413\n",
      "  0.01756466 -0.01872044  0.02313004 -0.03355007  0.0332702  -0.02308934\n",
      " -0.04141354  0.01600002 -0.00833672  0.01130101  0.00841153  0.0035773\n",
      "  0.00450807  0.03616873  0.00554306  0.01251749 -0.00332135  0.01660203\n",
      "  0.00364524 -0.00423356 -0.01502233  0.00553334  0.00909886  0.03581746\n",
      " -0.01612826 -0.01689578 -0.00544872 -0.0257047  -0.0020281  -0.00491286\n",
      " -0.01851041 -0.00295021 -0.01707543  0.01278958 -0.03309115 -0.03378421\n",
      "  0.02105434 -0.024914    0.01355151  0.0347159   0.00949286 -0.01157946\n",
      " -0.02779381  0.01103345  0.05014661 -0.0388591   0.03466138 -0.03282935\n",
      "  0.01334391 -0.02446218  0.00617272  0.02966007 -0.0113076  -0.02121396\n",
      " -0.02654688 -0.02603522  0.00742446  0.0033779  -0.03955923 -0.02515224\n",
      " -0.00983606 -0.03146489 -0.02662707  0.00106644 -0.01827304 -0.01481842\n",
      "  0.00496895 -0.01752653  0.02289294  0.02491585 -0.05154504 -0.0153165\n",
      " -0.02955348 -0.01164796  0.00169125  0.00708391  0.00424188 -0.0170783\n",
      " -0.02926962  0.01683864 -0.03211833  0.04620026  0.02204849  0.03711775\n",
      " -0.02703611 -0.02134703 -0.01017228 -0.02460535 -0.00175839  0.00900341\n",
      "  0.0066653   0.02126546 -0.00704159 -0.02525979  0.04929931  0.03000105\n",
      "  0.00056224  0.02727065  0.00672098 -0.02266489 -0.03778072 -0.0143658\n",
      " -0.06977009 -0.00184082  0.03251847  0.00536228  0.00780703  0.00351171\n",
      " -0.001558    0.00453452  0.01956437  0.00755578 -0.00347596 -0.02544811\n",
      " -0.00691871  0.0184323  -0.00946686  0.01644332 -0.00717298 -0.00091536\n",
      " -0.00513515 -0.00200119 -0.00781267  0.03063803  0.00576488 -0.00229528\n",
      "  0.02318851  0.0245067  -0.02252075 -0.01338904  0.0351502  -0.00802465\n",
      " -0.02688461 -0.01285858 -0.04307223  0.01796226 -0.00352158 -0.02649279\n",
      " -0.02409055  0.01353839 -0.01250318  0.00313297  0.01588277  0.01109347\n",
      " -0.00357092  0.00296899  0.00483943 -0.03099188 -0.01898565  0.02774835\n",
      " -0.03559913 -0.0050307   0.0044001   0.13017571 -0.01762796]\n",
      "Parameters ordered from most to least important:\n",
      "[[141 149 165 150 153 151  17 142 137  15 113 154 109  73  85  41  10 138\n",
      "  163 107  39  36  57  95  27  21 159  28 115  53  74  18  94 164  93 117\n",
      "   99 161  30 105  87 166  75 148 152 139 134 156 120  83 108 110 112 155\n",
      "   79  29 146 162   5  97  59  82  23 129  46  26  63  52 121 106  49  72\n",
      "  116 133  68  32  76 147   6 136  69 101 145  71  84  42  86  38  40  31\n",
      "   16   8  22  58 100  33 130  70  89 158 144  98  13 118  44 131  19  51\n",
      "   64  11  14 103  20 114  45   0  24  34 128 140   3 160 123  81  48 102\n",
      "  127  47  56  92 104  61 143 126  35   7 135  77  25  91  43 132  66  90\n",
      "    2   1 157   4 111  55 125  54  12  60   9 119  50  78  96 124  88  65\n",
      "   67  37  62 122  80]]\n",
      "Creating DAS_Surrogate Object\n",
      "Creating Feature Engineering object\n",
      "Using  662/662 samples to train the ML model\n",
      "===============================\n",
      "Neural net parameters\n",
      "===============================\n",
      "Number of layers = 3\n",
      "Number of features = 167\n",
      "Loss function = squared\n",
      "Number of neurons per hidden layer = 20\n",
      "Number of output neurons = 1\n",
      "Activation = ['linear', 'linear', 'tanh', 'linear']\n",
      "This neural network has 228 weights.\n",
      "===============================\n",
      "===============================\n",
      "Training Deep Active Subspace Neural Network...\n"
     ]
    },
    {
     "name": "stderr",
     "output_type": "stream",
     "text": [
      "100%|█████████████████████████████████████████████████████████████████████████████████████████████████████████████████████████████████████████████████████████████████████| 23/23 [00:00<00:00, 552.47it/s]\n"
     ]
    },
    {
     "name": "stdout",
     "output_type": "stream",
     "text": [
      " loss = 1.3647\n",
      "Relative training error = 23.7580 %\n",
      "Relative test error = 23.1665 %\n"
     ]
    },
    {
     "name": "stderr",
     "output_type": "stream",
     "text": [
      "                                                                                                                                                                                                           \r"
     ]
    },
    {
     "name": "stdout",
     "output_type": "stream",
     "text": [
      " loss = 0.7783\n"
     ]
    },
    {
     "name": "stderr",
     "output_type": "stream",
     "text": [
      "100%|█████████████████████████████████████████████████████████████████████████████████████████████████████████████████████████████████████████████████████████████████████| 23/23 [00:00<00:00, 449.97it/s]\n"
     ]
    },
    {
     "name": "stdout",
     "output_type": "stream",
     "text": [
      "Relative training error = 23.6356 %\n",
      "Relative test error = 23.5174 %\n"
     ]
    },
    {
     "name": "stderr",
     "output_type": "stream",
     "text": [
      "100%|█████████████████████████████████████████████████████████████████████████████████████████████████████████████████████████████████████████████████████████████████████| 23/23 [00:00<00:00, 341.06it/s]\n"
     ]
    },
    {
     "name": "stdout",
     "output_type": "stream",
     "text": [
      " loss = 1.3967\n",
      "Relative training error = 22.4856 %\n",
      "Relative test error = 23.3884 %\n"
     ]
    },
    {
     "name": "stderr",
     "output_type": "stream",
     "text": [
      "  0%|                                                                                                                                                                               | 0/23 [00:00<?, ?it/s]"
     ]
    },
    {
     "name": "stdout",
     "output_type": "stream",
     "text": [
      " loss = 0.7749\n"
     ]
    },
    {
     "name": "stderr",
     "output_type": "stream",
     "text": [
      "100%|█████████████████████████████████████████████████████████████████████████████████████████████████████████████████████████████████████████████████████████████████████| 23/23 [00:00<00:00, 503.60it/s]\n"
     ]
    },
    {
     "name": "stdout",
     "output_type": "stream",
     "text": [
      "Relative training error = 21.5696 %\n",
      "Relative test error = 23.1414 %\n"
     ]
    },
    {
     "name": "stderr",
     "output_type": "stream",
     "text": [
      "100%|█████████████████████████████████████████████████████████████████████████████████████████████████████████████████████████████████████████████████████████████████████| 23/23 [00:00<00:00, 467.79it/s]"
     ]
    },
    {
     "name": "stdout",
     "output_type": "stream",
     "text": [
      " loss = 0.6716\n"
     ]
    },
    {
     "name": "stderr",
     "output_type": "stream",
     "text": [
      "\n"
     ]
    },
    {
     "name": "stdout",
     "output_type": "stream",
     "text": [
      "Relative training error = 20.2412 %\n",
      "Relative test error = 22.6042 %\n"
     ]
    },
    {
     "name": "stderr",
     "output_type": "stream",
     "text": [
      "100%|█████████████████████████████████████████████████████████████████████████████████████████████████████████████████████████████████████████████████████████████████████| 23/23 [00:00<00:00, 470.07it/s]"
     ]
    },
    {
     "name": "stdout",
     "output_type": "stream",
     "text": [
      " loss = 0.6396\n"
     ]
    },
    {
     "name": "stderr",
     "output_type": "stream",
     "text": [
      "\n"
     ]
    },
    {
     "name": "stdout",
     "output_type": "stream",
     "text": [
      "Relative training error = 18.0118 %\n",
      "Relative test error = 21.5994 %\n"
     ]
    },
    {
     "name": "stderr",
     "output_type": "stream",
     "text": [
      "100%|█████████████████████████████████████████████████████████████████████████████████████████████████████████████████████████████████████████████████████████████████████| 23/23 [00:00<00:00, 459.23it/s]"
     ]
    },
    {
     "name": "stdout",
     "output_type": "stream",
     "text": [
      " loss = 0.6983\n"
     ]
    },
    {
     "name": "stderr",
     "output_type": "stream",
     "text": [
      "\n"
     ]
    },
    {
     "name": "stdout",
     "output_type": "stream",
     "text": [
      "Relative training error = 15.7203 %\n",
      "Relative test error = 19.5476 %\n"
     ]
    },
    {
     "name": "stderr",
     "output_type": "stream",
     "text": [
      "100%|█████████████████████████████████████████████████████████████████████████████████████████████████████████████████████████████████████████████████████████████████████| 23/23 [00:00<00:00, 539.52it/s]"
     ]
    },
    {
     "name": "stdout",
     "output_type": "stream",
     "text": [
      " loss = 0.7932\n"
     ]
    },
    {
     "name": "stderr",
     "output_type": "stream",
     "text": [
      "\n"
     ]
    },
    {
     "name": "stdout",
     "output_type": "stream",
     "text": [
      "Relative training error = 13.3973 %\n",
      "Relative test error = 16.4363 %\n"
     ]
    },
    {
     "name": "stderr",
     "output_type": "stream",
     "text": [
      "100%|█████████████████████████████████████████████████████████████████████████████████████████████████████████████████████████████████████████████████████████████████████| 23/23 [00:00<00:00, 540.16it/s]\n"
     ]
    },
    {
     "name": "stdout",
     "output_type": "stream",
     "text": [
      " loss = 0.2422\n",
      "Relative training error = 11.8043 %\n",
      "Relative test error = 14.0790 %\n"
     ]
    },
    {
     "name": "stderr",
     "output_type": "stream",
     "text": [
      "100%|█████████████████████████████████████████████████████████████████████████████████████████████████████████████████████████████████████████████████████████████████████| 23/23 [00:00<00:00, 465.49it/s]\n"
     ]
    },
    {
     "name": "stdout",
     "output_type": "stream",
     "text": [
      " loss = 0.2375\n",
      "Relative training error = 10.6200 %\n",
      "Relative test error = 12.3955 %\n"
     ]
    },
    {
     "name": "stderr",
     "output_type": "stream",
     "text": [
      "100%|█████████████████████████████████████████████████████████████████████████████████████████████████████████████████████████████████████████████████████████████████████| 23/23 [00:00<00:00, 498.86it/s]\n"
     ]
    },
    {
     "name": "stdout",
     "output_type": "stream",
     "text": [
      " loss = 0.1465\n",
      "Relative training error = 9.9183 %\n",
      "Relative test error = 10.9683 %\n"
     ]
    },
    {
     "name": "stderr",
     "output_type": "stream",
     "text": [
      "100%|█████████████████████████████████████████████████████████████████████████████████████████████████████████████████████████████████████████████████████████████████████| 23/23 [00:00<00:00, 486.31it/s]\n"
     ]
    },
    {
     "name": "stdout",
     "output_type": "stream",
     "text": [
      " loss = 0.0959\n",
      "Relative training error = 9.4122 %\n",
      "Relative test error = 10.3605 %\n"
     ]
    },
    {
     "name": "stderr",
     "output_type": "stream",
     "text": [
      "100%|█████████████████████████████████████████████████████████████████████████████████████████████████████████████████████████████████████████████████████████████████████| 23/23 [00:00<00:00, 472.19it/s]"
     ]
    },
    {
     "name": "stdout",
     "output_type": "stream",
     "text": [
      " loss = 0.0931\n"
     ]
    },
    {
     "name": "stderr",
     "output_type": "stream",
     "text": [
      "\n"
     ]
    },
    {
     "name": "stdout",
     "output_type": "stream",
     "text": [
      "Relative training error = 8.9797 %\n",
      "Relative test error = 10.0375 %\n"
     ]
    },
    {
     "name": "stderr",
     "output_type": "stream",
     "text": [
      "100%|█████████████████████████████████████████████████████████████████████████████████████████████████████████████████████████████████████████████████████████████████████| 23/23 [00:00<00:00, 455.48it/s]"
     ]
    },
    {
     "name": "stdout",
     "output_type": "stream",
     "text": [
      " loss = 0.1019\n"
     ]
    },
    {
     "name": "stderr",
     "output_type": "stream",
     "text": [
      "\n"
     ]
    },
    {
     "name": "stdout",
     "output_type": "stream",
     "text": [
      "Relative training error = 8.7141 %\n",
      "Relative test error = 9.8701 %\n"
     ]
    },
    {
     "name": "stderr",
     "output_type": "stream",
     "text": [
      "100%|█████████████████████████████████████████████████████████████████████████████████████████████████████████████████████████████████████████████████████████████████████| 23/23 [00:00<00:00, 465.32it/s]\n"
     ]
    },
    {
     "name": "stdout",
     "output_type": "stream",
     "text": [
      " loss = 0.0915\n",
      "Relative training error = 8.5471 %\n",
      "Relative test error = 9.4392 %\n"
     ]
    },
    {
     "name": "stderr",
     "output_type": "stream",
     "text": [
      "100%|█████████████████████████████████████████████████████████████████████████████████████████████████████████████████████████████████████████████████████████████████████| 23/23 [00:00<00:00, 563.08it/s]"
     ]
    },
    {
     "name": "stdout",
     "output_type": "stream",
     "text": [
      " loss = 0.1706\n"
     ]
    },
    {
     "name": "stderr",
     "output_type": "stream",
     "text": [
      "\n"
     ]
    },
    {
     "name": "stdout",
     "output_type": "stream",
     "text": [
      "Relative training error = 8.4494 %\n",
      "Relative test error = 9.2317 %\n"
     ]
    },
    {
     "name": "stderr",
     "output_type": "stream",
     "text": [
      "100%|█████████████████████████████████████████████████████████████████████████████████████████████████████████████████████████████████████████████████████████████████████| 23/23 [00:00<00:00, 500.54it/s]\n"
     ]
    },
    {
     "name": "stdout",
     "output_type": "stream",
     "text": [
      " loss = 0.0958\n",
      "Relative training error = 8.3393 %\n",
      "Relative test error = 9.4777 %\n"
     ]
    },
    {
     "name": "stderr",
     "output_type": "stream",
     "text": [
      "100%|█████████████████████████████████████████████████████████████████████████████████████████████████████████████████████████████████████████████████████████████████████| 23/23 [00:00<00:00, 476.00it/s]"
     ]
    },
    {
     "name": "stdout",
     "output_type": "stream",
     "text": [
      " loss = 0.0661\n"
     ]
    },
    {
     "name": "stderr",
     "output_type": "stream",
     "text": [
      "\n"
     ]
    },
    {
     "name": "stdout",
     "output_type": "stream",
     "text": [
      "Relative training error = 8.3213 %\n",
      "Relative test error = 9.4474 %\n"
     ]
    },
    {
     "name": "stderr",
     "output_type": "stream",
     "text": [
      "100%|█████████████████████████████████████████████████████████████████████████████████████████████████████████████████████████████████████████████████████████████████████| 23/23 [00:00<00:00, 468.36it/s]\n"
     ]
    },
    {
     "name": "stdout",
     "output_type": "stream",
     "text": [
      " loss = 0.1185\n",
      "Relative training error = 8.2728 %\n",
      "Relative test error = 9.5445 %\n"
     ]
    },
    {
     "name": "stderr",
     "output_type": "stream",
     "text": [
      "100%|█████████████████████████████████████████████████████████████████████████████████████████████████████████████████████████████████████████████████████████████████████| 23/23 [00:00<00:00, 526.52it/s]"
     ]
    },
    {
     "name": "stdout",
     "output_type": "stream",
     "text": [
      " loss = 0.1351\n"
     ]
    },
    {
     "name": "stderr",
     "output_type": "stream",
     "text": [
      "\n"
     ]
    },
    {
     "name": "stdout",
     "output_type": "stream",
     "text": [
      "Relative training error = 8.2051 %\n",
      "Relative test error = 9.4977 %\n",
      "Creating DAS_analysis object\n",
      "[-0.01079496 -0.00636261 -0.00472965  0.00829344 -0.03315033  0.01000517\n",
      " -0.03147244  0.01236407 -0.02684816  0.00736422 -0.01663265 -0.00670413\n",
      "  0.01756466 -0.01872044  0.02313004 -0.03355007  0.0332702  -0.02308934\n",
      " -0.04141354  0.01600002 -0.00833672  0.01130101  0.00841153  0.0035773\n",
      "  0.00450807  0.03616873  0.00554306  0.01251749 -0.00332135  0.01660203\n",
      "  0.00364524 -0.00423356 -0.01502233  0.00553334  0.00909886  0.03581746\n",
      " -0.01612826 -0.01689578 -0.00544872 -0.0257047  -0.0020281  -0.00491286\n",
      " -0.01851041 -0.00295021 -0.01707543  0.01278958 -0.03309115 -0.03378421\n",
      "  0.02105434 -0.024914    0.01355151  0.0347159   0.00949286 -0.01157946\n",
      " -0.02779381  0.01103345  0.05014661 -0.0388591   0.03466138 -0.03282935\n",
      "  0.01334391 -0.02446218  0.00617272  0.02966007 -0.0113076  -0.02121396\n",
      " -0.02654688 -0.02603522  0.00742446  0.0033779  -0.03955923 -0.02515224\n",
      " -0.00983606 -0.03146489 -0.02662707  0.00106644 -0.01827304 -0.01481842\n",
      "  0.00496895 -0.01752653  0.02289294  0.02491585 -0.05154504 -0.0153165\n",
      " -0.02955348 -0.01164796  0.00169125  0.00708391  0.00424188 -0.0170783\n",
      " -0.02926962  0.01683864 -0.03211833  0.04620026  0.02204849  0.03711775\n",
      " -0.02703611 -0.02134703 -0.01017228 -0.02460535 -0.00175839  0.00900341\n",
      "  0.0066653   0.02126546 -0.00704159 -0.02525979  0.04929931  0.03000105\n",
      "  0.00056224  0.02727065  0.00672098 -0.02266489 -0.03778072 -0.0143658\n",
      " -0.06977009 -0.00184082  0.03251847  0.00536228  0.00780703  0.00351171\n",
      " -0.001558    0.00453452  0.01956437  0.00755578 -0.00347596 -0.02544811\n",
      " -0.00691871  0.0184323  -0.00946686  0.01644332 -0.00717298 -0.00091536\n",
      " -0.00513515 -0.00200119 -0.00781267  0.03063803  0.00576488 -0.00229528\n",
      "  0.02318851  0.0245067  -0.02252075 -0.01338904  0.0351502  -0.00802465\n",
      " -0.02688461 -0.01285858 -0.04307223  0.01796226 -0.00352158 -0.02649279\n",
      " -0.02409055  0.01353839 -0.01250318  0.00313297  0.01588277  0.01109347\n",
      " -0.00357092  0.00296899  0.00483943 -0.03099188 -0.01898565  0.02774835\n",
      " -0.03559913 -0.0050307   0.0044001   0.13017571 -0.01762796]\n",
      "Parameters ordered from most to least important:\n",
      "[[141 149 153 165 150 151 142  17  15 137 113 109  73 107  95 154  39  27\n",
      "   36 138  10  41  57  85 163 140  75  53  21 115 117  93  68 164 106 166\n",
      "   29 130  97  99 155  49 156  83 161 159  55 112   2  72  26 152  23  47\n",
      "  100  56  30  87 136 108 123  60  59 110  40  42   6 158 105  24  46  65\n",
      "   74   9  71  66  44  94 133  52 162  33 129  51   5  48 160  96   1 139\n",
      "   18  82 120  13  69  28  61  22  77 127  45  38 145  25  16  64  11 103\n",
      "  131 143  90  34 132  78 118 126  89 101 148 114  80 102 147  88   7 157\n",
      "   92  19   8 144  67 122  20  81  91  79  37 146 116   3  50 121  54  86\n",
      "  125  32  98   0  12 128  58 124  63  62  84  43  14 111 134  31  76  70\n",
      "  104 135 119  35   4]]\n",
      "Creating DAS_Surrogate Object\n",
      "Creating Feature Engineering object\n",
      "Using  662/662 samples to train the ML model\n",
      "===============================\n",
      "Neural net parameters\n",
      "===============================\n",
      "Number of layers = 3\n",
      "Number of features = 167\n",
      "Loss function = squared\n",
      "Number of neurons per hidden layer = 20\n",
      "Number of output neurons = 1\n",
      "Activation = ['linear', 'linear', 'tanh', 'linear']\n",
      "This neural network has 228 weights.\n",
      "===============================\n",
      "===============================\n",
      "Training Deep Active Subspace Neural Network...\n"
     ]
    },
    {
     "name": "stderr",
     "output_type": "stream",
     "text": [
      "100%|█████████████████████████████████████████████████████████████████████████████████████████████████████████████████████████████████████████████████████████████████████| 23/23 [00:00<00:00, 399.36it/s]"
     ]
    },
    {
     "name": "stdout",
     "output_type": "stream",
     "text": [
      " loss = 0.7000\n"
     ]
    },
    {
     "name": "stderr",
     "output_type": "stream",
     "text": [
      "\n"
     ]
    },
    {
     "name": "stdout",
     "output_type": "stream",
     "text": [
      "Relative training error = 21.7385 %\n",
      "Relative test error = 20.8819 %\n"
     ]
    },
    {
     "name": "stderr",
     "output_type": "stream",
     "text": [
      "100%|█████████████████████████████████████████████████████████████████████████████████████████████████████████████████████████████████████████████████████████████████████| 23/23 [00:00<00:00, 422.63it/s]"
     ]
    },
    {
     "name": "stdout",
     "output_type": "stream",
     "text": [
      " loss = 0.8246\n"
     ]
    },
    {
     "name": "stderr",
     "output_type": "stream",
     "text": [
      "\n"
     ]
    },
    {
     "name": "stdout",
     "output_type": "stream",
     "text": [
      "Relative training error = 16.3972 %\n",
      "Relative test error = 17.7290 %\n"
     ]
    },
    {
     "name": "stderr",
     "output_type": "stream",
     "text": [
      "100%|█████████████████████████████████████████████████████████████████████████████████████████████████████████████████████████████████████████████████████████████████████| 23/23 [00:00<00:00, 408.44it/s]"
     ]
    },
    {
     "name": "stdout",
     "output_type": "stream",
     "text": [
      " loss = 0.2658\n"
     ]
    },
    {
     "name": "stderr",
     "output_type": "stream",
     "text": [
      "\n"
     ]
    },
    {
     "name": "stdout",
     "output_type": "stream",
     "text": [
      "Relative training error = 12.8487 %\n",
      "Relative test error = 16.1456 %\n"
     ]
    },
    {
     "name": "stderr",
     "output_type": "stream",
     "text": [
      "100%|█████████████████████████████████████████████████████████████████████████████████████████████████████████████████████████████████████████████████████████████████████| 23/23 [00:00<00:00, 515.54it/s]"
     ]
    },
    {
     "name": "stdout",
     "output_type": "stream",
     "text": [
      " loss = 0.4916\n"
     ]
    },
    {
     "name": "stderr",
     "output_type": "stream",
     "text": [
      "\n"
     ]
    },
    {
     "name": "stdout",
     "output_type": "stream",
     "text": [
      "Relative training error = 11.0924 %\n",
      "Relative test error = 13.4988 %\n"
     ]
    },
    {
     "name": "stderr",
     "output_type": "stream",
     "text": [
      "100%|█████████████████████████████████████████████████████████████████████████████████████████████████████████████████████████████████████████████████████████████████████| 23/23 [00:00<00:00, 453.01it/s]"
     ]
    },
    {
     "name": "stdout",
     "output_type": "stream",
     "text": [
      " loss = 0.2523\n"
     ]
    },
    {
     "name": "stderr",
     "output_type": "stream",
     "text": [
      "\n"
     ]
    },
    {
     "name": "stdout",
     "output_type": "stream",
     "text": [
      "Relative training error = 9.9437 %\n",
      "Relative test error = 11.6894 %\n"
     ]
    },
    {
     "name": "stderr",
     "output_type": "stream",
     "text": [
      "100%|█████████████████████████████████████████████████████████████████████████████████████████████████████████████████████████████████████████████████████████████████████| 23/23 [00:00<00:00, 464.06it/s]"
     ]
    },
    {
     "name": "stdout",
     "output_type": "stream",
     "text": [
      " loss = 0.2430\n"
     ]
    },
    {
     "name": "stderr",
     "output_type": "stream",
     "text": [
      "\n"
     ]
    },
    {
     "name": "stdout",
     "output_type": "stream",
     "text": [
      "Relative training error = 9.3011 %\n",
      "Relative test error = 10.8384 %\n"
     ]
    },
    {
     "name": "stderr",
     "output_type": "stream",
     "text": [
      "100%|█████████████████████████████████████████████████████████████████████████████████████████████████████████████████████████████████████████████████████████████████████| 23/23 [00:00<00:00, 580.75it/s]"
     ]
    },
    {
     "name": "stdout",
     "output_type": "stream",
     "text": [
      " loss = 0.1631\n"
     ]
    },
    {
     "name": "stderr",
     "output_type": "stream",
     "text": [
      "\n"
     ]
    },
    {
     "name": "stdout",
     "output_type": "stream",
     "text": [
      "Relative training error = 9.0238 %\n",
      "Relative test error = 10.5952 %\n"
     ]
    },
    {
     "name": "stderr",
     "output_type": "stream",
     "text": [
      "100%|█████████████████████████████████████████████████████████████████████████████████████████████████████████████████████████████████████████████████████████████████████| 23/23 [00:00<00:00, 461.60it/s]"
     ]
    },
    {
     "name": "stdout",
     "output_type": "stream",
     "text": [
      " loss = 0.1073\n"
     ]
    },
    {
     "name": "stderr",
     "output_type": "stream",
     "text": [
      "\n"
     ]
    },
    {
     "name": "stdout",
     "output_type": "stream",
     "text": [
      "Relative training error = 8.8717 %\n",
      "Relative test error = 10.3950 %\n"
     ]
    },
    {
     "name": "stderr",
     "output_type": "stream",
     "text": [
      "100%|█████████████████████████████████████████████████████████████████████████████████████████████████████████████████████████████████████████████████████████████████████| 23/23 [00:00<00:00, 454.58it/s]"
     ]
    },
    {
     "name": "stdout",
     "output_type": "stream",
     "text": [
      " loss = 0.1696\n"
     ]
    },
    {
     "name": "stderr",
     "output_type": "stream",
     "text": [
      "\n"
     ]
    },
    {
     "name": "stdout",
     "output_type": "stream",
     "text": [
      "Relative training error = 8.6479 %\n",
      "Relative test error = 10.4025 %\n"
     ]
    },
    {
     "name": "stderr",
     "output_type": "stream",
     "text": [
      "100%|█████████████████████████████████████████████████████████████████████████████████████████████████████████████████████████████████████████████████████████████████████| 23/23 [00:00<00:00, 547.45it/s]"
     ]
    },
    {
     "name": "stdout",
     "output_type": "stream",
     "text": [
      " loss = 0.1216\n"
     ]
    },
    {
     "name": "stderr",
     "output_type": "stream",
     "text": [
      "\n"
     ]
    },
    {
     "name": "stdout",
     "output_type": "stream",
     "text": [
      "Relative training error = 8.4547 %\n",
      "Relative test error = 10.2375 %\n"
     ]
    },
    {
     "name": "stderr",
     "output_type": "stream",
     "text": [
      "100%|█████████████████████████████████████████████████████████████████████████████████████████████████████████████████████████████████████████████████████████████████████| 23/23 [00:00<00:00, 545.26it/s]"
     ]
    },
    {
     "name": "stdout",
     "output_type": "stream",
     "text": [
      " loss = 0.1748\n",
      "Relative training error = 8.5151 %\n"
     ]
    },
    {
     "name": "stderr",
     "output_type": "stream",
     "text": [
      "\n"
     ]
    },
    {
     "name": "stdout",
     "output_type": "stream",
     "text": [
      "Relative test error = 10.2398 %\n"
     ]
    },
    {
     "name": "stderr",
     "output_type": "stream",
     "text": [
      "100%|█████████████████████████████████████████████████████████████████████████████████████████████████████████████████████████████████████████████████████████████████████| 23/23 [00:00<00:00, 464.33it/s]"
     ]
    },
    {
     "name": "stdout",
     "output_type": "stream",
     "text": [
      " loss = 0.1110\n"
     ]
    },
    {
     "name": "stderr",
     "output_type": "stream",
     "text": [
      "\n"
     ]
    },
    {
     "name": "stdout",
     "output_type": "stream",
     "text": [
      "Relative training error = 8.4428 %\n",
      "Relative test error = 9.7941 %\n"
     ]
    },
    {
     "name": "stderr",
     "output_type": "stream",
     "text": [
      "100%|█████████████████████████████████████████████████████████████████████████████████████████████████████████████████████████████████████████████████████████████████████| 23/23 [00:00<00:00, 453.56it/s]\n"
     ]
    },
    {
     "name": "stdout",
     "output_type": "stream",
     "text": [
      " loss = 0.1333\n",
      "Relative training error = 8.3851 %\n",
      "Relative test error = 9.3155 %\n"
     ]
    },
    {
     "name": "stderr",
     "output_type": "stream",
     "text": [
      "100%|█████████████████████████████████████████████████████████████████████████████████████████████████████████████████████████████████████████████████████████████████████| 23/23 [00:00<00:00, 466.63it/s]"
     ]
    },
    {
     "name": "stdout",
     "output_type": "stream",
     "text": [
      " loss = 0.0659\n"
     ]
    },
    {
     "name": "stderr",
     "output_type": "stream",
     "text": [
      "\n"
     ]
    },
    {
     "name": "stdout",
     "output_type": "stream",
     "text": [
      "Relative training error = 8.3468 %\n",
      "Relative test error = 9.2385 %\n"
     ]
    },
    {
     "name": "stderr",
     "output_type": "stream",
     "text": [
      "100%|█████████████████████████████████████████████████████████████████████████████████████████████████████████████████████████████████████████████████████████████████████| 23/23 [00:00<00:00, 486.71it/s]\n"
     ]
    },
    {
     "name": "stdout",
     "output_type": "stream",
     "text": [
      " loss = 0.1452\n",
      "Relative training error = 8.3426 %\n",
      "Relative test error = 9.6565 %\n"
     ]
    },
    {
     "name": "stderr",
     "output_type": "stream",
     "text": [
      "100%|█████████████████████████████████████████████████████████████████████████████████████████████████████████████████████████████████████████████████████████████████████| 23/23 [00:00<00:00, 421.37it/s]"
     ]
    },
    {
     "name": "stdout",
     "output_type": "stream",
     "text": [
      " loss = 0.1790\n"
     ]
    },
    {
     "name": "stderr",
     "output_type": "stream",
     "text": [
      "\n"
     ]
    },
    {
     "name": "stdout",
     "output_type": "stream",
     "text": [
      "Relative training error = 8.2702 %\n",
      "Relative test error = 9.6888 %\n"
     ]
    },
    {
     "name": "stderr",
     "output_type": "stream",
     "text": [
      "100%|█████████████████████████████████████████████████████████████████████████████████████████████████████████████████████████████████████████████████████████████████████| 23/23 [00:00<00:00, 392.07it/s]"
     ]
    },
    {
     "name": "stdout",
     "output_type": "stream",
     "text": [
      " loss = 0.1040\n"
     ]
    },
    {
     "name": "stderr",
     "output_type": "stream",
     "text": [
      "\n"
     ]
    },
    {
     "name": "stdout",
     "output_type": "stream",
     "text": [
      "Relative training error = 8.2306 %\n",
      "Relative test error = 9.6511 %\n",
      "Creating DAS_analysis object\n",
      "[-0.01079496 -0.00636261 -0.00472965  0.00829344 -0.03315033  0.01000517\n",
      " -0.03147244  0.01236407 -0.02684816  0.00736422 -0.01663265 -0.00670413\n",
      "  0.01756466 -0.01872044  0.02313004 -0.03355007  0.0332702  -0.02308934\n",
      " -0.04141354  0.01600002 -0.00833672  0.01130101  0.00841153  0.0035773\n",
      "  0.00450807  0.03616873  0.00554306  0.01251749 -0.00332135  0.01660203\n",
      "  0.00364524 -0.00423356 -0.01502233  0.00553334  0.00909886  0.03581746\n",
      " -0.01612826 -0.01689578 -0.00544872 -0.0257047  -0.0020281  -0.00491286\n",
      " -0.01851041 -0.00295021 -0.01707543  0.01278958 -0.03309115 -0.03378421\n",
      "  0.02105434 -0.024914    0.01355151  0.0347159   0.00949286 -0.01157946\n",
      " -0.02779381  0.01103345  0.05014661 -0.0388591   0.03466138 -0.03282935\n",
      "  0.01334391 -0.02446218  0.00617272  0.02966007 -0.0113076  -0.02121396\n",
      " -0.02654688 -0.02603522  0.00742446  0.0033779  -0.03955923 -0.02515224\n",
      " -0.00983606 -0.03146489 -0.02662707  0.00106644 -0.01827304 -0.01481842\n",
      "  0.00496895 -0.01752653  0.02289294  0.02491585 -0.05154504 -0.0153165\n",
      " -0.02955348 -0.01164796  0.00169125  0.00708391  0.00424188 -0.0170783\n",
      " -0.02926962  0.01683864 -0.03211833  0.04620026  0.02204849  0.03711775\n",
      " -0.02703611 -0.02134703 -0.01017228 -0.02460535 -0.00175839  0.00900341\n",
      "  0.0066653   0.02126546 -0.00704159 -0.02525979  0.04929931  0.03000105\n",
      "  0.00056224  0.02727065  0.00672098 -0.02266489 -0.03778072 -0.0143658\n",
      " -0.06977009 -0.00184082  0.03251847  0.00536228  0.00780703  0.00351171\n",
      " -0.001558    0.00453452  0.01956437  0.00755578 -0.00347596 -0.02544811\n",
      " -0.00691871  0.0184323  -0.00946686  0.01644332 -0.00717298 -0.00091536\n",
      " -0.00513515 -0.00200119 -0.00781267  0.03063803  0.00576488 -0.00229528\n",
      "  0.02318851  0.0245067  -0.02252075 -0.01338904  0.0351502  -0.00802465\n",
      " -0.02688461 -0.01285858 -0.04307223  0.01796226 -0.00352158 -0.02649279\n",
      " -0.02409055  0.01353839 -0.01250318  0.00313297  0.01588277  0.01109347\n",
      " -0.00357092  0.00296899  0.00483943 -0.03099188 -0.01898565  0.02774835\n",
      " -0.03559913 -0.0050307   0.0044001   0.13017571 -0.01762796]\n",
      "Parameters ordered from most to least important:\n",
      "[[141 149 165 150 153 151 142  17 137  15 113  27 107 109  95 154 138  73\n",
      "   39  41 163  68  93 159  99 164  57  36  30 162  82 108  10  29  83  85\n",
      "   49 115 166  75 106  53  94  87 112  28 140 146  97   0 152  18 155 156\n",
      "   21  31  79 105 161 117  48  12 147  38  78  42  33  47  74  11 120 144\n",
      "  130   2  40 145 100  22  64 124  23  66  56  98 110  52 127 123 158  70\n",
      "   50  54 143 148  92  16  26  63  20  60  44 139  19  71  72  91 133  25\n",
      "   61  80 132 111   6  69  59 129  46 134  55  62 114   7  51  84 102 136\n",
      "    1  14 104   3  81 118 126  65  45 125 101 103  34   8 131 121   9 135\n",
      "  128  13  43 116 157 122   4  96  89  86  35  67  76 119  32  77 160  24\n",
      "   58  88   5  37  90]]\n",
      "Creating DAS_Surrogate Object\n",
      "Creating Feature Engineering object\n",
      "Using  662/662 samples to train the ML model\n",
      "===============================\n",
      "Neural net parameters\n",
      "===============================\n",
      "Number of layers = 3\n",
      "Number of features = 167\n",
      "Loss function = squared\n",
      "Number of neurons per hidden layer = 20\n",
      "Number of output neurons = 1\n",
      "Activation = ['linear', 'linear', 'tanh', 'linear']\n",
      "This neural network has 228 weights.\n",
      "===============================\n",
      "===============================\n",
      "Training Deep Active Subspace Neural Network...\n"
     ]
    },
    {
     "name": "stderr",
     "output_type": "stream",
     "text": [
      "100%|█████████████████████████████████████████████████████████████████████████████████████████████████████████████████████████████████████████████████████████████████████| 23/23 [00:00<00:00, 485.13it/s]"
     ]
    },
    {
     "name": "stdout",
     "output_type": "stream",
     "text": [
      " loss = 1.5258\n",
      "Relative training error = 24.0047 %\n",
      "Relative test error = 23.0660 %\n"
     ]
    },
    {
     "name": "stderr",
     "output_type": "stream",
     "text": [
      "\n",
      "100%|█████████████████████████████████████████████████████████████████████████████████████████████████████████████████████████████████████████████████████████████████████| 23/23 [00:00<00:00, 575.75it/s]"
     ]
    },
    {
     "name": "stdout",
     "output_type": "stream",
     "text": [
      " loss = 0.7945\n",
      "Relative training error = 23.2482 %\n",
      "Relative test error = 22.9329 %\n"
     ]
    },
    {
     "name": "stderr",
     "output_type": "stream",
     "text": [
      "\n",
      "100%|█████████████████████████████████████████████████████████████████████████████████████████████████████████████████████████████████████████████████████████████████████| 23/23 [00:00<00:00, 459.27it/s]\n"
     ]
    },
    {
     "name": "stdout",
     "output_type": "stream",
     "text": [
      " loss = 1.0357\n",
      "Relative training error = 22.8289 %\n",
      "Relative test error = 22.7895 %\n"
     ]
    },
    {
     "name": "stderr",
     "output_type": "stream",
     "text": [
      "100%|█████████████████████████████████████████████████████████████████████████████████████████████████████████████████████████████████████████████████████████████████████| 23/23 [00:00<00:00, 477.27it/s]\n"
     ]
    },
    {
     "name": "stdout",
     "output_type": "stream",
     "text": [
      " loss = 0.9711\n",
      "Relative training error = 22.5341 %\n",
      "Relative test error = 22.9058 %\n"
     ]
    },
    {
     "name": "stderr",
     "output_type": "stream",
     "text": [
      "100%|█████████████████████████████████████████████████████████████████████████████████████████████████████████████████████████████████████████████████████████████████████| 23/23 [00:00<00:00, 386.84it/s]\n"
     ]
    },
    {
     "name": "stdout",
     "output_type": "stream",
     "text": [
      " loss = 0.9290\n",
      "Relative training error = 22.2485 %\n",
      "Relative test error = 23.1179 %\n"
     ]
    },
    {
     "name": "stderr",
     "output_type": "stream",
     "text": [
      "100%|█████████████████████████████████████████████████████████████████████████████████████████████████████████████████████████████████████████████████████████████████████| 23/23 [00:00<00:00, 466.23it/s]"
     ]
    },
    {
     "name": "stdout",
     "output_type": "stream",
     "text": [
      " loss = 1.1020\n"
     ]
    },
    {
     "name": "stderr",
     "output_type": "stream",
     "text": [
      "\n"
     ]
    },
    {
     "name": "stdout",
     "output_type": "stream",
     "text": [
      "Relative training error = 22.0217 %\n",
      "Relative test error = 23.0660 %\n"
     ]
    },
    {
     "name": "stderr",
     "output_type": "stream",
     "text": [
      "100%|█████████████████████████████████████████████████████████████████████████████████████████████████████████████████████████████████████████████████████████████████████| 23/23 [00:00<00:00, 412.89it/s]"
     ]
    },
    {
     "name": "stdout",
     "output_type": "stream",
     "text": [
      " loss = 0.7656\n"
     ]
    },
    {
     "name": "stderr",
     "output_type": "stream",
     "text": [
      "\n"
     ]
    },
    {
     "name": "stdout",
     "output_type": "stream",
     "text": [
      "Relative training error = 21.6827 %\n",
      "Relative test error = 23.0386 %\n",
      "Creating DAS_analysis object\n",
      "[-0.01079496 -0.00636261 -0.00472965  0.00829344 -0.03315033  0.01000517\n",
      " -0.03147244  0.01236407 -0.02684816  0.00736422 -0.01663265 -0.00670413\n",
      "  0.01756466 -0.01872044  0.02313004 -0.03355007  0.0332702  -0.02308934\n",
      " -0.04141354  0.01600002 -0.00833672  0.01130101  0.00841153  0.0035773\n",
      "  0.00450807  0.03616873  0.00554306  0.01251749 -0.00332135  0.01660203\n",
      "  0.00364524 -0.00423356 -0.01502233  0.00553334  0.00909886  0.03581746\n",
      " -0.01612826 -0.01689578 -0.00544872 -0.0257047  -0.0020281  -0.00491286\n",
      " -0.01851041 -0.00295021 -0.01707543  0.01278958 -0.03309115 -0.03378421\n",
      "  0.02105434 -0.024914    0.01355151  0.0347159   0.00949286 -0.01157946\n",
      " -0.02779381  0.01103345  0.05014661 -0.0388591   0.03466138 -0.03282935\n",
      "  0.01334391 -0.02446218  0.00617272  0.02966007 -0.0113076  -0.02121396\n",
      " -0.02654688 -0.02603522  0.00742446  0.0033779  -0.03955923 -0.02515224\n",
      " -0.00983606 -0.03146489 -0.02662707  0.00106644 -0.01827304 -0.01481842\n",
      "  0.00496895 -0.01752653  0.02289294  0.02491585 -0.05154504 -0.0153165\n",
      " -0.02955348 -0.01164796  0.00169125  0.00708391  0.00424188 -0.0170783\n",
      " -0.02926962  0.01683864 -0.03211833  0.04620026  0.02204849  0.03711775\n",
      " -0.02703611 -0.02134703 -0.01017228 -0.02460535 -0.00175839  0.00900341\n",
      "  0.0066653   0.02126546 -0.00704159 -0.02525979  0.04929931  0.03000105\n",
      "  0.00056224  0.02727065  0.00672098 -0.02266489 -0.03778072 -0.0143658\n",
      " -0.06977009 -0.00184082  0.03251847  0.00536228  0.00780703  0.00351171\n",
      " -0.001558    0.00453452  0.01956437  0.00755578 -0.00347596 -0.02544811\n",
      " -0.00691871  0.0184323  -0.00946686  0.01644332 -0.00717298 -0.00091536\n",
      " -0.00513515 -0.00200119 -0.00781267  0.03063803  0.00576488 -0.00229528\n",
      "  0.02318851  0.0245067  -0.02252075 -0.01338904  0.0351502  -0.00802465\n",
      " -0.02688461 -0.01285858 -0.04307223  0.01796226 -0.00352158 -0.02649279\n",
      " -0.02409055  0.01353839 -0.01250318  0.00313297  0.01588277  0.01109347\n",
      " -0.00357092  0.00296899  0.00483943 -0.03099188 -0.01898565  0.02774835\n",
      " -0.03559913 -0.0050307   0.0044001   0.13017571 -0.01762796]\n",
      "Parameters ordered from most to least important:\n",
      "[[137  56  88 148   0  91  20   1 129  59 115 143 139 153  55  61  41   2\n",
      "  130 117  64 151 107  24  69 123  90 165 159 141  74 145  48  94  81  13\n",
      "  128 166  54  36 126  79  68 109  65  93 111 134 155  22  62  10 110 101\n",
      "  132  26 116  97  40   5  76  98 103  42  38  75   9  17 104 154  15 121\n",
      "   50  72  45 133  44   8  71 112 138  39 135  89 144 125  29 158  52 157\n",
      "   60  80  23  30 113  19 106 131  14 136 102 114  63  16 150  92  58 119\n",
      "   86  43  77  82 156  18 160  37  25  21  27 146  66 140   7  35 122  31\n",
      "  127  83  32  12 161 149  34   3 147 108  95  85 142  99  73 118 124   6\n",
      "   49 164  84  28  33  67 105  47 152   4  96  57  46  51  78  53 163 162\n",
      "   87  11 100 120  70]]\n",
      "Creating DAS_Surrogate Object\n",
      "Creating Feature Engineering object\n",
      "Using  662/662 samples to train the ML model\n",
      "===============================\n",
      "Neural net parameters\n",
      "===============================\n",
      "Number of layers = 3\n",
      "Number of features = 167\n",
      "Loss function = squared\n",
      "Number of neurons per hidden layer = 20\n",
      "Number of output neurons = 1\n",
      "Activation = ['linear', 'linear', 'tanh', 'linear']\n",
      "This neural network has 228 weights.\n",
      "===============================\n",
      "===============================\n",
      "Training Deep Active Subspace Neural Network...\n"
     ]
    },
    {
     "name": "stderr",
     "output_type": "stream",
     "text": [
      "100%|█████████████████████████████████████████████████████████████████████████████████████████████████████████████████████████████████████████████████████████████████████| 23/23 [00:00<00:00, 435.55it/s]"
     ]
    },
    {
     "name": "stdout",
     "output_type": "stream",
     "text": [
      " loss = 0.6556\n",
      "Relative training error = 21.5802 %\n",
      "Relative test error = 22.0884 %\n"
     ]
    },
    {
     "name": "stderr",
     "output_type": "stream",
     "text": [
      "\n",
      "100%|█████████████████████████████████████████████████████████████████████████████████████████████████████████████████████████████████████████████████████████████████████| 23/23 [00:00<00:00, 437.90it/s]"
     ]
    },
    {
     "name": "stdout",
     "output_type": "stream",
     "text": [
      " loss = 0.9160\n"
     ]
    },
    {
     "name": "stderr",
     "output_type": "stream",
     "text": [
      "\n"
     ]
    },
    {
     "name": "stdout",
     "output_type": "stream",
     "text": [
      "Relative training error = 18.7482 %\n",
      "Relative test error = 20.6445 %\n"
     ]
    },
    {
     "name": "stderr",
     "output_type": "stream",
     "text": [
      "100%|█████████████████████████████████████████████████████████████████████████████████████████████████████████████████████████████████████████████████████████████████████| 23/23 [00:00<00:00, 467.70it/s]\n"
     ]
    },
    {
     "name": "stdout",
     "output_type": "stream",
     "text": [
      " loss = 0.6445\n",
      "Relative training error = 15.4687 %\n",
      "Relative test error = 18.9467 %\n"
     ]
    },
    {
     "name": "stderr",
     "output_type": "stream",
     "text": [
      "100%|█████████████████████████████████████████████████████████████████████████████████████████████████████████████████████████████████████████████████████████████████████| 23/23 [00:00<00:00, 430.19it/s]"
     ]
    },
    {
     "name": "stdout",
     "output_type": "stream",
     "text": [
      " loss = 0.3390\n"
     ]
    },
    {
     "name": "stderr",
     "output_type": "stream",
     "text": [
      "\n"
     ]
    },
    {
     "name": "stdout",
     "output_type": "stream",
     "text": [
      "Relative training error = 13.0105 %\n",
      "Relative test error = 16.2594 %\n"
     ]
    },
    {
     "name": "stderr",
     "output_type": "stream",
     "text": [
      "100%|█████████████████████████████████████████████████████████████████████████████████████████████████████████████████████████████████████████████████████████████████████| 23/23 [00:00<00:00, 419.36it/s]"
     ]
    },
    {
     "name": "stdout",
     "output_type": "stream",
     "text": [
      " loss = 0.3199\n"
     ]
    },
    {
     "name": "stderr",
     "output_type": "stream",
     "text": [
      "\n"
     ]
    },
    {
     "name": "stdout",
     "output_type": "stream",
     "text": [
      "Relative training error = 11.3822 %\n",
      "Relative test error = 13.9712 %\n"
     ]
    },
    {
     "name": "stderr",
     "output_type": "stream",
     "text": [
      "100%|█████████████████████████████████████████████████████████████████████████████████████████████████████████████████████████████████████████████████████████████████████| 23/23 [00:00<00:00, 422.75it/s]"
     ]
    },
    {
     "name": "stdout",
     "output_type": "stream",
     "text": [
      " loss = 0.2988\n"
     ]
    },
    {
     "name": "stderr",
     "output_type": "stream",
     "text": [
      "\n"
     ]
    },
    {
     "name": "stdout",
     "output_type": "stream",
     "text": [
      "Relative training error = 10.1724 %\n",
      "Relative test error = 12.2760 %\n"
     ]
    },
    {
     "name": "stderr",
     "output_type": "stream",
     "text": [
      "100%|█████████████████████████████████████████████████████████████████████████████████████████████████████████████████████████████████████████████████████████████████████| 23/23 [00:00<00:00, 423.42it/s]"
     ]
    },
    {
     "name": "stdout",
     "output_type": "stream",
     "text": [
      " loss = 0.0810\n"
     ]
    },
    {
     "name": "stderr",
     "output_type": "stream",
     "text": [
      "\n"
     ]
    },
    {
     "name": "stdout",
     "output_type": "stream",
     "text": [
      "Relative training error = 9.5110 %\n",
      "Relative test error = 10.8805 %\n"
     ]
    },
    {
     "name": "stderr",
     "output_type": "stream",
     "text": [
      "100%|█████████████████████████████████████████████████████████████████████████████████████████████████████████████████████████████████████████████████████████████████████| 23/23 [00:00<00:00, 432.79it/s]"
     ]
    },
    {
     "name": "stdout",
     "output_type": "stream",
     "text": [
      " loss = 0.2137\n"
     ]
    },
    {
     "name": "stderr",
     "output_type": "stream",
     "text": [
      "\n"
     ]
    },
    {
     "name": "stdout",
     "output_type": "stream",
     "text": [
      "Relative training error = 9.0371 %\n",
      "Relative test error = 10.6663 %\n"
     ]
    },
    {
     "name": "stderr",
     "output_type": "stream",
     "text": [
      "100%|█████████████████████████████████████████████████████████████████████████████████████████████████████████████████████████████████████████████████████████████████████| 23/23 [00:00<00:00, 481.47it/s]"
     ]
    },
    {
     "name": "stdout",
     "output_type": "stream",
     "text": [
      " loss = 0.1917\n"
     ]
    },
    {
     "name": "stderr",
     "output_type": "stream",
     "text": [
      "\n"
     ]
    },
    {
     "name": "stdout",
     "output_type": "stream",
     "text": [
      "Relative training error = 8.6680 %\n",
      "Relative test error = 10.0557 %\n"
     ]
    },
    {
     "name": "stderr",
     "output_type": "stream",
     "text": [
      "100%|█████████████████████████████████████████████████████████████████████████████████████████████████████████████████████████████████████████████████████████████████████| 23/23 [00:00<00:00, 492.39it/s]"
     ]
    },
    {
     "name": "stdout",
     "output_type": "stream",
     "text": [
      " loss = 0.1421\n"
     ]
    },
    {
     "name": "stderr",
     "output_type": "stream",
     "text": [
      "\n"
     ]
    },
    {
     "name": "stdout",
     "output_type": "stream",
     "text": [
      "Relative training error = 8.4457 %\n",
      "Relative test error = 9.8750 %\n"
     ]
    },
    {
     "name": "stderr",
     "output_type": "stream",
     "text": [
      "100%|█████████████████████████████████████████████████████████████████████████████████████████████████████████████████████████████████████████████████████████████████████| 23/23 [00:00<00:00, 450.95it/s]"
     ]
    },
    {
     "name": "stdout",
     "output_type": "stream",
     "text": [
      " loss = 0.0678\n"
     ]
    },
    {
     "name": "stderr",
     "output_type": "stream",
     "text": [
      "\n"
     ]
    },
    {
     "name": "stdout",
     "output_type": "stream",
     "text": [
      "Relative training error = 8.3372 %\n",
      "Relative test error = 9.6665 %\n"
     ]
    },
    {
     "name": "stderr",
     "output_type": "stream",
     "text": [
      "100%|█████████████████████████████████████████████████████████████████████████████████████████████████████████████████████████████████████████████████████████████████████| 23/23 [00:00<00:00, 459.72it/s]"
     ]
    },
    {
     "name": "stdout",
     "output_type": "stream",
     "text": [
      " loss = 0.1129\n"
     ]
    },
    {
     "name": "stderr",
     "output_type": "stream",
     "text": [
      "\n"
     ]
    },
    {
     "name": "stdout",
     "output_type": "stream",
     "text": [
      "Relative training error = 8.2862 %\n",
      "Relative test error = 9.8761 %\n"
     ]
    },
    {
     "name": "stderr",
     "output_type": "stream",
     "text": [
      "100%|█████████████████████████████████████████████████████████████████████████████████████████████████████████████████████████████████████████████████████████████████████| 23/23 [00:00<00:00, 493.49it/s]"
     ]
    },
    {
     "name": "stdout",
     "output_type": "stream",
     "text": [
      " loss = 0.1445\n"
     ]
    },
    {
     "name": "stderr",
     "output_type": "stream",
     "text": [
      "\n"
     ]
    },
    {
     "name": "stdout",
     "output_type": "stream",
     "text": [
      "Relative training error = 8.1723 %\n",
      "Relative test error = 9.9245 %\n"
     ]
    },
    {
     "name": "stderr",
     "output_type": "stream",
     "text": [
      "100%|█████████████████████████████████████████████████████████████████████████████████████████████████████████████████████████████████████████████████████████████████████| 23/23 [00:00<00:00, 465.52it/s]\n"
     ]
    },
    {
     "name": "stdout",
     "output_type": "stream",
     "text": [
      " loss = 0.1484\n",
      "Relative training error = 8.1645 %\n",
      "Relative test error = 9.8916 %\n"
     ]
    },
    {
     "name": "stderr",
     "output_type": "stream",
     "text": [
      "100%|█████████████████████████████████████████████████████████████████████████████████████████████████████████████████████████████████████████████████████████████████████| 23/23 [00:00<00:00, 602.87it/s]"
     ]
    },
    {
     "name": "stdout",
     "output_type": "stream",
     "text": [
      " loss = 0.1227\n",
      "Relative training error = 8.1784 %\n",
      "Relative test error = 10.0148 %\n"
     ]
    },
    {
     "name": "stderr",
     "output_type": "stream",
     "text": [
      "\n"
     ]
    },
    {
     "name": "stdout",
     "output_type": "stream",
     "text": [
      "Creating DAS_analysis object\n",
      "[-0.01079496 -0.00636261 -0.00472965  0.00829344 -0.03315033  0.01000517\n",
      " -0.03147244  0.01236407 -0.02684816  0.00736422 -0.01663265 -0.00670413\n",
      "  0.01756466 -0.01872044  0.02313004 -0.03355007  0.0332702  -0.02308934\n",
      " -0.04141354  0.01600002 -0.00833672  0.01130101  0.00841153  0.0035773\n",
      "  0.00450807  0.03616873  0.00554306  0.01251749 -0.00332135  0.01660203\n",
      "  0.00364524 -0.00423356 -0.01502233  0.00553334  0.00909886  0.03581746\n",
      " -0.01612826 -0.01689578 -0.00544872 -0.0257047  -0.0020281  -0.00491286\n",
      " -0.01851041 -0.00295021 -0.01707543  0.01278958 -0.03309115 -0.03378421\n",
      "  0.02105434 -0.024914    0.01355151  0.0347159   0.00949286 -0.01157946\n",
      " -0.02779381  0.01103345  0.05014661 -0.0388591   0.03466138 -0.03282935\n",
      "  0.01334391 -0.02446218  0.00617272  0.02966007 -0.0113076  -0.02121396\n",
      " -0.02654688 -0.02603522  0.00742446  0.0033779  -0.03955923 -0.02515224\n",
      " -0.00983606 -0.03146489 -0.02662707  0.00106644 -0.01827304 -0.01481842\n",
      "  0.00496895 -0.01752653  0.02289294  0.02491585 -0.05154504 -0.0153165\n",
      " -0.02955348 -0.01164796  0.00169125  0.00708391  0.00424188 -0.0170783\n",
      " -0.02926962  0.01683864 -0.03211833  0.04620026  0.02204849  0.03711775\n",
      " -0.02703611 -0.02134703 -0.01017228 -0.02460535 -0.00175839  0.00900341\n",
      "  0.0066653   0.02126546 -0.00704159 -0.02525979  0.04929931  0.03000105\n",
      "  0.00056224  0.02727065  0.00672098 -0.02266489 -0.03778072 -0.0143658\n",
      " -0.06977009 -0.00184082  0.03251847  0.00536228  0.00780703  0.00351171\n",
      " -0.001558    0.00453452  0.01956437  0.00755578 -0.00347596 -0.02544811\n",
      " -0.00691871  0.0184323  -0.00946686  0.01644332 -0.00717298 -0.00091536\n",
      " -0.00513515 -0.00200119 -0.00781267  0.03063803  0.00576488 -0.00229528\n",
      "  0.02318851  0.0245067  -0.02252075 -0.01338904  0.0351502  -0.00802465\n",
      " -0.02688461 -0.01285858 -0.04307223  0.01796226 -0.00352158 -0.02649279\n",
      " -0.02409055  0.01353839 -0.01250318  0.00313297  0.01588277  0.01109347\n",
      " -0.00357092  0.00296899  0.00483943 -0.03099188 -0.01898565  0.02774835\n",
      " -0.03559913 -0.0050307   0.0044001   0.13017571 -0.01762796]\n",
      "Parameters ordered from most to least important:\n",
      "[[141 149 165 150 153 151 142  17 137  15 113 109  95 154  39  85  27  41\n",
      "  163  73 138  10  36 107 159  68 164 133 105 117  94  83 120 112  99 162\n",
      "   57  53 110  22  59  29  75  21 115  43  49  93 127 106  23  56  87 152\n",
      "  108  82  46 158 101   3  74  47 156 123  91  66  30 129 130  50  16  19\n",
      "   84  28   6  97  65 166  18 134 140 155 148 124 100 146   7  37  79  42\n",
      "   14 145  55  72 143  80  35 126  13  70  31  67  45  25  71  89  38  60\n",
      "   44   5  77  52 139 161  24   4 135 116 122 144  96  40   0  63  34   8\n",
      "  103  61  76 119 102 104  88 147 131 160 121 128 111 118  78   1  51 157\n",
      "    9  86  90  69  33  26  92   2 132 125  62  48 136 114  11  58  64  32\n",
      "   54  20  81  98  12]]\n",
      "Creating DAS_Surrogate Object\n",
      "Creating Feature Engineering object\n",
      "Using  662/662 samples to train the ML model\n",
      "===============================\n",
      "Neural net parameters\n",
      "===============================\n",
      "Number of layers = 3\n",
      "Number of features = 167\n",
      "Loss function = squared\n",
      "Number of neurons per hidden layer = 20\n",
      "Number of output neurons = 1\n",
      "Activation = ['linear', 'linear', 'tanh', 'linear']\n",
      "This neural network has 228 weights.\n",
      "===============================\n",
      "===============================\n",
      "Training Deep Active Subspace Neural Network...\n"
     ]
    },
    {
     "name": "stderr",
     "output_type": "stream",
     "text": [
      "100%|█████████████████████████████████████████████████████████████████████████████████████████████████████████████████████████████████████████████████████████████████████| 23/23 [00:00<00:00, 419.81it/s]"
     ]
    },
    {
     "name": "stdout",
     "output_type": "stream",
     "text": [
      " loss = 0.8720\n"
     ]
    },
    {
     "name": "stderr",
     "output_type": "stream",
     "text": [
      "\n"
     ]
    },
    {
     "name": "stdout",
     "output_type": "stream",
     "text": [
      "Relative training error = 23.6301 %\n",
      "Relative test error = 23.2050 %\n"
     ]
    },
    {
     "name": "stderr",
     "output_type": "stream",
     "text": [
      "100%|█████████████████████████████████████████████████████████████████████████████████████████████████████████████████████████████████████████████████████████████████████| 23/23 [00:00<00:00, 468.74it/s]\n"
     ]
    },
    {
     "name": "stdout",
     "output_type": "stream",
     "text": [
      " loss = 1.1329\n",
      "Relative training error = 22.6605 %\n",
      "Relative test error = 23.2148 %\n"
     ]
    },
    {
     "name": "stderr",
     "output_type": "stream",
     "text": [
      "100%|█████████████████████████████████████████████████████████████████████████████████████████████████████████████████████████████████████████████████████████████████████| 23/23 [00:00<00:00, 401.33it/s]"
     ]
    },
    {
     "name": "stdout",
     "output_type": "stream",
     "text": [
      " loss = 0.9508\n"
     ]
    },
    {
     "name": "stderr",
     "output_type": "stream",
     "text": [
      "\n"
     ]
    },
    {
     "name": "stdout",
     "output_type": "stream",
     "text": [
      "Relative training error = 21.4799 %\n",
      "Relative test error = 22.8125 %\n"
     ]
    },
    {
     "name": "stderr",
     "output_type": "stream",
     "text": [
      "  0%|                                                                                                                                                                               | 0/23 [00:00<?, ?it/s]"
     ]
    },
    {
     "name": "stdout",
     "output_type": "stream",
     "text": [
      " loss = 0.8104\n"
     ]
    },
    {
     "name": "stderr",
     "output_type": "stream",
     "text": [
      "100%|█████████████████████████████████████████████████████████████████████████████████████████████████████████████████████████████████████████████████████████████████████| 23/23 [00:00<00:00, 306.02it/s]\n"
     ]
    },
    {
     "name": "stdout",
     "output_type": "stream",
     "text": [
      "Relative training error = 20.0274 %\n",
      "Relative test error = 21.9738 %\n"
     ]
    },
    {
     "name": "stderr",
     "output_type": "stream",
     "text": [
      "  0%|                                                                                                                                                                               | 0/23 [00:00<?, ?it/s]"
     ]
    },
    {
     "name": "stdout",
     "output_type": "stream",
     "text": [
      " loss = 1.1093\n"
     ]
    },
    {
     "name": "stderr",
     "output_type": "stream",
     "text": [
      "100%|█████████████████████████████████████████████████████████████████████████████████████████████████████████████████████████████████████████████████████████████████████| 23/23 [00:00<00:00, 439.80it/s]\n"
     ]
    },
    {
     "name": "stdout",
     "output_type": "stream",
     "text": [
      "Relative training error = 17.9642 %\n",
      "Relative test error = 20.4651 %\n"
     ]
    },
    {
     "name": "stderr",
     "output_type": "stream",
     "text": [
      "100%|█████████████████████████████████████████████████████████████████████████████████████████████████████████████████████████████████████████████████████████████████████| 23/23 [00:00<00:00, 458.18it/s]"
     ]
    },
    {
     "name": "stdout",
     "output_type": "stream",
     "text": [
      " loss = 0.5720\n"
     ]
    },
    {
     "name": "stderr",
     "output_type": "stream",
     "text": [
      "\n"
     ]
    },
    {
     "name": "stdout",
     "output_type": "stream",
     "text": [
      "Relative training error = 15.4375 %\n",
      "Relative test error = 19.2580 %\n"
     ]
    },
    {
     "name": "stderr",
     "output_type": "stream",
     "text": [
      "100%|█████████████████████████████████████████████████████████████████████████████████████████████████████████████████████████████████████████████████████████████████████| 23/23 [00:00<00:00, 474.05it/s]"
     ]
    },
    {
     "name": "stdout",
     "output_type": "stream",
     "text": [
      " loss = 0.3556\n"
     ]
    },
    {
     "name": "stderr",
     "output_type": "stream",
     "text": [
      "\n"
     ]
    },
    {
     "name": "stdout",
     "output_type": "stream",
     "text": [
      "Relative training error = 13.4151 %\n",
      "Relative test error = 16.7619 %\n"
     ]
    },
    {
     "name": "stderr",
     "output_type": "stream",
     "text": [
      "100%|█████████████████████████████████████████████████████████████████████████████████████████████████████████████████████████████████████████████████████████████████████| 23/23 [00:00<00:00, 475.70it/s]"
     ]
    },
    {
     "name": "stdout",
     "output_type": "stream",
     "text": [
      " loss = 0.2823\n"
     ]
    },
    {
     "name": "stderr",
     "output_type": "stream",
     "text": [
      "\n"
     ]
    },
    {
     "name": "stdout",
     "output_type": "stream",
     "text": [
      "Relative training error = 11.7276 %\n",
      "Relative test error = 14.9274 %\n"
     ]
    },
    {
     "name": "stderr",
     "output_type": "stream",
     "text": [
      "100%|█████████████████████████████████████████████████████████████████████████████████████████████████████████████████████████████████████████████████████████████████████| 23/23 [00:00<00:00, 488.81it/s]"
     ]
    },
    {
     "name": "stdout",
     "output_type": "stream",
     "text": [
      " loss = 0.1974\n",
      "Relative training error = 10.5961 %\n"
     ]
    },
    {
     "name": "stderr",
     "output_type": "stream",
     "text": [
      "\n"
     ]
    },
    {
     "name": "stdout",
     "output_type": "stream",
     "text": [
      "Relative test error = 13.6376 %\n"
     ]
    },
    {
     "name": "stderr",
     "output_type": "stream",
     "text": [
      "100%|█████████████████████████████████████████████████████████████████████████████████████████████████████████████████████████████████████████████████████████████████████| 23/23 [00:00<00:00, 564.39it/s]"
     ]
    },
    {
     "name": "stdout",
     "output_type": "stream",
     "text": [
      " loss = 0.1175\n",
      "Relative training error = 9.7281 %\n"
     ]
    },
    {
     "name": "stderr",
     "output_type": "stream",
     "text": [
      "\n"
     ]
    },
    {
     "name": "stdout",
     "output_type": "stream",
     "text": [
      "Relative test error = 12.0265 %\n"
     ]
    },
    {
     "name": "stderr",
     "output_type": "stream",
     "text": [
      "100%|█████████████████████████████████████████████████████████████████████████████████████████████████████████████████████████████████████████████████████████████████████| 23/23 [00:00<00:00, 453.57it/s]"
     ]
    },
    {
     "name": "stdout",
     "output_type": "stream",
     "text": [
      " loss = 0.1499\n"
     ]
    },
    {
     "name": "stderr",
     "output_type": "stream",
     "text": [
      "\n"
     ]
    },
    {
     "name": "stdout",
     "output_type": "stream",
     "text": [
      "Relative training error = 9.1728 %\n",
      "Relative test error = 11.2287 %\n"
     ]
    },
    {
     "name": "stderr",
     "output_type": "stream",
     "text": [
      "100%|█████████████████████████████████████████████████████████████████████████████████████████████████████████████████████████████████████████████████████████████████████| 23/23 [00:00<00:00, 457.83it/s]\n"
     ]
    },
    {
     "name": "stdout",
     "output_type": "stream",
     "text": [
      " loss = 0.1872\n",
      "Relative training error = 8.7594 %\n",
      "Relative test error = 10.7197 %\n"
     ]
    },
    {
     "name": "stderr",
     "output_type": "stream",
     "text": [
      "100%|█████████████████████████████████████████████████████████████████████████████████████████████████████████████████████████████████████████████████████████████████████| 23/23 [00:00<00:00, 466.24it/s]"
     ]
    },
    {
     "name": "stdout",
     "output_type": "stream",
     "text": [
      " loss = 0.1620\n"
     ]
    },
    {
     "name": "stderr",
     "output_type": "stream",
     "text": [
      "\n"
     ]
    },
    {
     "name": "stdout",
     "output_type": "stream",
     "text": [
      "Relative training error = 8.5080 %\n",
      "Relative test error = 10.6395 %\n"
     ]
    },
    {
     "name": "stderr",
     "output_type": "stream",
     "text": [
      "100%|█████████████████████████████████████████████████████████████████████████████████████████████████████████████████████████████████████████████████████████████████████| 23/23 [00:00<00:00, 540.13it/s]"
     ]
    },
    {
     "name": "stdout",
     "output_type": "stream",
     "text": [
      " loss = 0.1023\n"
     ]
    },
    {
     "name": "stderr",
     "output_type": "stream",
     "text": [
      "\n"
     ]
    },
    {
     "name": "stdout",
     "output_type": "stream",
     "text": [
      "Relative training error = 8.3564 %\n",
      "Relative test error = 10.2302 %\n"
     ]
    },
    {
     "name": "stderr",
     "output_type": "stream",
     "text": [
      "100%|█████████████████████████████████████████████████████████████████████████████████████████████████████████████████████████████████████████████████████████████████████| 23/23 [00:00<00:00, 459.26it/s]"
     ]
    },
    {
     "name": "stdout",
     "output_type": "stream",
     "text": [
      " loss = 0.1341\n"
     ]
    },
    {
     "name": "stderr",
     "output_type": "stream",
     "text": [
      "\n"
     ]
    },
    {
     "name": "stdout",
     "output_type": "stream",
     "text": [
      "Relative training error = 8.2563 %\n",
      "Relative test error = 10.1543 %\n"
     ]
    },
    {
     "name": "stderr",
     "output_type": "stream",
     "text": [
      "100%|█████████████████████████████████████████████████████████████████████████████████████████████████████████████████████████████████████████████████████████████████████| 23/23 [00:00<00:00, 466.63it/s]"
     ]
    },
    {
     "name": "stdout",
     "output_type": "stream",
     "text": [
      " loss = 0.1018\n"
     ]
    },
    {
     "name": "stderr",
     "output_type": "stream",
     "text": [
      "\n"
     ]
    },
    {
     "name": "stdout",
     "output_type": "stream",
     "text": [
      "Relative training error = 8.1721 %\n",
      "Relative test error = 10.0472 %\n"
     ]
    },
    {
     "name": "stderr",
     "output_type": "stream",
     "text": [
      "100%|█████████████████████████████████████████████████████████████████████████████████████████████████████████████████████████████████████████████████████████████████████| 23/23 [00:00<00:00, 467.60it/s]"
     ]
    },
    {
     "name": "stdout",
     "output_type": "stream",
     "text": [
      " loss = 0.0671\n"
     ]
    },
    {
     "name": "stderr",
     "output_type": "stream",
     "text": [
      "\n"
     ]
    },
    {
     "name": "stdout",
     "output_type": "stream",
     "text": [
      "Relative training error = 8.1984 %\n",
      "Relative test error = 9.9428 %\n"
     ]
    },
    {
     "name": "stderr",
     "output_type": "stream",
     "text": [
      "100%|█████████████████████████████████████████████████████████████████████████████████████████████████████████████████████████████████████████████████████████████████████| 23/23 [00:00<00:00, 541.52it/s]"
     ]
    },
    {
     "name": "stdout",
     "output_type": "stream",
     "text": [
      " loss = 0.0883\n"
     ]
    },
    {
     "name": "stderr",
     "output_type": "stream",
     "text": [
      "\n"
     ]
    },
    {
     "name": "stdout",
     "output_type": "stream",
     "text": [
      "Relative training error = 8.1037 %\n",
      "Relative test error = 10.0315 %\n"
     ]
    },
    {
     "name": "stderr",
     "output_type": "stream",
     "text": [
      "100%|█████████████████████████████████████████████████████████████████████████████████████████████████████████████████████████████████████████████████████████████████████| 23/23 [00:00<00:00, 546.59it/s]"
     ]
    },
    {
     "name": "stdout",
     "output_type": "stream",
     "text": [
      " loss = 0.1292\n",
      "Relative training error = 8.0694 %\n",
      "Relative test error = 9.7048 %"
     ]
    },
    {
     "name": "stderr",
     "output_type": "stream",
     "text": [
      "\n"
     ]
    },
    {
     "name": "stdout",
     "output_type": "stream",
     "text": [
      "\n"
     ]
    },
    {
     "name": "stderr",
     "output_type": "stream",
     "text": [
      "100%|█████████████████████████████████████████████████████████████████████████████████████████████████████████████████████████████████████████████████████████████████████| 23/23 [00:00<00:00, 541.83it/s]\n"
     ]
    },
    {
     "name": "stdout",
     "output_type": "stream",
     "text": [
      " loss = 0.1110\n",
      "Relative training error = 8.0125 %\n",
      "Relative test error = 9.7673 %\n"
     ]
    },
    {
     "name": "stderr",
     "output_type": "stream",
     "text": [
      "100%|█████████████████████████████████████████████████████████████████████████████████████████████████████████████████████████████████████████████████████████████████████| 23/23 [00:00<00:00, 430.87it/s]\n"
     ]
    },
    {
     "name": "stdout",
     "output_type": "stream",
     "text": [
      " loss = 0.1089\n",
      "Relative training error = 8.0123 %\n",
      "Relative test error = 9.8726 %\n"
     ]
    },
    {
     "name": "stderr",
     "output_type": "stream",
     "text": [
      "100%|█████████████████████████████████████████████████████████████████████████████████████████████████████████████████████████████████████████████████████████████████████| 23/23 [00:00<00:00, 432.51it/s]"
     ]
    },
    {
     "name": "stdout",
     "output_type": "stream",
     "text": [
      " loss = 0.0793\n"
     ]
    },
    {
     "name": "stderr",
     "output_type": "stream",
     "text": [
      "\n"
     ]
    },
    {
     "name": "stdout",
     "output_type": "stream",
     "text": [
      "Relative training error = 8.0920 %\n",
      "Relative test error = 9.6703 %\n"
     ]
    },
    {
     "name": "stderr",
     "output_type": "stream",
     "text": [
      "100%|█████████████████████████████████████████████████████████████████████████████████████████████████████████████████████████████████████████████████████████████████████| 23/23 [00:00<00:00, 435.02it/s]\n"
     ]
    },
    {
     "name": "stdout",
     "output_type": "stream",
     "text": [
      " loss = 0.1323\n",
      "Relative training error = 8.0193 %\n",
      "Relative test error = 9.5725 %\n"
     ]
    },
    {
     "name": "stderr",
     "output_type": "stream",
     "text": [
      "100%|█████████████████████████████████████████████████████████████████████████████████████████████████████████████████████████████████████████████████████████████████████| 23/23 [00:00<00:00, 409.18it/s]"
     ]
    },
    {
     "name": "stdout",
     "output_type": "stream",
     "text": [
      " loss = 0.1167\n"
     ]
    },
    {
     "name": "stderr",
     "output_type": "stream",
     "text": [
      "\n"
     ]
    },
    {
     "name": "stdout",
     "output_type": "stream",
     "text": [
      "Relative training error = 7.9712 %\n",
      "Relative test error = 9.5469 %\n"
     ]
    },
    {
     "name": "stderr",
     "output_type": "stream",
     "text": [
      "100%|█████████████████████████████████████████████████████████████████████████████████████████████████████████████████████████████████████████████████████████████████████| 23/23 [00:00<00:00, 474.07it/s]"
     ]
    },
    {
     "name": "stdout",
     "output_type": "stream",
     "text": [
      " loss = 0.0842\n",
      "Relative training error = 7.9864 %\n"
     ]
    },
    {
     "name": "stderr",
     "output_type": "stream",
     "text": [
      "\n"
     ]
    },
    {
     "name": "stdout",
     "output_type": "stream",
     "text": [
      "Relative test error = 9.6954 %\n"
     ]
    },
    {
     "name": "stderr",
     "output_type": "stream",
     "text": [
      "100%|█████████████████████████████████████████████████████████████████████████████████████████████████████████████████████████████████████████████████████████████████████| 23/23 [00:00<00:00, 597.88it/s]"
     ]
    },
    {
     "name": "stdout",
     "output_type": "stream",
     "text": [
      " loss = 0.0993\n",
      "Relative training error = 7.9555 %\n",
      "Relative test error = 9.7023 %\n"
     ]
    },
    {
     "name": "stderr",
     "output_type": "stream",
     "text": [
      "\n"
     ]
    },
    {
     "name": "stdout",
     "output_type": "stream",
     "text": [
      "Creating DAS_analysis object\n",
      "[-0.01079496 -0.00636261 -0.00472965  0.00829344 -0.03315033  0.01000517\n",
      " -0.03147244  0.01236407 -0.02684816  0.00736422 -0.01663265 -0.00670413\n",
      "  0.01756466 -0.01872044  0.02313004 -0.03355007  0.0332702  -0.02308934\n",
      " -0.04141354  0.01600002 -0.00833672  0.01130101  0.00841153  0.0035773\n",
      "  0.00450807  0.03616873  0.00554306  0.01251749 -0.00332135  0.01660203\n",
      "  0.00364524 -0.00423356 -0.01502233  0.00553334  0.00909886  0.03581746\n",
      " -0.01612826 -0.01689578 -0.00544872 -0.0257047  -0.0020281  -0.00491286\n",
      " -0.01851041 -0.00295021 -0.01707543  0.01278958 -0.03309115 -0.03378421\n",
      "  0.02105434 -0.024914    0.01355151  0.0347159   0.00949286 -0.01157946\n",
      " -0.02779381  0.01103345  0.05014661 -0.0388591   0.03466138 -0.03282935\n",
      "  0.01334391 -0.02446218  0.00617272  0.02966007 -0.0113076  -0.02121396\n",
      " -0.02654688 -0.02603522  0.00742446  0.0033779  -0.03955923 -0.02515224\n",
      " -0.00983606 -0.03146489 -0.02662707  0.00106644 -0.01827304 -0.01481842\n",
      "  0.00496895 -0.01752653  0.02289294  0.02491585 -0.05154504 -0.0153165\n",
      " -0.02955348 -0.01164796  0.00169125  0.00708391  0.00424188 -0.0170783\n",
      " -0.02926962  0.01683864 -0.03211833  0.04620026  0.02204849  0.03711775\n",
      " -0.02703611 -0.02134703 -0.01017228 -0.02460535 -0.00175839  0.00900341\n",
      "  0.0066653   0.02126546 -0.00704159 -0.02525979  0.04929931  0.03000105\n",
      "  0.00056224  0.02727065  0.00672098 -0.02266489 -0.03778072 -0.0143658\n",
      " -0.06977009 -0.00184082  0.03251847  0.00536228  0.00780703  0.00351171\n",
      " -0.001558    0.00453452  0.01956437  0.00755578 -0.00347596 -0.02544811\n",
      " -0.00691871  0.0184323  -0.00946686  0.01644332 -0.00717298 -0.00091536\n",
      " -0.00513515 -0.00200119 -0.00781267  0.03063803  0.00576488 -0.00229528\n",
      "  0.02318851  0.0245067  -0.02252075 -0.01338904  0.0351502  -0.00802465\n",
      " -0.02688461 -0.01285858 -0.04307223  0.01796226 -0.00352158 -0.02649279\n",
      " -0.02409055  0.01353839 -0.01250318  0.00313297  0.01588277  0.01109347\n",
      " -0.00357092  0.00296899  0.00483943 -0.03099188 -0.01898565  0.02774835\n",
      " -0.03559913 -0.0050307   0.0044001   0.13017571 -0.01762796]\n",
      "Parameters ordered from most to least important:\n",
      "[[141 149 165 150 153 151 142  17  15 137 113 109 138  95 154  39 163  27\n",
      "  107  73  36  85 159  94 164 105  53  10  29 115  21  41  68 127 152  99\n",
      "   56  93  30 166 146  59  57 155 112   2  84 110 120 123 117  13  19  83\n",
      "   87 145  47  75   1  26  72   5  49  40  42 106 130  97  54  79 136 139\n",
      "   23  92  63  55 129 140  22  12  33 161   3  61  77 100 131  35 108  78\n",
      "  121  58 118  18 104   0  48  28 143  74 144 156 162  86  76  46 114 134\n",
      "  158  24  82 116  20  52  89   9  71  51  81  16 101  91  64 111  38  96\n",
      "  133 126 102   4  44  14 157  80  32  66 125  45  43  70  90  34  65  31\n",
      "   98 147  60  11  88   6 122   7  69   8  25 119 135  67  50 124 103 160\n",
      "  148 128  62 132  37]]\n",
      "Creating DAS_Surrogate Object\n",
      "Creating Feature Engineering object\n",
      "Using  662/662 samples to train the ML model\n",
      "===============================\n",
      "Neural net parameters\n",
      "===============================\n",
      "Number of layers = 3\n",
      "Number of features = 167\n",
      "Loss function = squared\n",
      "Number of neurons per hidden layer = 20\n",
      "Number of output neurons = 1\n",
      "Activation = ['linear', 'linear', 'tanh', 'linear']\n",
      "This neural network has 228 weights.\n",
      "===============================\n",
      "===============================\n",
      "Training Deep Active Subspace Neural Network...\n"
     ]
    },
    {
     "name": "stderr",
     "output_type": "stream",
     "text": [
      "100%|█████████████████████████████████████████████████████████████████████████████████████████████████████████████████████████████████████████████████████████████████████| 23/23 [00:00<00:00, 440.08it/s]"
     ]
    },
    {
     "name": "stdout",
     "output_type": "stream",
     "text": [
      " loss = 0.9631\n"
     ]
    },
    {
     "name": "stderr",
     "output_type": "stream",
     "text": [
      "\n"
     ]
    },
    {
     "name": "stdout",
     "output_type": "stream",
     "text": [
      "Relative training error = 22.5997 %\n",
      "Relative test error = 22.3945 %\n"
     ]
    },
    {
     "name": "stderr",
     "output_type": "stream",
     "text": [
      "100%|█████████████████████████████████████████████████████████████████████████████████████████████████████████████████████████████████████████████████████████████████████| 23/23 [00:00<00:00, 458.09it/s]\n"
     ]
    },
    {
     "name": "stdout",
     "output_type": "stream",
     "text": [
      " loss = 0.8064\n",
      "Relative training error = 20.6827 %\n",
      "Relative test error = 20.7176 %\n"
     ]
    },
    {
     "name": "stderr",
     "output_type": "stream",
     "text": [
      "100%|█████████████████████████████████████████████████████████████████████████████████████████████████████████████████████████████████████████████████████████████████████| 23/23 [00:00<00:00, 385.76it/s]"
     ]
    },
    {
     "name": "stdout",
     "output_type": "stream",
     "text": [
      " loss = 0.4908\n"
     ]
    },
    {
     "name": "stderr",
     "output_type": "stream",
     "text": [
      "\n"
     ]
    },
    {
     "name": "stdout",
     "output_type": "stream",
     "text": [
      "Relative training error = 17.3783 %\n",
      "Relative test error = 18.0140 %\n"
     ]
    },
    {
     "name": "stderr",
     "output_type": "stream",
     "text": [
      "  0%|                                                                                                                                                                               | 0/23 [00:00<?, ?it/s]"
     ]
    },
    {
     "name": "stdout",
     "output_type": "stream",
     "text": [
      " loss = 0.3394\n"
     ]
    },
    {
     "name": "stderr",
     "output_type": "stream",
     "text": [
      "100%|█████████████████████████████████████████████████████████████████████████████████████████████████████████████████████████████████████████████████████████████████████| 23/23 [00:00<00:00, 504.28it/s]\n"
     ]
    },
    {
     "name": "stdout",
     "output_type": "stream",
     "text": [
      "Relative training error = 14.4078 %\n",
      "Relative test error = 14.9247 %\n"
     ]
    },
    {
     "name": "stderr",
     "output_type": "stream",
     "text": [
      "100%|█████████████████████████████████████████████████████████████████████████████████████████████████████████████████████████████████████████████████████████████████████| 23/23 [00:00<00:00, 585.97it/s]\n"
     ]
    },
    {
     "name": "stdout",
     "output_type": "stream",
     "text": [
      " loss = 0.4563\n",
      "Relative training error = 12.4043 %\n",
      "Relative test error = 12.7362 %\n"
     ]
    },
    {
     "name": "stderr",
     "output_type": "stream",
     "text": [
      "100%|█████████████████████████████████████████████████████████████████████████████████████████████████████████████████████████████████████████████████████████████████████| 23/23 [00:00<00:00, 479.10it/s]\n"
     ]
    },
    {
     "name": "stdout",
     "output_type": "stream",
     "text": [
      " loss = 0.5122\n",
      "Relative training error = 10.9148 %\n",
      "Relative test error = 12.7218 %\n"
     ]
    },
    {
     "name": "stderr",
     "output_type": "stream",
     "text": [
      "100%|█████████████████████████████████████████████████████████████████████████████████████████████████████████████████████████████████████████████████████████████████████| 23/23 [00:00<00:00, 557.11it/s]\n"
     ]
    },
    {
     "name": "stdout",
     "output_type": "stream",
     "text": [
      " loss = 0.1693\n",
      "Relative training error = 10.1564 %\n",
      "Relative test error = 11.7968 %\n"
     ]
    },
    {
     "name": "stderr",
     "output_type": "stream",
     "text": [
      "100%|█████████████████████████████████████████████████████████████████████████████████████████████████████████████████████████████████████████████████████████████████████| 23/23 [00:00<00:00, 403.42it/s]\n"
     ]
    },
    {
     "name": "stdout",
     "output_type": "stream",
     "text": [
      " loss = 0.1700\n",
      "Relative training error = 9.6255 %\n",
      "Relative test error = 11.4191 %\n"
     ]
    },
    {
     "name": "stderr",
     "output_type": "stream",
     "text": [
      "100%|█████████████████████████████████████████████████████████████████████████████████████████████████████████████████████████████████████████████████████████████████████| 23/23 [00:00<00:00, 398.25it/s]"
     ]
    },
    {
     "name": "stdout",
     "output_type": "stream",
     "text": [
      " loss = 0.1272\n"
     ]
    },
    {
     "name": "stderr",
     "output_type": "stream",
     "text": [
      "\n"
     ]
    },
    {
     "name": "stdout",
     "output_type": "stream",
     "text": [
      "Relative training error = 9.3164 %\n",
      "Relative test error = 10.7418 %\n"
     ]
    },
    {
     "name": "stderr",
     "output_type": "stream",
     "text": [
      "100%|█████████████████████████████████████████████████████████████████████████████████████████████████████████████████████████████████████████████████████████████████████| 23/23 [00:00<00:00, 445.60it/s]"
     ]
    },
    {
     "name": "stdout",
     "output_type": "stream",
     "text": [
      " loss = 0.1282\n"
     ]
    },
    {
     "name": "stderr",
     "output_type": "stream",
     "text": [
      "\n"
     ]
    },
    {
     "name": "stdout",
     "output_type": "stream",
     "text": [
      "Relative training error = 9.1258 %\n",
      "Relative test error = 10.9254 %\n"
     ]
    },
    {
     "name": "stderr",
     "output_type": "stream",
     "text": [
      "100%|█████████████████████████████████████████████████████████████████████████████████████████████████████████████████████████████████████████████████████████████████████| 23/23 [00:00<00:00, 503.33it/s]"
     ]
    },
    {
     "name": "stdout",
     "output_type": "stream",
     "text": [
      " loss = 0.1323\n"
     ]
    },
    {
     "name": "stderr",
     "output_type": "stream",
     "text": [
      "\n"
     ]
    },
    {
     "name": "stdout",
     "output_type": "stream",
     "text": [
      "Relative training error = 8.8574 %\n",
      "Relative test error = 10.9911 %\n"
     ]
    },
    {
     "name": "stderr",
     "output_type": "stream",
     "text": [
      "100%|█████████████████████████████████████████████████████████████████████████████████████████████████████████████████████████████████████████████████████████████████████| 23/23 [00:00<00:00, 517.20it/s]"
     ]
    },
    {
     "name": "stdout",
     "output_type": "stream",
     "text": [
      " loss = 0.1459\n"
     ]
    },
    {
     "name": "stderr",
     "output_type": "stream",
     "text": [
      "\n"
     ]
    },
    {
     "name": "stdout",
     "output_type": "stream",
     "text": [
      "Relative training error = 8.7066 %\n",
      "Relative test error = 10.3854 %\n"
     ]
    },
    {
     "name": "stderr",
     "output_type": "stream",
     "text": [
      "100%|█████████████████████████████████████████████████████████████████████████████████████████████████████████████████████████████████████████████████████████████████████| 23/23 [00:00<00:00, 460.56it/s]\n"
     ]
    },
    {
     "name": "stdout",
     "output_type": "stream",
     "text": [
      " loss = 0.1422\n",
      "Relative training error = 8.5644 %\n",
      "Relative test error = 10.3928 %\n"
     ]
    },
    {
     "name": "stderr",
     "output_type": "stream",
     "text": [
      "100%|█████████████████████████████████████████████████████████████████████████████████████████████████████████████████████████████████████████████████████████████████████| 23/23 [00:00<00:00, 456.59it/s]"
     ]
    },
    {
     "name": "stdout",
     "output_type": "stream",
     "text": [
      " loss = 0.1392\n"
     ]
    },
    {
     "name": "stderr",
     "output_type": "stream",
     "text": [
      "\n"
     ]
    },
    {
     "name": "stdout",
     "output_type": "stream",
     "text": [
      "Relative training error = 8.5094 %\n",
      "Relative test error = 10.5494 %\n"
     ]
    },
    {
     "name": "stderr",
     "output_type": "stream",
     "text": [
      "100%|█████████████████████████████████████████████████████████████████████████████████████████████████████████████████████████████████████████████████████████████████████| 23/23 [00:00<00:00, 546.33it/s]\n"
     ]
    },
    {
     "name": "stdout",
     "output_type": "stream",
     "text": [
      " loss = 0.1120\n",
      "Relative training error = 8.4416 %\n",
      "Relative test error = 10.1746 %\n"
     ]
    },
    {
     "name": "stderr",
     "output_type": "stream",
     "text": [
      "100%|█████████████████████████████████████████████████████████████████████████████████████████████████████████████████████████████████████████████████████████████████████| 23/23 [00:00<00:00, 547.38it/s]"
     ]
    },
    {
     "name": "stdout",
     "output_type": "stream",
     "text": [
      " loss = 0.1125\n"
     ]
    },
    {
     "name": "stderr",
     "output_type": "stream",
     "text": [
      "\n"
     ]
    },
    {
     "name": "stdout",
     "output_type": "stream",
     "text": [
      "Relative training error = 8.3974 %\n",
      "Relative test error = 9.8562 %\n"
     ]
    },
    {
     "name": "stderr",
     "output_type": "stream",
     "text": [
      "100%|█████████████████████████████████████████████████████████████████████████████████████████████████████████████████████████████████████████████████████████████████████| 23/23 [00:00<00:00, 553.22it/s]"
     ]
    },
    {
     "name": "stdout",
     "output_type": "stream",
     "text": [
      " loss = 0.1155\n"
     ]
    },
    {
     "name": "stderr",
     "output_type": "stream",
     "text": [
      "\n"
     ]
    },
    {
     "name": "stdout",
     "output_type": "stream",
     "text": [
      "Relative training error = 8.3866 %\n",
      "Relative test error = 10.2914 %\n"
     ]
    },
    {
     "name": "stderr",
     "output_type": "stream",
     "text": [
      "100%|█████████████████████████████████████████████████████████████████████████████████████████████████████████████████████████████████████████████████████████████████████| 23/23 [00:00<00:00, 524.66it/s]\n"
     ]
    },
    {
     "name": "stdout",
     "output_type": "stream",
     "text": [
      " loss = 0.1081\n",
      "Relative training error = 8.2982 %\n",
      "Relative test error = 10.0794 %\n"
     ]
    },
    {
     "name": "stderr",
     "output_type": "stream",
     "text": [
      "100%|█████████████████████████████████████████████████████████████████████████████████████████████████████████████████████████████████████████████████████████████████████| 23/23 [00:00<00:00, 579.39it/s]"
     ]
    },
    {
     "name": "stdout",
     "output_type": "stream",
     "text": [
      " loss = 0.0943\n",
      "Relative training error = 8.2883 %\n",
      "Relative test error = 9.9120 %\n"
     ]
    },
    {
     "name": "stderr",
     "output_type": "stream",
     "text": [
      "\n",
      "100%|█████████████████████████████████████████████████████████████████████████████████████████████████████████████████████████████████████████████████████████████████████| 23/23 [00:00<00:00, 545.45it/s]\n"
     ]
    },
    {
     "name": "stdout",
     "output_type": "stream",
     "text": [
      " loss = 0.1043\n",
      "Relative training error = 8.2410 %\n",
      "Relative test error = 9.6834 %\n"
     ]
    },
    {
     "name": "stderr",
     "output_type": "stream",
     "text": [
      "100%|█████████████████████████████████████████████████████████████████████████████████████████████████████████████████████████████████████████████████████████████████████| 23/23 [00:00<00:00, 557.61it/s]\n"
     ]
    },
    {
     "name": "stdout",
     "output_type": "stream",
     "text": [
      " loss = 0.1242\n",
      "Relative training error = 8.2566 %\n",
      "Relative test error = 9.9018 %\n"
     ]
    },
    {
     "name": "stderr",
     "output_type": "stream",
     "text": [
      "100%|█████████████████████████████████████████████████████████████████████████████████████████████████████████████████████████████████████████████████████████████████████| 23/23 [00:00<00:00, 458.99it/s]\n"
     ]
    },
    {
     "name": "stdout",
     "output_type": "stream",
     "text": [
      " loss = 0.1132\n",
      "Relative training error = 8.2401 %\n",
      "Relative test error = 9.8934 %\n"
     ]
    },
    {
     "name": "stderr",
     "output_type": "stream",
     "text": [
      "100%|█████████████████████████████████████████████████████████████████████████████████████████████████████████████████████████████████████████████████████████████████████| 23/23 [00:00<00:00, 556.72it/s]\n"
     ]
    },
    {
     "name": "stdout",
     "output_type": "stream",
     "text": [
      " loss = 0.1803\n",
      "Relative training error = 8.2180 %\n",
      "Relative test error = 9.6402 %\n"
     ]
    },
    {
     "name": "stderr",
     "output_type": "stream",
     "text": [
      "100%|█████████████████████████████████████████████████████████████████████████████████████████████████████████████████████████████████████████████████████████████████████| 23/23 [00:00<00:00, 463.25it/s]\n"
     ]
    },
    {
     "name": "stdout",
     "output_type": "stream",
     "text": [
      " loss = 0.1443\n",
      "Relative training error = 8.1701 %\n",
      "Relative test error = 9.4540 %\n"
     ]
    },
    {
     "name": "stderr",
     "output_type": "stream",
     "text": [
      "100%|█████████████████████████████████████████████████████████████████████████████████████████████████████████████████████████████████████████████████████████████████████| 23/23 [00:00<00:00, 519.32it/s]"
     ]
    },
    {
     "name": "stdout",
     "output_type": "stream",
     "text": [
      " loss = 0.0758\n"
     ]
    },
    {
     "name": "stderr",
     "output_type": "stream",
     "text": [
      "\n"
     ]
    },
    {
     "name": "stdout",
     "output_type": "stream",
     "text": [
      "Relative training error = 8.1616 %\n",
      "Relative test error = 9.7047 %\n"
     ]
    },
    {
     "name": "stderr",
     "output_type": "stream",
     "text": [
      "100%|█████████████████████████████████████████████████████████████████████████████████████████████████████████████████████████████████████████████████████████████████████| 23/23 [00:00<00:00, 457.47it/s]\n"
     ]
    },
    {
     "name": "stdout",
     "output_type": "stream",
     "text": [
      " loss = 0.0811\n",
      "Relative training error = 8.1394 %\n",
      "Relative test error = 9.7709 %\n"
     ]
    },
    {
     "name": "stderr",
     "output_type": "stream",
     "text": [
      "  0%|                                                                                                                                                                               | 0/23 [00:00<?, ?it/s]"
     ]
    },
    {
     "name": "stdout",
     "output_type": "stream",
     "text": [
      " loss = 0.0953\n"
     ]
    },
    {
     "name": "stderr",
     "output_type": "stream",
     "text": [
      "100%|█████████████████████████████████████████████████████████████████████████████████████████████████████████████████████████████████████████████████████████████████████| 23/23 [00:00<00:00, 252.19it/s]\n"
     ]
    },
    {
     "name": "stdout",
     "output_type": "stream",
     "text": [
      "Relative training error = 8.1403 %\n",
      "Relative test error = 9.6149 %\n"
     ]
    },
    {
     "name": "stderr",
     "output_type": "stream",
     "text": [
      "100%|█████████████████████████████████████████████████████████████████████████████████████████████████████████████████████████████████████████████████████████████████████| 23/23 [00:00<00:00, 450.73it/s]\n"
     ]
    },
    {
     "name": "stdout",
     "output_type": "stream",
     "text": [
      " loss = 0.0983\n",
      "Relative training error = 8.1208 %\n",
      "Relative test error = 9.8806 %\n"
     ]
    },
    {
     "name": "stderr",
     "output_type": "stream",
     "text": [
      "100%|█████████████████████████████████████████████████████████████████████████████████████████████████████████████████████████████████████████████████████████████████████| 23/23 [00:00<00:00, 437.45it/s]"
     ]
    },
    {
     "name": "stdout",
     "output_type": "stream",
     "text": [
      " loss = 0.1402\n"
     ]
    },
    {
     "name": "stderr",
     "output_type": "stream",
     "text": [
      "\n"
     ]
    },
    {
     "name": "stdout",
     "output_type": "stream",
     "text": [
      "Relative training error = 8.0927 %\n",
      "Relative test error = 9.8194 %\n"
     ]
    },
    {
     "name": "stderr",
     "output_type": "stream",
     "text": [
      "100%|█████████████████████████████████████████████████████████████████████████████████████████████████████████████████████████████████████████████████████████████████████| 23/23 [00:00<00:00, 548.64it/s]"
     ]
    },
    {
     "name": "stdout",
     "output_type": "stream",
     "text": [
      " loss = 0.1034\n",
      "Relative training error = 8.0973 %\n",
      "Relative test error = 9.5734 %\n"
     ]
    },
    {
     "name": "stderr",
     "output_type": "stream",
     "text": [
      "\n",
      "100%|█████████████████████████████████████████████████████████████████████████████████████████████████████████████████████████████████████████████████████████████████████| 23/23 [00:00<00:00, 463.03it/s]"
     ]
    },
    {
     "name": "stdout",
     "output_type": "stream",
     "text": [
      " loss = 0.0772\n",
      "Relative training error = 8.0661 %\n",
      "Relative test error = 9.5663 %\n"
     ]
    },
    {
     "name": "stderr",
     "output_type": "stream",
     "text": [
      "\n",
      "100%|█████████████████████████████████████████████████████████████████████████████████████████████████████████████████████████████████████████████████████████████████████| 23/23 [00:00<00:00, 533.70it/s]\n"
     ]
    },
    {
     "name": "stdout",
     "output_type": "stream",
     "text": [
      " loss = 0.1118\n",
      "Relative training error = 8.0524 %\n",
      "Relative test error = 9.6689 %\n"
     ]
    },
    {
     "name": "stderr",
     "output_type": "stream",
     "text": [
      "100%|█████████████████████████████████████████████████████████████████████████████████████████████████████████████████████████████████████████████████████████████████████| 23/23 [00:00<00:00, 528.72it/s]\n"
     ]
    },
    {
     "name": "stdout",
     "output_type": "stream",
     "text": [
      " loss = 0.0650\n",
      "Relative training error = 8.0445 %\n",
      "Relative test error = 9.5431 %\n"
     ]
    },
    {
     "name": "stderr",
     "output_type": "stream",
     "text": [
      "100%|█████████████████████████████████████████████████████████████████████████████████████████████████████████████████████████████████████████████████████████████████████| 23/23 [00:00<00:00, 548.74it/s]\n"
     ]
    },
    {
     "name": "stdout",
     "output_type": "stream",
     "text": [
      " loss = 0.0802\n",
      "Relative training error = 8.0456 %\n",
      "Relative test error = 9.4038 %\n"
     ]
    },
    {
     "name": "stderr",
     "output_type": "stream",
     "text": [
      "100%|█████████████████████████████████████████████████████████████████████████████████████████████████████████████████████████████████████████████████████████████████████| 23/23 [00:00<00:00, 513.33it/s]\n"
     ]
    },
    {
     "name": "stdout",
     "output_type": "stream",
     "text": [
      " loss = 0.0925\n",
      "Relative training error = 8.0270 %\n",
      "Relative test error = 9.5470 %\n"
     ]
    },
    {
     "name": "stderr",
     "output_type": "stream",
     "text": [
      "100%|█████████████████████████████████████████████████████████████████████████████████████████████████████████████████████████████████████████████████████████████████████| 23/23 [00:00<00:00, 545.66it/s]\n"
     ]
    },
    {
     "name": "stdout",
     "output_type": "stream",
     "text": [
      " loss = 0.0704\n",
      "Relative training error = 8.0496 %\n",
      "Relative test error = 9.9810 %\n"
     ]
    },
    {
     "name": "stderr",
     "output_type": "stream",
     "text": [
      "100%|█████████████████████████████████████████████████████████████████████████████████████████████████████████████████████████████████████████████████████████████████████| 23/23 [00:00<00:00, 534.90it/s]"
     ]
    },
    {
     "name": "stdout",
     "output_type": "stream",
     "text": [
      " loss = 0.1610\n"
     ]
    },
    {
     "name": "stderr",
     "output_type": "stream",
     "text": [
      "\n"
     ]
    },
    {
     "name": "stdout",
     "output_type": "stream",
     "text": [
      "Relative training error = 8.0191 %\n",
      "Relative test error = 10.0097 %\n"
     ]
    },
    {
     "name": "stderr",
     "output_type": "stream",
     "text": [
      "100%|█████████████████████████████████████████████████████████████████████████████████████████████████████████████████████████████████████████████████████████████████████| 23/23 [00:00<00:00, 470.07it/s]\n"
     ]
    },
    {
     "name": "stdout",
     "output_type": "stream",
     "text": [
      " loss = 0.1728\n",
      "Relative training error = 8.0189 %\n",
      "Relative test error = 10.0777 %\n",
      "Creating DAS_analysis object\n",
      "[-0.01079496 -0.00636261 -0.00472965  0.00829344 -0.03315033  0.01000517\n",
      " -0.03147244  0.01236407 -0.02684816  0.00736422 -0.01663265 -0.00670413\n",
      "  0.01756466 -0.01872044  0.02313004 -0.03355007  0.0332702  -0.02308934\n",
      " -0.04141354  0.01600002 -0.00833672  0.01130101  0.00841153  0.0035773\n",
      "  0.00450807  0.03616873  0.00554306  0.01251749 -0.00332135  0.01660203\n",
      "  0.00364524 -0.00423356 -0.01502233  0.00553334  0.00909886  0.03581746\n",
      " -0.01612826 -0.01689578 -0.00544872 -0.0257047  -0.0020281  -0.00491286\n",
      " -0.01851041 -0.00295021 -0.01707543  0.01278958 -0.03309115 -0.03378421\n",
      "  0.02105434 -0.024914    0.01355151  0.0347159   0.00949286 -0.01157946\n",
      " -0.02779381  0.01103345  0.05014661 -0.0388591   0.03466138 -0.03282935\n",
      "  0.01334391 -0.02446218  0.00617272  0.02966007 -0.0113076  -0.02121396\n",
      " -0.02654688 -0.02603522  0.00742446  0.0033779  -0.03955923 -0.02515224\n",
      " -0.00983606 -0.03146489 -0.02662707  0.00106644 -0.01827304 -0.01481842\n",
      "  0.00496895 -0.01752653  0.02289294  0.02491585 -0.05154504 -0.0153165\n",
      " -0.02955348 -0.01164796  0.00169125  0.00708391  0.00424188 -0.0170783\n",
      " -0.02926962  0.01683864 -0.03211833  0.04620026  0.02204849  0.03711775\n",
      " -0.02703611 -0.02134703 -0.01017228 -0.02460535 -0.00175839  0.00900341\n",
      "  0.0066653   0.02126546 -0.00704159 -0.02525979  0.04929931  0.03000105\n",
      "  0.00056224  0.02727065  0.00672098 -0.02266489 -0.03778072 -0.0143658\n",
      " -0.06977009 -0.00184082  0.03251847  0.00536228  0.00780703  0.00351171\n",
      " -0.001558    0.00453452  0.01956437  0.00755578 -0.00347596 -0.02544811\n",
      " -0.00691871  0.0184323  -0.00946686  0.01644332 -0.00717298 -0.00091536\n",
      " -0.00513515 -0.00200119 -0.00781267  0.03063803  0.00576488 -0.00229528\n",
      "  0.02318851  0.0245067  -0.02252075 -0.01338904  0.0351502  -0.00802465\n",
      " -0.02688461 -0.01285858 -0.04307223  0.01796226 -0.00352158 -0.02649279\n",
      " -0.02409055  0.01353839 -0.01250318  0.00313297  0.01588277  0.01109347\n",
      " -0.00357092  0.00296899  0.00483943 -0.03099188 -0.01898565  0.02774835\n",
      " -0.03559913 -0.0050307   0.0044001   0.13017571 -0.01762796]\n",
      "Parameters ordered from most to least important:\n",
      "[[141 149 165 150 153 151  17 142 137  15 113 154  73  41 163 109  10  95\n",
      "   27  85  39 107 138  57 166 159  28  36  99  53  94  21  79 120 115  29\n",
      "   83  87 108  93  97 110  74 152  30  68  18  75  40  82 112 164 117  38\n",
      "  129 105 136  51 155 101 139 161  61  84  26   5 133  89 148 134  77  23\n",
      "   86 106 146  72 100  47  59 130  48 147   1  22  13  42 162  49  65 111\n",
      "   31  52  34 131 123 158 132  37  43  46 121  62  98  69   2  63  16 140\n",
      "   78 114  71  35   0 144  33 135  58  70   3  32 143  19 156 127 125  20\n",
      "  157 160   6 145  56  12  54   9  64  66  90   8  45 116   4 124  55  11\n",
      "  128 118  67 122  76  24   7  60 126  91  88  14  81  50  96 104  80 103\n",
      "   44 119 102  92  25]]\n",
      "Creating DAS_Surrogate Object\n",
      "Creating Feature Engineering object\n",
      "Using  662/662 samples to train the ML model\n",
      "===============================\n",
      "Neural net parameters\n",
      "===============================\n",
      "Number of layers = 3\n",
      "Number of features = 167\n",
      "Loss function = squared\n",
      "Number of neurons per hidden layer = 20\n",
      "Number of output neurons = 1\n",
      "Activation = ['linear', 'linear', 'tanh', 'linear']\n",
      "This neural network has 228 weights.\n",
      "===============================\n",
      "===============================\n",
      "Training Deep Active Subspace Neural Network...\n"
     ]
    },
    {
     "name": "stderr",
     "output_type": "stream",
     "text": [
      "100%|█████████████████████████████████████████████████████████████████████████████████████████████████████████████████████████████████████████████████████████████████████| 23/23 [00:00<00:00, 445.60it/s]"
     ]
    },
    {
     "name": "stdout",
     "output_type": "stream",
     "text": [
      " loss = 0.8975\n",
      "Relative training error = 23.6777 %\n",
      "Relative test error = 23.2560 %\n"
     ]
    },
    {
     "name": "stderr",
     "output_type": "stream",
     "text": [
      "\n",
      "100%|█████████████████████████████████████████████████████████████████████████████████████████████████████████████████████████████████████████████████████████████████████| 23/23 [00:00<00:00, 467.83it/s]"
     ]
    },
    {
     "name": "stdout",
     "output_type": "stream",
     "text": [
      " loss = 0.8154\n"
     ]
    },
    {
     "name": "stderr",
     "output_type": "stream",
     "text": [
      "\n"
     ]
    },
    {
     "name": "stdout",
     "output_type": "stream",
     "text": [
      "Relative training error = 22.6200 %\n",
      "Relative test error = 22.2235 %\n"
     ]
    },
    {
     "name": "stderr",
     "output_type": "stream",
     "text": [
      "100%|█████████████████████████████████████████████████████████████████████████████████████████████████████████████████████████████████████████████████████████████████████| 23/23 [00:00<00:00, 553.74it/s]\n"
     ]
    },
    {
     "name": "stdout",
     "output_type": "stream",
     "text": [
      " loss = 0.7795\n",
      "Relative training error = 20.7477 %\n",
      "Relative test error = 20.7569 %\n"
     ]
    },
    {
     "name": "stderr",
     "output_type": "stream",
     "text": [
      "100%|█████████████████████████████████████████████████████████████████████████████████████████████████████████████████████████████████████████████████████████████████████| 23/23 [00:00<00:00, 502.03it/s]"
     ]
    },
    {
     "name": "stdout",
     "output_type": "stream",
     "text": [
      " loss = 0.5623\n"
     ]
    },
    {
     "name": "stderr",
     "output_type": "stream",
     "text": [
      "\n"
     ]
    },
    {
     "name": "stdout",
     "output_type": "stream",
     "text": [
      "Relative training error = 18.2321 %\n",
      "Relative test error = 18.6549 %\n"
     ]
    },
    {
     "name": "stderr",
     "output_type": "stream",
     "text": [
      "100%|█████████████████████████████████████████████████████████████████████████████████████████████████████████████████████████████████████████████████████████████████████| 23/23 [00:00<00:00, 553.61it/s]\n"
     ]
    },
    {
     "name": "stdout",
     "output_type": "stream",
     "text": [
      " loss = 0.4109\n",
      "Relative training error = 15.0582 %\n",
      "Relative test error = 15.5471 %\n"
     ]
    },
    {
     "name": "stderr",
     "output_type": "stream",
     "text": [
      "100%|█████████████████████████████████████████████████████████████████████████████████████████████████████████████████████████████████████████████████████████████████████| 23/23 [00:00<00:00, 469.47it/s]"
     ]
    },
    {
     "name": "stdout",
     "output_type": "stream",
     "text": [
      " loss = 0.6040\n"
     ]
    },
    {
     "name": "stderr",
     "output_type": "stream",
     "text": [
      "\n"
     ]
    },
    {
     "name": "stdout",
     "output_type": "stream",
     "text": [
      "Relative training error = 12.3942 %\n",
      "Relative test error = 12.1910 %\n"
     ]
    },
    {
     "name": "stderr",
     "output_type": "stream",
     "text": [
      "100%|█████████████████████████████████████████████████████████████████████████████████████████████████████████████████████████████████████████████████████████████████████| 23/23 [00:00<00:00, 470.71it/s]"
     ]
    },
    {
     "name": "stdout",
     "output_type": "stream",
     "text": [
      " loss = 0.2539\n"
     ]
    },
    {
     "name": "stderr",
     "output_type": "stream",
     "text": [
      "\n"
     ]
    },
    {
     "name": "stdout",
     "output_type": "stream",
     "text": [
      "Relative training error = 10.7543 %\n",
      "Relative test error = 11.3943 %\n"
     ]
    },
    {
     "name": "stderr",
     "output_type": "stream",
     "text": [
      "100%|█████████████████████████████████████████████████████████████████████████████████████████████████████████████████████████████████████████████████████████████████████| 23/23 [00:00<00:00, 459.89it/s]"
     ]
    },
    {
     "name": "stdout",
     "output_type": "stream",
     "text": [
      " loss = 0.1244\n"
     ]
    },
    {
     "name": "stderr",
     "output_type": "stream",
     "text": [
      "\n"
     ]
    },
    {
     "name": "stdout",
     "output_type": "stream",
     "text": [
      "Relative training error = 9.8337 %\n",
      "Relative test error = 11.0118 %\n"
     ]
    },
    {
     "name": "stderr",
     "output_type": "stream",
     "text": [
      "100%|█████████████████████████████████████████████████████████████████████████████████████████████████████████████████████████████████████████████████████████████████████| 23/23 [00:00<00:00, 446.93it/s]"
     ]
    },
    {
     "name": "stdout",
     "output_type": "stream",
     "text": [
      " loss = 0.1806\n",
      "Relative training error = 9.3412 %\n"
     ]
    },
    {
     "name": "stderr",
     "output_type": "stream",
     "text": [
      "\n"
     ]
    },
    {
     "name": "stdout",
     "output_type": "stream",
     "text": [
      "Relative test error = 10.9269 %\n"
     ]
    },
    {
     "name": "stderr",
     "output_type": "stream",
     "text": [
      "100%|█████████████████████████████████████████████████████████████████████████████████████████████████████████████████████████████████████████████████████████████████████| 23/23 [00:00<00:00, 542.89it/s]"
     ]
    },
    {
     "name": "stdout",
     "output_type": "stream",
     "text": [
      " loss = 0.1301\n"
     ]
    },
    {
     "name": "stderr",
     "output_type": "stream",
     "text": [
      "\n"
     ]
    },
    {
     "name": "stdout",
     "output_type": "stream",
     "text": [
      "Relative training error = 8.9646 %\n",
      "Relative test error = 10.7046 %\n"
     ]
    },
    {
     "name": "stderr",
     "output_type": "stream",
     "text": [
      "100%|█████████████████████████████████████████████████████████████████████████████████████████████████████████████████████████████████████████████████████████████████████| 23/23 [00:00<00:00, 523.99it/s]\n"
     ]
    },
    {
     "name": "stdout",
     "output_type": "stream",
     "text": [
      " loss = 0.1764\n",
      "Relative training error = 8.7688 %\n",
      "Relative test error = 10.3931 %\n"
     ]
    },
    {
     "name": "stderr",
     "output_type": "stream",
     "text": [
      "100%|█████████████████████████████████████████████████████████████████████████████████████████████████████████████████████████████████████████████████████████████████████| 23/23 [00:00<00:00, 477.59it/s]"
     ]
    },
    {
     "name": "stdout",
     "output_type": "stream",
     "text": [
      " loss = 0.1795\n"
     ]
    },
    {
     "name": "stderr",
     "output_type": "stream",
     "text": [
      "\n"
     ]
    },
    {
     "name": "stdout",
     "output_type": "stream",
     "text": [
      "Relative training error = 8.7709 %\n",
      "Relative test error = 10.7391 %\n"
     ]
    },
    {
     "name": "stderr",
     "output_type": "stream",
     "text": [
      "100%|█████████████████████████████████████████████████████████████████████████████████████████████████████████████████████████████████████████████████████████████████████| 23/23 [00:00<00:00, 440.40it/s]\n"
     ]
    },
    {
     "name": "stdout",
     "output_type": "stream",
     "text": [
      " loss = 0.1094\n",
      "Relative training error = 8.6151 %\n",
      "Relative test error = 10.4489 %\n"
     ]
    },
    {
     "name": "stderr",
     "output_type": "stream",
     "text": [
      "100%|█████████████████████████████████████████████████████████████████████████████████████████████████████████████████████████████████████████████████████████████████████| 23/23 [00:00<00:00, 479.90it/s]"
     ]
    },
    {
     "name": "stdout",
     "output_type": "stream",
     "text": [
      " loss = 0.0897\n"
     ]
    },
    {
     "name": "stderr",
     "output_type": "stream",
     "text": [
      "\n"
     ]
    },
    {
     "name": "stdout",
     "output_type": "stream",
     "text": [
      "Relative training error = 8.4800 %\n",
      "Relative test error = 10.5373 %\n"
     ]
    },
    {
     "name": "stderr",
     "output_type": "stream",
     "text": [
      "100%|█████████████████████████████████████████████████████████████████████████████████████████████████████████████████████████████████████████████████████████████████████| 23/23 [00:00<00:00, 482.13it/s]\n"
     ]
    },
    {
     "name": "stdout",
     "output_type": "stream",
     "text": [
      " loss = 0.0902\n",
      "Relative training error = 8.5011 %\n",
      "Relative test error = 10.4308 %\n"
     ]
    },
    {
     "name": "stderr",
     "output_type": "stream",
     "text": [
      "100%|█████████████████████████████████████████████████████████████████████████████████████████████████████████████████████████████████████████████████████████████████████| 23/23 [00:00<00:00, 591.12it/s]\n"
     ]
    },
    {
     "name": "stdout",
     "output_type": "stream",
     "text": [
      " loss = 0.1394\n",
      "Relative training error = 8.3830 %\n",
      "Relative test error = 10.2228 %\n"
     ]
    },
    {
     "name": "stderr",
     "output_type": "stream",
     "text": [
      "100%|█████████████████████████████████████████████████████████████████████████████████████████████████████████████████████████████████████████████████████████████████████| 23/23 [00:00<00:00, 622.25it/s]\n"
     ]
    },
    {
     "name": "stdout",
     "output_type": "stream",
     "text": [
      " loss = 0.1764\n",
      "Relative training error = 8.3180 %\n",
      "Relative test error = 9.8237 %\n"
     ]
    },
    {
     "name": "stderr",
     "output_type": "stream",
     "text": [
      "  0%|                                                                                                                                                                               | 0/23 [00:00<?, ?it/s]"
     ]
    },
    {
     "name": "stdout",
     "output_type": "stream",
     "text": [
      " loss = 0.0824\n"
     ]
    },
    {
     "name": "stderr",
     "output_type": "stream",
     "text": [
      "100%|█████████████████████████████████████████████████████████████████████████████████████████████████████████████████████████████████████████████████████████████████████| 23/23 [00:00<00:00, 564.67it/s]\n"
     ]
    },
    {
     "name": "stdout",
     "output_type": "stream",
     "text": [
      "Relative training error = 8.3220 %\n",
      "Relative test error = 9.8558 %\n"
     ]
    },
    {
     "name": "stderr",
     "output_type": "stream",
     "text": [
      "100%|█████████████████████████████████████████████████████████████████████████████████████████████████████████████████████████████████████████████████████████████████████| 23/23 [00:00<00:00, 477.47it/s]\n"
     ]
    },
    {
     "name": "stdout",
     "output_type": "stream",
     "text": [
      " loss = 0.0806\n",
      "Relative training error = 8.2998 %\n",
      "Relative test error = 9.8161 %\n"
     ]
    },
    {
     "name": "stderr",
     "output_type": "stream",
     "text": [
      "100%|█████████████████████████████████████████████████████████████████████████████████████████████████████████████████████████████████████████████████████████████████████| 23/23 [00:00<00:00, 478.76it/s]"
     ]
    },
    {
     "name": "stdout",
     "output_type": "stream",
     "text": [
      " loss = 0.0779\n"
     ]
    },
    {
     "name": "stderr",
     "output_type": "stream",
     "text": [
      "\n"
     ]
    },
    {
     "name": "stdout",
     "output_type": "stream",
     "text": [
      "Relative training error = 8.2714 %\n",
      "Relative test error = 9.8544 %\n"
     ]
    },
    {
     "name": "stderr",
     "output_type": "stream",
     "text": [
      "100%|█████████████████████████████████████████████████████████████████████████████████████████████████████████████████████████████████████████████████████████████████████| 23/23 [00:00<00:00, 485.38it/s]\n"
     ]
    },
    {
     "name": "stdout",
     "output_type": "stream",
     "text": [
      " loss = 0.1292\n",
      "Relative training error = 8.2234 %\n",
      "Relative test error = 9.8544 %\n",
      "Creating DAS_analysis object\n",
      "[-0.01079496 -0.00636261 -0.00472965  0.00829344 -0.03315033  0.01000517\n",
      " -0.03147244  0.01236407 -0.02684816  0.00736422 -0.01663265 -0.00670413\n",
      "  0.01756466 -0.01872044  0.02313004 -0.03355007  0.0332702  -0.02308934\n",
      " -0.04141354  0.01600002 -0.00833672  0.01130101  0.00841153  0.0035773\n",
      "  0.00450807  0.03616873  0.00554306  0.01251749 -0.00332135  0.01660203\n",
      "  0.00364524 -0.00423356 -0.01502233  0.00553334  0.00909886  0.03581746\n",
      " -0.01612826 -0.01689578 -0.00544872 -0.0257047  -0.0020281  -0.00491286\n",
      " -0.01851041 -0.00295021 -0.01707543  0.01278958 -0.03309115 -0.03378421\n",
      "  0.02105434 -0.024914    0.01355151  0.0347159   0.00949286 -0.01157946\n",
      " -0.02779381  0.01103345  0.05014661 -0.0388591   0.03466138 -0.03282935\n",
      "  0.01334391 -0.02446218  0.00617272  0.02966007 -0.0113076  -0.02121396\n",
      " -0.02654688 -0.02603522  0.00742446  0.0033779  -0.03955923 -0.02515224\n",
      " -0.00983606 -0.03146489 -0.02662707  0.00106644 -0.01827304 -0.01481842\n",
      "  0.00496895 -0.01752653  0.02289294  0.02491585 -0.05154504 -0.0153165\n",
      " -0.02955348 -0.01164796  0.00169125  0.00708391  0.00424188 -0.0170783\n",
      " -0.02926962  0.01683864 -0.03211833  0.04620026  0.02204849  0.03711775\n",
      " -0.02703611 -0.02134703 -0.01017228 -0.02460535 -0.00175839  0.00900341\n",
      "  0.0066653   0.02126546 -0.00704159 -0.02525979  0.04929931  0.03000105\n",
      "  0.00056224  0.02727065  0.00672098 -0.02266489 -0.03778072 -0.0143658\n",
      " -0.06977009 -0.00184082  0.03251847  0.00536228  0.00780703  0.00351171\n",
      " -0.001558    0.00453452  0.01956437  0.00755578 -0.00347596 -0.02544811\n",
      " -0.00691871  0.0184323  -0.00946686  0.01644332 -0.00717298 -0.00091536\n",
      " -0.00513515 -0.00200119 -0.00781267  0.03063803  0.00576488 -0.00229528\n",
      "  0.02318851  0.0245067  -0.02252075 -0.01338904  0.0351502  -0.00802465\n",
      " -0.02688461 -0.01285858 -0.04307223  0.01796226 -0.00352158 -0.02649279\n",
      " -0.02409055  0.01353839 -0.01250318  0.00313297  0.01588277  0.01109347\n",
      " -0.00357092  0.00296899  0.00483943 -0.03099188 -0.01898565  0.02774835\n",
      " -0.03559913 -0.0050307   0.0044001   0.13017571 -0.01762796]\n",
      "Parameters ordered from most to least important:\n",
      "[[141 149 165 150 153 151  17 142 137  15 113 154 109  73  41 138  27  95\n",
      "  163  39  10 107  94  85 152  75  53 164 105 159  30  21  79 108  57  29\n",
      "   36 115  28   6 146 120  68  82  18 130 166 112  46 129 101  93  26  38\n",
      "   87  69 156 139  42  97  49   5 123  76  40 161 127 133 100 162 155 140\n",
      "  117 136  47  86 121 148  74  81  32  23  37  19  31  22  77  24  59 124\n",
      "  135  62  13  83  80  34   0 147 158  99  48 134  70  44  71   8 110  88\n",
      "   84 103 119  72  64  51  63  52  66  89  98 116  61  56 111   7 144   2\n",
      "  145  25  33 118  50  11 122  65   4 128  45  14  43  91 104  90   1  20\n",
      "   54  55  35  16 143   3 131 125 132   9  67  96 114 160 157 102  60 126\n",
      "   58  12  78 106  92]]\n",
      "Creating DAS_Surrogate Object\n",
      "Creating Feature Engineering object\n",
      "Using  662/662 samples to train the ML model\n",
      "===============================\n",
      "Neural net parameters\n",
      "===============================\n",
      "Number of layers = 3\n",
      "Number of features = 167\n",
      "Loss function = squared\n",
      "Number of neurons per hidden layer = 20\n",
      "Number of output neurons = 1\n",
      "Activation = ['linear', 'linear', 'tanh', 'linear']\n",
      "This neural network has 228 weights.\n",
      "===============================\n",
      "===============================\n",
      "Training Deep Active Subspace Neural Network...\n"
     ]
    },
    {
     "name": "stderr",
     "output_type": "stream",
     "text": [
      "100%|█████████████████████████████████████████████████████████████████████████████████████████████████████████████████████████████████████████████████████████████████████| 23/23 [00:00<00:00, 589.61it/s]\n"
     ]
    },
    {
     "name": "stdout",
     "output_type": "stream",
     "text": [
      " loss = 1.1616\n",
      "Relative training error = 22.8719 %\n",
      "Relative test error = 22.1629 %\n"
     ]
    },
    {
     "name": "stderr",
     "output_type": "stream",
     "text": [
      "  0%|                                                                                                                                                                               | 0/23 [00:00<?, ?it/s]"
     ]
    },
    {
     "name": "stdout",
     "output_type": "stream",
     "text": [
      " loss = 0.9008\n"
     ]
    },
    {
     "name": "stderr",
     "output_type": "stream",
     "text": [
      "100%|█████████████████████████████████████████████████████████████████████████████████████████████████████████████████████████████████████████████████████████████████████| 23/23 [00:00<00:00, 497.02it/s]\n"
     ]
    },
    {
     "name": "stdout",
     "output_type": "stream",
     "text": [
      "Relative training error = 21.1480 %\n",
      "Relative test error = 20.8799 %\n"
     ]
    },
    {
     "name": "stderr",
     "output_type": "stream",
     "text": [
      "100%|█████████████████████████████████████████████████████████████████████████████████████████████████████████████████████████████████████████████████████████████████████| 23/23 [00:00<00:00, 475.58it/s]\n"
     ]
    },
    {
     "name": "stdout",
     "output_type": "stream",
     "text": [
      " loss = 0.8045\n",
      "Relative training error = 18.9947 %\n",
      "Relative test error = 19.6803 %\n"
     ]
    },
    {
     "name": "stderr",
     "output_type": "stream",
     "text": [
      "100%|█████████████████████████████████████████████████████████████████████████████████████████████████████████████████████████████████████████████████████████████████████| 23/23 [00:00<00:00, 610.72it/s]\n"
     ]
    },
    {
     "name": "stdout",
     "output_type": "stream",
     "text": [
      " loss = 0.6654\n",
      "Relative training error = 16.5861 %\n",
      "Relative test error = 18.3515 %\n"
     ]
    },
    {
     "name": "stderr",
     "output_type": "stream",
     "text": [
      "100%|█████████████████████████████████████████████████████████████████████████████████████████████████████████████████████████████████████████████████████████████████████| 23/23 [00:00<00:00, 597.72it/s]\n"
     ]
    },
    {
     "name": "stdout",
     "output_type": "stream",
     "text": [
      " loss = 0.4608\n",
      "Relative training error = 14.4656 %\n",
      "Relative test error = 16.7618 %\n"
     ]
    },
    {
     "name": "stderr",
     "output_type": "stream",
     "text": [
      "100%|█████████████████████████████████████████████████████████████████████████████████████████████████████████████████████████████████████████████████████████████████████| 23/23 [00:00<00:00, 615.11it/s]\n"
     ]
    },
    {
     "name": "stdout",
     "output_type": "stream",
     "text": [
      " loss = 0.3940\n",
      "Relative training error = 12.7576 %\n",
      "Relative test error = 15.5160 %\n"
     ]
    },
    {
     "name": "stderr",
     "output_type": "stream",
     "text": [
      "100%|█████████████████████████████████████████████████████████████████████████████████████████████████████████████████████████████████████████████████████████████████████| 23/23 [00:00<00:00, 587.46it/s]\n"
     ]
    },
    {
     "name": "stdout",
     "output_type": "stream",
     "text": [
      " loss = 0.3194\n",
      "Relative training error = 11.3909 %\n",
      "Relative test error = 13.8224 %\n"
     ]
    },
    {
     "name": "stderr",
     "output_type": "stream",
     "text": [
      "100%|█████████████████████████████████████████████████████████████████████████████████████████████████████████████████████████████████████████████████████████████████████| 23/23 [00:00<00:00, 573.25it/s]\n"
     ]
    },
    {
     "name": "stdout",
     "output_type": "stream",
     "text": [
      " loss = 0.2234\n",
      "Relative training error = 10.4189 %\n",
      "Relative test error = 12.2601 %\n"
     ]
    },
    {
     "name": "stderr",
     "output_type": "stream",
     "text": [
      "  0%|                                                                                                                                                                               | 0/23 [00:00<?, ?it/s]"
     ]
    },
    {
     "name": "stdout",
     "output_type": "stream",
     "text": [
      " loss = 0.2229\n"
     ]
    },
    {
     "name": "stderr",
     "output_type": "stream",
     "text": [
      "100%|█████████████████████████████████████████████████████████████████████████████████████████████████████████████████████████████████████████████████████████████████████| 23/23 [00:00<00:00, 476.94it/s]\n"
     ]
    },
    {
     "name": "stdout",
     "output_type": "stream",
     "text": [
      "Relative training error = 9.7423 %\n",
      "Relative test error = 11.4980 %\n"
     ]
    },
    {
     "name": "stderr",
     "output_type": "stream",
     "text": [
      "100%|█████████████████████████████████████████████████████████████████████████████████████████████████████████████████████████████████████████████████████████████████████| 23/23 [00:00<00:00, 572.62it/s]\n"
     ]
    },
    {
     "name": "stdout",
     "output_type": "stream",
     "text": [
      " loss = 0.1975\n",
      "Relative training error = 9.2743 %\n",
      "Relative test error = 10.4902 %\n"
     ]
    },
    {
     "name": "stderr",
     "output_type": "stream",
     "text": [
      "100%|█████████████████████████████████████████████████████████████████████████████████████████████████████████████████████████████████████████████████████████████████████| 23/23 [00:00<00:00, 567.14it/s]\n"
     ]
    },
    {
     "name": "stdout",
     "output_type": "stream",
     "text": [
      " loss = 0.0997\n",
      "Relative training error = 8.9136 %\n",
      "Relative test error = 9.8859 %\n"
     ]
    },
    {
     "name": "stderr",
     "output_type": "stream",
     "text": [
      "100%|█████████████████████████████████████████████████████████████████████████████████████████████████████████████████████████████████████████████████████████████████████| 23/23 [00:00<00:00, 533.92it/s]\n"
     ]
    },
    {
     "name": "stdout",
     "output_type": "stream",
     "text": [
      " loss = 0.1822\n",
      "Relative training error = 8.8405 %\n",
      "Relative test error = 10.1141 %\n"
     ]
    },
    {
     "name": "stderr",
     "output_type": "stream",
     "text": [
      "100%|█████████████████████████████████████████████████████████████████████████████████████████████████████████████████████████████████████████████████████████████████████| 23/23 [00:00<00:00, 481.25it/s]\n"
     ]
    },
    {
     "name": "stdout",
     "output_type": "stream",
     "text": [
      " loss = 0.1078\n",
      "Relative training error = 8.6035 %\n",
      "Relative test error = 9.7335 %\n"
     ]
    },
    {
     "name": "stderr",
     "output_type": "stream",
     "text": [
      "100%|█████████████████████████████████████████████████████████████████████████████████████████████████████████████████████████████████████████████████████████████████████| 23/23 [00:00<00:00, 579.38it/s]\n"
     ]
    },
    {
     "name": "stdout",
     "output_type": "stream",
     "text": [
      " loss = 0.2578\n",
      "Relative training error = 8.4356 %\n",
      "Relative test error = 10.0285 %\n"
     ]
    },
    {
     "name": "stderr",
     "output_type": "stream",
     "text": [
      "100%|█████████████████████████████████████████████████████████████████████████████████████████████████████████████████████████████████████████████████████████████████████| 23/23 [00:00<00:00, 613.93it/s]\n"
     ]
    },
    {
     "name": "stdout",
     "output_type": "stream",
     "text": [
      " loss = 0.1360\n",
      "Relative training error = 8.3657 %\n",
      "Relative test error = 10.1775 %\n"
     ]
    },
    {
     "name": "stderr",
     "output_type": "stream",
     "text": [
      "100%|█████████████████████████████████████████████████████████████████████████████████████████████████████████████████████████████████████████████████████████████████████| 23/23 [00:00<00:00, 605.88it/s]\n"
     ]
    },
    {
     "name": "stdout",
     "output_type": "stream",
     "text": [
      " loss = 0.1304\n",
      "Relative training error = 8.3708 %\n",
      "Relative test error = 10.1172 %\n"
     ]
    },
    {
     "name": "stderr",
     "output_type": "stream",
     "text": [
      "100%|█████████████████████████████████████████████████████████████████████████████████████████████████████████████████████████████████████████████████████████████████████| 23/23 [00:00<00:00, 530.42it/s]\n"
     ]
    },
    {
     "name": "stdout",
     "output_type": "stream",
     "text": [
      " loss = 0.1223\n",
      "Relative training error = 8.2893 %\n",
      "Relative test error = 10.1362 %\n",
      "Creating DAS_analysis object\n",
      "[-0.01079496 -0.00636261 -0.00472965  0.00829344 -0.03315033  0.01000517\n",
      " -0.03147244  0.01236407 -0.02684816  0.00736422 -0.01663265 -0.00670413\n",
      "  0.01756466 -0.01872044  0.02313004 -0.03355007  0.0332702  -0.02308934\n",
      " -0.04141354  0.01600002 -0.00833672  0.01130101  0.00841153  0.0035773\n",
      "  0.00450807  0.03616873  0.00554306  0.01251749 -0.00332135  0.01660203\n",
      "  0.00364524 -0.00423356 -0.01502233  0.00553334  0.00909886  0.03581746\n",
      " -0.01612826 -0.01689578 -0.00544872 -0.0257047  -0.0020281  -0.00491286\n",
      " -0.01851041 -0.00295021 -0.01707543  0.01278958 -0.03309115 -0.03378421\n",
      "  0.02105434 -0.024914    0.01355151  0.0347159   0.00949286 -0.01157946\n",
      " -0.02779381  0.01103345  0.05014661 -0.0388591   0.03466138 -0.03282935\n",
      "  0.01334391 -0.02446218  0.00617272  0.02966007 -0.0113076  -0.02121396\n",
      " -0.02654688 -0.02603522  0.00742446  0.0033779  -0.03955923 -0.02515224\n",
      " -0.00983606 -0.03146489 -0.02662707  0.00106644 -0.01827304 -0.01481842\n",
      "  0.00496895 -0.01752653  0.02289294  0.02491585 -0.05154504 -0.0153165\n",
      " -0.02955348 -0.01164796  0.00169125  0.00708391  0.00424188 -0.0170783\n",
      " -0.02926962  0.01683864 -0.03211833  0.04620026  0.02204849  0.03711775\n",
      " -0.02703611 -0.02134703 -0.01017228 -0.02460535 -0.00175839  0.00900341\n",
      "  0.0066653   0.02126546 -0.00704159 -0.02525979  0.04929931  0.03000105\n",
      "  0.00056224  0.02727065  0.00672098 -0.02266489 -0.03778072 -0.0143658\n",
      " -0.06977009 -0.00184082  0.03251847  0.00536228  0.00780703  0.00351171\n",
      " -0.001558    0.00453452  0.01956437  0.00755578 -0.00347596 -0.02544811\n",
      " -0.00691871  0.0184323  -0.00946686  0.01644332 -0.00717298 -0.00091536\n",
      " -0.00513515 -0.00200119 -0.00781267  0.03063803  0.00576488 -0.00229528\n",
      "  0.02318851  0.0245067  -0.02252075 -0.01338904  0.0351502  -0.00802465\n",
      " -0.02688461 -0.01285858 -0.04307223  0.01796226 -0.00352158 -0.02649279\n",
      " -0.02409055  0.01353839 -0.01250318  0.00313297  0.01588277  0.01109347\n",
      " -0.00357092  0.00296899  0.00483943 -0.03099188 -0.01898565  0.02774835\n",
      " -0.03559913 -0.0050307   0.0044001   0.13017571 -0.01762796]\n",
      "Parameters ordered from most to least important:\n",
      "[[141 149 165 150 151 153 142  17 137  15 113 154 109 138  53 163  73 107\n",
      "   57  10  41  85  94  27  87  39  68  28  18  36 115   0  82 166  93  79\n",
      "  120 108  21  29  75  86  22 152 105 164  95 161 159 146 117  24   4 140\n",
      "    5  23  42  76  26 106 156  52  69  99  30  58  61  48 100  19 155  12\n",
      "  139  45  35 144 136  13   6   2  80 162  37  90  43 110  62 119  20 101\n",
      "  111 157  64  49  88 160  16  60 121  97 129 124  71  50 116  96 118 148\n",
      "   56  74 127 147 122 158  31  84  54   1 134  98  47  44  72 133  34  40\n",
      "   83  46  25 112  38   9  33  89 143  51 125 114  63 130 123 104  66  67\n",
      "  135   7   8  91  78  14  77  81 145  32 102 132 128  70 131  92  11  65\n",
      "    3  55 103 126  59]]\n",
      "Creating DAS_Surrogate Object\n",
      "Creating Feature Engineering object\n",
      "Using  662/662 samples to train the ML model\n",
      "===============================\n",
      "Neural net parameters\n",
      "===============================\n",
      "Number of layers = 3\n",
      "Number of features = 167\n",
      "Loss function = squared\n",
      "Number of neurons per hidden layer = 20\n",
      "Number of output neurons = 1\n",
      "Activation = ['linear', 'linear', 'tanh', 'linear']\n",
      "This neural network has 228 weights.\n",
      "===============================\n",
      "===============================\n",
      "Training Deep Active Subspace Neural Network...\n"
     ]
    },
    {
     "name": "stderr",
     "output_type": "stream",
     "text": [
      "100%|█████████████████████████████████████████████████████████████████████████████████████████████████████████████████████████████████████████████████████████████████████| 23/23 [00:00<00:00, 358.84it/s]"
     ]
    },
    {
     "name": "stdout",
     "output_type": "stream",
     "text": [
      " loss = 0.8421\n"
     ]
    },
    {
     "name": "stderr",
     "output_type": "stream",
     "text": [
      "\n"
     ]
    },
    {
     "name": "stdout",
     "output_type": "stream",
     "text": [
      "Relative training error = 20.9630 %\n",
      "Relative test error = 22.5457 %\n"
     ]
    },
    {
     "name": "stderr",
     "output_type": "stream",
     "text": [
      "  0%|                                                                                                                                                                               | 0/23 [00:00<?, ?it/s]"
     ]
    },
    {
     "name": "stdout",
     "output_type": "stream",
     "text": [
      " loss = 0.8989\n"
     ]
    },
    {
     "name": "stderr",
     "output_type": "stream",
     "text": [
      "100%|█████████████████████████████████████████████████████████████████████████████████████████████████████████████████████████████████████████████████████████████████████| 23/23 [00:00<00:00, 272.05it/s]\n"
     ]
    },
    {
     "name": "stdout",
     "output_type": "stream",
     "text": [
      "Relative training error = 16.4771 %\n",
      "Relative test error = 20.3836 %\n"
     ]
    },
    {
     "name": "stderr",
     "output_type": "stream",
     "text": [
      "  0%|                                                                                                                                                                               | 0/23 [00:00<?, ?it/s]"
     ]
    },
    {
     "name": "stdout",
     "output_type": "stream",
     "text": [
      " loss = 0.4712\n"
     ]
    },
    {
     "name": "stderr",
     "output_type": "stream",
     "text": [
      "100%|█████████████████████████████████████████████████████████████████████████████████████████████████████████████████████████████████████████████████████████████████████| 23/23 [00:00<00:00, 538.42it/s]\n"
     ]
    },
    {
     "name": "stdout",
     "output_type": "stream",
     "text": [
      "Relative training error = 13.1890 %\n",
      "Relative test error = 15.4690 %\n"
     ]
    },
    {
     "name": "stderr",
     "output_type": "stream",
     "text": [
      "100%|█████████████████████████████████████████████████████████████████████████████████████████████████████████████████████████████████████████████████████████████████████| 23/23 [00:00<00:00, 536.35it/s]"
     ]
    },
    {
     "name": "stdout",
     "output_type": "stream",
     "text": [
      " loss = 0.3887\n"
     ]
    },
    {
     "name": "stderr",
     "output_type": "stream",
     "text": [
      "\n"
     ]
    },
    {
     "name": "stdout",
     "output_type": "stream",
     "text": [
      "Relative training error = 11.1452 %\n",
      "Relative test error = 13.8120 %\n"
     ]
    },
    {
     "name": "stderr",
     "output_type": "stream",
     "text": [
      "100%|█████████████████████████████████████████████████████████████████████████████████████████████████████████████████████████████████████████████████████████████████████| 23/23 [00:00<00:00, 547.45it/s]\n"
     ]
    },
    {
     "name": "stdout",
     "output_type": "stream",
     "text": [
      " loss = 0.2331\n",
      "Relative training error = 9.9198 %\n",
      "Relative test error = 12.1384 %\n"
     ]
    },
    {
     "name": "stderr",
     "output_type": "stream",
     "text": [
      "100%|█████████████████████████████████████████████████████████████████████████████████████████████████████████████████████████████████████████████████████████████████████| 23/23 [00:00<00:00, 524.76it/s]"
     ]
    },
    {
     "name": "stdout",
     "output_type": "stream",
     "text": [
      " loss = 0.1184\n",
      "Relative training error = 9.1853 %\n"
     ]
    },
    {
     "name": "stderr",
     "output_type": "stream",
     "text": [
      "\n"
     ]
    },
    {
     "name": "stdout",
     "output_type": "stream",
     "text": [
      "Relative test error = 11.1122 %\n"
     ]
    },
    {
     "name": "stderr",
     "output_type": "stream",
     "text": [
      "100%|█████████████████████████████████████████████████████████████████████████████████████████████████████████████████████████████████████████████████████████████████████| 23/23 [00:00<00:00, 527.95it/s]"
     ]
    },
    {
     "name": "stdout",
     "output_type": "stream",
     "text": [
      " loss = 0.2404\n",
      "Relative training error = 8.7414 %\n"
     ]
    },
    {
     "name": "stderr",
     "output_type": "stream",
     "text": [
      "\n"
     ]
    },
    {
     "name": "stdout",
     "output_type": "stream",
     "text": [
      "Relative test error = 10.4916 %\n"
     ]
    },
    {
     "name": "stderr",
     "output_type": "stream",
     "text": [
      "100%|█████████████████████████████████████████████████████████████████████████████████████████████████████████████████████████████████████████████████████████████████████| 23/23 [00:00<00:00, 550.68it/s]\n"
     ]
    },
    {
     "name": "stdout",
     "output_type": "stream",
     "text": [
      " loss = 0.2120\n",
      "Relative training error = 8.5146 %\n",
      "Relative test error = 9.6472 %\n"
     ]
    },
    {
     "name": "stderr",
     "output_type": "stream",
     "text": [
      "100%|█████████████████████████████████████████████████████████████████████████████████████████████████████████████████████████████████████████████████████████████████████| 23/23 [00:00<00:00, 569.90it/s]\n"
     ]
    },
    {
     "name": "stdout",
     "output_type": "stream",
     "text": [
      " loss = 0.0944\n",
      "Relative training error = 8.3811 %\n",
      "Relative test error = 9.9670 %\n"
     ]
    },
    {
     "name": "stderr",
     "output_type": "stream",
     "text": [
      "100%|█████████████████████████████████████████████████████████████████████████████████████████████████████████████████████████████████████████████████████████████████████| 23/23 [00:00<00:00, 541.17it/s]"
     ]
    },
    {
     "name": "stdout",
     "output_type": "stream",
     "text": [
      " loss = 0.1149\n"
     ]
    },
    {
     "name": "stderr",
     "output_type": "stream",
     "text": [
      "\n"
     ]
    },
    {
     "name": "stdout",
     "output_type": "stream",
     "text": [
      "Relative training error = 8.3673 %\n",
      "Relative test error = 9.8438 %\n"
     ]
    },
    {
     "name": "stderr",
     "output_type": "stream",
     "text": [
      "100%|█████████████████████████████████████████████████████████████████████████████████████████████████████████████████████████████████████████████████████████████████████| 23/23 [00:00<00:00, 539.24it/s]\n"
     ]
    },
    {
     "name": "stdout",
     "output_type": "stream",
     "text": [
      " loss = 0.2141\n",
      "Relative training error = 8.2979 %\n",
      "Relative test error = 9.5282 %\n"
     ]
    },
    {
     "name": "stderr",
     "output_type": "stream",
     "text": [
      "100%|█████████████████████████████████████████████████████████████████████████████████████████████████████████████████████████████████████████████████████████████████████| 23/23 [00:00<00:00, 415.28it/s]"
     ]
    },
    {
     "name": "stdout",
     "output_type": "stream",
     "text": [
      " loss = 0.1284\n"
     ]
    },
    {
     "name": "stderr",
     "output_type": "stream",
     "text": [
      "\n"
     ]
    },
    {
     "name": "stdout",
     "output_type": "stream",
     "text": [
      "Relative training error = 8.2163 %\n",
      "Relative test error = 9.5078 %\n"
     ]
    },
    {
     "name": "stderr",
     "output_type": "stream",
     "text": [
      "  0%|                                                                                                                                                                               | 0/23 [00:00<?, ?it/s]"
     ]
    },
    {
     "name": "stdout",
     "output_type": "stream",
     "text": [
      " loss = 0.1008\n"
     ]
    },
    {
     "name": "stderr",
     "output_type": "stream",
     "text": [
      "100%|█████████████████████████████████████████████████████████████████████████████████████████████████████████████████████████████████████████████████████████████████████| 23/23 [00:00<00:00, 465.25it/s]\n"
     ]
    },
    {
     "name": "stdout",
     "output_type": "stream",
     "text": [
      "Relative training error = 8.1624 %\n",
      "Relative test error = 9.5618 %\n"
     ]
    },
    {
     "name": "stderr",
     "output_type": "stream",
     "text": [
      "100%|█████████████████████████████████████████████████████████████████████████████████████████████████████████████████████████████████████████████████████████████████████| 23/23 [00:00<00:00, 551.08it/s]"
     ]
    },
    {
     "name": "stdout",
     "output_type": "stream",
     "text": [
      " loss = 0.1255\n",
      "Relative training error = 8.2204 %\n",
      "Relative test error = 10.1620 %\n"
     ]
    },
    {
     "name": "stderr",
     "output_type": "stream",
     "text": [
      "\n",
      "100%|█████████████████████████████████████████████████████████████████████████████████████████████████████████████████████████████████████████████████████████████████████| 23/23 [00:00<00:00, 595.68it/s]\n"
     ]
    },
    {
     "name": "stdout",
     "output_type": "stream",
     "text": [
      " loss = 0.0957\n",
      "Relative training error = 8.0909 %\n",
      "Relative test error = 9.9931 %\n",
      "Creating DAS_analysis object\n",
      "[-0.01079496 -0.00636261 -0.00472965  0.00829344 -0.03315033  0.01000517\n",
      " -0.03147244  0.01236407 -0.02684816  0.00736422 -0.01663265 -0.00670413\n",
      "  0.01756466 -0.01872044  0.02313004 -0.03355007  0.0332702  -0.02308934\n",
      " -0.04141354  0.01600002 -0.00833672  0.01130101  0.00841153  0.0035773\n",
      "  0.00450807  0.03616873  0.00554306  0.01251749 -0.00332135  0.01660203\n",
      "  0.00364524 -0.00423356 -0.01502233  0.00553334  0.00909886  0.03581746\n",
      " -0.01612826 -0.01689578 -0.00544872 -0.0257047  -0.0020281  -0.00491286\n",
      " -0.01851041 -0.00295021 -0.01707543  0.01278958 -0.03309115 -0.03378421\n",
      "  0.02105434 -0.024914    0.01355151  0.0347159   0.00949286 -0.01157946\n",
      " -0.02779381  0.01103345  0.05014661 -0.0388591   0.03466138 -0.03282935\n",
      "  0.01334391 -0.02446218  0.00617272  0.02966007 -0.0113076  -0.02121396\n",
      " -0.02654688 -0.02603522  0.00742446  0.0033779  -0.03955923 -0.02515224\n",
      " -0.00983606 -0.03146489 -0.02662707  0.00106644 -0.01827304 -0.01481842\n",
      "  0.00496895 -0.01752653  0.02289294  0.02491585 -0.05154504 -0.0153165\n",
      " -0.02955348 -0.01164796  0.00169125  0.00708391  0.00424188 -0.0170783\n",
      " -0.02926962  0.01683864 -0.03211833  0.04620026  0.02204849  0.03711775\n",
      " -0.02703611 -0.02134703 -0.01017228 -0.02460535 -0.00175839  0.00900341\n",
      "  0.0066653   0.02126546 -0.00704159 -0.02525979  0.04929931  0.03000105\n",
      "  0.00056224  0.02727065  0.00672098 -0.02266489 -0.03778072 -0.0143658\n",
      " -0.06977009 -0.00184082  0.03251847  0.00536228  0.00780703  0.00351171\n",
      " -0.001558    0.00453452  0.01956437  0.00755578 -0.00347596 -0.02544811\n",
      " -0.00691871  0.0184323  -0.00946686  0.01644332 -0.00717298 -0.00091536\n",
      " -0.00513515 -0.00200119 -0.00781267  0.03063803  0.00576488 -0.00229528\n",
      "  0.02318851  0.0245067  -0.02252075 -0.01338904  0.0351502  -0.00802465\n",
      " -0.02688461 -0.01285858 -0.04307223  0.01796226 -0.00352158 -0.02649279\n",
      " -0.02409055  0.01353839 -0.01250318  0.00313297  0.01588277  0.01109347\n",
      " -0.00357092  0.00296899  0.00483943 -0.03099188 -0.01898565  0.02774835\n",
      " -0.03559913 -0.0050307   0.0044001   0.13017571 -0.01762796]\n",
      "Parameters ordered from most to least important:\n",
      "[[141 149 165 150 153 151 142  17 137  15 113 109  73 107 163  95 154  27\n",
      "   10  85 138  57  94  39  41 152  53  75 166  36  21  74  29 146  28  93\n",
      "  155 117 115  40 112   2 108 156 161  79 148  52  82 134 139 110  87  22\n",
      "   47  99  46  55  68  51 101 159 158  18  59  56  63  30 147 106 129 120\n",
      "   31 164  33  19 105 136   6 162 144   7 100  70 131  83  48  49 119   3\n",
      "  116 133  72  42   8 130  13  16  58 127  26  64  43 140 111   4   1  37\n",
      "   69  62  97 135  91 128  89  84  38  86   5  77 143  78 125 145  61  44\n",
      "  118   9  88  20 123  35 121  23  80  98  12 157  76  24  11  25 160  32\n",
      "   66 114 104 126  65 132  67  14 122   0  54  60  50 124  45  81  34  96\n",
      "  103  90  71  92 102]]\n",
      "Creating DAS_Surrogate Object\n",
      "Creating Feature Engineering object\n",
      "Using  662/662 samples to train the ML model\n",
      "===============================\n",
      "Neural net parameters\n",
      "===============================\n",
      "Number of layers = 3\n",
      "Number of features = 167\n",
      "Loss function = squared\n",
      "Number of neurons per hidden layer = 20\n",
      "Number of output neurons = 1\n",
      "Activation = ['linear', 'linear', 'tanh', 'linear']\n",
      "This neural network has 228 weights.\n",
      "===============================\n",
      "===============================\n",
      "Training Deep Active Subspace Neural Network...\n"
     ]
    },
    {
     "name": "stderr",
     "output_type": "stream",
     "text": [
      "100%|█████████████████████████████████████████████████████████████████████████████████████████████████████████████████████████████████████████████████████████████████████| 23/23 [00:00<00:00, 344.80it/s]"
     ]
    },
    {
     "name": "stdout",
     "output_type": "stream",
     "text": [
      " loss = 1.0767\n"
     ]
    },
    {
     "name": "stderr",
     "output_type": "stream",
     "text": [
      "\n"
     ]
    },
    {
     "name": "stdout",
     "output_type": "stream",
     "text": [
      "Relative training error = 23.7071 %\n",
      "Relative test error = 22.7232 %\n"
     ]
    },
    {
     "name": "stderr",
     "output_type": "stream",
     "text": [
      "  0%|                                                                                                                                                                               | 0/23 [00:00<?, ?it/s]"
     ]
    },
    {
     "name": "stdout",
     "output_type": "stream",
     "text": [
      " loss = 1.1725\n"
     ]
    },
    {
     "name": "stderr",
     "output_type": "stream",
     "text": [
      "100%|█████████████████████████████████████████████████████████████████████████████████████████████████████████████████████████████████████████████████████████████████████| 23/23 [00:00<00:00, 362.51it/s]\n"
     ]
    },
    {
     "name": "stdout",
     "output_type": "stream",
     "text": [
      "Relative training error = 21.5367 %\n",
      "Relative test error = 21.2649 %\n"
     ]
    },
    {
     "name": "stderr",
     "output_type": "stream",
     "text": [
      "  0%|                                                                                                                                                                               | 0/23 [00:00<?, ?it/s]"
     ]
    },
    {
     "name": "stdout",
     "output_type": "stream",
     "text": [
      " loss = 1.5610\n"
     ]
    },
    {
     "name": "stderr",
     "output_type": "stream",
     "text": [
      "100%|█████████████████████████████████████████████████████████████████████████████████████████████████████████████████████████████████████████████████████████████████████| 23/23 [00:00<00:00, 452.03it/s]\n"
     ]
    },
    {
     "name": "stdout",
     "output_type": "stream",
     "text": [
      "Relative training error = 17.8120 %\n",
      "Relative test error = 17.9327 %\n"
     ]
    },
    {
     "name": "stderr",
     "output_type": "stream",
     "text": [
      "100%|█████████████████████████████████████████████████████████████████████████████████████████████████████████████████████████████████████████████████████████████████████| 23/23 [00:00<00:00, 478.49it/s]"
     ]
    },
    {
     "name": "stdout",
     "output_type": "stream",
     "text": [
      " loss = 0.7008\n"
     ]
    },
    {
     "name": "stderr",
     "output_type": "stream",
     "text": [
      "\n"
     ]
    },
    {
     "name": "stdout",
     "output_type": "stream",
     "text": [
      "Relative training error = 14.5928 %\n",
      "Relative test error = 14.7295 %\n"
     ]
    },
    {
     "name": "stderr",
     "output_type": "stream",
     "text": [
      "100%|█████████████████████████████████████████████████████████████████████████████████████████████████████████████████████████████████████████████████████████████████████| 23/23 [00:00<00:00, 448.80it/s]"
     ]
    },
    {
     "name": "stdout",
     "output_type": "stream",
     "text": [
      " loss = 0.2769\n"
     ]
    },
    {
     "name": "stderr",
     "output_type": "stream",
     "text": [
      "\n"
     ]
    },
    {
     "name": "stdout",
     "output_type": "stream",
     "text": [
      "Relative training error = 12.3058 %\n",
      "Relative test error = 12.3675 %\n"
     ]
    },
    {
     "name": "stderr",
     "output_type": "stream",
     "text": [
      "100%|█████████████████████████████████████████████████████████████████████████████████████████████████████████████████████████████████████████████████████████████████████| 23/23 [00:00<00:00, 554.41it/s]"
     ]
    },
    {
     "name": "stdout",
     "output_type": "stream",
     "text": [
      " loss = 0.3769\n",
      "Relative training error = 10.8802 %\n",
      "Relative test error = 11.3678 %"
     ]
    },
    {
     "name": "stderr",
     "output_type": "stream",
     "text": [
      "\n"
     ]
    },
    {
     "name": "stdout",
     "output_type": "stream",
     "text": [
      "\n"
     ]
    },
    {
     "name": "stderr",
     "output_type": "stream",
     "text": [
      "100%|█████████████████████████████████████████████████████████████████████████████████████████████████████████████████████████████████████████████████████████████████████| 23/23 [00:00<00:00, 539.96it/s]"
     ]
    },
    {
     "name": "stdout",
     "output_type": "stream",
     "text": [
      " loss = 0.2955\n",
      "Relative training error = 9.9438 %\n"
     ]
    },
    {
     "name": "stderr",
     "output_type": "stream",
     "text": [
      "\n"
     ]
    },
    {
     "name": "stdout",
     "output_type": "stream",
     "text": [
      "Relative test error = 10.4014 %\n"
     ]
    },
    {
     "name": "stderr",
     "output_type": "stream",
     "text": [
      "100%|█████████████████████████████████████████████████████████████████████████████████████████████████████████████████████████████████████████████████████████████████████| 23/23 [00:00<00:00, 522.10it/s]\n"
     ]
    },
    {
     "name": "stdout",
     "output_type": "stream",
     "text": [
      " loss = 0.2675\n",
      "Relative training error = 9.4852 %\n",
      "Relative test error = 9.2369 %\n"
     ]
    },
    {
     "name": "stderr",
     "output_type": "stream",
     "text": [
      "100%|█████████████████████████████████████████████████████████████████████████████████████████████████████████████████████████████████████████████████████████████████████| 23/23 [00:00<00:00, 528.42it/s]"
     ]
    },
    {
     "name": "stdout",
     "output_type": "stream",
     "text": [
      " loss = 0.1856\n",
      "Relative training error = 9.1184 %\n",
      "Relative test error = 9.1135 %\n"
     ]
    },
    {
     "name": "stderr",
     "output_type": "stream",
     "text": [
      "\n",
      "100%|█████████████████████████████████████████████████████████████████████████████████████████████████████████████████████████████████████████████████████████████████████| 23/23 [00:00<00:00, 460.56it/s]\n"
     ]
    },
    {
     "name": "stdout",
     "output_type": "stream",
     "text": [
      " loss = 0.1728\n",
      "Relative training error = 8.8280 %\n",
      "Relative test error = 8.9856 %\n"
     ]
    },
    {
     "name": "stderr",
     "output_type": "stream",
     "text": [
      "100%|█████████████████████████████████████████████████████████████████████████████████████████████████████████████████████████████████████████████████████████████████████| 23/23 [00:00<00:00, 568.96it/s]\n"
     ]
    },
    {
     "name": "stdout",
     "output_type": "stream",
     "text": [
      " loss = 0.1172\n",
      "Relative training error = 8.6519 %\n",
      "Relative test error = 9.2033 %\n"
     ]
    },
    {
     "name": "stderr",
     "output_type": "stream",
     "text": [
      "100%|█████████████████████████████████████████████████████████████████████████████████████████████████████████████████████████████████████████████████████████████████████| 23/23 [00:00<00:00, 456.40it/s]"
     ]
    },
    {
     "name": "stdout",
     "output_type": "stream",
     "text": [
      " loss = 0.1952\n"
     ]
    },
    {
     "name": "stderr",
     "output_type": "stream",
     "text": [
      "\n"
     ]
    },
    {
     "name": "stdout",
     "output_type": "stream",
     "text": [
      "Relative training error = 8.5762 %\n",
      "Relative test error = 9.4847 %\n"
     ]
    },
    {
     "name": "stderr",
     "output_type": "stream",
     "text": [
      "100%|█████████████████████████████████████████████████████████████████████████████████████████████████████████████████████████████████████████████████████████████████████| 23/23 [00:00<00:00, 421.76it/s]\n"
     ]
    },
    {
     "name": "stdout",
     "output_type": "stream",
     "text": [
      " loss = 0.0990\n",
      "Relative training error = 8.4499 %\n",
      "Relative test error = 9.0167 %\n"
     ]
    },
    {
     "name": "stderr",
     "output_type": "stream",
     "text": [
      "100%|█████████████████████████████████████████████████████████████████████████████████████████████████████████████████████████████████████████████████████████████████████| 23/23 [00:00<00:00, 389.00it/s]"
     ]
    },
    {
     "name": "stdout",
     "output_type": "stream",
     "text": [
      " loss = 0.0503\n"
     ]
    },
    {
     "name": "stderr",
     "output_type": "stream",
     "text": [
      "\n"
     ]
    },
    {
     "name": "stdout",
     "output_type": "stream",
     "text": [
      "Relative training error = 8.3242 %\n",
      "Relative test error = 9.5894 %\n"
     ]
    },
    {
     "name": "stderr",
     "output_type": "stream",
     "text": [
      "100%|█████████████████████████████████████████████████████████████████████████████████████████████████████████████████████████████████████████████████████████████████████| 23/23 [00:00<00:00, 452.93it/s]"
     ]
    },
    {
     "name": "stdout",
     "output_type": "stream",
     "text": [
      " loss = 0.0972\n"
     ]
    },
    {
     "name": "stderr",
     "output_type": "stream",
     "text": [
      "\n"
     ]
    },
    {
     "name": "stdout",
     "output_type": "stream",
     "text": [
      "Relative training error = 8.2732 %\n",
      "Relative test error = 9.2693 %\n"
     ]
    },
    {
     "name": "stderr",
     "output_type": "stream",
     "text": [
      "100%|█████████████████████████████████████████████████████████████████████████████████████████████████████████████████████████████████████████████████████████████████████| 23/23 [00:00<00:00, 469.30it/s]"
     ]
    },
    {
     "name": "stdout",
     "output_type": "stream",
     "text": [
      " loss = 0.1057\n"
     ]
    },
    {
     "name": "stderr",
     "output_type": "stream",
     "text": [
      "\n"
     ]
    },
    {
     "name": "stdout",
     "output_type": "stream",
     "text": [
      "Relative training error = 8.2571 %\n",
      "Relative test error = 9.2948 %\n"
     ]
    },
    {
     "name": "stderr",
     "output_type": "stream",
     "text": [
      "100%|█████████████████████████████████████████████████████████████████████████████████████████████████████████████████████████████████████████████████████████████████████| 23/23 [00:00<00:00, 460.26it/s]"
     ]
    },
    {
     "name": "stdout",
     "output_type": "stream",
     "text": [
      " loss = 0.0928\n"
     ]
    },
    {
     "name": "stderr",
     "output_type": "stream",
     "text": [
      "\n"
     ]
    },
    {
     "name": "stdout",
     "output_type": "stream",
     "text": [
      "Relative training error = 8.2077 %\n",
      "Relative test error = 9.8263 %\n"
     ]
    },
    {
     "name": "stderr",
     "output_type": "stream",
     "text": [
      "100%|█████████████████████████████████████████████████████████████████████████████████████████████████████████████████████████████████████████████████████████████████████| 23/23 [00:00<00:00, 467.01it/s]\n"
     ]
    },
    {
     "name": "stdout",
     "output_type": "stream",
     "text": [
      " loss = 0.1213\n",
      "Relative training error = 8.1839 %\n",
      "Relative test error = 9.8822 %\n"
     ]
    },
    {
     "name": "stderr",
     "output_type": "stream",
     "text": [
      "100%|█████████████████████████████████████████████████████████████████████████████████████████████████████████████████████████████████████████████████████████████████████| 23/23 [00:00<00:00, 561.94it/s]"
     ]
    },
    {
     "name": "stdout",
     "output_type": "stream",
     "text": [
      " loss = 0.1016\n"
     ]
    },
    {
     "name": "stderr",
     "output_type": "stream",
     "text": [
      "\n"
     ]
    },
    {
     "name": "stdout",
     "output_type": "stream",
     "text": [
      "Relative training error = 8.1922 %\n",
      "Relative test error = 9.6234 %\n",
      "Creating DAS_analysis object\n",
      "[-0.01079496 -0.00636261 -0.00472965  0.00829344 -0.03315033  0.01000517\n",
      " -0.03147244  0.01236407 -0.02684816  0.00736422 -0.01663265 -0.00670413\n",
      "  0.01756466 -0.01872044  0.02313004 -0.03355007  0.0332702  -0.02308934\n",
      " -0.04141354  0.01600002 -0.00833672  0.01130101  0.00841153  0.0035773\n",
      "  0.00450807  0.03616873  0.00554306  0.01251749 -0.00332135  0.01660203\n",
      "  0.00364524 -0.00423356 -0.01502233  0.00553334  0.00909886  0.03581746\n",
      " -0.01612826 -0.01689578 -0.00544872 -0.0257047  -0.0020281  -0.00491286\n",
      " -0.01851041 -0.00295021 -0.01707543  0.01278958 -0.03309115 -0.03378421\n",
      "  0.02105434 -0.024914    0.01355151  0.0347159   0.00949286 -0.01157946\n",
      " -0.02779381  0.01103345  0.05014661 -0.0388591   0.03466138 -0.03282935\n",
      "  0.01334391 -0.02446218  0.00617272  0.02966007 -0.0113076  -0.02121396\n",
      " -0.02654688 -0.02603522  0.00742446  0.0033779  -0.03955923 -0.02515224\n",
      " -0.00983606 -0.03146489 -0.02662707  0.00106644 -0.01827304 -0.01481842\n",
      "  0.00496895 -0.01752653  0.02289294  0.02491585 -0.05154504 -0.0153165\n",
      " -0.02955348 -0.01164796  0.00169125  0.00708391  0.00424188 -0.0170783\n",
      " -0.02926962  0.01683864 -0.03211833  0.04620026  0.02204849  0.03711775\n",
      " -0.02703611 -0.02134703 -0.01017228 -0.02460535 -0.00175839  0.00900341\n",
      "  0.0066653   0.02126546 -0.00704159 -0.02525979  0.04929931  0.03000105\n",
      "  0.00056224  0.02727065  0.00672098 -0.02266489 -0.03778072 -0.0143658\n",
      " -0.06977009 -0.00184082  0.03251847  0.00536228  0.00780703  0.00351171\n",
      " -0.001558    0.00453452  0.01956437  0.00755578 -0.00347596 -0.02544811\n",
      " -0.00691871  0.0184323  -0.00946686  0.01644332 -0.00717298 -0.00091536\n",
      " -0.00513515 -0.00200119 -0.00781267  0.03063803  0.00576488 -0.00229528\n",
      "  0.02318851  0.0245067  -0.02252075 -0.01338904  0.0351502  -0.00802465\n",
      " -0.02688461 -0.01285858 -0.04307223  0.01796226 -0.00352158 -0.02649279\n",
      " -0.02409055  0.01353839 -0.01250318  0.00313297  0.01588277  0.01109347\n",
      " -0.00357092  0.00296899  0.00483943 -0.03099188 -0.01898565  0.02774835\n",
      " -0.03559913 -0.0050307   0.0044001   0.13017571 -0.01762796]\n",
      "Parameters ordered from most to least important:\n",
      "[[141 149 165 150 153 151 142  17 137  15 113 109  73 154  85  41  95  57\n",
      "   27 163  39 138 107  10  94  28  36  29  53 166 164  75  93  74  99 105\n",
      "   87  79 156  97 155 115 112 159  83 108 162  40 152 146  68  21   6  26\n",
      "   23 110 100  35  84  18 161   1  44 133 129  42 123 139 158  82  78 101\n",
      "  106  37  69  49  30  22  16 120 122  47 148 117  24   9  63  38 116 140\n",
      "   98  52  43 127 147   8 134 111 136 145  33 132 126  54  59 157  11  48\n",
      "   92  77   3 135  86  55 160  64  62  76  96 143  81   7  51  67 121  32\n",
      "   45  88  66  25  31 130  71  60  70  89  50  72  19 104   0  65  56 124\n",
      "  114 131  12   5  80 128   4  58 118 102  46  90  91   2  13 125  34  20\n",
      "  119  61  14 103 144]]\n"
     ]
    }
   ],
   "source": [
    "train_das(failure_criterion=0.5)"
   ]
  },
  {
   "cell_type": "code",
   "execution_count": 71,
   "id": "5b09156c",
   "metadata": {},
   "outputs": [
    {
     "data": {
      "image/png": "[encoded data removed]",
      "text/plain": [
       "<Figure size 640x480 with 1 Axes>"
      ]
     },
     "metadata": {},
     "output_type": "display_data"
    }
   ],
   "source": [
    "# plot the relative DAS training and test error for the last replica network\n",
    "plot_errors(results_das)"
   ]
  },
  {
   "cell_type": "markdown",
   "id": "2871d096",
   "metadata": {},
   "source": [
    "### Get training results"
   ]
  },
  {
   "cell_type": "code",
   "execution_count": 72,
   "id": "e4d134b2",
   "metadata": {},
   "outputs": [],
   "source": [
    "# select the surrogate with the lowest test error\n",
    "epoch_stop = results_das['epoch_stop']\n",
    "test_errors = np.array(results_das['errors'])[:, :, 1]\n",
    "test_errors = [error[epoch_stop[idx]] for idx, error in enumerate(test_errors)]\n",
    "best_idx = np.argmin(test_errors)\n",
    "das_surrogate = results_das['surrogate'][best_idx]\n",
    "\n",
    "# compute the active subspace on the training and test data\n",
    "W_1 = results_das['projection_matrix'][best_idx]\n",
    "y_das_train = np.dot(W_1.T, params_train.T).T\n",
    "y_das_test = np.dot(W_1.T, params_test.T).T"
   ]
  },
  {
   "cell_type": "markdown",
   "id": "ccd2d2b0",
   "metadata": {},
   "source": [
    "### Recreate the eigenvalue plots\n",
    "\n",
    "Plot the eigenvalues with confidence intervals. "
   ]
  },
  {
   "cell_type": "code",
   "execution_count": 73,
   "id": "e1a94d13",
   "metadata": {
    "scrolled": true
   },
   "outputs": [
    {
     "data": {
      "image/png": "[encoded data removed]",
      "text/plain": [
       "<Figure size 400x400 with 1 Axes>"
      ]
     },
     "metadata": {},
     "output_type": "display_data"
    }
   ],
   "source": [
    "# number of eigenvalues to plot\n",
    "n_vals = d\n",
    "\n",
    "# basic analysisclass to compute the confidence intervals\n",
    "analysis = es.analysis.BaseAnalysis()\n",
    "\n",
    "# DAS eigenvalues\n",
    "eigvals_C_das = results_das['eigvals'] \n",
    "eigvals_C_das = eigvals_C_das / np.mean(eigvals_C_das, axis=0)[0]\n",
    "# eigenvalues averaged over the n_rep replica networks\n",
    "mean_eigval_das = np.mean(eigvals_C_das[:, 0:n_vals], axis=0)\n",
    "# compute confidence intervals\n",
    "lower, upper = analysis.get_confidence_intervals(eigvals_C_das[:, 0:n_vals])\n",
    "y_err_das = np.array([mean_eigval_das - lower, upper - mean_eigval_das])\n",
    "\n",
    "# Load GP results from file\n",
    "GP_eigvals = pd.read_csv('./GP_eigvals/scaled_eigen_results_esmacs.csv')\n",
    "GP_mean = GP_eigvals['Eigenval_mean'].values\n",
    "GP_std = GP_eigvals['Eigenval_std'].values\n",
    "\n",
    "# plot results.\n",
    "fig = plt.figure(figsize=[4, 4])\n",
    "ax1 = fig.add_subplot(111, yscale='log', ylim=[1e-4, 2])\n",
    "ax1.set_ylabel(r'$\\lambda_i\\;/\\;\\lambda_1$', fontsize=12)\n",
    "ax1.set_xlabel(r'$i$', fontsize=12)\n",
    "offset = 0.1\n",
    "ax1.errorbar(np.arange(1, n_vals + 1)-offset, mean_eigval_das, \n",
    "             yerr = y_err_das, fmt='s', color='dodgerblue', label='DAS')\n",
    "ax1.errorbar(np.arange(1, n_vals + 1)+offset, GP_mean[0:n_vals], \n",
    "             fmt='^', color='salmon', label='KAS-GP')#, yerr = GP_std[0:n_vals])\n",
    "plt.legend(loc=0)\n",
    "ax1.set_xticks(np.arange(1, n_vals + 1, 1))\n",
    "sns.despine(top=True)\n",
    "plt.tight_layout()\n",
    "\n",
    "fig.savefig('./images/esmacs_eigvals_d%d.png' % (d,))"
   ]
  },
  {
   "cell_type": "code",
   "execution_count": null,
   "id": "0dcc927f",
   "metadata": {},
   "outputs": [],
   "source": []
  },
  {
   "cell_type": "markdown",
   "id": "b582eaaa",
   "metadata": {},
   "source": [
    "### Recreate the active subspace plot\n",
    "\n",
    "Plot the predictions in a 1D active subspace."
   ]
  },
  {
   "cell_type": "code",
   "execution_count": 74,
   "id": "6db2dc2d",
   "metadata": {},
   "outputs": [],
   "source": [
    "# run the surrogate at a number of random inputs locations drawn from U[-1, 1]\n",
    "n_mc = 1000\n",
    "pred_inputs = np.random.rand(n_mc, D) * 2 - 1\n",
    "das_samples_pred = np.zeros(n_mc)\n",
    "for i in range(n_mc):\n",
    "    das_samples_pred[i] = das_surrogate.predict(pred_inputs[i])"
   ]
  },
  {
   "cell_type": "code",
   "execution_count": 75,
   "id": "96cf8b5a",
   "metadata": {},
   "outputs": [],
   "source": [
    "# active subspace at prediction inputs x\n",
    "y_val_das = np.dot(W_1.T, pred_inputs.T).T\n",
    "idx = np.argsort(y_val_das.flatten())"
   ]
  },
  {
   "cell_type": "code",
   "execution_count": null,
   "id": "f424d2d6",
   "metadata": {},
   "outputs": [],
   "source": []
  },
  {
   "cell_type": "code",
   "execution_count": 76,
   "id": "fa9440bc",
   "metadata": {},
   "outputs": [
    {
     "data": {
      "image/png": "[encoded data removed]",
      "text/plain": [
       "<Figure size 800x400 with 2 Axes>"
      ]
     },
     "metadata": {},
     "output_type": "display_data"
    }
   ],
   "source": [
    "# QoI labels\n",
    "lbl = {QoI: r'binding free energy'}\n",
    "\n",
    "# plot DAS surrogate\n",
    "fig = plt.figure(figsize=(8,4))\n",
    "spec = gridspec.GridSpec(ncols=2, nrows=1, width_ratios=[1, 1])\n",
    "\n",
    "ax = fig.add_subplot(spec[0],  xlim=[-2,2], title='DAS')\n",
    "ax.set_xlabel(r'$y_1$', fontsize=12)\n",
    "ax.set_xticks([-2, -1, 0, 1, 2])\n",
    "ax.set_ylabel(lbl[QoI], fontsize=12)\n",
    "ax.plot(y_das_train[:,0], samples_train, '.', color='dodgerblue', label='training data') \n",
    "ax.plot(y_das_test[:,0], samples_test, '^', markerfacecolor='lime', label='test data') \n",
    "ax.plot(y_val_das[idx,0], das_samples_pred[idx], color='salmon', label='DAS', linewidth=3)\n",
    "leg = ax.legend(loc=0, frameon=False)\n",
    "\n",
    "ax2 = fig.add_subplot(spec[1], sharex = ax, ylim = ax.get_ylim(), title='KAS-GP') \n",
    "ax2.set_xlabel(r'$y_1$', fontsize=12)\n",
    "\n",
    "# also plot GP surrogate from file\n",
    "y_mean = das_surrogate.neural_net.y_mean\n",
    "y_std = das_surrogate.neural_net.y_std\n",
    "GP_surrogate = np.load('./GP_surrogate/esmacs_result.npy', allow_pickle=True).item()\n",
    "ax2.plot(GP_surrogate['reduced_train_params'], samples_train, '.', color='dodgerblue', label='training data')\n",
    "ax2.plot(GP_surrogate['reduced_test_params'], samples_test, '^', markerfacecolor='lime', label='test data')\n",
    "ax2.plot(GP_surrogate['active_subspace'], GP_surrogate['prediction_mean'] * y_std + y_mean, color='salmon',\n",
    "        label='KAS-GP + 95% CI', linewidth=3)\n",
    "skip=10\n",
    "ax2.errorbar(GP_surrogate['active_subspace'][0:-1:skip].flatten(), \n",
    "             GP_surrogate['prediction_mean'][0:-1:skip].flatten() * y_std + y_mean,\n",
    "             yerr = GP_surrogate['prediction_CI'][0:-1:skip].flatten() * y_std, color='salmon',\n",
    "             linewidth=0, elinewidth=3)\n",
    "leg = ax2.legend(loc=0, frameon=False)\n",
    "\n",
    "sns.despine(top=True, ax=ax)\n",
    "sns.despine(top=True, ax=ax2)\n",
    "sns.despine(left=True, ax=ax2)\n",
    "ax2.set_yticks([])\n",
    "\n",
    "plt.tight_layout()\n",
    "plt.savefig('./images/esmacs_surrogate_d%d.png' % (d, ))"
   ]
  },
  {
   "cell_type": "markdown",
   "id": "e5880548",
   "metadata": {},
   "source": [
    "### Recreate the global-derivative based sensitivity plots"
   ]
  },
  {
   "cell_type": "code",
   "execution_count": 77,
   "id": "6aa9719f",
   "metadata": {},
   "outputs": [],
   "source": [
    "GP_results = pd.read_csv('./GP_SA/sensitivity_indices_esmacs.csv')"
   ]
  },
  {
   "cell_type": "code",
   "execution_count": 78,
   "id": "60bff6d5",
   "metadata": {
    "scrolled": false
   },
   "outputs": [
    {
     "data": {
      "image/png": "[encoded data removed]",
      "text/plain": [
       "<Figure size 500x1000 with 1 Axes>"
      ]
     },
     "metadata": {},
     "output_type": "display_data"
    }
   ],
   "source": [
    "# plot sensitivity indices with CIs\n",
    "plot_sensitivity(results_das, param_names, bar2 = GP_results)"
   ]
  },
  {
   "cell_type": "markdown",
   "id": "584eda20",
   "metadata": {},
   "source": [
    "### Compare epistemic with aleatoric uncertainty"
   ]
  },
  {
   "cell_type": "code",
   "execution_count": 79,
   "id": "ba8c1ac0",
   "metadata": {},
   "outputs": [
    {
     "name": "stdout",
     "output_type": "stream",
     "text": [
      "Computing kernel-density estimate\n",
      "done\n",
      "Computing kernel-density estimate\n",
      "done\n",
      "Computing kernel-density estimate\n",
      "done\n"
     ]
    },
    {
     "data": {
      "image/png": "[encoded data removed]",
      "text/plain": [
       "<Figure size 1000x450 with 3 Axes>"
      ]
     },
     "metadata": {},
     "output_type": "display_data"
    }
   ],
   "source": [
    "plot_dist(output, 'binding free energy')"
   ]
  },
  {
   "cell_type": "markdown",
   "id": "3e55fedf",
   "metadata": {},
   "source": [
    "### (Non-Gaussian) stats with bootstrapping"
   ]
  },
  {
   "cell_type": "code",
   "execution_count": 80,
   "id": "6b6fda21",
   "metadata": {},
   "outputs": [
    {
     "name": "stderr",
     "output_type": "stream",
     "text": [
      "100%|█████████████████████████████████████████████████████████████████████████████████████████████████████████████████████████████████████████████████████████████| 100000/100000 [03:51<00:00, 431.50it/s]\n"
     ]
    }
   ],
   "source": [
    "n_bootstap = 10 ** 5\n",
    "n_samples = output.size\n",
    "\n",
    "mean = np.zeros(n_bootstap)\n",
    "std = np.zeros(n_bootstap)\n",
    "skew = np.zeros(n_bootstap)\n",
    "kurt = np.zeros(n_bootstap)\n",
    "\n",
    "output = output.flatten() \n",
    "\n",
    "for i in tqdm(range(n_bootstap)):\n",
    "    # resample with replacement\n",
    "    idx = np.random.randint(0, n_samples, n_samples)\n",
    "    # recompute moments\n",
    "    mean[i] = np.mean(output[idx])\n",
    "    std[i] = np.std(output[idx])\n",
    "    skew[i] = stats.skew(output[idx])\n",
    "    kurt[i] = stats.kurtosis(output[idx])"
   ]
  },
  {
   "cell_type": "code",
   "execution_count": 81,
   "id": "d92ee69f",
   "metadata": {},
   "outputs": [],
   "source": [
    "lower_mean, upper_mean = analysis.get_confidence_intervals(mean.reshape([-1,1]))\n",
    "lower_std, upper_std = analysis.get_confidence_intervals(std.reshape([-1,1]))\n",
    "lower_skew, upper_skew = analysis.get_confidence_intervals(skew.reshape([-1,1]))\n",
    "lower_kurt, upper_kurt = analysis.get_confidence_intervals(kurt.reshape([-1,1]))"
   ]
  },
  {
   "cell_type": "code",
   "execution_count": 82,
   "id": "7d80dbba",
   "metadata": {},
   "outputs": [
    {
     "name": "stdout",
     "output_type": "stream",
     "text": [
      "Mean: -2.99e+01 (-2.99e+01/-2.98e+01)\n",
      "Std dev: 7.68e+00 (7.61e+00/7.74e+00)\n",
      "Skew: -0.08 (-0.117/-0.050)\n",
      "Kurt: 0.07 (0.00/0.14)\n",
      "N_samples = 18400\n"
     ]
    }
   ],
   "source": [
    "print(\"Mean: %.2e (%.2e/%.2e)\" % (np.mean(output), lower_mean, upper_mean))\n",
    "print(\"Std dev: %.2e (%.2e/%.2e)\" % (np.std(output), lower_std, upper_std))\n",
    "print(\"Skew: %.2f (%.3f/%.3f)\" % (stats.skew(output), lower_skew, upper_skew))\n",
    "print(\"Kurt: %.2f (%.2f/%.2f)\" % (stats.kurtosis(output), lower_kurt, upper_kurt))\n",
    "print(\"N_samples = %d\" % n_samples)"
   ]
  },
  {
   "cell_type": "code",
   "execution_count": null,
   "id": "4ba582fd",
   "metadata": {},
   "outputs": [],
   "source": []
  }
 ],
 "metadata": {
  "kernelspec": {
   "display_name": "Python 3 (ipykernel)",
   "language": "python",
   "name": "python3"
  },
  "language_info": {
   "codemirror_mode": {
    "name": "ipython",
    "version": 3
   },
   "file_extension": ".py",
   "mimetype": "text/x-python",
   "name": "python",
   "nbconvert_exporter": "python",
   "pygments_lexer": "ipython3",
   "version": "3.9.16"
  }
 },
 "nbformat": 4,
 "nbformat_minor": 5
}
